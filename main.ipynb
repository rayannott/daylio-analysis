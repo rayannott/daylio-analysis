{
 "cells": [
  {
   "cell_type": "code",
   "execution_count": null,
   "metadata": {
    "metadata": {}
   },
   "outputs": [],
   "source": [
    "import pathlib\n",
    "\n",
    "from src.dataset import Dataset, Entry\n",
    "from src.entry_condition import (\n",
    "    A,\n",
    "    DateIn,\n",
    "    MoodIn,\n",
    "    NoteHas,\n",
    "    Predicate,\n",
    "    register,\n",
    ")\n",
    "\n",
    "# TODO: add dummy data if the real file is missing\n",
    "path = next(pathlib.Path(\"data\").glob(\"*.csv\"))\n",
    "print(f\"using file: {path.name} ({path.stat().st_size * 2**-20:.3f} Mb)\\n\")\n",
    "\n",
    "df = Dataset(path)\n",
    "print(df.stats())\n",
    "\n",
    "register(set(df.activities()))"
   ]
  },
  {
   "cell_type": "markdown",
   "metadata": {},
   "source": [
    "# API"
   ]
  },
  {
   "cell_type": "markdown",
   "metadata": {},
   "source": [
    "### `.head`"
   ]
  },
  {
   "cell_type": "markdown",
   "metadata": {},
   "source": [
    "Use the `.head` method to look at the latest entries of the dataset"
   ]
  },
  {
   "cell_type": "code",
   "execution_count": null,
   "metadata": {
    "metadata": {}
   },
   "outputs": [],
   "source": [
    "df.head()"
   ]
  },
  {
   "cell_type": "code",
   "execution_count": null,
   "metadata": {
    "metadata": {}
   },
   "outputs": [],
   "source": [
    "df.head(2)"
   ]
  },
  {
   "cell_type": "code",
   "execution_count": null,
   "metadata": {
    "metadata": {}
   },
   "outputs": [],
   "source": [
    "# prints all entries\n",
    "df.head(-1)"
   ]
  },
  {
   "cell_type": "markdown",
   "metadata": {},
   "source": [
    "### `.sub`"
   ]
  },
  {
   "cell_type": "markdown",
   "metadata": {},
   "source": [
    "Use the `.sub` method to filter entries and get a subset of the original dataset"
   ]
  },
  {
   "cell_type": "markdown",
   "metadata": {},
   "source": [
    "- by included activities ('or' operator: all the entries which have at least one of the listed activities)"
   ]
  },
  {
   "cell_type": "code",
   "execution_count": null,
   "metadata": {
    "metadata": {}
   },
   "outputs": [],
   "source": [
    "cycling_or_city_df = df.sub(include={\"cycling\", \"city\"})\n",
    "cycling_or_city_df.head()"
   ]
  },
  {
   "cell_type": "markdown",
   "metadata": {},
   "source": [
    "- by excluded activities (entries which don't have any of the listed activities)\n",
    "\n",
    "_for both `include` and `exclude` the argument can be either `str` or `set[str]`_"
   ]
  },
  {
   "cell_type": "code",
   "execution_count": null,
   "metadata": {
    "metadata": {}
   },
   "outputs": [],
   "source": [
    "without_friends_df = df.sub(exclude=\"friends\")\n",
    "without_friends_df.head()"
   ]
  },
  {
   "cell_type": "markdown",
   "metadata": {},
   "source": [
    "- by included activities ('and' operator: all entries which have all the listed activities)\n",
    "\n",
    "_Note: this is achieved by subscribing the dataset twice; since .sub method returns a new dataset, it can be done in one line._"
   ]
  },
  {
   "cell_type": "code",
   "execution_count": null,
   "metadata": {
    "metadata": {}
   },
   "outputs": [],
   "source": [
    "cycling_and_swimming_df = df.sub(include=\"cycling\").sub(include=\"swimming\")\n",
    "cycling_and_swimming_df.head()\n",
    "print(cycling_and_swimming_df.activities().most_common(7))"
   ]
  },
  {
   "cell_type": "markdown",
   "metadata": {},
   "source": [
    "This means \"cycling and not swimming\" since all the separately passed conditions must be true."
   ]
  },
  {
   "cell_type": "code",
   "execution_count": null,
   "metadata": {
    "metadata": {}
   },
   "outputs": [],
   "source": [
    "cycling_and_not_swimming_df = df.sub(include=\"cycling\", exclude=\"swimming\")\n",
    "cycling_and_not_swimming_df.head()"
   ]
  },
  {
   "cell_type": "markdown",
   "metadata": {},
   "source": [
    "> Note that all the conditions can be efficiently replaced by one `EntryCondition` object.\n",
    "This is a more intuitive way to subscribe a dataset interactively and **is the recommended way to do it**.\n",
    "\n",
    "Use the `A` object to create the base activity-filters (e.g. `A(\"home\")`) and binary bitwise operators (`&`, `|` and `~`) to construct a condition.\n",
    "\n",
    "Here is an alternative dataset creation for all the examples from above:"
   ]
  },
  {
   "cell_type": "code",
   "execution_count": null,
   "metadata": {},
   "outputs": [],
   "source": [
    "df.sub(A(\"cycling\") | A(\"city\"))"
   ]
  },
  {
   "cell_type": "code",
   "execution_count": null,
   "metadata": {},
   "outputs": [],
   "source": [
    "df.sub(A(\"study\") & ~A(\"home\"))"
   ]
  },
  {
   "cell_type": "code",
   "execution_count": null,
   "metadata": {},
   "outputs": [],
   "source": [
    "df.sub(A(\"friends\"))"
   ]
  },
  {
   "cell_type": "code",
   "execution_count": null,
   "metadata": {},
   "outputs": [],
   "source": [
    "df.sub(A(\"cycling\") & ~A(\"swimming\"))"
   ]
  },
  {
   "cell_type": "code",
   "execution_count": null,
   "metadata": {},
   "outputs": [],
   "source": [
    "df.sub(~A(\"cycling\") & A(\"swimming\"))"
   ]
  },
  {
   "cell_type": "markdown",
   "metadata": {},
   "source": [
    "Initializing `A` with an unknown activity will result in an error:"
   ]
  },
  {
   "cell_type": "code",
   "execution_count": null,
   "metadata": {},
   "outputs": [],
   "source": [
    "A(\"stydy\")"
   ]
  },
  {
   "cell_type": "markdown",
   "metadata": {},
   "source": [
    "Here is a more detailed condition creation and comparison"
   ]
  },
  {
   "cell_type": "code",
   "execution_count": null,
   "metadata": {},
   "outputs": [],
   "source": [
    "cycling_and_swimming = A(\"cycling\") & A(\"swimming\")\n",
    "print(f\"Condition: {cycling_and_swimming}\")\n",
    "\n",
    "cycling_and_swimming_df_alt = df.sub(cycling_and_swimming)\n",
    "assert cycling_and_swimming_df_alt == cycling_and_swimming_df"
   ]
  },
  {
   "cell_type": "markdown",
   "metadata": {},
   "source": [
    "For this slightly exaggerated example, consider the old and the new ways to construct a dataset (as well as the predicate-based example).\n",
    "\n",
    "Say, we would like to filter all the entries such that there is \n",
    "\n",
    "(`gaming` with `Leha` and without `Azat`) or (`factorio` with `Azat` and without `Leha`)"
   ]
  },
  {
   "cell_type": "code",
   "execution_count": null,
   "metadata": {},
   "outputs": [],
   "source": [
    "# this_condition = A(\"gaming\") & A(\"Leha\") & ~A(\"Azat\") | A(\"factorio\") & A(\"Azat\") & ~A(\"Leha\")\n",
    "this_condition = A(\"gaming & Leha & !Azat | factorio & Azat & !Leha\")  #* new feature!\n",
    "print(this_condition)\n",
    "\n",
    "this_df = df.sub(this_condition)\n",
    "this_df"
   ]
  },
  {
   "cell_type": "markdown",
   "metadata": {},
   "source": [
    "When did I watch something with someone, but not at home?"
   ]
  },
  {
   "cell_type": "code",
   "execution_count": null,
   "metadata": {},
   "outputs": [],
   "source": [
    "# the old way\n",
    "movies_not_at_home_with_someone_old_df = (\n",
    "    df\n",
    "    .sub(include=set(df.people().keys()))\n",
    "    .sub(include=\"movies and series\", exclude=\"home\")\n",
    ")\n",
    "movies_not_at_home_with_someone_old_df"
   ]
  },
  {
   "cell_type": "code",
   "execution_count": null,
   "metadata": {},
   "outputs": [],
   "source": [
    "# the new way\n",
    "movies_not_at_home_with_someone_df = df.sub(\n",
    "    # A(\"movies and series\") & ~A(\"home\") & A.people()\n",
    "    A(\"movies and series & !home & people\")  # the newest way\n",
    ")\n",
    "print(movies_not_at_home_with_someone_df)\n",
    "\n",
    "assert movies_not_at_home_with_someone_df == movies_not_at_home_with_someone_old_df"
   ]
  },
  {
   "cell_type": "code",
   "execution_count": null,
   "metadata": {},
   "outputs": [],
   "source": [
    "df.sub(A(\"movies and series\") & A(\"home\") & A.people())"
   ]
  },
  {
   "cell_type": "markdown",
   "metadata": {},
   "source": [
    "- by a subtring (or substrings) in the `note`"
   ]
  },
  {
   "cell_type": "code",
   "execution_count": null,
   "metadata": {
    "metadata": {}
   },
   "outputs": [],
   "source": [
    "df_ktane = df.sub(note_contains=\"ktane\")\n",
    "df_ktane.head(-1, verbose=True)"
   ]
  },
  {
   "cell_type": "markdown",
   "metadata": {},
   "source": [
    "> This is also possible using `NoteHas`"
   ]
  },
  {
   "cell_type": "code",
   "execution_count": null,
   "metadata": {},
   "outputs": [],
   "source": [
    "assert df.sub(NoteHas(\"ktane\")) == df_ktane"
   ]
  },
  {
   "cell_type": "markdown",
   "metadata": {},
   "source": [
    "Or with at least one of many substrings:"
   ]
  },
  {
   "cell_type": "code",
   "execution_count": null,
   "metadata": {},
   "outputs": [],
   "source": [
    "df.sub(NoteHas(\"кот\", \"соба\", \"животн\"))"
   ]
  },
  {
   "cell_type": "markdown",
   "metadata": {},
   "source": [
    "- by a predicate function (which takes an entry as an argument and returns a boolean)"
   ]
  },
  {
   "cell_type": "code",
   "execution_count": null,
   "metadata": {
    "metadata": {}
   },
   "outputs": [],
   "source": [
    "def pred(entry: Entry) -> bool:\n",
    "    \"\"\"It is sunday, the mood > 4, the note is not empty\"\"\"\n",
    "    return entry.full_date.weekday() == 6 and entry.mood > 4 and entry.note != \"\"\n",
    "\n",
    "\n",
    "df_sunday_good_mood_has_note = df.sub(Predicate(pred))\n",
    "df_sunday_good_mood_has_note"
   ]
  },
  {
   "cell_type": "code",
   "execution_count": null,
   "metadata": {},
   "outputs": [],
   "source": [
    "# or by wrapping the predicate in a Predicate object to combine with other conditions\n",
    "\n",
    "df_sunday_good_mood_has_note_new = df.sub(Predicate(pred))\n",
    "print(df_sunday_good_mood_has_note_new)\n",
    "\n",
    "assert df_sunday_good_mood_has_note == df_sunday_good_mood_has_note_new"
   ]
  },
  {
   "cell_type": "markdown",
   "metadata": {},
   "source": [
    "### `.mood` and `.std`"
   ]
  },
  {
   "cell_type": "markdown",
   "metadata": {},
   "source": [
    "Use the `.mood` method to get the average mood of all the entries in the dataset and the `.std` method to get the standard deviation of the mood values.\n",
    "\n",
    "These values are also shown when calling `.head()`."
   ]
  },
  {
   "cell_type": "code",
   "execution_count": null,
   "metadata": {
    "metadata": {}
   },
   "outputs": [],
   "source": [
    "print(f\"{cycling_or_city_df.mood():.3f} \\u00b1 {cycling_or_city_df.std():.3f}\")"
   ]
  },
  {
   "cell_type": "markdown",
   "metadata": {},
   "source": [
    "or just use `.mood_std`:"
   ]
  },
  {
   "cell_type": "code",
   "execution_count": null,
   "metadata": {
    "metadata": {}
   },
   "outputs": [],
   "source": [
    "cycling_or_city_df.mood_std()"
   ]
  },
  {
   "cell_type": "markdown",
   "metadata": {},
   "source": [
    "### `.activities`"
   ]
  },
  {
   "cell_type": "markdown",
   "metadata": {},
   "source": [
    "Use the `.activities` method to get a Counter object of all activities in the dataset"
   ]
  },
  {
   "cell_type": "code",
   "execution_count": null,
   "metadata": {
    "metadata": {}
   },
   "outputs": [],
   "source": [
    "cnt = df.activities()\n",
    "print(f\"most common: {cnt.most_common(3)}\")\n",
    "print(f\"least common: {cnt.most_common()[-1:-6:-1]}\")"
   ]
  },
  {
   "cell_type": "markdown",
   "metadata": {},
   "source": [
    "### `.people`\n",
    "\n",
    "Use the `.people` method to get a Counter object of all people in the dataset"
   ]
  },
  {
   "cell_type": "code",
   "execution_count": null,
   "metadata": {
    "metadata": {}
   },
   "outputs": [],
   "source": [
    "df.people()"
   ]
  },
  {
   "cell_type": "markdown",
   "metadata": {},
   "source": [
    "### `.get_datetimes`"
   ]
  },
  {
   "cell_type": "markdown",
   "metadata": {},
   "source": [
    "Use the `.get_datetimes` method to get the list of all points in time when an entry was created. The values are sorted in descending order by the date of creation."
   ]
  },
  {
   "cell_type": "code",
   "execution_count": null,
   "metadata": {
    "metadata": {}
   },
   "outputs": [],
   "source": [
    "df.get_datetimes()[:5]"
   ]
  },
  {
   "cell_type": "markdown",
   "metadata": {},
   "source": [
    "### `.group_by`\n",
    "Use the `.group_by` method to get a dictionary mapping groups to the list of entries in that group.\n",
    "\n",
    "The groups are one of `['day', 'month']` and the entries are sorted in ascending order.\n",
    "\n",
    "Note: this method (like many others) uses lru_cache and since the Dataset is weakly-immutable, it is safe to use it."
   ]
  },
  {
   "cell_type": "code",
   "execution_count": null,
   "metadata": {
    "metadata": {}
   },
   "outputs": [],
   "source": [
    "groups = df.group_by(\"day\")\n",
    "for day, entries in groups.items():\n",
    "    print(f\"{day}: {len(entries)}\")\n",
    "    break"
   ]
  },
  {
   "cell_type": "code",
   "execution_count": null,
   "metadata": {
    "metadata": {}
   },
   "outputs": [],
   "source": [
    "groups = df.group_by(\"month\")\n",
    "for day, entries in groups.items():\n",
    "    print(f\"{day}: {len(entries)}\")\n",
    "    break"
   ]
  },
  {
   "cell_type": "markdown",
   "metadata": {},
   "source": [
    "### `.stats`\n",
    "\n",
    "Use the `.stats` method to get a custom StatsResult object which contains the following information:"
   ]
  },
  {
   "cell_type": "code",
   "execution_count": null,
   "metadata": {
    "metadata": {}
   },
   "outputs": [],
   "source": [
    "df.sub(A(\"home\")).stats()"
   ]
  },
  {
   "cell_type": "markdown",
   "metadata": {},
   "source": [
    "### `for _ in df` (`.__iter__`)\n",
    "`Dataset` defines `__iter__` method, so it can be used in `for` loops. The entries are sorted in descending order by the date of creation."
   ]
  },
  {
   "cell_type": "code",
   "execution_count": null,
   "metadata": {
    "metadata": {}
   },
   "outputs": [],
   "source": [
    "for entry in df:\n",
    "    print(entry)\n",
    "    break\n",
    "# or\n",
    "df_iter = iter(df)\n",
    "print(next(df_iter), next(df_iter), sep=\"; \")"
   ]
  },
  {
   "cell_type": "markdown",
   "metadata": {},
   "source": [
    "### `df[...]` (`.__getitem__`)\n",
    "`Dataset` defines `__getitem__` method where the argument is \n",
    "- a date in a string format (e.g. `'01.01.2024'`), returns a new Dataset with all entries on that date;\n",
    "- a slice object (e.g. `slice('01.01.2024', '01.01.2025')`), returns a new Dataset with all entries which were created between the two dates (the \"stop\" date is not included);"
   ]
  },
  {
   "cell_type": "code",
   "execution_count": null,
   "metadata": {
    "metadata": {}
   },
   "outputs": [],
   "source": [
    "july22 = df[\"22.07.2023\"]\n",
    "july22"
   ]
  },
  {
   "cell_type": "markdown",
   "metadata": {},
   "source": [
    "- by a particular date period (by using slices)"
   ]
  },
  {
   "cell_type": "code",
   "execution_count": null,
   "metadata": {
    "metadata": {}
   },
   "outputs": [],
   "source": [
    "ny_eve = df[\"29.12.2023\":\"03.01.2024\"]\n",
    "ny_eve"
   ]
  },
  {
   "cell_type": "code",
   "execution_count": null,
   "metadata": {
    "metadata": {}
   },
   "outputs": [],
   "source": [
    "end_of_november_2023 = df[\"29.11.2023\":\"01.12.2023\"]\n",
    "end_of_november_2023.head()"
   ]
  },
  {
   "cell_type": "code",
   "execution_count": null,
   "metadata": {
    "metadata": {}
   },
   "outputs": [],
   "source": [
    "before_aug_2023 = df[:\"01.08.2023\"]\n",
    "before_aug_2023.head()"
   ]
  },
  {
   "cell_type": "markdown",
   "metadata": {},
   "source": [
    "> Note: it is now also possible to specify the date interval using an `EntryCondition`-like object:\n",
    "\n",
    "The arguments are either date `%d.%m.%Y` (e.g. \"29.08.2000\"), date `%d %b %Y` (e.g. 03 Jan 2024) or an empty string (unbounded)."
   ]
  },
  {
   "cell_type": "code",
   "execution_count": null,
   "metadata": {},
   "outputs": [],
   "source": [
    "df.sub(DateIn(\"29 Dec 2023\", \"03 Jan 2024\")) == ny_eve"
   ]
  },
  {
   "cell_type": "code",
   "execution_count": null,
   "metadata": {},
   "outputs": [],
   "source": [
    "df.sub(DateIn(\"29 Nov 2023\", \"01 Dec 2023\")) == end_of_november_2023"
   ]
  },
  {
   "cell_type": "code",
   "execution_count": null,
   "metadata": {},
   "outputs": [],
   "source": [
    "df.sub(DateIn(\"\", \"01 Aug 2023\")) == before_aug_2023"
   ]
  },
  {
   "cell_type": "markdown",
   "metadata": {},
   "source": [
    "### `df @ datetime-like` (or `.at`)\n",
    "Returns a single entry created at a particular datetime or `None` if there is no entry at that datetime.\n",
    "\n",
    "Input: a datetime in a string format (e.g. `'01.01.2024 12:00'`) or a `datetime.datetime` object."
   ]
  },
  {
   "cell_type": "code",
   "execution_count": null,
   "metadata": {
    "metadata": {}
   },
   "outputs": [],
   "source": [
    "import datetime\n",
    "\n",
    "entry1 = df @ \"22.07.2023 17:09\"\n",
    "entry2 = df.at(\"22.07.2023 17:09\")\n",
    "entry3 = df @ datetime.datetime(2023, 7, 22, 17, 9)\n",
    "entry4 = df.at(datetime.datetime(2023, 7, 22, 17, 9))\n",
    "\n",
    "assert entry1 == entry2 == entry3 == entry4\n",
    "print(entry1)"
   ]
  },
  {
   "cell_type": "markdown",
   "metadata": {},
   "source": [
    "# Analysis examples"
   ]
  },
  {
   "cell_type": "markdown",
   "metadata": {},
   "source": [
    "## Mood analysis"
   ]
  },
  {
   "cell_type": "code",
   "execution_count": null,
   "metadata": {
    "metadata": {}
   },
   "outputs": [],
   "source": [
    "activity = \"cycling\"\n",
    "mood_with_without = df.mood_with_without(activity)\n",
    "print(repr(mood_with_without))\n",
    "print(mood_with_without.calc_change())"
   ]
  },
  {
   "cell_type": "code",
   "execution_count": null,
   "metadata": {
    "metadata": {}
   },
   "outputs": [],
   "source": [
    "print(activity, mood_with_without, sep=\"\\n\")"
   ]
  },
  {
   "cell_type": "markdown",
   "metadata": {},
   "source": [
    "## Complete analysis"
   ]
  },
  {
   "cell_type": "code",
   "execution_count": null,
   "metadata": {
    "metadata": {}
   },
   "outputs": [],
   "source": [
    "complete_analysis = df.complete_analysis()\n",
    "\n",
    "print(f\"analysed {len(complete_analysis)} actvities\")\n",
    "for _name, _mood_with_without, _num_occ in (\n",
    "    complete_analysis[:8] + complete_analysis[-8:]\n",
    "):\n",
    "    print(\n",
    "        f\"[{_name:^15}]: {_mood_with_without.calc_change():.1%}\"\n",
    "        f\"(with: {_mood_with_without.with_}, without: {_mood_with_without.without}); occured {_num_occ} times\"\n",
    "    )"
   ]
  },
  {
   "cell_type": "markdown",
   "metadata": {},
   "source": [
    "## Tags"
   ]
  },
  {
   "cell_type": "code",
   "execution_count": null,
   "metadata": {
    "metadata": {}
   },
   "outputs": [],
   "source": [
    "all_tags = df.build_tags()"
   ]
  },
  {
   "cell_type": "markdown",
   "metadata": {},
   "source": [
    "## Books: timeline, highlights and plot"
   ]
  },
  {
   "cell_type": "code",
   "execution_count": null,
   "metadata": {
    "metadata": {}
   },
   "outputs": [],
   "source": [
    "from collections import defaultdict\n",
    "\n",
    "from IPython.core.display import HTML\n",
    "from IPython.display import display\n",
    "\n",
    "from src.books_timeline import get_timeline_html\n",
    "from src.clippings import get_all_grouped_highlights\n",
    "\n",
    "\n",
    "book_tags = df.get_book_tags()\n",
    "print(f\"Found {len(book_tags)} book tags\")\n",
    "\n",
    "\n",
    "# author stats\n",
    "author_groups = defaultdict(list)\n",
    "for book_tag in book_tags:\n",
    "    author_groups[book_tag.author].append(book_tag)"
   ]
  },
  {
   "cell_type": "code",
   "execution_count": null,
   "metadata": {},
   "outputs": [],
   "source": [
    "# number of books per author\n",
    "for author, tags in author_groups.items():\n",
    "    print(f\"{author:<15} {len(tags)}\")"
   ]
  },
  {
   "cell_type": "markdown",
   "metadata": {},
   "source": [
    "Highlights info"
   ]
  },
  {
   "cell_type": "code",
   "execution_count": null,
   "metadata": {},
   "outputs": [],
   "source": [
    "# compile and group highlight by the book title\n",
    "BOOK_GROUPS = get_all_grouped_highlights()\n",
    "\n",
    "# number of highlighs per book\n",
    "for title, hightlights in BOOK_GROUPS.items():\n",
    "    print(\n",
    "        f\"{title:<50} {len(hightlights):<3} ({sum(len(h.text) for h in hightlights):,} total characters)\"\n",
    "    )\n",
    "\n",
    "# assign highlights to book tags, if possible\n",
    "for book_tag in book_tags:\n",
    "    book_tag.try_assign_highlights(BOOK_GROUPS)"
   ]
  },
  {
   "cell_type": "code",
   "execution_count": null,
   "metadata": {},
   "outputs": [],
   "source": [
    "display(HTML(get_timeline_html(book_tags)))"
   ]
  },
  {
   "cell_type": "markdown",
   "metadata": {},
   "source": [
    "Now, the plot"
   ]
  },
  {
   "cell_type": "code",
   "execution_count": null,
   "metadata": {},
   "outputs": [],
   "source": [
    "df.books_read_plot(groupby=\"month\")"
   ]
  },
  {
   "cell_type": "markdown",
   "metadata": {},
   "source": [
    "## Mood scatter plot (per day/week/month)"
   ]
  },
  {
   "cell_type": "code",
   "execution_count": null,
   "metadata": {
    "metadata": {}
   },
   "outputs": [],
   "source": [
    "df.mood_plot(\"week\")"
   ]
  },
  {
   "cell_type": "markdown",
   "metadata": {},
   "source": [
    "## Mood bar plot by hour/day/month"
   ]
  },
  {
   "cell_type": "code",
   "execution_count": null,
   "metadata": {
    "metadata": {}
   },
   "outputs": [],
   "source": [
    "df.by_time_bar_plot(\"hour\")"
   ]
  },
  {
   "cell_type": "code",
   "execution_count": null,
   "metadata": {
    "metadata": {}
   },
   "outputs": [],
   "source": [
    "df.by_time_bar_plot(\"day\")"
   ]
  },
  {
   "cell_type": "code",
   "execution_count": null,
   "metadata": {
    "metadata": {}
   },
   "outputs": [],
   "source": [
    "df.by_time_bar_plot(\"weekday\")"
   ]
  },
  {
   "cell_type": "code",
   "execution_count": null,
   "metadata": {
    "metadata": {}
   },
   "outputs": [],
   "source": [
    "df.by_time_bar_plot(\"month\")"
   ]
  },
  {
   "cell_type": "markdown",
   "metadata": {},
   "source": [
    "## Calendar Heatmaps!\n",
    "\n",
    "Now, these do look fancy, don't they!"
   ]
  },
  {
   "cell_type": "code",
   "execution_count": null,
   "metadata": {
    "metadata": {}
   },
   "outputs": [],
   "source": [
    "df.show_calendar_plot()"
   ]
  },
  {
   "cell_type": "markdown",
   "metadata": {},
   "source": [
    "Of course, we can also subset the dataset to, say, take a look at a particular activity"
   ]
  },
  {
   "cell_type": "code",
   "execution_count": null,
   "metadata": {
    "metadata": {}
   },
   "outputs": [],
   "source": [
    "# when I was at home (some of my trips are clearly visible)\n",
    "df.sub(A(\"home\")).show_calendar_plot()"
   ]
  },
  {
   "cell_type": "code",
   "execution_count": null,
   "metadata": {
    "metadata": {}
   },
   "outputs": [],
   "source": [
    "# when I played factorio alone\n",
    "df.sub(A(\"factorio\") & ~A.people()).show_calendar_plot()"
   ]
  },
  {
   "cell_type": "code",
   "execution_count": null,
   "metadata": {},
   "outputs": [],
   "source": [
    "# when I studied not at home\n",
    "df.sub(A(\"study\") & ~A(\"home\")).show_calendar_plot()"
   ]
  },
  {
   "cell_type": "code",
   "execution_count": null,
   "metadata": {},
   "outputs": [],
   "source": [
    "# bad-to-meh mood?\n",
    "df.sub(MoodIn(1, 3.1)).show_calendar_plot()"
   ]
  },
  {
   "cell_type": "markdown",
   "metadata": {},
   "source": [
    "## Entries times differences"
   ]
  },
  {
   "cell_type": "code",
   "execution_count": null,
   "metadata": {},
   "outputs": [],
   "source": [
    "df.sub(A(\"home\")).stats()"
   ]
  },
  {
   "cell_type": "code",
   "execution_count": null,
   "metadata": {
    "metadata": {}
   },
   "outputs": [],
   "source": [
    "df.sub(A(\"home\")).entries_differences()"
   ]
  },
  {
   "cell_type": "markdown",
   "metadata": {},
   "source": [
    "## Activities' effect on mood"
   ]
  },
  {
   "cell_type": "code",
   "execution_count": null,
   "metadata": {},
   "outputs": [],
   "source": [
    "df.activities_effect_on_mood()"
   ]
  },
  {
   "cell_type": "markdown",
   "metadata": {},
   "source": [
    "## Wordclouds!"
   ]
  },
  {
   "cell_type": "code",
   "execution_count": null,
   "metadata": {},
   "outputs": [],
   "source": [
    "df.plot_wordcloud()"
   ]
  },
  {
   "cell_type": "code",
   "execution_count": null,
   "metadata": {},
   "outputs": [],
   "source": [
    "df.sub(NoteHas(\"#книга\")).plot_wordcloud()"
   ]
  },
  {
   "cell_type": "markdown",
   "metadata": {},
   "source": [
    "## Monthly activity effect on mood"
   ]
  },
  {
   "cell_type": "code",
   "execution_count": null,
   "metadata": {
    "metadata": {}
   },
   "outputs": [],
   "source": [
    "df.mood_change_activity(\"study\")"
   ]
  },
  {
   "cell_type": "markdown",
   "metadata": {},
   "source": [
    "## Other features"
   ]
  },
  {
   "cell_type": "code",
   "execution_count": null,
   "metadata": {},
   "outputs": [],
   "source": [
    "df.people_frequency()"
   ]
  },
  {
   "cell_type": "code",
   "execution_count": null,
   "metadata": {
    "metadata": {}
   },
   "outputs": [],
   "source": [
    "df.note_length_plot(groupby=\"month\")"
   ]
  },
  {
   "cell_type": "code",
   "execution_count": null,
   "metadata": {
    "metadata": {}
   },
   "outputs": [],
   "source": [
    "df.generate_activity_correlation_matrix()"
   ]
  },
  {
   "cell_type": "markdown",
   "metadata": {},
   "source": [
    "# Monthly Report Templates"
   ]
  },
  {
   "cell_type": "code",
   "execution_count": null,
   "metadata": {
    "metadata": {}
   },
   "outputs": [],
   "source": [
    "from src.monthly_report import generate_report_template\n",
    "\n",
    "\n",
    "generate_report_template(1, 2025, df)"
   ]
  },
  {
   "cell_type": "markdown",
   "metadata": {},
   "source": [
    "# Other"
   ]
  },
  {
   "cell_type": "code",
   "execution_count": 19,
   "metadata": {},
   "outputs": [],
   "source": [
    "def valid_parenthesis(string: str) -> bool:\n",
    "    balance = 0\n",
    "    for char in string:\n",
    "        if char == \"(\":\n",
    "            balance += 1\n",
    "        elif char == \")\":\n",
    "            balance -= 1\n",
    "        if balance < 0:\n",
    "            return False\n",
    "    return balance == 0"
   ]
  },
  {
   "cell_type": "code",
   "execution_count": 42,
   "metadata": {},
   "outputs": [],
   "source": [
    "from src.entry_condition import compile, And, Or, Has, Not, EntryCondition"
   ]
  },
  {
   "cell_type": "code",
   "execution_count": null,
   "metadata": {},
   "outputs": [],
   "source": [
    "def top_level_op_idx(string: str) -> int:\n",
    "    balance = 0\n",
    "    op_or_idx = -1\n",
    "    op_and_idx = -1\n",
    "    for i, char in enumerate(string):\n",
    "        if char == \"(\":\n",
    "            balance += 1\n",
    "        elif char == \")\":\n",
    "            balance -= 1\n",
    "        elif balance == 0:\n",
    "            if char == \"|\":\n",
    "                op_or_idx = i\n",
    "            elif char == \"&\":\n",
    "                op_and_idx = i\n",
    "    if op_or_idx != -1:\n",
    "        return op_or_idx\n",
    "    if op_and_idx != -1:\n",
    "        return op_and_idx\n",
    "    raise ValueError(f\"No top-level operator found: {string}\")\n",
    "\n",
    "\n",
    "def build_entry_condition(string: str) -> EntryCondition:\n",
    "    if not string:\n",
    "        raise ValueError(\"Empty string\")\n",
    "    top_op_idx = top_level_op_idx(string)\n",
    "    top_op = string[top_op_idx]\n",
    "    left = string[:top_op_idx].strip()\n",
    "    right = string[top_op_idx + 1 :].strip()\n",
    "    if top_op == \"|\":\n",
    "        return Or(build_entry_condition(left), build_entry_condition(right))\n",
    "    elif top_op == \"&\":\n",
    "        return And(build_entry_condition(left), build_entry_condition(right))\n",
    "    else:\n",
    "        raise ValueError(f\"Invalid operator: {top_op}\")\n",
    "\n",
    "\n",
    "def build(string: str) -> EntryCondition:\n",
    "    if not valid_parenthesis(string):\n",
    "        raise ValueError(\"Invalid parenthesis\")\n",
    "    return build_entry_condition(string)"
   ]
  },
  {
   "cell_type": "code",
   "execution_count": 69,
   "metadata": {},
   "outputs": [],
   "source": [
    "e1 = \"(sad | angry) & happy\"\n",
    "e2 = \"(annoyed & ()) | (!(sad | !worried) & happy) & (!sport | city)\""
   ]
  },
  {
   "cell_type": "code",
   "execution_count": 70,
   "metadata": {},
   "outputs": [
    {
     "ename": "ValueError",
     "evalue": "Unknown activity: '())'.",
     "output_type": "error",
     "traceback": [
      "\u001b[31m---------------------------------------------------------------------------\u001b[39m",
      "\u001b[31mValueError\u001b[39m                                Traceback (most recent call last)",
      "\u001b[36mCell\u001b[39m\u001b[36m \u001b[39m\u001b[32mIn[70]\u001b[39m\u001b[32m, line 1\u001b[39m\n\u001b[32m----> \u001b[39m\u001b[32m1\u001b[39m ec = \u001b[43mbuild\u001b[49m\u001b[43m(\u001b[49m\u001b[43me2\u001b[49m\u001b[43m)\u001b[49m\n\u001b[32m      2\u001b[39m \u001b[38;5;28mprint\u001b[39m(ec)\n",
      "\u001b[36mCell\u001b[39m\u001b[36m \u001b[39m\u001b[32mIn[68]\u001b[39m\u001b[32m, line 52\u001b[39m, in \u001b[36mbuild\u001b[39m\u001b[34m(string)\u001b[39m\n\u001b[32m     50\u001b[39m \u001b[38;5;28;01mif\u001b[39;00m \u001b[38;5;129;01mnot\u001b[39;00m valid_parenthesis(string):\n\u001b[32m     51\u001b[39m     \u001b[38;5;28;01mraise\u001b[39;00m \u001b[38;5;167;01mValueError\u001b[39;00m(\u001b[33m\"\u001b[39m\u001b[33mInvalid parenthesis\u001b[39m\u001b[33m\"\u001b[39m)\n\u001b[32m---> \u001b[39m\u001b[32m52\u001b[39m \u001b[38;5;28;01mreturn\u001b[39;00m \u001b[43mbuild_entry_condition\u001b[49m\u001b[43m(\u001b[49m\u001b[43mstring\u001b[49m\u001b[43m)\u001b[49m\n",
      "\u001b[36mCell\u001b[39m\u001b[36m \u001b[39m\u001b[32mIn[68]\u001b[39m\u001b[32m, line 36\u001b[39m, in \u001b[36mbuild_entry_condition\u001b[39m\u001b[34m(string)\u001b[39m\n\u001b[32m     25\u001b[39m \u001b[38;5;66;03m# if string[0] == \"(\" and string[-1] == \")\":\u001b[39;00m\n\u001b[32m     26\u001b[39m \u001b[38;5;66;03m#     string = string[1:-1]\u001b[39;00m\n\u001b[32m     27\u001b[39m \u001b[38;5;28;01mif\u001b[39;00m (\n\u001b[32m     28\u001b[39m     \u001b[33m\"\u001b[39m\u001b[33m(\u001b[39m\u001b[33m\"\u001b[39m \u001b[38;5;129;01mnot\u001b[39;00m \u001b[38;5;129;01min\u001b[39;00m string\n\u001b[32m     29\u001b[39m     \u001b[38;5;129;01mand\u001b[39;00m \u001b[33m\"\u001b[39m\u001b[33m)\u001b[39m\u001b[33m\"\u001b[39m \u001b[38;5;129;01mnot\u001b[39;00m \u001b[38;5;129;01min\u001b[39;00m string\n\u001b[32m   (...)\u001b[39m\u001b[32m     34\u001b[39m     )\n\u001b[32m     35\u001b[39m ):\n\u001b[32m---> \u001b[39m\u001b[32m36\u001b[39m     \u001b[38;5;28;01mreturn\u001b[39;00m \u001b[38;5;28;43mcompile\u001b[39;49m\u001b[43m(\u001b[49m\u001b[43mstring\u001b[49m\u001b[43m.\u001b[49m\u001b[43mstrip\u001b[49m\u001b[43m(\u001b[49m\u001b[33;43m\"\u001b[39;49m\u001b[33;43m()\u001b[39;49m\u001b[33;43m\"\u001b[39;49m\u001b[43m)\u001b[49m\u001b[43m)\u001b[49m\n\u001b[32m     37\u001b[39m top_op_idx = top_level_op_idx(string)\n\u001b[32m     38\u001b[39m top_op = string[top_op_idx]\n",
      "\u001b[36mFile \u001b[39m\u001b[32mc:\\Users\\avaliullin\\pythoncode\\other\\daylio-analysis\\src\\entry_condition.py:232\u001b[39m, in \u001b[36mcompile\u001b[39m\u001b[34m(string)\u001b[39m\n\u001b[32m    228\u001b[39m         return Has.people()\n\u001b[32m    229\u001b[39m     return Has(part)\n\u001b[32m    231\u001b[39m # TODO: add parenthesis support\n\u001b[32m--> \u001b[39m\u001b[32m232\u001b[39m # e.g. \"!(a & b) | c\" == \"!a | !b | c\"\n\u001b[32m    234\u001b[39m parts = [part.split(\"&\") for part in string.split(\"|\")]\n\u001b[32m    235\u001b[39m has_parts = [[process(pt.strip()) for pt in and_part] for and_part in parts]\n",
      "\u001b[36mFile \u001b[39m\u001b[32mc:\\Users\\avaliullin\\pythoncode\\other\\daylio-analysis\\src\\entry_condition.py:229\u001b[39m, in \u001b[36mcompile.<locals>.process\u001b[39m\u001b[34m(part)\u001b[39m\n\u001b[32m    227\u001b[39m \u001b[38;5;28;01mif\u001b[39;00m part == \u001b[33m\"\u001b[39m\u001b[33mpeople\u001b[39m\u001b[33m\"\u001b[39m:\n\u001b[32m    228\u001b[39m     \u001b[38;5;28;01mreturn\u001b[39;00m Has.people()\n\u001b[32m--> \u001b[39m\u001b[32m229\u001b[39m \u001b[38;5;28;01mreturn\u001b[39;00m \u001b[43mHas\u001b[49m\u001b[43m(\u001b[49m\u001b[43mpart\u001b[49m\u001b[43m)\u001b[49m\n",
      "\u001b[36mFile \u001b[39m\u001b[32mc:\\Users\\avaliullin\\pythoncode\\other\\daylio-analysis\\src\\entry_condition.py:135\u001b[39m, in \u001b[36mHas.__init__\u001b[39m\u001b[34m(self, activity)\u001b[39m\n\u001b[32m    133\u001b[39m     maybe_this = difflib.get_close_matches(activity, ALLOWED_ACTIVITIES, n=\u001b[32m1\u001b[39m)\n\u001b[32m    134\u001b[39m     maybe_this = \u001b[33mf\u001b[39m\u001b[33m\"\u001b[39m\u001b[33m Did you mean \u001b[39m\u001b[38;5;132;01m{\u001b[39;00mmaybe_this[\u001b[32m0\u001b[39m]\u001b[38;5;132;01m!r}\u001b[39;00m\u001b[33m?\u001b[39m\u001b[33m\"\u001b[39m \u001b[38;5;28;01mif\u001b[39;00m maybe_this \u001b[38;5;28;01melse\u001b[39;00m \u001b[33m\"\u001b[39m\u001b[33m\"\u001b[39m\n\u001b[32m--> \u001b[39m\u001b[32m135\u001b[39m     \u001b[38;5;28;01mraise\u001b[39;00m \u001b[38;5;167;01mValueError\u001b[39;00m(\u001b[33mf\u001b[39m\u001b[33m\"\u001b[39m\u001b[33mUnknown activity: \u001b[39m\u001b[38;5;132;01m{\u001b[39;00mactivity\u001b[38;5;132;01m!r}\u001b[39;00m\u001b[33m.\u001b[39m\u001b[38;5;132;01m{\u001b[39;00mmaybe_this\u001b[38;5;132;01m}\u001b[39;00m\u001b[33m\"\u001b[39m)\n\u001b[32m    136\u001b[39m \u001b[38;5;28mself\u001b[39m.activity = activity\n",
      "\u001b[31mValueError\u001b[39m: Unknown activity: '())'."
     ]
    }
   ],
   "source": [
    "ec = build(e2)\n",
    "print(ec)"
   ]
  },
  {
   "cell_type": "code",
   "execution_count": null,
   "metadata": {},
   "outputs": [],
   "source": []
  }
 ],
 "metadata": {
  "kernelspec": {
   "display_name": "venv",
   "language": "python",
   "name": "python3"
  },
  "language_info": {
   "codemirror_mode": {
    "name": "ipython",
    "version": 3
   },
   "file_extension": ".py",
   "mimetype": "text/x-python",
   "name": "python",
   "nbconvert_exporter": "python",
   "pygments_lexer": "ipython3",
   "version": "3.13.0"
  },
  "orig_nbformat": 4
 },
 "nbformat": 4,
 "nbformat_minor": 2
}
