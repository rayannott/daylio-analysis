{
 "cells": [
  {
   "cell_type": "code",
   "execution_count": 1,
   "metadata": {
    "metadata": {}
   },
   "outputs": [
    {
     "name": "stdout",
     "output_type": "stream",
     "text": [
      "using file daylio_export_2024_12_05 (2).csv\n",
      "Dataset(1800 entries; last [5 hours 51 minutes 28 seconds ago]; mood: 3.839 ± 0.500)\n"
     ]
    },
    {
     "data": {
      "text/plain": [
       "Mood: 3.839 ± 0.500\n",
       "Note length: 47.988 ± 56.116 symbols\n",
       "Entries frequency: 5.737 entries per day (once every 4 hours 11 minutes)"
      ]
     },
     "execution_count": 1,
     "metadata": {},
     "output_type": "execute_result"
    }
   ],
   "source": [
    "import pathlib\n",
    "from src.dataset import Dataset, BAD_MOOD\n",
    "\n",
    "DATA_DIR = pathlib.Path('data')\n",
    "path = next(DATA_DIR.glob('*.csv'))\n",
    "print('using file', path.name)\n",
    "\n",
    "df = Dataset(path)\n",
    "df.stats()"
   ]
  },
  {
   "cell_type": "markdown",
   "metadata": {},
   "source": [
    "# API"
   ]
  },
  {
   "cell_type": "markdown",
   "metadata": {},
   "source": [
    "### `.head`"
   ]
  },
  {
   "cell_type": "markdown",
   "metadata": {},
   "source": [
    "Use the `.head` method to look at the latest entries of the dataset"
   ]
  },
  {
   "cell_type": "code",
   "execution_count": 2,
   "metadata": {
    "metadata": {}
   },
   "outputs": [
    {
     "name": "stdout",
     "output_type": "stream",
     "text": [
      "Dataset(1792 entries; last [14 hours 53 minutes 25 seconds ago]; mood: 3.840 ± 0.500)\n",
      "[03.12.2024 00:09] 4.0 amused, home, reading, relaxed, satisfied\n",
      "[02.12.2024 22:04] 3.5 Leha, bored, coding, friends, home, relaxed\n",
      "[02.12.2024 17:18] 4.0 excited, sad, work\n",
      "[02.12.2024 14:54] 4.0 coding, productive, unsure, work, worked\n",
      "[02.12.2024 00:06] 4.0 home, reading, satisfied\n",
      "...\n"
     ]
    }
   ],
   "source": [
    "df.head()"
   ]
  },
  {
   "cell_type": "code",
   "execution_count": 3,
   "metadata": {
    "metadata": {}
   },
   "outputs": [
    {
     "name": "stdout",
     "output_type": "stream",
     "text": [
      "Dataset(1792 entries; last [14 hours 53 minutes 27 seconds ago]; mood: 3.840 ± 0.500)\n",
      "[03.12.2024 00:09] 4.0 amused, home, reading, relaxed, satisfied\n",
      "[02.12.2024 22:04] 3.5 Leha, bored, coding, friends, home, relaxed\n",
      "...\n"
     ]
    }
   ],
   "source": [
    "df.head(2)"
   ]
  },
  {
   "cell_type": "code",
   "execution_count": null,
   "metadata": {
    "metadata": {}
   },
   "outputs": [],
   "source": [
    "# prints all entries\n",
    "df.head(-1)"
   ]
  },
  {
   "cell_type": "markdown",
   "metadata": {},
   "source": [
    "### `.sub`"
   ]
  },
  {
   "cell_type": "markdown",
   "metadata": {},
   "source": [
    "Use the `.sub` method to filter entries and get a subset of the original dataset"
   ]
  },
  {
   "cell_type": "markdown",
   "metadata": {},
   "source": [
    "- by included activities ('or' operator: all the entries which have at least one of the listed activities)"
   ]
  },
  {
   "cell_type": "code",
   "execution_count": 4,
   "metadata": {
    "metadata": {}
   },
   "outputs": [
    {
     "name": "stdout",
     "output_type": "stream",
     "text": [
      "Dataset(100 entries; last [1 day 1 hour 40 minutes 42 seconds ago]; mood: 4.135 ± 0.541)\n",
      "[27.07.2024 21:39] 4.5 city, relaxed, satisfied, tired\n",
      "[23.07.2024 17:35] 4.0 cycling, relaxed, study, unsure\n",
      "[21.07.2024 19:53] 4.0 cycling, relaxed, unsure\n",
      "[20.07.2024 18:32] 4.5 city, cycling, relaxed, satisfied\n",
      "[17.07.2024 20:28] 4.0 city, excited, satisfied, social\n",
      "...\n"
     ]
    }
   ],
   "source": [
    "cycling_or_city_df = df.sub(include={'cycling', 'city'})\n",
    "cycling_or_city_df.head()"
   ]
  },
  {
   "cell_type": "markdown",
   "metadata": {},
   "source": [
    "- by excluded activities (entries which don't have any of the listed activities)\n",
    "\n",
    "_for both `include` and `exclude` the argument can be either `str` or `set[str]`_"
   ]
  },
  {
   "cell_type": "code",
   "execution_count": 5,
   "metadata": {
    "metadata": {}
   },
   "outputs": [
    {
     "name": "stdout",
     "output_type": "stream",
     "text": [
      "Dataset(1213 entries; last [1 hour 33 minutes 43 seconds ago]; mood: 3.799 ± 0.515)\n",
      "[28.07.2024 21:46] 3.5 home, study, unsure\n",
      "[28.07.2024 15:57] 4.0 Leha, factorio, home, relaxed, satisfied\n",
      "[28.07.2024 13:01] 4.0 excited, home, relaxed, satisfied, study\n",
      "[27.07.2024 21:39] 4.5 city, relaxed, satisfied, tired\n",
      "[27.07.2024 16:42] 4.5 excited, happy, home, piano, relaxed, satisfied\n",
      "...\n"
     ]
    }
   ],
   "source": [
    "without_friends = df.sub(exclude='friends')\n",
    "without_friends.head()"
   ]
  },
  {
   "cell_type": "markdown",
   "metadata": {},
   "source": [
    "- by mood values (can be either a value or a Container of values)"
   ]
  },
  {
   "cell_type": "code",
   "execution_count": 6,
   "metadata": {
    "metadata": {}
   },
   "outputs": [
    {
     "data": {
      "text/plain": [
       "Dataset(37 entries; last [7 days 17 hours 45 minutes 44 seconds ago]; mood: 2.270 ± 0.253)"
      ]
     },
     "execution_count": 6,
     "metadata": {},
     "output_type": "execute_result"
    }
   ],
   "source": [
    "bad_mood = df.sub(mood=BAD_MOOD)\n",
    "bad_mood"
   ]
  },
  {
   "cell_type": "markdown",
   "metadata": {},
   "source": [
    "- by included activities ('and' operator: all entries which have all the listed activities)\n",
    "\n",
    "_Note: this is achieved by subscribing the dataset twice; since .sub method returns a new dataset, it can be done in one line._"
   ]
  },
  {
   "cell_type": "code",
   "execution_count": 7,
   "metadata": {
    "metadata": {}
   },
   "outputs": [
    {
     "name": "stdout",
     "output_type": "stream",
     "text": [
      "Dataset(11 entries; last [30 days 51 minutes 45 seconds ago]; mood: 4.773 ± 0.518)\n",
      "[28.06.2024 22:28] 4.0 cycling, relaxed, satisfied, swimming, tired\n",
      "[13.10.2023 20:10] 5.0 cycling, swimming, tired\n",
      "[16.09.2023 20:58] 5.0 cycling, relaxed, satisfied, swimming, tired\n",
      "[04.09.2023 20:44] 5.0 Damir, cycling, relaxed, satisfied, swimming, tired\n",
      "[22.08.2023 20:27] 5.0 cycling, friends, satisfied, swimming, tired\n",
      "...\n",
      "[('cycling', 11), ('tired', 11), ('swimming', 11), ('satisfied', 8), ('relaxed', 7), ('friends', 6), ('Damir', 5)]\n"
     ]
    }
   ],
   "source": [
    "cycling_and_swimming = df.sub(include='cycling').sub(include='swimming')\n",
    "cycling_and_swimming.head()\n",
    "print(cycling_and_swimming.activities().most_common(7))"
   ]
  },
  {
   "cell_type": "code",
   "execution_count": 8,
   "metadata": {
    "metadata": {}
   },
   "outputs": [
    {
     "data": {
      "text/plain": [
       "Dataset(38 entries; last [5 days 5 hours 44 minutes 46 seconds ago]; mood: 4.145 ± 0.544)"
      ]
     },
     "execution_count": 8,
     "metadata": {},
     "output_type": "execute_result"
    }
   ],
   "source": [
    "df.sub(include='cycling', exclude='swimming')"
   ]
  },
  {
   "cell_type": "markdown",
   "metadata": {},
   "source": [
    "- by a subtring (or substrings) in the `note`"
   ]
  },
  {
   "cell_type": "code",
   "execution_count": 9,
   "metadata": {
    "metadata": {}
   },
   "outputs": [
    {
     "name": "stdout",
     "output_type": "stream",
     "text": [
      "Dataset(6 entries; last [2 months 20 days 11 hours 44 minutes 47 seconds ago]; mood: 3.833 ± 0.258)\n",
      "[08.05.2024 15:35] 3.5 Leha, annoyed, excited, friends, gaming, unsure\n",
      "[08.03.2024 17:26] 4.0 Leha, amused, annoyed, friends, gaming, happy, home, satisfied\n",
      "[22.11.2023 21:41] 4.0 Leha, Martina, amused, gaming, home, movies & series, satisfied\n",
      "[07.07.2023 20:00] 3.5 Leha, coding, dota, friends, gaming, shopping, study, unsure, walking\n",
      "[03.07.2023 20:05] 4.0 Leha, coding, excited, friends, gaming, happy, home, stressed, tired\n",
      "[01.07.2023 20:00] 4.0 Leha, Martina, excited, friends, gaming, happy, home, movies & series, relaxed\n"
     ]
    }
   ],
   "source": [
    "df_ktane = df.sub(note_contains='ktane')\n",
    "df_ktane.head(-1)"
   ]
  },
  {
   "cell_type": "markdown",
   "metadata": {},
   "source": [
    "- by a predicate function (which takes an entry as an argument and returns a boolean)"
   ]
  },
  {
   "cell_type": "code",
   "execution_count": null,
   "metadata": {
    "metadata": {}
   },
   "outputs": [
    {
     "data": {
      "text/plain": [
       "Dataset(31 entries; last [1 month 11 days 15 hours 12 minutes 48 seconds ago]; mood: 4.677 ± 0.243)"
      ]
     },
     "execution_count": 10,
     "metadata": {},
     "output_type": "execute_result"
    }
   ],
   "source": [
    "from dataset import Entry\n",
    "\n",
    "\n",
    "def pred(entry: Entry) -> bool:\n",
    "    \"\"\"It is sunday, the mood > 4, the note is not empty\"\"\"\n",
    "    return entry.full_date.weekday() == 6 and entry.mood > 4 and entry.note != \"\"\n",
    "\n",
    "\n",
    "df_sunday_good_mood_has_note = df.sub(predicate=pred)\n",
    "df_sunday_good_mood_has_note"
   ]
  },
  {
   "cell_type": "markdown",
   "metadata": {},
   "source": [
    "### `.mood` and `.std`"
   ]
  },
  {
   "cell_type": "markdown",
   "metadata": {},
   "source": [
    "Use the `.mood` method to get the average mood of all the entries in the dataset and the `.std` method to get the standard deviation of the mood values.\n",
    "\n",
    "These values are also shown when calling `.head()`."
   ]
  },
  {
   "cell_type": "code",
   "execution_count": 11,
   "metadata": {
    "metadata": {}
   },
   "outputs": [
    {
     "name": "stdout",
     "output_type": "stream",
     "text": [
      "4.135 ± 0.541\n"
     ]
    }
   ],
   "source": [
    "print(f\"{cycling_or_city_df.mood():.3f} \\u00B1 {cycling_or_city_df.std():.3f}\")"
   ]
  },
  {
   "cell_type": "markdown",
   "metadata": {},
   "source": [
    "or just use `.mood_std`:"
   ]
  },
  {
   "cell_type": "code",
   "execution_count": 12,
   "metadata": {
    "metadata": {}
   },
   "outputs": [
    {
     "data": {
      "text/plain": [
       "4.135 ± 0.541"
      ]
     },
     "execution_count": 12,
     "metadata": {},
     "output_type": "execute_result"
    }
   ],
   "source": [
    "cycling_or_city_df.mood_std()"
   ]
  },
  {
   "cell_type": "markdown",
   "metadata": {},
   "source": [
    "### `.activities`"
   ]
  },
  {
   "cell_type": "markdown",
   "metadata": {},
   "source": [
    "Use the `.activities` method to get a Counter object of all activities in the dataset"
   ]
  },
  {
   "cell_type": "code",
   "execution_count": 13,
   "metadata": {
    "metadata": {}
   },
   "outputs": [
    {
     "name": "stdout",
     "output_type": "stream",
     "text": [
      "most common: [('home', 800), ('relaxed', 525), ('satisfied', 490)]\n",
      "least common: [('cinema', 3), ('reading', 3), ('photography', 3), ('guitar', 4), ('Dad', 4)]\n"
     ]
    }
   ],
   "source": [
    "cnt = df.activities()\n",
    "print(f'most common: {cnt.most_common(3)}')\n",
    "print(f'least common: {cnt.most_common()[-1:-6:-1]}')"
   ]
  },
  {
   "cell_type": "markdown",
   "metadata": {},
   "source": [
    "### `.people`\n",
    "\n",
    "Use the `.people` method to get a Counter object of all people in the dataset"
   ]
  },
  {
   "cell_type": "code",
   "execution_count": 14,
   "metadata": {
    "metadata": {}
   },
   "outputs": [
    {
     "data": {
      "text/plain": [
       "Counter({'Leha': 50,\n",
       "         'Mom': 21,\n",
       "         'Martina': 42,\n",
       "         'Azat': 61,\n",
       "         'Damir': 37,\n",
       "         'Dad': 4,\n",
       "         'Lion': 42,\n",
       "         'Lika': 13,\n",
       "         'Lauren': 254})"
      ]
     },
     "execution_count": 14,
     "metadata": {},
     "output_type": "execute_result"
    }
   ],
   "source": [
    "df.people()"
   ]
  },
  {
   "cell_type": "markdown",
   "metadata": {},
   "source": [
    "### `.get_datetimes`"
   ]
  },
  {
   "cell_type": "markdown",
   "metadata": {},
   "source": [
    "Use the `.get_datetimes` method to get the list of all points in time when an entry was created. The values are sorted in descending order by the date of creation."
   ]
  },
  {
   "cell_type": "code",
   "execution_count": 16,
   "metadata": {
    "metadata": {}
   },
   "outputs": [
    {
     "data": {
      "text/plain": [
       "[datetime.datetime(2024, 7, 28, 21, 46),\n",
       " datetime.datetime(2024, 7, 28, 15, 57),\n",
       " datetime.datetime(2024, 7, 28, 13, 1),\n",
       " datetime.datetime(2024, 7, 27, 21, 39),\n",
       " datetime.datetime(2024, 7, 27, 16, 42)]"
      ]
     },
     "execution_count": 16,
     "metadata": {},
     "output_type": "execute_result"
    }
   ],
   "source": [
    "df.get_datetimes()[:5]"
   ]
  },
  {
   "cell_type": "markdown",
   "metadata": {},
   "source": [
    "### `.group_by`\n",
    "Use the `.group_by` method to get a dictionary mapping groups to the list of entries in that group.\n",
    "\n",
    "The groups are one of `['day', 'month']` and the entries are sorted in ascending order.\n",
    "\n",
    "Note: this method (like many others) uses lru_cache and since the Dataset is weakly-immutable, it is safe to use it."
   ]
  },
  {
   "cell_type": "code",
   "execution_count": 17,
   "metadata": {
    "metadata": {}
   },
   "outputs": [
    {
     "name": "stdout",
     "output_type": "stream",
     "text": [
      "2023-07-01: 1\n"
     ]
    }
   ],
   "source": [
    "groups = df.group_by('day')\n",
    "for day, entries in groups.items():\n",
    "    print(f'{day}: {len(entries)}')\n",
    "    break"
   ]
  },
  {
   "cell_type": "code",
   "execution_count": 18,
   "metadata": {
    "metadata": {}
   },
   "outputs": [
    {
     "name": "stdout",
     "output_type": "stream",
     "text": [
      "2023-07-01: 95\n"
     ]
    }
   ],
   "source": [
    "groups = df.group_by('month')\n",
    "for day, entries in groups.items():\n",
    "    print(f'{day}: {len(entries)}')\n",
    "    break"
   ]
  },
  {
   "cell_type": "markdown",
   "metadata": {},
   "source": [
    "### `.stats`\n",
    "\n",
    "Use the `.stats` method to get a custom StatsResult object which contains the following information:"
   ]
  },
  {
   "cell_type": "code",
   "execution_count": 19,
   "metadata": {
    "metadata": {}
   },
   "outputs": [
    {
     "name": "stdout",
     "output_type": "stream",
     "text": [
      "Help on method stats in module dataset:\n",
      "\n",
      "stats() -> utils.StatsResult method of dataset.Dataset instance\n",
      "    Returns the following statistics:\n",
      "        - mood (avg ± std)\n",
      "        - note length [num symbols] (avg ± std)\n",
      "        - entries frequency [entries per day] (median)\n",
      "    as a StatsResult object.\n",
      "\n"
     ]
    }
   ],
   "source": [
    "help(df.stats)"
   ]
  },
  {
   "cell_type": "code",
   "execution_count": 20,
   "metadata": {
    "metadata": {}
   },
   "outputs": [
    {
     "data": {
      "text/plain": [
       "Mood: 3.774 ± 0.477\n",
       "Note length: 36.830 ± 54.716 symbols\n",
       "Entries frequency: 4.091 entries per day (once every 5 hours 52 minutes)"
      ]
     },
     "execution_count": 20,
     "metadata": {},
     "output_type": "execute_result"
    }
   ],
   "source": [
    "df.sub(include='home').stats()"
   ]
  },
  {
   "cell_type": "markdown",
   "metadata": {},
   "source": [
    "### `for _ in df` (`.__iter__`)\n",
    "`Dataset` defines `__iter__` method, so it can be used in `for` loops. The entries are sorted in descending order by the date of creation."
   ]
  },
  {
   "cell_type": "code",
   "execution_count": 21,
   "metadata": {
    "metadata": {}
   },
   "outputs": [
    {
     "name": "stdout",
     "output_type": "stream",
     "text": [
      "[28.07.2024 21:46] 3.5 home, study, unsure\n",
      "[28.07.2024 21:46] 3.5 home, study, unsure; [28.07.2024 15:57] 4.0 Leha, factorio, home, relaxed, satisfied\n"
     ]
    }
   ],
   "source": [
    "for entry in df:\n",
    "    print(entry)\n",
    "    break\n",
    "# or\n",
    "df_iter = iter(df)\n",
    "print(next(df_iter), next(df_iter), sep='; ')"
   ]
  },
  {
   "cell_type": "markdown",
   "metadata": {},
   "source": [
    "### `df[...]` (`.__getitem__`)\n",
    "`Dataset` defines `__getitem__` method where the argument is \n",
    "- a date in a string format (e.g. `'01.01.2024'`), returns a new Dataset with all entries on that date;\n",
    "- a slice object (e.g. `slice('01.01.2024', '01.01.2025')`), returns a new Dataset with all entries which were created between the two dates (the \"stop\" date is not included);"
   ]
  },
  {
   "cell_type": "code",
   "execution_count": 22,
   "metadata": {
    "metadata": {}
   },
   "outputs": [],
   "source": [
    "july22 = df['22.07.2023']"
   ]
  },
  {
   "cell_type": "code",
   "execution_count": 23,
   "metadata": {
    "metadata": {}
   },
   "outputs": [
    {
     "data": {
      "text/plain": [
       "Dataset(6 entries; last [1 year 7 days 1 hour 3 minutes 12 seconds ago]; mood: 3.583 ± 0.376)"
      ]
     },
     "execution_count": 23,
     "metadata": {},
     "output_type": "execute_result"
    }
   ],
   "source": [
    "july22"
   ]
  },
  {
   "cell_type": "markdown",
   "metadata": {},
   "source": [
    "- by a particular date period (by using slices)"
   ]
  },
  {
   "cell_type": "code",
   "execution_count": 24,
   "metadata": {
    "metadata": {}
   },
   "outputs": [
    {
     "data": {
      "text/plain": [
       "Dataset(16 entries; last [6 months 25 days 11 hours 25 minutes 16 seconds ago]; mood: 3.969 ± 0.499)"
      ]
     },
     "execution_count": 24,
     "metadata": {},
     "output_type": "execute_result"
    }
   ],
   "source": [
    "ny_eve = df['29.12.2023':'03.01.2024']\n",
    "ny_eve"
   ]
  },
  {
   "cell_type": "code",
   "execution_count": 25,
   "metadata": {
    "metadata": {}
   },
   "outputs": [
    {
     "name": "stdout",
     "output_type": "stream",
     "text": [
      "Dataset(5 entries; last [7 months 28 days 1 hour 43 minutes 17 seconds ago]; mood: 3.700 ± 0.274)\n",
      "[30.11.2023 23:37] 3.5 Lauren, city, date, tired\n",
      "[30.11.2023 17:06] 4.0 coding, excited, home, satisfied\n",
      "[30.11.2023 11:07] 3.5 Leha, coding, home, unsure\n",
      "[29.11.2023 21:20] 3.5 Azat, Leha, amused, gaming, social\n",
      "[29.11.2023 16:42] 4.0 coding, excited, happy, home, satisfied\n"
     ]
    }
   ],
   "source": [
    "end_of_november_2023 = df['29.11.2023':'01.12.2023']\n",
    "end_of_november_2023.head()"
   ]
  },
  {
   "cell_type": "code",
   "execution_count": 26,
   "metadata": {
    "metadata": {}
   },
   "outputs": [
    {
     "name": "stdout",
     "output_type": "stream",
     "text": [
      "Dataset(95 entries; last [11 months 28 days 14 hours 26 minutes 18 seconds ago]; mood: 3.589 ± 0.688)\n",
      "[31.07.2023 18:54] 3.5 cleaning, relaxed\n",
      "[31.07.2023 17:22] 3.0 home, study, tired, unsure\n",
      "[31.07.2023 16:45] 4.0 cooking, home, relaxed, satisfied, study\n",
      "[31.07.2023 12:00] 3.5 bored, home, procrastinating, relaxed, unsure\n",
      "[30.07.2023 23:26] 4.0 Lauren, amused, friends, grateful, happy, home, laundry\n",
      "...\n"
     ]
    }
   ],
   "source": [
    "before_aug_2023 = df[:'01.08.2023']\n",
    "before_aug_2023.head()"
   ]
  },
  {
   "cell_type": "markdown",
   "metadata": {},
   "source": [
    "### `df @ datetime-like` (or `.at`)\n",
    "Returns a single entry created at a particular datetime or `None` if there is no entry at that datetime.\n",
    "\n",
    "Input: a datetime in a string format (e.g. `'01.01.2024 12:00'`) or a `datetime.datetime` object."
   ]
  },
  {
   "cell_type": "code",
   "execution_count": 27,
   "metadata": {
    "metadata": {}
   },
   "outputs": [
    {
     "name": "stdout",
     "output_type": "stream",
     "text": [
      "[22.07.2023 17:09] 3.5 cooking, home, relaxed, study\n"
     ]
    }
   ],
   "source": [
    "import datetime\n",
    "\n",
    "entry1 = df @ '22.07.2023 17:09' # or df.at(...)\n",
    "entry2 = df @ datetime.datetime(2023, 7, 22, 17, 9) # or df.at(...)\n",
    "\n",
    "assert entry1 == entry2\n",
    "print(entry1)"
   ]
  },
  {
   "cell_type": "markdown",
   "metadata": {},
   "source": [
    "# Analysis examples"
   ]
  },
  {
   "cell_type": "markdown",
   "metadata": {},
   "source": [
    "## Mood analysis"
   ]
  },
  {
   "cell_type": "code",
   "execution_count": 28,
   "metadata": {
    "metadata": {}
   },
   "outputs": [
    {
     "name": "stdout",
     "output_type": "stream",
     "text": [
      "MoodWithWithout(with_=4.286 ± 0.595, without=3.799 ± 0.509)\n",
      "0.12798012523426947\n"
     ]
    }
   ],
   "source": [
    "activity = 'cycling'\n",
    "mood_with_without = df.mood_with_without(activity)\n",
    "print(repr(mood_with_without))\n",
    "print(mood_with_without.calc_change())"
   ]
  },
  {
   "cell_type": "code",
   "execution_count": 29,
   "metadata": {
    "metadata": {}
   },
   "outputs": [
    {
     "name": "stdout",
     "output_type": "stream",
     "text": [
      "cycling\n",
      "with:    4.286 ± 0.595\n",
      "without: 3.799 ± 0.509\n",
      "change:  12.80%\n"
     ]
    }
   ],
   "source": [
    "print(activity, mood_with_without, sep='\\n')"
   ]
  },
  {
   "cell_type": "markdown",
   "metadata": {},
   "source": [
    "## Complete analysis"
   ]
  },
  {
   "cell_type": "code",
   "execution_count": 30,
   "metadata": {
    "metadata": {}
   },
   "outputs": [],
   "source": [
    "complete_analysis = df.complete_analysis()"
   ]
  },
  {
   "cell_type": "code",
   "execution_count": null,
   "metadata": {
    "metadata": {}
   },
   "outputs": [],
   "source": [
    "print(f'analysed {len(complete_analysis)} actvities')\n",
    "for _name, _mood_with_without, _num_occ in complete_analysis[:8] + complete_analysis[-8:]:\n",
    "    print(f'[{_name:^15}]: {_mood_with_without.calc_change():.1%} (with: {_mood_with_without.with_}, without: {_mood_with_without.without}); occured {_num_occ} times')"
   ]
  },
  {
   "cell_type": "markdown",
   "metadata": {},
   "source": [
    "## Tags"
   ]
  },
  {
   "cell_type": "code",
   "execution_count": 2,
   "metadata": {
    "metadata": {}
   },
   "outputs": [],
   "source": [
    "all_tags = df.build_tags()"
   ]
  },
  {
   "cell_type": "code",
   "execution_count": null,
   "metadata": {
    "metadata": {}
   },
   "outputs": [],
   "source": [
    "for booktag in all_tags['книга']:\n",
    "    print(booktag)"
   ]
  },
  {
   "cell_type": "markdown",
   "metadata": {},
   "source": [
    "### Books Timeline"
   ]
  },
  {
   "cell_type": "code",
   "execution_count": null,
   "metadata": {
    "metadata": {}
   },
   "outputs": [],
   "source": [
    "from IPython.core.display import HTML\n",
    "from IPython.display import display\n",
    "\n",
    "from src.books_timeline import get_timeline_html\n",
    "\n",
    "book_tags = df.get_book_tags()\n",
    "\n",
    "display(HTML(get_timeline_html(book_tags)))\n"
   ]
  },
  {
   "cell_type": "markdown",
   "metadata": {},
   "source": [
    "## Mood scatter plot (per day/month)"
   ]
  },
  {
   "cell_type": "code",
   "execution_count": 5,
   "metadata": {
    "metadata": {}
   },
   "outputs": [
    {
     "data": {
      "application/vnd.plotly.v1+json": {
       "config": {
        "plotlyServerURL": "https://plot.ly"
       },
       "data": [
        {
         "line": {
          "color": "rgb(31, 119, 180)",
          "shape": "spline"
         },
         "marker": {
          "color": [
           1,
           1,
           2,
           1,
           1,
           2,
           1,
           3,
           3,
           2,
           2,
           2,
           3,
           2,
           1,
           1,
           4,
           5,
           4,
           4,
           7,
           6,
           4,
           3,
           5,
           5,
           4,
           5,
           3,
           4,
           4,
           8,
           5,
           6,
           3,
           4,
           4,
           5,
           6,
           4,
           4,
           5,
           3,
           5,
           1,
           2,
           3,
           1,
           2,
           3,
           2,
           3,
           3,
           1,
           2,
           2,
           1,
           2,
           2,
           2,
           2,
           1,
           2,
           3,
           3,
           1,
           2,
           2,
           1,
           2,
           1,
           2,
           2,
           2,
           2,
           2,
           3,
           1,
           2,
           1,
           1,
           2,
           2,
           3,
           2,
           1,
           2,
           1,
           3,
           1,
           2,
           4,
           5,
           2,
           2,
           2,
           2,
           4,
           3,
           2,
           1,
           3,
           1,
           1,
           2,
           1,
           2,
           2,
           1,
           4,
           3,
           2,
           1,
           1,
           3,
           2,
           2,
           2,
           4,
           2,
           2,
           3,
           4,
           5,
           3,
           5,
           6,
           4,
           3,
           6,
           4,
           3,
           6,
           3,
           4,
           4,
           5,
           3,
           4,
           4,
           2,
           5,
           2,
           1,
           2,
           2,
           4,
           2,
           2,
           3,
           7,
           2,
           3,
           3,
           4,
           4,
           1,
           2,
           2,
           2,
           3,
           5,
           2,
           1,
           2,
           6,
           3,
           3,
           2,
           4,
           4,
           3,
           3,
           5,
           3,
           4,
           2,
           2,
           5,
           3,
           2,
           3,
           2,
           5,
           3,
           3,
           2,
           5,
           3,
           2,
           3,
           1,
           1,
           2,
           3,
           3,
           4,
           4,
           1,
           3,
           3,
           2,
           1,
           3,
           1,
           6,
           3,
           5,
           5,
           5,
           4,
           2,
           5,
           3,
           3,
           3,
           3,
           3,
           5,
           5,
           4,
           4,
           5,
           5,
           2,
           2,
           3,
           5,
           4,
           5,
           6,
           3,
           4,
           4,
           2,
           3,
           3,
           4,
           3,
           4,
           3,
           5,
           3,
           3,
           3,
           7,
           3,
           2,
           4,
           2,
           3,
           6,
           8,
           2,
           2,
           3,
           5,
           7,
           5,
           7,
           3,
           5,
           3,
           2,
           3,
           1,
           5,
           4,
           3,
           6,
           3,
           4,
           4,
           4,
           4,
           5,
           3,
           2,
           6,
           4,
           4,
           7,
           5,
           3,
           3,
           4,
           8,
           4,
           6,
           5,
           5,
           7,
           2,
           5,
           2,
           3,
           3,
           2,
           4,
           3,
           5,
           4,
           3,
           3,
           1,
           3,
           1,
           3,
           4,
           6,
           5,
           3,
           4,
           2,
           2,
           6,
           4,
           4,
           3,
           6,
           5,
           4,
           5,
           3,
           4,
           2,
           4,
           4,
           6,
           4,
           6,
           6,
           4,
           5,
           5,
           3,
           4,
           4,
           6,
           4,
           4,
           5,
           5,
           7,
           6,
           4,
           5,
           4,
           3,
           6,
           2,
           6,
           4,
           4,
           6,
           3,
           4,
           4,
           5,
           6,
           5,
           5,
           5,
           4,
           3,
           5,
           2,
           4,
           4,
           4,
           3,
           4,
           3,
           4,
           3,
           5,
           3,
           6,
           2,
           6,
           4,
           4,
           3,
           3,
           5,
           4,
           6,
           5,
           3,
           3,
           5,
           4,
           3,
           3,
           2,
           3,
           4,
           4,
           7,
           3,
           4,
           4,
           4,
           3,
           2,
           4,
           3,
           4,
           5,
           5,
           7,
           6,
           4,
           4,
           2,
           3,
           4,
           3,
           4,
           2,
           3,
           2,
           6,
           3,
           4,
           5,
           4,
           1,
           2,
           3,
           4,
           3,
           6,
           2,
           4,
           5,
           3,
           3,
           5,
           1,
           2,
           2,
           3,
           2,
           7,
           5,
           2,
           5,
           5,
           2,
           7,
           2,
           4,
           4,
           2,
           4,
           4,
           2,
           4,
           5,
           2,
           2,
           5,
           5,
           4,
           2,
           5,
           3,
           2,
           2,
           5,
           4,
           2,
           4,
           1,
           4,
           1,
           5,
           4,
           6,
           4,
           4,
           3,
           3,
           3,
           4,
           3,
           3,
           4,
           4,
           1,
           2,
           5,
           2,
           2,
           3,
           6,
           3,
           2,
           3,
           2,
           2,
           4,
           7,
           4,
           3,
           4,
           2,
           3,
           2,
           4,
           4,
           4,
           5,
           2,
           4,
           6,
           3,
           5,
           5,
           3,
           3,
           2
          ],
          "colorbar": {
           "title": {
            "text": "Number of entries"
           }
          },
          "colorscale": [
           [
            0,
            "rgb(0,0,255)"
           ],
           [
            1,
            "rgb(255,0,0)"
           ]
          ],
          "showscale": true,
          "size": 5
         },
         "mode": "lines+markers",
         "name": "avg",
         "type": "scatter",
         "x": [
          "2023-07-01",
          "2023-07-02",
          "2023-07-03",
          "2023-07-04",
          "2023-07-05",
          "2023-07-06",
          "2023-07-07",
          "2023-07-08",
          "2023-07-09",
          "2023-07-10",
          "2023-07-11",
          "2023-07-12",
          "2023-07-13",
          "2023-07-14",
          "2023-07-15",
          "2023-07-16",
          "2023-07-17",
          "2023-07-18",
          "2023-07-19",
          "2023-07-20",
          "2023-07-21",
          "2023-07-22",
          "2023-07-23",
          "2023-07-24",
          "2023-07-25",
          "2023-07-26",
          "2023-07-27",
          "2023-07-28",
          "2023-07-29",
          "2023-07-30",
          "2023-07-31",
          "2023-08-01",
          "2023-08-02",
          "2023-08-03",
          "2023-08-04",
          "2023-08-05",
          "2023-08-06",
          "2023-08-07",
          "2023-08-08",
          "2023-08-09",
          "2023-08-10",
          "2023-08-11",
          "2023-08-12",
          "2023-08-13",
          "2023-08-14",
          "2023-08-15",
          "2023-08-16",
          "2023-08-17",
          "2023-08-18",
          "2023-08-19",
          "2023-08-20",
          "2023-08-21",
          "2023-08-22",
          "2023-08-23",
          "2023-08-24",
          "2023-08-25",
          "2023-08-26",
          "2023-08-27",
          "2023-08-28",
          "2023-08-29",
          "2023-08-30",
          "2023-08-31",
          "2023-09-01",
          "2023-09-02",
          "2023-09-03",
          "2023-09-04",
          "2023-09-05",
          "2023-09-06",
          "2023-09-07",
          "2023-09-08",
          "2023-09-09",
          "2023-09-10",
          "2023-09-11",
          "2023-09-12",
          "2023-09-13",
          "2023-09-14",
          "2023-09-15",
          "2023-09-16",
          "2023-09-17",
          "2023-09-18",
          "2023-09-19",
          "2023-09-20",
          "2023-09-21",
          "2023-09-22",
          "2023-09-23",
          "2023-09-24",
          "2023-09-25",
          "2023-09-26",
          "2023-09-27",
          "2023-09-28",
          "2023-09-29",
          "2023-09-30",
          "2023-10-01",
          "2023-10-02",
          "2023-10-03",
          "2023-10-04",
          "2023-10-05",
          "2023-10-06",
          "2023-10-07",
          "2023-10-08",
          "2023-10-09",
          "2023-10-10",
          "2023-10-11",
          "2023-10-12",
          "2023-10-13",
          "2023-10-14",
          "2023-10-15",
          "2023-10-16",
          "2023-10-17",
          "2023-10-18",
          "2023-10-19",
          "2023-10-20",
          "2023-10-21",
          "2023-10-22",
          "2023-10-23",
          "2023-10-24",
          "2023-10-25",
          "2023-10-26",
          "2023-10-27",
          "2023-10-28",
          "2023-10-29",
          "2023-10-30",
          "2023-10-31",
          "2023-11-01",
          "2023-11-02",
          "2023-11-03",
          "2023-11-04",
          "2023-11-05",
          "2023-11-06",
          "2023-11-07",
          "2023-11-08",
          "2023-11-09",
          "2023-11-10",
          "2023-11-11",
          "2023-11-12",
          "2023-11-13",
          "2023-11-14",
          "2023-11-15",
          "2023-11-16",
          "2023-11-17",
          "2023-11-18",
          "2023-11-19",
          "2023-11-20",
          "2023-11-21",
          "2023-11-22",
          "2023-11-23",
          "2023-11-24",
          "2023-11-25",
          "2023-11-26",
          "2023-11-27",
          "2023-11-28",
          "2023-11-29",
          "2023-11-30",
          "2023-12-01",
          "2023-12-02",
          "2023-12-03",
          "2023-12-04",
          "2023-12-05",
          "2023-12-06",
          "2023-12-07",
          "2023-12-08",
          "2023-12-09",
          "2023-12-10",
          "2023-12-11",
          "2023-12-12",
          "2023-12-13",
          "2023-12-14",
          "2023-12-15",
          "2023-12-16",
          "2023-12-17",
          "2023-12-18",
          "2023-12-19",
          "2023-12-20",
          "2023-12-21",
          "2023-12-22",
          "2023-12-23",
          "2023-12-24",
          "2023-12-25",
          "2023-12-26",
          "2023-12-27",
          "2023-12-28",
          "2023-12-29",
          "2023-12-30",
          "2023-12-31",
          "2024-01-01",
          "2024-01-02",
          "2024-01-03",
          "2024-01-04",
          "2024-01-05",
          "2024-01-06",
          "2024-01-07",
          "2024-01-08",
          "2024-01-09",
          "2024-01-10",
          "2024-01-11",
          "2024-01-12",
          "2024-01-13",
          "2024-01-14",
          "2024-01-15",
          "2024-01-16",
          "2024-01-17",
          "2024-01-18",
          "2024-01-19",
          "2024-01-20",
          "2024-01-21",
          "2024-01-22",
          "2024-01-23",
          "2024-01-24",
          "2024-01-25",
          "2024-01-26",
          "2024-01-27",
          "2024-01-28",
          "2024-01-29",
          "2024-01-30",
          "2024-01-31",
          "2024-02-01",
          "2024-02-02",
          "2024-02-03",
          "2024-02-04",
          "2024-02-05",
          "2024-02-06",
          "2024-02-07",
          "2024-02-08",
          "2024-02-09",
          "2024-02-10",
          "2024-02-11",
          "2024-02-12",
          "2024-02-13",
          "2024-02-14",
          "2024-02-15",
          "2024-02-16",
          "2024-02-17",
          "2024-02-18",
          "2024-02-19",
          "2024-02-20",
          "2024-02-21",
          "2024-02-22",
          "2024-02-23",
          "2024-02-24",
          "2024-02-25",
          "2024-02-26",
          "2024-02-27",
          "2024-02-28",
          "2024-02-29",
          "2024-03-01",
          "2024-03-02",
          "2024-03-03",
          "2024-03-04",
          "2024-03-05",
          "2024-03-06",
          "2024-03-07",
          "2024-03-08",
          "2024-03-09",
          "2024-03-10",
          "2024-03-11",
          "2024-03-12",
          "2024-03-13",
          "2024-03-14",
          "2024-03-15",
          "2024-03-16",
          "2024-03-17",
          "2024-03-18",
          "2024-03-19",
          "2024-03-20",
          "2024-03-21",
          "2024-03-22",
          "2024-03-23",
          "2024-03-24",
          "2024-03-25",
          "2024-03-26",
          "2024-03-27",
          "2024-03-28",
          "2024-03-29",
          "2024-03-30",
          "2024-03-31",
          "2024-04-01",
          "2024-04-02",
          "2024-04-03",
          "2024-04-04",
          "2024-04-05",
          "2024-04-06",
          "2024-04-07",
          "2024-04-08",
          "2024-04-09",
          "2024-04-10",
          "2024-04-11",
          "2024-04-12",
          "2024-04-13",
          "2024-04-14",
          "2024-04-15",
          "2024-04-16",
          "2024-04-17",
          "2024-04-18",
          "2024-04-19",
          "2024-04-20",
          "2024-04-21",
          "2024-04-22",
          "2024-04-23",
          "2024-04-24",
          "2024-04-25",
          "2024-04-26",
          "2024-04-27",
          "2024-04-28",
          "2024-04-29",
          "2024-04-30",
          "2024-05-01",
          "2024-05-02",
          "2024-05-03",
          "2024-05-04",
          "2024-05-05",
          "2024-05-06",
          "2024-05-07",
          "2024-05-08",
          "2024-05-09",
          "2024-05-10",
          "2024-05-11",
          "2024-05-12",
          "2024-05-13",
          "2024-05-14",
          "2024-05-15",
          "2024-05-16",
          "2024-05-17",
          "2024-05-18",
          "2024-05-19",
          "2024-05-20",
          "2024-05-21",
          "2024-05-22",
          "2024-05-23",
          "2024-05-24",
          "2024-05-25",
          "2024-05-26",
          "2024-05-27",
          "2024-05-28",
          "2024-05-29",
          "2024-05-30",
          "2024-05-31",
          "2024-06-01",
          "2024-06-02",
          "2024-06-03",
          "2024-06-04",
          "2024-06-05",
          "2024-06-06",
          "2024-06-07",
          "2024-06-08",
          "2024-06-09",
          "2024-06-10",
          "2024-06-11",
          "2024-06-12",
          "2024-06-13",
          "2024-06-14",
          "2024-06-15",
          "2024-06-16",
          "2024-06-17",
          "2024-06-18",
          "2024-06-19",
          "2024-06-20",
          "2024-06-21",
          "2024-06-22",
          "2024-06-23",
          "2024-06-24",
          "2024-06-25",
          "2024-06-26",
          "2024-06-27",
          "2024-06-28",
          "2024-06-29",
          "2024-06-30",
          "2024-07-01",
          "2024-07-02",
          "2024-07-03",
          "2024-07-04",
          "2024-07-05",
          "2024-07-06",
          "2024-07-07",
          "2024-07-08",
          "2024-07-09",
          "2024-07-10",
          "2024-07-11",
          "2024-07-12",
          "2024-07-13",
          "2024-07-14",
          "2024-07-15",
          "2024-07-16",
          "2024-07-17",
          "2024-07-18",
          "2024-07-19",
          "2024-07-20",
          "2024-07-21",
          "2024-07-22",
          "2024-07-23",
          "2024-07-24",
          "2024-07-25",
          "2024-07-26",
          "2024-07-27",
          "2024-07-28",
          "2024-07-29",
          "2024-07-30",
          "2024-07-31",
          "2024-08-01",
          "2024-08-02",
          "2024-08-03",
          "2024-08-04",
          "2024-08-05",
          "2024-08-06",
          "2024-08-07",
          "2024-08-08",
          "2024-08-09",
          "2024-08-10",
          "2024-08-11",
          "2024-08-12",
          "2024-08-13",
          "2024-08-14",
          "2024-08-15",
          "2024-08-16",
          "2024-08-17",
          "2024-08-18",
          "2024-08-19",
          "2024-08-20",
          "2024-08-21",
          "2024-08-22",
          "2024-08-23",
          "2024-08-24",
          "2024-08-25",
          "2024-08-26",
          "2024-08-27",
          "2024-08-28",
          "2024-08-29",
          "2024-08-30",
          "2024-08-31",
          "2024-09-01",
          "2024-09-02",
          "2024-09-03",
          "2024-09-04",
          "2024-09-05",
          "2024-09-06",
          "2024-09-07",
          "2024-09-08",
          "2024-09-09",
          "2024-09-10",
          "2024-09-11",
          "2024-09-12",
          "2024-09-13",
          "2024-09-14",
          "2024-09-15",
          "2024-09-16",
          "2024-09-17",
          "2024-09-18",
          "2024-09-19",
          "2024-09-20",
          "2024-09-21",
          "2024-09-22",
          "2024-09-23",
          "2024-09-24",
          "2024-09-25",
          "2024-09-26",
          "2024-09-27",
          "2024-09-28",
          "2024-09-29",
          "2024-09-30",
          "2024-10-01",
          "2024-10-02",
          "2024-10-03",
          "2024-10-04",
          "2024-10-05",
          "2024-10-06",
          "2024-10-07",
          "2024-10-08",
          "2024-10-09",
          "2024-10-10",
          "2024-10-11",
          "2024-10-12",
          "2024-10-13",
          "2024-10-14",
          "2024-10-15",
          "2024-10-16",
          "2024-10-17",
          "2024-10-18",
          "2024-10-19",
          "2024-10-20",
          "2024-10-21",
          "2024-10-22",
          "2024-10-23",
          "2024-10-24",
          "2024-10-25",
          "2024-10-27",
          "2024-10-28",
          "2024-10-29",
          "2024-10-30",
          "2024-10-31",
          "2024-11-01",
          "2024-11-02",
          "2024-11-03",
          "2024-11-04",
          "2024-11-05",
          "2024-11-06",
          "2024-11-07",
          "2024-11-08",
          "2024-11-09",
          "2024-11-10",
          "2024-11-11",
          "2024-11-12",
          "2024-11-13",
          "2024-11-14",
          "2024-11-15",
          "2024-11-16",
          "2024-11-17",
          "2024-11-18",
          "2024-11-19",
          "2024-11-20",
          "2024-11-21",
          "2024-11-22",
          "2024-11-23",
          "2024-11-24",
          "2024-11-25",
          "2024-11-26",
          "2024-11-27",
          "2024-11-28",
          "2024-11-29",
          "2024-11-30",
          "2024-12-01",
          "2024-12-02",
          "2024-12-03",
          "2024-12-04",
          "2024-12-05"
         ],
         "y": [
          4,
          4,
          4.5,
          3,
          4,
          4,
          3.5,
          4,
          3.1666666666666665,
          4.5,
          3.75,
          3.25,
          4.333333333333333,
          4.5,
          3,
          4,
          3.125,
          4.4,
          3.375,
          3.375,
          3.2857142857142856,
          3.5833333333333335,
          3.5,
          3.5,
          3.4,
          3.1,
          3.75,
          3.4,
          3.3333333333333335,
          3.25,
          3.5,
          3.8125,
          4.1,
          3.75,
          3.8333333333333335,
          3.875,
          3.25,
          3.6,
          4.166666666666667,
          3.75,
          3.875,
          3.8,
          4,
          4.1,
          4,
          3.75,
          4.166666666666667,
          3.5,
          4,
          4.333333333333333,
          3.75,
          3.8333333333333335,
          4.333333333333333,
          4,
          3,
          3.75,
          4,
          2.25,
          4,
          3,
          4,
          4,
          4.5,
          3.8333333333333335,
          4,
          5,
          4,
          3.5,
          4,
          4,
          4,
          4.5,
          3.75,
          4.5,
          4,
          3.25,
          3.8333333333333335,
          5,
          4,
          3.5,
          4,
          4,
          4,
          3.8333333333333335,
          4,
          4,
          4,
          4,
          4.166666666666667,
          4,
          3.75,
          3.625,
          4.1,
          4.25,
          4.5,
          4.5,
          3.75,
          4,
          3.8333333333333335,
          3.75,
          4,
          3.5,
          4,
          4,
          4.25,
          4,
          5,
          3.5,
          4,
          4.625,
          4.166666666666667,
          4.25,
          4,
          4,
          3.6666666666666665,
          3.25,
          3.75,
          3.75,
          4.25,
          5.5,
          4.5,
          4.166666666666667,
          3.375,
          4.1,
          3.8333333333333335,
          3.5,
          3.9166666666666665,
          3.375,
          3.5,
          3.75,
          4.25,
          4.166666666666667,
          3.4166666666666665,
          4.666666666666667,
          4.75,
          3.875,
          3.5,
          3.6666666666666665,
          3.875,
          3.125,
          4,
          3.4,
          3.5,
          3,
          4,
          3.75,
          4,
          4,
          4,
          3.8333333333333335,
          3.642857142857143,
          3.75,
          3.6666666666666665,
          3.3333333333333335,
          3.75,
          3.875,
          4,
          3.25,
          4,
          3.75,
          3.6666666666666665,
          3.7,
          4.25,
          4,
          3.75,
          4.166666666666667,
          4,
          4,
          5,
          3.875,
          4,
          3.8333333333333335,
          3.8333333333333335,
          3.8,
          3.8333333333333335,
          4.25,
          3.75,
          4.5,
          4.1,
          4.166666666666667,
          3,
          4.333333333333333,
          3.75,
          3.7,
          4,
          4.166666666666667,
          3.75,
          3.9,
          4.166666666666667,
          3.75,
          4.333333333333333,
          3.5,
          4,
          3.75,
          4,
          4.166666666666667,
          3.625,
          4.125,
          4,
          4,
          4,
          3.75,
          4.5,
          4.333333333333333,
          4.5,
          4.083333333333333,
          4.333333333333333,
          3.6,
          3.8,
          3.6,
          3.875,
          3.5,
          3.6,
          3.6666666666666665,
          3.5,
          4,
          3.8333333333333335,
          4.166666666666667,
          4.2,
          3.3,
          4.25,
          3.75,
          3.7,
          3.8,
          4.75,
          4,
          3.3333333333333335,
          3.1,
          3.125,
          3.6,
          2.8333333333333335,
          3.6666666666666665,
          4.25,
          3.5,
          3.5,
          3.6666666666666665,
          3.6666666666666665,
          3.125,
          3.8333333333333335,
          3.5,
          3.6666666666666665,
          3.9,
          4,
          3.5,
          2.6666666666666665,
          3,
          3.1666666666666665,
          3.25,
          3.75,
          3.5,
          3.3333333333333335,
          3.75,
          3.75,
          3.75,
          4,
          3.6666666666666665,
          3.8,
          3.7142857142857144,
          3.8,
          3.7857142857142856,
          3.8333333333333335,
          4.2,
          3.8333333333333335,
          3.75,
          4,
          4,
          3.9,
          3.625,
          3.6666666666666665,
          3.8333333333333335,
          3.8333333333333335,
          3.75,
          3.875,
          3.5,
          4,
          3.9,
          4.166666666666667,
          3.75,
          3.75,
          3.875,
          4.5,
          3.857142857142857,
          3.5,
          3.6666666666666665,
          3.6666666666666665,
          3.625,
          3.5625,
          3.75,
          3.75,
          3.6,
          3.8,
          3.7857142857142856,
          4,
          3.8,
          4,
          3.8333333333333335,
          3.8333333333333335,
          3.75,
          3.625,
          3.8333333333333335,
          3.8,
          4.125,
          3.8333333333333335,
          3.6666666666666665,
          4,
          3.8333333333333335,
          4,
          3.5,
          3.75,
          3.75,
          3.5,
          3.8333333333333335,
          3.625,
          4,
          4,
          3.8333333333333335,
          3.875,
          4,
          4,
          3.75,
          3.8,
          4.125,
          4.2,
          4.333333333333333,
          4,
          4,
          3.875,
          3.75,
          3.6666666666666665,
          3.625,
          3.8333333333333335,
          3.8333333333333335,
          3.875,
          3.9,
          3.8,
          3.5,
          3.75,
          3.5,
          4,
          4,
          3.75,
          3.8,
          3.9,
          4,
          3.75,
          3.875,
          4.2,
          4,
          4.166666666666667,
          4.083333333333333,
          4.25,
          3.9166666666666665,
          3.875,
          3.75,
          3.9166666666666665,
          3.6666666666666665,
          4,
          3.625,
          3.4,
          3.5833333333333335,
          3.7,
          3.9,
          4,
          3.75,
          3.8333333333333335,
          3.9,
          4.25,
          3.625,
          3.625,
          3.75,
          3.6666666666666665,
          3.625,
          3.6666666666666665,
          3.875,
          4,
          3.9,
          4.166666666666667,
          3.9166666666666665,
          4.25,
          3.75,
          3.75,
          3.875,
          4,
          4,
          4,
          4.125,
          3.5,
          4,
          3.8333333333333335,
          3.8333333333333335,
          4.1,
          4.25,
          4.333333333333333,
          3.8333333333333335,
          4.25,
          3.8333333333333335,
          3.75,
          4.25,
          3.5714285714285716,
          4.166666666666667,
          4,
          3.875,
          4,
          3.8333333333333335,
          4.25,
          3.625,
          3.8333333333333335,
          3.625,
          3.9,
          4.2,
          4,
          3.4166666666666665,
          4.625,
          3.875,
          3.75,
          4,
          3.75,
          4,
          4,
          4.5,
          4.666666666666667,
          4.25,
          4.083333333333333,
          3.8333333333333335,
          4.25,
          4.2,
          4,
          4,
          4.25,
          3.8333333333333335,
          3.75,
          4.166666666666667,
          3.9166666666666665,
          4.25,
          4.375,
          4,
          4.166666666666667,
          3.8333333333333335,
          4.1,
          3.5,
          4,
          4.25,
          4,
          3.25,
          4,
          3.9,
          3.75,
          3.9,
          3.8,
          3.75,
          3.7857142857142856,
          4,
          3.875,
          3.75,
          3.25,
          3.75,
          4,
          3.75,
          3.875,
          4.1,
          3.75,
          3.75,
          3.8,
          4,
          3.625,
          3.75,
          3.3,
          3.8333333333333335,
          3.5,
          4,
          3.8,
          3.5,
          4,
          3.875,
          2,
          3.875,
          4.5,
          3.9,
          3.75,
          3.6666666666666665,
          4,
          3.75,
          3.6666666666666665,
          4,
          3.6666666666666665,
          3.75,
          3.8333333333333335,
          4,
          3.875,
          4.25,
          4.5,
          3.25,
          3.5,
          3.5,
          4.25,
          4.166666666666667,
          4.166666666666667,
          4,
          4,
          3.3333333333333335,
          3.25,
          4.5,
          3.875,
          4.214285714285714,
          3.875,
          4,
          4,
          3.75,
          4,
          4.25,
          3.75,
          3.625,
          4.25,
          3.8,
          3.75,
          3.875,
          4,
          4,
          4.2,
          3.8,
          4,
          3.6666666666666665,
          3.75
         ]
        },
        {
         "line": {
          "width": 0
         },
         "marker": {
          "color": "#444"
         },
         "mode": "lines",
         "name": "avg+std",
         "showlegend": false,
         "type": "scatter",
         "x": [
          "2023-07-01",
          "2023-07-02",
          "2023-07-03",
          "2023-07-04",
          "2023-07-05",
          "2023-07-06",
          "2023-07-07",
          "2023-07-08",
          "2023-07-09",
          "2023-07-10",
          "2023-07-11",
          "2023-07-12",
          "2023-07-13",
          "2023-07-14",
          "2023-07-15",
          "2023-07-16",
          "2023-07-17",
          "2023-07-18",
          "2023-07-19",
          "2023-07-20",
          "2023-07-21",
          "2023-07-22",
          "2023-07-23",
          "2023-07-24",
          "2023-07-25",
          "2023-07-26",
          "2023-07-27",
          "2023-07-28",
          "2023-07-29",
          "2023-07-30",
          "2023-07-31",
          "2023-08-01",
          "2023-08-02",
          "2023-08-03",
          "2023-08-04",
          "2023-08-05",
          "2023-08-06",
          "2023-08-07",
          "2023-08-08",
          "2023-08-09",
          "2023-08-10",
          "2023-08-11",
          "2023-08-12",
          "2023-08-13",
          "2023-08-14",
          "2023-08-15",
          "2023-08-16",
          "2023-08-17",
          "2023-08-18",
          "2023-08-19",
          "2023-08-20",
          "2023-08-21",
          "2023-08-22",
          "2023-08-23",
          "2023-08-24",
          "2023-08-25",
          "2023-08-26",
          "2023-08-27",
          "2023-08-28",
          "2023-08-29",
          "2023-08-30",
          "2023-08-31",
          "2023-09-01",
          "2023-09-02",
          "2023-09-03",
          "2023-09-04",
          "2023-09-05",
          "2023-09-06",
          "2023-09-07",
          "2023-09-08",
          "2023-09-09",
          "2023-09-10",
          "2023-09-11",
          "2023-09-12",
          "2023-09-13",
          "2023-09-14",
          "2023-09-15",
          "2023-09-16",
          "2023-09-17",
          "2023-09-18",
          "2023-09-19",
          "2023-09-20",
          "2023-09-21",
          "2023-09-22",
          "2023-09-23",
          "2023-09-24",
          "2023-09-25",
          "2023-09-26",
          "2023-09-27",
          "2023-09-28",
          "2023-09-29",
          "2023-09-30",
          "2023-10-01",
          "2023-10-02",
          "2023-10-03",
          "2023-10-04",
          "2023-10-05",
          "2023-10-06",
          "2023-10-07",
          "2023-10-08",
          "2023-10-09",
          "2023-10-10",
          "2023-10-11",
          "2023-10-12",
          "2023-10-13",
          "2023-10-14",
          "2023-10-15",
          "2023-10-16",
          "2023-10-17",
          "2023-10-18",
          "2023-10-19",
          "2023-10-20",
          "2023-10-21",
          "2023-10-22",
          "2023-10-23",
          "2023-10-24",
          "2023-10-25",
          "2023-10-26",
          "2023-10-27",
          "2023-10-28",
          "2023-10-29",
          "2023-10-30",
          "2023-10-31",
          "2023-11-01",
          "2023-11-02",
          "2023-11-03",
          "2023-11-04",
          "2023-11-05",
          "2023-11-06",
          "2023-11-07",
          "2023-11-08",
          "2023-11-09",
          "2023-11-10",
          "2023-11-11",
          "2023-11-12",
          "2023-11-13",
          "2023-11-14",
          "2023-11-15",
          "2023-11-16",
          "2023-11-17",
          "2023-11-18",
          "2023-11-19",
          "2023-11-20",
          "2023-11-21",
          "2023-11-22",
          "2023-11-23",
          "2023-11-24",
          "2023-11-25",
          "2023-11-26",
          "2023-11-27",
          "2023-11-28",
          "2023-11-29",
          "2023-11-30",
          "2023-12-01",
          "2023-12-02",
          "2023-12-03",
          "2023-12-04",
          "2023-12-05",
          "2023-12-06",
          "2023-12-07",
          "2023-12-08",
          "2023-12-09",
          "2023-12-10",
          "2023-12-11",
          "2023-12-12",
          "2023-12-13",
          "2023-12-14",
          "2023-12-15",
          "2023-12-16",
          "2023-12-17",
          "2023-12-18",
          "2023-12-19",
          "2023-12-20",
          "2023-12-21",
          "2023-12-22",
          "2023-12-23",
          "2023-12-24",
          "2023-12-25",
          "2023-12-26",
          "2023-12-27",
          "2023-12-28",
          "2023-12-29",
          "2023-12-30",
          "2023-12-31",
          "2024-01-01",
          "2024-01-02",
          "2024-01-03",
          "2024-01-04",
          "2024-01-05",
          "2024-01-06",
          "2024-01-07",
          "2024-01-08",
          "2024-01-09",
          "2024-01-10",
          "2024-01-11",
          "2024-01-12",
          "2024-01-13",
          "2024-01-14",
          "2024-01-15",
          "2024-01-16",
          "2024-01-17",
          "2024-01-18",
          "2024-01-19",
          "2024-01-20",
          "2024-01-21",
          "2024-01-22",
          "2024-01-23",
          "2024-01-24",
          "2024-01-25",
          "2024-01-26",
          "2024-01-27",
          "2024-01-28",
          "2024-01-29",
          "2024-01-30",
          "2024-01-31",
          "2024-02-01",
          "2024-02-02",
          "2024-02-03",
          "2024-02-04",
          "2024-02-05",
          "2024-02-06",
          "2024-02-07",
          "2024-02-08",
          "2024-02-09",
          "2024-02-10",
          "2024-02-11",
          "2024-02-12",
          "2024-02-13",
          "2024-02-14",
          "2024-02-15",
          "2024-02-16",
          "2024-02-17",
          "2024-02-18",
          "2024-02-19",
          "2024-02-20",
          "2024-02-21",
          "2024-02-22",
          "2024-02-23",
          "2024-02-24",
          "2024-02-25",
          "2024-02-26",
          "2024-02-27",
          "2024-02-28",
          "2024-02-29",
          "2024-03-01",
          "2024-03-02",
          "2024-03-03",
          "2024-03-04",
          "2024-03-05",
          "2024-03-06",
          "2024-03-07",
          "2024-03-08",
          "2024-03-09",
          "2024-03-10",
          "2024-03-11",
          "2024-03-12",
          "2024-03-13",
          "2024-03-14",
          "2024-03-15",
          "2024-03-16",
          "2024-03-17",
          "2024-03-18",
          "2024-03-19",
          "2024-03-20",
          "2024-03-21",
          "2024-03-22",
          "2024-03-23",
          "2024-03-24",
          "2024-03-25",
          "2024-03-26",
          "2024-03-27",
          "2024-03-28",
          "2024-03-29",
          "2024-03-30",
          "2024-03-31",
          "2024-04-01",
          "2024-04-02",
          "2024-04-03",
          "2024-04-04",
          "2024-04-05",
          "2024-04-06",
          "2024-04-07",
          "2024-04-08",
          "2024-04-09",
          "2024-04-10",
          "2024-04-11",
          "2024-04-12",
          "2024-04-13",
          "2024-04-14",
          "2024-04-15",
          "2024-04-16",
          "2024-04-17",
          "2024-04-18",
          "2024-04-19",
          "2024-04-20",
          "2024-04-21",
          "2024-04-22",
          "2024-04-23",
          "2024-04-24",
          "2024-04-25",
          "2024-04-26",
          "2024-04-27",
          "2024-04-28",
          "2024-04-29",
          "2024-04-30",
          "2024-05-01",
          "2024-05-02",
          "2024-05-03",
          "2024-05-04",
          "2024-05-05",
          "2024-05-06",
          "2024-05-07",
          "2024-05-08",
          "2024-05-09",
          "2024-05-10",
          "2024-05-11",
          "2024-05-12",
          "2024-05-13",
          "2024-05-14",
          "2024-05-15",
          "2024-05-16",
          "2024-05-17",
          "2024-05-18",
          "2024-05-19",
          "2024-05-20",
          "2024-05-21",
          "2024-05-22",
          "2024-05-23",
          "2024-05-24",
          "2024-05-25",
          "2024-05-26",
          "2024-05-27",
          "2024-05-28",
          "2024-05-29",
          "2024-05-30",
          "2024-05-31",
          "2024-06-01",
          "2024-06-02",
          "2024-06-03",
          "2024-06-04",
          "2024-06-05",
          "2024-06-06",
          "2024-06-07",
          "2024-06-08",
          "2024-06-09",
          "2024-06-10",
          "2024-06-11",
          "2024-06-12",
          "2024-06-13",
          "2024-06-14",
          "2024-06-15",
          "2024-06-16",
          "2024-06-17",
          "2024-06-18",
          "2024-06-19",
          "2024-06-20",
          "2024-06-21",
          "2024-06-22",
          "2024-06-23",
          "2024-06-24",
          "2024-06-25",
          "2024-06-26",
          "2024-06-27",
          "2024-06-28",
          "2024-06-29",
          "2024-06-30",
          "2024-07-01",
          "2024-07-02",
          "2024-07-03",
          "2024-07-04",
          "2024-07-05",
          "2024-07-06",
          "2024-07-07",
          "2024-07-08",
          "2024-07-09",
          "2024-07-10",
          "2024-07-11",
          "2024-07-12",
          "2024-07-13",
          "2024-07-14",
          "2024-07-15",
          "2024-07-16",
          "2024-07-17",
          "2024-07-18",
          "2024-07-19",
          "2024-07-20",
          "2024-07-21",
          "2024-07-22",
          "2024-07-23",
          "2024-07-24",
          "2024-07-25",
          "2024-07-26",
          "2024-07-27",
          "2024-07-28",
          "2024-07-29",
          "2024-07-30",
          "2024-07-31",
          "2024-08-01",
          "2024-08-02",
          "2024-08-03",
          "2024-08-04",
          "2024-08-05",
          "2024-08-06",
          "2024-08-07",
          "2024-08-08",
          "2024-08-09",
          "2024-08-10",
          "2024-08-11",
          "2024-08-12",
          "2024-08-13",
          "2024-08-14",
          "2024-08-15",
          "2024-08-16",
          "2024-08-17",
          "2024-08-18",
          "2024-08-19",
          "2024-08-20",
          "2024-08-21",
          "2024-08-22",
          "2024-08-23",
          "2024-08-24",
          "2024-08-25",
          "2024-08-26",
          "2024-08-27",
          "2024-08-28",
          "2024-08-29",
          "2024-08-30",
          "2024-08-31",
          "2024-09-01",
          "2024-09-02",
          "2024-09-03",
          "2024-09-04",
          "2024-09-05",
          "2024-09-06",
          "2024-09-07",
          "2024-09-08",
          "2024-09-09",
          "2024-09-10",
          "2024-09-11",
          "2024-09-12",
          "2024-09-13",
          "2024-09-14",
          "2024-09-15",
          "2024-09-16",
          "2024-09-17",
          "2024-09-18",
          "2024-09-19",
          "2024-09-20",
          "2024-09-21",
          "2024-09-22",
          "2024-09-23",
          "2024-09-24",
          "2024-09-25",
          "2024-09-26",
          "2024-09-27",
          "2024-09-28",
          "2024-09-29",
          "2024-09-30",
          "2024-10-01",
          "2024-10-02",
          "2024-10-03",
          "2024-10-04",
          "2024-10-05",
          "2024-10-06",
          "2024-10-07",
          "2024-10-08",
          "2024-10-09",
          "2024-10-10",
          "2024-10-11",
          "2024-10-12",
          "2024-10-13",
          "2024-10-14",
          "2024-10-15",
          "2024-10-16",
          "2024-10-17",
          "2024-10-18",
          "2024-10-19",
          "2024-10-20",
          "2024-10-21",
          "2024-10-22",
          "2024-10-23",
          "2024-10-24",
          "2024-10-25",
          "2024-10-27",
          "2024-10-28",
          "2024-10-29",
          "2024-10-30",
          "2024-10-31",
          "2024-11-01",
          "2024-11-02",
          "2024-11-03",
          "2024-11-04",
          "2024-11-05",
          "2024-11-06",
          "2024-11-07",
          "2024-11-08",
          "2024-11-09",
          "2024-11-10",
          "2024-11-11",
          "2024-11-12",
          "2024-11-13",
          "2024-11-14",
          "2024-11-15",
          "2024-11-16",
          "2024-11-17",
          "2024-11-18",
          "2024-11-19",
          "2024-11-20",
          "2024-11-21",
          "2024-11-22",
          "2024-11-23",
          "2024-11-24",
          "2024-11-25",
          "2024-11-26",
          "2024-11-27",
          "2024-11-28",
          "2024-11-29",
          "2024-11-30",
          "2024-12-01",
          "2024-12-02",
          "2024-12-03",
          "2024-12-04",
          "2024-12-05"
         ],
         "y": [
          4,
          4,
          5.207106781186548,
          3,
          4,
          4,
          3.5,
          5,
          4.207499666399733,
          5.207106781186548,
          4.103553390593274,
          3.603553390593274,
          4.910683602522958,
          5.207106781186548,
          3,
          4,
          3.9789125638299665,
          4.947722557505166,
          4.125,
          4.321484724300046,
          3.9219232959946373,
          3.959719659687874,
          3.5,
          4,
          3.8183300132670377,
          3.8416198487095663,
          4.038675134594813,
          4.294427190999916,
          4.097095949159307,
          3.8954972243679027,
          3.908248290463863,
          4.4637350903146595,
          4.6477225575051655,
          4.168330013267038,
          4.122008467928146,
          4.125,
          4.116025403784438,
          4.018330013267038,
          4.57491495713053,
          4.616025403784438,
          4.125,
          4.073861278752583,
          4,
          4.6477225575051655,
          4,
          4.103553390593274,
          4.93042928249264,
          3.5,
          4,
          4.910683602522958,
          4.103553390593274,
          4.122008467928146,
          4.910683602522958,
          4,
          3,
          4.103553390593274,
          4,
          2.603553390593274,
          4,
          4.414213562373095,
          4,
          4,
          5.207106781186548,
          4.122008467928146,
          4,
          5,
          4,
          3.5,
          4,
          4,
          4,
          5.207106781186548,
          4.103553390593274,
          5.207106781186548,
          4,
          3.603553390593274,
          4.122008467928146,
          5,
          4,
          3.5,
          4,
          4,
          4,
          4.122008467928146,
          4,
          4,
          4,
          4,
          4.93042928249264,
          4,
          4.103553390593274,
          4.103713553878169,
          4.994427190999915,
          5.310660171779821,
          5.207106781186548,
          5.207106781186548,
          4.103553390593274,
          4.707106781186548,
          4.122008467928146,
          4.103553390593274,
          4,
          3.5,
          4,
          4,
          5.310660171779821,
          4,
          5,
          3.5,
          4,
          5.733677891304173,
          4.93042928249264,
          5.310660171779821,
          4,
          4,
          3.955341801261479,
          3.603553390593274,
          4.103553390593274,
          4.103553390593274,
          4.75,
          6.207106781186548,
          5.207106781186548,
          4.93042928249264,
          3.625,
          4.6477225575051655,
          4.122008467928146,
          3.853553390593274,
          4.120790811898598,
          3.853713553878169,
          4,
          4.023861278752583,
          4.75,
          4.93042928249264,
          4.217707656046527,
          5.244016935856292,
          5.25,
          4.125,
          4.366025403784438,
          3.955341801261479,
          4.728912563829967,
          3.603713553878169,
          4,
          3.8183300132670377,
          3.5,
          3,
          4,
          4.103553390593274,
          4,
          4,
          4,
          4.122008467928146,
          4.02082161586637,
          4.103553390593274,
          3.955341801261479,
          3.622008467928146,
          4.038675134594813,
          4.125,
          4,
          3.603553390593274,
          4,
          4.103553390593274,
          4.244016935856292,
          3.973861278752583,
          4.603553390593274,
          4,
          4.103553390593274,
          4.683064446160989,
          4.5,
          4,
          5,
          4.728912563829967,
          4,
          4.122008467928146,
          4.122008467928146,
          4.073861278752583,
          4.122008467928146,
          4.75,
          4.810660171779821,
          5.207106781186548,
          4.841619848709566,
          4.45534180126148,
          4.414213562373095,
          4.622008467928146,
          4.103553390593274,
          4.458287544405155,
          4,
          4.45534180126148,
          4.103553390593274,
          4.123606797749979,
          4.45534180126148,
          4.103553390593274,
          4.622008467928146,
          3.5,
          4,
          4.103553390593274,
          4.5,
          4.45534180126148,
          4.103713553878169,
          4.603713553878169,
          4,
          4.5,
          4,
          4.103553390593274,
          4.5,
          5.097095949159306,
          4.5,
          4.667855930558339,
          4.910683602522958,
          4.341619848709566,
          4.073861278752583,
          4.018330013267038,
          4.125,
          3.5,
          3.8236067977499792,
          3.955341801261479,
          4,
          4.5,
          4.122008467928146,
          4.45534180126148,
          4.770087712549569,
          4.058287544405155,
          4.75,
          4.038675134594813,
          3.973861278752583,
          4.247213595499958,
          5.103553390593274,
          4,
          3.622008467928146,
          3.518330013267038,
          3.375,
          3.8236067977499792,
          3.2415816237971966,
          3.955341801261479,
          4.538675134594813,
          3.5,
          3.5,
          3.955341801261479,
          3.955341801261479,
          3.875,
          4.122008467928146,
          4.316496580927726,
          3.955341801261479,
          4.447722557505166,
          4,
          4,
          3.43042928249264,
          3.5773502691896257,
          4.207499666399733,
          3.603553390593274,
          4.038675134594813,
          3.5,
          3.622008467928146,
          4.168330013267038,
          4.127964473009227,
          4.103553390593274,
          4.707106781186548,
          3.955341801261479,
          4.073861278752583,
          4.202235750759981,
          4.3700877125495685,
          4.352660995228127,
          4.122008467928146,
          4.6472135954999585,
          4.122008467928146,
          4.103553390593274,
          4,
          4,
          4.447722557505166,
          4.478912563829967,
          3.955341801261479,
          4.0915322230804945,
          4.122008467928146,
          4.038675134594813,
          4.504152869605896,
          3.908248290463863,
          4.408248290463863,
          4.447722557505166,
          4.45534180126148,
          4.103553390593274,
          4.168330013267038,
          4.125,
          4.908248290463863,
          4.10111787537999,
          3.853553390593274,
          3.955341801261479,
          3.955341801261479,
          4.103713553878169,
          4.338823754260148,
          4.038675134594813,
          4.023861278752583,
          4.251920240520265,
          4.073861278752583,
          4.179112181949007,
          4,
          4.073861278752583,
          4,
          4.122008467928146,
          4.122008467928146,
          4.103553390593274,
          4.103713553878169,
          4.122008467928146,
          4.073861278752583,
          4.375,
          4.122008467928146,
          3.955341801261479,
          4,
          4.122008467928146,
          4,
          4,
          4.038675134594813,
          4.168330013267038,
          3.853553390593274,
          4.122008467928146,
          3.875,
          4,
          4,
          4.241581623797196,
          4.504152869605896,
          4,
          4,
          4.168330013267038,
          4.073861278752583,
          4.603713553878169,
          4.473861278752583,
          4.622008467928146,
          4,
          4.707106781186548,
          4.504152869605896,
          4.25,
          4.074914957130529,
          3.875,
          4.349731112827656,
          4.241581623797196,
          4.504152869605896,
          4.123606797749979,
          4.073861278752583,
          4,
          4.395497224367903,
          4.077350269189626,
          4.447213595499958,
          4.707106781186548,
          4.038675134594813,
          4.470820393249936,
          4.447722557505166,
          4.5,
          4.168330013267038,
          4.353713553878169,
          4.6472135954999585,
          4.408248290463863,
          4.45534180126148,
          4.287457478565265,
          4.603553390593274,
          4.408262706791754,
          4.125,
          4.038675134594813,
          4.408262706791754,
          3.955341801261479,
          4.408248290463863,
          4.103713553878169,
          3.8183300132670377,
          3.959719659687874,
          4.1472135954999585,
          4.123606797749979,
          4.353553390593274,
          4.038675134594813,
          4.122008467928146,
          4.123606797749979,
          4.603553390593274,
          4.103713553878169,
          3.875,
          4.25,
          4.244016935856292,
          4.103713553878169,
          4.244016935856292,
          4.125,
          4.5,
          4.123606797749979,
          4.45534180126148,
          4.293052993021207,
          4.603553390593274,
          4.168330013267038,
          4.038675134594813,
          4.125,
          4,
          4.5,
          4.353553390593274,
          4.375,
          4.274596669241483,
          4,
          4.122008467928146,
          4.122008467928146,
          4.518330013267038,
          4.538675134594813,
          4.622008467928146,
          4.122008467928146,
          4.603553390593274,
          4.410683602522959,
          4.038675134594813,
          4.538675134594813,
          3.916461351099749,
          4.45534180126148,
          4.408248290463863,
          4.125,
          4.408248290463863,
          4.122008467928146,
          4.603553390593274,
          4.103713553878169,
          4.122008467928146,
          4.103713553878169,
          4.551920240520265,
          4.473861278752583,
          4.408248290463863,
          4.001189263891673,
          5.103713553878169,
          4.125,
          4.103553390593274,
          4,
          4.038675134594813,
          4,
          4.408248290463863,
          4.5,
          4.95534180126148,
          4.603553390593274,
          4.459719659687874,
          4.122008467928146,
          4.538675134594813,
          4.473861278752583,
          4.408248290463863,
          4,
          4.603553390593274,
          4.597095949159307,
          4.038675134594813,
          4.45534180126148,
          4.293052993021207,
          4.603553390593274,
          4.625,
          4.353553390593274,
          4.45534180126148,
          4.410683602522959,
          4.323606797749979,
          3.5,
          4.707106781186548,
          4.603553390593274,
          4.5,
          3.603553390593274,
          4.288675134594813,
          4.123606797749979,
          4.103553390593274,
          4.123606797749979,
          4.3700877125495685,
          4.103553390593274,
          4.54164323173274,
          4,
          4.125,
          4.038675134594813,
          3.603553390593274,
          4.25,
          4.408248290463863,
          4.103553390593274,
          4.125,
          4.518330013267038,
          4.103553390593274,
          4.103553390593274,
          4.073861278752583,
          4,
          4.103713553878169,
          4.103553390593274,
          3.870087712549569,
          4.122008467928146,
          3.5,
          4,
          4.073861278752583,
          4.207106781186548,
          4,
          4.353713553878169,
          2,
          4.125,
          4.5,
          4.318330013267038,
          4.038675134594813,
          4.272196737486165,
          4,
          4.038675134594813,
          3.955341801261479,
          4.5,
          3.955341801261479,
          4.038675134594813,
          4.122008467928146,
          4,
          4.125,
          4.538675134594813,
          4.5,
          3.603553390593274,
          4.112372435695795,
          3.5,
          4.603553390593274,
          4.45534180126148,
          4.84979671773064,
          4.5,
          4,
          3.622008467928146,
          3.603553390593274,
          4.5,
          4.125,
          4.481546956198139,
          4.353713553878169,
          4,
          4.577350269189626,
          4.103553390593274,
          4,
          4.603553390593274,
          4.25,
          3.875,
          4.538675134594813,
          4.073861278752583,
          4.103553390593274,
          4.125,
          4.316227766016838,
          4.5,
          4.473861278752583,
          4.073861278752583,
          4.5,
          3.955341801261479,
          4.103553390593274
         ]
        },
        {
         "fill": "tonexty",
         "fillcolor": "rgba(130, 130, 130, 0.45)",
         "line": {
          "width": 0
         },
         "marker": {
          "color": "#444"
         },
         "mode": "lines",
         "name": "avg-std",
         "showlegend": false,
         "type": "scatter",
         "x": [
          "2023-07-01",
          "2023-07-02",
          "2023-07-03",
          "2023-07-04",
          "2023-07-05",
          "2023-07-06",
          "2023-07-07",
          "2023-07-08",
          "2023-07-09",
          "2023-07-10",
          "2023-07-11",
          "2023-07-12",
          "2023-07-13",
          "2023-07-14",
          "2023-07-15",
          "2023-07-16",
          "2023-07-17",
          "2023-07-18",
          "2023-07-19",
          "2023-07-20",
          "2023-07-21",
          "2023-07-22",
          "2023-07-23",
          "2023-07-24",
          "2023-07-25",
          "2023-07-26",
          "2023-07-27",
          "2023-07-28",
          "2023-07-29",
          "2023-07-30",
          "2023-07-31",
          "2023-08-01",
          "2023-08-02",
          "2023-08-03",
          "2023-08-04",
          "2023-08-05",
          "2023-08-06",
          "2023-08-07",
          "2023-08-08",
          "2023-08-09",
          "2023-08-10",
          "2023-08-11",
          "2023-08-12",
          "2023-08-13",
          "2023-08-14",
          "2023-08-15",
          "2023-08-16",
          "2023-08-17",
          "2023-08-18",
          "2023-08-19",
          "2023-08-20",
          "2023-08-21",
          "2023-08-22",
          "2023-08-23",
          "2023-08-24",
          "2023-08-25",
          "2023-08-26",
          "2023-08-27",
          "2023-08-28",
          "2023-08-29",
          "2023-08-30",
          "2023-08-31",
          "2023-09-01",
          "2023-09-02",
          "2023-09-03",
          "2023-09-04",
          "2023-09-05",
          "2023-09-06",
          "2023-09-07",
          "2023-09-08",
          "2023-09-09",
          "2023-09-10",
          "2023-09-11",
          "2023-09-12",
          "2023-09-13",
          "2023-09-14",
          "2023-09-15",
          "2023-09-16",
          "2023-09-17",
          "2023-09-18",
          "2023-09-19",
          "2023-09-20",
          "2023-09-21",
          "2023-09-22",
          "2023-09-23",
          "2023-09-24",
          "2023-09-25",
          "2023-09-26",
          "2023-09-27",
          "2023-09-28",
          "2023-09-29",
          "2023-09-30",
          "2023-10-01",
          "2023-10-02",
          "2023-10-03",
          "2023-10-04",
          "2023-10-05",
          "2023-10-06",
          "2023-10-07",
          "2023-10-08",
          "2023-10-09",
          "2023-10-10",
          "2023-10-11",
          "2023-10-12",
          "2023-10-13",
          "2023-10-14",
          "2023-10-15",
          "2023-10-16",
          "2023-10-17",
          "2023-10-18",
          "2023-10-19",
          "2023-10-20",
          "2023-10-21",
          "2023-10-22",
          "2023-10-23",
          "2023-10-24",
          "2023-10-25",
          "2023-10-26",
          "2023-10-27",
          "2023-10-28",
          "2023-10-29",
          "2023-10-30",
          "2023-10-31",
          "2023-11-01",
          "2023-11-02",
          "2023-11-03",
          "2023-11-04",
          "2023-11-05",
          "2023-11-06",
          "2023-11-07",
          "2023-11-08",
          "2023-11-09",
          "2023-11-10",
          "2023-11-11",
          "2023-11-12",
          "2023-11-13",
          "2023-11-14",
          "2023-11-15",
          "2023-11-16",
          "2023-11-17",
          "2023-11-18",
          "2023-11-19",
          "2023-11-20",
          "2023-11-21",
          "2023-11-22",
          "2023-11-23",
          "2023-11-24",
          "2023-11-25",
          "2023-11-26",
          "2023-11-27",
          "2023-11-28",
          "2023-11-29",
          "2023-11-30",
          "2023-12-01",
          "2023-12-02",
          "2023-12-03",
          "2023-12-04",
          "2023-12-05",
          "2023-12-06",
          "2023-12-07",
          "2023-12-08",
          "2023-12-09",
          "2023-12-10",
          "2023-12-11",
          "2023-12-12",
          "2023-12-13",
          "2023-12-14",
          "2023-12-15",
          "2023-12-16",
          "2023-12-17",
          "2023-12-18",
          "2023-12-19",
          "2023-12-20",
          "2023-12-21",
          "2023-12-22",
          "2023-12-23",
          "2023-12-24",
          "2023-12-25",
          "2023-12-26",
          "2023-12-27",
          "2023-12-28",
          "2023-12-29",
          "2023-12-30",
          "2023-12-31",
          "2024-01-01",
          "2024-01-02",
          "2024-01-03",
          "2024-01-04",
          "2024-01-05",
          "2024-01-06",
          "2024-01-07",
          "2024-01-08",
          "2024-01-09",
          "2024-01-10",
          "2024-01-11",
          "2024-01-12",
          "2024-01-13",
          "2024-01-14",
          "2024-01-15",
          "2024-01-16",
          "2024-01-17",
          "2024-01-18",
          "2024-01-19",
          "2024-01-20",
          "2024-01-21",
          "2024-01-22",
          "2024-01-23",
          "2024-01-24",
          "2024-01-25",
          "2024-01-26",
          "2024-01-27",
          "2024-01-28",
          "2024-01-29",
          "2024-01-30",
          "2024-01-31",
          "2024-02-01",
          "2024-02-02",
          "2024-02-03",
          "2024-02-04",
          "2024-02-05",
          "2024-02-06",
          "2024-02-07",
          "2024-02-08",
          "2024-02-09",
          "2024-02-10",
          "2024-02-11",
          "2024-02-12",
          "2024-02-13",
          "2024-02-14",
          "2024-02-15",
          "2024-02-16",
          "2024-02-17",
          "2024-02-18",
          "2024-02-19",
          "2024-02-20",
          "2024-02-21",
          "2024-02-22",
          "2024-02-23",
          "2024-02-24",
          "2024-02-25",
          "2024-02-26",
          "2024-02-27",
          "2024-02-28",
          "2024-02-29",
          "2024-03-01",
          "2024-03-02",
          "2024-03-03",
          "2024-03-04",
          "2024-03-05",
          "2024-03-06",
          "2024-03-07",
          "2024-03-08",
          "2024-03-09",
          "2024-03-10",
          "2024-03-11",
          "2024-03-12",
          "2024-03-13",
          "2024-03-14",
          "2024-03-15",
          "2024-03-16",
          "2024-03-17",
          "2024-03-18",
          "2024-03-19",
          "2024-03-20",
          "2024-03-21",
          "2024-03-22",
          "2024-03-23",
          "2024-03-24",
          "2024-03-25",
          "2024-03-26",
          "2024-03-27",
          "2024-03-28",
          "2024-03-29",
          "2024-03-30",
          "2024-03-31",
          "2024-04-01",
          "2024-04-02",
          "2024-04-03",
          "2024-04-04",
          "2024-04-05",
          "2024-04-06",
          "2024-04-07",
          "2024-04-08",
          "2024-04-09",
          "2024-04-10",
          "2024-04-11",
          "2024-04-12",
          "2024-04-13",
          "2024-04-14",
          "2024-04-15",
          "2024-04-16",
          "2024-04-17",
          "2024-04-18",
          "2024-04-19",
          "2024-04-20",
          "2024-04-21",
          "2024-04-22",
          "2024-04-23",
          "2024-04-24",
          "2024-04-25",
          "2024-04-26",
          "2024-04-27",
          "2024-04-28",
          "2024-04-29",
          "2024-04-30",
          "2024-05-01",
          "2024-05-02",
          "2024-05-03",
          "2024-05-04",
          "2024-05-05",
          "2024-05-06",
          "2024-05-07",
          "2024-05-08",
          "2024-05-09",
          "2024-05-10",
          "2024-05-11",
          "2024-05-12",
          "2024-05-13",
          "2024-05-14",
          "2024-05-15",
          "2024-05-16",
          "2024-05-17",
          "2024-05-18",
          "2024-05-19",
          "2024-05-20",
          "2024-05-21",
          "2024-05-22",
          "2024-05-23",
          "2024-05-24",
          "2024-05-25",
          "2024-05-26",
          "2024-05-27",
          "2024-05-28",
          "2024-05-29",
          "2024-05-30",
          "2024-05-31",
          "2024-06-01",
          "2024-06-02",
          "2024-06-03",
          "2024-06-04",
          "2024-06-05",
          "2024-06-06",
          "2024-06-07",
          "2024-06-08",
          "2024-06-09",
          "2024-06-10",
          "2024-06-11",
          "2024-06-12",
          "2024-06-13",
          "2024-06-14",
          "2024-06-15",
          "2024-06-16",
          "2024-06-17",
          "2024-06-18",
          "2024-06-19",
          "2024-06-20",
          "2024-06-21",
          "2024-06-22",
          "2024-06-23",
          "2024-06-24",
          "2024-06-25",
          "2024-06-26",
          "2024-06-27",
          "2024-06-28",
          "2024-06-29",
          "2024-06-30",
          "2024-07-01",
          "2024-07-02",
          "2024-07-03",
          "2024-07-04",
          "2024-07-05",
          "2024-07-06",
          "2024-07-07",
          "2024-07-08",
          "2024-07-09",
          "2024-07-10",
          "2024-07-11",
          "2024-07-12",
          "2024-07-13",
          "2024-07-14",
          "2024-07-15",
          "2024-07-16",
          "2024-07-17",
          "2024-07-18",
          "2024-07-19",
          "2024-07-20",
          "2024-07-21",
          "2024-07-22",
          "2024-07-23",
          "2024-07-24",
          "2024-07-25",
          "2024-07-26",
          "2024-07-27",
          "2024-07-28",
          "2024-07-29",
          "2024-07-30",
          "2024-07-31",
          "2024-08-01",
          "2024-08-02",
          "2024-08-03",
          "2024-08-04",
          "2024-08-05",
          "2024-08-06",
          "2024-08-07",
          "2024-08-08",
          "2024-08-09",
          "2024-08-10",
          "2024-08-11",
          "2024-08-12",
          "2024-08-13",
          "2024-08-14",
          "2024-08-15",
          "2024-08-16",
          "2024-08-17",
          "2024-08-18",
          "2024-08-19",
          "2024-08-20",
          "2024-08-21",
          "2024-08-22",
          "2024-08-23",
          "2024-08-24",
          "2024-08-25",
          "2024-08-26",
          "2024-08-27",
          "2024-08-28",
          "2024-08-29",
          "2024-08-30",
          "2024-08-31",
          "2024-09-01",
          "2024-09-02",
          "2024-09-03",
          "2024-09-04",
          "2024-09-05",
          "2024-09-06",
          "2024-09-07",
          "2024-09-08",
          "2024-09-09",
          "2024-09-10",
          "2024-09-11",
          "2024-09-12",
          "2024-09-13",
          "2024-09-14",
          "2024-09-15",
          "2024-09-16",
          "2024-09-17",
          "2024-09-18",
          "2024-09-19",
          "2024-09-20",
          "2024-09-21",
          "2024-09-22",
          "2024-09-23",
          "2024-09-24",
          "2024-09-25",
          "2024-09-26",
          "2024-09-27",
          "2024-09-28",
          "2024-09-29",
          "2024-09-30",
          "2024-10-01",
          "2024-10-02",
          "2024-10-03",
          "2024-10-04",
          "2024-10-05",
          "2024-10-06",
          "2024-10-07",
          "2024-10-08",
          "2024-10-09",
          "2024-10-10",
          "2024-10-11",
          "2024-10-12",
          "2024-10-13",
          "2024-10-14",
          "2024-10-15",
          "2024-10-16",
          "2024-10-17",
          "2024-10-18",
          "2024-10-19",
          "2024-10-20",
          "2024-10-21",
          "2024-10-22",
          "2024-10-23",
          "2024-10-24",
          "2024-10-25",
          "2024-10-27",
          "2024-10-28",
          "2024-10-29",
          "2024-10-30",
          "2024-10-31",
          "2024-11-01",
          "2024-11-02",
          "2024-11-03",
          "2024-11-04",
          "2024-11-05",
          "2024-11-06",
          "2024-11-07",
          "2024-11-08",
          "2024-11-09",
          "2024-11-10",
          "2024-11-11",
          "2024-11-12",
          "2024-11-13",
          "2024-11-14",
          "2024-11-15",
          "2024-11-16",
          "2024-11-17",
          "2024-11-18",
          "2024-11-19",
          "2024-11-20",
          "2024-11-21",
          "2024-11-22",
          "2024-11-23",
          "2024-11-24",
          "2024-11-25",
          "2024-11-26",
          "2024-11-27",
          "2024-11-28",
          "2024-11-29",
          "2024-11-30",
          "2024-12-01",
          "2024-12-02",
          "2024-12-03",
          "2024-12-04",
          "2024-12-05"
         ],
         "y": [
          4,
          4,
          3.7928932188134525,
          3,
          4,
          4,
          3.5,
          3,
          2.1258336669336,
          3.7928932188134525,
          3.396446609406726,
          2.896446609406726,
          3.7559830641437073,
          3.7928932188134525,
          3,
          4,
          2.2710874361700335,
          3.8522774424948345,
          2.625,
          2.4285152756999544,
          2.649505275433934,
          3.206947006978793,
          3.5,
          3,
          2.981669986732962,
          2.358380151290434,
          3.461324865405187,
          2.505572809000084,
          2.56957071750736,
          2.6045027756320973,
          3.091751709536137,
          3.1612649096853405,
          3.552277442494834,
          3.331669986732962,
          3.544658198738521,
          3.625,
          2.3839745962155616,
          3.1816699867329623,
          3.758418376202804,
          2.8839745962155616,
          3.625,
          3.526138721247417,
          4,
          3.552277442494834,
          4,
          3.396446609406726,
          3.402904050840694,
          3.5,
          4,
          3.7559830641437073,
          3.396446609406726,
          3.544658198738521,
          3.7559830641437073,
          4,
          3,
          3.396446609406726,
          4,
          1.8964466094067263,
          4,
          1.5857864376269049,
          4,
          4,
          3.7928932188134525,
          3.544658198738521,
          4,
          5,
          4,
          3.5,
          4,
          4,
          4,
          3.7928932188134525,
          3.396446609406726,
          3.7928932188134525,
          4,
          2.896446609406726,
          3.544658198738521,
          5,
          4,
          3.5,
          4,
          4,
          4,
          3.544658198738521,
          4,
          4,
          4,
          4,
          3.402904050840694,
          4,
          3.396446609406726,
          3.146286446121831,
          3.205572809000084,
          3.189339828220179,
          3.7928932188134525,
          3.7928932188134525,
          3.396446609406726,
          3.2928932188134525,
          3.544658198738521,
          3.396446609406726,
          4,
          3.5,
          4,
          4,
          3.189339828220179,
          4,
          5,
          3.5,
          4,
          3.516322108695827,
          3.402904050840694,
          3.189339828220179,
          4,
          4,
          3.377991532071854,
          2.896446609406726,
          3.396446609406726,
          3.396446609406726,
          3.75,
          4.792893218813452,
          3.7928932188134525,
          3.402904050840694,
          3.125,
          3.552277442494834,
          3.544658198738521,
          3.146446609406726,
          3.712542521434735,
          2.896286446121831,
          3,
          3.476138721247417,
          3.75,
          3.402904050840694,
          2.6156256772868054,
          4.089316397477042,
          4.25,
          3.625,
          2.6339745962155616,
          3.377991532071854,
          3.0210874361700335,
          2.646286446121831,
          4,
          2.981669986732962,
          3.5,
          3,
          4,
          3.396446609406726,
          4,
          4,
          4,
          3.544658198738521,
          3.2648926698479155,
          3.396446609406726,
          3.377991532071854,
          3.044658198738521,
          3.461324865405187,
          3.625,
          4,
          2.896446609406726,
          4,
          3.396446609406726,
          3.089316397477041,
          3.4261387212474173,
          3.896446609406726,
          4,
          3.396446609406726,
          3.6502688871723445,
          3.5,
          4,
          5,
          3.0210874361700335,
          4,
          3.544658198738521,
          3.544658198738521,
          3.526138721247417,
          3.544658198738521,
          3.75,
          2.689339828220179,
          3.7928932188134525,
          3.3583801512904334,
          3.877991532071854,
          1.5857864376269049,
          4.04465819873852,
          3.396446609406726,
          2.9417124555948453,
          4,
          3.877991532071854,
          3.396446609406726,
          3.6763932022500208,
          3.877991532071854,
          3.396446609406726,
          4.04465819873852,
          3.5,
          4,
          3.396446609406726,
          3.5,
          3.877991532071854,
          3.146286446121831,
          3.646286446121831,
          4,
          3.5,
          4,
          3.396446609406726,
          4.5,
          3.56957071750736,
          4.5,
          3.498810736108327,
          3.7559830641437073,
          2.858380151290434,
          3.526138721247417,
          3.1816699867329623,
          3.625,
          3.5,
          3.376393202250021,
          3.377991532071854,
          3,
          3.5,
          3.544658198738521,
          3.877991532071854,
          3.629912287450431,
          2.541712455594845,
          3.75,
          3.461324865405187,
          3.4261387212474173,
          3.352786404500042,
          4.396446609406726,
          4,
          3.044658198738521,
          2.6816699867329623,
          2.875,
          3.376393202250021,
          2.4250850428694704,
          3.377991532071854,
          3.961324865405187,
          3.5,
          3.5,
          3.377991532071854,
          3.377991532071854,
          2.375,
          3.544658198738521,
          2.6835034190722737,
          3.377991532071854,
          3.3522774424948336,
          4,
          3,
          1.9029040508406931,
          2.4226497308103743,
          2.1258336669336,
          2.896446609406726,
          3.461324865405187,
          3.5,
          3.044658198738521,
          3.331669986732962,
          3.3720355269907727,
          3.396446609406726,
          3.2928932188134525,
          3.377991532071854,
          3.526138721247417,
          3.2263356778114476,
          3.2299122874504307,
          3.218767576200445,
          3.544658198738521,
          3.7527864045000423,
          3.544658198738521,
          3.396446609406726,
          4,
          4,
          3.3522774424948336,
          2.7710874361700335,
          3.377991532071854,
          3.5751344435861725,
          3.544658198738521,
          3.461324865405187,
          3.2458471303941043,
          3.091751709536137,
          3.591751709536137,
          3.3522774424948336,
          3.877991532071854,
          3.396446609406726,
          3.331669986732962,
          3.625,
          4.091751709536137,
          3.613167838905724,
          3.146446609406726,
          3.377991532071854,
          3.377991532071854,
          3.146286446121831,
          2.7861762457398513,
          3.461324865405187,
          3.476138721247417,
          2.948079759479735,
          3.526138721247417,
          3.392316389479564,
          4,
          3.526138721247417,
          4,
          3.544658198738521,
          3.544658198738521,
          3.396446609406726,
          3.146286446121831,
          3.544658198738521,
          3.526138721247417,
          3.875,
          3.544658198738521,
          3.377991532071854,
          4,
          3.544658198738521,
          4,
          3,
          3.461324865405187,
          3.331669986732962,
          3.146446609406726,
          3.544658198738521,
          3.375,
          4,
          4,
          3.4250850428694704,
          3.2458471303941043,
          4,
          4,
          3.331669986732962,
          3.526138721247417,
          3.646286446121831,
          3.9261387212474173,
          4.04465819873852,
          4,
          3.2928932188134525,
          3.2458471303941043,
          3.25,
          3.2584183762028034,
          3.375,
          3.316935553839011,
          3.4250850428694704,
          3.2458471303941043,
          3.6763932022500208,
          3.526138721247417,
          3,
          3.1045027756320973,
          2.9226497308103743,
          3.552786404500042,
          3.2928932188134525,
          3.461324865405187,
          3.129179606750063,
          3.3522774424948336,
          3.5,
          3.331669986732962,
          3.396286446121831,
          3.7527864045000423,
          3.591751709536137,
          3.877991532071854,
          3.8792091881014015,
          3.896446609406726,
          3.425070626541579,
          3.625,
          3.461324865405187,
          3.425070626541579,
          3.377991532071854,
          3.591751709536137,
          3.146286446121831,
          2.981669986732962,
          3.206947006978793,
          3.2527864045000423,
          3.6763932022500208,
          3.646446609406726,
          3.461324865405187,
          3.544658198738521,
          3.6763932022500208,
          3.896446609406726,
          3.146286446121831,
          3.375,
          3.25,
          3.089316397477041,
          3.146286446121831,
          3.089316397477041,
          3.625,
          3.5,
          3.6763932022500208,
          3.877991532071854,
          3.540280340312126,
          3.896446609406726,
          3.331669986732962,
          3.461324865405187,
          3.625,
          4,
          3.5,
          3.646446609406726,
          3.875,
          2.7254033307585166,
          4,
          3.544658198738521,
          3.544658198738521,
          3.681669986732962,
          3.961324865405187,
          4.04465819873852,
          3.544658198738521,
          3.896446609406726,
          3.2559830641437078,
          3.461324865405187,
          3.961324865405187,
          3.2263957917573944,
          3.877991532071854,
          3.591751709536137,
          3.625,
          3.591751709536137,
          3.544658198738521,
          3.896446609406726,
          3.146286446121831,
          3.544658198738521,
          3.146286446121831,
          3.248079759479735,
          3.9261387212474173,
          3.591751709536137,
          2.8321440694416604,
          4.146286446121831,
          3.625,
          3.396446609406726,
          4,
          3.461324865405187,
          4,
          3.591751709536137,
          4.5,
          4.377991532071854,
          3.896446609406726,
          3.7069470069787926,
          3.544658198738521,
          3.961324865405187,
          3.9261387212474173,
          3.591751709536137,
          4,
          3.896446609406726,
          3.06957071750736,
          3.461324865405187,
          3.877991532071854,
          3.540280340312126,
          3.896446609406726,
          4.125,
          3.646446609406726,
          3.877991532071854,
          3.2559830641437078,
          3.8763932022500205,
          3.5,
          3.2928932188134525,
          3.896446609406726,
          3.5,
          2.896446609406726,
          3.711324865405187,
          3.6763932022500208,
          3.396446609406726,
          3.6763932022500208,
          3.2299122874504307,
          3.396446609406726,
          3.029785339695831,
          4,
          3.625,
          3.461324865405187,
          2.896446609406726,
          3.25,
          3.591751709536137,
          3.396446609406726,
          3.625,
          3.681669986732962,
          3.396446609406726,
          3.396446609406726,
          3.526138721247417,
          4,
          3.146286446121831,
          3.396446609406726,
          2.7299122874504307,
          3.544658198738521,
          3.5,
          4,
          3.526138721247417,
          2.7928932188134525,
          4,
          3.396286446121831,
          2,
          3.625,
          4.5,
          3.481669986732962,
          3.461324865405187,
          3.0611365958471684,
          4,
          3.461324865405187,
          3.377991532071854,
          3.5,
          3.377991532071854,
          3.461324865405187,
          3.544658198738521,
          4,
          3.625,
          3.961324865405187,
          4.5,
          2.896446609406726,
          2.8876275643042053,
          3.5,
          3.896446609406726,
          3.877991532071854,
          3.4835366156026937,
          3.5,
          4,
          3.044658198738521,
          2.896446609406726,
          4.5,
          3.625,
          3.94702447237329,
          3.396286446121831,
          4,
          3.4226497308103743,
          3.396446609406726,
          4,
          3.896446609406726,
          3.25,
          3.375,
          3.961324865405187,
          3.526138721247417,
          3.396446609406726,
          3.625,
          3.683772233983162,
          3.5,
          3.9261387212474173,
          3.526138721247417,
          3.5,
          3.377991532071854,
          3.396446609406726
         ]
        }
       ],
       "layout": {
        "hovermode": "x",
        "showlegend": false,
        "template": {
         "data": {
          "bar": [
           {
            "error_x": {
             "color": "#f2f5fa"
            },
            "error_y": {
             "color": "#f2f5fa"
            },
            "marker": {
             "line": {
              "color": "rgb(17,17,17)",
              "width": 0.5
             },
             "pattern": {
              "fillmode": "overlay",
              "size": 10,
              "solidity": 0.2
             }
            },
            "type": "bar"
           }
          ],
          "barpolar": [
           {
            "marker": {
             "line": {
              "color": "rgb(17,17,17)",
              "width": 0.5
             },
             "pattern": {
              "fillmode": "overlay",
              "size": 10,
              "solidity": 0.2
             }
            },
            "type": "barpolar"
           }
          ],
          "carpet": [
           {
            "aaxis": {
             "endlinecolor": "#A2B1C6",
             "gridcolor": "#506784",
             "linecolor": "#506784",
             "minorgridcolor": "#506784",
             "startlinecolor": "#A2B1C6"
            },
            "baxis": {
             "endlinecolor": "#A2B1C6",
             "gridcolor": "#506784",
             "linecolor": "#506784",
             "minorgridcolor": "#506784",
             "startlinecolor": "#A2B1C6"
            },
            "type": "carpet"
           }
          ],
          "choropleth": [
           {
            "colorbar": {
             "outlinewidth": 0,
             "ticks": ""
            },
            "type": "choropleth"
           }
          ],
          "contour": [
           {
            "colorbar": {
             "outlinewidth": 0,
             "ticks": ""
            },
            "colorscale": [
             [
              0,
              "#0d0887"
             ],
             [
              0.1111111111111111,
              "#46039f"
             ],
             [
              0.2222222222222222,
              "#7201a8"
             ],
             [
              0.3333333333333333,
              "#9c179e"
             ],
             [
              0.4444444444444444,
              "#bd3786"
             ],
             [
              0.5555555555555556,
              "#d8576b"
             ],
             [
              0.6666666666666666,
              "#ed7953"
             ],
             [
              0.7777777777777778,
              "#fb9f3a"
             ],
             [
              0.8888888888888888,
              "#fdca26"
             ],
             [
              1,
              "#f0f921"
             ]
            ],
            "type": "contour"
           }
          ],
          "contourcarpet": [
           {
            "colorbar": {
             "outlinewidth": 0,
             "ticks": ""
            },
            "type": "contourcarpet"
           }
          ],
          "heatmap": [
           {
            "colorbar": {
             "outlinewidth": 0,
             "ticks": ""
            },
            "colorscale": [
             [
              0,
              "#0d0887"
             ],
             [
              0.1111111111111111,
              "#46039f"
             ],
             [
              0.2222222222222222,
              "#7201a8"
             ],
             [
              0.3333333333333333,
              "#9c179e"
             ],
             [
              0.4444444444444444,
              "#bd3786"
             ],
             [
              0.5555555555555556,
              "#d8576b"
             ],
             [
              0.6666666666666666,
              "#ed7953"
             ],
             [
              0.7777777777777778,
              "#fb9f3a"
             ],
             [
              0.8888888888888888,
              "#fdca26"
             ],
             [
              1,
              "#f0f921"
             ]
            ],
            "type": "heatmap"
           }
          ],
          "heatmapgl": [
           {
            "colorbar": {
             "outlinewidth": 0,
             "ticks": ""
            },
            "colorscale": [
             [
              0,
              "#0d0887"
             ],
             [
              0.1111111111111111,
              "#46039f"
             ],
             [
              0.2222222222222222,
              "#7201a8"
             ],
             [
              0.3333333333333333,
              "#9c179e"
             ],
             [
              0.4444444444444444,
              "#bd3786"
             ],
             [
              0.5555555555555556,
              "#d8576b"
             ],
             [
              0.6666666666666666,
              "#ed7953"
             ],
             [
              0.7777777777777778,
              "#fb9f3a"
             ],
             [
              0.8888888888888888,
              "#fdca26"
             ],
             [
              1,
              "#f0f921"
             ]
            ],
            "type": "heatmapgl"
           }
          ],
          "histogram": [
           {
            "marker": {
             "pattern": {
              "fillmode": "overlay",
              "size": 10,
              "solidity": 0.2
             }
            },
            "type": "histogram"
           }
          ],
          "histogram2d": [
           {
            "colorbar": {
             "outlinewidth": 0,
             "ticks": ""
            },
            "colorscale": [
             [
              0,
              "#0d0887"
             ],
             [
              0.1111111111111111,
              "#46039f"
             ],
             [
              0.2222222222222222,
              "#7201a8"
             ],
             [
              0.3333333333333333,
              "#9c179e"
             ],
             [
              0.4444444444444444,
              "#bd3786"
             ],
             [
              0.5555555555555556,
              "#d8576b"
             ],
             [
              0.6666666666666666,
              "#ed7953"
             ],
             [
              0.7777777777777778,
              "#fb9f3a"
             ],
             [
              0.8888888888888888,
              "#fdca26"
             ],
             [
              1,
              "#f0f921"
             ]
            ],
            "type": "histogram2d"
           }
          ],
          "histogram2dcontour": [
           {
            "colorbar": {
             "outlinewidth": 0,
             "ticks": ""
            },
            "colorscale": [
             [
              0,
              "#0d0887"
             ],
             [
              0.1111111111111111,
              "#46039f"
             ],
             [
              0.2222222222222222,
              "#7201a8"
             ],
             [
              0.3333333333333333,
              "#9c179e"
             ],
             [
              0.4444444444444444,
              "#bd3786"
             ],
             [
              0.5555555555555556,
              "#d8576b"
             ],
             [
              0.6666666666666666,
              "#ed7953"
             ],
             [
              0.7777777777777778,
              "#fb9f3a"
             ],
             [
              0.8888888888888888,
              "#fdca26"
             ],
             [
              1,
              "#f0f921"
             ]
            ],
            "type": "histogram2dcontour"
           }
          ],
          "mesh3d": [
           {
            "colorbar": {
             "outlinewidth": 0,
             "ticks": ""
            },
            "type": "mesh3d"
           }
          ],
          "parcoords": [
           {
            "line": {
             "colorbar": {
              "outlinewidth": 0,
              "ticks": ""
             }
            },
            "type": "parcoords"
           }
          ],
          "pie": [
           {
            "automargin": true,
            "type": "pie"
           }
          ],
          "scatter": [
           {
            "marker": {
             "line": {
              "color": "#283442"
             }
            },
            "type": "scatter"
           }
          ],
          "scatter3d": [
           {
            "line": {
             "colorbar": {
              "outlinewidth": 0,
              "ticks": ""
             }
            },
            "marker": {
             "colorbar": {
              "outlinewidth": 0,
              "ticks": ""
             }
            },
            "type": "scatter3d"
           }
          ],
          "scattercarpet": [
           {
            "marker": {
             "colorbar": {
              "outlinewidth": 0,
              "ticks": ""
             }
            },
            "type": "scattercarpet"
           }
          ],
          "scattergeo": [
           {
            "marker": {
             "colorbar": {
              "outlinewidth": 0,
              "ticks": ""
             }
            },
            "type": "scattergeo"
           }
          ],
          "scattergl": [
           {
            "marker": {
             "line": {
              "color": "#283442"
             }
            },
            "type": "scattergl"
           }
          ],
          "scattermapbox": [
           {
            "marker": {
             "colorbar": {
              "outlinewidth": 0,
              "ticks": ""
             }
            },
            "type": "scattermapbox"
           }
          ],
          "scatterpolar": [
           {
            "marker": {
             "colorbar": {
              "outlinewidth": 0,
              "ticks": ""
             }
            },
            "type": "scatterpolar"
           }
          ],
          "scatterpolargl": [
           {
            "marker": {
             "colorbar": {
              "outlinewidth": 0,
              "ticks": ""
             }
            },
            "type": "scatterpolargl"
           }
          ],
          "scatterternary": [
           {
            "marker": {
             "colorbar": {
              "outlinewidth": 0,
              "ticks": ""
             }
            },
            "type": "scatterternary"
           }
          ],
          "surface": [
           {
            "colorbar": {
             "outlinewidth": 0,
             "ticks": ""
            },
            "colorscale": [
             [
              0,
              "#0d0887"
             ],
             [
              0.1111111111111111,
              "#46039f"
             ],
             [
              0.2222222222222222,
              "#7201a8"
             ],
             [
              0.3333333333333333,
              "#9c179e"
             ],
             [
              0.4444444444444444,
              "#bd3786"
             ],
             [
              0.5555555555555556,
              "#d8576b"
             ],
             [
              0.6666666666666666,
              "#ed7953"
             ],
             [
              0.7777777777777778,
              "#fb9f3a"
             ],
             [
              0.8888888888888888,
              "#fdca26"
             ],
             [
              1,
              "#f0f921"
             ]
            ],
            "type": "surface"
           }
          ],
          "table": [
           {
            "cells": {
             "fill": {
              "color": "#506784"
             },
             "line": {
              "color": "rgb(17,17,17)"
             }
            },
            "header": {
             "fill": {
              "color": "#2a3f5f"
             },
             "line": {
              "color": "rgb(17,17,17)"
             }
            },
            "type": "table"
           }
          ]
         },
         "layout": {
          "annotationdefaults": {
           "arrowcolor": "#f2f5fa",
           "arrowhead": 0,
           "arrowwidth": 1
          },
          "autotypenumbers": "strict",
          "coloraxis": {
           "colorbar": {
            "outlinewidth": 0,
            "ticks": ""
           }
          },
          "colorscale": {
           "diverging": [
            [
             0,
             "#8e0152"
            ],
            [
             0.1,
             "#c51b7d"
            ],
            [
             0.2,
             "#de77ae"
            ],
            [
             0.3,
             "#f1b6da"
            ],
            [
             0.4,
             "#fde0ef"
            ],
            [
             0.5,
             "#f7f7f7"
            ],
            [
             0.6,
             "#e6f5d0"
            ],
            [
             0.7,
             "#b8e186"
            ],
            [
             0.8,
             "#7fbc41"
            ],
            [
             0.9,
             "#4d9221"
            ],
            [
             1,
             "#276419"
            ]
           ],
           "sequential": [
            [
             0,
             "#0d0887"
            ],
            [
             0.1111111111111111,
             "#46039f"
            ],
            [
             0.2222222222222222,
             "#7201a8"
            ],
            [
             0.3333333333333333,
             "#9c179e"
            ],
            [
             0.4444444444444444,
             "#bd3786"
            ],
            [
             0.5555555555555556,
             "#d8576b"
            ],
            [
             0.6666666666666666,
             "#ed7953"
            ],
            [
             0.7777777777777778,
             "#fb9f3a"
            ],
            [
             0.8888888888888888,
             "#fdca26"
            ],
            [
             1,
             "#f0f921"
            ]
           ],
           "sequentialminus": [
            [
             0,
             "#0d0887"
            ],
            [
             0.1111111111111111,
             "#46039f"
            ],
            [
             0.2222222222222222,
             "#7201a8"
            ],
            [
             0.3333333333333333,
             "#9c179e"
            ],
            [
             0.4444444444444444,
             "#bd3786"
            ],
            [
             0.5555555555555556,
             "#d8576b"
            ],
            [
             0.6666666666666666,
             "#ed7953"
            ],
            [
             0.7777777777777778,
             "#fb9f3a"
            ],
            [
             0.8888888888888888,
             "#fdca26"
            ],
            [
             1,
             "#f0f921"
            ]
           ]
          },
          "colorway": [
           "#636efa",
           "#EF553B",
           "#00cc96",
           "#ab63fa",
           "#FFA15A",
           "#19d3f3",
           "#FF6692",
           "#B6E880",
           "#FF97FF",
           "#FECB52"
          ],
          "font": {
           "color": "#f2f5fa"
          },
          "geo": {
           "bgcolor": "rgb(17,17,17)",
           "lakecolor": "rgb(17,17,17)",
           "landcolor": "rgb(17,17,17)",
           "showlakes": true,
           "showland": true,
           "subunitcolor": "#506784"
          },
          "hoverlabel": {
           "align": "left"
          },
          "hovermode": "closest",
          "mapbox": {
           "style": "dark"
          },
          "paper_bgcolor": "rgb(17,17,17)",
          "plot_bgcolor": "rgb(17,17,17)",
          "polar": {
           "angularaxis": {
            "gridcolor": "#506784",
            "linecolor": "#506784",
            "ticks": ""
           },
           "bgcolor": "rgb(17,17,17)",
           "radialaxis": {
            "gridcolor": "#506784",
            "linecolor": "#506784",
            "ticks": ""
           }
          },
          "scene": {
           "xaxis": {
            "backgroundcolor": "rgb(17,17,17)",
            "gridcolor": "#506784",
            "gridwidth": 2,
            "linecolor": "#506784",
            "showbackground": true,
            "ticks": "",
            "zerolinecolor": "#C8D4E3"
           },
           "yaxis": {
            "backgroundcolor": "rgb(17,17,17)",
            "gridcolor": "#506784",
            "gridwidth": 2,
            "linecolor": "#506784",
            "showbackground": true,
            "ticks": "",
            "zerolinecolor": "#C8D4E3"
           },
           "zaxis": {
            "backgroundcolor": "rgb(17,17,17)",
            "gridcolor": "#506784",
            "gridwidth": 2,
            "linecolor": "#506784",
            "showbackground": true,
            "ticks": "",
            "zerolinecolor": "#C8D4E3"
           }
          },
          "shapedefaults": {
           "line": {
            "color": "#f2f5fa"
           }
          },
          "sliderdefaults": {
           "bgcolor": "#C8D4E3",
           "bordercolor": "rgb(17,17,17)",
           "borderwidth": 1,
           "tickwidth": 0
          },
          "ternary": {
           "aaxis": {
            "gridcolor": "#506784",
            "linecolor": "#506784",
            "ticks": ""
           },
           "baxis": {
            "gridcolor": "#506784",
            "linecolor": "#506784",
            "ticks": ""
           },
           "bgcolor": "rgb(17,17,17)",
           "caxis": {
            "gridcolor": "#506784",
            "linecolor": "#506784",
            "ticks": ""
           }
          },
          "title": {
           "x": 0.05
          },
          "updatemenudefaults": {
           "bgcolor": "#506784",
           "borderwidth": 0
          },
          "xaxis": {
           "automargin": true,
           "gridcolor": "#283442",
           "linecolor": "#506784",
           "ticks": "",
           "title": {
            "standoff": 15
           },
           "zerolinecolor": "#283442",
           "zerolinewidth": 2
          },
          "yaxis": {
           "automargin": true,
           "gridcolor": "#283442",
           "linecolor": "#506784",
           "ticks": "",
           "title": {
            "standoff": 15
           },
           "zerolinecolor": "#283442",
           "zerolinewidth": 2
          }
         }
        },
        "xaxis": {
         "title": {
          "text": "Date"
         }
        },
        "yaxis": {
         "rangemode": "tozero",
         "title": {
          "text": "Mood"
         }
        }
       }
      }
     },
     "metadata": {},
     "output_type": "display_data"
    }
   ],
   "source": [
    "df.mood_plot('day')"
   ]
  },
  {
   "cell_type": "code",
   "execution_count": 33,
   "metadata": {
    "metadata": {}
   },
   "outputs": [
    {
     "data": {
      "application/vnd.plotly.v1+json": {
       "config": {
        "plotlyServerURL": "https://plot.ly"
       },
       "data": [
        {
         "line": {
          "color": "rgb(31, 119, 180)",
          "shape": "spline"
         },
         "marker": {
          "color": [
           2,
           13,
           13,
           34,
           29,
           34,
           32,
           14,
           14,
           15,
           11,
           14,
           12,
           18,
           17,
           11,
           14,
           17,
           30,
           29,
           27,
           15,
           26,
           17,
           21,
           24,
           22,
           21,
           18,
           14,
           30,
           25,
           27,
           30,
           23,
           27,
           27,
           32,
           23,
           28,
           31,
           33,
           29,
           24,
           21,
           26,
           30,
           30,
           31,
           37,
           30,
           30,
           33,
           24,
           29,
           29,
           26
          ],
          "colorbar": {
           "title": {
            "text": "Number of entries"
           }
          },
          "colorscale": [
           [
            0,
            "rgb(0,0,255)"
           ],
           [
            1,
            "rgb(255,0,0)"
           ]
          ],
          "showscale": true,
          "size": 5
         },
         "mode": "lines+markers",
         "name": "avg",
         "type": "scatter",
         "x": [
          "2023-06-26",
          "2023-07-03",
          "2023-07-10",
          "2023-07-17",
          "2023-07-24",
          "2023-07-31",
          "2023-08-07",
          "2023-08-14",
          "2023-08-21",
          "2023-08-28",
          "2023-09-04",
          "2023-09-11",
          "2023-09-18",
          "2023-09-25",
          "2023-10-02",
          "2023-10-09",
          "2023-10-16",
          "2023-10-23",
          "2023-10-30",
          "2023-11-06",
          "2023-11-13",
          "2023-11-20",
          "2023-11-27",
          "2023-12-04",
          "2023-12-11",
          "2023-12-18",
          "2023-12-25",
          "2024-01-01",
          "2024-01-08",
          "2024-01-15",
          "2024-01-22",
          "2024-01-29",
          "2024-02-05",
          "2024-02-12",
          "2024-02-19",
          "2024-02-26",
          "2024-03-04",
          "2024-03-11",
          "2024-03-18",
          "2024-03-25",
          "2024-04-01",
          "2024-04-08",
          "2024-04-15",
          "2024-04-22",
          "2024-04-29",
          "2024-05-06",
          "2024-05-13",
          "2024-05-20",
          "2024-05-27",
          "2024-06-03",
          "2024-06-10",
          "2024-06-17",
          "2024-06-24",
          "2024-07-01",
          "2024-07-08",
          "2024-07-15",
          "2024-07-22"
         ],
         "y": [
          4,
          3.769230769230769,
          4,
          3.5294117647058822,
          3.3793103448275863,
          3.75,
          3.90625,
          4,
          3.607142857142857,
          3.9,
          4.090909090909091,
          3.9642857142857144,
          3.9166666666666665,
          3.9444444444444446,
          4.0588235294117645,
          4.090909090909091,
          4.178571428571429,
          4.088235294117647,
          3.75,
          4,
          3.5925925925925926,
          3.8333333333333335,
          3.6923076923076925,
          3.764705882352941,
          4.095238095238095,
          3.9166666666666665,
          3.9545454545454546,
          4.023809523809524,
          3.9166666666666665,
          4.107142857142857,
          3.8333333333333335,
          3.86,
          3.8333333333333335,
          3.3666666666666667,
          3.5217391304347827,
          3.388888888888889,
          3.6481481481481484,
          3.78125,
          3.9130434782608696,
          3.7857142857142856,
          3.9516129032258065,
          3.6363636363636362,
          3.793103448275862,
          3.8333333333333335,
          3.738095238095238,
          3.769230769230769,
          4,
          3.8,
          3.7580645161290325,
          3.891891891891892,
          4.05,
          3.75,
          3.803030303030303,
          3.7083333333333335,
          3.9310344827586206,
          3.8620689655172415,
          4.038461538461538
         ]
        },
        {
         "line": {
          "width": 0
         },
         "marker": {
          "color": "#444"
         },
         "mode": "lines",
         "name": "avg+std",
         "showlegend": false,
         "type": "scatter",
         "x": [
          "2023-06-26",
          "2023-07-03",
          "2023-07-10",
          "2023-07-17",
          "2023-07-24",
          "2023-07-31",
          "2023-08-07",
          "2023-08-14",
          "2023-08-21",
          "2023-08-28",
          "2023-09-04",
          "2023-09-11",
          "2023-09-18",
          "2023-09-25",
          "2023-10-02",
          "2023-10-09",
          "2023-10-16",
          "2023-10-23",
          "2023-10-30",
          "2023-11-06",
          "2023-11-13",
          "2023-11-20",
          "2023-11-27",
          "2023-12-04",
          "2023-12-11",
          "2023-12-18",
          "2023-12-25",
          "2024-01-01",
          "2024-01-08",
          "2024-01-15",
          "2024-01-22",
          "2024-01-29",
          "2024-02-05",
          "2024-02-12",
          "2024-02-19",
          "2024-02-26",
          "2024-03-04",
          "2024-03-11",
          "2024-03-18",
          "2024-03-25",
          "2024-04-01",
          "2024-04-08",
          "2024-04-15",
          "2024-04-22",
          "2024-04-29",
          "2024-05-06",
          "2024-05-13",
          "2024-05-20",
          "2024-05-27",
          "2024-06-03",
          "2024-06-10",
          "2024-06-17",
          "2024-06-24",
          "2024-07-01",
          "2024-07-08",
          "2024-07-15",
          "2024-07-22"
         ],
         "y": [
          4,
          4.57585399332057,
          4.67700320038633,
          4.225082102762161,
          3.986634281892494,
          4.303911709406997,
          4.371796851528116,
          4.4803844614152615,
          4.371205164020515,
          4.503560862122217,
          4.581733999516112,
          4.500091567265982,
          4.111291402707047,
          4.5357761640522964,
          4.641981766438187,
          4.716136322329069,
          4.953345411920589,
          4.8431213392770935,
          4.236897284360102,
          4.719622917128924,
          4.1815459836738365,
          4.141940033257518,
          4.0109586950339695,
          4.1646139600260925,
          4.656910767242164,
          4.297360160480107,
          4.676795426262326,
          4.318605659986309,
          4.345413129522939,
          4.553434044794847,
          4.347500442444714,
          4.305346307196246,
          4.405105208230199,
          3.906994366297646,
          4.009737380933817,
          4.086871329341002,
          4.010162141046394,
          4.220044168808845,
          4.405074840736961,
          4.156613379223743,
          4.367041170392703,
          4.091760566125315,
          4.159486380741296,
          4.151844361968637,
          4.077913116489225,
          4.149514064440255,
          4.347404166889826,
          4.227502772727447,
          4.202867239103602,
          4.379732017330532,
          4.429427881476018,
          4.160004205192901,
          4.1323144209331115,
          4.148606634488587,
          4.277551281233984,
          4.322979394608752,
          4.352247354682633
         ]
        },
        {
         "fill": "tonexty",
         "fillcolor": "rgba(130, 130, 130, 0.45)",
         "line": {
          "width": 0
         },
         "marker": {
          "color": "#444"
         },
         "mode": "lines",
         "name": "avg-std",
         "showlegend": false,
         "type": "scatter",
         "x": [
          "2023-06-26",
          "2023-07-03",
          "2023-07-10",
          "2023-07-17",
          "2023-07-24",
          "2023-07-31",
          "2023-08-07",
          "2023-08-14",
          "2023-08-21",
          "2023-08-28",
          "2023-09-04",
          "2023-09-11",
          "2023-09-18",
          "2023-09-25",
          "2023-10-02",
          "2023-10-09",
          "2023-10-16",
          "2023-10-23",
          "2023-10-30",
          "2023-11-06",
          "2023-11-13",
          "2023-11-20",
          "2023-11-27",
          "2023-12-04",
          "2023-12-11",
          "2023-12-18",
          "2023-12-25",
          "2024-01-01",
          "2024-01-08",
          "2024-01-15",
          "2024-01-22",
          "2024-01-29",
          "2024-02-05",
          "2024-02-12",
          "2024-02-19",
          "2024-02-26",
          "2024-03-04",
          "2024-03-11",
          "2024-03-18",
          "2024-03-25",
          "2024-04-01",
          "2024-04-08",
          "2024-04-15",
          "2024-04-22",
          "2024-04-29",
          "2024-05-06",
          "2024-05-13",
          "2024-05-20",
          "2024-05-27",
          "2024-06-03",
          "2024-06-10",
          "2024-06-17",
          "2024-06-24",
          "2024-07-01",
          "2024-07-08",
          "2024-07-15",
          "2024-07-22"
         ],
         "y": [
          4,
          2.962607545140968,
          3.3229967996136702,
          2.8337414266496035,
          2.771986407762679,
          3.1960882905930026,
          3.4407031484718837,
          3.5196155385847385,
          2.8430805502651992,
          3.2964391378777824,
          3.6000841823020693,
          3.428479861305447,
          3.7220419306262857,
          3.353112724836593,
          3.4756652923853424,
          3.465681859489113,
          3.4037974452222683,
          3.3333492489582,
          3.263102715639899,
          3.2803770828710754,
          3.0036392015113487,
          3.52472663340915,
          3.373656689581416,
          3.3647978046797897,
          3.533565423234026,
          3.535973172853226,
          3.232295482828583,
          3.729013387632738,
          3.4879202038103942,
          3.6608516694908664,
          3.319166224221953,
          3.4146536928037534,
          3.261561458436468,
          2.8263389670356873,
          3.033740879935748,
          2.690906448436776,
          3.286134155249903,
          3.342455831191155,
          3.421012115784778,
          3.4148151922048275,
          3.53618463605891,
          3.180966706601957,
          3.4267205158104286,
          3.5148223046980305,
          3.398277359701251,
          3.388947474021284,
          3.6525958331101744,
          3.372497227272553,
          3.3132617931544632,
          3.404051766453252,
          3.6705721185239817,
          3.3399957948070993,
          3.4737461851274953,
          3.2680600321780795,
          3.584517684283257,
          3.401158536425731,
          3.724675722240444
         ]
        }
       ],
       "layout": {
        "hovermode": "x",
        "showlegend": false,
        "template": {
         "data": {
          "bar": [
           {
            "error_x": {
             "color": "#f2f5fa"
            },
            "error_y": {
             "color": "#f2f5fa"
            },
            "marker": {
             "line": {
              "color": "rgb(17,17,17)",
              "width": 0.5
             },
             "pattern": {
              "fillmode": "overlay",
              "size": 10,
              "solidity": 0.2
             }
            },
            "type": "bar"
           }
          ],
          "barpolar": [
           {
            "marker": {
             "line": {
              "color": "rgb(17,17,17)",
              "width": 0.5
             },
             "pattern": {
              "fillmode": "overlay",
              "size": 10,
              "solidity": 0.2
             }
            },
            "type": "barpolar"
           }
          ],
          "carpet": [
           {
            "aaxis": {
             "endlinecolor": "#A2B1C6",
             "gridcolor": "#506784",
             "linecolor": "#506784",
             "minorgridcolor": "#506784",
             "startlinecolor": "#A2B1C6"
            },
            "baxis": {
             "endlinecolor": "#A2B1C6",
             "gridcolor": "#506784",
             "linecolor": "#506784",
             "minorgridcolor": "#506784",
             "startlinecolor": "#A2B1C6"
            },
            "type": "carpet"
           }
          ],
          "choropleth": [
           {
            "colorbar": {
             "outlinewidth": 0,
             "ticks": ""
            },
            "type": "choropleth"
           }
          ],
          "contour": [
           {
            "colorbar": {
             "outlinewidth": 0,
             "ticks": ""
            },
            "colorscale": [
             [
              0,
              "#0d0887"
             ],
             [
              0.1111111111111111,
              "#46039f"
             ],
             [
              0.2222222222222222,
              "#7201a8"
             ],
             [
              0.3333333333333333,
              "#9c179e"
             ],
             [
              0.4444444444444444,
              "#bd3786"
             ],
             [
              0.5555555555555556,
              "#d8576b"
             ],
             [
              0.6666666666666666,
              "#ed7953"
             ],
             [
              0.7777777777777778,
              "#fb9f3a"
             ],
             [
              0.8888888888888888,
              "#fdca26"
             ],
             [
              1,
              "#f0f921"
             ]
            ],
            "type": "contour"
           }
          ],
          "contourcarpet": [
           {
            "colorbar": {
             "outlinewidth": 0,
             "ticks": ""
            },
            "type": "contourcarpet"
           }
          ],
          "heatmap": [
           {
            "colorbar": {
             "outlinewidth": 0,
             "ticks": ""
            },
            "colorscale": [
             [
              0,
              "#0d0887"
             ],
             [
              0.1111111111111111,
              "#46039f"
             ],
             [
              0.2222222222222222,
              "#7201a8"
             ],
             [
              0.3333333333333333,
              "#9c179e"
             ],
             [
              0.4444444444444444,
              "#bd3786"
             ],
             [
              0.5555555555555556,
              "#d8576b"
             ],
             [
              0.6666666666666666,
              "#ed7953"
             ],
             [
              0.7777777777777778,
              "#fb9f3a"
             ],
             [
              0.8888888888888888,
              "#fdca26"
             ],
             [
              1,
              "#f0f921"
             ]
            ],
            "type": "heatmap"
           }
          ],
          "heatmapgl": [
           {
            "colorbar": {
             "outlinewidth": 0,
             "ticks": ""
            },
            "colorscale": [
             [
              0,
              "#0d0887"
             ],
             [
              0.1111111111111111,
              "#46039f"
             ],
             [
              0.2222222222222222,
              "#7201a8"
             ],
             [
              0.3333333333333333,
              "#9c179e"
             ],
             [
              0.4444444444444444,
              "#bd3786"
             ],
             [
              0.5555555555555556,
              "#d8576b"
             ],
             [
              0.6666666666666666,
              "#ed7953"
             ],
             [
              0.7777777777777778,
              "#fb9f3a"
             ],
             [
              0.8888888888888888,
              "#fdca26"
             ],
             [
              1,
              "#f0f921"
             ]
            ],
            "type": "heatmapgl"
           }
          ],
          "histogram": [
           {
            "marker": {
             "pattern": {
              "fillmode": "overlay",
              "size": 10,
              "solidity": 0.2
             }
            },
            "type": "histogram"
           }
          ],
          "histogram2d": [
           {
            "colorbar": {
             "outlinewidth": 0,
             "ticks": ""
            },
            "colorscale": [
             [
              0,
              "#0d0887"
             ],
             [
              0.1111111111111111,
              "#46039f"
             ],
             [
              0.2222222222222222,
              "#7201a8"
             ],
             [
              0.3333333333333333,
              "#9c179e"
             ],
             [
              0.4444444444444444,
              "#bd3786"
             ],
             [
              0.5555555555555556,
              "#d8576b"
             ],
             [
              0.6666666666666666,
              "#ed7953"
             ],
             [
              0.7777777777777778,
              "#fb9f3a"
             ],
             [
              0.8888888888888888,
              "#fdca26"
             ],
             [
              1,
              "#f0f921"
             ]
            ],
            "type": "histogram2d"
           }
          ],
          "histogram2dcontour": [
           {
            "colorbar": {
             "outlinewidth": 0,
             "ticks": ""
            },
            "colorscale": [
             [
              0,
              "#0d0887"
             ],
             [
              0.1111111111111111,
              "#46039f"
             ],
             [
              0.2222222222222222,
              "#7201a8"
             ],
             [
              0.3333333333333333,
              "#9c179e"
             ],
             [
              0.4444444444444444,
              "#bd3786"
             ],
             [
              0.5555555555555556,
              "#d8576b"
             ],
             [
              0.6666666666666666,
              "#ed7953"
             ],
             [
              0.7777777777777778,
              "#fb9f3a"
             ],
             [
              0.8888888888888888,
              "#fdca26"
             ],
             [
              1,
              "#f0f921"
             ]
            ],
            "type": "histogram2dcontour"
           }
          ],
          "mesh3d": [
           {
            "colorbar": {
             "outlinewidth": 0,
             "ticks": ""
            },
            "type": "mesh3d"
           }
          ],
          "parcoords": [
           {
            "line": {
             "colorbar": {
              "outlinewidth": 0,
              "ticks": ""
             }
            },
            "type": "parcoords"
           }
          ],
          "pie": [
           {
            "automargin": true,
            "type": "pie"
           }
          ],
          "scatter": [
           {
            "marker": {
             "line": {
              "color": "#283442"
             }
            },
            "type": "scatter"
           }
          ],
          "scatter3d": [
           {
            "line": {
             "colorbar": {
              "outlinewidth": 0,
              "ticks": ""
             }
            },
            "marker": {
             "colorbar": {
              "outlinewidth": 0,
              "ticks": ""
             }
            },
            "type": "scatter3d"
           }
          ],
          "scattercarpet": [
           {
            "marker": {
             "colorbar": {
              "outlinewidth": 0,
              "ticks": ""
             }
            },
            "type": "scattercarpet"
           }
          ],
          "scattergeo": [
           {
            "marker": {
             "colorbar": {
              "outlinewidth": 0,
              "ticks": ""
             }
            },
            "type": "scattergeo"
           }
          ],
          "scattergl": [
           {
            "marker": {
             "line": {
              "color": "#283442"
             }
            },
            "type": "scattergl"
           }
          ],
          "scattermapbox": [
           {
            "marker": {
             "colorbar": {
              "outlinewidth": 0,
              "ticks": ""
             }
            },
            "type": "scattermapbox"
           }
          ],
          "scatterpolar": [
           {
            "marker": {
             "colorbar": {
              "outlinewidth": 0,
              "ticks": ""
             }
            },
            "type": "scatterpolar"
           }
          ],
          "scatterpolargl": [
           {
            "marker": {
             "colorbar": {
              "outlinewidth": 0,
              "ticks": ""
             }
            },
            "type": "scatterpolargl"
           }
          ],
          "scatterternary": [
           {
            "marker": {
             "colorbar": {
              "outlinewidth": 0,
              "ticks": ""
             }
            },
            "type": "scatterternary"
           }
          ],
          "surface": [
           {
            "colorbar": {
             "outlinewidth": 0,
             "ticks": ""
            },
            "colorscale": [
             [
              0,
              "#0d0887"
             ],
             [
              0.1111111111111111,
              "#46039f"
             ],
             [
              0.2222222222222222,
              "#7201a8"
             ],
             [
              0.3333333333333333,
              "#9c179e"
             ],
             [
              0.4444444444444444,
              "#bd3786"
             ],
             [
              0.5555555555555556,
              "#d8576b"
             ],
             [
              0.6666666666666666,
              "#ed7953"
             ],
             [
              0.7777777777777778,
              "#fb9f3a"
             ],
             [
              0.8888888888888888,
              "#fdca26"
             ],
             [
              1,
              "#f0f921"
             ]
            ],
            "type": "surface"
           }
          ],
          "table": [
           {
            "cells": {
             "fill": {
              "color": "#506784"
             },
             "line": {
              "color": "rgb(17,17,17)"
             }
            },
            "header": {
             "fill": {
              "color": "#2a3f5f"
             },
             "line": {
              "color": "rgb(17,17,17)"
             }
            },
            "type": "table"
           }
          ]
         },
         "layout": {
          "annotationdefaults": {
           "arrowcolor": "#f2f5fa",
           "arrowhead": 0,
           "arrowwidth": 1
          },
          "autotypenumbers": "strict",
          "coloraxis": {
           "colorbar": {
            "outlinewidth": 0,
            "ticks": ""
           }
          },
          "colorscale": {
           "diverging": [
            [
             0,
             "#8e0152"
            ],
            [
             0.1,
             "#c51b7d"
            ],
            [
             0.2,
             "#de77ae"
            ],
            [
             0.3,
             "#f1b6da"
            ],
            [
             0.4,
             "#fde0ef"
            ],
            [
             0.5,
             "#f7f7f7"
            ],
            [
             0.6,
             "#e6f5d0"
            ],
            [
             0.7,
             "#b8e186"
            ],
            [
             0.8,
             "#7fbc41"
            ],
            [
             0.9,
             "#4d9221"
            ],
            [
             1,
             "#276419"
            ]
           ],
           "sequential": [
            [
             0,
             "#0d0887"
            ],
            [
             0.1111111111111111,
             "#46039f"
            ],
            [
             0.2222222222222222,
             "#7201a8"
            ],
            [
             0.3333333333333333,
             "#9c179e"
            ],
            [
             0.4444444444444444,
             "#bd3786"
            ],
            [
             0.5555555555555556,
             "#d8576b"
            ],
            [
             0.6666666666666666,
             "#ed7953"
            ],
            [
             0.7777777777777778,
             "#fb9f3a"
            ],
            [
             0.8888888888888888,
             "#fdca26"
            ],
            [
             1,
             "#f0f921"
            ]
           ],
           "sequentialminus": [
            [
             0,
             "#0d0887"
            ],
            [
             0.1111111111111111,
             "#46039f"
            ],
            [
             0.2222222222222222,
             "#7201a8"
            ],
            [
             0.3333333333333333,
             "#9c179e"
            ],
            [
             0.4444444444444444,
             "#bd3786"
            ],
            [
             0.5555555555555556,
             "#d8576b"
            ],
            [
             0.6666666666666666,
             "#ed7953"
            ],
            [
             0.7777777777777778,
             "#fb9f3a"
            ],
            [
             0.8888888888888888,
             "#fdca26"
            ],
            [
             1,
             "#f0f921"
            ]
           ]
          },
          "colorway": [
           "#636efa",
           "#EF553B",
           "#00cc96",
           "#ab63fa",
           "#FFA15A",
           "#19d3f3",
           "#FF6692",
           "#B6E880",
           "#FF97FF",
           "#FECB52"
          ],
          "font": {
           "color": "#f2f5fa"
          },
          "geo": {
           "bgcolor": "rgb(17,17,17)",
           "lakecolor": "rgb(17,17,17)",
           "landcolor": "rgb(17,17,17)",
           "showlakes": true,
           "showland": true,
           "subunitcolor": "#506784"
          },
          "hoverlabel": {
           "align": "left"
          },
          "hovermode": "closest",
          "mapbox": {
           "style": "dark"
          },
          "paper_bgcolor": "rgb(17,17,17)",
          "plot_bgcolor": "rgb(17,17,17)",
          "polar": {
           "angularaxis": {
            "gridcolor": "#506784",
            "linecolor": "#506784",
            "ticks": ""
           },
           "bgcolor": "rgb(17,17,17)",
           "radialaxis": {
            "gridcolor": "#506784",
            "linecolor": "#506784",
            "ticks": ""
           }
          },
          "scene": {
           "xaxis": {
            "backgroundcolor": "rgb(17,17,17)",
            "gridcolor": "#506784",
            "gridwidth": 2,
            "linecolor": "#506784",
            "showbackground": true,
            "ticks": "",
            "zerolinecolor": "#C8D4E3"
           },
           "yaxis": {
            "backgroundcolor": "rgb(17,17,17)",
            "gridcolor": "#506784",
            "gridwidth": 2,
            "linecolor": "#506784",
            "showbackground": true,
            "ticks": "",
            "zerolinecolor": "#C8D4E3"
           },
           "zaxis": {
            "backgroundcolor": "rgb(17,17,17)",
            "gridcolor": "#506784",
            "gridwidth": 2,
            "linecolor": "#506784",
            "showbackground": true,
            "ticks": "",
            "zerolinecolor": "#C8D4E3"
           }
          },
          "shapedefaults": {
           "line": {
            "color": "#f2f5fa"
           }
          },
          "sliderdefaults": {
           "bgcolor": "#C8D4E3",
           "bordercolor": "rgb(17,17,17)",
           "borderwidth": 1,
           "tickwidth": 0
          },
          "ternary": {
           "aaxis": {
            "gridcolor": "#506784",
            "linecolor": "#506784",
            "ticks": ""
           },
           "baxis": {
            "gridcolor": "#506784",
            "linecolor": "#506784",
            "ticks": ""
           },
           "bgcolor": "rgb(17,17,17)",
           "caxis": {
            "gridcolor": "#506784",
            "linecolor": "#506784",
            "ticks": ""
           }
          },
          "title": {
           "x": 0.05
          },
          "updatemenudefaults": {
           "bgcolor": "#506784",
           "borderwidth": 0
          },
          "xaxis": {
           "automargin": true,
           "gridcolor": "#283442",
           "linecolor": "#506784",
           "ticks": "",
           "title": {
            "standoff": 15
           },
           "zerolinecolor": "#283442",
           "zerolinewidth": 2
          },
          "yaxis": {
           "automargin": true,
           "gridcolor": "#283442",
           "linecolor": "#506784",
           "ticks": "",
           "title": {
            "standoff": 15
           },
           "zerolinecolor": "#283442",
           "zerolinewidth": 2
          }
         }
        },
        "xaxis": {
         "title": {
          "text": "Date"
         }
        },
        "yaxis": {
         "rangemode": "tozero",
         "title": {
          "text": "Mood"
         }
        }
       }
      }
     },
     "metadata": {},
     "output_type": "display_data"
    }
   ],
   "source": [
    "df.mood_plot('week')"
   ]
  },
  {
   "cell_type": "code",
   "execution_count": 34,
   "metadata": {
    "metadata": {}
   },
   "outputs": [
    {
     "data": {
      "application/vnd.plotly.v1+json": {
       "config": {
        "plotlyServerURL": "https://plot.ly"
       },
       "data": [
        {
         "line": {
          "color": "rgb(31, 119, 180)",
          "shape": "spline"
         },
         "marker": {
          "color": [
           95,
           97,
           58,
           71,
           109,
           95,
           94,
           108,
           123,
           121,
           126,
           138,
           108
          ],
          "colorbar": {
           "title": {
            "text": "Number of entries"
           }
          },
          "colorscale": [
           [
            0,
            "rgb(0,0,255)"
           ],
           [
            1,
            "rgb(255,0,0)"
           ]
          ],
          "showscale": true,
          "size": 10
         },
         "mode": "lines+markers",
         "name": "avg",
         "type": "scatter",
         "x": [
          "2023-07-01",
          "2023-08-01",
          "2023-09-01",
          "2023-10-01",
          "2023-11-01",
          "2023-12-01",
          "2024-01-01",
          "2024-02-01",
          "2024-03-01",
          "2024-04-01",
          "2024-05-01",
          "2024-06-01",
          "2024-07-01"
         ],
         "y": [
          3.5894736842105264,
          3.8247422680412373,
          3.9741379310344827,
          4.063380281690141,
          3.7844036697247705,
          3.9105263157894736,
          3.904255319148936,
          3.662037037037037,
          3.6910569105691056,
          3.7975206611570247,
          3.8333333333333335,
          3.858695652173913,
          3.888888888888889
         ]
        },
        {
         "line": {
          "width": 0
         },
         "marker": {
          "color": "#444"
         },
         "mode": "lines",
         "name": "avg+std",
         "showlegend": false,
         "type": "scatter",
         "x": [
          "2023-07-01",
          "2023-08-01",
          "2023-09-01",
          "2023-10-01",
          "2023-11-01",
          "2023-12-01",
          "2024-01-01",
          "2024-02-01",
          "2024-03-01",
          "2024-04-01",
          "2024-05-01",
          "2024-06-01",
          "2024-07-01"
         ],
         "y": [
          4.2774360910586635,
          4.397751671657184,
          4.407630618938004,
          4.749620438865397,
          4.3387090929425405,
          4.436343548863841,
          4.345883512307965,
          4.220860499471141,
          4.209251780250529,
          4.203612360554537,
          4.223205107125692,
          4.290079143878527,
          4.295224998861794
         ]
        },
        {
         "fill": "tonexty",
         "fillcolor": "rgba(130, 130, 130, 0.45)",
         "line": {
          "width": 0
         },
         "marker": {
          "color": "#444"
         },
         "mode": "lines",
         "name": "avg-std",
         "showlegend": false,
         "type": "scatter",
         "x": [
          "2023-07-01",
          "2023-08-01",
          "2023-09-01",
          "2023-10-01",
          "2023-11-01",
          "2023-12-01",
          "2024-01-01",
          "2024-02-01",
          "2024-03-01",
          "2024-04-01",
          "2024-05-01",
          "2024-06-01",
          "2024-07-01"
         ],
         "y": [
          2.901511277362389,
          3.251732864425291,
          3.540645243130961,
          3.3771401245148853,
          3.230098246507001,
          3.3847090827151054,
          3.462627125989908,
          3.103213574602934,
          3.172862040887682,
          3.391428961759513,
          3.443461559540975,
          3.427312160469299,
          3.482552778915984
         ]
        }
       ],
       "layout": {
        "hovermode": "x",
        "showlegend": false,
        "template": {
         "data": {
          "bar": [
           {
            "error_x": {
             "color": "#f2f5fa"
            },
            "error_y": {
             "color": "#f2f5fa"
            },
            "marker": {
             "line": {
              "color": "rgb(17,17,17)",
              "width": 0.5
             },
             "pattern": {
              "fillmode": "overlay",
              "size": 10,
              "solidity": 0.2
             }
            },
            "type": "bar"
           }
          ],
          "barpolar": [
           {
            "marker": {
             "line": {
              "color": "rgb(17,17,17)",
              "width": 0.5
             },
             "pattern": {
              "fillmode": "overlay",
              "size": 10,
              "solidity": 0.2
             }
            },
            "type": "barpolar"
           }
          ],
          "carpet": [
           {
            "aaxis": {
             "endlinecolor": "#A2B1C6",
             "gridcolor": "#506784",
             "linecolor": "#506784",
             "minorgridcolor": "#506784",
             "startlinecolor": "#A2B1C6"
            },
            "baxis": {
             "endlinecolor": "#A2B1C6",
             "gridcolor": "#506784",
             "linecolor": "#506784",
             "minorgridcolor": "#506784",
             "startlinecolor": "#A2B1C6"
            },
            "type": "carpet"
           }
          ],
          "choropleth": [
           {
            "colorbar": {
             "outlinewidth": 0,
             "ticks": ""
            },
            "type": "choropleth"
           }
          ],
          "contour": [
           {
            "colorbar": {
             "outlinewidth": 0,
             "ticks": ""
            },
            "colorscale": [
             [
              0,
              "#0d0887"
             ],
             [
              0.1111111111111111,
              "#46039f"
             ],
             [
              0.2222222222222222,
              "#7201a8"
             ],
             [
              0.3333333333333333,
              "#9c179e"
             ],
             [
              0.4444444444444444,
              "#bd3786"
             ],
             [
              0.5555555555555556,
              "#d8576b"
             ],
             [
              0.6666666666666666,
              "#ed7953"
             ],
             [
              0.7777777777777778,
              "#fb9f3a"
             ],
             [
              0.8888888888888888,
              "#fdca26"
             ],
             [
              1,
              "#f0f921"
             ]
            ],
            "type": "contour"
           }
          ],
          "contourcarpet": [
           {
            "colorbar": {
             "outlinewidth": 0,
             "ticks": ""
            },
            "type": "contourcarpet"
           }
          ],
          "heatmap": [
           {
            "colorbar": {
             "outlinewidth": 0,
             "ticks": ""
            },
            "colorscale": [
             [
              0,
              "#0d0887"
             ],
             [
              0.1111111111111111,
              "#46039f"
             ],
             [
              0.2222222222222222,
              "#7201a8"
             ],
             [
              0.3333333333333333,
              "#9c179e"
             ],
             [
              0.4444444444444444,
              "#bd3786"
             ],
             [
              0.5555555555555556,
              "#d8576b"
             ],
             [
              0.6666666666666666,
              "#ed7953"
             ],
             [
              0.7777777777777778,
              "#fb9f3a"
             ],
             [
              0.8888888888888888,
              "#fdca26"
             ],
             [
              1,
              "#f0f921"
             ]
            ],
            "type": "heatmap"
           }
          ],
          "heatmapgl": [
           {
            "colorbar": {
             "outlinewidth": 0,
             "ticks": ""
            },
            "colorscale": [
             [
              0,
              "#0d0887"
             ],
             [
              0.1111111111111111,
              "#46039f"
             ],
             [
              0.2222222222222222,
              "#7201a8"
             ],
             [
              0.3333333333333333,
              "#9c179e"
             ],
             [
              0.4444444444444444,
              "#bd3786"
             ],
             [
              0.5555555555555556,
              "#d8576b"
             ],
             [
              0.6666666666666666,
              "#ed7953"
             ],
             [
              0.7777777777777778,
              "#fb9f3a"
             ],
             [
              0.8888888888888888,
              "#fdca26"
             ],
             [
              1,
              "#f0f921"
             ]
            ],
            "type": "heatmapgl"
           }
          ],
          "histogram": [
           {
            "marker": {
             "pattern": {
              "fillmode": "overlay",
              "size": 10,
              "solidity": 0.2
             }
            },
            "type": "histogram"
           }
          ],
          "histogram2d": [
           {
            "colorbar": {
             "outlinewidth": 0,
             "ticks": ""
            },
            "colorscale": [
             [
              0,
              "#0d0887"
             ],
             [
              0.1111111111111111,
              "#46039f"
             ],
             [
              0.2222222222222222,
              "#7201a8"
             ],
             [
              0.3333333333333333,
              "#9c179e"
             ],
             [
              0.4444444444444444,
              "#bd3786"
             ],
             [
              0.5555555555555556,
              "#d8576b"
             ],
             [
              0.6666666666666666,
              "#ed7953"
             ],
             [
              0.7777777777777778,
              "#fb9f3a"
             ],
             [
              0.8888888888888888,
              "#fdca26"
             ],
             [
              1,
              "#f0f921"
             ]
            ],
            "type": "histogram2d"
           }
          ],
          "histogram2dcontour": [
           {
            "colorbar": {
             "outlinewidth": 0,
             "ticks": ""
            },
            "colorscale": [
             [
              0,
              "#0d0887"
             ],
             [
              0.1111111111111111,
              "#46039f"
             ],
             [
              0.2222222222222222,
              "#7201a8"
             ],
             [
              0.3333333333333333,
              "#9c179e"
             ],
             [
              0.4444444444444444,
              "#bd3786"
             ],
             [
              0.5555555555555556,
              "#d8576b"
             ],
             [
              0.6666666666666666,
              "#ed7953"
             ],
             [
              0.7777777777777778,
              "#fb9f3a"
             ],
             [
              0.8888888888888888,
              "#fdca26"
             ],
             [
              1,
              "#f0f921"
             ]
            ],
            "type": "histogram2dcontour"
           }
          ],
          "mesh3d": [
           {
            "colorbar": {
             "outlinewidth": 0,
             "ticks": ""
            },
            "type": "mesh3d"
           }
          ],
          "parcoords": [
           {
            "line": {
             "colorbar": {
              "outlinewidth": 0,
              "ticks": ""
             }
            },
            "type": "parcoords"
           }
          ],
          "pie": [
           {
            "automargin": true,
            "type": "pie"
           }
          ],
          "scatter": [
           {
            "marker": {
             "line": {
              "color": "#283442"
             }
            },
            "type": "scatter"
           }
          ],
          "scatter3d": [
           {
            "line": {
             "colorbar": {
              "outlinewidth": 0,
              "ticks": ""
             }
            },
            "marker": {
             "colorbar": {
              "outlinewidth": 0,
              "ticks": ""
             }
            },
            "type": "scatter3d"
           }
          ],
          "scattercarpet": [
           {
            "marker": {
             "colorbar": {
              "outlinewidth": 0,
              "ticks": ""
             }
            },
            "type": "scattercarpet"
           }
          ],
          "scattergeo": [
           {
            "marker": {
             "colorbar": {
              "outlinewidth": 0,
              "ticks": ""
             }
            },
            "type": "scattergeo"
           }
          ],
          "scattergl": [
           {
            "marker": {
             "line": {
              "color": "#283442"
             }
            },
            "type": "scattergl"
           }
          ],
          "scattermapbox": [
           {
            "marker": {
             "colorbar": {
              "outlinewidth": 0,
              "ticks": ""
             }
            },
            "type": "scattermapbox"
           }
          ],
          "scatterpolar": [
           {
            "marker": {
             "colorbar": {
              "outlinewidth": 0,
              "ticks": ""
             }
            },
            "type": "scatterpolar"
           }
          ],
          "scatterpolargl": [
           {
            "marker": {
             "colorbar": {
              "outlinewidth": 0,
              "ticks": ""
             }
            },
            "type": "scatterpolargl"
           }
          ],
          "scatterternary": [
           {
            "marker": {
             "colorbar": {
              "outlinewidth": 0,
              "ticks": ""
             }
            },
            "type": "scatterternary"
           }
          ],
          "surface": [
           {
            "colorbar": {
             "outlinewidth": 0,
             "ticks": ""
            },
            "colorscale": [
             [
              0,
              "#0d0887"
             ],
             [
              0.1111111111111111,
              "#46039f"
             ],
             [
              0.2222222222222222,
              "#7201a8"
             ],
             [
              0.3333333333333333,
              "#9c179e"
             ],
             [
              0.4444444444444444,
              "#bd3786"
             ],
             [
              0.5555555555555556,
              "#d8576b"
             ],
             [
              0.6666666666666666,
              "#ed7953"
             ],
             [
              0.7777777777777778,
              "#fb9f3a"
             ],
             [
              0.8888888888888888,
              "#fdca26"
             ],
             [
              1,
              "#f0f921"
             ]
            ],
            "type": "surface"
           }
          ],
          "table": [
           {
            "cells": {
             "fill": {
              "color": "#506784"
             },
             "line": {
              "color": "rgb(17,17,17)"
             }
            },
            "header": {
             "fill": {
              "color": "#2a3f5f"
             },
             "line": {
              "color": "rgb(17,17,17)"
             }
            },
            "type": "table"
           }
          ]
         },
         "layout": {
          "annotationdefaults": {
           "arrowcolor": "#f2f5fa",
           "arrowhead": 0,
           "arrowwidth": 1
          },
          "autotypenumbers": "strict",
          "coloraxis": {
           "colorbar": {
            "outlinewidth": 0,
            "ticks": ""
           }
          },
          "colorscale": {
           "diverging": [
            [
             0,
             "#8e0152"
            ],
            [
             0.1,
             "#c51b7d"
            ],
            [
             0.2,
             "#de77ae"
            ],
            [
             0.3,
             "#f1b6da"
            ],
            [
             0.4,
             "#fde0ef"
            ],
            [
             0.5,
             "#f7f7f7"
            ],
            [
             0.6,
             "#e6f5d0"
            ],
            [
             0.7,
             "#b8e186"
            ],
            [
             0.8,
             "#7fbc41"
            ],
            [
             0.9,
             "#4d9221"
            ],
            [
             1,
             "#276419"
            ]
           ],
           "sequential": [
            [
             0,
             "#0d0887"
            ],
            [
             0.1111111111111111,
             "#46039f"
            ],
            [
             0.2222222222222222,
             "#7201a8"
            ],
            [
             0.3333333333333333,
             "#9c179e"
            ],
            [
             0.4444444444444444,
             "#bd3786"
            ],
            [
             0.5555555555555556,
             "#d8576b"
            ],
            [
             0.6666666666666666,
             "#ed7953"
            ],
            [
             0.7777777777777778,
             "#fb9f3a"
            ],
            [
             0.8888888888888888,
             "#fdca26"
            ],
            [
             1,
             "#f0f921"
            ]
           ],
           "sequentialminus": [
            [
             0,
             "#0d0887"
            ],
            [
             0.1111111111111111,
             "#46039f"
            ],
            [
             0.2222222222222222,
             "#7201a8"
            ],
            [
             0.3333333333333333,
             "#9c179e"
            ],
            [
             0.4444444444444444,
             "#bd3786"
            ],
            [
             0.5555555555555556,
             "#d8576b"
            ],
            [
             0.6666666666666666,
             "#ed7953"
            ],
            [
             0.7777777777777778,
             "#fb9f3a"
            ],
            [
             0.8888888888888888,
             "#fdca26"
            ],
            [
             1,
             "#f0f921"
            ]
           ]
          },
          "colorway": [
           "#636efa",
           "#EF553B",
           "#00cc96",
           "#ab63fa",
           "#FFA15A",
           "#19d3f3",
           "#FF6692",
           "#B6E880",
           "#FF97FF",
           "#FECB52"
          ],
          "font": {
           "color": "#f2f5fa"
          },
          "geo": {
           "bgcolor": "rgb(17,17,17)",
           "lakecolor": "rgb(17,17,17)",
           "landcolor": "rgb(17,17,17)",
           "showlakes": true,
           "showland": true,
           "subunitcolor": "#506784"
          },
          "hoverlabel": {
           "align": "left"
          },
          "hovermode": "closest",
          "mapbox": {
           "style": "dark"
          },
          "paper_bgcolor": "rgb(17,17,17)",
          "plot_bgcolor": "rgb(17,17,17)",
          "polar": {
           "angularaxis": {
            "gridcolor": "#506784",
            "linecolor": "#506784",
            "ticks": ""
           },
           "bgcolor": "rgb(17,17,17)",
           "radialaxis": {
            "gridcolor": "#506784",
            "linecolor": "#506784",
            "ticks": ""
           }
          },
          "scene": {
           "xaxis": {
            "backgroundcolor": "rgb(17,17,17)",
            "gridcolor": "#506784",
            "gridwidth": 2,
            "linecolor": "#506784",
            "showbackground": true,
            "ticks": "",
            "zerolinecolor": "#C8D4E3"
           },
           "yaxis": {
            "backgroundcolor": "rgb(17,17,17)",
            "gridcolor": "#506784",
            "gridwidth": 2,
            "linecolor": "#506784",
            "showbackground": true,
            "ticks": "",
            "zerolinecolor": "#C8D4E3"
           },
           "zaxis": {
            "backgroundcolor": "rgb(17,17,17)",
            "gridcolor": "#506784",
            "gridwidth": 2,
            "linecolor": "#506784",
            "showbackground": true,
            "ticks": "",
            "zerolinecolor": "#C8D4E3"
           }
          },
          "shapedefaults": {
           "line": {
            "color": "#f2f5fa"
           }
          },
          "sliderdefaults": {
           "bgcolor": "#C8D4E3",
           "bordercolor": "rgb(17,17,17)",
           "borderwidth": 1,
           "tickwidth": 0
          },
          "ternary": {
           "aaxis": {
            "gridcolor": "#506784",
            "linecolor": "#506784",
            "ticks": ""
           },
           "baxis": {
            "gridcolor": "#506784",
            "linecolor": "#506784",
            "ticks": ""
           },
           "bgcolor": "rgb(17,17,17)",
           "caxis": {
            "gridcolor": "#506784",
            "linecolor": "#506784",
            "ticks": ""
           }
          },
          "title": {
           "x": 0.05
          },
          "updatemenudefaults": {
           "bgcolor": "#506784",
           "borderwidth": 0
          },
          "xaxis": {
           "automargin": true,
           "gridcolor": "#283442",
           "linecolor": "#506784",
           "ticks": "",
           "title": {
            "standoff": 15
           },
           "zerolinecolor": "#283442",
           "zerolinewidth": 2
          },
          "yaxis": {
           "automargin": true,
           "gridcolor": "#283442",
           "linecolor": "#506784",
           "ticks": "",
           "title": {
            "standoff": 15
           },
           "zerolinecolor": "#283442",
           "zerolinewidth": 2
          }
         }
        },
        "xaxis": {
         "title": {
          "text": "Date"
         }
        },
        "yaxis": {
         "rangemode": "tozero",
         "title": {
          "text": "Mood"
         }
        }
       }
      }
     },
     "metadata": {},
     "output_type": "display_data"
    }
   ],
   "source": [
    "df.mood_plot('month')"
   ]
  },
  {
   "cell_type": "markdown",
   "metadata": {},
   "source": [
    "## Books Read"
   ]
  },
  {
   "cell_type": "code",
   "execution_count": null,
   "metadata": {},
   "outputs": [
    {
     "data": {
      "application/vnd.plotly.v1+json": {
       "config": {
        "plotlyServerURL": "https://plot.ly"
       },
       "data": [
        {
         "customdata": [
          "ох, Набоков, Набоков... как же тяжело<br>читать твои длинные неловкие предложения<br>и отслеживать твою ответвляющуюся<br>нелинейную мысль. сама же история,<br>местами занимательная, даже интригующая,<br>впечатлила не сильно. уж очень было<br>много отвлеченных размышлений и ничем не<br>относящихся к Лужину диалогов: столько,<br>что трагедией его я не проникся. зато в<br>этой книге я сохранил больше всего цитат<br>— язык у ВВ действительно музыкальный.<br>6.3/10, 215с",
          "отличная история, ужасная и ужасно<br>смешная, пусть и почти все персонажи<br>сильно преувеличены — закинуты в<br>крайности замечательного или кошмарного.<br>язык простой, но нескучный. прочитал 200<br>страниц за 2 дня. 8.5/10, 215с",
          "смешная и грустная история о мелочном и<br>жадном чинуше с мистической концовкой.<br>7/10, 40с",
          "абсурдно антропоморфные говорящие<br>животные отражают пороки и ошибки<br>человечества: обман, кражу власти,<br>пропаганду... — аллюзии так и рвутся из<br>каждой строчки! а ещё персонажи во<br>власти — свиньи, что тоже о многом<br>говорит. читается просто:&nbsp;<br>настолько, что я все-таки решил<br>перечитать в оригинале \"Nineteen Eighty-<br>Four\". 8/10, 100с",
          "местами смешной, местами серьёзный.<br>абсурдная история о попытке изменения<br>того, что нельзя изменять, вероятно, с<br>миллионом отсылок на политические<br>терзания в советском союзе. 8/10, 120с",
          "смешанные чувства: даже слегка грустно.<br>история о безответной и запутанной<br>любви. о том, как больно прыгать во<br>френдзону и обратно. 6/10, 40с",
          "самое классное из Чехова, что я пока<br>читал. много размышлений о жизни и об<br>отношении к больным людям. всегда ли<br>здоровые люди здоровее психически<br>больных? одна из многих историй о<br>персонажах, не входящих в рамки<br>нормальности их окружения. 7.8/10, 86с",
          "перегруженный английский, местами<br>ненамеренно проглядывал строки. концовка<br>довольно ожидаемая, если знать, что она<br>будет переворачивающей. 4.5/10, 12с",
          "очень небольшой рассказ про черта и<br>чиновника. не впечатлил. 4/10, 2с",
          "6.5/10, 9с",
          "6.5/10, 2с",
          "понравился немного больше других<br>рассказов. интересно, что персонажи,<br>кажется, такие же, как в \"Крыжовнике\"...<br>6.8/10, 15с",
          "простой типичный чеховский рассказ про<br>запретную любовь наверно. какой-то уж<br>очень не по-чеховский драматичный.<br>6.3/10, 12с",
          "интересное повествование, пара забавных<br>саркастичных выражений. смысл объясните<br>пж! 6/10, 8с",
          "очень короткая сатира на циничные и<br>меркантильные отношения между супругами.<br>6/10, 4с",
          "жуткая история, затягивающая своей<br>изящной подробностью. хоть английский<br>немного сложный местами, прочиталось<br>очень быстро, если и не на одном<br>дыхании. захотелось пересмотреть фильм.<br>8/10, 263с"
         ],
         "hovertemplate": "<b>%{text}</b><br>Rating: %{marker.color:.1f}<br>Number of pages: %{y} <extra>%{customdata}</extra>",
         "marker": {
          "cmax": 10,
          "cmin": 1,
          "color": [
           6.3,
           8.5,
           7,
           8,
           8,
           6,
           7.8,
           4.5,
           4,
           6.5,
           6.5,
           6.8,
           6.3,
           6,
           6,
           8
          ],
          "colorbar": {
           "title": {
            "text": "Rating"
           }
          },
          "colorscale": [
           [
            0,
            "#440154"
           ],
           [
            0.1111111111111111,
            "#482878"
           ],
           [
            0.2222222222222222,
            "#3e4989"
           ],
           [
            0.3333333333333333,
            "#31688e"
           ],
           [
            0.4444444444444444,
            "#26828e"
           ],
           [
            0.5555555555555556,
            "#1f9e89"
           ],
           [
            0.6666666666666666,
            "#35b779"
           ],
           [
            0.7777777777777778,
            "#6ece58"
           ],
           [
            0.8888888888888888,
            "#b5de2b"
           ],
           [
            1,
            "#fde725"
           ]
          ],
          "showscale": true
         },
         "text": [
          "Защита Лужина",
          "Matilda",
          "Шинель",
          "Animal Farm",
          "Собачье сердце",
          "Белые ночи",
          "Палата номер 6",
          "An Occurrence at Owl Creek Bridge",
          "Покой",
          "Капитанский мундир",
          "Толстый и тонкий",
          "Человек в футляре",
          "Дама с собачкой",
          "Крыжовник",
          "Выигрышный билет",
          "Perfume"
         ],
         "textfont": {
          "size": 18
         },
         "type": "bar",
         "x": [
          0,
          1,
          2,
          3,
          4,
          5,
          6,
          6,
          6,
          7,
          7,
          7,
          8,
          8,
          8,
          9
         ],
         "y": [
          215,
          215,
          40,
          100,
          120,
          40,
          86,
          12,
          2,
          9,
          2,
          15,
          12,
          8,
          4,
          263
         ]
        }
       ],
       "layout": {
        "barmode": "stack",
        "margin": {
         "b": 10,
         "l": 10,
         "r": 10,
         "t": 45
        },
        "template": {
         "data": {
          "bar": [
           {
            "error_x": {
             "color": "#f2f5fa"
            },
            "error_y": {
             "color": "#f2f5fa"
            },
            "marker": {
             "line": {
              "color": "rgb(17,17,17)",
              "width": 0.5
             },
             "pattern": {
              "fillmode": "overlay",
              "size": 10,
              "solidity": 0.2
             }
            },
            "type": "bar"
           }
          ],
          "barpolar": [
           {
            "marker": {
             "line": {
              "color": "rgb(17,17,17)",
              "width": 0.5
             },
             "pattern": {
              "fillmode": "overlay",
              "size": 10,
              "solidity": 0.2
             }
            },
            "type": "barpolar"
           }
          ],
          "carpet": [
           {
            "aaxis": {
             "endlinecolor": "#A2B1C6",
             "gridcolor": "#506784",
             "linecolor": "#506784",
             "minorgridcolor": "#506784",
             "startlinecolor": "#A2B1C6"
            },
            "baxis": {
             "endlinecolor": "#A2B1C6",
             "gridcolor": "#506784",
             "linecolor": "#506784",
             "minorgridcolor": "#506784",
             "startlinecolor": "#A2B1C6"
            },
            "type": "carpet"
           }
          ],
          "choropleth": [
           {
            "colorbar": {
             "outlinewidth": 0,
             "ticks": ""
            },
            "type": "choropleth"
           }
          ],
          "contour": [
           {
            "colorbar": {
             "outlinewidth": 0,
             "ticks": ""
            },
            "colorscale": [
             [
              0,
              "#0d0887"
             ],
             [
              0.1111111111111111,
              "#46039f"
             ],
             [
              0.2222222222222222,
              "#7201a8"
             ],
             [
              0.3333333333333333,
              "#9c179e"
             ],
             [
              0.4444444444444444,
              "#bd3786"
             ],
             [
              0.5555555555555556,
              "#d8576b"
             ],
             [
              0.6666666666666666,
              "#ed7953"
             ],
             [
              0.7777777777777778,
              "#fb9f3a"
             ],
             [
              0.8888888888888888,
              "#fdca26"
             ],
             [
              1,
              "#f0f921"
             ]
            ],
            "type": "contour"
           }
          ],
          "contourcarpet": [
           {
            "colorbar": {
             "outlinewidth": 0,
             "ticks": ""
            },
            "type": "contourcarpet"
           }
          ],
          "heatmap": [
           {
            "colorbar": {
             "outlinewidth": 0,
             "ticks": ""
            },
            "colorscale": [
             [
              0,
              "#0d0887"
             ],
             [
              0.1111111111111111,
              "#46039f"
             ],
             [
              0.2222222222222222,
              "#7201a8"
             ],
             [
              0.3333333333333333,
              "#9c179e"
             ],
             [
              0.4444444444444444,
              "#bd3786"
             ],
             [
              0.5555555555555556,
              "#d8576b"
             ],
             [
              0.6666666666666666,
              "#ed7953"
             ],
             [
              0.7777777777777778,
              "#fb9f3a"
             ],
             [
              0.8888888888888888,
              "#fdca26"
             ],
             [
              1,
              "#f0f921"
             ]
            ],
            "type": "heatmap"
           }
          ],
          "heatmapgl": [
           {
            "colorbar": {
             "outlinewidth": 0,
             "ticks": ""
            },
            "colorscale": [
             [
              0,
              "#0d0887"
             ],
             [
              0.1111111111111111,
              "#46039f"
             ],
             [
              0.2222222222222222,
              "#7201a8"
             ],
             [
              0.3333333333333333,
              "#9c179e"
             ],
             [
              0.4444444444444444,
              "#bd3786"
             ],
             [
              0.5555555555555556,
              "#d8576b"
             ],
             [
              0.6666666666666666,
              "#ed7953"
             ],
             [
              0.7777777777777778,
              "#fb9f3a"
             ],
             [
              0.8888888888888888,
              "#fdca26"
             ],
             [
              1,
              "#f0f921"
             ]
            ],
            "type": "heatmapgl"
           }
          ],
          "histogram": [
           {
            "marker": {
             "pattern": {
              "fillmode": "overlay",
              "size": 10,
              "solidity": 0.2
             }
            },
            "type": "histogram"
           }
          ],
          "histogram2d": [
           {
            "colorbar": {
             "outlinewidth": 0,
             "ticks": ""
            },
            "colorscale": [
             [
              0,
              "#0d0887"
             ],
             [
              0.1111111111111111,
              "#46039f"
             ],
             [
              0.2222222222222222,
              "#7201a8"
             ],
             [
              0.3333333333333333,
              "#9c179e"
             ],
             [
              0.4444444444444444,
              "#bd3786"
             ],
             [
              0.5555555555555556,
              "#d8576b"
             ],
             [
              0.6666666666666666,
              "#ed7953"
             ],
             [
              0.7777777777777778,
              "#fb9f3a"
             ],
             [
              0.8888888888888888,
              "#fdca26"
             ],
             [
              1,
              "#f0f921"
             ]
            ],
            "type": "histogram2d"
           }
          ],
          "histogram2dcontour": [
           {
            "colorbar": {
             "outlinewidth": 0,
             "ticks": ""
            },
            "colorscale": [
             [
              0,
              "#0d0887"
             ],
             [
              0.1111111111111111,
              "#46039f"
             ],
             [
              0.2222222222222222,
              "#7201a8"
             ],
             [
              0.3333333333333333,
              "#9c179e"
             ],
             [
              0.4444444444444444,
              "#bd3786"
             ],
             [
              0.5555555555555556,
              "#d8576b"
             ],
             [
              0.6666666666666666,
              "#ed7953"
             ],
             [
              0.7777777777777778,
              "#fb9f3a"
             ],
             [
              0.8888888888888888,
              "#fdca26"
             ],
             [
              1,
              "#f0f921"
             ]
            ],
            "type": "histogram2dcontour"
           }
          ],
          "mesh3d": [
           {
            "colorbar": {
             "outlinewidth": 0,
             "ticks": ""
            },
            "type": "mesh3d"
           }
          ],
          "parcoords": [
           {
            "line": {
             "colorbar": {
              "outlinewidth": 0,
              "ticks": ""
             }
            },
            "type": "parcoords"
           }
          ],
          "pie": [
           {
            "automargin": true,
            "type": "pie"
           }
          ],
          "scatter": [
           {
            "marker": {
             "line": {
              "color": "#283442"
             }
            },
            "type": "scatter"
           }
          ],
          "scatter3d": [
           {
            "line": {
             "colorbar": {
              "outlinewidth": 0,
              "ticks": ""
             }
            },
            "marker": {
             "colorbar": {
              "outlinewidth": 0,
              "ticks": ""
             }
            },
            "type": "scatter3d"
           }
          ],
          "scattercarpet": [
           {
            "marker": {
             "colorbar": {
              "outlinewidth": 0,
              "ticks": ""
             }
            },
            "type": "scattercarpet"
           }
          ],
          "scattergeo": [
           {
            "marker": {
             "colorbar": {
              "outlinewidth": 0,
              "ticks": ""
             }
            },
            "type": "scattergeo"
           }
          ],
          "scattergl": [
           {
            "marker": {
             "line": {
              "color": "#283442"
             }
            },
            "type": "scattergl"
           }
          ],
          "scattermapbox": [
           {
            "marker": {
             "colorbar": {
              "outlinewidth": 0,
              "ticks": ""
             }
            },
            "type": "scattermapbox"
           }
          ],
          "scatterpolar": [
           {
            "marker": {
             "colorbar": {
              "outlinewidth": 0,
              "ticks": ""
             }
            },
            "type": "scatterpolar"
           }
          ],
          "scatterpolargl": [
           {
            "marker": {
             "colorbar": {
              "outlinewidth": 0,
              "ticks": ""
             }
            },
            "type": "scatterpolargl"
           }
          ],
          "scatterternary": [
           {
            "marker": {
             "colorbar": {
              "outlinewidth": 0,
              "ticks": ""
             }
            },
            "type": "scatterternary"
           }
          ],
          "surface": [
           {
            "colorbar": {
             "outlinewidth": 0,
             "ticks": ""
            },
            "colorscale": [
             [
              0,
              "#0d0887"
             ],
             [
              0.1111111111111111,
              "#46039f"
             ],
             [
              0.2222222222222222,
              "#7201a8"
             ],
             [
              0.3333333333333333,
              "#9c179e"
             ],
             [
              0.4444444444444444,
              "#bd3786"
             ],
             [
              0.5555555555555556,
              "#d8576b"
             ],
             [
              0.6666666666666666,
              "#ed7953"
             ],
             [
              0.7777777777777778,
              "#fb9f3a"
             ],
             [
              0.8888888888888888,
              "#fdca26"
             ],
             [
              1,
              "#f0f921"
             ]
            ],
            "type": "surface"
           }
          ],
          "table": [
           {
            "cells": {
             "fill": {
              "color": "#506784"
             },
             "line": {
              "color": "rgb(17,17,17)"
             }
            },
            "header": {
             "fill": {
              "color": "#2a3f5f"
             },
             "line": {
              "color": "rgb(17,17,17)"
             }
            },
            "type": "table"
           }
          ]
         },
         "layout": {
          "annotationdefaults": {
           "arrowcolor": "#f2f5fa",
           "arrowhead": 0,
           "arrowwidth": 1
          },
          "autotypenumbers": "strict",
          "coloraxis": {
           "colorbar": {
            "outlinewidth": 0,
            "ticks": ""
           }
          },
          "colorscale": {
           "diverging": [
            [
             0,
             "#8e0152"
            ],
            [
             0.1,
             "#c51b7d"
            ],
            [
             0.2,
             "#de77ae"
            ],
            [
             0.3,
             "#f1b6da"
            ],
            [
             0.4,
             "#fde0ef"
            ],
            [
             0.5,
             "#f7f7f7"
            ],
            [
             0.6,
             "#e6f5d0"
            ],
            [
             0.7,
             "#b8e186"
            ],
            [
             0.8,
             "#7fbc41"
            ],
            [
             0.9,
             "#4d9221"
            ],
            [
             1,
             "#276419"
            ]
           ],
           "sequential": [
            [
             0,
             "#0d0887"
            ],
            [
             0.1111111111111111,
             "#46039f"
            ],
            [
             0.2222222222222222,
             "#7201a8"
            ],
            [
             0.3333333333333333,
             "#9c179e"
            ],
            [
             0.4444444444444444,
             "#bd3786"
            ],
            [
             0.5555555555555556,
             "#d8576b"
            ],
            [
             0.6666666666666666,
             "#ed7953"
            ],
            [
             0.7777777777777778,
             "#fb9f3a"
            ],
            [
             0.8888888888888888,
             "#fdca26"
            ],
            [
             1,
             "#f0f921"
            ]
           ],
           "sequentialminus": [
            [
             0,
             "#0d0887"
            ],
            [
             0.1111111111111111,
             "#46039f"
            ],
            [
             0.2222222222222222,
             "#7201a8"
            ],
            [
             0.3333333333333333,
             "#9c179e"
            ],
            [
             0.4444444444444444,
             "#bd3786"
            ],
            [
             0.5555555555555556,
             "#d8576b"
            ],
            [
             0.6666666666666666,
             "#ed7953"
            ],
            [
             0.7777777777777778,
             "#fb9f3a"
            ],
            [
             0.8888888888888888,
             "#fdca26"
            ],
            [
             1,
             "#f0f921"
            ]
           ]
          },
          "colorway": [
           "#636efa",
           "#EF553B",
           "#00cc96",
           "#ab63fa",
           "#FFA15A",
           "#19d3f3",
           "#FF6692",
           "#B6E880",
           "#FF97FF",
           "#FECB52"
          ],
          "font": {
           "color": "#f2f5fa"
          },
          "geo": {
           "bgcolor": "rgb(17,17,17)",
           "lakecolor": "rgb(17,17,17)",
           "landcolor": "rgb(17,17,17)",
           "showlakes": true,
           "showland": true,
           "subunitcolor": "#506784"
          },
          "hoverlabel": {
           "align": "left"
          },
          "hovermode": "closest",
          "mapbox": {
           "style": "dark"
          },
          "paper_bgcolor": "rgb(17,17,17)",
          "plot_bgcolor": "rgb(17,17,17)",
          "polar": {
           "angularaxis": {
            "gridcolor": "#506784",
            "linecolor": "#506784",
            "ticks": ""
           },
           "bgcolor": "rgb(17,17,17)",
           "radialaxis": {
            "gridcolor": "#506784",
            "linecolor": "#506784",
            "ticks": ""
           }
          },
          "scene": {
           "xaxis": {
            "backgroundcolor": "rgb(17,17,17)",
            "gridcolor": "#506784",
            "gridwidth": 2,
            "linecolor": "#506784",
            "showbackground": true,
            "ticks": "",
            "zerolinecolor": "#C8D4E3"
           },
           "yaxis": {
            "backgroundcolor": "rgb(17,17,17)",
            "gridcolor": "#506784",
            "gridwidth": 2,
            "linecolor": "#506784",
            "showbackground": true,
            "ticks": "",
            "zerolinecolor": "#C8D4E3"
           },
           "zaxis": {
            "backgroundcolor": "rgb(17,17,17)",
            "gridcolor": "#506784",
            "gridwidth": 2,
            "linecolor": "#506784",
            "showbackground": true,
            "ticks": "",
            "zerolinecolor": "#C8D4E3"
           }
          },
          "shapedefaults": {
           "line": {
            "color": "#f2f5fa"
           }
          },
          "sliderdefaults": {
           "bgcolor": "#C8D4E3",
           "bordercolor": "rgb(17,17,17)",
           "borderwidth": 1,
           "tickwidth": 0
          },
          "ternary": {
           "aaxis": {
            "gridcolor": "#506784",
            "linecolor": "#506784",
            "ticks": ""
           },
           "baxis": {
            "gridcolor": "#506784",
            "linecolor": "#506784",
            "ticks": ""
           },
           "bgcolor": "rgb(17,17,17)",
           "caxis": {
            "gridcolor": "#506784",
            "linecolor": "#506784",
            "ticks": ""
           }
          },
          "title": {
           "x": 0.05
          },
          "updatemenudefaults": {
           "bgcolor": "#506784",
           "borderwidth": 0
          },
          "xaxis": {
           "automargin": true,
           "gridcolor": "#283442",
           "linecolor": "#506784",
           "ticks": "",
           "title": {
            "standoff": 15
           },
           "zerolinecolor": "#283442",
           "zerolinewidth": 2
          },
          "yaxis": {
           "automargin": true,
           "gridcolor": "#283442",
           "linecolor": "#506784",
           "ticks": "",
           "title": {
            "standoff": 15
           },
           "zerolinecolor": "#283442",
           "zerolinewidth": 2
          }
         }
        },
        "title": {
         "text": "Books"
        },
        "xaxis": {
         "ticktext": [
          "05.12.2024",
          "03.12.2024",
          "02.12.2024",
          "01.12.2024",
          "30.11.2024",
          "29.11.2024",
          "28.11.2024",
          "28.11.2024",
          "28.11.2024",
          "27.11.2024",
          "27.11.2024",
          "27.11.2024",
          "26.11.2024",
          "26.11.2024",
          "26.11.2024",
          "25.11.2024"
         ],
         "tickvals": [
          0,
          1,
          2,
          3,
          4,
          5,
          6,
          6,
          6,
          7,
          7,
          7,
          8,
          8,
          8,
          9
         ],
         "title": {
          "text": "Date"
         }
        },
        "yaxis": {
         "title": {
          "text": "Number of pages"
         }
        }
       }
      }
     },
     "metadata": {},
     "output_type": "display_data"
    }
   ],
   "source": [
    "df.books_read_plot()"
   ]
  },
  {
   "cell_type": "markdown",
   "metadata": {},
   "source": [
    "## Mood bar plot by hour/day/month"
   ]
  },
  {
   "cell_type": "code",
   "execution_count": 35,
   "metadata": {
    "metadata": {}
   },
   "outputs": [
    {
     "data": {
      "application/vnd.plotly.v1+json": {
       "config": {
        "plotlyServerURL": "https://plot.ly"
       },
       "data": [
        {
         "alignmentgroup": "True",
         "hovertemplate": "Hour=%{x}<br>Mood=%{y}<br>Number of entries=%{marker.color}<extra></extra>",
         "legendgroup": "",
         "marker": {
          "color": [
           104,
           88,
           69,
           107,
           64,
           122,
           152,
           81,
           84,
           5,
           38,
           84,
           72,
           68,
           74,
           3,
           23,
           69,
           26,
           8,
           1,
           1
          ],
          "coloraxis": "coloraxis",
          "pattern": {
           "shape": ""
          }
         },
         "name": "",
         "offsetgroup": "",
         "orientation": "v",
         "showlegend": false,
         "textposition": "auto",
         "type": "bar",
         "x": [
          21,
          15,
          13,
          16,
          10,
          23,
          20,
          17,
          22,
          7,
          0,
          12,
          18,
          11,
          19,
          5,
          9,
          14,
          1,
          8,
          2,
          4
         ],
         "xaxis": "x",
         "y": [
          3.9038461538461537,
          3.8125,
          3.7681159420289854,
          3.7570093457943927,
          3.78125,
          3.8852459016393444,
          3.9835526315789473,
          3.7777777777777777,
          3.8154761904761907,
          3.4,
          3.8026315789473686,
          3.75,
          3.8819444444444446,
          3.713235294117647,
          3.810810810810811,
          2.6666666666666665,
          3.652173913043478,
          3.753623188405797,
          3.8076923076923075,
          3.5,
          3.5,
          3
         ],
         "yaxis": "y"
        }
       ],
       "layout": {
        "barmode": "relative",
        "coloraxis": {
         "colorbar": {
          "title": {
           "text": "Number of entries"
          }
         },
         "colorscale": [
          [
           0,
           "#440154"
          ],
          [
           0.1111111111111111,
           "#482878"
          ],
          [
           0.2222222222222222,
           "#3e4989"
          ],
          [
           0.3333333333333333,
           "#31688e"
          ],
          [
           0.4444444444444444,
           "#26828e"
          ],
          [
           0.5555555555555556,
           "#1f9e89"
          ],
          [
           0.6666666666666666,
           "#35b779"
          ],
          [
           0.7777777777777778,
           "#6ece58"
          ],
          [
           0.8888888888888888,
           "#b5de2b"
          ],
          [
           1,
           "#fde725"
          ]
         ]
        },
        "legend": {
         "tracegroupgap": 0
        },
        "template": {
         "data": {
          "bar": [
           {
            "error_x": {
             "color": "#f2f5fa"
            },
            "error_y": {
             "color": "#f2f5fa"
            },
            "marker": {
             "line": {
              "color": "rgb(17,17,17)",
              "width": 0.5
             },
             "pattern": {
              "fillmode": "overlay",
              "size": 10,
              "solidity": 0.2
             }
            },
            "type": "bar"
           }
          ],
          "barpolar": [
           {
            "marker": {
             "line": {
              "color": "rgb(17,17,17)",
              "width": 0.5
             },
             "pattern": {
              "fillmode": "overlay",
              "size": 10,
              "solidity": 0.2
             }
            },
            "type": "barpolar"
           }
          ],
          "carpet": [
           {
            "aaxis": {
             "endlinecolor": "#A2B1C6",
             "gridcolor": "#506784",
             "linecolor": "#506784",
             "minorgridcolor": "#506784",
             "startlinecolor": "#A2B1C6"
            },
            "baxis": {
             "endlinecolor": "#A2B1C6",
             "gridcolor": "#506784",
             "linecolor": "#506784",
             "minorgridcolor": "#506784",
             "startlinecolor": "#A2B1C6"
            },
            "type": "carpet"
           }
          ],
          "choropleth": [
           {
            "colorbar": {
             "outlinewidth": 0,
             "ticks": ""
            },
            "type": "choropleth"
           }
          ],
          "contour": [
           {
            "colorbar": {
             "outlinewidth": 0,
             "ticks": ""
            },
            "colorscale": [
             [
              0,
              "#0d0887"
             ],
             [
              0.1111111111111111,
              "#46039f"
             ],
             [
              0.2222222222222222,
              "#7201a8"
             ],
             [
              0.3333333333333333,
              "#9c179e"
             ],
             [
              0.4444444444444444,
              "#bd3786"
             ],
             [
              0.5555555555555556,
              "#d8576b"
             ],
             [
              0.6666666666666666,
              "#ed7953"
             ],
             [
              0.7777777777777778,
              "#fb9f3a"
             ],
             [
              0.8888888888888888,
              "#fdca26"
             ],
             [
              1,
              "#f0f921"
             ]
            ],
            "type": "contour"
           }
          ],
          "contourcarpet": [
           {
            "colorbar": {
             "outlinewidth": 0,
             "ticks": ""
            },
            "type": "contourcarpet"
           }
          ],
          "heatmap": [
           {
            "colorbar": {
             "outlinewidth": 0,
             "ticks": ""
            },
            "colorscale": [
             [
              0,
              "#0d0887"
             ],
             [
              0.1111111111111111,
              "#46039f"
             ],
             [
              0.2222222222222222,
              "#7201a8"
             ],
             [
              0.3333333333333333,
              "#9c179e"
             ],
             [
              0.4444444444444444,
              "#bd3786"
             ],
             [
              0.5555555555555556,
              "#d8576b"
             ],
             [
              0.6666666666666666,
              "#ed7953"
             ],
             [
              0.7777777777777778,
              "#fb9f3a"
             ],
             [
              0.8888888888888888,
              "#fdca26"
             ],
             [
              1,
              "#f0f921"
             ]
            ],
            "type": "heatmap"
           }
          ],
          "heatmapgl": [
           {
            "colorbar": {
             "outlinewidth": 0,
             "ticks": ""
            },
            "colorscale": [
             [
              0,
              "#0d0887"
             ],
             [
              0.1111111111111111,
              "#46039f"
             ],
             [
              0.2222222222222222,
              "#7201a8"
             ],
             [
              0.3333333333333333,
              "#9c179e"
             ],
             [
              0.4444444444444444,
              "#bd3786"
             ],
             [
              0.5555555555555556,
              "#d8576b"
             ],
             [
              0.6666666666666666,
              "#ed7953"
             ],
             [
              0.7777777777777778,
              "#fb9f3a"
             ],
             [
              0.8888888888888888,
              "#fdca26"
             ],
             [
              1,
              "#f0f921"
             ]
            ],
            "type": "heatmapgl"
           }
          ],
          "histogram": [
           {
            "marker": {
             "pattern": {
              "fillmode": "overlay",
              "size": 10,
              "solidity": 0.2
             }
            },
            "type": "histogram"
           }
          ],
          "histogram2d": [
           {
            "colorbar": {
             "outlinewidth": 0,
             "ticks": ""
            },
            "colorscale": [
             [
              0,
              "#0d0887"
             ],
             [
              0.1111111111111111,
              "#46039f"
             ],
             [
              0.2222222222222222,
              "#7201a8"
             ],
             [
              0.3333333333333333,
              "#9c179e"
             ],
             [
              0.4444444444444444,
              "#bd3786"
             ],
             [
              0.5555555555555556,
              "#d8576b"
             ],
             [
              0.6666666666666666,
              "#ed7953"
             ],
             [
              0.7777777777777778,
              "#fb9f3a"
             ],
             [
              0.8888888888888888,
              "#fdca26"
             ],
             [
              1,
              "#f0f921"
             ]
            ],
            "type": "histogram2d"
           }
          ],
          "histogram2dcontour": [
           {
            "colorbar": {
             "outlinewidth": 0,
             "ticks": ""
            },
            "colorscale": [
             [
              0,
              "#0d0887"
             ],
             [
              0.1111111111111111,
              "#46039f"
             ],
             [
              0.2222222222222222,
              "#7201a8"
             ],
             [
              0.3333333333333333,
              "#9c179e"
             ],
             [
              0.4444444444444444,
              "#bd3786"
             ],
             [
              0.5555555555555556,
              "#d8576b"
             ],
             [
              0.6666666666666666,
              "#ed7953"
             ],
             [
              0.7777777777777778,
              "#fb9f3a"
             ],
             [
              0.8888888888888888,
              "#fdca26"
             ],
             [
              1,
              "#f0f921"
             ]
            ],
            "type": "histogram2dcontour"
           }
          ],
          "mesh3d": [
           {
            "colorbar": {
             "outlinewidth": 0,
             "ticks": ""
            },
            "type": "mesh3d"
           }
          ],
          "parcoords": [
           {
            "line": {
             "colorbar": {
              "outlinewidth": 0,
              "ticks": ""
             }
            },
            "type": "parcoords"
           }
          ],
          "pie": [
           {
            "automargin": true,
            "type": "pie"
           }
          ],
          "scatter": [
           {
            "marker": {
             "line": {
              "color": "#283442"
             }
            },
            "type": "scatter"
           }
          ],
          "scatter3d": [
           {
            "line": {
             "colorbar": {
              "outlinewidth": 0,
              "ticks": ""
             }
            },
            "marker": {
             "colorbar": {
              "outlinewidth": 0,
              "ticks": ""
             }
            },
            "type": "scatter3d"
           }
          ],
          "scattercarpet": [
           {
            "marker": {
             "colorbar": {
              "outlinewidth": 0,
              "ticks": ""
             }
            },
            "type": "scattercarpet"
           }
          ],
          "scattergeo": [
           {
            "marker": {
             "colorbar": {
              "outlinewidth": 0,
              "ticks": ""
             }
            },
            "type": "scattergeo"
           }
          ],
          "scattergl": [
           {
            "marker": {
             "line": {
              "color": "#283442"
             }
            },
            "type": "scattergl"
           }
          ],
          "scattermapbox": [
           {
            "marker": {
             "colorbar": {
              "outlinewidth": 0,
              "ticks": ""
             }
            },
            "type": "scattermapbox"
           }
          ],
          "scatterpolar": [
           {
            "marker": {
             "colorbar": {
              "outlinewidth": 0,
              "ticks": ""
             }
            },
            "type": "scatterpolar"
           }
          ],
          "scatterpolargl": [
           {
            "marker": {
             "colorbar": {
              "outlinewidth": 0,
              "ticks": ""
             }
            },
            "type": "scatterpolargl"
           }
          ],
          "scatterternary": [
           {
            "marker": {
             "colorbar": {
              "outlinewidth": 0,
              "ticks": ""
             }
            },
            "type": "scatterternary"
           }
          ],
          "surface": [
           {
            "colorbar": {
             "outlinewidth": 0,
             "ticks": ""
            },
            "colorscale": [
             [
              0,
              "#0d0887"
             ],
             [
              0.1111111111111111,
              "#46039f"
             ],
             [
              0.2222222222222222,
              "#7201a8"
             ],
             [
              0.3333333333333333,
              "#9c179e"
             ],
             [
              0.4444444444444444,
              "#bd3786"
             ],
             [
              0.5555555555555556,
              "#d8576b"
             ],
             [
              0.6666666666666666,
              "#ed7953"
             ],
             [
              0.7777777777777778,
              "#fb9f3a"
             ],
             [
              0.8888888888888888,
              "#fdca26"
             ],
             [
              1,
              "#f0f921"
             ]
            ],
            "type": "surface"
           }
          ],
          "table": [
           {
            "cells": {
             "fill": {
              "color": "#506784"
             },
             "line": {
              "color": "rgb(17,17,17)"
             }
            },
            "header": {
             "fill": {
              "color": "#2a3f5f"
             },
             "line": {
              "color": "rgb(17,17,17)"
             }
            },
            "type": "table"
           }
          ]
         },
         "layout": {
          "annotationdefaults": {
           "arrowcolor": "#f2f5fa",
           "arrowhead": 0,
           "arrowwidth": 1
          },
          "autotypenumbers": "strict",
          "coloraxis": {
           "colorbar": {
            "outlinewidth": 0,
            "ticks": ""
           }
          },
          "colorscale": {
           "diverging": [
            [
             0,
             "#8e0152"
            ],
            [
             0.1,
             "#c51b7d"
            ],
            [
             0.2,
             "#de77ae"
            ],
            [
             0.3,
             "#f1b6da"
            ],
            [
             0.4,
             "#fde0ef"
            ],
            [
             0.5,
             "#f7f7f7"
            ],
            [
             0.6,
             "#e6f5d0"
            ],
            [
             0.7,
             "#b8e186"
            ],
            [
             0.8,
             "#7fbc41"
            ],
            [
             0.9,
             "#4d9221"
            ],
            [
             1,
             "#276419"
            ]
           ],
           "sequential": [
            [
             0,
             "#0d0887"
            ],
            [
             0.1111111111111111,
             "#46039f"
            ],
            [
             0.2222222222222222,
             "#7201a8"
            ],
            [
             0.3333333333333333,
             "#9c179e"
            ],
            [
             0.4444444444444444,
             "#bd3786"
            ],
            [
             0.5555555555555556,
             "#d8576b"
            ],
            [
             0.6666666666666666,
             "#ed7953"
            ],
            [
             0.7777777777777778,
             "#fb9f3a"
            ],
            [
             0.8888888888888888,
             "#fdca26"
            ],
            [
             1,
             "#f0f921"
            ]
           ],
           "sequentialminus": [
            [
             0,
             "#0d0887"
            ],
            [
             0.1111111111111111,
             "#46039f"
            ],
            [
             0.2222222222222222,
             "#7201a8"
            ],
            [
             0.3333333333333333,
             "#9c179e"
            ],
            [
             0.4444444444444444,
             "#bd3786"
            ],
            [
             0.5555555555555556,
             "#d8576b"
            ],
            [
             0.6666666666666666,
             "#ed7953"
            ],
            [
             0.7777777777777778,
             "#fb9f3a"
            ],
            [
             0.8888888888888888,
             "#fdca26"
            ],
            [
             1,
             "#f0f921"
            ]
           ]
          },
          "colorway": [
           "#636efa",
           "#EF553B",
           "#00cc96",
           "#ab63fa",
           "#FFA15A",
           "#19d3f3",
           "#FF6692",
           "#B6E880",
           "#FF97FF",
           "#FECB52"
          ],
          "font": {
           "color": "#f2f5fa"
          },
          "geo": {
           "bgcolor": "rgb(17,17,17)",
           "lakecolor": "rgb(17,17,17)",
           "landcolor": "rgb(17,17,17)",
           "showlakes": true,
           "showland": true,
           "subunitcolor": "#506784"
          },
          "hoverlabel": {
           "align": "left"
          },
          "hovermode": "closest",
          "mapbox": {
           "style": "dark"
          },
          "paper_bgcolor": "rgb(17,17,17)",
          "plot_bgcolor": "rgb(17,17,17)",
          "polar": {
           "angularaxis": {
            "gridcolor": "#506784",
            "linecolor": "#506784",
            "ticks": ""
           },
           "bgcolor": "rgb(17,17,17)",
           "radialaxis": {
            "gridcolor": "#506784",
            "linecolor": "#506784",
            "ticks": ""
           }
          },
          "scene": {
           "xaxis": {
            "backgroundcolor": "rgb(17,17,17)",
            "gridcolor": "#506784",
            "gridwidth": 2,
            "linecolor": "#506784",
            "showbackground": true,
            "ticks": "",
            "zerolinecolor": "#C8D4E3"
           },
           "yaxis": {
            "backgroundcolor": "rgb(17,17,17)",
            "gridcolor": "#506784",
            "gridwidth": 2,
            "linecolor": "#506784",
            "showbackground": true,
            "ticks": "",
            "zerolinecolor": "#C8D4E3"
           },
           "zaxis": {
            "backgroundcolor": "rgb(17,17,17)",
            "gridcolor": "#506784",
            "gridwidth": 2,
            "linecolor": "#506784",
            "showbackground": true,
            "ticks": "",
            "zerolinecolor": "#C8D4E3"
           }
          },
          "shapedefaults": {
           "line": {
            "color": "#f2f5fa"
           }
          },
          "sliderdefaults": {
           "bgcolor": "#C8D4E3",
           "bordercolor": "rgb(17,17,17)",
           "borderwidth": 1,
           "tickwidth": 0
          },
          "ternary": {
           "aaxis": {
            "gridcolor": "#506784",
            "linecolor": "#506784",
            "ticks": ""
           },
           "baxis": {
            "gridcolor": "#506784",
            "linecolor": "#506784",
            "ticks": ""
           },
           "bgcolor": "rgb(17,17,17)",
           "caxis": {
            "gridcolor": "#506784",
            "linecolor": "#506784",
            "ticks": ""
           }
          },
          "title": {
           "x": 0.05
          },
          "updatemenudefaults": {
           "bgcolor": "#506784",
           "borderwidth": 0
          },
          "xaxis": {
           "automargin": true,
           "gridcolor": "#283442",
           "linecolor": "#506784",
           "ticks": "",
           "title": {
            "standoff": 15
           },
           "zerolinecolor": "#283442",
           "zerolinewidth": 2
          },
          "yaxis": {
           "automargin": true,
           "gridcolor": "#283442",
           "linecolor": "#506784",
           "ticks": "",
           "title": {
            "standoff": 15
           },
           "zerolinecolor": "#283442",
           "zerolinewidth": 2
          }
         }
        },
        "title": {
         "text": "Mood by hour"
        },
        "xaxis": {
         "anchor": "y",
         "domain": [
          0,
          1
         ],
         "dtick": 1,
         "title": {
          "text": "Hour"
         }
        },
        "yaxis": {
         "anchor": "x",
         "domain": [
          0,
          1
         ],
         "title": {
          "text": "Mood"
         }
        }
       }
      }
     },
     "metadata": {},
     "output_type": "display_data"
    }
   ],
   "source": [
    "df.by_time_bar_plot('hour')"
   ]
  },
  {
   "cell_type": "code",
   "execution_count": 36,
   "metadata": {
    "metadata": {}
   },
   "outputs": [
    {
     "data": {
      "application/vnd.plotly.v1+json": {
       "config": {
        "plotlyServerURL": "https://plot.ly"
       },
       "data": [
        {
         "alignmentgroup": "True",
         "hovertemplate": "Day=%{x}<br>Mood=%{y}<br>Number of entries=%{marker.color}<extra></extra>",
         "legendgroup": "",
         "marker": {
          "color": [
           42,
           49,
           50,
           44,
           45,
           42,
           44,
           41,
           35,
           46,
           43,
           43,
           49,
           42,
           50,
           49,
           45,
           39,
           39,
           45,
           52,
           46,
           43,
           44,
           44,
           45,
           43,
           47,
           36,
           37,
           24
          ],
          "coloraxis": "coloraxis",
          "pattern": {
           "shape": ""
          }
         },
         "name": "",
         "offsetgroup": "",
         "orientation": "v",
         "showlegend": false,
         "textposition": "auto",
         "type": "bar",
         "x": [
          28,
          27,
          26,
          25,
          24,
          23,
          22,
          21,
          20,
          19,
          18,
          17,
          16,
          15,
          14,
          13,
          12,
          11,
          10,
          9,
          8,
          7,
          6,
          5,
          4,
          3,
          2,
          1,
          30,
          29,
          31
         ],
         "xaxis": "x",
         "y": [
          3.7857142857142856,
          3.9183673469387754,
          3.8,
          3.772727272727273,
          3.6444444444444444,
          3.75,
          3.875,
          3.7195121951219514,
          3.857142857142857,
          3.847826086956522,
          4.127906976744186,
          3.744186046511628,
          3.806122448979592,
          3.8095238095238093,
          3.79,
          3.9081632653061225,
          3.888888888888889,
          3.9743589743589745,
          3.8846153846153846,
          3.7777777777777777,
          3.855769230769231,
          3.782608695652174,
          3.7906976744186047,
          3.7045454545454546,
          3.897727272727273,
          3.811111111111111,
          3.744186046511628,
          3.851063829787234,
          3.7222222222222223,
          3.7567567567567566,
          3.625
         ],
         "yaxis": "y"
        }
       ],
       "layout": {
        "barmode": "relative",
        "coloraxis": {
         "colorbar": {
          "title": {
           "text": "Number of entries"
          }
         },
         "colorscale": [
          [
           0,
           "#440154"
          ],
          [
           0.1111111111111111,
           "#482878"
          ],
          [
           0.2222222222222222,
           "#3e4989"
          ],
          [
           0.3333333333333333,
           "#31688e"
          ],
          [
           0.4444444444444444,
           "#26828e"
          ],
          [
           0.5555555555555556,
           "#1f9e89"
          ],
          [
           0.6666666666666666,
           "#35b779"
          ],
          [
           0.7777777777777778,
           "#6ece58"
          ],
          [
           0.8888888888888888,
           "#b5de2b"
          ],
          [
           1,
           "#fde725"
          ]
         ]
        },
        "legend": {
         "tracegroupgap": 0
        },
        "template": {
         "data": {
          "bar": [
           {
            "error_x": {
             "color": "#f2f5fa"
            },
            "error_y": {
             "color": "#f2f5fa"
            },
            "marker": {
             "line": {
              "color": "rgb(17,17,17)",
              "width": 0.5
             },
             "pattern": {
              "fillmode": "overlay",
              "size": 10,
              "solidity": 0.2
             }
            },
            "type": "bar"
           }
          ],
          "barpolar": [
           {
            "marker": {
             "line": {
              "color": "rgb(17,17,17)",
              "width": 0.5
             },
             "pattern": {
              "fillmode": "overlay",
              "size": 10,
              "solidity": 0.2
             }
            },
            "type": "barpolar"
           }
          ],
          "carpet": [
           {
            "aaxis": {
             "endlinecolor": "#A2B1C6",
             "gridcolor": "#506784",
             "linecolor": "#506784",
             "minorgridcolor": "#506784",
             "startlinecolor": "#A2B1C6"
            },
            "baxis": {
             "endlinecolor": "#A2B1C6",
             "gridcolor": "#506784",
             "linecolor": "#506784",
             "minorgridcolor": "#506784",
             "startlinecolor": "#A2B1C6"
            },
            "type": "carpet"
           }
          ],
          "choropleth": [
           {
            "colorbar": {
             "outlinewidth": 0,
             "ticks": ""
            },
            "type": "choropleth"
           }
          ],
          "contour": [
           {
            "colorbar": {
             "outlinewidth": 0,
             "ticks": ""
            },
            "colorscale": [
             [
              0,
              "#0d0887"
             ],
             [
              0.1111111111111111,
              "#46039f"
             ],
             [
              0.2222222222222222,
              "#7201a8"
             ],
             [
              0.3333333333333333,
              "#9c179e"
             ],
             [
              0.4444444444444444,
              "#bd3786"
             ],
             [
              0.5555555555555556,
              "#d8576b"
             ],
             [
              0.6666666666666666,
              "#ed7953"
             ],
             [
              0.7777777777777778,
              "#fb9f3a"
             ],
             [
              0.8888888888888888,
              "#fdca26"
             ],
             [
              1,
              "#f0f921"
             ]
            ],
            "type": "contour"
           }
          ],
          "contourcarpet": [
           {
            "colorbar": {
             "outlinewidth": 0,
             "ticks": ""
            },
            "type": "contourcarpet"
           }
          ],
          "heatmap": [
           {
            "colorbar": {
             "outlinewidth": 0,
             "ticks": ""
            },
            "colorscale": [
             [
              0,
              "#0d0887"
             ],
             [
              0.1111111111111111,
              "#46039f"
             ],
             [
              0.2222222222222222,
              "#7201a8"
             ],
             [
              0.3333333333333333,
              "#9c179e"
             ],
             [
              0.4444444444444444,
              "#bd3786"
             ],
             [
              0.5555555555555556,
              "#d8576b"
             ],
             [
              0.6666666666666666,
              "#ed7953"
             ],
             [
              0.7777777777777778,
              "#fb9f3a"
             ],
             [
              0.8888888888888888,
              "#fdca26"
             ],
             [
              1,
              "#f0f921"
             ]
            ],
            "type": "heatmap"
           }
          ],
          "heatmapgl": [
           {
            "colorbar": {
             "outlinewidth": 0,
             "ticks": ""
            },
            "colorscale": [
             [
              0,
              "#0d0887"
             ],
             [
              0.1111111111111111,
              "#46039f"
             ],
             [
              0.2222222222222222,
              "#7201a8"
             ],
             [
              0.3333333333333333,
              "#9c179e"
             ],
             [
              0.4444444444444444,
              "#bd3786"
             ],
             [
              0.5555555555555556,
              "#d8576b"
             ],
             [
              0.6666666666666666,
              "#ed7953"
             ],
             [
              0.7777777777777778,
              "#fb9f3a"
             ],
             [
              0.8888888888888888,
              "#fdca26"
             ],
             [
              1,
              "#f0f921"
             ]
            ],
            "type": "heatmapgl"
           }
          ],
          "histogram": [
           {
            "marker": {
             "pattern": {
              "fillmode": "overlay",
              "size": 10,
              "solidity": 0.2
             }
            },
            "type": "histogram"
           }
          ],
          "histogram2d": [
           {
            "colorbar": {
             "outlinewidth": 0,
             "ticks": ""
            },
            "colorscale": [
             [
              0,
              "#0d0887"
             ],
             [
              0.1111111111111111,
              "#46039f"
             ],
             [
              0.2222222222222222,
              "#7201a8"
             ],
             [
              0.3333333333333333,
              "#9c179e"
             ],
             [
              0.4444444444444444,
              "#bd3786"
             ],
             [
              0.5555555555555556,
              "#d8576b"
             ],
             [
              0.6666666666666666,
              "#ed7953"
             ],
             [
              0.7777777777777778,
              "#fb9f3a"
             ],
             [
              0.8888888888888888,
              "#fdca26"
             ],
             [
              1,
              "#f0f921"
             ]
            ],
            "type": "histogram2d"
           }
          ],
          "histogram2dcontour": [
           {
            "colorbar": {
             "outlinewidth": 0,
             "ticks": ""
            },
            "colorscale": [
             [
              0,
              "#0d0887"
             ],
             [
              0.1111111111111111,
              "#46039f"
             ],
             [
              0.2222222222222222,
              "#7201a8"
             ],
             [
              0.3333333333333333,
              "#9c179e"
             ],
             [
              0.4444444444444444,
              "#bd3786"
             ],
             [
              0.5555555555555556,
              "#d8576b"
             ],
             [
              0.6666666666666666,
              "#ed7953"
             ],
             [
              0.7777777777777778,
              "#fb9f3a"
             ],
             [
              0.8888888888888888,
              "#fdca26"
             ],
             [
              1,
              "#f0f921"
             ]
            ],
            "type": "histogram2dcontour"
           }
          ],
          "mesh3d": [
           {
            "colorbar": {
             "outlinewidth": 0,
             "ticks": ""
            },
            "type": "mesh3d"
           }
          ],
          "parcoords": [
           {
            "line": {
             "colorbar": {
              "outlinewidth": 0,
              "ticks": ""
             }
            },
            "type": "parcoords"
           }
          ],
          "pie": [
           {
            "automargin": true,
            "type": "pie"
           }
          ],
          "scatter": [
           {
            "marker": {
             "line": {
              "color": "#283442"
             }
            },
            "type": "scatter"
           }
          ],
          "scatter3d": [
           {
            "line": {
             "colorbar": {
              "outlinewidth": 0,
              "ticks": ""
             }
            },
            "marker": {
             "colorbar": {
              "outlinewidth": 0,
              "ticks": ""
             }
            },
            "type": "scatter3d"
           }
          ],
          "scattercarpet": [
           {
            "marker": {
             "colorbar": {
              "outlinewidth": 0,
              "ticks": ""
             }
            },
            "type": "scattercarpet"
           }
          ],
          "scattergeo": [
           {
            "marker": {
             "colorbar": {
              "outlinewidth": 0,
              "ticks": ""
             }
            },
            "type": "scattergeo"
           }
          ],
          "scattergl": [
           {
            "marker": {
             "line": {
              "color": "#283442"
             }
            },
            "type": "scattergl"
           }
          ],
          "scattermapbox": [
           {
            "marker": {
             "colorbar": {
              "outlinewidth": 0,
              "ticks": ""
             }
            },
            "type": "scattermapbox"
           }
          ],
          "scatterpolar": [
           {
            "marker": {
             "colorbar": {
              "outlinewidth": 0,
              "ticks": ""
             }
            },
            "type": "scatterpolar"
           }
          ],
          "scatterpolargl": [
           {
            "marker": {
             "colorbar": {
              "outlinewidth": 0,
              "ticks": ""
             }
            },
            "type": "scatterpolargl"
           }
          ],
          "scatterternary": [
           {
            "marker": {
             "colorbar": {
              "outlinewidth": 0,
              "ticks": ""
             }
            },
            "type": "scatterternary"
           }
          ],
          "surface": [
           {
            "colorbar": {
             "outlinewidth": 0,
             "ticks": ""
            },
            "colorscale": [
             [
              0,
              "#0d0887"
             ],
             [
              0.1111111111111111,
              "#46039f"
             ],
             [
              0.2222222222222222,
              "#7201a8"
             ],
             [
              0.3333333333333333,
              "#9c179e"
             ],
             [
              0.4444444444444444,
              "#bd3786"
             ],
             [
              0.5555555555555556,
              "#d8576b"
             ],
             [
              0.6666666666666666,
              "#ed7953"
             ],
             [
              0.7777777777777778,
              "#fb9f3a"
             ],
             [
              0.8888888888888888,
              "#fdca26"
             ],
             [
              1,
              "#f0f921"
             ]
            ],
            "type": "surface"
           }
          ],
          "table": [
           {
            "cells": {
             "fill": {
              "color": "#506784"
             },
             "line": {
              "color": "rgb(17,17,17)"
             }
            },
            "header": {
             "fill": {
              "color": "#2a3f5f"
             },
             "line": {
              "color": "rgb(17,17,17)"
             }
            },
            "type": "table"
           }
          ]
         },
         "layout": {
          "annotationdefaults": {
           "arrowcolor": "#f2f5fa",
           "arrowhead": 0,
           "arrowwidth": 1
          },
          "autotypenumbers": "strict",
          "coloraxis": {
           "colorbar": {
            "outlinewidth": 0,
            "ticks": ""
           }
          },
          "colorscale": {
           "diverging": [
            [
             0,
             "#8e0152"
            ],
            [
             0.1,
             "#c51b7d"
            ],
            [
             0.2,
             "#de77ae"
            ],
            [
             0.3,
             "#f1b6da"
            ],
            [
             0.4,
             "#fde0ef"
            ],
            [
             0.5,
             "#f7f7f7"
            ],
            [
             0.6,
             "#e6f5d0"
            ],
            [
             0.7,
             "#b8e186"
            ],
            [
             0.8,
             "#7fbc41"
            ],
            [
             0.9,
             "#4d9221"
            ],
            [
             1,
             "#276419"
            ]
           ],
           "sequential": [
            [
             0,
             "#0d0887"
            ],
            [
             0.1111111111111111,
             "#46039f"
            ],
            [
             0.2222222222222222,
             "#7201a8"
            ],
            [
             0.3333333333333333,
             "#9c179e"
            ],
            [
             0.4444444444444444,
             "#bd3786"
            ],
            [
             0.5555555555555556,
             "#d8576b"
            ],
            [
             0.6666666666666666,
             "#ed7953"
            ],
            [
             0.7777777777777778,
             "#fb9f3a"
            ],
            [
             0.8888888888888888,
             "#fdca26"
            ],
            [
             1,
             "#f0f921"
            ]
           ],
           "sequentialminus": [
            [
             0,
             "#0d0887"
            ],
            [
             0.1111111111111111,
             "#46039f"
            ],
            [
             0.2222222222222222,
             "#7201a8"
            ],
            [
             0.3333333333333333,
             "#9c179e"
            ],
            [
             0.4444444444444444,
             "#bd3786"
            ],
            [
             0.5555555555555556,
             "#d8576b"
            ],
            [
             0.6666666666666666,
             "#ed7953"
            ],
            [
             0.7777777777777778,
             "#fb9f3a"
            ],
            [
             0.8888888888888888,
             "#fdca26"
            ],
            [
             1,
             "#f0f921"
            ]
           ]
          },
          "colorway": [
           "#636efa",
           "#EF553B",
           "#00cc96",
           "#ab63fa",
           "#FFA15A",
           "#19d3f3",
           "#FF6692",
           "#B6E880",
           "#FF97FF",
           "#FECB52"
          ],
          "font": {
           "color": "#f2f5fa"
          },
          "geo": {
           "bgcolor": "rgb(17,17,17)",
           "lakecolor": "rgb(17,17,17)",
           "landcolor": "rgb(17,17,17)",
           "showlakes": true,
           "showland": true,
           "subunitcolor": "#506784"
          },
          "hoverlabel": {
           "align": "left"
          },
          "hovermode": "closest",
          "mapbox": {
           "style": "dark"
          },
          "paper_bgcolor": "rgb(17,17,17)",
          "plot_bgcolor": "rgb(17,17,17)",
          "polar": {
           "angularaxis": {
            "gridcolor": "#506784",
            "linecolor": "#506784",
            "ticks": ""
           },
           "bgcolor": "rgb(17,17,17)",
           "radialaxis": {
            "gridcolor": "#506784",
            "linecolor": "#506784",
            "ticks": ""
           }
          },
          "scene": {
           "xaxis": {
            "backgroundcolor": "rgb(17,17,17)",
            "gridcolor": "#506784",
            "gridwidth": 2,
            "linecolor": "#506784",
            "showbackground": true,
            "ticks": "",
            "zerolinecolor": "#C8D4E3"
           },
           "yaxis": {
            "backgroundcolor": "rgb(17,17,17)",
            "gridcolor": "#506784",
            "gridwidth": 2,
            "linecolor": "#506784",
            "showbackground": true,
            "ticks": "",
            "zerolinecolor": "#C8D4E3"
           },
           "zaxis": {
            "backgroundcolor": "rgb(17,17,17)",
            "gridcolor": "#506784",
            "gridwidth": 2,
            "linecolor": "#506784",
            "showbackground": true,
            "ticks": "",
            "zerolinecolor": "#C8D4E3"
           }
          },
          "shapedefaults": {
           "line": {
            "color": "#f2f5fa"
           }
          },
          "sliderdefaults": {
           "bgcolor": "#C8D4E3",
           "bordercolor": "rgb(17,17,17)",
           "borderwidth": 1,
           "tickwidth": 0
          },
          "ternary": {
           "aaxis": {
            "gridcolor": "#506784",
            "linecolor": "#506784",
            "ticks": ""
           },
           "baxis": {
            "gridcolor": "#506784",
            "linecolor": "#506784",
            "ticks": ""
           },
           "bgcolor": "rgb(17,17,17)",
           "caxis": {
            "gridcolor": "#506784",
            "linecolor": "#506784",
            "ticks": ""
           }
          },
          "title": {
           "x": 0.05
          },
          "updatemenudefaults": {
           "bgcolor": "#506784",
           "borderwidth": 0
          },
          "xaxis": {
           "automargin": true,
           "gridcolor": "#283442",
           "linecolor": "#506784",
           "ticks": "",
           "title": {
            "standoff": 15
           },
           "zerolinecolor": "#283442",
           "zerolinewidth": 2
          },
          "yaxis": {
           "automargin": true,
           "gridcolor": "#283442",
           "linecolor": "#506784",
           "ticks": "",
           "title": {
            "standoff": 15
           },
           "zerolinecolor": "#283442",
           "zerolinewidth": 2
          }
         }
        },
        "title": {
         "text": "Mood by day"
        },
        "xaxis": {
         "anchor": "y",
         "domain": [
          0,
          1
         ],
         "dtick": 1,
         "title": {
          "text": "Day"
         }
        },
        "yaxis": {
         "anchor": "x",
         "domain": [
          0,
          1
         ],
         "title": {
          "text": "Mood"
         }
        }
       }
      }
     },
     "metadata": {},
     "output_type": "display_data"
    }
   ],
   "source": [
    "df.by_time_bar_plot('day')"
   ]
  },
  {
   "cell_type": "code",
   "execution_count": 37,
   "metadata": {
    "metadata": {}
   },
   "outputs": [
    {
     "data": {
      "application/vnd.plotly.v1+json": {
       "config": {
        "plotlyServerURL": "https://plot.ly"
       },
       "data": [
        {
         "alignmentgroup": "True",
         "hovertemplate": "Weekday=%{x}<br>Mood=%{y}<br>Number of entries=%{marker.color}<extra></extra>",
         "legendgroup": "",
         "marker": {
          "color": [
           201,
           194,
           211,
           182,
           188,
           186,
           181
          ],
          "coloraxis": "coloraxis",
          "pattern": {
           "shape": ""
          }
         },
         "name": "",
         "offsetgroup": "",
         "orientation": "v",
         "showlegend": false,
         "textposition": "auto",
         "type": "bar",
         "x": [
          6,
          5,
          4,
          3,
          2,
          1,
          0
         ],
         "xaxis": "x",
         "y": [
          3.810945273631841,
          3.902061855670103,
          3.755924170616114,
          3.8049450549450547,
          3.8324468085106385,
          3.825268817204301,
          3.792817679558011
         ],
         "yaxis": "y"
        }
       ],
       "layout": {
        "barmode": "relative",
        "coloraxis": {
         "colorbar": {
          "title": {
           "text": "Number of entries"
          }
         },
         "colorscale": [
          [
           0,
           "#440154"
          ],
          [
           0.1111111111111111,
           "#482878"
          ],
          [
           0.2222222222222222,
           "#3e4989"
          ],
          [
           0.3333333333333333,
           "#31688e"
          ],
          [
           0.4444444444444444,
           "#26828e"
          ],
          [
           0.5555555555555556,
           "#1f9e89"
          ],
          [
           0.6666666666666666,
           "#35b779"
          ],
          [
           0.7777777777777778,
           "#6ece58"
          ],
          [
           0.8888888888888888,
           "#b5de2b"
          ],
          [
           1,
           "#fde725"
          ]
         ]
        },
        "legend": {
         "tracegroupgap": 0
        },
        "template": {
         "data": {
          "bar": [
           {
            "error_x": {
             "color": "#f2f5fa"
            },
            "error_y": {
             "color": "#f2f5fa"
            },
            "marker": {
             "line": {
              "color": "rgb(17,17,17)",
              "width": 0.5
             },
             "pattern": {
              "fillmode": "overlay",
              "size": 10,
              "solidity": 0.2
             }
            },
            "type": "bar"
           }
          ],
          "barpolar": [
           {
            "marker": {
             "line": {
              "color": "rgb(17,17,17)",
              "width": 0.5
             },
             "pattern": {
              "fillmode": "overlay",
              "size": 10,
              "solidity": 0.2
             }
            },
            "type": "barpolar"
           }
          ],
          "carpet": [
           {
            "aaxis": {
             "endlinecolor": "#A2B1C6",
             "gridcolor": "#506784",
             "linecolor": "#506784",
             "minorgridcolor": "#506784",
             "startlinecolor": "#A2B1C6"
            },
            "baxis": {
             "endlinecolor": "#A2B1C6",
             "gridcolor": "#506784",
             "linecolor": "#506784",
             "minorgridcolor": "#506784",
             "startlinecolor": "#A2B1C6"
            },
            "type": "carpet"
           }
          ],
          "choropleth": [
           {
            "colorbar": {
             "outlinewidth": 0,
             "ticks": ""
            },
            "type": "choropleth"
           }
          ],
          "contour": [
           {
            "colorbar": {
             "outlinewidth": 0,
             "ticks": ""
            },
            "colorscale": [
             [
              0,
              "#0d0887"
             ],
             [
              0.1111111111111111,
              "#46039f"
             ],
             [
              0.2222222222222222,
              "#7201a8"
             ],
             [
              0.3333333333333333,
              "#9c179e"
             ],
             [
              0.4444444444444444,
              "#bd3786"
             ],
             [
              0.5555555555555556,
              "#d8576b"
             ],
             [
              0.6666666666666666,
              "#ed7953"
             ],
             [
              0.7777777777777778,
              "#fb9f3a"
             ],
             [
              0.8888888888888888,
              "#fdca26"
             ],
             [
              1,
              "#f0f921"
             ]
            ],
            "type": "contour"
           }
          ],
          "contourcarpet": [
           {
            "colorbar": {
             "outlinewidth": 0,
             "ticks": ""
            },
            "type": "contourcarpet"
           }
          ],
          "heatmap": [
           {
            "colorbar": {
             "outlinewidth": 0,
             "ticks": ""
            },
            "colorscale": [
             [
              0,
              "#0d0887"
             ],
             [
              0.1111111111111111,
              "#46039f"
             ],
             [
              0.2222222222222222,
              "#7201a8"
             ],
             [
              0.3333333333333333,
              "#9c179e"
             ],
             [
              0.4444444444444444,
              "#bd3786"
             ],
             [
              0.5555555555555556,
              "#d8576b"
             ],
             [
              0.6666666666666666,
              "#ed7953"
             ],
             [
              0.7777777777777778,
              "#fb9f3a"
             ],
             [
              0.8888888888888888,
              "#fdca26"
             ],
             [
              1,
              "#f0f921"
             ]
            ],
            "type": "heatmap"
           }
          ],
          "heatmapgl": [
           {
            "colorbar": {
             "outlinewidth": 0,
             "ticks": ""
            },
            "colorscale": [
             [
              0,
              "#0d0887"
             ],
             [
              0.1111111111111111,
              "#46039f"
             ],
             [
              0.2222222222222222,
              "#7201a8"
             ],
             [
              0.3333333333333333,
              "#9c179e"
             ],
             [
              0.4444444444444444,
              "#bd3786"
             ],
             [
              0.5555555555555556,
              "#d8576b"
             ],
             [
              0.6666666666666666,
              "#ed7953"
             ],
             [
              0.7777777777777778,
              "#fb9f3a"
             ],
             [
              0.8888888888888888,
              "#fdca26"
             ],
             [
              1,
              "#f0f921"
             ]
            ],
            "type": "heatmapgl"
           }
          ],
          "histogram": [
           {
            "marker": {
             "pattern": {
              "fillmode": "overlay",
              "size": 10,
              "solidity": 0.2
             }
            },
            "type": "histogram"
           }
          ],
          "histogram2d": [
           {
            "colorbar": {
             "outlinewidth": 0,
             "ticks": ""
            },
            "colorscale": [
             [
              0,
              "#0d0887"
             ],
             [
              0.1111111111111111,
              "#46039f"
             ],
             [
              0.2222222222222222,
              "#7201a8"
             ],
             [
              0.3333333333333333,
              "#9c179e"
             ],
             [
              0.4444444444444444,
              "#bd3786"
             ],
             [
              0.5555555555555556,
              "#d8576b"
             ],
             [
              0.6666666666666666,
              "#ed7953"
             ],
             [
              0.7777777777777778,
              "#fb9f3a"
             ],
             [
              0.8888888888888888,
              "#fdca26"
             ],
             [
              1,
              "#f0f921"
             ]
            ],
            "type": "histogram2d"
           }
          ],
          "histogram2dcontour": [
           {
            "colorbar": {
             "outlinewidth": 0,
             "ticks": ""
            },
            "colorscale": [
             [
              0,
              "#0d0887"
             ],
             [
              0.1111111111111111,
              "#46039f"
             ],
             [
              0.2222222222222222,
              "#7201a8"
             ],
             [
              0.3333333333333333,
              "#9c179e"
             ],
             [
              0.4444444444444444,
              "#bd3786"
             ],
             [
              0.5555555555555556,
              "#d8576b"
             ],
             [
              0.6666666666666666,
              "#ed7953"
             ],
             [
              0.7777777777777778,
              "#fb9f3a"
             ],
             [
              0.8888888888888888,
              "#fdca26"
             ],
             [
              1,
              "#f0f921"
             ]
            ],
            "type": "histogram2dcontour"
           }
          ],
          "mesh3d": [
           {
            "colorbar": {
             "outlinewidth": 0,
             "ticks": ""
            },
            "type": "mesh3d"
           }
          ],
          "parcoords": [
           {
            "line": {
             "colorbar": {
              "outlinewidth": 0,
              "ticks": ""
             }
            },
            "type": "parcoords"
           }
          ],
          "pie": [
           {
            "automargin": true,
            "type": "pie"
           }
          ],
          "scatter": [
           {
            "marker": {
             "line": {
              "color": "#283442"
             }
            },
            "type": "scatter"
           }
          ],
          "scatter3d": [
           {
            "line": {
             "colorbar": {
              "outlinewidth": 0,
              "ticks": ""
             }
            },
            "marker": {
             "colorbar": {
              "outlinewidth": 0,
              "ticks": ""
             }
            },
            "type": "scatter3d"
           }
          ],
          "scattercarpet": [
           {
            "marker": {
             "colorbar": {
              "outlinewidth": 0,
              "ticks": ""
             }
            },
            "type": "scattercarpet"
           }
          ],
          "scattergeo": [
           {
            "marker": {
             "colorbar": {
              "outlinewidth": 0,
              "ticks": ""
             }
            },
            "type": "scattergeo"
           }
          ],
          "scattergl": [
           {
            "marker": {
             "line": {
              "color": "#283442"
             }
            },
            "type": "scattergl"
           }
          ],
          "scattermapbox": [
           {
            "marker": {
             "colorbar": {
              "outlinewidth": 0,
              "ticks": ""
             }
            },
            "type": "scattermapbox"
           }
          ],
          "scatterpolar": [
           {
            "marker": {
             "colorbar": {
              "outlinewidth": 0,
              "ticks": ""
             }
            },
            "type": "scatterpolar"
           }
          ],
          "scatterpolargl": [
           {
            "marker": {
             "colorbar": {
              "outlinewidth": 0,
              "ticks": ""
             }
            },
            "type": "scatterpolargl"
           }
          ],
          "scatterternary": [
           {
            "marker": {
             "colorbar": {
              "outlinewidth": 0,
              "ticks": ""
             }
            },
            "type": "scatterternary"
           }
          ],
          "surface": [
           {
            "colorbar": {
             "outlinewidth": 0,
             "ticks": ""
            },
            "colorscale": [
             [
              0,
              "#0d0887"
             ],
             [
              0.1111111111111111,
              "#46039f"
             ],
             [
              0.2222222222222222,
              "#7201a8"
             ],
             [
              0.3333333333333333,
              "#9c179e"
             ],
             [
              0.4444444444444444,
              "#bd3786"
             ],
             [
              0.5555555555555556,
              "#d8576b"
             ],
             [
              0.6666666666666666,
              "#ed7953"
             ],
             [
              0.7777777777777778,
              "#fb9f3a"
             ],
             [
              0.8888888888888888,
              "#fdca26"
             ],
             [
              1,
              "#f0f921"
             ]
            ],
            "type": "surface"
           }
          ],
          "table": [
           {
            "cells": {
             "fill": {
              "color": "#506784"
             },
             "line": {
              "color": "rgb(17,17,17)"
             }
            },
            "header": {
             "fill": {
              "color": "#2a3f5f"
             },
             "line": {
              "color": "rgb(17,17,17)"
             }
            },
            "type": "table"
           }
          ]
         },
         "layout": {
          "annotationdefaults": {
           "arrowcolor": "#f2f5fa",
           "arrowhead": 0,
           "arrowwidth": 1
          },
          "autotypenumbers": "strict",
          "coloraxis": {
           "colorbar": {
            "outlinewidth": 0,
            "ticks": ""
           }
          },
          "colorscale": {
           "diverging": [
            [
             0,
             "#8e0152"
            ],
            [
             0.1,
             "#c51b7d"
            ],
            [
             0.2,
             "#de77ae"
            ],
            [
             0.3,
             "#f1b6da"
            ],
            [
             0.4,
             "#fde0ef"
            ],
            [
             0.5,
             "#f7f7f7"
            ],
            [
             0.6,
             "#e6f5d0"
            ],
            [
             0.7,
             "#b8e186"
            ],
            [
             0.8,
             "#7fbc41"
            ],
            [
             0.9,
             "#4d9221"
            ],
            [
             1,
             "#276419"
            ]
           ],
           "sequential": [
            [
             0,
             "#0d0887"
            ],
            [
             0.1111111111111111,
             "#46039f"
            ],
            [
             0.2222222222222222,
             "#7201a8"
            ],
            [
             0.3333333333333333,
             "#9c179e"
            ],
            [
             0.4444444444444444,
             "#bd3786"
            ],
            [
             0.5555555555555556,
             "#d8576b"
            ],
            [
             0.6666666666666666,
             "#ed7953"
            ],
            [
             0.7777777777777778,
             "#fb9f3a"
            ],
            [
             0.8888888888888888,
             "#fdca26"
            ],
            [
             1,
             "#f0f921"
            ]
           ],
           "sequentialminus": [
            [
             0,
             "#0d0887"
            ],
            [
             0.1111111111111111,
             "#46039f"
            ],
            [
             0.2222222222222222,
             "#7201a8"
            ],
            [
             0.3333333333333333,
             "#9c179e"
            ],
            [
             0.4444444444444444,
             "#bd3786"
            ],
            [
             0.5555555555555556,
             "#d8576b"
            ],
            [
             0.6666666666666666,
             "#ed7953"
            ],
            [
             0.7777777777777778,
             "#fb9f3a"
            ],
            [
             0.8888888888888888,
             "#fdca26"
            ],
            [
             1,
             "#f0f921"
            ]
           ]
          },
          "colorway": [
           "#636efa",
           "#EF553B",
           "#00cc96",
           "#ab63fa",
           "#FFA15A",
           "#19d3f3",
           "#FF6692",
           "#B6E880",
           "#FF97FF",
           "#FECB52"
          ],
          "font": {
           "color": "#f2f5fa"
          },
          "geo": {
           "bgcolor": "rgb(17,17,17)",
           "lakecolor": "rgb(17,17,17)",
           "landcolor": "rgb(17,17,17)",
           "showlakes": true,
           "showland": true,
           "subunitcolor": "#506784"
          },
          "hoverlabel": {
           "align": "left"
          },
          "hovermode": "closest",
          "mapbox": {
           "style": "dark"
          },
          "paper_bgcolor": "rgb(17,17,17)",
          "plot_bgcolor": "rgb(17,17,17)",
          "polar": {
           "angularaxis": {
            "gridcolor": "#506784",
            "linecolor": "#506784",
            "ticks": ""
           },
           "bgcolor": "rgb(17,17,17)",
           "radialaxis": {
            "gridcolor": "#506784",
            "linecolor": "#506784",
            "ticks": ""
           }
          },
          "scene": {
           "xaxis": {
            "backgroundcolor": "rgb(17,17,17)",
            "gridcolor": "#506784",
            "gridwidth": 2,
            "linecolor": "#506784",
            "showbackground": true,
            "ticks": "",
            "zerolinecolor": "#C8D4E3"
           },
           "yaxis": {
            "backgroundcolor": "rgb(17,17,17)",
            "gridcolor": "#506784",
            "gridwidth": 2,
            "linecolor": "#506784",
            "showbackground": true,
            "ticks": "",
            "zerolinecolor": "#C8D4E3"
           },
           "zaxis": {
            "backgroundcolor": "rgb(17,17,17)",
            "gridcolor": "#506784",
            "gridwidth": 2,
            "linecolor": "#506784",
            "showbackground": true,
            "ticks": "",
            "zerolinecolor": "#C8D4E3"
           }
          },
          "shapedefaults": {
           "line": {
            "color": "#f2f5fa"
           }
          },
          "sliderdefaults": {
           "bgcolor": "#C8D4E3",
           "bordercolor": "rgb(17,17,17)",
           "borderwidth": 1,
           "tickwidth": 0
          },
          "ternary": {
           "aaxis": {
            "gridcolor": "#506784",
            "linecolor": "#506784",
            "ticks": ""
           },
           "baxis": {
            "gridcolor": "#506784",
            "linecolor": "#506784",
            "ticks": ""
           },
           "bgcolor": "rgb(17,17,17)",
           "caxis": {
            "gridcolor": "#506784",
            "linecolor": "#506784",
            "ticks": ""
           }
          },
          "title": {
           "x": 0.05
          },
          "updatemenudefaults": {
           "bgcolor": "#506784",
           "borderwidth": 0
          },
          "xaxis": {
           "automargin": true,
           "gridcolor": "#283442",
           "linecolor": "#506784",
           "ticks": "",
           "title": {
            "standoff": 15
           },
           "zerolinecolor": "#283442",
           "zerolinewidth": 2
          },
          "yaxis": {
           "automargin": true,
           "gridcolor": "#283442",
           "linecolor": "#506784",
           "ticks": "",
           "title": {
            "standoff": 15
           },
           "zerolinecolor": "#283442",
           "zerolinewidth": 2
          }
         }
        },
        "title": {
         "text": "Mood by weekday"
        },
        "xaxis": {
         "anchor": "y",
         "domain": [
          0,
          1
         ],
         "dtick": 1,
         "tickmode": "array",
         "ticktext": [
          "Mon",
          "Tue",
          "Wed",
          "Thu",
          "Fri",
          "Sat",
          "Sun"
         ],
         "tickvals": [
          0,
          1,
          2,
          3,
          4,
          5,
          6
         ],
         "title": {
          "text": "Weekday"
         }
        },
        "yaxis": {
         "anchor": "x",
         "domain": [
          0,
          1
         ],
         "title": {
          "text": "Mood"
         }
        }
       }
      }
     },
     "metadata": {},
     "output_type": "display_data"
    }
   ],
   "source": [
    "df.by_time_bar_plot('weekday')"
   ]
  },
  {
   "cell_type": "code",
   "execution_count": 38,
   "metadata": {
    "metadata": {}
   },
   "outputs": [
    {
     "data": {
      "application/vnd.plotly.v1+json": {
       "config": {
        "plotlyServerURL": "https://plot.ly"
       },
       "data": [
        {
         "alignmentgroup": "True",
         "hovertemplate": "Month=%{x}<br>Mood=%{y}<br>Number of entries=%{marker.color}<extra></extra>",
         "legendgroup": "",
         "marker": {
          "color": [
           203,
           138,
           126,
           121,
           123,
           108,
           94,
           95,
           109,
           71,
           58,
           97
          ],
          "coloraxis": "coloraxis",
          "pattern": {
           "shape": ""
          }
         },
         "name": "",
         "offsetgroup": "",
         "orientation": "v",
         "showlegend": false,
         "textposition": "auto",
         "type": "bar",
         "x": [
          7,
          6,
          5,
          4,
          3,
          2,
          1,
          12,
          11,
          10,
          9,
          8
         ],
         "xaxis": "x",
         "y": [
          3.748768472906404,
          3.858695652173913,
          3.8333333333333335,
          3.7975206611570247,
          3.6910569105691056,
          3.662037037037037,
          3.904255319148936,
          3.9105263157894736,
          3.7844036697247705,
          4.063380281690141,
          3.9741379310344827,
          3.8247422680412373
         ],
         "yaxis": "y"
        }
       ],
       "layout": {
        "barmode": "relative",
        "coloraxis": {
         "colorbar": {
          "title": {
           "text": "Number of entries"
          }
         },
         "colorscale": [
          [
           0,
           "#440154"
          ],
          [
           0.1111111111111111,
           "#482878"
          ],
          [
           0.2222222222222222,
           "#3e4989"
          ],
          [
           0.3333333333333333,
           "#31688e"
          ],
          [
           0.4444444444444444,
           "#26828e"
          ],
          [
           0.5555555555555556,
           "#1f9e89"
          ],
          [
           0.6666666666666666,
           "#35b779"
          ],
          [
           0.7777777777777778,
           "#6ece58"
          ],
          [
           0.8888888888888888,
           "#b5de2b"
          ],
          [
           1,
           "#fde725"
          ]
         ]
        },
        "legend": {
         "tracegroupgap": 0
        },
        "template": {
         "data": {
          "bar": [
           {
            "error_x": {
             "color": "#f2f5fa"
            },
            "error_y": {
             "color": "#f2f5fa"
            },
            "marker": {
             "line": {
              "color": "rgb(17,17,17)",
              "width": 0.5
             },
             "pattern": {
              "fillmode": "overlay",
              "size": 10,
              "solidity": 0.2
             }
            },
            "type": "bar"
           }
          ],
          "barpolar": [
           {
            "marker": {
             "line": {
              "color": "rgb(17,17,17)",
              "width": 0.5
             },
             "pattern": {
              "fillmode": "overlay",
              "size": 10,
              "solidity": 0.2
             }
            },
            "type": "barpolar"
           }
          ],
          "carpet": [
           {
            "aaxis": {
             "endlinecolor": "#A2B1C6",
             "gridcolor": "#506784",
             "linecolor": "#506784",
             "minorgridcolor": "#506784",
             "startlinecolor": "#A2B1C6"
            },
            "baxis": {
             "endlinecolor": "#A2B1C6",
             "gridcolor": "#506784",
             "linecolor": "#506784",
             "minorgridcolor": "#506784",
             "startlinecolor": "#A2B1C6"
            },
            "type": "carpet"
           }
          ],
          "choropleth": [
           {
            "colorbar": {
             "outlinewidth": 0,
             "ticks": ""
            },
            "type": "choropleth"
           }
          ],
          "contour": [
           {
            "colorbar": {
             "outlinewidth": 0,
             "ticks": ""
            },
            "colorscale": [
             [
              0,
              "#0d0887"
             ],
             [
              0.1111111111111111,
              "#46039f"
             ],
             [
              0.2222222222222222,
              "#7201a8"
             ],
             [
              0.3333333333333333,
              "#9c179e"
             ],
             [
              0.4444444444444444,
              "#bd3786"
             ],
             [
              0.5555555555555556,
              "#d8576b"
             ],
             [
              0.6666666666666666,
              "#ed7953"
             ],
             [
              0.7777777777777778,
              "#fb9f3a"
             ],
             [
              0.8888888888888888,
              "#fdca26"
             ],
             [
              1,
              "#f0f921"
             ]
            ],
            "type": "contour"
           }
          ],
          "contourcarpet": [
           {
            "colorbar": {
             "outlinewidth": 0,
             "ticks": ""
            },
            "type": "contourcarpet"
           }
          ],
          "heatmap": [
           {
            "colorbar": {
             "outlinewidth": 0,
             "ticks": ""
            },
            "colorscale": [
             [
              0,
              "#0d0887"
             ],
             [
              0.1111111111111111,
              "#46039f"
             ],
             [
              0.2222222222222222,
              "#7201a8"
             ],
             [
              0.3333333333333333,
              "#9c179e"
             ],
             [
              0.4444444444444444,
              "#bd3786"
             ],
             [
              0.5555555555555556,
              "#d8576b"
             ],
             [
              0.6666666666666666,
              "#ed7953"
             ],
             [
              0.7777777777777778,
              "#fb9f3a"
             ],
             [
              0.8888888888888888,
              "#fdca26"
             ],
             [
              1,
              "#f0f921"
             ]
            ],
            "type": "heatmap"
           }
          ],
          "heatmapgl": [
           {
            "colorbar": {
             "outlinewidth": 0,
             "ticks": ""
            },
            "colorscale": [
             [
              0,
              "#0d0887"
             ],
             [
              0.1111111111111111,
              "#46039f"
             ],
             [
              0.2222222222222222,
              "#7201a8"
             ],
             [
              0.3333333333333333,
              "#9c179e"
             ],
             [
              0.4444444444444444,
              "#bd3786"
             ],
             [
              0.5555555555555556,
              "#d8576b"
             ],
             [
              0.6666666666666666,
              "#ed7953"
             ],
             [
              0.7777777777777778,
              "#fb9f3a"
             ],
             [
              0.8888888888888888,
              "#fdca26"
             ],
             [
              1,
              "#f0f921"
             ]
            ],
            "type": "heatmapgl"
           }
          ],
          "histogram": [
           {
            "marker": {
             "pattern": {
              "fillmode": "overlay",
              "size": 10,
              "solidity": 0.2
             }
            },
            "type": "histogram"
           }
          ],
          "histogram2d": [
           {
            "colorbar": {
             "outlinewidth": 0,
             "ticks": ""
            },
            "colorscale": [
             [
              0,
              "#0d0887"
             ],
             [
              0.1111111111111111,
              "#46039f"
             ],
             [
              0.2222222222222222,
              "#7201a8"
             ],
             [
              0.3333333333333333,
              "#9c179e"
             ],
             [
              0.4444444444444444,
              "#bd3786"
             ],
             [
              0.5555555555555556,
              "#d8576b"
             ],
             [
              0.6666666666666666,
              "#ed7953"
             ],
             [
              0.7777777777777778,
              "#fb9f3a"
             ],
             [
              0.8888888888888888,
              "#fdca26"
             ],
             [
              1,
              "#f0f921"
             ]
            ],
            "type": "histogram2d"
           }
          ],
          "histogram2dcontour": [
           {
            "colorbar": {
             "outlinewidth": 0,
             "ticks": ""
            },
            "colorscale": [
             [
              0,
              "#0d0887"
             ],
             [
              0.1111111111111111,
              "#46039f"
             ],
             [
              0.2222222222222222,
              "#7201a8"
             ],
             [
              0.3333333333333333,
              "#9c179e"
             ],
             [
              0.4444444444444444,
              "#bd3786"
             ],
             [
              0.5555555555555556,
              "#d8576b"
             ],
             [
              0.6666666666666666,
              "#ed7953"
             ],
             [
              0.7777777777777778,
              "#fb9f3a"
             ],
             [
              0.8888888888888888,
              "#fdca26"
             ],
             [
              1,
              "#f0f921"
             ]
            ],
            "type": "histogram2dcontour"
           }
          ],
          "mesh3d": [
           {
            "colorbar": {
             "outlinewidth": 0,
             "ticks": ""
            },
            "type": "mesh3d"
           }
          ],
          "parcoords": [
           {
            "line": {
             "colorbar": {
              "outlinewidth": 0,
              "ticks": ""
             }
            },
            "type": "parcoords"
           }
          ],
          "pie": [
           {
            "automargin": true,
            "type": "pie"
           }
          ],
          "scatter": [
           {
            "marker": {
             "line": {
              "color": "#283442"
             }
            },
            "type": "scatter"
           }
          ],
          "scatter3d": [
           {
            "line": {
             "colorbar": {
              "outlinewidth": 0,
              "ticks": ""
             }
            },
            "marker": {
             "colorbar": {
              "outlinewidth": 0,
              "ticks": ""
             }
            },
            "type": "scatter3d"
           }
          ],
          "scattercarpet": [
           {
            "marker": {
             "colorbar": {
              "outlinewidth": 0,
              "ticks": ""
             }
            },
            "type": "scattercarpet"
           }
          ],
          "scattergeo": [
           {
            "marker": {
             "colorbar": {
              "outlinewidth": 0,
              "ticks": ""
             }
            },
            "type": "scattergeo"
           }
          ],
          "scattergl": [
           {
            "marker": {
             "line": {
              "color": "#283442"
             }
            },
            "type": "scattergl"
           }
          ],
          "scattermapbox": [
           {
            "marker": {
             "colorbar": {
              "outlinewidth": 0,
              "ticks": ""
             }
            },
            "type": "scattermapbox"
           }
          ],
          "scatterpolar": [
           {
            "marker": {
             "colorbar": {
              "outlinewidth": 0,
              "ticks": ""
             }
            },
            "type": "scatterpolar"
           }
          ],
          "scatterpolargl": [
           {
            "marker": {
             "colorbar": {
              "outlinewidth": 0,
              "ticks": ""
             }
            },
            "type": "scatterpolargl"
           }
          ],
          "scatterternary": [
           {
            "marker": {
             "colorbar": {
              "outlinewidth": 0,
              "ticks": ""
             }
            },
            "type": "scatterternary"
           }
          ],
          "surface": [
           {
            "colorbar": {
             "outlinewidth": 0,
             "ticks": ""
            },
            "colorscale": [
             [
              0,
              "#0d0887"
             ],
             [
              0.1111111111111111,
              "#46039f"
             ],
             [
              0.2222222222222222,
              "#7201a8"
             ],
             [
              0.3333333333333333,
              "#9c179e"
             ],
             [
              0.4444444444444444,
              "#bd3786"
             ],
             [
              0.5555555555555556,
              "#d8576b"
             ],
             [
              0.6666666666666666,
              "#ed7953"
             ],
             [
              0.7777777777777778,
              "#fb9f3a"
             ],
             [
              0.8888888888888888,
              "#fdca26"
             ],
             [
              1,
              "#f0f921"
             ]
            ],
            "type": "surface"
           }
          ],
          "table": [
           {
            "cells": {
             "fill": {
              "color": "#506784"
             },
             "line": {
              "color": "rgb(17,17,17)"
             }
            },
            "header": {
             "fill": {
              "color": "#2a3f5f"
             },
             "line": {
              "color": "rgb(17,17,17)"
             }
            },
            "type": "table"
           }
          ]
         },
         "layout": {
          "annotationdefaults": {
           "arrowcolor": "#f2f5fa",
           "arrowhead": 0,
           "arrowwidth": 1
          },
          "autotypenumbers": "strict",
          "coloraxis": {
           "colorbar": {
            "outlinewidth": 0,
            "ticks": ""
           }
          },
          "colorscale": {
           "diverging": [
            [
             0,
             "#8e0152"
            ],
            [
             0.1,
             "#c51b7d"
            ],
            [
             0.2,
             "#de77ae"
            ],
            [
             0.3,
             "#f1b6da"
            ],
            [
             0.4,
             "#fde0ef"
            ],
            [
             0.5,
             "#f7f7f7"
            ],
            [
             0.6,
             "#e6f5d0"
            ],
            [
             0.7,
             "#b8e186"
            ],
            [
             0.8,
             "#7fbc41"
            ],
            [
             0.9,
             "#4d9221"
            ],
            [
             1,
             "#276419"
            ]
           ],
           "sequential": [
            [
             0,
             "#0d0887"
            ],
            [
             0.1111111111111111,
             "#46039f"
            ],
            [
             0.2222222222222222,
             "#7201a8"
            ],
            [
             0.3333333333333333,
             "#9c179e"
            ],
            [
             0.4444444444444444,
             "#bd3786"
            ],
            [
             0.5555555555555556,
             "#d8576b"
            ],
            [
             0.6666666666666666,
             "#ed7953"
            ],
            [
             0.7777777777777778,
             "#fb9f3a"
            ],
            [
             0.8888888888888888,
             "#fdca26"
            ],
            [
             1,
             "#f0f921"
            ]
           ],
           "sequentialminus": [
            [
             0,
             "#0d0887"
            ],
            [
             0.1111111111111111,
             "#46039f"
            ],
            [
             0.2222222222222222,
             "#7201a8"
            ],
            [
             0.3333333333333333,
             "#9c179e"
            ],
            [
             0.4444444444444444,
             "#bd3786"
            ],
            [
             0.5555555555555556,
             "#d8576b"
            ],
            [
             0.6666666666666666,
             "#ed7953"
            ],
            [
             0.7777777777777778,
             "#fb9f3a"
            ],
            [
             0.8888888888888888,
             "#fdca26"
            ],
            [
             1,
             "#f0f921"
            ]
           ]
          },
          "colorway": [
           "#636efa",
           "#EF553B",
           "#00cc96",
           "#ab63fa",
           "#FFA15A",
           "#19d3f3",
           "#FF6692",
           "#B6E880",
           "#FF97FF",
           "#FECB52"
          ],
          "font": {
           "color": "#f2f5fa"
          },
          "geo": {
           "bgcolor": "rgb(17,17,17)",
           "lakecolor": "rgb(17,17,17)",
           "landcolor": "rgb(17,17,17)",
           "showlakes": true,
           "showland": true,
           "subunitcolor": "#506784"
          },
          "hoverlabel": {
           "align": "left"
          },
          "hovermode": "closest",
          "mapbox": {
           "style": "dark"
          },
          "paper_bgcolor": "rgb(17,17,17)",
          "plot_bgcolor": "rgb(17,17,17)",
          "polar": {
           "angularaxis": {
            "gridcolor": "#506784",
            "linecolor": "#506784",
            "ticks": ""
           },
           "bgcolor": "rgb(17,17,17)",
           "radialaxis": {
            "gridcolor": "#506784",
            "linecolor": "#506784",
            "ticks": ""
           }
          },
          "scene": {
           "xaxis": {
            "backgroundcolor": "rgb(17,17,17)",
            "gridcolor": "#506784",
            "gridwidth": 2,
            "linecolor": "#506784",
            "showbackground": true,
            "ticks": "",
            "zerolinecolor": "#C8D4E3"
           },
           "yaxis": {
            "backgroundcolor": "rgb(17,17,17)",
            "gridcolor": "#506784",
            "gridwidth": 2,
            "linecolor": "#506784",
            "showbackground": true,
            "ticks": "",
            "zerolinecolor": "#C8D4E3"
           },
           "zaxis": {
            "backgroundcolor": "rgb(17,17,17)",
            "gridcolor": "#506784",
            "gridwidth": 2,
            "linecolor": "#506784",
            "showbackground": true,
            "ticks": "",
            "zerolinecolor": "#C8D4E3"
           }
          },
          "shapedefaults": {
           "line": {
            "color": "#f2f5fa"
           }
          },
          "sliderdefaults": {
           "bgcolor": "#C8D4E3",
           "bordercolor": "rgb(17,17,17)",
           "borderwidth": 1,
           "tickwidth": 0
          },
          "ternary": {
           "aaxis": {
            "gridcolor": "#506784",
            "linecolor": "#506784",
            "ticks": ""
           },
           "baxis": {
            "gridcolor": "#506784",
            "linecolor": "#506784",
            "ticks": ""
           },
           "bgcolor": "rgb(17,17,17)",
           "caxis": {
            "gridcolor": "#506784",
            "linecolor": "#506784",
            "ticks": ""
           }
          },
          "title": {
           "x": 0.05
          },
          "updatemenudefaults": {
           "bgcolor": "#506784",
           "borderwidth": 0
          },
          "xaxis": {
           "automargin": true,
           "gridcolor": "#283442",
           "linecolor": "#506784",
           "ticks": "",
           "title": {
            "standoff": 15
           },
           "zerolinecolor": "#283442",
           "zerolinewidth": 2
          },
          "yaxis": {
           "automargin": true,
           "gridcolor": "#283442",
           "linecolor": "#506784",
           "ticks": "",
           "title": {
            "standoff": 15
           },
           "zerolinecolor": "#283442",
           "zerolinewidth": 2
          }
         }
        },
        "title": {
         "text": "Mood by month"
        },
        "xaxis": {
         "anchor": "y",
         "domain": [
          0,
          1
         ],
         "dtick": 1,
         "tickmode": "array",
         "ticktext": [
          "Jan",
          "Feb",
          "Mar",
          "Apr",
          "May",
          "Jun",
          "Jul",
          "Aug",
          "Sep",
          "Oct",
          "Nov",
          "Dec"
         ],
         "tickvals": [
          1,
          2,
          3,
          4,
          5,
          6,
          7,
          8,
          9,
          10,
          11,
          12
         ],
         "title": {
          "text": "Month"
         }
        },
        "yaxis": {
         "anchor": "x",
         "domain": [
          0,
          1
         ],
         "title": {
          "text": "Mood"
         }
        }
       }
      }
     },
     "metadata": {},
     "output_type": "display_data"
    }
   ],
   "source": [
    "df.by_time_bar_plot('month')"
   ]
  },
  {
   "cell_type": "markdown",
   "metadata": {},
   "source": [
    "## Entries times differences"
   ]
  },
  {
   "cell_type": "code",
   "execution_count": 39,
   "metadata": {
    "metadata": {}
   },
   "outputs": [
    {
     "data": {
      "application/vnd.plotly.v1+json": {
       "config": {
        "plotlyServerURL": "https://plot.ly"
       },
       "data": [
        {
         "line": {
          "dash": "dashdot"
         },
         "mode": "lines+markers",
         "type": "scatter",
         "x": [
          "2023-07-03T20:05:00",
          "2023-07-04T22:50:00",
          "2023-07-06T12:42:00",
          "2023-07-08T13:43:00",
          "2023-07-08T15:52:00",
          "2023-07-09T11:36:00",
          "2023-07-09T22:33:00",
          "2023-07-11T23:00:00",
          "2023-07-12T12:55:00",
          "2023-07-12T21:35:00",
          "2023-07-13T10:42:00",
          "2023-07-15T23:01:00",
          "2023-07-16T20:02:00",
          "2023-07-17T16:10:00",
          "2023-07-17T19:17:00",
          "2023-07-17T20:29:00",
          "2023-07-17T21:37:00",
          "2023-07-18T12:23:00",
          "2023-07-18T13:49:00",
          "2023-07-18T23:12:00",
          "2023-07-19T13:27:00",
          "2023-07-19T18:28:00",
          "2023-07-19T20:16:00",
          "2023-07-19T23:10:00",
          "2023-07-20T13:12:00",
          "2023-07-20T16:58:00",
          "2023-07-20T21:21:00",
          "2023-07-21T11:00:00",
          "2023-07-21T23:25:00",
          "2023-07-22T11:30:00",
          "2023-07-22T13:30:00",
          "2023-07-22T17:09:00",
          "2023-07-22T19:34:00",
          "2023-07-22T22:17:00",
          "2023-07-23T10:56:00",
          "2023-07-23T15:14:00",
          "2023-07-23T17:24:00",
          "2023-07-23T20:49:00",
          "2023-07-24T01:45:00",
          "2023-07-24T20:01:00",
          "2023-07-24T23:54:00",
          "2023-07-25T01:06:00",
          "2023-07-25T14:04:00",
          "2023-07-25T15:49:00",
          "2023-07-25T22:06:00",
          "2023-07-26T15:00:00",
          "2023-07-26T18:20:00",
          "2023-07-26T23:13:00",
          "2023-07-27T01:15:00",
          "2023-07-27T15:54:00",
          "2023-07-27T16:02:00",
          "2023-07-27T21:04:00",
          "2023-07-28T10:16:00",
          "2023-07-28T12:12:00",
          "2023-07-28T16:48:00",
          "2023-07-28T21:15:00",
          "2023-07-28T22:54:00",
          "2023-07-29T10:38:00",
          "2023-07-29T15:39:00",
          "2023-07-29T20:04:00",
          "2023-07-30T11:01:00",
          "2023-07-30T12:08:00",
          "2023-07-30T13:01:00",
          "2023-07-30T23:26:00",
          "2023-07-31T12:00:00",
          "2023-07-31T16:45:00",
          "2023-07-31T17:22:00",
          "2023-08-01T10:53:00",
          "2023-08-01T16:11:00",
          "2023-08-01T23:21:00",
          "2023-08-01T23:59:00",
          "2023-08-02T11:49:00",
          "2023-08-02T15:34:00",
          "2023-08-02T18:30:00",
          "2023-08-02T21:10:00",
          "2023-08-03T00:04:00",
          "2023-08-03T18:01:00",
          "2023-08-03T22:51:00",
          "2023-08-04T09:24:00",
          "2023-08-04T16:34:00",
          "2023-08-05T11:32:00",
          "2023-08-05T15:52:00",
          "2023-08-05T22:29:00",
          "2023-08-05T23:29:00",
          "2023-08-06T12:14:00",
          "2023-08-06T15:48:00",
          "2023-08-06T23:45:00",
          "2023-08-07T15:44:00",
          "2023-08-07T23:42:00",
          "2023-08-08T09:22:00",
          "2023-08-08T11:24:00",
          "2023-08-08T22:02:00",
          "2023-08-09T14:55:00",
          "2023-08-09T16:10:00",
          "2023-08-09T17:49:00",
          "2023-08-09T20:01:00",
          "2023-08-10T00:24:00",
          "2023-08-10T20:12:00",
          "2023-08-11T00:29:00",
          "2023-08-11T11:23:00",
          "2023-08-11T13:36:00",
          "2023-08-11T21:24:00",
          "2023-08-12T15:11:00",
          "2023-08-12T20:11:00",
          "2023-08-12T23:59:00",
          "2023-08-13T01:02:00",
          "2023-08-13T12:23:00",
          "2023-08-13T15:31:00",
          "2023-08-14T21:07:00",
          "2023-08-15T01:02:00",
          "2023-08-16T01:33:00",
          "2023-08-17T23:03:00",
          "2023-08-19T01:27:00",
          "2023-08-20T16:35:00",
          "2023-08-20T21:51:00",
          "2023-08-21T00:14:00",
          "2023-08-21T13:11:00",
          "2023-08-21T20:05:00",
          "2023-08-22T13:18:00",
          "2023-08-22T18:07:00",
          "2023-08-30T19:49:00",
          "2023-08-30T20:00:00",
          "2023-08-31T22:48:00",
          "2023-09-01T12:36:00",
          "2023-09-02T12:13:00",
          "2023-09-02T16:31:00",
          "2023-09-02T21:03:00",
          "2023-09-03T13:33:00",
          "2023-09-03T15:11:00",
          "2023-09-03T23:10:00",
          "2023-09-05T20:14:00",
          "2023-09-06T11:33:00",
          "2023-09-06T23:34:00",
          "2023-09-07T20:24:00",
          "2023-09-08T12:40:00",
          "2023-09-08T21:12:00",
          "2023-09-09T20:01:00",
          "2023-09-10T20:04:00",
          "2023-09-11T13:01:00",
          "2023-09-11T21:24:00",
          "2023-09-12T21:17:00",
          "2023-09-13T16:31:00",
          "2023-09-13T20:09:00",
          "2023-09-14T21:16:00",
          "2023-09-15T13:40:00",
          "2023-09-15T21:55:00",
          "2023-09-29T17:53:00",
          "2023-09-29T19:05:00",
          "2023-09-30T16:10:00",
          "2023-09-30T16:30:00",
          "2023-09-30T20:02:00",
          "2023-10-01T00:30:00",
          "2023-10-01T09:41:00",
          "2023-10-03T10:42:00",
          "2023-10-04T09:12:00",
          "2023-10-05T09:55:00",
          "2023-10-06T16:39:00",
          "2023-10-07T11:03:00",
          "2023-10-07T12:32:00",
          "2023-10-09T17:56:00",
          "2023-10-10T09:49:00",
          "2023-10-10T22:39:00",
          "2023-10-10T22:44:00",
          "2023-10-11T19:00:00",
          "2023-10-13T14:42:00",
          "2023-10-16T12:48:00",
          "2023-10-16T16:57:00",
          "2023-10-18T01:37:00",
          "2023-10-18T01:40:00",
          "2023-10-19T12:19:00",
          "2023-10-23T10:17:00",
          "2023-10-23T17:02:00",
          "2023-10-23T23:20:00",
          "2023-10-24T13:09:00",
          "2023-10-24T20:47:00",
          "2023-10-26T16:11:00",
          "2023-10-27T16:10:00",
          "2023-10-28T23:00:00",
          "2023-10-29T10:05:00",
          "2023-10-30T22:53:00",
          "2023-10-31T15:15:00",
          "2023-10-31T16:44:00",
          "2023-11-03T11:56:00",
          "2023-11-03T14:25:00",
          "2023-11-03T23:42:00",
          "2023-11-04T10:02:00",
          "2023-11-04T20:00:00",
          "2023-11-04T23:45:00",
          "2023-11-05T12:14:00",
          "2023-11-05T23:49:00",
          "2023-11-06T09:58:00",
          "2023-11-06T23:09:00",
          "2023-11-07T11:22:00",
          "2023-11-07T13:43:00",
          "2023-11-07T16:03:00",
          "2023-11-07T21:00:00",
          "2023-11-08T12:19:00",
          "2023-11-08T12:55:00",
          "2023-11-08T23:44:00",
          "2023-11-08T23:44:00",
          "2023-11-09T00:10:00",
          "2023-11-09T15:02:00",
          "2023-11-09T23:52:00",
          "2023-11-10T15:22:00",
          "2023-11-10T21:36:00",
          "2023-11-10T22:24:00",
          "2023-11-11T14:25:00",
          "2023-11-11T17:26:00",
          "2023-11-12T10:00:00",
          "2023-11-12T14:00:00",
          "2023-11-12T17:39:00",
          "2023-11-12T21:00:00",
          "2023-11-13T14:47:00",
          "2023-11-13T15:39:00",
          "2023-11-13T17:03:00",
          "2023-11-14T12:22:00",
          "2023-11-14T13:13:00",
          "2023-11-14T21:06:00",
          "2023-11-15T15:56:00",
          "2023-11-15T19:04:00",
          "2023-11-15T22:00:00",
          "2023-11-16T11:49:00",
          "2023-11-16T20:34:00",
          "2023-11-16T23:27:00",
          "2023-11-17T13:56:00",
          "2023-11-19T23:29:00",
          "2023-11-20T14:48:00",
          "2023-11-20T20:20:00",
          "2023-11-21T21:00:00",
          "2023-11-22T18:49:00",
          "2023-11-22T21:41:00",
          "2023-11-23T15:26:00",
          "2023-11-23T21:57:00",
          "2023-11-24T11:07:00",
          "2023-11-24T15:31:00",
          "2023-11-24T18:17:00",
          "2023-11-25T11:37:00",
          "2023-11-27T19:01:00",
          "2023-11-27T20:30:00",
          "2023-11-28T04:25:00",
          "2023-11-28T13:07:00",
          "2023-11-28T16:49:00",
          "2023-11-28T23:00:00",
          "2023-11-29T16:42:00",
          "2023-11-30T11:07:00",
          "2023-11-30T17:06:00",
          "2023-12-01T00:19:00",
          "2023-12-01T20:01:00",
          "2023-12-02T20:18:00",
          "2023-12-02T20:24:00",
          "2023-12-02T21:48:00",
          "2023-12-03T01:07:00",
          "2023-12-03T11:09:00",
          "2023-12-03T12:39:00",
          "2023-12-03T18:04:00",
          "2023-12-04T20:02:00",
          "2023-12-05T10:46:00",
          "2023-12-05T23:47:00",
          "2023-12-06T11:16:00",
          "2023-12-07T18:30:00",
          "2023-12-07T20:02:00",
          "2023-12-08T22:50:00",
          "2023-12-09T00:21:00",
          "2023-12-09T10:27:00",
          "2023-12-09T12:27:00",
          "2023-12-09T17:53:00",
          "2023-12-09T21:15:00",
          "2023-12-10T14:56:00",
          "2023-12-11T19:50:00",
          "2023-12-12T14:21:00",
          "2023-12-12T21:50:00",
          "2023-12-13T11:55:00",
          "2023-12-13T17:53:00",
          "2023-12-13T23:59:00",
          "2023-12-14T12:44:00",
          "2023-12-14T21:09:00",
          "2023-12-15T12:40:00",
          "2023-12-15T16:25:00",
          "2023-12-18T20:00:00",
          "2023-12-18T23:06:00",
          "2023-12-19T14:16:00",
          "2023-12-19T20:55:00",
          "2023-12-20T12:17:00",
          "2023-12-20T23:00:00",
          "2023-12-20T23:50:00",
          "2023-12-21T15:38:00",
          "2023-12-21T16:38:00",
          "2023-12-21T19:10:00",
          "2023-12-21T20:34:00",
          "2023-12-21T21:38:00",
          "2023-12-22T00:51:00",
          "2023-12-22T13:34:00",
          "2023-12-27T18:55:00",
          "2023-12-27T23:35:00",
          "2023-12-28T00:45:00",
          "2023-12-28T19:05:00",
          "2023-12-29T11:49:00",
          "2023-12-29T23:34:00",
          "2023-12-30T19:00:00",
          "2023-12-31T16:48:00",
          "2023-12-31T21:51:00",
          "2023-12-31T22:21:00",
          "2024-01-01T12:05:00",
          "2024-01-01T18:45:00",
          "2024-01-02T11:53:00",
          "2024-01-02T14:05:00",
          "2024-01-03T15:55:00",
          "2024-01-03T20:40:00",
          "2024-01-04T11:30:00",
          "2024-01-04T14:05:00",
          "2024-01-04T16:15:00",
          "2024-01-04T23:04:00",
          "2024-01-05T12:53:00",
          "2024-01-06T15:37:00",
          "2024-01-08T23:28:00",
          "2024-01-10T23:13:00",
          "2024-01-12T13:56:00",
          "2024-01-12T18:19:00",
          "2024-01-12T20:30:00",
          "2024-01-13T01:00:00",
          "2024-01-13T13:00:00",
          "2024-01-13T16:48:00",
          "2024-01-14T13:19:00",
          "2024-01-14T23:08:00",
          "2024-01-14T23:56:00",
          "2024-01-16T20:47:00",
          "2024-01-16T21:31:00",
          "2024-01-17T21:44:00",
          "2024-01-18T11:43:00",
          "2024-01-18T16:09:00",
          "2024-01-19T23:30:00",
          "2024-01-20T00:20:00",
          "2024-01-20T23:42:00",
          "2024-01-21T23:14:00",
          "2024-01-22T00:48:00",
          "2024-01-22T14:50:00",
          "2024-01-22T16:50:00",
          "2024-01-22T19:51:00",
          "2024-01-24T00:57:00",
          "2024-01-24T02:16:00",
          "2024-01-24T08:10:00",
          "2024-01-25T01:03:00",
          "2024-01-25T16:02:00",
          "2024-01-25T19:30:00",
          "2024-01-25T20:03:00",
          "2024-01-25T23:13:00",
          "2024-01-26T12:14:00",
          "2024-01-26T13:55:00",
          "2024-01-26T15:24:00",
          "2024-01-28T16:16:00",
          "2024-01-28T20:06:00",
          "2024-01-29T00:11:00",
          "2024-01-29T13:50:00",
          "2024-01-29T14:16:00",
          "2024-01-29T17:58:00",
          "2024-01-29T20:02:00",
          "2024-01-30T19:38:00",
          "2024-01-30T23:08:00",
          "2024-02-01T17:36:00",
          "2024-02-01T22:20:00",
          "2024-02-02T15:25:00",
          "2024-02-02T16:51:00",
          "2024-02-03T10:29:00",
          "2024-02-03T13:20:00",
          "2024-02-06T20:10:00",
          "2024-02-06T22:42:00",
          "2024-02-07T00:28:00",
          "2024-02-07T21:45:00",
          "2024-02-08T12:53:00",
          "2024-02-08T15:31:00",
          "2024-02-08T19:10:00",
          "2024-02-08T20:33:00",
          "2024-02-09T13:29:00",
          "2024-02-09T14:42:00",
          "2024-02-09T15:41:00",
          "2024-02-12T10:24:00",
          "2024-02-12T18:25:00",
          "2024-02-12T23:01:00",
          "2024-02-13T10:21:00",
          "2024-02-13T16:43:00",
          "2024-02-13T19:44:00",
          "2024-02-13T21:21:00",
          "2024-02-13T23:04:00",
          "2024-02-14T11:38:00",
          "2024-02-14T15:35:00",
          "2024-02-14T20:47:00",
          "2024-02-14T23:53:00",
          "2024-02-15T12:12:00",
          "2024-02-15T15:45:00",
          "2024-02-15T19:23:00",
          "2024-02-15T21:23:00",
          "2024-02-16T14:08:00",
          "2024-02-16T16:04:00",
          "2024-02-16T16:10:00",
          "2024-02-17T11:13:00",
          "2024-02-17T18:00:00",
          "2024-02-17T18:35:00",
          "2024-02-18T13:18:00",
          "2024-02-18T16:15:00",
          "2024-02-18T19:01:00",
          "2024-02-18T23:23:00",
          "2024-02-19T13:55:00",
          "2024-02-19T20:40:00",
          "2024-02-20T19:15:00",
          "2024-02-21T18:35:00",
          "2024-02-21T21:21:00",
          "2024-02-22T14:08:00",
          "2024-02-22T17:46:00",
          "2024-02-22T21:32:00",
          "2024-02-23T16:25:00",
          "2024-02-23T19:40:00",
          "2024-02-24T11:39:00",
          "2024-02-24T16:01:00",
          "2024-02-25T00:40:00",
          "2024-02-25T17:00:00",
          "2024-02-25T19:02:00",
          "2024-02-26T19:28:00",
          "2024-02-26T20:14:00",
          "2024-02-27T14:08:00",
          "2024-02-27T16:26:00",
          "2024-02-29T23:50:00",
          "2024-03-01T22:05:00",
          "2024-03-02T21:30:00",
          "2024-03-02T22:22:00",
          "2024-03-03T10:20:00",
          "2024-03-03T16:06:00",
          "2024-03-03T22:36:00",
          "2024-03-04T16:34:00",
          "2024-03-04T20:03:00",
          "2024-03-05T21:41:00",
          "2024-03-05T23:12:00",
          "2024-03-06T22:13:00",
          "2024-03-07T13:26:00",
          "2024-03-07T21:46:00",
          "2024-03-08T12:27:00",
          "2024-03-08T13:47:00",
          "2024-03-08T17:26:00",
          "2024-03-08T19:00:00",
          "2024-03-08T19:44:00",
          "2024-03-08T20:00:00",
          "2024-03-09T10:25:00",
          "2024-03-09T10:46:00",
          "2024-03-09T15:22:00",
          "2024-03-09T15:45:00",
          "2024-03-09T17:01:00",
          "2024-03-09T19:02:00",
          "2024-03-09T20:15:00",
          "2024-03-09T23:04:00",
          "2024-03-10T11:59:00",
          "2024-03-10T19:41:00",
          "2024-03-11T21:58:00",
          "2024-03-12T20:20:00",
          "2024-03-12T22:51:00",
          "2024-03-13T19:27:00",
          "2024-03-13T21:55:00",
          "2024-03-14T10:15:00",
          "2024-03-14T11:00:00",
          "2024-03-14T14:48:00",
          "2024-03-14T21:00:00",
          "2024-03-14T22:24:00",
          "2024-03-14T23:49:00",
          "2024-03-15T10:37:00",
          "2024-03-18T12:00:00",
          "2024-03-20T20:42:00",
          "2024-03-21T13:40:00",
          "2024-03-21T15:20:00",
          "2024-03-22T20:00:00",
          "2024-03-23T10:10:00",
          "2024-03-25T16:31:00",
          "2024-03-25T17:32:00",
          "2024-03-25T19:17:00",
          "2024-03-26T10:04:00",
          "2024-03-26T12:04:00",
          "2024-03-26T16:25:00",
          "2024-03-26T16:45:00",
          "2024-03-26T18:04:00",
          "2024-03-27T20:31:00",
          "2024-03-27T22:05:00",
          "2024-03-28T00:25:00",
          "2024-03-28T19:10:00",
          "2024-03-28T20:00:00",
          "2024-03-29T10:20:00",
          "2024-03-29T14:52:00",
          "2024-03-29T19:03:00",
          "2024-03-30T10:02:00",
          "2024-03-30T14:28:00",
          "2024-03-30T18:25:00",
          "2024-03-30T18:35:00",
          "2024-03-31T12:53:00",
          "2024-03-31T16:04:00",
          "2024-03-31T20:00:00",
          "2024-04-01T10:19:00",
          "2024-04-01T13:20:00",
          "2024-04-01T16:35:00",
          "2024-04-01T19:40:00",
          "2024-04-01T23:59:00",
          "2024-04-02T20:00:00",
          "2024-04-02T20:59:00",
          "2024-04-03T20:02:00",
          "2024-04-04T14:10:00",
          "2024-04-04T15:44:00",
          "2024-04-04T18:45:00",
          "2024-04-04T19:40:00",
          "2024-04-04T23:12:00",
          "2024-04-05T11:34:00",
          "2024-04-05T12:54:00",
          "2024-04-05T16:00:00",
          "2024-04-05T20:00:00",
          "2024-04-06T11:49:00",
          "2024-04-06T15:27:00",
          "2024-04-07T08:19:00",
          "2024-04-07T11:41:00",
          "2024-04-07T20:11:00",
          "2024-04-07T22:44:00",
          "2024-04-08T10:00:00",
          "2024-04-08T13:36:00",
          "2024-04-08T15:00:00",
          "2024-04-08T17:47:00",
          "2024-04-08T19:40:00",
          "2024-04-09T22:24:00",
          "2024-04-10T00:45:00",
          "2024-04-10T23:42:00",
          "2024-04-11T14:21:00",
          "2024-04-11T16:22:00",
          "2024-04-11T19:20:00",
          "2024-04-12T05:25:00",
          "2024-04-12T10:59:00",
          "2024-04-12T12:14:00",
          "2024-04-12T15:22:00",
          "2024-04-12T21:41:00",
          "2024-04-12T23:29:00",
          "2024-04-13T12:15:00",
          "2024-04-13T15:50:00",
          "2024-04-13T19:18:00",
          "2024-04-13T23:17:00",
          "2024-04-14T01:07:00",
          "2024-04-15T14:39:00",
          "2024-04-15T15:20:00",
          "2024-04-15T23:54:00",
          "2024-04-16T18:46:00",
          "2024-04-16T19:20:00",
          "2024-04-16T22:00:00",
          "2024-04-16T23:55:00",
          "2024-04-17T07:12:00",
          "2024-04-18T20:11:00",
          "2024-04-19T00:27:00",
          "2024-04-19T10:44:00",
          "2024-04-19T14:31:00",
          "2024-04-19T16:33:00",
          "2024-04-19T19:00:00",
          "2024-04-20T12:27:00",
          "2024-04-22T18:48:00",
          "2024-04-22T20:00:00",
          "2024-04-23T23:02:00",
          "2024-04-24T12:33:00",
          "2024-04-24T15:19:00",
          "2024-04-24T18:28:00",
          "2024-04-24T21:05:00",
          "2024-04-25T19:02:00",
          "2024-04-26T11:49:00",
          "2024-04-26T15:50:00",
          "2024-04-26T16:38:00",
          "2024-04-28T22:38:00",
          "2024-04-29T17:00:00",
          "2024-04-29T22:05:00",
          "2024-05-03T01:12:00",
          "2024-05-04T13:09:00",
          "2024-05-04T15:58:00",
          "2024-05-04T22:05:00",
          "2024-05-04T23:54:00",
          "2024-05-05T10:50:00",
          "2024-05-05T13:51:00",
          "2024-05-05T22:12:00",
          "2024-05-05T22:50:00",
          "2024-05-05T23:17:00",
          "2024-05-07T23:55:00",
          "2024-05-08T09:34:00",
          "2024-05-10T20:29:00",
          "2024-05-11T00:15:00",
          "2024-05-11T10:24:00",
          "2024-05-11T13:20:00",
          "2024-05-11T13:25:00",
          "2024-05-11T16:24:00",
          "2024-05-12T22:22:00",
          "2024-05-13T16:47:00",
          "2024-05-13T22:04:00",
          "2024-05-15T08:41:00",
          "2024-05-15T10:45:00",
          "2024-05-15T13:28:00",
          "2024-05-15T16:00:00",
          "2024-05-16T20:33:00",
          "2024-05-16T23:14:00",
          "2024-05-17T12:57:00",
          "2024-05-17T14:38:00",
          "2024-05-17T22:46:00",
          "2024-05-18T14:01:00",
          "2024-05-21T21:19:00",
          "2024-05-22T10:45:00",
          "2024-05-22T15:56:00",
          "2024-05-23T19:51:00",
          "2024-05-23T21:14:00",
          "2024-05-24T00:23:00",
          "2024-05-24T12:42:00",
          "2024-05-24T15:21:00",
          "2024-05-24T16:07:00",
          "2024-05-24T21:19:00",
          "2024-05-24T22:43:00",
          "2024-05-25T11:43:00",
          "2024-05-25T16:44:00",
          "2024-05-25T22:46:00",
          "2024-05-26T08:09:00",
          "2024-05-26T11:45:00",
          "2024-05-26T13:12:00",
          "2024-05-26T14:00:00",
          "2024-05-26T19:57:00",
          "2024-05-26T23:40:00",
          "2024-05-27T10:59:00",
          "2024-05-27T18:26:00",
          "2024-05-27T22:54:00",
          "2024-05-29T13:05:00",
          "2024-05-29T15:47:00",
          "2024-05-29T17:02:00",
          "2024-05-29T22:00:00",
          "2024-05-30T10:19:00",
          "2024-05-30T13:50:00",
          "2024-05-30T15:00:00",
          "2024-05-30T17:56:00",
          "2024-05-30T20:42:00",
          "2024-05-31T11:29:00",
          "2024-05-31T16:30:00",
          "2024-05-31T21:51:00",
          "2024-06-01T11:05:00",
          "2024-06-01T15:34:00",
          "2024-06-01T16:50:00",
          "2024-06-01T21:36:00",
          "2024-06-02T07:32:00",
          "2024-06-02T11:47:00",
          "2024-06-02T15:44:00",
          "2024-06-03T09:03:00",
          "2024-06-03T11:11:00",
          "2024-06-03T19:18:00",
          "2024-06-03T21:13:00",
          "2024-06-05T13:55:00",
          "2024-06-05T23:23:00",
          "2024-06-06T21:15:00",
          "2024-06-06T23:01:00",
          "2024-06-06T23:32:00",
          "2024-06-07T12:27:00",
          "2024-06-07T16:22:00",
          "2024-06-07T18:41:00",
          "2024-06-07T22:44:00",
          "2024-06-07T23:36:00",
          "2024-06-08T11:10:00",
          "2024-06-08T11:21:00",
          "2024-06-08T12:09:00",
          "2024-06-08T18:01:00",
          "2024-06-08T20:42:00",
          "2024-06-08T23:00:00",
          "2024-06-09T10:57:00",
          "2024-06-09T15:26:00",
          "2024-06-09T16:54:00",
          "2024-06-09T20:38:00",
          "2024-06-09T22:30:00",
          "2024-06-09T23:38:00",
          "2024-06-10T18:56:00",
          "2024-06-10T20:12:00",
          "2024-06-11T00:50:00",
          "2024-06-11T23:25:00",
          "2024-06-12T11:56:00",
          "2024-06-12T15:13:00",
          "2024-06-12T18:50:00",
          "2024-06-12T21:39:00",
          "2024-06-13T21:20:00",
          "2024-06-14T11:34:00",
          "2024-06-14T14:50:00",
          "2024-06-14T22:29:00",
          "2024-06-14T23:48:00",
          "2024-06-15T12:51:00",
          "2024-06-15T20:01:00",
          "2024-06-16T00:23:00",
          "2024-06-16T01:05:00",
          "2024-06-16T10:42:00",
          "2024-06-16T15:07:00",
          "2024-06-16T17:51:00",
          "2024-06-16T22:07:00",
          "2024-06-17T10:43:00",
          "2024-06-17T16:35:00",
          "2024-06-17T20:43:00",
          "2024-06-18T00:21:00",
          "2024-06-19T01:02:00",
          "2024-06-19T11:53:00",
          "2024-06-19T23:08:00",
          "2024-06-19T23:43:00",
          "2024-06-20T20:00:00",
          "2024-06-20T22:27:00",
          "2024-06-21T01:41:00",
          "2024-06-21T12:42:00",
          "2024-06-21T16:00:00",
          "2024-06-22T00:36:00",
          "2024-06-22T10:56:00",
          "2024-06-22T12:55:00",
          "2024-06-22T21:32:00",
          "2024-06-23T14:16:00",
          "2024-06-24T10:55:00",
          "2024-06-24T12:55:00",
          "2024-06-24T14:24:00",
          "2024-06-24T16:18:00",
          "2024-06-24T18:57:00",
          "2024-06-24T23:27:00",
          "2024-06-25T22:00:00",
          "2024-06-26T17:03:00",
          "2024-06-26T17:51:00",
          "2024-06-26T21:49:00",
          "2024-06-27T22:51:00",
          "2024-06-27T23:45:00",
          "2024-06-28T12:39:00",
          "2024-06-28T16:04:00",
          "2024-06-28T17:08:00",
          "2024-06-29T12:40:00",
          "2024-06-29T21:03:00",
          "2024-06-30T00:12:00",
          "2024-06-30T13:50:00",
          "2024-06-30T15:51:00",
          "2024-06-30T17:31:00",
          "2024-07-01T20:59:00",
          "2024-07-02T08:05:00",
          "2024-07-03T00:08:00",
          "2024-07-03T12:24:00",
          "2024-07-03T16:04:00",
          "2024-07-03T21:01:00",
          "2024-07-04T16:54:00",
          "2024-07-04T20:43:00",
          "2024-07-04T22:56:00",
          "2024-07-05T11:33:00",
          "2024-07-05T13:33:00",
          "2024-07-05T16:30:00",
          "2024-07-06T12:17:00",
          "2024-07-06T15:57:00",
          "2024-07-06T20:57:00",
          "2024-07-06T23:52:00",
          "2024-07-07T12:59:00",
          "2024-07-07T17:13:00",
          "2024-07-07T23:38:00",
          "2024-07-08T10:04:00",
          "2024-07-08T11:51:00",
          "2024-07-08T17:12:00",
          "2024-07-08T22:12:00",
          "2024-07-09T22:19:00",
          "2024-07-09T23:06:00",
          "2024-07-10T14:04:00",
          "2024-07-10T17:56:00",
          "2024-07-10T20:28:00",
          "2024-07-10T20:59:00",
          "2024-07-10T23:30:00",
          "2024-07-11T19:05:00",
          "2024-07-11T23:00:00",
          "2024-07-12T01:01:00",
          "2024-07-12T14:28:00",
          "2024-07-12T14:28:00",
          "2024-07-12T23:07:00",
          "2024-07-13T22:17:00",
          "2024-07-14T11:49:00",
          "2024-07-14T12:16:00",
          "2024-07-14T18:25:00",
          "2024-07-14T20:01:00",
          "2024-07-14T22:17:00",
          "2024-07-15T10:14:00",
          "2024-07-15T15:38:00",
          "2024-07-15T20:00:00",
          "2024-07-16T21:05:00",
          "2024-07-16T22:06:00",
          "2024-07-17T12:33:00",
          "2024-07-19T00:23:00",
          "2024-07-19T10:27:00",
          "2024-07-19T14:58:00",
          "2024-07-19T15:59:00",
          "2024-07-19T23:09:00",
          "2024-07-20T09:18:00",
          "2024-07-20T23:57:00",
          "2024-07-21T05:34:00",
          "2024-07-21T10:54:00",
          "2024-07-21T16:26:00",
          "2024-07-21T18:35:00",
          "2024-07-21T22:42:00",
          "2024-07-22T10:27:00",
          "2024-07-22T11:19:00",
          "2024-07-22T22:14:00",
          "2024-07-22T23:22:00",
          "2024-07-23T21:50:00",
          "2024-07-24T16:27:00",
          "2024-07-24T21:23:00",
          "2024-07-25T00:00:00",
          "2024-07-25T07:50:00",
          "2024-07-25T22:58:00",
          "2024-07-27T10:25:00",
          "2024-07-27T16:42:00",
          "2024-07-28T13:01:00",
          "2024-07-28T15:57:00",
          "2024-07-28T21:46:00"
         ],
         "y": [
          2.0034722222222223,
          1.1145833333333333,
          1.5777777777777777,
          2.042361111111111,
          0.08958333333333333,
          0.8222222222222222,
          0.45625,
          2.01875,
          0.5798611111111112,
          0.3611111111111111,
          0.5465277777777777,
          2.5131944444444443,
          0.8756944444444444,
          0.8388888888888889,
          0.12986111111111112,
          0.05,
          0.04722222222222222,
          0.6152777777777778,
          0.059722222222222225,
          0.3909722222222222,
          0.59375,
          0.20902777777777778,
          0.075,
          0.12083333333333333,
          0.5847222222222223,
          0.15694444444444444,
          0.18263888888888888,
          0.56875,
          0.5173611111111112,
          0.5034722222222222,
          0.08333333333333333,
          0.15208333333333332,
          0.10069444444444445,
          0.11319444444444444,
          0.5270833333333333,
          0.17916666666666667,
          0.09027777777777778,
          0.1423611111111111,
          0.20555555555555555,
          0.7611111111111111,
          0.16180555555555556,
          0.05,
          0.5402777777777777,
          0.07291666666666667,
          0.26180555555555557,
          0.7041666666666667,
          0.1388888888888889,
          0.20347222222222222,
          0.08472222222222223,
          0.6104166666666667,
          0.005555555555555556,
          0.20972222222222223,
          0.55,
          0.08055555555555556,
          0.19166666666666668,
          0.18541666666666667,
          0.06875,
          0.4888888888888889,
          0.20902777777777778,
          0.1840277777777778,
          0.6229166666666667,
          0.04652777777777778,
          0.03680555555555556,
          0.4340277777777778,
          0.5236111111111111,
          0.19791666666666666,
          0.025694444444444443,
          0.7298611111111111,
          0.22083333333333333,
          0.2986111111111111,
          0.02638888888888889,
          0.4930555555555556,
          0.15625,
          0.12222222222222222,
          0.1111111111111111,
          0.12083333333333333,
          0.7479166666666667,
          0.2013888888888889,
          0.4395833333333333,
          0.2986111111111111,
          0.7902777777777777,
          0.18055555555555555,
          0.27569444444444446,
          0.041666666666666664,
          0.53125,
          0.1486111111111111,
          0.33125,
          0.6659722222222222,
          0.33194444444444443,
          0.4027777777777778,
          0.08472222222222223,
          0.44305555555555554,
          0.7034722222222223,
          0.052083333333333336,
          0.06875,
          0.09166666666666666,
          0.18263888888888888,
          0.825,
          0.17847222222222223,
          0.45416666666666666,
          0.09236111111111112,
          0.325,
          0.7409722222222223,
          0.20833333333333334,
          0.15833333333333333,
          0.04375,
          0.47291666666666665,
          0.13055555555555556,
          1.2333333333333334,
          0.16319444444444445,
          1.0215277777777778,
          1.8958333333333333,
          1.1,
          1.6305555555555555,
          0.21944444444444444,
          0.09930555555555555,
          0.5395833333333333,
          0.2875,
          0.7173611111111111,
          0.20069444444444445,
          8.070833333333333,
          0.007638888888888889,
          1.1166666666666667,
          0.575,
          0.9840277777777777,
          0.17916666666666667,
          0.18888888888888888,
          0.6875,
          0.06805555555555555,
          0.3326388888888889,
          1.8777777777777778,
          0.6381944444444444,
          0.5006944444444444,
          0.8680555555555556,
          0.6777777777777778,
          0.35555555555555557,
          0.9506944444444444,
          1.0020833333333334,
          0.70625,
          0.34930555555555554,
          0.9951388888888889,
          0.8013888888888889,
          0.15138888888888888,
          1.0465277777777777,
          0.6833333333333333,
          0.34375,
          13.831944444444444,
          0.05,
          0.8784722222222222,
          0.013888888888888888,
          0.14722222222222223,
          0.18611111111111112,
          0.38263888888888886,
          2.042361111111111,
          0.9375,
          1.0298611111111111,
          1.2805555555555554,
          0.7666666666666667,
          0.06180555555555556,
          2.225,
          0.6618055555555555,
          0.5347222222222222,
          0.003472222222222222,
          0.8444444444444444,
          1.8208333333333333,
          2.9208333333333334,
          0.17291666666666666,
          1.3611111111111112,
          0.0020833333333333333,
          1.44375,
          3.915277777777778,
          0.28125,
          0.2625,
          0.5756944444444444,
          0.31805555555555554,
          1.8083333333333333,
          0.9993055555555556,
          1.2847222222222223,
          0.4618055555555556,
          1.5333333333333334,
          0.6819444444444445,
          0.06180555555555556,
          2.8,
          0.10347222222222222,
          0.38680555555555557,
          0.4305555555555556,
          0.4152777777777778,
          0.15625,
          0.5201388888888889,
          0.4826388888888889,
          0.42291666666666666,
          0.5493055555555556,
          0.5090277777777777,
          0.09791666666666667,
          0.09722222222222222,
          0.20625,
          0.6381944444444444,
          0.025,
          0.45069444444444445,
          0,
          0.018055555555555554,
          0.6194444444444445,
          0.3680555555555556,
          0.6458333333333334,
          0.25972222222222224,
          0.03333333333333333,
          0.6673611111111111,
          0.12569444444444444,
          0.6902777777777778,
          0.16666666666666666,
          0.15208333333333332,
          0.13958333333333334,
          0.7409722222222223,
          0.03611111111111111,
          0.058333333333333334,
          0.8048611111111111,
          0.035416666666666666,
          0.3284722222222222,
          0.7847222222222222,
          0.13055555555555556,
          0.12222222222222222,
          0.5756944444444444,
          0.3645833333333333,
          0.12013888888888889,
          0.6034722222222222,
          2.3979166666666667,
          0.6381944444444444,
          0.23055555555555557,
          1.0277777777777777,
          0.9090277777777778,
          0.11944444444444445,
          0.7395833333333334,
          0.27152777777777776,
          0.5486111111111112,
          0.18333333333333332,
          0.11527777777777778,
          0.7222222222222222,
          2.308333333333333,
          0.06180555555555556,
          0.3298611111111111,
          0.3625,
          0.15416666666666667,
          0.25763888888888886,
          0.7375,
          0.7673611111111112,
          0.24930555555555556,
          0.30069444444444443,
          0.8208333333333333,
          1.0118055555555556,
          0.004166666666666667,
          0.058333333333333334,
          0.13819444444444445,
          0.41805555555555557,
          0.0625,
          0.22569444444444445,
          1.0819444444444444,
          0.6138888888888889,
          0.5423611111111111,
          0.47847222222222224,
          1.301388888888889,
          0.06388888888888888,
          1.1166666666666667,
          0.06319444444444444,
          0.42083333333333334,
          0.08333333333333333,
          0.2263888888888889,
          0.14027777777777778,
          0.7368055555555556,
          1.2041666666666666,
          0.7715277777777778,
          0.31180555555555556,
          0.5868055555555556,
          0.24861111111111112,
          0.25416666666666665,
          0.53125,
          0.3506944444444444,
          0.6465277777777778,
          0.15625,
          3.1493055555555554,
          0.12916666666666668,
          0.6319444444444444,
          0.27708333333333335,
          0.6402777777777777,
          0.4465277777777778,
          0.034722222222222224,
          0.6583333333333333,
          0.041666666666666664,
          0.10555555555555556,
          0.058333333333333334,
          0.044444444444444446,
          0.13402777777777777,
          0.5298611111111111,
          5.222916666666666,
          0.19444444444444445,
          0.04861111111111111,
          0.7638888888888888,
          0.6972222222222222,
          0.4895833333333333,
          0.8097222222222222,
          0.9083333333333333,
          0.21041666666666667,
          0.020833333333333332,
          0.5722222222222222,
          0.2777777777777778,
          0.7138888888888889,
          0.09166666666666666,
          1.0763888888888888,
          0.19791666666666666,
          0.6180555555555556,
          0.1076388888888889,
          0.09027777777777778,
          0.28402777777777777,
          0.5756944444444444,
          1.113888888888889,
          2.3270833333333334,
          1.9895833333333333,
          1.6131944444444444,
          0.18263888888888888,
          0.09097222222222222,
          0.1875,
          0.5,
          0.15833333333333333,
          0.8548611111111111,
          0.40902777777777777,
          0.03333333333333333,
          1.86875,
          0.030555555555555555,
          1.0090277777777779,
          0.5826388888888889,
          0.18472222222222223,
          1.30625,
          0.034722222222222224,
          0.9736111111111111,
          0.9805555555555555,
          0.06527777777777778,
          0.5847222222222223,
          0.08333333333333333,
          0.12569444444444444,
          1.2125,
          0.05486111111111111,
          0.24583333333333332,
          0.7034722222222223,
          0.6243055555555556,
          0.14444444444444443,
          0.022916666666666665,
          0.13194444444444445,
          0.5423611111111111,
          0.07013888888888889,
          0.06180555555555556,
          2.036111111111111,
          0.1597222222222222,
          0.1701388888888889,
          0.56875,
          0.018055555555555554,
          0.15416666666666667,
          0.08611111111111111,
          0.9833333333333333,
          0.14583333333333334,
          1.7694444444444444,
          0.19722222222222222,
          0.7118055555555556,
          0.059722222222222225,
          0.7347222222222223,
          0.11875,
          3.2847222222222223,
          0.10555555555555556,
          0.07361111111111111,
          0.8868055555555555,
          0.6305555555555555,
          0.10972222222222222,
          0.15208333333333332,
          0.05763888888888889,
          0.7055555555555556,
          0.050694444444444445,
          0.04097222222222222,
          2.779861111111111,
          0.33402777777777776,
          0.19166666666666668,
          0.4722222222222222,
          0.2652777777777778,
          0.12569444444444444,
          0.06736111111111111,
          0.07152777777777777,
          0.5236111111111111,
          0.16458333333333333,
          0.21666666666666667,
          0.12916666666666668,
          0.5131944444444444,
          0.14791666666666667,
          0.15138888888888888,
          0.08333333333333333,
          0.6979166666666666,
          0.08055555555555556,
          0.004166666666666667,
          0.79375,
          0.2826388888888889,
          0.024305555555555556,
          0.7798611111111111,
          0.12291666666666666,
          0.11527777777777778,
          0.18194444444444444,
          0.6055555555555555,
          0.28125,
          0.9409722222222222,
          0.9722222222222222,
          0.11527777777777778,
          0.6993055555555555,
          0.15138888888888888,
          0.15694444444444444,
          0.7868055555555555,
          0.13541666666666666,
          0.6659722222222222,
          0.18194444444444444,
          0.36041666666666666,
          0.6805555555555556,
          0.08472222222222223,
          1.0180555555555555,
          0.03194444444444444,
          0.7458333333333333,
          0.09583333333333334,
          2.308333333333333,
          0.9270833333333334,
          0.9756944444444444,
          0.03611111111111111,
          0.4986111111111111,
          0.24027777777777778,
          0.2708333333333333,
          0.7486111111111111,
          0.1451388888888889,
          1.0680555555555555,
          0.06319444444444444,
          0.9590277777777778,
          0.6340277777777777,
          0.3472222222222222,
          0.6118055555555556,
          0.05555555555555555,
          0.15208333333333332,
          0.06527777777777778,
          0.030555555555555555,
          0.011111111111111112,
          0.6006944444444444,
          0.014583333333333334,
          0.19166666666666668,
          0.01597222222222222,
          0.05277777777777778,
          0.08402777777777778,
          0.050694444444444445,
          0.11736111111111111,
          0.5381944444444444,
          0.32083333333333336,
          1.0951388888888889,
          0.9319444444444445,
          0.10486111111111111,
          0.8583333333333333,
          0.10277777777777777,
          0.5138888888888888,
          0.03125,
          0.15833333333333333,
          0.25833333333333336,
          0.058333333333333334,
          0.059027777777777776,
          0.45,
          3.057638888888889,
          2.3625,
          0.7069444444444445,
          0.06944444444444445,
          1.1944444444444444,
          0.5902777777777778,
          2.2645833333333334,
          0.04236111111111111,
          0.07291666666666667,
          0.6159722222222223,
          0.08333333333333333,
          0.18125,
          0.013888888888888888,
          0.05486111111111111,
          1.1020833333333333,
          0.06527777777777778,
          0.09722222222222222,
          0.78125,
          0.034722222222222224,
          0.5972222222222222,
          0.18888888888888888,
          0.17430555555555555,
          0.6243055555555556,
          0.18472222222222223,
          0.16458333333333333,
          0.006944444444444444,
          0.7625,
          0.1326388888888889,
          0.1638888888888889,
          0.5965277777777778,
          0.12569444444444444,
          0.13541666666666666,
          0.1284722222222222,
          0.1798611111111111,
          0.8340277777777778,
          0.04097222222222222,
          0.9604166666666667,
          0.7555555555555555,
          0.06527777777777778,
          0.12569444444444444,
          0.03819444444444445,
          0.14722222222222223,
          0.5152777777777777,
          0.05555555555555555,
          0.12916666666666668,
          0.16666666666666666,
          0.6590277777777778,
          0.15138888888888888,
          0.7027777777777777,
          0.14027777777777778,
          0.3541666666666667,
          0.10625,
          0.46944444444444444,
          0.15,
          0.058333333333333334,
          0.11597222222222223,
          0.07847222222222222,
          1.113888888888889,
          0.09791666666666667,
          0.95625,
          0.6104166666666667,
          0.08402777777777778,
          0.12361111111111112,
          0.4201388888888889,
          0.23194444444444445,
          0.052083333333333336,
          0.13055555555555556,
          0.26319444444444445,
          0.075,
          0.5319444444444444,
          0.14930555555555555,
          0.14444444444444443,
          0.16597222222222222,
          0.0763888888888889,
          1.5638888888888889,
          0.02847222222222222,
          0.35694444444444445,
          0.7861111111111111,
          0.02361111111111111,
          0.1111111111111111,
          0.0798611111111111,
          0.3034722222222222,
          1.5409722222222222,
          0.17777777777777778,
          0.4284722222222222,
          0.15763888888888888,
          0.08472222222222223,
          0.10208333333333333,
          0.7270833333333333,
          2.2645833333333334,
          0.05,
          1.1263888888888889,
          0.5631944444444444,
          0.11527777777777778,
          0.13125,
          0.10902777777777778,
          0.9145833333333333,
          0.6993055555555555,
          0.1673611111111111,
          0.03333333333333333,
          2.25,
          0.7652777777777777,
          0.21180555555555555,
          3.129861111111111,
          1.4979166666666666,
          0.11736111111111111,
          0.2548611111111111,
          0.07569444444444444,
          0.45555555555555555,
          0.12569444444444444,
          0.34791666666666665,
          0.02638888888888889,
          0.01875,
          2.026388888888889,
          0.40208333333333335,
          2.454861111111111,
          0.15694444444444444,
          0.42291666666666666,
          0.12222222222222222,
          0.003472222222222222,
          0.12430555555555556,
          1.2486111111111111,
          0.7673611111111112,
          0.22013888888888888,
          1.4423611111111112,
          0.08611111111111111,
          0.11319444444444444,
          0.10555555555555556,
          1.1895833333333334,
          0.11180555555555556,
          0.5715277777777777,
          0.07013888888888889,
          0.3388888888888889,
          0.6354166666666666,
          3.3041666666666667,
          0.5597222222222222,
          0.21597222222222223,
          1.1631944444444444,
          0.05763888888888889,
          0.13125,
          0.5131944444444444,
          0.11041666666666666,
          0.03194444444444444,
          0.21666666666666667,
          0.058333333333333334,
          0.5416666666666666,
          0.20902777777777778,
          0.2513888888888889,
          0.3909722222222222,
          0.15,
          0.06041666666666667,
          0.03333333333333333,
          0.24791666666666667,
          0.15486111111111112,
          0.47152777777777777,
          0.3104166666666667,
          0.18611111111111112,
          1.5909722222222222,
          0.1125,
          0.052083333333333336,
          0.20694444444444443,
          0.5131944444444444,
          0.14652777777777778,
          0.04861111111111111,
          0.12222222222222222,
          0.11527777777777778,
          0.6159722222222223,
          0.20902777777777778,
          0.22291666666666668,
          0.5513888888888889,
          0.18680555555555556,
          0.05277777777777778,
          0.1986111111111111,
          0.41388888888888886,
          0.17708333333333334,
          0.16458333333333333,
          0.7215277777777778,
          0.08888888888888889,
          0.33819444444444446,
          0.0798611111111111,
          1.6958333333333333,
          0.39444444444444443,
          0.9111111111111111,
          0.07361111111111111,
          0.021527777777777778,
          0.5381944444444444,
          0.16319444444444445,
          0.09652777777777778,
          0.16875,
          0.03611111111111111,
          0.48194444444444445,
          0.007638888888888889,
          0.03333333333333333,
          0.24444444444444444,
          0.11180555555555556,
          0.09583333333333334,
          0.4979166666666667,
          0.18680555555555556,
          0.06111111111111111,
          0.15555555555555556,
          0.07777777777777778,
          0.04722222222222222,
          0.8041666666666667,
          0.05277777777777778,
          0.19305555555555556,
          0.9409722222222222,
          0.5215277777777778,
          0.13680555555555557,
          0.15069444444444444,
          0.11736111111111111,
          0.9868055555555556,
          0.5930555555555556,
          0.1361111111111111,
          0.31875,
          0.05486111111111111,
          0.54375,
          0.2986111111111111,
          0.18194444444444444,
          0.029166666666666667,
          0.40069444444444446,
          0.1840277777777778,
          0.11388888888888889,
          0.17777777777777778,
          0.525,
          0.24444444444444444,
          0.17222222222222222,
          0.15138888888888888,
          1.0284722222222222,
          0.45208333333333334,
          0.46875,
          0.024305555555555556,
          0.8451388888888889,
          0.10208333333333333,
          0.13472222222222222,
          0.45902777777777776,
          0.1375,
          0.35833333333333334,
          0.4305555555555556,
          0.08263888888888889,
          0.3590277777777778,
          0.6972222222222222,
          0.8604166666666667,
          0.08333333333333333,
          0.06180555555555556,
          0.07916666666666666,
          0.11041666666666666,
          0.1875,
          0.9395833333333333,
          0.79375,
          0.03333333333333333,
          0.16527777777777777,
          1.0430555555555556,
          0.0375,
          0.5375,
          0.1423611111111111,
          0.044444444444444446,
          0.8138888888888889,
          0.34930555555555554,
          0.13125,
          0.5680555555555555,
          0.08402777777777778,
          0.06944444444444445,
          1.1444444444444444,
          0.4625,
          0.66875,
          0.5111111111111111,
          0.1527777777777778,
          0.20625,
          0.8284722222222223,
          0.15902777777777777,
          0.09236111111111112,
          0.5256944444444445,
          0.08333333333333333,
          0.12291666666666666,
          0.8243055555555555,
          0.1527777777777778,
          0.20833333333333334,
          0.12152777777777778,
          0.5465277777777777,
          0.1763888888888889,
          0.2673611111111111,
          0.43472222222222223,
          0.07430555555555556,
          0.22291666666666668,
          0.20833333333333334,
          1.0048611111111112,
          0.03263888888888889,
          0.6236111111111111,
          0.16111111111111112,
          0.10555555555555556,
          0.021527777777777778,
          0.10486111111111111,
          0.8159722222222222,
          0.16319444444444445,
          0.08402777777777778,
          0.5604166666666667,
          0,
          0.36041666666666666,
          0.9652777777777778,
          0.5638888888888889,
          0.01875,
          0.25625,
          0.06666666666666667,
          0.09444444444444444,
          0.4979166666666667,
          0.225,
          0.18194444444444444,
          1.0451388888888888,
          0.04236111111111111,
          0.6020833333333333,
          1.4930555555555556,
          0.41944444444444445,
          0.18819444444444444,
          0.04236111111111111,
          0.2986111111111111,
          0.42291666666666666,
          0.6104166666666667,
          0.23402777777777778,
          0.2222222222222222,
          0.23055555555555557,
          0.08958333333333333,
          0.17152777777777778,
          0.4895833333333333,
          0.03611111111111111,
          0.4548611111111111,
          0.04722222222222222,
          0.9361111111111111,
          0.7756944444444445,
          0.20555555555555555,
          0.10902777777777778,
          0.3263888888888889,
          0.6305555555555555,
          1.4770833333333333,
          0.26180555555555557,
          0.8465277777777778,
          0.12222222222222222,
          0.2423611111111111
         ]
        },
        {
         "line": {
          "width": 2
         },
         "marker": {
          "size": 0
         },
         "mode": "lines",
         "name": "Sliding average (window size 20)",
         "type": "scatter",
         "x": [
          "2023-07-18T13:49:00",
          "2023-07-18T23:12:00",
          "2023-07-19T13:27:00",
          "2023-07-19T18:28:00",
          "2023-07-19T20:16:00",
          "2023-07-19T23:10:00",
          "2023-07-20T13:12:00",
          "2023-07-20T16:58:00",
          "2023-07-20T21:21:00",
          "2023-07-21T11:00:00",
          "2023-07-21T23:25:00",
          "2023-07-22T11:30:00",
          "2023-07-22T13:30:00",
          "2023-07-22T17:09:00",
          "2023-07-22T19:34:00",
          "2023-07-22T22:17:00",
          "2023-07-23T10:56:00",
          "2023-07-23T15:14:00",
          "2023-07-23T17:24:00",
          "2023-07-23T20:49:00",
          "2023-07-24T01:45:00",
          "2023-07-24T20:01:00",
          "2023-07-24T23:54:00",
          "2023-07-25T01:06:00",
          "2023-07-25T14:04:00",
          "2023-07-25T15:49:00",
          "2023-07-25T22:06:00",
          "2023-07-26T15:00:00",
          "2023-07-26T18:20:00",
          "2023-07-26T23:13:00",
          "2023-07-27T01:15:00",
          "2023-07-27T15:54:00",
          "2023-07-27T16:02:00",
          "2023-07-27T21:04:00",
          "2023-07-28T10:16:00",
          "2023-07-28T12:12:00",
          "2023-07-28T16:48:00",
          "2023-07-28T21:15:00",
          "2023-07-28T22:54:00",
          "2023-07-29T10:38:00",
          "2023-07-29T15:39:00",
          "2023-07-29T20:04:00",
          "2023-07-30T11:01:00",
          "2023-07-30T12:08:00",
          "2023-07-30T13:01:00",
          "2023-07-30T23:26:00",
          "2023-07-31T12:00:00",
          "2023-07-31T16:45:00",
          "2023-07-31T17:22:00",
          "2023-08-01T10:53:00",
          "2023-08-01T16:11:00",
          "2023-08-01T23:21:00",
          "2023-08-01T23:59:00",
          "2023-08-02T11:49:00",
          "2023-08-02T15:34:00",
          "2023-08-02T18:30:00",
          "2023-08-02T21:10:00",
          "2023-08-03T00:04:00",
          "2023-08-03T18:01:00",
          "2023-08-03T22:51:00",
          "2023-08-04T09:24:00",
          "2023-08-04T16:34:00",
          "2023-08-05T11:32:00",
          "2023-08-05T15:52:00",
          "2023-08-05T22:29:00",
          "2023-08-05T23:29:00",
          "2023-08-06T12:14:00",
          "2023-08-06T15:48:00",
          "2023-08-06T23:45:00",
          "2023-08-07T15:44:00",
          "2023-08-07T23:42:00",
          "2023-08-08T09:22:00",
          "2023-08-08T11:24:00",
          "2023-08-08T22:02:00",
          "2023-08-09T14:55:00",
          "2023-08-09T16:10:00",
          "2023-08-09T17:49:00",
          "2023-08-09T20:01:00",
          "2023-08-10T00:24:00",
          "2023-08-10T20:12:00",
          "2023-08-11T00:29:00",
          "2023-08-11T11:23:00",
          "2023-08-11T13:36:00",
          "2023-08-11T21:24:00",
          "2023-08-12T15:11:00",
          "2023-08-12T20:11:00",
          "2023-08-12T23:59:00",
          "2023-08-13T01:02:00",
          "2023-08-13T12:23:00",
          "2023-08-13T15:31:00",
          "2023-08-14T21:07:00",
          "2023-08-15T01:02:00",
          "2023-08-16T01:33:00",
          "2023-08-17T23:03:00",
          "2023-08-19T01:27:00",
          "2023-08-20T16:35:00",
          "2023-08-20T21:51:00",
          "2023-08-21T00:14:00",
          "2023-08-21T13:11:00",
          "2023-08-21T20:05:00",
          "2023-08-22T13:18:00",
          "2023-08-22T18:07:00",
          "2023-08-30T19:49:00",
          "2023-08-30T20:00:00",
          "2023-08-31T22:48:00",
          "2023-09-01T12:36:00",
          "2023-09-02T12:13:00",
          "2023-09-02T16:31:00",
          "2023-09-02T21:03:00",
          "2023-09-03T13:33:00",
          "2023-09-03T15:11:00",
          "2023-09-03T23:10:00",
          "2023-09-05T20:14:00",
          "2023-09-06T11:33:00",
          "2023-09-06T23:34:00",
          "2023-09-07T20:24:00",
          "2023-09-08T12:40:00",
          "2023-09-08T21:12:00",
          "2023-09-09T20:01:00",
          "2023-09-10T20:04:00",
          "2023-09-11T13:01:00",
          "2023-09-11T21:24:00",
          "2023-09-12T21:17:00",
          "2023-09-13T16:31:00",
          "2023-09-13T20:09:00",
          "2023-09-14T21:16:00",
          "2023-09-15T13:40:00",
          "2023-09-15T21:55:00",
          "2023-09-29T17:53:00",
          "2023-09-29T19:05:00",
          "2023-09-30T16:10:00",
          "2023-09-30T16:30:00",
          "2023-09-30T20:02:00",
          "2023-10-01T00:30:00",
          "2023-10-01T09:41:00",
          "2023-10-03T10:42:00",
          "2023-10-04T09:12:00",
          "2023-10-05T09:55:00",
          "2023-10-06T16:39:00",
          "2023-10-07T11:03:00",
          "2023-10-07T12:32:00",
          "2023-10-09T17:56:00",
          "2023-10-10T09:49:00",
          "2023-10-10T22:39:00",
          "2023-10-10T22:44:00",
          "2023-10-11T19:00:00",
          "2023-10-13T14:42:00",
          "2023-10-16T12:48:00",
          "2023-10-16T16:57:00",
          "2023-10-18T01:37:00",
          "2023-10-18T01:40:00",
          "2023-10-19T12:19:00",
          "2023-10-23T10:17:00",
          "2023-10-23T17:02:00",
          "2023-10-23T23:20:00",
          "2023-10-24T13:09:00",
          "2023-10-24T20:47:00",
          "2023-10-26T16:11:00",
          "2023-10-27T16:10:00",
          "2023-10-28T23:00:00",
          "2023-10-29T10:05:00",
          "2023-10-30T22:53:00",
          "2023-10-31T15:15:00",
          "2023-10-31T16:44:00",
          "2023-11-03T11:56:00",
          "2023-11-03T14:25:00",
          "2023-11-03T23:42:00",
          "2023-11-04T10:02:00",
          "2023-11-04T20:00:00",
          "2023-11-04T23:45:00",
          "2023-11-05T12:14:00",
          "2023-11-05T23:49:00",
          "2023-11-06T09:58:00",
          "2023-11-06T23:09:00",
          "2023-11-07T11:22:00",
          "2023-11-07T13:43:00",
          "2023-11-07T16:03:00",
          "2023-11-07T21:00:00",
          "2023-11-08T12:19:00",
          "2023-11-08T12:55:00",
          "2023-11-08T23:44:00",
          "2023-11-08T23:44:00",
          "2023-11-09T00:10:00",
          "2023-11-09T15:02:00",
          "2023-11-09T23:52:00",
          "2023-11-10T15:22:00",
          "2023-11-10T21:36:00",
          "2023-11-10T22:24:00",
          "2023-11-11T14:25:00",
          "2023-11-11T17:26:00",
          "2023-11-12T10:00:00",
          "2023-11-12T14:00:00",
          "2023-11-12T17:39:00",
          "2023-11-12T21:00:00",
          "2023-11-13T14:47:00",
          "2023-11-13T15:39:00",
          "2023-11-13T17:03:00",
          "2023-11-14T12:22:00",
          "2023-11-14T13:13:00",
          "2023-11-14T21:06:00",
          "2023-11-15T15:56:00",
          "2023-11-15T19:04:00",
          "2023-11-15T22:00:00",
          "2023-11-16T11:49:00",
          "2023-11-16T20:34:00",
          "2023-11-16T23:27:00",
          "2023-11-17T13:56:00",
          "2023-11-19T23:29:00",
          "2023-11-20T14:48:00",
          "2023-11-20T20:20:00",
          "2023-11-21T21:00:00",
          "2023-11-22T18:49:00",
          "2023-11-22T21:41:00",
          "2023-11-23T15:26:00",
          "2023-11-23T21:57:00",
          "2023-11-24T11:07:00",
          "2023-11-24T15:31:00",
          "2023-11-24T18:17:00",
          "2023-11-25T11:37:00",
          "2023-11-27T19:01:00",
          "2023-11-27T20:30:00",
          "2023-11-28T04:25:00",
          "2023-11-28T13:07:00",
          "2023-11-28T16:49:00",
          "2023-11-28T23:00:00",
          "2023-11-29T16:42:00",
          "2023-11-30T11:07:00",
          "2023-11-30T17:06:00",
          "2023-12-01T00:19:00",
          "2023-12-01T20:01:00",
          "2023-12-02T20:18:00",
          "2023-12-02T20:24:00",
          "2023-12-02T21:48:00",
          "2023-12-03T01:07:00",
          "2023-12-03T11:09:00",
          "2023-12-03T12:39:00",
          "2023-12-03T18:04:00",
          "2023-12-04T20:02:00",
          "2023-12-05T10:46:00",
          "2023-12-05T23:47:00",
          "2023-12-06T11:16:00",
          "2023-12-07T18:30:00",
          "2023-12-07T20:02:00",
          "2023-12-08T22:50:00",
          "2023-12-09T00:21:00",
          "2023-12-09T10:27:00",
          "2023-12-09T12:27:00",
          "2023-12-09T17:53:00",
          "2023-12-09T21:15:00",
          "2023-12-10T14:56:00",
          "2023-12-11T19:50:00",
          "2023-12-12T14:21:00",
          "2023-12-12T21:50:00",
          "2023-12-13T11:55:00",
          "2023-12-13T17:53:00",
          "2023-12-13T23:59:00",
          "2023-12-14T12:44:00",
          "2023-12-14T21:09:00",
          "2023-12-15T12:40:00",
          "2023-12-15T16:25:00",
          "2023-12-18T20:00:00",
          "2023-12-18T23:06:00",
          "2023-12-19T14:16:00",
          "2023-12-19T20:55:00",
          "2023-12-20T12:17:00",
          "2023-12-20T23:00:00",
          "2023-12-20T23:50:00",
          "2023-12-21T15:38:00",
          "2023-12-21T16:38:00",
          "2023-12-21T19:10:00",
          "2023-12-21T20:34:00",
          "2023-12-21T21:38:00",
          "2023-12-22T00:51:00",
          "2023-12-22T13:34:00",
          "2023-12-27T18:55:00",
          "2023-12-27T23:35:00",
          "2023-12-28T00:45:00",
          "2023-12-28T19:05:00",
          "2023-12-29T11:49:00",
          "2023-12-29T23:34:00",
          "2023-12-30T19:00:00",
          "2023-12-31T16:48:00",
          "2023-12-31T21:51:00",
          "2023-12-31T22:21:00",
          "2024-01-01T12:05:00",
          "2024-01-01T18:45:00",
          "2024-01-02T11:53:00",
          "2024-01-02T14:05:00",
          "2024-01-03T15:55:00",
          "2024-01-03T20:40:00",
          "2024-01-04T11:30:00",
          "2024-01-04T14:05:00",
          "2024-01-04T16:15:00",
          "2024-01-04T23:04:00",
          "2024-01-05T12:53:00",
          "2024-01-06T15:37:00",
          "2024-01-08T23:28:00",
          "2024-01-10T23:13:00",
          "2024-01-12T13:56:00",
          "2024-01-12T18:19:00",
          "2024-01-12T20:30:00",
          "2024-01-13T01:00:00",
          "2024-01-13T13:00:00",
          "2024-01-13T16:48:00",
          "2024-01-14T13:19:00",
          "2024-01-14T23:08:00",
          "2024-01-14T23:56:00",
          "2024-01-16T20:47:00",
          "2024-01-16T21:31:00",
          "2024-01-17T21:44:00",
          "2024-01-18T11:43:00",
          "2024-01-18T16:09:00",
          "2024-01-19T23:30:00",
          "2024-01-20T00:20:00",
          "2024-01-20T23:42:00",
          "2024-01-21T23:14:00",
          "2024-01-22T00:48:00",
          "2024-01-22T14:50:00",
          "2024-01-22T16:50:00",
          "2024-01-22T19:51:00",
          "2024-01-24T00:57:00",
          "2024-01-24T02:16:00",
          "2024-01-24T08:10:00",
          "2024-01-25T01:03:00",
          "2024-01-25T16:02:00",
          "2024-01-25T19:30:00",
          "2024-01-25T20:03:00",
          "2024-01-25T23:13:00",
          "2024-01-26T12:14:00",
          "2024-01-26T13:55:00",
          "2024-01-26T15:24:00",
          "2024-01-28T16:16:00",
          "2024-01-28T20:06:00",
          "2024-01-29T00:11:00",
          "2024-01-29T13:50:00",
          "2024-01-29T14:16:00",
          "2024-01-29T17:58:00",
          "2024-01-29T20:02:00",
          "2024-01-30T19:38:00",
          "2024-01-30T23:08:00",
          "2024-02-01T17:36:00",
          "2024-02-01T22:20:00",
          "2024-02-02T15:25:00",
          "2024-02-02T16:51:00",
          "2024-02-03T10:29:00",
          "2024-02-03T13:20:00",
          "2024-02-06T20:10:00",
          "2024-02-06T22:42:00",
          "2024-02-07T00:28:00",
          "2024-02-07T21:45:00",
          "2024-02-08T12:53:00",
          "2024-02-08T15:31:00",
          "2024-02-08T19:10:00",
          "2024-02-08T20:33:00",
          "2024-02-09T13:29:00",
          "2024-02-09T14:42:00",
          "2024-02-09T15:41:00",
          "2024-02-12T10:24:00",
          "2024-02-12T18:25:00",
          "2024-02-12T23:01:00",
          "2024-02-13T10:21:00",
          "2024-02-13T16:43:00",
          "2024-02-13T19:44:00",
          "2024-02-13T21:21:00",
          "2024-02-13T23:04:00",
          "2024-02-14T11:38:00",
          "2024-02-14T15:35:00",
          "2024-02-14T20:47:00",
          "2024-02-14T23:53:00",
          "2024-02-15T12:12:00",
          "2024-02-15T15:45:00",
          "2024-02-15T19:23:00",
          "2024-02-15T21:23:00",
          "2024-02-16T14:08:00",
          "2024-02-16T16:04:00",
          "2024-02-16T16:10:00",
          "2024-02-17T11:13:00",
          "2024-02-17T18:00:00",
          "2024-02-17T18:35:00",
          "2024-02-18T13:18:00",
          "2024-02-18T16:15:00",
          "2024-02-18T19:01:00",
          "2024-02-18T23:23:00",
          "2024-02-19T13:55:00",
          "2024-02-19T20:40:00",
          "2024-02-20T19:15:00",
          "2024-02-21T18:35:00",
          "2024-02-21T21:21:00",
          "2024-02-22T14:08:00",
          "2024-02-22T17:46:00",
          "2024-02-22T21:32:00",
          "2024-02-23T16:25:00",
          "2024-02-23T19:40:00",
          "2024-02-24T11:39:00",
          "2024-02-24T16:01:00",
          "2024-02-25T00:40:00",
          "2024-02-25T17:00:00",
          "2024-02-25T19:02:00",
          "2024-02-26T19:28:00",
          "2024-02-26T20:14:00",
          "2024-02-27T14:08:00",
          "2024-02-27T16:26:00",
          "2024-02-29T23:50:00",
          "2024-03-01T22:05:00",
          "2024-03-02T21:30:00",
          "2024-03-02T22:22:00",
          "2024-03-03T10:20:00",
          "2024-03-03T16:06:00",
          "2024-03-03T22:36:00",
          "2024-03-04T16:34:00",
          "2024-03-04T20:03:00",
          "2024-03-05T21:41:00",
          "2024-03-05T23:12:00",
          "2024-03-06T22:13:00",
          "2024-03-07T13:26:00",
          "2024-03-07T21:46:00",
          "2024-03-08T12:27:00",
          "2024-03-08T13:47:00",
          "2024-03-08T17:26:00",
          "2024-03-08T19:00:00",
          "2024-03-08T19:44:00",
          "2024-03-08T20:00:00",
          "2024-03-09T10:25:00",
          "2024-03-09T10:46:00",
          "2024-03-09T15:22:00",
          "2024-03-09T15:45:00",
          "2024-03-09T17:01:00",
          "2024-03-09T19:02:00",
          "2024-03-09T20:15:00",
          "2024-03-09T23:04:00",
          "2024-03-10T11:59:00",
          "2024-03-10T19:41:00",
          "2024-03-11T21:58:00",
          "2024-03-12T20:20:00",
          "2024-03-12T22:51:00",
          "2024-03-13T19:27:00",
          "2024-03-13T21:55:00",
          "2024-03-14T10:15:00",
          "2024-03-14T11:00:00",
          "2024-03-14T14:48:00",
          "2024-03-14T21:00:00",
          "2024-03-14T22:24:00",
          "2024-03-14T23:49:00",
          "2024-03-15T10:37:00",
          "2024-03-18T12:00:00",
          "2024-03-20T20:42:00",
          "2024-03-21T13:40:00",
          "2024-03-21T15:20:00",
          "2024-03-22T20:00:00",
          "2024-03-23T10:10:00",
          "2024-03-25T16:31:00",
          "2024-03-25T17:32:00",
          "2024-03-25T19:17:00",
          "2024-03-26T10:04:00",
          "2024-03-26T12:04:00",
          "2024-03-26T16:25:00",
          "2024-03-26T16:45:00",
          "2024-03-26T18:04:00",
          "2024-03-27T20:31:00",
          "2024-03-27T22:05:00",
          "2024-03-28T00:25:00",
          "2024-03-28T19:10:00",
          "2024-03-28T20:00:00",
          "2024-03-29T10:20:00",
          "2024-03-29T14:52:00",
          "2024-03-29T19:03:00",
          "2024-03-30T10:02:00",
          "2024-03-30T14:28:00",
          "2024-03-30T18:25:00",
          "2024-03-30T18:35:00",
          "2024-03-31T12:53:00",
          "2024-03-31T16:04:00",
          "2024-03-31T20:00:00",
          "2024-04-01T10:19:00",
          "2024-04-01T13:20:00",
          "2024-04-01T16:35:00",
          "2024-04-01T19:40:00",
          "2024-04-01T23:59:00",
          "2024-04-02T20:00:00",
          "2024-04-02T20:59:00",
          "2024-04-03T20:02:00",
          "2024-04-04T14:10:00",
          "2024-04-04T15:44:00",
          "2024-04-04T18:45:00",
          "2024-04-04T19:40:00",
          "2024-04-04T23:12:00",
          "2024-04-05T11:34:00",
          "2024-04-05T12:54:00",
          "2024-04-05T16:00:00",
          "2024-04-05T20:00:00",
          "2024-04-06T11:49:00",
          "2024-04-06T15:27:00",
          "2024-04-07T08:19:00",
          "2024-04-07T11:41:00",
          "2024-04-07T20:11:00",
          "2024-04-07T22:44:00",
          "2024-04-08T10:00:00",
          "2024-04-08T13:36:00",
          "2024-04-08T15:00:00",
          "2024-04-08T17:47:00",
          "2024-04-08T19:40:00",
          "2024-04-09T22:24:00",
          "2024-04-10T00:45:00",
          "2024-04-10T23:42:00",
          "2024-04-11T14:21:00",
          "2024-04-11T16:22:00",
          "2024-04-11T19:20:00",
          "2024-04-12T05:25:00",
          "2024-04-12T10:59:00",
          "2024-04-12T12:14:00",
          "2024-04-12T15:22:00",
          "2024-04-12T21:41:00",
          "2024-04-12T23:29:00",
          "2024-04-13T12:15:00",
          "2024-04-13T15:50:00",
          "2024-04-13T19:18:00",
          "2024-04-13T23:17:00",
          "2024-04-14T01:07:00",
          "2024-04-15T14:39:00",
          "2024-04-15T15:20:00",
          "2024-04-15T23:54:00",
          "2024-04-16T18:46:00",
          "2024-04-16T19:20:00",
          "2024-04-16T22:00:00",
          "2024-04-16T23:55:00",
          "2024-04-17T07:12:00",
          "2024-04-18T20:11:00",
          "2024-04-19T00:27:00",
          "2024-04-19T10:44:00",
          "2024-04-19T14:31:00",
          "2024-04-19T16:33:00",
          "2024-04-19T19:00:00",
          "2024-04-20T12:27:00",
          "2024-04-22T18:48:00",
          "2024-04-22T20:00:00",
          "2024-04-23T23:02:00",
          "2024-04-24T12:33:00",
          "2024-04-24T15:19:00",
          "2024-04-24T18:28:00",
          "2024-04-24T21:05:00",
          "2024-04-25T19:02:00",
          "2024-04-26T11:49:00",
          "2024-04-26T15:50:00",
          "2024-04-26T16:38:00",
          "2024-04-28T22:38:00",
          "2024-04-29T17:00:00",
          "2024-04-29T22:05:00",
          "2024-05-03T01:12:00",
          "2024-05-04T13:09:00",
          "2024-05-04T15:58:00",
          "2024-05-04T22:05:00",
          "2024-05-04T23:54:00",
          "2024-05-05T10:50:00",
          "2024-05-05T13:51:00",
          "2024-05-05T22:12:00",
          "2024-05-05T22:50:00",
          "2024-05-05T23:17:00",
          "2024-05-07T23:55:00",
          "2024-05-08T09:34:00",
          "2024-05-10T20:29:00",
          "2024-05-11T00:15:00",
          "2024-05-11T10:24:00",
          "2024-05-11T13:20:00",
          "2024-05-11T13:25:00",
          "2024-05-11T16:24:00",
          "2024-05-12T22:22:00",
          "2024-05-13T16:47:00",
          "2024-05-13T22:04:00",
          "2024-05-15T08:41:00",
          "2024-05-15T10:45:00",
          "2024-05-15T13:28:00",
          "2024-05-15T16:00:00",
          "2024-05-16T20:33:00",
          "2024-05-16T23:14:00",
          "2024-05-17T12:57:00",
          "2024-05-17T14:38:00",
          "2024-05-17T22:46:00",
          "2024-05-18T14:01:00",
          "2024-05-21T21:19:00",
          "2024-05-22T10:45:00",
          "2024-05-22T15:56:00",
          "2024-05-23T19:51:00",
          "2024-05-23T21:14:00",
          "2024-05-24T00:23:00",
          "2024-05-24T12:42:00",
          "2024-05-24T15:21:00",
          "2024-05-24T16:07:00",
          "2024-05-24T21:19:00",
          "2024-05-24T22:43:00",
          "2024-05-25T11:43:00",
          "2024-05-25T16:44:00",
          "2024-05-25T22:46:00",
          "2024-05-26T08:09:00",
          "2024-05-26T11:45:00",
          "2024-05-26T13:12:00",
          "2024-05-26T14:00:00",
          "2024-05-26T19:57:00",
          "2024-05-26T23:40:00",
          "2024-05-27T10:59:00",
          "2024-05-27T18:26:00",
          "2024-05-27T22:54:00",
          "2024-05-29T13:05:00",
          "2024-05-29T15:47:00",
          "2024-05-29T17:02:00",
          "2024-05-29T22:00:00",
          "2024-05-30T10:19:00",
          "2024-05-30T13:50:00",
          "2024-05-30T15:00:00",
          "2024-05-30T17:56:00",
          "2024-05-30T20:42:00",
          "2024-05-31T11:29:00",
          "2024-05-31T16:30:00",
          "2024-05-31T21:51:00",
          "2024-06-01T11:05:00",
          "2024-06-01T15:34:00",
          "2024-06-01T16:50:00",
          "2024-06-01T21:36:00",
          "2024-06-02T07:32:00",
          "2024-06-02T11:47:00",
          "2024-06-02T15:44:00",
          "2024-06-03T09:03:00",
          "2024-06-03T11:11:00",
          "2024-06-03T19:18:00",
          "2024-06-03T21:13:00",
          "2024-06-05T13:55:00",
          "2024-06-05T23:23:00",
          "2024-06-06T21:15:00",
          "2024-06-06T23:01:00",
          "2024-06-06T23:32:00",
          "2024-06-07T12:27:00",
          "2024-06-07T16:22:00",
          "2024-06-07T18:41:00",
          "2024-06-07T22:44:00",
          "2024-06-07T23:36:00",
          "2024-06-08T11:10:00",
          "2024-06-08T11:21:00",
          "2024-06-08T12:09:00",
          "2024-06-08T18:01:00",
          "2024-06-08T20:42:00",
          "2024-06-08T23:00:00",
          "2024-06-09T10:57:00",
          "2024-06-09T15:26:00",
          "2024-06-09T16:54:00",
          "2024-06-09T20:38:00",
          "2024-06-09T22:30:00",
          "2024-06-09T23:38:00",
          "2024-06-10T18:56:00",
          "2024-06-10T20:12:00",
          "2024-06-11T00:50:00",
          "2024-06-11T23:25:00",
          "2024-06-12T11:56:00",
          "2024-06-12T15:13:00",
          "2024-06-12T18:50:00",
          "2024-06-12T21:39:00",
          "2024-06-13T21:20:00",
          "2024-06-14T11:34:00",
          "2024-06-14T14:50:00",
          "2024-06-14T22:29:00",
          "2024-06-14T23:48:00",
          "2024-06-15T12:51:00",
          "2024-06-15T20:01:00",
          "2024-06-16T00:23:00",
          "2024-06-16T01:05:00",
          "2024-06-16T10:42:00",
          "2024-06-16T15:07:00",
          "2024-06-16T17:51:00",
          "2024-06-16T22:07:00",
          "2024-06-17T10:43:00",
          "2024-06-17T16:35:00",
          "2024-06-17T20:43:00",
          "2024-06-18T00:21:00",
          "2024-06-19T01:02:00",
          "2024-06-19T11:53:00",
          "2024-06-19T23:08:00",
          "2024-06-19T23:43:00",
          "2024-06-20T20:00:00",
          "2024-06-20T22:27:00",
          "2024-06-21T01:41:00",
          "2024-06-21T12:42:00",
          "2024-06-21T16:00:00",
          "2024-06-22T00:36:00",
          "2024-06-22T10:56:00",
          "2024-06-22T12:55:00",
          "2024-06-22T21:32:00",
          "2024-06-23T14:16:00",
          "2024-06-24T10:55:00",
          "2024-06-24T12:55:00",
          "2024-06-24T14:24:00",
          "2024-06-24T16:18:00",
          "2024-06-24T18:57:00",
          "2024-06-24T23:27:00",
          "2024-06-25T22:00:00",
          "2024-06-26T17:03:00",
          "2024-06-26T17:51:00",
          "2024-06-26T21:49:00",
          "2024-06-27T22:51:00",
          "2024-06-27T23:45:00",
          "2024-06-28T12:39:00",
          "2024-06-28T16:04:00",
          "2024-06-28T17:08:00",
          "2024-06-29T12:40:00",
          "2024-06-29T21:03:00",
          "2024-06-30T00:12:00",
          "2024-06-30T13:50:00",
          "2024-06-30T15:51:00",
          "2024-06-30T17:31:00",
          "2024-07-01T20:59:00",
          "2024-07-02T08:05:00",
          "2024-07-03T00:08:00",
          "2024-07-03T12:24:00",
          "2024-07-03T16:04:00",
          "2024-07-03T21:01:00",
          "2024-07-04T16:54:00",
          "2024-07-04T20:43:00",
          "2024-07-04T22:56:00",
          "2024-07-05T11:33:00",
          "2024-07-05T13:33:00",
          "2024-07-05T16:30:00",
          "2024-07-06T12:17:00",
          "2024-07-06T15:57:00",
          "2024-07-06T20:57:00",
          "2024-07-06T23:52:00",
          "2024-07-07T12:59:00",
          "2024-07-07T17:13:00",
          "2024-07-07T23:38:00",
          "2024-07-08T10:04:00",
          "2024-07-08T11:51:00",
          "2024-07-08T17:12:00",
          "2024-07-08T22:12:00",
          "2024-07-09T22:19:00",
          "2024-07-09T23:06:00",
          "2024-07-10T14:04:00",
          "2024-07-10T17:56:00",
          "2024-07-10T20:28:00",
          "2024-07-10T20:59:00",
          "2024-07-10T23:30:00",
          "2024-07-11T19:05:00",
          "2024-07-11T23:00:00",
          "2024-07-12T01:01:00",
          "2024-07-12T14:28:00",
          "2024-07-12T14:28:00",
          "2024-07-12T23:07:00",
          "2024-07-13T22:17:00",
          "2024-07-14T11:49:00",
          "2024-07-14T12:16:00",
          "2024-07-14T18:25:00",
          "2024-07-14T20:01:00",
          "2024-07-14T22:17:00",
          "2024-07-15T10:14:00",
          "2024-07-15T15:38:00",
          "2024-07-15T20:00:00",
          "2024-07-16T21:05:00",
          "2024-07-16T22:06:00",
          "2024-07-17T12:33:00",
          "2024-07-19T00:23:00",
          "2024-07-19T10:27:00",
          "2024-07-19T14:58:00",
          "2024-07-19T15:59:00",
          "2024-07-19T23:09:00",
          "2024-07-20T09:18:00",
          "2024-07-20T23:57:00",
          "2024-07-21T05:34:00",
          "2024-07-21T10:54:00",
          "2024-07-21T16:26:00",
          "2024-07-21T18:35:00",
          "2024-07-21T22:42:00",
          "2024-07-22T10:27:00",
          "2024-07-22T11:19:00",
          "2024-07-22T22:14:00",
          "2024-07-22T23:22:00",
          "2024-07-23T21:50:00",
          "2024-07-24T16:27:00",
          "2024-07-24T21:23:00",
          "2024-07-25T00:00:00",
          "2024-07-25T07:50:00",
          "2024-07-25T22:58:00",
          "2024-07-27T10:25:00",
          "2024-07-27T16:42:00",
          "2024-07-28T13:01:00",
          "2024-07-28T15:57:00",
          "2024-07-28T21:46:00"
         ],
         "y": [
          0.8566666666666667,
          0.7861805555555555,
          0.7409027777777778,
          0.6657638888888888,
          0.5696875,
          0.5944444444444444,
          0.5611805555555556,
          0.5475,
          0.475,
          0.471875,
          0.47899305555555555,
          0.4558333333333333,
          0.3377777777777778,
          0.2990277777777778,
          0.26274305555555555,
          0.28260416666666666,
          0.2890625,
          0.2912152777777778,
          0.26756944444444447,
          0.2748611111111111,
          0.29336805555555556,
          0.27177083333333335,
          0.26381944444444444,
          0.28708333333333336,
          0.2846875,
          0.2685416666666667,
          0.2959027777777778,
          0.2937152777777778,
          0.27545138888888887,
          0.25381944444444443,
          0.25916666666666666,
          0.25527777777777777,
          0.2581597222222222,
          0.280625,
          0.27899305555555554,
          0.26222222222222225,
          0.26253472222222224,
          0.26145833333333335,
          0.2787847222222222,
          0.27895833333333336,
          0.2501041666666667,
          0.27315972222222223,
          0.2729861111111111,
          0.24781250000000002,
          0.2658680555555556,
          0.27895833333333336,
          0.25364583333333335,
          0.24798611111111113,
          0.2743055555555556,
          0.28111111111111114,
          0.2655208333333333,
          0.2665625,
          0.2807291666666667,
          0.26104166666666667,
          0.263125,
          0.2590972222222222,
          0.25586805555555553,
          0.2898263888888889,
          0.27545138888888887,
          0.2869791666666667,
          0.29270833333333335,
          0.3010763888888889,
          0.30777777777777776,
          0.31972222222222224,
          0.30010416666666667,
          0.3004861111111111,
          0.29802083333333335,
          0.3132986111111111,
          0.3101041666666667,
          0.3156597222222222,
          0.32086805555555553,
          0.3237847222222222,
          0.3212847222222222,
          0.3486458333333333,
          0.3451388888888889,
          0.34302083333333333,
          0.3415625,
          0.3132986111111111,
          0.34447916666666667,
          0.3314236111111111,
          0.3392013888888889,
          0.30430555555555555,
          0.3115277777777778,
          0.33479166666666665,
          0.343125,
          0.32447916666666665,
          0.3192361111111111,
          0.32631944444444444,
          0.2995486111111111,
          0.3446180555555556,
          0.3326388888888889,
          0.37947916666666665,
          0.45211805555555556,
          0.47194444444444444,
          0.5508680555555555,
          0.5584027777777778,
          0.5587847222222222,
          0.5766319444444444,
          0.5497569444444445,
          0.5767013888888889,
          0.5640277777777778,
          0.9629513888888889,
          0.9470833333333333,
          0.9658680555555555,
          0.9842013888888889,
          1.025486111111111,
          1.0322569444444445,
          1.0180555555555555,
          1.0459027777777778,
          0.9876388888888888,
          0.9961111111111111,
          1.038923611111111,
          0.9760416666666666,
          0.9460763888888889,
          0.9079513888888888,
          0.9308680555555555,
          0.9436805555555555,
          0.9642361111111111,
          0.9999652777777778,
          0.9994097222222222,
          1.0068402777777778,
          0.6530555555555556,
          0.6927430555555556,
          0.6444791666666667,
          0.6680555555555555,
          0.6530208333333334,
          0.66125,
          1.3434027777777777,
          1.3115277777777778,
          1.3520486111111112,
          1.336111111111111,
          1.2495833333333333,
          1.2269791666666667,
          1.221076388888889,
          1.2797916666666667,
          1.2927777777777778,
          1.3264930555555556,
          1.342986111111111,
          1.3312152777777777,
          1.2989930555555556,
          1.3927777777777777,
          1.376111111111111,
          1.3627777777777776,
          1.3553819444444444,
          1.3452777777777778,
          1.4021527777777778,
          1.5310069444444445,
          0.8480555555555556,
          0.9136111111111112,
          0.8697916666666666,
          0.9412847222222223,
          1.1296875,
          1.1344444444444444,
          1.1284375,
          1.0551041666666667,
          1.0241319444444446,
          1.0630555555555556,
          1.0489930555555556,
          1.0748958333333334,
          1.0948958333333334,
          1.0603125,
          1.0613194444444445,
          1.0376736111111111,
          1.1775,
          1.140451388888889,
          1.06875,
          0.9442361111111112,
          0.9563541666666667,
          0.8961111111111111,
          0.9220138888888889,
          0.8739583333333334,
          0.6993402777777777,
          0.7127430555555556,
          0.7250694444444444,
          0.7011805555555556,
          0.6901388888888889,
          0.6100347222222222,
          0.5919791666666667,
          0.5289930555555555,
          0.5284375,
          0.45177083333333334,
          0.4185763888888889,
          0.44645833333333335,
          0.3248611111111111,
          0.3519791666666667,
          0.345625,
          0.3257638888888889,
          0.33836805555555555,
          0.3368402777777778,
          0.34534722222222225,
          0.3295486111111111,
          0.31600694444444444,
          0.29552083333333334,
          0.30711805555555555,
          0.3040277777777778,
          0.3020833333333333,
          0.3320138888888889,
          0.301875,
          0.3170486111111111,
          0.33375,
          0.3402777777777778,
          0.3454861111111111,
          0.3432986111111111,
          0.343125,
          0.3168402777777778,
          0.33402777777777776,
          0.4522569444444444,
          0.4507986111111111,
          0.4560416666666667,
          0.47291666666666665,
          0.5100347222222222,
          0.5084027777777778,
          0.5384027777777778,
          0.5149305555555556,
          0.5405555555555556,
          0.5468055555555555,
          0.5123263888888889,
          0.5466666666666666,
          0.6456597222222222,
          0.6095138888888889,
          0.6194791666666667,
          0.6314930555555556,
          0.6104166666666666,
          0.6050694444444444,
          0.6359374999999999,
          0.6441319444444444,
          0.5367013888888889,
          0.5198263888888889,
          0.5493402777777777,
          0.5485416666666667,
          0.5032986111111111,
          0.5002430555555556,
          0.4701736111111111,
          0.4775,
          0.45319444444444446,
          0.4553125,
          0.5036458333333333,
          0.49822916666666667,
          0.4099305555555556,
          0.4307638888888889,
          0.47934027777777777,
          0.4644097222222222,
          0.5125347222222222,
          0.5028125,
          0.4869791666666667,
          0.4527777777777778,
          0.45163194444444443,
          0.4436111111111111,
          0.43940972222222224,
          0.4490277777777778,
          0.48739583333333336,
          0.5000694444444445,
          0.5225,
          0.5140277777777778,
          0.5236111111111111,
          0.5388888888888889,
          0.5023263888888889,
          0.5039583333333333,
          0.48465277777777777,
          0.6181944444444445,
          0.5595833333333333,
          0.5879861111111111,
          0.5460069444444444,
          0.5748611111111112,
          0.5761458333333334,
          0.5737152777777778,
          0.5953125,
          0.5903819444444445,
          0.5588194444444444,
          0.5015277777777778,
          0.4651736111111111,
          0.4562847222222222,
          0.4534375,
          0.7021527777777777,
          0.6991666666666666,
          0.6750347222222222,
          0.6956944444444444,
          0.6982291666666667,
          0.7148958333333333,
          0.5979166666666667,
          0.636875,
          0.6157986111111111,
          0.6029861111111111,
          0.5995833333333334,
          0.5911458333333334,
          0.6251041666666667,
          0.5967708333333334,
          0.6485069444444445,
          0.653125,
          0.6811111111111111,
          0.6842708333333333,
          0.6820833333333333,
          0.6697916666666667,
          0.43743055555555554,
          0.4834027777777778,
          0.5973263888888889,
          0.6586111111111111,
          0.7044097222222222,
          0.6890625,
          0.653125,
          0.6170833333333333,
          0.6315625,
          0.6384375,
          0.6525694444444444,
          0.6591319444444445,
          0.6251041666666667,
          0.7139583333333334,
          0.6616666666666666,
          0.7022222222222222,
          0.7004513888888889,
          0.7043055555555555,
          0.7651041666666667,
          0.7526388888888889,
          0.7725347222222222,
          0.7658680555555556,
          0.6527777777777778,
          0.5825347222222222,
          0.5060416666666666,
          0.5031944444444444,
          0.5592708333333333,
          0.5526388888888889,
          0.5399305555555556,
          0.5671875,
          0.5556597222222223,
          0.5424305555555555,
          0.5419097222222222,
          0.4550694444444444,
          0.4806597222222222,
          0.4337152777777778,
          0.4076736111111111,
          0.5002430555555556,
          0.4429166666666667,
          0.44968749999999996,
          0.4294444444444444,
          0.38131944444444443,
          0.38576388888888885,
          0.36083333333333334,
          0.4058333333333333,
          0.40684027777777776,
          0.4346875,
          0.44180555555555556,
          0.46510416666666665,
          0.43291666666666667,
          0.4384375,
          0.4371527777777778,
          0.6002430555555556,
          0.5989236111111111,
          0.5754861111111111,
          0.6163194444444444,
          0.6447569444444444,
          0.5484375,
          0.5480555555555555,
          0.5424305555555555,
          0.5492708333333334,
          0.5509027777777777,
          0.5452430555555555,
          0.6799305555555556,
          0.6474652777777777,
          0.6497569444444444,
          0.5848958333333333,
          0.5882986111111111,
          0.5589930555555556,
          0.559375,
          0.5262152777777778,
          0.5464583333333334,
          0.39045138888888886,
          0.39600694444444445,
          0.3987847222222222,
          0.38010416666666663,
          0.3559722222222222,
          0.35805555555555557,
          0.35461805555555553,
          0.38663194444444443,
          0.35538194444444443,
          0.35305555555555557,
          0.39069444444444446,
          0.2658333333333333,
          0.2503472222222222,
          0.27975694444444443,
          0.26229166666666665,
          0.25479166666666664,
          0.25760416666666663,
          0.2845138888888889,
          0.295,
          0.3158680555555555,
          0.35625,
          0.35118055555555555,
          0.3796875,
          0.36159722222222224,
          0.3620486111111111,
          0.39381944444444444,
          0.3964236111111111,
          0.3948263888888889,
          0.39989583333333334,
          0.41770833333333335,
          0.41204861111111113,
          0.40215277777777775,
          0.45184027777777774,
          0.41444444444444445,
          0.44559027777777777,
          0.44461805555555556,
          0.5509375,
          0.5670138888888888,
          0.6017361111111111,
          0.5564930555555555,
          0.5328125,
          0.5390625,
          0.5176388888888889,
          0.5475,
          0.5469097222222222,
          0.5609722222222222,
          0.5573611111111111,
          0.5720138888888889,
          0.5946180555555556,
          0.5939583333333334,
          0.5905208333333333,
          0.5890625,
          0.5457638888888888,
          0.5474305555555555,
          0.5116666666666666,
          0.5074305555555555,
          0.42204861111111114,
          0.3764236111111111,
          0.3372222222222222,
          0.33621527777777777,
          0.3139236111111111,
          0.3061111111111111,
          0.29510416666666667,
          0.2635416666666667,
          0.2831944444444444,
          0.24583333333333332,
          0.29743055555555553,
          0.2960763888888889,
          0.26961805555555557,
          0.2951736111111111,
          0.2697222222222222,
          0.2926388888888889,
          0.2865972222222222,
          0.29125,
          0.3026388888888889,
          0.305,
          0.27791666666666665,
          0.2996875,
          0.44298611111111114,
          0.5603125,
          0.5930208333333333,
          0.5922916666666667,
          0.6494791666666666,
          0.673125,
          0.7594444444444445,
          0.7455208333333333,
          0.6944097222222222,
          0.6786111111111112,
          0.6775347222222222,
          0.6436805555555556,
          0.6392361111111111,
          0.6162847222222222,
          0.6698263888888889,
          0.6651736111111111,
          0.6571180555555556,
          0.6932638888888889,
          0.6920486111111112,
          0.6994097222222222,
          0.5559722222222222,
          0.44656250000000003,
          0.44243055555555555,
          0.44819444444444445,
          0.3967013888888889,
          0.3675347222222222,
          0.2924305555555555,
          0.29694444444444446,
          0.30149305555555556,
          0.30052083333333335,
          0.3026388888888889,
          0.3003472222222222,
          0.3060763888888889,
          0.31232638888888886,
          0.2989236111111111,
          0.29770833333333335,
          0.34086805555555555,
          0.33958333333333335,
          0.3411111111111111,
          0.31753472222222223,
          0.31,
          0.30864583333333334,
          0.30319444444444443,
          0.2967361111111111,
          0.29496527777777776,
          0.3029513888888889,
          0.29777777777777775,
          0.2987152777777778,
          0.3256597222222222,
          0.3028472222222222,
          0.31427083333333333,
          0.3128125,
          0.3298611111111111,
          0.32836805555555554,
          0.2895833333333333,
          0.29333333333333333,
          0.2492361111111111,
          0.2671527777777778,
          0.2687847222222222,
          0.3103125,
          0.33892361111111113,
          0.3357638888888889,
          0.3161805555555556,
          0.3344097222222222,
          0.3395486111111111,
          0.33381944444444445,
          0.3073958333333333,
          0.31298611111111113,
          0.2815972222222222,
          0.30118055555555556,
          0.2909375,
          0.2928472222222222,
          0.2776736111111111,
          0.2739930555555556,
          0.34927083333333336,
          0.34489583333333335,
          0.35881944444444447,
          0.34243055555555557,
          0.33871527777777777,
          0.2964583333333333,
          0.26993055555555556,
          0.2809027777777778,
          0.3517708333333333,
          0.33965277777777775,
          0.3494791666666667,
          0.35475694444444444,
          0.35246527777777775,
          0.3444097222222222,
          0.37701388888888887,
          0.4636458333333333,
          0.45868055555555554,
          0.5077777777777778,
          0.5276388888888889,
          0.5295833333333333,
          0.45795138888888887,
          0.46197916666666666,
          0.4898611111111111,
          0.48552083333333335,
          0.4927083333333333,
          0.4888194444444444,
          0.5973263888888889,
          0.6204166666666666,
          0.5539583333333333,
          0.7015625,
          0.7550347222222222,
          0.7530208333333334,
          0.7615277777777778,
          0.7602083333333333,
          0.7466319444444445,
          0.6396875,
          0.6545833333333333,
          0.5995833333333334,
          0.5723611111111111,
          0.6679166666666666,
          0.6814583333333333,
          0.79875,
          0.7608680555555556,
          0.7470486111111111,
          0.7447916666666666,
          0.7432986111111111,
          0.6370138888888889,
          0.6611805555555555,
          0.6889583333333333,
          0.5434722222222222,
          0.5406944444444445,
          0.5391319444444445,
          0.5320486111111111,
          0.5335416666666667,
          0.5702430555555555,
          0.5695486111111111,
          0.5807291666666667,
          0.5829166666666666,
          0.5989236111111111,
          0.529375,
          0.6744791666666666,
          0.5797222222222222,
          0.5826736111111112,
          0.6196875000000001,
          0.6164583333333333,
          0.6228472222222222,
          0.6422916666666667,
          0.5853819444444445,
          0.5486111111111112,
          0.5484375,
          0.47923611111111114,
          0.5020138888888889,
          0.5068055555555555,
          0.5140972222222222,
          0.4741666666666667,
          0.47607638888888887,
          0.4505208333333333,
          0.4486805555555555,
          0.4441319444444444,
          0.42010416666666667,
          0.27847222222222223,
          0.26600694444444445,
          0.2645138888888889,
          0.2859027777777778,
          0.2886458333333333,
          0.2846875,
          0.269375,
          0.2895138888888889,
          0.2952430555555556,
          0.28684027777777776,
          0.2900347222222222,
          0.26871527777777776,
          0.2890625,
          0.28694444444444445,
          0.2785416666666667,
          0.2986111111111111,
          0.30493055555555554,
          0.3059027777777778,
          0.3034375,
          0.3163888888888889,
          0.3016666666666667,
          0.294375,
          0.32114583333333335,
          0.24604166666666666,
          0.25732638888888887,
          0.25871527777777775,
          0.33315972222222223,
          0.32722222222222225,
          0.3654513888888889,
          0.36670138888888887,
          0.3616666666666667,
          0.3828125,
          0.3601736111111111,
          0.35454861111111113,
          0.35184027777777777,
          0.3260763888888889,
          0.3408333333333333,
          0.33857638888888886,
          0.3303125,
          0.3218402777777778,
          0.3185763888888889,
          0.3151388888888889,
          0.30395833333333333,
          0.30885416666666665,
          0.295,
          0.29878472222222224,
          0.21788194444444445,
          0.20052083333333334,
          0.19517361111111112,
          0.19413194444444445,
          0.20270833333333332,
          0.22284722222222222,
          0.2407638888888889,
          0.2427777777777778,
          0.241875,
          0.2459375,
          0.27118055555555554,
          0.3004513888888889,
          0.3055902777777778,
          0.30930555555555556,
          0.30645833333333333,
          0.32885416666666667,
          0.3188888888888889,
          0.31864583333333335,
          0.3170486111111111,
          0.3293055555555556,
          0.33461805555555557,
          0.33795138888888887,
          0.30663194444444447,
          0.33024305555555555,
          0.3328125,
          0.294375,
          0.27586805555555555,
          0.3204513888888889,
          0.3355208333333333,
          0.3530902777777778,
          0.30496527777777777,
          0.31756944444444446,
          0.3158680555555555,
          0.30666666666666664,
          0.32687499999999997,
          0.3065625,
          0.3095486111111111,
          0.32197916666666665,
          0.3246527777777778,
          0.32256944444444446,
          0.34822916666666665,
          0.38555555555555554,
          0.38083333333333336,
          0.3576736111111111,
          0.3494097222222222,
          0.34631944444444446,
          0.348125,
          0.34368055555555554,
          0.3607638888888889,
          0.33899305555555553,
          0.3460416666666667,
          0.3559375,
          0.35270833333333335,
          0.3728472222222222,
          0.3570138888888889,
          0.3523611111111111,
          0.3751388888888889,
          0.3710763888888889,
          0.37350694444444443,
          0.38395833333333335,
          0.3532986111111111,
          0.31375,
          0.36680555555555555,
          0.3868402777777778,
          0.41631944444444446,
          0.43635416666666665,
          0.43461805555555555,
          0.39795138888888887,
          0.3996875,
          0.40597222222222223,
          0.4023263888888889,
          0.37645833333333334,
          0.37875,
          0.35802083333333334,
          0.39211805555555557,
          0.3975347222222222,
          0.36725694444444446,
          0.35586805555555556,
          0.3766319444444444,
          0.3570486111111111,
          0.3662152777777778,
          0.38447916666666665,
          0.3309722222222222,
          0.31899305555555557,
          0.29597222222222225,
          0.3206597222222222,
          0.3146527777777778,
          0.3355208333333333,
          0.30215277777777777,
          0.2994791666666667,
          0.2959375,
          0.27489583333333334,
          0.3115277777777778,
          0.31354166666666666,
          0.27652777777777776,
          0.2969097222222222,
          0.28649305555555554,
          0.2984375,
          0.319375,
          0.33875,
          0.32631944444444444,
          0.3173958333333333,
          0.3170138888888889,
          0.31059027777777776,
          0.32506944444444447,
          0.28607638888888887,
          0.29354166666666665,
          0.31461805555555555,
          0.30868055555555557,
          0.33350694444444445,
          0.40708333333333335,
          0.4228125,
          0.3914236111111111,
          0.38538194444444446,
          0.3961111111111111,
          0.3892361111111111,
          0.41975694444444445,
          0.4134375,
          0.3762847222222222,
          0.35961805555555554,
          0.3631597222222222,
          0.3589236111111111,
          0.38006944444444446,
          0.3771527777777778,
          0.375,
          0.3661111111111111,
          0.40381944444444445,
          0.39034722222222223,
          0.39850694444444446,
          0.37385416666666665,
          0.31552083333333336,
          0.3260763888888889,
          0.3905208333333333,
          0.40149305555555553,
          0.4288888888888889,
          0.4138541666666667,
          0.39545138888888887
         ]
        }
       ],
       "layout": {
        "legend": {
         "orientation": "h",
         "x": 1,
         "xanchor": "right",
         "y": 1.02,
         "yanchor": "bottom"
        },
        "template": {
         "data": {
          "bar": [
           {
            "error_x": {
             "color": "#f2f5fa"
            },
            "error_y": {
             "color": "#f2f5fa"
            },
            "marker": {
             "line": {
              "color": "rgb(17,17,17)",
              "width": 0.5
             },
             "pattern": {
              "fillmode": "overlay",
              "size": 10,
              "solidity": 0.2
             }
            },
            "type": "bar"
           }
          ],
          "barpolar": [
           {
            "marker": {
             "line": {
              "color": "rgb(17,17,17)",
              "width": 0.5
             },
             "pattern": {
              "fillmode": "overlay",
              "size": 10,
              "solidity": 0.2
             }
            },
            "type": "barpolar"
           }
          ],
          "carpet": [
           {
            "aaxis": {
             "endlinecolor": "#A2B1C6",
             "gridcolor": "#506784",
             "linecolor": "#506784",
             "minorgridcolor": "#506784",
             "startlinecolor": "#A2B1C6"
            },
            "baxis": {
             "endlinecolor": "#A2B1C6",
             "gridcolor": "#506784",
             "linecolor": "#506784",
             "minorgridcolor": "#506784",
             "startlinecolor": "#A2B1C6"
            },
            "type": "carpet"
           }
          ],
          "choropleth": [
           {
            "colorbar": {
             "outlinewidth": 0,
             "ticks": ""
            },
            "type": "choropleth"
           }
          ],
          "contour": [
           {
            "colorbar": {
             "outlinewidth": 0,
             "ticks": ""
            },
            "colorscale": [
             [
              0,
              "#0d0887"
             ],
             [
              0.1111111111111111,
              "#46039f"
             ],
             [
              0.2222222222222222,
              "#7201a8"
             ],
             [
              0.3333333333333333,
              "#9c179e"
             ],
             [
              0.4444444444444444,
              "#bd3786"
             ],
             [
              0.5555555555555556,
              "#d8576b"
             ],
             [
              0.6666666666666666,
              "#ed7953"
             ],
             [
              0.7777777777777778,
              "#fb9f3a"
             ],
             [
              0.8888888888888888,
              "#fdca26"
             ],
             [
              1,
              "#f0f921"
             ]
            ],
            "type": "contour"
           }
          ],
          "contourcarpet": [
           {
            "colorbar": {
             "outlinewidth": 0,
             "ticks": ""
            },
            "type": "contourcarpet"
           }
          ],
          "heatmap": [
           {
            "colorbar": {
             "outlinewidth": 0,
             "ticks": ""
            },
            "colorscale": [
             [
              0,
              "#0d0887"
             ],
             [
              0.1111111111111111,
              "#46039f"
             ],
             [
              0.2222222222222222,
              "#7201a8"
             ],
             [
              0.3333333333333333,
              "#9c179e"
             ],
             [
              0.4444444444444444,
              "#bd3786"
             ],
             [
              0.5555555555555556,
              "#d8576b"
             ],
             [
              0.6666666666666666,
              "#ed7953"
             ],
             [
              0.7777777777777778,
              "#fb9f3a"
             ],
             [
              0.8888888888888888,
              "#fdca26"
             ],
             [
              1,
              "#f0f921"
             ]
            ],
            "type": "heatmap"
           }
          ],
          "heatmapgl": [
           {
            "colorbar": {
             "outlinewidth": 0,
             "ticks": ""
            },
            "colorscale": [
             [
              0,
              "#0d0887"
             ],
             [
              0.1111111111111111,
              "#46039f"
             ],
             [
              0.2222222222222222,
              "#7201a8"
             ],
             [
              0.3333333333333333,
              "#9c179e"
             ],
             [
              0.4444444444444444,
              "#bd3786"
             ],
             [
              0.5555555555555556,
              "#d8576b"
             ],
             [
              0.6666666666666666,
              "#ed7953"
             ],
             [
              0.7777777777777778,
              "#fb9f3a"
             ],
             [
              0.8888888888888888,
              "#fdca26"
             ],
             [
              1,
              "#f0f921"
             ]
            ],
            "type": "heatmapgl"
           }
          ],
          "histogram": [
           {
            "marker": {
             "pattern": {
              "fillmode": "overlay",
              "size": 10,
              "solidity": 0.2
             }
            },
            "type": "histogram"
           }
          ],
          "histogram2d": [
           {
            "colorbar": {
             "outlinewidth": 0,
             "ticks": ""
            },
            "colorscale": [
             [
              0,
              "#0d0887"
             ],
             [
              0.1111111111111111,
              "#46039f"
             ],
             [
              0.2222222222222222,
              "#7201a8"
             ],
             [
              0.3333333333333333,
              "#9c179e"
             ],
             [
              0.4444444444444444,
              "#bd3786"
             ],
             [
              0.5555555555555556,
              "#d8576b"
             ],
             [
              0.6666666666666666,
              "#ed7953"
             ],
             [
              0.7777777777777778,
              "#fb9f3a"
             ],
             [
              0.8888888888888888,
              "#fdca26"
             ],
             [
              1,
              "#f0f921"
             ]
            ],
            "type": "histogram2d"
           }
          ],
          "histogram2dcontour": [
           {
            "colorbar": {
             "outlinewidth": 0,
             "ticks": ""
            },
            "colorscale": [
             [
              0,
              "#0d0887"
             ],
             [
              0.1111111111111111,
              "#46039f"
             ],
             [
              0.2222222222222222,
              "#7201a8"
             ],
             [
              0.3333333333333333,
              "#9c179e"
             ],
             [
              0.4444444444444444,
              "#bd3786"
             ],
             [
              0.5555555555555556,
              "#d8576b"
             ],
             [
              0.6666666666666666,
              "#ed7953"
             ],
             [
              0.7777777777777778,
              "#fb9f3a"
             ],
             [
              0.8888888888888888,
              "#fdca26"
             ],
             [
              1,
              "#f0f921"
             ]
            ],
            "type": "histogram2dcontour"
           }
          ],
          "mesh3d": [
           {
            "colorbar": {
             "outlinewidth": 0,
             "ticks": ""
            },
            "type": "mesh3d"
           }
          ],
          "parcoords": [
           {
            "line": {
             "colorbar": {
              "outlinewidth": 0,
              "ticks": ""
             }
            },
            "type": "parcoords"
           }
          ],
          "pie": [
           {
            "automargin": true,
            "type": "pie"
           }
          ],
          "scatter": [
           {
            "marker": {
             "line": {
              "color": "#283442"
             }
            },
            "type": "scatter"
           }
          ],
          "scatter3d": [
           {
            "line": {
             "colorbar": {
              "outlinewidth": 0,
              "ticks": ""
             }
            },
            "marker": {
             "colorbar": {
              "outlinewidth": 0,
              "ticks": ""
             }
            },
            "type": "scatter3d"
           }
          ],
          "scattercarpet": [
           {
            "marker": {
             "colorbar": {
              "outlinewidth": 0,
              "ticks": ""
             }
            },
            "type": "scattercarpet"
           }
          ],
          "scattergeo": [
           {
            "marker": {
             "colorbar": {
              "outlinewidth": 0,
              "ticks": ""
             }
            },
            "type": "scattergeo"
           }
          ],
          "scattergl": [
           {
            "marker": {
             "line": {
              "color": "#283442"
             }
            },
            "type": "scattergl"
           }
          ],
          "scattermapbox": [
           {
            "marker": {
             "colorbar": {
              "outlinewidth": 0,
              "ticks": ""
             }
            },
            "type": "scattermapbox"
           }
          ],
          "scatterpolar": [
           {
            "marker": {
             "colorbar": {
              "outlinewidth": 0,
              "ticks": ""
             }
            },
            "type": "scatterpolar"
           }
          ],
          "scatterpolargl": [
           {
            "marker": {
             "colorbar": {
              "outlinewidth": 0,
              "ticks": ""
             }
            },
            "type": "scatterpolargl"
           }
          ],
          "scatterternary": [
           {
            "marker": {
             "colorbar": {
              "outlinewidth": 0,
              "ticks": ""
             }
            },
            "type": "scatterternary"
           }
          ],
          "surface": [
           {
            "colorbar": {
             "outlinewidth": 0,
             "ticks": ""
            },
            "colorscale": [
             [
              0,
              "#0d0887"
             ],
             [
              0.1111111111111111,
              "#46039f"
             ],
             [
              0.2222222222222222,
              "#7201a8"
             ],
             [
              0.3333333333333333,
              "#9c179e"
             ],
             [
              0.4444444444444444,
              "#bd3786"
             ],
             [
              0.5555555555555556,
              "#d8576b"
             ],
             [
              0.6666666666666666,
              "#ed7953"
             ],
             [
              0.7777777777777778,
              "#fb9f3a"
             ],
             [
              0.8888888888888888,
              "#fdca26"
             ],
             [
              1,
              "#f0f921"
             ]
            ],
            "type": "surface"
           }
          ],
          "table": [
           {
            "cells": {
             "fill": {
              "color": "#506784"
             },
             "line": {
              "color": "rgb(17,17,17)"
             }
            },
            "header": {
             "fill": {
              "color": "#2a3f5f"
             },
             "line": {
              "color": "rgb(17,17,17)"
             }
            },
            "type": "table"
           }
          ]
         },
         "layout": {
          "annotationdefaults": {
           "arrowcolor": "#f2f5fa",
           "arrowhead": 0,
           "arrowwidth": 1
          },
          "autotypenumbers": "strict",
          "coloraxis": {
           "colorbar": {
            "outlinewidth": 0,
            "ticks": ""
           }
          },
          "colorscale": {
           "diverging": [
            [
             0,
             "#8e0152"
            ],
            [
             0.1,
             "#c51b7d"
            ],
            [
             0.2,
             "#de77ae"
            ],
            [
             0.3,
             "#f1b6da"
            ],
            [
             0.4,
             "#fde0ef"
            ],
            [
             0.5,
             "#f7f7f7"
            ],
            [
             0.6,
             "#e6f5d0"
            ],
            [
             0.7,
             "#b8e186"
            ],
            [
             0.8,
             "#7fbc41"
            ],
            [
             0.9,
             "#4d9221"
            ],
            [
             1,
             "#276419"
            ]
           ],
           "sequential": [
            [
             0,
             "#0d0887"
            ],
            [
             0.1111111111111111,
             "#46039f"
            ],
            [
             0.2222222222222222,
             "#7201a8"
            ],
            [
             0.3333333333333333,
             "#9c179e"
            ],
            [
             0.4444444444444444,
             "#bd3786"
            ],
            [
             0.5555555555555556,
             "#d8576b"
            ],
            [
             0.6666666666666666,
             "#ed7953"
            ],
            [
             0.7777777777777778,
             "#fb9f3a"
            ],
            [
             0.8888888888888888,
             "#fdca26"
            ],
            [
             1,
             "#f0f921"
            ]
           ],
           "sequentialminus": [
            [
             0,
             "#0d0887"
            ],
            [
             0.1111111111111111,
             "#46039f"
            ],
            [
             0.2222222222222222,
             "#7201a8"
            ],
            [
             0.3333333333333333,
             "#9c179e"
            ],
            [
             0.4444444444444444,
             "#bd3786"
            ],
            [
             0.5555555555555556,
             "#d8576b"
            ],
            [
             0.6666666666666666,
             "#ed7953"
            ],
            [
             0.7777777777777778,
             "#fb9f3a"
            ],
            [
             0.8888888888888888,
             "#fdca26"
            ],
            [
             1,
             "#f0f921"
            ]
           ]
          },
          "colorway": [
           "#636efa",
           "#EF553B",
           "#00cc96",
           "#ab63fa",
           "#FFA15A",
           "#19d3f3",
           "#FF6692",
           "#B6E880",
           "#FF97FF",
           "#FECB52"
          ],
          "font": {
           "color": "#f2f5fa"
          },
          "geo": {
           "bgcolor": "rgb(17,17,17)",
           "lakecolor": "rgb(17,17,17)",
           "landcolor": "rgb(17,17,17)",
           "showlakes": true,
           "showland": true,
           "subunitcolor": "#506784"
          },
          "hoverlabel": {
           "align": "left"
          },
          "hovermode": "closest",
          "mapbox": {
           "style": "dark"
          },
          "paper_bgcolor": "rgb(17,17,17)",
          "plot_bgcolor": "rgb(17,17,17)",
          "polar": {
           "angularaxis": {
            "gridcolor": "#506784",
            "linecolor": "#506784",
            "ticks": ""
           },
           "bgcolor": "rgb(17,17,17)",
           "radialaxis": {
            "gridcolor": "#506784",
            "linecolor": "#506784",
            "ticks": ""
           }
          },
          "scene": {
           "xaxis": {
            "backgroundcolor": "rgb(17,17,17)",
            "gridcolor": "#506784",
            "gridwidth": 2,
            "linecolor": "#506784",
            "showbackground": true,
            "ticks": "",
            "zerolinecolor": "#C8D4E3"
           },
           "yaxis": {
            "backgroundcolor": "rgb(17,17,17)",
            "gridcolor": "#506784",
            "gridwidth": 2,
            "linecolor": "#506784",
            "showbackground": true,
            "ticks": "",
            "zerolinecolor": "#C8D4E3"
           },
           "zaxis": {
            "backgroundcolor": "rgb(17,17,17)",
            "gridcolor": "#506784",
            "gridwidth": 2,
            "linecolor": "#506784",
            "showbackground": true,
            "ticks": "",
            "zerolinecolor": "#C8D4E3"
           }
          },
          "shapedefaults": {
           "line": {
            "color": "#f2f5fa"
           }
          },
          "sliderdefaults": {
           "bgcolor": "#C8D4E3",
           "bordercolor": "rgb(17,17,17)",
           "borderwidth": 1,
           "tickwidth": 0
          },
          "ternary": {
           "aaxis": {
            "gridcolor": "#506784",
            "linecolor": "#506784",
            "ticks": ""
           },
           "baxis": {
            "gridcolor": "#506784",
            "linecolor": "#506784",
            "ticks": ""
           },
           "bgcolor": "rgb(17,17,17)",
           "caxis": {
            "gridcolor": "#506784",
            "linecolor": "#506784",
            "ticks": ""
           }
          },
          "title": {
           "x": 0.05
          },
          "updatemenudefaults": {
           "bgcolor": "#506784",
           "borderwidth": 0
          },
          "xaxis": {
           "automargin": true,
           "gridcolor": "#283442",
           "linecolor": "#506784",
           "ticks": "",
           "title": {
            "standoff": 15
           },
           "zerolinecolor": "#283442",
           "zerolinewidth": 2
          },
          "yaxis": {
           "automargin": true,
           "gridcolor": "#283442",
           "linecolor": "#506784",
           "ticks": "",
           "title": {
            "standoff": 15
           },
           "zerolinecolor": "#283442",
           "zerolinewidth": 2
          }
         }
        },
        "title": {
         "text": "Difference between consecutive entries in days"
        },
        "yaxis": {
         "title": {
          "text": "difference, days"
         }
        }
       }
      }
     },
     "metadata": {},
     "output_type": "display_data"
    }
   ],
   "source": [
    "df.sub(include='home').entries_differences()"
   ]
  },
  {
   "cell_type": "markdown",
   "metadata": {},
   "source": [
    "## Monthly activity effect on mood"
   ]
  },
  {
   "cell_type": "code",
   "execution_count": 42,
   "metadata": {
    "metadata": {}
   },
   "outputs": [
    {
     "name": "stdout",
     "output_type": "stream",
     "text": [
      "No 'study' in December 2023\n"
     ]
    },
    {
     "data": {
      "application/vnd.plotly.v1+json": {
       "config": {
        "plotlyServerURL": "https://plot.ly"
       },
       "data": [
        {
         "line": {
          "dash": "dash",
          "shape": "spline",
          "smoothing": 1.3
         },
         "marker": {
          "color": "#97F66B",
          "size": 10,
          "symbol": "cross-dot"
         },
         "mode": "lines+markers",
         "name": "with",
         "type": "scatter",
         "x": [
          "2023-07-01",
          "2023-08-01",
          "2023-09-01",
          "2023-10-01",
          "2023-11-01",
          "2024-01-01",
          "2024-02-01",
          "2024-03-01",
          "2024-04-01",
          "2024-05-01",
          "2024-06-01",
          "2024-07-01"
         ],
         "y": [
          3.4565217391304346,
          3.7083333333333335,
          3.75,
          3.5,
          3.6,
          3.5,
          3.5555555555555554,
          3.6363636363636362,
          3.6944444444444446,
          3.8157894736842106,
          3.7666666666666666,
          3.625
         ]
        },
        {
         "line": {
          "dash": "dash",
          "shape": "spline",
          "smoothing": 1.3
         },
         "marker": {
          "color": "#FF522D",
          "size": 10,
          "symbol": "x-dot"
         },
         "mode": "lines+markers",
         "name": "without",
         "type": "scatter",
         "x": [
          "2023-07-01",
          "2023-08-01",
          "2023-09-01",
          "2023-10-01",
          "2023-11-01",
          "2024-01-01",
          "2024-02-01",
          "2024-03-01",
          "2024-04-01",
          "2024-05-01",
          "2024-06-01",
          "2024-07-01"
         ],
         "y": [
          3.6319444444444446,
          3.8411764705882354,
          4.045454545454546,
          4.079710144927536,
          3.793269230769231,
          3.9269662921348316,
          3.697530864197531,
          3.6964285714285716,
          3.8155339805825244,
          3.836448598130841,
          3.869918699186992,
          3.921875
         ]
        }
       ],
       "layout": {
        "legend": {
         "orientation": "h",
         "x": 1,
         "xanchor": "right",
         "y": 1.02,
         "yanchor": "bottom"
        },
        "template": {
         "data": {
          "bar": [
           {
            "error_x": {
             "color": "#f2f5fa"
            },
            "error_y": {
             "color": "#f2f5fa"
            },
            "marker": {
             "line": {
              "color": "rgb(17,17,17)",
              "width": 0.5
             },
             "pattern": {
              "fillmode": "overlay",
              "size": 10,
              "solidity": 0.2
             }
            },
            "type": "bar"
           }
          ],
          "barpolar": [
           {
            "marker": {
             "line": {
              "color": "rgb(17,17,17)",
              "width": 0.5
             },
             "pattern": {
              "fillmode": "overlay",
              "size": 10,
              "solidity": 0.2
             }
            },
            "type": "barpolar"
           }
          ],
          "carpet": [
           {
            "aaxis": {
             "endlinecolor": "#A2B1C6",
             "gridcolor": "#506784",
             "linecolor": "#506784",
             "minorgridcolor": "#506784",
             "startlinecolor": "#A2B1C6"
            },
            "baxis": {
             "endlinecolor": "#A2B1C6",
             "gridcolor": "#506784",
             "linecolor": "#506784",
             "minorgridcolor": "#506784",
             "startlinecolor": "#A2B1C6"
            },
            "type": "carpet"
           }
          ],
          "choropleth": [
           {
            "colorbar": {
             "outlinewidth": 0,
             "ticks": ""
            },
            "type": "choropleth"
           }
          ],
          "contour": [
           {
            "colorbar": {
             "outlinewidth": 0,
             "ticks": ""
            },
            "colorscale": [
             [
              0,
              "#0d0887"
             ],
             [
              0.1111111111111111,
              "#46039f"
             ],
             [
              0.2222222222222222,
              "#7201a8"
             ],
             [
              0.3333333333333333,
              "#9c179e"
             ],
             [
              0.4444444444444444,
              "#bd3786"
             ],
             [
              0.5555555555555556,
              "#d8576b"
             ],
             [
              0.6666666666666666,
              "#ed7953"
             ],
             [
              0.7777777777777778,
              "#fb9f3a"
             ],
             [
              0.8888888888888888,
              "#fdca26"
             ],
             [
              1,
              "#f0f921"
             ]
            ],
            "type": "contour"
           }
          ],
          "contourcarpet": [
           {
            "colorbar": {
             "outlinewidth": 0,
             "ticks": ""
            },
            "type": "contourcarpet"
           }
          ],
          "heatmap": [
           {
            "colorbar": {
             "outlinewidth": 0,
             "ticks": ""
            },
            "colorscale": [
             [
              0,
              "#0d0887"
             ],
             [
              0.1111111111111111,
              "#46039f"
             ],
             [
              0.2222222222222222,
              "#7201a8"
             ],
             [
              0.3333333333333333,
              "#9c179e"
             ],
             [
              0.4444444444444444,
              "#bd3786"
             ],
             [
              0.5555555555555556,
              "#d8576b"
             ],
             [
              0.6666666666666666,
              "#ed7953"
             ],
             [
              0.7777777777777778,
              "#fb9f3a"
             ],
             [
              0.8888888888888888,
              "#fdca26"
             ],
             [
              1,
              "#f0f921"
             ]
            ],
            "type": "heatmap"
           }
          ],
          "heatmapgl": [
           {
            "colorbar": {
             "outlinewidth": 0,
             "ticks": ""
            },
            "colorscale": [
             [
              0,
              "#0d0887"
             ],
             [
              0.1111111111111111,
              "#46039f"
             ],
             [
              0.2222222222222222,
              "#7201a8"
             ],
             [
              0.3333333333333333,
              "#9c179e"
             ],
             [
              0.4444444444444444,
              "#bd3786"
             ],
             [
              0.5555555555555556,
              "#d8576b"
             ],
             [
              0.6666666666666666,
              "#ed7953"
             ],
             [
              0.7777777777777778,
              "#fb9f3a"
             ],
             [
              0.8888888888888888,
              "#fdca26"
             ],
             [
              1,
              "#f0f921"
             ]
            ],
            "type": "heatmapgl"
           }
          ],
          "histogram": [
           {
            "marker": {
             "pattern": {
              "fillmode": "overlay",
              "size": 10,
              "solidity": 0.2
             }
            },
            "type": "histogram"
           }
          ],
          "histogram2d": [
           {
            "colorbar": {
             "outlinewidth": 0,
             "ticks": ""
            },
            "colorscale": [
             [
              0,
              "#0d0887"
             ],
             [
              0.1111111111111111,
              "#46039f"
             ],
             [
              0.2222222222222222,
              "#7201a8"
             ],
             [
              0.3333333333333333,
              "#9c179e"
             ],
             [
              0.4444444444444444,
              "#bd3786"
             ],
             [
              0.5555555555555556,
              "#d8576b"
             ],
             [
              0.6666666666666666,
              "#ed7953"
             ],
             [
              0.7777777777777778,
              "#fb9f3a"
             ],
             [
              0.8888888888888888,
              "#fdca26"
             ],
             [
              1,
              "#f0f921"
             ]
            ],
            "type": "histogram2d"
           }
          ],
          "histogram2dcontour": [
           {
            "colorbar": {
             "outlinewidth": 0,
             "ticks": ""
            },
            "colorscale": [
             [
              0,
              "#0d0887"
             ],
             [
              0.1111111111111111,
              "#46039f"
             ],
             [
              0.2222222222222222,
              "#7201a8"
             ],
             [
              0.3333333333333333,
              "#9c179e"
             ],
             [
              0.4444444444444444,
              "#bd3786"
             ],
             [
              0.5555555555555556,
              "#d8576b"
             ],
             [
              0.6666666666666666,
              "#ed7953"
             ],
             [
              0.7777777777777778,
              "#fb9f3a"
             ],
             [
              0.8888888888888888,
              "#fdca26"
             ],
             [
              1,
              "#f0f921"
             ]
            ],
            "type": "histogram2dcontour"
           }
          ],
          "mesh3d": [
           {
            "colorbar": {
             "outlinewidth": 0,
             "ticks": ""
            },
            "type": "mesh3d"
           }
          ],
          "parcoords": [
           {
            "line": {
             "colorbar": {
              "outlinewidth": 0,
              "ticks": ""
             }
            },
            "type": "parcoords"
           }
          ],
          "pie": [
           {
            "automargin": true,
            "type": "pie"
           }
          ],
          "scatter": [
           {
            "marker": {
             "line": {
              "color": "#283442"
             }
            },
            "type": "scatter"
           }
          ],
          "scatter3d": [
           {
            "line": {
             "colorbar": {
              "outlinewidth": 0,
              "ticks": ""
             }
            },
            "marker": {
             "colorbar": {
              "outlinewidth": 0,
              "ticks": ""
             }
            },
            "type": "scatter3d"
           }
          ],
          "scattercarpet": [
           {
            "marker": {
             "colorbar": {
              "outlinewidth": 0,
              "ticks": ""
             }
            },
            "type": "scattercarpet"
           }
          ],
          "scattergeo": [
           {
            "marker": {
             "colorbar": {
              "outlinewidth": 0,
              "ticks": ""
             }
            },
            "type": "scattergeo"
           }
          ],
          "scattergl": [
           {
            "marker": {
             "line": {
              "color": "#283442"
             }
            },
            "type": "scattergl"
           }
          ],
          "scattermapbox": [
           {
            "marker": {
             "colorbar": {
              "outlinewidth": 0,
              "ticks": ""
             }
            },
            "type": "scattermapbox"
           }
          ],
          "scatterpolar": [
           {
            "marker": {
             "colorbar": {
              "outlinewidth": 0,
              "ticks": ""
             }
            },
            "type": "scatterpolar"
           }
          ],
          "scatterpolargl": [
           {
            "marker": {
             "colorbar": {
              "outlinewidth": 0,
              "ticks": ""
             }
            },
            "type": "scatterpolargl"
           }
          ],
          "scatterternary": [
           {
            "marker": {
             "colorbar": {
              "outlinewidth": 0,
              "ticks": ""
             }
            },
            "type": "scatterternary"
           }
          ],
          "surface": [
           {
            "colorbar": {
             "outlinewidth": 0,
             "ticks": ""
            },
            "colorscale": [
             [
              0,
              "#0d0887"
             ],
             [
              0.1111111111111111,
              "#46039f"
             ],
             [
              0.2222222222222222,
              "#7201a8"
             ],
             [
              0.3333333333333333,
              "#9c179e"
             ],
             [
              0.4444444444444444,
              "#bd3786"
             ],
             [
              0.5555555555555556,
              "#d8576b"
             ],
             [
              0.6666666666666666,
              "#ed7953"
             ],
             [
              0.7777777777777778,
              "#fb9f3a"
             ],
             [
              0.8888888888888888,
              "#fdca26"
             ],
             [
              1,
              "#f0f921"
             ]
            ],
            "type": "surface"
           }
          ],
          "table": [
           {
            "cells": {
             "fill": {
              "color": "#506784"
             },
             "line": {
              "color": "rgb(17,17,17)"
             }
            },
            "header": {
             "fill": {
              "color": "#2a3f5f"
             },
             "line": {
              "color": "rgb(17,17,17)"
             }
            },
            "type": "table"
           }
          ]
         },
         "layout": {
          "annotationdefaults": {
           "arrowcolor": "#f2f5fa",
           "arrowhead": 0,
           "arrowwidth": 1
          },
          "autotypenumbers": "strict",
          "coloraxis": {
           "colorbar": {
            "outlinewidth": 0,
            "ticks": ""
           }
          },
          "colorscale": {
           "diverging": [
            [
             0,
             "#8e0152"
            ],
            [
             0.1,
             "#c51b7d"
            ],
            [
             0.2,
             "#de77ae"
            ],
            [
             0.3,
             "#f1b6da"
            ],
            [
             0.4,
             "#fde0ef"
            ],
            [
             0.5,
             "#f7f7f7"
            ],
            [
             0.6,
             "#e6f5d0"
            ],
            [
             0.7,
             "#b8e186"
            ],
            [
             0.8,
             "#7fbc41"
            ],
            [
             0.9,
             "#4d9221"
            ],
            [
             1,
             "#276419"
            ]
           ],
           "sequential": [
            [
             0,
             "#0d0887"
            ],
            [
             0.1111111111111111,
             "#46039f"
            ],
            [
             0.2222222222222222,
             "#7201a8"
            ],
            [
             0.3333333333333333,
             "#9c179e"
            ],
            [
             0.4444444444444444,
             "#bd3786"
            ],
            [
             0.5555555555555556,
             "#d8576b"
            ],
            [
             0.6666666666666666,
             "#ed7953"
            ],
            [
             0.7777777777777778,
             "#fb9f3a"
            ],
            [
             0.8888888888888888,
             "#fdca26"
            ],
            [
             1,
             "#f0f921"
            ]
           ],
           "sequentialminus": [
            [
             0,
             "#0d0887"
            ],
            [
             0.1111111111111111,
             "#46039f"
            ],
            [
             0.2222222222222222,
             "#7201a8"
            ],
            [
             0.3333333333333333,
             "#9c179e"
            ],
            [
             0.4444444444444444,
             "#bd3786"
            ],
            [
             0.5555555555555556,
             "#d8576b"
            ],
            [
             0.6666666666666666,
             "#ed7953"
            ],
            [
             0.7777777777777778,
             "#fb9f3a"
            ],
            [
             0.8888888888888888,
             "#fdca26"
            ],
            [
             1,
             "#f0f921"
            ]
           ]
          },
          "colorway": [
           "#636efa",
           "#EF553B",
           "#00cc96",
           "#ab63fa",
           "#FFA15A",
           "#19d3f3",
           "#FF6692",
           "#B6E880",
           "#FF97FF",
           "#FECB52"
          ],
          "font": {
           "color": "#f2f5fa"
          },
          "geo": {
           "bgcolor": "rgb(17,17,17)",
           "lakecolor": "rgb(17,17,17)",
           "landcolor": "rgb(17,17,17)",
           "showlakes": true,
           "showland": true,
           "subunitcolor": "#506784"
          },
          "hoverlabel": {
           "align": "left"
          },
          "hovermode": "closest",
          "mapbox": {
           "style": "dark"
          },
          "paper_bgcolor": "rgb(17,17,17)",
          "plot_bgcolor": "rgb(17,17,17)",
          "polar": {
           "angularaxis": {
            "gridcolor": "#506784",
            "linecolor": "#506784",
            "ticks": ""
           },
           "bgcolor": "rgb(17,17,17)",
           "radialaxis": {
            "gridcolor": "#506784",
            "linecolor": "#506784",
            "ticks": ""
           }
          },
          "scene": {
           "xaxis": {
            "backgroundcolor": "rgb(17,17,17)",
            "gridcolor": "#506784",
            "gridwidth": 2,
            "linecolor": "#506784",
            "showbackground": true,
            "ticks": "",
            "zerolinecolor": "#C8D4E3"
           },
           "yaxis": {
            "backgroundcolor": "rgb(17,17,17)",
            "gridcolor": "#506784",
            "gridwidth": 2,
            "linecolor": "#506784",
            "showbackground": true,
            "ticks": "",
            "zerolinecolor": "#C8D4E3"
           },
           "zaxis": {
            "backgroundcolor": "rgb(17,17,17)",
            "gridcolor": "#506784",
            "gridwidth": 2,
            "linecolor": "#506784",
            "showbackground": true,
            "ticks": "",
            "zerolinecolor": "#C8D4E3"
           }
          },
          "shapedefaults": {
           "line": {
            "color": "#f2f5fa"
           }
          },
          "sliderdefaults": {
           "bgcolor": "#C8D4E3",
           "bordercolor": "rgb(17,17,17)",
           "borderwidth": 1,
           "tickwidth": 0
          },
          "ternary": {
           "aaxis": {
            "gridcolor": "#506784",
            "linecolor": "#506784",
            "ticks": ""
           },
           "baxis": {
            "gridcolor": "#506784",
            "linecolor": "#506784",
            "ticks": ""
           },
           "bgcolor": "rgb(17,17,17)",
           "caxis": {
            "gridcolor": "#506784",
            "linecolor": "#506784",
            "ticks": ""
           }
          },
          "title": {
           "x": 0.05
          },
          "updatemenudefaults": {
           "bgcolor": "#506784",
           "borderwidth": 0
          },
          "xaxis": {
           "automargin": true,
           "gridcolor": "#283442",
           "linecolor": "#506784",
           "ticks": "",
           "title": {
            "standoff": 15
           },
           "zerolinecolor": "#283442",
           "zerolinewidth": 2
          },
          "yaxis": {
           "automargin": true,
           "gridcolor": "#283442",
           "linecolor": "#506784",
           "ticks": "",
           "title": {
            "standoff": 15
           },
           "zerolinecolor": "#283442",
           "zerolinewidth": 2
          }
         }
        },
        "title": {
         "text": "Mood with and without 'study'"
        },
        "xaxis": {
         "title": {
          "text": "Month"
         }
        },
        "yaxis": {
         "title": {
          "text": "Mood"
         }
        }
       }
      }
     },
     "metadata": {},
     "output_type": "display_data"
    }
   ],
   "source": [
    "df.mood_change_activity('study')"
   ]
  },
  {
   "cell_type": "markdown",
   "metadata": {},
   "source": [
    "## Other features"
   ]
  },
  {
   "cell_type": "code",
   "execution_count": 43,
   "metadata": {
    "metadata": {}
   },
   "outputs": [
    {
     "data": {
      "application/vnd.plotly.v1+json": {
       "config": {
        "plotlyServerURL": "https://plot.ly"
       },
       "data": [
        {
         "hovertemplate": "Date=%{x}<br>Average note length=%{y}<extra></extra>",
         "legendgroup": "",
         "marker": {
          "color": "#636efa",
          "symbol": "circle"
         },
         "mode": "markers",
         "name": "",
         "orientation": "v",
         "showlegend": false,
         "type": "scatter",
         "x": [
          "2023-07-01",
          "2023-07-02",
          "2023-07-03",
          "2023-07-04",
          "2023-07-05",
          "2023-07-06",
          "2023-07-07",
          "2023-07-08",
          "2023-07-09",
          "2023-07-10",
          "2023-07-11",
          "2023-07-12",
          "2023-07-13",
          "2023-07-14",
          "2023-07-15",
          "2023-07-16",
          "2023-07-17",
          "2023-07-18",
          "2023-07-19",
          "2023-07-20",
          "2023-07-21",
          "2023-07-22",
          "2023-07-23",
          "2023-07-24",
          "2023-07-25",
          "2023-07-26",
          "2023-07-27",
          "2023-07-28",
          "2023-07-29",
          "2023-07-30",
          "2023-07-31",
          "2023-08-01",
          "2023-08-02",
          "2023-08-03",
          "2023-08-04",
          "2023-08-05",
          "2023-08-06",
          "2023-08-07",
          "2023-08-08",
          "2023-08-09",
          "2023-08-10",
          "2023-08-11",
          "2023-08-12",
          "2023-08-13",
          "2023-08-14",
          "2023-08-15",
          "2023-08-16",
          "2023-08-17",
          "2023-08-18",
          "2023-08-19",
          "2023-08-20",
          "2023-08-21",
          "2023-08-22",
          "2023-08-23",
          "2023-08-24",
          "2023-08-25",
          "2023-08-26",
          "2023-08-27",
          "2023-08-28",
          "2023-08-29",
          "2023-08-30",
          "2023-08-31",
          "2023-09-01",
          "2023-09-02",
          "2023-09-03",
          "2023-09-04",
          "2023-09-05",
          "2023-09-06",
          "2023-09-07",
          "2023-09-08",
          "2023-09-09",
          "2023-09-10",
          "2023-09-11",
          "2023-09-12",
          "2023-09-13",
          "2023-09-14",
          "2023-09-15",
          "2023-09-16",
          "2023-09-17",
          "2023-09-18",
          "2023-09-19",
          "2023-09-20",
          "2023-09-21",
          "2023-09-22",
          "2023-09-23",
          "2023-09-24",
          "2023-09-25",
          "2023-09-26",
          "2023-09-27",
          "2023-09-28",
          "2023-09-29",
          "2023-09-30",
          "2023-10-01",
          "2023-10-02",
          "2023-10-03",
          "2023-10-04",
          "2023-10-05",
          "2023-10-06",
          "2023-10-07",
          "2023-10-08",
          "2023-10-09",
          "2023-10-10",
          "2023-10-11",
          "2023-10-12",
          "2023-10-13",
          "2023-10-14",
          "2023-10-15",
          "2023-10-16",
          "2023-10-17",
          "2023-10-18",
          "2023-10-19",
          "2023-10-20",
          "2023-10-21",
          "2023-10-22",
          "2023-10-23",
          "2023-10-24",
          "2023-10-25",
          "2023-10-26",
          "2023-10-27",
          "2023-10-28",
          "2023-10-29",
          "2023-10-30",
          "2023-10-31",
          "2023-11-01",
          "2023-11-02",
          "2023-11-03",
          "2023-11-04",
          "2023-11-05",
          "2023-11-06",
          "2023-11-07",
          "2023-11-08",
          "2023-11-09",
          "2023-11-10",
          "2023-11-11",
          "2023-11-12",
          "2023-11-13",
          "2023-11-14",
          "2023-11-15",
          "2023-11-16",
          "2023-11-17",
          "2023-11-18",
          "2023-11-19",
          "2023-11-20",
          "2023-11-21",
          "2023-11-22",
          "2023-11-23",
          "2023-11-24",
          "2023-11-25",
          "2023-11-26",
          "2023-11-27",
          "2023-11-28",
          "2023-11-29",
          "2023-11-30",
          "2023-12-01",
          "2023-12-02",
          "2023-12-03",
          "2023-12-04",
          "2023-12-05",
          "2023-12-06",
          "2023-12-07",
          "2023-12-08",
          "2023-12-09",
          "2023-12-10",
          "2023-12-11",
          "2023-12-12",
          "2023-12-13",
          "2023-12-14",
          "2023-12-15",
          "2023-12-16",
          "2023-12-17",
          "2023-12-18",
          "2023-12-19",
          "2023-12-20",
          "2023-12-21",
          "2023-12-22",
          "2023-12-23",
          "2023-12-24",
          "2023-12-25",
          "2023-12-26",
          "2023-12-27",
          "2023-12-28",
          "2023-12-29",
          "2023-12-30",
          "2023-12-31",
          "2024-01-01",
          "2024-01-02",
          "2024-01-03",
          "2024-01-04",
          "2024-01-05",
          "2024-01-06",
          "2024-01-07",
          "2024-01-08",
          "2024-01-09",
          "2024-01-10",
          "2024-01-11",
          "2024-01-12",
          "2024-01-13",
          "2024-01-14",
          "2024-01-15",
          "2024-01-16",
          "2024-01-17",
          "2024-01-18",
          "2024-01-19",
          "2024-01-20",
          "2024-01-21",
          "2024-01-22",
          "2024-01-23",
          "2024-01-24",
          "2024-01-25",
          "2024-01-26",
          "2024-01-27",
          "2024-01-28",
          "2024-01-29",
          "2024-01-30",
          "2024-01-31",
          "2024-02-01",
          "2024-02-02",
          "2024-02-03",
          "2024-02-04",
          "2024-02-05",
          "2024-02-06",
          "2024-02-07",
          "2024-02-08",
          "2024-02-09",
          "2024-02-10",
          "2024-02-11",
          "2024-02-12",
          "2024-02-13",
          "2024-02-14",
          "2024-02-15",
          "2024-02-16",
          "2024-02-17",
          "2024-02-18",
          "2024-02-19",
          "2024-02-20",
          "2024-02-21",
          "2024-02-22",
          "2024-02-23",
          "2024-02-24",
          "2024-02-25",
          "2024-02-26",
          "2024-02-27",
          "2024-02-28",
          "2024-02-29",
          "2024-03-01",
          "2024-03-02",
          "2024-03-03",
          "2024-03-04",
          "2024-03-05",
          "2024-03-06",
          "2024-03-07",
          "2024-03-08",
          "2024-03-09",
          "2024-03-10",
          "2024-03-11",
          "2024-03-12",
          "2024-03-13",
          "2024-03-14",
          "2024-03-15",
          "2024-03-16",
          "2024-03-17",
          "2024-03-18",
          "2024-03-19",
          "2024-03-20",
          "2024-03-21",
          "2024-03-22",
          "2024-03-23",
          "2024-03-24",
          "2024-03-25",
          "2024-03-26",
          "2024-03-27",
          "2024-03-28",
          "2024-03-29",
          "2024-03-30",
          "2024-03-31",
          "2024-04-01",
          "2024-04-02",
          "2024-04-03",
          "2024-04-04",
          "2024-04-05",
          "2024-04-06",
          "2024-04-07",
          "2024-04-08",
          "2024-04-09",
          "2024-04-10",
          "2024-04-11",
          "2024-04-12",
          "2024-04-13",
          "2024-04-14",
          "2024-04-15",
          "2024-04-16",
          "2024-04-17",
          "2024-04-18",
          "2024-04-19",
          "2024-04-20",
          "2024-04-21",
          "2024-04-22",
          "2024-04-23",
          "2024-04-24",
          "2024-04-25",
          "2024-04-26",
          "2024-04-27",
          "2024-04-28",
          "2024-04-29",
          "2024-04-30",
          "2024-05-01",
          "2024-05-02",
          "2024-05-03",
          "2024-05-04",
          "2024-05-05",
          "2024-05-06",
          "2024-05-07",
          "2024-05-08",
          "2024-05-09",
          "2024-05-10",
          "2024-05-11",
          "2024-05-12",
          "2024-05-13",
          "2024-05-14",
          "2024-05-15",
          "2024-05-16",
          "2024-05-17",
          "2024-05-18",
          "2024-05-19",
          "2024-05-20",
          "2024-05-21",
          "2024-05-22",
          "2024-05-23",
          "2024-05-24",
          "2024-05-25",
          "2024-05-26",
          "2024-05-27",
          "2024-05-28",
          "2024-05-29",
          "2024-05-30",
          "2024-05-31",
          "2024-06-01",
          "2024-06-02",
          "2024-06-03",
          "2024-06-04",
          "2024-06-05",
          "2024-06-06",
          "2024-06-07",
          "2024-06-08",
          "2024-06-09",
          "2024-06-10",
          "2024-06-11",
          "2024-06-12",
          "2024-06-13",
          "2024-06-14",
          "2024-06-15",
          "2024-06-16",
          "2024-06-17",
          "2024-06-18",
          "2024-06-19",
          "2024-06-20",
          "2024-06-21",
          "2024-06-22",
          "2024-06-23",
          "2024-06-24",
          "2024-06-25",
          "2024-06-26",
          "2024-06-27",
          "2024-06-28",
          "2024-06-29",
          "2024-06-30",
          "2024-07-01",
          "2024-07-02",
          "2024-07-03",
          "2024-07-04",
          "2024-07-05",
          "2024-07-06",
          "2024-07-07",
          "2024-07-08",
          "2024-07-09",
          "2024-07-10",
          "2024-07-11",
          "2024-07-12",
          "2024-07-13",
          "2024-07-14",
          "2024-07-15",
          "2024-07-16",
          "2024-07-17",
          "2024-07-18",
          "2024-07-19",
          "2024-07-20",
          "2024-07-21",
          "2024-07-22",
          "2024-07-23",
          "2024-07-24",
          "2024-07-25",
          "2024-07-26",
          "2024-07-27",
          "2024-07-28"
         ],
         "xaxis": "x",
         "y": [
          60,
          92,
          39,
          64,
          71,
          27,
          49,
          26,
          27,
          49.5,
          67.5,
          20.5,
          54,
          69.5,
          52,
          41,
          24.25,
          10.6,
          4.25,
          34.5,
          21.285714285714285,
          12,
          1.5,
          14,
          1.2,
          3.8,
          0,
          8.4,
          5.666666666666667,
          7.5,
          7.5,
          1.75,
          29.2,
          19.5,
          5.333333333333333,
          5.25,
          8.25,
          23.8,
          6.833333333333333,
          19.5,
          24,
          15.8,
          5.666666666666667,
          8.8,
          0,
          76.5,
          5.333333333333333,
          0,
          7.5,
          0,
          0,
          13.666666666666666,
          10.333333333333334,
          14,
          57.5,
          32,
          14,
          11.5,
          26,
          56,
          0,
          0,
          0,
          1.3333333333333333,
          0,
          0,
          7,
          0,
          0,
          0,
          0,
          0,
          0,
          25.5,
          9.5,
          0,
          0,
          0,
          37,
          19,
          54,
          3,
          0,
          1.3333333333333333,
          28,
          12,
          7.5,
          0,
          31.666666666666668,
          23,
          9.5,
          25.5,
          34.2,
          16.5,
          26.5,
          69,
          0,
          22.75,
          37,
          35.5,
          0,
          34,
          114,
          58,
          0,
          36,
          54,
          10.5,
          102,
          36.75,
          60,
          48.5,
          245,
          106,
          16.333333333333332,
          0,
          57,
          84,
          23.75,
          79.5,
          130.5,
          50.666666666666664,
          17.5,
          65.4,
          82,
          40.2,
          35.5,
          24.5,
          31.666666666666668,
          50.333333333333336,
          26.75,
          22.666666666666668,
          26.666666666666668,
          20,
          73.25,
          44.5,
          102.8,
          84,
          96.25,
          46.25,
          29.5,
          59.4,
          66.5,
          0,
          51.5,
          0,
          48,
          41.5,
          88,
          73.33333333333333,
          56.857142857142854,
          44.5,
          90,
          51.666666666666664,
          21.5,
          26.75,
          122,
          32,
          44,
          44.5,
          84.33333333333333,
          18.6,
          129.5,
          52,
          72,
          33.833333333333336,
          35.666666666666664,
          35.333333333333336,
          81,
          85.5,
          29.5,
          23,
          31,
          29.2,
          30.666666666666668,
          103.75,
          116.5,
          195.5,
          58,
          34.333333333333336,
          67.5,
          47,
          59,
          63.6,
          17.666666666666668,
          30,
          64,
          51.8,
          54.666666666666664,
          573.5,
          84.66666666666667,
          137,
          57,
          37.5,
          54.333333333333336,
          58.333333333333336,
          98.75,
          57.75,
          66,
          31.666666666666668,
          25.333333333333332,
          80.5,
          95,
          118,
          168,
          81,
          118.33333333333333,
          27.6,
          48,
          50.8,
          35,
          75.5,
          37.6,
          31.333333333333332,
          52.333333333333336,
          49.666666666666664,
          52,
          60.666666666666664,
          61,
          61,
          65.5,
          65.5,
          53,
          93,
          127.5,
          78,
          106,
          54.2,
          122.75,
          60.8,
          73.33333333333333,
          54.666666666666664,
          45.5,
          49.25,
          27,
          54.333333333333336,
          57.666666666666664,
          98.75,
          53,
          83.25,
          95,
          36.2,
          78,
          37.666666666666664,
          62,
          64.28571428571429,
          79.33333333333333,
          51,
          58,
          10,
          38,
          50,
          37.75,
          44,
          43.5,
          26,
          35.2,
          32.857142857142854,
          38,
          62,
          68.33333333333333,
          29.6,
          62,
          14,
          37,
          96,
          67,
          63,
          51,
          38.666666666666664,
          109.33333333333333,
          42.5,
          31.5,
          37.25,
          41,
          34.6,
          45.666666666666664,
          43,
          60.5,
          124.5,
          31.25,
          36.57142857142857,
          29.4,
          86,
          52.333333333333336,
          29.75,
          83.375,
          13.25,
          73.83333333333333,
          50,
          10.4,
          76.85714285714286,
          65.5,
          66.6,
          54,
          52,
          50.333333333333336,
          106,
          42.25,
          51,
          20.8,
          24.75,
          52.333333333333336,
          17,
          52,
          40.666666666666664,
          93,
          57,
          21.25,
          47.666666666666664,
          77.6,
          42.666666666666664,
          63.5,
          51,
          23,
          50.333333333333336,
          29.75,
          40.25,
          81,
          52.666666666666664,
          45.6,
          34.25,
          62,
          32.666666666666664,
          22,
          90.5,
          74,
          70.5,
          48.333333333333336,
          51.25,
          42.333333333333336,
          28.666666666666668,
          96,
          37,
          41.6,
          47.333333333333336,
          40.75,
          29.25,
          42.833333333333336,
          80.75,
          30.75,
          53,
          8.6,
          49.285714285714285,
          21,
          62.75,
          34.6,
          6.75,
          34.666666666666664,
          35.333333333333336,
          22.5,
          23.333333333333332,
          17.75,
          63.75,
          42,
          11.333333333333334,
          37,
          33.5,
          64,
          2.3333333333333335,
          77.4,
          29,
          27.8,
          14.5,
          76.33333333333333,
          18.8,
          16.5,
          35.75,
          33.5,
          78.25,
          18,
          6.75,
          40.333333333333336,
          44,
          74,
          25.2,
          97.66666666666667,
          26.666666666666668,
          56.5,
          33.666666666666664,
          8,
          48.25,
          32.666666666666664,
          33.666666666666664,
          20.2,
          23.25,
          31.333333333333332,
          52.6,
          65.33333333333333,
          39.666666666666664,
          23.2,
          43.25,
          69.33333333333333,
          0
         ],
         "yaxis": "y"
        },
        {
         "line": {
          "width": 2
         },
         "marker": {
          "size": 0
         },
         "mode": "lines",
         "name": "Sliding average (window size 11)",
         "type": "scatter",
         "x": [
          "2023-07-11",
          "2023-07-12",
          "2023-07-13",
          "2023-07-14",
          "2023-07-15",
          "2023-07-16",
          "2023-07-17",
          "2023-07-18",
          "2023-07-19",
          "2023-07-20",
          "2023-07-21",
          "2023-07-22",
          "2023-07-23",
          "2023-07-24",
          "2023-07-25",
          "2023-07-26",
          "2023-07-27",
          "2023-07-28",
          "2023-07-29",
          "2023-07-30",
          "2023-07-31",
          "2023-08-01",
          "2023-08-02",
          "2023-08-03",
          "2023-08-04",
          "2023-08-05",
          "2023-08-06",
          "2023-08-07",
          "2023-08-08",
          "2023-08-09",
          "2023-08-10",
          "2023-08-11",
          "2023-08-12",
          "2023-08-13",
          "2023-08-14",
          "2023-08-15",
          "2023-08-16",
          "2023-08-17",
          "2023-08-18",
          "2023-08-19",
          "2023-08-20",
          "2023-08-21",
          "2023-08-22",
          "2023-08-23",
          "2023-08-24",
          "2023-08-25",
          "2023-08-26",
          "2023-08-27",
          "2023-08-28",
          "2023-08-29",
          "2023-08-30",
          "2023-08-31",
          "2023-09-01",
          "2023-09-02",
          "2023-09-03",
          "2023-09-04",
          "2023-09-05",
          "2023-09-06",
          "2023-09-07",
          "2023-09-08",
          "2023-09-09",
          "2023-09-10",
          "2023-09-11",
          "2023-09-12",
          "2023-09-13",
          "2023-09-14",
          "2023-09-15",
          "2023-09-16",
          "2023-09-17",
          "2023-09-18",
          "2023-09-19",
          "2023-09-20",
          "2023-09-21",
          "2023-09-22",
          "2023-09-23",
          "2023-09-24",
          "2023-09-25",
          "2023-09-26",
          "2023-09-27",
          "2023-09-28",
          "2023-09-29",
          "2023-09-30",
          "2023-10-01",
          "2023-10-02",
          "2023-10-03",
          "2023-10-04",
          "2023-10-05",
          "2023-10-06",
          "2023-10-07",
          "2023-10-08",
          "2023-10-09",
          "2023-10-10",
          "2023-10-11",
          "2023-10-12",
          "2023-10-13",
          "2023-10-14",
          "2023-10-15",
          "2023-10-16",
          "2023-10-17",
          "2023-10-18",
          "2023-10-19",
          "2023-10-20",
          "2023-10-21",
          "2023-10-22",
          "2023-10-23",
          "2023-10-24",
          "2023-10-25",
          "2023-10-26",
          "2023-10-27",
          "2023-10-28",
          "2023-10-29",
          "2023-10-30",
          "2023-10-31",
          "2023-11-01",
          "2023-11-02",
          "2023-11-03",
          "2023-11-04",
          "2023-11-05",
          "2023-11-06",
          "2023-11-07",
          "2023-11-08",
          "2023-11-09",
          "2023-11-10",
          "2023-11-11",
          "2023-11-12",
          "2023-11-13",
          "2023-11-14",
          "2023-11-15",
          "2023-11-16",
          "2023-11-17",
          "2023-11-18",
          "2023-11-19",
          "2023-11-20",
          "2023-11-21",
          "2023-11-22",
          "2023-11-23",
          "2023-11-24",
          "2023-11-25",
          "2023-11-26",
          "2023-11-27",
          "2023-11-28",
          "2023-11-29",
          "2023-11-30",
          "2023-12-01",
          "2023-12-02",
          "2023-12-03",
          "2023-12-04",
          "2023-12-05",
          "2023-12-06",
          "2023-12-07",
          "2023-12-08",
          "2023-12-09",
          "2023-12-10",
          "2023-12-11",
          "2023-12-12",
          "2023-12-13",
          "2023-12-14",
          "2023-12-15",
          "2023-12-16",
          "2023-12-17",
          "2023-12-18",
          "2023-12-19",
          "2023-12-20",
          "2023-12-21",
          "2023-12-22",
          "2023-12-23",
          "2023-12-24",
          "2023-12-25",
          "2023-12-26",
          "2023-12-27",
          "2023-12-28",
          "2023-12-29",
          "2023-12-30",
          "2023-12-31",
          "2024-01-01",
          "2024-01-02",
          "2024-01-03",
          "2024-01-04",
          "2024-01-05",
          "2024-01-06",
          "2024-01-07",
          "2024-01-08",
          "2024-01-09",
          "2024-01-10",
          "2024-01-11",
          "2024-01-12",
          "2024-01-13",
          "2024-01-14",
          "2024-01-15",
          "2024-01-16",
          "2024-01-17",
          "2024-01-18",
          "2024-01-19",
          "2024-01-20",
          "2024-01-21",
          "2024-01-22",
          "2024-01-23",
          "2024-01-24",
          "2024-01-25",
          "2024-01-26",
          "2024-01-27",
          "2024-01-28",
          "2024-01-29",
          "2024-01-30",
          "2024-01-31",
          "2024-02-01",
          "2024-02-02",
          "2024-02-03",
          "2024-02-04",
          "2024-02-05",
          "2024-02-06",
          "2024-02-07",
          "2024-02-08",
          "2024-02-09",
          "2024-02-10",
          "2024-02-11",
          "2024-02-12",
          "2024-02-13",
          "2024-02-14",
          "2024-02-15",
          "2024-02-16",
          "2024-02-17",
          "2024-02-18",
          "2024-02-19",
          "2024-02-20",
          "2024-02-21",
          "2024-02-22",
          "2024-02-23",
          "2024-02-24",
          "2024-02-25",
          "2024-02-26",
          "2024-02-27",
          "2024-02-28",
          "2024-02-29",
          "2024-03-01",
          "2024-03-02",
          "2024-03-03",
          "2024-03-04",
          "2024-03-05",
          "2024-03-06",
          "2024-03-07",
          "2024-03-08",
          "2024-03-09",
          "2024-03-10",
          "2024-03-11",
          "2024-03-12",
          "2024-03-13",
          "2024-03-14",
          "2024-03-15",
          "2024-03-16",
          "2024-03-17",
          "2024-03-18",
          "2024-03-19",
          "2024-03-20",
          "2024-03-21",
          "2024-03-22",
          "2024-03-23",
          "2024-03-24",
          "2024-03-25",
          "2024-03-26",
          "2024-03-27",
          "2024-03-28",
          "2024-03-29",
          "2024-03-30",
          "2024-03-31",
          "2024-04-01",
          "2024-04-02",
          "2024-04-03",
          "2024-04-04",
          "2024-04-05",
          "2024-04-06",
          "2024-04-07",
          "2024-04-08",
          "2024-04-09",
          "2024-04-10",
          "2024-04-11",
          "2024-04-12",
          "2024-04-13",
          "2024-04-14",
          "2024-04-15",
          "2024-04-16",
          "2024-04-17",
          "2024-04-18",
          "2024-04-19",
          "2024-04-20",
          "2024-04-21",
          "2024-04-22",
          "2024-04-23",
          "2024-04-24",
          "2024-04-25",
          "2024-04-26",
          "2024-04-27",
          "2024-04-28",
          "2024-04-29",
          "2024-04-30",
          "2024-05-01",
          "2024-05-02",
          "2024-05-03",
          "2024-05-04",
          "2024-05-05",
          "2024-05-06",
          "2024-05-07",
          "2024-05-08",
          "2024-05-09",
          "2024-05-10",
          "2024-05-11",
          "2024-05-12",
          "2024-05-13",
          "2024-05-14",
          "2024-05-15",
          "2024-05-16",
          "2024-05-17",
          "2024-05-18",
          "2024-05-19",
          "2024-05-20",
          "2024-05-21",
          "2024-05-22",
          "2024-05-23",
          "2024-05-24",
          "2024-05-25",
          "2024-05-26",
          "2024-05-27",
          "2024-05-28",
          "2024-05-29",
          "2024-05-30",
          "2024-05-31",
          "2024-06-01",
          "2024-06-02",
          "2024-06-03",
          "2024-06-04",
          "2024-06-05",
          "2024-06-06",
          "2024-06-07",
          "2024-06-08",
          "2024-06-09",
          "2024-06-10",
          "2024-06-11",
          "2024-06-12",
          "2024-06-13",
          "2024-06-14",
          "2024-06-15",
          "2024-06-16",
          "2024-06-17",
          "2024-06-18",
          "2024-06-19",
          "2024-06-20",
          "2024-06-21",
          "2024-06-22",
          "2024-06-23",
          "2024-06-24",
          "2024-06-25",
          "2024-06-26",
          "2024-06-27",
          "2024-06-28",
          "2024-06-29",
          "2024-06-30",
          "2024-07-01",
          "2024-07-02",
          "2024-07-03",
          "2024-07-04",
          "2024-07-05",
          "2024-07-06",
          "2024-07-07",
          "2024-07-08",
          "2024-07-09",
          "2024-07-10",
          "2024-07-11",
          "2024-07-12",
          "2024-07-13",
          "2024-07-14",
          "2024-07-15",
          "2024-07-16",
          "2024-07-17",
          "2024-07-18",
          "2024-07-19",
          "2024-07-20",
          "2024-07-21",
          "2024-07-22",
          "2024-07-23",
          "2024-07-24",
          "2024-07-25",
          "2024-07-26",
          "2024-07-27",
          "2024-07-28"
         ],
         "y": [
          52,
          48.409090909090914,
          44.95454545454546,
          47.727272727272734,
          46.63636363636364,
          43.90909090909091,
          43.65909090909091,
          40.168181818181814,
          38.19090909090908,
          38.87272727272726,
          36.307792207792204,
          31.262337662337664,
          29.535064935064934,
          25.8987012987013,
          19.68961038961039,
          15.30779220779221,
          11.580519480519483,
          10.13961038961039,
          9.691125541125542,
          9.986580086580087,
          7.532034632034632,
          5.756060606060605,
          7.31969696969697,
          8.956060606060607,
          8.168181818181818,
          8.536363636363637,
          8.940909090909091,
          11.104545454545455,
          10.962121212121215,
          12.21969696969697,
          13.71969696969697,
          14.474242424242426,
          14.830303030303032,
          12.975757575757576,
          11.203030303030303,
          17.672727272727272,
          17.68030303030303,
          16.93030303030303,
          15.448484848484847,
          14.827272727272726,
          13.054545454545453,
          12.115151515151515,
          11.618181818181817,
          12.375757575757577,
          16.803030303030305,
          19.712121212121215,
          14.030303030303031,
          14.590909090909092,
          16.954545454545457,
          21.363636363636363,
          21.363636363636363,
          21.363636363636363,
          20.12121212121212,
          19.303030303030305,
          18.03030303030303,
          12.803030303030301,
          10.530303030303031,
          9.257575757575758,
          8.212121212121213,
          5.848484848484849,
          0.7575757575757576,
          0.7575757575757576,
          0.7575757575757576,
          3.075757575757576,
          3.8181818181818183,
          3.8181818181818183,
          3.8181818181818183,
          3.181818181818182,
          6.545454545454546,
          8.272727272727273,
          13.181818181818183,
          13.454545454545457,
          13.454545454545457,
          13.575757575757578,
          13.803030303030303,
          14.030303030303031,
          14.712121212121213,
          14.712121212121213,
          17.590909090909093,
          16.31818181818182,
          15.454545454545453,
          12.863636363636363,
          15.700000000000001,
          17.200000000000003,
          19.48787878787879,
          23.215151515151515,
          22.124242424242425,
          23.510606060606065,
          26.87424242424243,
          27.222727272727273,
          25.13181818181818,
          27.35909090909091,
          35.404545454545456,
          37.56818181818182,
          36.06818181818181,
          36.93181818181818,
          35.56818181818182,
          36.52272727272727,
          43.72727272727273,
          43.70454545454545,
          45.93181818181819,
          50.34090909090909,
          69.52272727272728,
          68.79545454545455,
          65.00757575757576,
          65.00757575757576,
          66.91666666666667,
          69.64393939393939,
          70.84848484848484,
          68.80303030303031,
          77.32575757575758,
          76.47727272727273,
          73.65909090909092,
          57.331818181818186,
          55.15,
          57.31969696969697,
          60.5469696969697,
          57.592424242424244,
          52.83484848484848,
          55.25151515151515,
          50.45606060606061,
          40.653030303030306,
          38.47121212121212,
          38.69848484848485,
          39.41212121212121,
          36.0030303030303,
          41.693939393939395,
          46.10303030303031,
          52.625757575757575,
          53.95151515151515,
          52.057575757575755,
          55.02575757575757,
          59.010606060606065,
          56.58636363636363,
          59.449999999999996,
          52.79090909090909,
          53.10909090909091,
          47.53636363636364,
          47.9,
          45.81666666666667,
          46.780952380952385,
          48.144588744588745,
          50.926406926406926,
          49.577922077922075,
          51.53246753246753,
          49.28246753246753,
          60.37337662337662,
          58.91883116883116,
          59.14610389610389,
          55.191558441558435,
          56.191558441558435,
          52.713636363636354,
          60.44090909090909,
          56.986363636363635,
          58.834848484848486,
          59.95606060606061,
          60.766666666666666,
          52.88787878787879,
          57.34242424242425,
          61.11515151515152,
          59.75151515151516,
          54.17575757575758,
          55.30303030303031,
          46.18484848484849,
          44.24545454545455,
          47.13181818181818,
          54.646969696969705,
          69.17727272727274,
          71.23787878787878,
          66.99545454545455,
          65.35909090909092,
          66.95,
          70.22272727272727,
          73.18636363636365,
          72.1378787878788,
          72.07727272727274,
          68.46363636363638,
          62.58181818181819,
          49.77878787878788,
          96.64242424242425,
          101.21818181818183,
          107.53636363636365,
          108.44545454545457,
          106.4909090909091,
          105.64848484848486,
          109.34545454545456,
          115.59545454545456,
          115.02727272727273,
          116.31818181818183,
          114.22727272727273,
          64.39393939393939,
          64.01515151515152,
          60.1969696969697,
          65.74242424242426,
          77.60606060606061,
          80.03030303030303,
          85.48484848484847,
          79.01666666666667,
          78.13030303030304,
          76.74848484848486,
          77.05151515151516,
          81.61212121212122,
          77.71212121212123,
          71.92424242424242,
          65.95454545454547,
          55.1969696969697,
          52.56060606060607,
          47.31818181818182,
          50.35454545454545,
          51.53636363636364,
          52.872727272727275,
          55.64545454545455,
          53.6,
          58.63636363636363,
          67.37878787878788,
          69.71212121212122,
          74.83333333333334,
          75.03333333333333,
          80.67727272727272,
          80.65909090909092,
          81.78030303030305,
          80.79545454545456,
          78.97727272727275,
          78.63636363636365,
          72.63636363636364,
          65.98484848484848,
          64.13636363636364,
          63.47727272727273,
          63.36818181818181,
          59.77727272727273,
          62.88636363636364,
          59.51060606060606,
          61.63181818181818,
          60.91969696969698,
          62.07878787878788,
          65.46839826839827,
          67.74112554112554,
          67.13506493506495,
          63.430519480519486,
          59.521428571428565,
          55.407792207792205,
          51.31688311688311,
          51.45779220779221,
          48.36688311688311,
          48.89718614718615,
          45.62445887445888,
          42.98030303030304,
          38.75519480519481,
          37.573376623376625,
          37.93701298701299,
          43.24004329004328,
          42.476406926406916,
          43.56731601731602,
          41.4082251082251,
          40.77186147186148,
          45.54458874458875,
          49.27186147186148,
          51.7991341991342,
          53.44848484848485,
          53.509090909090915,
          57.81212121212121,
          55.46363636363636,
          55.63636363636364,
          53.38636363636363,
          55.840909090909086,
          55.622727272727275,
          51.0469696969697,
          48.86515151515151,
          48.63787878787878,
          55.31969696969697,
          54.64545454545455,
          48.030735930735936,
          46.83982683982684,
          51.7943722943723,
          53.16558441558442,
          52.14285714285714,
          56.57694805194805,
          53.62997835497835,
          56.43300865800865,
          55.4784632034632,
          45.105735930735925,
          49.25183982683983,
          51.881709956709955,
          55.26352813852814,
          52.354437229437224,
          52.3241341991342,
          54.195346320346324,
          56.252164502164504,
          58.888528138528144,
          56.81277056277058,
          54.15822510822511,
          55.46277056277057,
          53.23333333333334,
          48.82424242424242,
          47.4969696969697,
          46.28484848484848,
          50.01212121212121,
          50.61818181818182,
          42.91363636363636,
          43.406060606060606,
          45.82424242424242,
          47.81212121212121,
          51.334848484848486,
          51.21363636363637,
          51.759090909090915,
          51.60757575757576,
          50.615151515151524,
          45.81969696969697,
          48.00151515151515,
          50.85757575757576,
          50.66969696969697,
          46.728787878787884,
          48.48636363636365,
          45.68333333333334,
          43.0469696969697,
          49.18333333333333,
          51.334848484848486,
          55.03939393939393,
          55.774242424242416,
          53.06969696969696,
          52.13030303030303,
          50.590909090909086,
          56.20454545454545,
          53.93181818181819,
          54.7439393939394,
          57.046969696969704,
          52.52424242424243,
          48.4560606060606,
          45.94090909090909,
          48.88787878787879,
          47.02424242424243,
          47.9939393939394,
          46.16969696969697,
          41.92294372294373,
          40.46839826839827,
          42.39112554112554,
          41.23354978354978,
          38.1426406926407,
          38.63506493506494,
          37.95324675324675,
          32.657792207792205,
          31.983549783549783,
          28.77900432900433,
          33.792640692640695,
          33.13030303030303,
          32.25151515151516,
          29.91060606060606,
          29.810606060606066,
          35.015151515151516,
          32.07575757575758,
          35.9,
          36.49090909090909,
          36.89696969696969,
          36.60151515151515,
          37.74545454545455,
          35.63636363636364,
          36.10606060606061,
          35.99242424242424,
          35.99242424242424,
          37.287878787878796,
          38.71212121212122,
          32.289393939393946,
          33.31969696969697,
          34.79242424242425,
          40.20151515151515,
          35.553030303030305,
          42.72272727272727,
          43.64696969696969,
          45.53333333333333,
          45.54848484848485,
          39.162121212121214,
          41.91212121212121,
          44.268181818181816,
          43.66212121212122,
          41.49848484848486,
          36.88484848484848,
          37.442424242424245,
          33.345454545454544,
          36.86060606060606,
          35.330303030303035,
          34.37878787878788,
          37.58333333333333,
          39.5,
          36.53030303030303
         ]
        }
       ],
       "layout": {
        "legend": {
         "orientation": "h",
         "tracegroupgap": 0,
         "x": 1,
         "xanchor": "right",
         "y": 1.02,
         "yanchor": "bottom"
        },
        "template": {
         "data": {
          "bar": [
           {
            "error_x": {
             "color": "#f2f5fa"
            },
            "error_y": {
             "color": "#f2f5fa"
            },
            "marker": {
             "line": {
              "color": "rgb(17,17,17)",
              "width": 0.5
             },
             "pattern": {
              "fillmode": "overlay",
              "size": 10,
              "solidity": 0.2
             }
            },
            "type": "bar"
           }
          ],
          "barpolar": [
           {
            "marker": {
             "line": {
              "color": "rgb(17,17,17)",
              "width": 0.5
             },
             "pattern": {
              "fillmode": "overlay",
              "size": 10,
              "solidity": 0.2
             }
            },
            "type": "barpolar"
           }
          ],
          "carpet": [
           {
            "aaxis": {
             "endlinecolor": "#A2B1C6",
             "gridcolor": "#506784",
             "linecolor": "#506784",
             "minorgridcolor": "#506784",
             "startlinecolor": "#A2B1C6"
            },
            "baxis": {
             "endlinecolor": "#A2B1C6",
             "gridcolor": "#506784",
             "linecolor": "#506784",
             "minorgridcolor": "#506784",
             "startlinecolor": "#A2B1C6"
            },
            "type": "carpet"
           }
          ],
          "choropleth": [
           {
            "colorbar": {
             "outlinewidth": 0,
             "ticks": ""
            },
            "type": "choropleth"
           }
          ],
          "contour": [
           {
            "colorbar": {
             "outlinewidth": 0,
             "ticks": ""
            },
            "colorscale": [
             [
              0,
              "#0d0887"
             ],
             [
              0.1111111111111111,
              "#46039f"
             ],
             [
              0.2222222222222222,
              "#7201a8"
             ],
             [
              0.3333333333333333,
              "#9c179e"
             ],
             [
              0.4444444444444444,
              "#bd3786"
             ],
             [
              0.5555555555555556,
              "#d8576b"
             ],
             [
              0.6666666666666666,
              "#ed7953"
             ],
             [
              0.7777777777777778,
              "#fb9f3a"
             ],
             [
              0.8888888888888888,
              "#fdca26"
             ],
             [
              1,
              "#f0f921"
             ]
            ],
            "type": "contour"
           }
          ],
          "contourcarpet": [
           {
            "colorbar": {
             "outlinewidth": 0,
             "ticks": ""
            },
            "type": "contourcarpet"
           }
          ],
          "heatmap": [
           {
            "colorbar": {
             "outlinewidth": 0,
             "ticks": ""
            },
            "colorscale": [
             [
              0,
              "#0d0887"
             ],
             [
              0.1111111111111111,
              "#46039f"
             ],
             [
              0.2222222222222222,
              "#7201a8"
             ],
             [
              0.3333333333333333,
              "#9c179e"
             ],
             [
              0.4444444444444444,
              "#bd3786"
             ],
             [
              0.5555555555555556,
              "#d8576b"
             ],
             [
              0.6666666666666666,
              "#ed7953"
             ],
             [
              0.7777777777777778,
              "#fb9f3a"
             ],
             [
              0.8888888888888888,
              "#fdca26"
             ],
             [
              1,
              "#f0f921"
             ]
            ],
            "type": "heatmap"
           }
          ],
          "heatmapgl": [
           {
            "colorbar": {
             "outlinewidth": 0,
             "ticks": ""
            },
            "colorscale": [
             [
              0,
              "#0d0887"
             ],
             [
              0.1111111111111111,
              "#46039f"
             ],
             [
              0.2222222222222222,
              "#7201a8"
             ],
             [
              0.3333333333333333,
              "#9c179e"
             ],
             [
              0.4444444444444444,
              "#bd3786"
             ],
             [
              0.5555555555555556,
              "#d8576b"
             ],
             [
              0.6666666666666666,
              "#ed7953"
             ],
             [
              0.7777777777777778,
              "#fb9f3a"
             ],
             [
              0.8888888888888888,
              "#fdca26"
             ],
             [
              1,
              "#f0f921"
             ]
            ],
            "type": "heatmapgl"
           }
          ],
          "histogram": [
           {
            "marker": {
             "pattern": {
              "fillmode": "overlay",
              "size": 10,
              "solidity": 0.2
             }
            },
            "type": "histogram"
           }
          ],
          "histogram2d": [
           {
            "colorbar": {
             "outlinewidth": 0,
             "ticks": ""
            },
            "colorscale": [
             [
              0,
              "#0d0887"
             ],
             [
              0.1111111111111111,
              "#46039f"
             ],
             [
              0.2222222222222222,
              "#7201a8"
             ],
             [
              0.3333333333333333,
              "#9c179e"
             ],
             [
              0.4444444444444444,
              "#bd3786"
             ],
             [
              0.5555555555555556,
              "#d8576b"
             ],
             [
              0.6666666666666666,
              "#ed7953"
             ],
             [
              0.7777777777777778,
              "#fb9f3a"
             ],
             [
              0.8888888888888888,
              "#fdca26"
             ],
             [
              1,
              "#f0f921"
             ]
            ],
            "type": "histogram2d"
           }
          ],
          "histogram2dcontour": [
           {
            "colorbar": {
             "outlinewidth": 0,
             "ticks": ""
            },
            "colorscale": [
             [
              0,
              "#0d0887"
             ],
             [
              0.1111111111111111,
              "#46039f"
             ],
             [
              0.2222222222222222,
              "#7201a8"
             ],
             [
              0.3333333333333333,
              "#9c179e"
             ],
             [
              0.4444444444444444,
              "#bd3786"
             ],
             [
              0.5555555555555556,
              "#d8576b"
             ],
             [
              0.6666666666666666,
              "#ed7953"
             ],
             [
              0.7777777777777778,
              "#fb9f3a"
             ],
             [
              0.8888888888888888,
              "#fdca26"
             ],
             [
              1,
              "#f0f921"
             ]
            ],
            "type": "histogram2dcontour"
           }
          ],
          "mesh3d": [
           {
            "colorbar": {
             "outlinewidth": 0,
             "ticks": ""
            },
            "type": "mesh3d"
           }
          ],
          "parcoords": [
           {
            "line": {
             "colorbar": {
              "outlinewidth": 0,
              "ticks": ""
             }
            },
            "type": "parcoords"
           }
          ],
          "pie": [
           {
            "automargin": true,
            "type": "pie"
           }
          ],
          "scatter": [
           {
            "marker": {
             "line": {
              "color": "#283442"
             }
            },
            "type": "scatter"
           }
          ],
          "scatter3d": [
           {
            "line": {
             "colorbar": {
              "outlinewidth": 0,
              "ticks": ""
             }
            },
            "marker": {
             "colorbar": {
              "outlinewidth": 0,
              "ticks": ""
             }
            },
            "type": "scatter3d"
           }
          ],
          "scattercarpet": [
           {
            "marker": {
             "colorbar": {
              "outlinewidth": 0,
              "ticks": ""
             }
            },
            "type": "scattercarpet"
           }
          ],
          "scattergeo": [
           {
            "marker": {
             "colorbar": {
              "outlinewidth": 0,
              "ticks": ""
             }
            },
            "type": "scattergeo"
           }
          ],
          "scattergl": [
           {
            "marker": {
             "line": {
              "color": "#283442"
             }
            },
            "type": "scattergl"
           }
          ],
          "scattermapbox": [
           {
            "marker": {
             "colorbar": {
              "outlinewidth": 0,
              "ticks": ""
             }
            },
            "type": "scattermapbox"
           }
          ],
          "scatterpolar": [
           {
            "marker": {
             "colorbar": {
              "outlinewidth": 0,
              "ticks": ""
             }
            },
            "type": "scatterpolar"
           }
          ],
          "scatterpolargl": [
           {
            "marker": {
             "colorbar": {
              "outlinewidth": 0,
              "ticks": ""
             }
            },
            "type": "scatterpolargl"
           }
          ],
          "scatterternary": [
           {
            "marker": {
             "colorbar": {
              "outlinewidth": 0,
              "ticks": ""
             }
            },
            "type": "scatterternary"
           }
          ],
          "surface": [
           {
            "colorbar": {
             "outlinewidth": 0,
             "ticks": ""
            },
            "colorscale": [
             [
              0,
              "#0d0887"
             ],
             [
              0.1111111111111111,
              "#46039f"
             ],
             [
              0.2222222222222222,
              "#7201a8"
             ],
             [
              0.3333333333333333,
              "#9c179e"
             ],
             [
              0.4444444444444444,
              "#bd3786"
             ],
             [
              0.5555555555555556,
              "#d8576b"
             ],
             [
              0.6666666666666666,
              "#ed7953"
             ],
             [
              0.7777777777777778,
              "#fb9f3a"
             ],
             [
              0.8888888888888888,
              "#fdca26"
             ],
             [
              1,
              "#f0f921"
             ]
            ],
            "type": "surface"
           }
          ],
          "table": [
           {
            "cells": {
             "fill": {
              "color": "#506784"
             },
             "line": {
              "color": "rgb(17,17,17)"
             }
            },
            "header": {
             "fill": {
              "color": "#2a3f5f"
             },
             "line": {
              "color": "rgb(17,17,17)"
             }
            },
            "type": "table"
           }
          ]
         },
         "layout": {
          "annotationdefaults": {
           "arrowcolor": "#f2f5fa",
           "arrowhead": 0,
           "arrowwidth": 1
          },
          "autotypenumbers": "strict",
          "coloraxis": {
           "colorbar": {
            "outlinewidth": 0,
            "ticks": ""
           }
          },
          "colorscale": {
           "diverging": [
            [
             0,
             "#8e0152"
            ],
            [
             0.1,
             "#c51b7d"
            ],
            [
             0.2,
             "#de77ae"
            ],
            [
             0.3,
             "#f1b6da"
            ],
            [
             0.4,
             "#fde0ef"
            ],
            [
             0.5,
             "#f7f7f7"
            ],
            [
             0.6,
             "#e6f5d0"
            ],
            [
             0.7,
             "#b8e186"
            ],
            [
             0.8,
             "#7fbc41"
            ],
            [
             0.9,
             "#4d9221"
            ],
            [
             1,
             "#276419"
            ]
           ],
           "sequential": [
            [
             0,
             "#0d0887"
            ],
            [
             0.1111111111111111,
             "#46039f"
            ],
            [
             0.2222222222222222,
             "#7201a8"
            ],
            [
             0.3333333333333333,
             "#9c179e"
            ],
            [
             0.4444444444444444,
             "#bd3786"
            ],
            [
             0.5555555555555556,
             "#d8576b"
            ],
            [
             0.6666666666666666,
             "#ed7953"
            ],
            [
             0.7777777777777778,
             "#fb9f3a"
            ],
            [
             0.8888888888888888,
             "#fdca26"
            ],
            [
             1,
             "#f0f921"
            ]
           ],
           "sequentialminus": [
            [
             0,
             "#0d0887"
            ],
            [
             0.1111111111111111,
             "#46039f"
            ],
            [
             0.2222222222222222,
             "#7201a8"
            ],
            [
             0.3333333333333333,
             "#9c179e"
            ],
            [
             0.4444444444444444,
             "#bd3786"
            ],
            [
             0.5555555555555556,
             "#d8576b"
            ],
            [
             0.6666666666666666,
             "#ed7953"
            ],
            [
             0.7777777777777778,
             "#fb9f3a"
            ],
            [
             0.8888888888888888,
             "#fdca26"
            ],
            [
             1,
             "#f0f921"
            ]
           ]
          },
          "colorway": [
           "#636efa",
           "#EF553B",
           "#00cc96",
           "#ab63fa",
           "#FFA15A",
           "#19d3f3",
           "#FF6692",
           "#B6E880",
           "#FF97FF",
           "#FECB52"
          ],
          "font": {
           "color": "#f2f5fa"
          },
          "geo": {
           "bgcolor": "rgb(17,17,17)",
           "lakecolor": "rgb(17,17,17)",
           "landcolor": "rgb(17,17,17)",
           "showlakes": true,
           "showland": true,
           "subunitcolor": "#506784"
          },
          "hoverlabel": {
           "align": "left"
          },
          "hovermode": "closest",
          "mapbox": {
           "style": "dark"
          },
          "paper_bgcolor": "rgb(17,17,17)",
          "plot_bgcolor": "rgb(17,17,17)",
          "polar": {
           "angularaxis": {
            "gridcolor": "#506784",
            "linecolor": "#506784",
            "ticks": ""
           },
           "bgcolor": "rgb(17,17,17)",
           "radialaxis": {
            "gridcolor": "#506784",
            "linecolor": "#506784",
            "ticks": ""
           }
          },
          "scene": {
           "xaxis": {
            "backgroundcolor": "rgb(17,17,17)",
            "gridcolor": "#506784",
            "gridwidth": 2,
            "linecolor": "#506784",
            "showbackground": true,
            "ticks": "",
            "zerolinecolor": "#C8D4E3"
           },
           "yaxis": {
            "backgroundcolor": "rgb(17,17,17)",
            "gridcolor": "#506784",
            "gridwidth": 2,
            "linecolor": "#506784",
            "showbackground": true,
            "ticks": "",
            "zerolinecolor": "#C8D4E3"
           },
           "zaxis": {
            "backgroundcolor": "rgb(17,17,17)",
            "gridcolor": "#506784",
            "gridwidth": 2,
            "linecolor": "#506784",
            "showbackground": true,
            "ticks": "",
            "zerolinecolor": "#C8D4E3"
           }
          },
          "shapedefaults": {
           "line": {
            "color": "#f2f5fa"
           }
          },
          "sliderdefaults": {
           "bgcolor": "#C8D4E3",
           "bordercolor": "rgb(17,17,17)",
           "borderwidth": 1,
           "tickwidth": 0
          },
          "ternary": {
           "aaxis": {
            "gridcolor": "#506784",
            "linecolor": "#506784",
            "ticks": ""
           },
           "baxis": {
            "gridcolor": "#506784",
            "linecolor": "#506784",
            "ticks": ""
           },
           "bgcolor": "rgb(17,17,17)",
           "caxis": {
            "gridcolor": "#506784",
            "linecolor": "#506784",
            "ticks": ""
           }
          },
          "title": {
           "x": 0.05
          },
          "updatemenudefaults": {
           "bgcolor": "#506784",
           "borderwidth": 0
          },
          "xaxis": {
           "automargin": true,
           "gridcolor": "#283442",
           "linecolor": "#506784",
           "ticks": "",
           "title": {
            "standoff": 15
           },
           "zerolinecolor": "#283442",
           "zerolinewidth": 2
          },
          "yaxis": {
           "automargin": true,
           "gridcolor": "#283442",
           "linecolor": "#506784",
           "ticks": "",
           "title": {
            "standoff": 15
           },
           "zerolinecolor": "#283442",
           "zerolinewidth": 2
          }
         }
        },
        "title": {
         "text": "Average note length"
        },
        "xaxis": {
         "anchor": "y",
         "domain": [
          0,
          1
         ],
         "title": {
          "text": "Date"
         }
        },
        "yaxis": {
         "anchor": "x",
         "domain": [
          0,
          1
         ],
         "title": {
          "text": "Average note length"
         }
        }
       }
      }
     },
     "metadata": {},
     "output_type": "display_data"
    }
   ],
   "source": [
    "df.note_length_plot()"
   ]
  },
  {
   "cell_type": "code",
   "execution_count": 2,
   "metadata": {
    "metadata": {}
   },
   "outputs": [],
   "source": [
    "df.generate_activity_correlation_matrix()"
   ]
  },
  {
   "cell_type": "markdown",
   "metadata": {},
   "source": [
    "# Monthly Report Templates"
   ]
  },
  {
   "cell_type": "code",
   "execution_count": 3,
   "metadata": {
    "metadata": {}
   },
   "outputs": [],
   "source": [
    "import datetime\n",
    "\n",
    "\n",
    "def generate_report_template(month: int, year: int):\n",
    "    month_init = month\n",
    "    _from = f'01.{month:02d}.{year}'\n",
    "    month = month + 1 if month < 12 else 1\n",
    "    year = year + 1 if month == 1 else year\n",
    "    _to = f'01.{month:02d}.{year}'\n",
    "    df_month = df[_from:_to]\n",
    "    df_month_groups = df_month.group_by('day')\n",
    "\n",
    "    EVENTS_COMMENT = f'total entries: {len(df_month)}\\n\\n'\n",
    "    for day, entries in df_month_groups.items():\n",
    "        EVENTS_COMMENT += f' -- {day:%d.%m.%Y, %a} --\\n'\n",
    "        for e in entries:\n",
    "            EVENTS_COMMENT += f'@{e.full_date.time():%H:%M}: {e.mood} {\", \".join(e.activities)}\\n  {e.note}\\n'\n",
    "        EVENTS_COMMENT += '\\n'\n",
    "    \n",
    "    month_word = datetime.date(1900, month_init, 1).strftime('%B')\n",
    "    with open(f'{year}-{month_init:02d}.md', 'w', encoding='utf-8') as f:\n",
    "        f.write(\n",
    "            f'# {month_word} {year}\\n\\n'\n",
    "            f'<!---\\n{EVENTS_COMMENT}--->'\n",
    "        )"
   ]
  },
  {
   "cell_type": "code",
   "execution_count": 4,
   "metadata": {
    "metadata": {}
   },
   "outputs": [],
   "source": [
    "generate_report_template(7, 2024)"
   ]
  },
  {
   "cell_type": "markdown",
   "metadata": {},
   "source": [
    "# Other"
   ]
  },
  {
   "cell_type": "code",
   "execution_count": null,
   "metadata": {},
   "outputs": [],
   "source": []
  }
 ],
 "metadata": {
  "kernelspec": {
   "display_name": "thevenv",
   "language": "python",
   "name": "python3"
  },
  "language_info": {
   "codemirror_mode": {
    "name": "ipython",
    "version": 3
   },
   "file_extension": ".py",
   "mimetype": "text/x-python",
   "name": "python",
   "nbconvert_exporter": "python",
   "pygments_lexer": "ipython3",
   "version": "3.11.2"
  },
  "orig_nbformat": 4
 },
 "nbformat": 4,
 "nbformat_minor": 2
}
