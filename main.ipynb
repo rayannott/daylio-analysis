{
 "cells": [
  {
   "cell_type": "code",
   "execution_count": 46,
   "metadata": {},
   "outputs": [],
   "source": [
    "import csv\n",
    "from dataclasses import dataclass\n",
    "import datetime\n",
    "import pathlib"
   ]
  },
  {
   "cell_type": "code",
   "execution_count": 159,
   "metadata": {},
   "outputs": [],
   "source": [
    "from collections import Counter\n",
    "\n",
    "\n",
    "MOOD_VALUES = {'bad': 1, 'meh': 2, 'ok': 3, 'good': 4, 'great': 5}\n",
    "DT_FORMAT = r\"%Y-%m-%d %H:%M\"\n",
    "\n",
    "\n",
    "@dataclass\n",
    "class Entry:\n",
    "    full_date: datetime.datetime\n",
    "    mood: int\n",
    "    activities: set\n",
    "    note: str\n",
    "\n",
    "    def __repr__(self) -> str:\n",
    "        return f'[{self.full_date.strftime(DT_FORMAT)}] {self.mood} {\", \".join(self.activities)}'\n",
    "    \n",
    "    def check_condition(self, incl_act: set[str],\n",
    "                   excl_act: set[str], \n",
    "                   when: datetime.date | None, \n",
    "                   mood: int | tuple[int|None, int|None] | None) -> bool:\n",
    "        return (True if not incl_act else incl_act & self.activities) and \\\n",
    "            (not excl_act & self.activities) and \\\n",
    "            (True if when is None else self.full_date.date() == when) and \\\n",
    "            (True if mood is None else mood == self.mood)\n",
    "\n",
    "\n",
    "class Dataset:\n",
    "    def _from_csv_file(self, csv_file_path: str | pathlib.Path):\n",
    "        self.entries: list[Entry] = []\n",
    "        with open(csv_file_path, 'r', encoding='utf-8-sig') as csvfile:\n",
    "            reader = csv.DictReader(csvfile)\n",
    "            for row in reader:\n",
    "                self.entries.append(self._get_entry(row))\n",
    "\n",
    "    def __init__(self, *, csv_file_path: str | pathlib.Path | None = None, entries: list[Entry] | None = None) -> None:\n",
    "        if csv_file_path is not None:\n",
    "            self._from_csv_file(csv_file_path)\n",
    "            print(f'successful: {len(self.entries)} entries')\n",
    "        elif entries is not None:\n",
    "            self.entries = entries\n",
    "        else:\n",
    "            self.entries = 0\n",
    "    \n",
    "    def __repr__(self) -> str:\n",
    "        return f'Dataset({len(self.entries)} entries)'\n",
    "\n",
    "    def __getitem__(self, idx: int) -> Entry:\n",
    "        return self.entries[idx]\n",
    "    \n",
    "    def __iter__(self):\n",
    "        return iter(self.entries)\n",
    "    \n",
    "    def _get_entry(self, row: dict) -> Entry:\n",
    "        datetime_str = row['full_date'] + ' ' + row['time']\n",
    "        return Entry(\n",
    "            full_date=datetime.datetime.strptime(datetime_str, DT_FORMAT),\n",
    "            mood=MOOD_VALUES.get(row['mood']),\n",
    "            activities=set(row['activities'].split(' | ')),\n",
    "            note=row['note']\n",
    "        )\n",
    "    \n",
    "    def get_subset(self, \n",
    "                   incl_act: set[str] = set(),\n",
    "                   excl_act: set[str] = set(), \n",
    "                   when: datetime.date | None = None, \n",
    "                   mood: int | tuple[int|None, int|None] | None = None) -> 'Dataset':\n",
    "        filtered_entries = []\n",
    "        for e in self:\n",
    "            if e.check_condition(incl_act, excl_act, when, mood):\n",
    "                filtered_entries.append(e)\n",
    "        return Dataset(entries=filtered_entries)\n",
    "    \n",
    "    def count(self, incl_act: set[str] = set(),\n",
    "                   excl_act: set[str] = set(), \n",
    "                   when: datetime.date | None = None, \n",
    "                   mood: int | tuple[int|None, int|None] | None = None) -> int:\n",
    "        return sum(1 for e in self if e.check_condition(incl_act, excl_act, when, mood))\n",
    "\n",
    "    def avg_mood(self) -> float:\n",
    "        return sum(e.mood for e in self)/len(self.entries)\n",
    "    \n",
    "    def count_activities(self) -> Counter:\n",
    "        c = Counter()\n",
    "        for e in self:\n",
    "            c.update(e.activities)\n",
    "        return c\n",
    "    \n",
    "    def head(self, n: int = 5) -> None:\n",
    "        for e in self.entries[:n]:\n",
    "            print(e)\n",
    "        if len(self.entries) > n:\n",
    "            print('...')\n",
    "        print(self)"
   ]
  },
  {
   "cell_type": "code",
   "execution_count": 160,
   "metadata": {},
   "outputs": [
    {
     "name": "stdout",
     "output_type": "stream",
     "text": [
      "successful: 32 entries\n"
     ]
    }
   ],
   "source": [
    "df = Dataset(csv_file_path=pathlib.Path('data_2023_07_18.csv'))"
   ]
  },
  {
   "cell_type": "code",
   "execution_count": 161,
   "metadata": {},
   "outputs": [
    {
     "name": "stdout",
     "output_type": "stream",
     "text": [
      "[2023-07-17 21:37] 2 angry, dota2\n",
      "[2023-07-17 20:29] 4 laughing, chess\n",
      "[2023-07-17 19:17] 3 tired, study, home (never left)\n",
      "[2023-07-17 16:10] 3 excited, nail biting, stressed, home (never left), chess, cooking\n",
      "[2023-07-16 20:02] 4 study, nail biting, friends, home (never left), chess, dota2, cycling, cleaning\n",
      "...\n",
      "Dataset(32 entries)\n"
     ]
    },
    {
     "data": {
      "text/plain": [
       "3.6875"
      ]
     },
     "execution_count": 161,
     "metadata": {},
     "output_type": "execute_result"
    }
   ],
   "source": [
    "df.head()\n",
    "df.avg_mood()"
   ]
  },
  {
   "cell_type": "code",
   "execution_count": 162,
   "metadata": {},
   "outputs": [
    {
     "data": {
      "text/plain": [
       "12"
      ]
     },
     "execution_count": 162,
     "metadata": {},
     "output_type": "execute_result"
    }
   ],
   "source": [
    "df.count(incl_act={'friends'})"
   ]
  },
  {
   "cell_type": "code",
   "execution_count": 165,
   "metadata": {},
   "outputs": [
    {
     "data": {
      "text/plain": [
       "[('nail biting', 13), ('friends', 12), ('coding', 11), ('Satisfied', 10)]"
      ]
     },
     "execution_count": 165,
     "metadata": {},
     "output_type": "execute_result"
    }
   ],
   "source": [
    "df.count_activities().most_common(4)"
   ]
  },
  {
   "cell_type": "code",
   "execution_count": 167,
   "metadata": {},
   "outputs": [],
   "source": [
    "cycling_df = df.get_subset(incl_act={'cycling'})"
   ]
  },
  {
   "cell_type": "code",
   "execution_count": 168,
   "metadata": {},
   "outputs": [
    {
     "name": "stdout",
     "output_type": "stream",
     "text": [
      "[2023-07-16 20:02] 4 study, nail biting, friends, home (never left), chess, dota2, cycling, cleaning\n",
      "[2023-07-14 19:56] 5 relaxed, study, city, tired, friends, cycling, new place, procrastinating, Swimming\n",
      "[2023-07-13 23:59] 4 relaxed, nail biting, coding, tired, friends, shopping, gaming, Satisfied, cycling, new place, procrastinating, class\n",
      "[2023-07-13 12:47] 4 cycling, Satisfied\n",
      "[2023-07-11 20:02] 3 study, overheated, coding, bored, shopping, cycling\n",
      "...\n",
      "Dataset(8 entries)\n"
     ]
    },
    {
     "data": {
      "text/plain": [
       "4.25"
      ]
     },
     "execution_count": 168,
     "metadata": {},
     "output_type": "execute_result"
    }
   ],
   "source": [
    "cycling_df.head()\n",
    "cycling_df.avg_mood()"
   ]
  },
  {
   "cell_type": "code",
   "execution_count": 169,
   "metadata": {},
   "outputs": [
    {
     "data": {
      "text/plain": [
       "Counter({'cycling': 8,\n",
       "         'Satisfied': 5,\n",
       "         'friends': 4,\n",
       "         'tired': 4,\n",
       "         'study': 3,\n",
       "         'nail biting': 3,\n",
       "         'relaxed': 3,\n",
       "         'city': 2,\n",
       "         'new place': 2,\n",
       "         'procrastinating': 2,\n",
       "         'Swimming': 2,\n",
       "         'coding': 2,\n",
       "         'shopping': 2,\n",
       "         'school': 2,\n",
       "         'home (never left)': 1,\n",
       "         'chess': 1,\n",
       "         'dota2': 1,\n",
       "         'cleaning': 1,\n",
       "         'gaming': 1,\n",
       "         'class': 1,\n",
       "         'overheated': 1,\n",
       "         'bored': 1,\n",
       "         'happy': 1})"
      ]
     },
     "execution_count": 169,
     "metadata": {},
     "output_type": "execute_result"
    }
   ],
   "source": [
    "cycling_df.count_activities()"
   ]
  },
  {
   "cell_type": "code",
   "execution_count": 153,
   "metadata": {},
   "outputs": [
    {
     "name": "stdout",
     "output_type": "stream",
     "text": [
      "[2023-07-14 19:56] 5 relaxed, study, city, tired, friends, cycling, new place, procrastinating, Swimming\n",
      "[2023-07-10 21:00] 5 nail biting, tired, friends, school, happy, Satisfied, cycling, Swimming\n",
      "[2023-07-08 19:13] 5 relaxed, city, tired, Satisfied, cycling\n",
      "[2023-07-03 14:56] 5 happy, relaxed, class, social\n",
      "Dataset(4 entries)\n"
     ]
    }
   ],
   "source": [
    "df.get_subset(mood=5).head()"
   ]
  },
  {
   "cell_type": "code",
   "execution_count": null,
   "metadata": {},
   "outputs": [],
   "source": []
  }
 ],
 "metadata": {
  "kernelspec": {
   "display_name": "thevenv",
   "language": "python",
   "name": "python3"
  },
  "language_info": {
   "codemirror_mode": {
    "name": "ipython",
    "version": 3
   },
   "file_extension": ".py",
   "mimetype": "text/x-python",
   "name": "python",
   "nbconvert_exporter": "python",
   "pygments_lexer": "ipython3",
   "version": "3.11.2"
  },
  "orig_nbformat": 4
 },
 "nbformat": 4,
 "nbformat_minor": 2
}
