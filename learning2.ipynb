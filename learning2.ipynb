{
 "cells": [
  {
   "cell_type": "code",
   "execution_count": null,
   "metadata": {
    "metadata": {}
   },
   "outputs": [],
   "source": [
    "import pathlib\n",
    "\n",
    "import matplotlib.pyplot as plt\n",
    "import numpy as np\n",
    "\n",
    "from dataset import Dataset"
   ]
  },
  {
   "cell_type": "code",
   "execution_count": null,
   "metadata": {
    "metadata": {}
   },
   "outputs": [],
   "source": [
    "df = Dataset(csv_file_path=pathlib.Path('data', 'daylio_export_2024_05_16.csv'), remove=True)"
   ]
  },
  {
   "cell_type": "code",
   "execution_count": null,
   "metadata": {
    "metadata": {}
   },
   "outputs": [],
   "source": [
    "import math\n",
    "\n",
    "\n",
    "ENTRIES = df.entries\n",
    "OVERALL_AVERAGE = df.mood()\n",
    "OVERALL_STD = df.std()\n",
    "ACTIVITIES = {}\n",
    "weights = []\n",
    "\n",
    "for i, ca in enumerate(df.complete_analysis(n_threshold=0)):\n",
    "    ACTIVITIES[ca.activity] = i\n",
    "    weights.append(ca.mood_with_without.calc_change())"
   ]
  },
  {
   "cell_type": "code",
   "execution_count": null,
   "metadata": {
    "metadata": {}
   },
   "outputs": [],
   "source": [
    "def calc_loss(weights: list[float]) -> float:\n",
    "    # without importance\n",
    "    s = 0\n",
    "    for entry in ENTRIES:\n",
    "        s += (entry.mood - (\n",
    "            OVERALL_AVERAGE * math.prod((1 + weights[ACTIVITIES[act]]) for act in entry.activities)\n",
    "        ))**2\n",
    "    return s / len(ENTRIES)"
   ]
  },
  {
   "cell_type": "code",
   "execution_count": null,
   "metadata": {
    "metadata": {}
   },
   "outputs": [],
   "source": [
    "def show_effects(weights: list[float]) -> None:\n",
    "    for activity, weight in zip(ACTIVITIES, weights):\n",
    "        print(f\"{activity}: {weight:.2%}\")\n",
    "\n",
    "\n",
    "def show_bar(weights_: list[float]) -> None:\n",
    "    fig, ax = plt.subplots(figsize=(5, 15))\n",
    "    ax.barh(list(ACTIVITIES.keys())[::-1], weights_[::-1])\n",
    "    plt.grid()\n",
    "    plt.show()\n",
    "\n",
    "\n",
    "def show_bars(weights1: list[float], weights2: list[float]) -> None:\n",
    "    fig, ax = plt.subplots(figsize=(5, 15))\n",
    "    ax.barh(list(ACTIVITIES.keys())[::-1], weights1[::-1], label=\"initial\", alpha=0.7)\n",
    "    ax.barh(list(ACTIVITIES.keys())[::-1], weights2[::-1], label=\"optimized\", alpha=0.7)\n",
    "    plt.grid()\n",
    "    plt.legend()\n",
    "    plt.show()"
   ]
  },
  {
   "cell_type": "code",
   "execution_count": null,
   "metadata": {
    "metadata": {}
   },
   "outputs": [],
   "source": [
    "# init loss\n",
    "calc_loss(weights)"
   ]
  },
  {
   "cell_type": "code",
   "execution_count": null,
   "metadata": {
    "metadata": {}
   },
   "outputs": [],
   "source": [
    "show_bar(weights)"
   ]
  },
  {
   "cell_type": "markdown",
   "metadata": {},
   "source": [
    "## `scipy` minimization"
   ]
  },
  {
   "cell_type": "code",
   "execution_count": null,
   "metadata": {
    "metadata": {}
   },
   "outputs": [],
   "source": [
    "import scipy.optimize as opt"
   ]
  },
  {
   "cell_type": "code",
   "execution_count": null,
   "metadata": {
    "metadata": {}
   },
   "outputs": [],
   "source": [
    "weights_np = np.array(weights)\n",
    "\n",
    "res = opt.minimize(calc_loss, weights, method='BFGS', options={'disp': True})"
   ]
  },
  {
   "cell_type": "code",
   "execution_count": null,
   "metadata": {
    "metadata": {}
   },
   "outputs": [],
   "source": [
    "show_bars(weights, res.x)"
   ]
  }
 ],
 "metadata": {
  "kernelspec": {
   "display_name": "thevenv",
   "language": "python",
   "name": "python3"
  },
  "language_info": {
   "codemirror_mode": {
    "name": "ipython",
    "version": 3
   },
   "file_extension": ".py",
   "mimetype": "text/x-python",
   "name": "python",
   "nbconvert_exporter": "python",
   "pygments_lexer": "ipython3",
   "version": "3.12.1"
  }
 },
 "nbformat": 4,
 "nbformat_minor": 2
}
