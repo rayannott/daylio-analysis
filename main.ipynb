{
 "cells": [
  {
   "cell_type": "code",
   "execution_count": 1,
   "metadata": {},
   "outputs": [],
   "source": [
    "import pathlib\n",
    "from dataset import Dataset, BAD_MOOD, GOOD_MOOD, AVERAGE_MOOD"
   ]
  },
  {
   "cell_type": "markdown",
   "metadata": {},
   "source": [
    "# Loading the dataset"
   ]
  },
  {
   "cell_type": "code",
   "execution_count": 2,
   "metadata": {},
   "outputs": [
    {
     "name": "stdout",
     "output_type": "stream",
     "text": [
      "Dataset(80 entries)\n"
     ]
    }
   ],
   "source": [
    "df = Dataset(csv_file_path=pathlib.Path('data_2023_07_28.csv'))"
   ]
  },
  {
   "cell_type": "markdown",
   "metadata": {},
   "source": [
    "# API"
   ]
  },
  {
   "cell_type": "markdown",
   "metadata": {},
   "source": [
    "### `.sub`"
   ]
  },
  {
   "cell_type": "markdown",
   "metadata": {},
   "source": [
    "Use the `.sub` method to filter entries and get a subset of the original dataset"
   ]
  },
  {
   "cell_type": "markdown",
   "metadata": {},
   "source": [
    "- by included activities ('or' operator: all the entries which have at least one of the listed activities)"
   ]
  },
  {
   "cell_type": "code",
   "execution_count": 7,
   "metadata": {},
   "outputs": [
    {
     "name": "stdout",
     "output_type": "stream",
     "text": [
      "Dataset(17 entries)\n",
      "[2023-07-27 21:04] 4.0 satisfied, gaming, shopping, relaxed, cycling, cooking, home\n",
      "[2023-07-25 20:21] 4.0 satisfied, cycling, shopping\n",
      "[2023-07-21 21:17] 4.0 city, satisfied\n",
      "[2023-07-20 18:29] 4.0 nice weather, cycling, unsure, shopping\n",
      "[2023-07-18 20:30] 5.0 satisfied, city, relaxed, friends, cycling, tired, swimming\n",
      "...\n",
      "4.205882352941177\n"
     ]
    }
   ],
   "source": [
    "cycling_df = df.sub(incl_act={'cycling', 'city'})\n",
    "cycling_df.head()\n",
    "print(cycling_df.mood())"
   ]
  },
  {
   "cell_type": "markdown",
   "metadata": {},
   "source": [
    "- by excluded activities (entries which don't have any of the listed activities)"
   ]
  },
  {
   "cell_type": "code",
   "execution_count": 5,
   "metadata": {},
   "outputs": [
    {
     "name": "stdout",
     "output_type": "stream",
     "text": [
      "Dataset(63 entries)\n",
      "[2023-07-28 10:16] 4.0 procrastinating, relaxed, home\n",
      "[2023-07-27 21:04] 4.0 cooking, home, shopping, gaming, satisfied, relaxed, cycling\n",
      "[2023-07-27 16:02] 3.5 unsure, relaxed, home, study\n",
      "[2023-07-27 15:54] 4.0 home, study, m, satisfied, relaxed\n",
      "[2023-07-27 01:15] 3.5 tired, relaxed, home, m\n",
      "...\n",
      "3.5238095238095237\n"
     ]
    }
   ],
   "source": [
    "without_friends = df.sub(excl_act={'friends'})\n",
    "without_friends.head()\n",
    "print(without_friends.mood())"
   ]
  },
  {
   "cell_type": "markdown",
   "metadata": {},
   "source": [
    "- by mood values (can be either a value or a Container of values)"
   ]
  },
  {
   "cell_type": "code",
   "execution_count": 9,
   "metadata": {},
   "outputs": [
    {
     "data": {
      "text/plain": [
       "Dataset(16 entries)"
      ]
     },
     "execution_count": 9,
     "metadata": {},
     "output_type": "execute_result"
    }
   ],
   "source": [
    "bad_mood = df.sub(mood=BAD_MOOD)\n",
    "bad_mood"
   ]
  },
  {
   "cell_type": "markdown",
   "metadata": {},
   "source": [
    "- by included activities ('and' operator: all entries which have all the listed activities)"
   ]
  },
  {
   "cell_type": "code",
   "execution_count": 8,
   "metadata": {},
   "outputs": [
    {
     "name": "stdout",
     "output_type": "stream",
     "text": [
      "Dataset(3 entries)\n",
      "[2023-07-18 20:30] 5.0 tired, city, friends, swimming, satisfied, relaxed, cycling\n",
      "[2023-07-14 19:56] 5.0 tired, study, city, friends, new place, swimming, procrastinating, relaxed, cycling\n",
      "[2023-07-10 21:00] 5.0 tired, friends, nail biting, happy, swimming, satisfied, school, cycling\n",
      "5.0\n",
      "[('tired', 3), ('friends', 3), ('swimming', 3), ('cycling', 3), ('city', 2), ('satisfied', 2), ('relaxed', 2)]\n"
     ]
    }
   ],
   "source": [
    " #* Note: this is achieved by subscribing the dataset twice; \n",
    " #* since .sub method returns a new dataset, it can be done in one line\n",
    "cycling_and_swimming = df.sub(incl_act={'cycling'}).sub(incl_act={'swimming'})\n",
    "cycling_and_swimming.head()\n",
    "print(cycling_and_swimming.mood())\n",
    "print(cycling_and_swimming.activities().most_common(7))"
   ]
  },
  {
   "cell_type": "markdown",
   "metadata": {},
   "source": [
    "- by a particular date"
   ]
  },
  {
   "cell_type": "code",
   "execution_count": 6,
   "metadata": {},
   "outputs": [
    {
     "name": "stdout",
     "output_type": "stream",
     "text": [
      "Dataset(6 entries)\n",
      "[2023-07-22 22:17] 3.5 shower, relaxed, home, m\n",
      "[2023-07-22 19:34] 4.0 chess, relaxed, home\n",
      "[2023-07-22 17:09] 3.5 relaxed, cooking, home, study\n",
      "[2023-07-22 14:22] 3.5 unsure, coding\n",
      "[2023-07-22 13:30] 3.0 friends, nail biting, home, dota, anxious\n",
      "[2023-07-22 11:30] 4.0 satisfied, home\n"
     ]
    }
   ],
   "source": [
    "import datetime\n",
    "\n",
    "july22 = df.sub(when=datetime.date(2023, 7, 22))\n",
    "july22.head(n=-1)"
   ]
  },
  {
   "cell_type": "markdown",
   "metadata": {},
   "source": [
    "### `.head`"
   ]
  },
  {
   "cell_type": "markdown",
   "metadata": {},
   "source": [
    "Use the `.head` method to look at the latest entries of the dataset"
   ]
  },
  {
   "cell_type": "code",
   "execution_count": 8,
   "metadata": {},
   "outputs": [
    {
     "name": "stdout",
     "output_type": "stream",
     "text": [
      "Dataset(17 entries)\n",
      "[2023-07-27 21:04] 4.0 satisfied, gaming, shopping, relaxed, cycling, cooking, home\n",
      "[2023-07-25 20:21] 4.0 satisfied, cycling, shopping\n",
      "[2023-07-21 21:17] 4.0 city, satisfied\n",
      "[2023-07-20 18:29] 4.0 nice weather, cycling, unsure, shopping\n",
      "[2023-07-18 20:30] 5.0 satisfied, city, relaxed, friends, cycling, tired, swimming\n",
      "...\n"
     ]
    }
   ],
   "source": [
    "cycling_df.head()"
   ]
  },
  {
   "cell_type": "code",
   "execution_count": 9,
   "metadata": {},
   "outputs": [
    {
     "name": "stdout",
     "output_type": "stream",
     "text": [
      "Dataset(17 entries)\n",
      "[2023-07-27 21:04] 4.0 satisfied, gaming, shopping, relaxed, cycling, cooking, home\n",
      "[2023-07-25 20:21] 4.0 satisfied, cycling, shopping\n",
      "...\n"
     ]
    }
   ],
   "source": [
    "cycling_df.head(2)"
   ]
  },
  {
   "cell_type": "code",
   "execution_count": 11,
   "metadata": {},
   "outputs": [
    {
     "name": "stdout",
     "output_type": "stream",
     "text": [
      "Dataset(17 entries)\n",
      "[2023-07-27 21:04] 4.0 satisfied, gaming, shopping, relaxed, cycling, cooking, home\n",
      "[2023-07-25 20:21] 4.0 satisfied, cycling, shopping\n",
      "[2023-07-21 21:17] 4.0 city, satisfied\n",
      "[2023-07-20 18:29] 4.0 nice weather, cycling, unsure, shopping\n",
      "[2023-07-18 20:30] 5.0 satisfied, city, relaxed, friends, cycling, tired, swimming\n",
      "[2023-07-18 14:29] 4.0 nice weather, satisfied, cycling, shopping\n",
      "[2023-07-16 20:02] 4.0 chess, friends, cycling, cleaning, nail biting, home, dota, study\n",
      "[2023-07-14 19:56] 5.0 city, relaxed, friends, cycling, new place, tired, swimming, procrastinating, study\n",
      "[2023-07-13 23:59] 4.0 class, satisfied, gaming, shopping, relaxed, friends, cycling, nail biting, coding, new place, tired, procrastinating\n",
      "[2023-07-13 12:47] 4.0 satisfied, cycling\n",
      "[2023-07-11 20:02] 3.5 shopping, overheated, cycling, coding, bored, study\n",
      "[2023-07-10 21:00] 5.0 satisfied, school, friends, cycling, nail biting, happy, tired, swimming\n",
      "[2023-07-10 11:07] 4.0 school, satisfied, cycling\n",
      "[2023-07-09 15:50] 4.0 city, overheated, social, new place, tired, walking\n",
      "[2023-07-08 19:13] 5.0 satisfied, city, relaxed, cycling, tired\n",
      "[2023-07-06 20:41] 4.0 class, satisfied, city, relaxed, movies & series, social, nail biting, coding, family, cinema, walking\n",
      "[2023-07-05 18:42] 4.0 satisfied, city, friends, did something, nail biting, helping, coding, tired, swimming, walking\n"
     ]
    }
   ],
   "source": [
    "# prints all entries\n",
    "cycling_df.head(-1)"
   ]
  },
  {
   "cell_type": "markdown",
   "metadata": {},
   "source": [
    "### `.mood`"
   ]
  },
  {
   "cell_type": "markdown",
   "metadata": {},
   "source": [
    "Use the `.mood` method to get the average mood of all the entries in the dataset"
   ]
  },
  {
   "cell_type": "code",
   "execution_count": 14,
   "metadata": {},
   "outputs": [
    {
     "data": {
      "text/plain": [
       "4.273"
      ]
     },
     "execution_count": 14,
     "metadata": {},
     "output_type": "execute_result"
    }
   ],
   "source": [
    "round(\n",
    "    cycling_df.mood(),\n",
    "    3\n",
    ")"
   ]
  },
  {
   "cell_type": "markdown",
   "metadata": {},
   "source": [
    "### `.count`"
   ]
  },
  {
   "cell_type": "markdown",
   "metadata": {},
   "source": [
    "Use the `.count` method to count entries with the given conditions.\n",
    "\n",
    "This is equivalent to `len(df.sub(...))` with the same arguments, but the `.count` method does not create a new dataset."
   ]
  },
  {
   "cell_type": "code",
   "execution_count": 8,
   "metadata": {},
   "outputs": [
    {
     "data": {
      "text/plain": [
       "2"
      ]
     },
     "execution_count": 8,
     "metadata": {},
     "output_type": "execute_result"
    }
   ],
   "source": [
    "df.count(incl_act={'friends'}, mood={2, 3})"
   ]
  },
  {
   "cell_type": "markdown",
   "metadata": {},
   "source": [
    "### `.activities`"
   ]
  },
  {
   "cell_type": "markdown",
   "metadata": {},
   "source": [
    "Use the `.activities` method to get a Counter object of all activities in the dataset"
   ]
  },
  {
   "cell_type": "code",
   "execution_count": 3,
   "metadata": {},
   "outputs": [
    {
     "data": {
      "text/plain": [
       "[('home', 54), ('relaxed', 26), ('nail biting', 25)]"
      ]
     },
     "execution_count": 3,
     "metadata": {},
     "output_type": "execute_result"
    }
   ],
   "source": [
    "df.activities().most_common(3)"
   ]
  },
  {
   "cell_type": "markdown",
   "metadata": {},
   "source": [
    "### `.get_datetimes`"
   ]
  },
  {
   "cell_type": "markdown",
   "metadata": {},
   "source": [
    "Use the `.get_datetimes` method to get the list of all points in time when an entry was created"
   ]
  },
  {
   "cell_type": "code",
   "execution_count": 4,
   "metadata": {},
   "outputs": [
    {
     "data": {
      "text/plain": [
       "[datetime.datetime(2023, 7, 28, 10, 16),\n",
       " datetime.datetime(2023, 7, 27, 21, 4),\n",
       " datetime.datetime(2023, 7, 27, 16, 2),\n",
       " datetime.datetime(2023, 7, 27, 15, 54),\n",
       " datetime.datetime(2023, 7, 27, 1, 15)]"
      ]
     },
     "execution_count": 4,
     "metadata": {},
     "output_type": "execute_result"
    }
   ],
   "source": [
    "df.get_datetimes()[:5]"
   ]
  },
  {
   "cell_type": "code",
   "execution_count": null,
   "metadata": {},
   "outputs": [],
   "source": []
  },
  {
   "cell_type": "markdown",
   "metadata": {},
   "source": [
    "# Analysis examples"
   ]
  },
  {
   "cell_type": "markdown",
   "metadata": {},
   "source": [
    "## Mood analysis"
   ]
  },
  {
   "cell_type": "code",
   "execution_count": 34,
   "metadata": {},
   "outputs": [],
   "source": [
    "activity = 'city'\n",
    "mood_with, mood_without = df.analyse(activity)"
   ]
  },
  {
   "cell_type": "code",
   "execution_count": 35,
   "metadata": {},
   "outputs": [
    {
     "name": "stdout",
     "output_type": "stream",
     "text": [
      "\"city\"\n",
      "with: 4.43\n",
      "without: 3.55\n",
      "change: 24.8%\n"
     ]
    }
   ],
   "source": [
    "print(f'''\"{activity}\"\n",
    "with: {mood_with:.2f}\n",
    "without: {mood_without:.2f}\n",
    "change: {(mood_with - mood_without)/mood_without:.1%}'''\n",
    ")"
   ]
  },
  {
   "cell_type": "code",
   "execution_count": 37,
   "metadata": {},
   "outputs": [
    {
     "data": {
      "text/plain": [
       "13"
      ]
     },
     "execution_count": 37,
     "metadata": {},
     "output_type": "execute_result"
    }
   ],
   "source": [
    "df.count(incl_act={'cycling'})"
   ]
  }
 ],
 "metadata": {
  "kernelspec": {
   "display_name": "thevenv",
   "language": "python",
   "name": "python3"
  },
  "language_info": {
   "codemirror_mode": {
    "name": "ipython",
    "version": 3
   },
   "file_extension": ".py",
   "mimetype": "text/x-python",
   "name": "python",
   "nbconvert_exporter": "python",
   "pygments_lexer": "ipython3",
   "version": "3.11.2"
  },
  "orig_nbformat": 4
 },
 "nbformat": 4,
 "nbformat_minor": 2
}
