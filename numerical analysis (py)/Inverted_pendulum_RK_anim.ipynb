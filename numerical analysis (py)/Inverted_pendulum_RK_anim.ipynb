{
 "cells": [
  {
   "cell_type": "markdown",
   "metadata": {},
   "source": [
    "### Задача о приведениии перевернутого маятника к положению, соответствующему нулевому углу, с использованием PID-controllers"
   ]
  },
  {
   "cell_type": "markdown",
   "metadata": {},
   "source": [
    "Решим задачу о стабилизации перевернутого маятника с использованием ПИД-регуляторов"
   ]
  },
  {
   "cell_type": "code",
   "execution_count": 1,
   "metadata": {},
   "outputs": [],
   "source": [
    "#подключим библиотеки\n",
    "import numpy as np\n",
    "import matplotlib.pyplot as plt\n",
    "from matplotlib.animation import FuncAnimation\n",
    "from IPython.display import Image"
   ]
  },
  {
   "cell_type": "code",
   "execution_count": 2,
   "metadata": {},
   "outputs": [],
   "source": [
    "#структура параметров\n",
    "class Parameters:\n",
    "    def __init__(self, m, g, l, M):\n",
    "        self.m = m\n",
    "        self.g = g\n",
    "        self.l = l\n",
    "        self.M = M"
   ]
  },
  {
   "cell_type": "code",
   "execution_count": 3,
   "metadata": {},
   "outputs": [],
   "source": [
    "#схема Рунге-Кутта 4 порядка\n",
    "def Runge(f,y_0,t):       \n",
    "    y = np.zeros((n,len(y_0)))\n",
    "    y[0] = np.copy(y_0)\n",
    "    for i in range(1,n):\n",
    "        F = controlF(y[:i,2],h)\n",
    "        k_1 = f(t[i-1],y[i-1],F)\n",
    "        k_2 = f(t[i-1]+0.5*h,y[i-1]+0.5*h*k_1,F)\n",
    "        k_3 = f(t[i-1]+0.5*h,y[i-1]+0.5*h*k_2,F)\n",
    "        k_4 = f(t[i-1]+h,y[i-1]+h*k_3,F)\n",
    "        y[i] = y[i-1] +h * (k_1 + 2*k_2+2*k_3+k_4)/6\n",
    "    x = np.zeros(n)\n",
    "    z = np.zeros(n) \n",
    "    for i in range(n):\n",
    "        x[i] = y[i][0]\n",
    "        z[i] = y[i][2]\n",
    "    return x,z"
   ]
  },
  {
   "cell_type": "code",
   "execution_count": 4,
   "metadata": {},
   "outputs": [],
   "source": [
    "#уравнения движения системы \"маятник-тележка\"\n",
    "#здесь x[1], x[2], x[3] - смещение тележки относительно 0, угол отклонения маятника от нормали к пов-ти, производная угла\n",
    "def f(t,x,F):\n",
    "    dxdt = np.zeros(len(x))\n",
    "    dxdt[0] = x[1]\n",
    "    dxdt[1] = (-p.m*p.g*np.cos(x[2])*np.sin(x[2])+p.m*p.l*np.sin(x[2])*(x[3])**2 + F)/(p.M+p.m*(np.sin(x[2]))**2)\n",
    "    dxdt[2] = x[3]\n",
    "    dxdt[3] = (-p.m*p.l*np.cos(x[2])*np.sin(x[2])*(x[3])**2-np.cos(x[2])*F + (p.M + p.m)*p.g*np.sin(x[2]))/(p.M*p.l+p.m*p.l*(np.sin(x[2]))**2)\n",
    "    return dxdt"
   ]
  },
  {
   "cell_type": "code",
   "execution_count": 5,
   "metadata": {},
   "outputs": [],
   "source": [
    "#3ададим параметры и начальные значения\n",
    "p = Parameters(0.1, 9.8, 1, 0.5) #(m, g, l, M)\n",
    "t0 = 0\n",
    "tf = 2.5\n",
    "numt = 200\n",
    "P,I,D = 25, 15, 3\n",
    "t = np.linspace(t0,tf,numt)\n",
    "h = t[1]-t[0]\n",
    "n = len(t)\n",
    "init_val = [0,0,0.5,0]"
   ]
  },
  {
   "cell_type": "code",
   "execution_count": 6,
   "metadata": {},
   "outputs": [],
   "source": [
    "def controlF(phi,h):\n",
    "    if(len(phi) == 1):\n",
    "        return P*phi[-1]\n",
    "    else:\n",
    "        return P*phi[-1] + I * np.trapz(phi,dx=h) + D * (phi[-1]-phi[-2])/h"
   ]
  },
  {
   "cell_type": "markdown",
   "metadata": {},
   "source": [
    "Получим численное решение для смещения тележки и угла отклонения"
   ]
  },
  {
   "cell_type": "code",
   "execution_count": 7,
   "metadata": {
    "scrolled": true
   },
   "outputs": [],
   "source": [
    "x,phi = Runge(lambda x,y,t : f(x,y,t), np.array(init_val),t)"
   ]
  },
  {
   "cell_type": "markdown",
   "metadata": {},
   "source": [
    "Посчитаем управляющую силу, используя формулу из Википедии \\\n",
    "$F(t) = P\\cdot\\theta(t) + I\\cdot\\int_0^{t}\\theta(t)d\\tau + D\\cdot\\frac{d\\theta(t)}{dt}$\n",
    "\n",
    "Здесь $P, I, D$ - коэффициенты при пропорциональной, интегральной и дифференциальной компонентах \\\n",
    "(https://en.wikipedia.org/wiki/PID_controller)"
   ]
  },
  {
   "cell_type": "code",
   "execution_count": 8,
   "metadata": {
    "scrolled": true
   },
   "outputs": [],
   "source": [
    "F = []\n",
    "for i in range(n):\n",
    "    if(i!=0):\n",
    "        F.append(P*phi[i] + I*np.trapz(phi[:i],dx=h) + D*(phi[i]-phi[i-1])/h)\n",
    "    else:\n",
    "        F.append(P*phi[i])"
   ]
  },
  {
   "cell_type": "markdown",
   "metadata": {},
   "source": [
    "Нарисуем графики"
   ]
  },
  {
   "cell_type": "code",
   "execution_count": 9,
   "metadata": {},
   "outputs": [
    {
     "data": {
      "image/png": "[encoded data removed]",
      "text/plain": [
       "<Figure size 1152x648 with 1 Axes>"
      ]
     },
     "metadata": {
      "needs_background": "light"
     },
     "output_type": "display_data"
    },
    {
     "data": {
      "image/png": "[encoded data removed]",
      "text/plain": [
       "<Figure size 1152x648 with 1 Axes>"
      ]
     },
     "metadata": {
      "needs_background": "light"
     },
     "output_type": "display_data"
    }
   ],
   "source": [
    "plt.figure(figsize=(16, 9))\n",
    "plt.subplot(2, 2, 1)\n",
    "\n",
    "plt.plot(t,phi,'r')\n",
    "plt.ylabel('Angle, rad')\n",
    "plt.xlabel('time, sec')\n",
    "plt.title('Angle of incl.')\n",
    "plt.grid()\n",
    "\n",
    "plt.figure(figsize=(16, 9))\n",
    "plt.subplot(2, 2, 2)\n",
    "plt.plot(t,F,'k')\n",
    "plt.ylabel('Control force, N')\n",
    "plt.xlabel('time, sec')\n",
    "plt.title('Control force')\n",
    "plt.grid()\n",
    "plt.show()"
   ]
  },
  {
   "cell_type": "markdown",
   "metadata": {},
   "source": [
    "Сломаем жопу и составим анимацию движения системы \"маятник-тележка\""
   ]
  },
  {
   "cell_type": "code",
   "execution_count": 10,
   "metadata": {
    "scrolled": false
   },
   "outputs": [
    {
     "name": "stderr",
     "output_type": "stream",
     "text": [
      "MovieWriter imagemagick unavailable; using Pillow instead.\n"
     ]
    },
    {
     "data": {
      "image/png": "[encoded data removed]",
      "text/plain": [
       "<Figure size 432x288 with 1 Axes>"
      ]
     },
     "metadata": {
      "needs_background": "light"
     },
     "output_type": "display_data"
    }
   ],
   "source": [
    "fig = plt.figure()\n",
    "ax = plt.axes(xlim=(-0.1, 1.1*max(x)), ylim=(-0.1, 1.1*max(x)))\n",
    "line, = ax.plot([], [], lw=2)\n",
    "\n",
    "B = [x[0]+p.l*np.sin(phi[0]), p.l*np.cos(phi[0])]\n",
    "C = [x[0],0]\n",
    "ball, = ax.plot(B[0],B[1], color = 'blue', marker = 'o',  ms = 2)\n",
    "cart, = ax.plot(C[0], C[1], color = 'green', marker = 's',  ms = 4)\n",
    "\n",
    "def animate(i):\n",
    "    B = [x[i]+p.l*np.sin(phi[i]), p.l*np.cos(phi[i])]\n",
    "    C = [x[i],0]\n",
    "    x1 = [C[0],B[0]]\n",
    "    y1 = [C[1],B[1]]\n",
    "    line.set_data(x1, y1)\n",
    "    ball.set_data(B[0], B[1])\n",
    "    cart.set_data(C[0], C[1])\n",
    "    return line, ball\n",
    "\n",
    "anim = FuncAnimation(fig, animate, frames=n, interval=1, blit=True)\n",
    "\n",
    "anim.save('pend19_(0.1,9.8,1,0.5)1.gif', writer='imagemagick')"
   ]
  },
  {
   "cell_type": "markdown",
   "metadata": {},
   "source": [
    "Здесь $M = 0.1, g = 9.8, l = 1, m = 0.5$"
   ]
  },
  {
   "cell_type": "code",
   "execution_count": 11,
   "metadata": {},
   "outputs": [
    {
     "data": {
      "text/html": [
       "<img src=\"pend19_(0.1,9.8,1,0.5).gif\"/>"
      ],
      "text/plain": [
       "<IPython.core.display.Image object>"
      ]
     },
     "execution_count": 11,
     "metadata": {},
     "output_type": "execute_result"
    }
   ],
   "source": [
    "Image(url='pend19_(0.1,9.8,1,0.5).gif')"
   ]
  },
  {
   "cell_type": "markdown",
   "metadata": {},
   "source": [
    "Здесь $M = 1, g = 9.8, l = 0.3, m = 0.3$"
   ]
  },
  {
   "cell_type": "code",
   "execution_count": 12,
   "metadata": {},
   "outputs": [
    {
     "data": {
      "text/html": [
       "<img src=\"pend17_original_initials.gif\"/>"
      ],
      "text/plain": [
       "<IPython.core.display.Image object>"
      ]
     },
     "execution_count": 12,
     "metadata": {},
     "output_type": "execute_result"
    }
   ],
   "source": [
    "Image(url='pend17_original_initials.gif')"
   ]
  },
  {
   "cell_type": "markdown",
   "metadata": {},
   "source": [
    "Based on \"Simulation studies of inverted pendulum based on PID controllers\" by Jia-Jun Wang, 2011"
   ]
  }
 ],
 "metadata": {
  "kernelspec": {
   "display_name": "Python 3",
   "language": "python",
   "name": "python3"
  },
  "language_info": {
   "codemirror_mode": {
    "name": "ipython",
    "version": 3
   },
   "file_extension": ".py",
   "mimetype": "text/x-python",
   "name": "python",
   "nbconvert_exporter": "python",
   "pygments_lexer": "ipython3",
   "version": "3.8.5"
  }
 },
 "nbformat": 4,
 "nbformat_minor": 4
}
