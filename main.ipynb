{
 "cells": [
  {
   "cell_type": "code",
   "execution_count": 1,
   "metadata": {},
   "outputs": [
    {
     "name": "stdout",
     "output_type": "stream",
     "text": [
      "using file daylio_export_2024_04_02.csv\n",
      "Dataset(858 entries; last [1 hour 29 minutes 22 seconds ago]; mood: 3.804 ± 0.573)\n"
     ]
    }
   ],
   "source": [
    "import pathlib\n",
    "from dataset import Dataset, BAD_MOOD\n",
    "\n",
    "DATA_DIR = pathlib.Path('data')\n",
    "path = next(DATA_DIR.glob('*.csv'))\n",
    "print('using file', path.name)\n",
    "\n",
    "df = Dataset(csv_file_path=path)"
   ]
  },
  {
   "cell_type": "markdown",
   "metadata": {},
   "source": [
    "# API"
   ]
  },
  {
   "cell_type": "markdown",
   "metadata": {},
   "source": [
    "### `.head`"
   ]
  },
  {
   "cell_type": "markdown",
   "metadata": {},
   "source": [
    "Use the `.head` method to look at the latest entries of the dataset"
   ]
  },
  {
   "cell_type": "code",
   "execution_count": 2,
   "metadata": {},
   "outputs": [
    {
     "name": "stdout",
     "output_type": "stream",
     "text": [
      "Dataset(858 entries; last [1 hour 29 minutes 22 seconds ago]; mood: 3.804 ± 0.573)\n",
      "[02.04.2024 20:59] 4.0 home, relaxed, satisfied, unsure\n",
      "[02.04.2024 20:00] 4.5 cooking, home, happy, satisfied\n",
      "[02.04.2024 17:34] 4.0 study, work, relaxed, tired, coding, unsure, worked\n",
      "[01.04.2024 23:59] 3.0 coding, home, unsure\n",
      "[01.04.2024 19:40] 4.0 excited, friends, relaxed, home, satisfied, coding, Lion\n",
      "...\n"
     ]
    }
   ],
   "source": [
    "df.head()"
   ]
  },
  {
   "cell_type": "code",
   "execution_count": 3,
   "metadata": {},
   "outputs": [
    {
     "name": "stdout",
     "output_type": "stream",
     "text": [
      "Dataset(858 entries; last [1 hour 29 minutes 22 seconds ago]; mood: 3.804 ± 0.573)\n",
      "[02.04.2024 20:59] 4.0 home, relaxed, satisfied, unsure\n",
      "[02.04.2024 20:00] 4.5 cooking, home, happy, satisfied\n",
      "...\n"
     ]
    }
   ],
   "source": [
    "df.head(2)"
   ]
  },
  {
   "cell_type": "code",
   "execution_count": 4,
   "metadata": {},
   "outputs": [
    {
     "name": "stdout",
     "output_type": "stream",
     "text": [
      "Dataset(858 entries; last [1 hour 29 minutes 22 seconds ago]; mood: 3.804 ± 0.573)\n",
      "[02.04.2024 20:59] 4.0 home, relaxed, satisfied, unsure\n",
      "[02.04.2024 20:00] 4.5 cooking, home, happy, satisfied\n",
      "[02.04.2024 17:34] 4.0 study, work, relaxed, tired, coding, unsure, worked\n",
      "[01.04.2024 23:59] 3.0 coding, home, unsure\n",
      "[01.04.2024 19:40] 4.0 excited, friends, relaxed, home, satisfied, coding, Lion\n",
      "[01.04.2024 16:35] 4.0 coding, friends, home, Leha\n",
      "[01.04.2024 13:20] 4.5 home, happy, satisfied, social\n",
      "[01.04.2024 10:19] 4.0 coding, excited, home\n",
      "[31.03.2024 20:00] 4.5 happy, social, grateful, home, relaxed, cooking\n",
      "[31.03.2024 18:23] 4.0 excited, walking, happy, relaxed, Mom, family\n",
      "[31.03.2024 16:04] 3.5 coding, home, satisfied\n",
      "[31.03.2024 12:53] 4.0 grateful, home, satisfied, social\n",
      "[30.03.2024 18:35] 4.0 excited, Azat, home, satisfied, coding, Lion\n",
      "[30.03.2024 18:25] 3.5 study, home, relaxed, unsure\n",
      "[30.03.2024 14:28] 3.5 coding, excited, home, unsure\n",
      "[30.03.2024 10:02] 3.0 sad, Lauren, home, date, coding, unsure\n",
      "[29.03.2024 19:03] 3.0 sad, annoyed, Lauren, home, date, unsure\n",
      "[29.03.2024 14:52] 4.0 Lauren, home, relaxed, date, unsure\n",
      "[29.03.2024 12:07] 4.5 Lauren, walking, happy, relaxed, date, satisfied\n",
      "[29.03.2024 10:20] 4.0 friends, home, satisfied, amused, Lion\n",
      "[28.03.2024 20:00] 4.0 Lauren, home, relaxed, date, cooking\n",
      "[28.03.2024 19:10] 3.5 Damir, home, piano\n",
      "[28.03.2024 15:59] 4.0 work, study, worked\n",
      "[28.03.2024 00:25] 3.5 coding, home\n",
      "[27.03.2024 22:05] 4.0 excited, home, unsure\n",
      "[27.03.2024 20:31] 4.0 bored, home, unsure\n",
      "[27.03.2024 17:47] 3.5 productive, work, nervous, unsure, worked\n",
      "[26.03.2024 19:05] 4.0 walking, satisfied, Mom, family, unsure\n",
      "[26.03.2024 18:04] 4.0 friends, relaxed, home, Martina, movies & series, unsure\n",
      "[26.03.2024 16:45] 4.0 grateful, home, happy, unsure\n",
      "[26.03.2024 16:25] 3.5 study, home, relaxed\n",
      "[26.03.2024 12:04] 4.0 excited, happy, home, satisfied, unsure\n",
      "[26.03.2024 10:04] 3.5 home, sad\n",
      "[25.03.2024 19:17] 3.5 home, study\n",
      "[25.03.2024 17:32] 3.5 grateful, family, home, unsure\n",
      "[25.03.2024 16:31] 4.0 home, happy, satisfied\n",
      "[24.03.2024 23:01] 2.5 sad, annoyed, Lauren, date, nervous\n",
      "[24.03.2024 19:00] 4.5 Lauren, happy, grateful, relaxed, date\n",
      "[24.03.2024 13:55] 4.0 excited, Lauren, happy, relaxed, date, satisfied, cooking\n",
      "[24.03.2024 13:15] 3.5 shopping, annoyed, Lauren, date, unsure\n",
      "[23.03.2024 22:30] 4.0 movies & series, date, satisfied, Lauren\n",
      "[23.03.2024 21:42] 4.5 relaxed, date, satisfied, Lauren\n",
      "[23.03.2024 19:56] 4.0 Lauren, relaxed, date, satisfied, movies & series\n",
      "[23.03.2024 19:55] 3.0 anxious, annoyed, date, Lauren\n",
      "[23.03.2024 10:10] 4.0 coding, excited, study, home\n",
      "[22.03.2024 20:00] 4.0 procrastinating, study, home, coding, cooking, unsure\n",
      "[21.03.2024 20:19] 4.0 Lauren, relaxed, date, satisfied, cooking\n",
      "[21.03.2024 15:20] 4.0 coding, excited, home, satisfied\n",
      "[21.03.2024 13:40] 4.0 friends, happy, home, satisfied, gaming, Leha\n",
      "[20.03.2024 20:42] 4.0 home, relaxed\n",
      "[20.03.2024 17:05] 3.5 study, work, coding, unsure, worked\n",
      "[19.03.2024 23:24] 4.0 relaxed, happy, satisfied\n",
      "[19.03.2024 18:33] 3.5 coding, work, worked, tired\n",
      "[19.03.2024 12:15] 4.0 coding, study, work, worked\n",
      "[18.03.2024 22:47] 4.5 Lauren, grateful, relaxed, date, tired, unsure\n",
      "[18.03.2024 21:00] 4.5 excited, Lauren, happy, date, satisfied\n",
      "[18.03.2024 18:58] 4.0 Azat, satisfied\n",
      "[18.03.2024 12:00] 3.5 home, unsure\n",
      "[18.03.2024 00:33] 4.5 excited, Lauren, happy, relaxed, date, satisfied\n",
      "[17.03.2024 23:50] 3.5 Lauren, date, tired\n",
      "[17.03.2024 21:00] 4.0 Lauren, city, happy, travel, grateful, date, satisfied, tired\n",
      "[17.03.2024 11:03] 4.0 Lauren, travel, relaxed, date, chess\n",
      "[16.03.2024 22:59] 4.5 excited, Lauren, happy, grateful, relaxed, satisfied, date\n",
      "[16.03.2024 20:58] 4.0 movies & series, date, satisfied, Lauren\n",
      "[16.03.2024 17:07] 4.0 walking, date, Lauren\n",
      "[16.03.2024 16:35] 4.0 Lauren, walking, happy, grateful, date, satisfied, unsure\n",
      "[16.03.2024 09:51] 3.0 worried\n",
      "[16.03.2024 09:38] 3.0 sad, annoyed, date, Lauren\n",
      "[16.03.2024 07:27] 4.0 sex, date, satisfied, Lauren\n",
      "[15.03.2024 22:43] 3.0 sex, date, Lauren\n",
      "[15.03.2024 21:10] 4.5 Lauren, happy, relaxed, date, satisfied\n",
      "[15.03.2024 19:06] 4.0 excited, unsure, date, Lauren\n",
      "[15.03.2024 16:50] 4.0 walking, date, satisfied, Lauren\n",
      "[15.03.2024 10:37] 3.5 home, relaxed\n",
      "[14.03.2024 23:49] 4.0 coding, home, relaxed\n",
      "[14.03.2024 22:24] 3.0 home, relaxed\n",
      "[14.03.2024 21:00] 4.0 home, relaxed, piano\n",
      "[14.03.2024 17:20] 4.0 walking, shopping\n",
      "[14.03.2024 14:48] 4.0 cooking, home, happy, satisfied\n",
      "[14.03.2024 11:00] 3.0 worried, home, unsure\n",
      "[14.03.2024 10:15] 4.0 coding, Azat, home, satisfied\n",
      "[13.03.2024 22:55] 3.5 coding, study\n",
      "[13.03.2024 21:55] 4.0 friends, happy, home, Martina, amused\n",
      "[13.03.2024 19:27] 4.0 home, relaxed, satisfied, cooking\n",
      "[13.03.2024 17:36] 3.5 bored, work, coding, unsure, worked\n",
      "[13.03.2024 12:50] 4.0 grateful, excited, work, social\n",
      "[12.03.2024 22:51] 3.5 home, relaxed, unsure\n",
      "[12.03.2024 20:20] 4.0 home, relaxed, satisfied\n",
      "[12.03.2024 17:29] 3.5 productive, work, tired, coding, worked\n",
      "[11.03.2024 21:58] 4.5 excited, friends, happy, home, Martina, movies & series, amused\n",
      "[11.03.2024 15:07] 3.5 walking, relaxed\n",
      "[10.03.2024 19:41] 3.5 coding, home, satisfied\n",
      "[10.03.2024 11:59] 4.0 cleaning, home, relaxed, satisfied, laundry\n",
      "[09.03.2024 23:04] 3.5 home, unsure, date, Lauren\n",
      "[09.03.2024 20:15] 4.0 Lauren, happy, home, date, tired, movies & series\n",
      "[09.03.2024 19:02] 4.5 excited, Lauren, home, date, cooking\n",
      "[09.03.2024 17:01] 3.5 Lauren, home, date, cooking, unsure\n",
      "[09.03.2024 15:45] 3.5 study, home, relaxed\n",
      "[09.03.2024 15:22] 3.5 gaming, home, bored, satisfied\n",
      "[09.03.2024 10:46] 3.5 home, relaxed\n",
      "[09.03.2024 10:25] 4.0 coding, home, relaxed\n",
      "[08.03.2024 20:00] 4.0 home, unsure, date, Lauren\n",
      "[08.03.2024 19:44] 3.0 sad, annoyed, home, family, Dad, unsure\n",
      "[08.03.2024 19:00] 4.0 happy, grateful, home, satisfied, Mom, family\n",
      "[08.03.2024 17:26] 4.0 annoyed, friends, happy, home, satisfied, amused, gaming, Leha\n",
      "[08.03.2024 13:47] 3.5 home, unsure\n",
      "[08.03.2024 12:27] 4.0 movies & series, amused, home, happy\n",
      "[07.03.2024 21:46] 3.5 home, tired\n",
      "[07.03.2024 19:14] 3.5 Damir, swimming, tired\n",
      "[07.03.2024 13:26] 3.0 study, bored, home, relaxed, unsure\n",
      "[06.03.2024 22:13] 3.5 home, relaxed, procrastinating\n",
      "[06.03.2024 17:33] 3.5 coding, productive, worked, tired\n",
      "[05.03.2024 23:12] 4.0 Lauren, happy, relaxed, home, date, satisfied\n",
      "[05.03.2024 21:41] 3.5 annoyed, Lauren, home, date, unsure\n",
      "[05.03.2024 18:00] 4.0 productive, work, tired, coding, worked\n",
      "[05.03.2024 15:13] 3.5 work, satisfied, coding, unsure, worked\n",
      "[04.03.2024 20:03] 3.5 bored, home, relaxed, unsure\n",
      "[04.03.2024 16:34] 3.0 worried, home, unsure\n",
      "[03.03.2024 22:36] 4.0 Lauren, home, date, satisfied, movies & series\n",
      "[03.03.2024 16:06] 3.5 Lauren, cleaning, home, date, satisfied, cooking, unsure\n",
      "[03.03.2024 10:20] 2.0 sad, Lauren, home, date, angry\n",
      "[02.03.2024 22:22] 3.0 sad, Lauren, anxious, home, date, unsure\n",
      "[02.03.2024 21:30] 3.5 home, relaxed, unsure, piano\n",
      "[02.03.2024 19:51] 2.0 angry, annoyed, date, Lauren\n",
      "[02.03.2024 18:51] 3.5 Lauren, annoyed, date, tired\n",
      "[02.03.2024 15:47] 3.5 grateful, anxious, date, Lauren\n",
      "[02.03.2024 14:13] 3.0 anxious, annoyed, date, Lauren\n",
      "[02.03.2024 11:28] 2.5 Lauren, anxious, date, worried, nervous, sick\n",
      "[01.03.2024 22:05] 3.5 Lauren, home, date, worried, movies & series\n",
      "[01.03.2024 17:20] 2.0 worried, sick, date, Lauren\n",
      "[01.03.2024 14:14] 2.5 worried, work, unsure\n",
      "[29.02.2024 23:50] 3.0 home\n",
      "[29.02.2024 20:29] 4.0 coding, excited, relaxed, worked\n",
      "[29.02.2024 16:38] 3.5 grateful, work\n",
      "[28.02.2024 18:57] 4.0 school, exam, tired\n",
      "[28.02.2024 12:06] 4.0 excited, happy, school\n",
      "[28.02.2024 00:25] 4.0 excited, Lauren, happy, grateful, sex, date\n",
      "[27.02.2024 23:27] 4.5 Lauren, sex, relaxed, date, satisfied\n",
      "[27.02.2024 21:26] 3.0 sad, Lauren, anxious, date, unsure\n",
      "[27.02.2024 20:01] 4.0 date, Lauren\n",
      "[27.02.2024 16:26] 4.0 coding, home, study, relaxed\n",
      "[27.02.2024 14:08] 4.0 coding, excited, home, unsure\n",
      "[26.02.2024 20:14] 3.5 coding, home, unsure\n",
      "[26.02.2024 19:28] 4.0 study, relaxed, home, satisfied, Mom, coding\n",
      "[26.02.2024 12:46] 3.5 unsure\n",
      "[25.02.2024 19:02] 4.5 excited, Lauren, grateful, sex, relaxed, home, date\n",
      "[25.02.2024 17:00] 3.5 Lauren, home, date, satisfied, tired\n",
      "[25.02.2024 14:28] 3.5 Lauren, study, date, nervous, unsure\n",
      "[25.02.2024 00:40] 2.5 sad, annoyed, Lauren, home, date\n",
      "[24.02.2024 16:01] 4.0 Lauren, happy, grateful, home, date, chess\n",
      "[24.02.2024 13:05] 4.0 grateful, sad, unsure, city\n",
      "[24.02.2024 11:39] 3.5 study, home, relaxed, unsure\n",
      "[23.02.2024 19:40] 3.5 study, home, tired, Lion\n",
      "[23.02.2024 16:25] 4.0 friends, home, satisfied, Martina, movies & series, amused\n",
      "[23.02.2024 13:49] 2.5 anxious, annoyed, social\n",
      "[23.02.2024 12:03] 2.5 worried, school, annoyed, exam\n",
      "[22.02.2024 21:32] 4.0 home, relaxed, coding\n",
      "[22.02.2024 17:46] 3.5 excited, relaxed, home, coding\n",
      "[22.02.2024 14:08] 3.5 study, home, relaxed\n",
      "[21.02.2024 21:21] 3.5 home\n",
      "[21.02.2024 18:35] 4.0 home, relaxed, cooking\n",
      "[21.02.2024 15:54] 3.5 study, bored, work, relaxed, coding, unsure\n",
      "[20.02.2024 19:15] 3.5 worried, home\n",
      "[20.02.2024 17:06] 3.5 bored, work, tired, unsure, worked\n",
      "[19.02.2024 20:40] 3.5 study, group project, home, relaxed\n",
      "[19.02.2024 19:12] 3.5 tired, exam, school, satisfied, unsure\n",
      "[19.02.2024 16:18] 3.5 nervous, unsure, school, tired\n",
      "[19.02.2024 13:55] 3.5 home, relaxed, procrastinating\n",
      "[18.02.2024 23:23] 4.5 Lauren, happy, home, date, movies & series, amused\n",
      "[18.02.2024 19:01] 4.0 home, study, unsure, tired\n",
      "[18.02.2024 16:15] 4.5 excited, Lauren, study, happy, grateful, home, date, satisfied, cooking\n",
      "[18.02.2024 13:18] 4.0 Lauren, study, happy, relaxed, home, date\n",
      "[17.02.2024 18:35] 3.5 home, study, unsure\n",
      "[17.02.2024 18:00] 4.0 grateful, home, date, Lauren\n",
      "[17.02.2024 11:13] 3.5 home, relaxed, unsure, procrastinating\n",
      "[16.02.2024 21:10] 2.5 sad, annoyed, date, Lauren\n",
      "[16.02.2024 19:30] 3.5 city, date, Lauren\n",
      "[16.02.2024 16:10] 3.0 study, home, sad, unsure\n",
      "[16.02.2024 16:04] 2.5 home, angry, sad\n",
      "[16.02.2024 14:08] 2.5 worried, nervous, home, unsure\n",
      "[16.02.2024 11:08] 3.0 unsure\n",
      "[15.02.2024 21:23] 4.0 friends, home, Martina, movies & series, unsure, chess\n",
      "[15.02.2024 19:23] 3.5 home, study, tired\n",
      "[15.02.2024 16:33] 3.5 walking, unsure\n",
      "[15.02.2024 15:45] 3.5 study, home, Mom, worried, sick\n",
      "[15.02.2024 12:12] 3.5 worried, home, study, unsure\n",
      "[14.02.2024 23:53] 3.5 sick, home, worried, movies & series, amused, unsure\n",
      "[14.02.2024 20:47] 3.0 procrastinating, study, home, worried, nervous, unsure\n",
      "[14.02.2024 15:35] 3.0 home, unsure, worried, sick\n",
      "[14.02.2024 11:38] 3.0 worried, home, sick\n",
      "[13.02.2024 23:04] 2.5 worried, home, sick\n",
      "[13.02.2024 21:21] 3.5 friends, home, Martina, movies & series, amused, sick\n",
      "[13.02.2024 19:44] 3.0 group project, study, anxious, home, unsure\n",
      "[13.02.2024 16:43] 3.0 procrastinating, study, anxious, home, unsure, sick\n",
      "[13.02.2024 10:21] 3.5 sick, home, unsure, tired\n",
      "[12.02.2024 23:01] 3.5 excited, home, sick\n",
      "[12.02.2024 18:25] 3.0 study, home, tired, worried\n",
      "[12.02.2024 10:24] 3.5 laundry, home\n",
      "[11.02.2024 20:25] 4.0 Lauren, happy, grateful, relaxed, date\n",
      "[11.02.2024 15:08] 4.0 Lauren, new place, happy, grateful, date, tired\n",
      "[10.02.2024 23:00] 5.0 Lauren, happy, sex, relaxed, date, satisfied\n",
      "[10.02.2024 21:12] 4.5 excited, Lauren, happy, travel, grateful, date, tired\n",
      "[09.02.2024 23:14] 4.0 piano, happy, satisfied\n",
      "[09.02.2024 23:06] 4.5 Lauren, city, happy, grateful, date, satisfied\n",
      "[09.02.2024 15:41] 3.5 home, relaxed, procrastinating\n",
      "[09.02.2024 14:42] 3.5 home, unsure, procrastinating\n",
      "[09.02.2024 13:29] 3.5 home, study, bored, procrastinating\n",
      "[08.02.2024 20:33] 3.5 friends, home, bored, Leha\n",
      "[08.02.2024 19:10] 4.0 excited, friends, home, satisfied, amused, Lion, Leha\n",
      "[08.02.2024 18:33] 4.0 group project, amused, study\n",
      "[08.02.2024 15:31] 3.5 home, study\n",
      "[08.02.2024 12:53] 3.5 home, study, unsure, satisfied\n",
      "[07.02.2024 21:45] 4.0 excited, social, grateful, home, satisfied\n",
      "[07.02.2024 16:49] 4.0 coding, productive, satisfied, worked\n",
      "[07.02.2024 09:31] 3.5 bored, work, relaxed, coding, worked\n",
      "[07.02.2024 00:28] 3.5 excited, relaxed, home\n",
      "[06.02.2024 22:42] 4.0 excited, relaxed, home, satisfied, piano\n",
      "[06.02.2024 20:10] 4.0 happy, home, relaxed, tired, coding\n",
      "[06.02.2024 17:17] 4.0 coding, bored, satisfied, worked\n",
      "[06.02.2024 00:44] 5.0 excited, Lauren, sex, relaxed, date, satisfied, nervous\n",
      "[05.02.2024 20:30] 4.0 Lauren, grateful, relaxed, date, worried, unsure\n",
      "[05.02.2024 15:58] 3.5 nervous, relaxed\n",
      "[05.02.2024 14:13] 3.5 study, unsure, exam\n",
      "[05.02.2024 12:10] 3.5 grateful, class, unsure\n",
      "[05.02.2024 01:00] 2.0 sad, Lauren, anxious, date, nervous\n",
      "[04.02.2024 22:28] 4.5 Lauren, relaxed, date, satisfied, tired\n",
      "[04.02.2024 18:04] 4.0 Damir, Lauren, swimming, relaxed, date, tired\n",
      "[04.02.2024 13:48] 3.5 relaxed\n",
      "[04.02.2024 12:20] 4.0 Lauren, happy, grateful, date, satisfied\n",
      "[04.02.2024 01:09] 5.0 Lauren, grateful, relaxed, date, tired\n",
      "[03.02.2024 21:01] 4.5 Lauren, happy, grateful, relaxed, date, movies & series\n",
      "[03.02.2024 13:20] 4.0 family, home, satisfied, Mom\n",
      "[03.02.2024 10:29] 4.0 Lauren, happy, grateful, relaxed, home, date\n",
      "[02.02.2024 23:41] 4.0 excited, friends, satisfied, Martina, movies & series\n",
      "[02.02.2024 16:51] 3.5 gaming, home, relaxed, satisfied\n",
      "[02.02.2024 15:25] 4.0 study, home, relaxed, cooking\n",
      "[01.02.2024 22:20] 4.5 friends, happy, home, satisfied, Martina, amused\n",
      "[01.02.2024 17:36] 4.0 friends, home, amused, gaming, Leha\n",
      "[01.02.2024 14:58] 3.5 study, relaxed\n",
      "[31.01.2024 18:55] 4.0 excited, Lauren, walking, grateful, date\n",
      "[31.01.2024 17:26] 3.5 productive, satisfied, tired, coding, worked\n",
      "[31.01.2024 12:09] 3.0 work, nervous, stressed, social\n",
      "[30.01.2024 23:08] 4.0 coding, home, satisfied\n",
      "[30.01.2024 19:38] 3.5 home, relaxed, cooking\n",
      "[30.01.2024 17:18] 3.5 coding, worked, tired\n",
      "[29.01.2024 20:02] 3.5 home, study, satisfied, cooking\n",
      "[29.01.2024 17:58] 3.5 friends, Lion, home, satisfied\n",
      "[29.01.2024 14:16] 3.5 home, relaxed\n",
      "[29.01.2024 13:50] 3.5 home, satisfied, procrastinating\n",
      "[29.01.2024 00:11] 4.0 home, relaxed, satisfied\n",
      "[28.01.2024 20:06] 3.5 walking, home, study, satisfied\n",
      "[28.01.2024 16:16] 3.5 procrastinating, bored, home, relaxed\n",
      "[27.01.2024 18:47] 4.0 city, satisfied, tired\n",
      "[27.01.2024 16:03] 4.0 city, bored, satisfied, tired\n",
      "[27.01.2024 10:59] 3.5 excited\n",
      "[27.01.2024 09:00] 4.0 grateful, family, satisfied, Mom\n",
      "[26.01.2024 23:03] 3.5 piano, satisfied, tired\n",
      "[26.01.2024 20:54] 4.0 Damir, swimming, satisfied, tired\n",
      "[26.01.2024 15:24] 4.0 home, relaxed, satisfied\n",
      "[26.01.2024 13:55] 3.5 home, class\n",
      "[26.01.2024 12:14] 3.0 worried, home, study, unsure\n",
      "[25.01.2024 23:13] 3.5 coding, home\n",
      "[25.01.2024 20:03] 4.0 shopping, cycling, home, relaxed, satisfied\n",
      "[25.01.2024 19:30] 4.0 Azat, home, Mom, amused, family\n",
      "[25.01.2024 16:02] 3.5 friends, anxious, home, unsure, gaming, Leha\n",
      "[25.01.2024 01:03] 4.0 coding, excited, home, tired\n",
      "[24.01.2024 18:41] 4.0 productive, satisfied, tired, coding, worked\n",
      "[24.01.2024 18:33] 4.5 grateful, happy\n",
      "[24.01.2024 08:10] 2.5 anxious, home, underslept\n",
      "[24.01.2024 02:16] 3.5 home, relaxed\n",
      "[24.01.2024 00:57] 3.5 home, tired\n",
      "[23.01.2024 22:12] 5.0 Damir, swimming, friends, happy, satisfied, tired\n",
      "[23.01.2024 18:47] 4.0 productive, satisfied, tired, coding, worked\n",
      "[23.01.2024 16:08] 4.0 excited, productive, happy, grateful, work, coding, worked\n",
      "[22.01.2024 22:37] 4.5 excited, friends, happy, satisfied, Martina, movies & series\n",
      "[22.01.2024 19:51] 3.5 excited, study, home, worried\n",
      "[22.01.2024 16:50] 4.0 excited, Azat, home, relaxed, satisfied\n",
      "[22.01.2024 14:50] 3.5 home, relaxed, class, unsure\n",
      "[22.01.2024 10:50] 4.0 date, satisfied, Lauren\n",
      "[22.01.2024 00:48] 5.0 Lauren, happy, grateful, relaxed, home, date, satisfied\n",
      "[21.01.2024 23:14] 4.5 Lauren, cooking, happy, grateful, home, date, movies & series, amused\n",
      "[20.01.2024 23:42] 5.0 Lauren, happy, relaxed, home, date, satisfied, worried\n",
      "[20.01.2024 15:35] 4.5 Lauren, date, satisfied, tired\n",
      "[20.01.2024 00:20] 3.5 sad, Lauren, home, date, worried\n",
      "[19.01.2024 23:30] 4.5 Lauren, happy, grateful, home, homework, date, coding\n",
      "[18.01.2024 16:09] 3.5 home, relaxed, coding, cooking, worked\n",
      "[18.01.2024 11:43] 4.0 sad, happy, home, satisfied, movies & series\n",
      "[17.01.2024 21:44] 4.0 group project, relaxed, home, coding, amused\n",
      "[17.01.2024 17:18] 4.0 productive, happy, satisfied, tired, coding, worked\n",
      "[17.01.2024 14:06] 4.0 productive, work, coding, unsure, worked\n",
      "[16.01.2024 21:31] 3.5 home, relaxed\n",
      "[16.01.2024 20:47] 4.0 excited, home, relaxed, piano\n",
      "[16.01.2024 17:41] 4.5 coding, productive, worked, tired\n",
      "[15.01.2024 15:50] 4.0 school, class, happy, satisfied\n",
      "[14.01.2024 23:56] 4.5 Lauren, happy, grateful, home, date, satisfied, unsure\n",
      "[14.01.2024 23:08] 4.5 Lauren, happy, grateful, home, satisfied, date, movies & series, amused\n",
      "[14.01.2024 16:00] 4.0 walking, relaxed, date, Lauren\n",
      "[14.01.2024 13:19] 3.5 Lauren, bored, home, date, coding\n",
      "[13.01.2024 16:48] 4.0 excited, Lauren, grateful, home, date, city, movies & series\n",
      "[13.01.2024 14:15] 3.5 annoyed\n",
      "[13.01.2024 13:00] 3.0 dota, friends, anxious, home, Lion, unsure\n",
      "[13.01.2024 01:00] 4.0 excited, home, date, Lauren\n",
      "[12.01.2024 20:30] 4.5 Lauren, happy, home, date, satisfied, movies & series, amused\n",
      "[12.01.2024 18:19] 4.0 study, movies & series, home, relaxed\n",
      "[12.01.2024 13:56] 4.0 Lauren, cleaning, home, relaxed, date, unsure\n",
      "[11.01.2024 20:26] 3.5 annoyed, Lauren, anxious, date, unsure\n",
      "[11.01.2024 20:26] 4.5 Damir, Lauren, swimming, happy, date, satisfied, tired\n",
      "[11.01.2024 16:05] 4.0 Lauren, bored, relaxed, date, coding, class\n",
      "[10.01.2024 23:13] 4.0 sad, happy, home, satisfied, movies & series\n",
      "[10.01.2024 18:22] 3.5 coding, productive, worked, tired\n",
      "[09.01.2024 18:15] 4.0 excited, productive, satisfied, tired, coding, worked\n",
      "[08.01.2024 23:28] 3.5 group project, bored, home, coding, movies & series\n",
      "[07.01.2024 23:30] 4.5 Lauren, happy, relaxed, date, satisfied\n",
      "[07.01.2024 22:10] 4.5 Lauren, walking, happy, date, satisfied, movies & series\n",
      "[07.01.2024 17:38] 4.0 excited, Lauren, bored, grateful, satisfied, date, movies & series, chess\n",
      "[06.01.2024 20:45] 4.0 excited, sad, Lauren, date, tired\n",
      "[06.01.2024 15:37] 3.5 home, satisfied, coding, gaming\n",
      "[05.01.2024 21:08] 4.5 Damir, swimming, relaxed, satisfied, tired\n",
      "[05.01.2024 14:06] 4.0 Lauren, grateful, anxious, date, city, unsure\n",
      "[05.01.2024 12:53] 4.0 excited, home, satisfied, coding\n",
      "[04.01.2024 23:04] 4.0 movies & series, home, relaxed\n",
      "[04.01.2024 20:56] 4.0 Damir, city, tired\n",
      "[04.01.2024 16:15] 4.0 grateful, home, date, Lauren\n",
      "[04.01.2024 14:05] 3.5 gaming, home, unsure, satisfied\n",
      "[04.01.2024 11:30] 4.0 gaming, home, satisfied\n",
      "[03.01.2024 20:40] 4.0 happy, home, satisfied, cooking, gaming\n",
      "[03.01.2024 15:55] 3.5 home, relaxed, bored, procrastinating\n",
      "[02.01.2024 23:55] 4.0 \n",
      "[02.01.2024 14:05] 4.0 excited, Lauren, happy, home, date, satisfied, movies & series\n",
      "[02.01.2024 11:53] 4.5 excited, Lauren, happy, home, date, cooking\n",
      "[01.01.2024 18:45] 4.0 Lauren, happy, home, date, satisfied, movies & series\n",
      "[01.01.2024 14:21] 4.0 excited, Lauren, happy, satisfied, date, movies & series, amused\n",
      "[01.01.2024 12:05] 4.0 photography, Lauren, happy, relaxed, home, date, satisfied\n",
      "[31.12.2023 23:57] 4.0 happy, date, Lauren\n",
      "[31.12.2023 22:21] 4.0 happy, home, Mom, nervous, family, Dad\n",
      "[31.12.2023 21:51] 3.5 Lauren, home, date, satisfied, movies & series, cooking\n",
      "[31.12.2023 16:48] 2.5 photography, sad, annoyed, Lauren, date, city\n",
      "[31.12.2023 16:48] 4.5 excited, Lauren, happy, home, date, movies & series, cooking\n",
      "[30.12.2023 19:00] 4.0 Lauren, home, date, movies & series, cooking, unsure\n",
      "[30.12.2023 17:35] 3.5 coding, Lion, bored, procrastinating\n",
      "[29.12.2023 23:34] 4.5 excited, friends, happy, home, coding, amused, Lion\n",
      "[29.12.2023 14:36] 4.5 excited, Lauren, new place, happy, grateful, date, city\n",
      "[29.12.2023 11:49] 4.0 coding, excited, home\n",
      "[28.12.2023 19:05] 4.0 excited, friends, home, satisfied, Martina, coding, movies & series, gaming, Leha\n",
      "[28.12.2023 00:45] 2.0 anxious, home, angry, annoyed\n",
      "[27.12.2023 23:35] 4.5 excited, home, satisfied, coding, gaming\n",
      "[27.12.2023 18:55] 4.0 home, relaxed, satisfied, gaming, Leha\n",
      "[27.12.2023 13:58] 4.0 Lauren, happy, grateful, date, tired\n",
      "[26.12.2023 23:08] 5.0 Lauren, happy, grateful, relaxed, date, satisfied\n",
      "[26.12.2023 21:54] 4.5 excited, Lauren, happy, date, satisfied, movies & series\n",
      "[26.12.2023 14:15] 4.0 grateful, unsure, date, Lauren\n",
      "[26.12.2023 11:58] 3.0 anxious, sad, unsure\n",
      "[26.12.2023 10:10] 4.0 relaxed, happy, date, Lauren\n",
      "[25.12.2023 21:39] 4.0 Lauren, happy, grateful, relaxed, date, tired\n",
      "[25.12.2023 01:04] 5.0 excited, Lauren, happy, grateful, relaxed, date\n",
      "[24.12.2023 20:30] 4.5 Lauren, happy, date, satisfied, amused\n",
      "[24.12.2023 01:00] 3.0 Lauren, anxious, date, unsure\n",
      "[23.12.2023 22:00] 4.0 excited, annoyed, Lauren, date, unsure\n",
      "[23.12.2023 21:54] 5.0 Lauren, happy, grateful, relaxed, satisfied, tired, date\n",
      "[23.12.2023 20:10] 4.0 Lauren, new place, happy, grateful, date, satisfied\n",
      "[23.12.2023 14:22] 4.0 Lauren, city, new place, happy, date, satisfied, tired\n",
      "[22.12.2023 16:03] 4.0 Damir, friends, satisfied, tired\n",
      "[22.12.2023 13:34] 3.5 movies & series, home, unsure\n",
      "[22.12.2023 00:51] 4.0 excited, happy, home, coding, gaming\n",
      "[21.12.2023 21:38] 3.5 movies & series, home, satisfied\n",
      "[21.12.2023 20:34] 4.0 happy, home, satisfied, coding, gaming\n",
      "[21.12.2023 19:10] 4.0 home, unsure, satisfied, social\n",
      "[21.12.2023 16:38] 3.5 nervous, excited, home, social\n",
      "[21.12.2023 15:38] 4.0 bored, relaxed, home, satisfied, coding, movies & series, unsure\n",
      "[20.12.2023 23:50] 4.0 excited, Lauren, home, date, satisfied, movies & series\n",
      "[20.12.2023 23:00] 3.5 annoyed, social, anxious, home, amused\n",
      "[20.12.2023 12:17] 4.0 excited, home, coding, unsure, gaming\n",
      "[19.12.2023 20:55] 4.0 excited, grateful, home, Martina, worried, movies & series\n",
      "[19.12.2023 16:44] 3.5 coding, relaxed, satisfied\n",
      "[19.12.2023 14:16] 4.0 coding, home, gaming\n",
      "[18.12.2023 23:06] 4.0 coding, excited, home, piano\n",
      "[18.12.2023 20:00] 4.0 excited, home, coding, gaming\n",
      "[18.12.2023 12:06] 4.0 happy, date, Lauren\n",
      "[18.12.2023 11:32] 4.0 date, Lauren\n",
      "[17.12.2023 22:07] 3.0 Lauren, bored, anxious, date\n",
      "[17.12.2023 19:22] 4.0 Lauren, city, happy, grateful, relaxed, date, tired\n",
      "[17.12.2023 14:10] 3.5 Lauren, bored, date, city, tired\n",
      "[17.12.2023 01:00] 5.0 date, happy, satisfied, Lauren\n",
      "[16.12.2023 23:19] 5.0 Lauren, happy, date, satisfied, movies & series\n",
      "[16.12.2023 18:33] 5.0 excited, Lauren, study, happy, date, satisfied\n",
      "[15.12.2023 21:25] 4.0 Damir, friends, happy, satisfied, tired, school\n",
      "[15.12.2023 16:25] 4.0 happy, home, satisfied, cooking\n",
      "[15.12.2023 12:40] 4.0 coding, home\n",
      "[14.12.2023 23:59] 4.0 friends, happy, Martina, movies & series, amused\n",
      "[14.12.2023 21:09] 4.5 excited, home, happy, gaming\n",
      "[14.12.2023 12:44] 3.5 coding, home, unsure\n",
      "[13.12.2023 23:59] 4.0 excited, happy, home, satisfied, gaming\n",
      "[13.12.2023 18:46] 4.5 movies & series, friends, unsure, Martina\n",
      "[13.12.2023 17:53] 4.0 coding, excited, class, home\n",
      "[13.12.2023 15:27] 5.0 Lauren, happy, date, city, satisfied\n",
      "[13.12.2023 13:03] 3.5 nervous, city\n",
      "[13.12.2023 11:55] 4.0 excited, home, satisfied, coding, unsure\n",
      "[12.12.2023 21:50] 3.5 coding, home, relaxed, bored\n",
      "[12.12.2023 14:21] 4.0 excited, procrastinating, friends, relaxed, home, satisfied, coding, Leha\n",
      "[11.12.2023 19:50] 4.0 Azat, happy, home, satisfied, coding, chess\n",
      "[10.12.2023 20:00] 4.5 walking, city, satisfied, tired\n",
      "[10.12.2023 14:56] 4.0 coding, excited, relaxed, home\n",
      "[09.12.2023 21:15] 3.5 coding, home, bored\n",
      "[09.12.2023 17:53] 3.5 home, relaxed, satisfied, coding\n",
      "[09.12.2023 12:27] 4.0 friends, happy, relaxed, home, Martina, movies & series, amused\n",
      "[09.12.2023 10:27] 4.0 coding, excited, home, satisfied\n",
      "[09.12.2023 00:21] 3.5 home, relaxed, tired\n",
      "[08.12.2023 22:50] 4.0 coding, home\n",
      "[08.12.2023 19:26] 4.0 Damir, swimming, friends, satisfied, tired\n",
      "[08.12.2023 13:51] 3.0 sad, Lauren, date, nervous, unsure\n",
      "[07.12.2023 20:02] 3.5 Lauren, home, relaxed, date, unsure\n",
      "[07.12.2023 18:30] 4.0 excited, Lauren, happy, relaxed, home, date, movies & series\n",
      "[06.12.2023 20:00] 4.0 excited, date, Lauren\n",
      "[06.12.2023 11:16] 4.0 home, class, relaxed\n",
      "[05.12.2023 23:47] 3.5 coding, excited, home, unsure\n",
      "[05.12.2023 10:46] 3.0 excited, friends, anxious, home, coding, Leha\n",
      "[04.12.2023 20:02] 4.0 excited, home, satisfied, coding, class\n",
      "[03.12.2023 18:04] 4.0 excited, friends, home, Martina, movies & series, amused\n",
      "[03.12.2023 12:39] 4.0 coding, excited, home, happy\n",
      "[03.12.2023 11:09] 4.0 excited, relaxed, home, coding\n",
      "[03.12.2023 01:07] 3.5 excited, home, satisfied, tired, coding, unsure\n",
      "[02.12.2023 21:48] 4.0 excited, friends, happy, home, Martina, coding, amused\n",
      "[02.12.2023 20:24] 4.0 friends, home, Martina, movies & series, amused\n",
      "[02.12.2023 20:18] 3.5 coding, excited, home, Leha\n",
      "[02.12.2023 10:10] 3.5 dota, friends, amused, Lion, unsure\n",
      "[01.12.2023 20:01] 3.5 excited, home, satisfied, coding, unsure\n",
      "[01.12.2023 19:25] 3.5 coding, unsure, tired\n",
      "[01.12.2023 00:19] 3.0 home, relaxed, tired\n",
      "[30.11.2023 23:37] 3.5 Lauren, city, date, tired\n",
      "[30.11.2023 17:06] 4.0 coding, excited, home, satisfied\n",
      "[30.11.2023 11:07] 3.5 coding, home, unsure, Leha\n",
      "[29.11.2023 21:20] 3.5 Azat, social, amused, gaming, Leha\n",
      "[29.11.2023 16:42] 4.0 excited, happy, home, satisfied, coding\n",
      "[28.11.2023 23:00] 4.0 coding, excited, home\n",
      "[28.11.2023 20:00] 4.0 grateful, amused, satisfied, social\n",
      "[28.11.2023 19:19] 3.5 unsure, satisfied\n",
      "[28.11.2023 18:36] 3.5 relaxed\n",
      "[28.11.2023 16:49] 4.0 excited, home, satisfied\n",
      "[28.11.2023 13:07] 3.5 home, class\n",
      "[28.11.2023 04:25] 3.0 anxious, home, worried, stressed, unsure\n",
      "[27.11.2023 22:00] 4.0 friends, social, amused, Lion, unsure\n",
      "[27.11.2023 20:30] 4.0 movies & series, friends, home, Martina\n",
      "[27.11.2023 19:01] 3.5 procrastinating, home, satisfied\n",
      "[26.11.2023 20:00] 4.0 grateful, movies & series, date, Lauren\n",
      "[26.11.2023 10:47] 4.0 grateful, date, satisfied, Lauren\n",
      "[25.11.2023 23:37] 4.0 Lauren, happy, date, cooking, unsure\n",
      "[25.11.2023 11:37] 4.0 coding, home, relaxed\n",
      "[24.11.2023 21:50] 4.0 Damir, city, happy, social, satisfied, tired\n",
      "[24.11.2023 18:17] 4.0 coding, home, relaxed, satisfied\n",
      "[24.11.2023 15:31] 4.0 home, relaxed, satisfied\n",
      "[24.11.2023 11:07] 4.0 home, relaxed, happy\n",
      "[23.11.2023 21:57] 4.0 friends, home, Martina, movies & series, amused\n",
      "[23.11.2023 15:26] 3.5 sick, procrastinating, study, home, relaxed, unsure\n",
      "[22.11.2023 21:41] 4.0 home, satisfied, Martina, movies & series, amused, gaming, Leha\n",
      "[22.11.2023 18:49] 4.0 Lauren, happy, home, date, satisfied, movies & series\n",
      "[21.11.2023 21:00] 3.0 bored, home, unsure, sick\n",
      "[20.11.2023 20:20] 3.5 sick, home, unsure\n",
      "[20.11.2023 14:48] 3.5 relaxed, home, coding, nervous, class, unsure\n",
      "[19.11.2023 23:29] 3.5 coding, excited, home\n",
      "[19.11.2023 18:54] 4.0 underslept, Lauren, happy, grateful, date\n",
      "[19.11.2023 16:36] 3.0 anxious, study, tired\n",
      "[19.11.2023 11:21] 3.0 anxious, underslept, school, tired\n",
      "[19.11.2023 08:05] 3.5 unsure, underslept\n",
      "[18.11.2023 23:59] 4.0 excited, school, tired, coding, amused\n",
      "[18.11.2023 20:27] 4.0 coding, amused, school\n",
      "[17.11.2023 23:58] 2.5 anxious, angry\n",
      "[17.11.2023 22:31] 3.5 social, school, tired\n",
      "[17.11.2023 14:48] 3.0 excited\n",
      "[17.11.2023 13:56] 3.5 coding, home, procrastinating\n",
      "[16.11.2023 23:27] 5.0 friends, relaxed, home, satisfied, Martina, movies & series, amused\n",
      "[16.11.2023 20:34] 4.0 walking, Azat, home, relaxed, coding\n",
      "[16.11.2023 12:29] 3.5 nervous\n",
      "[16.11.2023 11:49] 3.0 bored, home, homework, coding, unsure\n",
      "[15.11.2023 22:00] 3.5 coding, excited, relaxed, home\n",
      "[15.11.2023 19:04] 3.5 group project, study, home, coding, unsure\n",
      "[15.11.2023 15:56] 4.0 Lauren, happy, grateful, home, date\n",
      "[14.11.2023 21:06] 4.0 excited, friends, home, Martina, movies & series, amused, unsure\n",
      "[14.11.2023 20:09] 4.0 Azat, amused, satisfied, Mom\n",
      "[14.11.2023 15:06] 2.0 sad, social, anxious, stressed, angry\n",
      "[14.11.2023 13:13] 3.5 home, class\n",
      "[14.11.2023 12:22] 4.0 coding, excited, home, satisfied\n",
      "[13.11.2023 23:59] 4.0 coding, excited, relaxed\n",
      "[13.11.2023 17:03] 4.0 home, satisfied\n",
      "[13.11.2023 15:39] 3.5 coding, nervous, home\n",
      "[13.11.2023 14:47] 4.0 friends, grateful, home, satisfied, coding, amused, Leha\n",
      "[12.11.2023 21:00] 5.0 Lauren, happy, home, relaxed, date\n",
      "[12.11.2023 17:39] 4.0 sad, Lauren, grateful, anxious, home, date, unsure\n",
      "[12.11.2023 14:00] 5.0 excited, Lauren, happy, home, date, satisfied, movies & series, cooking\n",
      "[12.11.2023 10:00] 5.0 Lauren, happy, grateful, home, date, movies & series\n",
      "[11.11.2023 17:26] 5.0 Lauren, happy, relaxed, home, date, satisfied, movies & series\n",
      "[11.11.2023 14:25] 5.0 Lauren, happy, grateful, relaxed, home, date, cooking\n",
      "[11.11.2023 12:41] 4.0 Lauren, swimming, relaxed, date, tired\n",
      "[10.11.2023 22:24] 4.0 piano, home, happy, satisfied\n",
      "[10.11.2023 21:36] 3.0 dota, Azat, friends, Lion, anxious, home, family\n",
      "[10.11.2023 15:22] 4.0 home, relaxed\n",
      "[10.11.2023 12:17] 4.0 grateful, unsure, date, Lauren\n",
      "[10.11.2023 10:30] 2.0 social\n",
      "[10.11.2023 10:00] 3.5 nervous, school\n",
      "[09.11.2023 23:52] 4.0 friends, relaxed, home, Martina, movies & series, amused\n",
      "[09.11.2023 15:02] 5.0 Lauren, happy, grateful, home, date\n",
      "[09.11.2023 00:10] 3.5 home, relaxed\n",
      "[08.11.2023 23:44] 4.0 friends, happy, relaxed, home, satisfied, amused, gaming, Leha\n",
      "[08.11.2023 23:44] 4.0 cooking, home, satisfied\n",
      "[08.11.2023 12:55] 5.0 coding, home, happy, satisfied\n",
      "[08.11.2023 12:19] 4.0 home, relaxed, satisfied\n",
      "[07.11.2023 21:00] 4.0 dota, Azat, friends, home, coding, amused, family\n",
      "[07.11.2023 19:24] 4.0 happy, school, satisfied, class, tired\n",
      "[07.11.2023 17:24] 3.5 \n",
      "[07.11.2023 16:03] 4.0 Azat, home, satisfied, coding, family\n",
      "[07.11.2023 13:43] 3.5 bored, relaxed, home, coding, class, unsure\n",
      "[07.11.2023 11:22] 3.5 dota, bored, relaxed, home, class\n",
      "[06.11.2023 23:09] 3.0 home, bored, procrastinating\n",
      "[06.11.2023 14:05] 4.0 school, class, unsure, satisfied\n",
      "[06.11.2023 09:58] 3.5 home, relaxed, unsure\n",
      "[05.11.2023 23:49] 3.5 home\n",
      "[05.11.2023 19:46] 3.0 bored, unsure, gaming, Mom\n",
      "[05.11.2023 12:14] 4.0 gaming, home, bored, satisfied\n",
      "[05.11.2023 09:05] 3.0 angry\n",
      "[04.11.2023 23:45] 4.0 amused, home, satisfied\n",
      "[04.11.2023 22:00] 3.5 dota\n",
      "[04.11.2023 20:00] 4.0 friends, happy, relaxed, home, satisfied, tired, amused, gaming, Leha\n",
      "[04.11.2023 18:02] 4.0 Lauren, happy, date, satisfied, tired\n",
      "[04.11.2023 12:48] 4.0 coding, Azat, family\n",
      "[04.11.2023 10:02] 4.0 coding, home, relaxed\n",
      "[03.11.2023 23:42] 3.5 home, relaxed, tired\n",
      "[03.11.2023 20:18] 4.0 Damir, swimming, friends, satisfied, tired\n",
      "[03.11.2023 17:26] 3.5 relaxed, unsure\n",
      "[03.11.2023 14:25] 3.0 home, bored, satisfied\n",
      "[03.11.2023 11:56] 3.5 gaming, home, bored, satisfied\n",
      "[02.11.2023 21:23] 4.0 excited, friends, amused, gaming, Leha\n",
      "[02.11.2023 21:21] 4.0 Lauren, study, happy, school, date\n",
      "[02.11.2023 10:18] 3.5 Lauren, underslept, date, tired, unsure\n",
      "[01.11.2023 21:55] 4.0 movies & series, date, Lauren\n",
      "[01.11.2023 20:00] 5.0 grateful, happy, date, Lauren\n",
      "[01.11.2023 14:00] 4.0 cooking, study, date, Lauren\n",
      "[01.11.2023 10:52] 4.0 excited, satisfied\n",
      "[01.11.2023 09:47] 3.5 excited, unsure, satisfied\n",
      "[31.10.2023 20:02] 3.5 class, school, tired\n",
      "[31.10.2023 16:44] 3.5 home, relaxed, satisfied, unsure\n",
      "[31.10.2023 15:15] 3.5 home, relaxed, happy, gaming\n",
      "[31.10.2023 15:05] 3.0 class, bored\n",
      "[30.10.2023 22:53] 3.5 movies & series, amused, home, satisfied\n",
      "[30.10.2023 18:07] 5.0 Lauren, city, happy, grateful, date, tired\n",
      "[30.10.2023 11:30] 4.0 study, school, class, satisfied\n",
      "[29.10.2023 20:54] 4.0 sad, Lauren, happy, grateful, date, movies & series\n",
      "[29.10.2023 10:05] 5.0 Lauren, happy, grateful, home, date, amused\n",
      "[28.10.2023 23:03] 5.0 swimming, Lauren, happy, grateful, date\n",
      "[28.10.2023 23:00] 6.0 excited, Lauren, happy, grateful, relaxed, home, date\n",
      "[27.10.2023 20:12] 4.0 swimming, tired\n",
      "[27.10.2023 16:10] 4.0 home, relaxed, satisfied\n",
      "[27.10.2023 12:10] 4.0 Lauren, happy, relaxed, date, chess\n",
      "[27.10.2023 09:28] 5.0 date, happy, satisfied, Lauren\n",
      "[26.10.2023 22:06] 4.0 Lauren, walking, city, happy, grateful, date, satisfied\n",
      "[26.10.2023 16:11] 3.5 home, relaxed, satisfied\n",
      "[25.10.2023 19:41] 4.0 Lauren, walking, happy, date, city\n",
      "[25.10.2023 11:59] 3.5 sad, Lauren, school, date, unsure\n",
      "[24.10.2023 20:47] 3.0 bored, home, unsure\n",
      "[24.10.2023 13:09] 3.5 home, class, relaxed\n",
      "[23.10.2023 23:20] 4.0 piano, home, happy, satisfied\n",
      "[23.10.2023 17:02] 3.5 home, relaxed, satisfied\n",
      "[23.10.2023 10:17] 3.5 home, relaxed\n",
      "[22.10.2023 21:01] 4.0 excited, Lauren, city, new place, grateful, date, tired\n",
      "[21.10.2023 20:00] 4.0 Lauren, city, relaxed, date, satisfied, movies & series\n",
      "[20.10.2023 15:52] 5.0 Lauren, happy, grateful, date, school, class\n",
      "[20.10.2023 14:55] 3.5 sad, Lauren, school, date, unsure\n",
      "[19.10.2023 14:35] 4.0 friends, city\n",
      "[19.10.2023 14:22] 5.0 school, happy, date, Lauren\n",
      "[19.10.2023 12:19] 3.5 home, bored, class, unsure\n",
      "[18.10.2023 20:05] 4.0 friends, swimming, tired\n",
      "[18.10.2023 16:46] 5.0 Lauren, underslept, happy, grateful, date, school, movies & series\n",
      "[18.10.2023 01:40] 3.5 home\n",
      "[18.10.2023 01:37] 6.0 Lauren, happy, home, date, tired\n",
      "[17.10.2023 22:23] 4.0 Lauren, happy, grateful, date, school, class\n",
      "[16.10.2023 16:57] 3.5 home, relaxed\n",
      "[16.10.2023 12:48] 3.5 Lauren, underslept, home, date, tired, unsure\n",
      "[15.10.2023 21:27] 5.0 Lauren, happy, grateful, date, satisfied, movies & series\n",
      "[15.10.2023 10:20] 5.0 grateful, happy, date, Lauren\n",
      "[14.10.2023 20:00] 4.0 city, new place, Lauren, tired\n",
      "[13.10.2023 20:10] 5.0 cycling, swimming, tired\n",
      "[13.10.2023 14:42] 3.5 home, cooking, unsure\n",
      "[12.10.2023 19:08] 4.0 Lauren, walking, friends, happy, relaxed, tired, amused\n",
      "[11.10.2023 19:00] 4.0 Lauren, friends, happy, grateful, relaxed, home, movies & series\n",
      "[10.10.2023 22:44] 3.5 home, relaxed, tired\n",
      "[10.10.2023 22:39] 3.5 productive, friends, amused, home, stressed, gaming, Leha\n",
      "[10.10.2023 09:49] 3.5 home, relaxed\n",
      "[09.10.2023 17:56] 4.0 movies & series, home, relaxed, bored\n",
      "[08.10.2023 20:00] 4.0 Lauren, friends, travel, grateful, city\n",
      "[08.10.2023 10:51] 3.5 excited, Lauren, travel, tired, nervous\n",
      "[07.10.2023 15:56] 4.0 walking, reading, relaxed, satisfied, city, amused\n",
      "[07.10.2023 12:32] 3.5 home, relaxed\n",
      "[07.10.2023 11:03] 4.0 home, piano, relaxed, satisfied\n",
      "[06.10.2023 20:45] 4.0 excited, friends, happy, gaming, Leha\n",
      "[06.10.2023 16:39] 3.5 home, relaxed\n",
      "[06.10.2023 13:02] 5.0 walking, reading, happy, grateful, satisfied\n",
      "[06.10.2023 01:03] 3.5 relaxed\n",
      "[05.10.2023 21:10] 4.0 reading, swimming\n",
      "[05.10.2023 09:55] 3.5 home, relaxed\n",
      "[04.10.2023 20:13] 5.0 Lauren, friends, new place, happy, grateful, satisfied, movies & series\n",
      "[04.10.2023 09:12] 4.0 home, relaxed, satisfied, piano\n",
      "[03.10.2023 20:01] 4.0 Lauren, walking, friends, happy, satisfied, city\n",
      "[03.10.2023 10:42] 5.0 happy, home, relaxed, satisfied, piano\n",
      "[02.10.2023 20:01] 5.0 Lauren, walking, friends, happy, satisfied, city\n",
      "[02.10.2023 10:10] 3.5 nervous, school, exam\n",
      "[01.10.2023 20:22] 3.0 study, unsure\n",
      "[01.10.2023 13:47] 5.0 walking, relaxed, unsure\n",
      "[01.10.2023 13:15] 3.5 relaxed, satisfied\n",
      "[01.10.2023 09:41] 5.0 home, happy, piano\n",
      "[01.10.2023 00:30] 4.0 coding, home, relaxed, unsure\n",
      "[30.09.2023 20:02] 3.5 home, study, unsure\n",
      "[30.09.2023 16:30] 3.0 home, study, unsure\n",
      "[30.09.2023 16:10] 4.0 home, happy, piano\n",
      "[30.09.2023 13:29] 4.0 shopping, cycling, relaxed, unsure\n",
      "[29.09.2023 19:05] 3.5 home, relaxed, satisfied\n",
      "[29.09.2023 17:53] 4.0 piano, home, satisfied, tired\n",
      "[28.09.2023 17:52] 4.0 study, guitar, relaxed\n",
      "[27.09.2023 23:45] 4.0 guitar\n",
      "[27.09.2023 18:48] 3.5 bored\n",
      "[27.09.2023 16:50] 5.0 stressed, relaxed, happy, satisfied\n",
      "[26.09.2023 12:54] 4.0 relaxed, satisfied\n",
      "[25.09.2023 20:01] 4.0 relaxed\n",
      "[25.09.2023 16:30] 4.0 study\n",
      "[24.09.2023 20:08] 4.0 walking, relaxed, satisfied\n",
      "[23.09.2023 20:02] 4.0 study, relaxed, unsure, satisfied\n",
      "[23.09.2023 13:55] 4.0 bored, satisfied, city\n",
      "[22.09.2023 22:15] 4.0 relaxed, satisfied, chess\n",
      "[22.09.2023 15:43] 3.5 anxious, study, bored\n",
      "[22.09.2023 08:25] 4.0 underslept, tired\n",
      "[21.09.2023 22:26] 4.0 relaxed, satisfied\n",
      "[21.09.2023 20:18] 4.0 study, unsure, satisfied\n",
      "[20.09.2023 23:07] 4.0 relaxed, tired\n",
      "[20.09.2023 17:13] 4.0 walking, happy, satisfied, tired\n",
      "[19.09.2023 20:20] 4.0 walking, tired\n",
      "[18.09.2023 11:58] 3.5 anxious, study, bored\n",
      "[17.09.2023 20:12] 4.0 study, unsure, satisfied, tired\n",
      "[17.09.2023 08:49] 4.0 underslept\n",
      "[16.09.2023 20:58] 5.0 swimming, cycling, relaxed, satisfied, tired\n",
      "[15.09.2023 21:55] 4.0 bored, home, relaxed, satisfied, movies & series\n",
      "[15.09.2023 15:47] 4.0 shopping, cycling, city\n",
      "[15.09.2023 13:40] 3.5 study, home, satisfied, movies & series\n",
      "[14.09.2023 21:16] 3.0 dota, friends, anxious, home, Lion\n",
      "[14.09.2023 09:39] 3.5 unsure, school\n",
      "[13.09.2023 20:09] 4.0 home, relaxed, satisfied, movies & series, amused\n",
      "[13.09.2023 16:31] 4.0 study, home, relaxed, chess\n",
      "[12.09.2023 21:17] 5.0 Lauren, friends, happy, grateful, relaxed, home, tired, movies & series, cooking\n",
      "[12.09.2023 11:50] 4.0 excited\n",
      "[11.09.2023 21:24] 3.5 procrastinating, bored, home, movies & series, unsure, chess\n",
      "[11.09.2023 13:01] 4.0 cleaning, home, piano\n",
      "[10.09.2023 20:04] 4.0 home, relaxed\n",
      "[10.09.2023 18:40] 5.0 cycling, relaxed, city\n",
      "[09.09.2023 20:01] 4.0 shopping, chess, bored, cycling, home, relaxed, worked\n",
      "[08.09.2023 21:12] 4.0 shopping, procrastinating, study, bored, cycling, home, satisfied\n",
      "[08.09.2023 12:40] 4.0 home, piano, chess\n",
      "[07.09.2023 20:24] 4.0 study, home, satisfied, movies & series, amused, piano\n",
      "[06.09.2023 23:34] 3.5 procrastinating, study, bored, home, unsure\n",
      "[06.09.2023 11:33] 3.5 home, relaxed, piano, procrastinating\n",
      "[05.09.2023 20:14] 4.0 Lauren, relaxed, home, satisfied, tired, piano\n",
      "[05.09.2023 09:55] 4.0 excited, city, friends\n",
      "[04.09.2023 20:44] 5.0 Damir, swimming, cycling, relaxed, satisfied, tired\n",
      "[03.09.2023 23:10] 4.0 movies & series, home, relaxed, bored\n",
      "[03.09.2023 15:11] 4.0 home, relaxed, satisfied\n",
      "[03.09.2023 13:33] 4.0 piano, home, happy, satisfied\n",
      "[02.09.2023 21:03] 4.0 home, bored, piano, procrastinating\n",
      "[02.09.2023 16:31] 3.5 cleaning, home, relaxed, tired\n",
      "[02.09.2023 12:13] 4.0 happy, home, relaxed, satisfied, piano\n",
      "[01.09.2023 20:05] 4.0 Damir, swimming, friends, satisfied, city\n",
      "[01.09.2023 12:36] 5.0 happy, home, satisfied, piano, chess\n",
      "[31.08.2023 22:48] 4.0 procrastinating, study, relaxed, home, unsure, piano, chess\n",
      "[30.08.2023 20:00] 4.0 home, relaxed, satisfied\n",
      "[30.08.2023 19:49] 4.0 shopping, procrastinating, home, relaxed, satisfied, cooking, chess\n",
      "[29.08.2023 20:05] 2.0 angry, sad, travel\n",
      "[29.08.2023 01:40] 4.0 grateful, satisfied, movies & series, angry, unsure\n",
      "[28.08.2023 23:06] 4.0 walking, new place, travel, anxious, satisfied, city, tired\n",
      "[28.08.2023 20:25] 4.0 new place, sick, satisfied, travel\n",
      "[27.08.2023 21:41] 2.5 movies & series, anxious, sick\n",
      "[27.08.2023 12:12] 2.0 anxious, sick\n",
      "[26.08.2023 21:52] 4.0 movies & series, amused, cinema, satisfied\n",
      "[25.08.2023 20:04] 3.5 movies & series, city, cinema, tired\n",
      "[25.08.2023 16:08] 4.0 city, new place, satisfied, tired\n",
      "[24.08.2023 22:16] 3.0 friends, new place, travel, anxious, tired, unsure\n",
      "[24.08.2023 14:06] 3.0 anxious, unsure, underslept\n",
      "[23.08.2023 20:10] 4.0 productive, cleaning, happy, overheated, grateful, satisfied, piano, worked\n",
      "[22.08.2023 20:27] 5.0 swimming, friends, cycling, satisfied, tired\n",
      "[22.08.2023 18:07] 4.0 friends, study, happy, grateful, home\n",
      "[22.08.2023 13:18] 4.0 piano, home, satisfied, chess\n",
      "[21.08.2023 20:05] 3.5 dota, procrastinating, study, bored, relaxed, home, unsure, chess\n",
      "[21.08.2023 13:11] 4.0 friends, happy, home, satisfied, Martina, movies & series, piano, chess\n",
      "[21.08.2023 00:14] 4.0 friends, relaxed, home, chess\n",
      "[20.08.2023 21:51] 3.5 dota, friends, anxious, home, Lion\n",
      "[20.08.2023 16:35] 4.0 dota, friends, relaxed, home, chess\n",
      "[19.08.2023 20:32] 5.0 Damir, swimming, friends, cycling, relaxed, tired\n",
      "[19.08.2023 18:10] 4.0 study, happy, satisfied, chess\n",
      "[19.08.2023 01:27] 4.0 home, relaxed, chess\n",
      "[18.08.2023 21:19] 4.0 dota, walking, friends, relaxed, city, Lion, chess\n",
      "[18.08.2023 11:50] 4.0 excited\n",
      "[17.08.2023 23:03] 3.5 dota, friends, bored, home, Lion, chess\n",
      "[16.08.2023 23:00] 3.5 relaxed\n",
      "[16.08.2023 20:03] 5.0 swimming, friends, happy, cycling, satisfied, city, tired\n",
      "[16.08.2023 01:33] 4.0 dota, home, relaxed, tired, chess\n",
      "[15.08.2023 20:13] 3.5 swimming, happy, cycling, relaxed, satisfied, tired\n",
      "[15.08.2023 01:02] 4.0 friends, relaxed, home, satisfied, Martina, movies & series, chess\n",
      "[14.08.2023 21:07] 4.0 study, bored, relaxed, home, unsure, chess\n",
      "[13.08.2023 19:04] 5.0 cycling, happy, city\n",
      "[13.08.2023 16:51] 4.0 relaxed\n",
      "[13.08.2023 15:31] 4.0 cleaning, friends, relaxed, home, satisfied, Martina, laundry, chess\n",
      "[13.08.2023 12:23] 4.0 friends, happy, home, satisfied, Martina, movies & series, amused, chess\n",
      "[13.08.2023 01:02] 3.5 home, bored\n",
      "[12.08.2023 23:59] 4.0 movies & series, home, relaxed, happy\n",
      "[12.08.2023 20:11] 4.0 friends, relaxed, home, movies & series, gaming, chess\n",
      "[12.08.2023 15:11] 4.0 dota, study, home, relaxed, cooking, gaming\n",
      "[11.08.2023 21:24] 3.5 dota, anxious, home\n",
      "[11.08.2023 16:51] 4.0 shopping, cycling, relaxed, satisfied\n",
      "[11.08.2023 13:36] 4.0 friends, happy, grateful, relaxed, home, movies & series, cooking\n",
      "[11.08.2023 11:23] 3.5 home, study, unsure\n",
      "[11.08.2023 00:29] 4.0 friends, happy, home, satisfied, Martina, movies & series, amused\n",
      "[10.08.2023 20:45] 4.0 walking, cycling, happy, satisfied\n",
      "[10.08.2023 20:12] 4.0 procrastinating, happy, home, relaxed, movies & series\n",
      "[10.08.2023 11:51] 3.5 school, unsure, exam\n",
      "[10.08.2023 00:24] 4.0 home, relaxed, satisfied\n",
      "[09.08.2023 20:01] 5.0 happy, relaxed, home, movies & series, amused\n",
      "[09.08.2023 17:49] 3.0 dota, anxious, home\n",
      "[09.08.2023 16:10] 3.5 study, home, tired, stressed\n",
      "[09.08.2023 14:55] 3.5 home, study, unsure\n",
      "[08.08.2023 22:02] 4.0 happy, home, relaxed, piano\n",
      "[08.08.2023 20:01] 4.0 Damir, swimming, friends, satisfied, tired\n",
      "[08.08.2023 15:50] 5.0 shopping, cycling, relaxed, satisfied, city\n",
      "[08.08.2023 13:59] 4.0 cycling, excited, satisfied, city\n",
      "[08.08.2023 11:24] 4.0 procrastinating, bored, home, relaxed, unsure, gaming\n",
      "[08.08.2023 09:22] 4.0 bored, home, unsure\n",
      "[07.08.2023 23:42] 3.5 procrastinating, bored, home, relaxed, movies & series\n",
      "[07.08.2023 20:03] 4.0 shopping, cycling, relaxed\n",
      "[07.08.2023 15:44] 4.0 procrastinating, home, relaxed, gaming\n",
      "[07.08.2023 12:05] 3.5 anxious, school, exam, unsure\n",
      "[07.08.2023 10:09] 3.0 anxious, underslept\n",
      "[06.08.2023 23:45] 3.5 home, relaxed\n",
      "[06.08.2023 20:27] 2.0 friends, anxious, angry, Lion\n",
      "[06.08.2023 15:48] 3.5 dota, Azat, friends, bored, Lion, home, family\n",
      "[06.08.2023 12:14] 4.0 procrastinating, anxious, home, satisfied, gaming\n",
      "[05.08.2023 23:29] 4.0 dota, Azat, friends, Lion, home, family\n",
      "[05.08.2023 22:29] 3.5 home, bored, procrastinating\n",
      "[05.08.2023 15:52] 4.0 home, relaxed\n",
      "[05.08.2023 11:32] 4.0 dota, procrastinating, home, relaxed, gaming\n",
      "[04.08.2023 20:00] 4.0 Damir, swimming, friends, relaxed, tired\n",
      "[04.08.2023 16:34] 4.0 Lauren, friends, happy, grateful, home\n",
      "[04.08.2023 09:24] 3.5 home, relaxed\n",
      "[03.08.2023 22:51] 4.0 dota, relaxed, bored, home\n",
      "[03.08.2023 18:01] 3.0 anxious, home\n",
      "[03.08.2023 15:31] 3.5 school, unsure, exam, tired\n",
      "[03.08.2023 12:40] 4.0 school, exam\n",
      "[03.08.2023 10:54] 4.0 worried, school, exam\n",
      "[03.08.2023 00:04] 4.0 home, relaxed, satisfied, tired\n",
      "[02.08.2023 21:10] 4.0 cooking, home, relaxed, tired\n",
      "[02.08.2023 18:30] 4.0 friends, study, home\n",
      "[02.08.2023 15:57] 5.0 Lauren, walking, happy, grateful, cycling\n",
      "[02.08.2023 15:34] 3.5 worried, home, study\n",
      "[02.08.2023 11:49] 4.0 home, unsure, satisfied\n",
      "[01.08.2023 23:59] 4.0 Lauren, friends, home, tired, amused\n",
      "[01.08.2023 23:21] 4.0 home, relaxed, tired\n",
      "[01.08.2023 21:47] 5.0 Damir, swimming, friends, relaxed, tired\n",
      "[01.08.2023 20:01] 4.0 bored, happy, city\n",
      "[01.08.2023 19:12] 3.0 anxious, sick, unsure\n",
      "[01.08.2023 18:11] 3.5 shopping, cycling\n",
      "[01.08.2023 16:11] 3.0 home, anxious, study\n",
      "[01.08.2023 10:53] 4.0 home, relaxed, piano\n",
      "[31.07.2023 18:54] 3.5 cleaning, relaxed\n",
      "[31.07.2023 17:22] 3.0 study, home, tired, unsure\n",
      "[31.07.2023 16:45] 4.0 study, home, relaxed, satisfied, cooking\n",
      "[31.07.2023 12:00] 3.5 procrastinating, bored, home, relaxed, unsure\n",
      "[30.07.2023 23:26] 4.0 Lauren, friends, happy, grateful, home, amused, laundry\n",
      "[30.07.2023 13:01] 2.5 home, study\n",
      "[30.07.2023 12:08] 3.0 dota, home\n",
      "[30.07.2023 11:01] 3.5 procrastinating, home, relaxed, gaming\n",
      "[29.07.2023 20:04] 4.0 Lauren, friends, study, home, satisfied\n",
      "[29.07.2023 15:39] 3.5 coding, home, study\n",
      "[29.07.2023 10:38] 2.5 home, underslept\n",
      "[28.07.2023 22:54] 4.0 home, relaxed\n",
      "[28.07.2023 21:15] 4.0 photography, study, home, satisfied, gaming\n",
      "[28.07.2023 16:48] 3.0 study, anxious, home, unsure\n",
      "[28.07.2023 12:12] 2.0 friends, sad, home\n",
      "[28.07.2023 10:16] 4.0 home, relaxed, procrastinating\n",
      "[27.07.2023 21:04] 4.0 shopping, cycling, home, relaxed, satisfied, cooking, gaming\n",
      "[27.07.2023 16:02] 3.5 study, home, relaxed, unsure\n",
      "[27.07.2023 15:54] 4.0 study, home, relaxed, satisfied\n",
      "[27.07.2023 01:15] 3.5 home, relaxed, tired\n",
      "[26.07.2023 23:13] 3.5 procrastinating, home, relaxed, gaming\n",
      "[26.07.2023 18:20] 4.0 home, relaxed, gaming, procrastinating\n",
      "[26.07.2023 15:00] 3.0 home, bored\n",
      "[26.07.2023 10:12] 2.0 school, anxious, angry, exam\n",
      "[26.07.2023 07:08] 3.0 stressed, exam, underslept\n",
      "[25.07.2023 22:06] 3.5 home, relaxed\n",
      "[25.07.2023 20:21] 4.0 shopping, cycling, satisfied\n",
      "[25.07.2023 15:49] 3.0 home, anxious, study\n",
      "[25.07.2023 14:04] 3.5 home, anxious, study\n",
      "[25.07.2023 01:06] 3.0 home, tired\n",
      "[24.07.2023 23:54] 3.0 friends, home, gaming, tired\n",
      "[24.07.2023 20:01] 3.5 study, home, satisfied, amused\n",
      "[24.07.2023 01:45] 4.0 excited, happy, home, movies & series\n",
      "[23.07.2023 20:49] 3.5 cooking, home, bored\n",
      "[23.07.2023 17:24] 3.5 cleaning, home, bored\n",
      "[23.07.2023 15:14] 3.5 home, study, unsure\n",
      "[23.07.2023 10:56] 3.5 home, relaxed\n",
      "[22.07.2023 22:17] 3.5 home, relaxed\n",
      "[22.07.2023 19:34] 4.0 home, relaxed, chess\n",
      "[22.07.2023 17:09] 3.5 study, home, relaxed, cooking\n",
      "[22.07.2023 14:22] 3.5 coding, unsure\n",
      "[22.07.2023 13:30] 3.0 dota, friends, anxious, home\n",
      "[22.07.2023 11:30] 4.0 home, satisfied\n",
      "[21.07.2023 23:25] 3.5 dota, friends, relaxed, home, Lion, chess\n",
      "[21.07.2023 21:55] 3.5 walking, relaxed\n",
      "[21.07.2023 21:17] 4.0 satisfied, city\n",
      "[21.07.2023 19:39] 2.5 stressed, school, exam\n",
      "[21.07.2023 16:30] 4.0 piano\n",
      "[21.07.2023 11:00] 2.5 study, home, tired, worried, stressed, snacking\n",
      "[21.07.2023 00:15] 3.0 worried, relaxed\n",
      "[20.07.2023 21:21] 3.5 procrastinating, home, coding, snacking\n",
      "[20.07.2023 18:29] 4.0 shopping, cycling, unsure\n",
      "[20.07.2023 16:58] 2.0 social, home, worried, stressed, angry, worked\n",
      "[20.07.2023 13:12] 4.0 coding, home, piano\n",
      "[19.07.2023 23:10] 2.5 dota, anxious, home\n",
      "[19.07.2023 20:16] 4.0 coding, home, gaming\n",
      "[19.07.2023 18:28] 3.0 study, anxious, home, tired, cooking\n",
      "[19.07.2023 13:27] 4.0 procrastinating, home, relaxed, chess\n",
      "[18.07.2023 23:12] 5.0 friends, home, happy, Lauren\n",
      "[18.07.2023 20:30] 5.0 Damir, swimming, friends, city, cycling, relaxed, satisfied, tired\n",
      "[18.07.2023 14:29] 4.0 shopping, cycling, satisfied\n",
      "[18.07.2023 13:49] 4.0 coding, home, satisfied\n",
      "[18.07.2023 12:23] 4.0 home, relaxed, chess\n",
      "[17.07.2023 21:37] 2.0 dota, angry, home\n",
      "[17.07.2023 20:29] 4.0 amused, home, chess\n",
      "[17.07.2023 19:17] 3.0 home, study, tired\n",
      "[17.07.2023 16:10] 3.5 excited, Lauren, chess, cooking, home, stressed, Leha\n",
      "[16.07.2023 20:02] 4.0 dota, cleaning, friends, study, cycling, home, Lion, chess\n",
      "[15.07.2023 23:01] 3.0 dota, procrastinating, anxious, home, coding, unsure, chess\n",
      "[14.07.2023 19:56] 5.0 Damir, swimming, procrastinating, friends, city, study, new place, cycling, relaxed, tired\n",
      "[14.07.2023 13:33] 4.0 excited, procrastinating, friends, satisfied, coding, Leha\n",
      "[13.07.2023 23:59] 4.0 shopping, procrastinating, friends, new place, cycling, class, relaxed, satisfied, tired, coding, Martina, gaming\n",
      "[13.07.2023 12:47] 4.0 cycling, satisfied\n",
      "[13.07.2023 10:42] 5.0 home, relaxed\n",
      "[12.07.2023 21:35] 3.5 procrastinating, study, bored, home, movies & series\n",
      "[12.07.2023 12:55] 3.0 overheated, anxious, home, unsure, worked\n",
      "[11.07.2023 23:00] 4.0 friends, happy, home, satisfied, Martina, gaming\n",
      "[11.07.2023 20:02] 3.5 shopping, study, bored, overheated, cycling, coding\n",
      "[10.07.2023 21:00] 5.0 Damir, swimming, friends, happy, cycling, satisfied, tired, school\n",
      "[10.07.2023 11:07] 4.0 cycling, school, satisfied\n",
      "[09.07.2023 22:33] 2.0 dota, angry, home\n",
      "[09.07.2023 15:50] 4.0 walking, new place, overheated, social, city, tired\n",
      "[09.07.2023 11:36] 3.5 laundry, cleaning, home, overheated\n",
      "[08.07.2023 19:13] 5.0 cycling, relaxed, satisfied, city, tired\n",
      "[08.07.2023 15:52] 3.0 study, anxious, home, cooking\n",
      "[08.07.2023 13:43] 4.0 Lauren, friends, happy, relaxed, home, satisfied\n",
      "[07.07.2023 20:00] 3.5 shopping, dota, walking, friends, study, coding, unsure, gaming, Leha\n",
      "[06.07.2023 20:41] 4.0 Damir, walking, social, relaxed, cinema, satisfied, city, coding, movies & series, family, class\n",
      "[06.07.2023 12:42] 4.0 grateful, home, Mom, coding, family\n",
      "[05.07.2023 18:42] 4.0 Damir, swimming, walking, friends, city, satisfied, tired, coding, worked\n",
      "[04.07.2023 22:50] 3.0 productive, friends, home, Martina, coding, movies & series, class, snacking\n",
      "[03.07.2023 20:05] 4.0 excited, friends, happy, home, tired, coding, stressed, gaming, Leha\n",
      "[03.07.2023 14:56] 5.0 happy, social, relaxed, school, class\n",
      "[02.07.2023 22:23] 4.0 procrastinating, happy, social, grateful, coding\n",
      "[01.07.2023 20:00] 4.0 excited, friends, happy, relaxed, home, Martina, movies & series, gaming, Leha\n"
     ]
    }
   ],
   "source": [
    "# prints all entries\n",
    "df.head(-1)"
   ]
  },
  {
   "cell_type": "markdown",
   "metadata": {},
   "source": [
    "### `.sub`"
   ]
  },
  {
   "cell_type": "markdown",
   "metadata": {},
   "source": [
    "Use the `.sub` method to filter entries and get a subset of the original dataset"
   ]
  },
  {
   "cell_type": "markdown",
   "metadata": {},
   "source": [
    "- by included activities ('or' operator: all the entries which have at least one of the listed activities)"
   ]
  },
  {
   "cell_type": "code",
   "execution_count": 5,
   "metadata": {},
   "outputs": [
    {
     "name": "stdout",
     "output_type": "stream",
     "text": [
      "Dataset(76 entries; last [16 days 1 hour 28 minutes 22 seconds ago]; mood: 4.171 ± 0.514)\n",
      "[17.03.2024 21:00] 4.0 Lauren, city, happy, travel, grateful, date, satisfied, tired\n",
      "[24.02.2024 13:05] 4.0 grateful, sad, unsure, city\n",
      "[16.02.2024 19:30] 3.5 city, date, Lauren\n",
      "[09.02.2024 23:06] 4.5 Lauren, city, happy, grateful, date, satisfied\n",
      "[27.01.2024 18:47] 4.0 city, satisfied, tired\n",
      "...\n"
     ]
    }
   ],
   "source": [
    "cycling_or_city_df = df.sub(include={'cycling', 'city'})\n",
    "cycling_or_city_df.head()"
   ]
  },
  {
   "cell_type": "markdown",
   "metadata": {},
   "source": [
    "- by excluded activities (entries which don't have any of the listed activities)\n",
    "\n",
    "_for both `include` and `exclude` the argument can be either `str` or `set[str]`_"
   ]
  },
  {
   "cell_type": "code",
   "execution_count": 6,
   "metadata": {},
   "outputs": [
    {
     "name": "stdout",
     "output_type": "stream",
     "text": [
      "Dataset(750 entries; last [1 hour 29 minutes 22 seconds ago]; mood: 3.778 ± 0.572)\n",
      "[02.04.2024 20:59] 4.0 home, relaxed, satisfied, unsure\n",
      "[02.04.2024 20:00] 4.5 cooking, home, happy, satisfied\n",
      "[02.04.2024 17:34] 4.0 study, work, relaxed, tired, coding, unsure, worked\n",
      "[01.04.2024 23:59] 3.0 coding, home, unsure\n",
      "[01.04.2024 13:20] 4.5 home, happy, satisfied, social\n",
      "...\n"
     ]
    }
   ],
   "source": [
    "without_friends = df.sub(exclude='friends')\n",
    "without_friends.head()"
   ]
  },
  {
   "cell_type": "markdown",
   "metadata": {},
   "source": [
    "- by mood values (can be either a value or a Container of values)"
   ]
  },
  {
   "cell_type": "code",
   "execution_count": 7,
   "metadata": {},
   "outputs": [
    {
     "data": {
      "text/plain": [
       "Dataset(34 entries; last [8 days 23 hours 27 minutes 22 seconds ago]; mood: 2.279 ± 0.252)"
      ]
     },
     "execution_count": 7,
     "metadata": {},
     "output_type": "execute_result"
    }
   ],
   "source": [
    "bad_mood = df.sub(mood=BAD_MOOD)\n",
    "bad_mood"
   ]
  },
  {
   "cell_type": "markdown",
   "metadata": {},
   "source": [
    "- by included activities ('and' operator: all entries which have all the listed activities)\n",
    "\n",
    "_Note: this is achieved by subscribing the dataset twice; since .sub method returns a new dataset, it can be done in one line._"
   ]
  },
  {
   "cell_type": "code",
   "execution_count": 8,
   "metadata": {},
   "outputs": [
    {
     "name": "stdout",
     "output_type": "stream",
     "text": [
      "Dataset(10 entries; last [5 months 20 days 18 minutes 22 seconds ago]; mood: 4.850 ± 0.474)\n",
      "[13.10.2023 20:10] 5.0 cycling, swimming, tired\n",
      "[16.09.2023 20:58] 5.0 swimming, cycling, relaxed, satisfied, tired\n",
      "[04.09.2023 20:44] 5.0 Damir, swimming, cycling, relaxed, satisfied, tired\n",
      "[22.08.2023 20:27] 5.0 swimming, friends, cycling, satisfied, tired\n",
      "[19.08.2023 20:32] 5.0 Damir, swimming, friends, cycling, relaxed, tired\n",
      "...\n",
      "[('cycling', 10), ('swimming', 10), ('tired', 10), ('satisfied', 7), ('relaxed', 6), ('friends', 6), ('Damir', 5)]\n"
     ]
    }
   ],
   "source": [
    "cycling_and_swimming = df.sub(include='cycling').sub(include='swimming')\n",
    "cycling_and_swimming.head()\n",
    "print(cycling_and_swimming.activities().most_common(7))"
   ]
  },
  {
   "cell_type": "code",
   "execution_count": 9,
   "metadata": {},
   "outputs": [
    {
     "data": {
      "text/plain": [
       "Dataset(24 entries; last [2 months 7 days 6 hours 25 minutes 22 seconds ago]; mood: 4.167 ± 0.458)"
      ]
     },
     "execution_count": 9,
     "metadata": {},
     "output_type": "execute_result"
    }
   ],
   "source": [
    "df.sub(include='cycling', exclude='swimming')"
   ]
  },
  {
   "cell_type": "markdown",
   "metadata": {},
   "source": [
    "- by a subtring (or substrings) in the `note`"
   ]
  },
  {
   "cell_type": "code",
   "execution_count": 10,
   "metadata": {},
   "outputs": [
    {
     "name": "stdout",
     "output_type": "stream",
     "text": [
      "Dataset(5 entries; last [25 days 5 hours 2 minutes 22 seconds ago]; mood: 3.900 ± 0.224)\n",
      "[08.03.2024 17:26] 4.0 annoyed, friends, happy, home, satisfied, amused, gaming, Leha\n",
      "[22.11.2023 21:41] 4.0 home, satisfied, Martina, movies & series, amused, gaming, Leha\n",
      "[07.07.2023 20:00] 3.5 shopping, dota, walking, friends, study, coding, unsure, gaming, Leha\n",
      "[03.07.2023 20:05] 4.0 excited, friends, happy, home, tired, coding, stressed, gaming, Leha\n",
      "[01.07.2023 20:00] 4.0 excited, friends, happy, relaxed, home, Martina, movies & series, gaming, Leha\n"
     ]
    }
   ],
   "source": [
    "df_ktane = df.sub(note_contains='ktane')\n",
    "df_ktane.head(-1)"
   ]
  },
  {
   "cell_type": "markdown",
   "metadata": {},
   "source": [
    "- by a predicate function (which takes an entry as an argument and returns a boolean)"
   ]
  },
  {
   "cell_type": "code",
   "execution_count": 11,
   "metadata": {},
   "outputs": [
    {
     "data": {
      "text/plain": [
       "Dataset(25 entries; last [2 days 2 hours 28 minutes 22 seconds ago]; mood: 4.720 ± 0.253)"
      ]
     },
     "execution_count": 11,
     "metadata": {},
     "output_type": "execute_result"
    }
   ],
   "source": [
    "from dataset import Entry\n",
    "\n",
    "\n",
    "def pred(entry: Entry) -> bool:\n",
    "    \"\"\"It is sunday, the mood > 4, the note is not empty\"\"\"\n",
    "    return entry.full_date.weekday() == 6 and entry.mood > 4 and entry.note != ''\n",
    "\n",
    "\n",
    "df_sunday_good_mood_has_note = df.sub(predicate=pred)\n",
    "df_sunday_good_mood_has_note"
   ]
  },
  {
   "cell_type": "markdown",
   "metadata": {},
   "source": [
    "### `.mood` and `.mood_std`"
   ]
  },
  {
   "cell_type": "markdown",
   "metadata": {},
   "source": [
    "Use the `.mood` method to get the average mood of all the entries in the dataset and the `.mood_std` method to get the standard deviation of the mood values.\n",
    "\n",
    "These values are also shown when calling `.head()`."
   ]
  },
  {
   "cell_type": "code",
   "execution_count": 12,
   "metadata": {},
   "outputs": [
    {
     "name": "stdout",
     "output_type": "stream",
     "text": [
      "4.171 0.514\n"
     ]
    }
   ],
   "source": [
    "print(\n",
    "    round(cycling_or_city_df.mood(), 3),\n",
    "    round(cycling_or_city_df.mood_std(), 3)\n",
    ")"
   ]
  },
  {
   "cell_type": "markdown",
   "metadata": {},
   "source": [
    "### `.activities`"
   ]
  },
  {
   "cell_type": "markdown",
   "metadata": {},
   "source": [
    "Use the `.activities` method to get a Counter object of all activities in the dataset"
   ]
  },
  {
   "cell_type": "code",
   "execution_count": 13,
   "metadata": {},
   "outputs": [
    {
     "name": "stdout",
     "output_type": "stream",
     "text": [
      "most common: [('home', 499), ('satisfied', 274), ('relaxed', 270)]\n",
      "least common: [('guitar', 2), ('homework', 2), ('Dad', 2), ('snacking', 3), ('cinema', 3)]\n"
     ]
    }
   ],
   "source": [
    "cnt = df.activities()\n",
    "print(f'most common: {cnt.most_common(3)}')\n",
    "print(f'least common: {cnt.most_common()[-1:-6:-1]}')"
   ]
  },
  {
   "cell_type": "markdown",
   "metadata": {},
   "source": [
    "### `.get_datetimes`"
   ]
  },
  {
   "cell_type": "markdown",
   "metadata": {},
   "source": [
    "Use the `.get_datetimes` method to get the list of all points in time when an entry was created. The values are sorted in descending order by the date of creation."
   ]
  },
  {
   "cell_type": "code",
   "execution_count": 14,
   "metadata": {},
   "outputs": [
    {
     "data": {
      "text/plain": [
       "[datetime.datetime(2024, 4, 2, 20, 59),\n",
       " datetime.datetime(2024, 4, 2, 20, 0),\n",
       " datetime.datetime(2024, 4, 2, 17, 34),\n",
       " datetime.datetime(2024, 4, 1, 23, 59),\n",
       " datetime.datetime(2024, 4, 1, 19, 40)]"
      ]
     },
     "execution_count": 14,
     "metadata": {},
     "output_type": "execute_result"
    }
   ],
   "source": [
    "df.get_datetimes()[:5]"
   ]
  },
  {
   "cell_type": "markdown",
   "metadata": {},
   "source": [
    "### `.group_by`\n",
    "Use the `.group_by` method to get a dictionary mapping groups to the list of entries in that group.\n",
    "\n",
    "The groups are one of `['day', 'month']` and the entries are sorted in ascending order.\n",
    "\n",
    "Note: this method (like many others) uses lru_cache and since the Dataset is weakly-immutable, it is safe to use it."
   ]
  },
  {
   "cell_type": "code",
   "execution_count": 15,
   "metadata": {},
   "outputs": [
    {
     "name": "stdout",
     "output_type": "stream",
     "text": [
      "2023-07-01: 1\n"
     ]
    }
   ],
   "source": [
    "groups = df.group_by('day')\n",
    "for day, entries in groups.items():\n",
    "    print(f'{day}: {len(entries)}')\n",
    "    break"
   ]
  },
  {
   "cell_type": "code",
   "execution_count": 16,
   "metadata": {},
   "outputs": [
    {
     "name": "stdout",
     "output_type": "stream",
     "text": [
      "2023-07-01: 95\n"
     ]
    }
   ],
   "source": [
    "groups = df.group_by('month')\n",
    "for day, entries in groups.items():\n",
    "    print(f'{day}: {len(entries)}')\n",
    "    break"
   ]
  },
  {
   "cell_type": "markdown",
   "metadata": {},
   "source": [
    "### `.stats`\n",
    "\n",
    "Use the `.stats` method to get a custom StatsResult object which contains the following information:"
   ]
  },
  {
   "cell_type": "code",
   "execution_count": 17,
   "metadata": {},
   "outputs": [
    {
     "name": "stdout",
     "output_type": "stream",
     "text": [
      "Help on method stats in module dataset:\n",
      "\n",
      "stats() -> utils.StatsResult method of dataset.Dataset instance\n",
      "    Returns the following statistics:\n",
      "        - mood (avg ± std)\n",
      "        - note length [num symbols] (avg ± std)\n",
      "        - entries frequency [entries per day] (median)\n",
      "    as a StatsResult object.\n",
      "\n"
     ]
    }
   ],
   "source": [
    "help(df.stats)"
   ]
  },
  {
   "cell_type": "code",
   "execution_count": 18,
   "metadata": {},
   "outputs": [
    {
     "data": {
      "text/plain": [
       "Mood: 3.748 ± 0.516\n",
       "Note length: 38.305 ± 60.708 symbols\n",
       "Entries frequency: 3.337 entries per day (once every 7 hours 11 minutes 29 seconds)"
      ]
     },
     "execution_count": 18,
     "metadata": {},
     "output_type": "execute_result"
    }
   ],
   "source": [
    "df.sub(include='home').stats()"
   ]
  },
  {
   "cell_type": "markdown",
   "metadata": {},
   "source": [
    "### `.__iter__`\n",
    "`Dataset` defines `__iter__` method, so it can be used in `for` loops. The entries are sorted in descending order by the date of creation."
   ]
  },
  {
   "cell_type": "code",
   "execution_count": 19,
   "metadata": {},
   "outputs": [
    {
     "name": "stdout",
     "output_type": "stream",
     "text": [
      "[02.04.2024 20:59] 4.0 home, relaxed, satisfied, unsure\n",
      "[02.04.2024 20:59] 4.0 home, relaxed, satisfied, unsure; [02.04.2024 20:00] 4.5 cooking, home, happy, satisfied\n"
     ]
    }
   ],
   "source": [
    "for entry in df:\n",
    "    print(entry)\n",
    "    break\n",
    "# or\n",
    "df_iter = iter(df)\n",
    "print(next(df_iter), next(df_iter), sep='; ')"
   ]
  },
  {
   "cell_type": "markdown",
   "metadata": {},
   "source": [
    "### `.__getitem__`\n",
    "`Dataset` defines `__getitem__` method where the argument is \n",
    "- a date in a string format (e.g. `'01.01.2024'`), returns a new Dataset with all entries on that date;\n",
    "- a slice object (e.g. `slice('01.01.2024', '01.01.2025')`), returns a new Dataset with all entries which were created between the two dates (the \"stop\" date is not included);"
   ]
  },
  {
   "cell_type": "code",
   "execution_count": 20,
   "metadata": {},
   "outputs": [],
   "source": [
    "july22 = df['22.07.2023']"
   ]
  },
  {
   "cell_type": "code",
   "execution_count": 21,
   "metadata": {},
   "outputs": [
    {
     "data": {
      "text/plain": [
       "Dataset(6 entries; last [8 months 11 days 16 hours 11 minutes 22 seconds ago]; mood: 3.583 ± 0.376)"
      ]
     },
     "execution_count": 21,
     "metadata": {},
     "output_type": "execute_result"
    }
   ],
   "source": [
    "july22"
   ]
  },
  {
   "cell_type": "markdown",
   "metadata": {},
   "source": [
    "- by a particular date period (by using slices)"
   ]
  },
  {
   "cell_type": "code",
   "execution_count": 22,
   "metadata": {},
   "outputs": [
    {
     "data": {
      "text/plain": [
       "Dataset(16 entries; last [2 months 30 days 2 hours 33 minutes 22 seconds ago]; mood: 3.969 ± 0.499)"
      ]
     },
     "execution_count": 22,
     "metadata": {},
     "output_type": "execute_result"
    }
   ],
   "source": [
    "ny_eve = df['29.12.2023':'03.01.2024']\n",
    "ny_eve"
   ]
  },
  {
   "cell_type": "code",
   "execution_count": 23,
   "metadata": {},
   "outputs": [
    {
     "name": "stdout",
     "output_type": "stream",
     "text": [
      "Dataset(5 entries; last [4 months 2 days 6 hours 51 minutes 22 seconds ago]; mood: 3.700 ± 0.274)\n",
      "[30.11.2023 23:37] 3.5 Lauren, city, date, tired\n",
      "[30.11.2023 17:06] 4.0 coding, excited, home, satisfied\n",
      "[30.11.2023 11:07] 3.5 coding, home, unsure, Leha\n",
      "[29.11.2023 21:20] 3.5 Azat, social, amused, gaming, Leha\n",
      "[29.11.2023 16:42] 4.0 excited, happy, home, satisfied, coding\n"
     ]
    }
   ],
   "source": [
    "end_of_november_2023 = df['29.11.2023':'01.12.2023']\n",
    "end_of_november_2023.head()"
   ]
  },
  {
   "cell_type": "code",
   "execution_count": 24,
   "metadata": {},
   "outputs": [
    {
     "name": "stdout",
     "output_type": "stream",
     "text": [
      "Dataset(95 entries; last [8 months 2 days 19 hours 34 minutes 22 seconds ago]; mood: 3.589 ± 0.688)\n",
      "[31.07.2023 18:54] 3.5 cleaning, relaxed\n",
      "[31.07.2023 17:22] 3.0 study, home, tired, unsure\n",
      "[31.07.2023 16:45] 4.0 study, home, relaxed, satisfied, cooking\n",
      "[31.07.2023 12:00] 3.5 procrastinating, bored, home, relaxed, unsure\n",
      "[30.07.2023 23:26] 4.0 Lauren, friends, happy, grateful, home, amused, laundry\n",
      "...\n"
     ]
    }
   ],
   "source": [
    "before_aug_2023 = df[:'01.08.2023']\n",
    "before_aug_2023.head()"
   ]
  },
  {
   "cell_type": "markdown",
   "metadata": {},
   "source": [
    "### `__call__`\n",
    "Return a list of entries for a particular day. The argument is a date in a string format (e.g. `'01.01.2024'`)."
   ]
  },
  {
   "cell_type": "code",
   "execution_count": 25,
   "metadata": {},
   "outputs": [
    {
     "data": {
      "text/plain": [
       "[[31.12.2023 16:48] 4.5 excited, Lauren, happy, home, date, movies & series, cooking,\n",
       " [31.12.2023 16:48] 2.5 photography, sad, annoyed, Lauren, date, city,\n",
       " [31.12.2023 21:51] 3.5 Lauren, home, date, satisfied, movies & series, cooking,\n",
       " [31.12.2023 22:21] 4.0 happy, home, Mom, nervous, family, Dad,\n",
       " [31.12.2023 23:57] 4.0 happy, date, Lauren]"
      ]
     },
     "execution_count": 25,
     "metadata": {},
     "output_type": "execute_result"
    }
   ],
   "source": [
    "ny_entries = df('31.12.2023')\n",
    "ny_entries"
   ]
  },
  {
   "cell_type": "markdown",
   "metadata": {},
   "source": [
    "### `@ <datetime_string>` (or `.at`)\n",
    "Returns a single entry created at a particular datetime or `None` if there are no entries created at that datetime.\n",
    "\n",
    "Input: a datetime in a string format (e.g. `'01.01.2024 12:00'`)."
   ]
  },
  {
   "cell_type": "code",
   "execution_count": 26,
   "metadata": {},
   "outputs": [
    {
     "data": {
      "text/plain": [
       "[22.07.2023 17:09] 3.5 study, home, relaxed, cooking"
      ]
     },
     "execution_count": 26,
     "metadata": {},
     "output_type": "execute_result"
    }
   ],
   "source": [
    "# or\n",
    "entry = df @ '22.07.2023 17:09' # or df.at(...)\n",
    "entry"
   ]
  },
  {
   "cell_type": "markdown",
   "metadata": {},
   "source": [
    "# Analysis examples"
   ]
  },
  {
   "cell_type": "markdown",
   "metadata": {},
   "source": [
    "## Mood analysis"
   ]
  },
  {
   "cell_type": "code",
   "execution_count": 27,
   "metadata": {},
   "outputs": [],
   "source": [
    "activity = 'cycling'\n",
    "mood_with, mood_without = df.mood_with_without(activity)"
   ]
  },
  {
   "cell_type": "code",
   "execution_count": 28,
   "metadata": {},
   "outputs": [
    {
     "name": "stdout",
     "output_type": "stream",
     "text": [
      "\"cycling\"\n",
      "with: 4.37\n",
      "without: 3.78\n",
      "change: 15.5%\n"
     ]
    }
   ],
   "source": [
    "print(f'''\"{activity}\"\n",
    "with: {mood_with:.2f}\n",
    "without: {mood_without:.2f}\n",
    "change: {(mood_with - mood_without)/mood_without:.1%}'''\n",
    ")"
   ]
  },
  {
   "cell_type": "markdown",
   "metadata": {},
   "source": [
    "## Complete analysis"
   ]
  },
  {
   "cell_type": "code",
   "execution_count": 29,
   "metadata": {},
   "outputs": [],
   "source": [
    "complete_analysis = df.complete_analysis()"
   ]
  },
  {
   "cell_type": "code",
   "execution_count": 30,
   "metadata": {},
   "outputs": [
    {
     "name": "stdout",
     "output_type": "stream",
     "text": [
      "analysed 52 actvities\n",
      "[     happy     ]: 18.7% (with: 4.34, without: 3.66); occured 183 times\n",
      "[   swimming    ]: 17.1% (with: 4.43, without: 3.78); occured 28 times\n",
      "[    cycling    ]: 15.5% (with: 4.37, without: 3.78); occured 34 times\n",
      "[   grateful    ]: 14.9% (with: 4.30, without: 3.74); occured 91 times\n",
      "[     Damir     ]: 13.2% (with: 4.29, without: 3.79); occured 24 times\n",
      "[   satisfied   ]: 11.5% (with: 4.09, without: 3.67); occured 274 times\n",
      "[     city      ]: 9.7% (with: 4.15, without: 3.78); occured 51 times\n",
      "[    Lauren     ]: 9.2% (with: 4.07, without: 3.72); occured 201 times\n",
      "[    nervous    ]: -13.3% (with: 3.31, without: 3.82); occured 21 times\n",
      "[   stressed    ]: -18.0% (with: 3.12, without: 3.81); occured 12 times\n",
      "[    worried    ]: -18.1% (with: 3.13, without: 3.83); occured 30 times\n",
      "[     sick      ]: -20.0% (with: 3.06, without: 3.82); occured 18 times\n",
      "[      sad      ]: -21.2% (with: 3.02, without: 3.83); occured 29 times\n",
      "[    annoyed    ]: -21.5% (with: 3.00, without: 3.82); occured 21 times\n",
      "[    anxious    ]: -22.3% (with: 3.00, without: 3.86); occured 56 times\n",
      "[     angry     ]: -40.3% (with: 2.29, without: 3.83); occured 14 times\n"
     ]
    }
   ],
   "source": [
    "print(f'analysed {len(complete_analysis)} actvities')\n",
    "for _name, _with, _without, _change, _num_occ in complete_analysis[:8] + complete_analysis[-8:]:\n",
    "    print(f'[{_name:^15}]: {_change:.1%} (with: {_with:.2f}, without: {_without:.2f}); occured {_num_occ} times')"
   ]
  },
  {
   "cell_type": "markdown",
   "metadata": {},
   "source": [
    "## Mood scatter plot (per day/month)"
   ]
  },
  {
   "cell_type": "code",
   "execution_count": 31,
   "metadata": {},
   "outputs": [
    {
     "data": {
      "application/vnd.plotly.v1+json": {
       "config": {
        "plotlyServerURL": "https://plot.ly"
       },
       "data": [
        {
         "line": {
          "color": "rgb(31, 119, 180)"
         },
         "marker": {
          "color": [
           1,
           1,
           2,
           1,
           1,
           2,
           1,
           3,
           3,
           2,
           2,
           2,
           3,
           2,
           1,
           1,
           4,
           5,
           4,
           4,
           7,
           6,
           4,
           3,
           5,
           5,
           4,
           5,
           3,
           4,
           4,
           8,
           5,
           6,
           3,
           4,
           4,
           5,
           6,
           4,
           4,
           5,
           3,
           5,
           1,
           2,
           3,
           1,
           2,
           3,
           2,
           3,
           3,
           1,
           2,
           2,
           1,
           2,
           2,
           2,
           2,
           1,
           2,
           3,
           3,
           1,
           2,
           2,
           1,
           2,
           1,
           2,
           2,
           2,
           2,
           2,
           3,
           1,
           2,
           1,
           1,
           2,
           2,
           3,
           2,
           1,
           2,
           1,
           3,
           1,
           2,
           4,
           5,
           2,
           2,
           2,
           2,
           4,
           3,
           2,
           1,
           3,
           1,
           1,
           2,
           1,
           2,
           2,
           1,
           4,
           3,
           2,
           1,
           1,
           3,
           2,
           2,
           2,
           4,
           2,
           2,
           3,
           4,
           5,
           3,
           5,
           6,
           4,
           3,
           6,
           4,
           3,
           6,
           3,
           4,
           4,
           5,
           3,
           4,
           4,
           2,
           5,
           2,
           1,
           2,
           2,
           4,
           2,
           2,
           3,
           7,
           2,
           3,
           3,
           4,
           4,
           1,
           2,
           2,
           2,
           3,
           5,
           2,
           1,
           2,
           6,
           3,
           3,
           2,
           4,
           4,
           3,
           3,
           5,
           3,
           4,
           2,
           2,
           5,
           3,
           2,
           3,
           2,
           5,
           3,
           3,
           2,
           5,
           3,
           2,
           3,
           1,
           1,
           2,
           3,
           3,
           4,
           4,
           1,
           3,
           3,
           2,
           1,
           3,
           1,
           6,
           3,
           5,
           5,
           5,
           4,
           2,
           5,
           3,
           3,
           3,
           3,
           3,
           5,
           5,
           4,
           4,
           5,
           5,
           2,
           2,
           3,
           5,
           4,
           5,
           6,
           3,
           4,
           4,
           2,
           3,
           3,
           4,
           3,
           4,
           3,
           5,
           3,
           3,
           3,
           7,
           3,
           2,
           4,
           2,
           3,
           6,
           8,
           2,
           2,
           3,
           5,
           7,
           5,
           7,
           3,
           5,
           3,
           2,
           3,
           1,
           5,
           4,
           3,
           6,
           3,
           4,
           4,
           4,
           4,
           5,
           3
          ],
          "colorbar": {
           "title": {
            "text": "Number of entries"
           }
          },
          "colorscale": [
           [
            0,
            "rgb(0,0,255)"
           ],
           [
            1,
            "rgb(255,0,0)"
           ]
          ],
          "showscale": true,
          "size": 5
         },
         "mode": "lines+markers",
         "name": "avg",
         "type": "scatter",
         "x": [
          "2023-07-01",
          "2023-07-02",
          "2023-07-03",
          "2023-07-04",
          "2023-07-05",
          "2023-07-06",
          "2023-07-07",
          "2023-07-08",
          "2023-07-09",
          "2023-07-10",
          "2023-07-11",
          "2023-07-12",
          "2023-07-13",
          "2023-07-14",
          "2023-07-15",
          "2023-07-16",
          "2023-07-17",
          "2023-07-18",
          "2023-07-19",
          "2023-07-20",
          "2023-07-21",
          "2023-07-22",
          "2023-07-23",
          "2023-07-24",
          "2023-07-25",
          "2023-07-26",
          "2023-07-27",
          "2023-07-28",
          "2023-07-29",
          "2023-07-30",
          "2023-07-31",
          "2023-08-01",
          "2023-08-02",
          "2023-08-03",
          "2023-08-04",
          "2023-08-05",
          "2023-08-06",
          "2023-08-07",
          "2023-08-08",
          "2023-08-09",
          "2023-08-10",
          "2023-08-11",
          "2023-08-12",
          "2023-08-13",
          "2023-08-14",
          "2023-08-15",
          "2023-08-16",
          "2023-08-17",
          "2023-08-18",
          "2023-08-19",
          "2023-08-20",
          "2023-08-21",
          "2023-08-22",
          "2023-08-23",
          "2023-08-24",
          "2023-08-25",
          "2023-08-26",
          "2023-08-27",
          "2023-08-28",
          "2023-08-29",
          "2023-08-30",
          "2023-08-31",
          "2023-09-01",
          "2023-09-02",
          "2023-09-03",
          "2023-09-04",
          "2023-09-05",
          "2023-09-06",
          "2023-09-07",
          "2023-09-08",
          "2023-09-09",
          "2023-09-10",
          "2023-09-11",
          "2023-09-12",
          "2023-09-13",
          "2023-09-14",
          "2023-09-15",
          "2023-09-16",
          "2023-09-17",
          "2023-09-18",
          "2023-09-19",
          "2023-09-20",
          "2023-09-21",
          "2023-09-22",
          "2023-09-23",
          "2023-09-24",
          "2023-09-25",
          "2023-09-26",
          "2023-09-27",
          "2023-09-28",
          "2023-09-29",
          "2023-09-30",
          "2023-10-01",
          "2023-10-02",
          "2023-10-03",
          "2023-10-04",
          "2023-10-05",
          "2023-10-06",
          "2023-10-07",
          "2023-10-08",
          "2023-10-09",
          "2023-10-10",
          "2023-10-11",
          "2023-10-12",
          "2023-10-13",
          "2023-10-14",
          "2023-10-15",
          "2023-10-16",
          "2023-10-17",
          "2023-10-18",
          "2023-10-19",
          "2023-10-20",
          "2023-10-21",
          "2023-10-22",
          "2023-10-23",
          "2023-10-24",
          "2023-10-25",
          "2023-10-26",
          "2023-10-27",
          "2023-10-28",
          "2023-10-29",
          "2023-10-30",
          "2023-10-31",
          "2023-11-01",
          "2023-11-02",
          "2023-11-03",
          "2023-11-04",
          "2023-11-05",
          "2023-11-06",
          "2023-11-07",
          "2023-11-08",
          "2023-11-09",
          "2023-11-10",
          "2023-11-11",
          "2023-11-12",
          "2023-11-13",
          "2023-11-14",
          "2023-11-15",
          "2023-11-16",
          "2023-11-17",
          "2023-11-18",
          "2023-11-19",
          "2023-11-20",
          "2023-11-21",
          "2023-11-22",
          "2023-11-23",
          "2023-11-24",
          "2023-11-25",
          "2023-11-26",
          "2023-11-27",
          "2023-11-28",
          "2023-11-29",
          "2023-11-30",
          "2023-12-01",
          "2023-12-02",
          "2023-12-03",
          "2023-12-04",
          "2023-12-05",
          "2023-12-06",
          "2023-12-07",
          "2023-12-08",
          "2023-12-09",
          "2023-12-10",
          "2023-12-11",
          "2023-12-12",
          "2023-12-13",
          "2023-12-14",
          "2023-12-15",
          "2023-12-16",
          "2023-12-17",
          "2023-12-18",
          "2023-12-19",
          "2023-12-20",
          "2023-12-21",
          "2023-12-22",
          "2023-12-23",
          "2023-12-24",
          "2023-12-25",
          "2023-12-26",
          "2023-12-27",
          "2023-12-28",
          "2023-12-29",
          "2023-12-30",
          "2023-12-31",
          "2024-01-01",
          "2024-01-02",
          "2024-01-03",
          "2024-01-04",
          "2024-01-05",
          "2024-01-06",
          "2024-01-07",
          "2024-01-08",
          "2024-01-09",
          "2024-01-10",
          "2024-01-11",
          "2024-01-12",
          "2024-01-13",
          "2024-01-14",
          "2024-01-15",
          "2024-01-16",
          "2024-01-17",
          "2024-01-18",
          "2024-01-19",
          "2024-01-20",
          "2024-01-21",
          "2024-01-22",
          "2024-01-23",
          "2024-01-24",
          "2024-01-25",
          "2024-01-26",
          "2024-01-27",
          "2024-01-28",
          "2024-01-29",
          "2024-01-30",
          "2024-01-31",
          "2024-02-01",
          "2024-02-02",
          "2024-02-03",
          "2024-02-04",
          "2024-02-05",
          "2024-02-06",
          "2024-02-07",
          "2024-02-08",
          "2024-02-09",
          "2024-02-10",
          "2024-02-11",
          "2024-02-12",
          "2024-02-13",
          "2024-02-14",
          "2024-02-15",
          "2024-02-16",
          "2024-02-17",
          "2024-02-18",
          "2024-02-19",
          "2024-02-20",
          "2024-02-21",
          "2024-02-22",
          "2024-02-23",
          "2024-02-24",
          "2024-02-25",
          "2024-02-26",
          "2024-02-27",
          "2024-02-28",
          "2024-02-29",
          "2024-03-01",
          "2024-03-02",
          "2024-03-03",
          "2024-03-04",
          "2024-03-05",
          "2024-03-06",
          "2024-03-07",
          "2024-03-08",
          "2024-03-09",
          "2024-03-10",
          "2024-03-11",
          "2024-03-12",
          "2024-03-13",
          "2024-03-14",
          "2024-03-15",
          "2024-03-16",
          "2024-03-17",
          "2024-03-18",
          "2024-03-19",
          "2024-03-20",
          "2024-03-21",
          "2024-03-22",
          "2024-03-23",
          "2024-03-24",
          "2024-03-25",
          "2024-03-26",
          "2024-03-27",
          "2024-03-28",
          "2024-03-29",
          "2024-03-30",
          "2024-03-31",
          "2024-04-01",
          "2024-04-02"
         ],
         "y": [
          4,
          4,
          4.5,
          3,
          4,
          4,
          3.5,
          4,
          3.1666666666666665,
          4.5,
          3.75,
          3.25,
          4.333333333333333,
          4.5,
          3,
          4,
          3.125,
          4.4,
          3.375,
          3.375,
          3.2857142857142856,
          3.5833333333333335,
          3.5,
          3.5,
          3.4,
          3.1,
          3.75,
          3.4,
          3.3333333333333335,
          3.25,
          3.5,
          3.8125,
          4.1,
          3.75,
          3.8333333333333335,
          3.875,
          3.25,
          3.6,
          4.166666666666667,
          3.75,
          3.875,
          3.8,
          4,
          4.1,
          4,
          3.75,
          4.166666666666667,
          3.5,
          4,
          4.333333333333333,
          3.75,
          3.8333333333333335,
          4.333333333333333,
          4,
          3,
          3.75,
          4,
          2.25,
          4,
          3,
          4,
          4,
          4.5,
          3.8333333333333335,
          4,
          5,
          4,
          3.5,
          4,
          4,
          4,
          4.5,
          3.75,
          4.5,
          4,
          3.25,
          3.8333333333333335,
          5,
          4,
          3.5,
          4,
          4,
          4,
          3.8333333333333335,
          4,
          4,
          4,
          4,
          4.166666666666667,
          4,
          3.75,
          3.625,
          4.1,
          4.25,
          4.5,
          4.5,
          3.75,
          4,
          3.8333333333333335,
          3.75,
          4,
          3.5,
          4,
          4,
          4.25,
          4,
          5,
          3.5,
          4,
          4.625,
          4.166666666666667,
          4.25,
          4,
          4,
          3.6666666666666665,
          3.25,
          3.75,
          3.75,
          4.25,
          5.5,
          4.5,
          4.166666666666667,
          3.375,
          4.1,
          3.8333333333333335,
          3.5,
          3.9166666666666665,
          3.375,
          3.5,
          3.75,
          4.25,
          4.166666666666667,
          3.4166666666666665,
          4.666666666666667,
          4.75,
          3.875,
          3.5,
          3.6666666666666665,
          3.875,
          3.125,
          4,
          3.4,
          3.5,
          3,
          4,
          3.75,
          4,
          4,
          4,
          3.8333333333333335,
          3.642857142857143,
          3.75,
          3.6666666666666665,
          3.3333333333333335,
          3.75,
          3.875,
          4,
          3.25,
          4,
          3.75,
          3.6666666666666665,
          3.7,
          4.25,
          4,
          3.75,
          4.166666666666667,
          4,
          4,
          5,
          3.875,
          4,
          3.8333333333333335,
          3.8333333333333335,
          3.8,
          3.8333333333333335,
          4.25,
          3.75,
          4.5,
          4.1,
          4.166666666666667,
          3,
          4.333333333333333,
          3.75,
          3.7,
          4,
          4.166666666666667,
          3.75,
          3.9,
          4.166666666666667,
          3.75,
          4.333333333333333,
          3.5,
          4,
          3.75,
          4,
          4.166666666666667,
          3.625,
          4.125,
          4,
          4,
          4,
          3.75,
          4.5,
          4.333333333333333,
          4.5,
          4.083333333333333,
          4.333333333333333,
          3.6,
          3.8,
          3.6,
          3.875,
          3.5,
          3.6,
          3.6666666666666665,
          3.5,
          4,
          3.8333333333333335,
          4.166666666666667,
          4.2,
          3.3,
          4.25,
          3.75,
          3.7,
          3.8,
          4.75,
          4,
          3.3333333333333335,
          3.1,
          3.125,
          3.6,
          2.8333333333333335,
          3.6666666666666665,
          4.25,
          3.5,
          3.5,
          3.6666666666666665,
          3.6666666666666665,
          3.125,
          3.8333333333333335,
          3.5,
          3.6666666666666665,
          3.9,
          4,
          3.5,
          2.6666666666666665,
          3,
          3.1666666666666665,
          3.25,
          3.75,
          3.5,
          3.3333333333333335,
          3.75,
          3.75,
          3.75,
          4,
          3.6666666666666665,
          3.8,
          3.7142857142857144,
          3.8,
          3.7857142857142856,
          3.8333333333333335,
          4.2,
          3.8333333333333335,
          3.75,
          4,
          4,
          3.9,
          3.625,
          3.6666666666666665,
          3.8333333333333335,
          3.8333333333333335,
          3.75,
          3.875,
          3.5,
          4,
          3.9,
          4.166666666666667
         ]
        },
        {
         "line": {
          "width": 0
         },
         "marker": {
          "color": "#444"
         },
         "mode": "lines",
         "name": "max",
         "showlegend": false,
         "type": "scatter",
         "x": [
          "2023-07-01",
          "2023-07-02",
          "2023-07-03",
          "2023-07-04",
          "2023-07-05",
          "2023-07-06",
          "2023-07-07",
          "2023-07-08",
          "2023-07-09",
          "2023-07-10",
          "2023-07-11",
          "2023-07-12",
          "2023-07-13",
          "2023-07-14",
          "2023-07-15",
          "2023-07-16",
          "2023-07-17",
          "2023-07-18",
          "2023-07-19",
          "2023-07-20",
          "2023-07-21",
          "2023-07-22",
          "2023-07-23",
          "2023-07-24",
          "2023-07-25",
          "2023-07-26",
          "2023-07-27",
          "2023-07-28",
          "2023-07-29",
          "2023-07-30",
          "2023-07-31",
          "2023-08-01",
          "2023-08-02",
          "2023-08-03",
          "2023-08-04",
          "2023-08-05",
          "2023-08-06",
          "2023-08-07",
          "2023-08-08",
          "2023-08-09",
          "2023-08-10",
          "2023-08-11",
          "2023-08-12",
          "2023-08-13",
          "2023-08-14",
          "2023-08-15",
          "2023-08-16",
          "2023-08-17",
          "2023-08-18",
          "2023-08-19",
          "2023-08-20",
          "2023-08-21",
          "2023-08-22",
          "2023-08-23",
          "2023-08-24",
          "2023-08-25",
          "2023-08-26",
          "2023-08-27",
          "2023-08-28",
          "2023-08-29",
          "2023-08-30",
          "2023-08-31",
          "2023-09-01",
          "2023-09-02",
          "2023-09-03",
          "2023-09-04",
          "2023-09-05",
          "2023-09-06",
          "2023-09-07",
          "2023-09-08",
          "2023-09-09",
          "2023-09-10",
          "2023-09-11",
          "2023-09-12",
          "2023-09-13",
          "2023-09-14",
          "2023-09-15",
          "2023-09-16",
          "2023-09-17",
          "2023-09-18",
          "2023-09-19",
          "2023-09-20",
          "2023-09-21",
          "2023-09-22",
          "2023-09-23",
          "2023-09-24",
          "2023-09-25",
          "2023-09-26",
          "2023-09-27",
          "2023-09-28",
          "2023-09-29",
          "2023-09-30",
          "2023-10-01",
          "2023-10-02",
          "2023-10-03",
          "2023-10-04",
          "2023-10-05",
          "2023-10-06",
          "2023-10-07",
          "2023-10-08",
          "2023-10-09",
          "2023-10-10",
          "2023-10-11",
          "2023-10-12",
          "2023-10-13",
          "2023-10-14",
          "2023-10-15",
          "2023-10-16",
          "2023-10-17",
          "2023-10-18",
          "2023-10-19",
          "2023-10-20",
          "2023-10-21",
          "2023-10-22",
          "2023-10-23",
          "2023-10-24",
          "2023-10-25",
          "2023-10-26",
          "2023-10-27",
          "2023-10-28",
          "2023-10-29",
          "2023-10-30",
          "2023-10-31",
          "2023-11-01",
          "2023-11-02",
          "2023-11-03",
          "2023-11-04",
          "2023-11-05",
          "2023-11-06",
          "2023-11-07",
          "2023-11-08",
          "2023-11-09",
          "2023-11-10",
          "2023-11-11",
          "2023-11-12",
          "2023-11-13",
          "2023-11-14",
          "2023-11-15",
          "2023-11-16",
          "2023-11-17",
          "2023-11-18",
          "2023-11-19",
          "2023-11-20",
          "2023-11-21",
          "2023-11-22",
          "2023-11-23",
          "2023-11-24",
          "2023-11-25",
          "2023-11-26",
          "2023-11-27",
          "2023-11-28",
          "2023-11-29",
          "2023-11-30",
          "2023-12-01",
          "2023-12-02",
          "2023-12-03",
          "2023-12-04",
          "2023-12-05",
          "2023-12-06",
          "2023-12-07",
          "2023-12-08",
          "2023-12-09",
          "2023-12-10",
          "2023-12-11",
          "2023-12-12",
          "2023-12-13",
          "2023-12-14",
          "2023-12-15",
          "2023-12-16",
          "2023-12-17",
          "2023-12-18",
          "2023-12-19",
          "2023-12-20",
          "2023-12-21",
          "2023-12-22",
          "2023-12-23",
          "2023-12-24",
          "2023-12-25",
          "2023-12-26",
          "2023-12-27",
          "2023-12-28",
          "2023-12-29",
          "2023-12-30",
          "2023-12-31",
          "2024-01-01",
          "2024-01-02",
          "2024-01-03",
          "2024-01-04",
          "2024-01-05",
          "2024-01-06",
          "2024-01-07",
          "2024-01-08",
          "2024-01-09",
          "2024-01-10",
          "2024-01-11",
          "2024-01-12",
          "2024-01-13",
          "2024-01-14",
          "2024-01-15",
          "2024-01-16",
          "2024-01-17",
          "2024-01-18",
          "2024-01-19",
          "2024-01-20",
          "2024-01-21",
          "2024-01-22",
          "2024-01-23",
          "2024-01-24",
          "2024-01-25",
          "2024-01-26",
          "2024-01-27",
          "2024-01-28",
          "2024-01-29",
          "2024-01-30",
          "2024-01-31",
          "2024-02-01",
          "2024-02-02",
          "2024-02-03",
          "2024-02-04",
          "2024-02-05",
          "2024-02-06",
          "2024-02-07",
          "2024-02-08",
          "2024-02-09",
          "2024-02-10",
          "2024-02-11",
          "2024-02-12",
          "2024-02-13",
          "2024-02-14",
          "2024-02-15",
          "2024-02-16",
          "2024-02-17",
          "2024-02-18",
          "2024-02-19",
          "2024-02-20",
          "2024-02-21",
          "2024-02-22",
          "2024-02-23",
          "2024-02-24",
          "2024-02-25",
          "2024-02-26",
          "2024-02-27",
          "2024-02-28",
          "2024-02-29",
          "2024-03-01",
          "2024-03-02",
          "2024-03-03",
          "2024-03-04",
          "2024-03-05",
          "2024-03-06",
          "2024-03-07",
          "2024-03-08",
          "2024-03-09",
          "2024-03-10",
          "2024-03-11",
          "2024-03-12",
          "2024-03-13",
          "2024-03-14",
          "2024-03-15",
          "2024-03-16",
          "2024-03-17",
          "2024-03-18",
          "2024-03-19",
          "2024-03-20",
          "2024-03-21",
          "2024-03-22",
          "2024-03-23",
          "2024-03-24",
          "2024-03-25",
          "2024-03-26",
          "2024-03-27",
          "2024-03-28",
          "2024-03-29",
          "2024-03-30",
          "2024-03-31",
          "2024-04-01",
          "2024-04-02"
         ],
         "y": [
          4,
          4,
          5,
          3,
          4,
          4,
          3.5,
          5,
          4,
          5,
          4,
          3.5,
          5,
          5,
          3,
          4,
          4,
          5,
          4,
          4,
          4,
          4,
          3.5,
          4,
          4,
          4,
          4,
          4,
          4,
          4,
          4,
          5,
          5,
          4,
          4,
          4,
          4,
          4,
          5,
          5,
          4,
          4,
          4,
          5,
          4,
          4,
          5,
          3.5,
          4,
          5,
          4,
          4,
          5,
          4,
          3,
          4,
          4,
          2.5,
          4,
          4,
          4,
          4,
          5,
          4,
          4,
          5,
          4,
          3.5,
          4,
          4,
          4,
          5,
          4,
          5,
          4,
          3.5,
          4,
          5,
          4,
          3.5,
          4,
          4,
          4,
          4,
          4,
          4,
          4,
          4,
          5,
          4,
          4,
          4,
          5,
          5,
          5,
          5,
          4,
          5,
          4,
          4,
          4,
          3.5,
          4,
          4,
          5,
          4,
          5,
          3.5,
          4,
          6,
          5,
          5,
          4,
          4,
          4,
          3.5,
          4,
          4,
          5,
          6,
          5,
          5,
          3.5,
          5,
          4,
          4,
          4,
          4,
          4,
          4,
          5,
          5,
          4,
          5,
          5,
          4,
          4,
          4,
          5,
          3.5,
          4,
          4,
          3.5,
          3,
          4,
          4,
          4,
          4,
          4,
          4,
          4,
          4,
          4,
          3.5,
          4,
          4,
          4,
          3.5,
          4,
          4,
          4,
          4,
          4.5,
          4,
          4,
          5,
          4.5,
          4,
          5,
          5,
          4,
          4,
          4,
          4,
          4,
          5,
          4.5,
          5,
          5,
          4.5,
          4,
          4.5,
          4,
          4.5,
          4,
          4.5,
          4,
          4,
          4.5,
          4,
          4.5,
          3.5,
          4,
          4,
          4.5,
          4.5,
          4,
          4.5,
          4,
          4.5,
          4,
          4,
          4.5,
          5,
          4.5,
          5,
          5,
          4.5,
          4,
          4,
          4,
          3.5,
          4,
          4,
          4,
          4.5,
          4,
          4.5,
          5,
          4,
          5,
          4,
          4,
          4.5,
          5,
          4,
          3.5,
          3.5,
          3.5,
          4,
          3.5,
          4,
          4.5,
          3.5,
          3.5,
          4,
          4,
          4,
          4,
          4.5,
          4,
          4.5,
          4,
          4,
          3.5,
          3.5,
          4,
          3.5,
          4,
          3.5,
          3.5,
          4,
          4.5,
          4,
          4.5,
          4,
          4,
          4,
          4.5,
          4.5,
          4,
          4.5,
          4,
          4,
          4,
          4,
          4.5,
          4.5,
          4,
          4,
          4,
          4,
          4.5,
          4,
          4.5,
          4.5,
          4.5
         ]
        },
        {
         "fill": "tonexty",
         "fillcolor": "rgba(130, 130, 130, 0.45)",
         "line": {
          "width": 0
         },
         "marker": {
          "color": "#444"
         },
         "mode": "lines",
         "name": "min",
         "showlegend": false,
         "type": "scatter",
         "x": [
          "2023-07-01",
          "2023-07-02",
          "2023-07-03",
          "2023-07-04",
          "2023-07-05",
          "2023-07-06",
          "2023-07-07",
          "2023-07-08",
          "2023-07-09",
          "2023-07-10",
          "2023-07-11",
          "2023-07-12",
          "2023-07-13",
          "2023-07-14",
          "2023-07-15",
          "2023-07-16",
          "2023-07-17",
          "2023-07-18",
          "2023-07-19",
          "2023-07-20",
          "2023-07-21",
          "2023-07-22",
          "2023-07-23",
          "2023-07-24",
          "2023-07-25",
          "2023-07-26",
          "2023-07-27",
          "2023-07-28",
          "2023-07-29",
          "2023-07-30",
          "2023-07-31",
          "2023-08-01",
          "2023-08-02",
          "2023-08-03",
          "2023-08-04",
          "2023-08-05",
          "2023-08-06",
          "2023-08-07",
          "2023-08-08",
          "2023-08-09",
          "2023-08-10",
          "2023-08-11",
          "2023-08-12",
          "2023-08-13",
          "2023-08-14",
          "2023-08-15",
          "2023-08-16",
          "2023-08-17",
          "2023-08-18",
          "2023-08-19",
          "2023-08-20",
          "2023-08-21",
          "2023-08-22",
          "2023-08-23",
          "2023-08-24",
          "2023-08-25",
          "2023-08-26",
          "2023-08-27",
          "2023-08-28",
          "2023-08-29",
          "2023-08-30",
          "2023-08-31",
          "2023-09-01",
          "2023-09-02",
          "2023-09-03",
          "2023-09-04",
          "2023-09-05",
          "2023-09-06",
          "2023-09-07",
          "2023-09-08",
          "2023-09-09",
          "2023-09-10",
          "2023-09-11",
          "2023-09-12",
          "2023-09-13",
          "2023-09-14",
          "2023-09-15",
          "2023-09-16",
          "2023-09-17",
          "2023-09-18",
          "2023-09-19",
          "2023-09-20",
          "2023-09-21",
          "2023-09-22",
          "2023-09-23",
          "2023-09-24",
          "2023-09-25",
          "2023-09-26",
          "2023-09-27",
          "2023-09-28",
          "2023-09-29",
          "2023-09-30",
          "2023-10-01",
          "2023-10-02",
          "2023-10-03",
          "2023-10-04",
          "2023-10-05",
          "2023-10-06",
          "2023-10-07",
          "2023-10-08",
          "2023-10-09",
          "2023-10-10",
          "2023-10-11",
          "2023-10-12",
          "2023-10-13",
          "2023-10-14",
          "2023-10-15",
          "2023-10-16",
          "2023-10-17",
          "2023-10-18",
          "2023-10-19",
          "2023-10-20",
          "2023-10-21",
          "2023-10-22",
          "2023-10-23",
          "2023-10-24",
          "2023-10-25",
          "2023-10-26",
          "2023-10-27",
          "2023-10-28",
          "2023-10-29",
          "2023-10-30",
          "2023-10-31",
          "2023-11-01",
          "2023-11-02",
          "2023-11-03",
          "2023-11-04",
          "2023-11-05",
          "2023-11-06",
          "2023-11-07",
          "2023-11-08",
          "2023-11-09",
          "2023-11-10",
          "2023-11-11",
          "2023-11-12",
          "2023-11-13",
          "2023-11-14",
          "2023-11-15",
          "2023-11-16",
          "2023-11-17",
          "2023-11-18",
          "2023-11-19",
          "2023-11-20",
          "2023-11-21",
          "2023-11-22",
          "2023-11-23",
          "2023-11-24",
          "2023-11-25",
          "2023-11-26",
          "2023-11-27",
          "2023-11-28",
          "2023-11-29",
          "2023-11-30",
          "2023-12-01",
          "2023-12-02",
          "2023-12-03",
          "2023-12-04",
          "2023-12-05",
          "2023-12-06",
          "2023-12-07",
          "2023-12-08",
          "2023-12-09",
          "2023-12-10",
          "2023-12-11",
          "2023-12-12",
          "2023-12-13",
          "2023-12-14",
          "2023-12-15",
          "2023-12-16",
          "2023-12-17",
          "2023-12-18",
          "2023-12-19",
          "2023-12-20",
          "2023-12-21",
          "2023-12-22",
          "2023-12-23",
          "2023-12-24",
          "2023-12-25",
          "2023-12-26",
          "2023-12-27",
          "2023-12-28",
          "2023-12-29",
          "2023-12-30",
          "2023-12-31",
          "2024-01-01",
          "2024-01-02",
          "2024-01-03",
          "2024-01-04",
          "2024-01-05",
          "2024-01-06",
          "2024-01-07",
          "2024-01-08",
          "2024-01-09",
          "2024-01-10",
          "2024-01-11",
          "2024-01-12",
          "2024-01-13",
          "2024-01-14",
          "2024-01-15",
          "2024-01-16",
          "2024-01-17",
          "2024-01-18",
          "2024-01-19",
          "2024-01-20",
          "2024-01-21",
          "2024-01-22",
          "2024-01-23",
          "2024-01-24",
          "2024-01-25",
          "2024-01-26",
          "2024-01-27",
          "2024-01-28",
          "2024-01-29",
          "2024-01-30",
          "2024-01-31",
          "2024-02-01",
          "2024-02-02",
          "2024-02-03",
          "2024-02-04",
          "2024-02-05",
          "2024-02-06",
          "2024-02-07",
          "2024-02-08",
          "2024-02-09",
          "2024-02-10",
          "2024-02-11",
          "2024-02-12",
          "2024-02-13",
          "2024-02-14",
          "2024-02-15",
          "2024-02-16",
          "2024-02-17",
          "2024-02-18",
          "2024-02-19",
          "2024-02-20",
          "2024-02-21",
          "2024-02-22",
          "2024-02-23",
          "2024-02-24",
          "2024-02-25",
          "2024-02-26",
          "2024-02-27",
          "2024-02-28",
          "2024-02-29",
          "2024-03-01",
          "2024-03-02",
          "2024-03-03",
          "2024-03-04",
          "2024-03-05",
          "2024-03-06",
          "2024-03-07",
          "2024-03-08",
          "2024-03-09",
          "2024-03-10",
          "2024-03-11",
          "2024-03-12",
          "2024-03-13",
          "2024-03-14",
          "2024-03-15",
          "2024-03-16",
          "2024-03-17",
          "2024-03-18",
          "2024-03-19",
          "2024-03-20",
          "2024-03-21",
          "2024-03-22",
          "2024-03-23",
          "2024-03-24",
          "2024-03-25",
          "2024-03-26",
          "2024-03-27",
          "2024-03-28",
          "2024-03-29",
          "2024-03-30",
          "2024-03-31",
          "2024-04-01",
          "2024-04-02"
         ],
         "y": [
          4,
          4,
          4,
          3,
          4,
          4,
          3.5,
          3,
          2,
          4,
          3.5,
          3,
          4,
          4,
          3,
          4,
          2,
          4,
          2.5,
          2,
          2.5,
          3,
          3.5,
          3,
          3,
          2,
          3.5,
          2,
          2.5,
          2.5,
          3,
          3,
          3.5,
          3,
          3.5,
          3.5,
          2,
          3,
          4,
          3,
          3.5,
          3.5,
          4,
          3.5,
          4,
          3.5,
          3.5,
          3.5,
          4,
          4,
          3.5,
          3.5,
          4,
          4,
          3,
          3.5,
          4,
          2,
          4,
          2,
          4,
          4,
          4,
          3.5,
          4,
          5,
          4,
          3.5,
          4,
          4,
          4,
          4,
          3.5,
          4,
          4,
          3,
          3.5,
          5,
          4,
          3.5,
          4,
          4,
          4,
          3.5,
          4,
          4,
          4,
          4,
          3.5,
          4,
          3.5,
          3,
          3,
          3.5,
          4,
          4,
          3.5,
          3.5,
          3.5,
          3.5,
          4,
          3.5,
          4,
          4,
          3.5,
          4,
          5,
          3.5,
          4,
          3.5,
          3.5,
          3.5,
          4,
          4,
          3.5,
          3,
          3.5,
          3.5,
          4,
          5,
          4,
          3.5,
          3,
          3.5,
          3.5,
          3,
          3.5,
          3,
          3,
          3.5,
          4,
          3.5,
          2,
          4,
          4,
          3.5,
          2,
          3.5,
          3,
          2.5,
          4,
          3,
          3.5,
          3,
          4,
          3.5,
          4,
          4,
          4,
          3.5,
          3,
          3.5,
          3.5,
          3,
          3.5,
          3.5,
          4,
          3,
          4,
          3.5,
          3,
          3.5,
          4,
          4,
          3.5,
          3.5,
          3.5,
          4,
          5,
          3,
          4,
          3.5,
          3.5,
          3.5,
          3.5,
          4,
          3,
          4,
          3,
          4,
          2,
          4,
          3.5,
          2.5,
          4,
          4,
          3.5,
          3.5,
          4,
          3.5,
          4,
          3.5,
          4,
          3.5,
          3.5,
          4,
          3,
          3.5,
          4,
          3.5,
          4,
          3.5,
          4.5,
          3.5,
          4.5,
          3.5,
          4,
          2.5,
          3.5,
          3,
          3.5,
          3.5,
          3.5,
          3.5,
          3,
          3.5,
          3.5,
          4,
          3.5,
          2,
          4,
          3.5,
          3.5,
          3.5,
          4.5,
          4,
          3,
          2.5,
          3,
          3.5,
          2.5,
          3.5,
          4,
          3.5,
          3.5,
          3.5,
          3.5,
          2.5,
          3.5,
          2.5,
          3.5,
          3,
          4,
          3,
          2,
          2,
          2,
          3,
          3.5,
          3.5,
          3,
          3,
          3.5,
          3.5,
          3.5,
          3.5,
          3.5,
          3,
          3,
          3,
          3.5,
          3.5,
          3.5,
          3.5,
          4,
          4,
          3,
          2.5,
          3.5,
          3.5,
          3.5,
          3.5,
          3,
          3,
          3.5,
          3,
          4
         ]
        }
       ],
       "layout": {
        "hovermode": "x",
        "showlegend": false,
        "template": {
         "data": {
          "bar": [
           {
            "error_x": {
             "color": "#f2f5fa"
            },
            "error_y": {
             "color": "#f2f5fa"
            },
            "marker": {
             "line": {
              "color": "rgb(17,17,17)",
              "width": 0.5
             },
             "pattern": {
              "fillmode": "overlay",
              "size": 10,
              "solidity": 0.2
             }
            },
            "type": "bar"
           }
          ],
          "barpolar": [
           {
            "marker": {
             "line": {
              "color": "rgb(17,17,17)",
              "width": 0.5
             },
             "pattern": {
              "fillmode": "overlay",
              "size": 10,
              "solidity": 0.2
             }
            },
            "type": "barpolar"
           }
          ],
          "carpet": [
           {
            "aaxis": {
             "endlinecolor": "#A2B1C6",
             "gridcolor": "#506784",
             "linecolor": "#506784",
             "minorgridcolor": "#506784",
             "startlinecolor": "#A2B1C6"
            },
            "baxis": {
             "endlinecolor": "#A2B1C6",
             "gridcolor": "#506784",
             "linecolor": "#506784",
             "minorgridcolor": "#506784",
             "startlinecolor": "#A2B1C6"
            },
            "type": "carpet"
           }
          ],
          "choropleth": [
           {
            "colorbar": {
             "outlinewidth": 0,
             "ticks": ""
            },
            "type": "choropleth"
           }
          ],
          "contour": [
           {
            "colorbar": {
             "outlinewidth": 0,
             "ticks": ""
            },
            "colorscale": [
             [
              0,
              "#0d0887"
             ],
             [
              0.1111111111111111,
              "#46039f"
             ],
             [
              0.2222222222222222,
              "#7201a8"
             ],
             [
              0.3333333333333333,
              "#9c179e"
             ],
             [
              0.4444444444444444,
              "#bd3786"
             ],
             [
              0.5555555555555556,
              "#d8576b"
             ],
             [
              0.6666666666666666,
              "#ed7953"
             ],
             [
              0.7777777777777778,
              "#fb9f3a"
             ],
             [
              0.8888888888888888,
              "#fdca26"
             ],
             [
              1,
              "#f0f921"
             ]
            ],
            "type": "contour"
           }
          ],
          "contourcarpet": [
           {
            "colorbar": {
             "outlinewidth": 0,
             "ticks": ""
            },
            "type": "contourcarpet"
           }
          ],
          "heatmap": [
           {
            "colorbar": {
             "outlinewidth": 0,
             "ticks": ""
            },
            "colorscale": [
             [
              0,
              "#0d0887"
             ],
             [
              0.1111111111111111,
              "#46039f"
             ],
             [
              0.2222222222222222,
              "#7201a8"
             ],
             [
              0.3333333333333333,
              "#9c179e"
             ],
             [
              0.4444444444444444,
              "#bd3786"
             ],
             [
              0.5555555555555556,
              "#d8576b"
             ],
             [
              0.6666666666666666,
              "#ed7953"
             ],
             [
              0.7777777777777778,
              "#fb9f3a"
             ],
             [
              0.8888888888888888,
              "#fdca26"
             ],
             [
              1,
              "#f0f921"
             ]
            ],
            "type": "heatmap"
           }
          ],
          "heatmapgl": [
           {
            "colorbar": {
             "outlinewidth": 0,
             "ticks": ""
            },
            "colorscale": [
             [
              0,
              "#0d0887"
             ],
             [
              0.1111111111111111,
              "#46039f"
             ],
             [
              0.2222222222222222,
              "#7201a8"
             ],
             [
              0.3333333333333333,
              "#9c179e"
             ],
             [
              0.4444444444444444,
              "#bd3786"
             ],
             [
              0.5555555555555556,
              "#d8576b"
             ],
             [
              0.6666666666666666,
              "#ed7953"
             ],
             [
              0.7777777777777778,
              "#fb9f3a"
             ],
             [
              0.8888888888888888,
              "#fdca26"
             ],
             [
              1,
              "#f0f921"
             ]
            ],
            "type": "heatmapgl"
           }
          ],
          "histogram": [
           {
            "marker": {
             "pattern": {
              "fillmode": "overlay",
              "size": 10,
              "solidity": 0.2
             }
            },
            "type": "histogram"
           }
          ],
          "histogram2d": [
           {
            "colorbar": {
             "outlinewidth": 0,
             "ticks": ""
            },
            "colorscale": [
             [
              0,
              "#0d0887"
             ],
             [
              0.1111111111111111,
              "#46039f"
             ],
             [
              0.2222222222222222,
              "#7201a8"
             ],
             [
              0.3333333333333333,
              "#9c179e"
             ],
             [
              0.4444444444444444,
              "#bd3786"
             ],
             [
              0.5555555555555556,
              "#d8576b"
             ],
             [
              0.6666666666666666,
              "#ed7953"
             ],
             [
              0.7777777777777778,
              "#fb9f3a"
             ],
             [
              0.8888888888888888,
              "#fdca26"
             ],
             [
              1,
              "#f0f921"
             ]
            ],
            "type": "histogram2d"
           }
          ],
          "histogram2dcontour": [
           {
            "colorbar": {
             "outlinewidth": 0,
             "ticks": ""
            },
            "colorscale": [
             [
              0,
              "#0d0887"
             ],
             [
              0.1111111111111111,
              "#46039f"
             ],
             [
              0.2222222222222222,
              "#7201a8"
             ],
             [
              0.3333333333333333,
              "#9c179e"
             ],
             [
              0.4444444444444444,
              "#bd3786"
             ],
             [
              0.5555555555555556,
              "#d8576b"
             ],
             [
              0.6666666666666666,
              "#ed7953"
             ],
             [
              0.7777777777777778,
              "#fb9f3a"
             ],
             [
              0.8888888888888888,
              "#fdca26"
             ],
             [
              1,
              "#f0f921"
             ]
            ],
            "type": "histogram2dcontour"
           }
          ],
          "mesh3d": [
           {
            "colorbar": {
             "outlinewidth": 0,
             "ticks": ""
            },
            "type": "mesh3d"
           }
          ],
          "parcoords": [
           {
            "line": {
             "colorbar": {
              "outlinewidth": 0,
              "ticks": ""
             }
            },
            "type": "parcoords"
           }
          ],
          "pie": [
           {
            "automargin": true,
            "type": "pie"
           }
          ],
          "scatter": [
           {
            "marker": {
             "line": {
              "color": "#283442"
             }
            },
            "type": "scatter"
           }
          ],
          "scatter3d": [
           {
            "line": {
             "colorbar": {
              "outlinewidth": 0,
              "ticks": ""
             }
            },
            "marker": {
             "colorbar": {
              "outlinewidth": 0,
              "ticks": ""
             }
            },
            "type": "scatter3d"
           }
          ],
          "scattercarpet": [
           {
            "marker": {
             "colorbar": {
              "outlinewidth": 0,
              "ticks": ""
             }
            },
            "type": "scattercarpet"
           }
          ],
          "scattergeo": [
           {
            "marker": {
             "colorbar": {
              "outlinewidth": 0,
              "ticks": ""
             }
            },
            "type": "scattergeo"
           }
          ],
          "scattergl": [
           {
            "marker": {
             "line": {
              "color": "#283442"
             }
            },
            "type": "scattergl"
           }
          ],
          "scattermapbox": [
           {
            "marker": {
             "colorbar": {
              "outlinewidth": 0,
              "ticks": ""
             }
            },
            "type": "scattermapbox"
           }
          ],
          "scatterpolar": [
           {
            "marker": {
             "colorbar": {
              "outlinewidth": 0,
              "ticks": ""
             }
            },
            "type": "scatterpolar"
           }
          ],
          "scatterpolargl": [
           {
            "marker": {
             "colorbar": {
              "outlinewidth": 0,
              "ticks": ""
             }
            },
            "type": "scatterpolargl"
           }
          ],
          "scatterternary": [
           {
            "marker": {
             "colorbar": {
              "outlinewidth": 0,
              "ticks": ""
             }
            },
            "type": "scatterternary"
           }
          ],
          "surface": [
           {
            "colorbar": {
             "outlinewidth": 0,
             "ticks": ""
            },
            "colorscale": [
             [
              0,
              "#0d0887"
             ],
             [
              0.1111111111111111,
              "#46039f"
             ],
             [
              0.2222222222222222,
              "#7201a8"
             ],
             [
              0.3333333333333333,
              "#9c179e"
             ],
             [
              0.4444444444444444,
              "#bd3786"
             ],
             [
              0.5555555555555556,
              "#d8576b"
             ],
             [
              0.6666666666666666,
              "#ed7953"
             ],
             [
              0.7777777777777778,
              "#fb9f3a"
             ],
             [
              0.8888888888888888,
              "#fdca26"
             ],
             [
              1,
              "#f0f921"
             ]
            ],
            "type": "surface"
           }
          ],
          "table": [
           {
            "cells": {
             "fill": {
              "color": "#506784"
             },
             "line": {
              "color": "rgb(17,17,17)"
             }
            },
            "header": {
             "fill": {
              "color": "#2a3f5f"
             },
             "line": {
              "color": "rgb(17,17,17)"
             }
            },
            "type": "table"
           }
          ]
         },
         "layout": {
          "annotationdefaults": {
           "arrowcolor": "#f2f5fa",
           "arrowhead": 0,
           "arrowwidth": 1
          },
          "autotypenumbers": "strict",
          "coloraxis": {
           "colorbar": {
            "outlinewidth": 0,
            "ticks": ""
           }
          },
          "colorscale": {
           "diverging": [
            [
             0,
             "#8e0152"
            ],
            [
             0.1,
             "#c51b7d"
            ],
            [
             0.2,
             "#de77ae"
            ],
            [
             0.3,
             "#f1b6da"
            ],
            [
             0.4,
             "#fde0ef"
            ],
            [
             0.5,
             "#f7f7f7"
            ],
            [
             0.6,
             "#e6f5d0"
            ],
            [
             0.7,
             "#b8e186"
            ],
            [
             0.8,
             "#7fbc41"
            ],
            [
             0.9,
             "#4d9221"
            ],
            [
             1,
             "#276419"
            ]
           ],
           "sequential": [
            [
             0,
             "#0d0887"
            ],
            [
             0.1111111111111111,
             "#46039f"
            ],
            [
             0.2222222222222222,
             "#7201a8"
            ],
            [
             0.3333333333333333,
             "#9c179e"
            ],
            [
             0.4444444444444444,
             "#bd3786"
            ],
            [
             0.5555555555555556,
             "#d8576b"
            ],
            [
             0.6666666666666666,
             "#ed7953"
            ],
            [
             0.7777777777777778,
             "#fb9f3a"
            ],
            [
             0.8888888888888888,
             "#fdca26"
            ],
            [
             1,
             "#f0f921"
            ]
           ],
           "sequentialminus": [
            [
             0,
             "#0d0887"
            ],
            [
             0.1111111111111111,
             "#46039f"
            ],
            [
             0.2222222222222222,
             "#7201a8"
            ],
            [
             0.3333333333333333,
             "#9c179e"
            ],
            [
             0.4444444444444444,
             "#bd3786"
            ],
            [
             0.5555555555555556,
             "#d8576b"
            ],
            [
             0.6666666666666666,
             "#ed7953"
            ],
            [
             0.7777777777777778,
             "#fb9f3a"
            ],
            [
             0.8888888888888888,
             "#fdca26"
            ],
            [
             1,
             "#f0f921"
            ]
           ]
          },
          "colorway": [
           "#636efa",
           "#EF553B",
           "#00cc96",
           "#ab63fa",
           "#FFA15A",
           "#19d3f3",
           "#FF6692",
           "#B6E880",
           "#FF97FF",
           "#FECB52"
          ],
          "font": {
           "color": "#f2f5fa"
          },
          "geo": {
           "bgcolor": "rgb(17,17,17)",
           "lakecolor": "rgb(17,17,17)",
           "landcolor": "rgb(17,17,17)",
           "showlakes": true,
           "showland": true,
           "subunitcolor": "#506784"
          },
          "hoverlabel": {
           "align": "left"
          },
          "hovermode": "closest",
          "mapbox": {
           "style": "dark"
          },
          "paper_bgcolor": "rgb(17,17,17)",
          "plot_bgcolor": "rgb(17,17,17)",
          "polar": {
           "angularaxis": {
            "gridcolor": "#506784",
            "linecolor": "#506784",
            "ticks": ""
           },
           "bgcolor": "rgb(17,17,17)",
           "radialaxis": {
            "gridcolor": "#506784",
            "linecolor": "#506784",
            "ticks": ""
           }
          },
          "scene": {
           "xaxis": {
            "backgroundcolor": "rgb(17,17,17)",
            "gridcolor": "#506784",
            "gridwidth": 2,
            "linecolor": "#506784",
            "showbackground": true,
            "ticks": "",
            "zerolinecolor": "#C8D4E3"
           },
           "yaxis": {
            "backgroundcolor": "rgb(17,17,17)",
            "gridcolor": "#506784",
            "gridwidth": 2,
            "linecolor": "#506784",
            "showbackground": true,
            "ticks": "",
            "zerolinecolor": "#C8D4E3"
           },
           "zaxis": {
            "backgroundcolor": "rgb(17,17,17)",
            "gridcolor": "#506784",
            "gridwidth": 2,
            "linecolor": "#506784",
            "showbackground": true,
            "ticks": "",
            "zerolinecolor": "#C8D4E3"
           }
          },
          "shapedefaults": {
           "line": {
            "color": "#f2f5fa"
           }
          },
          "sliderdefaults": {
           "bgcolor": "#C8D4E3",
           "bordercolor": "rgb(17,17,17)",
           "borderwidth": 1,
           "tickwidth": 0
          },
          "ternary": {
           "aaxis": {
            "gridcolor": "#506784",
            "linecolor": "#506784",
            "ticks": ""
           },
           "baxis": {
            "gridcolor": "#506784",
            "linecolor": "#506784",
            "ticks": ""
           },
           "bgcolor": "rgb(17,17,17)",
           "caxis": {
            "gridcolor": "#506784",
            "linecolor": "#506784",
            "ticks": ""
           }
          },
          "title": {
           "x": 0.05
          },
          "updatemenudefaults": {
           "bgcolor": "#506784",
           "borderwidth": 0
          },
          "xaxis": {
           "automargin": true,
           "gridcolor": "#283442",
           "linecolor": "#506784",
           "ticks": "",
           "title": {
            "standoff": 15
           },
           "zerolinecolor": "#283442",
           "zerolinewidth": 2
          },
          "yaxis": {
           "automargin": true,
           "gridcolor": "#283442",
           "linecolor": "#506784",
           "ticks": "",
           "title": {
            "standoff": 15
           },
           "zerolinecolor": "#283442",
           "zerolinewidth": 2
          }
         }
        },
        "xaxis": {
         "title": {
          "text": "Date"
         }
        },
        "yaxis": {
         "rangemode": "tozero",
         "title": {
          "text": "Mood"
         }
        }
       }
      }
     },
     "metadata": {},
     "output_type": "display_data"
    }
   ],
   "source": [
    "df.mood_plot('day')"
   ]
  },
  {
   "cell_type": "code",
   "execution_count": 32,
   "metadata": {},
   "outputs": [
    {
     "data": {
      "application/vnd.plotly.v1+json": {
       "config": {
        "plotlyServerURL": "https://plot.ly"
       },
       "data": [
        {
         "line": {
          "color": "rgb(31, 119, 180)"
         },
         "marker": {
          "color": [
           95,
           97,
           58,
           71,
           109,
           95,
           94,
           108,
           123,
           8
          ],
          "colorbar": {
           "title": {
            "text": "Number of entries"
           }
          },
          "colorscale": [
           [
            0,
            "rgb(0,0,255)"
           ],
           [
            1,
            "rgb(255,0,0)"
           ]
          ],
          "showscale": true,
          "size": 10
         },
         "mode": "lines+markers",
         "name": "avg",
         "type": "scatter",
         "x": [
          "2023-07-01",
          "2023-08-01",
          "2023-09-01",
          "2023-10-01",
          "2023-11-01",
          "2023-12-01",
          "2024-01-01",
          "2024-02-01",
          "2024-03-01",
          "2024-04-01"
         ],
         "y": [
          3.5894736842105264,
          3.8247422680412373,
          3.9741379310344827,
          4.063380281690141,
          3.7844036697247705,
          3.9105263157894736,
          3.904255319148936,
          3.662037037037037,
          3.6910569105691056,
          4
         ]
        },
        {
         "line": {
          "width": 0
         },
         "marker": {
          "color": "#444"
         },
         "mode": "lines",
         "name": "max",
         "showlegend": false,
         "type": "scatter",
         "x": [
          "2023-07-01",
          "2023-08-01",
          "2023-09-01",
          "2023-10-01",
          "2023-11-01",
          "2023-12-01",
          "2024-01-01",
          "2024-02-01",
          "2024-03-01",
          "2024-04-01"
         ],
         "y": [
          5,
          5,
          5,
          6,
          5,
          5,
          5,
          5,
          4.5,
          4.5
         ]
        },
        {
         "fill": "tonexty",
         "fillcolor": "rgba(130, 130, 130, 0.45)",
         "line": {
          "width": 0
         },
         "marker": {
          "color": "#444"
         },
         "mode": "lines",
         "name": "min",
         "showlegend": false,
         "type": "scatter",
         "x": [
          "2023-07-01",
          "2023-08-01",
          "2023-09-01",
          "2023-10-01",
          "2023-11-01",
          "2023-12-01",
          "2024-01-01",
          "2024-02-01",
          "2024-03-01",
          "2024-04-01"
         ],
         "y": [
          2,
          2,
          3,
          3,
          2,
          2,
          2.5,
          2,
          2,
          3
         ]
        }
       ],
       "layout": {
        "hovermode": "x",
        "showlegend": false,
        "template": {
         "data": {
          "bar": [
           {
            "error_x": {
             "color": "#f2f5fa"
            },
            "error_y": {
             "color": "#f2f5fa"
            },
            "marker": {
             "line": {
              "color": "rgb(17,17,17)",
              "width": 0.5
             },
             "pattern": {
              "fillmode": "overlay",
              "size": 10,
              "solidity": 0.2
             }
            },
            "type": "bar"
           }
          ],
          "barpolar": [
           {
            "marker": {
             "line": {
              "color": "rgb(17,17,17)",
              "width": 0.5
             },
             "pattern": {
              "fillmode": "overlay",
              "size": 10,
              "solidity": 0.2
             }
            },
            "type": "barpolar"
           }
          ],
          "carpet": [
           {
            "aaxis": {
             "endlinecolor": "#A2B1C6",
             "gridcolor": "#506784",
             "linecolor": "#506784",
             "minorgridcolor": "#506784",
             "startlinecolor": "#A2B1C6"
            },
            "baxis": {
             "endlinecolor": "#A2B1C6",
             "gridcolor": "#506784",
             "linecolor": "#506784",
             "minorgridcolor": "#506784",
             "startlinecolor": "#A2B1C6"
            },
            "type": "carpet"
           }
          ],
          "choropleth": [
           {
            "colorbar": {
             "outlinewidth": 0,
             "ticks": ""
            },
            "type": "choropleth"
           }
          ],
          "contour": [
           {
            "colorbar": {
             "outlinewidth": 0,
             "ticks": ""
            },
            "colorscale": [
             [
              0,
              "#0d0887"
             ],
             [
              0.1111111111111111,
              "#46039f"
             ],
             [
              0.2222222222222222,
              "#7201a8"
             ],
             [
              0.3333333333333333,
              "#9c179e"
             ],
             [
              0.4444444444444444,
              "#bd3786"
             ],
             [
              0.5555555555555556,
              "#d8576b"
             ],
             [
              0.6666666666666666,
              "#ed7953"
             ],
             [
              0.7777777777777778,
              "#fb9f3a"
             ],
             [
              0.8888888888888888,
              "#fdca26"
             ],
             [
              1,
              "#f0f921"
             ]
            ],
            "type": "contour"
           }
          ],
          "contourcarpet": [
           {
            "colorbar": {
             "outlinewidth": 0,
             "ticks": ""
            },
            "type": "contourcarpet"
           }
          ],
          "heatmap": [
           {
            "colorbar": {
             "outlinewidth": 0,
             "ticks": ""
            },
            "colorscale": [
             [
              0,
              "#0d0887"
             ],
             [
              0.1111111111111111,
              "#46039f"
             ],
             [
              0.2222222222222222,
              "#7201a8"
             ],
             [
              0.3333333333333333,
              "#9c179e"
             ],
             [
              0.4444444444444444,
              "#bd3786"
             ],
             [
              0.5555555555555556,
              "#d8576b"
             ],
             [
              0.6666666666666666,
              "#ed7953"
             ],
             [
              0.7777777777777778,
              "#fb9f3a"
             ],
             [
              0.8888888888888888,
              "#fdca26"
             ],
             [
              1,
              "#f0f921"
             ]
            ],
            "type": "heatmap"
           }
          ],
          "heatmapgl": [
           {
            "colorbar": {
             "outlinewidth": 0,
             "ticks": ""
            },
            "colorscale": [
             [
              0,
              "#0d0887"
             ],
             [
              0.1111111111111111,
              "#46039f"
             ],
             [
              0.2222222222222222,
              "#7201a8"
             ],
             [
              0.3333333333333333,
              "#9c179e"
             ],
             [
              0.4444444444444444,
              "#bd3786"
             ],
             [
              0.5555555555555556,
              "#d8576b"
             ],
             [
              0.6666666666666666,
              "#ed7953"
             ],
             [
              0.7777777777777778,
              "#fb9f3a"
             ],
             [
              0.8888888888888888,
              "#fdca26"
             ],
             [
              1,
              "#f0f921"
             ]
            ],
            "type": "heatmapgl"
           }
          ],
          "histogram": [
           {
            "marker": {
             "pattern": {
              "fillmode": "overlay",
              "size": 10,
              "solidity": 0.2
             }
            },
            "type": "histogram"
           }
          ],
          "histogram2d": [
           {
            "colorbar": {
             "outlinewidth": 0,
             "ticks": ""
            },
            "colorscale": [
             [
              0,
              "#0d0887"
             ],
             [
              0.1111111111111111,
              "#46039f"
             ],
             [
              0.2222222222222222,
              "#7201a8"
             ],
             [
              0.3333333333333333,
              "#9c179e"
             ],
             [
              0.4444444444444444,
              "#bd3786"
             ],
             [
              0.5555555555555556,
              "#d8576b"
             ],
             [
              0.6666666666666666,
              "#ed7953"
             ],
             [
              0.7777777777777778,
              "#fb9f3a"
             ],
             [
              0.8888888888888888,
              "#fdca26"
             ],
             [
              1,
              "#f0f921"
             ]
            ],
            "type": "histogram2d"
           }
          ],
          "histogram2dcontour": [
           {
            "colorbar": {
             "outlinewidth": 0,
             "ticks": ""
            },
            "colorscale": [
             [
              0,
              "#0d0887"
             ],
             [
              0.1111111111111111,
              "#46039f"
             ],
             [
              0.2222222222222222,
              "#7201a8"
             ],
             [
              0.3333333333333333,
              "#9c179e"
             ],
             [
              0.4444444444444444,
              "#bd3786"
             ],
             [
              0.5555555555555556,
              "#d8576b"
             ],
             [
              0.6666666666666666,
              "#ed7953"
             ],
             [
              0.7777777777777778,
              "#fb9f3a"
             ],
             [
              0.8888888888888888,
              "#fdca26"
             ],
             [
              1,
              "#f0f921"
             ]
            ],
            "type": "histogram2dcontour"
           }
          ],
          "mesh3d": [
           {
            "colorbar": {
             "outlinewidth": 0,
             "ticks": ""
            },
            "type": "mesh3d"
           }
          ],
          "parcoords": [
           {
            "line": {
             "colorbar": {
              "outlinewidth": 0,
              "ticks": ""
             }
            },
            "type": "parcoords"
           }
          ],
          "pie": [
           {
            "automargin": true,
            "type": "pie"
           }
          ],
          "scatter": [
           {
            "marker": {
             "line": {
              "color": "#283442"
             }
            },
            "type": "scatter"
           }
          ],
          "scatter3d": [
           {
            "line": {
             "colorbar": {
              "outlinewidth": 0,
              "ticks": ""
             }
            },
            "marker": {
             "colorbar": {
              "outlinewidth": 0,
              "ticks": ""
             }
            },
            "type": "scatter3d"
           }
          ],
          "scattercarpet": [
           {
            "marker": {
             "colorbar": {
              "outlinewidth": 0,
              "ticks": ""
             }
            },
            "type": "scattercarpet"
           }
          ],
          "scattergeo": [
           {
            "marker": {
             "colorbar": {
              "outlinewidth": 0,
              "ticks": ""
             }
            },
            "type": "scattergeo"
           }
          ],
          "scattergl": [
           {
            "marker": {
             "line": {
              "color": "#283442"
             }
            },
            "type": "scattergl"
           }
          ],
          "scattermapbox": [
           {
            "marker": {
             "colorbar": {
              "outlinewidth": 0,
              "ticks": ""
             }
            },
            "type": "scattermapbox"
           }
          ],
          "scatterpolar": [
           {
            "marker": {
             "colorbar": {
              "outlinewidth": 0,
              "ticks": ""
             }
            },
            "type": "scatterpolar"
           }
          ],
          "scatterpolargl": [
           {
            "marker": {
             "colorbar": {
              "outlinewidth": 0,
              "ticks": ""
             }
            },
            "type": "scatterpolargl"
           }
          ],
          "scatterternary": [
           {
            "marker": {
             "colorbar": {
              "outlinewidth": 0,
              "ticks": ""
             }
            },
            "type": "scatterternary"
           }
          ],
          "surface": [
           {
            "colorbar": {
             "outlinewidth": 0,
             "ticks": ""
            },
            "colorscale": [
             [
              0,
              "#0d0887"
             ],
             [
              0.1111111111111111,
              "#46039f"
             ],
             [
              0.2222222222222222,
              "#7201a8"
             ],
             [
              0.3333333333333333,
              "#9c179e"
             ],
             [
              0.4444444444444444,
              "#bd3786"
             ],
             [
              0.5555555555555556,
              "#d8576b"
             ],
             [
              0.6666666666666666,
              "#ed7953"
             ],
             [
              0.7777777777777778,
              "#fb9f3a"
             ],
             [
              0.8888888888888888,
              "#fdca26"
             ],
             [
              1,
              "#f0f921"
             ]
            ],
            "type": "surface"
           }
          ],
          "table": [
           {
            "cells": {
             "fill": {
              "color": "#506784"
             },
             "line": {
              "color": "rgb(17,17,17)"
             }
            },
            "header": {
             "fill": {
              "color": "#2a3f5f"
             },
             "line": {
              "color": "rgb(17,17,17)"
             }
            },
            "type": "table"
           }
          ]
         },
         "layout": {
          "annotationdefaults": {
           "arrowcolor": "#f2f5fa",
           "arrowhead": 0,
           "arrowwidth": 1
          },
          "autotypenumbers": "strict",
          "coloraxis": {
           "colorbar": {
            "outlinewidth": 0,
            "ticks": ""
           }
          },
          "colorscale": {
           "diverging": [
            [
             0,
             "#8e0152"
            ],
            [
             0.1,
             "#c51b7d"
            ],
            [
             0.2,
             "#de77ae"
            ],
            [
             0.3,
             "#f1b6da"
            ],
            [
             0.4,
             "#fde0ef"
            ],
            [
             0.5,
             "#f7f7f7"
            ],
            [
             0.6,
             "#e6f5d0"
            ],
            [
             0.7,
             "#b8e186"
            ],
            [
             0.8,
             "#7fbc41"
            ],
            [
             0.9,
             "#4d9221"
            ],
            [
             1,
             "#276419"
            ]
           ],
           "sequential": [
            [
             0,
             "#0d0887"
            ],
            [
             0.1111111111111111,
             "#46039f"
            ],
            [
             0.2222222222222222,
             "#7201a8"
            ],
            [
             0.3333333333333333,
             "#9c179e"
            ],
            [
             0.4444444444444444,
             "#bd3786"
            ],
            [
             0.5555555555555556,
             "#d8576b"
            ],
            [
             0.6666666666666666,
             "#ed7953"
            ],
            [
             0.7777777777777778,
             "#fb9f3a"
            ],
            [
             0.8888888888888888,
             "#fdca26"
            ],
            [
             1,
             "#f0f921"
            ]
           ],
           "sequentialminus": [
            [
             0,
             "#0d0887"
            ],
            [
             0.1111111111111111,
             "#46039f"
            ],
            [
             0.2222222222222222,
             "#7201a8"
            ],
            [
             0.3333333333333333,
             "#9c179e"
            ],
            [
             0.4444444444444444,
             "#bd3786"
            ],
            [
             0.5555555555555556,
             "#d8576b"
            ],
            [
             0.6666666666666666,
             "#ed7953"
            ],
            [
             0.7777777777777778,
             "#fb9f3a"
            ],
            [
             0.8888888888888888,
             "#fdca26"
            ],
            [
             1,
             "#f0f921"
            ]
           ]
          },
          "colorway": [
           "#636efa",
           "#EF553B",
           "#00cc96",
           "#ab63fa",
           "#FFA15A",
           "#19d3f3",
           "#FF6692",
           "#B6E880",
           "#FF97FF",
           "#FECB52"
          ],
          "font": {
           "color": "#f2f5fa"
          },
          "geo": {
           "bgcolor": "rgb(17,17,17)",
           "lakecolor": "rgb(17,17,17)",
           "landcolor": "rgb(17,17,17)",
           "showlakes": true,
           "showland": true,
           "subunitcolor": "#506784"
          },
          "hoverlabel": {
           "align": "left"
          },
          "hovermode": "closest",
          "mapbox": {
           "style": "dark"
          },
          "paper_bgcolor": "rgb(17,17,17)",
          "plot_bgcolor": "rgb(17,17,17)",
          "polar": {
           "angularaxis": {
            "gridcolor": "#506784",
            "linecolor": "#506784",
            "ticks": ""
           },
           "bgcolor": "rgb(17,17,17)",
           "radialaxis": {
            "gridcolor": "#506784",
            "linecolor": "#506784",
            "ticks": ""
           }
          },
          "scene": {
           "xaxis": {
            "backgroundcolor": "rgb(17,17,17)",
            "gridcolor": "#506784",
            "gridwidth": 2,
            "linecolor": "#506784",
            "showbackground": true,
            "ticks": "",
            "zerolinecolor": "#C8D4E3"
           },
           "yaxis": {
            "backgroundcolor": "rgb(17,17,17)",
            "gridcolor": "#506784",
            "gridwidth": 2,
            "linecolor": "#506784",
            "showbackground": true,
            "ticks": "",
            "zerolinecolor": "#C8D4E3"
           },
           "zaxis": {
            "backgroundcolor": "rgb(17,17,17)",
            "gridcolor": "#506784",
            "gridwidth": 2,
            "linecolor": "#506784",
            "showbackground": true,
            "ticks": "",
            "zerolinecolor": "#C8D4E3"
           }
          },
          "shapedefaults": {
           "line": {
            "color": "#f2f5fa"
           }
          },
          "sliderdefaults": {
           "bgcolor": "#C8D4E3",
           "bordercolor": "rgb(17,17,17)",
           "borderwidth": 1,
           "tickwidth": 0
          },
          "ternary": {
           "aaxis": {
            "gridcolor": "#506784",
            "linecolor": "#506784",
            "ticks": ""
           },
           "baxis": {
            "gridcolor": "#506784",
            "linecolor": "#506784",
            "ticks": ""
           },
           "bgcolor": "rgb(17,17,17)",
           "caxis": {
            "gridcolor": "#506784",
            "linecolor": "#506784",
            "ticks": ""
           }
          },
          "title": {
           "x": 0.05
          },
          "updatemenudefaults": {
           "bgcolor": "#506784",
           "borderwidth": 0
          },
          "xaxis": {
           "automargin": true,
           "gridcolor": "#283442",
           "linecolor": "#506784",
           "ticks": "",
           "title": {
            "standoff": 15
           },
           "zerolinecolor": "#283442",
           "zerolinewidth": 2
          },
          "yaxis": {
           "automargin": true,
           "gridcolor": "#283442",
           "linecolor": "#506784",
           "ticks": "",
           "title": {
            "standoff": 15
           },
           "zerolinecolor": "#283442",
           "zerolinewidth": 2
          }
         }
        },
        "xaxis": {
         "title": {
          "text": "Date"
         }
        },
        "yaxis": {
         "rangemode": "tozero",
         "title": {
          "text": "Mood"
         }
        }
       }
      }
     },
     "metadata": {},
     "output_type": "display_data"
    }
   ],
   "source": [
    "df.mood_plot('month')"
   ]
  },
  {
   "cell_type": "markdown",
   "metadata": {},
   "source": [
    "## Mood bar plot by hour/day/month"
   ]
  },
  {
   "cell_type": "code",
   "execution_count": 33,
   "metadata": {},
   "outputs": [
    {
     "data": {
      "application/vnd.plotly.v1+json": {
       "config": {
        "plotlyServerURL": "https://plot.ly"
       },
       "data": [
        {
         "alignmentgroup": "True",
         "hovertemplate": "Hour=%{x}<br>Mood=%{y}<br>Number of entries=%{marker.color}<extra></extra>",
         "legendgroup": "",
         "marker": {
          "color": [
           116,
           41,
           81,
           53,
           66,
           46,
           40,
           47,
           52,
           45,
           52,
           21,
           45,
           69,
           41,
           16,
           2,
           19,
           4,
           1,
           1
          ],
          "coloraxis": "coloraxis",
          "pattern": {
           "shape": ""
          }
         },
         "name": "",
         "offsetgroup": "",
         "orientation": "v",
         "showlegend": false,
         "textposition": "auto",
         "type": "bar",
         "x": [
          20,
          17,
          23,
          19,
          16,
          13,
          10,
          18,
          12,
          14,
          15,
          0,
          22,
          21,
          11,
          9,
          7,
          1,
          8,
          2,
          4
         ],
         "xaxis": "x",
         "y": [
          3.9741379310344827,
          3.6951219512195124,
          3.9135802469135803,
          3.7358490566037736,
          3.712121212121212,
          3.717391304347826,
          3.7,
          3.925531914893617,
          3.75,
          3.7555555555555555,
          3.769230769230769,
          3.7142857142857144,
          3.7666666666666666,
          3.898550724637681,
          3.6463414634146343,
          3.71875,
          3.5,
          3.9210526315789473,
          3.5,
          3.5,
          3
         ],
         "yaxis": "y"
        }
       ],
       "layout": {
        "barmode": "relative",
        "coloraxis": {
         "colorbar": {
          "title": {
           "text": "Number of entries"
          }
         },
         "colorscale": [
          [
           0,
           "#440154"
          ],
          [
           0.1111111111111111,
           "#482878"
          ],
          [
           0.2222222222222222,
           "#3e4989"
          ],
          [
           0.3333333333333333,
           "#31688e"
          ],
          [
           0.4444444444444444,
           "#26828e"
          ],
          [
           0.5555555555555556,
           "#1f9e89"
          ],
          [
           0.6666666666666666,
           "#35b779"
          ],
          [
           0.7777777777777778,
           "#6ece58"
          ],
          [
           0.8888888888888888,
           "#b5de2b"
          ],
          [
           1,
           "#fde725"
          ]
         ]
        },
        "legend": {
         "tracegroupgap": 0
        },
        "template": {
         "data": {
          "bar": [
           {
            "error_x": {
             "color": "#f2f5fa"
            },
            "error_y": {
             "color": "#f2f5fa"
            },
            "marker": {
             "line": {
              "color": "rgb(17,17,17)",
              "width": 0.5
             },
             "pattern": {
              "fillmode": "overlay",
              "size": 10,
              "solidity": 0.2
             }
            },
            "type": "bar"
           }
          ],
          "barpolar": [
           {
            "marker": {
             "line": {
              "color": "rgb(17,17,17)",
              "width": 0.5
             },
             "pattern": {
              "fillmode": "overlay",
              "size": 10,
              "solidity": 0.2
             }
            },
            "type": "barpolar"
           }
          ],
          "carpet": [
           {
            "aaxis": {
             "endlinecolor": "#A2B1C6",
             "gridcolor": "#506784",
             "linecolor": "#506784",
             "minorgridcolor": "#506784",
             "startlinecolor": "#A2B1C6"
            },
            "baxis": {
             "endlinecolor": "#A2B1C6",
             "gridcolor": "#506784",
             "linecolor": "#506784",
             "minorgridcolor": "#506784",
             "startlinecolor": "#A2B1C6"
            },
            "type": "carpet"
           }
          ],
          "choropleth": [
           {
            "colorbar": {
             "outlinewidth": 0,
             "ticks": ""
            },
            "type": "choropleth"
           }
          ],
          "contour": [
           {
            "colorbar": {
             "outlinewidth": 0,
             "ticks": ""
            },
            "colorscale": [
             [
              0,
              "#0d0887"
             ],
             [
              0.1111111111111111,
              "#46039f"
             ],
             [
              0.2222222222222222,
              "#7201a8"
             ],
             [
              0.3333333333333333,
              "#9c179e"
             ],
             [
              0.4444444444444444,
              "#bd3786"
             ],
             [
              0.5555555555555556,
              "#d8576b"
             ],
             [
              0.6666666666666666,
              "#ed7953"
             ],
             [
              0.7777777777777778,
              "#fb9f3a"
             ],
             [
              0.8888888888888888,
              "#fdca26"
             ],
             [
              1,
              "#f0f921"
             ]
            ],
            "type": "contour"
           }
          ],
          "contourcarpet": [
           {
            "colorbar": {
             "outlinewidth": 0,
             "ticks": ""
            },
            "type": "contourcarpet"
           }
          ],
          "heatmap": [
           {
            "colorbar": {
             "outlinewidth": 0,
             "ticks": ""
            },
            "colorscale": [
             [
              0,
              "#0d0887"
             ],
             [
              0.1111111111111111,
              "#46039f"
             ],
             [
              0.2222222222222222,
              "#7201a8"
             ],
             [
              0.3333333333333333,
              "#9c179e"
             ],
             [
              0.4444444444444444,
              "#bd3786"
             ],
             [
              0.5555555555555556,
              "#d8576b"
             ],
             [
              0.6666666666666666,
              "#ed7953"
             ],
             [
              0.7777777777777778,
              "#fb9f3a"
             ],
             [
              0.8888888888888888,
              "#fdca26"
             ],
             [
              1,
              "#f0f921"
             ]
            ],
            "type": "heatmap"
           }
          ],
          "heatmapgl": [
           {
            "colorbar": {
             "outlinewidth": 0,
             "ticks": ""
            },
            "colorscale": [
             [
              0,
              "#0d0887"
             ],
             [
              0.1111111111111111,
              "#46039f"
             ],
             [
              0.2222222222222222,
              "#7201a8"
             ],
             [
              0.3333333333333333,
              "#9c179e"
             ],
             [
              0.4444444444444444,
              "#bd3786"
             ],
             [
              0.5555555555555556,
              "#d8576b"
             ],
             [
              0.6666666666666666,
              "#ed7953"
             ],
             [
              0.7777777777777778,
              "#fb9f3a"
             ],
             [
              0.8888888888888888,
              "#fdca26"
             ],
             [
              1,
              "#f0f921"
             ]
            ],
            "type": "heatmapgl"
           }
          ],
          "histogram": [
           {
            "marker": {
             "pattern": {
              "fillmode": "overlay",
              "size": 10,
              "solidity": 0.2
             }
            },
            "type": "histogram"
           }
          ],
          "histogram2d": [
           {
            "colorbar": {
             "outlinewidth": 0,
             "ticks": ""
            },
            "colorscale": [
             [
              0,
              "#0d0887"
             ],
             [
              0.1111111111111111,
              "#46039f"
             ],
             [
              0.2222222222222222,
              "#7201a8"
             ],
             [
              0.3333333333333333,
              "#9c179e"
             ],
             [
              0.4444444444444444,
              "#bd3786"
             ],
             [
              0.5555555555555556,
              "#d8576b"
             ],
             [
              0.6666666666666666,
              "#ed7953"
             ],
             [
              0.7777777777777778,
              "#fb9f3a"
             ],
             [
              0.8888888888888888,
              "#fdca26"
             ],
             [
              1,
              "#f0f921"
             ]
            ],
            "type": "histogram2d"
           }
          ],
          "histogram2dcontour": [
           {
            "colorbar": {
             "outlinewidth": 0,
             "ticks": ""
            },
            "colorscale": [
             [
              0,
              "#0d0887"
             ],
             [
              0.1111111111111111,
              "#46039f"
             ],
             [
              0.2222222222222222,
              "#7201a8"
             ],
             [
              0.3333333333333333,
              "#9c179e"
             ],
             [
              0.4444444444444444,
              "#bd3786"
             ],
             [
              0.5555555555555556,
              "#d8576b"
             ],
             [
              0.6666666666666666,
              "#ed7953"
             ],
             [
              0.7777777777777778,
              "#fb9f3a"
             ],
             [
              0.8888888888888888,
              "#fdca26"
             ],
             [
              1,
              "#f0f921"
             ]
            ],
            "type": "histogram2dcontour"
           }
          ],
          "mesh3d": [
           {
            "colorbar": {
             "outlinewidth": 0,
             "ticks": ""
            },
            "type": "mesh3d"
           }
          ],
          "parcoords": [
           {
            "line": {
             "colorbar": {
              "outlinewidth": 0,
              "ticks": ""
             }
            },
            "type": "parcoords"
           }
          ],
          "pie": [
           {
            "automargin": true,
            "type": "pie"
           }
          ],
          "scatter": [
           {
            "marker": {
             "line": {
              "color": "#283442"
             }
            },
            "type": "scatter"
           }
          ],
          "scatter3d": [
           {
            "line": {
             "colorbar": {
              "outlinewidth": 0,
              "ticks": ""
             }
            },
            "marker": {
             "colorbar": {
              "outlinewidth": 0,
              "ticks": ""
             }
            },
            "type": "scatter3d"
           }
          ],
          "scattercarpet": [
           {
            "marker": {
             "colorbar": {
              "outlinewidth": 0,
              "ticks": ""
             }
            },
            "type": "scattercarpet"
           }
          ],
          "scattergeo": [
           {
            "marker": {
             "colorbar": {
              "outlinewidth": 0,
              "ticks": ""
             }
            },
            "type": "scattergeo"
           }
          ],
          "scattergl": [
           {
            "marker": {
             "line": {
              "color": "#283442"
             }
            },
            "type": "scattergl"
           }
          ],
          "scattermapbox": [
           {
            "marker": {
             "colorbar": {
              "outlinewidth": 0,
              "ticks": ""
             }
            },
            "type": "scattermapbox"
           }
          ],
          "scatterpolar": [
           {
            "marker": {
             "colorbar": {
              "outlinewidth": 0,
              "ticks": ""
             }
            },
            "type": "scatterpolar"
           }
          ],
          "scatterpolargl": [
           {
            "marker": {
             "colorbar": {
              "outlinewidth": 0,
              "ticks": ""
             }
            },
            "type": "scatterpolargl"
           }
          ],
          "scatterternary": [
           {
            "marker": {
             "colorbar": {
              "outlinewidth": 0,
              "ticks": ""
             }
            },
            "type": "scatterternary"
           }
          ],
          "surface": [
           {
            "colorbar": {
             "outlinewidth": 0,
             "ticks": ""
            },
            "colorscale": [
             [
              0,
              "#0d0887"
             ],
             [
              0.1111111111111111,
              "#46039f"
             ],
             [
              0.2222222222222222,
              "#7201a8"
             ],
             [
              0.3333333333333333,
              "#9c179e"
             ],
             [
              0.4444444444444444,
              "#bd3786"
             ],
             [
              0.5555555555555556,
              "#d8576b"
             ],
             [
              0.6666666666666666,
              "#ed7953"
             ],
             [
              0.7777777777777778,
              "#fb9f3a"
             ],
             [
              0.8888888888888888,
              "#fdca26"
             ],
             [
              1,
              "#f0f921"
             ]
            ],
            "type": "surface"
           }
          ],
          "table": [
           {
            "cells": {
             "fill": {
              "color": "#506784"
             },
             "line": {
              "color": "rgb(17,17,17)"
             }
            },
            "header": {
             "fill": {
              "color": "#2a3f5f"
             },
             "line": {
              "color": "rgb(17,17,17)"
             }
            },
            "type": "table"
           }
          ]
         },
         "layout": {
          "annotationdefaults": {
           "arrowcolor": "#f2f5fa",
           "arrowhead": 0,
           "arrowwidth": 1
          },
          "autotypenumbers": "strict",
          "coloraxis": {
           "colorbar": {
            "outlinewidth": 0,
            "ticks": ""
           }
          },
          "colorscale": {
           "diverging": [
            [
             0,
             "#8e0152"
            ],
            [
             0.1,
             "#c51b7d"
            ],
            [
             0.2,
             "#de77ae"
            ],
            [
             0.3,
             "#f1b6da"
            ],
            [
             0.4,
             "#fde0ef"
            ],
            [
             0.5,
             "#f7f7f7"
            ],
            [
             0.6,
             "#e6f5d0"
            ],
            [
             0.7,
             "#b8e186"
            ],
            [
             0.8,
             "#7fbc41"
            ],
            [
             0.9,
             "#4d9221"
            ],
            [
             1,
             "#276419"
            ]
           ],
           "sequential": [
            [
             0,
             "#0d0887"
            ],
            [
             0.1111111111111111,
             "#46039f"
            ],
            [
             0.2222222222222222,
             "#7201a8"
            ],
            [
             0.3333333333333333,
             "#9c179e"
            ],
            [
             0.4444444444444444,
             "#bd3786"
            ],
            [
             0.5555555555555556,
             "#d8576b"
            ],
            [
             0.6666666666666666,
             "#ed7953"
            ],
            [
             0.7777777777777778,
             "#fb9f3a"
            ],
            [
             0.8888888888888888,
             "#fdca26"
            ],
            [
             1,
             "#f0f921"
            ]
           ],
           "sequentialminus": [
            [
             0,
             "#0d0887"
            ],
            [
             0.1111111111111111,
             "#46039f"
            ],
            [
             0.2222222222222222,
             "#7201a8"
            ],
            [
             0.3333333333333333,
             "#9c179e"
            ],
            [
             0.4444444444444444,
             "#bd3786"
            ],
            [
             0.5555555555555556,
             "#d8576b"
            ],
            [
             0.6666666666666666,
             "#ed7953"
            ],
            [
             0.7777777777777778,
             "#fb9f3a"
            ],
            [
             0.8888888888888888,
             "#fdca26"
            ],
            [
             1,
             "#f0f921"
            ]
           ]
          },
          "colorway": [
           "#636efa",
           "#EF553B",
           "#00cc96",
           "#ab63fa",
           "#FFA15A",
           "#19d3f3",
           "#FF6692",
           "#B6E880",
           "#FF97FF",
           "#FECB52"
          ],
          "font": {
           "color": "#f2f5fa"
          },
          "geo": {
           "bgcolor": "rgb(17,17,17)",
           "lakecolor": "rgb(17,17,17)",
           "landcolor": "rgb(17,17,17)",
           "showlakes": true,
           "showland": true,
           "subunitcolor": "#506784"
          },
          "hoverlabel": {
           "align": "left"
          },
          "hovermode": "closest",
          "mapbox": {
           "style": "dark"
          },
          "paper_bgcolor": "rgb(17,17,17)",
          "plot_bgcolor": "rgb(17,17,17)",
          "polar": {
           "angularaxis": {
            "gridcolor": "#506784",
            "linecolor": "#506784",
            "ticks": ""
           },
           "bgcolor": "rgb(17,17,17)",
           "radialaxis": {
            "gridcolor": "#506784",
            "linecolor": "#506784",
            "ticks": ""
           }
          },
          "scene": {
           "xaxis": {
            "backgroundcolor": "rgb(17,17,17)",
            "gridcolor": "#506784",
            "gridwidth": 2,
            "linecolor": "#506784",
            "showbackground": true,
            "ticks": "",
            "zerolinecolor": "#C8D4E3"
           },
           "yaxis": {
            "backgroundcolor": "rgb(17,17,17)",
            "gridcolor": "#506784",
            "gridwidth": 2,
            "linecolor": "#506784",
            "showbackground": true,
            "ticks": "",
            "zerolinecolor": "#C8D4E3"
           },
           "zaxis": {
            "backgroundcolor": "rgb(17,17,17)",
            "gridcolor": "#506784",
            "gridwidth": 2,
            "linecolor": "#506784",
            "showbackground": true,
            "ticks": "",
            "zerolinecolor": "#C8D4E3"
           }
          },
          "shapedefaults": {
           "line": {
            "color": "#f2f5fa"
           }
          },
          "sliderdefaults": {
           "bgcolor": "#C8D4E3",
           "bordercolor": "rgb(17,17,17)",
           "borderwidth": 1,
           "tickwidth": 0
          },
          "ternary": {
           "aaxis": {
            "gridcolor": "#506784",
            "linecolor": "#506784",
            "ticks": ""
           },
           "baxis": {
            "gridcolor": "#506784",
            "linecolor": "#506784",
            "ticks": ""
           },
           "bgcolor": "rgb(17,17,17)",
           "caxis": {
            "gridcolor": "#506784",
            "linecolor": "#506784",
            "ticks": ""
           }
          },
          "title": {
           "x": 0.05
          },
          "updatemenudefaults": {
           "bgcolor": "#506784",
           "borderwidth": 0
          },
          "xaxis": {
           "automargin": true,
           "gridcolor": "#283442",
           "linecolor": "#506784",
           "ticks": "",
           "title": {
            "standoff": 15
           },
           "zerolinecolor": "#283442",
           "zerolinewidth": 2
          },
          "yaxis": {
           "automargin": true,
           "gridcolor": "#283442",
           "linecolor": "#506784",
           "ticks": "",
           "title": {
            "standoff": 15
           },
           "zerolinecolor": "#283442",
           "zerolinewidth": 2
          }
         }
        },
        "title": {
         "text": "Mood by hour"
        },
        "xaxis": {
         "anchor": "y",
         "domain": [
          0,
          1
         ],
         "dtick": 1,
         "title": {
          "text": "Hour"
         }
        },
        "yaxis": {
         "anchor": "x",
         "domain": [
          0,
          1
         ],
         "title": {
          "text": "Mood"
         }
        }
       }
      }
     },
     "metadata": {},
     "output_type": "display_data"
    }
   ],
   "source": [
    "df.by_time_bar_plot('hour')"
   ]
  },
  {
   "cell_type": "code",
   "execution_count": 34,
   "metadata": {},
   "outputs": [
    {
     "data": {
      "application/vnd.plotly.v1+json": {
       "config": {
        "plotlyServerURL": "https://plot.ly"
       },
       "data": [
        {
         "alignmentgroup": "True",
         "hovertemplate": "Day=%{x}<br>Mood=%{y}<br>Number of entries=%{marker.color}<extra></extra>",
         "legendgroup": "",
         "marker": {
          "color": [
           34,
           38,
           21,
           25,
           26,
           28,
           31,
           30,
           27,
           26,
           28,
           28,
           26,
           22,
           27,
           29,
           25,
           29,
           25,
           29,
           36,
           23,
           21,
           25,
           31,
           32,
           28,
           25,
           27,
           26,
           30
          ],
          "coloraxis": "coloraxis",
          "pattern": {
           "shape": ""
          }
         },
         "name": "",
         "offsetgroup": "",
         "orientation": "v",
         "showlegend": false,
         "textposition": "auto",
         "type": "bar",
         "x": [
          2,
          1,
          31,
          30,
          29,
          28,
          27,
          26,
          25,
          24,
          23,
          22,
          21,
          20,
          19,
          18,
          17,
          16,
          15,
          14,
          13,
          12,
          11,
          10,
          9,
          8,
          7,
          6,
          5,
          4,
          3
         ],
         "xaxis": "x",
         "y": [
          3.7794117647058822,
          3.8421052631578947,
          3.642857142857143,
          3.66,
          3.730769230769231,
          3.767857142857143,
          3.8548387096774195,
          3.716666666666667,
          3.740740740740741,
          3.6346153846153846,
          3.8035714285714284,
          3.892857142857143,
          3.6923076923076925,
          3.7954545454545454,
          3.759259259259259,
          4.189655172413793,
          3.62,
          3.7758620689655173,
          3.84,
          3.7241379310344827,
          3.875,
          3.9782608695652173,
          4,
          3.9,
          3.7580645161290325,
          3.90625,
          3.75,
          3.76,
          3.6666666666666665,
          3.9615384615384617,
          3.8333333333333335
         ],
         "yaxis": "y"
        }
       ],
       "layout": {
        "barmode": "relative",
        "coloraxis": {
         "colorbar": {
          "title": {
           "text": "Number of entries"
          }
         },
         "colorscale": [
          [
           0,
           "#440154"
          ],
          [
           0.1111111111111111,
           "#482878"
          ],
          [
           0.2222222222222222,
           "#3e4989"
          ],
          [
           0.3333333333333333,
           "#31688e"
          ],
          [
           0.4444444444444444,
           "#26828e"
          ],
          [
           0.5555555555555556,
           "#1f9e89"
          ],
          [
           0.6666666666666666,
           "#35b779"
          ],
          [
           0.7777777777777778,
           "#6ece58"
          ],
          [
           0.8888888888888888,
           "#b5de2b"
          ],
          [
           1,
           "#fde725"
          ]
         ]
        },
        "legend": {
         "tracegroupgap": 0
        },
        "template": {
         "data": {
          "bar": [
           {
            "error_x": {
             "color": "#f2f5fa"
            },
            "error_y": {
             "color": "#f2f5fa"
            },
            "marker": {
             "line": {
              "color": "rgb(17,17,17)",
              "width": 0.5
             },
             "pattern": {
              "fillmode": "overlay",
              "size": 10,
              "solidity": 0.2
             }
            },
            "type": "bar"
           }
          ],
          "barpolar": [
           {
            "marker": {
             "line": {
              "color": "rgb(17,17,17)",
              "width": 0.5
             },
             "pattern": {
              "fillmode": "overlay",
              "size": 10,
              "solidity": 0.2
             }
            },
            "type": "barpolar"
           }
          ],
          "carpet": [
           {
            "aaxis": {
             "endlinecolor": "#A2B1C6",
             "gridcolor": "#506784",
             "linecolor": "#506784",
             "minorgridcolor": "#506784",
             "startlinecolor": "#A2B1C6"
            },
            "baxis": {
             "endlinecolor": "#A2B1C6",
             "gridcolor": "#506784",
             "linecolor": "#506784",
             "minorgridcolor": "#506784",
             "startlinecolor": "#A2B1C6"
            },
            "type": "carpet"
           }
          ],
          "choropleth": [
           {
            "colorbar": {
             "outlinewidth": 0,
             "ticks": ""
            },
            "type": "choropleth"
           }
          ],
          "contour": [
           {
            "colorbar": {
             "outlinewidth": 0,
             "ticks": ""
            },
            "colorscale": [
             [
              0,
              "#0d0887"
             ],
             [
              0.1111111111111111,
              "#46039f"
             ],
             [
              0.2222222222222222,
              "#7201a8"
             ],
             [
              0.3333333333333333,
              "#9c179e"
             ],
             [
              0.4444444444444444,
              "#bd3786"
             ],
             [
              0.5555555555555556,
              "#d8576b"
             ],
             [
              0.6666666666666666,
              "#ed7953"
             ],
             [
              0.7777777777777778,
              "#fb9f3a"
             ],
             [
              0.8888888888888888,
              "#fdca26"
             ],
             [
              1,
              "#f0f921"
             ]
            ],
            "type": "contour"
           }
          ],
          "contourcarpet": [
           {
            "colorbar": {
             "outlinewidth": 0,
             "ticks": ""
            },
            "type": "contourcarpet"
           }
          ],
          "heatmap": [
           {
            "colorbar": {
             "outlinewidth": 0,
             "ticks": ""
            },
            "colorscale": [
             [
              0,
              "#0d0887"
             ],
             [
              0.1111111111111111,
              "#46039f"
             ],
             [
              0.2222222222222222,
              "#7201a8"
             ],
             [
              0.3333333333333333,
              "#9c179e"
             ],
             [
              0.4444444444444444,
              "#bd3786"
             ],
             [
              0.5555555555555556,
              "#d8576b"
             ],
             [
              0.6666666666666666,
              "#ed7953"
             ],
             [
              0.7777777777777778,
              "#fb9f3a"
             ],
             [
              0.8888888888888888,
              "#fdca26"
             ],
             [
              1,
              "#f0f921"
             ]
            ],
            "type": "heatmap"
           }
          ],
          "heatmapgl": [
           {
            "colorbar": {
             "outlinewidth": 0,
             "ticks": ""
            },
            "colorscale": [
             [
              0,
              "#0d0887"
             ],
             [
              0.1111111111111111,
              "#46039f"
             ],
             [
              0.2222222222222222,
              "#7201a8"
             ],
             [
              0.3333333333333333,
              "#9c179e"
             ],
             [
              0.4444444444444444,
              "#bd3786"
             ],
             [
              0.5555555555555556,
              "#d8576b"
             ],
             [
              0.6666666666666666,
              "#ed7953"
             ],
             [
              0.7777777777777778,
              "#fb9f3a"
             ],
             [
              0.8888888888888888,
              "#fdca26"
             ],
             [
              1,
              "#f0f921"
             ]
            ],
            "type": "heatmapgl"
           }
          ],
          "histogram": [
           {
            "marker": {
             "pattern": {
              "fillmode": "overlay",
              "size": 10,
              "solidity": 0.2
             }
            },
            "type": "histogram"
           }
          ],
          "histogram2d": [
           {
            "colorbar": {
             "outlinewidth": 0,
             "ticks": ""
            },
            "colorscale": [
             [
              0,
              "#0d0887"
             ],
             [
              0.1111111111111111,
              "#46039f"
             ],
             [
              0.2222222222222222,
              "#7201a8"
             ],
             [
              0.3333333333333333,
              "#9c179e"
             ],
             [
              0.4444444444444444,
              "#bd3786"
             ],
             [
              0.5555555555555556,
              "#d8576b"
             ],
             [
              0.6666666666666666,
              "#ed7953"
             ],
             [
              0.7777777777777778,
              "#fb9f3a"
             ],
             [
              0.8888888888888888,
              "#fdca26"
             ],
             [
              1,
              "#f0f921"
             ]
            ],
            "type": "histogram2d"
           }
          ],
          "histogram2dcontour": [
           {
            "colorbar": {
             "outlinewidth": 0,
             "ticks": ""
            },
            "colorscale": [
             [
              0,
              "#0d0887"
             ],
             [
              0.1111111111111111,
              "#46039f"
             ],
             [
              0.2222222222222222,
              "#7201a8"
             ],
             [
              0.3333333333333333,
              "#9c179e"
             ],
             [
              0.4444444444444444,
              "#bd3786"
             ],
             [
              0.5555555555555556,
              "#d8576b"
             ],
             [
              0.6666666666666666,
              "#ed7953"
             ],
             [
              0.7777777777777778,
              "#fb9f3a"
             ],
             [
              0.8888888888888888,
              "#fdca26"
             ],
             [
              1,
              "#f0f921"
             ]
            ],
            "type": "histogram2dcontour"
           }
          ],
          "mesh3d": [
           {
            "colorbar": {
             "outlinewidth": 0,
             "ticks": ""
            },
            "type": "mesh3d"
           }
          ],
          "parcoords": [
           {
            "line": {
             "colorbar": {
              "outlinewidth": 0,
              "ticks": ""
             }
            },
            "type": "parcoords"
           }
          ],
          "pie": [
           {
            "automargin": true,
            "type": "pie"
           }
          ],
          "scatter": [
           {
            "marker": {
             "line": {
              "color": "#283442"
             }
            },
            "type": "scatter"
           }
          ],
          "scatter3d": [
           {
            "line": {
             "colorbar": {
              "outlinewidth": 0,
              "ticks": ""
             }
            },
            "marker": {
             "colorbar": {
              "outlinewidth": 0,
              "ticks": ""
             }
            },
            "type": "scatter3d"
           }
          ],
          "scattercarpet": [
           {
            "marker": {
             "colorbar": {
              "outlinewidth": 0,
              "ticks": ""
             }
            },
            "type": "scattercarpet"
           }
          ],
          "scattergeo": [
           {
            "marker": {
             "colorbar": {
              "outlinewidth": 0,
              "ticks": ""
             }
            },
            "type": "scattergeo"
           }
          ],
          "scattergl": [
           {
            "marker": {
             "line": {
              "color": "#283442"
             }
            },
            "type": "scattergl"
           }
          ],
          "scattermapbox": [
           {
            "marker": {
             "colorbar": {
              "outlinewidth": 0,
              "ticks": ""
             }
            },
            "type": "scattermapbox"
           }
          ],
          "scatterpolar": [
           {
            "marker": {
             "colorbar": {
              "outlinewidth": 0,
              "ticks": ""
             }
            },
            "type": "scatterpolar"
           }
          ],
          "scatterpolargl": [
           {
            "marker": {
             "colorbar": {
              "outlinewidth": 0,
              "ticks": ""
             }
            },
            "type": "scatterpolargl"
           }
          ],
          "scatterternary": [
           {
            "marker": {
             "colorbar": {
              "outlinewidth": 0,
              "ticks": ""
             }
            },
            "type": "scatterternary"
           }
          ],
          "surface": [
           {
            "colorbar": {
             "outlinewidth": 0,
             "ticks": ""
            },
            "colorscale": [
             [
              0,
              "#0d0887"
             ],
             [
              0.1111111111111111,
              "#46039f"
             ],
             [
              0.2222222222222222,
              "#7201a8"
             ],
             [
              0.3333333333333333,
              "#9c179e"
             ],
             [
              0.4444444444444444,
              "#bd3786"
             ],
             [
              0.5555555555555556,
              "#d8576b"
             ],
             [
              0.6666666666666666,
              "#ed7953"
             ],
             [
              0.7777777777777778,
              "#fb9f3a"
             ],
             [
              0.8888888888888888,
              "#fdca26"
             ],
             [
              1,
              "#f0f921"
             ]
            ],
            "type": "surface"
           }
          ],
          "table": [
           {
            "cells": {
             "fill": {
              "color": "#506784"
             },
             "line": {
              "color": "rgb(17,17,17)"
             }
            },
            "header": {
             "fill": {
              "color": "#2a3f5f"
             },
             "line": {
              "color": "rgb(17,17,17)"
             }
            },
            "type": "table"
           }
          ]
         },
         "layout": {
          "annotationdefaults": {
           "arrowcolor": "#f2f5fa",
           "arrowhead": 0,
           "arrowwidth": 1
          },
          "autotypenumbers": "strict",
          "coloraxis": {
           "colorbar": {
            "outlinewidth": 0,
            "ticks": ""
           }
          },
          "colorscale": {
           "diverging": [
            [
             0,
             "#8e0152"
            ],
            [
             0.1,
             "#c51b7d"
            ],
            [
             0.2,
             "#de77ae"
            ],
            [
             0.3,
             "#f1b6da"
            ],
            [
             0.4,
             "#fde0ef"
            ],
            [
             0.5,
             "#f7f7f7"
            ],
            [
             0.6,
             "#e6f5d0"
            ],
            [
             0.7,
             "#b8e186"
            ],
            [
             0.8,
             "#7fbc41"
            ],
            [
             0.9,
             "#4d9221"
            ],
            [
             1,
             "#276419"
            ]
           ],
           "sequential": [
            [
             0,
             "#0d0887"
            ],
            [
             0.1111111111111111,
             "#46039f"
            ],
            [
             0.2222222222222222,
             "#7201a8"
            ],
            [
             0.3333333333333333,
             "#9c179e"
            ],
            [
             0.4444444444444444,
             "#bd3786"
            ],
            [
             0.5555555555555556,
             "#d8576b"
            ],
            [
             0.6666666666666666,
             "#ed7953"
            ],
            [
             0.7777777777777778,
             "#fb9f3a"
            ],
            [
             0.8888888888888888,
             "#fdca26"
            ],
            [
             1,
             "#f0f921"
            ]
           ],
           "sequentialminus": [
            [
             0,
             "#0d0887"
            ],
            [
             0.1111111111111111,
             "#46039f"
            ],
            [
             0.2222222222222222,
             "#7201a8"
            ],
            [
             0.3333333333333333,
             "#9c179e"
            ],
            [
             0.4444444444444444,
             "#bd3786"
            ],
            [
             0.5555555555555556,
             "#d8576b"
            ],
            [
             0.6666666666666666,
             "#ed7953"
            ],
            [
             0.7777777777777778,
             "#fb9f3a"
            ],
            [
             0.8888888888888888,
             "#fdca26"
            ],
            [
             1,
             "#f0f921"
            ]
           ]
          },
          "colorway": [
           "#636efa",
           "#EF553B",
           "#00cc96",
           "#ab63fa",
           "#FFA15A",
           "#19d3f3",
           "#FF6692",
           "#B6E880",
           "#FF97FF",
           "#FECB52"
          ],
          "font": {
           "color": "#f2f5fa"
          },
          "geo": {
           "bgcolor": "rgb(17,17,17)",
           "lakecolor": "rgb(17,17,17)",
           "landcolor": "rgb(17,17,17)",
           "showlakes": true,
           "showland": true,
           "subunitcolor": "#506784"
          },
          "hoverlabel": {
           "align": "left"
          },
          "hovermode": "closest",
          "mapbox": {
           "style": "dark"
          },
          "paper_bgcolor": "rgb(17,17,17)",
          "plot_bgcolor": "rgb(17,17,17)",
          "polar": {
           "angularaxis": {
            "gridcolor": "#506784",
            "linecolor": "#506784",
            "ticks": ""
           },
           "bgcolor": "rgb(17,17,17)",
           "radialaxis": {
            "gridcolor": "#506784",
            "linecolor": "#506784",
            "ticks": ""
           }
          },
          "scene": {
           "xaxis": {
            "backgroundcolor": "rgb(17,17,17)",
            "gridcolor": "#506784",
            "gridwidth": 2,
            "linecolor": "#506784",
            "showbackground": true,
            "ticks": "",
            "zerolinecolor": "#C8D4E3"
           },
           "yaxis": {
            "backgroundcolor": "rgb(17,17,17)",
            "gridcolor": "#506784",
            "gridwidth": 2,
            "linecolor": "#506784",
            "showbackground": true,
            "ticks": "",
            "zerolinecolor": "#C8D4E3"
           },
           "zaxis": {
            "backgroundcolor": "rgb(17,17,17)",
            "gridcolor": "#506784",
            "gridwidth": 2,
            "linecolor": "#506784",
            "showbackground": true,
            "ticks": "",
            "zerolinecolor": "#C8D4E3"
           }
          },
          "shapedefaults": {
           "line": {
            "color": "#f2f5fa"
           }
          },
          "sliderdefaults": {
           "bgcolor": "#C8D4E3",
           "bordercolor": "rgb(17,17,17)",
           "borderwidth": 1,
           "tickwidth": 0
          },
          "ternary": {
           "aaxis": {
            "gridcolor": "#506784",
            "linecolor": "#506784",
            "ticks": ""
           },
           "baxis": {
            "gridcolor": "#506784",
            "linecolor": "#506784",
            "ticks": ""
           },
           "bgcolor": "rgb(17,17,17)",
           "caxis": {
            "gridcolor": "#506784",
            "linecolor": "#506784",
            "ticks": ""
           }
          },
          "title": {
           "x": 0.05
          },
          "updatemenudefaults": {
           "bgcolor": "#506784",
           "borderwidth": 0
          },
          "xaxis": {
           "automargin": true,
           "gridcolor": "#283442",
           "linecolor": "#506784",
           "ticks": "",
           "title": {
            "standoff": 15
           },
           "zerolinecolor": "#283442",
           "zerolinewidth": 2
          },
          "yaxis": {
           "automargin": true,
           "gridcolor": "#283442",
           "linecolor": "#506784",
           "ticks": "",
           "title": {
            "standoff": 15
           },
           "zerolinecolor": "#283442",
           "zerolinewidth": 2
          }
         }
        },
        "title": {
         "text": "Mood by day"
        },
        "xaxis": {
         "anchor": "y",
         "domain": [
          0,
          1
         ],
         "dtick": 1,
         "title": {
          "text": "Day"
         }
        },
        "yaxis": {
         "anchor": "x",
         "domain": [
          0,
          1
         ],
         "title": {
          "text": "Mood"
         }
        }
       }
      }
     },
     "metadata": {},
     "output_type": "display_data"
    }
   ],
   "source": [
    "df.by_time_bar_plot('day')"
   ]
  },
  {
   "cell_type": "code",
   "execution_count": 35,
   "metadata": {},
   "outputs": [
    {
     "data": {
      "application/vnd.plotly.v1+json": {
       "config": {
        "plotlyServerURL": "https://plot.ly"
       },
       "data": [
        {
         "alignmentgroup": "True",
         "hovertemplate": "Weekday=%{x}<br>Mood=%{y}<br>Number of entries=%{marker.color}<extra></extra>",
         "legendgroup": "",
         "marker": {
          "color": [
           131,
           111,
           119,
           128,
           134,
           119,
           116
          ],
          "coloraxis": "coloraxis",
          "pattern": {
           "shape": ""
          }
         },
         "name": "",
         "offsetgroup": "",
         "orientation": "v",
         "showlegend": false,
         "textposition": "auto",
         "type": "bar",
         "x": [
          1,
          0,
          6,
          5,
          4,
          3,
          2
         ],
         "xaxis": "x",
         "y": [
          3.8091603053435112,
          3.7882882882882885,
          3.8403361344537816,
          3.875,
          3.705223880597015,
          3.76890756302521,
          3.8448275862068964
         ],
         "yaxis": "y"
        }
       ],
       "layout": {
        "barmode": "relative",
        "coloraxis": {
         "colorbar": {
          "title": {
           "text": "Number of entries"
          }
         },
         "colorscale": [
          [
           0,
           "#440154"
          ],
          [
           0.1111111111111111,
           "#482878"
          ],
          [
           0.2222222222222222,
           "#3e4989"
          ],
          [
           0.3333333333333333,
           "#31688e"
          ],
          [
           0.4444444444444444,
           "#26828e"
          ],
          [
           0.5555555555555556,
           "#1f9e89"
          ],
          [
           0.6666666666666666,
           "#35b779"
          ],
          [
           0.7777777777777778,
           "#6ece58"
          ],
          [
           0.8888888888888888,
           "#b5de2b"
          ],
          [
           1,
           "#fde725"
          ]
         ]
        },
        "legend": {
         "tracegroupgap": 0
        },
        "template": {
         "data": {
          "bar": [
           {
            "error_x": {
             "color": "#f2f5fa"
            },
            "error_y": {
             "color": "#f2f5fa"
            },
            "marker": {
             "line": {
              "color": "rgb(17,17,17)",
              "width": 0.5
             },
             "pattern": {
              "fillmode": "overlay",
              "size": 10,
              "solidity": 0.2
             }
            },
            "type": "bar"
           }
          ],
          "barpolar": [
           {
            "marker": {
             "line": {
              "color": "rgb(17,17,17)",
              "width": 0.5
             },
             "pattern": {
              "fillmode": "overlay",
              "size": 10,
              "solidity": 0.2
             }
            },
            "type": "barpolar"
           }
          ],
          "carpet": [
           {
            "aaxis": {
             "endlinecolor": "#A2B1C6",
             "gridcolor": "#506784",
             "linecolor": "#506784",
             "minorgridcolor": "#506784",
             "startlinecolor": "#A2B1C6"
            },
            "baxis": {
             "endlinecolor": "#A2B1C6",
             "gridcolor": "#506784",
             "linecolor": "#506784",
             "minorgridcolor": "#506784",
             "startlinecolor": "#A2B1C6"
            },
            "type": "carpet"
           }
          ],
          "choropleth": [
           {
            "colorbar": {
             "outlinewidth": 0,
             "ticks": ""
            },
            "type": "choropleth"
           }
          ],
          "contour": [
           {
            "colorbar": {
             "outlinewidth": 0,
             "ticks": ""
            },
            "colorscale": [
             [
              0,
              "#0d0887"
             ],
             [
              0.1111111111111111,
              "#46039f"
             ],
             [
              0.2222222222222222,
              "#7201a8"
             ],
             [
              0.3333333333333333,
              "#9c179e"
             ],
             [
              0.4444444444444444,
              "#bd3786"
             ],
             [
              0.5555555555555556,
              "#d8576b"
             ],
             [
              0.6666666666666666,
              "#ed7953"
             ],
             [
              0.7777777777777778,
              "#fb9f3a"
             ],
             [
              0.8888888888888888,
              "#fdca26"
             ],
             [
              1,
              "#f0f921"
             ]
            ],
            "type": "contour"
           }
          ],
          "contourcarpet": [
           {
            "colorbar": {
             "outlinewidth": 0,
             "ticks": ""
            },
            "type": "contourcarpet"
           }
          ],
          "heatmap": [
           {
            "colorbar": {
             "outlinewidth": 0,
             "ticks": ""
            },
            "colorscale": [
             [
              0,
              "#0d0887"
             ],
             [
              0.1111111111111111,
              "#46039f"
             ],
             [
              0.2222222222222222,
              "#7201a8"
             ],
             [
              0.3333333333333333,
              "#9c179e"
             ],
             [
              0.4444444444444444,
              "#bd3786"
             ],
             [
              0.5555555555555556,
              "#d8576b"
             ],
             [
              0.6666666666666666,
              "#ed7953"
             ],
             [
              0.7777777777777778,
              "#fb9f3a"
             ],
             [
              0.8888888888888888,
              "#fdca26"
             ],
             [
              1,
              "#f0f921"
             ]
            ],
            "type": "heatmap"
           }
          ],
          "heatmapgl": [
           {
            "colorbar": {
             "outlinewidth": 0,
             "ticks": ""
            },
            "colorscale": [
             [
              0,
              "#0d0887"
             ],
             [
              0.1111111111111111,
              "#46039f"
             ],
             [
              0.2222222222222222,
              "#7201a8"
             ],
             [
              0.3333333333333333,
              "#9c179e"
             ],
             [
              0.4444444444444444,
              "#bd3786"
             ],
             [
              0.5555555555555556,
              "#d8576b"
             ],
             [
              0.6666666666666666,
              "#ed7953"
             ],
             [
              0.7777777777777778,
              "#fb9f3a"
             ],
             [
              0.8888888888888888,
              "#fdca26"
             ],
             [
              1,
              "#f0f921"
             ]
            ],
            "type": "heatmapgl"
           }
          ],
          "histogram": [
           {
            "marker": {
             "pattern": {
              "fillmode": "overlay",
              "size": 10,
              "solidity": 0.2
             }
            },
            "type": "histogram"
           }
          ],
          "histogram2d": [
           {
            "colorbar": {
             "outlinewidth": 0,
             "ticks": ""
            },
            "colorscale": [
             [
              0,
              "#0d0887"
             ],
             [
              0.1111111111111111,
              "#46039f"
             ],
             [
              0.2222222222222222,
              "#7201a8"
             ],
             [
              0.3333333333333333,
              "#9c179e"
             ],
             [
              0.4444444444444444,
              "#bd3786"
             ],
             [
              0.5555555555555556,
              "#d8576b"
             ],
             [
              0.6666666666666666,
              "#ed7953"
             ],
             [
              0.7777777777777778,
              "#fb9f3a"
             ],
             [
              0.8888888888888888,
              "#fdca26"
             ],
             [
              1,
              "#f0f921"
             ]
            ],
            "type": "histogram2d"
           }
          ],
          "histogram2dcontour": [
           {
            "colorbar": {
             "outlinewidth": 0,
             "ticks": ""
            },
            "colorscale": [
             [
              0,
              "#0d0887"
             ],
             [
              0.1111111111111111,
              "#46039f"
             ],
             [
              0.2222222222222222,
              "#7201a8"
             ],
             [
              0.3333333333333333,
              "#9c179e"
             ],
             [
              0.4444444444444444,
              "#bd3786"
             ],
             [
              0.5555555555555556,
              "#d8576b"
             ],
             [
              0.6666666666666666,
              "#ed7953"
             ],
             [
              0.7777777777777778,
              "#fb9f3a"
             ],
             [
              0.8888888888888888,
              "#fdca26"
             ],
             [
              1,
              "#f0f921"
             ]
            ],
            "type": "histogram2dcontour"
           }
          ],
          "mesh3d": [
           {
            "colorbar": {
             "outlinewidth": 0,
             "ticks": ""
            },
            "type": "mesh3d"
           }
          ],
          "parcoords": [
           {
            "line": {
             "colorbar": {
              "outlinewidth": 0,
              "ticks": ""
             }
            },
            "type": "parcoords"
           }
          ],
          "pie": [
           {
            "automargin": true,
            "type": "pie"
           }
          ],
          "scatter": [
           {
            "marker": {
             "line": {
              "color": "#283442"
             }
            },
            "type": "scatter"
           }
          ],
          "scatter3d": [
           {
            "line": {
             "colorbar": {
              "outlinewidth": 0,
              "ticks": ""
             }
            },
            "marker": {
             "colorbar": {
              "outlinewidth": 0,
              "ticks": ""
             }
            },
            "type": "scatter3d"
           }
          ],
          "scattercarpet": [
           {
            "marker": {
             "colorbar": {
              "outlinewidth": 0,
              "ticks": ""
             }
            },
            "type": "scattercarpet"
           }
          ],
          "scattergeo": [
           {
            "marker": {
             "colorbar": {
              "outlinewidth": 0,
              "ticks": ""
             }
            },
            "type": "scattergeo"
           }
          ],
          "scattergl": [
           {
            "marker": {
             "line": {
              "color": "#283442"
             }
            },
            "type": "scattergl"
           }
          ],
          "scattermapbox": [
           {
            "marker": {
             "colorbar": {
              "outlinewidth": 0,
              "ticks": ""
             }
            },
            "type": "scattermapbox"
           }
          ],
          "scatterpolar": [
           {
            "marker": {
             "colorbar": {
              "outlinewidth": 0,
              "ticks": ""
             }
            },
            "type": "scatterpolar"
           }
          ],
          "scatterpolargl": [
           {
            "marker": {
             "colorbar": {
              "outlinewidth": 0,
              "ticks": ""
             }
            },
            "type": "scatterpolargl"
           }
          ],
          "scatterternary": [
           {
            "marker": {
             "colorbar": {
              "outlinewidth": 0,
              "ticks": ""
             }
            },
            "type": "scatterternary"
           }
          ],
          "surface": [
           {
            "colorbar": {
             "outlinewidth": 0,
             "ticks": ""
            },
            "colorscale": [
             [
              0,
              "#0d0887"
             ],
             [
              0.1111111111111111,
              "#46039f"
             ],
             [
              0.2222222222222222,
              "#7201a8"
             ],
             [
              0.3333333333333333,
              "#9c179e"
             ],
             [
              0.4444444444444444,
              "#bd3786"
             ],
             [
              0.5555555555555556,
              "#d8576b"
             ],
             [
              0.6666666666666666,
              "#ed7953"
             ],
             [
              0.7777777777777778,
              "#fb9f3a"
             ],
             [
              0.8888888888888888,
              "#fdca26"
             ],
             [
              1,
              "#f0f921"
             ]
            ],
            "type": "surface"
           }
          ],
          "table": [
           {
            "cells": {
             "fill": {
              "color": "#506784"
             },
             "line": {
              "color": "rgb(17,17,17)"
             }
            },
            "header": {
             "fill": {
              "color": "#2a3f5f"
             },
             "line": {
              "color": "rgb(17,17,17)"
             }
            },
            "type": "table"
           }
          ]
         },
         "layout": {
          "annotationdefaults": {
           "arrowcolor": "#f2f5fa",
           "arrowhead": 0,
           "arrowwidth": 1
          },
          "autotypenumbers": "strict",
          "coloraxis": {
           "colorbar": {
            "outlinewidth": 0,
            "ticks": ""
           }
          },
          "colorscale": {
           "diverging": [
            [
             0,
             "#8e0152"
            ],
            [
             0.1,
             "#c51b7d"
            ],
            [
             0.2,
             "#de77ae"
            ],
            [
             0.3,
             "#f1b6da"
            ],
            [
             0.4,
             "#fde0ef"
            ],
            [
             0.5,
             "#f7f7f7"
            ],
            [
             0.6,
             "#e6f5d0"
            ],
            [
             0.7,
             "#b8e186"
            ],
            [
             0.8,
             "#7fbc41"
            ],
            [
             0.9,
             "#4d9221"
            ],
            [
             1,
             "#276419"
            ]
           ],
           "sequential": [
            [
             0,
             "#0d0887"
            ],
            [
             0.1111111111111111,
             "#46039f"
            ],
            [
             0.2222222222222222,
             "#7201a8"
            ],
            [
             0.3333333333333333,
             "#9c179e"
            ],
            [
             0.4444444444444444,
             "#bd3786"
            ],
            [
             0.5555555555555556,
             "#d8576b"
            ],
            [
             0.6666666666666666,
             "#ed7953"
            ],
            [
             0.7777777777777778,
             "#fb9f3a"
            ],
            [
             0.8888888888888888,
             "#fdca26"
            ],
            [
             1,
             "#f0f921"
            ]
           ],
           "sequentialminus": [
            [
             0,
             "#0d0887"
            ],
            [
             0.1111111111111111,
             "#46039f"
            ],
            [
             0.2222222222222222,
             "#7201a8"
            ],
            [
             0.3333333333333333,
             "#9c179e"
            ],
            [
             0.4444444444444444,
             "#bd3786"
            ],
            [
             0.5555555555555556,
             "#d8576b"
            ],
            [
             0.6666666666666666,
             "#ed7953"
            ],
            [
             0.7777777777777778,
             "#fb9f3a"
            ],
            [
             0.8888888888888888,
             "#fdca26"
            ],
            [
             1,
             "#f0f921"
            ]
           ]
          },
          "colorway": [
           "#636efa",
           "#EF553B",
           "#00cc96",
           "#ab63fa",
           "#FFA15A",
           "#19d3f3",
           "#FF6692",
           "#B6E880",
           "#FF97FF",
           "#FECB52"
          ],
          "font": {
           "color": "#f2f5fa"
          },
          "geo": {
           "bgcolor": "rgb(17,17,17)",
           "lakecolor": "rgb(17,17,17)",
           "landcolor": "rgb(17,17,17)",
           "showlakes": true,
           "showland": true,
           "subunitcolor": "#506784"
          },
          "hoverlabel": {
           "align": "left"
          },
          "hovermode": "closest",
          "mapbox": {
           "style": "dark"
          },
          "paper_bgcolor": "rgb(17,17,17)",
          "plot_bgcolor": "rgb(17,17,17)",
          "polar": {
           "angularaxis": {
            "gridcolor": "#506784",
            "linecolor": "#506784",
            "ticks": ""
           },
           "bgcolor": "rgb(17,17,17)",
           "radialaxis": {
            "gridcolor": "#506784",
            "linecolor": "#506784",
            "ticks": ""
           }
          },
          "scene": {
           "xaxis": {
            "backgroundcolor": "rgb(17,17,17)",
            "gridcolor": "#506784",
            "gridwidth": 2,
            "linecolor": "#506784",
            "showbackground": true,
            "ticks": "",
            "zerolinecolor": "#C8D4E3"
           },
           "yaxis": {
            "backgroundcolor": "rgb(17,17,17)",
            "gridcolor": "#506784",
            "gridwidth": 2,
            "linecolor": "#506784",
            "showbackground": true,
            "ticks": "",
            "zerolinecolor": "#C8D4E3"
           },
           "zaxis": {
            "backgroundcolor": "rgb(17,17,17)",
            "gridcolor": "#506784",
            "gridwidth": 2,
            "linecolor": "#506784",
            "showbackground": true,
            "ticks": "",
            "zerolinecolor": "#C8D4E3"
           }
          },
          "shapedefaults": {
           "line": {
            "color": "#f2f5fa"
           }
          },
          "sliderdefaults": {
           "bgcolor": "#C8D4E3",
           "bordercolor": "rgb(17,17,17)",
           "borderwidth": 1,
           "tickwidth": 0
          },
          "ternary": {
           "aaxis": {
            "gridcolor": "#506784",
            "linecolor": "#506784",
            "ticks": ""
           },
           "baxis": {
            "gridcolor": "#506784",
            "linecolor": "#506784",
            "ticks": ""
           },
           "bgcolor": "rgb(17,17,17)",
           "caxis": {
            "gridcolor": "#506784",
            "linecolor": "#506784",
            "ticks": ""
           }
          },
          "title": {
           "x": 0.05
          },
          "updatemenudefaults": {
           "bgcolor": "#506784",
           "borderwidth": 0
          },
          "xaxis": {
           "automargin": true,
           "gridcolor": "#283442",
           "linecolor": "#506784",
           "ticks": "",
           "title": {
            "standoff": 15
           },
           "zerolinecolor": "#283442",
           "zerolinewidth": 2
          },
          "yaxis": {
           "automargin": true,
           "gridcolor": "#283442",
           "linecolor": "#506784",
           "ticks": "",
           "title": {
            "standoff": 15
           },
           "zerolinecolor": "#283442",
           "zerolinewidth": 2
          }
         }
        },
        "title": {
         "text": "Mood by weekday"
        },
        "xaxis": {
         "anchor": "y",
         "domain": [
          0,
          1
         ],
         "dtick": 1,
         "tickmode": "array",
         "ticktext": [
          "Mon",
          "Tue",
          "Wed",
          "Thu",
          "Fri",
          "Sat",
          "Sun"
         ],
         "tickvals": [
          0,
          1,
          2,
          3,
          4,
          5,
          6
         ],
         "title": {
          "text": "Weekday"
         }
        },
        "yaxis": {
         "anchor": "x",
         "domain": [
          0,
          1
         ],
         "title": {
          "text": "Mood"
         }
        }
       }
      }
     },
     "metadata": {},
     "output_type": "display_data"
    }
   ],
   "source": [
    "df.by_time_bar_plot('weekday')"
   ]
  },
  {
   "cell_type": "code",
   "execution_count": 36,
   "metadata": {},
   "outputs": [
    {
     "data": {
      "application/vnd.plotly.v1+json": {
       "config": {
        "plotlyServerURL": "https://plot.ly"
       },
       "data": [
        {
         "alignmentgroup": "True",
         "hovertemplate": "Month=%{x}<br>Mood=%{y}<br>Number of entries=%{marker.color}<extra></extra>",
         "legendgroup": "",
         "marker": {
          "color": [
           8,
           123,
           108,
           94,
           95,
           109,
           71,
           58,
           97,
           95
          ],
          "coloraxis": "coloraxis",
          "pattern": {
           "shape": ""
          }
         },
         "name": "",
         "offsetgroup": "",
         "orientation": "v",
         "showlegend": false,
         "textposition": "auto",
         "type": "bar",
         "x": [
          4,
          3,
          2,
          1,
          12,
          11,
          10,
          9,
          8,
          7
         ],
         "xaxis": "x",
         "y": [
          4,
          3.6910569105691056,
          3.662037037037037,
          3.904255319148936,
          3.9105263157894736,
          3.7844036697247705,
          4.063380281690141,
          3.9741379310344827,
          3.8247422680412373,
          3.5894736842105264
         ],
         "yaxis": "y"
        }
       ],
       "layout": {
        "barmode": "relative",
        "coloraxis": {
         "colorbar": {
          "title": {
           "text": "Number of entries"
          }
         },
         "colorscale": [
          [
           0,
           "#440154"
          ],
          [
           0.1111111111111111,
           "#482878"
          ],
          [
           0.2222222222222222,
           "#3e4989"
          ],
          [
           0.3333333333333333,
           "#31688e"
          ],
          [
           0.4444444444444444,
           "#26828e"
          ],
          [
           0.5555555555555556,
           "#1f9e89"
          ],
          [
           0.6666666666666666,
           "#35b779"
          ],
          [
           0.7777777777777778,
           "#6ece58"
          ],
          [
           0.8888888888888888,
           "#b5de2b"
          ],
          [
           1,
           "#fde725"
          ]
         ]
        },
        "legend": {
         "tracegroupgap": 0
        },
        "template": {
         "data": {
          "bar": [
           {
            "error_x": {
             "color": "#f2f5fa"
            },
            "error_y": {
             "color": "#f2f5fa"
            },
            "marker": {
             "line": {
              "color": "rgb(17,17,17)",
              "width": 0.5
             },
             "pattern": {
              "fillmode": "overlay",
              "size": 10,
              "solidity": 0.2
             }
            },
            "type": "bar"
           }
          ],
          "barpolar": [
           {
            "marker": {
             "line": {
              "color": "rgb(17,17,17)",
              "width": 0.5
             },
             "pattern": {
              "fillmode": "overlay",
              "size": 10,
              "solidity": 0.2
             }
            },
            "type": "barpolar"
           }
          ],
          "carpet": [
           {
            "aaxis": {
             "endlinecolor": "#A2B1C6",
             "gridcolor": "#506784",
             "linecolor": "#506784",
             "minorgridcolor": "#506784",
             "startlinecolor": "#A2B1C6"
            },
            "baxis": {
             "endlinecolor": "#A2B1C6",
             "gridcolor": "#506784",
             "linecolor": "#506784",
             "minorgridcolor": "#506784",
             "startlinecolor": "#A2B1C6"
            },
            "type": "carpet"
           }
          ],
          "choropleth": [
           {
            "colorbar": {
             "outlinewidth": 0,
             "ticks": ""
            },
            "type": "choropleth"
           }
          ],
          "contour": [
           {
            "colorbar": {
             "outlinewidth": 0,
             "ticks": ""
            },
            "colorscale": [
             [
              0,
              "#0d0887"
             ],
             [
              0.1111111111111111,
              "#46039f"
             ],
             [
              0.2222222222222222,
              "#7201a8"
             ],
             [
              0.3333333333333333,
              "#9c179e"
             ],
             [
              0.4444444444444444,
              "#bd3786"
             ],
             [
              0.5555555555555556,
              "#d8576b"
             ],
             [
              0.6666666666666666,
              "#ed7953"
             ],
             [
              0.7777777777777778,
              "#fb9f3a"
             ],
             [
              0.8888888888888888,
              "#fdca26"
             ],
             [
              1,
              "#f0f921"
             ]
            ],
            "type": "contour"
           }
          ],
          "contourcarpet": [
           {
            "colorbar": {
             "outlinewidth": 0,
             "ticks": ""
            },
            "type": "contourcarpet"
           }
          ],
          "heatmap": [
           {
            "colorbar": {
             "outlinewidth": 0,
             "ticks": ""
            },
            "colorscale": [
             [
              0,
              "#0d0887"
             ],
             [
              0.1111111111111111,
              "#46039f"
             ],
             [
              0.2222222222222222,
              "#7201a8"
             ],
             [
              0.3333333333333333,
              "#9c179e"
             ],
             [
              0.4444444444444444,
              "#bd3786"
             ],
             [
              0.5555555555555556,
              "#d8576b"
             ],
             [
              0.6666666666666666,
              "#ed7953"
             ],
             [
              0.7777777777777778,
              "#fb9f3a"
             ],
             [
              0.8888888888888888,
              "#fdca26"
             ],
             [
              1,
              "#f0f921"
             ]
            ],
            "type": "heatmap"
           }
          ],
          "heatmapgl": [
           {
            "colorbar": {
             "outlinewidth": 0,
             "ticks": ""
            },
            "colorscale": [
             [
              0,
              "#0d0887"
             ],
             [
              0.1111111111111111,
              "#46039f"
             ],
             [
              0.2222222222222222,
              "#7201a8"
             ],
             [
              0.3333333333333333,
              "#9c179e"
             ],
             [
              0.4444444444444444,
              "#bd3786"
             ],
             [
              0.5555555555555556,
              "#d8576b"
             ],
             [
              0.6666666666666666,
              "#ed7953"
             ],
             [
              0.7777777777777778,
              "#fb9f3a"
             ],
             [
              0.8888888888888888,
              "#fdca26"
             ],
             [
              1,
              "#f0f921"
             ]
            ],
            "type": "heatmapgl"
           }
          ],
          "histogram": [
           {
            "marker": {
             "pattern": {
              "fillmode": "overlay",
              "size": 10,
              "solidity": 0.2
             }
            },
            "type": "histogram"
           }
          ],
          "histogram2d": [
           {
            "colorbar": {
             "outlinewidth": 0,
             "ticks": ""
            },
            "colorscale": [
             [
              0,
              "#0d0887"
             ],
             [
              0.1111111111111111,
              "#46039f"
             ],
             [
              0.2222222222222222,
              "#7201a8"
             ],
             [
              0.3333333333333333,
              "#9c179e"
             ],
             [
              0.4444444444444444,
              "#bd3786"
             ],
             [
              0.5555555555555556,
              "#d8576b"
             ],
             [
              0.6666666666666666,
              "#ed7953"
             ],
             [
              0.7777777777777778,
              "#fb9f3a"
             ],
             [
              0.8888888888888888,
              "#fdca26"
             ],
             [
              1,
              "#f0f921"
             ]
            ],
            "type": "histogram2d"
           }
          ],
          "histogram2dcontour": [
           {
            "colorbar": {
             "outlinewidth": 0,
             "ticks": ""
            },
            "colorscale": [
             [
              0,
              "#0d0887"
             ],
             [
              0.1111111111111111,
              "#46039f"
             ],
             [
              0.2222222222222222,
              "#7201a8"
             ],
             [
              0.3333333333333333,
              "#9c179e"
             ],
             [
              0.4444444444444444,
              "#bd3786"
             ],
             [
              0.5555555555555556,
              "#d8576b"
             ],
             [
              0.6666666666666666,
              "#ed7953"
             ],
             [
              0.7777777777777778,
              "#fb9f3a"
             ],
             [
              0.8888888888888888,
              "#fdca26"
             ],
             [
              1,
              "#f0f921"
             ]
            ],
            "type": "histogram2dcontour"
           }
          ],
          "mesh3d": [
           {
            "colorbar": {
             "outlinewidth": 0,
             "ticks": ""
            },
            "type": "mesh3d"
           }
          ],
          "parcoords": [
           {
            "line": {
             "colorbar": {
              "outlinewidth": 0,
              "ticks": ""
             }
            },
            "type": "parcoords"
           }
          ],
          "pie": [
           {
            "automargin": true,
            "type": "pie"
           }
          ],
          "scatter": [
           {
            "marker": {
             "line": {
              "color": "#283442"
             }
            },
            "type": "scatter"
           }
          ],
          "scatter3d": [
           {
            "line": {
             "colorbar": {
              "outlinewidth": 0,
              "ticks": ""
             }
            },
            "marker": {
             "colorbar": {
              "outlinewidth": 0,
              "ticks": ""
             }
            },
            "type": "scatter3d"
           }
          ],
          "scattercarpet": [
           {
            "marker": {
             "colorbar": {
              "outlinewidth": 0,
              "ticks": ""
             }
            },
            "type": "scattercarpet"
           }
          ],
          "scattergeo": [
           {
            "marker": {
             "colorbar": {
              "outlinewidth": 0,
              "ticks": ""
             }
            },
            "type": "scattergeo"
           }
          ],
          "scattergl": [
           {
            "marker": {
             "line": {
              "color": "#283442"
             }
            },
            "type": "scattergl"
           }
          ],
          "scattermapbox": [
           {
            "marker": {
             "colorbar": {
              "outlinewidth": 0,
              "ticks": ""
             }
            },
            "type": "scattermapbox"
           }
          ],
          "scatterpolar": [
           {
            "marker": {
             "colorbar": {
              "outlinewidth": 0,
              "ticks": ""
             }
            },
            "type": "scatterpolar"
           }
          ],
          "scatterpolargl": [
           {
            "marker": {
             "colorbar": {
              "outlinewidth": 0,
              "ticks": ""
             }
            },
            "type": "scatterpolargl"
           }
          ],
          "scatterternary": [
           {
            "marker": {
             "colorbar": {
              "outlinewidth": 0,
              "ticks": ""
             }
            },
            "type": "scatterternary"
           }
          ],
          "surface": [
           {
            "colorbar": {
             "outlinewidth": 0,
             "ticks": ""
            },
            "colorscale": [
             [
              0,
              "#0d0887"
             ],
             [
              0.1111111111111111,
              "#46039f"
             ],
             [
              0.2222222222222222,
              "#7201a8"
             ],
             [
              0.3333333333333333,
              "#9c179e"
             ],
             [
              0.4444444444444444,
              "#bd3786"
             ],
             [
              0.5555555555555556,
              "#d8576b"
             ],
             [
              0.6666666666666666,
              "#ed7953"
             ],
             [
              0.7777777777777778,
              "#fb9f3a"
             ],
             [
              0.8888888888888888,
              "#fdca26"
             ],
             [
              1,
              "#f0f921"
             ]
            ],
            "type": "surface"
           }
          ],
          "table": [
           {
            "cells": {
             "fill": {
              "color": "#506784"
             },
             "line": {
              "color": "rgb(17,17,17)"
             }
            },
            "header": {
             "fill": {
              "color": "#2a3f5f"
             },
             "line": {
              "color": "rgb(17,17,17)"
             }
            },
            "type": "table"
           }
          ]
         },
         "layout": {
          "annotationdefaults": {
           "arrowcolor": "#f2f5fa",
           "arrowhead": 0,
           "arrowwidth": 1
          },
          "autotypenumbers": "strict",
          "coloraxis": {
           "colorbar": {
            "outlinewidth": 0,
            "ticks": ""
           }
          },
          "colorscale": {
           "diverging": [
            [
             0,
             "#8e0152"
            ],
            [
             0.1,
             "#c51b7d"
            ],
            [
             0.2,
             "#de77ae"
            ],
            [
             0.3,
             "#f1b6da"
            ],
            [
             0.4,
             "#fde0ef"
            ],
            [
             0.5,
             "#f7f7f7"
            ],
            [
             0.6,
             "#e6f5d0"
            ],
            [
             0.7,
             "#b8e186"
            ],
            [
             0.8,
             "#7fbc41"
            ],
            [
             0.9,
             "#4d9221"
            ],
            [
             1,
             "#276419"
            ]
           ],
           "sequential": [
            [
             0,
             "#0d0887"
            ],
            [
             0.1111111111111111,
             "#46039f"
            ],
            [
             0.2222222222222222,
             "#7201a8"
            ],
            [
             0.3333333333333333,
             "#9c179e"
            ],
            [
             0.4444444444444444,
             "#bd3786"
            ],
            [
             0.5555555555555556,
             "#d8576b"
            ],
            [
             0.6666666666666666,
             "#ed7953"
            ],
            [
             0.7777777777777778,
             "#fb9f3a"
            ],
            [
             0.8888888888888888,
             "#fdca26"
            ],
            [
             1,
             "#f0f921"
            ]
           ],
           "sequentialminus": [
            [
             0,
             "#0d0887"
            ],
            [
             0.1111111111111111,
             "#46039f"
            ],
            [
             0.2222222222222222,
             "#7201a8"
            ],
            [
             0.3333333333333333,
             "#9c179e"
            ],
            [
             0.4444444444444444,
             "#bd3786"
            ],
            [
             0.5555555555555556,
             "#d8576b"
            ],
            [
             0.6666666666666666,
             "#ed7953"
            ],
            [
             0.7777777777777778,
             "#fb9f3a"
            ],
            [
             0.8888888888888888,
             "#fdca26"
            ],
            [
             1,
             "#f0f921"
            ]
           ]
          },
          "colorway": [
           "#636efa",
           "#EF553B",
           "#00cc96",
           "#ab63fa",
           "#FFA15A",
           "#19d3f3",
           "#FF6692",
           "#B6E880",
           "#FF97FF",
           "#FECB52"
          ],
          "font": {
           "color": "#f2f5fa"
          },
          "geo": {
           "bgcolor": "rgb(17,17,17)",
           "lakecolor": "rgb(17,17,17)",
           "landcolor": "rgb(17,17,17)",
           "showlakes": true,
           "showland": true,
           "subunitcolor": "#506784"
          },
          "hoverlabel": {
           "align": "left"
          },
          "hovermode": "closest",
          "mapbox": {
           "style": "dark"
          },
          "paper_bgcolor": "rgb(17,17,17)",
          "plot_bgcolor": "rgb(17,17,17)",
          "polar": {
           "angularaxis": {
            "gridcolor": "#506784",
            "linecolor": "#506784",
            "ticks": ""
           },
           "bgcolor": "rgb(17,17,17)",
           "radialaxis": {
            "gridcolor": "#506784",
            "linecolor": "#506784",
            "ticks": ""
           }
          },
          "scene": {
           "xaxis": {
            "backgroundcolor": "rgb(17,17,17)",
            "gridcolor": "#506784",
            "gridwidth": 2,
            "linecolor": "#506784",
            "showbackground": true,
            "ticks": "",
            "zerolinecolor": "#C8D4E3"
           },
           "yaxis": {
            "backgroundcolor": "rgb(17,17,17)",
            "gridcolor": "#506784",
            "gridwidth": 2,
            "linecolor": "#506784",
            "showbackground": true,
            "ticks": "",
            "zerolinecolor": "#C8D4E3"
           },
           "zaxis": {
            "backgroundcolor": "rgb(17,17,17)",
            "gridcolor": "#506784",
            "gridwidth": 2,
            "linecolor": "#506784",
            "showbackground": true,
            "ticks": "",
            "zerolinecolor": "#C8D4E3"
           }
          },
          "shapedefaults": {
           "line": {
            "color": "#f2f5fa"
           }
          },
          "sliderdefaults": {
           "bgcolor": "#C8D4E3",
           "bordercolor": "rgb(17,17,17)",
           "borderwidth": 1,
           "tickwidth": 0
          },
          "ternary": {
           "aaxis": {
            "gridcolor": "#506784",
            "linecolor": "#506784",
            "ticks": ""
           },
           "baxis": {
            "gridcolor": "#506784",
            "linecolor": "#506784",
            "ticks": ""
           },
           "bgcolor": "rgb(17,17,17)",
           "caxis": {
            "gridcolor": "#506784",
            "linecolor": "#506784",
            "ticks": ""
           }
          },
          "title": {
           "x": 0.05
          },
          "updatemenudefaults": {
           "bgcolor": "#506784",
           "borderwidth": 0
          },
          "xaxis": {
           "automargin": true,
           "gridcolor": "#283442",
           "linecolor": "#506784",
           "ticks": "",
           "title": {
            "standoff": 15
           },
           "zerolinecolor": "#283442",
           "zerolinewidth": 2
          },
          "yaxis": {
           "automargin": true,
           "gridcolor": "#283442",
           "linecolor": "#506784",
           "ticks": "",
           "title": {
            "standoff": 15
           },
           "zerolinecolor": "#283442",
           "zerolinewidth": 2
          }
         }
        },
        "title": {
         "text": "Mood by month"
        },
        "xaxis": {
         "anchor": "y",
         "domain": [
          0,
          1
         ],
         "dtick": 1,
         "tickmode": "array",
         "ticktext": [
          "Jan",
          "Feb",
          "Mar",
          "Apr",
          "May",
          "Jun",
          "Jul",
          "Aug",
          "Sep",
          "Oct",
          "Nov",
          "Dec"
         ],
         "tickvals": [
          1,
          2,
          3,
          4,
          5,
          6,
          7,
          8,
          9,
          10,
          11,
          12
         ],
         "title": {
          "text": "Month"
         }
        },
        "yaxis": {
         "anchor": "x",
         "domain": [
          0,
          1
         ],
         "title": {
          "text": "Mood"
         }
        }
       }
      }
     },
     "metadata": {},
     "output_type": "display_data"
    }
   ],
   "source": [
    "df.by_time_bar_plot('month')"
   ]
  },
  {
   "cell_type": "markdown",
   "metadata": {},
   "source": [
    "## Entries times differences"
   ]
  },
  {
   "cell_type": "code",
   "execution_count": 37,
   "metadata": {},
   "outputs": [
    {
     "data": {
      "application/vnd.plotly.v1+json": {
       "config": {
        "plotlyServerURL": "https://plot.ly"
       },
       "data": [
        {
         "line": {
          "dash": "dashdot"
         },
         "mode": "lines+markers",
         "type": "scatter",
         "x": [
          "2023-07-03T20:05:00",
          "2023-07-04T22:50:00",
          "2023-07-06T12:42:00",
          "2023-07-08T13:43:00",
          "2023-07-08T15:52:00",
          "2023-07-09T11:36:00",
          "2023-07-09T22:33:00",
          "2023-07-11T23:00:00",
          "2023-07-12T12:55:00",
          "2023-07-12T21:35:00",
          "2023-07-13T10:42:00",
          "2023-07-15T23:01:00",
          "2023-07-16T20:02:00",
          "2023-07-17T16:10:00",
          "2023-07-17T19:17:00",
          "2023-07-17T20:29:00",
          "2023-07-17T21:37:00",
          "2023-07-18T12:23:00",
          "2023-07-18T13:49:00",
          "2023-07-18T23:12:00",
          "2023-07-19T13:27:00",
          "2023-07-19T18:28:00",
          "2023-07-19T20:16:00",
          "2023-07-19T23:10:00",
          "2023-07-20T13:12:00",
          "2023-07-20T16:58:00",
          "2023-07-20T21:21:00",
          "2023-07-21T11:00:00",
          "2023-07-21T23:25:00",
          "2023-07-22T11:30:00",
          "2023-07-22T13:30:00",
          "2023-07-22T17:09:00",
          "2023-07-22T19:34:00",
          "2023-07-22T22:17:00",
          "2023-07-23T10:56:00",
          "2023-07-23T15:14:00",
          "2023-07-23T17:24:00",
          "2023-07-23T20:49:00",
          "2023-07-24T01:45:00",
          "2023-07-24T20:01:00",
          "2023-07-24T23:54:00",
          "2023-07-25T01:06:00",
          "2023-07-25T14:04:00",
          "2023-07-25T15:49:00",
          "2023-07-25T22:06:00",
          "2023-07-26T15:00:00",
          "2023-07-26T18:20:00",
          "2023-07-26T23:13:00",
          "2023-07-27T01:15:00",
          "2023-07-27T15:54:00",
          "2023-07-27T16:02:00",
          "2023-07-27T21:04:00",
          "2023-07-28T10:16:00",
          "2023-07-28T12:12:00",
          "2023-07-28T16:48:00",
          "2023-07-28T21:15:00",
          "2023-07-28T22:54:00",
          "2023-07-29T10:38:00",
          "2023-07-29T15:39:00",
          "2023-07-29T20:04:00",
          "2023-07-30T11:01:00",
          "2023-07-30T12:08:00",
          "2023-07-30T13:01:00",
          "2023-07-30T23:26:00",
          "2023-07-31T12:00:00",
          "2023-07-31T16:45:00",
          "2023-07-31T17:22:00",
          "2023-08-01T10:53:00",
          "2023-08-01T16:11:00",
          "2023-08-01T23:21:00",
          "2023-08-01T23:59:00",
          "2023-08-02T11:49:00",
          "2023-08-02T15:34:00",
          "2023-08-02T18:30:00",
          "2023-08-02T21:10:00",
          "2023-08-03T00:04:00",
          "2023-08-03T18:01:00",
          "2023-08-03T22:51:00",
          "2023-08-04T09:24:00",
          "2023-08-04T16:34:00",
          "2023-08-05T11:32:00",
          "2023-08-05T15:52:00",
          "2023-08-05T22:29:00",
          "2023-08-05T23:29:00",
          "2023-08-06T12:14:00",
          "2023-08-06T15:48:00",
          "2023-08-06T23:45:00",
          "2023-08-07T15:44:00",
          "2023-08-07T23:42:00",
          "2023-08-08T09:22:00",
          "2023-08-08T11:24:00",
          "2023-08-08T22:02:00",
          "2023-08-09T14:55:00",
          "2023-08-09T16:10:00",
          "2023-08-09T17:49:00",
          "2023-08-09T20:01:00",
          "2023-08-10T00:24:00",
          "2023-08-10T20:12:00",
          "2023-08-11T00:29:00",
          "2023-08-11T11:23:00",
          "2023-08-11T13:36:00",
          "2023-08-11T21:24:00",
          "2023-08-12T15:11:00",
          "2023-08-12T20:11:00",
          "2023-08-12T23:59:00",
          "2023-08-13T01:02:00",
          "2023-08-13T12:23:00",
          "2023-08-13T15:31:00",
          "2023-08-14T21:07:00",
          "2023-08-15T01:02:00",
          "2023-08-16T01:33:00",
          "2023-08-17T23:03:00",
          "2023-08-19T01:27:00",
          "2023-08-20T16:35:00",
          "2023-08-20T21:51:00",
          "2023-08-21T00:14:00",
          "2023-08-21T13:11:00",
          "2023-08-21T20:05:00",
          "2023-08-22T13:18:00",
          "2023-08-22T18:07:00",
          "2023-08-30T19:49:00",
          "2023-08-30T20:00:00",
          "2023-08-31T22:48:00",
          "2023-09-01T12:36:00",
          "2023-09-02T12:13:00",
          "2023-09-02T16:31:00",
          "2023-09-02T21:03:00",
          "2023-09-03T13:33:00",
          "2023-09-03T15:11:00",
          "2023-09-03T23:10:00",
          "2023-09-05T20:14:00",
          "2023-09-06T11:33:00",
          "2023-09-06T23:34:00",
          "2023-09-07T20:24:00",
          "2023-09-08T12:40:00",
          "2023-09-08T21:12:00",
          "2023-09-09T20:01:00",
          "2023-09-10T20:04:00",
          "2023-09-11T13:01:00",
          "2023-09-11T21:24:00",
          "2023-09-12T21:17:00",
          "2023-09-13T16:31:00",
          "2023-09-13T20:09:00",
          "2023-09-14T21:16:00",
          "2023-09-15T13:40:00",
          "2023-09-15T21:55:00",
          "2023-09-29T17:53:00",
          "2023-09-29T19:05:00",
          "2023-09-30T16:10:00",
          "2023-09-30T16:30:00",
          "2023-09-30T20:02:00",
          "2023-10-01T00:30:00",
          "2023-10-01T09:41:00",
          "2023-10-03T10:42:00",
          "2023-10-04T09:12:00",
          "2023-10-05T09:55:00",
          "2023-10-06T16:39:00",
          "2023-10-07T11:03:00",
          "2023-10-07T12:32:00",
          "2023-10-09T17:56:00",
          "2023-10-10T09:49:00",
          "2023-10-10T22:39:00",
          "2023-10-10T22:44:00",
          "2023-10-11T19:00:00",
          "2023-10-13T14:42:00",
          "2023-10-16T12:48:00",
          "2023-10-16T16:57:00",
          "2023-10-18T01:37:00",
          "2023-10-18T01:40:00",
          "2023-10-19T12:19:00",
          "2023-10-23T10:17:00",
          "2023-10-23T17:02:00",
          "2023-10-23T23:20:00",
          "2023-10-24T13:09:00",
          "2023-10-24T20:47:00",
          "2023-10-26T16:11:00",
          "2023-10-27T16:10:00",
          "2023-10-28T23:00:00",
          "2023-10-29T10:05:00",
          "2023-10-30T22:53:00",
          "2023-10-31T15:15:00",
          "2023-10-31T16:44:00",
          "2023-11-03T11:56:00",
          "2023-11-03T14:25:00",
          "2023-11-03T23:42:00",
          "2023-11-04T10:02:00",
          "2023-11-04T20:00:00",
          "2023-11-04T23:45:00",
          "2023-11-05T12:14:00",
          "2023-11-05T23:49:00",
          "2023-11-06T09:58:00",
          "2023-11-06T23:09:00",
          "2023-11-07T11:22:00",
          "2023-11-07T13:43:00",
          "2023-11-07T16:03:00",
          "2023-11-07T21:00:00",
          "2023-11-08T12:19:00",
          "2023-11-08T12:55:00",
          "2023-11-08T23:44:00",
          "2023-11-08T23:44:00",
          "2023-11-09T00:10:00",
          "2023-11-09T15:02:00",
          "2023-11-09T23:52:00",
          "2023-11-10T15:22:00",
          "2023-11-10T21:36:00",
          "2023-11-10T22:24:00",
          "2023-11-11T14:25:00",
          "2023-11-11T17:26:00",
          "2023-11-12T10:00:00",
          "2023-11-12T14:00:00",
          "2023-11-12T17:39:00",
          "2023-11-12T21:00:00",
          "2023-11-13T14:47:00",
          "2023-11-13T15:39:00",
          "2023-11-13T17:03:00",
          "2023-11-14T12:22:00",
          "2023-11-14T13:13:00",
          "2023-11-14T21:06:00",
          "2023-11-15T15:56:00",
          "2023-11-15T19:04:00",
          "2023-11-15T22:00:00",
          "2023-11-16T11:49:00",
          "2023-11-16T20:34:00",
          "2023-11-16T23:27:00",
          "2023-11-17T13:56:00",
          "2023-11-19T23:29:00",
          "2023-11-20T14:48:00",
          "2023-11-20T20:20:00",
          "2023-11-21T21:00:00",
          "2023-11-22T18:49:00",
          "2023-11-22T21:41:00",
          "2023-11-23T15:26:00",
          "2023-11-23T21:57:00",
          "2023-11-24T11:07:00",
          "2023-11-24T15:31:00",
          "2023-11-24T18:17:00",
          "2023-11-25T11:37:00",
          "2023-11-27T19:01:00",
          "2023-11-27T20:30:00",
          "2023-11-28T04:25:00",
          "2023-11-28T13:07:00",
          "2023-11-28T16:49:00",
          "2023-11-28T23:00:00",
          "2023-11-29T16:42:00",
          "2023-11-30T11:07:00",
          "2023-11-30T17:06:00",
          "2023-12-01T00:19:00",
          "2023-12-01T20:01:00",
          "2023-12-02T20:18:00",
          "2023-12-02T20:24:00",
          "2023-12-02T21:48:00",
          "2023-12-03T01:07:00",
          "2023-12-03T11:09:00",
          "2023-12-03T12:39:00",
          "2023-12-03T18:04:00",
          "2023-12-04T20:02:00",
          "2023-12-05T10:46:00",
          "2023-12-05T23:47:00",
          "2023-12-06T11:16:00",
          "2023-12-07T18:30:00",
          "2023-12-07T20:02:00",
          "2023-12-08T22:50:00",
          "2023-12-09T00:21:00",
          "2023-12-09T10:27:00",
          "2023-12-09T12:27:00",
          "2023-12-09T17:53:00",
          "2023-12-09T21:15:00",
          "2023-12-10T14:56:00",
          "2023-12-11T19:50:00",
          "2023-12-12T14:21:00",
          "2023-12-12T21:50:00",
          "2023-12-13T11:55:00",
          "2023-12-13T17:53:00",
          "2023-12-13T23:59:00",
          "2023-12-14T12:44:00",
          "2023-12-14T21:09:00",
          "2023-12-15T12:40:00",
          "2023-12-15T16:25:00",
          "2023-12-18T20:00:00",
          "2023-12-18T23:06:00",
          "2023-12-19T14:16:00",
          "2023-12-19T20:55:00",
          "2023-12-20T12:17:00",
          "2023-12-20T23:00:00",
          "2023-12-20T23:50:00",
          "2023-12-21T15:38:00",
          "2023-12-21T16:38:00",
          "2023-12-21T19:10:00",
          "2023-12-21T20:34:00",
          "2023-12-21T21:38:00",
          "2023-12-22T00:51:00",
          "2023-12-22T13:34:00",
          "2023-12-27T18:55:00",
          "2023-12-27T23:35:00",
          "2023-12-28T00:45:00",
          "2023-12-28T19:05:00",
          "2023-12-29T11:49:00",
          "2023-12-29T23:34:00",
          "2023-12-30T19:00:00",
          "2023-12-31T16:48:00",
          "2023-12-31T21:51:00",
          "2023-12-31T22:21:00",
          "2024-01-01T12:05:00",
          "2024-01-01T18:45:00",
          "2024-01-02T11:53:00",
          "2024-01-02T14:05:00",
          "2024-01-03T15:55:00",
          "2024-01-03T20:40:00",
          "2024-01-04T11:30:00",
          "2024-01-04T14:05:00",
          "2024-01-04T16:15:00",
          "2024-01-04T23:04:00",
          "2024-01-05T12:53:00",
          "2024-01-06T15:37:00",
          "2024-01-08T23:28:00",
          "2024-01-10T23:13:00",
          "2024-01-12T13:56:00",
          "2024-01-12T18:19:00",
          "2024-01-12T20:30:00",
          "2024-01-13T01:00:00",
          "2024-01-13T13:00:00",
          "2024-01-13T16:48:00",
          "2024-01-14T13:19:00",
          "2024-01-14T23:08:00",
          "2024-01-14T23:56:00",
          "2024-01-16T20:47:00",
          "2024-01-16T21:31:00",
          "2024-01-17T21:44:00",
          "2024-01-18T11:43:00",
          "2024-01-18T16:09:00",
          "2024-01-19T23:30:00",
          "2024-01-20T00:20:00",
          "2024-01-20T23:42:00",
          "2024-01-21T23:14:00",
          "2024-01-22T00:48:00",
          "2024-01-22T14:50:00",
          "2024-01-22T16:50:00",
          "2024-01-22T19:51:00",
          "2024-01-24T00:57:00",
          "2024-01-24T02:16:00",
          "2024-01-24T08:10:00",
          "2024-01-25T01:03:00",
          "2024-01-25T16:02:00",
          "2024-01-25T19:30:00",
          "2024-01-25T20:03:00",
          "2024-01-25T23:13:00",
          "2024-01-26T12:14:00",
          "2024-01-26T13:55:00",
          "2024-01-26T15:24:00",
          "2024-01-28T16:16:00",
          "2024-01-28T20:06:00",
          "2024-01-29T00:11:00",
          "2024-01-29T13:50:00",
          "2024-01-29T14:16:00",
          "2024-01-29T17:58:00",
          "2024-01-29T20:02:00",
          "2024-01-30T19:38:00",
          "2024-01-30T23:08:00",
          "2024-02-01T17:36:00",
          "2024-02-01T22:20:00",
          "2024-02-02T15:25:00",
          "2024-02-02T16:51:00",
          "2024-02-03T10:29:00",
          "2024-02-03T13:20:00",
          "2024-02-06T20:10:00",
          "2024-02-06T22:42:00",
          "2024-02-07T00:28:00",
          "2024-02-07T21:45:00",
          "2024-02-08T12:53:00",
          "2024-02-08T15:31:00",
          "2024-02-08T19:10:00",
          "2024-02-08T20:33:00",
          "2024-02-09T13:29:00",
          "2024-02-09T14:42:00",
          "2024-02-09T15:41:00",
          "2024-02-12T10:24:00",
          "2024-02-12T18:25:00",
          "2024-02-12T23:01:00",
          "2024-02-13T10:21:00",
          "2024-02-13T16:43:00",
          "2024-02-13T19:44:00",
          "2024-02-13T21:21:00",
          "2024-02-13T23:04:00",
          "2024-02-14T11:38:00",
          "2024-02-14T15:35:00",
          "2024-02-14T20:47:00",
          "2024-02-14T23:53:00",
          "2024-02-15T12:12:00",
          "2024-02-15T15:45:00",
          "2024-02-15T19:23:00",
          "2024-02-15T21:23:00",
          "2024-02-16T14:08:00",
          "2024-02-16T16:04:00",
          "2024-02-16T16:10:00",
          "2024-02-17T11:13:00",
          "2024-02-17T18:00:00",
          "2024-02-17T18:35:00",
          "2024-02-18T13:18:00",
          "2024-02-18T16:15:00",
          "2024-02-18T19:01:00",
          "2024-02-18T23:23:00",
          "2024-02-19T13:55:00",
          "2024-02-19T20:40:00",
          "2024-02-20T19:15:00",
          "2024-02-21T18:35:00",
          "2024-02-21T21:21:00",
          "2024-02-22T14:08:00",
          "2024-02-22T17:46:00",
          "2024-02-22T21:32:00",
          "2024-02-23T16:25:00",
          "2024-02-23T19:40:00",
          "2024-02-24T11:39:00",
          "2024-02-24T16:01:00",
          "2024-02-25T00:40:00",
          "2024-02-25T17:00:00",
          "2024-02-25T19:02:00",
          "2024-02-26T19:28:00",
          "2024-02-26T20:14:00",
          "2024-02-27T14:08:00",
          "2024-02-27T16:26:00",
          "2024-02-29T23:50:00",
          "2024-03-01T22:05:00",
          "2024-03-02T21:30:00",
          "2024-03-02T22:22:00",
          "2024-03-03T10:20:00",
          "2024-03-03T16:06:00",
          "2024-03-03T22:36:00",
          "2024-03-04T16:34:00",
          "2024-03-04T20:03:00",
          "2024-03-05T21:41:00",
          "2024-03-05T23:12:00",
          "2024-03-06T22:13:00",
          "2024-03-07T13:26:00",
          "2024-03-07T21:46:00",
          "2024-03-08T12:27:00",
          "2024-03-08T13:47:00",
          "2024-03-08T17:26:00",
          "2024-03-08T19:00:00",
          "2024-03-08T19:44:00",
          "2024-03-08T20:00:00",
          "2024-03-09T10:25:00",
          "2024-03-09T10:46:00",
          "2024-03-09T15:22:00",
          "2024-03-09T15:45:00",
          "2024-03-09T17:01:00",
          "2024-03-09T19:02:00",
          "2024-03-09T20:15:00",
          "2024-03-09T23:04:00",
          "2024-03-10T11:59:00",
          "2024-03-10T19:41:00",
          "2024-03-11T21:58:00",
          "2024-03-12T20:20:00",
          "2024-03-12T22:51:00",
          "2024-03-13T19:27:00",
          "2024-03-13T21:55:00",
          "2024-03-14T10:15:00",
          "2024-03-14T11:00:00",
          "2024-03-14T14:48:00",
          "2024-03-14T21:00:00",
          "2024-03-14T22:24:00",
          "2024-03-14T23:49:00",
          "2024-03-15T10:37:00",
          "2024-03-18T12:00:00",
          "2024-03-20T20:42:00",
          "2024-03-21T13:40:00",
          "2024-03-21T15:20:00",
          "2024-03-22T20:00:00",
          "2024-03-23T10:10:00",
          "2024-03-25T16:31:00",
          "2024-03-25T17:32:00",
          "2024-03-25T19:17:00",
          "2024-03-26T10:04:00",
          "2024-03-26T12:04:00",
          "2024-03-26T16:25:00",
          "2024-03-26T16:45:00",
          "2024-03-26T18:04:00",
          "2024-03-27T20:31:00",
          "2024-03-27T22:05:00",
          "2024-03-28T00:25:00",
          "2024-03-28T19:10:00",
          "2024-03-28T20:00:00",
          "2024-03-29T10:20:00",
          "2024-03-29T14:52:00",
          "2024-03-29T19:03:00",
          "2024-03-30T10:02:00",
          "2024-03-30T14:28:00",
          "2024-03-30T18:25:00",
          "2024-03-30T18:35:00",
          "2024-03-31T12:53:00",
          "2024-03-31T16:04:00",
          "2024-03-31T20:00:00",
          "2024-04-01T10:19:00",
          "2024-04-01T13:20:00",
          "2024-04-01T16:35:00",
          "2024-04-01T19:40:00",
          "2024-04-01T23:59:00",
          "2024-04-02T20:00:00",
          "2024-04-02T20:59:00"
         ],
         "y": [
          2.0034722222222223,
          1.1145833333333333,
          1.5777777777777777,
          2.042361111111111,
          0.08958333333333333,
          0.8222222222222222,
          0.45625,
          2.01875,
          0.5798611111111112,
          0.3611111111111111,
          0.5465277777777777,
          2.5131944444444443,
          0.8756944444444444,
          0.8388888888888889,
          0.12986111111111112,
          0.05,
          0.04722222222222222,
          0.6152777777777778,
          0.059722222222222225,
          0.3909722222222222,
          0.59375,
          0.20902777777777778,
          0.075,
          0.12083333333333333,
          0.5847222222222223,
          0.15694444444444444,
          0.18263888888888888,
          0.56875,
          0.5173611111111112,
          0.5034722222222222,
          0.08333333333333333,
          0.15208333333333332,
          0.10069444444444445,
          0.11319444444444444,
          0.5270833333333333,
          0.17916666666666667,
          0.09027777777777778,
          0.1423611111111111,
          0.20555555555555555,
          0.7611111111111111,
          0.16180555555555556,
          0.05,
          0.5402777777777777,
          0.07291666666666667,
          0.26180555555555557,
          0.7041666666666667,
          0.1388888888888889,
          0.20347222222222222,
          0.08472222222222223,
          0.6104166666666667,
          0.005555555555555556,
          0.20972222222222223,
          0.55,
          0.08055555555555556,
          0.19166666666666668,
          0.18541666666666667,
          0.06875,
          0.4888888888888889,
          0.20902777777777778,
          0.1840277777777778,
          0.6229166666666667,
          0.04652777777777778,
          0.03680555555555556,
          0.4340277777777778,
          0.5236111111111111,
          0.19791666666666666,
          0.025694444444444443,
          0.7298611111111111,
          0.22083333333333333,
          0.2986111111111111,
          0.02638888888888889,
          0.4930555555555556,
          0.15625,
          0.12222222222222222,
          0.1111111111111111,
          0.12083333333333333,
          0.7479166666666667,
          0.2013888888888889,
          0.4395833333333333,
          0.2986111111111111,
          0.7902777777777777,
          0.18055555555555555,
          0.27569444444444446,
          0.041666666666666664,
          0.53125,
          0.1486111111111111,
          0.33125,
          0.6659722222222222,
          0.33194444444444443,
          0.4027777777777778,
          0.08472222222222223,
          0.44305555555555554,
          0.7034722222222223,
          0.052083333333333336,
          0.06875,
          0.09166666666666666,
          0.18263888888888888,
          0.825,
          0.17847222222222223,
          0.45416666666666666,
          0.09236111111111112,
          0.325,
          0.7409722222222223,
          0.20833333333333334,
          0.15833333333333333,
          0.04375,
          0.47291666666666665,
          0.13055555555555556,
          1.2333333333333334,
          0.16319444444444445,
          1.0215277777777778,
          1.8958333333333333,
          1.1,
          1.6305555555555555,
          0.21944444444444444,
          0.09930555555555555,
          0.5395833333333333,
          0.2875,
          0.7173611111111111,
          0.20069444444444445,
          8.070833333333333,
          0.007638888888888889,
          1.1166666666666667,
          0.575,
          0.9840277777777777,
          0.17916666666666667,
          0.18888888888888888,
          0.6875,
          0.06805555555555555,
          0.3326388888888889,
          1.8777777777777778,
          0.6381944444444444,
          0.5006944444444444,
          0.8680555555555556,
          0.6777777777777778,
          0.35555555555555557,
          0.9506944444444444,
          1.0020833333333334,
          0.70625,
          0.34930555555555554,
          0.9951388888888889,
          0.8013888888888889,
          0.15138888888888888,
          1.0465277777777777,
          0.6833333333333333,
          0.34375,
          13.831944444444444,
          0.05,
          0.8784722222222222,
          0.013888888888888888,
          0.14722222222222223,
          0.18611111111111112,
          0.38263888888888886,
          2.042361111111111,
          0.9375,
          1.0298611111111111,
          1.2805555555555554,
          0.7666666666666667,
          0.06180555555555556,
          2.225,
          0.6618055555555555,
          0.5347222222222222,
          0.003472222222222222,
          0.8444444444444444,
          1.8208333333333333,
          2.9208333333333334,
          0.17291666666666666,
          1.3611111111111112,
          0.0020833333333333333,
          1.44375,
          3.915277777777778,
          0.28125,
          0.2625,
          0.5756944444444444,
          0.31805555555555554,
          1.8083333333333333,
          0.9993055555555556,
          1.2847222222222223,
          0.4618055555555556,
          1.5333333333333334,
          0.6819444444444445,
          0.06180555555555556,
          2.8,
          0.10347222222222222,
          0.38680555555555557,
          0.4305555555555556,
          0.4152777777777778,
          0.15625,
          0.5201388888888889,
          0.4826388888888889,
          0.42291666666666666,
          0.5493055555555556,
          0.5090277777777777,
          0.09791666666666667,
          0.09722222222222222,
          0.20625,
          0.6381944444444444,
          0.025,
          0.45069444444444445,
          0,
          0.018055555555555554,
          0.6194444444444445,
          0.3680555555555556,
          0.6458333333333334,
          0.25972222222222224,
          0.03333333333333333,
          0.6673611111111111,
          0.12569444444444444,
          0.6902777777777778,
          0.16666666666666666,
          0.15208333333333332,
          0.13958333333333334,
          0.7409722222222223,
          0.03611111111111111,
          0.058333333333333334,
          0.8048611111111111,
          0.035416666666666666,
          0.3284722222222222,
          0.7847222222222222,
          0.13055555555555556,
          0.12222222222222222,
          0.5756944444444444,
          0.3645833333333333,
          0.12013888888888889,
          0.6034722222222222,
          2.3979166666666667,
          0.6381944444444444,
          0.23055555555555557,
          1.0277777777777777,
          0.9090277777777778,
          0.11944444444444445,
          0.7395833333333334,
          0.27152777777777776,
          0.5486111111111112,
          0.18333333333333332,
          0.11527777777777778,
          0.7222222222222222,
          2.308333333333333,
          0.06180555555555556,
          0.3298611111111111,
          0.3625,
          0.15416666666666667,
          0.25763888888888886,
          0.7375,
          0.7673611111111112,
          0.24930555555555556,
          0.30069444444444443,
          0.8208333333333333,
          1.0118055555555556,
          0.004166666666666667,
          0.058333333333333334,
          0.13819444444444445,
          0.41805555555555557,
          0.0625,
          0.22569444444444445,
          1.0819444444444444,
          0.6138888888888889,
          0.5423611111111111,
          0.47847222222222224,
          1.301388888888889,
          0.06388888888888888,
          1.1166666666666667,
          0.06319444444444444,
          0.42083333333333334,
          0.08333333333333333,
          0.2263888888888889,
          0.14027777777777778,
          0.7368055555555556,
          1.2041666666666666,
          0.7715277777777778,
          0.31180555555555556,
          0.5868055555555556,
          0.24861111111111112,
          0.25416666666666665,
          0.53125,
          0.3506944444444444,
          0.6465277777777778,
          0.15625,
          3.1493055555555554,
          0.12916666666666668,
          0.6319444444444444,
          0.27708333333333335,
          0.6402777777777777,
          0.4465277777777778,
          0.034722222222222224,
          0.6583333333333333,
          0.041666666666666664,
          0.10555555555555556,
          0.058333333333333334,
          0.044444444444444446,
          0.13402777777777777,
          0.5298611111111111,
          5.222916666666666,
          0.19444444444444445,
          0.04861111111111111,
          0.7638888888888888,
          0.6972222222222222,
          0.4895833333333333,
          0.8097222222222222,
          0.9083333333333333,
          0.21041666666666667,
          0.020833333333333332,
          0.5722222222222222,
          0.2777777777777778,
          0.7138888888888889,
          0.09166666666666666,
          1.0763888888888888,
          0.19791666666666666,
          0.6180555555555556,
          0.1076388888888889,
          0.09027777777777778,
          0.28402777777777777,
          0.5756944444444444,
          1.113888888888889,
          2.3270833333333334,
          1.9895833333333333,
          1.6131944444444444,
          0.18263888888888888,
          0.09097222222222222,
          0.1875,
          0.5,
          0.15833333333333333,
          0.8548611111111111,
          0.40902777777777777,
          0.03333333333333333,
          1.86875,
          0.030555555555555555,
          1.0090277777777779,
          0.5826388888888889,
          0.18472222222222223,
          1.30625,
          0.034722222222222224,
          0.9736111111111111,
          0.9805555555555555,
          0.06527777777777778,
          0.5847222222222223,
          0.08333333333333333,
          0.12569444444444444,
          1.2125,
          0.05486111111111111,
          0.24583333333333332,
          0.7034722222222223,
          0.6243055555555556,
          0.14444444444444443,
          0.022916666666666665,
          0.13194444444444445,
          0.5423611111111111,
          0.07013888888888889,
          0.06180555555555556,
          2.036111111111111,
          0.1597222222222222,
          0.1701388888888889,
          0.56875,
          0.018055555555555554,
          0.15416666666666667,
          0.08611111111111111,
          0.9833333333333333,
          0.14583333333333334,
          1.7694444444444444,
          0.19722222222222222,
          0.7118055555555556,
          0.059722222222222225,
          0.7347222222222223,
          0.11875,
          3.2847222222222223,
          0.10555555555555556,
          0.07361111111111111,
          0.8868055555555555,
          0.6305555555555555,
          0.10972222222222222,
          0.15208333333333332,
          0.05763888888888889,
          0.7055555555555556,
          0.050694444444444445,
          0.04097222222222222,
          2.779861111111111,
          0.33402777777777776,
          0.19166666666666668,
          0.4722222222222222,
          0.2652777777777778,
          0.12569444444444444,
          0.06736111111111111,
          0.07152777777777777,
          0.5236111111111111,
          0.16458333333333333,
          0.21666666666666667,
          0.12916666666666668,
          0.5131944444444444,
          0.14791666666666667,
          0.15138888888888888,
          0.08333333333333333,
          0.6979166666666666,
          0.08055555555555556,
          0.004166666666666667,
          0.79375,
          0.2826388888888889,
          0.024305555555555556,
          0.7798611111111111,
          0.12291666666666666,
          0.11527777777777778,
          0.18194444444444444,
          0.6055555555555555,
          0.28125,
          0.9409722222222222,
          0.9722222222222222,
          0.11527777777777778,
          0.6993055555555555,
          0.15138888888888888,
          0.15694444444444444,
          0.7868055555555555,
          0.13541666666666666,
          0.6659722222222222,
          0.18194444444444444,
          0.36041666666666666,
          0.6805555555555556,
          0.08472222222222223,
          1.0180555555555555,
          0.03194444444444444,
          0.7458333333333333,
          0.09583333333333334,
          2.308333333333333,
          0.9270833333333334,
          0.9756944444444444,
          0.03611111111111111,
          0.4986111111111111,
          0.24027777777777778,
          0.2708333333333333,
          0.7486111111111111,
          0.1451388888888889,
          1.0680555555555555,
          0.06319444444444444,
          0.9590277777777778,
          0.6340277777777777,
          0.3472222222222222,
          0.6118055555555556,
          0.05555555555555555,
          0.15208333333333332,
          0.06527777777777778,
          0.030555555555555555,
          0.011111111111111112,
          0.6006944444444444,
          0.014583333333333334,
          0.19166666666666668,
          0.01597222222222222,
          0.05277777777777778,
          0.08402777777777778,
          0.050694444444444445,
          0.11736111111111111,
          0.5381944444444444,
          0.32083333333333336,
          1.0951388888888889,
          0.9319444444444445,
          0.10486111111111111,
          0.8583333333333333,
          0.10277777777777777,
          0.5138888888888888,
          0.03125,
          0.15833333333333333,
          0.25833333333333336,
          0.058333333333333334,
          0.059027777777777776,
          0.45,
          3.057638888888889,
          2.3625,
          0.7069444444444445,
          0.06944444444444445,
          1.1944444444444444,
          0.5902777777777778,
          2.2645833333333334,
          0.04236111111111111,
          0.07291666666666667,
          0.6159722222222223,
          0.08333333333333333,
          0.18125,
          0.013888888888888888,
          0.05486111111111111,
          1.1020833333333333,
          0.06527777777777778,
          0.09722222222222222,
          0.78125,
          0.034722222222222224,
          0.5972222222222222,
          0.18888888888888888,
          0.17430555555555555,
          0.6243055555555556,
          0.18472222222222223,
          0.16458333333333333,
          0.006944444444444444,
          0.7625,
          0.1326388888888889,
          0.1638888888888889,
          0.5965277777777778,
          0.12569444444444444,
          0.13541666666666666,
          0.1284722222222222,
          0.1798611111111111,
          0.8340277777777778,
          0.04097222222222222
         ]
        },
        {
         "line": {
          "width": 2
         },
         "marker": {
          "size": 0
         },
         "mode": "lines",
         "name": "Sliding average (window size 12)",
         "type": "scatter",
         "x": [
          "2023-07-13T10:42:00",
          "2023-07-15T23:01:00",
          "2023-07-16T20:02:00",
          "2023-07-17T16:10:00",
          "2023-07-17T19:17:00",
          "2023-07-17T20:29:00",
          "2023-07-17T21:37:00",
          "2023-07-18T12:23:00",
          "2023-07-18T13:49:00",
          "2023-07-18T23:12:00",
          "2023-07-19T13:27:00",
          "2023-07-19T18:28:00",
          "2023-07-19T20:16:00",
          "2023-07-19T23:10:00",
          "2023-07-20T13:12:00",
          "2023-07-20T16:58:00",
          "2023-07-20T21:21:00",
          "2023-07-21T11:00:00",
          "2023-07-21T23:25:00",
          "2023-07-22T11:30:00",
          "2023-07-22T13:30:00",
          "2023-07-22T17:09:00",
          "2023-07-22T19:34:00",
          "2023-07-22T22:17:00",
          "2023-07-23T10:56:00",
          "2023-07-23T15:14:00",
          "2023-07-23T17:24:00",
          "2023-07-23T20:49:00",
          "2023-07-24T01:45:00",
          "2023-07-24T20:01:00",
          "2023-07-24T23:54:00",
          "2023-07-25T01:06:00",
          "2023-07-25T14:04:00",
          "2023-07-25T15:49:00",
          "2023-07-25T22:06:00",
          "2023-07-26T15:00:00",
          "2023-07-26T18:20:00",
          "2023-07-26T23:13:00",
          "2023-07-27T01:15:00",
          "2023-07-27T15:54:00",
          "2023-07-27T16:02:00",
          "2023-07-27T21:04:00",
          "2023-07-28T10:16:00",
          "2023-07-28T12:12:00",
          "2023-07-28T16:48:00",
          "2023-07-28T21:15:00",
          "2023-07-28T22:54:00",
          "2023-07-29T10:38:00",
          "2023-07-29T15:39:00",
          "2023-07-29T20:04:00",
          "2023-07-30T11:01:00",
          "2023-07-30T12:08:00",
          "2023-07-30T13:01:00",
          "2023-07-30T23:26:00",
          "2023-07-31T12:00:00",
          "2023-07-31T16:45:00",
          "2023-07-31T17:22:00",
          "2023-08-01T10:53:00",
          "2023-08-01T16:11:00",
          "2023-08-01T23:21:00",
          "2023-08-01T23:59:00",
          "2023-08-02T11:49:00",
          "2023-08-02T15:34:00",
          "2023-08-02T18:30:00",
          "2023-08-02T21:10:00",
          "2023-08-03T00:04:00",
          "2023-08-03T18:01:00",
          "2023-08-03T22:51:00",
          "2023-08-04T09:24:00",
          "2023-08-04T16:34:00",
          "2023-08-05T11:32:00",
          "2023-08-05T15:52:00",
          "2023-08-05T22:29:00",
          "2023-08-05T23:29:00",
          "2023-08-06T12:14:00",
          "2023-08-06T15:48:00",
          "2023-08-06T23:45:00",
          "2023-08-07T15:44:00",
          "2023-08-07T23:42:00",
          "2023-08-08T09:22:00",
          "2023-08-08T11:24:00",
          "2023-08-08T22:02:00",
          "2023-08-09T14:55:00",
          "2023-08-09T16:10:00",
          "2023-08-09T17:49:00",
          "2023-08-09T20:01:00",
          "2023-08-10T00:24:00",
          "2023-08-10T20:12:00",
          "2023-08-11T00:29:00",
          "2023-08-11T11:23:00",
          "2023-08-11T13:36:00",
          "2023-08-11T21:24:00",
          "2023-08-12T15:11:00",
          "2023-08-12T20:11:00",
          "2023-08-12T23:59:00",
          "2023-08-13T01:02:00",
          "2023-08-13T12:23:00",
          "2023-08-13T15:31:00",
          "2023-08-14T21:07:00",
          "2023-08-15T01:02:00",
          "2023-08-16T01:33:00",
          "2023-08-17T23:03:00",
          "2023-08-19T01:27:00",
          "2023-08-20T16:35:00",
          "2023-08-20T21:51:00",
          "2023-08-21T00:14:00",
          "2023-08-21T13:11:00",
          "2023-08-21T20:05:00",
          "2023-08-22T13:18:00",
          "2023-08-22T18:07:00",
          "2023-08-30T19:49:00",
          "2023-08-30T20:00:00",
          "2023-08-31T22:48:00",
          "2023-09-01T12:36:00",
          "2023-09-02T12:13:00",
          "2023-09-02T16:31:00",
          "2023-09-02T21:03:00",
          "2023-09-03T13:33:00",
          "2023-09-03T15:11:00",
          "2023-09-03T23:10:00",
          "2023-09-05T20:14:00",
          "2023-09-06T11:33:00",
          "2023-09-06T23:34:00",
          "2023-09-07T20:24:00",
          "2023-09-08T12:40:00",
          "2023-09-08T21:12:00",
          "2023-09-09T20:01:00",
          "2023-09-10T20:04:00",
          "2023-09-11T13:01:00",
          "2023-09-11T21:24:00",
          "2023-09-12T21:17:00",
          "2023-09-13T16:31:00",
          "2023-09-13T20:09:00",
          "2023-09-14T21:16:00",
          "2023-09-15T13:40:00",
          "2023-09-15T21:55:00",
          "2023-09-29T17:53:00",
          "2023-09-29T19:05:00",
          "2023-09-30T16:10:00",
          "2023-09-30T16:30:00",
          "2023-09-30T20:02:00",
          "2023-10-01T00:30:00",
          "2023-10-01T09:41:00",
          "2023-10-03T10:42:00",
          "2023-10-04T09:12:00",
          "2023-10-05T09:55:00",
          "2023-10-06T16:39:00",
          "2023-10-07T11:03:00",
          "2023-10-07T12:32:00",
          "2023-10-09T17:56:00",
          "2023-10-10T09:49:00",
          "2023-10-10T22:39:00",
          "2023-10-10T22:44:00",
          "2023-10-11T19:00:00",
          "2023-10-13T14:42:00",
          "2023-10-16T12:48:00",
          "2023-10-16T16:57:00",
          "2023-10-18T01:37:00",
          "2023-10-18T01:40:00",
          "2023-10-19T12:19:00",
          "2023-10-23T10:17:00",
          "2023-10-23T17:02:00",
          "2023-10-23T23:20:00",
          "2023-10-24T13:09:00",
          "2023-10-24T20:47:00",
          "2023-10-26T16:11:00",
          "2023-10-27T16:10:00",
          "2023-10-28T23:00:00",
          "2023-10-29T10:05:00",
          "2023-10-30T22:53:00",
          "2023-10-31T15:15:00",
          "2023-10-31T16:44:00",
          "2023-11-03T11:56:00",
          "2023-11-03T14:25:00",
          "2023-11-03T23:42:00",
          "2023-11-04T10:02:00",
          "2023-11-04T20:00:00",
          "2023-11-04T23:45:00",
          "2023-11-05T12:14:00",
          "2023-11-05T23:49:00",
          "2023-11-06T09:58:00",
          "2023-11-06T23:09:00",
          "2023-11-07T11:22:00",
          "2023-11-07T13:43:00",
          "2023-11-07T16:03:00",
          "2023-11-07T21:00:00",
          "2023-11-08T12:19:00",
          "2023-11-08T12:55:00",
          "2023-11-08T23:44:00",
          "2023-11-08T23:44:00",
          "2023-11-09T00:10:00",
          "2023-11-09T15:02:00",
          "2023-11-09T23:52:00",
          "2023-11-10T15:22:00",
          "2023-11-10T21:36:00",
          "2023-11-10T22:24:00",
          "2023-11-11T14:25:00",
          "2023-11-11T17:26:00",
          "2023-11-12T10:00:00",
          "2023-11-12T14:00:00",
          "2023-11-12T17:39:00",
          "2023-11-12T21:00:00",
          "2023-11-13T14:47:00",
          "2023-11-13T15:39:00",
          "2023-11-13T17:03:00",
          "2023-11-14T12:22:00",
          "2023-11-14T13:13:00",
          "2023-11-14T21:06:00",
          "2023-11-15T15:56:00",
          "2023-11-15T19:04:00",
          "2023-11-15T22:00:00",
          "2023-11-16T11:49:00",
          "2023-11-16T20:34:00",
          "2023-11-16T23:27:00",
          "2023-11-17T13:56:00",
          "2023-11-19T23:29:00",
          "2023-11-20T14:48:00",
          "2023-11-20T20:20:00",
          "2023-11-21T21:00:00",
          "2023-11-22T18:49:00",
          "2023-11-22T21:41:00",
          "2023-11-23T15:26:00",
          "2023-11-23T21:57:00",
          "2023-11-24T11:07:00",
          "2023-11-24T15:31:00",
          "2023-11-24T18:17:00",
          "2023-11-25T11:37:00",
          "2023-11-27T19:01:00",
          "2023-11-27T20:30:00",
          "2023-11-28T04:25:00",
          "2023-11-28T13:07:00",
          "2023-11-28T16:49:00",
          "2023-11-28T23:00:00",
          "2023-11-29T16:42:00",
          "2023-11-30T11:07:00",
          "2023-11-30T17:06:00",
          "2023-12-01T00:19:00",
          "2023-12-01T20:01:00",
          "2023-12-02T20:18:00",
          "2023-12-02T20:24:00",
          "2023-12-02T21:48:00",
          "2023-12-03T01:07:00",
          "2023-12-03T11:09:00",
          "2023-12-03T12:39:00",
          "2023-12-03T18:04:00",
          "2023-12-04T20:02:00",
          "2023-12-05T10:46:00",
          "2023-12-05T23:47:00",
          "2023-12-06T11:16:00",
          "2023-12-07T18:30:00",
          "2023-12-07T20:02:00",
          "2023-12-08T22:50:00",
          "2023-12-09T00:21:00",
          "2023-12-09T10:27:00",
          "2023-12-09T12:27:00",
          "2023-12-09T17:53:00",
          "2023-12-09T21:15:00",
          "2023-12-10T14:56:00",
          "2023-12-11T19:50:00",
          "2023-12-12T14:21:00",
          "2023-12-12T21:50:00",
          "2023-12-13T11:55:00",
          "2023-12-13T17:53:00",
          "2023-12-13T23:59:00",
          "2023-12-14T12:44:00",
          "2023-12-14T21:09:00",
          "2023-12-15T12:40:00",
          "2023-12-15T16:25:00",
          "2023-12-18T20:00:00",
          "2023-12-18T23:06:00",
          "2023-12-19T14:16:00",
          "2023-12-19T20:55:00",
          "2023-12-20T12:17:00",
          "2023-12-20T23:00:00",
          "2023-12-20T23:50:00",
          "2023-12-21T15:38:00",
          "2023-12-21T16:38:00",
          "2023-12-21T19:10:00",
          "2023-12-21T20:34:00",
          "2023-12-21T21:38:00",
          "2023-12-22T00:51:00",
          "2023-12-22T13:34:00",
          "2023-12-27T18:55:00",
          "2023-12-27T23:35:00",
          "2023-12-28T00:45:00",
          "2023-12-28T19:05:00",
          "2023-12-29T11:49:00",
          "2023-12-29T23:34:00",
          "2023-12-30T19:00:00",
          "2023-12-31T16:48:00",
          "2023-12-31T21:51:00",
          "2023-12-31T22:21:00",
          "2024-01-01T12:05:00",
          "2024-01-01T18:45:00",
          "2024-01-02T11:53:00",
          "2024-01-02T14:05:00",
          "2024-01-03T15:55:00",
          "2024-01-03T20:40:00",
          "2024-01-04T11:30:00",
          "2024-01-04T14:05:00",
          "2024-01-04T16:15:00",
          "2024-01-04T23:04:00",
          "2024-01-05T12:53:00",
          "2024-01-06T15:37:00",
          "2024-01-08T23:28:00",
          "2024-01-10T23:13:00",
          "2024-01-12T13:56:00",
          "2024-01-12T18:19:00",
          "2024-01-12T20:30:00",
          "2024-01-13T01:00:00",
          "2024-01-13T13:00:00",
          "2024-01-13T16:48:00",
          "2024-01-14T13:19:00",
          "2024-01-14T23:08:00",
          "2024-01-14T23:56:00",
          "2024-01-16T20:47:00",
          "2024-01-16T21:31:00",
          "2024-01-17T21:44:00",
          "2024-01-18T11:43:00",
          "2024-01-18T16:09:00",
          "2024-01-19T23:30:00",
          "2024-01-20T00:20:00",
          "2024-01-20T23:42:00",
          "2024-01-21T23:14:00",
          "2024-01-22T00:48:00",
          "2024-01-22T14:50:00",
          "2024-01-22T16:50:00",
          "2024-01-22T19:51:00",
          "2024-01-24T00:57:00",
          "2024-01-24T02:16:00",
          "2024-01-24T08:10:00",
          "2024-01-25T01:03:00",
          "2024-01-25T16:02:00",
          "2024-01-25T19:30:00",
          "2024-01-25T20:03:00",
          "2024-01-25T23:13:00",
          "2024-01-26T12:14:00",
          "2024-01-26T13:55:00",
          "2024-01-26T15:24:00",
          "2024-01-28T16:16:00",
          "2024-01-28T20:06:00",
          "2024-01-29T00:11:00",
          "2024-01-29T13:50:00",
          "2024-01-29T14:16:00",
          "2024-01-29T17:58:00",
          "2024-01-29T20:02:00",
          "2024-01-30T19:38:00",
          "2024-01-30T23:08:00",
          "2024-02-01T17:36:00",
          "2024-02-01T22:20:00",
          "2024-02-02T15:25:00",
          "2024-02-02T16:51:00",
          "2024-02-03T10:29:00",
          "2024-02-03T13:20:00",
          "2024-02-06T20:10:00",
          "2024-02-06T22:42:00",
          "2024-02-07T00:28:00",
          "2024-02-07T21:45:00",
          "2024-02-08T12:53:00",
          "2024-02-08T15:31:00",
          "2024-02-08T19:10:00",
          "2024-02-08T20:33:00",
          "2024-02-09T13:29:00",
          "2024-02-09T14:42:00",
          "2024-02-09T15:41:00",
          "2024-02-12T10:24:00",
          "2024-02-12T18:25:00",
          "2024-02-12T23:01:00",
          "2024-02-13T10:21:00",
          "2024-02-13T16:43:00",
          "2024-02-13T19:44:00",
          "2024-02-13T21:21:00",
          "2024-02-13T23:04:00",
          "2024-02-14T11:38:00",
          "2024-02-14T15:35:00",
          "2024-02-14T20:47:00",
          "2024-02-14T23:53:00",
          "2024-02-15T12:12:00",
          "2024-02-15T15:45:00",
          "2024-02-15T19:23:00",
          "2024-02-15T21:23:00",
          "2024-02-16T14:08:00",
          "2024-02-16T16:04:00",
          "2024-02-16T16:10:00",
          "2024-02-17T11:13:00",
          "2024-02-17T18:00:00",
          "2024-02-17T18:35:00",
          "2024-02-18T13:18:00",
          "2024-02-18T16:15:00",
          "2024-02-18T19:01:00",
          "2024-02-18T23:23:00",
          "2024-02-19T13:55:00",
          "2024-02-19T20:40:00",
          "2024-02-20T19:15:00",
          "2024-02-21T18:35:00",
          "2024-02-21T21:21:00",
          "2024-02-22T14:08:00",
          "2024-02-22T17:46:00",
          "2024-02-22T21:32:00",
          "2024-02-23T16:25:00",
          "2024-02-23T19:40:00",
          "2024-02-24T11:39:00",
          "2024-02-24T16:01:00",
          "2024-02-25T00:40:00",
          "2024-02-25T17:00:00",
          "2024-02-25T19:02:00",
          "2024-02-26T19:28:00",
          "2024-02-26T20:14:00",
          "2024-02-27T14:08:00",
          "2024-02-27T16:26:00",
          "2024-02-29T23:50:00",
          "2024-03-01T22:05:00",
          "2024-03-02T21:30:00",
          "2024-03-02T22:22:00",
          "2024-03-03T10:20:00",
          "2024-03-03T16:06:00",
          "2024-03-03T22:36:00",
          "2024-03-04T16:34:00",
          "2024-03-04T20:03:00",
          "2024-03-05T21:41:00",
          "2024-03-05T23:12:00",
          "2024-03-06T22:13:00",
          "2024-03-07T13:26:00",
          "2024-03-07T21:46:00",
          "2024-03-08T12:27:00",
          "2024-03-08T13:47:00",
          "2024-03-08T17:26:00",
          "2024-03-08T19:00:00",
          "2024-03-08T19:44:00",
          "2024-03-08T20:00:00",
          "2024-03-09T10:25:00",
          "2024-03-09T10:46:00",
          "2024-03-09T15:22:00",
          "2024-03-09T15:45:00",
          "2024-03-09T17:01:00",
          "2024-03-09T19:02:00",
          "2024-03-09T20:15:00",
          "2024-03-09T23:04:00",
          "2024-03-10T11:59:00",
          "2024-03-10T19:41:00",
          "2024-03-11T21:58:00",
          "2024-03-12T20:20:00",
          "2024-03-12T22:51:00",
          "2024-03-13T19:27:00",
          "2024-03-13T21:55:00",
          "2024-03-14T10:15:00",
          "2024-03-14T11:00:00",
          "2024-03-14T14:48:00",
          "2024-03-14T21:00:00",
          "2024-03-14T22:24:00",
          "2024-03-14T23:49:00",
          "2024-03-15T10:37:00",
          "2024-03-18T12:00:00",
          "2024-03-20T20:42:00",
          "2024-03-21T13:40:00",
          "2024-03-21T15:20:00",
          "2024-03-22T20:00:00",
          "2024-03-23T10:10:00",
          "2024-03-25T16:31:00",
          "2024-03-25T17:32:00",
          "2024-03-25T19:17:00",
          "2024-03-26T10:04:00",
          "2024-03-26T12:04:00",
          "2024-03-26T16:25:00",
          "2024-03-26T16:45:00",
          "2024-03-26T18:04:00",
          "2024-03-27T20:31:00",
          "2024-03-27T22:05:00",
          "2024-03-28T00:25:00",
          "2024-03-28T19:10:00",
          "2024-03-28T20:00:00",
          "2024-03-29T10:20:00",
          "2024-03-29T14:52:00",
          "2024-03-29T19:03:00",
          "2024-03-30T10:02:00",
          "2024-03-30T14:28:00",
          "2024-03-30T18:25:00",
          "2024-03-30T18:35:00",
          "2024-03-31T12:53:00",
          "2024-03-31T16:04:00",
          "2024-03-31T20:00:00",
          "2024-04-01T10:19:00",
          "2024-04-01T13:20:00",
          "2024-04-01T16:35:00",
          "2024-04-01T19:40:00",
          "2024-04-01T23:59:00",
          "2024-04-02T20:00:00",
          "2024-04-02T20:59:00"
         ],
         "y": [
          1.1771412037037037,
          1.0831597222222222,
          1.0601851851851851,
          0.9395254629629629,
          0.7734953703703703,
          0.7699652777777778,
          0.7527199074074074,
          0.7196759259259259,
          0.5840277777777778,
          0.5851851851851851,
          0.572511574074074,
          0.5332175925925926,
          0.3338541666666667,
          0.3096064814814815,
          0.25277777777777777,
          0.2571759259259259,
          0.30040509259259257,
          0.33958333333333335,
          0.3302662037037037,
          0.3322337962962963,
          0.3123263888888889,
          0.27123842592592595,
          0.2632523148148148,
          0.30092592592592593,
          0.305787037037037,
          0.26458333333333334,
          0.26336805555555554,
          0.2652777777777778,
          0.28130787037037036,
          0.25167824074074074,
          0.21388888888888888,
          0.2519675925925926,
          0.24537037037037038,
          0.2587962962962963,
          0.3080439814814815,
          0.27569444444444446,
          0.27771990740740743,
          0.27725694444444443,
          0.31626157407407407,
          0.2995949074074074,
          0.25364583333333335,
          0.28599537037037037,
          0.2885416666666667,
          0.25949074074074074,
          0.26886574074074077,
          0.25277777777777777,
          0.23483796296296297,
          0.2406828703703704,
          0.2390625,
          0.28391203703703705,
          0.2369212962962963,
          0.23952546296296298,
          0.2582175925925926,
          0.25601851851851853,
          0.26579861111111114,
          0.2519675925925926,
          0.29733796296296294,
          0.3100115740740741,
          0.2941550925925926,
          0.2789351851851852,
          0.3046875,
          0.26579861111111114,
          0.2721064814814815,
          0.2782986111111111,
          0.25219907407407405,
          0.2708912037037037,
          0.27118055555555554,
          0.3056712962962963,
          0.2697337962962963,
          0.3171875,
          0.30734953703703705,
          0.328125,
          0.29050925925925924,
          0.32175925925925924,
          0.32395833333333335,
          0.34230324074074076,
          0.38773148148148145,
          0.3530671296296296,
          0.36984953703703705,
          0.3402777777777778,
          0.3523148148148148,
          0.3450810185185185,
          0.334375,
          0.31712962962962965,
          0.3212962962962963,
          0.29224537037037035,
          0.3486111111111111,
          0.33587962962962964,
          0.3182291666666667,
          0.2982638888888889,
          0.2917824074074074,
          0.3464699074074074,
          0.32690972222222225,
          0.2814814814814815,
          0.28078703703703706,
          0.3144675925925926,
          0.3177083333333333,
          0.4052662037037037,
          0.35011574074074076,
          0.4203703703703704,
          0.5405092592592593,
          0.6244791666666667,
          0.733275462962963,
          0.6898148148148148,
          0.6807291666666667,
          0.7125,
          0.7328125,
          0.7531828703703703,
          0.7590277777777777,
          1.3288194444444443,
          1.3158564814814815,
          1.323784722222222,
          1.2137152777777778,
          1.2040509259259258,
          1.0831018518518518,
          1.0805555555555555,
          1.1295717592592591,
          1.0902777777777777,
          1.0940393518518519,
          1.1907407407407407,
          1.227199074074074,
          0.5963541666666666,
          0.6680555555555555,
          0.6314814814814814,
          0.6131944444444445,
          0.6104166666666666,
          0.6789930555555556,
          0.7221064814814815,
          0.6939236111111111,
          0.7711805555555555,
          0.8102430555555555,
          0.6663773148148149,
          0.7004050925925926,
          0.7156250000000001,
          0.6719328703703704,
          1.768113425925926,
          1.7426504629629629,
          1.7366319444444445,
          1.6542824074074074,
          1.6076967592592593,
          1.5940972222222223,
          1.5430555555555554,
          1.6464699074074074,
          1.7119791666666666,
          1.7105902777777777,
          1.7603587962962963,
          1.7956018518518517,
          0.6480902777777777,
          0.8293402777777777,
          0.8112847222222223,
          0.8546875,
          0.8427083333333333,
          0.8975694444444444,
          1.0174189814814816,
          1.090625,
          1.0269097222222223,
          1.054513888888889,
          0.947974537037037,
          1.004398148148148,
          1.3255208333333333,
          1.1635416666666667,
          1.1302662037037037,
          1.1336805555555556,
          1.1598958333333333,
          1.2402199074074074,
          1.1717592592592594,
          1.0354166666666667,
          1.0594907407407408,
          1.0738425925925925,
          1.1304976851851851,
          1.0153356481481481,
          0.9223958333333333,
          0.9075810185185185,
          0.9179398148148148,
          0.9058449074074074,
          0.9139467592592593,
          0.7762731481481482,
          0.7363425925925926,
          0.6695023148148148,
          0.666261574074074,
          0.5842592592592593,
          0.569849537037037,
          0.5728587962962963,
          0.34762731481481485,
          0.35619212962962965,
          0.3771412037037037,
          0.3433449074074074,
          0.3462962962962963,
          0.33327546296296295,
          0.2914351851851852,
          0.3028356481481482,
          0.2982638888888889,
          0.3063078703703704,
          0.28553240740740743,
          0.280150462962963,
          0.32766203703703706,
          0.3209490740740741,
          0.32528935185185187,
          0.3370949074074074,
          0.31221064814814814,
          0.32384259259259257,
          0.38408564814814816,
          0.33547453703703706,
          0.30966435185185187,
          0.3229166666666667,
          0.30422453703703706,
          0.32881944444444444,
          0.33859953703703705,
          0.33900462962962963,
          0.2916666666666667,
          0.3257523148148148,
          0.34346064814814814,
          0.34184027777777776,
          0.33038194444444446,
          0.5271990740740741,
          0.5755208333333334,
          0.5276620370370371,
          0.6103587962962963,
          0.6587384259259259,
          0.603298611111111,
          0.654050925925926,
          0.6664930555555555,
          0.6642361111111111,
          0.6491319444444444,
          0.6487268518518519,
          0.6586226851851852,
          0.6511574074074074,
          0.603125,
          0.6114004629629629,
          0.5559606481481482,
          0.4930555555555555,
          0.5045717592592592,
          0.5043981481481481,
          0.5457175925925926,
          0.520775462962963,
          0.5305555555555556,
          0.5893518518518518,
          0.6134837962962962,
          0.4214699074074074,
          0.42118055555555556,
          0.40520833333333334,
          0.409837962962963,
          0.40219907407407407,
          0.399537037037037,
          0.42824074074074076,
          0.4154513888888889,
          0.4398726851851852,
          0.4546875,
          0.4947337962962963,
          0.41574074074074074,
          0.508449074074074,
          0.5088541666666667,
          0.5324074074074074,
          0.5045138888888889,
          0.5181712962962963,
          0.5110532407407408,
          0.4822916666666667,
          0.5314814814814814,
          0.5505787037037038,
          0.5366898148148148,
          0.4771412037037037,
          0.4925347222222222,
          0.4206597222222222,
          0.45966435185185184,
          0.45381944444444444,
          0.5007523148148149,
          0.4949074074074074,
          0.7456597222222222,
          0.6950231481481481,
          0.647337962962963,
          0.6061342592592592,
          0.6335069444444444,
          0.6218171296296297,
          0.6039930555555555,
          0.6376736111111111,
          0.5968749999999999,
          0.5764467592592593,
          0.5274305555555555,
          0.5181134259259259,
          0.2668402777777778,
          0.3002314814814815,
          0.6828124999999999,
          0.6759259259259259,
          0.6266203703703703,
          0.6530671296296297,
          0.708275462962963,
          0.694212962962963,
          0.7582175925925926,
          0.8251157407407407,
          0.8377893518518518,
          0.8358217592592593,
          0.872337962962963,
          0.8513310185185184,
          0.4755787037037037,
          0.4670138888888889,
          0.552662037037037,
          0.5054976851851852,
          0.498900462962963,
          0.46707175925925926,
          0.4071180555555555,
          0.35509259259259257,
          0.3855324074074074,
          0.47662037037037036,
          0.6228587962962963,
          0.7655092592592593,
          0.8404513888888889,
          0.8480324074074074,
          0.7659143518518519,
          0.7650462962962963,
          0.7552083333333334,
          0.7594328703703703,
          0.8231481481481482,
          0.8335648148148148,
          0.7883680555555556,
          0.8512731481481481,
          0.6598958333333333,
          0.5781828703703703,
          0.4923032407407407,
          0.49247685185185186,
          0.59375,
          0.5810185185185185,
          0.6204861111111111,
          0.6890046296296296,
          0.6232060185185185,
          0.6378472222222222,
          0.6420138888888889,
          0.49675925925925923,
          0.5952546296296296,
          0.5157407407407407,
          0.48767361111111107,
          0.5309027777777777,
          0.4740740740740741,
          0.48321759259259256,
          0.40399305555555554,
          0.33327546296296295,
          0.3730324074074074,
          0.33015046296296297,
          0.3283564814814815,
          0.48755787037037035,
          0.3998263888888889,
          0.40943287037037035,
          0.43634259259259256,
          0.379224537037037,
          0.3400462962962963,
          0.3351851851851852,
          0.4152199074074074,
          0.41637731481481477,
          0.5186342592592592,
          0.529224537037037,
          0.5833912037037037,
          0.4186921296296296,
          0.4666087962962963,
          0.4623263888888889,
          0.6886574074074074,
          0.695949074074074,
          0.6892361111111112,
          0.7559606481481481,
          0.7265625,
          0.7235532407407408,
          0.5887731481481482,
          0.5771412037037037,
          0.5766203703703704,
          0.5758680555555555,
          0.5180555555555556,
          0.7398148148148148,
          0.4939236111111111,
          0.501099537037037,
          0.5343171296296296,
          0.4825231481481481,
          0.44045138888888885,
          0.4369212962962963,
          0.4302083333333333,
          0.46903935185185186,
          0.4239583333333333,
          0.43778935185185186,
          0.44513888888888886,
          0.25625,
          0.24074074074074073,
          0.23738425925925927,
          0.20497685185185185,
          0.2410300925925926,
          0.23726851851851852,
          0.23200231481481481,
          0.2921875,
          0.2721064814814815,
          0.26041666666666663,
          0.30734953703703705,
          0.3068287037037037,
          0.2736689814814815,
          0.27650462962962963,
          0.3143518518518518,
          0.3308449074074074,
          0.351099537037037,
          0.42540509259259257,
          0.4346643518518518,
          0.42679398148148145,
          0.41585648148148147,
          0.42690972222222223,
          0.4274884259259259,
          0.42853009259259256,
          0.47442129629629626,
          0.47442129629629626,
          0.4539930555555555,
          0.4872685185185185,
          0.4159143518518518,
          0.41973379629629626,
          0.41278935185185184,
          0.41666666666666663,
          0.41203703703703703,
          0.5913194444444444,
          0.6030092592592592,
          0.6730324074074074,
          0.6205439814814815,
          0.6469328703703704,
          0.6369212962962962,
          0.6027777777777777,
          0.6581018518518519,
          0.5853587962962963,
          0.6717013888888889,
          0.6148148148148148,
          0.6867476851851851,
          0.5472222222222223,
          0.498900462962963,
          0.4685763888888889,
          0.47019675925925924,
          0.44131944444444443,
          0.4267361111111111,
          0.40671296296296294,
          0.3452546296296296,
          0.3832175925925926,
          0.29542824074074076,
          0.30613425925925924,
          0.2275462962962963,
          0.1791087962962963,
          0.15717592592592594,
          0.11041666666666666,
          0.11556712962962963,
          0.14774305555555556,
          0.16903935185185184,
          0.25775462962962964,
          0.33449074074074076,
          0.2931712962962963,
          0.3634837962962963,
          0.3560763888888889,
          0.3975694444444444,
          0.39577546296296295,
          0.40196759259259257,
          0.4192708333333333,
          0.41435185185185186,
          0.3744212962962963,
          0.3851851851851852,
          0.5487268518518519,
          0.6679398148148148,
          0.7181134259259259,
          0.6523726851851852,
          0.7433449074074074,
          0.7497106481481481,
          0.9358217592592593,
          0.9261574074074074,
          0.9107060185185185,
          0.9571759259259259,
          0.959201388888889,
          0.9368055555555556,
          0.6831597222222222,
          0.4908564814814815,
          0.5237847222222223,
          0.5234375,
          0.4320023148148148,
          0.4479166666666667,
          0.26209490740740743,
          0.30833333333333335,
          0.3179976851851852,
          0.28119212962962964,
          0.3262731481481481,
          0.3265625,
          0.33912037037037035,
          0.33512731481481484,
          0.3068287037037037,
          0.31244212962962964,
          0.3179976851851852,
          0.3026041666666667,
          0.3101851851851852,
          0.2717013888888889,
          0.26666666666666666,
          0.2671296296296296,
          0.2846064814814815,
          0.27262731481481484
         ]
        }
       ],
       "layout": {
        "legend": {
         "orientation": "h",
         "x": 1,
         "xanchor": "right",
         "y": 1.02,
         "yanchor": "bottom"
        },
        "template": {
         "data": {
          "bar": [
           {
            "error_x": {
             "color": "#f2f5fa"
            },
            "error_y": {
             "color": "#f2f5fa"
            },
            "marker": {
             "line": {
              "color": "rgb(17,17,17)",
              "width": 0.5
             },
             "pattern": {
              "fillmode": "overlay",
              "size": 10,
              "solidity": 0.2
             }
            },
            "type": "bar"
           }
          ],
          "barpolar": [
           {
            "marker": {
             "line": {
              "color": "rgb(17,17,17)",
              "width": 0.5
             },
             "pattern": {
              "fillmode": "overlay",
              "size": 10,
              "solidity": 0.2
             }
            },
            "type": "barpolar"
           }
          ],
          "carpet": [
           {
            "aaxis": {
             "endlinecolor": "#A2B1C6",
             "gridcolor": "#506784",
             "linecolor": "#506784",
             "minorgridcolor": "#506784",
             "startlinecolor": "#A2B1C6"
            },
            "baxis": {
             "endlinecolor": "#A2B1C6",
             "gridcolor": "#506784",
             "linecolor": "#506784",
             "minorgridcolor": "#506784",
             "startlinecolor": "#A2B1C6"
            },
            "type": "carpet"
           }
          ],
          "choropleth": [
           {
            "colorbar": {
             "outlinewidth": 0,
             "ticks": ""
            },
            "type": "choropleth"
           }
          ],
          "contour": [
           {
            "colorbar": {
             "outlinewidth": 0,
             "ticks": ""
            },
            "colorscale": [
             [
              0,
              "#0d0887"
             ],
             [
              0.1111111111111111,
              "#46039f"
             ],
             [
              0.2222222222222222,
              "#7201a8"
             ],
             [
              0.3333333333333333,
              "#9c179e"
             ],
             [
              0.4444444444444444,
              "#bd3786"
             ],
             [
              0.5555555555555556,
              "#d8576b"
             ],
             [
              0.6666666666666666,
              "#ed7953"
             ],
             [
              0.7777777777777778,
              "#fb9f3a"
             ],
             [
              0.8888888888888888,
              "#fdca26"
             ],
             [
              1,
              "#f0f921"
             ]
            ],
            "type": "contour"
           }
          ],
          "contourcarpet": [
           {
            "colorbar": {
             "outlinewidth": 0,
             "ticks": ""
            },
            "type": "contourcarpet"
           }
          ],
          "heatmap": [
           {
            "colorbar": {
             "outlinewidth": 0,
             "ticks": ""
            },
            "colorscale": [
             [
              0,
              "#0d0887"
             ],
             [
              0.1111111111111111,
              "#46039f"
             ],
             [
              0.2222222222222222,
              "#7201a8"
             ],
             [
              0.3333333333333333,
              "#9c179e"
             ],
             [
              0.4444444444444444,
              "#bd3786"
             ],
             [
              0.5555555555555556,
              "#d8576b"
             ],
             [
              0.6666666666666666,
              "#ed7953"
             ],
             [
              0.7777777777777778,
              "#fb9f3a"
             ],
             [
              0.8888888888888888,
              "#fdca26"
             ],
             [
              1,
              "#f0f921"
             ]
            ],
            "type": "heatmap"
           }
          ],
          "heatmapgl": [
           {
            "colorbar": {
             "outlinewidth": 0,
             "ticks": ""
            },
            "colorscale": [
             [
              0,
              "#0d0887"
             ],
             [
              0.1111111111111111,
              "#46039f"
             ],
             [
              0.2222222222222222,
              "#7201a8"
             ],
             [
              0.3333333333333333,
              "#9c179e"
             ],
             [
              0.4444444444444444,
              "#bd3786"
             ],
             [
              0.5555555555555556,
              "#d8576b"
             ],
             [
              0.6666666666666666,
              "#ed7953"
             ],
             [
              0.7777777777777778,
              "#fb9f3a"
             ],
             [
              0.8888888888888888,
              "#fdca26"
             ],
             [
              1,
              "#f0f921"
             ]
            ],
            "type": "heatmapgl"
           }
          ],
          "histogram": [
           {
            "marker": {
             "pattern": {
              "fillmode": "overlay",
              "size": 10,
              "solidity": 0.2
             }
            },
            "type": "histogram"
           }
          ],
          "histogram2d": [
           {
            "colorbar": {
             "outlinewidth": 0,
             "ticks": ""
            },
            "colorscale": [
             [
              0,
              "#0d0887"
             ],
             [
              0.1111111111111111,
              "#46039f"
             ],
             [
              0.2222222222222222,
              "#7201a8"
             ],
             [
              0.3333333333333333,
              "#9c179e"
             ],
             [
              0.4444444444444444,
              "#bd3786"
             ],
             [
              0.5555555555555556,
              "#d8576b"
             ],
             [
              0.6666666666666666,
              "#ed7953"
             ],
             [
              0.7777777777777778,
              "#fb9f3a"
             ],
             [
              0.8888888888888888,
              "#fdca26"
             ],
             [
              1,
              "#f0f921"
             ]
            ],
            "type": "histogram2d"
           }
          ],
          "histogram2dcontour": [
           {
            "colorbar": {
             "outlinewidth": 0,
             "ticks": ""
            },
            "colorscale": [
             [
              0,
              "#0d0887"
             ],
             [
              0.1111111111111111,
              "#46039f"
             ],
             [
              0.2222222222222222,
              "#7201a8"
             ],
             [
              0.3333333333333333,
              "#9c179e"
             ],
             [
              0.4444444444444444,
              "#bd3786"
             ],
             [
              0.5555555555555556,
              "#d8576b"
             ],
             [
              0.6666666666666666,
              "#ed7953"
             ],
             [
              0.7777777777777778,
              "#fb9f3a"
             ],
             [
              0.8888888888888888,
              "#fdca26"
             ],
             [
              1,
              "#f0f921"
             ]
            ],
            "type": "histogram2dcontour"
           }
          ],
          "mesh3d": [
           {
            "colorbar": {
             "outlinewidth": 0,
             "ticks": ""
            },
            "type": "mesh3d"
           }
          ],
          "parcoords": [
           {
            "line": {
             "colorbar": {
              "outlinewidth": 0,
              "ticks": ""
             }
            },
            "type": "parcoords"
           }
          ],
          "pie": [
           {
            "automargin": true,
            "type": "pie"
           }
          ],
          "scatter": [
           {
            "marker": {
             "line": {
              "color": "#283442"
             }
            },
            "type": "scatter"
           }
          ],
          "scatter3d": [
           {
            "line": {
             "colorbar": {
              "outlinewidth": 0,
              "ticks": ""
             }
            },
            "marker": {
             "colorbar": {
              "outlinewidth": 0,
              "ticks": ""
             }
            },
            "type": "scatter3d"
           }
          ],
          "scattercarpet": [
           {
            "marker": {
             "colorbar": {
              "outlinewidth": 0,
              "ticks": ""
             }
            },
            "type": "scattercarpet"
           }
          ],
          "scattergeo": [
           {
            "marker": {
             "colorbar": {
              "outlinewidth": 0,
              "ticks": ""
             }
            },
            "type": "scattergeo"
           }
          ],
          "scattergl": [
           {
            "marker": {
             "line": {
              "color": "#283442"
             }
            },
            "type": "scattergl"
           }
          ],
          "scattermapbox": [
           {
            "marker": {
             "colorbar": {
              "outlinewidth": 0,
              "ticks": ""
             }
            },
            "type": "scattermapbox"
           }
          ],
          "scatterpolar": [
           {
            "marker": {
             "colorbar": {
              "outlinewidth": 0,
              "ticks": ""
             }
            },
            "type": "scatterpolar"
           }
          ],
          "scatterpolargl": [
           {
            "marker": {
             "colorbar": {
              "outlinewidth": 0,
              "ticks": ""
             }
            },
            "type": "scatterpolargl"
           }
          ],
          "scatterternary": [
           {
            "marker": {
             "colorbar": {
              "outlinewidth": 0,
              "ticks": ""
             }
            },
            "type": "scatterternary"
           }
          ],
          "surface": [
           {
            "colorbar": {
             "outlinewidth": 0,
             "ticks": ""
            },
            "colorscale": [
             [
              0,
              "#0d0887"
             ],
             [
              0.1111111111111111,
              "#46039f"
             ],
             [
              0.2222222222222222,
              "#7201a8"
             ],
             [
              0.3333333333333333,
              "#9c179e"
             ],
             [
              0.4444444444444444,
              "#bd3786"
             ],
             [
              0.5555555555555556,
              "#d8576b"
             ],
             [
              0.6666666666666666,
              "#ed7953"
             ],
             [
              0.7777777777777778,
              "#fb9f3a"
             ],
             [
              0.8888888888888888,
              "#fdca26"
             ],
             [
              1,
              "#f0f921"
             ]
            ],
            "type": "surface"
           }
          ],
          "table": [
           {
            "cells": {
             "fill": {
              "color": "#506784"
             },
             "line": {
              "color": "rgb(17,17,17)"
             }
            },
            "header": {
             "fill": {
              "color": "#2a3f5f"
             },
             "line": {
              "color": "rgb(17,17,17)"
             }
            },
            "type": "table"
           }
          ]
         },
         "layout": {
          "annotationdefaults": {
           "arrowcolor": "#f2f5fa",
           "arrowhead": 0,
           "arrowwidth": 1
          },
          "autotypenumbers": "strict",
          "coloraxis": {
           "colorbar": {
            "outlinewidth": 0,
            "ticks": ""
           }
          },
          "colorscale": {
           "diverging": [
            [
             0,
             "#8e0152"
            ],
            [
             0.1,
             "#c51b7d"
            ],
            [
             0.2,
             "#de77ae"
            ],
            [
             0.3,
             "#f1b6da"
            ],
            [
             0.4,
             "#fde0ef"
            ],
            [
             0.5,
             "#f7f7f7"
            ],
            [
             0.6,
             "#e6f5d0"
            ],
            [
             0.7,
             "#b8e186"
            ],
            [
             0.8,
             "#7fbc41"
            ],
            [
             0.9,
             "#4d9221"
            ],
            [
             1,
             "#276419"
            ]
           ],
           "sequential": [
            [
             0,
             "#0d0887"
            ],
            [
             0.1111111111111111,
             "#46039f"
            ],
            [
             0.2222222222222222,
             "#7201a8"
            ],
            [
             0.3333333333333333,
             "#9c179e"
            ],
            [
             0.4444444444444444,
             "#bd3786"
            ],
            [
             0.5555555555555556,
             "#d8576b"
            ],
            [
             0.6666666666666666,
             "#ed7953"
            ],
            [
             0.7777777777777778,
             "#fb9f3a"
            ],
            [
             0.8888888888888888,
             "#fdca26"
            ],
            [
             1,
             "#f0f921"
            ]
           ],
           "sequentialminus": [
            [
             0,
             "#0d0887"
            ],
            [
             0.1111111111111111,
             "#46039f"
            ],
            [
             0.2222222222222222,
             "#7201a8"
            ],
            [
             0.3333333333333333,
             "#9c179e"
            ],
            [
             0.4444444444444444,
             "#bd3786"
            ],
            [
             0.5555555555555556,
             "#d8576b"
            ],
            [
             0.6666666666666666,
             "#ed7953"
            ],
            [
             0.7777777777777778,
             "#fb9f3a"
            ],
            [
             0.8888888888888888,
             "#fdca26"
            ],
            [
             1,
             "#f0f921"
            ]
           ]
          },
          "colorway": [
           "#636efa",
           "#EF553B",
           "#00cc96",
           "#ab63fa",
           "#FFA15A",
           "#19d3f3",
           "#FF6692",
           "#B6E880",
           "#FF97FF",
           "#FECB52"
          ],
          "font": {
           "color": "#f2f5fa"
          },
          "geo": {
           "bgcolor": "rgb(17,17,17)",
           "lakecolor": "rgb(17,17,17)",
           "landcolor": "rgb(17,17,17)",
           "showlakes": true,
           "showland": true,
           "subunitcolor": "#506784"
          },
          "hoverlabel": {
           "align": "left"
          },
          "hovermode": "closest",
          "mapbox": {
           "style": "dark"
          },
          "paper_bgcolor": "rgb(17,17,17)",
          "plot_bgcolor": "rgb(17,17,17)",
          "polar": {
           "angularaxis": {
            "gridcolor": "#506784",
            "linecolor": "#506784",
            "ticks": ""
           },
           "bgcolor": "rgb(17,17,17)",
           "radialaxis": {
            "gridcolor": "#506784",
            "linecolor": "#506784",
            "ticks": ""
           }
          },
          "scene": {
           "xaxis": {
            "backgroundcolor": "rgb(17,17,17)",
            "gridcolor": "#506784",
            "gridwidth": 2,
            "linecolor": "#506784",
            "showbackground": true,
            "ticks": "",
            "zerolinecolor": "#C8D4E3"
           },
           "yaxis": {
            "backgroundcolor": "rgb(17,17,17)",
            "gridcolor": "#506784",
            "gridwidth": 2,
            "linecolor": "#506784",
            "showbackground": true,
            "ticks": "",
            "zerolinecolor": "#C8D4E3"
           },
           "zaxis": {
            "backgroundcolor": "rgb(17,17,17)",
            "gridcolor": "#506784",
            "gridwidth": 2,
            "linecolor": "#506784",
            "showbackground": true,
            "ticks": "",
            "zerolinecolor": "#C8D4E3"
           }
          },
          "shapedefaults": {
           "line": {
            "color": "#f2f5fa"
           }
          },
          "sliderdefaults": {
           "bgcolor": "#C8D4E3",
           "bordercolor": "rgb(17,17,17)",
           "borderwidth": 1,
           "tickwidth": 0
          },
          "ternary": {
           "aaxis": {
            "gridcolor": "#506784",
            "linecolor": "#506784",
            "ticks": ""
           },
           "baxis": {
            "gridcolor": "#506784",
            "linecolor": "#506784",
            "ticks": ""
           },
           "bgcolor": "rgb(17,17,17)",
           "caxis": {
            "gridcolor": "#506784",
            "linecolor": "#506784",
            "ticks": ""
           }
          },
          "title": {
           "x": 0.05
          },
          "updatemenudefaults": {
           "bgcolor": "#506784",
           "borderwidth": 0
          },
          "xaxis": {
           "automargin": true,
           "gridcolor": "#283442",
           "linecolor": "#506784",
           "ticks": "",
           "title": {
            "standoff": 15
           },
           "zerolinecolor": "#283442",
           "zerolinewidth": 2
          },
          "yaxis": {
           "automargin": true,
           "gridcolor": "#283442",
           "linecolor": "#506784",
           "ticks": "",
           "title": {
            "standoff": 15
           },
           "zerolinecolor": "#283442",
           "zerolinewidth": 2
          }
         }
        },
        "title": {
         "text": "Difference between consecutive entries in days"
        },
        "yaxis": {
         "title": {
          "text": "difference, days"
         }
        }
       }
      }
     },
     "metadata": {},
     "output_type": "display_data"
    }
   ],
   "source": [
    "df.sub(include='home').entries_differences()"
   ]
  },
  {
   "cell_type": "markdown",
   "metadata": {},
   "source": [
    "## Other features"
   ]
  },
  {
   "cell_type": "code",
   "execution_count": 38,
   "metadata": {},
   "outputs": [
    {
     "data": {
      "application/vnd.plotly.v1+json": {
       "config": {
        "plotlyServerURL": "https://plot.ly"
       },
       "data": [
        {
         "hovertemplate": "Date=%{x}<br>Average note length=%{y}<extra></extra>",
         "legendgroup": "",
         "marker": {
          "color": "#636efa",
          "symbol": "circle"
         },
         "mode": "markers",
         "name": "",
         "orientation": "v",
         "showlegend": false,
         "type": "scatter",
         "x": [
          "2023-07-01",
          "2023-07-02",
          "2023-07-03",
          "2023-07-04",
          "2023-07-05",
          "2023-07-06",
          "2023-07-07",
          "2023-07-08",
          "2023-07-09",
          "2023-07-10",
          "2023-07-11",
          "2023-07-12",
          "2023-07-13",
          "2023-07-14",
          "2023-07-15",
          "2023-07-16",
          "2023-07-17",
          "2023-07-18",
          "2023-07-19",
          "2023-07-20",
          "2023-07-21",
          "2023-07-22",
          "2023-07-23",
          "2023-07-24",
          "2023-07-25",
          "2023-07-26",
          "2023-07-27",
          "2023-07-28",
          "2023-07-29",
          "2023-07-30",
          "2023-07-31",
          "2023-08-01",
          "2023-08-02",
          "2023-08-03",
          "2023-08-04",
          "2023-08-05",
          "2023-08-06",
          "2023-08-07",
          "2023-08-08",
          "2023-08-09",
          "2023-08-10",
          "2023-08-11",
          "2023-08-12",
          "2023-08-13",
          "2023-08-14",
          "2023-08-15",
          "2023-08-16",
          "2023-08-17",
          "2023-08-18",
          "2023-08-19",
          "2023-08-20",
          "2023-08-21",
          "2023-08-22",
          "2023-08-23",
          "2023-08-24",
          "2023-08-25",
          "2023-08-26",
          "2023-08-27",
          "2023-08-28",
          "2023-08-29",
          "2023-08-30",
          "2023-08-31",
          "2023-09-01",
          "2023-09-02",
          "2023-09-03",
          "2023-09-04",
          "2023-09-05",
          "2023-09-06",
          "2023-09-07",
          "2023-09-08",
          "2023-09-09",
          "2023-09-10",
          "2023-09-11",
          "2023-09-12",
          "2023-09-13",
          "2023-09-14",
          "2023-09-15",
          "2023-09-16",
          "2023-09-17",
          "2023-09-18",
          "2023-09-19",
          "2023-09-20",
          "2023-09-21",
          "2023-09-22",
          "2023-09-23",
          "2023-09-24",
          "2023-09-25",
          "2023-09-26",
          "2023-09-27",
          "2023-09-28",
          "2023-09-29",
          "2023-09-30",
          "2023-10-01",
          "2023-10-02",
          "2023-10-03",
          "2023-10-04",
          "2023-10-05",
          "2023-10-06",
          "2023-10-07",
          "2023-10-08",
          "2023-10-09",
          "2023-10-10",
          "2023-10-11",
          "2023-10-12",
          "2023-10-13",
          "2023-10-14",
          "2023-10-15",
          "2023-10-16",
          "2023-10-17",
          "2023-10-18",
          "2023-10-19",
          "2023-10-20",
          "2023-10-21",
          "2023-10-22",
          "2023-10-23",
          "2023-10-24",
          "2023-10-25",
          "2023-10-26",
          "2023-10-27",
          "2023-10-28",
          "2023-10-29",
          "2023-10-30",
          "2023-10-31",
          "2023-11-01",
          "2023-11-02",
          "2023-11-03",
          "2023-11-04",
          "2023-11-05",
          "2023-11-06",
          "2023-11-07",
          "2023-11-08",
          "2023-11-09",
          "2023-11-10",
          "2023-11-11",
          "2023-11-12",
          "2023-11-13",
          "2023-11-14",
          "2023-11-15",
          "2023-11-16",
          "2023-11-17",
          "2023-11-18",
          "2023-11-19",
          "2023-11-20",
          "2023-11-21",
          "2023-11-22",
          "2023-11-23",
          "2023-11-24",
          "2023-11-25",
          "2023-11-26",
          "2023-11-27",
          "2023-11-28",
          "2023-11-29",
          "2023-11-30",
          "2023-12-01",
          "2023-12-02",
          "2023-12-03",
          "2023-12-04",
          "2023-12-05",
          "2023-12-06",
          "2023-12-07",
          "2023-12-08",
          "2023-12-09",
          "2023-12-10",
          "2023-12-11",
          "2023-12-12",
          "2023-12-13",
          "2023-12-14",
          "2023-12-15",
          "2023-12-16",
          "2023-12-17",
          "2023-12-18",
          "2023-12-19",
          "2023-12-20",
          "2023-12-21",
          "2023-12-22",
          "2023-12-23",
          "2023-12-24",
          "2023-12-25",
          "2023-12-26",
          "2023-12-27",
          "2023-12-28",
          "2023-12-29",
          "2023-12-30",
          "2023-12-31",
          "2024-01-01",
          "2024-01-02",
          "2024-01-03",
          "2024-01-04",
          "2024-01-05",
          "2024-01-06",
          "2024-01-07",
          "2024-01-08",
          "2024-01-09",
          "2024-01-10",
          "2024-01-11",
          "2024-01-12",
          "2024-01-13",
          "2024-01-14",
          "2024-01-15",
          "2024-01-16",
          "2024-01-17",
          "2024-01-18",
          "2024-01-19",
          "2024-01-20",
          "2024-01-21",
          "2024-01-22",
          "2024-01-23",
          "2024-01-24",
          "2024-01-25",
          "2024-01-26",
          "2024-01-27",
          "2024-01-28",
          "2024-01-29",
          "2024-01-30",
          "2024-01-31",
          "2024-02-01",
          "2024-02-02",
          "2024-02-03",
          "2024-02-04",
          "2024-02-05",
          "2024-02-06",
          "2024-02-07",
          "2024-02-08",
          "2024-02-09",
          "2024-02-10",
          "2024-02-11",
          "2024-02-12",
          "2024-02-13",
          "2024-02-14",
          "2024-02-15",
          "2024-02-16",
          "2024-02-17",
          "2024-02-18",
          "2024-02-19",
          "2024-02-20",
          "2024-02-21",
          "2024-02-22",
          "2024-02-23",
          "2024-02-24",
          "2024-02-25",
          "2024-02-26",
          "2024-02-27",
          "2024-02-28",
          "2024-02-29",
          "2024-03-01",
          "2024-03-02",
          "2024-03-03",
          "2024-03-04",
          "2024-03-05",
          "2024-03-06",
          "2024-03-07",
          "2024-03-08",
          "2024-03-09",
          "2024-03-10",
          "2024-03-11",
          "2024-03-12",
          "2024-03-13",
          "2024-03-14",
          "2024-03-15",
          "2024-03-16",
          "2024-03-17",
          "2024-03-18",
          "2024-03-19",
          "2024-03-20",
          "2024-03-21",
          "2024-03-22",
          "2024-03-23",
          "2024-03-24",
          "2024-03-25",
          "2024-03-26",
          "2024-03-27",
          "2024-03-28",
          "2024-03-29",
          "2024-03-30",
          "2024-03-31",
          "2024-04-01",
          "2024-04-02"
         ],
         "xaxis": "x",
         "y": [
          60,
          92,
          39,
          64,
          71,
          27,
          49,
          26,
          27,
          49.5,
          67.5,
          20.5,
          54,
          69.5,
          52,
          41,
          24.25,
          10.6,
          4.25,
          34.5,
          21.285714285714285,
          12,
          1.5,
          14,
          1.2,
          3.8,
          0,
          8.4,
          5.666666666666667,
          7.5,
          7.5,
          1.75,
          29.2,
          19.5,
          5.333333333333333,
          5.25,
          8.25,
          23.8,
          6.833333333333333,
          19.5,
          24,
          15.8,
          5.666666666666667,
          8.8,
          0,
          76.5,
          5.333333333333333,
          0,
          7.5,
          0,
          0,
          13.666666666666666,
          10.333333333333334,
          14,
          57.5,
          32,
          14,
          11.5,
          26,
          56,
          0,
          0,
          0,
          1.3333333333333333,
          0,
          0,
          7,
          0,
          0,
          0,
          0,
          0,
          0,
          25.5,
          9.5,
          0,
          0,
          0,
          37,
          19,
          54,
          3,
          0,
          1.3333333333333333,
          28,
          12,
          7.5,
          0,
          31.666666666666668,
          23,
          9.5,
          25.5,
          34.2,
          16.5,
          26.5,
          69,
          0,
          22.75,
          37,
          35.5,
          0,
          34,
          114,
          58,
          0,
          36,
          54,
          10.5,
          102,
          36.75,
          60,
          48.5,
          245,
          106,
          16.333333333333332,
          0,
          57,
          84,
          23.75,
          79.5,
          130.5,
          50.666666666666664,
          17.5,
          65.4,
          82,
          40.2,
          35.5,
          24.5,
          31.666666666666668,
          50.333333333333336,
          26.75,
          22.666666666666668,
          26.666666666666668,
          20,
          73.25,
          44.5,
          102.8,
          84,
          96.25,
          46.25,
          29.5,
          59.4,
          66.5,
          0,
          51.5,
          0,
          48,
          41.5,
          88,
          73.33333333333333,
          56.857142857142854,
          44.5,
          90,
          51.666666666666664,
          21.5,
          26.75,
          122,
          32,
          44,
          44.5,
          84.33333333333333,
          18.6,
          129.5,
          52,
          72,
          33.833333333333336,
          35.666666666666664,
          35.333333333333336,
          81,
          85.5,
          29.5,
          23,
          31,
          29.2,
          30.666666666666668,
          103.75,
          116.5,
          195.5,
          58,
          34.333333333333336,
          67.5,
          47,
          59,
          63.6,
          17.666666666666668,
          30,
          64,
          51.8,
          54.666666666666664,
          584.5,
          84.66666666666667,
          137,
          57,
          37.5,
          54.333333333333336,
          58.333333333333336,
          98.75,
          57.75,
          66,
          31.666666666666668,
          25.333333333333332,
          80.5,
          95,
          118,
          168,
          81,
          118.33333333333333,
          27.6,
          48,
          50.8,
          35,
          75.5,
          37.6,
          31.333333333333332,
          52.333333333333336,
          49.666666666666664,
          52,
          60.666666666666664,
          61,
          61,
          65.5,
          65.5,
          53,
          93,
          127.5,
          78,
          106,
          54.2,
          122.75,
          60.8,
          73.33333333333333,
          54.666666666666664,
          45.5,
          49.25,
          27,
          54.333333333333336,
          57.666666666666664,
          98.75,
          53,
          83.25,
          95,
          36.2,
          78,
          37.666666666666664,
          62,
          64.28571428571429,
          79.33333333333333,
          51,
          58,
          10,
          38,
          50,
          37.75,
          44,
          43.5,
          26,
          35.2,
          32.857142857142854,
          38,
          62,
          68.33333333333333,
          29.6,
          62,
          14,
          37,
          96,
          67,
          63,
          51,
          38.666666666666664,
          109.33333333333333,
          42.5,
          31.5,
          37.25,
          41,
          34.6,
          45.666666666666664
         ],
         "yaxis": "y"
        },
        {
         "line": {
          "width": 2
         },
         "marker": {
          "size": 0
         },
         "mode": "lines",
         "name": "Sliding average (window size 11)",
         "type": "scatter",
         "x": [
          "2023-07-11",
          "2023-07-12",
          "2023-07-13",
          "2023-07-14",
          "2023-07-15",
          "2023-07-16",
          "2023-07-17",
          "2023-07-18",
          "2023-07-19",
          "2023-07-20",
          "2023-07-21",
          "2023-07-22",
          "2023-07-23",
          "2023-07-24",
          "2023-07-25",
          "2023-07-26",
          "2023-07-27",
          "2023-07-28",
          "2023-07-29",
          "2023-07-30",
          "2023-07-31",
          "2023-08-01",
          "2023-08-02",
          "2023-08-03",
          "2023-08-04",
          "2023-08-05",
          "2023-08-06",
          "2023-08-07",
          "2023-08-08",
          "2023-08-09",
          "2023-08-10",
          "2023-08-11",
          "2023-08-12",
          "2023-08-13",
          "2023-08-14",
          "2023-08-15",
          "2023-08-16",
          "2023-08-17",
          "2023-08-18",
          "2023-08-19",
          "2023-08-20",
          "2023-08-21",
          "2023-08-22",
          "2023-08-23",
          "2023-08-24",
          "2023-08-25",
          "2023-08-26",
          "2023-08-27",
          "2023-08-28",
          "2023-08-29",
          "2023-08-30",
          "2023-08-31",
          "2023-09-01",
          "2023-09-02",
          "2023-09-03",
          "2023-09-04",
          "2023-09-05",
          "2023-09-06",
          "2023-09-07",
          "2023-09-08",
          "2023-09-09",
          "2023-09-10",
          "2023-09-11",
          "2023-09-12",
          "2023-09-13",
          "2023-09-14",
          "2023-09-15",
          "2023-09-16",
          "2023-09-17",
          "2023-09-18",
          "2023-09-19",
          "2023-09-20",
          "2023-09-21",
          "2023-09-22",
          "2023-09-23",
          "2023-09-24",
          "2023-09-25",
          "2023-09-26",
          "2023-09-27",
          "2023-09-28",
          "2023-09-29",
          "2023-09-30",
          "2023-10-01",
          "2023-10-02",
          "2023-10-03",
          "2023-10-04",
          "2023-10-05",
          "2023-10-06",
          "2023-10-07",
          "2023-10-08",
          "2023-10-09",
          "2023-10-10",
          "2023-10-11",
          "2023-10-12",
          "2023-10-13",
          "2023-10-14",
          "2023-10-15",
          "2023-10-16",
          "2023-10-17",
          "2023-10-18",
          "2023-10-19",
          "2023-10-20",
          "2023-10-21",
          "2023-10-22",
          "2023-10-23",
          "2023-10-24",
          "2023-10-25",
          "2023-10-26",
          "2023-10-27",
          "2023-10-28",
          "2023-10-29",
          "2023-10-30",
          "2023-10-31",
          "2023-11-01",
          "2023-11-02",
          "2023-11-03",
          "2023-11-04",
          "2023-11-05",
          "2023-11-06",
          "2023-11-07",
          "2023-11-08",
          "2023-11-09",
          "2023-11-10",
          "2023-11-11",
          "2023-11-12",
          "2023-11-13",
          "2023-11-14",
          "2023-11-15",
          "2023-11-16",
          "2023-11-17",
          "2023-11-18",
          "2023-11-19",
          "2023-11-20",
          "2023-11-21",
          "2023-11-22",
          "2023-11-23",
          "2023-11-24",
          "2023-11-25",
          "2023-11-26",
          "2023-11-27",
          "2023-11-28",
          "2023-11-29",
          "2023-11-30",
          "2023-12-01",
          "2023-12-02",
          "2023-12-03",
          "2023-12-04",
          "2023-12-05",
          "2023-12-06",
          "2023-12-07",
          "2023-12-08",
          "2023-12-09",
          "2023-12-10",
          "2023-12-11",
          "2023-12-12",
          "2023-12-13",
          "2023-12-14",
          "2023-12-15",
          "2023-12-16",
          "2023-12-17",
          "2023-12-18",
          "2023-12-19",
          "2023-12-20",
          "2023-12-21",
          "2023-12-22",
          "2023-12-23",
          "2023-12-24",
          "2023-12-25",
          "2023-12-26",
          "2023-12-27",
          "2023-12-28",
          "2023-12-29",
          "2023-12-30",
          "2023-12-31",
          "2024-01-01",
          "2024-01-02",
          "2024-01-03",
          "2024-01-04",
          "2024-01-05",
          "2024-01-06",
          "2024-01-07",
          "2024-01-08",
          "2024-01-09",
          "2024-01-10",
          "2024-01-11",
          "2024-01-12",
          "2024-01-13",
          "2024-01-14",
          "2024-01-15",
          "2024-01-16",
          "2024-01-17",
          "2024-01-18",
          "2024-01-19",
          "2024-01-20",
          "2024-01-21",
          "2024-01-22",
          "2024-01-23",
          "2024-01-24",
          "2024-01-25",
          "2024-01-26",
          "2024-01-27",
          "2024-01-28",
          "2024-01-29",
          "2024-01-30",
          "2024-01-31",
          "2024-02-01",
          "2024-02-02",
          "2024-02-03",
          "2024-02-04",
          "2024-02-05",
          "2024-02-06",
          "2024-02-07",
          "2024-02-08",
          "2024-02-09",
          "2024-02-10",
          "2024-02-11",
          "2024-02-12",
          "2024-02-13",
          "2024-02-14",
          "2024-02-15",
          "2024-02-16",
          "2024-02-17",
          "2024-02-18",
          "2024-02-19",
          "2024-02-20",
          "2024-02-21",
          "2024-02-22",
          "2024-02-23",
          "2024-02-24",
          "2024-02-25",
          "2024-02-26",
          "2024-02-27",
          "2024-02-28",
          "2024-02-29",
          "2024-03-01",
          "2024-03-02",
          "2024-03-03",
          "2024-03-04",
          "2024-03-05",
          "2024-03-06",
          "2024-03-07",
          "2024-03-08",
          "2024-03-09",
          "2024-03-10",
          "2024-03-11",
          "2024-03-12",
          "2024-03-13",
          "2024-03-14",
          "2024-03-15",
          "2024-03-16",
          "2024-03-17",
          "2024-03-18",
          "2024-03-19",
          "2024-03-20",
          "2024-03-21",
          "2024-03-22",
          "2024-03-23",
          "2024-03-24",
          "2024-03-25",
          "2024-03-26",
          "2024-03-27",
          "2024-03-28",
          "2024-03-29",
          "2024-03-30",
          "2024-03-31",
          "2024-04-01",
          "2024-04-02"
         ],
         "y": [
          52,
          48.409090909090914,
          44.95454545454546,
          47.727272727272734,
          46.63636363636364,
          43.90909090909091,
          43.65909090909091,
          40.168181818181814,
          38.19090909090908,
          38.87272727272726,
          36.307792207792204,
          31.262337662337664,
          29.535064935064934,
          25.8987012987013,
          19.68961038961039,
          15.30779220779221,
          11.580519480519483,
          10.13961038961039,
          9.691125541125542,
          9.986580086580087,
          7.532034632034632,
          5.756060606060605,
          7.31969696969697,
          8.956060606060607,
          8.168181818181818,
          8.536363636363637,
          8.940909090909091,
          11.104545454545455,
          10.962121212121215,
          12.21969696969697,
          13.71969696969697,
          14.474242424242426,
          14.830303030303032,
          12.975757575757576,
          11.203030303030303,
          17.672727272727272,
          17.68030303030303,
          16.93030303030303,
          15.448484848484847,
          14.827272727272726,
          13.054545454545453,
          12.115151515151515,
          11.618181818181817,
          12.375757575757577,
          16.803030303030305,
          19.712121212121215,
          14.030303030303031,
          14.590909090909092,
          16.954545454545457,
          21.363636363636363,
          21.363636363636363,
          21.363636363636363,
          20.12121212121212,
          19.303030303030305,
          18.03030303030303,
          12.803030303030301,
          10.530303030303031,
          9.257575757575758,
          8.212121212121213,
          5.848484848484849,
          0.7575757575757576,
          0.7575757575757576,
          0.7575757575757576,
          3.075757575757576,
          3.8181818181818183,
          3.8181818181818183,
          3.8181818181818183,
          3.181818181818182,
          6.545454545454546,
          8.272727272727273,
          13.181818181818183,
          13.454545454545457,
          13.454545454545457,
          13.575757575757578,
          13.803030303030303,
          14.030303030303031,
          14.712121212121213,
          14.712121212121213,
          17.590909090909093,
          16.31818181818182,
          15.454545454545453,
          12.863636363636363,
          15.700000000000001,
          17.200000000000003,
          19.48787878787879,
          23.215151515151515,
          22.124242424242425,
          23.510606060606065,
          26.87424242424243,
          27.222727272727273,
          25.13181818181818,
          27.35909090909091,
          35.404545454545456,
          37.56818181818182,
          36.06818181818181,
          36.93181818181818,
          35.56818181818182,
          36.52272727272727,
          43.72727272727273,
          43.70454545454545,
          45.93181818181819,
          50.34090909090909,
          69.52272727272728,
          68.79545454545455,
          65.00757575757576,
          65.00757575757576,
          66.91666666666667,
          69.64393939393939,
          70.84848484848484,
          68.80303030303031,
          77.32575757575758,
          76.47727272727273,
          73.65909090909092,
          57.331818181818186,
          55.15,
          57.31969696969697,
          60.5469696969697,
          57.592424242424244,
          52.83484848484848,
          55.25151515151515,
          50.45606060606061,
          40.653030303030306,
          38.47121212121212,
          38.69848484848485,
          39.41212121212121,
          36.0030303030303,
          41.693939393939395,
          46.10303030303031,
          52.625757575757575,
          53.95151515151515,
          52.057575757575755,
          55.02575757575757,
          59.010606060606065,
          56.58636363636363,
          59.449999999999996,
          52.79090909090909,
          53.10909090909091,
          47.53636363636364,
          47.9,
          45.81666666666667,
          46.780952380952385,
          48.144588744588745,
          50.926406926406926,
          49.577922077922075,
          51.53246753246753,
          49.28246753246753,
          60.37337662337662,
          58.91883116883116,
          59.14610389610389,
          55.191558441558435,
          56.191558441558435,
          52.713636363636354,
          60.44090909090909,
          56.986363636363635,
          58.834848484848486,
          59.95606060606061,
          60.766666666666666,
          52.88787878787879,
          57.34242424242425,
          61.11515151515152,
          59.75151515151516,
          54.17575757575758,
          55.30303030303031,
          46.18484848484849,
          44.24545454545455,
          47.13181818181818,
          54.646969696969705,
          69.17727272727274,
          71.23787878787878,
          66.99545454545455,
          65.35909090909092,
          66.95,
          70.22272727272727,
          73.18636363636365,
          72.1378787878788,
          72.07727272727274,
          68.46363636363638,
          62.58181818181819,
          49.77878787878788,
          97.64242424242425,
          102.21818181818183,
          108.53636363636365,
          109.44545454545457,
          107.4909090909091,
          106.64848484848486,
          110.34545454545456,
          116.59545454545456,
          116.02727272727273,
          117.31818181818183,
          115.22727272727273,
          64.39393939393939,
          64.01515151515152,
          60.1969696969697,
          65.74242424242426,
          77.60606060606061,
          80.03030303030303,
          85.48484848484847,
          79.01666666666667,
          78.13030303030304,
          76.74848484848486,
          77.05151515151516,
          81.61212121212122,
          77.71212121212123,
          71.92424242424242,
          65.95454545454547,
          55.1969696969697,
          52.56060606060607,
          47.31818181818182,
          50.35454545454545,
          51.53636363636364,
          52.872727272727275,
          55.64545454545455,
          53.6,
          58.63636363636363,
          67.37878787878788,
          69.71212121212122,
          74.83333333333334,
          75.03333333333333,
          80.67727272727272,
          80.65909090909092,
          81.78030303030305,
          80.79545454545456,
          78.97727272727275,
          78.63636363636365,
          72.63636363636364,
          65.98484848484848,
          64.13636363636364,
          63.47727272727273,
          63.36818181818181,
          59.77727272727273,
          62.88636363636364,
          59.51060606060606,
          61.63181818181818,
          60.91969696969698,
          62.07878787878788,
          65.46839826839827,
          67.74112554112554,
          67.13506493506495,
          63.430519480519486,
          59.521428571428565,
          55.407792207792205,
          51.31688311688311,
          51.45779220779221,
          48.36688311688311,
          48.89718614718615,
          45.62445887445888,
          42.98030303030304,
          38.75519480519481,
          37.573376623376625,
          37.93701298701299,
          43.24004329004328,
          42.476406926406916,
          43.56731601731602,
          41.4082251082251,
          40.77186147186148,
          45.54458874458875,
          49.27186147186148,
          51.7991341991342,
          53.44848484848485,
          53.509090909090915,
          57.81212121212121,
          55.46363636363636,
          55.63636363636364,
          53.38636363636363,
          55.840909090909086,
          55.622727272727275,
          51.0469696969697
         ]
        }
       ],
       "layout": {
        "legend": {
         "orientation": "h",
         "tracegroupgap": 0,
         "x": 1,
         "xanchor": "right",
         "y": 1.02,
         "yanchor": "bottom"
        },
        "template": {
         "data": {
          "bar": [
           {
            "error_x": {
             "color": "#f2f5fa"
            },
            "error_y": {
             "color": "#f2f5fa"
            },
            "marker": {
             "line": {
              "color": "rgb(17,17,17)",
              "width": 0.5
             },
             "pattern": {
              "fillmode": "overlay",
              "size": 10,
              "solidity": 0.2
             }
            },
            "type": "bar"
           }
          ],
          "barpolar": [
           {
            "marker": {
             "line": {
              "color": "rgb(17,17,17)",
              "width": 0.5
             },
             "pattern": {
              "fillmode": "overlay",
              "size": 10,
              "solidity": 0.2
             }
            },
            "type": "barpolar"
           }
          ],
          "carpet": [
           {
            "aaxis": {
             "endlinecolor": "#A2B1C6",
             "gridcolor": "#506784",
             "linecolor": "#506784",
             "minorgridcolor": "#506784",
             "startlinecolor": "#A2B1C6"
            },
            "baxis": {
             "endlinecolor": "#A2B1C6",
             "gridcolor": "#506784",
             "linecolor": "#506784",
             "minorgridcolor": "#506784",
             "startlinecolor": "#A2B1C6"
            },
            "type": "carpet"
           }
          ],
          "choropleth": [
           {
            "colorbar": {
             "outlinewidth": 0,
             "ticks": ""
            },
            "type": "choropleth"
           }
          ],
          "contour": [
           {
            "colorbar": {
             "outlinewidth": 0,
             "ticks": ""
            },
            "colorscale": [
             [
              0,
              "#0d0887"
             ],
             [
              0.1111111111111111,
              "#46039f"
             ],
             [
              0.2222222222222222,
              "#7201a8"
             ],
             [
              0.3333333333333333,
              "#9c179e"
             ],
             [
              0.4444444444444444,
              "#bd3786"
             ],
             [
              0.5555555555555556,
              "#d8576b"
             ],
             [
              0.6666666666666666,
              "#ed7953"
             ],
             [
              0.7777777777777778,
              "#fb9f3a"
             ],
             [
              0.8888888888888888,
              "#fdca26"
             ],
             [
              1,
              "#f0f921"
             ]
            ],
            "type": "contour"
           }
          ],
          "contourcarpet": [
           {
            "colorbar": {
             "outlinewidth": 0,
             "ticks": ""
            },
            "type": "contourcarpet"
           }
          ],
          "heatmap": [
           {
            "colorbar": {
             "outlinewidth": 0,
             "ticks": ""
            },
            "colorscale": [
             [
              0,
              "#0d0887"
             ],
             [
              0.1111111111111111,
              "#46039f"
             ],
             [
              0.2222222222222222,
              "#7201a8"
             ],
             [
              0.3333333333333333,
              "#9c179e"
             ],
             [
              0.4444444444444444,
              "#bd3786"
             ],
             [
              0.5555555555555556,
              "#d8576b"
             ],
             [
              0.6666666666666666,
              "#ed7953"
             ],
             [
              0.7777777777777778,
              "#fb9f3a"
             ],
             [
              0.8888888888888888,
              "#fdca26"
             ],
             [
              1,
              "#f0f921"
             ]
            ],
            "type": "heatmap"
           }
          ],
          "heatmapgl": [
           {
            "colorbar": {
             "outlinewidth": 0,
             "ticks": ""
            },
            "colorscale": [
             [
              0,
              "#0d0887"
             ],
             [
              0.1111111111111111,
              "#46039f"
             ],
             [
              0.2222222222222222,
              "#7201a8"
             ],
             [
              0.3333333333333333,
              "#9c179e"
             ],
             [
              0.4444444444444444,
              "#bd3786"
             ],
             [
              0.5555555555555556,
              "#d8576b"
             ],
             [
              0.6666666666666666,
              "#ed7953"
             ],
             [
              0.7777777777777778,
              "#fb9f3a"
             ],
             [
              0.8888888888888888,
              "#fdca26"
             ],
             [
              1,
              "#f0f921"
             ]
            ],
            "type": "heatmapgl"
           }
          ],
          "histogram": [
           {
            "marker": {
             "pattern": {
              "fillmode": "overlay",
              "size": 10,
              "solidity": 0.2
             }
            },
            "type": "histogram"
           }
          ],
          "histogram2d": [
           {
            "colorbar": {
             "outlinewidth": 0,
             "ticks": ""
            },
            "colorscale": [
             [
              0,
              "#0d0887"
             ],
             [
              0.1111111111111111,
              "#46039f"
             ],
             [
              0.2222222222222222,
              "#7201a8"
             ],
             [
              0.3333333333333333,
              "#9c179e"
             ],
             [
              0.4444444444444444,
              "#bd3786"
             ],
             [
              0.5555555555555556,
              "#d8576b"
             ],
             [
              0.6666666666666666,
              "#ed7953"
             ],
             [
              0.7777777777777778,
              "#fb9f3a"
             ],
             [
              0.8888888888888888,
              "#fdca26"
             ],
             [
              1,
              "#f0f921"
             ]
            ],
            "type": "histogram2d"
           }
          ],
          "histogram2dcontour": [
           {
            "colorbar": {
             "outlinewidth": 0,
             "ticks": ""
            },
            "colorscale": [
             [
              0,
              "#0d0887"
             ],
             [
              0.1111111111111111,
              "#46039f"
             ],
             [
              0.2222222222222222,
              "#7201a8"
             ],
             [
              0.3333333333333333,
              "#9c179e"
             ],
             [
              0.4444444444444444,
              "#bd3786"
             ],
             [
              0.5555555555555556,
              "#d8576b"
             ],
             [
              0.6666666666666666,
              "#ed7953"
             ],
             [
              0.7777777777777778,
              "#fb9f3a"
             ],
             [
              0.8888888888888888,
              "#fdca26"
             ],
             [
              1,
              "#f0f921"
             ]
            ],
            "type": "histogram2dcontour"
           }
          ],
          "mesh3d": [
           {
            "colorbar": {
             "outlinewidth": 0,
             "ticks": ""
            },
            "type": "mesh3d"
           }
          ],
          "parcoords": [
           {
            "line": {
             "colorbar": {
              "outlinewidth": 0,
              "ticks": ""
             }
            },
            "type": "parcoords"
           }
          ],
          "pie": [
           {
            "automargin": true,
            "type": "pie"
           }
          ],
          "scatter": [
           {
            "marker": {
             "line": {
              "color": "#283442"
             }
            },
            "type": "scatter"
           }
          ],
          "scatter3d": [
           {
            "line": {
             "colorbar": {
              "outlinewidth": 0,
              "ticks": ""
             }
            },
            "marker": {
             "colorbar": {
              "outlinewidth": 0,
              "ticks": ""
             }
            },
            "type": "scatter3d"
           }
          ],
          "scattercarpet": [
           {
            "marker": {
             "colorbar": {
              "outlinewidth": 0,
              "ticks": ""
             }
            },
            "type": "scattercarpet"
           }
          ],
          "scattergeo": [
           {
            "marker": {
             "colorbar": {
              "outlinewidth": 0,
              "ticks": ""
             }
            },
            "type": "scattergeo"
           }
          ],
          "scattergl": [
           {
            "marker": {
             "line": {
              "color": "#283442"
             }
            },
            "type": "scattergl"
           }
          ],
          "scattermapbox": [
           {
            "marker": {
             "colorbar": {
              "outlinewidth": 0,
              "ticks": ""
             }
            },
            "type": "scattermapbox"
           }
          ],
          "scatterpolar": [
           {
            "marker": {
             "colorbar": {
              "outlinewidth": 0,
              "ticks": ""
             }
            },
            "type": "scatterpolar"
           }
          ],
          "scatterpolargl": [
           {
            "marker": {
             "colorbar": {
              "outlinewidth": 0,
              "ticks": ""
             }
            },
            "type": "scatterpolargl"
           }
          ],
          "scatterternary": [
           {
            "marker": {
             "colorbar": {
              "outlinewidth": 0,
              "ticks": ""
             }
            },
            "type": "scatterternary"
           }
          ],
          "surface": [
           {
            "colorbar": {
             "outlinewidth": 0,
             "ticks": ""
            },
            "colorscale": [
             [
              0,
              "#0d0887"
             ],
             [
              0.1111111111111111,
              "#46039f"
             ],
             [
              0.2222222222222222,
              "#7201a8"
             ],
             [
              0.3333333333333333,
              "#9c179e"
             ],
             [
              0.4444444444444444,
              "#bd3786"
             ],
             [
              0.5555555555555556,
              "#d8576b"
             ],
             [
              0.6666666666666666,
              "#ed7953"
             ],
             [
              0.7777777777777778,
              "#fb9f3a"
             ],
             [
              0.8888888888888888,
              "#fdca26"
             ],
             [
              1,
              "#f0f921"
             ]
            ],
            "type": "surface"
           }
          ],
          "table": [
           {
            "cells": {
             "fill": {
              "color": "#506784"
             },
             "line": {
              "color": "rgb(17,17,17)"
             }
            },
            "header": {
             "fill": {
              "color": "#2a3f5f"
             },
             "line": {
              "color": "rgb(17,17,17)"
             }
            },
            "type": "table"
           }
          ]
         },
         "layout": {
          "annotationdefaults": {
           "arrowcolor": "#f2f5fa",
           "arrowhead": 0,
           "arrowwidth": 1
          },
          "autotypenumbers": "strict",
          "coloraxis": {
           "colorbar": {
            "outlinewidth": 0,
            "ticks": ""
           }
          },
          "colorscale": {
           "diverging": [
            [
             0,
             "#8e0152"
            ],
            [
             0.1,
             "#c51b7d"
            ],
            [
             0.2,
             "#de77ae"
            ],
            [
             0.3,
             "#f1b6da"
            ],
            [
             0.4,
             "#fde0ef"
            ],
            [
             0.5,
             "#f7f7f7"
            ],
            [
             0.6,
             "#e6f5d0"
            ],
            [
             0.7,
             "#b8e186"
            ],
            [
             0.8,
             "#7fbc41"
            ],
            [
             0.9,
             "#4d9221"
            ],
            [
             1,
             "#276419"
            ]
           ],
           "sequential": [
            [
             0,
             "#0d0887"
            ],
            [
             0.1111111111111111,
             "#46039f"
            ],
            [
             0.2222222222222222,
             "#7201a8"
            ],
            [
             0.3333333333333333,
             "#9c179e"
            ],
            [
             0.4444444444444444,
             "#bd3786"
            ],
            [
             0.5555555555555556,
             "#d8576b"
            ],
            [
             0.6666666666666666,
             "#ed7953"
            ],
            [
             0.7777777777777778,
             "#fb9f3a"
            ],
            [
             0.8888888888888888,
             "#fdca26"
            ],
            [
             1,
             "#f0f921"
            ]
           ],
           "sequentialminus": [
            [
             0,
             "#0d0887"
            ],
            [
             0.1111111111111111,
             "#46039f"
            ],
            [
             0.2222222222222222,
             "#7201a8"
            ],
            [
             0.3333333333333333,
             "#9c179e"
            ],
            [
             0.4444444444444444,
             "#bd3786"
            ],
            [
             0.5555555555555556,
             "#d8576b"
            ],
            [
             0.6666666666666666,
             "#ed7953"
            ],
            [
             0.7777777777777778,
             "#fb9f3a"
            ],
            [
             0.8888888888888888,
             "#fdca26"
            ],
            [
             1,
             "#f0f921"
            ]
           ]
          },
          "colorway": [
           "#636efa",
           "#EF553B",
           "#00cc96",
           "#ab63fa",
           "#FFA15A",
           "#19d3f3",
           "#FF6692",
           "#B6E880",
           "#FF97FF",
           "#FECB52"
          ],
          "font": {
           "color": "#f2f5fa"
          },
          "geo": {
           "bgcolor": "rgb(17,17,17)",
           "lakecolor": "rgb(17,17,17)",
           "landcolor": "rgb(17,17,17)",
           "showlakes": true,
           "showland": true,
           "subunitcolor": "#506784"
          },
          "hoverlabel": {
           "align": "left"
          },
          "hovermode": "closest",
          "mapbox": {
           "style": "dark"
          },
          "paper_bgcolor": "rgb(17,17,17)",
          "plot_bgcolor": "rgb(17,17,17)",
          "polar": {
           "angularaxis": {
            "gridcolor": "#506784",
            "linecolor": "#506784",
            "ticks": ""
           },
           "bgcolor": "rgb(17,17,17)",
           "radialaxis": {
            "gridcolor": "#506784",
            "linecolor": "#506784",
            "ticks": ""
           }
          },
          "scene": {
           "xaxis": {
            "backgroundcolor": "rgb(17,17,17)",
            "gridcolor": "#506784",
            "gridwidth": 2,
            "linecolor": "#506784",
            "showbackground": true,
            "ticks": "",
            "zerolinecolor": "#C8D4E3"
           },
           "yaxis": {
            "backgroundcolor": "rgb(17,17,17)",
            "gridcolor": "#506784",
            "gridwidth": 2,
            "linecolor": "#506784",
            "showbackground": true,
            "ticks": "",
            "zerolinecolor": "#C8D4E3"
           },
           "zaxis": {
            "backgroundcolor": "rgb(17,17,17)",
            "gridcolor": "#506784",
            "gridwidth": 2,
            "linecolor": "#506784",
            "showbackground": true,
            "ticks": "",
            "zerolinecolor": "#C8D4E3"
           }
          },
          "shapedefaults": {
           "line": {
            "color": "#f2f5fa"
           }
          },
          "sliderdefaults": {
           "bgcolor": "#C8D4E3",
           "bordercolor": "rgb(17,17,17)",
           "borderwidth": 1,
           "tickwidth": 0
          },
          "ternary": {
           "aaxis": {
            "gridcolor": "#506784",
            "linecolor": "#506784",
            "ticks": ""
           },
           "baxis": {
            "gridcolor": "#506784",
            "linecolor": "#506784",
            "ticks": ""
           },
           "bgcolor": "rgb(17,17,17)",
           "caxis": {
            "gridcolor": "#506784",
            "linecolor": "#506784",
            "ticks": ""
           }
          },
          "title": {
           "x": 0.05
          },
          "updatemenudefaults": {
           "bgcolor": "#506784",
           "borderwidth": 0
          },
          "xaxis": {
           "automargin": true,
           "gridcolor": "#283442",
           "linecolor": "#506784",
           "ticks": "",
           "title": {
            "standoff": 15
           },
           "zerolinecolor": "#283442",
           "zerolinewidth": 2
          },
          "yaxis": {
           "automargin": true,
           "gridcolor": "#283442",
           "linecolor": "#506784",
           "ticks": "",
           "title": {
            "standoff": 15
           },
           "zerolinecolor": "#283442",
           "zerolinewidth": 2
          }
         }
        },
        "title": {
         "text": "Average note length"
        },
        "xaxis": {
         "anchor": "y",
         "domain": [
          0,
          1
         ],
         "title": {
          "text": "Date"
         }
        },
        "yaxis": {
         "anchor": "x",
         "domain": [
          0,
          1
         ],
         "title": {
          "text": "Average note length"
         }
        }
       }
      }
     },
     "metadata": {},
     "output_type": "display_data"
    }
   ],
   "source": [
    "df.note_length_plot()"
   ]
  },
  {
   "cell_type": "markdown",
   "metadata": {},
   "source": [
    "# Making a network"
   ]
  },
  {
   "cell_type": "code",
   "execution_count": 39,
   "metadata": {},
   "outputs": [],
   "source": [
    "from itertools import combinations\n",
    "from collections import Counter\n",
    "\n",
    "from pyvis.network import Network\n",
    "\n",
    "\n",
    "def color_gradient(start: str, finish: str, t: float) -> str:\n",
    "    \"\"\"Return a color that is a linear interpolation between start and finish\"\"\"\n",
    "    start_rgb = int(start[1:3], 16), int(start[3:5], 16), int(start[5:7], 16)\n",
    "    finish_rgb = int(finish[1:3], 16), int(finish[3:5], 16), int(finish[5:7], 16)\n",
    "    r = int(start_rgb[0] + t * (finish_rgb[0] - start_rgb[0]))\n",
    "    g = int(start_rgb[1] + t * (finish_rgb[1] - start_rgb[1]))\n",
    "    b = int(start_rgb[2] + t * (finish_rgb[2] - start_rgb[2]))\n",
    "    return f'#{r:02x}{g:02x}{b:02x}'\n",
    "\n",
    "\n",
    "def network_from_df(df: Dataset) -> Network:\n",
    "    net = Network(height='1000px', width='100%', directed=False, bgcolor='#222222', font_color=True)\n",
    "    activities_counter = df.activities()\n",
    "    most_common = activities_counter.most_common(20)\n",
    "    complete_analysis = df.complete_analysis()\n",
    "    activity_to_change = {ca.activity: ca.change for ca in complete_analysis}\n",
    "    for activity, count in most_common:\n",
    "        net.add_node(activity, label=activity, value=count, title=f'occured {count} times;\\nmood change: {activity_to_change[activity]:.1%}')\n",
    "    common_activities = set(activity for activity, _ in most_common)\n",
    "    all_edges = []\n",
    "    for entry in df:\n",
    "        for pair in combinations(entry.activities, 2):\n",
    "            if pair[0] not in common_activities or pair[1] not in common_activities:\n",
    "                continue\n",
    "            all_edges.append(tuple(sorted(pair)))\n",
    "    edges_counter = Counter(all_edges)\n",
    "    for (source, target), count in edges_counter.items():\n",
    "        net.add_edge(source, target, value=count)\n",
    "    return net"
   ]
  },
  {
   "cell_type": "code",
   "execution_count": 40,
   "metadata": {},
   "outputs": [
    {
     "name": "stdout",
     "output_type": "stream",
     "text": [
      "network.html\n"
     ]
    }
   ],
   "source": [
    "# net = network_from_df(df)\n",
    "# net.force_atlas_2based(spring_strength=0.02, gravity=-30, damping=0.2)\n",
    "# net.show('network.html', notebook=False)"
   ]
  },
  {
   "cell_type": "markdown",
   "metadata": {},
   "source": [
    "# Other"
   ]
  },
  {
   "cell_type": "code",
   "execution_count": null,
   "metadata": {},
   "outputs": [],
   "source": []
  }
 ],
 "metadata": {
  "kernelspec": {
   "display_name": "thevenv",
   "language": "python",
   "name": "python3"
  },
  "language_info": {
   "codemirror_mode": {
    "name": "ipython",
    "version": 3
   },
   "file_extension": ".py",
   "mimetype": "text/x-python",
   "name": "python",
   "nbconvert_exporter": "python",
   "pygments_lexer": "ipython3",
   "version": "3.12.0"
  },
  "orig_nbformat": 4
 },
 "nbformat": 4,
 "nbformat_minor": 2
}
