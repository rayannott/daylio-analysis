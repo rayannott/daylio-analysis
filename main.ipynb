{
 "cells": [
  {
   "cell_type": "code",
   "execution_count": 1,
   "metadata": {
    "metadata": {}
   },
   "outputs": [
    {
     "name": "stdout",
     "output_type": "stream",
     "text": [
      "using file daylio_export_2024_05_16.csv\n",
      "Dataset(1027 entries; last [15 hours 16 minutes 56 seconds ago]; mood: 3.800 ± 0.547)\n"
     ]
    }
   ],
   "source": [
    "import pathlib\n",
    "from dataset import Dataset, BAD_MOOD\n",
    "\n",
    "DATA_DIR = pathlib.Path('data')\n",
    "path = next(DATA_DIR.glob('*.csv'))\n",
    "print('using file', path.name)\n",
    "\n",
    "df = Dataset(csv_file_path=path)"
   ]
  },
  {
   "cell_type": "markdown",
   "metadata": {},
   "source": [
    "# API"
   ]
  },
  {
   "cell_type": "markdown",
   "metadata": {},
   "source": [
    "### `.head`"
   ]
  },
  {
   "cell_type": "markdown",
   "metadata": {},
   "source": [
    "Use the `.head` method to look at the latest entries of the dataset"
   ]
  },
  {
   "cell_type": "code",
   "execution_count": 2,
   "metadata": {
    "metadata": {}
   },
   "outputs": [
    {
     "name": "stdout",
     "output_type": "stream",
     "text": [
      "Dataset(1027 entries; last [15 hours 11 minutes 2 seconds ago]; mood: 3.800 ± 0.547)\n",
      "[15.05.2024 21:05] 4.5 Lauren, date, happy, relaxed, satisfied\n",
      "[15.05.2024 19:52] 3.5 Lauren, annoyed, date, relaxed, unsure\n",
      "[15.05.2024 16:00] 3.5 bored, class, home, relaxed\n",
      "[15.05.2024 13:28] 3.5 home, relaxed, study\n",
      "[15.05.2024 10:45] 4.0 coding, home, relaxed, unsure\n",
      "...\n"
     ]
    }
   ],
   "source": [
    "df.head()"
   ]
  },
  {
   "cell_type": "code",
   "execution_count": 3,
   "metadata": {
    "metadata": {}
   },
   "outputs": [
    {
     "name": "stdout",
     "output_type": "stream",
     "text": [
      "Dataset(1027 entries; last [15 hours 11 minutes 4 seconds ago]; mood: 3.800 ± 0.547)\n",
      "[15.05.2024 21:05] 4.5 Lauren, date, happy, relaxed, satisfied\n",
      "[15.05.2024 19:52] 3.5 Lauren, annoyed, date, relaxed, unsure\n",
      "...\n"
     ]
    }
   ],
   "source": [
    "df.head(2)"
   ]
  },
  {
   "cell_type": "code",
   "execution_count": null,
   "metadata": {
    "metadata": {}
   },
   "outputs": [],
   "source": [
    "# prints all entries\n",
    "df.head(-1)"
   ]
  },
  {
   "cell_type": "markdown",
   "metadata": {},
   "source": [
    "### `.sub`"
   ]
  },
  {
   "cell_type": "markdown",
   "metadata": {},
   "source": [
    "Use the `.sub` method to filter entries and get a subset of the original dataset"
   ]
  },
  {
   "cell_type": "markdown",
   "metadata": {},
   "source": [
    "- by included activities ('or' operator: all the entries which have at least one of the listed activities)"
   ]
  },
  {
   "cell_type": "code",
   "execution_count": 4,
   "metadata": {
    "metadata": {}
   },
   "outputs": [
    {
     "name": "stdout",
     "output_type": "stream",
     "text": [
      "Dataset(83 entries; last [3 days 17 hours 19 minutes 7 seconds ago]; mood: 4.157 ± 0.557)\n",
      "[12.05.2024 18:57] 4.5 city, cycling, happy, satisfied, tired\n",
      "[14.04.2024 13:05] 4.0 city, cycling, satisfied, tired, worried\n",
      "[12.04.2024 18:54] 2.0 anxious, city, cycling\n",
      "[12.04.2024 17:31] 4.5 city, cycling, excited, happy, relaxed, satisfied\n",
      "[07.04.2024 14:29] 4.0 cycling, happy, satisfied\n",
      "...\n"
     ]
    }
   ],
   "source": [
    "cycling_or_city_df = df.sub(include={'cycling', 'city'})\n",
    "cycling_or_city_df.head()"
   ]
  },
  {
   "cell_type": "markdown",
   "metadata": {},
   "source": [
    "- by excluded activities (entries which don't have any of the listed activities)\n",
    "\n",
    "_for both `include` and `exclude` the argument can be either `str` or `set[str]`_"
   ]
  },
  {
   "cell_type": "code",
   "execution_count": 5,
   "metadata": {
    "metadata": {}
   },
   "outputs": [
    {
     "name": "stdout",
     "output_type": "stream",
     "text": [
      "Dataset(905 entries; last [15 hours 11 minutes 10 seconds ago]; mood: 3.778 ± 0.544)\n",
      "[15.05.2024 21:05] 4.5 Lauren, date, happy, relaxed, satisfied\n",
      "[15.05.2024 19:52] 3.5 Lauren, annoyed, date, relaxed, unsure\n",
      "[15.05.2024 16:00] 3.5 bored, class, home, relaxed\n",
      "[15.05.2024 13:28] 3.5 home, relaxed, study\n",
      "[15.05.2024 10:45] 4.0 coding, home, relaxed, unsure\n",
      "...\n"
     ]
    }
   ],
   "source": [
    "without_friends = df.sub(exclude='friends')\n",
    "without_friends.head()"
   ]
  },
  {
   "cell_type": "markdown",
   "metadata": {},
   "source": [
    "- by mood values (can be either a value or a Container of values)"
   ]
  },
  {
   "cell_type": "code",
   "execution_count": 6,
   "metadata": {
    "metadata": {}
   },
   "outputs": [
    {
     "data": {
      "text/plain": [
       "Dataset(36 entries; last [1 month 11 hours 37 minutes 11 seconds ago]; mood: 2.278 ± 0.252)"
      ]
     },
     "execution_count": 6,
     "metadata": {},
     "output_type": "execute_result"
    }
   ],
   "source": [
    "bad_mood = df.sub(mood=BAD_MOOD)\n",
    "bad_mood"
   ]
  },
  {
   "cell_type": "markdown",
   "metadata": {},
   "source": [
    "- by included activities ('and' operator: all entries which have all the listed activities)\n",
    "\n",
    "_Note: this is achieved by subscribing the dataset twice; since .sub method returns a new dataset, it can be done in one line._"
   ]
  },
  {
   "cell_type": "code",
   "execution_count": 7,
   "metadata": {
    "metadata": {}
   },
   "outputs": [
    {
     "name": "stdout",
     "output_type": "stream",
     "text": [
      "Dataset(10 entries; last [7 months 2 days 18 hours 6 minutes 14 seconds ago]; mood: 4.850 ± 0.474)\n",
      "[13.10.2023 20:10] 5.0 cycling, swimming, tired\n",
      "[16.09.2023 20:58] 5.0 cycling, relaxed, satisfied, swimming, tired\n",
      "[04.09.2023 20:44] 5.0 Damir, cycling, relaxed, satisfied, swimming, tired\n",
      "[22.08.2023 20:27] 5.0 cycling, friends, satisfied, swimming, tired\n",
      "[19.08.2023 20:32] 5.0 Damir, cycling, friends, relaxed, swimming, tired\n",
      "...\n",
      "[('swimming', 10), ('tired', 10), ('cycling', 10), ('satisfied', 7), ('relaxed', 6), ('friends', 6), ('Damir', 5)]\n"
     ]
    }
   ],
   "source": [
    "cycling_and_swimming = df.sub(include='cycling').sub(include='swimming')\n",
    "cycling_and_swimming.head()\n",
    "print(cycling_and_swimming.activities().most_common(7))"
   ]
  },
  {
   "cell_type": "code",
   "execution_count": 8,
   "metadata": {
    "metadata": {}
   },
   "outputs": [
    {
     "data": {
      "text/plain": [
       "Dataset(31 entries; last [3 days 17 hours 19 minutes 16 seconds ago]; mood: 4.129 ± 0.591)"
      ]
     },
     "execution_count": 8,
     "metadata": {},
     "output_type": "execute_result"
    }
   ],
   "source": [
    "df.sub(include='cycling', exclude='swimming')"
   ]
  },
  {
   "cell_type": "markdown",
   "metadata": {},
   "source": [
    "- by a subtring (or substrings) in the `note`"
   ]
  },
  {
   "cell_type": "code",
   "execution_count": 9,
   "metadata": {
    "metadata": {}
   },
   "outputs": [
    {
     "name": "stdout",
     "output_type": "stream",
     "text": [
      "Dataset(6 entries; last [7 days 20 hours 41 minutes 18 seconds ago]; mood: 3.833 ± 0.258)\n",
      "[08.05.2024 15:35] 3.5 Leha, annoyed, excited, friends, gaming, unsure\n",
      "[08.03.2024 17:26] 4.0 Leha, amused, annoyed, friends, gaming, happy, home, satisfied\n",
      "[22.11.2023 21:41] 4.0 Leha, Martina, amused, gaming, home, movies & series, satisfied\n",
      "[07.07.2023 20:00] 3.5 Leha, coding, dota, friends, gaming, shopping, study, unsure, walking\n",
      "[03.07.2023 20:05] 4.0 Leha, coding, excited, friends, gaming, happy, home, stressed, tired\n",
      "[01.07.2023 20:00] 4.0 Leha, Martina, excited, friends, gaming, happy, home, movies & series, relaxed\n"
     ]
    }
   ],
   "source": [
    "df_ktane = df.sub(note_contains='ktane')\n",
    "df_ktane.head(-1)"
   ]
  },
  {
   "cell_type": "markdown",
   "metadata": {},
   "source": [
    "- by a predicate function (which takes an entry as an argument and returns a boolean)"
   ]
  },
  {
   "cell_type": "code",
   "execution_count": 10,
   "metadata": {
    "metadata": {}
   },
   "outputs": [
    {
     "data": {
      "text/plain": [
       "Dataset(26 entries; last [3 days 17 hours 19 minutes 20 seconds ago]; mood: 4.712 ± 0.252)"
      ]
     },
     "execution_count": 10,
     "metadata": {},
     "output_type": "execute_result"
    }
   ],
   "source": [
    "from dataset import Entry\n",
    "\n",
    "\n",
    "def pred(entry: Entry) -> bool:\n",
    "    \"\"\"It is sunday, the mood > 4, the note is not empty\"\"\"\n",
    "    return entry.full_date.weekday() == 6 and entry.mood > 4 and entry.note != ''\n",
    "\n",
    "\n",
    "df_sunday_good_mood_has_note = df.sub(predicate=pred)\n",
    "df_sunday_good_mood_has_note"
   ]
  },
  {
   "cell_type": "markdown",
   "metadata": {},
   "source": [
    "### `.mood` and `.std`"
   ]
  },
  {
   "cell_type": "markdown",
   "metadata": {},
   "source": [
    "Use the `.mood` method to get the average mood of all the entries in the dataset and the `.std` method to get the standard deviation of the mood values.\n",
    "\n",
    "These values are also shown when calling `.head()`."
   ]
  },
  {
   "cell_type": "code",
   "execution_count": 11,
   "metadata": {
    "metadata": {}
   },
   "outputs": [
    {
     "name": "stdout",
     "output_type": "stream",
     "text": [
      "4.157 0.557\n"
     ]
    }
   ],
   "source": [
    "print(\n",
    "    round(cycling_or_city_df.mood(), 3),\n",
    "    round(cycling_or_city_df.std(), 3)\n",
    ")"
   ]
  },
  {
   "cell_type": "markdown",
   "metadata": {},
   "source": [
    "or just use `.mood_std`:"
   ]
  },
  {
   "cell_type": "code",
   "execution_count": 13,
   "metadata": {
    "metadata": {}
   },
   "outputs": [
    {
     "name": "stdout",
     "output_type": "stream",
     "text": [
      "4.157 ± 0.557\n"
     ]
    }
   ],
   "source": [
    "print(cycling_or_city_df.mood_std())"
   ]
  },
  {
   "cell_type": "markdown",
   "metadata": {},
   "source": [
    "### `.activities`"
   ]
  },
  {
   "cell_type": "markdown",
   "metadata": {},
   "source": [
    "Use the `.activities` method to get a Counter object of all activities in the dataset"
   ]
  },
  {
   "cell_type": "code",
   "execution_count": 14,
   "metadata": {
    "metadata": {}
   },
   "outputs": [
    {
     "name": "stdout",
     "output_type": "stream",
     "text": [
      "most common: [('home', 591), ('satisfied', 346), ('relaxed', 338)]\n",
      "least common: [('homework', 2), ('snacking', 3), ('cinema', 3), ('reading', 3), ('photography', 3)]\n"
     ]
    }
   ],
   "source": [
    "cnt = df.activities()\n",
    "print(f'most common: {cnt.most_common(3)}')\n",
    "print(f'least common: {cnt.most_common()[-1:-6:-1]}')"
   ]
  },
  {
   "cell_type": "markdown",
   "metadata": {},
   "source": [
    "### `.get_datetimes`"
   ]
  },
  {
   "cell_type": "markdown",
   "metadata": {},
   "source": [
    "Use the `.get_datetimes` method to get the list of all points in time when an entry was created. The values are sorted in descending order by the date of creation."
   ]
  },
  {
   "cell_type": "code",
   "execution_count": 15,
   "metadata": {
    "metadata": {}
   },
   "outputs": [
    {
     "data": {
      "text/plain": [
       "[datetime.datetime(2024, 5, 15, 21, 5),\n",
       " datetime.datetime(2024, 5, 15, 19, 52),\n",
       " datetime.datetime(2024, 5, 15, 16, 0),\n",
       " datetime.datetime(2024, 5, 15, 13, 28),\n",
       " datetime.datetime(2024, 5, 15, 10, 45)]"
      ]
     },
     "execution_count": 15,
     "metadata": {},
     "output_type": "execute_result"
    }
   ],
   "source": [
    "df.get_datetimes()[:5]"
   ]
  },
  {
   "cell_type": "markdown",
   "metadata": {},
   "source": [
    "### `.group_by`\n",
    "Use the `.group_by` method to get a dictionary mapping groups to the list of entries in that group.\n",
    "\n",
    "The groups are one of `['day', 'month']` and the entries are sorted in ascending order.\n",
    "\n",
    "Note: this method (like many others) uses lru_cache and since the Dataset is weakly-immutable, it is safe to use it."
   ]
  },
  {
   "cell_type": "code",
   "execution_count": 16,
   "metadata": {
    "metadata": {}
   },
   "outputs": [
    {
     "name": "stdout",
     "output_type": "stream",
     "text": [
      "2023-07-01: 1\n"
     ]
    }
   ],
   "source": [
    "groups = df.group_by('day')\n",
    "for day, entries in groups.items():\n",
    "    print(f'{day}: {len(entries)}')\n",
    "    break"
   ]
  },
  {
   "cell_type": "code",
   "execution_count": 17,
   "metadata": {
    "metadata": {}
   },
   "outputs": [
    {
     "name": "stdout",
     "output_type": "stream",
     "text": [
      "2023-07-01: 95\n"
     ]
    }
   ],
   "source": [
    "groups = df.group_by('month')\n",
    "for day, entries in groups.items():\n",
    "    print(f'{day}: {len(entries)}')\n",
    "    break"
   ]
  },
  {
   "cell_type": "markdown",
   "metadata": {},
   "source": [
    "### `.stats`\n",
    "\n",
    "Use the `.stats` method to get a custom StatsResult object which contains the following information:"
   ]
  },
  {
   "cell_type": "code",
   "execution_count": 2,
   "metadata": {
    "metadata": {}
   },
   "outputs": [
    {
     "name": "stdout",
     "output_type": "stream",
     "text": [
      "Help on method stats in module dataset:\n",
      "\n",
      "stats() -> utils.StatsResult method of dataset.Dataset instance\n",
      "    Returns the following statistics:\n",
      "        - mood (avg ± std)\n",
      "        - note length [num symbols] (avg ± std)\n",
      "        - entries frequency [entries per day] (median)\n",
      "    as a StatsResult object.\n",
      "\n"
     ]
    }
   ],
   "source": [
    "help(df.stats)"
   ]
  },
  {
   "cell_type": "code",
   "execution_count": 3,
   "metadata": {
    "metadata": {}
   },
   "outputs": [
    {
     "data": {
      "text/plain": [
       "Mood: 3.746 ± 0.496\n",
       "Note length: 39.816 ± 61.087 symbols\n",
       "Entries frequency: 3.618 entries per day (once every 6 hours 38 minutes)"
      ]
     },
     "execution_count": 3,
     "metadata": {},
     "output_type": "execute_result"
    }
   ],
   "source": [
    "df.sub(include='home').stats()"
   ]
  },
  {
   "cell_type": "markdown",
   "metadata": {},
   "source": [
    "### `.__iter__`\n",
    "`Dataset` defines `__iter__` method, so it can be used in `for` loops. The entries are sorted in descending order by the date of creation."
   ]
  },
  {
   "cell_type": "code",
   "execution_count": 4,
   "metadata": {
    "metadata": {}
   },
   "outputs": [
    {
     "name": "stdout",
     "output_type": "stream",
     "text": [
      "[15.05.2024 21:05] 4.5 Lauren, date, happy, relaxed, satisfied\n",
      "[15.05.2024 21:05] 4.5 Lauren, date, happy, relaxed, satisfied; [15.05.2024 19:52] 3.5 Lauren, annoyed, date, relaxed, unsure\n"
     ]
    }
   ],
   "source": [
    "for entry in df:\n",
    "    print(entry)\n",
    "    break\n",
    "# or\n",
    "df_iter = iter(df)\n",
    "print(next(df_iter), next(df_iter), sep='; ')"
   ]
  },
  {
   "cell_type": "markdown",
   "metadata": {},
   "source": [
    "### `.__getitem__`\n",
    "`Dataset` defines `__getitem__` method where the argument is \n",
    "- a date in a string format (e.g. `'01.01.2024'`), returns a new Dataset with all entries on that date;\n",
    "- a slice object (e.g. `slice('01.01.2024', '01.01.2025')`), returns a new Dataset with all entries which were created between the two dates (the \"stop\" date is not included);"
   ]
  },
  {
   "cell_type": "code",
   "execution_count": 5,
   "metadata": {
    "metadata": {}
   },
   "outputs": [],
   "source": [
    "july22 = df['22.07.2023']"
   ]
  },
  {
   "cell_type": "code",
   "execution_count": 6,
   "metadata": {
    "metadata": {}
   },
   "outputs": [
    {
     "data": {
      "text/plain": [
       "Dataset(6 entries; last [9 months 24 days 20 hours 2 minutes 37 seconds ago]; mood: 3.583 ± 0.376)"
      ]
     },
     "execution_count": 6,
     "metadata": {},
     "output_type": "execute_result"
    }
   ],
   "source": [
    "july22"
   ]
  },
  {
   "cell_type": "markdown",
   "metadata": {},
   "source": [
    "- by a particular date period (by using slices)"
   ]
  },
  {
   "cell_type": "code",
   "execution_count": 7,
   "metadata": {
    "metadata": {}
   },
   "outputs": [
    {
     "data": {
      "text/plain": [
       "Dataset(16 entries; last [4 months 12 days 20 hours 24 minutes 40 seconds ago]; mood: 3.969 ± 0.499)"
      ]
     },
     "execution_count": 7,
     "metadata": {},
     "output_type": "execute_result"
    }
   ],
   "source": [
    "ny_eve = df['29.12.2023':'03.01.2024']\n",
    "ny_eve"
   ]
  },
  {
   "cell_type": "code",
   "execution_count": 8,
   "metadata": {
    "metadata": {}
   },
   "outputs": [
    {
     "name": "stdout",
     "output_type": "stream",
     "text": [
      "Dataset(5 entries; last [5 months 15 days 10 hours 42 minutes 45 seconds ago]; mood: 3.700 ± 0.274)\n",
      "[30.11.2023 23:37] 3.5 Lauren, city, date, tired\n",
      "[30.11.2023 17:06] 4.0 coding, excited, home, satisfied\n",
      "[30.11.2023 11:07] 3.5 Leha, coding, home, unsure\n",
      "[29.11.2023 21:20] 3.5 Azat, Leha, amused, gaming, social\n",
      "[29.11.2023 16:42] 4.0 coding, excited, happy, home, satisfied\n"
     ]
    }
   ],
   "source": [
    "end_of_november_2023 = df['29.11.2023':'01.12.2023']\n",
    "end_of_november_2023.head()"
   ]
  },
  {
   "cell_type": "code",
   "execution_count": 9,
   "metadata": {
    "metadata": {}
   },
   "outputs": [
    {
     "name": "stdout",
     "output_type": "stream",
     "text": [
      "Dataset(95 entries; last [9 months 15 days 23 hours 26 minutes ago]; mood: 3.589 ± 0.688)\n",
      "[31.07.2023 18:54] 3.5 cleaning, relaxed\n",
      "[31.07.2023 17:22] 3.0 home, study, tired, unsure\n",
      "[31.07.2023 16:45] 4.0 cooking, home, relaxed, satisfied, study\n",
      "[31.07.2023 12:00] 3.5 bored, home, procrastinating, relaxed, unsure\n",
      "[30.07.2023 23:26] 4.0 Lauren, amused, friends, grateful, happy, home, laundry\n",
      "...\n"
     ]
    }
   ],
   "source": [
    "before_aug_2023 = df[:'01.08.2023']\n",
    "before_aug_2023.head()"
   ]
  },
  {
   "cell_type": "markdown",
   "metadata": {},
   "source": [
    "### `__call__`\n",
    "Return a list of entries for a particular day. The argument is a date in a string format (e.g. `'01.01.2024'`)."
   ]
  },
  {
   "cell_type": "code",
   "execution_count": 10,
   "metadata": {
    "metadata": {}
   },
   "outputs": [
    {
     "data": {
      "text/plain": [
       "[[31.12.2023 16:48] 4.5 Lauren, cooking, date, excited, happy, home, movies & series,\n",
       " [31.12.2023 16:48] 2.5 Lauren, annoyed, city, date, photography, sad,\n",
       " [31.12.2023 21:51] 3.5 Lauren, cooking, date, home, movies & series, satisfied,\n",
       " [31.12.2023 22:21] 4.0 Dad, Mom, family, happy, home, nervous,\n",
       " [31.12.2023 23:57] 4.0 Lauren, date, happy]"
      ]
     },
     "execution_count": 10,
     "metadata": {},
     "output_type": "execute_result"
    }
   ],
   "source": [
    "ny_entries = df('31.12.2023')\n",
    "ny_entries"
   ]
  },
  {
   "cell_type": "markdown",
   "metadata": {},
   "source": [
    "### `@ <datetime_like>` (or `.at`)\n",
    "Returns a single entry created at a particular datetime or `None` if there is no entry at that datetime.\n",
    "\n",
    "Input: a datetime in a string format (e.g. `'01.01.2024 12:00'`) or a `datetime.datetime` object."
   ]
  },
  {
   "cell_type": "code",
   "execution_count": 11,
   "metadata": {
    "metadata": {}
   },
   "outputs": [
    {
     "name": "stdout",
     "output_type": "stream",
     "text": [
      "[22.07.2023 17:09] 3.5 cooking, home, relaxed, study\n"
     ]
    }
   ],
   "source": [
    "import datetime\n",
    "\n",
    "# or\n",
    "entry1 = df @ '22.07.2023 17:09' # or df.at(...)\n",
    "entry2 = df @ datetime.datetime(2023, 7, 22, 17, 9) # or df.at(...)\n",
    "\n",
    "assert entry1 == entry2\n",
    "print(entry1)"
   ]
  },
  {
   "cell_type": "markdown",
   "metadata": {},
   "source": [
    "# Analysis examples"
   ]
  },
  {
   "cell_type": "markdown",
   "metadata": {},
   "source": [
    "## Mood analysis"
   ]
  },
  {
   "cell_type": "code",
   "execution_count": 5,
   "metadata": {
    "metadata": {}
   },
   "outputs": [
    {
     "data": {
      "text/plain": [
       "MoodWithWithout(mood_std_with=4.305 ± 0.641, mood_std_without=3.779 ± 0.532)"
      ]
     },
     "execution_count": 5,
     "metadata": {},
     "output_type": "execute_result"
    }
   ],
   "source": [
    "activity = 'cycling'\n",
    "mood_with_without = df.mood_with_without(activity)\n",
    "mood_with_without"
   ]
  },
  {
   "cell_type": "code",
   "execution_count": 4,
   "metadata": {
    "metadata": {}
   },
   "outputs": [
    {
     "name": "stdout",
     "output_type": "stream",
     "text": [
      "cycling\n",
      "with: 4.305 ± 0.641\n",
      "without: 3.779 ± 0.532\n",
      "change: 13.90%\n"
     ]
    }
   ],
   "source": [
    "print(activity, mood_with_without, sep='\\n')"
   ]
  },
  {
   "cell_type": "markdown",
   "metadata": {},
   "source": [
    "## Complete analysis"
   ]
  },
  {
   "cell_type": "code",
   "execution_count": 6,
   "metadata": {
    "metadata": {}
   },
   "outputs": [],
   "source": [
    "complete_analysis = df.complete_analysis()"
   ]
  },
  {
   "cell_type": "code",
   "execution_count": null,
   "metadata": {
    "metadata": {}
   },
   "outputs": [],
   "source": [
    "print(f'analysed {len(complete_analysis)} actvities')\n",
    "for _name, _mood_with_without, _num_occ in complete_analysis[:8] + complete_analysis[-8:]:\n",
    "    print(f'[{_name:^15}]: {_mood_with_without.calc_change():.1%} (with: {_mood_with_without.mood_std_with}, without: {_mood_with_without.mood_std_without}); occured {_num_occ} times')"
   ]
  },
  {
   "cell_type": "markdown",
   "metadata": {},
   "source": [
    "## Mood scatter plot (per day/month)"
   ]
  },
  {
   "cell_type": "code",
   "execution_count": 8,
   "metadata": {
    "metadata": {}
   },
   "outputs": [
    {
     "data": {
      "application/vnd.plotly.v1+json": {
       "config": {
        "plotlyServerURL": "https://plot.ly"
       },
       "data": [
        {
         "line": {
          "color": "rgb(31, 119, 180)"
         },
         "marker": {
          "color": [
           1,
           1,
           2,
           1,
           1,
           2,
           1,
           3,
           3,
           2,
           2,
           2,
           3,
           2,
           1,
           1,
           4,
           5,
           4,
           4,
           7,
           6,
           4,
           3,
           5,
           5,
           4,
           5,
           3,
           4,
           4,
           8,
           5,
           6,
           3,
           4,
           4,
           5,
           6,
           4,
           4,
           5,
           3,
           5,
           1,
           2,
           3,
           1,
           2,
           3,
           2,
           3,
           3,
           1,
           2,
           2,
           1,
           2,
           2,
           2,
           2,
           1,
           2,
           3,
           3,
           1,
           2,
           2,
           1,
           2,
           1,
           2,
           2,
           2,
           2,
           2,
           3,
           1,
           2,
           1,
           1,
           2,
           2,
           3,
           2,
           1,
           2,
           1,
           3,
           1,
           2,
           4,
           5,
           2,
           2,
           2,
           2,
           4,
           3,
           2,
           1,
           3,
           1,
           1,
           2,
           1,
           2,
           2,
           1,
           4,
           3,
           2,
           1,
           1,
           3,
           2,
           2,
           2,
           4,
           2,
           2,
           3,
           4,
           5,
           3,
           5,
           6,
           4,
           3,
           6,
           4,
           3,
           6,
           3,
           4,
           4,
           5,
           3,
           4,
           4,
           2,
           5,
           2,
           1,
           2,
           2,
           4,
           2,
           2,
           3,
           7,
           2,
           3,
           3,
           4,
           4,
           1,
           2,
           2,
           2,
           3,
           5,
           2,
           1,
           2,
           6,
           3,
           3,
           2,
           4,
           4,
           3,
           3,
           5,
           3,
           4,
           2,
           2,
           5,
           3,
           2,
           3,
           2,
           5,
           3,
           3,
           2,
           5,
           3,
           2,
           3,
           1,
           1,
           2,
           3,
           3,
           4,
           4,
           1,
           3,
           3,
           2,
           1,
           3,
           1,
           6,
           3,
           5,
           5,
           5,
           4,
           2,
           5,
           3,
           3,
           3,
           3,
           3,
           5,
           5,
           4,
           4,
           5,
           5,
           2,
           2,
           3,
           5,
           4,
           5,
           6,
           3,
           4,
           4,
           2,
           3,
           3,
           4,
           3,
           4,
           3,
           5,
           3,
           3,
           3,
           7,
           3,
           2,
           4,
           2,
           3,
           6,
           8,
           2,
           2,
           3,
           5,
           7,
           5,
           7,
           3,
           5,
           3,
           2,
           3,
           1,
           5,
           4,
           3,
           6,
           3,
           4,
           4,
           4,
           4,
           5,
           3,
           2,
           6,
           4,
           4,
           7,
           5,
           3,
           3,
           4,
           8,
           4,
           6,
           5,
           5,
           7,
           2,
           5,
           2,
           3,
           3,
           2,
           4,
           3,
           5,
           4,
           3,
           3,
           1,
           3,
           1,
           3,
           4,
           6,
           5,
           3,
           4,
           2,
           2,
           6,
           4,
           4,
           3,
           6
          ],
          "colorbar": {
           "title": {
            "text": "Number of entries"
           }
          },
          "colorscale": [
           [
            0,
            "rgb(0,0,255)"
           ],
           [
            1,
            "rgb(255,0,0)"
           ]
          ],
          "showscale": true,
          "size": 5
         },
         "mode": "lines+markers",
         "name": "avg",
         "type": "scatter",
         "x": [
          "2023-07-01",
          "2023-07-02",
          "2023-07-03",
          "2023-07-04",
          "2023-07-05",
          "2023-07-06",
          "2023-07-07",
          "2023-07-08",
          "2023-07-09",
          "2023-07-10",
          "2023-07-11",
          "2023-07-12",
          "2023-07-13",
          "2023-07-14",
          "2023-07-15",
          "2023-07-16",
          "2023-07-17",
          "2023-07-18",
          "2023-07-19",
          "2023-07-20",
          "2023-07-21",
          "2023-07-22",
          "2023-07-23",
          "2023-07-24",
          "2023-07-25",
          "2023-07-26",
          "2023-07-27",
          "2023-07-28",
          "2023-07-29",
          "2023-07-30",
          "2023-07-31",
          "2023-08-01",
          "2023-08-02",
          "2023-08-03",
          "2023-08-04",
          "2023-08-05",
          "2023-08-06",
          "2023-08-07",
          "2023-08-08",
          "2023-08-09",
          "2023-08-10",
          "2023-08-11",
          "2023-08-12",
          "2023-08-13",
          "2023-08-14",
          "2023-08-15",
          "2023-08-16",
          "2023-08-17",
          "2023-08-18",
          "2023-08-19",
          "2023-08-20",
          "2023-08-21",
          "2023-08-22",
          "2023-08-23",
          "2023-08-24",
          "2023-08-25",
          "2023-08-26",
          "2023-08-27",
          "2023-08-28",
          "2023-08-29",
          "2023-08-30",
          "2023-08-31",
          "2023-09-01",
          "2023-09-02",
          "2023-09-03",
          "2023-09-04",
          "2023-09-05",
          "2023-09-06",
          "2023-09-07",
          "2023-09-08",
          "2023-09-09",
          "2023-09-10",
          "2023-09-11",
          "2023-09-12",
          "2023-09-13",
          "2023-09-14",
          "2023-09-15",
          "2023-09-16",
          "2023-09-17",
          "2023-09-18",
          "2023-09-19",
          "2023-09-20",
          "2023-09-21",
          "2023-09-22",
          "2023-09-23",
          "2023-09-24",
          "2023-09-25",
          "2023-09-26",
          "2023-09-27",
          "2023-09-28",
          "2023-09-29",
          "2023-09-30",
          "2023-10-01",
          "2023-10-02",
          "2023-10-03",
          "2023-10-04",
          "2023-10-05",
          "2023-10-06",
          "2023-10-07",
          "2023-10-08",
          "2023-10-09",
          "2023-10-10",
          "2023-10-11",
          "2023-10-12",
          "2023-10-13",
          "2023-10-14",
          "2023-10-15",
          "2023-10-16",
          "2023-10-17",
          "2023-10-18",
          "2023-10-19",
          "2023-10-20",
          "2023-10-21",
          "2023-10-22",
          "2023-10-23",
          "2023-10-24",
          "2023-10-25",
          "2023-10-26",
          "2023-10-27",
          "2023-10-28",
          "2023-10-29",
          "2023-10-30",
          "2023-10-31",
          "2023-11-01",
          "2023-11-02",
          "2023-11-03",
          "2023-11-04",
          "2023-11-05",
          "2023-11-06",
          "2023-11-07",
          "2023-11-08",
          "2023-11-09",
          "2023-11-10",
          "2023-11-11",
          "2023-11-12",
          "2023-11-13",
          "2023-11-14",
          "2023-11-15",
          "2023-11-16",
          "2023-11-17",
          "2023-11-18",
          "2023-11-19",
          "2023-11-20",
          "2023-11-21",
          "2023-11-22",
          "2023-11-23",
          "2023-11-24",
          "2023-11-25",
          "2023-11-26",
          "2023-11-27",
          "2023-11-28",
          "2023-11-29",
          "2023-11-30",
          "2023-12-01",
          "2023-12-02",
          "2023-12-03",
          "2023-12-04",
          "2023-12-05",
          "2023-12-06",
          "2023-12-07",
          "2023-12-08",
          "2023-12-09",
          "2023-12-10",
          "2023-12-11",
          "2023-12-12",
          "2023-12-13",
          "2023-12-14",
          "2023-12-15",
          "2023-12-16",
          "2023-12-17",
          "2023-12-18",
          "2023-12-19",
          "2023-12-20",
          "2023-12-21",
          "2023-12-22",
          "2023-12-23",
          "2023-12-24",
          "2023-12-25",
          "2023-12-26",
          "2023-12-27",
          "2023-12-28",
          "2023-12-29",
          "2023-12-30",
          "2023-12-31",
          "2024-01-01",
          "2024-01-02",
          "2024-01-03",
          "2024-01-04",
          "2024-01-05",
          "2024-01-06",
          "2024-01-07",
          "2024-01-08",
          "2024-01-09",
          "2024-01-10",
          "2024-01-11",
          "2024-01-12",
          "2024-01-13",
          "2024-01-14",
          "2024-01-15",
          "2024-01-16",
          "2024-01-17",
          "2024-01-18",
          "2024-01-19",
          "2024-01-20",
          "2024-01-21",
          "2024-01-22",
          "2024-01-23",
          "2024-01-24",
          "2024-01-25",
          "2024-01-26",
          "2024-01-27",
          "2024-01-28",
          "2024-01-29",
          "2024-01-30",
          "2024-01-31",
          "2024-02-01",
          "2024-02-02",
          "2024-02-03",
          "2024-02-04",
          "2024-02-05",
          "2024-02-06",
          "2024-02-07",
          "2024-02-08",
          "2024-02-09",
          "2024-02-10",
          "2024-02-11",
          "2024-02-12",
          "2024-02-13",
          "2024-02-14",
          "2024-02-15",
          "2024-02-16",
          "2024-02-17",
          "2024-02-18",
          "2024-02-19",
          "2024-02-20",
          "2024-02-21",
          "2024-02-22",
          "2024-02-23",
          "2024-02-24",
          "2024-02-25",
          "2024-02-26",
          "2024-02-27",
          "2024-02-28",
          "2024-02-29",
          "2024-03-01",
          "2024-03-02",
          "2024-03-03",
          "2024-03-04",
          "2024-03-05",
          "2024-03-06",
          "2024-03-07",
          "2024-03-08",
          "2024-03-09",
          "2024-03-10",
          "2024-03-11",
          "2024-03-12",
          "2024-03-13",
          "2024-03-14",
          "2024-03-15",
          "2024-03-16",
          "2024-03-17",
          "2024-03-18",
          "2024-03-19",
          "2024-03-20",
          "2024-03-21",
          "2024-03-22",
          "2024-03-23",
          "2024-03-24",
          "2024-03-25",
          "2024-03-26",
          "2024-03-27",
          "2024-03-28",
          "2024-03-29",
          "2024-03-30",
          "2024-03-31",
          "2024-04-01",
          "2024-04-02",
          "2024-04-03",
          "2024-04-04",
          "2024-04-05",
          "2024-04-06",
          "2024-04-07",
          "2024-04-08",
          "2024-04-09",
          "2024-04-10",
          "2024-04-11",
          "2024-04-12",
          "2024-04-13",
          "2024-04-14",
          "2024-04-15",
          "2024-04-16",
          "2024-04-17",
          "2024-04-18",
          "2024-04-19",
          "2024-04-20",
          "2024-04-21",
          "2024-04-22",
          "2024-04-23",
          "2024-04-24",
          "2024-04-25",
          "2024-04-26",
          "2024-04-27",
          "2024-04-28",
          "2024-04-29",
          "2024-04-30",
          "2024-05-01",
          "2024-05-02",
          "2024-05-03",
          "2024-05-04",
          "2024-05-05",
          "2024-05-06",
          "2024-05-07",
          "2024-05-08",
          "2024-05-09",
          "2024-05-10",
          "2024-05-11",
          "2024-05-12",
          "2024-05-13",
          "2024-05-14",
          "2024-05-15"
         ],
         "y": [
          4,
          4,
          4.5,
          3,
          4,
          4,
          3.5,
          4,
          3.1666666666666665,
          4.5,
          3.75,
          3.25,
          4.333333333333333,
          4.5,
          3,
          4,
          3.125,
          4.4,
          3.375,
          3.375,
          3.2857142857142856,
          3.5833333333333335,
          3.5,
          3.5,
          3.4,
          3.1,
          3.75,
          3.4,
          3.3333333333333335,
          3.25,
          3.5,
          3.8125,
          4.1,
          3.75,
          3.8333333333333335,
          3.875,
          3.25,
          3.6,
          4.166666666666667,
          3.75,
          3.875,
          3.8,
          4,
          4.1,
          4,
          3.75,
          4.166666666666667,
          3.5,
          4,
          4.333333333333333,
          3.75,
          3.8333333333333335,
          4.333333333333333,
          4,
          3,
          3.75,
          4,
          2.25,
          4,
          3,
          4,
          4,
          4.5,
          3.8333333333333335,
          4,
          5,
          4,
          3.5,
          4,
          4,
          4,
          4.5,
          3.75,
          4.5,
          4,
          3.25,
          3.8333333333333335,
          5,
          4,
          3.5,
          4,
          4,
          4,
          3.8333333333333335,
          4,
          4,
          4,
          4,
          4.166666666666667,
          4,
          3.75,
          3.625,
          4.1,
          4.25,
          4.5,
          4.5,
          3.75,
          4,
          3.8333333333333335,
          3.75,
          4,
          3.5,
          4,
          4,
          4.25,
          4,
          5,
          3.5,
          4,
          4.625,
          4.166666666666667,
          4.25,
          4,
          4,
          3.6666666666666665,
          3.25,
          3.75,
          3.75,
          4.25,
          5.5,
          4.5,
          4.166666666666667,
          3.375,
          4.1,
          3.8333333333333335,
          3.5,
          3.9166666666666665,
          3.375,
          3.5,
          3.75,
          4.25,
          4.166666666666667,
          3.4166666666666665,
          4.666666666666667,
          4.75,
          3.875,
          3.5,
          3.6666666666666665,
          3.875,
          3.125,
          4,
          3.4,
          3.5,
          3,
          4,
          3.75,
          4,
          4,
          4,
          3.8333333333333335,
          3.642857142857143,
          3.75,
          3.6666666666666665,
          3.3333333333333335,
          3.75,
          3.875,
          4,
          3.25,
          4,
          3.75,
          3.6666666666666665,
          3.7,
          4.25,
          4,
          3.75,
          4.166666666666667,
          4,
          4,
          5,
          3.875,
          4,
          3.8333333333333335,
          3.8333333333333335,
          3.8,
          3.8333333333333335,
          4.25,
          3.75,
          4.5,
          4.1,
          4.166666666666667,
          3,
          4.333333333333333,
          3.75,
          3.7,
          4,
          4.166666666666667,
          3.75,
          3.9,
          4.166666666666667,
          3.75,
          4.333333333333333,
          3.5,
          4,
          3.75,
          4,
          4.166666666666667,
          3.625,
          4.125,
          4,
          4,
          4,
          3.75,
          4.5,
          4.333333333333333,
          4.5,
          4.083333333333333,
          4.333333333333333,
          3.6,
          3.8,
          3.6,
          3.875,
          3.5,
          3.6,
          3.6666666666666665,
          3.5,
          4,
          3.8333333333333335,
          4.166666666666667,
          4.2,
          3.3,
          4.25,
          3.75,
          3.7,
          3.8,
          4.75,
          4,
          3.3333333333333335,
          3.1,
          3.125,
          3.6,
          2.8333333333333335,
          3.6666666666666665,
          4.25,
          3.5,
          3.5,
          3.6666666666666665,
          3.6666666666666665,
          3.125,
          3.8333333333333335,
          3.5,
          3.6666666666666665,
          3.9,
          4,
          3.5,
          2.6666666666666665,
          3,
          3.1666666666666665,
          3.25,
          3.75,
          3.5,
          3.3333333333333335,
          3.75,
          3.75,
          3.75,
          4,
          3.6666666666666665,
          3.8,
          3.7142857142857144,
          3.8,
          3.7857142857142856,
          3.8333333333333335,
          4.2,
          3.8333333333333335,
          3.75,
          4,
          4,
          3.9,
          3.625,
          3.6666666666666665,
          3.8333333333333335,
          3.8333333333333335,
          3.75,
          3.875,
          3.5,
          4,
          3.9,
          4.166666666666667,
          3.75,
          3.75,
          3.875,
          4.5,
          3.857142857142857,
          3.5,
          3.6666666666666665,
          3.6666666666666665,
          3.625,
          3.5625,
          3.75,
          3.75,
          3.6,
          3.8,
          3.7857142857142856,
          4,
          3.8,
          4,
          3.8333333333333335,
          3.8333333333333335,
          3.75,
          3.625,
          3.8333333333333335,
          3.8,
          4.125,
          3.8333333333333335,
          3.6666666666666665,
          4,
          3.8333333333333335,
          4,
          3.5,
          3.75,
          3.75,
          3.5,
          3.8333333333333335,
          3.625,
          4,
          4,
          3.8333333333333335,
          3.875,
          4,
          4,
          3.75
         ]
        },
        {
         "line": {
          "width": 0
         },
         "marker": {
          "color": "#444"
         },
         "mode": "lines",
         "name": "max",
         "showlegend": false,
         "type": "scatter",
         "x": [
          "2023-07-01",
          "2023-07-02",
          "2023-07-03",
          "2023-07-04",
          "2023-07-05",
          "2023-07-06",
          "2023-07-07",
          "2023-07-08",
          "2023-07-09",
          "2023-07-10",
          "2023-07-11",
          "2023-07-12",
          "2023-07-13",
          "2023-07-14",
          "2023-07-15",
          "2023-07-16",
          "2023-07-17",
          "2023-07-18",
          "2023-07-19",
          "2023-07-20",
          "2023-07-21",
          "2023-07-22",
          "2023-07-23",
          "2023-07-24",
          "2023-07-25",
          "2023-07-26",
          "2023-07-27",
          "2023-07-28",
          "2023-07-29",
          "2023-07-30",
          "2023-07-31",
          "2023-08-01",
          "2023-08-02",
          "2023-08-03",
          "2023-08-04",
          "2023-08-05",
          "2023-08-06",
          "2023-08-07",
          "2023-08-08",
          "2023-08-09",
          "2023-08-10",
          "2023-08-11",
          "2023-08-12",
          "2023-08-13",
          "2023-08-14",
          "2023-08-15",
          "2023-08-16",
          "2023-08-17",
          "2023-08-18",
          "2023-08-19",
          "2023-08-20",
          "2023-08-21",
          "2023-08-22",
          "2023-08-23",
          "2023-08-24",
          "2023-08-25",
          "2023-08-26",
          "2023-08-27",
          "2023-08-28",
          "2023-08-29",
          "2023-08-30",
          "2023-08-31",
          "2023-09-01",
          "2023-09-02",
          "2023-09-03",
          "2023-09-04",
          "2023-09-05",
          "2023-09-06",
          "2023-09-07",
          "2023-09-08",
          "2023-09-09",
          "2023-09-10",
          "2023-09-11",
          "2023-09-12",
          "2023-09-13",
          "2023-09-14",
          "2023-09-15",
          "2023-09-16",
          "2023-09-17",
          "2023-09-18",
          "2023-09-19",
          "2023-09-20",
          "2023-09-21",
          "2023-09-22",
          "2023-09-23",
          "2023-09-24",
          "2023-09-25",
          "2023-09-26",
          "2023-09-27",
          "2023-09-28",
          "2023-09-29",
          "2023-09-30",
          "2023-10-01",
          "2023-10-02",
          "2023-10-03",
          "2023-10-04",
          "2023-10-05",
          "2023-10-06",
          "2023-10-07",
          "2023-10-08",
          "2023-10-09",
          "2023-10-10",
          "2023-10-11",
          "2023-10-12",
          "2023-10-13",
          "2023-10-14",
          "2023-10-15",
          "2023-10-16",
          "2023-10-17",
          "2023-10-18",
          "2023-10-19",
          "2023-10-20",
          "2023-10-21",
          "2023-10-22",
          "2023-10-23",
          "2023-10-24",
          "2023-10-25",
          "2023-10-26",
          "2023-10-27",
          "2023-10-28",
          "2023-10-29",
          "2023-10-30",
          "2023-10-31",
          "2023-11-01",
          "2023-11-02",
          "2023-11-03",
          "2023-11-04",
          "2023-11-05",
          "2023-11-06",
          "2023-11-07",
          "2023-11-08",
          "2023-11-09",
          "2023-11-10",
          "2023-11-11",
          "2023-11-12",
          "2023-11-13",
          "2023-11-14",
          "2023-11-15",
          "2023-11-16",
          "2023-11-17",
          "2023-11-18",
          "2023-11-19",
          "2023-11-20",
          "2023-11-21",
          "2023-11-22",
          "2023-11-23",
          "2023-11-24",
          "2023-11-25",
          "2023-11-26",
          "2023-11-27",
          "2023-11-28",
          "2023-11-29",
          "2023-11-30",
          "2023-12-01",
          "2023-12-02",
          "2023-12-03",
          "2023-12-04",
          "2023-12-05",
          "2023-12-06",
          "2023-12-07",
          "2023-12-08",
          "2023-12-09",
          "2023-12-10",
          "2023-12-11",
          "2023-12-12",
          "2023-12-13",
          "2023-12-14",
          "2023-12-15",
          "2023-12-16",
          "2023-12-17",
          "2023-12-18",
          "2023-12-19",
          "2023-12-20",
          "2023-12-21",
          "2023-12-22",
          "2023-12-23",
          "2023-12-24",
          "2023-12-25",
          "2023-12-26",
          "2023-12-27",
          "2023-12-28",
          "2023-12-29",
          "2023-12-30",
          "2023-12-31",
          "2024-01-01",
          "2024-01-02",
          "2024-01-03",
          "2024-01-04",
          "2024-01-05",
          "2024-01-06",
          "2024-01-07",
          "2024-01-08",
          "2024-01-09",
          "2024-01-10",
          "2024-01-11",
          "2024-01-12",
          "2024-01-13",
          "2024-01-14",
          "2024-01-15",
          "2024-01-16",
          "2024-01-17",
          "2024-01-18",
          "2024-01-19",
          "2024-01-20",
          "2024-01-21",
          "2024-01-22",
          "2024-01-23",
          "2024-01-24",
          "2024-01-25",
          "2024-01-26",
          "2024-01-27",
          "2024-01-28",
          "2024-01-29",
          "2024-01-30",
          "2024-01-31",
          "2024-02-01",
          "2024-02-02",
          "2024-02-03",
          "2024-02-04",
          "2024-02-05",
          "2024-02-06",
          "2024-02-07",
          "2024-02-08",
          "2024-02-09",
          "2024-02-10",
          "2024-02-11",
          "2024-02-12",
          "2024-02-13",
          "2024-02-14",
          "2024-02-15",
          "2024-02-16",
          "2024-02-17",
          "2024-02-18",
          "2024-02-19",
          "2024-02-20",
          "2024-02-21",
          "2024-02-22",
          "2024-02-23",
          "2024-02-24",
          "2024-02-25",
          "2024-02-26",
          "2024-02-27",
          "2024-02-28",
          "2024-02-29",
          "2024-03-01",
          "2024-03-02",
          "2024-03-03",
          "2024-03-04",
          "2024-03-05",
          "2024-03-06",
          "2024-03-07",
          "2024-03-08",
          "2024-03-09",
          "2024-03-10",
          "2024-03-11",
          "2024-03-12",
          "2024-03-13",
          "2024-03-14",
          "2024-03-15",
          "2024-03-16",
          "2024-03-17",
          "2024-03-18",
          "2024-03-19",
          "2024-03-20",
          "2024-03-21",
          "2024-03-22",
          "2024-03-23",
          "2024-03-24",
          "2024-03-25",
          "2024-03-26",
          "2024-03-27",
          "2024-03-28",
          "2024-03-29",
          "2024-03-30",
          "2024-03-31",
          "2024-04-01",
          "2024-04-02",
          "2024-04-03",
          "2024-04-04",
          "2024-04-05",
          "2024-04-06",
          "2024-04-07",
          "2024-04-08",
          "2024-04-09",
          "2024-04-10",
          "2024-04-11",
          "2024-04-12",
          "2024-04-13",
          "2024-04-14",
          "2024-04-15",
          "2024-04-16",
          "2024-04-17",
          "2024-04-18",
          "2024-04-19",
          "2024-04-20",
          "2024-04-21",
          "2024-04-22",
          "2024-04-23",
          "2024-04-24",
          "2024-04-25",
          "2024-04-26",
          "2024-04-27",
          "2024-04-28",
          "2024-04-29",
          "2024-04-30",
          "2024-05-01",
          "2024-05-02",
          "2024-05-03",
          "2024-05-04",
          "2024-05-05",
          "2024-05-06",
          "2024-05-07",
          "2024-05-08",
          "2024-05-09",
          "2024-05-10",
          "2024-05-11",
          "2024-05-12",
          "2024-05-13",
          "2024-05-14",
          "2024-05-15"
         ],
         "y": [
          4,
          4,
          5,
          3,
          4,
          4,
          3.5,
          5,
          4,
          5,
          4,
          3.5,
          5,
          5,
          3,
          4,
          4,
          5,
          4,
          4,
          4,
          4,
          3.5,
          4,
          4,
          4,
          4,
          4,
          4,
          4,
          4,
          5,
          5,
          4,
          4,
          4,
          4,
          4,
          5,
          5,
          4,
          4,
          4,
          5,
          4,
          4,
          5,
          3.5,
          4,
          5,
          4,
          4,
          5,
          4,
          3,
          4,
          4,
          2.5,
          4,
          4,
          4,
          4,
          5,
          4,
          4,
          5,
          4,
          3.5,
          4,
          4,
          4,
          5,
          4,
          5,
          4,
          3.5,
          4,
          5,
          4,
          3.5,
          4,
          4,
          4,
          4,
          4,
          4,
          4,
          4,
          5,
          4,
          4,
          4,
          5,
          5,
          5,
          5,
          4,
          5,
          4,
          4,
          4,
          3.5,
          4,
          4,
          5,
          4,
          5,
          3.5,
          4,
          6,
          5,
          5,
          4,
          4,
          4,
          3.5,
          4,
          4,
          5,
          6,
          5,
          5,
          3.5,
          5,
          4,
          4,
          4,
          4,
          4,
          4,
          5,
          5,
          4,
          5,
          5,
          4,
          4,
          4,
          5,
          3.5,
          4,
          4,
          3.5,
          3,
          4,
          4,
          4,
          4,
          4,
          4,
          4,
          4,
          4,
          3.5,
          4,
          4,
          4,
          3.5,
          4,
          4,
          4,
          4,
          4.5,
          4,
          4,
          5,
          4.5,
          4,
          5,
          5,
          4,
          4,
          4,
          4,
          4,
          5,
          4.5,
          5,
          5,
          4.5,
          4,
          4.5,
          4,
          4.5,
          4,
          4.5,
          4,
          4,
          4.5,
          4,
          4.5,
          3.5,
          4,
          4,
          4.5,
          4.5,
          4,
          4.5,
          4,
          4.5,
          4,
          4,
          4.5,
          5,
          4.5,
          5,
          5,
          4.5,
          4,
          4,
          4,
          3.5,
          4,
          4,
          4,
          4.5,
          4,
          4.5,
          5,
          4,
          5,
          4,
          4,
          4.5,
          5,
          4,
          3.5,
          3.5,
          3.5,
          4,
          3.5,
          4,
          4.5,
          3.5,
          3.5,
          4,
          4,
          4,
          4,
          4.5,
          4,
          4.5,
          4,
          4,
          3.5,
          3.5,
          4,
          3.5,
          4,
          3.5,
          3.5,
          4,
          4.5,
          4,
          4.5,
          4,
          4,
          4,
          4.5,
          4.5,
          4,
          4.5,
          4,
          4,
          4,
          4,
          4.5,
          4.5,
          4,
          4,
          4,
          4,
          4.5,
          4,
          4.5,
          4.5,
          4.5,
          4,
          4,
          4,
          5,
          4,
          4,
          4,
          4,
          4,
          4.5,
          4,
          4,
          4,
          4,
          4,
          4,
          4,
          4,
          4,
          4,
          4,
          4,
          4,
          4,
          4.5,
          4,
          4,
          4,
          4,
          4,
          4,
          4,
          4,
          4,
          4,
          4,
          4,
          4,
          4,
          4.5,
          4,
          4,
          4.5
         ]
        },
        {
         "fill": "tonexty",
         "fillcolor": "rgba(130, 130, 130, 0.45)",
         "line": {
          "width": 0
         },
         "marker": {
          "color": "#444"
         },
         "mode": "lines",
         "name": "min",
         "showlegend": false,
         "type": "scatter",
         "x": [
          "2023-07-01",
          "2023-07-02",
          "2023-07-03",
          "2023-07-04",
          "2023-07-05",
          "2023-07-06",
          "2023-07-07",
          "2023-07-08",
          "2023-07-09",
          "2023-07-10",
          "2023-07-11",
          "2023-07-12",
          "2023-07-13",
          "2023-07-14",
          "2023-07-15",
          "2023-07-16",
          "2023-07-17",
          "2023-07-18",
          "2023-07-19",
          "2023-07-20",
          "2023-07-21",
          "2023-07-22",
          "2023-07-23",
          "2023-07-24",
          "2023-07-25",
          "2023-07-26",
          "2023-07-27",
          "2023-07-28",
          "2023-07-29",
          "2023-07-30",
          "2023-07-31",
          "2023-08-01",
          "2023-08-02",
          "2023-08-03",
          "2023-08-04",
          "2023-08-05",
          "2023-08-06",
          "2023-08-07",
          "2023-08-08",
          "2023-08-09",
          "2023-08-10",
          "2023-08-11",
          "2023-08-12",
          "2023-08-13",
          "2023-08-14",
          "2023-08-15",
          "2023-08-16",
          "2023-08-17",
          "2023-08-18",
          "2023-08-19",
          "2023-08-20",
          "2023-08-21",
          "2023-08-22",
          "2023-08-23",
          "2023-08-24",
          "2023-08-25",
          "2023-08-26",
          "2023-08-27",
          "2023-08-28",
          "2023-08-29",
          "2023-08-30",
          "2023-08-31",
          "2023-09-01",
          "2023-09-02",
          "2023-09-03",
          "2023-09-04",
          "2023-09-05",
          "2023-09-06",
          "2023-09-07",
          "2023-09-08",
          "2023-09-09",
          "2023-09-10",
          "2023-09-11",
          "2023-09-12",
          "2023-09-13",
          "2023-09-14",
          "2023-09-15",
          "2023-09-16",
          "2023-09-17",
          "2023-09-18",
          "2023-09-19",
          "2023-09-20",
          "2023-09-21",
          "2023-09-22",
          "2023-09-23",
          "2023-09-24",
          "2023-09-25",
          "2023-09-26",
          "2023-09-27",
          "2023-09-28",
          "2023-09-29",
          "2023-09-30",
          "2023-10-01",
          "2023-10-02",
          "2023-10-03",
          "2023-10-04",
          "2023-10-05",
          "2023-10-06",
          "2023-10-07",
          "2023-10-08",
          "2023-10-09",
          "2023-10-10",
          "2023-10-11",
          "2023-10-12",
          "2023-10-13",
          "2023-10-14",
          "2023-10-15",
          "2023-10-16",
          "2023-10-17",
          "2023-10-18",
          "2023-10-19",
          "2023-10-20",
          "2023-10-21",
          "2023-10-22",
          "2023-10-23",
          "2023-10-24",
          "2023-10-25",
          "2023-10-26",
          "2023-10-27",
          "2023-10-28",
          "2023-10-29",
          "2023-10-30",
          "2023-10-31",
          "2023-11-01",
          "2023-11-02",
          "2023-11-03",
          "2023-11-04",
          "2023-11-05",
          "2023-11-06",
          "2023-11-07",
          "2023-11-08",
          "2023-11-09",
          "2023-11-10",
          "2023-11-11",
          "2023-11-12",
          "2023-11-13",
          "2023-11-14",
          "2023-11-15",
          "2023-11-16",
          "2023-11-17",
          "2023-11-18",
          "2023-11-19",
          "2023-11-20",
          "2023-11-21",
          "2023-11-22",
          "2023-11-23",
          "2023-11-24",
          "2023-11-25",
          "2023-11-26",
          "2023-11-27",
          "2023-11-28",
          "2023-11-29",
          "2023-11-30",
          "2023-12-01",
          "2023-12-02",
          "2023-12-03",
          "2023-12-04",
          "2023-12-05",
          "2023-12-06",
          "2023-12-07",
          "2023-12-08",
          "2023-12-09",
          "2023-12-10",
          "2023-12-11",
          "2023-12-12",
          "2023-12-13",
          "2023-12-14",
          "2023-12-15",
          "2023-12-16",
          "2023-12-17",
          "2023-12-18",
          "2023-12-19",
          "2023-12-20",
          "2023-12-21",
          "2023-12-22",
          "2023-12-23",
          "2023-12-24",
          "2023-12-25",
          "2023-12-26",
          "2023-12-27",
          "2023-12-28",
          "2023-12-29",
          "2023-12-30",
          "2023-12-31",
          "2024-01-01",
          "2024-01-02",
          "2024-01-03",
          "2024-01-04",
          "2024-01-05",
          "2024-01-06",
          "2024-01-07",
          "2024-01-08",
          "2024-01-09",
          "2024-01-10",
          "2024-01-11",
          "2024-01-12",
          "2024-01-13",
          "2024-01-14",
          "2024-01-15",
          "2024-01-16",
          "2024-01-17",
          "2024-01-18",
          "2024-01-19",
          "2024-01-20",
          "2024-01-21",
          "2024-01-22",
          "2024-01-23",
          "2024-01-24",
          "2024-01-25",
          "2024-01-26",
          "2024-01-27",
          "2024-01-28",
          "2024-01-29",
          "2024-01-30",
          "2024-01-31",
          "2024-02-01",
          "2024-02-02",
          "2024-02-03",
          "2024-02-04",
          "2024-02-05",
          "2024-02-06",
          "2024-02-07",
          "2024-02-08",
          "2024-02-09",
          "2024-02-10",
          "2024-02-11",
          "2024-02-12",
          "2024-02-13",
          "2024-02-14",
          "2024-02-15",
          "2024-02-16",
          "2024-02-17",
          "2024-02-18",
          "2024-02-19",
          "2024-02-20",
          "2024-02-21",
          "2024-02-22",
          "2024-02-23",
          "2024-02-24",
          "2024-02-25",
          "2024-02-26",
          "2024-02-27",
          "2024-02-28",
          "2024-02-29",
          "2024-03-01",
          "2024-03-02",
          "2024-03-03",
          "2024-03-04",
          "2024-03-05",
          "2024-03-06",
          "2024-03-07",
          "2024-03-08",
          "2024-03-09",
          "2024-03-10",
          "2024-03-11",
          "2024-03-12",
          "2024-03-13",
          "2024-03-14",
          "2024-03-15",
          "2024-03-16",
          "2024-03-17",
          "2024-03-18",
          "2024-03-19",
          "2024-03-20",
          "2024-03-21",
          "2024-03-22",
          "2024-03-23",
          "2024-03-24",
          "2024-03-25",
          "2024-03-26",
          "2024-03-27",
          "2024-03-28",
          "2024-03-29",
          "2024-03-30",
          "2024-03-31",
          "2024-04-01",
          "2024-04-02",
          "2024-04-03",
          "2024-04-04",
          "2024-04-05",
          "2024-04-06",
          "2024-04-07",
          "2024-04-08",
          "2024-04-09",
          "2024-04-10",
          "2024-04-11",
          "2024-04-12",
          "2024-04-13",
          "2024-04-14",
          "2024-04-15",
          "2024-04-16",
          "2024-04-17",
          "2024-04-18",
          "2024-04-19",
          "2024-04-20",
          "2024-04-21",
          "2024-04-22",
          "2024-04-23",
          "2024-04-24",
          "2024-04-25",
          "2024-04-26",
          "2024-04-27",
          "2024-04-28",
          "2024-04-29",
          "2024-04-30",
          "2024-05-01",
          "2024-05-02",
          "2024-05-03",
          "2024-05-04",
          "2024-05-05",
          "2024-05-06",
          "2024-05-07",
          "2024-05-08",
          "2024-05-09",
          "2024-05-10",
          "2024-05-11",
          "2024-05-12",
          "2024-05-13",
          "2024-05-14",
          "2024-05-15"
         ],
         "y": [
          4,
          4,
          4,
          3,
          4,
          4,
          3.5,
          3,
          2,
          4,
          3.5,
          3,
          4,
          4,
          3,
          4,
          2,
          4,
          2.5,
          2,
          2.5,
          3,
          3.5,
          3,
          3,
          2,
          3.5,
          2,
          2.5,
          2.5,
          3,
          3,
          3.5,
          3,
          3.5,
          3.5,
          2,
          3,
          4,
          3,
          3.5,
          3.5,
          4,
          3.5,
          4,
          3.5,
          3.5,
          3.5,
          4,
          4,
          3.5,
          3.5,
          4,
          4,
          3,
          3.5,
          4,
          2,
          4,
          2,
          4,
          4,
          4,
          3.5,
          4,
          5,
          4,
          3.5,
          4,
          4,
          4,
          4,
          3.5,
          4,
          4,
          3,
          3.5,
          5,
          4,
          3.5,
          4,
          4,
          4,
          3.5,
          4,
          4,
          4,
          4,
          3.5,
          4,
          3.5,
          3,
          3,
          3.5,
          4,
          4,
          3.5,
          3.5,
          3.5,
          3.5,
          4,
          3.5,
          4,
          4,
          3.5,
          4,
          5,
          3.5,
          4,
          3.5,
          3.5,
          3.5,
          4,
          4,
          3.5,
          3,
          3.5,
          3.5,
          4,
          5,
          4,
          3.5,
          3,
          3.5,
          3.5,
          3,
          3.5,
          3,
          3,
          3.5,
          4,
          3.5,
          2,
          4,
          4,
          3.5,
          2,
          3.5,
          3,
          2.5,
          4,
          3,
          3.5,
          3,
          4,
          3.5,
          4,
          4,
          4,
          3.5,
          3,
          3.5,
          3.5,
          3,
          3.5,
          3.5,
          4,
          3,
          4,
          3.5,
          3,
          3.5,
          4,
          4,
          3.5,
          3.5,
          3.5,
          4,
          5,
          3,
          4,
          3.5,
          3.5,
          3.5,
          3.5,
          4,
          3,
          4,
          3,
          4,
          2,
          4,
          3.5,
          2.5,
          4,
          4,
          3.5,
          3.5,
          4,
          3.5,
          4,
          3.5,
          4,
          3.5,
          3.5,
          4,
          3,
          3.5,
          4,
          3.5,
          4,
          3.5,
          4.5,
          3.5,
          4.5,
          3.5,
          4,
          2.5,
          3.5,
          3,
          3.5,
          3.5,
          3.5,
          3.5,
          3,
          3.5,
          3.5,
          4,
          3.5,
          2,
          4,
          3.5,
          3.5,
          3.5,
          4.5,
          4,
          3,
          2.5,
          3,
          3.5,
          2.5,
          3.5,
          4,
          3.5,
          3.5,
          3.5,
          3.5,
          2.5,
          3.5,
          2.5,
          3.5,
          3,
          4,
          3,
          2,
          2,
          2,
          3,
          3.5,
          3.5,
          3,
          3,
          3.5,
          3.5,
          3.5,
          3.5,
          3.5,
          3,
          3,
          3,
          3.5,
          3.5,
          3.5,
          3.5,
          4,
          4,
          3,
          2.5,
          3.5,
          3.5,
          3.5,
          3.5,
          3,
          3,
          3.5,
          3,
          4,
          3.5,
          3,
          3.5,
          4,
          3.5,
          3,
          3.5,
          3.5,
          3,
          2,
          3.5,
          3.5,
          2.5,
          3.5,
          3,
          4,
          3.5,
          4,
          3.5,
          3.5,
          3.5,
          3,
          3.5,
          3.5,
          4,
          3.5,
          3.5,
          4,
          3.5,
          4,
          3,
          3.5,
          3,
          3,
          3.5,
          3.5,
          4,
          4,
          3,
          3,
          4,
          4,
          3.5
         ]
        }
       ],
       "layout": {
        "hovermode": "x",
        "showlegend": false,
        "template": {
         "data": {
          "bar": [
           {
            "error_x": {
             "color": "#f2f5fa"
            },
            "error_y": {
             "color": "#f2f5fa"
            },
            "marker": {
             "line": {
              "color": "rgb(17,17,17)",
              "width": 0.5
             },
             "pattern": {
              "fillmode": "overlay",
              "size": 10,
              "solidity": 0.2
             }
            },
            "type": "bar"
           }
          ],
          "barpolar": [
           {
            "marker": {
             "line": {
              "color": "rgb(17,17,17)",
              "width": 0.5
             },
             "pattern": {
              "fillmode": "overlay",
              "size": 10,
              "solidity": 0.2
             }
            },
            "type": "barpolar"
           }
          ],
          "carpet": [
           {
            "aaxis": {
             "endlinecolor": "#A2B1C6",
             "gridcolor": "#506784",
             "linecolor": "#506784",
             "minorgridcolor": "#506784",
             "startlinecolor": "#A2B1C6"
            },
            "baxis": {
             "endlinecolor": "#A2B1C6",
             "gridcolor": "#506784",
             "linecolor": "#506784",
             "minorgridcolor": "#506784",
             "startlinecolor": "#A2B1C6"
            },
            "type": "carpet"
           }
          ],
          "choropleth": [
           {
            "colorbar": {
             "outlinewidth": 0,
             "ticks": ""
            },
            "type": "choropleth"
           }
          ],
          "contour": [
           {
            "colorbar": {
             "outlinewidth": 0,
             "ticks": ""
            },
            "colorscale": [
             [
              0,
              "#0d0887"
             ],
             [
              0.1111111111111111,
              "#46039f"
             ],
             [
              0.2222222222222222,
              "#7201a8"
             ],
             [
              0.3333333333333333,
              "#9c179e"
             ],
             [
              0.4444444444444444,
              "#bd3786"
             ],
             [
              0.5555555555555556,
              "#d8576b"
             ],
             [
              0.6666666666666666,
              "#ed7953"
             ],
             [
              0.7777777777777778,
              "#fb9f3a"
             ],
             [
              0.8888888888888888,
              "#fdca26"
             ],
             [
              1,
              "#f0f921"
             ]
            ],
            "type": "contour"
           }
          ],
          "contourcarpet": [
           {
            "colorbar": {
             "outlinewidth": 0,
             "ticks": ""
            },
            "type": "contourcarpet"
           }
          ],
          "heatmap": [
           {
            "colorbar": {
             "outlinewidth": 0,
             "ticks": ""
            },
            "colorscale": [
             [
              0,
              "#0d0887"
             ],
             [
              0.1111111111111111,
              "#46039f"
             ],
             [
              0.2222222222222222,
              "#7201a8"
             ],
             [
              0.3333333333333333,
              "#9c179e"
             ],
             [
              0.4444444444444444,
              "#bd3786"
             ],
             [
              0.5555555555555556,
              "#d8576b"
             ],
             [
              0.6666666666666666,
              "#ed7953"
             ],
             [
              0.7777777777777778,
              "#fb9f3a"
             ],
             [
              0.8888888888888888,
              "#fdca26"
             ],
             [
              1,
              "#f0f921"
             ]
            ],
            "type": "heatmap"
           }
          ],
          "heatmapgl": [
           {
            "colorbar": {
             "outlinewidth": 0,
             "ticks": ""
            },
            "colorscale": [
             [
              0,
              "#0d0887"
             ],
             [
              0.1111111111111111,
              "#46039f"
             ],
             [
              0.2222222222222222,
              "#7201a8"
             ],
             [
              0.3333333333333333,
              "#9c179e"
             ],
             [
              0.4444444444444444,
              "#bd3786"
             ],
             [
              0.5555555555555556,
              "#d8576b"
             ],
             [
              0.6666666666666666,
              "#ed7953"
             ],
             [
              0.7777777777777778,
              "#fb9f3a"
             ],
             [
              0.8888888888888888,
              "#fdca26"
             ],
             [
              1,
              "#f0f921"
             ]
            ],
            "type": "heatmapgl"
           }
          ],
          "histogram": [
           {
            "marker": {
             "pattern": {
              "fillmode": "overlay",
              "size": 10,
              "solidity": 0.2
             }
            },
            "type": "histogram"
           }
          ],
          "histogram2d": [
           {
            "colorbar": {
             "outlinewidth": 0,
             "ticks": ""
            },
            "colorscale": [
             [
              0,
              "#0d0887"
             ],
             [
              0.1111111111111111,
              "#46039f"
             ],
             [
              0.2222222222222222,
              "#7201a8"
             ],
             [
              0.3333333333333333,
              "#9c179e"
             ],
             [
              0.4444444444444444,
              "#bd3786"
             ],
             [
              0.5555555555555556,
              "#d8576b"
             ],
             [
              0.6666666666666666,
              "#ed7953"
             ],
             [
              0.7777777777777778,
              "#fb9f3a"
             ],
             [
              0.8888888888888888,
              "#fdca26"
             ],
             [
              1,
              "#f0f921"
             ]
            ],
            "type": "histogram2d"
           }
          ],
          "histogram2dcontour": [
           {
            "colorbar": {
             "outlinewidth": 0,
             "ticks": ""
            },
            "colorscale": [
             [
              0,
              "#0d0887"
             ],
             [
              0.1111111111111111,
              "#46039f"
             ],
             [
              0.2222222222222222,
              "#7201a8"
             ],
             [
              0.3333333333333333,
              "#9c179e"
             ],
             [
              0.4444444444444444,
              "#bd3786"
             ],
             [
              0.5555555555555556,
              "#d8576b"
             ],
             [
              0.6666666666666666,
              "#ed7953"
             ],
             [
              0.7777777777777778,
              "#fb9f3a"
             ],
             [
              0.8888888888888888,
              "#fdca26"
             ],
             [
              1,
              "#f0f921"
             ]
            ],
            "type": "histogram2dcontour"
           }
          ],
          "mesh3d": [
           {
            "colorbar": {
             "outlinewidth": 0,
             "ticks": ""
            },
            "type": "mesh3d"
           }
          ],
          "parcoords": [
           {
            "line": {
             "colorbar": {
              "outlinewidth": 0,
              "ticks": ""
             }
            },
            "type": "parcoords"
           }
          ],
          "pie": [
           {
            "automargin": true,
            "type": "pie"
           }
          ],
          "scatter": [
           {
            "marker": {
             "line": {
              "color": "#283442"
             }
            },
            "type": "scatter"
           }
          ],
          "scatter3d": [
           {
            "line": {
             "colorbar": {
              "outlinewidth": 0,
              "ticks": ""
             }
            },
            "marker": {
             "colorbar": {
              "outlinewidth": 0,
              "ticks": ""
             }
            },
            "type": "scatter3d"
           }
          ],
          "scattercarpet": [
           {
            "marker": {
             "colorbar": {
              "outlinewidth": 0,
              "ticks": ""
             }
            },
            "type": "scattercarpet"
           }
          ],
          "scattergeo": [
           {
            "marker": {
             "colorbar": {
              "outlinewidth": 0,
              "ticks": ""
             }
            },
            "type": "scattergeo"
           }
          ],
          "scattergl": [
           {
            "marker": {
             "line": {
              "color": "#283442"
             }
            },
            "type": "scattergl"
           }
          ],
          "scattermapbox": [
           {
            "marker": {
             "colorbar": {
              "outlinewidth": 0,
              "ticks": ""
             }
            },
            "type": "scattermapbox"
           }
          ],
          "scatterpolar": [
           {
            "marker": {
             "colorbar": {
              "outlinewidth": 0,
              "ticks": ""
             }
            },
            "type": "scatterpolar"
           }
          ],
          "scatterpolargl": [
           {
            "marker": {
             "colorbar": {
              "outlinewidth": 0,
              "ticks": ""
             }
            },
            "type": "scatterpolargl"
           }
          ],
          "scatterternary": [
           {
            "marker": {
             "colorbar": {
              "outlinewidth": 0,
              "ticks": ""
             }
            },
            "type": "scatterternary"
           }
          ],
          "surface": [
           {
            "colorbar": {
             "outlinewidth": 0,
             "ticks": ""
            },
            "colorscale": [
             [
              0,
              "#0d0887"
             ],
             [
              0.1111111111111111,
              "#46039f"
             ],
             [
              0.2222222222222222,
              "#7201a8"
             ],
             [
              0.3333333333333333,
              "#9c179e"
             ],
             [
              0.4444444444444444,
              "#bd3786"
             ],
             [
              0.5555555555555556,
              "#d8576b"
             ],
             [
              0.6666666666666666,
              "#ed7953"
             ],
             [
              0.7777777777777778,
              "#fb9f3a"
             ],
             [
              0.8888888888888888,
              "#fdca26"
             ],
             [
              1,
              "#f0f921"
             ]
            ],
            "type": "surface"
           }
          ],
          "table": [
           {
            "cells": {
             "fill": {
              "color": "#506784"
             },
             "line": {
              "color": "rgb(17,17,17)"
             }
            },
            "header": {
             "fill": {
              "color": "#2a3f5f"
             },
             "line": {
              "color": "rgb(17,17,17)"
             }
            },
            "type": "table"
           }
          ]
         },
         "layout": {
          "annotationdefaults": {
           "arrowcolor": "#f2f5fa",
           "arrowhead": 0,
           "arrowwidth": 1
          },
          "autotypenumbers": "strict",
          "coloraxis": {
           "colorbar": {
            "outlinewidth": 0,
            "ticks": ""
           }
          },
          "colorscale": {
           "diverging": [
            [
             0,
             "#8e0152"
            ],
            [
             0.1,
             "#c51b7d"
            ],
            [
             0.2,
             "#de77ae"
            ],
            [
             0.3,
             "#f1b6da"
            ],
            [
             0.4,
             "#fde0ef"
            ],
            [
             0.5,
             "#f7f7f7"
            ],
            [
             0.6,
             "#e6f5d0"
            ],
            [
             0.7,
             "#b8e186"
            ],
            [
             0.8,
             "#7fbc41"
            ],
            [
             0.9,
             "#4d9221"
            ],
            [
             1,
             "#276419"
            ]
           ],
           "sequential": [
            [
             0,
             "#0d0887"
            ],
            [
             0.1111111111111111,
             "#46039f"
            ],
            [
             0.2222222222222222,
             "#7201a8"
            ],
            [
             0.3333333333333333,
             "#9c179e"
            ],
            [
             0.4444444444444444,
             "#bd3786"
            ],
            [
             0.5555555555555556,
             "#d8576b"
            ],
            [
             0.6666666666666666,
             "#ed7953"
            ],
            [
             0.7777777777777778,
             "#fb9f3a"
            ],
            [
             0.8888888888888888,
             "#fdca26"
            ],
            [
             1,
             "#f0f921"
            ]
           ],
           "sequentialminus": [
            [
             0,
             "#0d0887"
            ],
            [
             0.1111111111111111,
             "#46039f"
            ],
            [
             0.2222222222222222,
             "#7201a8"
            ],
            [
             0.3333333333333333,
             "#9c179e"
            ],
            [
             0.4444444444444444,
             "#bd3786"
            ],
            [
             0.5555555555555556,
             "#d8576b"
            ],
            [
             0.6666666666666666,
             "#ed7953"
            ],
            [
             0.7777777777777778,
             "#fb9f3a"
            ],
            [
             0.8888888888888888,
             "#fdca26"
            ],
            [
             1,
             "#f0f921"
            ]
           ]
          },
          "colorway": [
           "#636efa",
           "#EF553B",
           "#00cc96",
           "#ab63fa",
           "#FFA15A",
           "#19d3f3",
           "#FF6692",
           "#B6E880",
           "#FF97FF",
           "#FECB52"
          ],
          "font": {
           "color": "#f2f5fa"
          },
          "geo": {
           "bgcolor": "rgb(17,17,17)",
           "lakecolor": "rgb(17,17,17)",
           "landcolor": "rgb(17,17,17)",
           "showlakes": true,
           "showland": true,
           "subunitcolor": "#506784"
          },
          "hoverlabel": {
           "align": "left"
          },
          "hovermode": "closest",
          "mapbox": {
           "style": "dark"
          },
          "paper_bgcolor": "rgb(17,17,17)",
          "plot_bgcolor": "rgb(17,17,17)",
          "polar": {
           "angularaxis": {
            "gridcolor": "#506784",
            "linecolor": "#506784",
            "ticks": ""
           },
           "bgcolor": "rgb(17,17,17)",
           "radialaxis": {
            "gridcolor": "#506784",
            "linecolor": "#506784",
            "ticks": ""
           }
          },
          "scene": {
           "xaxis": {
            "backgroundcolor": "rgb(17,17,17)",
            "gridcolor": "#506784",
            "gridwidth": 2,
            "linecolor": "#506784",
            "showbackground": true,
            "ticks": "",
            "zerolinecolor": "#C8D4E3"
           },
           "yaxis": {
            "backgroundcolor": "rgb(17,17,17)",
            "gridcolor": "#506784",
            "gridwidth": 2,
            "linecolor": "#506784",
            "showbackground": true,
            "ticks": "",
            "zerolinecolor": "#C8D4E3"
           },
           "zaxis": {
            "backgroundcolor": "rgb(17,17,17)",
            "gridcolor": "#506784",
            "gridwidth": 2,
            "linecolor": "#506784",
            "showbackground": true,
            "ticks": "",
            "zerolinecolor": "#C8D4E3"
           }
          },
          "shapedefaults": {
           "line": {
            "color": "#f2f5fa"
           }
          },
          "sliderdefaults": {
           "bgcolor": "#C8D4E3",
           "bordercolor": "rgb(17,17,17)",
           "borderwidth": 1,
           "tickwidth": 0
          },
          "ternary": {
           "aaxis": {
            "gridcolor": "#506784",
            "linecolor": "#506784",
            "ticks": ""
           },
           "baxis": {
            "gridcolor": "#506784",
            "linecolor": "#506784",
            "ticks": ""
           },
           "bgcolor": "rgb(17,17,17)",
           "caxis": {
            "gridcolor": "#506784",
            "linecolor": "#506784",
            "ticks": ""
           }
          },
          "title": {
           "x": 0.05
          },
          "updatemenudefaults": {
           "bgcolor": "#506784",
           "borderwidth": 0
          },
          "xaxis": {
           "automargin": true,
           "gridcolor": "#283442",
           "linecolor": "#506784",
           "ticks": "",
           "title": {
            "standoff": 15
           },
           "zerolinecolor": "#283442",
           "zerolinewidth": 2
          },
          "yaxis": {
           "automargin": true,
           "gridcolor": "#283442",
           "linecolor": "#506784",
           "ticks": "",
           "title": {
            "standoff": 15
           },
           "zerolinecolor": "#283442",
           "zerolinewidth": 2
          }
         }
        },
        "xaxis": {
         "title": {
          "text": "Date"
         }
        },
        "yaxis": {
         "rangemode": "tozero",
         "title": {
          "text": "Mood"
         }
        }
       }
      }
     },
     "metadata": {},
     "output_type": "display_data"
    }
   ],
   "source": [
    "df.mood_plot('day')"
   ]
  },
  {
   "cell_type": "code",
   "execution_count": 9,
   "metadata": {
    "metadata": {}
   },
   "outputs": [
    {
     "data": {
      "application/vnd.plotly.v1+json": {
       "config": {
        "plotlyServerURL": "https://plot.ly"
       },
       "data": [
        {
         "line": {
          "color": "rgb(31, 119, 180)"
         },
         "marker": {
          "color": [
           95,
           97,
           58,
           71,
           109,
           95,
           94,
           108,
           123,
           121,
           56
          ],
          "colorbar": {
           "title": {
            "text": "Number of entries"
           }
          },
          "colorscale": [
           [
            0,
            "rgb(0,0,255)"
           ],
           [
            1,
            "rgb(255,0,0)"
           ]
          ],
          "showscale": true,
          "size": 10
         },
         "mode": "lines+markers",
         "name": "avg",
         "type": "scatter",
         "x": [
          "2023-07-01",
          "2023-08-01",
          "2023-09-01",
          "2023-10-01",
          "2023-11-01",
          "2023-12-01",
          "2024-01-01",
          "2024-02-01",
          "2024-03-01",
          "2024-04-01",
          "2024-05-01"
         ],
         "y": [
          3.5894736842105264,
          3.8247422680412373,
          3.9741379310344827,
          4.063380281690141,
          3.7844036697247705,
          3.9105263157894736,
          3.904255319148936,
          3.662037037037037,
          3.6910569105691056,
          3.7975206611570247,
          3.7857142857142856
         ]
        },
        {
         "line": {
          "width": 0
         },
         "marker": {
          "color": "#444"
         },
         "mode": "lines",
         "name": "max",
         "showlegend": false,
         "type": "scatter",
         "x": [
          "2023-07-01",
          "2023-08-01",
          "2023-09-01",
          "2023-10-01",
          "2023-11-01",
          "2023-12-01",
          "2024-01-01",
          "2024-02-01",
          "2024-03-01",
          "2024-04-01",
          "2024-05-01"
         ],
         "y": [
          5,
          5,
          5,
          6,
          5,
          5,
          5,
          5,
          4.5,
          5,
          4.5
         ]
        },
        {
         "fill": "tonexty",
         "fillcolor": "rgba(130, 130, 130, 0.45)",
         "line": {
          "width": 0
         },
         "marker": {
          "color": "#444"
         },
         "mode": "lines",
         "name": "min",
         "showlegend": false,
         "type": "scatter",
         "x": [
          "2023-07-01",
          "2023-08-01",
          "2023-09-01",
          "2023-10-01",
          "2023-11-01",
          "2023-12-01",
          "2024-01-01",
          "2024-02-01",
          "2024-03-01",
          "2024-04-01",
          "2024-05-01"
         ],
         "y": [
          2,
          2,
          3,
          3,
          2,
          2,
          2.5,
          2,
          2,
          2,
          3
         ]
        }
       ],
       "layout": {
        "hovermode": "x",
        "showlegend": false,
        "template": {
         "data": {
          "bar": [
           {
            "error_x": {
             "color": "#f2f5fa"
            },
            "error_y": {
             "color": "#f2f5fa"
            },
            "marker": {
             "line": {
              "color": "rgb(17,17,17)",
              "width": 0.5
             },
             "pattern": {
              "fillmode": "overlay",
              "size": 10,
              "solidity": 0.2
             }
            },
            "type": "bar"
           }
          ],
          "barpolar": [
           {
            "marker": {
             "line": {
              "color": "rgb(17,17,17)",
              "width": 0.5
             },
             "pattern": {
              "fillmode": "overlay",
              "size": 10,
              "solidity": 0.2
             }
            },
            "type": "barpolar"
           }
          ],
          "carpet": [
           {
            "aaxis": {
             "endlinecolor": "#A2B1C6",
             "gridcolor": "#506784",
             "linecolor": "#506784",
             "minorgridcolor": "#506784",
             "startlinecolor": "#A2B1C6"
            },
            "baxis": {
             "endlinecolor": "#A2B1C6",
             "gridcolor": "#506784",
             "linecolor": "#506784",
             "minorgridcolor": "#506784",
             "startlinecolor": "#A2B1C6"
            },
            "type": "carpet"
           }
          ],
          "choropleth": [
           {
            "colorbar": {
             "outlinewidth": 0,
             "ticks": ""
            },
            "type": "choropleth"
           }
          ],
          "contour": [
           {
            "colorbar": {
             "outlinewidth": 0,
             "ticks": ""
            },
            "colorscale": [
             [
              0,
              "#0d0887"
             ],
             [
              0.1111111111111111,
              "#46039f"
             ],
             [
              0.2222222222222222,
              "#7201a8"
             ],
             [
              0.3333333333333333,
              "#9c179e"
             ],
             [
              0.4444444444444444,
              "#bd3786"
             ],
             [
              0.5555555555555556,
              "#d8576b"
             ],
             [
              0.6666666666666666,
              "#ed7953"
             ],
             [
              0.7777777777777778,
              "#fb9f3a"
             ],
             [
              0.8888888888888888,
              "#fdca26"
             ],
             [
              1,
              "#f0f921"
             ]
            ],
            "type": "contour"
           }
          ],
          "contourcarpet": [
           {
            "colorbar": {
             "outlinewidth": 0,
             "ticks": ""
            },
            "type": "contourcarpet"
           }
          ],
          "heatmap": [
           {
            "colorbar": {
             "outlinewidth": 0,
             "ticks": ""
            },
            "colorscale": [
             [
              0,
              "#0d0887"
             ],
             [
              0.1111111111111111,
              "#46039f"
             ],
             [
              0.2222222222222222,
              "#7201a8"
             ],
             [
              0.3333333333333333,
              "#9c179e"
             ],
             [
              0.4444444444444444,
              "#bd3786"
             ],
             [
              0.5555555555555556,
              "#d8576b"
             ],
             [
              0.6666666666666666,
              "#ed7953"
             ],
             [
              0.7777777777777778,
              "#fb9f3a"
             ],
             [
              0.8888888888888888,
              "#fdca26"
             ],
             [
              1,
              "#f0f921"
             ]
            ],
            "type": "heatmap"
           }
          ],
          "heatmapgl": [
           {
            "colorbar": {
             "outlinewidth": 0,
             "ticks": ""
            },
            "colorscale": [
             [
              0,
              "#0d0887"
             ],
             [
              0.1111111111111111,
              "#46039f"
             ],
             [
              0.2222222222222222,
              "#7201a8"
             ],
             [
              0.3333333333333333,
              "#9c179e"
             ],
             [
              0.4444444444444444,
              "#bd3786"
             ],
             [
              0.5555555555555556,
              "#d8576b"
             ],
             [
              0.6666666666666666,
              "#ed7953"
             ],
             [
              0.7777777777777778,
              "#fb9f3a"
             ],
             [
              0.8888888888888888,
              "#fdca26"
             ],
             [
              1,
              "#f0f921"
             ]
            ],
            "type": "heatmapgl"
           }
          ],
          "histogram": [
           {
            "marker": {
             "pattern": {
              "fillmode": "overlay",
              "size": 10,
              "solidity": 0.2
             }
            },
            "type": "histogram"
           }
          ],
          "histogram2d": [
           {
            "colorbar": {
             "outlinewidth": 0,
             "ticks": ""
            },
            "colorscale": [
             [
              0,
              "#0d0887"
             ],
             [
              0.1111111111111111,
              "#46039f"
             ],
             [
              0.2222222222222222,
              "#7201a8"
             ],
             [
              0.3333333333333333,
              "#9c179e"
             ],
             [
              0.4444444444444444,
              "#bd3786"
             ],
             [
              0.5555555555555556,
              "#d8576b"
             ],
             [
              0.6666666666666666,
              "#ed7953"
             ],
             [
              0.7777777777777778,
              "#fb9f3a"
             ],
             [
              0.8888888888888888,
              "#fdca26"
             ],
             [
              1,
              "#f0f921"
             ]
            ],
            "type": "histogram2d"
           }
          ],
          "histogram2dcontour": [
           {
            "colorbar": {
             "outlinewidth": 0,
             "ticks": ""
            },
            "colorscale": [
             [
              0,
              "#0d0887"
             ],
             [
              0.1111111111111111,
              "#46039f"
             ],
             [
              0.2222222222222222,
              "#7201a8"
             ],
             [
              0.3333333333333333,
              "#9c179e"
             ],
             [
              0.4444444444444444,
              "#bd3786"
             ],
             [
              0.5555555555555556,
              "#d8576b"
             ],
             [
              0.6666666666666666,
              "#ed7953"
             ],
             [
              0.7777777777777778,
              "#fb9f3a"
             ],
             [
              0.8888888888888888,
              "#fdca26"
             ],
             [
              1,
              "#f0f921"
             ]
            ],
            "type": "histogram2dcontour"
           }
          ],
          "mesh3d": [
           {
            "colorbar": {
             "outlinewidth": 0,
             "ticks": ""
            },
            "type": "mesh3d"
           }
          ],
          "parcoords": [
           {
            "line": {
             "colorbar": {
              "outlinewidth": 0,
              "ticks": ""
             }
            },
            "type": "parcoords"
           }
          ],
          "pie": [
           {
            "automargin": true,
            "type": "pie"
           }
          ],
          "scatter": [
           {
            "marker": {
             "line": {
              "color": "#283442"
             }
            },
            "type": "scatter"
           }
          ],
          "scatter3d": [
           {
            "line": {
             "colorbar": {
              "outlinewidth": 0,
              "ticks": ""
             }
            },
            "marker": {
             "colorbar": {
              "outlinewidth": 0,
              "ticks": ""
             }
            },
            "type": "scatter3d"
           }
          ],
          "scattercarpet": [
           {
            "marker": {
             "colorbar": {
              "outlinewidth": 0,
              "ticks": ""
             }
            },
            "type": "scattercarpet"
           }
          ],
          "scattergeo": [
           {
            "marker": {
             "colorbar": {
              "outlinewidth": 0,
              "ticks": ""
             }
            },
            "type": "scattergeo"
           }
          ],
          "scattergl": [
           {
            "marker": {
             "line": {
              "color": "#283442"
             }
            },
            "type": "scattergl"
           }
          ],
          "scattermapbox": [
           {
            "marker": {
             "colorbar": {
              "outlinewidth": 0,
              "ticks": ""
             }
            },
            "type": "scattermapbox"
           }
          ],
          "scatterpolar": [
           {
            "marker": {
             "colorbar": {
              "outlinewidth": 0,
              "ticks": ""
             }
            },
            "type": "scatterpolar"
           }
          ],
          "scatterpolargl": [
           {
            "marker": {
             "colorbar": {
              "outlinewidth": 0,
              "ticks": ""
             }
            },
            "type": "scatterpolargl"
           }
          ],
          "scatterternary": [
           {
            "marker": {
             "colorbar": {
              "outlinewidth": 0,
              "ticks": ""
             }
            },
            "type": "scatterternary"
           }
          ],
          "surface": [
           {
            "colorbar": {
             "outlinewidth": 0,
             "ticks": ""
            },
            "colorscale": [
             [
              0,
              "#0d0887"
             ],
             [
              0.1111111111111111,
              "#46039f"
             ],
             [
              0.2222222222222222,
              "#7201a8"
             ],
             [
              0.3333333333333333,
              "#9c179e"
             ],
             [
              0.4444444444444444,
              "#bd3786"
             ],
             [
              0.5555555555555556,
              "#d8576b"
             ],
             [
              0.6666666666666666,
              "#ed7953"
             ],
             [
              0.7777777777777778,
              "#fb9f3a"
             ],
             [
              0.8888888888888888,
              "#fdca26"
             ],
             [
              1,
              "#f0f921"
             ]
            ],
            "type": "surface"
           }
          ],
          "table": [
           {
            "cells": {
             "fill": {
              "color": "#506784"
             },
             "line": {
              "color": "rgb(17,17,17)"
             }
            },
            "header": {
             "fill": {
              "color": "#2a3f5f"
             },
             "line": {
              "color": "rgb(17,17,17)"
             }
            },
            "type": "table"
           }
          ]
         },
         "layout": {
          "annotationdefaults": {
           "arrowcolor": "#f2f5fa",
           "arrowhead": 0,
           "arrowwidth": 1
          },
          "autotypenumbers": "strict",
          "coloraxis": {
           "colorbar": {
            "outlinewidth": 0,
            "ticks": ""
           }
          },
          "colorscale": {
           "diverging": [
            [
             0,
             "#8e0152"
            ],
            [
             0.1,
             "#c51b7d"
            ],
            [
             0.2,
             "#de77ae"
            ],
            [
             0.3,
             "#f1b6da"
            ],
            [
             0.4,
             "#fde0ef"
            ],
            [
             0.5,
             "#f7f7f7"
            ],
            [
             0.6,
             "#e6f5d0"
            ],
            [
             0.7,
             "#b8e186"
            ],
            [
             0.8,
             "#7fbc41"
            ],
            [
             0.9,
             "#4d9221"
            ],
            [
             1,
             "#276419"
            ]
           ],
           "sequential": [
            [
             0,
             "#0d0887"
            ],
            [
             0.1111111111111111,
             "#46039f"
            ],
            [
             0.2222222222222222,
             "#7201a8"
            ],
            [
             0.3333333333333333,
             "#9c179e"
            ],
            [
             0.4444444444444444,
             "#bd3786"
            ],
            [
             0.5555555555555556,
             "#d8576b"
            ],
            [
             0.6666666666666666,
             "#ed7953"
            ],
            [
             0.7777777777777778,
             "#fb9f3a"
            ],
            [
             0.8888888888888888,
             "#fdca26"
            ],
            [
             1,
             "#f0f921"
            ]
           ],
           "sequentialminus": [
            [
             0,
             "#0d0887"
            ],
            [
             0.1111111111111111,
             "#46039f"
            ],
            [
             0.2222222222222222,
             "#7201a8"
            ],
            [
             0.3333333333333333,
             "#9c179e"
            ],
            [
             0.4444444444444444,
             "#bd3786"
            ],
            [
             0.5555555555555556,
             "#d8576b"
            ],
            [
             0.6666666666666666,
             "#ed7953"
            ],
            [
             0.7777777777777778,
             "#fb9f3a"
            ],
            [
             0.8888888888888888,
             "#fdca26"
            ],
            [
             1,
             "#f0f921"
            ]
           ]
          },
          "colorway": [
           "#636efa",
           "#EF553B",
           "#00cc96",
           "#ab63fa",
           "#FFA15A",
           "#19d3f3",
           "#FF6692",
           "#B6E880",
           "#FF97FF",
           "#FECB52"
          ],
          "font": {
           "color": "#f2f5fa"
          },
          "geo": {
           "bgcolor": "rgb(17,17,17)",
           "lakecolor": "rgb(17,17,17)",
           "landcolor": "rgb(17,17,17)",
           "showlakes": true,
           "showland": true,
           "subunitcolor": "#506784"
          },
          "hoverlabel": {
           "align": "left"
          },
          "hovermode": "closest",
          "mapbox": {
           "style": "dark"
          },
          "paper_bgcolor": "rgb(17,17,17)",
          "plot_bgcolor": "rgb(17,17,17)",
          "polar": {
           "angularaxis": {
            "gridcolor": "#506784",
            "linecolor": "#506784",
            "ticks": ""
           },
           "bgcolor": "rgb(17,17,17)",
           "radialaxis": {
            "gridcolor": "#506784",
            "linecolor": "#506784",
            "ticks": ""
           }
          },
          "scene": {
           "xaxis": {
            "backgroundcolor": "rgb(17,17,17)",
            "gridcolor": "#506784",
            "gridwidth": 2,
            "linecolor": "#506784",
            "showbackground": true,
            "ticks": "",
            "zerolinecolor": "#C8D4E3"
           },
           "yaxis": {
            "backgroundcolor": "rgb(17,17,17)",
            "gridcolor": "#506784",
            "gridwidth": 2,
            "linecolor": "#506784",
            "showbackground": true,
            "ticks": "",
            "zerolinecolor": "#C8D4E3"
           },
           "zaxis": {
            "backgroundcolor": "rgb(17,17,17)",
            "gridcolor": "#506784",
            "gridwidth": 2,
            "linecolor": "#506784",
            "showbackground": true,
            "ticks": "",
            "zerolinecolor": "#C8D4E3"
           }
          },
          "shapedefaults": {
           "line": {
            "color": "#f2f5fa"
           }
          },
          "sliderdefaults": {
           "bgcolor": "#C8D4E3",
           "bordercolor": "rgb(17,17,17)",
           "borderwidth": 1,
           "tickwidth": 0
          },
          "ternary": {
           "aaxis": {
            "gridcolor": "#506784",
            "linecolor": "#506784",
            "ticks": ""
           },
           "baxis": {
            "gridcolor": "#506784",
            "linecolor": "#506784",
            "ticks": ""
           },
           "bgcolor": "rgb(17,17,17)",
           "caxis": {
            "gridcolor": "#506784",
            "linecolor": "#506784",
            "ticks": ""
           }
          },
          "title": {
           "x": 0.05
          },
          "updatemenudefaults": {
           "bgcolor": "#506784",
           "borderwidth": 0
          },
          "xaxis": {
           "automargin": true,
           "gridcolor": "#283442",
           "linecolor": "#506784",
           "ticks": "",
           "title": {
            "standoff": 15
           },
           "zerolinecolor": "#283442",
           "zerolinewidth": 2
          },
          "yaxis": {
           "automargin": true,
           "gridcolor": "#283442",
           "linecolor": "#506784",
           "ticks": "",
           "title": {
            "standoff": 15
           },
           "zerolinecolor": "#283442",
           "zerolinewidth": 2
          }
         }
        },
        "xaxis": {
         "title": {
          "text": "Date"
         }
        },
        "yaxis": {
         "rangemode": "tozero",
         "title": {
          "text": "Mood"
         }
        }
       }
      }
     },
     "metadata": {},
     "output_type": "display_data"
    }
   ],
   "source": [
    "df.mood_plot('month')"
   ]
  },
  {
   "cell_type": "markdown",
   "metadata": {},
   "source": [
    "## Mood bar plot by hour/day/month"
   ]
  },
  {
   "cell_type": "code",
   "execution_count": 10,
   "metadata": {
    "metadata": {}
   },
   "outputs": [
    {
     "data": {
      "application/vnd.plotly.v1+json": {
       "config": {
        "plotlyServerURL": "https://plot.ly"
       },
       "data": [
        {
         "alignmentgroup": "True",
         "hovertemplate": "Hour=%{x}<br>Mood=%{y}<br>Number of entries=%{marker.color}<extra></extra>",
         "legendgroup": "",
         "marker": {
          "color": [
           77,
           64,
           85,
           59,
           48,
           6,
           66,
           59,
           127,
           53,
           55,
           61,
           50,
           95,
           28,
           18,
           21,
           49,
           3,
           1,
           1,
           1
          ],
          "coloraxis": "coloraxis",
          "pattern": {
           "shape": ""
          }
         },
         "name": "",
         "offsetgroup": "",
         "orientation": "v",
         "showlegend": false,
         "textposition": "auto",
         "type": "bar",
         "x": [
          21,
          19,
          16,
          13,
          10,
          8,
          15,
          22,
          20,
          14,
          18,
          12,
          11,
          23,
          0,
          9,
          1,
          17,
          7,
          5,
          2,
          4
         ],
         "xaxis": "x",
         "y": [
          3.909090909090909,
          3.75,
          3.735294117647059,
          3.73728813559322,
          3.7395833333333335,
          3.5,
          3.7803030303030303,
          3.7542372881355934,
          3.9763779527559056,
          3.7358490566037736,
          3.8727272727272726,
          3.762295081967213,
          3.69,
          3.8789473684210525,
          3.75,
          3.6666666666666665,
          3.857142857142857,
          3.7244897959183674,
          3.3333333333333335,
          3,
          3.5,
          3
         ],
         "yaxis": "y"
        }
       ],
       "layout": {
        "barmode": "relative",
        "coloraxis": {
         "colorbar": {
          "title": {
           "text": "Number of entries"
          }
         },
         "colorscale": [
          [
           0,
           "#440154"
          ],
          [
           0.1111111111111111,
           "#482878"
          ],
          [
           0.2222222222222222,
           "#3e4989"
          ],
          [
           0.3333333333333333,
           "#31688e"
          ],
          [
           0.4444444444444444,
           "#26828e"
          ],
          [
           0.5555555555555556,
           "#1f9e89"
          ],
          [
           0.6666666666666666,
           "#35b779"
          ],
          [
           0.7777777777777778,
           "#6ece58"
          ],
          [
           0.8888888888888888,
           "#b5de2b"
          ],
          [
           1,
           "#fde725"
          ]
         ]
        },
        "legend": {
         "tracegroupgap": 0
        },
        "template": {
         "data": {
          "bar": [
           {
            "error_x": {
             "color": "#f2f5fa"
            },
            "error_y": {
             "color": "#f2f5fa"
            },
            "marker": {
             "line": {
              "color": "rgb(17,17,17)",
              "width": 0.5
             },
             "pattern": {
              "fillmode": "overlay",
              "size": 10,
              "solidity": 0.2
             }
            },
            "type": "bar"
           }
          ],
          "barpolar": [
           {
            "marker": {
             "line": {
              "color": "rgb(17,17,17)",
              "width": 0.5
             },
             "pattern": {
              "fillmode": "overlay",
              "size": 10,
              "solidity": 0.2
             }
            },
            "type": "barpolar"
           }
          ],
          "carpet": [
           {
            "aaxis": {
             "endlinecolor": "#A2B1C6",
             "gridcolor": "#506784",
             "linecolor": "#506784",
             "minorgridcolor": "#506784",
             "startlinecolor": "#A2B1C6"
            },
            "baxis": {
             "endlinecolor": "#A2B1C6",
             "gridcolor": "#506784",
             "linecolor": "#506784",
             "minorgridcolor": "#506784",
             "startlinecolor": "#A2B1C6"
            },
            "type": "carpet"
           }
          ],
          "choropleth": [
           {
            "colorbar": {
             "outlinewidth": 0,
             "ticks": ""
            },
            "type": "choropleth"
           }
          ],
          "contour": [
           {
            "colorbar": {
             "outlinewidth": 0,
             "ticks": ""
            },
            "colorscale": [
             [
              0,
              "#0d0887"
             ],
             [
              0.1111111111111111,
              "#46039f"
             ],
             [
              0.2222222222222222,
              "#7201a8"
             ],
             [
              0.3333333333333333,
              "#9c179e"
             ],
             [
              0.4444444444444444,
              "#bd3786"
             ],
             [
              0.5555555555555556,
              "#d8576b"
             ],
             [
              0.6666666666666666,
              "#ed7953"
             ],
             [
              0.7777777777777778,
              "#fb9f3a"
             ],
             [
              0.8888888888888888,
              "#fdca26"
             ],
             [
              1,
              "#f0f921"
             ]
            ],
            "type": "contour"
           }
          ],
          "contourcarpet": [
           {
            "colorbar": {
             "outlinewidth": 0,
             "ticks": ""
            },
            "type": "contourcarpet"
           }
          ],
          "heatmap": [
           {
            "colorbar": {
             "outlinewidth": 0,
             "ticks": ""
            },
            "colorscale": [
             [
              0,
              "#0d0887"
             ],
             [
              0.1111111111111111,
              "#46039f"
             ],
             [
              0.2222222222222222,
              "#7201a8"
             ],
             [
              0.3333333333333333,
              "#9c179e"
             ],
             [
              0.4444444444444444,
              "#bd3786"
             ],
             [
              0.5555555555555556,
              "#d8576b"
             ],
             [
              0.6666666666666666,
              "#ed7953"
             ],
             [
              0.7777777777777778,
              "#fb9f3a"
             ],
             [
              0.8888888888888888,
              "#fdca26"
             ],
             [
              1,
              "#f0f921"
             ]
            ],
            "type": "heatmap"
           }
          ],
          "heatmapgl": [
           {
            "colorbar": {
             "outlinewidth": 0,
             "ticks": ""
            },
            "colorscale": [
             [
              0,
              "#0d0887"
             ],
             [
              0.1111111111111111,
              "#46039f"
             ],
             [
              0.2222222222222222,
              "#7201a8"
             ],
             [
              0.3333333333333333,
              "#9c179e"
             ],
             [
              0.4444444444444444,
              "#bd3786"
             ],
             [
              0.5555555555555556,
              "#d8576b"
             ],
             [
              0.6666666666666666,
              "#ed7953"
             ],
             [
              0.7777777777777778,
              "#fb9f3a"
             ],
             [
              0.8888888888888888,
              "#fdca26"
             ],
             [
              1,
              "#f0f921"
             ]
            ],
            "type": "heatmapgl"
           }
          ],
          "histogram": [
           {
            "marker": {
             "pattern": {
              "fillmode": "overlay",
              "size": 10,
              "solidity": 0.2
             }
            },
            "type": "histogram"
           }
          ],
          "histogram2d": [
           {
            "colorbar": {
             "outlinewidth": 0,
             "ticks": ""
            },
            "colorscale": [
             [
              0,
              "#0d0887"
             ],
             [
              0.1111111111111111,
              "#46039f"
             ],
             [
              0.2222222222222222,
              "#7201a8"
             ],
             [
              0.3333333333333333,
              "#9c179e"
             ],
             [
              0.4444444444444444,
              "#bd3786"
             ],
             [
              0.5555555555555556,
              "#d8576b"
             ],
             [
              0.6666666666666666,
              "#ed7953"
             ],
             [
              0.7777777777777778,
              "#fb9f3a"
             ],
             [
              0.8888888888888888,
              "#fdca26"
             ],
             [
              1,
              "#f0f921"
             ]
            ],
            "type": "histogram2d"
           }
          ],
          "histogram2dcontour": [
           {
            "colorbar": {
             "outlinewidth": 0,
             "ticks": ""
            },
            "colorscale": [
             [
              0,
              "#0d0887"
             ],
             [
              0.1111111111111111,
              "#46039f"
             ],
             [
              0.2222222222222222,
              "#7201a8"
             ],
             [
              0.3333333333333333,
              "#9c179e"
             ],
             [
              0.4444444444444444,
              "#bd3786"
             ],
             [
              0.5555555555555556,
              "#d8576b"
             ],
             [
              0.6666666666666666,
              "#ed7953"
             ],
             [
              0.7777777777777778,
              "#fb9f3a"
             ],
             [
              0.8888888888888888,
              "#fdca26"
             ],
             [
              1,
              "#f0f921"
             ]
            ],
            "type": "histogram2dcontour"
           }
          ],
          "mesh3d": [
           {
            "colorbar": {
             "outlinewidth": 0,
             "ticks": ""
            },
            "type": "mesh3d"
           }
          ],
          "parcoords": [
           {
            "line": {
             "colorbar": {
              "outlinewidth": 0,
              "ticks": ""
             }
            },
            "type": "parcoords"
           }
          ],
          "pie": [
           {
            "automargin": true,
            "type": "pie"
           }
          ],
          "scatter": [
           {
            "marker": {
             "line": {
              "color": "#283442"
             }
            },
            "type": "scatter"
           }
          ],
          "scatter3d": [
           {
            "line": {
             "colorbar": {
              "outlinewidth": 0,
              "ticks": ""
             }
            },
            "marker": {
             "colorbar": {
              "outlinewidth": 0,
              "ticks": ""
             }
            },
            "type": "scatter3d"
           }
          ],
          "scattercarpet": [
           {
            "marker": {
             "colorbar": {
              "outlinewidth": 0,
              "ticks": ""
             }
            },
            "type": "scattercarpet"
           }
          ],
          "scattergeo": [
           {
            "marker": {
             "colorbar": {
              "outlinewidth": 0,
              "ticks": ""
             }
            },
            "type": "scattergeo"
           }
          ],
          "scattergl": [
           {
            "marker": {
             "line": {
              "color": "#283442"
             }
            },
            "type": "scattergl"
           }
          ],
          "scattermapbox": [
           {
            "marker": {
             "colorbar": {
              "outlinewidth": 0,
              "ticks": ""
             }
            },
            "type": "scattermapbox"
           }
          ],
          "scatterpolar": [
           {
            "marker": {
             "colorbar": {
              "outlinewidth": 0,
              "ticks": ""
             }
            },
            "type": "scatterpolar"
           }
          ],
          "scatterpolargl": [
           {
            "marker": {
             "colorbar": {
              "outlinewidth": 0,
              "ticks": ""
             }
            },
            "type": "scatterpolargl"
           }
          ],
          "scatterternary": [
           {
            "marker": {
             "colorbar": {
              "outlinewidth": 0,
              "ticks": ""
             }
            },
            "type": "scatterternary"
           }
          ],
          "surface": [
           {
            "colorbar": {
             "outlinewidth": 0,
             "ticks": ""
            },
            "colorscale": [
             [
              0,
              "#0d0887"
             ],
             [
              0.1111111111111111,
              "#46039f"
             ],
             [
              0.2222222222222222,
              "#7201a8"
             ],
             [
              0.3333333333333333,
              "#9c179e"
             ],
             [
              0.4444444444444444,
              "#bd3786"
             ],
             [
              0.5555555555555556,
              "#d8576b"
             ],
             [
              0.6666666666666666,
              "#ed7953"
             ],
             [
              0.7777777777777778,
              "#fb9f3a"
             ],
             [
              0.8888888888888888,
              "#fdca26"
             ],
             [
              1,
              "#f0f921"
             ]
            ],
            "type": "surface"
           }
          ],
          "table": [
           {
            "cells": {
             "fill": {
              "color": "#506784"
             },
             "line": {
              "color": "rgb(17,17,17)"
             }
            },
            "header": {
             "fill": {
              "color": "#2a3f5f"
             },
             "line": {
              "color": "rgb(17,17,17)"
             }
            },
            "type": "table"
           }
          ]
         },
         "layout": {
          "annotationdefaults": {
           "arrowcolor": "#f2f5fa",
           "arrowhead": 0,
           "arrowwidth": 1
          },
          "autotypenumbers": "strict",
          "coloraxis": {
           "colorbar": {
            "outlinewidth": 0,
            "ticks": ""
           }
          },
          "colorscale": {
           "diverging": [
            [
             0,
             "#8e0152"
            ],
            [
             0.1,
             "#c51b7d"
            ],
            [
             0.2,
             "#de77ae"
            ],
            [
             0.3,
             "#f1b6da"
            ],
            [
             0.4,
             "#fde0ef"
            ],
            [
             0.5,
             "#f7f7f7"
            ],
            [
             0.6,
             "#e6f5d0"
            ],
            [
             0.7,
             "#b8e186"
            ],
            [
             0.8,
             "#7fbc41"
            ],
            [
             0.9,
             "#4d9221"
            ],
            [
             1,
             "#276419"
            ]
           ],
           "sequential": [
            [
             0,
             "#0d0887"
            ],
            [
             0.1111111111111111,
             "#46039f"
            ],
            [
             0.2222222222222222,
             "#7201a8"
            ],
            [
             0.3333333333333333,
             "#9c179e"
            ],
            [
             0.4444444444444444,
             "#bd3786"
            ],
            [
             0.5555555555555556,
             "#d8576b"
            ],
            [
             0.6666666666666666,
             "#ed7953"
            ],
            [
             0.7777777777777778,
             "#fb9f3a"
            ],
            [
             0.8888888888888888,
             "#fdca26"
            ],
            [
             1,
             "#f0f921"
            ]
           ],
           "sequentialminus": [
            [
             0,
             "#0d0887"
            ],
            [
             0.1111111111111111,
             "#46039f"
            ],
            [
             0.2222222222222222,
             "#7201a8"
            ],
            [
             0.3333333333333333,
             "#9c179e"
            ],
            [
             0.4444444444444444,
             "#bd3786"
            ],
            [
             0.5555555555555556,
             "#d8576b"
            ],
            [
             0.6666666666666666,
             "#ed7953"
            ],
            [
             0.7777777777777778,
             "#fb9f3a"
            ],
            [
             0.8888888888888888,
             "#fdca26"
            ],
            [
             1,
             "#f0f921"
            ]
           ]
          },
          "colorway": [
           "#636efa",
           "#EF553B",
           "#00cc96",
           "#ab63fa",
           "#FFA15A",
           "#19d3f3",
           "#FF6692",
           "#B6E880",
           "#FF97FF",
           "#FECB52"
          ],
          "font": {
           "color": "#f2f5fa"
          },
          "geo": {
           "bgcolor": "rgb(17,17,17)",
           "lakecolor": "rgb(17,17,17)",
           "landcolor": "rgb(17,17,17)",
           "showlakes": true,
           "showland": true,
           "subunitcolor": "#506784"
          },
          "hoverlabel": {
           "align": "left"
          },
          "hovermode": "closest",
          "mapbox": {
           "style": "dark"
          },
          "paper_bgcolor": "rgb(17,17,17)",
          "plot_bgcolor": "rgb(17,17,17)",
          "polar": {
           "angularaxis": {
            "gridcolor": "#506784",
            "linecolor": "#506784",
            "ticks": ""
           },
           "bgcolor": "rgb(17,17,17)",
           "radialaxis": {
            "gridcolor": "#506784",
            "linecolor": "#506784",
            "ticks": ""
           }
          },
          "scene": {
           "xaxis": {
            "backgroundcolor": "rgb(17,17,17)",
            "gridcolor": "#506784",
            "gridwidth": 2,
            "linecolor": "#506784",
            "showbackground": true,
            "ticks": "",
            "zerolinecolor": "#C8D4E3"
           },
           "yaxis": {
            "backgroundcolor": "rgb(17,17,17)",
            "gridcolor": "#506784",
            "gridwidth": 2,
            "linecolor": "#506784",
            "showbackground": true,
            "ticks": "",
            "zerolinecolor": "#C8D4E3"
           },
           "zaxis": {
            "backgroundcolor": "rgb(17,17,17)",
            "gridcolor": "#506784",
            "gridwidth": 2,
            "linecolor": "#506784",
            "showbackground": true,
            "ticks": "",
            "zerolinecolor": "#C8D4E3"
           }
          },
          "shapedefaults": {
           "line": {
            "color": "#f2f5fa"
           }
          },
          "sliderdefaults": {
           "bgcolor": "#C8D4E3",
           "bordercolor": "rgb(17,17,17)",
           "borderwidth": 1,
           "tickwidth": 0
          },
          "ternary": {
           "aaxis": {
            "gridcolor": "#506784",
            "linecolor": "#506784",
            "ticks": ""
           },
           "baxis": {
            "gridcolor": "#506784",
            "linecolor": "#506784",
            "ticks": ""
           },
           "bgcolor": "rgb(17,17,17)",
           "caxis": {
            "gridcolor": "#506784",
            "linecolor": "#506784",
            "ticks": ""
           }
          },
          "title": {
           "x": 0.05
          },
          "updatemenudefaults": {
           "bgcolor": "#506784",
           "borderwidth": 0
          },
          "xaxis": {
           "automargin": true,
           "gridcolor": "#283442",
           "linecolor": "#506784",
           "ticks": "",
           "title": {
            "standoff": 15
           },
           "zerolinecolor": "#283442",
           "zerolinewidth": 2
          },
          "yaxis": {
           "automargin": true,
           "gridcolor": "#283442",
           "linecolor": "#506784",
           "ticks": "",
           "title": {
            "standoff": 15
           },
           "zerolinecolor": "#283442",
           "zerolinewidth": 2
          }
         }
        },
        "title": {
         "text": "Mood by hour"
        },
        "xaxis": {
         "anchor": "y",
         "domain": [
          0,
          1
         ],
         "dtick": 1,
         "title": {
          "text": "Hour"
         }
        },
        "yaxis": {
         "anchor": "x",
         "domain": [
          0,
          1
         ],
         "title": {
          "text": "Mood"
         }
        }
       }
      }
     },
     "metadata": {},
     "output_type": "display_data"
    }
   ],
   "source": [
    "df.by_time_bar_plot('hour')"
   ]
  },
  {
   "cell_type": "code",
   "execution_count": 11,
   "metadata": {
    "metadata": {}
   },
   "outputs": [
    {
     "data": {
      "application/vnd.plotly.v1+json": {
       "config": {
        "plotlyServerURL": "https://plot.ly"
       },
       "data": [
        {
         "alignmentgroup": "True",
         "hovertemplate": "Day=%{x}<br>Mood=%{y}<br>Number of entries=%{marker.color}<extra></extra>",
         "legendgroup": "",
         "marker": {
          "color": [
           36,
           38,
           44,
           35,
           31,
           30,
           36,
           41,
           38,
           34,
           37,
           36,
           35,
           35,
           41,
           26,
           29,
           31,
           35,
           35,
           30,
           30,
           30,
           31,
           29,
           24,
           32,
           31,
           32,
           34,
           21
          ],
          "coloraxis": "coloraxis",
          "pattern": {
           "shape": ""
          }
         },
         "name": "",
         "offsetgroup": "",
         "orientation": "v",
         "showlegend": false,
         "textposition": "auto",
         "type": "bar",
         "x": [
          15,
          14,
          13,
          12,
          11,
          10,
          9,
          8,
          7,
          6,
          5,
          4,
          3,
          2,
          1,
          30,
          29,
          28,
          27,
          26,
          25,
          24,
          23,
          22,
          21,
          20,
          19,
          18,
          17,
          16,
          31
         ],
         "xaxis": "x",
         "y": [
          3.7916666666666665,
          3.75,
          3.875,
          3.8714285714285714,
          3.9193548387096775,
          3.8833333333333333,
          3.763888888888889,
          3.8292682926829267,
          3.776315789473684,
          3.8088235294117645,
          3.7027027027027026,
          3.9027777777777777,
          3.8,
          3.7857142857142856,
          3.841463414634146,
          3.673076923076923,
          3.7241379310344827,
          3.774193548387097,
          3.8857142857142857,
          3.7285714285714286,
          3.75,
          3.6333333333333333,
          3.8,
          3.8870967741935485,
          3.706896551724138,
          3.8125,
          3.765625,
          4.17741935483871,
          3.65625,
          3.7794117647058822,
          3.642857142857143
         ],
         "yaxis": "y"
        }
       ],
       "layout": {
        "barmode": "relative",
        "coloraxis": {
         "colorbar": {
          "title": {
           "text": "Number of entries"
          }
         },
         "colorscale": [
          [
           0,
           "#440154"
          ],
          [
           0.1111111111111111,
           "#482878"
          ],
          [
           0.2222222222222222,
           "#3e4989"
          ],
          [
           0.3333333333333333,
           "#31688e"
          ],
          [
           0.4444444444444444,
           "#26828e"
          ],
          [
           0.5555555555555556,
           "#1f9e89"
          ],
          [
           0.6666666666666666,
           "#35b779"
          ],
          [
           0.7777777777777778,
           "#6ece58"
          ],
          [
           0.8888888888888888,
           "#b5de2b"
          ],
          [
           1,
           "#fde725"
          ]
         ]
        },
        "legend": {
         "tracegroupgap": 0
        },
        "template": {
         "data": {
          "bar": [
           {
            "error_x": {
             "color": "#f2f5fa"
            },
            "error_y": {
             "color": "#f2f5fa"
            },
            "marker": {
             "line": {
              "color": "rgb(17,17,17)",
              "width": 0.5
             },
             "pattern": {
              "fillmode": "overlay",
              "size": 10,
              "solidity": 0.2
             }
            },
            "type": "bar"
           }
          ],
          "barpolar": [
           {
            "marker": {
             "line": {
              "color": "rgb(17,17,17)",
              "width": 0.5
             },
             "pattern": {
              "fillmode": "overlay",
              "size": 10,
              "solidity": 0.2
             }
            },
            "type": "barpolar"
           }
          ],
          "carpet": [
           {
            "aaxis": {
             "endlinecolor": "#A2B1C6",
             "gridcolor": "#506784",
             "linecolor": "#506784",
             "minorgridcolor": "#506784",
             "startlinecolor": "#A2B1C6"
            },
            "baxis": {
             "endlinecolor": "#A2B1C6",
             "gridcolor": "#506784",
             "linecolor": "#506784",
             "minorgridcolor": "#506784",
             "startlinecolor": "#A2B1C6"
            },
            "type": "carpet"
           }
          ],
          "choropleth": [
           {
            "colorbar": {
             "outlinewidth": 0,
             "ticks": ""
            },
            "type": "choropleth"
           }
          ],
          "contour": [
           {
            "colorbar": {
             "outlinewidth": 0,
             "ticks": ""
            },
            "colorscale": [
             [
              0,
              "#0d0887"
             ],
             [
              0.1111111111111111,
              "#46039f"
             ],
             [
              0.2222222222222222,
              "#7201a8"
             ],
             [
              0.3333333333333333,
              "#9c179e"
             ],
             [
              0.4444444444444444,
              "#bd3786"
             ],
             [
              0.5555555555555556,
              "#d8576b"
             ],
             [
              0.6666666666666666,
              "#ed7953"
             ],
             [
              0.7777777777777778,
              "#fb9f3a"
             ],
             [
              0.8888888888888888,
              "#fdca26"
             ],
             [
              1,
              "#f0f921"
             ]
            ],
            "type": "contour"
           }
          ],
          "contourcarpet": [
           {
            "colorbar": {
             "outlinewidth": 0,
             "ticks": ""
            },
            "type": "contourcarpet"
           }
          ],
          "heatmap": [
           {
            "colorbar": {
             "outlinewidth": 0,
             "ticks": ""
            },
            "colorscale": [
             [
              0,
              "#0d0887"
             ],
             [
              0.1111111111111111,
              "#46039f"
             ],
             [
              0.2222222222222222,
              "#7201a8"
             ],
             [
              0.3333333333333333,
              "#9c179e"
             ],
             [
              0.4444444444444444,
              "#bd3786"
             ],
             [
              0.5555555555555556,
              "#d8576b"
             ],
             [
              0.6666666666666666,
              "#ed7953"
             ],
             [
              0.7777777777777778,
              "#fb9f3a"
             ],
             [
              0.8888888888888888,
              "#fdca26"
             ],
             [
              1,
              "#f0f921"
             ]
            ],
            "type": "heatmap"
           }
          ],
          "heatmapgl": [
           {
            "colorbar": {
             "outlinewidth": 0,
             "ticks": ""
            },
            "colorscale": [
             [
              0,
              "#0d0887"
             ],
             [
              0.1111111111111111,
              "#46039f"
             ],
             [
              0.2222222222222222,
              "#7201a8"
             ],
             [
              0.3333333333333333,
              "#9c179e"
             ],
             [
              0.4444444444444444,
              "#bd3786"
             ],
             [
              0.5555555555555556,
              "#d8576b"
             ],
             [
              0.6666666666666666,
              "#ed7953"
             ],
             [
              0.7777777777777778,
              "#fb9f3a"
             ],
             [
              0.8888888888888888,
              "#fdca26"
             ],
             [
              1,
              "#f0f921"
             ]
            ],
            "type": "heatmapgl"
           }
          ],
          "histogram": [
           {
            "marker": {
             "pattern": {
              "fillmode": "overlay",
              "size": 10,
              "solidity": 0.2
             }
            },
            "type": "histogram"
           }
          ],
          "histogram2d": [
           {
            "colorbar": {
             "outlinewidth": 0,
             "ticks": ""
            },
            "colorscale": [
             [
              0,
              "#0d0887"
             ],
             [
              0.1111111111111111,
              "#46039f"
             ],
             [
              0.2222222222222222,
              "#7201a8"
             ],
             [
              0.3333333333333333,
              "#9c179e"
             ],
             [
              0.4444444444444444,
              "#bd3786"
             ],
             [
              0.5555555555555556,
              "#d8576b"
             ],
             [
              0.6666666666666666,
              "#ed7953"
             ],
             [
              0.7777777777777778,
              "#fb9f3a"
             ],
             [
              0.8888888888888888,
              "#fdca26"
             ],
             [
              1,
              "#f0f921"
             ]
            ],
            "type": "histogram2d"
           }
          ],
          "histogram2dcontour": [
           {
            "colorbar": {
             "outlinewidth": 0,
             "ticks": ""
            },
            "colorscale": [
             [
              0,
              "#0d0887"
             ],
             [
              0.1111111111111111,
              "#46039f"
             ],
             [
              0.2222222222222222,
              "#7201a8"
             ],
             [
              0.3333333333333333,
              "#9c179e"
             ],
             [
              0.4444444444444444,
              "#bd3786"
             ],
             [
              0.5555555555555556,
              "#d8576b"
             ],
             [
              0.6666666666666666,
              "#ed7953"
             ],
             [
              0.7777777777777778,
              "#fb9f3a"
             ],
             [
              0.8888888888888888,
              "#fdca26"
             ],
             [
              1,
              "#f0f921"
             ]
            ],
            "type": "histogram2dcontour"
           }
          ],
          "mesh3d": [
           {
            "colorbar": {
             "outlinewidth": 0,
             "ticks": ""
            },
            "type": "mesh3d"
           }
          ],
          "parcoords": [
           {
            "line": {
             "colorbar": {
              "outlinewidth": 0,
              "ticks": ""
             }
            },
            "type": "parcoords"
           }
          ],
          "pie": [
           {
            "automargin": true,
            "type": "pie"
           }
          ],
          "scatter": [
           {
            "marker": {
             "line": {
              "color": "#283442"
             }
            },
            "type": "scatter"
           }
          ],
          "scatter3d": [
           {
            "line": {
             "colorbar": {
              "outlinewidth": 0,
              "ticks": ""
             }
            },
            "marker": {
             "colorbar": {
              "outlinewidth": 0,
              "ticks": ""
             }
            },
            "type": "scatter3d"
           }
          ],
          "scattercarpet": [
           {
            "marker": {
             "colorbar": {
              "outlinewidth": 0,
              "ticks": ""
             }
            },
            "type": "scattercarpet"
           }
          ],
          "scattergeo": [
           {
            "marker": {
             "colorbar": {
              "outlinewidth": 0,
              "ticks": ""
             }
            },
            "type": "scattergeo"
           }
          ],
          "scattergl": [
           {
            "marker": {
             "line": {
              "color": "#283442"
             }
            },
            "type": "scattergl"
           }
          ],
          "scattermapbox": [
           {
            "marker": {
             "colorbar": {
              "outlinewidth": 0,
              "ticks": ""
             }
            },
            "type": "scattermapbox"
           }
          ],
          "scatterpolar": [
           {
            "marker": {
             "colorbar": {
              "outlinewidth": 0,
              "ticks": ""
             }
            },
            "type": "scatterpolar"
           }
          ],
          "scatterpolargl": [
           {
            "marker": {
             "colorbar": {
              "outlinewidth": 0,
              "ticks": ""
             }
            },
            "type": "scatterpolargl"
           }
          ],
          "scatterternary": [
           {
            "marker": {
             "colorbar": {
              "outlinewidth": 0,
              "ticks": ""
             }
            },
            "type": "scatterternary"
           }
          ],
          "surface": [
           {
            "colorbar": {
             "outlinewidth": 0,
             "ticks": ""
            },
            "colorscale": [
             [
              0,
              "#0d0887"
             ],
             [
              0.1111111111111111,
              "#46039f"
             ],
             [
              0.2222222222222222,
              "#7201a8"
             ],
             [
              0.3333333333333333,
              "#9c179e"
             ],
             [
              0.4444444444444444,
              "#bd3786"
             ],
             [
              0.5555555555555556,
              "#d8576b"
             ],
             [
              0.6666666666666666,
              "#ed7953"
             ],
             [
              0.7777777777777778,
              "#fb9f3a"
             ],
             [
              0.8888888888888888,
              "#fdca26"
             ],
             [
              1,
              "#f0f921"
             ]
            ],
            "type": "surface"
           }
          ],
          "table": [
           {
            "cells": {
             "fill": {
              "color": "#506784"
             },
             "line": {
              "color": "rgb(17,17,17)"
             }
            },
            "header": {
             "fill": {
              "color": "#2a3f5f"
             },
             "line": {
              "color": "rgb(17,17,17)"
             }
            },
            "type": "table"
           }
          ]
         },
         "layout": {
          "annotationdefaults": {
           "arrowcolor": "#f2f5fa",
           "arrowhead": 0,
           "arrowwidth": 1
          },
          "autotypenumbers": "strict",
          "coloraxis": {
           "colorbar": {
            "outlinewidth": 0,
            "ticks": ""
           }
          },
          "colorscale": {
           "diverging": [
            [
             0,
             "#8e0152"
            ],
            [
             0.1,
             "#c51b7d"
            ],
            [
             0.2,
             "#de77ae"
            ],
            [
             0.3,
             "#f1b6da"
            ],
            [
             0.4,
             "#fde0ef"
            ],
            [
             0.5,
             "#f7f7f7"
            ],
            [
             0.6,
             "#e6f5d0"
            ],
            [
             0.7,
             "#b8e186"
            ],
            [
             0.8,
             "#7fbc41"
            ],
            [
             0.9,
             "#4d9221"
            ],
            [
             1,
             "#276419"
            ]
           ],
           "sequential": [
            [
             0,
             "#0d0887"
            ],
            [
             0.1111111111111111,
             "#46039f"
            ],
            [
             0.2222222222222222,
             "#7201a8"
            ],
            [
             0.3333333333333333,
             "#9c179e"
            ],
            [
             0.4444444444444444,
             "#bd3786"
            ],
            [
             0.5555555555555556,
             "#d8576b"
            ],
            [
             0.6666666666666666,
             "#ed7953"
            ],
            [
             0.7777777777777778,
             "#fb9f3a"
            ],
            [
             0.8888888888888888,
             "#fdca26"
            ],
            [
             1,
             "#f0f921"
            ]
           ],
           "sequentialminus": [
            [
             0,
             "#0d0887"
            ],
            [
             0.1111111111111111,
             "#46039f"
            ],
            [
             0.2222222222222222,
             "#7201a8"
            ],
            [
             0.3333333333333333,
             "#9c179e"
            ],
            [
             0.4444444444444444,
             "#bd3786"
            ],
            [
             0.5555555555555556,
             "#d8576b"
            ],
            [
             0.6666666666666666,
             "#ed7953"
            ],
            [
             0.7777777777777778,
             "#fb9f3a"
            ],
            [
             0.8888888888888888,
             "#fdca26"
            ],
            [
             1,
             "#f0f921"
            ]
           ]
          },
          "colorway": [
           "#636efa",
           "#EF553B",
           "#00cc96",
           "#ab63fa",
           "#FFA15A",
           "#19d3f3",
           "#FF6692",
           "#B6E880",
           "#FF97FF",
           "#FECB52"
          ],
          "font": {
           "color": "#f2f5fa"
          },
          "geo": {
           "bgcolor": "rgb(17,17,17)",
           "lakecolor": "rgb(17,17,17)",
           "landcolor": "rgb(17,17,17)",
           "showlakes": true,
           "showland": true,
           "subunitcolor": "#506784"
          },
          "hoverlabel": {
           "align": "left"
          },
          "hovermode": "closest",
          "mapbox": {
           "style": "dark"
          },
          "paper_bgcolor": "rgb(17,17,17)",
          "plot_bgcolor": "rgb(17,17,17)",
          "polar": {
           "angularaxis": {
            "gridcolor": "#506784",
            "linecolor": "#506784",
            "ticks": ""
           },
           "bgcolor": "rgb(17,17,17)",
           "radialaxis": {
            "gridcolor": "#506784",
            "linecolor": "#506784",
            "ticks": ""
           }
          },
          "scene": {
           "xaxis": {
            "backgroundcolor": "rgb(17,17,17)",
            "gridcolor": "#506784",
            "gridwidth": 2,
            "linecolor": "#506784",
            "showbackground": true,
            "ticks": "",
            "zerolinecolor": "#C8D4E3"
           },
           "yaxis": {
            "backgroundcolor": "rgb(17,17,17)",
            "gridcolor": "#506784",
            "gridwidth": 2,
            "linecolor": "#506784",
            "showbackground": true,
            "ticks": "",
            "zerolinecolor": "#C8D4E3"
           },
           "zaxis": {
            "backgroundcolor": "rgb(17,17,17)",
            "gridcolor": "#506784",
            "gridwidth": 2,
            "linecolor": "#506784",
            "showbackground": true,
            "ticks": "",
            "zerolinecolor": "#C8D4E3"
           }
          },
          "shapedefaults": {
           "line": {
            "color": "#f2f5fa"
           }
          },
          "sliderdefaults": {
           "bgcolor": "#C8D4E3",
           "bordercolor": "rgb(17,17,17)",
           "borderwidth": 1,
           "tickwidth": 0
          },
          "ternary": {
           "aaxis": {
            "gridcolor": "#506784",
            "linecolor": "#506784",
            "ticks": ""
           },
           "baxis": {
            "gridcolor": "#506784",
            "linecolor": "#506784",
            "ticks": ""
           },
           "bgcolor": "rgb(17,17,17)",
           "caxis": {
            "gridcolor": "#506784",
            "linecolor": "#506784",
            "ticks": ""
           }
          },
          "title": {
           "x": 0.05
          },
          "updatemenudefaults": {
           "bgcolor": "#506784",
           "borderwidth": 0
          },
          "xaxis": {
           "automargin": true,
           "gridcolor": "#283442",
           "linecolor": "#506784",
           "ticks": "",
           "title": {
            "standoff": 15
           },
           "zerolinecolor": "#283442",
           "zerolinewidth": 2
          },
          "yaxis": {
           "automargin": true,
           "gridcolor": "#283442",
           "linecolor": "#506784",
           "ticks": "",
           "title": {
            "standoff": 15
           },
           "zerolinecolor": "#283442",
           "zerolinewidth": 2
          }
         }
        },
        "title": {
         "text": "Mood by day"
        },
        "xaxis": {
         "anchor": "y",
         "domain": [
          0,
          1
         ],
         "dtick": 1,
         "title": {
          "text": "Day"
         }
        },
        "yaxis": {
         "anchor": "x",
         "domain": [
          0,
          1
         ],
         "title": {
          "text": "Mood"
         }
        }
       }
      }
     },
     "metadata": {},
     "output_type": "display_data"
    }
   ],
   "source": [
    "df.by_time_bar_plot('day')"
   ]
  },
  {
   "cell_type": "code",
   "execution_count": 12,
   "metadata": {
    "metadata": {}
   },
   "outputs": [
    {
     "data": {
      "application/vnd.plotly.v1+json": {
       "config": {
        "plotlyServerURL": "https://plot.ly"
       },
       "data": [
        {
         "alignmentgroup": "True",
         "hovertemplate": "Weekday=%{x}<br>Mood=%{y}<br>Number of entries=%{marker.color}<extra></extra>",
         "legendgroup": "",
         "marker": {
          "color": [
           145,
           148,
           136,
           148,
           152,
           161,
           137
          ],
          "coloraxis": "coloraxis",
          "pattern": {
           "shape": ""
          }
         },
         "name": "",
         "offsetgroup": "",
         "orientation": "v",
         "showlegend": false,
         "textposition": "auto",
         "type": "bar",
         "x": [
          2,
          1,
          0,
          6,
          5,
          4,
          3
         ],
         "xaxis": "x",
         "y": [
          3.820689655172414,
          3.810810810810811,
          3.764705882352941,
          3.8344594594594597,
          3.8914473684210527,
          3.7080745341614905,
          3.7737226277372264
         ],
         "yaxis": "y"
        }
       ],
       "layout": {
        "barmode": "relative",
        "coloraxis": {
         "colorbar": {
          "title": {
           "text": "Number of entries"
          }
         },
         "colorscale": [
          [
           0,
           "#440154"
          ],
          [
           0.1111111111111111,
           "#482878"
          ],
          [
           0.2222222222222222,
           "#3e4989"
          ],
          [
           0.3333333333333333,
           "#31688e"
          ],
          [
           0.4444444444444444,
           "#26828e"
          ],
          [
           0.5555555555555556,
           "#1f9e89"
          ],
          [
           0.6666666666666666,
           "#35b779"
          ],
          [
           0.7777777777777778,
           "#6ece58"
          ],
          [
           0.8888888888888888,
           "#b5de2b"
          ],
          [
           1,
           "#fde725"
          ]
         ]
        },
        "legend": {
         "tracegroupgap": 0
        },
        "template": {
         "data": {
          "bar": [
           {
            "error_x": {
             "color": "#f2f5fa"
            },
            "error_y": {
             "color": "#f2f5fa"
            },
            "marker": {
             "line": {
              "color": "rgb(17,17,17)",
              "width": 0.5
             },
             "pattern": {
              "fillmode": "overlay",
              "size": 10,
              "solidity": 0.2
             }
            },
            "type": "bar"
           }
          ],
          "barpolar": [
           {
            "marker": {
             "line": {
              "color": "rgb(17,17,17)",
              "width": 0.5
             },
             "pattern": {
              "fillmode": "overlay",
              "size": 10,
              "solidity": 0.2
             }
            },
            "type": "barpolar"
           }
          ],
          "carpet": [
           {
            "aaxis": {
             "endlinecolor": "#A2B1C6",
             "gridcolor": "#506784",
             "linecolor": "#506784",
             "minorgridcolor": "#506784",
             "startlinecolor": "#A2B1C6"
            },
            "baxis": {
             "endlinecolor": "#A2B1C6",
             "gridcolor": "#506784",
             "linecolor": "#506784",
             "minorgridcolor": "#506784",
             "startlinecolor": "#A2B1C6"
            },
            "type": "carpet"
           }
          ],
          "choropleth": [
           {
            "colorbar": {
             "outlinewidth": 0,
             "ticks": ""
            },
            "type": "choropleth"
           }
          ],
          "contour": [
           {
            "colorbar": {
             "outlinewidth": 0,
             "ticks": ""
            },
            "colorscale": [
             [
              0,
              "#0d0887"
             ],
             [
              0.1111111111111111,
              "#46039f"
             ],
             [
              0.2222222222222222,
              "#7201a8"
             ],
             [
              0.3333333333333333,
              "#9c179e"
             ],
             [
              0.4444444444444444,
              "#bd3786"
             ],
             [
              0.5555555555555556,
              "#d8576b"
             ],
             [
              0.6666666666666666,
              "#ed7953"
             ],
             [
              0.7777777777777778,
              "#fb9f3a"
             ],
             [
              0.8888888888888888,
              "#fdca26"
             ],
             [
              1,
              "#f0f921"
             ]
            ],
            "type": "contour"
           }
          ],
          "contourcarpet": [
           {
            "colorbar": {
             "outlinewidth": 0,
             "ticks": ""
            },
            "type": "contourcarpet"
           }
          ],
          "heatmap": [
           {
            "colorbar": {
             "outlinewidth": 0,
             "ticks": ""
            },
            "colorscale": [
             [
              0,
              "#0d0887"
             ],
             [
              0.1111111111111111,
              "#46039f"
             ],
             [
              0.2222222222222222,
              "#7201a8"
             ],
             [
              0.3333333333333333,
              "#9c179e"
             ],
             [
              0.4444444444444444,
              "#bd3786"
             ],
             [
              0.5555555555555556,
              "#d8576b"
             ],
             [
              0.6666666666666666,
              "#ed7953"
             ],
             [
              0.7777777777777778,
              "#fb9f3a"
             ],
             [
              0.8888888888888888,
              "#fdca26"
             ],
             [
              1,
              "#f0f921"
             ]
            ],
            "type": "heatmap"
           }
          ],
          "heatmapgl": [
           {
            "colorbar": {
             "outlinewidth": 0,
             "ticks": ""
            },
            "colorscale": [
             [
              0,
              "#0d0887"
             ],
             [
              0.1111111111111111,
              "#46039f"
             ],
             [
              0.2222222222222222,
              "#7201a8"
             ],
             [
              0.3333333333333333,
              "#9c179e"
             ],
             [
              0.4444444444444444,
              "#bd3786"
             ],
             [
              0.5555555555555556,
              "#d8576b"
             ],
             [
              0.6666666666666666,
              "#ed7953"
             ],
             [
              0.7777777777777778,
              "#fb9f3a"
             ],
             [
              0.8888888888888888,
              "#fdca26"
             ],
             [
              1,
              "#f0f921"
             ]
            ],
            "type": "heatmapgl"
           }
          ],
          "histogram": [
           {
            "marker": {
             "pattern": {
              "fillmode": "overlay",
              "size": 10,
              "solidity": 0.2
             }
            },
            "type": "histogram"
           }
          ],
          "histogram2d": [
           {
            "colorbar": {
             "outlinewidth": 0,
             "ticks": ""
            },
            "colorscale": [
             [
              0,
              "#0d0887"
             ],
             [
              0.1111111111111111,
              "#46039f"
             ],
             [
              0.2222222222222222,
              "#7201a8"
             ],
             [
              0.3333333333333333,
              "#9c179e"
             ],
             [
              0.4444444444444444,
              "#bd3786"
             ],
             [
              0.5555555555555556,
              "#d8576b"
             ],
             [
              0.6666666666666666,
              "#ed7953"
             ],
             [
              0.7777777777777778,
              "#fb9f3a"
             ],
             [
              0.8888888888888888,
              "#fdca26"
             ],
             [
              1,
              "#f0f921"
             ]
            ],
            "type": "histogram2d"
           }
          ],
          "histogram2dcontour": [
           {
            "colorbar": {
             "outlinewidth": 0,
             "ticks": ""
            },
            "colorscale": [
             [
              0,
              "#0d0887"
             ],
             [
              0.1111111111111111,
              "#46039f"
             ],
             [
              0.2222222222222222,
              "#7201a8"
             ],
             [
              0.3333333333333333,
              "#9c179e"
             ],
             [
              0.4444444444444444,
              "#bd3786"
             ],
             [
              0.5555555555555556,
              "#d8576b"
             ],
             [
              0.6666666666666666,
              "#ed7953"
             ],
             [
              0.7777777777777778,
              "#fb9f3a"
             ],
             [
              0.8888888888888888,
              "#fdca26"
             ],
             [
              1,
              "#f0f921"
             ]
            ],
            "type": "histogram2dcontour"
           }
          ],
          "mesh3d": [
           {
            "colorbar": {
             "outlinewidth": 0,
             "ticks": ""
            },
            "type": "mesh3d"
           }
          ],
          "parcoords": [
           {
            "line": {
             "colorbar": {
              "outlinewidth": 0,
              "ticks": ""
             }
            },
            "type": "parcoords"
           }
          ],
          "pie": [
           {
            "automargin": true,
            "type": "pie"
           }
          ],
          "scatter": [
           {
            "marker": {
             "line": {
              "color": "#283442"
             }
            },
            "type": "scatter"
           }
          ],
          "scatter3d": [
           {
            "line": {
             "colorbar": {
              "outlinewidth": 0,
              "ticks": ""
             }
            },
            "marker": {
             "colorbar": {
              "outlinewidth": 0,
              "ticks": ""
             }
            },
            "type": "scatter3d"
           }
          ],
          "scattercarpet": [
           {
            "marker": {
             "colorbar": {
              "outlinewidth": 0,
              "ticks": ""
             }
            },
            "type": "scattercarpet"
           }
          ],
          "scattergeo": [
           {
            "marker": {
             "colorbar": {
              "outlinewidth": 0,
              "ticks": ""
             }
            },
            "type": "scattergeo"
           }
          ],
          "scattergl": [
           {
            "marker": {
             "line": {
              "color": "#283442"
             }
            },
            "type": "scattergl"
           }
          ],
          "scattermapbox": [
           {
            "marker": {
             "colorbar": {
              "outlinewidth": 0,
              "ticks": ""
             }
            },
            "type": "scattermapbox"
           }
          ],
          "scatterpolar": [
           {
            "marker": {
             "colorbar": {
              "outlinewidth": 0,
              "ticks": ""
             }
            },
            "type": "scatterpolar"
           }
          ],
          "scatterpolargl": [
           {
            "marker": {
             "colorbar": {
              "outlinewidth": 0,
              "ticks": ""
             }
            },
            "type": "scatterpolargl"
           }
          ],
          "scatterternary": [
           {
            "marker": {
             "colorbar": {
              "outlinewidth": 0,
              "ticks": ""
             }
            },
            "type": "scatterternary"
           }
          ],
          "surface": [
           {
            "colorbar": {
             "outlinewidth": 0,
             "ticks": ""
            },
            "colorscale": [
             [
              0,
              "#0d0887"
             ],
             [
              0.1111111111111111,
              "#46039f"
             ],
             [
              0.2222222222222222,
              "#7201a8"
             ],
             [
              0.3333333333333333,
              "#9c179e"
             ],
             [
              0.4444444444444444,
              "#bd3786"
             ],
             [
              0.5555555555555556,
              "#d8576b"
             ],
             [
              0.6666666666666666,
              "#ed7953"
             ],
             [
              0.7777777777777778,
              "#fb9f3a"
             ],
             [
              0.8888888888888888,
              "#fdca26"
             ],
             [
              1,
              "#f0f921"
             ]
            ],
            "type": "surface"
           }
          ],
          "table": [
           {
            "cells": {
             "fill": {
              "color": "#506784"
             },
             "line": {
              "color": "rgb(17,17,17)"
             }
            },
            "header": {
             "fill": {
              "color": "#2a3f5f"
             },
             "line": {
              "color": "rgb(17,17,17)"
             }
            },
            "type": "table"
           }
          ]
         },
         "layout": {
          "annotationdefaults": {
           "arrowcolor": "#f2f5fa",
           "arrowhead": 0,
           "arrowwidth": 1
          },
          "autotypenumbers": "strict",
          "coloraxis": {
           "colorbar": {
            "outlinewidth": 0,
            "ticks": ""
           }
          },
          "colorscale": {
           "diverging": [
            [
             0,
             "#8e0152"
            ],
            [
             0.1,
             "#c51b7d"
            ],
            [
             0.2,
             "#de77ae"
            ],
            [
             0.3,
             "#f1b6da"
            ],
            [
             0.4,
             "#fde0ef"
            ],
            [
             0.5,
             "#f7f7f7"
            ],
            [
             0.6,
             "#e6f5d0"
            ],
            [
             0.7,
             "#b8e186"
            ],
            [
             0.8,
             "#7fbc41"
            ],
            [
             0.9,
             "#4d9221"
            ],
            [
             1,
             "#276419"
            ]
           ],
           "sequential": [
            [
             0,
             "#0d0887"
            ],
            [
             0.1111111111111111,
             "#46039f"
            ],
            [
             0.2222222222222222,
             "#7201a8"
            ],
            [
             0.3333333333333333,
             "#9c179e"
            ],
            [
             0.4444444444444444,
             "#bd3786"
            ],
            [
             0.5555555555555556,
             "#d8576b"
            ],
            [
             0.6666666666666666,
             "#ed7953"
            ],
            [
             0.7777777777777778,
             "#fb9f3a"
            ],
            [
             0.8888888888888888,
             "#fdca26"
            ],
            [
             1,
             "#f0f921"
            ]
           ],
           "sequentialminus": [
            [
             0,
             "#0d0887"
            ],
            [
             0.1111111111111111,
             "#46039f"
            ],
            [
             0.2222222222222222,
             "#7201a8"
            ],
            [
             0.3333333333333333,
             "#9c179e"
            ],
            [
             0.4444444444444444,
             "#bd3786"
            ],
            [
             0.5555555555555556,
             "#d8576b"
            ],
            [
             0.6666666666666666,
             "#ed7953"
            ],
            [
             0.7777777777777778,
             "#fb9f3a"
            ],
            [
             0.8888888888888888,
             "#fdca26"
            ],
            [
             1,
             "#f0f921"
            ]
           ]
          },
          "colorway": [
           "#636efa",
           "#EF553B",
           "#00cc96",
           "#ab63fa",
           "#FFA15A",
           "#19d3f3",
           "#FF6692",
           "#B6E880",
           "#FF97FF",
           "#FECB52"
          ],
          "font": {
           "color": "#f2f5fa"
          },
          "geo": {
           "bgcolor": "rgb(17,17,17)",
           "lakecolor": "rgb(17,17,17)",
           "landcolor": "rgb(17,17,17)",
           "showlakes": true,
           "showland": true,
           "subunitcolor": "#506784"
          },
          "hoverlabel": {
           "align": "left"
          },
          "hovermode": "closest",
          "mapbox": {
           "style": "dark"
          },
          "paper_bgcolor": "rgb(17,17,17)",
          "plot_bgcolor": "rgb(17,17,17)",
          "polar": {
           "angularaxis": {
            "gridcolor": "#506784",
            "linecolor": "#506784",
            "ticks": ""
           },
           "bgcolor": "rgb(17,17,17)",
           "radialaxis": {
            "gridcolor": "#506784",
            "linecolor": "#506784",
            "ticks": ""
           }
          },
          "scene": {
           "xaxis": {
            "backgroundcolor": "rgb(17,17,17)",
            "gridcolor": "#506784",
            "gridwidth": 2,
            "linecolor": "#506784",
            "showbackground": true,
            "ticks": "",
            "zerolinecolor": "#C8D4E3"
           },
           "yaxis": {
            "backgroundcolor": "rgb(17,17,17)",
            "gridcolor": "#506784",
            "gridwidth": 2,
            "linecolor": "#506784",
            "showbackground": true,
            "ticks": "",
            "zerolinecolor": "#C8D4E3"
           },
           "zaxis": {
            "backgroundcolor": "rgb(17,17,17)",
            "gridcolor": "#506784",
            "gridwidth": 2,
            "linecolor": "#506784",
            "showbackground": true,
            "ticks": "",
            "zerolinecolor": "#C8D4E3"
           }
          },
          "shapedefaults": {
           "line": {
            "color": "#f2f5fa"
           }
          },
          "sliderdefaults": {
           "bgcolor": "#C8D4E3",
           "bordercolor": "rgb(17,17,17)",
           "borderwidth": 1,
           "tickwidth": 0
          },
          "ternary": {
           "aaxis": {
            "gridcolor": "#506784",
            "linecolor": "#506784",
            "ticks": ""
           },
           "baxis": {
            "gridcolor": "#506784",
            "linecolor": "#506784",
            "ticks": ""
           },
           "bgcolor": "rgb(17,17,17)",
           "caxis": {
            "gridcolor": "#506784",
            "linecolor": "#506784",
            "ticks": ""
           }
          },
          "title": {
           "x": 0.05
          },
          "updatemenudefaults": {
           "bgcolor": "#506784",
           "borderwidth": 0
          },
          "xaxis": {
           "automargin": true,
           "gridcolor": "#283442",
           "linecolor": "#506784",
           "ticks": "",
           "title": {
            "standoff": 15
           },
           "zerolinecolor": "#283442",
           "zerolinewidth": 2
          },
          "yaxis": {
           "automargin": true,
           "gridcolor": "#283442",
           "linecolor": "#506784",
           "ticks": "",
           "title": {
            "standoff": 15
           },
           "zerolinecolor": "#283442",
           "zerolinewidth": 2
          }
         }
        },
        "title": {
         "text": "Mood by weekday"
        },
        "xaxis": {
         "anchor": "y",
         "domain": [
          0,
          1
         ],
         "dtick": 1,
         "tickmode": "array",
         "ticktext": [
          "Mon",
          "Tue",
          "Wed",
          "Thu",
          "Fri",
          "Sat",
          "Sun"
         ],
         "tickvals": [
          0,
          1,
          2,
          3,
          4,
          5,
          6
         ],
         "title": {
          "text": "Weekday"
         }
        },
        "yaxis": {
         "anchor": "x",
         "domain": [
          0,
          1
         ],
         "title": {
          "text": "Mood"
         }
        }
       }
      }
     },
     "metadata": {},
     "output_type": "display_data"
    }
   ],
   "source": [
    "df.by_time_bar_plot('weekday')"
   ]
  },
  {
   "cell_type": "code",
   "execution_count": 13,
   "metadata": {
    "metadata": {}
   },
   "outputs": [
    {
     "data": {
      "application/vnd.plotly.v1+json": {
       "config": {
        "plotlyServerURL": "https://plot.ly"
       },
       "data": [
        {
         "alignmentgroup": "True",
         "hovertemplate": "Month=%{x}<br>Mood=%{y}<br>Number of entries=%{marker.color}<extra></extra>",
         "legendgroup": "",
         "marker": {
          "color": [
           56,
           121,
           123,
           108,
           94,
           95,
           109,
           71,
           58,
           97,
           95
          ],
          "coloraxis": "coloraxis",
          "pattern": {
           "shape": ""
          }
         },
         "name": "",
         "offsetgroup": "",
         "orientation": "v",
         "showlegend": false,
         "textposition": "auto",
         "type": "bar",
         "x": [
          5,
          4,
          3,
          2,
          1,
          12,
          11,
          10,
          9,
          8,
          7
         ],
         "xaxis": "x",
         "y": [
          3.7857142857142856,
          3.7975206611570247,
          3.6910569105691056,
          3.662037037037037,
          3.904255319148936,
          3.9105263157894736,
          3.7844036697247705,
          4.063380281690141,
          3.9741379310344827,
          3.8247422680412373,
          3.5894736842105264
         ],
         "yaxis": "y"
        }
       ],
       "layout": {
        "barmode": "relative",
        "coloraxis": {
         "colorbar": {
          "title": {
           "text": "Number of entries"
          }
         },
         "colorscale": [
          [
           0,
           "#440154"
          ],
          [
           0.1111111111111111,
           "#482878"
          ],
          [
           0.2222222222222222,
           "#3e4989"
          ],
          [
           0.3333333333333333,
           "#31688e"
          ],
          [
           0.4444444444444444,
           "#26828e"
          ],
          [
           0.5555555555555556,
           "#1f9e89"
          ],
          [
           0.6666666666666666,
           "#35b779"
          ],
          [
           0.7777777777777778,
           "#6ece58"
          ],
          [
           0.8888888888888888,
           "#b5de2b"
          ],
          [
           1,
           "#fde725"
          ]
         ]
        },
        "legend": {
         "tracegroupgap": 0
        },
        "template": {
         "data": {
          "bar": [
           {
            "error_x": {
             "color": "#f2f5fa"
            },
            "error_y": {
             "color": "#f2f5fa"
            },
            "marker": {
             "line": {
              "color": "rgb(17,17,17)",
              "width": 0.5
             },
             "pattern": {
              "fillmode": "overlay",
              "size": 10,
              "solidity": 0.2
             }
            },
            "type": "bar"
           }
          ],
          "barpolar": [
           {
            "marker": {
             "line": {
              "color": "rgb(17,17,17)",
              "width": 0.5
             },
             "pattern": {
              "fillmode": "overlay",
              "size": 10,
              "solidity": 0.2
             }
            },
            "type": "barpolar"
           }
          ],
          "carpet": [
           {
            "aaxis": {
             "endlinecolor": "#A2B1C6",
             "gridcolor": "#506784",
             "linecolor": "#506784",
             "minorgridcolor": "#506784",
             "startlinecolor": "#A2B1C6"
            },
            "baxis": {
             "endlinecolor": "#A2B1C6",
             "gridcolor": "#506784",
             "linecolor": "#506784",
             "minorgridcolor": "#506784",
             "startlinecolor": "#A2B1C6"
            },
            "type": "carpet"
           }
          ],
          "choropleth": [
           {
            "colorbar": {
             "outlinewidth": 0,
             "ticks": ""
            },
            "type": "choropleth"
           }
          ],
          "contour": [
           {
            "colorbar": {
             "outlinewidth": 0,
             "ticks": ""
            },
            "colorscale": [
             [
              0,
              "#0d0887"
             ],
             [
              0.1111111111111111,
              "#46039f"
             ],
             [
              0.2222222222222222,
              "#7201a8"
             ],
             [
              0.3333333333333333,
              "#9c179e"
             ],
             [
              0.4444444444444444,
              "#bd3786"
             ],
             [
              0.5555555555555556,
              "#d8576b"
             ],
             [
              0.6666666666666666,
              "#ed7953"
             ],
             [
              0.7777777777777778,
              "#fb9f3a"
             ],
             [
              0.8888888888888888,
              "#fdca26"
             ],
             [
              1,
              "#f0f921"
             ]
            ],
            "type": "contour"
           }
          ],
          "contourcarpet": [
           {
            "colorbar": {
             "outlinewidth": 0,
             "ticks": ""
            },
            "type": "contourcarpet"
           }
          ],
          "heatmap": [
           {
            "colorbar": {
             "outlinewidth": 0,
             "ticks": ""
            },
            "colorscale": [
             [
              0,
              "#0d0887"
             ],
             [
              0.1111111111111111,
              "#46039f"
             ],
             [
              0.2222222222222222,
              "#7201a8"
             ],
             [
              0.3333333333333333,
              "#9c179e"
             ],
             [
              0.4444444444444444,
              "#bd3786"
             ],
             [
              0.5555555555555556,
              "#d8576b"
             ],
             [
              0.6666666666666666,
              "#ed7953"
             ],
             [
              0.7777777777777778,
              "#fb9f3a"
             ],
             [
              0.8888888888888888,
              "#fdca26"
             ],
             [
              1,
              "#f0f921"
             ]
            ],
            "type": "heatmap"
           }
          ],
          "heatmapgl": [
           {
            "colorbar": {
             "outlinewidth": 0,
             "ticks": ""
            },
            "colorscale": [
             [
              0,
              "#0d0887"
             ],
             [
              0.1111111111111111,
              "#46039f"
             ],
             [
              0.2222222222222222,
              "#7201a8"
             ],
             [
              0.3333333333333333,
              "#9c179e"
             ],
             [
              0.4444444444444444,
              "#bd3786"
             ],
             [
              0.5555555555555556,
              "#d8576b"
             ],
             [
              0.6666666666666666,
              "#ed7953"
             ],
             [
              0.7777777777777778,
              "#fb9f3a"
             ],
             [
              0.8888888888888888,
              "#fdca26"
             ],
             [
              1,
              "#f0f921"
             ]
            ],
            "type": "heatmapgl"
           }
          ],
          "histogram": [
           {
            "marker": {
             "pattern": {
              "fillmode": "overlay",
              "size": 10,
              "solidity": 0.2
             }
            },
            "type": "histogram"
           }
          ],
          "histogram2d": [
           {
            "colorbar": {
             "outlinewidth": 0,
             "ticks": ""
            },
            "colorscale": [
             [
              0,
              "#0d0887"
             ],
             [
              0.1111111111111111,
              "#46039f"
             ],
             [
              0.2222222222222222,
              "#7201a8"
             ],
             [
              0.3333333333333333,
              "#9c179e"
             ],
             [
              0.4444444444444444,
              "#bd3786"
             ],
             [
              0.5555555555555556,
              "#d8576b"
             ],
             [
              0.6666666666666666,
              "#ed7953"
             ],
             [
              0.7777777777777778,
              "#fb9f3a"
             ],
             [
              0.8888888888888888,
              "#fdca26"
             ],
             [
              1,
              "#f0f921"
             ]
            ],
            "type": "histogram2d"
           }
          ],
          "histogram2dcontour": [
           {
            "colorbar": {
             "outlinewidth": 0,
             "ticks": ""
            },
            "colorscale": [
             [
              0,
              "#0d0887"
             ],
             [
              0.1111111111111111,
              "#46039f"
             ],
             [
              0.2222222222222222,
              "#7201a8"
             ],
             [
              0.3333333333333333,
              "#9c179e"
             ],
             [
              0.4444444444444444,
              "#bd3786"
             ],
             [
              0.5555555555555556,
              "#d8576b"
             ],
             [
              0.6666666666666666,
              "#ed7953"
             ],
             [
              0.7777777777777778,
              "#fb9f3a"
             ],
             [
              0.8888888888888888,
              "#fdca26"
             ],
             [
              1,
              "#f0f921"
             ]
            ],
            "type": "histogram2dcontour"
           }
          ],
          "mesh3d": [
           {
            "colorbar": {
             "outlinewidth": 0,
             "ticks": ""
            },
            "type": "mesh3d"
           }
          ],
          "parcoords": [
           {
            "line": {
             "colorbar": {
              "outlinewidth": 0,
              "ticks": ""
             }
            },
            "type": "parcoords"
           }
          ],
          "pie": [
           {
            "automargin": true,
            "type": "pie"
           }
          ],
          "scatter": [
           {
            "marker": {
             "line": {
              "color": "#283442"
             }
            },
            "type": "scatter"
           }
          ],
          "scatter3d": [
           {
            "line": {
             "colorbar": {
              "outlinewidth": 0,
              "ticks": ""
             }
            },
            "marker": {
             "colorbar": {
              "outlinewidth": 0,
              "ticks": ""
             }
            },
            "type": "scatter3d"
           }
          ],
          "scattercarpet": [
           {
            "marker": {
             "colorbar": {
              "outlinewidth": 0,
              "ticks": ""
             }
            },
            "type": "scattercarpet"
           }
          ],
          "scattergeo": [
           {
            "marker": {
             "colorbar": {
              "outlinewidth": 0,
              "ticks": ""
             }
            },
            "type": "scattergeo"
           }
          ],
          "scattergl": [
           {
            "marker": {
             "line": {
              "color": "#283442"
             }
            },
            "type": "scattergl"
           }
          ],
          "scattermapbox": [
           {
            "marker": {
             "colorbar": {
              "outlinewidth": 0,
              "ticks": ""
             }
            },
            "type": "scattermapbox"
           }
          ],
          "scatterpolar": [
           {
            "marker": {
             "colorbar": {
              "outlinewidth": 0,
              "ticks": ""
             }
            },
            "type": "scatterpolar"
           }
          ],
          "scatterpolargl": [
           {
            "marker": {
             "colorbar": {
              "outlinewidth": 0,
              "ticks": ""
             }
            },
            "type": "scatterpolargl"
           }
          ],
          "scatterternary": [
           {
            "marker": {
             "colorbar": {
              "outlinewidth": 0,
              "ticks": ""
             }
            },
            "type": "scatterternary"
           }
          ],
          "surface": [
           {
            "colorbar": {
             "outlinewidth": 0,
             "ticks": ""
            },
            "colorscale": [
             [
              0,
              "#0d0887"
             ],
             [
              0.1111111111111111,
              "#46039f"
             ],
             [
              0.2222222222222222,
              "#7201a8"
             ],
             [
              0.3333333333333333,
              "#9c179e"
             ],
             [
              0.4444444444444444,
              "#bd3786"
             ],
             [
              0.5555555555555556,
              "#d8576b"
             ],
             [
              0.6666666666666666,
              "#ed7953"
             ],
             [
              0.7777777777777778,
              "#fb9f3a"
             ],
             [
              0.8888888888888888,
              "#fdca26"
             ],
             [
              1,
              "#f0f921"
             ]
            ],
            "type": "surface"
           }
          ],
          "table": [
           {
            "cells": {
             "fill": {
              "color": "#506784"
             },
             "line": {
              "color": "rgb(17,17,17)"
             }
            },
            "header": {
             "fill": {
              "color": "#2a3f5f"
             },
             "line": {
              "color": "rgb(17,17,17)"
             }
            },
            "type": "table"
           }
          ]
         },
         "layout": {
          "annotationdefaults": {
           "arrowcolor": "#f2f5fa",
           "arrowhead": 0,
           "arrowwidth": 1
          },
          "autotypenumbers": "strict",
          "coloraxis": {
           "colorbar": {
            "outlinewidth": 0,
            "ticks": ""
           }
          },
          "colorscale": {
           "diverging": [
            [
             0,
             "#8e0152"
            ],
            [
             0.1,
             "#c51b7d"
            ],
            [
             0.2,
             "#de77ae"
            ],
            [
             0.3,
             "#f1b6da"
            ],
            [
             0.4,
             "#fde0ef"
            ],
            [
             0.5,
             "#f7f7f7"
            ],
            [
             0.6,
             "#e6f5d0"
            ],
            [
             0.7,
             "#b8e186"
            ],
            [
             0.8,
             "#7fbc41"
            ],
            [
             0.9,
             "#4d9221"
            ],
            [
             1,
             "#276419"
            ]
           ],
           "sequential": [
            [
             0,
             "#0d0887"
            ],
            [
             0.1111111111111111,
             "#46039f"
            ],
            [
             0.2222222222222222,
             "#7201a8"
            ],
            [
             0.3333333333333333,
             "#9c179e"
            ],
            [
             0.4444444444444444,
             "#bd3786"
            ],
            [
             0.5555555555555556,
             "#d8576b"
            ],
            [
             0.6666666666666666,
             "#ed7953"
            ],
            [
             0.7777777777777778,
             "#fb9f3a"
            ],
            [
             0.8888888888888888,
             "#fdca26"
            ],
            [
             1,
             "#f0f921"
            ]
           ],
           "sequentialminus": [
            [
             0,
             "#0d0887"
            ],
            [
             0.1111111111111111,
             "#46039f"
            ],
            [
             0.2222222222222222,
             "#7201a8"
            ],
            [
             0.3333333333333333,
             "#9c179e"
            ],
            [
             0.4444444444444444,
             "#bd3786"
            ],
            [
             0.5555555555555556,
             "#d8576b"
            ],
            [
             0.6666666666666666,
             "#ed7953"
            ],
            [
             0.7777777777777778,
             "#fb9f3a"
            ],
            [
             0.8888888888888888,
             "#fdca26"
            ],
            [
             1,
             "#f0f921"
            ]
           ]
          },
          "colorway": [
           "#636efa",
           "#EF553B",
           "#00cc96",
           "#ab63fa",
           "#FFA15A",
           "#19d3f3",
           "#FF6692",
           "#B6E880",
           "#FF97FF",
           "#FECB52"
          ],
          "font": {
           "color": "#f2f5fa"
          },
          "geo": {
           "bgcolor": "rgb(17,17,17)",
           "lakecolor": "rgb(17,17,17)",
           "landcolor": "rgb(17,17,17)",
           "showlakes": true,
           "showland": true,
           "subunitcolor": "#506784"
          },
          "hoverlabel": {
           "align": "left"
          },
          "hovermode": "closest",
          "mapbox": {
           "style": "dark"
          },
          "paper_bgcolor": "rgb(17,17,17)",
          "plot_bgcolor": "rgb(17,17,17)",
          "polar": {
           "angularaxis": {
            "gridcolor": "#506784",
            "linecolor": "#506784",
            "ticks": ""
           },
           "bgcolor": "rgb(17,17,17)",
           "radialaxis": {
            "gridcolor": "#506784",
            "linecolor": "#506784",
            "ticks": ""
           }
          },
          "scene": {
           "xaxis": {
            "backgroundcolor": "rgb(17,17,17)",
            "gridcolor": "#506784",
            "gridwidth": 2,
            "linecolor": "#506784",
            "showbackground": true,
            "ticks": "",
            "zerolinecolor": "#C8D4E3"
           },
           "yaxis": {
            "backgroundcolor": "rgb(17,17,17)",
            "gridcolor": "#506784",
            "gridwidth": 2,
            "linecolor": "#506784",
            "showbackground": true,
            "ticks": "",
            "zerolinecolor": "#C8D4E3"
           },
           "zaxis": {
            "backgroundcolor": "rgb(17,17,17)",
            "gridcolor": "#506784",
            "gridwidth": 2,
            "linecolor": "#506784",
            "showbackground": true,
            "ticks": "",
            "zerolinecolor": "#C8D4E3"
           }
          },
          "shapedefaults": {
           "line": {
            "color": "#f2f5fa"
           }
          },
          "sliderdefaults": {
           "bgcolor": "#C8D4E3",
           "bordercolor": "rgb(17,17,17)",
           "borderwidth": 1,
           "tickwidth": 0
          },
          "ternary": {
           "aaxis": {
            "gridcolor": "#506784",
            "linecolor": "#506784",
            "ticks": ""
           },
           "baxis": {
            "gridcolor": "#506784",
            "linecolor": "#506784",
            "ticks": ""
           },
           "bgcolor": "rgb(17,17,17)",
           "caxis": {
            "gridcolor": "#506784",
            "linecolor": "#506784",
            "ticks": ""
           }
          },
          "title": {
           "x": 0.05
          },
          "updatemenudefaults": {
           "bgcolor": "#506784",
           "borderwidth": 0
          },
          "xaxis": {
           "automargin": true,
           "gridcolor": "#283442",
           "linecolor": "#506784",
           "ticks": "",
           "title": {
            "standoff": 15
           },
           "zerolinecolor": "#283442",
           "zerolinewidth": 2
          },
          "yaxis": {
           "automargin": true,
           "gridcolor": "#283442",
           "linecolor": "#506784",
           "ticks": "",
           "title": {
            "standoff": 15
           },
           "zerolinecolor": "#283442",
           "zerolinewidth": 2
          }
         }
        },
        "title": {
         "text": "Mood by month"
        },
        "xaxis": {
         "anchor": "y",
         "domain": [
          0,
          1
         ],
         "dtick": 1,
         "tickmode": "array",
         "ticktext": [
          "Jan",
          "Feb",
          "Mar",
          "Apr",
          "May",
          "Jun",
          "Jul",
          "Aug",
          "Sep",
          "Oct",
          "Nov",
          "Dec"
         ],
         "tickvals": [
          1,
          2,
          3,
          4,
          5,
          6,
          7,
          8,
          9,
          10,
          11,
          12
         ],
         "title": {
          "text": "Month"
         }
        },
        "yaxis": {
         "anchor": "x",
         "domain": [
          0,
          1
         ],
         "title": {
          "text": "Mood"
         }
        }
       }
      }
     },
     "metadata": {},
     "output_type": "display_data"
    }
   ],
   "source": [
    "df.by_time_bar_plot('month')"
   ]
  },
  {
   "cell_type": "markdown",
   "metadata": {},
   "source": [
    "## Entries times differences"
   ]
  },
  {
   "cell_type": "code",
   "execution_count": 14,
   "metadata": {
    "metadata": {}
   },
   "outputs": [
    {
     "data": {
      "application/vnd.plotly.v1+json": {
       "config": {
        "plotlyServerURL": "https://plot.ly"
       },
       "data": [
        {
         "line": {
          "dash": "dashdot"
         },
         "mode": "lines+markers",
         "type": "scatter",
         "x": [
          "2023-07-03T20:05:00",
          "2023-07-04T22:50:00",
          "2023-07-06T12:42:00",
          "2023-07-08T13:43:00",
          "2023-07-08T15:52:00",
          "2023-07-09T11:36:00",
          "2023-07-09T22:33:00",
          "2023-07-11T23:00:00",
          "2023-07-12T12:55:00",
          "2023-07-12T21:35:00",
          "2023-07-13T10:42:00",
          "2023-07-15T23:01:00",
          "2023-07-16T20:02:00",
          "2023-07-17T16:10:00",
          "2023-07-17T19:17:00",
          "2023-07-17T20:29:00",
          "2023-07-17T21:37:00",
          "2023-07-18T12:23:00",
          "2023-07-18T13:49:00",
          "2023-07-18T23:12:00",
          "2023-07-19T13:27:00",
          "2023-07-19T18:28:00",
          "2023-07-19T20:16:00",
          "2023-07-19T23:10:00",
          "2023-07-20T13:12:00",
          "2023-07-20T16:58:00",
          "2023-07-20T21:21:00",
          "2023-07-21T11:00:00",
          "2023-07-21T23:25:00",
          "2023-07-22T11:30:00",
          "2023-07-22T13:30:00",
          "2023-07-22T17:09:00",
          "2023-07-22T19:34:00",
          "2023-07-22T22:17:00",
          "2023-07-23T10:56:00",
          "2023-07-23T15:14:00",
          "2023-07-23T17:24:00",
          "2023-07-23T20:49:00",
          "2023-07-24T01:45:00",
          "2023-07-24T20:01:00",
          "2023-07-24T23:54:00",
          "2023-07-25T01:06:00",
          "2023-07-25T14:04:00",
          "2023-07-25T15:49:00",
          "2023-07-25T22:06:00",
          "2023-07-26T15:00:00",
          "2023-07-26T18:20:00",
          "2023-07-26T23:13:00",
          "2023-07-27T01:15:00",
          "2023-07-27T15:54:00",
          "2023-07-27T16:02:00",
          "2023-07-27T21:04:00",
          "2023-07-28T10:16:00",
          "2023-07-28T12:12:00",
          "2023-07-28T16:48:00",
          "2023-07-28T21:15:00",
          "2023-07-28T22:54:00",
          "2023-07-29T10:38:00",
          "2023-07-29T15:39:00",
          "2023-07-29T20:04:00",
          "2023-07-30T11:01:00",
          "2023-07-30T12:08:00",
          "2023-07-30T13:01:00",
          "2023-07-30T23:26:00",
          "2023-07-31T12:00:00",
          "2023-07-31T16:45:00",
          "2023-07-31T17:22:00",
          "2023-08-01T10:53:00",
          "2023-08-01T16:11:00",
          "2023-08-01T23:21:00",
          "2023-08-01T23:59:00",
          "2023-08-02T11:49:00",
          "2023-08-02T15:34:00",
          "2023-08-02T18:30:00",
          "2023-08-02T21:10:00",
          "2023-08-03T00:04:00",
          "2023-08-03T18:01:00",
          "2023-08-03T22:51:00",
          "2023-08-04T09:24:00",
          "2023-08-04T16:34:00",
          "2023-08-05T11:32:00",
          "2023-08-05T15:52:00",
          "2023-08-05T22:29:00",
          "2023-08-05T23:29:00",
          "2023-08-06T12:14:00",
          "2023-08-06T15:48:00",
          "2023-08-06T23:45:00",
          "2023-08-07T15:44:00",
          "2023-08-07T23:42:00",
          "2023-08-08T09:22:00",
          "2023-08-08T11:24:00",
          "2023-08-08T22:02:00",
          "2023-08-09T14:55:00",
          "2023-08-09T16:10:00",
          "2023-08-09T17:49:00",
          "2023-08-09T20:01:00",
          "2023-08-10T00:24:00",
          "2023-08-10T20:12:00",
          "2023-08-11T00:29:00",
          "2023-08-11T11:23:00",
          "2023-08-11T13:36:00",
          "2023-08-11T21:24:00",
          "2023-08-12T15:11:00",
          "2023-08-12T20:11:00",
          "2023-08-12T23:59:00",
          "2023-08-13T01:02:00",
          "2023-08-13T12:23:00",
          "2023-08-13T15:31:00",
          "2023-08-14T21:07:00",
          "2023-08-15T01:02:00",
          "2023-08-16T01:33:00",
          "2023-08-17T23:03:00",
          "2023-08-19T01:27:00",
          "2023-08-20T16:35:00",
          "2023-08-20T21:51:00",
          "2023-08-21T00:14:00",
          "2023-08-21T13:11:00",
          "2023-08-21T20:05:00",
          "2023-08-22T13:18:00",
          "2023-08-22T18:07:00",
          "2023-08-30T19:49:00",
          "2023-08-30T20:00:00",
          "2023-08-31T22:48:00",
          "2023-09-01T12:36:00",
          "2023-09-02T12:13:00",
          "2023-09-02T16:31:00",
          "2023-09-02T21:03:00",
          "2023-09-03T13:33:00",
          "2023-09-03T15:11:00",
          "2023-09-03T23:10:00",
          "2023-09-05T20:14:00",
          "2023-09-06T11:33:00",
          "2023-09-06T23:34:00",
          "2023-09-07T20:24:00",
          "2023-09-08T12:40:00",
          "2023-09-08T21:12:00",
          "2023-09-09T20:01:00",
          "2023-09-10T20:04:00",
          "2023-09-11T13:01:00",
          "2023-09-11T21:24:00",
          "2023-09-12T21:17:00",
          "2023-09-13T16:31:00",
          "2023-09-13T20:09:00",
          "2023-09-14T21:16:00",
          "2023-09-15T13:40:00",
          "2023-09-15T21:55:00",
          "2023-09-29T17:53:00",
          "2023-09-29T19:05:00",
          "2023-09-30T16:10:00",
          "2023-09-30T16:30:00",
          "2023-09-30T20:02:00",
          "2023-10-01T00:30:00",
          "2023-10-01T09:41:00",
          "2023-10-03T10:42:00",
          "2023-10-04T09:12:00",
          "2023-10-05T09:55:00",
          "2023-10-06T16:39:00",
          "2023-10-07T11:03:00",
          "2023-10-07T12:32:00",
          "2023-10-09T17:56:00",
          "2023-10-10T09:49:00",
          "2023-10-10T22:39:00",
          "2023-10-10T22:44:00",
          "2023-10-11T19:00:00",
          "2023-10-13T14:42:00",
          "2023-10-16T12:48:00",
          "2023-10-16T16:57:00",
          "2023-10-18T01:37:00",
          "2023-10-18T01:40:00",
          "2023-10-19T12:19:00",
          "2023-10-23T10:17:00",
          "2023-10-23T17:02:00",
          "2023-10-23T23:20:00",
          "2023-10-24T13:09:00",
          "2023-10-24T20:47:00",
          "2023-10-26T16:11:00",
          "2023-10-27T16:10:00",
          "2023-10-28T23:00:00",
          "2023-10-29T10:05:00",
          "2023-10-30T22:53:00",
          "2023-10-31T15:15:00",
          "2023-10-31T16:44:00",
          "2023-11-03T11:56:00",
          "2023-11-03T14:25:00",
          "2023-11-03T23:42:00",
          "2023-11-04T10:02:00",
          "2023-11-04T20:00:00",
          "2023-11-04T23:45:00",
          "2023-11-05T12:14:00",
          "2023-11-05T23:49:00",
          "2023-11-06T09:58:00",
          "2023-11-06T23:09:00",
          "2023-11-07T11:22:00",
          "2023-11-07T13:43:00",
          "2023-11-07T16:03:00",
          "2023-11-07T21:00:00",
          "2023-11-08T12:19:00",
          "2023-11-08T12:55:00",
          "2023-11-08T23:44:00",
          "2023-11-08T23:44:00",
          "2023-11-09T00:10:00",
          "2023-11-09T15:02:00",
          "2023-11-09T23:52:00",
          "2023-11-10T15:22:00",
          "2023-11-10T21:36:00",
          "2023-11-10T22:24:00",
          "2023-11-11T14:25:00",
          "2023-11-11T17:26:00",
          "2023-11-12T10:00:00",
          "2023-11-12T14:00:00",
          "2023-11-12T17:39:00",
          "2023-11-12T21:00:00",
          "2023-11-13T14:47:00",
          "2023-11-13T15:39:00",
          "2023-11-13T17:03:00",
          "2023-11-14T12:22:00",
          "2023-11-14T13:13:00",
          "2023-11-14T21:06:00",
          "2023-11-15T15:56:00",
          "2023-11-15T19:04:00",
          "2023-11-15T22:00:00",
          "2023-11-16T11:49:00",
          "2023-11-16T20:34:00",
          "2023-11-16T23:27:00",
          "2023-11-17T13:56:00",
          "2023-11-19T23:29:00",
          "2023-11-20T14:48:00",
          "2023-11-20T20:20:00",
          "2023-11-21T21:00:00",
          "2023-11-22T18:49:00",
          "2023-11-22T21:41:00",
          "2023-11-23T15:26:00",
          "2023-11-23T21:57:00",
          "2023-11-24T11:07:00",
          "2023-11-24T15:31:00",
          "2023-11-24T18:17:00",
          "2023-11-25T11:37:00",
          "2023-11-27T19:01:00",
          "2023-11-27T20:30:00",
          "2023-11-28T04:25:00",
          "2023-11-28T13:07:00",
          "2023-11-28T16:49:00",
          "2023-11-28T23:00:00",
          "2023-11-29T16:42:00",
          "2023-11-30T11:07:00",
          "2023-11-30T17:06:00",
          "2023-12-01T00:19:00",
          "2023-12-01T20:01:00",
          "2023-12-02T20:18:00",
          "2023-12-02T20:24:00",
          "2023-12-02T21:48:00",
          "2023-12-03T01:07:00",
          "2023-12-03T11:09:00",
          "2023-12-03T12:39:00",
          "2023-12-03T18:04:00",
          "2023-12-04T20:02:00",
          "2023-12-05T10:46:00",
          "2023-12-05T23:47:00",
          "2023-12-06T11:16:00",
          "2023-12-07T18:30:00",
          "2023-12-07T20:02:00",
          "2023-12-08T22:50:00",
          "2023-12-09T00:21:00",
          "2023-12-09T10:27:00",
          "2023-12-09T12:27:00",
          "2023-12-09T17:53:00",
          "2023-12-09T21:15:00",
          "2023-12-10T14:56:00",
          "2023-12-11T19:50:00",
          "2023-12-12T14:21:00",
          "2023-12-12T21:50:00",
          "2023-12-13T11:55:00",
          "2023-12-13T17:53:00",
          "2023-12-13T23:59:00",
          "2023-12-14T12:44:00",
          "2023-12-14T21:09:00",
          "2023-12-15T12:40:00",
          "2023-12-15T16:25:00",
          "2023-12-18T20:00:00",
          "2023-12-18T23:06:00",
          "2023-12-19T14:16:00",
          "2023-12-19T20:55:00",
          "2023-12-20T12:17:00",
          "2023-12-20T23:00:00",
          "2023-12-20T23:50:00",
          "2023-12-21T15:38:00",
          "2023-12-21T16:38:00",
          "2023-12-21T19:10:00",
          "2023-12-21T20:34:00",
          "2023-12-21T21:38:00",
          "2023-12-22T00:51:00",
          "2023-12-22T13:34:00",
          "2023-12-27T18:55:00",
          "2023-12-27T23:35:00",
          "2023-12-28T00:45:00",
          "2023-12-28T19:05:00",
          "2023-12-29T11:49:00",
          "2023-12-29T23:34:00",
          "2023-12-30T19:00:00",
          "2023-12-31T16:48:00",
          "2023-12-31T21:51:00",
          "2023-12-31T22:21:00",
          "2024-01-01T12:05:00",
          "2024-01-01T18:45:00",
          "2024-01-02T11:53:00",
          "2024-01-02T14:05:00",
          "2024-01-03T15:55:00",
          "2024-01-03T20:40:00",
          "2024-01-04T11:30:00",
          "2024-01-04T14:05:00",
          "2024-01-04T16:15:00",
          "2024-01-04T23:04:00",
          "2024-01-05T12:53:00",
          "2024-01-06T15:37:00",
          "2024-01-08T23:28:00",
          "2024-01-10T23:13:00",
          "2024-01-12T13:56:00",
          "2024-01-12T18:19:00",
          "2024-01-12T20:30:00",
          "2024-01-13T01:00:00",
          "2024-01-13T13:00:00",
          "2024-01-13T16:48:00",
          "2024-01-14T13:19:00",
          "2024-01-14T23:08:00",
          "2024-01-14T23:56:00",
          "2024-01-16T20:47:00",
          "2024-01-16T21:31:00",
          "2024-01-17T21:44:00",
          "2024-01-18T11:43:00",
          "2024-01-18T16:09:00",
          "2024-01-19T23:30:00",
          "2024-01-20T00:20:00",
          "2024-01-20T23:42:00",
          "2024-01-21T23:14:00",
          "2024-01-22T00:48:00",
          "2024-01-22T14:50:00",
          "2024-01-22T16:50:00",
          "2024-01-22T19:51:00",
          "2024-01-24T00:57:00",
          "2024-01-24T02:16:00",
          "2024-01-24T08:10:00",
          "2024-01-25T01:03:00",
          "2024-01-25T16:02:00",
          "2024-01-25T19:30:00",
          "2024-01-25T20:03:00",
          "2024-01-25T23:13:00",
          "2024-01-26T12:14:00",
          "2024-01-26T13:55:00",
          "2024-01-26T15:24:00",
          "2024-01-28T16:16:00",
          "2024-01-28T20:06:00",
          "2024-01-29T00:11:00",
          "2024-01-29T13:50:00",
          "2024-01-29T14:16:00",
          "2024-01-29T17:58:00",
          "2024-01-29T20:02:00",
          "2024-01-30T19:38:00",
          "2024-01-30T23:08:00",
          "2024-02-01T17:36:00",
          "2024-02-01T22:20:00",
          "2024-02-02T15:25:00",
          "2024-02-02T16:51:00",
          "2024-02-03T10:29:00",
          "2024-02-03T13:20:00",
          "2024-02-06T20:10:00",
          "2024-02-06T22:42:00",
          "2024-02-07T00:28:00",
          "2024-02-07T21:45:00",
          "2024-02-08T12:53:00",
          "2024-02-08T15:31:00",
          "2024-02-08T19:10:00",
          "2024-02-08T20:33:00",
          "2024-02-09T13:29:00",
          "2024-02-09T14:42:00",
          "2024-02-09T15:41:00",
          "2024-02-12T10:24:00",
          "2024-02-12T18:25:00",
          "2024-02-12T23:01:00",
          "2024-02-13T10:21:00",
          "2024-02-13T16:43:00",
          "2024-02-13T19:44:00",
          "2024-02-13T21:21:00",
          "2024-02-13T23:04:00",
          "2024-02-14T11:38:00",
          "2024-02-14T15:35:00",
          "2024-02-14T20:47:00",
          "2024-02-14T23:53:00",
          "2024-02-15T12:12:00",
          "2024-02-15T15:45:00",
          "2024-02-15T19:23:00",
          "2024-02-15T21:23:00",
          "2024-02-16T14:08:00",
          "2024-02-16T16:04:00",
          "2024-02-16T16:10:00",
          "2024-02-17T11:13:00",
          "2024-02-17T18:00:00",
          "2024-02-17T18:35:00",
          "2024-02-18T13:18:00",
          "2024-02-18T16:15:00",
          "2024-02-18T19:01:00",
          "2024-02-18T23:23:00",
          "2024-02-19T13:55:00",
          "2024-02-19T20:40:00",
          "2024-02-20T19:15:00",
          "2024-02-21T18:35:00",
          "2024-02-21T21:21:00",
          "2024-02-22T14:08:00",
          "2024-02-22T17:46:00",
          "2024-02-22T21:32:00",
          "2024-02-23T16:25:00",
          "2024-02-23T19:40:00",
          "2024-02-24T11:39:00",
          "2024-02-24T16:01:00",
          "2024-02-25T00:40:00",
          "2024-02-25T17:00:00",
          "2024-02-25T19:02:00",
          "2024-02-26T19:28:00",
          "2024-02-26T20:14:00",
          "2024-02-27T14:08:00",
          "2024-02-27T16:26:00",
          "2024-02-29T23:50:00",
          "2024-03-01T22:05:00",
          "2024-03-02T21:30:00",
          "2024-03-02T22:22:00",
          "2024-03-03T10:20:00",
          "2024-03-03T16:06:00",
          "2024-03-03T22:36:00",
          "2024-03-04T16:34:00",
          "2024-03-04T20:03:00",
          "2024-03-05T21:41:00",
          "2024-03-05T23:12:00",
          "2024-03-06T22:13:00",
          "2024-03-07T13:26:00",
          "2024-03-07T21:46:00",
          "2024-03-08T12:27:00",
          "2024-03-08T13:47:00",
          "2024-03-08T17:26:00",
          "2024-03-08T19:00:00",
          "2024-03-08T19:44:00",
          "2024-03-08T20:00:00",
          "2024-03-09T10:25:00",
          "2024-03-09T10:46:00",
          "2024-03-09T15:22:00",
          "2024-03-09T15:45:00",
          "2024-03-09T17:01:00",
          "2024-03-09T19:02:00",
          "2024-03-09T20:15:00",
          "2024-03-09T23:04:00",
          "2024-03-10T11:59:00",
          "2024-03-10T19:41:00",
          "2024-03-11T21:58:00",
          "2024-03-12T20:20:00",
          "2024-03-12T22:51:00",
          "2024-03-13T19:27:00",
          "2024-03-13T21:55:00",
          "2024-03-14T10:15:00",
          "2024-03-14T11:00:00",
          "2024-03-14T14:48:00",
          "2024-03-14T21:00:00",
          "2024-03-14T22:24:00",
          "2024-03-14T23:49:00",
          "2024-03-15T10:37:00",
          "2024-03-18T12:00:00",
          "2024-03-20T20:42:00",
          "2024-03-21T13:40:00",
          "2024-03-21T15:20:00",
          "2024-03-22T20:00:00",
          "2024-03-23T10:10:00",
          "2024-03-25T16:31:00",
          "2024-03-25T17:32:00",
          "2024-03-25T19:17:00",
          "2024-03-26T10:04:00",
          "2024-03-26T12:04:00",
          "2024-03-26T16:25:00",
          "2024-03-26T16:45:00",
          "2024-03-26T18:04:00",
          "2024-03-27T20:31:00",
          "2024-03-27T22:05:00",
          "2024-03-28T00:25:00",
          "2024-03-28T19:10:00",
          "2024-03-28T20:00:00",
          "2024-03-29T10:20:00",
          "2024-03-29T14:52:00",
          "2024-03-29T19:03:00",
          "2024-03-30T10:02:00",
          "2024-03-30T14:28:00",
          "2024-03-30T18:25:00",
          "2024-03-30T18:35:00",
          "2024-03-31T12:53:00",
          "2024-03-31T16:04:00",
          "2024-03-31T20:00:00",
          "2024-04-01T10:19:00",
          "2024-04-01T13:20:00",
          "2024-04-01T16:35:00",
          "2024-04-01T19:40:00",
          "2024-04-01T23:59:00",
          "2024-04-02T20:00:00",
          "2024-04-02T20:59:00",
          "2024-04-03T20:02:00",
          "2024-04-04T14:10:00",
          "2024-04-04T15:44:00",
          "2024-04-04T18:45:00",
          "2024-04-04T19:40:00",
          "2024-04-04T23:12:00",
          "2024-04-05T11:34:00",
          "2024-04-05T12:54:00",
          "2024-04-05T16:00:00",
          "2024-04-05T20:00:00",
          "2024-04-06T11:49:00",
          "2024-04-06T15:27:00",
          "2024-04-07T08:19:00",
          "2024-04-07T11:41:00",
          "2024-04-07T20:11:00",
          "2024-04-07T22:44:00",
          "2024-04-08T10:00:00",
          "2024-04-08T13:36:00",
          "2024-04-08T15:00:00",
          "2024-04-08T17:47:00",
          "2024-04-08T19:40:00",
          "2024-04-09T22:24:00",
          "2024-04-10T00:45:00",
          "2024-04-10T23:42:00",
          "2024-04-11T14:21:00",
          "2024-04-11T16:22:00",
          "2024-04-11T19:20:00",
          "2024-04-12T05:25:00",
          "2024-04-12T10:59:00",
          "2024-04-12T12:14:00",
          "2024-04-12T15:22:00",
          "2024-04-12T21:41:00",
          "2024-04-12T23:29:00",
          "2024-04-13T12:15:00",
          "2024-04-13T15:50:00",
          "2024-04-13T19:18:00",
          "2024-04-13T23:17:00",
          "2024-04-14T01:07:00",
          "2024-04-15T14:39:00",
          "2024-04-15T15:20:00",
          "2024-04-15T23:54:00",
          "2024-04-16T18:46:00",
          "2024-04-16T19:20:00",
          "2024-04-16T22:00:00",
          "2024-04-16T23:55:00",
          "2024-04-17T07:12:00",
          "2024-04-18T20:11:00",
          "2024-04-19T00:27:00",
          "2024-04-19T10:44:00",
          "2024-04-19T14:31:00",
          "2024-04-19T16:33:00",
          "2024-04-19T19:00:00",
          "2024-04-20T12:27:00",
          "2024-04-22T18:48:00",
          "2024-04-22T20:00:00",
          "2024-04-23T23:02:00",
          "2024-04-24T12:33:00",
          "2024-04-24T15:19:00",
          "2024-04-24T18:28:00",
          "2024-04-24T21:05:00",
          "2024-04-25T19:02:00",
          "2024-04-26T11:49:00",
          "2024-04-26T15:50:00",
          "2024-04-26T16:38:00",
          "2024-04-28T22:38:00",
          "2024-04-29T17:00:00",
          "2024-04-29T22:05:00",
          "2024-05-03T01:12:00",
          "2024-05-04T13:09:00",
          "2024-05-04T15:58:00",
          "2024-05-04T22:05:00",
          "2024-05-04T23:54:00",
          "2024-05-05T10:50:00",
          "2024-05-05T13:51:00",
          "2024-05-05T22:12:00",
          "2024-05-05T22:50:00",
          "2024-05-05T23:17:00",
          "2024-05-07T23:55:00",
          "2024-05-08T09:34:00",
          "2024-05-10T20:29:00",
          "2024-05-11T00:15:00",
          "2024-05-11T10:24:00",
          "2024-05-11T13:20:00",
          "2024-05-11T13:25:00",
          "2024-05-11T16:24:00",
          "2024-05-12T22:22:00",
          "2024-05-13T16:47:00",
          "2024-05-13T22:04:00",
          "2024-05-15T08:41:00",
          "2024-05-15T10:45:00",
          "2024-05-15T13:28:00",
          "2024-05-15T16:00:00"
         ],
         "y": [
          2.0034722222222223,
          1.1145833333333333,
          1.5777777777777777,
          2.042361111111111,
          0.08958333333333333,
          0.8222222222222222,
          0.45625,
          2.01875,
          0.5798611111111112,
          0.3611111111111111,
          0.5465277777777777,
          2.5131944444444443,
          0.8756944444444444,
          0.8388888888888889,
          0.12986111111111112,
          0.05,
          0.04722222222222222,
          0.6152777777777778,
          0.059722222222222225,
          0.3909722222222222,
          0.59375,
          0.20902777777777778,
          0.075,
          0.12083333333333333,
          0.5847222222222223,
          0.15694444444444444,
          0.18263888888888888,
          0.56875,
          0.5173611111111112,
          0.5034722222222222,
          0.08333333333333333,
          0.15208333333333332,
          0.10069444444444445,
          0.11319444444444444,
          0.5270833333333333,
          0.17916666666666667,
          0.09027777777777778,
          0.1423611111111111,
          0.20555555555555555,
          0.7611111111111111,
          0.16180555555555556,
          0.05,
          0.5402777777777777,
          0.07291666666666667,
          0.26180555555555557,
          0.7041666666666667,
          0.1388888888888889,
          0.20347222222222222,
          0.08472222222222223,
          0.6104166666666667,
          0.005555555555555556,
          0.20972222222222223,
          0.55,
          0.08055555555555556,
          0.19166666666666668,
          0.18541666666666667,
          0.06875,
          0.4888888888888889,
          0.20902777777777778,
          0.1840277777777778,
          0.6229166666666667,
          0.04652777777777778,
          0.03680555555555556,
          0.4340277777777778,
          0.5236111111111111,
          0.19791666666666666,
          0.025694444444444443,
          0.7298611111111111,
          0.22083333333333333,
          0.2986111111111111,
          0.02638888888888889,
          0.4930555555555556,
          0.15625,
          0.12222222222222222,
          0.1111111111111111,
          0.12083333333333333,
          0.7479166666666667,
          0.2013888888888889,
          0.4395833333333333,
          0.2986111111111111,
          0.7902777777777777,
          0.18055555555555555,
          0.27569444444444446,
          0.041666666666666664,
          0.53125,
          0.1486111111111111,
          0.33125,
          0.6659722222222222,
          0.33194444444444443,
          0.4027777777777778,
          0.08472222222222223,
          0.44305555555555554,
          0.7034722222222223,
          0.052083333333333336,
          0.06875,
          0.09166666666666666,
          0.18263888888888888,
          0.825,
          0.17847222222222223,
          0.45416666666666666,
          0.09236111111111112,
          0.325,
          0.7409722222222223,
          0.20833333333333334,
          0.15833333333333333,
          0.04375,
          0.47291666666666665,
          0.13055555555555556,
          1.2333333333333334,
          0.16319444444444445,
          1.0215277777777778,
          1.8958333333333333,
          1.1,
          1.6305555555555555,
          0.21944444444444444,
          0.09930555555555555,
          0.5395833333333333,
          0.2875,
          0.7173611111111111,
          0.20069444444444445,
          8.070833333333333,
          0.007638888888888889,
          1.1166666666666667,
          0.575,
          0.9840277777777777,
          0.17916666666666667,
          0.18888888888888888,
          0.6875,
          0.06805555555555555,
          0.3326388888888889,
          1.8777777777777778,
          0.6381944444444444,
          0.5006944444444444,
          0.8680555555555556,
          0.6777777777777778,
          0.35555555555555557,
          0.9506944444444444,
          1.0020833333333334,
          0.70625,
          0.34930555555555554,
          0.9951388888888889,
          0.8013888888888889,
          0.15138888888888888,
          1.0465277777777777,
          0.6833333333333333,
          0.34375,
          13.831944444444444,
          0.05,
          0.8784722222222222,
          0.013888888888888888,
          0.14722222222222223,
          0.18611111111111112,
          0.38263888888888886,
          2.042361111111111,
          0.9375,
          1.0298611111111111,
          1.2805555555555554,
          0.7666666666666667,
          0.06180555555555556,
          2.225,
          0.6618055555555555,
          0.5347222222222222,
          0.003472222222222222,
          0.8444444444444444,
          1.8208333333333333,
          2.9208333333333334,
          0.17291666666666666,
          1.3611111111111112,
          0.0020833333333333333,
          1.44375,
          3.915277777777778,
          0.28125,
          0.2625,
          0.5756944444444444,
          0.31805555555555554,
          1.8083333333333333,
          0.9993055555555556,
          1.2847222222222223,
          0.4618055555555556,
          1.5333333333333334,
          0.6819444444444445,
          0.06180555555555556,
          2.8,
          0.10347222222222222,
          0.38680555555555557,
          0.4305555555555556,
          0.4152777777777778,
          0.15625,
          0.5201388888888889,
          0.4826388888888889,
          0.42291666666666666,
          0.5493055555555556,
          0.5090277777777777,
          0.09791666666666667,
          0.09722222222222222,
          0.20625,
          0.6381944444444444,
          0.025,
          0.45069444444444445,
          0,
          0.018055555555555554,
          0.6194444444444445,
          0.3680555555555556,
          0.6458333333333334,
          0.25972222222222224,
          0.03333333333333333,
          0.6673611111111111,
          0.12569444444444444,
          0.6902777777777778,
          0.16666666666666666,
          0.15208333333333332,
          0.13958333333333334,
          0.7409722222222223,
          0.03611111111111111,
          0.058333333333333334,
          0.8048611111111111,
          0.035416666666666666,
          0.3284722222222222,
          0.7847222222222222,
          0.13055555555555556,
          0.12222222222222222,
          0.5756944444444444,
          0.3645833333333333,
          0.12013888888888889,
          0.6034722222222222,
          2.3979166666666667,
          0.6381944444444444,
          0.23055555555555557,
          1.0277777777777777,
          0.9090277777777778,
          0.11944444444444445,
          0.7395833333333334,
          0.27152777777777776,
          0.5486111111111112,
          0.18333333333333332,
          0.11527777777777778,
          0.7222222222222222,
          2.308333333333333,
          0.06180555555555556,
          0.3298611111111111,
          0.3625,
          0.15416666666666667,
          0.25763888888888886,
          0.7375,
          0.7673611111111112,
          0.24930555555555556,
          0.30069444444444443,
          0.8208333333333333,
          1.0118055555555556,
          0.004166666666666667,
          0.058333333333333334,
          0.13819444444444445,
          0.41805555555555557,
          0.0625,
          0.22569444444444445,
          1.0819444444444444,
          0.6138888888888889,
          0.5423611111111111,
          0.47847222222222224,
          1.301388888888889,
          0.06388888888888888,
          1.1166666666666667,
          0.06319444444444444,
          0.42083333333333334,
          0.08333333333333333,
          0.2263888888888889,
          0.14027777777777778,
          0.7368055555555556,
          1.2041666666666666,
          0.7715277777777778,
          0.31180555555555556,
          0.5868055555555556,
          0.24861111111111112,
          0.25416666666666665,
          0.53125,
          0.3506944444444444,
          0.6465277777777778,
          0.15625,
          3.1493055555555554,
          0.12916666666666668,
          0.6319444444444444,
          0.27708333333333335,
          0.6402777777777777,
          0.4465277777777778,
          0.034722222222222224,
          0.6583333333333333,
          0.041666666666666664,
          0.10555555555555556,
          0.058333333333333334,
          0.044444444444444446,
          0.13402777777777777,
          0.5298611111111111,
          5.222916666666666,
          0.19444444444444445,
          0.04861111111111111,
          0.7638888888888888,
          0.6972222222222222,
          0.4895833333333333,
          0.8097222222222222,
          0.9083333333333333,
          0.21041666666666667,
          0.020833333333333332,
          0.5722222222222222,
          0.2777777777777778,
          0.7138888888888889,
          0.09166666666666666,
          1.0763888888888888,
          0.19791666666666666,
          0.6180555555555556,
          0.1076388888888889,
          0.09027777777777778,
          0.28402777777777777,
          0.5756944444444444,
          1.113888888888889,
          2.3270833333333334,
          1.9895833333333333,
          1.6131944444444444,
          0.18263888888888888,
          0.09097222222222222,
          0.1875,
          0.5,
          0.15833333333333333,
          0.8548611111111111,
          0.40902777777777777,
          0.03333333333333333,
          1.86875,
          0.030555555555555555,
          1.0090277777777779,
          0.5826388888888889,
          0.18472222222222223,
          1.30625,
          0.034722222222222224,
          0.9736111111111111,
          0.9805555555555555,
          0.06527777777777778,
          0.5847222222222223,
          0.08333333333333333,
          0.12569444444444444,
          1.2125,
          0.05486111111111111,
          0.24583333333333332,
          0.7034722222222223,
          0.6243055555555556,
          0.14444444444444443,
          0.022916666666666665,
          0.13194444444444445,
          0.5423611111111111,
          0.07013888888888889,
          0.06180555555555556,
          2.036111111111111,
          0.1597222222222222,
          0.1701388888888889,
          0.56875,
          0.018055555555555554,
          0.15416666666666667,
          0.08611111111111111,
          0.9833333333333333,
          0.14583333333333334,
          1.7694444444444444,
          0.19722222222222222,
          0.7118055555555556,
          0.059722222222222225,
          0.7347222222222223,
          0.11875,
          3.2847222222222223,
          0.10555555555555556,
          0.07361111111111111,
          0.8868055555555555,
          0.6305555555555555,
          0.10972222222222222,
          0.15208333333333332,
          0.05763888888888889,
          0.7055555555555556,
          0.050694444444444445,
          0.04097222222222222,
          2.779861111111111,
          0.33402777777777776,
          0.19166666666666668,
          0.4722222222222222,
          0.2652777777777778,
          0.12569444444444444,
          0.06736111111111111,
          0.07152777777777777,
          0.5236111111111111,
          0.16458333333333333,
          0.21666666666666667,
          0.12916666666666668,
          0.5131944444444444,
          0.14791666666666667,
          0.15138888888888888,
          0.08333333333333333,
          0.6979166666666666,
          0.08055555555555556,
          0.004166666666666667,
          0.79375,
          0.2826388888888889,
          0.024305555555555556,
          0.7798611111111111,
          0.12291666666666666,
          0.11527777777777778,
          0.18194444444444444,
          0.6055555555555555,
          0.28125,
          0.9409722222222222,
          0.9722222222222222,
          0.11527777777777778,
          0.6993055555555555,
          0.15138888888888888,
          0.15694444444444444,
          0.7868055555555555,
          0.13541666666666666,
          0.6659722222222222,
          0.18194444444444444,
          0.36041666666666666,
          0.6805555555555556,
          0.08472222222222223,
          1.0180555555555555,
          0.03194444444444444,
          0.7458333333333333,
          0.09583333333333334,
          2.308333333333333,
          0.9270833333333334,
          0.9756944444444444,
          0.03611111111111111,
          0.4986111111111111,
          0.24027777777777778,
          0.2708333333333333,
          0.7486111111111111,
          0.1451388888888889,
          1.0680555555555555,
          0.06319444444444444,
          0.9590277777777778,
          0.6340277777777777,
          0.3472222222222222,
          0.6118055555555556,
          0.05555555555555555,
          0.15208333333333332,
          0.06527777777777778,
          0.030555555555555555,
          0.011111111111111112,
          0.6006944444444444,
          0.014583333333333334,
          0.19166666666666668,
          0.01597222222222222,
          0.05277777777777778,
          0.08402777777777778,
          0.050694444444444445,
          0.11736111111111111,
          0.5381944444444444,
          0.32083333333333336,
          1.0951388888888889,
          0.9319444444444445,
          0.10486111111111111,
          0.8583333333333333,
          0.10277777777777777,
          0.5138888888888888,
          0.03125,
          0.15833333333333333,
          0.25833333333333336,
          0.058333333333333334,
          0.059027777777777776,
          0.45,
          3.057638888888889,
          2.3625,
          0.7069444444444445,
          0.06944444444444445,
          1.1944444444444444,
          0.5902777777777778,
          2.2645833333333334,
          0.04236111111111111,
          0.07291666666666667,
          0.6159722222222223,
          0.08333333333333333,
          0.18125,
          0.013888888888888888,
          0.05486111111111111,
          1.1020833333333333,
          0.06527777777777778,
          0.09722222222222222,
          0.78125,
          0.034722222222222224,
          0.5972222222222222,
          0.18888888888888888,
          0.17430555555555555,
          0.6243055555555556,
          0.18472222222222223,
          0.16458333333333333,
          0.006944444444444444,
          0.7625,
          0.1326388888888889,
          0.1638888888888889,
          0.5965277777777778,
          0.12569444444444444,
          0.13541666666666666,
          0.1284722222222222,
          0.1798611111111111,
          0.8340277777777778,
          0.04097222222222222,
          0.9604166666666667,
          0.7555555555555555,
          0.06527777777777778,
          0.12569444444444444,
          0.03819444444444445,
          0.14722222222222223,
          0.5152777777777777,
          0.05555555555555555,
          0.12916666666666668,
          0.16666666666666666,
          0.6590277777777778,
          0.15138888888888888,
          0.7027777777777777,
          0.14027777777777778,
          0.3541666666666667,
          0.10625,
          0.46944444444444444,
          0.15,
          0.058333333333333334,
          0.11597222222222223,
          0.07847222222222222,
          1.113888888888889,
          0.09791666666666667,
          0.95625,
          0.6104166666666667,
          0.08402777777777778,
          0.12361111111111112,
          0.4201388888888889,
          0.23194444444444445,
          0.052083333333333336,
          0.13055555555555556,
          0.26319444444444445,
          0.075,
          0.5319444444444444,
          0.14930555555555555,
          0.14444444444444443,
          0.16597222222222222,
          0.0763888888888889,
          1.5638888888888889,
          0.02847222222222222,
          0.35694444444444445,
          0.7861111111111111,
          0.02361111111111111,
          0.1111111111111111,
          0.0798611111111111,
          0.3034722222222222,
          1.5409722222222222,
          0.17777777777777778,
          0.4284722222222222,
          0.15763888888888888,
          0.08472222222222223,
          0.10208333333333333,
          0.7270833333333333,
          2.2645833333333334,
          0.05,
          1.1263888888888889,
          0.5631944444444444,
          0.11527777777777778,
          0.13125,
          0.10902777777777778,
          0.9145833333333333,
          0.6993055555555555,
          0.1673611111111111,
          0.03333333333333333,
          2.25,
          0.7652777777777777,
          0.21180555555555555,
          3.129861111111111,
          1.4979166666666666,
          0.11736111111111111,
          0.2548611111111111,
          0.07569444444444444,
          0.45555555555555555,
          0.12569444444444444,
          0.34791666666666665,
          0.02638888888888889,
          0.01875,
          2.026388888888889,
          0.40208333333333335,
          2.454861111111111,
          0.15694444444444444,
          0.42291666666666666,
          0.12222222222222222,
          0.003472222222222222,
          0.12430555555555556,
          1.2486111111111111,
          0.7673611111111112,
          0.22013888888888888,
          1.4423611111111112,
          0.08611111111111111,
          0.11319444444444444,
          0.10555555555555556
         ]
        },
        {
         "line": {
          "width": 2
         },
         "marker": {
          "size": 0
         },
         "mode": "lines",
         "name": "Sliding average (window size 14)",
         "type": "scatter",
         "x": [
          "2023-07-16T20:02:00",
          "2023-07-17T16:10:00",
          "2023-07-17T19:17:00",
          "2023-07-17T20:29:00",
          "2023-07-17T21:37:00",
          "2023-07-18T12:23:00",
          "2023-07-18T13:49:00",
          "2023-07-18T23:12:00",
          "2023-07-19T13:27:00",
          "2023-07-19T18:28:00",
          "2023-07-19T20:16:00",
          "2023-07-19T23:10:00",
          "2023-07-20T13:12:00",
          "2023-07-20T16:58:00",
          "2023-07-20T21:21:00",
          "2023-07-21T11:00:00",
          "2023-07-21T23:25:00",
          "2023-07-22T11:30:00",
          "2023-07-22T13:30:00",
          "2023-07-22T17:09:00",
          "2023-07-22T19:34:00",
          "2023-07-22T22:17:00",
          "2023-07-23T10:56:00",
          "2023-07-23T15:14:00",
          "2023-07-23T17:24:00",
          "2023-07-23T20:49:00",
          "2023-07-24T01:45:00",
          "2023-07-24T20:01:00",
          "2023-07-24T23:54:00",
          "2023-07-25T01:06:00",
          "2023-07-25T14:04:00",
          "2023-07-25T15:49:00",
          "2023-07-25T22:06:00",
          "2023-07-26T15:00:00",
          "2023-07-26T18:20:00",
          "2023-07-26T23:13:00",
          "2023-07-27T01:15:00",
          "2023-07-27T15:54:00",
          "2023-07-27T16:02:00",
          "2023-07-27T21:04:00",
          "2023-07-28T10:16:00",
          "2023-07-28T12:12:00",
          "2023-07-28T16:48:00",
          "2023-07-28T21:15:00",
          "2023-07-28T22:54:00",
          "2023-07-29T10:38:00",
          "2023-07-29T15:39:00",
          "2023-07-29T20:04:00",
          "2023-07-30T11:01:00",
          "2023-07-30T12:08:00",
          "2023-07-30T13:01:00",
          "2023-07-30T23:26:00",
          "2023-07-31T12:00:00",
          "2023-07-31T16:45:00",
          "2023-07-31T17:22:00",
          "2023-08-01T10:53:00",
          "2023-08-01T16:11:00",
          "2023-08-01T23:21:00",
          "2023-08-01T23:59:00",
          "2023-08-02T11:49:00",
          "2023-08-02T15:34:00",
          "2023-08-02T18:30:00",
          "2023-08-02T21:10:00",
          "2023-08-03T00:04:00",
          "2023-08-03T18:01:00",
          "2023-08-03T22:51:00",
          "2023-08-04T09:24:00",
          "2023-08-04T16:34:00",
          "2023-08-05T11:32:00",
          "2023-08-05T15:52:00",
          "2023-08-05T22:29:00",
          "2023-08-05T23:29:00",
          "2023-08-06T12:14:00",
          "2023-08-06T15:48:00",
          "2023-08-06T23:45:00",
          "2023-08-07T15:44:00",
          "2023-08-07T23:42:00",
          "2023-08-08T09:22:00",
          "2023-08-08T11:24:00",
          "2023-08-08T22:02:00",
          "2023-08-09T14:55:00",
          "2023-08-09T16:10:00",
          "2023-08-09T17:49:00",
          "2023-08-09T20:01:00",
          "2023-08-10T00:24:00",
          "2023-08-10T20:12:00",
          "2023-08-11T00:29:00",
          "2023-08-11T11:23:00",
          "2023-08-11T13:36:00",
          "2023-08-11T21:24:00",
          "2023-08-12T15:11:00",
          "2023-08-12T20:11:00",
          "2023-08-12T23:59:00",
          "2023-08-13T01:02:00",
          "2023-08-13T12:23:00",
          "2023-08-13T15:31:00",
          "2023-08-14T21:07:00",
          "2023-08-15T01:02:00",
          "2023-08-16T01:33:00",
          "2023-08-17T23:03:00",
          "2023-08-19T01:27:00",
          "2023-08-20T16:35:00",
          "2023-08-20T21:51:00",
          "2023-08-21T00:14:00",
          "2023-08-21T13:11:00",
          "2023-08-21T20:05:00",
          "2023-08-22T13:18:00",
          "2023-08-22T18:07:00",
          "2023-08-30T19:49:00",
          "2023-08-30T20:00:00",
          "2023-08-31T22:48:00",
          "2023-09-01T12:36:00",
          "2023-09-02T12:13:00",
          "2023-09-02T16:31:00",
          "2023-09-02T21:03:00",
          "2023-09-03T13:33:00",
          "2023-09-03T15:11:00",
          "2023-09-03T23:10:00",
          "2023-09-05T20:14:00",
          "2023-09-06T11:33:00",
          "2023-09-06T23:34:00",
          "2023-09-07T20:24:00",
          "2023-09-08T12:40:00",
          "2023-09-08T21:12:00",
          "2023-09-09T20:01:00",
          "2023-09-10T20:04:00",
          "2023-09-11T13:01:00",
          "2023-09-11T21:24:00",
          "2023-09-12T21:17:00",
          "2023-09-13T16:31:00",
          "2023-09-13T20:09:00",
          "2023-09-14T21:16:00",
          "2023-09-15T13:40:00",
          "2023-09-15T21:55:00",
          "2023-09-29T17:53:00",
          "2023-09-29T19:05:00",
          "2023-09-30T16:10:00",
          "2023-09-30T16:30:00",
          "2023-09-30T20:02:00",
          "2023-10-01T00:30:00",
          "2023-10-01T09:41:00",
          "2023-10-03T10:42:00",
          "2023-10-04T09:12:00",
          "2023-10-05T09:55:00",
          "2023-10-06T16:39:00",
          "2023-10-07T11:03:00",
          "2023-10-07T12:32:00",
          "2023-10-09T17:56:00",
          "2023-10-10T09:49:00",
          "2023-10-10T22:39:00",
          "2023-10-10T22:44:00",
          "2023-10-11T19:00:00",
          "2023-10-13T14:42:00",
          "2023-10-16T12:48:00",
          "2023-10-16T16:57:00",
          "2023-10-18T01:37:00",
          "2023-10-18T01:40:00",
          "2023-10-19T12:19:00",
          "2023-10-23T10:17:00",
          "2023-10-23T17:02:00",
          "2023-10-23T23:20:00",
          "2023-10-24T13:09:00",
          "2023-10-24T20:47:00",
          "2023-10-26T16:11:00",
          "2023-10-27T16:10:00",
          "2023-10-28T23:00:00",
          "2023-10-29T10:05:00",
          "2023-10-30T22:53:00",
          "2023-10-31T15:15:00",
          "2023-10-31T16:44:00",
          "2023-11-03T11:56:00",
          "2023-11-03T14:25:00",
          "2023-11-03T23:42:00",
          "2023-11-04T10:02:00",
          "2023-11-04T20:00:00",
          "2023-11-04T23:45:00",
          "2023-11-05T12:14:00",
          "2023-11-05T23:49:00",
          "2023-11-06T09:58:00",
          "2023-11-06T23:09:00",
          "2023-11-07T11:22:00",
          "2023-11-07T13:43:00",
          "2023-11-07T16:03:00",
          "2023-11-07T21:00:00",
          "2023-11-08T12:19:00",
          "2023-11-08T12:55:00",
          "2023-11-08T23:44:00",
          "2023-11-08T23:44:00",
          "2023-11-09T00:10:00",
          "2023-11-09T15:02:00",
          "2023-11-09T23:52:00",
          "2023-11-10T15:22:00",
          "2023-11-10T21:36:00",
          "2023-11-10T22:24:00",
          "2023-11-11T14:25:00",
          "2023-11-11T17:26:00",
          "2023-11-12T10:00:00",
          "2023-11-12T14:00:00",
          "2023-11-12T17:39:00",
          "2023-11-12T21:00:00",
          "2023-11-13T14:47:00",
          "2023-11-13T15:39:00",
          "2023-11-13T17:03:00",
          "2023-11-14T12:22:00",
          "2023-11-14T13:13:00",
          "2023-11-14T21:06:00",
          "2023-11-15T15:56:00",
          "2023-11-15T19:04:00",
          "2023-11-15T22:00:00",
          "2023-11-16T11:49:00",
          "2023-11-16T20:34:00",
          "2023-11-16T23:27:00",
          "2023-11-17T13:56:00",
          "2023-11-19T23:29:00",
          "2023-11-20T14:48:00",
          "2023-11-20T20:20:00",
          "2023-11-21T21:00:00",
          "2023-11-22T18:49:00",
          "2023-11-22T21:41:00",
          "2023-11-23T15:26:00",
          "2023-11-23T21:57:00",
          "2023-11-24T11:07:00",
          "2023-11-24T15:31:00",
          "2023-11-24T18:17:00",
          "2023-11-25T11:37:00",
          "2023-11-27T19:01:00",
          "2023-11-27T20:30:00",
          "2023-11-28T04:25:00",
          "2023-11-28T13:07:00",
          "2023-11-28T16:49:00",
          "2023-11-28T23:00:00",
          "2023-11-29T16:42:00",
          "2023-11-30T11:07:00",
          "2023-11-30T17:06:00",
          "2023-12-01T00:19:00",
          "2023-12-01T20:01:00",
          "2023-12-02T20:18:00",
          "2023-12-02T20:24:00",
          "2023-12-02T21:48:00",
          "2023-12-03T01:07:00",
          "2023-12-03T11:09:00",
          "2023-12-03T12:39:00",
          "2023-12-03T18:04:00",
          "2023-12-04T20:02:00",
          "2023-12-05T10:46:00",
          "2023-12-05T23:47:00",
          "2023-12-06T11:16:00",
          "2023-12-07T18:30:00",
          "2023-12-07T20:02:00",
          "2023-12-08T22:50:00",
          "2023-12-09T00:21:00",
          "2023-12-09T10:27:00",
          "2023-12-09T12:27:00",
          "2023-12-09T17:53:00",
          "2023-12-09T21:15:00",
          "2023-12-10T14:56:00",
          "2023-12-11T19:50:00",
          "2023-12-12T14:21:00",
          "2023-12-12T21:50:00",
          "2023-12-13T11:55:00",
          "2023-12-13T17:53:00",
          "2023-12-13T23:59:00",
          "2023-12-14T12:44:00",
          "2023-12-14T21:09:00",
          "2023-12-15T12:40:00",
          "2023-12-15T16:25:00",
          "2023-12-18T20:00:00",
          "2023-12-18T23:06:00",
          "2023-12-19T14:16:00",
          "2023-12-19T20:55:00",
          "2023-12-20T12:17:00",
          "2023-12-20T23:00:00",
          "2023-12-20T23:50:00",
          "2023-12-21T15:38:00",
          "2023-12-21T16:38:00",
          "2023-12-21T19:10:00",
          "2023-12-21T20:34:00",
          "2023-12-21T21:38:00",
          "2023-12-22T00:51:00",
          "2023-12-22T13:34:00",
          "2023-12-27T18:55:00",
          "2023-12-27T23:35:00",
          "2023-12-28T00:45:00",
          "2023-12-28T19:05:00",
          "2023-12-29T11:49:00",
          "2023-12-29T23:34:00",
          "2023-12-30T19:00:00",
          "2023-12-31T16:48:00",
          "2023-12-31T21:51:00",
          "2023-12-31T22:21:00",
          "2024-01-01T12:05:00",
          "2024-01-01T18:45:00",
          "2024-01-02T11:53:00",
          "2024-01-02T14:05:00",
          "2024-01-03T15:55:00",
          "2024-01-03T20:40:00",
          "2024-01-04T11:30:00",
          "2024-01-04T14:05:00",
          "2024-01-04T16:15:00",
          "2024-01-04T23:04:00",
          "2024-01-05T12:53:00",
          "2024-01-06T15:37:00",
          "2024-01-08T23:28:00",
          "2024-01-10T23:13:00",
          "2024-01-12T13:56:00",
          "2024-01-12T18:19:00",
          "2024-01-12T20:30:00",
          "2024-01-13T01:00:00",
          "2024-01-13T13:00:00",
          "2024-01-13T16:48:00",
          "2024-01-14T13:19:00",
          "2024-01-14T23:08:00",
          "2024-01-14T23:56:00",
          "2024-01-16T20:47:00",
          "2024-01-16T21:31:00",
          "2024-01-17T21:44:00",
          "2024-01-18T11:43:00",
          "2024-01-18T16:09:00",
          "2024-01-19T23:30:00",
          "2024-01-20T00:20:00",
          "2024-01-20T23:42:00",
          "2024-01-21T23:14:00",
          "2024-01-22T00:48:00",
          "2024-01-22T14:50:00",
          "2024-01-22T16:50:00",
          "2024-01-22T19:51:00",
          "2024-01-24T00:57:00",
          "2024-01-24T02:16:00",
          "2024-01-24T08:10:00",
          "2024-01-25T01:03:00",
          "2024-01-25T16:02:00",
          "2024-01-25T19:30:00",
          "2024-01-25T20:03:00",
          "2024-01-25T23:13:00",
          "2024-01-26T12:14:00",
          "2024-01-26T13:55:00",
          "2024-01-26T15:24:00",
          "2024-01-28T16:16:00",
          "2024-01-28T20:06:00",
          "2024-01-29T00:11:00",
          "2024-01-29T13:50:00",
          "2024-01-29T14:16:00",
          "2024-01-29T17:58:00",
          "2024-01-29T20:02:00",
          "2024-01-30T19:38:00",
          "2024-01-30T23:08:00",
          "2024-02-01T17:36:00",
          "2024-02-01T22:20:00",
          "2024-02-02T15:25:00",
          "2024-02-02T16:51:00",
          "2024-02-03T10:29:00",
          "2024-02-03T13:20:00",
          "2024-02-06T20:10:00",
          "2024-02-06T22:42:00",
          "2024-02-07T00:28:00",
          "2024-02-07T21:45:00",
          "2024-02-08T12:53:00",
          "2024-02-08T15:31:00",
          "2024-02-08T19:10:00",
          "2024-02-08T20:33:00",
          "2024-02-09T13:29:00",
          "2024-02-09T14:42:00",
          "2024-02-09T15:41:00",
          "2024-02-12T10:24:00",
          "2024-02-12T18:25:00",
          "2024-02-12T23:01:00",
          "2024-02-13T10:21:00",
          "2024-02-13T16:43:00",
          "2024-02-13T19:44:00",
          "2024-02-13T21:21:00",
          "2024-02-13T23:04:00",
          "2024-02-14T11:38:00",
          "2024-02-14T15:35:00",
          "2024-02-14T20:47:00",
          "2024-02-14T23:53:00",
          "2024-02-15T12:12:00",
          "2024-02-15T15:45:00",
          "2024-02-15T19:23:00",
          "2024-02-15T21:23:00",
          "2024-02-16T14:08:00",
          "2024-02-16T16:04:00",
          "2024-02-16T16:10:00",
          "2024-02-17T11:13:00",
          "2024-02-17T18:00:00",
          "2024-02-17T18:35:00",
          "2024-02-18T13:18:00",
          "2024-02-18T16:15:00",
          "2024-02-18T19:01:00",
          "2024-02-18T23:23:00",
          "2024-02-19T13:55:00",
          "2024-02-19T20:40:00",
          "2024-02-20T19:15:00",
          "2024-02-21T18:35:00",
          "2024-02-21T21:21:00",
          "2024-02-22T14:08:00",
          "2024-02-22T17:46:00",
          "2024-02-22T21:32:00",
          "2024-02-23T16:25:00",
          "2024-02-23T19:40:00",
          "2024-02-24T11:39:00",
          "2024-02-24T16:01:00",
          "2024-02-25T00:40:00",
          "2024-02-25T17:00:00",
          "2024-02-25T19:02:00",
          "2024-02-26T19:28:00",
          "2024-02-26T20:14:00",
          "2024-02-27T14:08:00",
          "2024-02-27T16:26:00",
          "2024-02-29T23:50:00",
          "2024-03-01T22:05:00",
          "2024-03-02T21:30:00",
          "2024-03-02T22:22:00",
          "2024-03-03T10:20:00",
          "2024-03-03T16:06:00",
          "2024-03-03T22:36:00",
          "2024-03-04T16:34:00",
          "2024-03-04T20:03:00",
          "2024-03-05T21:41:00",
          "2024-03-05T23:12:00",
          "2024-03-06T22:13:00",
          "2024-03-07T13:26:00",
          "2024-03-07T21:46:00",
          "2024-03-08T12:27:00",
          "2024-03-08T13:47:00",
          "2024-03-08T17:26:00",
          "2024-03-08T19:00:00",
          "2024-03-08T19:44:00",
          "2024-03-08T20:00:00",
          "2024-03-09T10:25:00",
          "2024-03-09T10:46:00",
          "2024-03-09T15:22:00",
          "2024-03-09T15:45:00",
          "2024-03-09T17:01:00",
          "2024-03-09T19:02:00",
          "2024-03-09T20:15:00",
          "2024-03-09T23:04:00",
          "2024-03-10T11:59:00",
          "2024-03-10T19:41:00",
          "2024-03-11T21:58:00",
          "2024-03-12T20:20:00",
          "2024-03-12T22:51:00",
          "2024-03-13T19:27:00",
          "2024-03-13T21:55:00",
          "2024-03-14T10:15:00",
          "2024-03-14T11:00:00",
          "2024-03-14T14:48:00",
          "2024-03-14T21:00:00",
          "2024-03-14T22:24:00",
          "2024-03-14T23:49:00",
          "2024-03-15T10:37:00",
          "2024-03-18T12:00:00",
          "2024-03-20T20:42:00",
          "2024-03-21T13:40:00",
          "2024-03-21T15:20:00",
          "2024-03-22T20:00:00",
          "2024-03-23T10:10:00",
          "2024-03-25T16:31:00",
          "2024-03-25T17:32:00",
          "2024-03-25T19:17:00",
          "2024-03-26T10:04:00",
          "2024-03-26T12:04:00",
          "2024-03-26T16:25:00",
          "2024-03-26T16:45:00",
          "2024-03-26T18:04:00",
          "2024-03-27T20:31:00",
          "2024-03-27T22:05:00",
          "2024-03-28T00:25:00",
          "2024-03-28T19:10:00",
          "2024-03-28T20:00:00",
          "2024-03-29T10:20:00",
          "2024-03-29T14:52:00",
          "2024-03-29T19:03:00",
          "2024-03-30T10:02:00",
          "2024-03-30T14:28:00",
          "2024-03-30T18:25:00",
          "2024-03-30T18:35:00",
          "2024-03-31T12:53:00",
          "2024-03-31T16:04:00",
          "2024-03-31T20:00:00",
          "2024-04-01T10:19:00",
          "2024-04-01T13:20:00",
          "2024-04-01T16:35:00",
          "2024-04-01T19:40:00",
          "2024-04-01T23:59:00",
          "2024-04-02T20:00:00",
          "2024-04-02T20:59:00",
          "2024-04-03T20:02:00",
          "2024-04-04T14:10:00",
          "2024-04-04T15:44:00",
          "2024-04-04T18:45:00",
          "2024-04-04T19:40:00",
          "2024-04-04T23:12:00",
          "2024-04-05T11:34:00",
          "2024-04-05T12:54:00",
          "2024-04-05T16:00:00",
          "2024-04-05T20:00:00",
          "2024-04-06T11:49:00",
          "2024-04-06T15:27:00",
          "2024-04-07T08:19:00",
          "2024-04-07T11:41:00",
          "2024-04-07T20:11:00",
          "2024-04-07T22:44:00",
          "2024-04-08T10:00:00",
          "2024-04-08T13:36:00",
          "2024-04-08T15:00:00",
          "2024-04-08T17:47:00",
          "2024-04-08T19:40:00",
          "2024-04-09T22:24:00",
          "2024-04-10T00:45:00",
          "2024-04-10T23:42:00",
          "2024-04-11T14:21:00",
          "2024-04-11T16:22:00",
          "2024-04-11T19:20:00",
          "2024-04-12T05:25:00",
          "2024-04-12T10:59:00",
          "2024-04-12T12:14:00",
          "2024-04-12T15:22:00",
          "2024-04-12T21:41:00",
          "2024-04-12T23:29:00",
          "2024-04-13T12:15:00",
          "2024-04-13T15:50:00",
          "2024-04-13T19:18:00",
          "2024-04-13T23:17:00",
          "2024-04-14T01:07:00",
          "2024-04-15T14:39:00",
          "2024-04-15T15:20:00",
          "2024-04-15T23:54:00",
          "2024-04-16T18:46:00",
          "2024-04-16T19:20:00",
          "2024-04-16T22:00:00",
          "2024-04-16T23:55:00",
          "2024-04-17T07:12:00",
          "2024-04-18T20:11:00",
          "2024-04-19T00:27:00",
          "2024-04-19T10:44:00",
          "2024-04-19T14:31:00",
          "2024-04-19T16:33:00",
          "2024-04-19T19:00:00",
          "2024-04-20T12:27:00",
          "2024-04-22T18:48:00",
          "2024-04-22T20:00:00",
          "2024-04-23T23:02:00",
          "2024-04-24T12:33:00",
          "2024-04-24T15:19:00",
          "2024-04-24T18:28:00",
          "2024-04-24T21:05:00",
          "2024-04-25T19:02:00",
          "2024-04-26T11:49:00",
          "2024-04-26T15:50:00",
          "2024-04-26T16:38:00",
          "2024-04-28T22:38:00",
          "2024-04-29T17:00:00",
          "2024-04-29T22:05:00",
          "2024-05-03T01:12:00",
          "2024-05-04T13:09:00",
          "2024-05-04T15:58:00",
          "2024-05-04T22:05:00",
          "2024-05-04T23:54:00",
          "2024-05-05T10:50:00",
          "2024-05-05T13:51:00",
          "2024-05-05T22:12:00",
          "2024-05-05T22:50:00",
          "2024-05-05T23:17:00",
          "2024-05-07T23:55:00",
          "2024-05-08T09:34:00",
          "2024-05-10T20:29:00",
          "2024-05-11T00:15:00",
          "2024-05-11T10:24:00",
          "2024-05-11T13:20:00",
          "2024-05-11T13:25:00",
          "2024-05-11T16:24:00",
          "2024-05-12T22:22:00",
          "2024-05-13T16:47:00",
          "2024-05-13T22:04:00",
          "2024-05-15T08:41:00",
          "2024-05-15T10:45:00",
          "2024-05-15T13:28:00",
          "2024-05-15T16:00:00"
         ],
         "y": [
          1.1314484126984126,
          0.9976190476190476,
          0.921577380952381,
          0.8122519841269841,
          0.7103174603174603,
          0.7081845238095238,
          0.6773809523809523,
          0.687202380952381,
          0.557936507936508,
          0.521875,
          0.5047123015873016,
          0.5074404761904762,
          0.3391369047619048,
          0.28963293650793653,
          0.27033730158730157,
          0.298015873015873,
          0.330406746031746,
          0.3329861111111111,
          0.29990079365079364,
          0.30282738095238093,
          0.2829861111111111,
          0.27822420634920636,
          0.27609126984126986,
          0.2771825396825397,
          0.2787202380952381,
          0.25163690476190476,
          0.2947916666666667,
          0.29330357142857144,
          0.25625,
          0.25788690476190473,
          0.2271329365079365,
          0.2398809523809524,
          0.2793154761904762,
          0.2820436507936508,
          0.28849206349206347,
          0.25689484126984125,
          0.2876984126984127,
          0.2816468253968254,
          0.2864583333333333,
          0.31106150793650794,
          0.26245039682539684,
          0.26458333333333334,
          0.2742559523809524,
          0.24057539682539683,
          0.27028769841269845,
          0.26651785714285714,
          0.22936507936507938,
          0.26393849206349207,
          0.2527281746031746,
          0.24930555555555556,
          0.23670634920634923,
          0.2737103174603175,
          0.2728670634920635,
          0.23541666666666666,
          0.2817956349206349,
          0.28387896825396824,
          0.29196428571428573,
          0.28893849206349204,
          0.28923611111111114,
          0.2854662698412698,
          0.2810515873015873,
          0.2444940476190476,
          0.2498015873015873,
          0.3005952380952381,
          0.2839781746031746,
          0.2779761904761905,
          0.2851686507936508,
          0.33978174603174605,
          0.3005456349206349,
          0.3044642857142857,
          0.2861111111111111,
          0.32217261904761907,
          0.29756944444444444,
          0.31006944444444445,
          0.34890873015873014,
          0.36468253968253966,
          0.3848214285714286,
          0.33745039682539685,
          0.3547123015873016,
          0.37356150793650794,
          0.35595238095238096,
          0.3044146825396825,
          0.2980654761904762,
          0.2914186507936508,
          0.34737103174603173,
          0.32217261904761907,
          0.34399801587301587,
          0.3269345238095238,
          0.30257936507936506,
          0.3317956349206349,
          0.317906746031746,
          0.32316468253968256,
          0.29464285714285715,
          0.2781746031746032,
          0.2837797619047619,
          0.36696428571428574,
          0.3720734126984127,
          0.43199404761904764,
          0.5084821428571429,
          0.5743055555555555,
          0.6583333333333333,
          0.6674107142857143,
          0.6512896825396826,
          0.6369047619047619,
          0.6425595238095239,
          0.6824900793650793,
          0.6937003968253969,
          1.23640873015873,
          1.2276289682539683,
          1.219295634920635,
          1.2487103174603174,
          1.246031746031746,
          1.1234126984126984,
          1.0583333333333333,
          0.9909722222222221,
          0.9801587301587301,
          0.9968253968253968,
          1.0924107142857142,
          1.1174603174603175,
          1.1019841269841268,
          1.1496527777777776,
          0.6215773809523809,
          0.6464285714285715,
          0.6345734126984127,
          0.665079365079365,
          0.6452380952380953,
          0.6573908730158731,
          0.7149801587301587,
          0.7231150793650793,
          0.7290674603174603,
          0.7800595238095238,
          0.6947420634920635,
          0.6737103174603175,
          1.6259424603174604,
          1.5675099206349206,
          1.5818452380952381,
          1.557440476190476,
          1.5000496031746031,
          1.441765873015873,
          1.4186507936507937,
          1.5395833333333333,
          1.5354662698412698,
          1.5517857142857143,
          1.632440476190476,
          1.6124503968253967,
          1.5680555555555555,
          1.7024305555555554,
          0.7617063492063492,
          0.796329365079365,
          0.733829365079365,
          0.7931547619047619,
          0.9126984126984127,
          1.1080357142857142,
          1.0930555555555554,
          1.0443948412698412,
          0.977579365079365,
          1.0071428571428571,
          1.1953373015873017,
          1.1606646825396825,
          1.175,
          1.0571924603174603,
          1.0326388888888889,
          1.1236111111111111,
          1.1947420634920636,
          1.2261904761904763,
          1.1291170634920635,
          1.0300099206349207,
          1.0663690476190477,
          0.973561507936508,
          1.1734126984126985,
          1.0776785714285715,
          0.8256448412698413,
          0.8363095238095238,
          0.8472222222222222,
          0.8172619047619047,
          0.8316964285714286,
          0.7370039682539683,
          0.6958333333333333,
          0.6433035714285714,
          0.6466765873015873,
          0.5441468253968254,
          0.5023809523809524,
          0.5126984126984127,
          0.35828373015873016,
          0.35267857142857145,
          0.3572420634920635,
          0.32648809523809524,
          0.29811507936507936,
          0.3312003968253968,
          0.3203373015873016,
          0.3319940476190476,
          0.3203373015873016,
          0.28348214285714285,
          0.2947916666666667,
          0.29677579365079365,
          0.3391369047619048,
          0.33630952380952384,
          0.30158730158730157,
          0.3097718253968254,
          0.3305059523809524,
          0.33308531746031744,
          0.3359623015873016,
          0.3492063492063492,
          0.3254464285714286,
          0.30277777777777776,
          0.3402777777777778,
          0.3472222222222222,
          0.3082837301587302,
          0.3404265873015873,
          0.3171626984126984,
          0.3138392857142857,
          0.3460813492063492,
          0.507390873015873,
          0.5000496031746031,
          0.5139384920634921,
          0.5831845238095238,
          0.590625,
          0.5966269841269841,
          0.6259920634920635,
          0.5893353174603174,
          0.6191964285714285,
          0.6235615079365079,
          0.5906746031746032,
          0.6162202380952381,
          0.7725198412698413,
          0.733829365079365,
          0.5861111111111111,
          0.5664186507936507,
          0.5609623015873015,
          0.5059523809523809,
          0.4937003968253968,
          0.5399801587301587,
          0.5049603174603174,
          0.5070436507936508,
          0.5264880952380953,
          0.5856646825396825,
          0.5777281746031746,
          0.5303075396825396,
          0.37529761904761905,
          0.40074404761904764,
          0.38164682539682543,
          0.371875,
          0.43814484126984127,
          0.46359126984126986,
          0.4496527777777778,
          0.4290178571428571,
          0.5041666666666667,
          0.4872519841269841,
          0.5083829365079365,
          0.440625,
          0.47038690476190476,
          0.47217261904761904,
          0.47847222222222224,
          0.45863095238095236,
          0.506795634920635,
          0.5766865079365079,
          0.5545138888888889,
          0.5329365079365079,
          0.5361111111111111,
          0.5196924603174603,
          0.44489087301587305,
          0.47827380952380955,
          0.42356150793650793,
          0.4652281746031746,
          0.4463293650793651,
          0.665327380952381,
          0.6583829365079364,
          0.6935019841269842,
          0.6606646825396826,
          0.6203869047619047,
          0.597172619047619,
          0.5773809523809523,
          0.5824900793650793,
          0.5677083333333334,
          0.5570932539682539,
          0.5233134920634921,
          0.501438492063492,
          0.46483134920634916,
          0.4915178571428571,
          0.6396329365079365,
          0.6442956349206349,
          0.6026289682539683,
          0.6374007936507936,
          0.6414682539682539,
          0.6445436507936507,
          0.6999007936507936,
          0.7177579365079365,
          0.729811507936508,
          0.7237599206349206,
          0.7604662698412699,
          0.7771329365079365,
          0.8185515873015873,
          0.787251984126984,
          0.49107142857142855,
          0.4913194444444444,
          0.5319940476190476,
          0.4851190476190476,
          0.441765873015873,
          0.4270833333333333,
          0.4103670634920635,
          0.42504960317460316,
          0.5762400793650794,
          0.7168650793650794,
          0.7912202380952381,
          0.7844246031746032,
          0.7399305555555555,
          0.7467757936507936,
          0.7056051587301587,
          0.7027777777777777,
          0.7196924603174603,
          0.7412202380952381,
          0.7371527777777778,
          0.8503472222222223,
          0.8114087301587302,
          0.8039186507936508,
          0.6793154761904762,
          0.5503968253968254,
          0.5284722222222222,
          0.517906746031746,
          0.580952380952381,
          0.6375992063492063,
          0.606547619047619,
          0.6370039682539682,
          0.5818948412698413,
          0.561656746031746,
          0.6458829365079365,
          0.5163194444444444,
          0.5316964285714285,
          0.5098710317460318,
          0.5128472222222222,
          0.5099702380952381,
          0.41830357142857144,
          0.42524801587301586,
          0.39444444444444443,
          0.32941468253968254,
          0.32916666666666666,
          0.43283730158730155,
          0.4382936507936508,
          0.44146825396825395,
          0.3954861111111111,
          0.39285714285714285,
          0.3863095238095238,
          0.3422123015873016,
          0.3678571428571428,
          0.3679563492063492,
          0.4927083333333333,
          0.4973710317460317,
          0.5094742063492064,
          0.5087301587301587,
          0.5567956349206349,
          0.41984126984126985,
          0.6430555555555556,
          0.6384424603174603,
          0.6030753968253968,
          0.6651289682539683,
          0.699156746031746,
          0.700843253968254,
          0.641468253968254,
          0.6351686507936508,
          0.5591765873015873,
          0.5487103174603175,
          0.5007936507936508,
          0.6950892857142857,
          0.6664682539682539,
          0.6716765873015873,
          0.47078373015873015,
          0.4821924603174603,
          0.4859126984126984,
          0.42738095238095236,
          0.38745039682539684,
          0.41701388888888885,
          0.41790674603174605,
          0.429265873015873,
          0.3880952380952381,
          0.4211309523809524,
          0.42876984126984125,
          0.2410218253968254,
          0.22311507936507935,
          0.2592757936507937,
          0.23129960317460316,
          0.21264880952380952,
          0.2603670634920635,
          0.27574404761904764,
          0.2723710317460317,
          0.29067460317460314,
          0.2876984126984127,
          0.2804563492063492,
          0.28422619047619047,
          0.29082341269841266,
          0.3003472222222222,
          0.35674603174603176,
          0.42023809523809524,
          0.37862103174603173,
          0.4228174603174603,
          0.43333333333333335,
          0.38784722222222223,
          0.423859126984127,
          0.4317956349206349,
          0.4236607142857143,
          0.4278769841269841,
          0.44538690476190473,
          0.48100198412698414,
          0.44379960317460315,
          0.49642857142857144,
          0.43149801587301584,
          0.4153273809523809,
          0.41393849206349204,
          0.5288690476190476,
          0.5842757936507936,
          0.6427579365079364,
          0.5891369047619047,
          0.6150793650793651,
          0.584672619047619,
          0.5910218253968254,
          0.61875,
          0.5805059523809524,
          0.6507440476190476,
          0.5825396825396826,
          0.6487599206349206,
          0.6407738095238095,
          0.6587301587301587,
          0.5375496031746032,
          0.475297619047619,
          0.416468253968254,
          0.4185515873015873,
          0.38511904761904764,
          0.36875,
          0.39231150793650793,
          0.3398809523809524,
          0.3432043650793651,
          0.26805555555555555,
          0.26731150793650793,
          0.20481150793650793,
          0.16314484126984127,
          0.14672619047619048,
          0.14146825396825397,
          0.16041666666666665,
          0.22777777777777777,
          0.2896825396825397,
          0.29499007936507937,
          0.3555059523809524,
          0.31994047619047616,
          0.35560515873015874,
          0.3441468253968254,
          0.3543154761904762,
          0.3689980158730159,
          0.3671626984126984,
          0.3677579365079365,
          0.39151785714285714,
          0.5714781746031746,
          0.7173115079365079,
          0.6895833333333333,
          0.6279761904761905,
          0.7058035714285714,
          0.686656746031746,
          0.8410714285714286,
          0.807390873015873,
          0.8103670634920634,
          0.8430555555555556,
          0.8305555555555556,
          0.8393353174603174,
          0.8361111111111111,
          0.8078869047619047,
          0.6682043650793651,
          0.5041170634920635,
          0.4605654761904762,
          0.5114087301587301,
          0.4285714285714286,
          0.42906746031746035,
          0.28080357142857143,
          0.2902281746031746,
          0.32961309523809523,
          0.2988095238095238,
          0.3046130952380952,
          0.29216269841269843,
          0.34563492063492063,
          0.35119047619047616,
          0.2841765873015873,
          0.3221230158730159,
          0.32415674603174605,
          0.27802579365079366,
          0.2847222222222222,
          0.25491071428571427,
          0.3009920634920635,
          0.291468253968254,
          0.31547619047619047,
          0.35625,
          0.349156746031746,
          0.3576388888888889,
          0.3059027777777778,
          0.30694444444444446,
          0.3320436507936508,
          0.2934027777777778,
          0.29365079365079366,
          0.2958829365079365,
          0.3337797619047619,
          0.33174603174603173,
          0.3223710317460317,
          0.3294642857142857,
          0.28616071428571427,
          0.239781746031746,
          0.26865079365079364,
          0.27038690476190474,
          0.2718253968253968,
          0.26959325396825395,
          0.23839285714285713,
          0.31398809523809523,
          0.3117559523809524,
          0.36815476190476193,
          0.36468253968253966,
          0.35987103174603174,
          0.31850198412698416,
          0.3384920634920635,
          0.32976190476190476,
          0.32589285714285715,
          0.301686507936508,
          0.3097718253968254,
          0.3109623015873016,
          0.3406746031746032,
          0.345734126984127,
          0.27648809523809526,
          0.28134920634920635,
          0.21850198412698413,
          0.28660714285714284,
          0.2826388888888889,
          0.29930555555555555,
          0.3254464285714286,
          0.3105654761904762,
          0.314781746031746,
          0.3111607142857143,
          0.3140376984126984,
          0.41875,
          0.39345238095238094,
          0.4133928571428571,
          0.41433531746031743,
          0.408531746031746,
          0.4103670634920635,
          0.35059523809523807,
          0.5103174603174603,
          0.48839285714285713,
          0.5126984126984127,
          0.5512400793650793,
          0.5515376984126984,
          0.5552083333333333,
          0.5413194444444445,
          0.49657738095238096,
          0.5338293650793651,
          0.5151785714285714,
          0.5062996031746032,
          0.6609623015873016,
          0.7083333333333334,
          0.6715277777777777,
          0.7333333333333333,
          0.8367559523809524,
          0.7646825396825396,
          0.7426587301587302,
          0.7398313492063492,
          0.7629960317460317,
          0.7641865079365079,
          0.7237103174603174,
          0.6756448412698413,
          0.6650297619047619,
          0.807390873015873,
          0.6753968253968253,
          0.7960813492063492,
          0.7921626984126984,
          0.5988095238095238,
          0.500545634920635,
          0.4924107142857143,
          0.48308531746031746,
          0.5668650793650793,
          0.5891369047619047,
          0.5958829365079366,
          0.6740575396825397,
          0.6783234126984127,
          0.6850694444444445,
          0.5478670634920635
         ]
        }
       ],
       "layout": {
        "legend": {
         "orientation": "h",
         "x": 1,
         "xanchor": "right",
         "y": 1.02,
         "yanchor": "bottom"
        },
        "template": {
         "data": {
          "bar": [
           {
            "error_x": {
             "color": "#f2f5fa"
            },
            "error_y": {
             "color": "#f2f5fa"
            },
            "marker": {
             "line": {
              "color": "rgb(17,17,17)",
              "width": 0.5
             },
             "pattern": {
              "fillmode": "overlay",
              "size": 10,
              "solidity": 0.2
             }
            },
            "type": "bar"
           }
          ],
          "barpolar": [
           {
            "marker": {
             "line": {
              "color": "rgb(17,17,17)",
              "width": 0.5
             },
             "pattern": {
              "fillmode": "overlay",
              "size": 10,
              "solidity": 0.2
             }
            },
            "type": "barpolar"
           }
          ],
          "carpet": [
           {
            "aaxis": {
             "endlinecolor": "#A2B1C6",
             "gridcolor": "#506784",
             "linecolor": "#506784",
             "minorgridcolor": "#506784",
             "startlinecolor": "#A2B1C6"
            },
            "baxis": {
             "endlinecolor": "#A2B1C6",
             "gridcolor": "#506784",
             "linecolor": "#506784",
             "minorgridcolor": "#506784",
             "startlinecolor": "#A2B1C6"
            },
            "type": "carpet"
           }
          ],
          "choropleth": [
           {
            "colorbar": {
             "outlinewidth": 0,
             "ticks": ""
            },
            "type": "choropleth"
           }
          ],
          "contour": [
           {
            "colorbar": {
             "outlinewidth": 0,
             "ticks": ""
            },
            "colorscale": [
             [
              0,
              "#0d0887"
             ],
             [
              0.1111111111111111,
              "#46039f"
             ],
             [
              0.2222222222222222,
              "#7201a8"
             ],
             [
              0.3333333333333333,
              "#9c179e"
             ],
             [
              0.4444444444444444,
              "#bd3786"
             ],
             [
              0.5555555555555556,
              "#d8576b"
             ],
             [
              0.6666666666666666,
              "#ed7953"
             ],
             [
              0.7777777777777778,
              "#fb9f3a"
             ],
             [
              0.8888888888888888,
              "#fdca26"
             ],
             [
              1,
              "#f0f921"
             ]
            ],
            "type": "contour"
           }
          ],
          "contourcarpet": [
           {
            "colorbar": {
             "outlinewidth": 0,
             "ticks": ""
            },
            "type": "contourcarpet"
           }
          ],
          "heatmap": [
           {
            "colorbar": {
             "outlinewidth": 0,
             "ticks": ""
            },
            "colorscale": [
             [
              0,
              "#0d0887"
             ],
             [
              0.1111111111111111,
              "#46039f"
             ],
             [
              0.2222222222222222,
              "#7201a8"
             ],
             [
              0.3333333333333333,
              "#9c179e"
             ],
             [
              0.4444444444444444,
              "#bd3786"
             ],
             [
              0.5555555555555556,
              "#d8576b"
             ],
             [
              0.6666666666666666,
              "#ed7953"
             ],
             [
              0.7777777777777778,
              "#fb9f3a"
             ],
             [
              0.8888888888888888,
              "#fdca26"
             ],
             [
              1,
              "#f0f921"
             ]
            ],
            "type": "heatmap"
           }
          ],
          "heatmapgl": [
           {
            "colorbar": {
             "outlinewidth": 0,
             "ticks": ""
            },
            "colorscale": [
             [
              0,
              "#0d0887"
             ],
             [
              0.1111111111111111,
              "#46039f"
             ],
             [
              0.2222222222222222,
              "#7201a8"
             ],
             [
              0.3333333333333333,
              "#9c179e"
             ],
             [
              0.4444444444444444,
              "#bd3786"
             ],
             [
              0.5555555555555556,
              "#d8576b"
             ],
             [
              0.6666666666666666,
              "#ed7953"
             ],
             [
              0.7777777777777778,
              "#fb9f3a"
             ],
             [
              0.8888888888888888,
              "#fdca26"
             ],
             [
              1,
              "#f0f921"
             ]
            ],
            "type": "heatmapgl"
           }
          ],
          "histogram": [
           {
            "marker": {
             "pattern": {
              "fillmode": "overlay",
              "size": 10,
              "solidity": 0.2
             }
            },
            "type": "histogram"
           }
          ],
          "histogram2d": [
           {
            "colorbar": {
             "outlinewidth": 0,
             "ticks": ""
            },
            "colorscale": [
             [
              0,
              "#0d0887"
             ],
             [
              0.1111111111111111,
              "#46039f"
             ],
             [
              0.2222222222222222,
              "#7201a8"
             ],
             [
              0.3333333333333333,
              "#9c179e"
             ],
             [
              0.4444444444444444,
              "#bd3786"
             ],
             [
              0.5555555555555556,
              "#d8576b"
             ],
             [
              0.6666666666666666,
              "#ed7953"
             ],
             [
              0.7777777777777778,
              "#fb9f3a"
             ],
             [
              0.8888888888888888,
              "#fdca26"
             ],
             [
              1,
              "#f0f921"
             ]
            ],
            "type": "histogram2d"
           }
          ],
          "histogram2dcontour": [
           {
            "colorbar": {
             "outlinewidth": 0,
             "ticks": ""
            },
            "colorscale": [
             [
              0,
              "#0d0887"
             ],
             [
              0.1111111111111111,
              "#46039f"
             ],
             [
              0.2222222222222222,
              "#7201a8"
             ],
             [
              0.3333333333333333,
              "#9c179e"
             ],
             [
              0.4444444444444444,
              "#bd3786"
             ],
             [
              0.5555555555555556,
              "#d8576b"
             ],
             [
              0.6666666666666666,
              "#ed7953"
             ],
             [
              0.7777777777777778,
              "#fb9f3a"
             ],
             [
              0.8888888888888888,
              "#fdca26"
             ],
             [
              1,
              "#f0f921"
             ]
            ],
            "type": "histogram2dcontour"
           }
          ],
          "mesh3d": [
           {
            "colorbar": {
             "outlinewidth": 0,
             "ticks": ""
            },
            "type": "mesh3d"
           }
          ],
          "parcoords": [
           {
            "line": {
             "colorbar": {
              "outlinewidth": 0,
              "ticks": ""
             }
            },
            "type": "parcoords"
           }
          ],
          "pie": [
           {
            "automargin": true,
            "type": "pie"
           }
          ],
          "scatter": [
           {
            "marker": {
             "line": {
              "color": "#283442"
             }
            },
            "type": "scatter"
           }
          ],
          "scatter3d": [
           {
            "line": {
             "colorbar": {
              "outlinewidth": 0,
              "ticks": ""
             }
            },
            "marker": {
             "colorbar": {
              "outlinewidth": 0,
              "ticks": ""
             }
            },
            "type": "scatter3d"
           }
          ],
          "scattercarpet": [
           {
            "marker": {
             "colorbar": {
              "outlinewidth": 0,
              "ticks": ""
             }
            },
            "type": "scattercarpet"
           }
          ],
          "scattergeo": [
           {
            "marker": {
             "colorbar": {
              "outlinewidth": 0,
              "ticks": ""
             }
            },
            "type": "scattergeo"
           }
          ],
          "scattergl": [
           {
            "marker": {
             "line": {
              "color": "#283442"
             }
            },
            "type": "scattergl"
           }
          ],
          "scattermapbox": [
           {
            "marker": {
             "colorbar": {
              "outlinewidth": 0,
              "ticks": ""
             }
            },
            "type": "scattermapbox"
           }
          ],
          "scatterpolar": [
           {
            "marker": {
             "colorbar": {
              "outlinewidth": 0,
              "ticks": ""
             }
            },
            "type": "scatterpolar"
           }
          ],
          "scatterpolargl": [
           {
            "marker": {
             "colorbar": {
              "outlinewidth": 0,
              "ticks": ""
             }
            },
            "type": "scatterpolargl"
           }
          ],
          "scatterternary": [
           {
            "marker": {
             "colorbar": {
              "outlinewidth": 0,
              "ticks": ""
             }
            },
            "type": "scatterternary"
           }
          ],
          "surface": [
           {
            "colorbar": {
             "outlinewidth": 0,
             "ticks": ""
            },
            "colorscale": [
             [
              0,
              "#0d0887"
             ],
             [
              0.1111111111111111,
              "#46039f"
             ],
             [
              0.2222222222222222,
              "#7201a8"
             ],
             [
              0.3333333333333333,
              "#9c179e"
             ],
             [
              0.4444444444444444,
              "#bd3786"
             ],
             [
              0.5555555555555556,
              "#d8576b"
             ],
             [
              0.6666666666666666,
              "#ed7953"
             ],
             [
              0.7777777777777778,
              "#fb9f3a"
             ],
             [
              0.8888888888888888,
              "#fdca26"
             ],
             [
              1,
              "#f0f921"
             ]
            ],
            "type": "surface"
           }
          ],
          "table": [
           {
            "cells": {
             "fill": {
              "color": "#506784"
             },
             "line": {
              "color": "rgb(17,17,17)"
             }
            },
            "header": {
             "fill": {
              "color": "#2a3f5f"
             },
             "line": {
              "color": "rgb(17,17,17)"
             }
            },
            "type": "table"
           }
          ]
         },
         "layout": {
          "annotationdefaults": {
           "arrowcolor": "#f2f5fa",
           "arrowhead": 0,
           "arrowwidth": 1
          },
          "autotypenumbers": "strict",
          "coloraxis": {
           "colorbar": {
            "outlinewidth": 0,
            "ticks": ""
           }
          },
          "colorscale": {
           "diverging": [
            [
             0,
             "#8e0152"
            ],
            [
             0.1,
             "#c51b7d"
            ],
            [
             0.2,
             "#de77ae"
            ],
            [
             0.3,
             "#f1b6da"
            ],
            [
             0.4,
             "#fde0ef"
            ],
            [
             0.5,
             "#f7f7f7"
            ],
            [
             0.6,
             "#e6f5d0"
            ],
            [
             0.7,
             "#b8e186"
            ],
            [
             0.8,
             "#7fbc41"
            ],
            [
             0.9,
             "#4d9221"
            ],
            [
             1,
             "#276419"
            ]
           ],
           "sequential": [
            [
             0,
             "#0d0887"
            ],
            [
             0.1111111111111111,
             "#46039f"
            ],
            [
             0.2222222222222222,
             "#7201a8"
            ],
            [
             0.3333333333333333,
             "#9c179e"
            ],
            [
             0.4444444444444444,
             "#bd3786"
            ],
            [
             0.5555555555555556,
             "#d8576b"
            ],
            [
             0.6666666666666666,
             "#ed7953"
            ],
            [
             0.7777777777777778,
             "#fb9f3a"
            ],
            [
             0.8888888888888888,
             "#fdca26"
            ],
            [
             1,
             "#f0f921"
            ]
           ],
           "sequentialminus": [
            [
             0,
             "#0d0887"
            ],
            [
             0.1111111111111111,
             "#46039f"
            ],
            [
             0.2222222222222222,
             "#7201a8"
            ],
            [
             0.3333333333333333,
             "#9c179e"
            ],
            [
             0.4444444444444444,
             "#bd3786"
            ],
            [
             0.5555555555555556,
             "#d8576b"
            ],
            [
             0.6666666666666666,
             "#ed7953"
            ],
            [
             0.7777777777777778,
             "#fb9f3a"
            ],
            [
             0.8888888888888888,
             "#fdca26"
            ],
            [
             1,
             "#f0f921"
            ]
           ]
          },
          "colorway": [
           "#636efa",
           "#EF553B",
           "#00cc96",
           "#ab63fa",
           "#FFA15A",
           "#19d3f3",
           "#FF6692",
           "#B6E880",
           "#FF97FF",
           "#FECB52"
          ],
          "font": {
           "color": "#f2f5fa"
          },
          "geo": {
           "bgcolor": "rgb(17,17,17)",
           "lakecolor": "rgb(17,17,17)",
           "landcolor": "rgb(17,17,17)",
           "showlakes": true,
           "showland": true,
           "subunitcolor": "#506784"
          },
          "hoverlabel": {
           "align": "left"
          },
          "hovermode": "closest",
          "mapbox": {
           "style": "dark"
          },
          "paper_bgcolor": "rgb(17,17,17)",
          "plot_bgcolor": "rgb(17,17,17)",
          "polar": {
           "angularaxis": {
            "gridcolor": "#506784",
            "linecolor": "#506784",
            "ticks": ""
           },
           "bgcolor": "rgb(17,17,17)",
           "radialaxis": {
            "gridcolor": "#506784",
            "linecolor": "#506784",
            "ticks": ""
           }
          },
          "scene": {
           "xaxis": {
            "backgroundcolor": "rgb(17,17,17)",
            "gridcolor": "#506784",
            "gridwidth": 2,
            "linecolor": "#506784",
            "showbackground": true,
            "ticks": "",
            "zerolinecolor": "#C8D4E3"
           },
           "yaxis": {
            "backgroundcolor": "rgb(17,17,17)",
            "gridcolor": "#506784",
            "gridwidth": 2,
            "linecolor": "#506784",
            "showbackground": true,
            "ticks": "",
            "zerolinecolor": "#C8D4E3"
           },
           "zaxis": {
            "backgroundcolor": "rgb(17,17,17)",
            "gridcolor": "#506784",
            "gridwidth": 2,
            "linecolor": "#506784",
            "showbackground": true,
            "ticks": "",
            "zerolinecolor": "#C8D4E3"
           }
          },
          "shapedefaults": {
           "line": {
            "color": "#f2f5fa"
           }
          },
          "sliderdefaults": {
           "bgcolor": "#C8D4E3",
           "bordercolor": "rgb(17,17,17)",
           "borderwidth": 1,
           "tickwidth": 0
          },
          "ternary": {
           "aaxis": {
            "gridcolor": "#506784",
            "linecolor": "#506784",
            "ticks": ""
           },
           "baxis": {
            "gridcolor": "#506784",
            "linecolor": "#506784",
            "ticks": ""
           },
           "bgcolor": "rgb(17,17,17)",
           "caxis": {
            "gridcolor": "#506784",
            "linecolor": "#506784",
            "ticks": ""
           }
          },
          "title": {
           "x": 0.05
          },
          "updatemenudefaults": {
           "bgcolor": "#506784",
           "borderwidth": 0
          },
          "xaxis": {
           "automargin": true,
           "gridcolor": "#283442",
           "linecolor": "#506784",
           "ticks": "",
           "title": {
            "standoff": 15
           },
           "zerolinecolor": "#283442",
           "zerolinewidth": 2
          },
          "yaxis": {
           "automargin": true,
           "gridcolor": "#283442",
           "linecolor": "#506784",
           "ticks": "",
           "title": {
            "standoff": 15
           },
           "zerolinecolor": "#283442",
           "zerolinewidth": 2
          }
         }
        },
        "title": {
         "text": "Difference between consecutive entries in days"
        },
        "yaxis": {
         "title": {
          "text": "difference, days"
         }
        }
       }
      }
     },
     "metadata": {},
     "output_type": "display_data"
    }
   ],
   "source": [
    "df.sub(include='home').entries_differences()"
   ]
  },
  {
   "cell_type": "markdown",
   "metadata": {},
   "source": [
    "## Monthly activity effect on mood"
   ]
  },
  {
   "cell_type": "code",
   "execution_count": 15,
   "metadata": {
    "metadata": {}
   },
   "outputs": [
    {
     "name": "stdout",
     "output_type": "stream",
     "text": [
      "No 'study' in December 2023\n"
     ]
    },
    {
     "data": {
      "application/vnd.plotly.v1+json": {
       "config": {
        "plotlyServerURL": "https://plot.ly"
       },
       "data": [
        {
         "line": {
          "dash": "dash",
          "shape": "spline",
          "smoothing": 1.3
         },
         "marker": {
          "color": "#97F66B",
          "size": 10,
          "symbol": "cross-dot"
         },
         "mode": "lines+markers",
         "name": "with",
         "type": "scatter",
         "x": [
          "2023-07-01",
          "2023-08-01",
          "2023-09-01",
          "2023-10-01",
          "2023-11-01",
          "2024-01-01",
          "2024-02-01",
          "2024-03-01",
          "2024-04-01",
          "2024-05-01"
         ],
         "y": [
          3.4565217391304346,
          3.7083333333333335,
          3.75,
          3.5,
          3.6,
          3.5,
          3.5555555555555554,
          3.6363636363636362,
          3.6944444444444446,
          3.8461538461538463
         ]
        },
        {
         "line": {
          "dash": "dash",
          "shape": "spline",
          "smoothing": 1.3
         },
         "marker": {
          "color": "#FF522D",
          "size": 10,
          "symbol": "x-dot"
         },
         "mode": "lines+markers",
         "name": "without",
         "type": "scatter",
         "x": [
          "2023-07-01",
          "2023-08-01",
          "2023-09-01",
          "2023-10-01",
          "2023-11-01",
          "2024-01-01",
          "2024-02-01",
          "2024-03-01",
          "2024-04-01",
          "2024-05-01"
         ],
         "y": [
          3.6319444444444446,
          3.8411764705882354,
          4.045454545454546,
          4.079710144927536,
          3.793269230769231,
          3.9269662921348316,
          3.697530864197531,
          3.6964285714285716,
          3.8155339805825244,
          3.7674418604651163
         ]
        }
       ],
       "layout": {
        "legend": {
         "orientation": "h",
         "x": 1,
         "xanchor": "right",
         "y": 1.02,
         "yanchor": "bottom"
        },
        "template": {
         "data": {
          "bar": [
           {
            "error_x": {
             "color": "#f2f5fa"
            },
            "error_y": {
             "color": "#f2f5fa"
            },
            "marker": {
             "line": {
              "color": "rgb(17,17,17)",
              "width": 0.5
             },
             "pattern": {
              "fillmode": "overlay",
              "size": 10,
              "solidity": 0.2
             }
            },
            "type": "bar"
           }
          ],
          "barpolar": [
           {
            "marker": {
             "line": {
              "color": "rgb(17,17,17)",
              "width": 0.5
             },
             "pattern": {
              "fillmode": "overlay",
              "size": 10,
              "solidity": 0.2
             }
            },
            "type": "barpolar"
           }
          ],
          "carpet": [
           {
            "aaxis": {
             "endlinecolor": "#A2B1C6",
             "gridcolor": "#506784",
             "linecolor": "#506784",
             "minorgridcolor": "#506784",
             "startlinecolor": "#A2B1C6"
            },
            "baxis": {
             "endlinecolor": "#A2B1C6",
             "gridcolor": "#506784",
             "linecolor": "#506784",
             "minorgridcolor": "#506784",
             "startlinecolor": "#A2B1C6"
            },
            "type": "carpet"
           }
          ],
          "choropleth": [
           {
            "colorbar": {
             "outlinewidth": 0,
             "ticks": ""
            },
            "type": "choropleth"
           }
          ],
          "contour": [
           {
            "colorbar": {
             "outlinewidth": 0,
             "ticks": ""
            },
            "colorscale": [
             [
              0,
              "#0d0887"
             ],
             [
              0.1111111111111111,
              "#46039f"
             ],
             [
              0.2222222222222222,
              "#7201a8"
             ],
             [
              0.3333333333333333,
              "#9c179e"
             ],
             [
              0.4444444444444444,
              "#bd3786"
             ],
             [
              0.5555555555555556,
              "#d8576b"
             ],
             [
              0.6666666666666666,
              "#ed7953"
             ],
             [
              0.7777777777777778,
              "#fb9f3a"
             ],
             [
              0.8888888888888888,
              "#fdca26"
             ],
             [
              1,
              "#f0f921"
             ]
            ],
            "type": "contour"
           }
          ],
          "contourcarpet": [
           {
            "colorbar": {
             "outlinewidth": 0,
             "ticks": ""
            },
            "type": "contourcarpet"
           }
          ],
          "heatmap": [
           {
            "colorbar": {
             "outlinewidth": 0,
             "ticks": ""
            },
            "colorscale": [
             [
              0,
              "#0d0887"
             ],
             [
              0.1111111111111111,
              "#46039f"
             ],
             [
              0.2222222222222222,
              "#7201a8"
             ],
             [
              0.3333333333333333,
              "#9c179e"
             ],
             [
              0.4444444444444444,
              "#bd3786"
             ],
             [
              0.5555555555555556,
              "#d8576b"
             ],
             [
              0.6666666666666666,
              "#ed7953"
             ],
             [
              0.7777777777777778,
              "#fb9f3a"
             ],
             [
              0.8888888888888888,
              "#fdca26"
             ],
             [
              1,
              "#f0f921"
             ]
            ],
            "type": "heatmap"
           }
          ],
          "heatmapgl": [
           {
            "colorbar": {
             "outlinewidth": 0,
             "ticks": ""
            },
            "colorscale": [
             [
              0,
              "#0d0887"
             ],
             [
              0.1111111111111111,
              "#46039f"
             ],
             [
              0.2222222222222222,
              "#7201a8"
             ],
             [
              0.3333333333333333,
              "#9c179e"
             ],
             [
              0.4444444444444444,
              "#bd3786"
             ],
             [
              0.5555555555555556,
              "#d8576b"
             ],
             [
              0.6666666666666666,
              "#ed7953"
             ],
             [
              0.7777777777777778,
              "#fb9f3a"
             ],
             [
              0.8888888888888888,
              "#fdca26"
             ],
             [
              1,
              "#f0f921"
             ]
            ],
            "type": "heatmapgl"
           }
          ],
          "histogram": [
           {
            "marker": {
             "pattern": {
              "fillmode": "overlay",
              "size": 10,
              "solidity": 0.2
             }
            },
            "type": "histogram"
           }
          ],
          "histogram2d": [
           {
            "colorbar": {
             "outlinewidth": 0,
             "ticks": ""
            },
            "colorscale": [
             [
              0,
              "#0d0887"
             ],
             [
              0.1111111111111111,
              "#46039f"
             ],
             [
              0.2222222222222222,
              "#7201a8"
             ],
             [
              0.3333333333333333,
              "#9c179e"
             ],
             [
              0.4444444444444444,
              "#bd3786"
             ],
             [
              0.5555555555555556,
              "#d8576b"
             ],
             [
              0.6666666666666666,
              "#ed7953"
             ],
             [
              0.7777777777777778,
              "#fb9f3a"
             ],
             [
              0.8888888888888888,
              "#fdca26"
             ],
             [
              1,
              "#f0f921"
             ]
            ],
            "type": "histogram2d"
           }
          ],
          "histogram2dcontour": [
           {
            "colorbar": {
             "outlinewidth": 0,
             "ticks": ""
            },
            "colorscale": [
             [
              0,
              "#0d0887"
             ],
             [
              0.1111111111111111,
              "#46039f"
             ],
             [
              0.2222222222222222,
              "#7201a8"
             ],
             [
              0.3333333333333333,
              "#9c179e"
             ],
             [
              0.4444444444444444,
              "#bd3786"
             ],
             [
              0.5555555555555556,
              "#d8576b"
             ],
             [
              0.6666666666666666,
              "#ed7953"
             ],
             [
              0.7777777777777778,
              "#fb9f3a"
             ],
             [
              0.8888888888888888,
              "#fdca26"
             ],
             [
              1,
              "#f0f921"
             ]
            ],
            "type": "histogram2dcontour"
           }
          ],
          "mesh3d": [
           {
            "colorbar": {
             "outlinewidth": 0,
             "ticks": ""
            },
            "type": "mesh3d"
           }
          ],
          "parcoords": [
           {
            "line": {
             "colorbar": {
              "outlinewidth": 0,
              "ticks": ""
             }
            },
            "type": "parcoords"
           }
          ],
          "pie": [
           {
            "automargin": true,
            "type": "pie"
           }
          ],
          "scatter": [
           {
            "marker": {
             "line": {
              "color": "#283442"
             }
            },
            "type": "scatter"
           }
          ],
          "scatter3d": [
           {
            "line": {
             "colorbar": {
              "outlinewidth": 0,
              "ticks": ""
             }
            },
            "marker": {
             "colorbar": {
              "outlinewidth": 0,
              "ticks": ""
             }
            },
            "type": "scatter3d"
           }
          ],
          "scattercarpet": [
           {
            "marker": {
             "colorbar": {
              "outlinewidth": 0,
              "ticks": ""
             }
            },
            "type": "scattercarpet"
           }
          ],
          "scattergeo": [
           {
            "marker": {
             "colorbar": {
              "outlinewidth": 0,
              "ticks": ""
             }
            },
            "type": "scattergeo"
           }
          ],
          "scattergl": [
           {
            "marker": {
             "line": {
              "color": "#283442"
             }
            },
            "type": "scattergl"
           }
          ],
          "scattermapbox": [
           {
            "marker": {
             "colorbar": {
              "outlinewidth": 0,
              "ticks": ""
             }
            },
            "type": "scattermapbox"
           }
          ],
          "scatterpolar": [
           {
            "marker": {
             "colorbar": {
              "outlinewidth": 0,
              "ticks": ""
             }
            },
            "type": "scatterpolar"
           }
          ],
          "scatterpolargl": [
           {
            "marker": {
             "colorbar": {
              "outlinewidth": 0,
              "ticks": ""
             }
            },
            "type": "scatterpolargl"
           }
          ],
          "scatterternary": [
           {
            "marker": {
             "colorbar": {
              "outlinewidth": 0,
              "ticks": ""
             }
            },
            "type": "scatterternary"
           }
          ],
          "surface": [
           {
            "colorbar": {
             "outlinewidth": 0,
             "ticks": ""
            },
            "colorscale": [
             [
              0,
              "#0d0887"
             ],
             [
              0.1111111111111111,
              "#46039f"
             ],
             [
              0.2222222222222222,
              "#7201a8"
             ],
             [
              0.3333333333333333,
              "#9c179e"
             ],
             [
              0.4444444444444444,
              "#bd3786"
             ],
             [
              0.5555555555555556,
              "#d8576b"
             ],
             [
              0.6666666666666666,
              "#ed7953"
             ],
             [
              0.7777777777777778,
              "#fb9f3a"
             ],
             [
              0.8888888888888888,
              "#fdca26"
             ],
             [
              1,
              "#f0f921"
             ]
            ],
            "type": "surface"
           }
          ],
          "table": [
           {
            "cells": {
             "fill": {
              "color": "#506784"
             },
             "line": {
              "color": "rgb(17,17,17)"
             }
            },
            "header": {
             "fill": {
              "color": "#2a3f5f"
             },
             "line": {
              "color": "rgb(17,17,17)"
             }
            },
            "type": "table"
           }
          ]
         },
         "layout": {
          "annotationdefaults": {
           "arrowcolor": "#f2f5fa",
           "arrowhead": 0,
           "arrowwidth": 1
          },
          "autotypenumbers": "strict",
          "coloraxis": {
           "colorbar": {
            "outlinewidth": 0,
            "ticks": ""
           }
          },
          "colorscale": {
           "diverging": [
            [
             0,
             "#8e0152"
            ],
            [
             0.1,
             "#c51b7d"
            ],
            [
             0.2,
             "#de77ae"
            ],
            [
             0.3,
             "#f1b6da"
            ],
            [
             0.4,
             "#fde0ef"
            ],
            [
             0.5,
             "#f7f7f7"
            ],
            [
             0.6,
             "#e6f5d0"
            ],
            [
             0.7,
             "#b8e186"
            ],
            [
             0.8,
             "#7fbc41"
            ],
            [
             0.9,
             "#4d9221"
            ],
            [
             1,
             "#276419"
            ]
           ],
           "sequential": [
            [
             0,
             "#0d0887"
            ],
            [
             0.1111111111111111,
             "#46039f"
            ],
            [
             0.2222222222222222,
             "#7201a8"
            ],
            [
             0.3333333333333333,
             "#9c179e"
            ],
            [
             0.4444444444444444,
             "#bd3786"
            ],
            [
             0.5555555555555556,
             "#d8576b"
            ],
            [
             0.6666666666666666,
             "#ed7953"
            ],
            [
             0.7777777777777778,
             "#fb9f3a"
            ],
            [
             0.8888888888888888,
             "#fdca26"
            ],
            [
             1,
             "#f0f921"
            ]
           ],
           "sequentialminus": [
            [
             0,
             "#0d0887"
            ],
            [
             0.1111111111111111,
             "#46039f"
            ],
            [
             0.2222222222222222,
             "#7201a8"
            ],
            [
             0.3333333333333333,
             "#9c179e"
            ],
            [
             0.4444444444444444,
             "#bd3786"
            ],
            [
             0.5555555555555556,
             "#d8576b"
            ],
            [
             0.6666666666666666,
             "#ed7953"
            ],
            [
             0.7777777777777778,
             "#fb9f3a"
            ],
            [
             0.8888888888888888,
             "#fdca26"
            ],
            [
             1,
             "#f0f921"
            ]
           ]
          },
          "colorway": [
           "#636efa",
           "#EF553B",
           "#00cc96",
           "#ab63fa",
           "#FFA15A",
           "#19d3f3",
           "#FF6692",
           "#B6E880",
           "#FF97FF",
           "#FECB52"
          ],
          "font": {
           "color": "#f2f5fa"
          },
          "geo": {
           "bgcolor": "rgb(17,17,17)",
           "lakecolor": "rgb(17,17,17)",
           "landcolor": "rgb(17,17,17)",
           "showlakes": true,
           "showland": true,
           "subunitcolor": "#506784"
          },
          "hoverlabel": {
           "align": "left"
          },
          "hovermode": "closest",
          "mapbox": {
           "style": "dark"
          },
          "paper_bgcolor": "rgb(17,17,17)",
          "plot_bgcolor": "rgb(17,17,17)",
          "polar": {
           "angularaxis": {
            "gridcolor": "#506784",
            "linecolor": "#506784",
            "ticks": ""
           },
           "bgcolor": "rgb(17,17,17)",
           "radialaxis": {
            "gridcolor": "#506784",
            "linecolor": "#506784",
            "ticks": ""
           }
          },
          "scene": {
           "xaxis": {
            "backgroundcolor": "rgb(17,17,17)",
            "gridcolor": "#506784",
            "gridwidth": 2,
            "linecolor": "#506784",
            "showbackground": true,
            "ticks": "",
            "zerolinecolor": "#C8D4E3"
           },
           "yaxis": {
            "backgroundcolor": "rgb(17,17,17)",
            "gridcolor": "#506784",
            "gridwidth": 2,
            "linecolor": "#506784",
            "showbackground": true,
            "ticks": "",
            "zerolinecolor": "#C8D4E3"
           },
           "zaxis": {
            "backgroundcolor": "rgb(17,17,17)",
            "gridcolor": "#506784",
            "gridwidth": 2,
            "linecolor": "#506784",
            "showbackground": true,
            "ticks": "",
            "zerolinecolor": "#C8D4E3"
           }
          },
          "shapedefaults": {
           "line": {
            "color": "#f2f5fa"
           }
          },
          "sliderdefaults": {
           "bgcolor": "#C8D4E3",
           "bordercolor": "rgb(17,17,17)",
           "borderwidth": 1,
           "tickwidth": 0
          },
          "ternary": {
           "aaxis": {
            "gridcolor": "#506784",
            "linecolor": "#506784",
            "ticks": ""
           },
           "baxis": {
            "gridcolor": "#506784",
            "linecolor": "#506784",
            "ticks": ""
           },
           "bgcolor": "rgb(17,17,17)",
           "caxis": {
            "gridcolor": "#506784",
            "linecolor": "#506784",
            "ticks": ""
           }
          },
          "title": {
           "x": 0.05
          },
          "updatemenudefaults": {
           "bgcolor": "#506784",
           "borderwidth": 0
          },
          "xaxis": {
           "automargin": true,
           "gridcolor": "#283442",
           "linecolor": "#506784",
           "ticks": "",
           "title": {
            "standoff": 15
           },
           "zerolinecolor": "#283442",
           "zerolinewidth": 2
          },
          "yaxis": {
           "automargin": true,
           "gridcolor": "#283442",
           "linecolor": "#506784",
           "ticks": "",
           "title": {
            "standoff": 15
           },
           "zerolinecolor": "#283442",
           "zerolinewidth": 2
          }
         }
        },
        "title": {
         "text": "Mood with and without 'study'"
        },
        "xaxis": {
         "title": {
          "text": "Month"
         }
        },
        "yaxis": {
         "title": {
          "text": "Mood"
         }
        }
       }
      }
     },
     "metadata": {},
     "output_type": "display_data"
    }
   ],
   "source": [
    "df.mood_change_activity('study')"
   ]
  },
  {
   "cell_type": "markdown",
   "metadata": {},
   "source": [
    "## Other features"
   ]
  },
  {
   "cell_type": "code",
   "execution_count": 16,
   "metadata": {
    "metadata": {}
   },
   "outputs": [
    {
     "data": {
      "application/vnd.plotly.v1+json": {
       "config": {
        "plotlyServerURL": "https://plot.ly"
       },
       "data": [
        {
         "hovertemplate": "Date=%{x}<br>Average note length=%{y}<extra></extra>",
         "legendgroup": "",
         "marker": {
          "color": "#636efa",
          "symbol": "circle"
         },
         "mode": "markers",
         "name": "",
         "orientation": "v",
         "showlegend": false,
         "type": "scatter",
         "x": [
          "2023-07-01",
          "2023-07-02",
          "2023-07-03",
          "2023-07-04",
          "2023-07-05",
          "2023-07-06",
          "2023-07-07",
          "2023-07-08",
          "2023-07-09",
          "2023-07-10",
          "2023-07-11",
          "2023-07-12",
          "2023-07-13",
          "2023-07-14",
          "2023-07-15",
          "2023-07-16",
          "2023-07-17",
          "2023-07-18",
          "2023-07-19",
          "2023-07-20",
          "2023-07-21",
          "2023-07-22",
          "2023-07-23",
          "2023-07-24",
          "2023-07-25",
          "2023-07-26",
          "2023-07-27",
          "2023-07-28",
          "2023-07-29",
          "2023-07-30",
          "2023-07-31",
          "2023-08-01",
          "2023-08-02",
          "2023-08-03",
          "2023-08-04",
          "2023-08-05",
          "2023-08-06",
          "2023-08-07",
          "2023-08-08",
          "2023-08-09",
          "2023-08-10",
          "2023-08-11",
          "2023-08-12",
          "2023-08-13",
          "2023-08-14",
          "2023-08-15",
          "2023-08-16",
          "2023-08-17",
          "2023-08-18",
          "2023-08-19",
          "2023-08-20",
          "2023-08-21",
          "2023-08-22",
          "2023-08-23",
          "2023-08-24",
          "2023-08-25",
          "2023-08-26",
          "2023-08-27",
          "2023-08-28",
          "2023-08-29",
          "2023-08-30",
          "2023-08-31",
          "2023-09-01",
          "2023-09-02",
          "2023-09-03",
          "2023-09-04",
          "2023-09-05",
          "2023-09-06",
          "2023-09-07",
          "2023-09-08",
          "2023-09-09",
          "2023-09-10",
          "2023-09-11",
          "2023-09-12",
          "2023-09-13",
          "2023-09-14",
          "2023-09-15",
          "2023-09-16",
          "2023-09-17",
          "2023-09-18",
          "2023-09-19",
          "2023-09-20",
          "2023-09-21",
          "2023-09-22",
          "2023-09-23",
          "2023-09-24",
          "2023-09-25",
          "2023-09-26",
          "2023-09-27",
          "2023-09-28",
          "2023-09-29",
          "2023-09-30",
          "2023-10-01",
          "2023-10-02",
          "2023-10-03",
          "2023-10-04",
          "2023-10-05",
          "2023-10-06",
          "2023-10-07",
          "2023-10-08",
          "2023-10-09",
          "2023-10-10",
          "2023-10-11",
          "2023-10-12",
          "2023-10-13",
          "2023-10-14",
          "2023-10-15",
          "2023-10-16",
          "2023-10-17",
          "2023-10-18",
          "2023-10-19",
          "2023-10-20",
          "2023-10-21",
          "2023-10-22",
          "2023-10-23",
          "2023-10-24",
          "2023-10-25",
          "2023-10-26",
          "2023-10-27",
          "2023-10-28",
          "2023-10-29",
          "2023-10-30",
          "2023-10-31",
          "2023-11-01",
          "2023-11-02",
          "2023-11-03",
          "2023-11-04",
          "2023-11-05",
          "2023-11-06",
          "2023-11-07",
          "2023-11-08",
          "2023-11-09",
          "2023-11-10",
          "2023-11-11",
          "2023-11-12",
          "2023-11-13",
          "2023-11-14",
          "2023-11-15",
          "2023-11-16",
          "2023-11-17",
          "2023-11-18",
          "2023-11-19",
          "2023-11-20",
          "2023-11-21",
          "2023-11-22",
          "2023-11-23",
          "2023-11-24",
          "2023-11-25",
          "2023-11-26",
          "2023-11-27",
          "2023-11-28",
          "2023-11-29",
          "2023-11-30",
          "2023-12-01",
          "2023-12-02",
          "2023-12-03",
          "2023-12-04",
          "2023-12-05",
          "2023-12-06",
          "2023-12-07",
          "2023-12-08",
          "2023-12-09",
          "2023-12-10",
          "2023-12-11",
          "2023-12-12",
          "2023-12-13",
          "2023-12-14",
          "2023-12-15",
          "2023-12-16",
          "2023-12-17",
          "2023-12-18",
          "2023-12-19",
          "2023-12-20",
          "2023-12-21",
          "2023-12-22",
          "2023-12-23",
          "2023-12-24",
          "2023-12-25",
          "2023-12-26",
          "2023-12-27",
          "2023-12-28",
          "2023-12-29",
          "2023-12-30",
          "2023-12-31",
          "2024-01-01",
          "2024-01-02",
          "2024-01-03",
          "2024-01-04",
          "2024-01-05",
          "2024-01-06",
          "2024-01-07",
          "2024-01-08",
          "2024-01-09",
          "2024-01-10",
          "2024-01-11",
          "2024-01-12",
          "2024-01-13",
          "2024-01-14",
          "2024-01-15",
          "2024-01-16",
          "2024-01-17",
          "2024-01-18",
          "2024-01-19",
          "2024-01-20",
          "2024-01-21",
          "2024-01-22",
          "2024-01-23",
          "2024-01-24",
          "2024-01-25",
          "2024-01-26",
          "2024-01-27",
          "2024-01-28",
          "2024-01-29",
          "2024-01-30",
          "2024-01-31",
          "2024-02-01",
          "2024-02-02",
          "2024-02-03",
          "2024-02-04",
          "2024-02-05",
          "2024-02-06",
          "2024-02-07",
          "2024-02-08",
          "2024-02-09",
          "2024-02-10",
          "2024-02-11",
          "2024-02-12",
          "2024-02-13",
          "2024-02-14",
          "2024-02-15",
          "2024-02-16",
          "2024-02-17",
          "2024-02-18",
          "2024-02-19",
          "2024-02-20",
          "2024-02-21",
          "2024-02-22",
          "2024-02-23",
          "2024-02-24",
          "2024-02-25",
          "2024-02-26",
          "2024-02-27",
          "2024-02-28",
          "2024-02-29",
          "2024-03-01",
          "2024-03-02",
          "2024-03-03",
          "2024-03-04",
          "2024-03-05",
          "2024-03-06",
          "2024-03-07",
          "2024-03-08",
          "2024-03-09",
          "2024-03-10",
          "2024-03-11",
          "2024-03-12",
          "2024-03-13",
          "2024-03-14",
          "2024-03-15",
          "2024-03-16",
          "2024-03-17",
          "2024-03-18",
          "2024-03-19",
          "2024-03-20",
          "2024-03-21",
          "2024-03-22",
          "2024-03-23",
          "2024-03-24",
          "2024-03-25",
          "2024-03-26",
          "2024-03-27",
          "2024-03-28",
          "2024-03-29",
          "2024-03-30",
          "2024-03-31",
          "2024-04-01",
          "2024-04-02",
          "2024-04-03",
          "2024-04-04",
          "2024-04-05",
          "2024-04-06",
          "2024-04-07",
          "2024-04-08",
          "2024-04-09",
          "2024-04-10",
          "2024-04-11",
          "2024-04-12",
          "2024-04-13",
          "2024-04-14",
          "2024-04-15",
          "2024-04-16",
          "2024-04-17",
          "2024-04-18",
          "2024-04-19",
          "2024-04-20",
          "2024-04-21",
          "2024-04-22",
          "2024-04-23",
          "2024-04-24",
          "2024-04-25",
          "2024-04-26",
          "2024-04-27",
          "2024-04-28",
          "2024-04-29",
          "2024-04-30",
          "2024-05-01",
          "2024-05-02",
          "2024-05-03",
          "2024-05-04",
          "2024-05-05",
          "2024-05-06",
          "2024-05-07",
          "2024-05-08",
          "2024-05-09",
          "2024-05-10",
          "2024-05-11",
          "2024-05-12",
          "2024-05-13",
          "2024-05-14",
          "2024-05-15"
         ],
         "xaxis": "x",
         "y": [
          60,
          92,
          39,
          64,
          71,
          27,
          49,
          26,
          27,
          49.5,
          67.5,
          20.5,
          54,
          69.5,
          52,
          41,
          24.25,
          10.6,
          4.25,
          34.5,
          21.285714285714285,
          12,
          1.5,
          14,
          1.2,
          3.8,
          0,
          8.4,
          5.666666666666667,
          7.5,
          7.5,
          1.75,
          29.2,
          19.5,
          5.333333333333333,
          5.25,
          8.25,
          23.8,
          6.833333333333333,
          19.5,
          24,
          15.8,
          5.666666666666667,
          8.8,
          0,
          76.5,
          5.333333333333333,
          0,
          7.5,
          0,
          0,
          13.666666666666666,
          10.333333333333334,
          14,
          57.5,
          32,
          14,
          11.5,
          26,
          56,
          0,
          0,
          0,
          1.3333333333333333,
          0,
          0,
          7,
          0,
          0,
          0,
          0,
          0,
          0,
          25.5,
          9.5,
          0,
          0,
          0,
          37,
          19,
          54,
          3,
          0,
          1.3333333333333333,
          28,
          12,
          7.5,
          0,
          31.666666666666668,
          23,
          9.5,
          25.5,
          34.2,
          16.5,
          26.5,
          69,
          0,
          22.75,
          37,
          35.5,
          0,
          34,
          114,
          58,
          0,
          36,
          54,
          10.5,
          102,
          36.75,
          60,
          48.5,
          245,
          106,
          16.333333333333332,
          0,
          57,
          84,
          23.75,
          79.5,
          130.5,
          50.666666666666664,
          17.5,
          65.4,
          82,
          40.2,
          35.5,
          24.5,
          31.666666666666668,
          50.333333333333336,
          26.75,
          22.666666666666668,
          26.666666666666668,
          20,
          73.25,
          44.5,
          102.8,
          84,
          96.25,
          46.25,
          29.5,
          59.4,
          66.5,
          0,
          51.5,
          0,
          48,
          41.5,
          88,
          73.33333333333333,
          56.857142857142854,
          44.5,
          90,
          51.666666666666664,
          21.5,
          26.75,
          122,
          32,
          44,
          44.5,
          84.33333333333333,
          18.6,
          129.5,
          52,
          72,
          33.833333333333336,
          35.666666666666664,
          35.333333333333336,
          81,
          85.5,
          29.5,
          23,
          31,
          29.2,
          30.666666666666668,
          103.75,
          116.5,
          195.5,
          58,
          34.333333333333336,
          67.5,
          47,
          59,
          63.6,
          17.666666666666668,
          30,
          64,
          51.8,
          54.666666666666664,
          584.5,
          84.66666666666667,
          137,
          57,
          37.5,
          54.333333333333336,
          58.333333333333336,
          98.75,
          57.75,
          66,
          31.666666666666668,
          25.333333333333332,
          80.5,
          95,
          118,
          168,
          81,
          118.33333333333333,
          27.6,
          48,
          50.8,
          35,
          75.5,
          37.6,
          31.333333333333332,
          52.333333333333336,
          49.666666666666664,
          52,
          60.666666666666664,
          61,
          61,
          65.5,
          65.5,
          53,
          93,
          127.5,
          78,
          106,
          54.2,
          122.75,
          60.8,
          73.33333333333333,
          54.666666666666664,
          45.5,
          49.25,
          27,
          54.333333333333336,
          57.666666666666664,
          98.75,
          53,
          83.25,
          95,
          36.2,
          78,
          37.666666666666664,
          62,
          64.28571428571429,
          79.33333333333333,
          51,
          58,
          10,
          38,
          50,
          37.75,
          44,
          43.5,
          26,
          35.2,
          32.857142857142854,
          38,
          62,
          68.33333333333333,
          29.6,
          62,
          14,
          37,
          96,
          67,
          63,
          51,
          38.666666666666664,
          109.33333333333333,
          42.5,
          31.5,
          37.25,
          41,
          34.6,
          45.666666666666664,
          43,
          60.5,
          124.5,
          31.25,
          36.57142857142857,
          29.4,
          86,
          52.333333333333336,
          29.75,
          83.375,
          13.25,
          73.83333333333333,
          50,
          10.4,
          76.85714285714286,
          65.5,
          66.6,
          54,
          52,
          50.333333333333336,
          106,
          42.25,
          51,
          20.8,
          24.75,
          52.333333333333336,
          17,
          52,
          40.666666666666664,
          93,
          57,
          21.25,
          47.666666666666664,
          77.6,
          42.666666666666664,
          63.5,
          51,
          23,
          50.333333333333336,
          29.75,
          40.25,
          81,
          52.666666666666664
         ],
         "yaxis": "y"
        },
        {
         "line": {
          "width": 2
         },
         "marker": {
          "size": 0
         },
         "mode": "lines",
         "name": "Sliding average (window size 11)",
         "type": "scatter",
         "x": [
          "2023-07-11",
          "2023-07-12",
          "2023-07-13",
          "2023-07-14",
          "2023-07-15",
          "2023-07-16",
          "2023-07-17",
          "2023-07-18",
          "2023-07-19",
          "2023-07-20",
          "2023-07-21",
          "2023-07-22",
          "2023-07-23",
          "2023-07-24",
          "2023-07-25",
          "2023-07-26",
          "2023-07-27",
          "2023-07-28",
          "2023-07-29",
          "2023-07-30",
          "2023-07-31",
          "2023-08-01",
          "2023-08-02",
          "2023-08-03",
          "2023-08-04",
          "2023-08-05",
          "2023-08-06",
          "2023-08-07",
          "2023-08-08",
          "2023-08-09",
          "2023-08-10",
          "2023-08-11",
          "2023-08-12",
          "2023-08-13",
          "2023-08-14",
          "2023-08-15",
          "2023-08-16",
          "2023-08-17",
          "2023-08-18",
          "2023-08-19",
          "2023-08-20",
          "2023-08-21",
          "2023-08-22",
          "2023-08-23",
          "2023-08-24",
          "2023-08-25",
          "2023-08-26",
          "2023-08-27",
          "2023-08-28",
          "2023-08-29",
          "2023-08-30",
          "2023-08-31",
          "2023-09-01",
          "2023-09-02",
          "2023-09-03",
          "2023-09-04",
          "2023-09-05",
          "2023-09-06",
          "2023-09-07",
          "2023-09-08",
          "2023-09-09",
          "2023-09-10",
          "2023-09-11",
          "2023-09-12",
          "2023-09-13",
          "2023-09-14",
          "2023-09-15",
          "2023-09-16",
          "2023-09-17",
          "2023-09-18",
          "2023-09-19",
          "2023-09-20",
          "2023-09-21",
          "2023-09-22",
          "2023-09-23",
          "2023-09-24",
          "2023-09-25",
          "2023-09-26",
          "2023-09-27",
          "2023-09-28",
          "2023-09-29",
          "2023-09-30",
          "2023-10-01",
          "2023-10-02",
          "2023-10-03",
          "2023-10-04",
          "2023-10-05",
          "2023-10-06",
          "2023-10-07",
          "2023-10-08",
          "2023-10-09",
          "2023-10-10",
          "2023-10-11",
          "2023-10-12",
          "2023-10-13",
          "2023-10-14",
          "2023-10-15",
          "2023-10-16",
          "2023-10-17",
          "2023-10-18",
          "2023-10-19",
          "2023-10-20",
          "2023-10-21",
          "2023-10-22",
          "2023-10-23",
          "2023-10-24",
          "2023-10-25",
          "2023-10-26",
          "2023-10-27",
          "2023-10-28",
          "2023-10-29",
          "2023-10-30",
          "2023-10-31",
          "2023-11-01",
          "2023-11-02",
          "2023-11-03",
          "2023-11-04",
          "2023-11-05",
          "2023-11-06",
          "2023-11-07",
          "2023-11-08",
          "2023-11-09",
          "2023-11-10",
          "2023-11-11",
          "2023-11-12",
          "2023-11-13",
          "2023-11-14",
          "2023-11-15",
          "2023-11-16",
          "2023-11-17",
          "2023-11-18",
          "2023-11-19",
          "2023-11-20",
          "2023-11-21",
          "2023-11-22",
          "2023-11-23",
          "2023-11-24",
          "2023-11-25",
          "2023-11-26",
          "2023-11-27",
          "2023-11-28",
          "2023-11-29",
          "2023-11-30",
          "2023-12-01",
          "2023-12-02",
          "2023-12-03",
          "2023-12-04",
          "2023-12-05",
          "2023-12-06",
          "2023-12-07",
          "2023-12-08",
          "2023-12-09",
          "2023-12-10",
          "2023-12-11",
          "2023-12-12",
          "2023-12-13",
          "2023-12-14",
          "2023-12-15",
          "2023-12-16",
          "2023-12-17",
          "2023-12-18",
          "2023-12-19",
          "2023-12-20",
          "2023-12-21",
          "2023-12-22",
          "2023-12-23",
          "2023-12-24",
          "2023-12-25",
          "2023-12-26",
          "2023-12-27",
          "2023-12-28",
          "2023-12-29",
          "2023-12-30",
          "2023-12-31",
          "2024-01-01",
          "2024-01-02",
          "2024-01-03",
          "2024-01-04",
          "2024-01-05",
          "2024-01-06",
          "2024-01-07",
          "2024-01-08",
          "2024-01-09",
          "2024-01-10",
          "2024-01-11",
          "2024-01-12",
          "2024-01-13",
          "2024-01-14",
          "2024-01-15",
          "2024-01-16",
          "2024-01-17",
          "2024-01-18",
          "2024-01-19",
          "2024-01-20",
          "2024-01-21",
          "2024-01-22",
          "2024-01-23",
          "2024-01-24",
          "2024-01-25",
          "2024-01-26",
          "2024-01-27",
          "2024-01-28",
          "2024-01-29",
          "2024-01-30",
          "2024-01-31",
          "2024-02-01",
          "2024-02-02",
          "2024-02-03",
          "2024-02-04",
          "2024-02-05",
          "2024-02-06",
          "2024-02-07",
          "2024-02-08",
          "2024-02-09",
          "2024-02-10",
          "2024-02-11",
          "2024-02-12",
          "2024-02-13",
          "2024-02-14",
          "2024-02-15",
          "2024-02-16",
          "2024-02-17",
          "2024-02-18",
          "2024-02-19",
          "2024-02-20",
          "2024-02-21",
          "2024-02-22",
          "2024-02-23",
          "2024-02-24",
          "2024-02-25",
          "2024-02-26",
          "2024-02-27",
          "2024-02-28",
          "2024-02-29",
          "2024-03-01",
          "2024-03-02",
          "2024-03-03",
          "2024-03-04",
          "2024-03-05",
          "2024-03-06",
          "2024-03-07",
          "2024-03-08",
          "2024-03-09",
          "2024-03-10",
          "2024-03-11",
          "2024-03-12",
          "2024-03-13",
          "2024-03-14",
          "2024-03-15",
          "2024-03-16",
          "2024-03-17",
          "2024-03-18",
          "2024-03-19",
          "2024-03-20",
          "2024-03-21",
          "2024-03-22",
          "2024-03-23",
          "2024-03-24",
          "2024-03-25",
          "2024-03-26",
          "2024-03-27",
          "2024-03-28",
          "2024-03-29",
          "2024-03-30",
          "2024-03-31",
          "2024-04-01",
          "2024-04-02",
          "2024-04-03",
          "2024-04-04",
          "2024-04-05",
          "2024-04-06",
          "2024-04-07",
          "2024-04-08",
          "2024-04-09",
          "2024-04-10",
          "2024-04-11",
          "2024-04-12",
          "2024-04-13",
          "2024-04-14",
          "2024-04-15",
          "2024-04-16",
          "2024-04-17",
          "2024-04-18",
          "2024-04-19",
          "2024-04-20",
          "2024-04-21",
          "2024-04-22",
          "2024-04-23",
          "2024-04-24",
          "2024-04-25",
          "2024-04-26",
          "2024-04-27",
          "2024-04-28",
          "2024-04-29",
          "2024-04-30",
          "2024-05-01",
          "2024-05-02",
          "2024-05-03",
          "2024-05-04",
          "2024-05-05",
          "2024-05-06",
          "2024-05-07",
          "2024-05-08",
          "2024-05-09",
          "2024-05-10",
          "2024-05-11",
          "2024-05-12",
          "2024-05-13",
          "2024-05-14",
          "2024-05-15"
         ],
         "y": [
          52,
          48.409090909090914,
          44.95454545454546,
          47.727272727272734,
          46.63636363636364,
          43.90909090909091,
          43.65909090909091,
          40.168181818181814,
          38.19090909090908,
          38.87272727272726,
          36.307792207792204,
          31.262337662337664,
          29.535064935064934,
          25.8987012987013,
          19.68961038961039,
          15.30779220779221,
          11.580519480519483,
          10.13961038961039,
          9.691125541125542,
          9.986580086580087,
          7.532034632034632,
          5.756060606060605,
          7.31969696969697,
          8.956060606060607,
          8.168181818181818,
          8.536363636363637,
          8.940909090909091,
          11.104545454545455,
          10.962121212121215,
          12.21969696969697,
          13.71969696969697,
          14.474242424242426,
          14.830303030303032,
          12.975757575757576,
          11.203030303030303,
          17.672727272727272,
          17.68030303030303,
          16.93030303030303,
          15.448484848484847,
          14.827272727272726,
          13.054545454545453,
          12.115151515151515,
          11.618181818181817,
          12.375757575757577,
          16.803030303030305,
          19.712121212121215,
          14.030303030303031,
          14.590909090909092,
          16.954545454545457,
          21.363636363636363,
          21.363636363636363,
          21.363636363636363,
          20.12121212121212,
          19.303030303030305,
          18.03030303030303,
          12.803030303030301,
          10.530303030303031,
          9.257575757575758,
          8.212121212121213,
          5.848484848484849,
          0.7575757575757576,
          0.7575757575757576,
          0.7575757575757576,
          3.075757575757576,
          3.8181818181818183,
          3.8181818181818183,
          3.8181818181818183,
          3.181818181818182,
          6.545454545454546,
          8.272727272727273,
          13.181818181818183,
          13.454545454545457,
          13.454545454545457,
          13.575757575757578,
          13.803030303030303,
          14.030303030303031,
          14.712121212121213,
          14.712121212121213,
          17.590909090909093,
          16.31818181818182,
          15.454545454545453,
          12.863636363636363,
          15.700000000000001,
          17.200000000000003,
          19.48787878787879,
          23.215151515151515,
          22.124242424242425,
          23.510606060606065,
          26.87424242424243,
          27.222727272727273,
          25.13181818181818,
          27.35909090909091,
          35.404545454545456,
          37.56818181818182,
          36.06818181818181,
          36.93181818181818,
          35.56818181818182,
          36.52272727272727,
          43.72727272727273,
          43.70454545454545,
          45.93181818181819,
          50.34090909090909,
          69.52272727272728,
          68.79545454545455,
          65.00757575757576,
          65.00757575757576,
          66.91666666666667,
          69.64393939393939,
          70.84848484848484,
          68.80303030303031,
          77.32575757575758,
          76.47727272727273,
          73.65909090909092,
          57.331818181818186,
          55.15,
          57.31969696969697,
          60.5469696969697,
          57.592424242424244,
          52.83484848484848,
          55.25151515151515,
          50.45606060606061,
          40.653030303030306,
          38.47121212121212,
          38.69848484848485,
          39.41212121212121,
          36.0030303030303,
          41.693939393939395,
          46.10303030303031,
          52.625757575757575,
          53.95151515151515,
          52.057575757575755,
          55.02575757575757,
          59.010606060606065,
          56.58636363636363,
          59.449999999999996,
          52.79090909090909,
          53.10909090909091,
          47.53636363636364,
          47.9,
          45.81666666666667,
          46.780952380952385,
          48.144588744588745,
          50.926406926406926,
          49.577922077922075,
          51.53246753246753,
          49.28246753246753,
          60.37337662337662,
          58.91883116883116,
          59.14610389610389,
          55.191558441558435,
          56.191558441558435,
          52.713636363636354,
          60.44090909090909,
          56.986363636363635,
          58.834848484848486,
          59.95606060606061,
          60.766666666666666,
          52.88787878787879,
          57.34242424242425,
          61.11515151515152,
          59.75151515151516,
          54.17575757575758,
          55.30303030303031,
          46.18484848484849,
          44.24545454545455,
          47.13181818181818,
          54.646969696969705,
          69.17727272727274,
          71.23787878787878,
          66.99545454545455,
          65.35909090909092,
          66.95,
          70.22272727272727,
          73.18636363636365,
          72.1378787878788,
          72.07727272727274,
          68.46363636363638,
          62.58181818181819,
          49.77878787878788,
          97.64242424242425,
          102.21818181818183,
          108.53636363636365,
          109.44545454545457,
          107.4909090909091,
          106.64848484848486,
          110.34545454545456,
          116.59545454545456,
          116.02727272727273,
          117.31818181818183,
          115.22727272727273,
          64.39393939393939,
          64.01515151515152,
          60.1969696969697,
          65.74242424242426,
          77.60606060606061,
          80.03030303030303,
          85.48484848484847,
          79.01666666666667,
          78.13030303030304,
          76.74848484848486,
          77.05151515151516,
          81.61212121212122,
          77.71212121212123,
          71.92424242424242,
          65.95454545454547,
          55.1969696969697,
          52.56060606060607,
          47.31818181818182,
          50.35454545454545,
          51.53636363636364,
          52.872727272727275,
          55.64545454545455,
          53.6,
          58.63636363636363,
          67.37878787878788,
          69.71212121212122,
          74.83333333333334,
          75.03333333333333,
          80.67727272727272,
          80.65909090909092,
          81.78030303030305,
          80.79545454545456,
          78.97727272727275,
          78.63636363636365,
          72.63636363636364,
          65.98484848484848,
          64.13636363636364,
          63.47727272727273,
          63.36818181818181,
          59.77727272727273,
          62.88636363636364,
          59.51060606060606,
          61.63181818181818,
          60.91969696969698,
          62.07878787878788,
          65.46839826839827,
          67.74112554112554,
          67.13506493506495,
          63.430519480519486,
          59.521428571428565,
          55.407792207792205,
          51.31688311688311,
          51.45779220779221,
          48.36688311688311,
          48.89718614718615,
          45.62445887445888,
          42.98030303030304,
          38.75519480519481,
          37.573376623376625,
          37.93701298701299,
          43.24004329004328,
          42.476406926406916,
          43.56731601731602,
          41.4082251082251,
          40.77186147186148,
          45.54458874458875,
          49.27186147186148,
          51.7991341991342,
          53.44848484848485,
          53.509090909090915,
          57.81212121212121,
          55.46363636363636,
          55.63636363636364,
          53.38636363636363,
          55.840909090909086,
          55.622727272727275,
          51.0469696969697,
          48.86515151515151,
          48.63787878787878,
          55.31969696969697,
          54.64545454545455,
          48.030735930735936,
          46.83982683982684,
          51.7943722943723,
          53.16558441558442,
          52.14285714285714,
          56.57694805194805,
          53.62997835497835,
          56.43300865800865,
          55.4784632034632,
          45.105735930735925,
          49.25183982683983,
          51.881709956709955,
          55.26352813852814,
          52.354437229437224,
          52.3241341991342,
          54.195346320346324,
          56.252164502164504,
          58.888528138528144,
          56.81277056277058,
          54.15822510822511,
          55.46277056277057,
          53.23333333333334,
          48.82424242424242,
          47.4969696969697,
          46.28484848484848,
          50.01212121212121,
          50.61818181818182,
          42.91363636363636,
          43.406060606060606,
          45.82424242424242,
          47.81212121212121,
          51.334848484848486,
          51.21363636363637,
          51.759090909090915,
          51.60757575757576,
          50.615151515151524,
          45.81969696969697,
          48.00151515151515,
          50.85757575757576
         ]
        }
       ],
       "layout": {
        "legend": {
         "orientation": "h",
         "tracegroupgap": 0,
         "x": 1,
         "xanchor": "right",
         "y": 1.02,
         "yanchor": "bottom"
        },
        "template": {
         "data": {
          "bar": [
           {
            "error_x": {
             "color": "#f2f5fa"
            },
            "error_y": {
             "color": "#f2f5fa"
            },
            "marker": {
             "line": {
              "color": "rgb(17,17,17)",
              "width": 0.5
             },
             "pattern": {
              "fillmode": "overlay",
              "size": 10,
              "solidity": 0.2
             }
            },
            "type": "bar"
           }
          ],
          "barpolar": [
           {
            "marker": {
             "line": {
              "color": "rgb(17,17,17)",
              "width": 0.5
             },
             "pattern": {
              "fillmode": "overlay",
              "size": 10,
              "solidity": 0.2
             }
            },
            "type": "barpolar"
           }
          ],
          "carpet": [
           {
            "aaxis": {
             "endlinecolor": "#A2B1C6",
             "gridcolor": "#506784",
             "linecolor": "#506784",
             "minorgridcolor": "#506784",
             "startlinecolor": "#A2B1C6"
            },
            "baxis": {
             "endlinecolor": "#A2B1C6",
             "gridcolor": "#506784",
             "linecolor": "#506784",
             "minorgridcolor": "#506784",
             "startlinecolor": "#A2B1C6"
            },
            "type": "carpet"
           }
          ],
          "choropleth": [
           {
            "colorbar": {
             "outlinewidth": 0,
             "ticks": ""
            },
            "type": "choropleth"
           }
          ],
          "contour": [
           {
            "colorbar": {
             "outlinewidth": 0,
             "ticks": ""
            },
            "colorscale": [
             [
              0,
              "#0d0887"
             ],
             [
              0.1111111111111111,
              "#46039f"
             ],
             [
              0.2222222222222222,
              "#7201a8"
             ],
             [
              0.3333333333333333,
              "#9c179e"
             ],
             [
              0.4444444444444444,
              "#bd3786"
             ],
             [
              0.5555555555555556,
              "#d8576b"
             ],
             [
              0.6666666666666666,
              "#ed7953"
             ],
             [
              0.7777777777777778,
              "#fb9f3a"
             ],
             [
              0.8888888888888888,
              "#fdca26"
             ],
             [
              1,
              "#f0f921"
             ]
            ],
            "type": "contour"
           }
          ],
          "contourcarpet": [
           {
            "colorbar": {
             "outlinewidth": 0,
             "ticks": ""
            },
            "type": "contourcarpet"
           }
          ],
          "heatmap": [
           {
            "colorbar": {
             "outlinewidth": 0,
             "ticks": ""
            },
            "colorscale": [
             [
              0,
              "#0d0887"
             ],
             [
              0.1111111111111111,
              "#46039f"
             ],
             [
              0.2222222222222222,
              "#7201a8"
             ],
             [
              0.3333333333333333,
              "#9c179e"
             ],
             [
              0.4444444444444444,
              "#bd3786"
             ],
             [
              0.5555555555555556,
              "#d8576b"
             ],
             [
              0.6666666666666666,
              "#ed7953"
             ],
             [
              0.7777777777777778,
              "#fb9f3a"
             ],
             [
              0.8888888888888888,
              "#fdca26"
             ],
             [
              1,
              "#f0f921"
             ]
            ],
            "type": "heatmap"
           }
          ],
          "heatmapgl": [
           {
            "colorbar": {
             "outlinewidth": 0,
             "ticks": ""
            },
            "colorscale": [
             [
              0,
              "#0d0887"
             ],
             [
              0.1111111111111111,
              "#46039f"
             ],
             [
              0.2222222222222222,
              "#7201a8"
             ],
             [
              0.3333333333333333,
              "#9c179e"
             ],
             [
              0.4444444444444444,
              "#bd3786"
             ],
             [
              0.5555555555555556,
              "#d8576b"
             ],
             [
              0.6666666666666666,
              "#ed7953"
             ],
             [
              0.7777777777777778,
              "#fb9f3a"
             ],
             [
              0.8888888888888888,
              "#fdca26"
             ],
             [
              1,
              "#f0f921"
             ]
            ],
            "type": "heatmapgl"
           }
          ],
          "histogram": [
           {
            "marker": {
             "pattern": {
              "fillmode": "overlay",
              "size": 10,
              "solidity": 0.2
             }
            },
            "type": "histogram"
           }
          ],
          "histogram2d": [
           {
            "colorbar": {
             "outlinewidth": 0,
             "ticks": ""
            },
            "colorscale": [
             [
              0,
              "#0d0887"
             ],
             [
              0.1111111111111111,
              "#46039f"
             ],
             [
              0.2222222222222222,
              "#7201a8"
             ],
             [
              0.3333333333333333,
              "#9c179e"
             ],
             [
              0.4444444444444444,
              "#bd3786"
             ],
             [
              0.5555555555555556,
              "#d8576b"
             ],
             [
              0.6666666666666666,
              "#ed7953"
             ],
             [
              0.7777777777777778,
              "#fb9f3a"
             ],
             [
              0.8888888888888888,
              "#fdca26"
             ],
             [
              1,
              "#f0f921"
             ]
            ],
            "type": "histogram2d"
           }
          ],
          "histogram2dcontour": [
           {
            "colorbar": {
             "outlinewidth": 0,
             "ticks": ""
            },
            "colorscale": [
             [
              0,
              "#0d0887"
             ],
             [
              0.1111111111111111,
              "#46039f"
             ],
             [
              0.2222222222222222,
              "#7201a8"
             ],
             [
              0.3333333333333333,
              "#9c179e"
             ],
             [
              0.4444444444444444,
              "#bd3786"
             ],
             [
              0.5555555555555556,
              "#d8576b"
             ],
             [
              0.6666666666666666,
              "#ed7953"
             ],
             [
              0.7777777777777778,
              "#fb9f3a"
             ],
             [
              0.8888888888888888,
              "#fdca26"
             ],
             [
              1,
              "#f0f921"
             ]
            ],
            "type": "histogram2dcontour"
           }
          ],
          "mesh3d": [
           {
            "colorbar": {
             "outlinewidth": 0,
             "ticks": ""
            },
            "type": "mesh3d"
           }
          ],
          "parcoords": [
           {
            "line": {
             "colorbar": {
              "outlinewidth": 0,
              "ticks": ""
             }
            },
            "type": "parcoords"
           }
          ],
          "pie": [
           {
            "automargin": true,
            "type": "pie"
           }
          ],
          "scatter": [
           {
            "marker": {
             "line": {
              "color": "#283442"
             }
            },
            "type": "scatter"
           }
          ],
          "scatter3d": [
           {
            "line": {
             "colorbar": {
              "outlinewidth": 0,
              "ticks": ""
             }
            },
            "marker": {
             "colorbar": {
              "outlinewidth": 0,
              "ticks": ""
             }
            },
            "type": "scatter3d"
           }
          ],
          "scattercarpet": [
           {
            "marker": {
             "colorbar": {
              "outlinewidth": 0,
              "ticks": ""
             }
            },
            "type": "scattercarpet"
           }
          ],
          "scattergeo": [
           {
            "marker": {
             "colorbar": {
              "outlinewidth": 0,
              "ticks": ""
             }
            },
            "type": "scattergeo"
           }
          ],
          "scattergl": [
           {
            "marker": {
             "line": {
              "color": "#283442"
             }
            },
            "type": "scattergl"
           }
          ],
          "scattermapbox": [
           {
            "marker": {
             "colorbar": {
              "outlinewidth": 0,
              "ticks": ""
             }
            },
            "type": "scattermapbox"
           }
          ],
          "scatterpolar": [
           {
            "marker": {
             "colorbar": {
              "outlinewidth": 0,
              "ticks": ""
             }
            },
            "type": "scatterpolar"
           }
          ],
          "scatterpolargl": [
           {
            "marker": {
             "colorbar": {
              "outlinewidth": 0,
              "ticks": ""
             }
            },
            "type": "scatterpolargl"
           }
          ],
          "scatterternary": [
           {
            "marker": {
             "colorbar": {
              "outlinewidth": 0,
              "ticks": ""
             }
            },
            "type": "scatterternary"
           }
          ],
          "surface": [
           {
            "colorbar": {
             "outlinewidth": 0,
             "ticks": ""
            },
            "colorscale": [
             [
              0,
              "#0d0887"
             ],
             [
              0.1111111111111111,
              "#46039f"
             ],
             [
              0.2222222222222222,
              "#7201a8"
             ],
             [
              0.3333333333333333,
              "#9c179e"
             ],
             [
              0.4444444444444444,
              "#bd3786"
             ],
             [
              0.5555555555555556,
              "#d8576b"
             ],
             [
              0.6666666666666666,
              "#ed7953"
             ],
             [
              0.7777777777777778,
              "#fb9f3a"
             ],
             [
              0.8888888888888888,
              "#fdca26"
             ],
             [
              1,
              "#f0f921"
             ]
            ],
            "type": "surface"
           }
          ],
          "table": [
           {
            "cells": {
             "fill": {
              "color": "#506784"
             },
             "line": {
              "color": "rgb(17,17,17)"
             }
            },
            "header": {
             "fill": {
              "color": "#2a3f5f"
             },
             "line": {
              "color": "rgb(17,17,17)"
             }
            },
            "type": "table"
           }
          ]
         },
         "layout": {
          "annotationdefaults": {
           "arrowcolor": "#f2f5fa",
           "arrowhead": 0,
           "arrowwidth": 1
          },
          "autotypenumbers": "strict",
          "coloraxis": {
           "colorbar": {
            "outlinewidth": 0,
            "ticks": ""
           }
          },
          "colorscale": {
           "diverging": [
            [
             0,
             "#8e0152"
            ],
            [
             0.1,
             "#c51b7d"
            ],
            [
             0.2,
             "#de77ae"
            ],
            [
             0.3,
             "#f1b6da"
            ],
            [
             0.4,
             "#fde0ef"
            ],
            [
             0.5,
             "#f7f7f7"
            ],
            [
             0.6,
             "#e6f5d0"
            ],
            [
             0.7,
             "#b8e186"
            ],
            [
             0.8,
             "#7fbc41"
            ],
            [
             0.9,
             "#4d9221"
            ],
            [
             1,
             "#276419"
            ]
           ],
           "sequential": [
            [
             0,
             "#0d0887"
            ],
            [
             0.1111111111111111,
             "#46039f"
            ],
            [
             0.2222222222222222,
             "#7201a8"
            ],
            [
             0.3333333333333333,
             "#9c179e"
            ],
            [
             0.4444444444444444,
             "#bd3786"
            ],
            [
             0.5555555555555556,
             "#d8576b"
            ],
            [
             0.6666666666666666,
             "#ed7953"
            ],
            [
             0.7777777777777778,
             "#fb9f3a"
            ],
            [
             0.8888888888888888,
             "#fdca26"
            ],
            [
             1,
             "#f0f921"
            ]
           ],
           "sequentialminus": [
            [
             0,
             "#0d0887"
            ],
            [
             0.1111111111111111,
             "#46039f"
            ],
            [
             0.2222222222222222,
             "#7201a8"
            ],
            [
             0.3333333333333333,
             "#9c179e"
            ],
            [
             0.4444444444444444,
             "#bd3786"
            ],
            [
             0.5555555555555556,
             "#d8576b"
            ],
            [
             0.6666666666666666,
             "#ed7953"
            ],
            [
             0.7777777777777778,
             "#fb9f3a"
            ],
            [
             0.8888888888888888,
             "#fdca26"
            ],
            [
             1,
             "#f0f921"
            ]
           ]
          },
          "colorway": [
           "#636efa",
           "#EF553B",
           "#00cc96",
           "#ab63fa",
           "#FFA15A",
           "#19d3f3",
           "#FF6692",
           "#B6E880",
           "#FF97FF",
           "#FECB52"
          ],
          "font": {
           "color": "#f2f5fa"
          },
          "geo": {
           "bgcolor": "rgb(17,17,17)",
           "lakecolor": "rgb(17,17,17)",
           "landcolor": "rgb(17,17,17)",
           "showlakes": true,
           "showland": true,
           "subunitcolor": "#506784"
          },
          "hoverlabel": {
           "align": "left"
          },
          "hovermode": "closest",
          "mapbox": {
           "style": "dark"
          },
          "paper_bgcolor": "rgb(17,17,17)",
          "plot_bgcolor": "rgb(17,17,17)",
          "polar": {
           "angularaxis": {
            "gridcolor": "#506784",
            "linecolor": "#506784",
            "ticks": ""
           },
           "bgcolor": "rgb(17,17,17)",
           "radialaxis": {
            "gridcolor": "#506784",
            "linecolor": "#506784",
            "ticks": ""
           }
          },
          "scene": {
           "xaxis": {
            "backgroundcolor": "rgb(17,17,17)",
            "gridcolor": "#506784",
            "gridwidth": 2,
            "linecolor": "#506784",
            "showbackground": true,
            "ticks": "",
            "zerolinecolor": "#C8D4E3"
           },
           "yaxis": {
            "backgroundcolor": "rgb(17,17,17)",
            "gridcolor": "#506784",
            "gridwidth": 2,
            "linecolor": "#506784",
            "showbackground": true,
            "ticks": "",
            "zerolinecolor": "#C8D4E3"
           },
           "zaxis": {
            "backgroundcolor": "rgb(17,17,17)",
            "gridcolor": "#506784",
            "gridwidth": 2,
            "linecolor": "#506784",
            "showbackground": true,
            "ticks": "",
            "zerolinecolor": "#C8D4E3"
           }
          },
          "shapedefaults": {
           "line": {
            "color": "#f2f5fa"
           }
          },
          "sliderdefaults": {
           "bgcolor": "#C8D4E3",
           "bordercolor": "rgb(17,17,17)",
           "borderwidth": 1,
           "tickwidth": 0
          },
          "ternary": {
           "aaxis": {
            "gridcolor": "#506784",
            "linecolor": "#506784",
            "ticks": ""
           },
           "baxis": {
            "gridcolor": "#506784",
            "linecolor": "#506784",
            "ticks": ""
           },
           "bgcolor": "rgb(17,17,17)",
           "caxis": {
            "gridcolor": "#506784",
            "linecolor": "#506784",
            "ticks": ""
           }
          },
          "title": {
           "x": 0.05
          },
          "updatemenudefaults": {
           "bgcolor": "#506784",
           "borderwidth": 0
          },
          "xaxis": {
           "automargin": true,
           "gridcolor": "#283442",
           "linecolor": "#506784",
           "ticks": "",
           "title": {
            "standoff": 15
           },
           "zerolinecolor": "#283442",
           "zerolinewidth": 2
          },
          "yaxis": {
           "automargin": true,
           "gridcolor": "#283442",
           "linecolor": "#506784",
           "ticks": "",
           "title": {
            "standoff": 15
           },
           "zerolinecolor": "#283442",
           "zerolinewidth": 2
          }
         }
        },
        "title": {
         "text": "Average note length"
        },
        "xaxis": {
         "anchor": "y",
         "domain": [
          0,
          1
         ],
         "title": {
          "text": "Date"
         }
        },
        "yaxis": {
         "anchor": "x",
         "domain": [
          0,
          1
         ],
         "title": {
          "text": "Average note length"
         }
        }
       }
      }
     },
     "metadata": {},
     "output_type": "display_data"
    }
   ],
   "source": [
    "df.note_length_plot()"
   ]
  },
  {
   "cell_type": "markdown",
   "metadata": {},
   "source": [
    "# Making a network"
   ]
  },
  {
   "cell_type": "code",
   "execution_count": 17,
   "metadata": {
    "metadata": {}
   },
   "outputs": [],
   "source": [
    "from itertools import combinations\n",
    "from collections import Counter\n",
    "\n",
    "from pyvis.network import Network\n",
    "\n",
    "\n",
    "def color_gradient(start: str, finish: str, t: float) -> str:\n",
    "    \"\"\"Return a color that is a linear interpolation between start and finish\"\"\"\n",
    "    start_rgb = int(start[1:3], 16), int(start[3:5], 16), int(start[5:7], 16)\n",
    "    finish_rgb = int(finish[1:3], 16), int(finish[3:5], 16), int(finish[5:7], 16)\n",
    "    r = int(start_rgb[0] + t * (finish_rgb[0] - start_rgb[0]))\n",
    "    g = int(start_rgb[1] + t * (finish_rgb[1] - start_rgb[1]))\n",
    "    b = int(start_rgb[2] + t * (finish_rgb[2] - start_rgb[2]))\n",
    "    return f'#{r:02x}{g:02x}{b:02x}'\n",
    "\n",
    "\n",
    "def network_from_df(df: Dataset) -> Network:\n",
    "    net = Network(height='1000px', width='100%', directed=False, bgcolor='#222222', font_color=True)\n",
    "    activities_counter = df.activities()\n",
    "    most_common = activities_counter.most_common(20)\n",
    "    complete_analysis = df.complete_analysis()\n",
    "    activity_to_change = {ca.activity: ca.change for ca in complete_analysis}\n",
    "    for activity, count in most_common:\n",
    "        net.add_node(activity, label=activity, value=count, title=f'occured {count} times;\\nmood change: {activity_to_change[activity]:.1%}')\n",
    "    common_activities = set(activity for activity, _ in most_common)\n",
    "    all_edges = []\n",
    "    for entry in df:\n",
    "        for pair in combinations(entry.activities, 2):\n",
    "            if pair[0] not in common_activities or pair[1] not in common_activities:\n",
    "                continue\n",
    "            all_edges.append(tuple(sorted(pair)))\n",
    "    edges_counter = Counter(all_edges)\n",
    "    for (source, target), count in edges_counter.items():\n",
    "        net.add_edge(source, target, value=count)\n",
    "    return net"
   ]
  },
  {
   "cell_type": "code",
   "execution_count": 40,
   "metadata": {},
   "outputs": [
    {
     "name": "stdout",
     "output_type": "stream",
     "text": [
      "network.html\n"
     ]
    }
   ],
   "source": [
    "# net = network_from_df(df)\n",
    "# net.force_atlas_2based(spring_strength=0.02, gravity=-30, damping=0.2)\n",
    "# net.show('network.html', notebook=False)"
   ]
  },
  {
   "cell_type": "markdown",
   "metadata": {},
   "source": [
    "# Monthly Report Templates"
   ]
  },
  {
   "cell_type": "code",
   "execution_count": 7,
   "metadata": {
    "metadata": {}
   },
   "outputs": [],
   "source": [
    "import datetime\n",
    "\n",
    "\n",
    "def generate_report_template(month: int, year: int):\n",
    "    month_word = datetime.date(1900, month, 1).strftime('%B')\n",
    "\n",
    "    _from = f'01.{month:02d}.{year}'\n",
    "    month = month + 1 if month < 12 else 1\n",
    "    year = year + 1 if month == 1 else year\n",
    "    _to = f'01.{month:02d}.{year}'\n",
    "    df_month = df[_from:_to]\n",
    "    df_month_groups = df_month.group_by('day')\n",
    "\n",
    "    EVENTS_COMMENT = f'total entries: {len(df_month)}\\n\\n'\n",
    "    for day, entries in df_month_groups.items():\n",
    "        EVENTS_COMMENT += f' -- {day:%d.%m.%Y, %a} --\\n'\n",
    "        for e in entries:\n",
    "            EVENTS_COMMENT += f'@{e.full_date.time():%H:%M}: {e.mood} {\", \".join(e.activities)}\\n  {e.note}\\n'\n",
    "        EVENTS_COMMENT += '\\n'\n",
    "    \n",
    "    with open(f'{year}-{month_word}.md', 'w', encoding='utf-8') as f:\n",
    "        f.write(\n",
    "            f'# {month_word} {year}\\n\\n'\n",
    "            f'<!---\\n{EVENTS_COMMENT}--->'\n",
    "        )"
   ]
  },
  {
   "cell_type": "code",
   "execution_count": 8,
   "metadata": {
    "metadata": {}
   },
   "outputs": [],
   "source": [
    "generate_report_template(3, 2024)"
   ]
  },
  {
   "cell_type": "markdown",
   "metadata": {},
   "source": [
    "# Other"
   ]
  },
  {
   "cell_type": "code",
   "execution_count": null,
   "metadata": {},
   "outputs": [],
   "source": []
  }
 ],
 "metadata": {
  "kernelspec": {
   "display_name": "thevenv",
   "language": "python",
   "name": "python3"
  },
  "language_info": {
   "codemirror_mode": {
    "name": "ipython",
    "version": 3
   },
   "file_extension": ".py",
   "mimetype": "text/x-python",
   "name": "python",
   "nbconvert_exporter": "python",
   "pygments_lexer": "ipython3",
   "version": "3.12.1"
  },
  "orig_nbformat": 4
 },
 "nbformat": 4,
 "nbformat_minor": 2
}
