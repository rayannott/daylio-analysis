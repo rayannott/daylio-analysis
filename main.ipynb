{
 "cells": [
  {
   "cell_type": "code",
   "execution_count": 1,
   "metadata": {},
   "outputs": [
    {
     "name": "stdout",
     "output_type": "stream",
     "text": [
      "using file daylio_export_2024_01_29.csv\n",
      "Dataset(610 entries; last [39 minutes ago]; average mood: 3.852)\n"
     ]
    }
   ],
   "source": [
    "import pathlib\n",
    "from dataset import Dataset, BAD_MOOD\n",
    "\n",
    "DATA_DIR = pathlib.Path('data')\n",
    "path = next(DATA_DIR.glob('*.csv'))\n",
    "print('using file', path.name)\n",
    "\n",
    "df = Dataset(csv_file_path=path)"
   ]
  },
  {
   "cell_type": "markdown",
   "metadata": {},
   "source": [
    "# API"
   ]
  },
  {
   "cell_type": "markdown",
   "metadata": {},
   "source": [
    "### `.head`"
   ]
  },
  {
   "cell_type": "markdown",
   "metadata": {},
   "source": [
    "Use the `.head` method to look at the latest entries of the dataset"
   ]
  },
  {
   "cell_type": "code",
   "execution_count": 2,
   "metadata": {},
   "outputs": [
    {
     "name": "stdout",
     "output_type": "stream",
     "text": [
      "Dataset(610 entries; last [39 minutes ago]; average mood: 3.852)\n",
      "[29.01.2024 13:50] 3.5 procrastinating, home, satisfied\n",
      "[29.01.2024 00:11] 4.0 home, relaxed, satisfied\n",
      "[28.01.2024 20:06] 3.5 study, walking, home, satisfied\n",
      "[28.01.2024 16:16] 3.5 bored, relaxed, procrastinating, home\n",
      "[27.01.2024 18:47] 4.0 city, satisfied, tired\n",
      "...\n"
     ]
    }
   ],
   "source": [
    "df.head()"
   ]
  },
  {
   "cell_type": "code",
   "execution_count": 3,
   "metadata": {},
   "outputs": [
    {
     "name": "stdout",
     "output_type": "stream",
     "text": [
      "Dataset(610 entries; last [39 minutes ago]; average mood: 3.852)\n",
      "[29.01.2024 13:50] 3.5 procrastinating, home, satisfied\n",
      "[29.01.2024 00:11] 4.0 home, relaxed, satisfied\n",
      "...\n"
     ]
    }
   ],
   "source": [
    "df.head(2)"
   ]
  },
  {
   "cell_type": "code",
   "execution_count": 4,
   "metadata": {},
   "outputs": [
    {
     "name": "stdout",
     "output_type": "stream",
     "text": [
      "Dataset(610 entries; last [39 minutes ago]; average mood: 3.852)\n",
      "[29.01.2024 13:50] 3.5 procrastinating, home, satisfied\n",
      "[29.01.2024 00:11] 4.0 home, relaxed, satisfied\n",
      "[28.01.2024 20:06] 3.5 study, walking, home, satisfied\n",
      "[28.01.2024 16:16] 3.5 bored, relaxed, procrastinating, home\n",
      "[27.01.2024 18:47] 4.0 city, satisfied, tired\n",
      "[27.01.2024 16:03] 4.0 bored, satisfied, city, tired\n",
      "[27.01.2024 10:59] 3.5 excited\n",
      "[27.01.2024 09:00] 4.0 family, Mom, satisfied, grateful\n",
      "[26.01.2024 23:03] 3.5 piano, satisfied, tired\n",
      "[26.01.2024 20:54] 4.0 swimming, Damir, satisfied, tired\n",
      "[26.01.2024 15:24] 4.0 home, relaxed, satisfied\n",
      "[26.01.2024 13:55] 3.5 home, class\n",
      "[26.01.2024 12:14] 3.0 study, unsure, home, worried\n",
      "[25.01.2024 23:13] 3.5 home, coding\n",
      "[25.01.2024 20:03] 4.0 shopping, cycling, relaxed, home, satisfied\n",
      "[25.01.2024 19:30] 4.0 Mom, amused, Azat, home, family\n",
      "[25.01.2024 16:02] 3.5 anxious, Leha, friends, gaming, unsure, home\n",
      "[25.01.2024 01:03] 4.0 excited, home, coding, tired\n",
      "[24.01.2024 18:41] 4.0 did something, tired, coding, productive, satisfied\n",
      "[24.01.2024 18:33] 4.5 happy, grateful\n",
      "[24.01.2024 08:10] 2.5 home, anxious, underslept\n",
      "[24.01.2024 02:16] 3.5 home, relaxed\n",
      "[24.01.2024 00:57] 3.5 home, tired\n",
      "[23.01.2024 22:12] 5.0 swimming, friends, tired, Damir, happy, satisfied\n",
      "[23.01.2024 18:47] 4.0 did something, tired, coding, productive, satisfied\n",
      "[23.01.2024 16:08] 4.0 did something, excited, grateful, coding, happy, productive\n",
      "[22.01.2024 22:37] 4.5 Martina, movies & series, excited, friends, happy, satisfied\n",
      "[22.01.2024 19:51] 3.5 study, worried, excited, home\n",
      "[22.01.2024 16:50] 4.0 excited, Azat, relaxed, home, satisfied\n",
      "[22.01.2024 14:50] 3.5 class, relaxed, unsure, home\n",
      "[22.01.2024 10:50] 4.0 Lauren, satisfied, date\n",
      "[22.01.2024 00:48] 5.0 Lauren, relaxed, grateful, happy, date, home, satisfied\n",
      "[21.01.2024 23:14] 4.5 Lauren, movies & series, amused, grateful, cooking, happy, date, home\n",
      "[20.01.2024 23:42] 5.0 Lauren, worried, relaxed, happy, date, home, satisfied\n",
      "[20.01.2024 15:35] 4.5 Lauren, date, satisfied, tired\n",
      "[20.01.2024 00:20] 3.5 Lauren, worried, date, sad, home\n",
      "[19.01.2024 23:30] 4.5 Lauren, grateful, homework, coding, happy, date, home\n",
      "[18.01.2024 16:09] 3.5 did something, relaxed, coding, cooking, home\n",
      "[18.01.2024 11:43] 4.0 movies & series, happy, sad, satisfied, home\n",
      "[17.01.2024 21:44] 4.0 amused, relaxed, group project, coding, home\n",
      "[17.01.2024 17:18] 4.0 did something, tired, coding, happy, productive, satisfied\n",
      "[17.01.2024 14:06] 4.0 productive, unsure, coding, did something\n",
      "[16.01.2024 21:31] 3.5 home, relaxed\n",
      "[16.01.2024 20:47] 4.0 excited, home, piano, relaxed\n",
      "[16.01.2024 17:41] 4.5 productive, coding, did something, tired\n",
      "[15.01.2024 15:50] 4.0 class, school, happy, satisfied\n",
      "[14.01.2024 23:56] 4.5 Lauren, grateful, happy, date, unsure, home, satisfied\n",
      "[14.01.2024 23:08] 4.5 Lauren, movies & series, amused, grateful, happy, date, home, satisfied\n",
      "[14.01.2024 16:00] 4.0 walking, Lauren, relaxed, date\n",
      "[14.01.2024 13:19] 3.5 Lauren, bored, coding, date, home\n",
      "[13.01.2024 16:48] 4.0 Lauren, movies & series, excited, grateful, city, date, home\n",
      "[13.01.2024 14:15] 3.5 annoyed\n",
      "[13.01.2024 13:00] 3.0 anxious, Lion, friends, dota, unsure, home\n",
      "[13.01.2024 01:00] 4.0 excited, Lauren, home, date\n",
      "[12.01.2024 20:30] 4.5 Lauren, movies & series, amused, happy, date, home, satisfied\n",
      "[12.01.2024 18:19] 4.0 study, home, relaxed, movies & series\n",
      "[12.01.2024 13:56] 4.0 Lauren, relaxed, cleaning, date, unsure, home\n",
      "[11.01.2024 20:26] 3.5 annoyed, Lauren, anxious, date, unsure\n",
      "[11.01.2024 20:26] 4.5 Lauren, swimming, tired, Damir, happy, date, satisfied\n",
      "[11.01.2024 16:05] 4.0 Lauren, class, bored, relaxed, coding, date\n",
      "[10.01.2024 23:13] 4.0 movies & series, happy, sad, satisfied, home\n",
      "[10.01.2024 18:22] 3.5 productive, coding, did something, tired\n",
      "[09.01.2024 18:15] 4.0 did something, excited, tired, coding, productive, satisfied\n",
      "[08.01.2024 23:28] 3.5 movies & series, bored, group project, coding, home\n",
      "[07.01.2024 23:30] 4.5 Lauren, relaxed, happy, date, satisfied\n",
      "[07.01.2024 22:10] 4.5 Lauren, walking, movies & series, happy, date, satisfied\n",
      "[07.01.2024 17:38] 4.0 Lauren, movies & series, excited, bored, grateful, date, satisfied, chess\n",
      "[06.01.2024 20:45] 4.0 Lauren, excited, tired, date, sad\n",
      "[06.01.2024 15:37] 3.5 gaming, coding, home, satisfied\n",
      "[05.01.2024 21:08] 4.5 swimming, relaxed, tired, Damir, satisfied\n",
      "[05.01.2024 14:06] 4.0 Lauren, anxious, grateful, city, date, unsure\n",
      "[05.01.2024 12:53] 4.0 excited, coding, home, satisfied\n",
      "[04.01.2024 23:04] 4.0 home, relaxed, movies & series\n",
      "[04.01.2024 20:56] 4.0 Damir, city, tired\n",
      "[04.01.2024 16:15] 4.0 Lauren, home, date, grateful\n",
      "[04.01.2024 14:05] 3.5 gaming, unsure, home, satisfied\n",
      "[04.01.2024 11:30] 4.0 gaming, home, satisfied\n",
      "[03.01.2024 20:40] 4.0 gaming, cooking, happy, home, satisfied\n",
      "[03.01.2024 15:55] 3.5 procrastinating, home, bored, relaxed\n",
      "[02.01.2024 23:55] 4.0 \n",
      "[02.01.2024 14:05] 4.0 Lauren, movies & series, excited, happy, date, home, satisfied\n",
      "[02.01.2024 11:53] 4.5 Lauren, excited, cooking, happy, date, home\n",
      "[01.01.2024 18:45] 4.0 Lauren, movies & series, happy, date, home, satisfied\n",
      "[01.01.2024 14:21] 4.0 Lauren, movies & series, excited, amused, happy, date, satisfied\n",
      "[01.01.2024 12:05] 4.0 photography, Lauren, relaxed, happy, date, home, satisfied\n",
      "[31.12.2023 23:57] 4.0 Lauren, happy, date\n",
      "[31.12.2023 22:21] 4.0 Mom, nervous, home, happy, Dad, family\n",
      "[31.12.2023 21:51] 3.5 Lauren, movies & series, cooking, date, home, satisfied\n",
      "[31.12.2023 16:48] 2.5 annoyed, photography, Lauren, city, date, sad\n",
      "[31.12.2023 16:48] 4.5 Lauren, movies & series, excited, cooking, happy, date, home\n",
      "[30.12.2023 19:00] 4.0 Lauren, movies & series, cooking, date, unsure, home\n",
      "[30.12.2023 17:35] 3.5 procrastinating, coding, bored, Lion\n",
      "[29.12.2023 23:34] 4.5 Lion, excited, amused, friends, coding, happy, home\n",
      "[29.12.2023 14:36] 4.5 Lauren, new place, excited, grateful, happy, city, date\n",
      "[29.12.2023 11:49] 4.0 excited, home, coding\n",
      "[28.12.2023 19:05] 4.0 Martina, movies & series, excited, friends, Leha, gaming, coding, home, satisfied\n",
      "[28.12.2023 00:45] 2.0 annoyed, angry, anxious, home\n",
      "[27.12.2023 23:35] 4.5 excited, gaming, coding, home, satisfied\n",
      "[27.12.2023 18:55] 4.0 Leha, relaxed, gaming, home, satisfied\n",
      "[27.12.2023 13:58] 4.0 Lauren, tired, grateful, happy, date\n",
      "[26.12.2023 23:08] 5.0 Lauren, relaxed, grateful, happy, date, satisfied\n",
      "[26.12.2023 21:54] 4.5 Lauren, movies & series, excited, happy, date, satisfied\n",
      "[26.12.2023 14:15] 4.0 unsure, Lauren, date, grateful\n",
      "[26.12.2023 11:58] 3.0 unsure, sad, anxious\n",
      "[26.12.2023 10:10] 4.0 Lauren, relaxed, happy, date\n",
      "[25.12.2023 21:39] 4.0 Lauren, relaxed, tired, grateful, happy, date\n",
      "[25.12.2023 01:04] 5.0 Lauren, excited, relaxed, grateful, happy, date\n",
      "[24.12.2023 20:30] 4.5 Lauren, amused, happy, date, satisfied\n",
      "[24.12.2023 01:00] 3.0 Lauren, anxious, date, unsure\n",
      "[23.12.2023 22:00] 4.0 annoyed, Lauren, excited, date, unsure\n",
      "[23.12.2023 21:54] 5.0 Lauren, relaxed, tired, grateful, happy, date, satisfied\n",
      "[23.12.2023 20:10] 4.0 Lauren, new place, grateful, happy, date, satisfied\n",
      "[23.12.2023 14:22] 4.0 Lauren, new place, tired, happy, city, date, satisfied\n",
      "[22.12.2023 16:03] 4.0 friends, Damir, satisfied, tired\n",
      "[22.12.2023 13:34] 3.5 unsure, home, movies & series\n",
      "[22.12.2023 00:51] 4.0 excited, gaming, coding, happy, home\n",
      "[21.12.2023 21:38] 3.5 home, satisfied, movies & series\n",
      "[21.12.2023 20:34] 4.0 gaming, coding, happy, home, satisfied\n",
      "[21.12.2023 19:10] 4.0 unsure, home, social, satisfied\n",
      "[21.12.2023 16:38] 3.5 excited, home, social, nervous\n",
      "[21.12.2023 15:38] 4.0 movies & series, bored, relaxed, coding, unsure, home, satisfied\n",
      "[20.12.2023 23:50] 4.0 Lauren, movies & series, excited, date, home, satisfied\n",
      "[20.12.2023 23:00] 3.5 annoyed, anxious, amused, home, social\n",
      "[20.12.2023 12:17] 4.0 excited, gaming, coding, unsure, home\n",
      "[19.12.2023 20:55] 4.0 Martina, movies & series, worried, excited, grateful, home\n",
      "[19.12.2023 16:44] 3.5 coding, relaxed, satisfied\n",
      "[19.12.2023 14:16] 4.0 gaming, home, coding\n",
      "[18.12.2023 23:06] 4.0 excited, home, coding, piano\n",
      "[18.12.2023 20:00] 4.0 excited, gaming, coding, home\n",
      "[18.12.2023 12:06] 4.0 Lauren, happy, date\n",
      "[18.12.2023 11:32] 4.0 Lauren, date\n",
      "[17.12.2023 22:07] 3.0 Lauren, anxious, bored, date\n",
      "[17.12.2023 19:22] 4.0 Lauren, relaxed, tired, grateful, happy, city, date\n",
      "[17.12.2023 14:10] 3.5 Lauren, bored, tired, city, date\n",
      "[17.12.2023 01:00] 5.0 Lauren, happy, satisfied, date\n",
      "[16.12.2023 23:19] 5.0 Lauren, movies & series, happy, date, satisfied\n",
      "[16.12.2023 18:33] 5.0 study, Lauren, excited, happy, date, satisfied\n",
      "[15.12.2023 21:25] 4.0 school, friends, tired, Damir, happy, satisfied\n",
      "[15.12.2023 16:25] 4.0 cooking, happy, home, satisfied\n",
      "[15.12.2023 12:40] 4.0 home, coding\n",
      "[14.12.2023 23:59] 4.0 Martina, movies & series, amused, friends, happy\n",
      "[14.12.2023 21:09] 4.5 excited, home, happy, gaming\n",
      "[14.12.2023 12:44] 3.5 unsure, home, coding\n",
      "[13.12.2023 23:59] 4.0 excited, gaming, happy, home, satisfied\n",
      "[13.12.2023 18:46] 4.5 unsure, Martina, friends, movies & series\n",
      "[13.12.2023 17:53] 4.0 excited, home, coding, class\n",
      "[13.12.2023 15:27] 5.0 Lauren, city, happy, date, satisfied\n",
      "[13.12.2023 13:03] 3.5 nervous, city\n",
      "[13.12.2023 11:55] 4.0 excited, coding, unsure, home, satisfied\n",
      "[12.12.2023 21:50] 3.5 home, coding, bored, relaxed\n",
      "[12.12.2023 14:21] 4.0 excited, relaxed, friends, Leha, coding, procrastinating, home, satisfied\n",
      "[11.12.2023 19:50] 4.0 Azat, coding, happy, home, satisfied, chess\n",
      "[10.12.2023 20:00] 4.5 walking, city, satisfied, tired\n",
      "[10.12.2023 14:56] 4.0 excited, home, coding, relaxed\n",
      "[09.12.2023 21:15] 3.5 home, coding, bored\n",
      "[09.12.2023 17:53] 3.5 relaxed, coding, home, satisfied\n",
      "[09.12.2023 12:27] 4.0 Martina, movies & series, amused, friends, relaxed, happy, home\n",
      "[09.12.2023 10:27] 4.0 excited, home, coding, satisfied\n",
      "[09.12.2023 00:21] 3.5 home, relaxed, tired\n",
      "[08.12.2023 22:50] 4.0 home, coding\n",
      "[08.12.2023 19:26] 4.0 swimming, friends, tired, Damir, satisfied\n",
      "[08.12.2023 13:51] 3.0 Lauren, nervous, date, unsure, sad\n",
      "[07.12.2023 20:02] 3.5 Lauren, relaxed, date, unsure, home\n",
      "[07.12.2023 18:30] 4.0 Lauren, movies & series, excited, relaxed, happy, date, home\n",
      "[06.12.2023 20:00] 4.0 excited, Lauren, date\n",
      "[06.12.2023 11:16] 4.0 home, relaxed, class\n",
      "[05.12.2023 23:47] 3.5 excited, unsure, home, coding\n",
      "[05.12.2023 10:46] 3.0 anxious, excited, Leha, friends, coding, home\n",
      "[04.12.2023 20:02] 4.0 class, excited, coding, home, satisfied\n",
      "[03.12.2023 18:04] 4.0 Martina, movies & series, excited, amused, friends, home\n",
      "[03.12.2023 12:39] 4.0 excited, home, coding, happy\n",
      "[03.12.2023 11:09] 4.0 excited, relaxed, coding, home\n",
      "[03.12.2023 01:07] 3.5 excited, tired, coding, unsure, home, satisfied\n",
      "[02.12.2023 21:48] 4.0 Martina, excited, amused, friends, coding, happy, home\n",
      "[02.12.2023 20:24] 4.0 Martina, movies & series, amused, friends, home\n",
      "[02.12.2023 20:18] 3.5 excited, home, coding, Leha\n",
      "[02.12.2023 10:10] 3.5 Lion, amused, friends, dota, unsure\n",
      "[01.12.2023 20:01] 3.5 excited, coding, unsure, home, satisfied\n",
      "[01.12.2023 19:25] 3.5 unsure, coding, tired\n",
      "[01.12.2023 00:19] 3.0 home, relaxed, tired\n",
      "[30.11.2023 23:37] 3.5 Lauren, date, city, tired\n",
      "[30.11.2023 17:06] 4.0 excited, home, coding, satisfied\n",
      "[30.11.2023 11:07] 3.5 unsure, home, coding, Leha\n",
      "[29.11.2023 21:20] 3.5 Azat, Leha, amused, gaming, social\n",
      "[29.11.2023 16:42] 4.0 excited, coding, happy, home, satisfied\n",
      "[28.11.2023 23:00] 4.0 excited, home, coding\n",
      "[28.11.2023 20:00] 4.0 social, amused, satisfied, grateful\n",
      "[28.11.2023 19:19] 3.5 unsure, satisfied\n",
      "[28.11.2023 18:36] 3.5 relaxed\n",
      "[28.11.2023 16:49] 4.0 excited, home, satisfied\n",
      "[28.11.2023 13:07] 3.5 home, class\n",
      "[28.11.2023 04:25] 3.0 anxious, worried, stressed, unsure, home\n",
      "[27.11.2023 22:00] 4.0 Lion, amused, friends, unsure, social\n",
      "[27.11.2023 20:30] 4.0 home, Martina, friends, movies & series\n",
      "[27.11.2023 19:01] 3.5 procrastinating, home, satisfied\n",
      "[26.11.2023 20:00] 4.0 Lauren, date, movies & series, grateful\n",
      "[26.11.2023 10:47] 4.0 Lauren, date, satisfied, grateful\n",
      "[25.11.2023 23:37] 4.0 Lauren, cooking, happy, date, unsure\n",
      "[25.11.2023 11:37] 4.0 home, coding, relaxed\n",
      "[24.11.2023 21:50] 4.0 tired, Damir, happy, city, social, satisfied\n",
      "[24.11.2023 18:17] 4.0 coding, home, relaxed, satisfied\n",
      "[24.11.2023 15:31] 4.0 home, relaxed, satisfied\n",
      "[24.11.2023 11:07] 4.0 home, relaxed, happy\n",
      "[23.11.2023 21:57] 4.0 Martina, movies & series, amused, friends, home\n",
      "[23.11.2023 15:26] 3.5 study, sick, relaxed, procrastinating, unsure, home\n",
      "[22.11.2023 21:41] 4.0 Martina, movies & series, amused, Leha, gaming, home, satisfied\n",
      "[22.11.2023 18:49] 4.0 Lauren, movies & series, happy, date, home, satisfied\n",
      "[21.11.2023 21:00] 3.0 sick, bored, unsure, home\n",
      "[20.11.2023 20:20] 3.5 sick, unsure, home\n",
      "[20.11.2023 14:48] 3.5 class, relaxed, nervous, coding, unsure, home\n",
      "[19.11.2023 23:29] 3.5 excited, home, coding\n",
      "[19.11.2023 18:54] 4.0 Lauren, grateful, underslept, happy, date\n",
      "[19.11.2023 16:36] 3.0 study, anxious, tired\n",
      "[19.11.2023 11:21] 3.0 school, underslept, anxious, tired\n",
      "[19.11.2023 08:05] 3.5 unsure, underslept\n",
      "[18.11.2023 23:59] 4.0 excited, amused, school, tired, coding\n",
      "[18.11.2023 20:27] 4.0 coding, amused, school\n",
      "[17.11.2023 23:58] 2.5 angry, anxious\n",
      "[17.11.2023 22:31] 3.5 school, social, tired\n",
      "[17.11.2023 14:48] 3.0 excited\n",
      "[17.11.2023 13:56] 3.5 procrastinating, home, coding\n",
      "[16.11.2023 23:27] 5.0 Martina, movies & series, amused, friends, relaxed, home, satisfied\n",
      "[16.11.2023 20:34] 4.0 walking, Azat, relaxed, coding, home\n",
      "[16.11.2023 12:29] 3.5 nervous\n",
      "[16.11.2023 11:49] 3.0 bored, homework, coding, unsure, home\n",
      "[15.11.2023 22:00] 3.5 excited, home, coding, relaxed\n",
      "[15.11.2023 19:04] 3.5 study, group project, coding, unsure, home\n",
      "[15.11.2023 15:56] 4.0 Lauren, grateful, happy, date, home\n",
      "[14.11.2023 21:06] 4.0 Martina, movies & series, excited, amused, friends, unsure, home\n",
      "[14.11.2023 20:09] 4.0 Azat, Mom, amused, satisfied\n",
      "[14.11.2023 15:06] 2.0 angry, anxious, stressed, sad, social\n",
      "[14.11.2023 13:13] 3.5 home, class\n",
      "[14.11.2023 12:22] 4.0 excited, home, coding, satisfied\n",
      "[13.11.2023 23:59] 4.0 excited, coding, relaxed\n",
      "[13.11.2023 17:03] 4.0 home, satisfied\n",
      "[13.11.2023 15:39] 3.5 nervous, home, coding\n",
      "[13.11.2023 14:47] 4.0 amused, friends, Leha, grateful, coding, home, satisfied\n",
      "[12.11.2023 21:00] 5.0 Lauren, relaxed, happy, date, home\n",
      "[12.11.2023 17:39] 4.0 Lauren, anxious, grateful, date, unsure, sad, home\n",
      "[12.11.2023 14:00] 5.0 Lauren, movies & series, excited, cooking, happy, date, home, satisfied\n",
      "[12.11.2023 10:00] 5.0 Lauren, movies & series, grateful, happy, date, home\n",
      "[11.11.2023 17:26] 5.0 Lauren, movies & series, relaxed, happy, date, home, satisfied\n",
      "[11.11.2023 14:25] 5.0 Lauren, relaxed, grateful, cooking, happy, date, home\n",
      "[11.11.2023 12:41] 4.0 Lauren, swimming, relaxed, tired, date\n",
      "[10.11.2023 22:24] 4.0 home, piano, happy, satisfied\n",
      "[10.11.2023 21:36] 3.0 anxious, Lion, Azat, friends, dota, home, family\n",
      "[10.11.2023 15:22] 4.0 home, relaxed\n",
      "[10.11.2023 12:17] 4.0 unsure, Lauren, date, grateful\n",
      "[10.11.2023 10:30] 2.0 social\n",
      "[10.11.2023 10:00] 3.5 nervous, school\n",
      "[09.11.2023 23:52] 4.0 Martina, movies & series, amused, friends, relaxed, home\n",
      "[09.11.2023 15:02] 5.0 Lauren, grateful, happy, date, home\n",
      "[09.11.2023 00:10] 3.5 home, relaxed\n",
      "[08.11.2023 23:44] 4.0 amused, relaxed, friends, Leha, gaming, happy, home, satisfied\n",
      "[08.11.2023 23:44] 4.0 home, cooking, satisfied\n",
      "[08.11.2023 12:55] 5.0 home, coding, happy, satisfied\n",
      "[08.11.2023 12:19] 4.0 home, relaxed, satisfied\n",
      "[07.11.2023 21:00] 4.0 amused, friends, dota, Azat, coding, home, family\n",
      "[07.11.2023 19:24] 4.0 class, school, tired, happy, satisfied\n",
      "[07.11.2023 17:24] 3.5 \n",
      "[07.11.2023 16:03] 4.0 Azat, coding, home, satisfied, family\n",
      "[07.11.2023 13:43] 3.5 class, bored, relaxed, coding, unsure, home\n",
      "[07.11.2023 11:22] 3.5 class, bored, relaxed, dota, home\n",
      "[06.11.2023 23:09] 3.0 procrastinating, home, bored\n",
      "[06.11.2023 14:05] 4.0 unsure, school, satisfied, class\n",
      "[06.11.2023 09:58] 3.5 unsure, home, relaxed\n",
      "[05.11.2023 23:49] 3.5 home\n",
      "[05.11.2023 19:46] 3.0 gaming, unsure, Mom, bored\n",
      "[05.11.2023 12:14] 4.0 gaming, home, bored, satisfied\n",
      "[05.11.2023 09:05] 3.0 angry\n",
      "[04.11.2023 23:45] 4.0 home, amused, satisfied\n",
      "[04.11.2023 22:00] 3.5 dota\n",
      "[04.11.2023 20:00] 4.0 amused, relaxed, friends, tired, gaming, Leha, happy, home, satisfied\n",
      "[04.11.2023 18:02] 4.0 Lauren, tired, happy, date, satisfied\n",
      "[04.11.2023 12:48] 4.0 coding, Azat, family\n",
      "[04.11.2023 10:02] 4.0 home, coding, relaxed\n",
      "[03.11.2023 23:42] 3.5 home, relaxed, tired\n",
      "[03.11.2023 20:18] 4.0 swimming, friends, tired, Damir, satisfied\n",
      "[03.11.2023 17:26] 3.5 unsure, relaxed\n",
      "[03.11.2023 14:25] 3.0 home, bored, satisfied\n",
      "[03.11.2023 11:56] 3.5 gaming, home, bored, satisfied\n",
      "[02.11.2023 21:23] 4.0 excited, amused, Leha, friends, gaming\n",
      "[02.11.2023 21:21] 4.0 study, Lauren, school, happy, date\n",
      "[02.11.2023 10:18] 3.5 Lauren, tired, underslept, date, unsure\n",
      "[01.11.2023 21:55] 4.0 Lauren, movies & series, date\n",
      "[01.11.2023 20:00] 5.0 Lauren, date, happy, grateful\n",
      "[01.11.2023 14:00] 4.0 study, Lauren, cooking, date\n",
      "[01.11.2023 10:52] 4.0 excited, satisfied\n",
      "[01.11.2023 09:47] 3.5 excited, unsure, satisfied\n",
      "[31.10.2023 20:02] 3.5 school, class, tired\n",
      "[31.10.2023 16:44] 3.5 relaxed, unsure, home, satisfied\n",
      "[31.10.2023 15:15] 3.5 gaming, home, relaxed, happy\n",
      "[31.10.2023 15:05] 3.0 bored, class\n",
      "[30.10.2023 22:53] 3.5 home, amused, satisfied, movies & series\n",
      "[30.10.2023 18:07] 5.0 Lauren, tired, grateful, happy, city, date\n",
      "[30.10.2023 11:30] 4.0 study, school, satisfied, class\n",
      "[29.10.2023 20:54] 4.0 Lauren, movies & series, grateful, happy, date, sad\n",
      "[29.10.2023 10:05] 5.0 Lauren, amused, grateful, happy, date, home\n",
      "[28.10.2023 23:03] 5.0 Lauren, swimming, grateful, happy, date\n",
      "[28.10.2023 23:00] 6.0 Lauren, excited, relaxed, grateful, happy, date, home\n",
      "[27.10.2023 20:12] 4.0 swimming, tired\n",
      "[27.10.2023 16:10] 4.0 home, relaxed, satisfied\n",
      "[27.10.2023 12:10] 4.0 Lauren, relaxed, happy, date, chess\n",
      "[27.10.2023 09:28] 5.0 Lauren, happy, satisfied, date\n",
      "[26.10.2023 22:06] 4.0 Lauren, walking, grateful, happy, city, date, satisfied\n",
      "[26.10.2023 16:11] 3.5 home, relaxed, satisfied\n",
      "[25.10.2023 19:41] 4.0 walking, Lauren, city, happy, date\n",
      "[25.10.2023 11:59] 3.5 Lauren, school, date, unsure, sad\n",
      "[24.10.2023 20:47] 3.0 unsure, home, bored\n",
      "[24.10.2023 13:09] 3.5 home, relaxed, class\n",
      "[23.10.2023 23:20] 4.0 home, piano, happy, satisfied\n",
      "[23.10.2023 17:02] 3.5 home, relaxed, satisfied\n",
      "[23.10.2023 10:17] 3.5 home, relaxed\n",
      "[22.10.2023 21:01] 4.0 Lauren, new place, excited, tired, grateful, city, date\n",
      "[21.10.2023 20:00] 4.0 Lauren, movies & series, relaxed, city, date, satisfied\n",
      "[20.10.2023 15:52] 5.0 Lauren, class, school, grateful, happy, date\n",
      "[20.10.2023 14:55] 3.5 Lauren, school, date, unsure, sad\n",
      "[19.10.2023 14:35] 4.0 city, friends\n",
      "[19.10.2023 14:22] 5.0 Lauren, school, happy, date\n",
      "[19.10.2023 12:19] 3.5 unsure, home, bored, class\n",
      "[18.10.2023 20:05] 4.0 swimming, friends, tired\n",
      "[18.10.2023 16:46] 5.0 Lauren, movies & series, school, grateful, underslept, happy, date\n",
      "[18.10.2023 01:40] 3.5 home\n",
      "[18.10.2023 01:37] 6.0 Lauren, tired, happy, date, home\n",
      "[17.10.2023 22:23] 4.0 Lauren, class, school, grateful, happy, date\n",
      "[16.10.2023 16:57] 3.5 home, relaxed\n",
      "[16.10.2023 12:48] 3.5 Lauren, tired, underslept, date, unsure, home\n",
      "[15.10.2023 21:27] 5.0 Lauren, movies & series, grateful, happy, date, satisfied\n",
      "[15.10.2023 10:20] 5.0 Lauren, date, happy, grateful\n",
      "[14.10.2023 20:00] 4.0 Lauren, city, new place, tired\n",
      "[13.10.2023 20:10] 5.0 swimming, cycling, tired\n",
      "[13.10.2023 14:42] 3.5 cooking, unsure, home\n",
      "[12.10.2023 19:08] 4.0 Lauren, walking, amused, friends, relaxed, tired, happy\n",
      "[11.10.2023 19:00] 4.0 Lauren, movies & series, friends, relaxed, grateful, happy, home\n",
      "[10.10.2023 22:44] 3.5 home, relaxed, tired\n",
      "[10.10.2023 22:39] 3.5 amused, Leha, friends, stressed, gaming, productive, home\n",
      "[10.10.2023 09:49] 3.5 home, relaxed\n",
      "[09.10.2023 17:56] 4.0 home, bored, relaxed, movies & series\n",
      "[08.10.2023 20:00] 4.0 Lauren, friends, grateful, city, travel\n",
      "[08.10.2023 10:51] 3.5 Lauren, excited, tired, nervous, travel\n",
      "[07.10.2023 15:56] 4.0 walking, reading, amused, relaxed, city, satisfied\n",
      "[07.10.2023 12:32] 3.5 home, relaxed\n",
      "[07.10.2023 11:03] 4.0 home, relaxed, piano, satisfied\n",
      "[06.10.2023 20:45] 4.0 excited, friends, Leha, gaming, happy\n",
      "[06.10.2023 16:39] 3.5 home, relaxed\n",
      "[06.10.2023 13:02] 5.0 walking, reading, grateful, happy, satisfied\n",
      "[06.10.2023 01:03] 3.5 relaxed\n",
      "[05.10.2023 21:10] 4.0 reading, swimming\n",
      "[05.10.2023 09:55] 3.5 home, relaxed\n",
      "[04.10.2023 20:13] 5.0 Lauren, new place, movies & series, friends, grateful, happy, satisfied\n",
      "[04.10.2023 09:12] 4.0 relaxed, piano, home, satisfied\n",
      "[03.10.2023 20:01] 4.0 Lauren, walking, friends, city, happy, satisfied\n",
      "[03.10.2023 10:42] 5.0 relaxed, piano, happy, home, satisfied\n",
      "[02.10.2023 20:01] 5.0 Lauren, walking, friends, city, happy, satisfied\n",
      "[02.10.2023 10:10] 3.5 nervous, school, exam\n",
      "[01.10.2023 20:22] 3.0 study, unsure\n",
      "[01.10.2023 13:47] 5.0 unsure, walking, relaxed\n",
      "[01.10.2023 13:15] 3.5 relaxed, satisfied\n",
      "[01.10.2023 09:41] 5.0 home, piano, happy\n",
      "[01.10.2023 00:30] 4.0 unsure, home, coding, relaxed\n",
      "[30.09.2023 20:02] 3.5 study, unsure, home\n",
      "[30.09.2023 16:30] 3.0 study, unsure, home\n",
      "[30.09.2023 16:10] 4.0 home, piano, happy\n",
      "[30.09.2023 13:29] 4.0 shopping, unsure, cycling, relaxed\n",
      "[29.09.2023 19:05] 3.5 home, relaxed, satisfied\n",
      "[29.09.2023 17:53] 4.0 home, piano, satisfied, tired\n",
      "[28.09.2023 17:52] 4.0 study, guitar, relaxed\n",
      "[27.09.2023 23:45] 4.0 guitar\n",
      "[27.09.2023 18:48] 3.5 bored\n",
      "[27.09.2023 16:50] 5.0 stressed, relaxed, happy, satisfied\n",
      "[26.09.2023 12:54] 4.0 relaxed, satisfied\n",
      "[25.09.2023 20:01] 4.0 relaxed\n",
      "[25.09.2023 16:30] 4.0 study\n",
      "[24.09.2023 20:08] 4.0 walking, relaxed, satisfied\n",
      "[23.09.2023 20:02] 4.0 study, unsure, relaxed, satisfied\n",
      "[23.09.2023 13:55] 4.0 bored, satisfied, city\n",
      "[22.09.2023 22:15] 4.0 relaxed, satisfied, chess\n",
      "[22.09.2023 15:43] 3.5 anxious, study, bored\n",
      "[22.09.2023 08:25] 4.0 underslept, tired\n",
      "[21.09.2023 22:26] 4.0 relaxed, satisfied\n",
      "[21.09.2023 20:18] 4.0 study, unsure, satisfied\n",
      "[20.09.2023 23:07] 4.0 relaxed, tired\n",
      "[20.09.2023 17:13] 4.0 walking, happy, satisfied, tired\n",
      "[19.09.2023 20:20] 4.0 walking, tired\n",
      "[18.09.2023 11:58] 3.5 anxious, study, bored\n",
      "[17.09.2023 20:12] 4.0 study, unsure, satisfied, tired\n",
      "[17.09.2023 08:49] 4.0 underslept\n",
      "[16.09.2023 20:58] 5.0 swimming, relaxed, tired, cycling, satisfied\n",
      "[15.09.2023 21:55] 4.0 movies & series, bored, relaxed, home, satisfied\n",
      "[15.09.2023 15:47] 4.0 shopping, cycling, city\n",
      "[15.09.2023 13:40] 3.5 study, movies & series, home, satisfied\n",
      "[14.09.2023 21:16] 3.0 anxious, Lion, friends, dota, home\n",
      "[14.09.2023 09:39] 3.5 unsure, school\n",
      "[13.09.2023 20:09] 4.0 movies & series, amused, relaxed, home, satisfied\n",
      "[13.09.2023 16:31] 4.0 study, relaxed, home, chess\n",
      "[12.09.2023 21:17] 5.0 Lauren, movies & series, relaxed, friends, tired, grateful, cooking, happy, home\n",
      "[12.09.2023 11:50] 4.0 excited\n",
      "[11.09.2023 21:24] 3.5 movies & series, bored, procrastinating, unsure, home, chess\n",
      "[11.09.2023 13:01] 4.0 cleaning, home, piano\n",
      "[10.09.2023 20:04] 4.0 home, relaxed\n",
      "[10.09.2023 18:40] 5.0 cycling, city, relaxed\n",
      "[09.09.2023 20:01] 4.0 did something, shopping, cycling, bored, relaxed, home, chess\n",
      "[08.09.2023 21:12] 4.0 study, shopping, cycling, bored, procrastinating, home, satisfied\n",
      "[08.09.2023 12:40] 4.0 home, piano, chess\n",
      "[07.09.2023 20:24] 4.0 study, movies & series, amused, piano, home, satisfied\n",
      "[06.09.2023 23:34] 3.5 study, bored, procrastinating, unsure, home\n",
      "[06.09.2023 11:33] 3.5 procrastinating, home, piano, relaxed\n",
      "[05.09.2023 20:14] 4.0 Lauren, relaxed, tired, piano, home, satisfied\n",
      "[05.09.2023 09:55] 4.0 excited, city, friends\n",
      "[04.09.2023 20:44] 5.0 swimming, relaxed, tired, Damir, cycling, satisfied\n",
      "[03.09.2023 23:10] 4.0 home, bored, relaxed, movies & series\n",
      "[03.09.2023 15:11] 4.0 home, relaxed, satisfied\n",
      "[03.09.2023 13:33] 4.0 home, piano, happy, satisfied\n",
      "[02.09.2023 21:03] 4.0 piano, home, bored, procrastinating\n",
      "[02.09.2023 16:31] 3.5 home, cleaning, relaxed, tired\n",
      "[02.09.2023 12:13] 4.0 relaxed, piano, happy, home, satisfied\n",
      "[01.09.2023 20:05] 4.0 swimming, friends, Damir, city, satisfied\n",
      "[01.09.2023 12:36] 5.0 piano, happy, home, satisfied, chess\n",
      "[31.08.2023 22:48] 4.0 study, relaxed, piano, procrastinating, unsure, home, chess\n",
      "[30.08.2023 20:00] 4.0 home, relaxed, satisfied\n",
      "[30.08.2023 19:49] 4.0 shopping, relaxed, cooking, procrastinating, home, satisfied, chess\n",
      "[29.08.2023 20:05] 2.0 angry, sad, travel\n",
      "[29.08.2023 01:40] 4.0 angry, movies & series, grateful, unsure, satisfied\n",
      "[28.08.2023 23:06] 4.0 new place, walking, anxious, tired, city, satisfied, travel\n",
      "[28.08.2023 20:25] 4.0 sick, new place, satisfied, travel\n",
      "[27.08.2023 21:41] 2.5 sick, anxious, movies & series\n",
      "[27.08.2023 12:12] 2.0 sick, anxious\n",
      "[26.08.2023 21:52] 4.0 cinema, amused, satisfied, movies & series\n",
      "[25.08.2023 20:04] 3.5 cinema, city, movies & series, tired\n",
      "[25.08.2023 16:08] 4.0 new place, city, satisfied, tired\n",
      "[24.08.2023 22:16] 3.0 new place, anxious, friends, tired, unsure, travel\n",
      "[24.08.2023 14:06] 3.0 unsure, underslept, anxious\n",
      "[23.08.2023 20:10] 4.0 did something, overheated, grateful, piano, happy, productive, cleaning, satisfied\n",
      "[22.08.2023 20:27] 5.0 swimming, friends, tired, cycling, satisfied\n",
      "[22.08.2023 18:07] 4.0 study, friends, grateful, happy, home\n",
      "[22.08.2023 13:18] 4.0 home, piano, satisfied, chess\n",
      "[21.08.2023 20:05] 3.5 study, bored, relaxed, dota, procrastinating, unsure, home, chess\n",
      "[21.08.2023 13:11] 4.0 Martina, movies & series, friends, piano, happy, home, satisfied, chess\n",
      "[21.08.2023 00:14] 4.0 friends, relaxed, home, chess\n",
      "[20.08.2023 21:51] 3.5 anxious, Lion, friends, dota, home\n",
      "[20.08.2023 16:35] 4.0 friends, relaxed, dota, home, chess\n",
      "[19.08.2023 20:32] 5.0 swimming, friends, relaxed, tired, Damir, cycling\n",
      "[19.08.2023 18:10] 4.0 study, chess, happy, satisfied\n",
      "[19.08.2023 01:27] 4.0 home, relaxed, chess\n",
      "[18.08.2023 21:19] 4.0 walking, Lion, friends, relaxed, dota, city, chess\n",
      "[18.08.2023 11:50] 4.0 excited\n",
      "[17.08.2023 23:03] 3.5 Lion, bored, friends, dota, home, chess\n",
      "[16.08.2023 23:00] 3.5 relaxed\n",
      "[16.08.2023 20:03] 5.0 swimming, friends, tired, city, happy, cycling, satisfied\n",
      "[16.08.2023 01:33] 4.0 relaxed, dota, tired, home, chess\n",
      "[15.08.2023 20:13] 3.5 swimming, relaxed, tired, happy, cycling, satisfied\n",
      "[15.08.2023 01:02] 4.0 Martina, movies & series, friends, relaxed, home, satisfied, chess\n",
      "[14.08.2023 21:07] 4.0 study, bored, relaxed, unsure, home, chess\n",
      "[13.08.2023 19:04] 5.0 cycling, city, happy\n",
      "[13.08.2023 16:51] 4.0 relaxed\n",
      "[13.08.2023 15:31] 4.0 Martina, laundry, friends, relaxed, cleaning, home, satisfied, chess\n",
      "[13.08.2023 12:23] 4.0 Martina, movies & series, amused, friends, happy, home, satisfied, chess\n",
      "[13.08.2023 01:02] 3.5 home, bored\n",
      "[12.08.2023 23:59] 4.0 home, relaxed, happy, movies & series\n",
      "[12.08.2023 20:11] 4.0 movies & series, friends, relaxed, gaming, home, chess\n",
      "[12.08.2023 15:11] 4.0 study, relaxed, dota, gaming, cooking, home\n",
      "[11.08.2023 21:24] 3.5 home, anxious, dota\n",
      "[11.08.2023 16:51] 4.0 shopping, cycling, relaxed, satisfied\n",
      "[11.08.2023 13:36] 4.0 movies & series, friends, relaxed, grateful, cooking, happy, home\n",
      "[11.08.2023 11:23] 3.5 study, unsure, home\n",
      "[11.08.2023 00:29] 4.0 Martina, movies & series, amused, friends, happy, home, satisfied\n",
      "[10.08.2023 20:45] 4.0 walking, cycling, happy, satisfied\n",
      "[10.08.2023 20:12] 4.0 movies & series, relaxed, happy, procrastinating, home\n",
      "[10.08.2023 11:51] 3.5 unsure, school, exam\n",
      "[10.08.2023 00:24] 4.0 home, relaxed, satisfied\n",
      "[09.08.2023 20:01] 5.0 movies & series, amused, relaxed, happy, home\n",
      "[09.08.2023 17:49] 3.0 home, anxious, dota\n",
      "[09.08.2023 16:10] 3.5 study, tired, stressed, home\n",
      "[09.08.2023 14:55] 3.5 study, unsure, home\n",
      "[08.08.2023 22:02] 4.0 relaxed, piano, happy, home\n",
      "[08.08.2023 20:01] 4.0 swimming, friends, tired, Damir, satisfied\n",
      "[08.08.2023 15:50] 5.0 shopping, relaxed, city, cycling, satisfied\n",
      "[08.08.2023 13:59] 4.0 excited, cycling, city, satisfied\n",
      "[08.08.2023 11:24] 4.0 bored, relaxed, gaming, procrastinating, unsure, home\n",
      "[08.08.2023 09:22] 4.0 unsure, home, bored\n",
      "[07.08.2023 23:42] 3.5 movies & series, bored, relaxed, procrastinating, home\n",
      "[07.08.2023 20:03] 4.0 shopping, cycling, relaxed\n",
      "[07.08.2023 15:44] 4.0 relaxed, gaming, procrastinating, home\n",
      "[07.08.2023 12:05] 3.5 anxious, exam, school, unsure\n",
      "[07.08.2023 10:09] 3.0 underslept, anxious\n",
      "[06.08.2023 23:45] 3.5 home, relaxed\n",
      "[06.08.2023 20:27] 2.0 Lion, angry, anxious, friends\n",
      "[06.08.2023 15:48] 3.5 Lion, Azat, bored, friends, dota, home, family\n",
      "[06.08.2023 12:14] 4.0 anxious, gaming, procrastinating, home, satisfied\n",
      "[05.08.2023 23:29] 4.0 Lion, Azat, friends, dota, home, family\n",
      "[05.08.2023 22:29] 3.5 procrastinating, home, bored\n",
      "[05.08.2023 15:52] 4.0 home, relaxed\n",
      "[05.08.2023 11:32] 4.0 relaxed, dota, gaming, procrastinating, home\n",
      "[04.08.2023 20:00] 4.0 swimming, friends, relaxed, tired, Damir\n",
      "[04.08.2023 16:34] 4.0 Lauren, friends, grateful, happy, home\n",
      "[04.08.2023 09:24] 3.5 home, relaxed\n",
      "[03.08.2023 22:51] 4.0 home, bored, relaxed, dota\n",
      "[03.08.2023 18:01] 3.0 home, anxious\n",
      "[03.08.2023 15:31] 3.5 unsure, school, exam, tired\n",
      "[03.08.2023 12:40] 4.0 school, exam\n",
      "[03.08.2023 10:54] 4.0 school, exam, worried\n",
      "[03.08.2023 00:04] 4.0 relaxed, tired, home, satisfied\n",
      "[02.08.2023 21:10] 4.0 home, cooking, relaxed, tired\n",
      "[02.08.2023 18:30] 4.0 study, home, friends\n",
      "[02.08.2023 15:57] 5.0 walking, Lauren, grateful, happy, cycling\n",
      "[02.08.2023 15:34] 3.5 study, home, worried\n",
      "[02.08.2023 11:49] 4.0 unsure, home, satisfied\n",
      "[01.08.2023 23:59] 4.0 Lauren, amused, friends, tired, home\n",
      "[01.08.2023 23:21] 4.0 home, relaxed, tired\n",
      "[01.08.2023 21:47] 5.0 swimming, friends, relaxed, tired, Damir\n",
      "[01.08.2023 20:01] 4.0 bored, happy, city\n",
      "[01.08.2023 19:12] 3.0 sick, unsure, anxious\n",
      "[01.08.2023 18:11] 3.5 shopping, cycling\n",
      "[01.08.2023 16:11] 3.0 study, home, anxious\n",
      "[01.08.2023 10:53] 4.0 home, piano, relaxed\n",
      "[31.07.2023 18:54] 3.5 cleaning, relaxed\n",
      "[31.07.2023 17:22] 3.0 study, tired, unsure, home\n",
      "[31.07.2023 16:45] 4.0 study, relaxed, cooking, home, satisfied\n",
      "[31.07.2023 12:00] 3.5 bored, relaxed, procrastinating, unsure, home\n",
      "[30.07.2023 23:26] 4.0 Lauren, laundry, amused, friends, grateful, happy, home\n",
      "[30.07.2023 13:01] 2.5 study, home\n",
      "[30.07.2023 12:08] 3.0 home, dota\n",
      "[30.07.2023 11:01] 3.5 relaxed, gaming, procrastinating, home\n",
      "[29.07.2023 20:04] 4.0 study, Lauren, friends, home, satisfied\n",
      "[29.07.2023 15:39] 3.5 study, home, coding\n",
      "[29.07.2023 10:38] 2.5 home, underslept\n",
      "[28.07.2023 22:54] 4.0 home, relaxed\n",
      "[28.07.2023 21:15] 4.0 photography, study, gaming, home, satisfied\n",
      "[28.07.2023 16:48] 3.0 study, anxious, unsure, home\n",
      "[28.07.2023 12:12] 2.0 sad, friends, home\n",
      "[28.07.2023 10:16] 4.0 procrastinating, home, relaxed\n",
      "[27.07.2023 21:04] 4.0 shopping, cycling, relaxed, gaming, cooking, home, satisfied\n",
      "[27.07.2023 16:02] 3.5 study, unsure, home, relaxed\n",
      "[27.07.2023 15:54] 4.0 study, relaxed, home, satisfied\n",
      "[27.07.2023 01:15] 3.5 home, relaxed, tired\n",
      "[26.07.2023 23:13] 3.5 relaxed, gaming, procrastinating, home\n",
      "[26.07.2023 18:20] 4.0 gaming, home, relaxed, procrastinating\n",
      "[26.07.2023 15:00] 3.0 home, bored\n",
      "[26.07.2023 10:12] 2.0 angry, anxious, exam, school\n",
      "[26.07.2023 07:08] 3.0 stressed, underslept, exam\n",
      "[25.07.2023 22:06] 3.5 home, relaxed\n",
      "[25.07.2023 20:21] 4.0 shopping, cycling, satisfied\n",
      "[25.07.2023 15:49] 3.0 study, home, anxious\n",
      "[25.07.2023 14:04] 3.5 study, home, anxious\n",
      "[25.07.2023 01:06] 3.0 home, tired\n",
      "[24.07.2023 23:54] 3.0 gaming, home, friends, tired\n",
      "[24.07.2023 20:01] 3.5 study, amused, home, satisfied\n",
      "[24.07.2023 01:45] 4.0 movies & series, excited, happy, home\n",
      "[23.07.2023 20:49] 3.5 home, cooking, bored\n",
      "[23.07.2023 17:24] 3.5 cleaning, home, bored\n",
      "[23.07.2023 15:14] 3.5 study, unsure, home\n",
      "[23.07.2023 10:56] 3.5 home, relaxed\n",
      "[22.07.2023 22:17] 3.5 home, relaxed\n",
      "[22.07.2023 19:34] 4.0 home, relaxed, chess\n",
      "[22.07.2023 17:09] 3.5 study, home, cooking, relaxed\n",
      "[22.07.2023 14:22] 3.5 unsure, coding\n",
      "[22.07.2023 13:30] 3.0 anxious, friends, dota, home\n",
      "[22.07.2023 11:30] 4.0 home, satisfied\n",
      "[21.07.2023 23:25] 3.5 Lion, friends, relaxed, dota, home, chess\n",
      "[21.07.2023 21:55] 3.5 walking, relaxed\n",
      "[21.07.2023 21:17] 4.0 city, satisfied\n",
      "[21.07.2023 19:39] 2.5 stressed, school, exam\n",
      "[21.07.2023 16:30] 4.0 piano\n",
      "[21.07.2023 11:00] 2.5 study, snacking, worried, tired, stressed, home\n",
      "[21.07.2023 00:15] 3.0 relaxed, worried\n",
      "[20.07.2023 21:21] 3.5 snacking, coding, procrastinating, home\n",
      "[20.07.2023 18:29] 4.0 shopping, unsure, cycling\n",
      "[20.07.2023 16:58] 2.0 angry, did something, worried, meeting, stressed, home, social\n",
      "[20.07.2023 13:12] 4.0 home, coding, piano\n",
      "[19.07.2023 23:10] 2.5 home, anxious, dota\n",
      "[19.07.2023 20:16] 4.0 gaming, home, coding\n",
      "[19.07.2023 18:28] 3.0 study, anxious, tired, cooking, home\n",
      "[19.07.2023 13:27] 4.0 procrastinating, home, relaxed, chess\n",
      "[18.07.2023 23:12] 5.0 friends, Lauren, happy, home\n",
      "[18.07.2023 20:30] 5.0 swimming, friends, relaxed, tired, Damir, city, cycling, satisfied\n",
      "[18.07.2023 14:29] 4.0 shopping, cycling, satisfied\n",
      "[18.07.2023 13:49] 4.0 home, coding, satisfied\n",
      "[18.07.2023 12:23] 4.0 home, relaxed, chess\n",
      "[17.07.2023 21:37] 2.0 angry, dota, home\n",
      "[17.07.2023 20:29] 4.0 home, amused, chess\n",
      "[17.07.2023 19:17] 3.0 study, home, tired\n",
      "[17.07.2023 16:10] 3.5 Lauren, excited, Leha, stressed, cooking, home, chess\n",
      "[16.07.2023 20:02] 4.0 study, Lion, cycling, friends, dota, cleaning, home, chess\n",
      "[15.07.2023 23:01] 3.0 anxious, dota, coding, procrastinating, unsure, home, chess\n",
      "[14.07.2023 19:56] 5.0 study, new place, swimming, friends, relaxed, tired, Damir, city, procrastinating, cycling\n",
      "[14.07.2023 13:33] 4.0 excited, friends, Leha, coding, procrastinating, satisfied\n",
      "[13.07.2023 23:59] 4.0 new place, Martina, class, shopping, relaxed, friends, tired, gaming, coding, procrastinating, cycling, satisfied\n",
      "[13.07.2023 12:47] 4.0 cycling, satisfied\n",
      "[13.07.2023 10:42] 5.0 home, relaxed\n",
      "[12.07.2023 21:35] 3.5 study, movies & series, bored, procrastinating, home\n",
      "[12.07.2023 12:55] 3.0 did something, anxious, overheated, unsure, home\n",
      "[11.07.2023 23:00] 4.0 Martina, friends, gaming, happy, home, satisfied\n",
      "[11.07.2023 20:02] 3.5 study, overheated, shopping, bored, coding, cycling\n",
      "[10.07.2023 21:00] 5.0 swimming, school, friends, tired, Damir, happy, cycling, satisfied\n",
      "[10.07.2023 11:07] 4.0 cycling, school, satisfied\n",
      "[09.07.2023 22:33] 2.0 angry, dota, home\n",
      "[09.07.2023 15:50] 4.0 new place, walking, overheated, tired, city, social\n",
      "[09.07.2023 11:36] 3.5 overheated, laundry, home, cleaning\n",
      "[08.07.2023 19:13] 5.0 relaxed, tired, city, cycling, satisfied\n",
      "[08.07.2023 15:52] 3.0 study, anxious, cooking, home\n",
      "[08.07.2023 13:43] 4.0 Lauren, friends, relaxed, happy, home, satisfied\n",
      "[07.07.2023 20:00] 3.5 study, walking, shopping, friends, dota, Leha, gaming, coding, unsure\n",
      "[06.07.2023 20:41] 4.0 walking, movies & series, class, relaxed, Damir, coding, city, cinema, social, satisfied, family\n",
      "[06.07.2023 12:42] 4.0 Mom, grateful, coding, home, family\n",
      "[05.07.2023 18:42] 4.0 walking, did something, swimming, friends, tired, Damir, coding, city, satisfied\n",
      "[04.07.2023 22:50] 3.0 Martina, snacking, class, movies & series, friends, coding, productive, home\n",
      "[03.07.2023 20:05] 4.0 excited, friends, Leha, tired, stressed, gaming, coding, happy, home\n",
      "[03.07.2023 14:56] 5.0 class, school, relaxed, happy, social\n",
      "[02.07.2023 22:23] 4.0 grateful, coding, happy, procrastinating, social\n",
      "[01.07.2023 20:00] 4.0 Martina, movies & series, excited, relaxed, friends, Leha, gaming, happy, home\n"
     ]
    }
   ],
   "source": [
    "# prints all entries\n",
    "df.head(-1)"
   ]
  },
  {
   "cell_type": "markdown",
   "metadata": {},
   "source": [
    "### `.sub`"
   ]
  },
  {
   "cell_type": "markdown",
   "metadata": {},
   "source": [
    "Use the `.sub` method to filter entries and get a subset of the original dataset"
   ]
  },
  {
   "cell_type": "markdown",
   "metadata": {},
   "source": [
    "- by included activities ('or' operator: all the entries which have at least one of the listed activities)"
   ]
  },
  {
   "cell_type": "code",
   "execution_count": 5,
   "metadata": {},
   "outputs": [
    {
     "name": "stdout",
     "output_type": "stream",
     "text": [
      "Dataset(72 entries; last [1 day 19 hours 42 minutes ago]; average mood: 4.181)\n",
      "[27.01.2024 18:47] 4.0 city, satisfied, tired\n",
      "[27.01.2024 16:03] 4.0 bored, satisfied, city, tired\n",
      "[25.01.2024 20:03] 4.0 shopping, cycling, relaxed, home, satisfied\n",
      "[13.01.2024 16:48] 4.0 Lauren, movies & series, excited, grateful, city, date, home\n",
      "[05.01.2024 14:06] 4.0 Lauren, anxious, grateful, city, date, unsure\n",
      "...\n"
     ]
    }
   ],
   "source": [
    "cycling_or_city_df = df.sub(incl_act={'cycling', 'city'})\n",
    "cycling_or_city_df.head()"
   ]
  },
  {
   "cell_type": "markdown",
   "metadata": {},
   "source": [
    "- by excluded activities (entries which don't have any of the listed activities)\n",
    "\n",
    "_for both `incl_act` and `excl_act` the argument can be either `str` or `set[str]`_"
   ]
  },
  {
   "cell_type": "code",
   "execution_count": 6,
   "metadata": {},
   "outputs": [
    {
     "name": "stdout",
     "output_type": "stream",
     "text": [
      "Dataset(519 entries; last [39 minutes ago]; average mood: 3.829)\n",
      "[29.01.2024 13:50] 3.5 procrastinating, home, satisfied\n",
      "[29.01.2024 00:11] 4.0 home, relaxed, satisfied\n",
      "[28.01.2024 20:06] 3.5 study, walking, home, satisfied\n",
      "[28.01.2024 16:16] 3.5 bored, relaxed, procrastinating, home\n",
      "[27.01.2024 18:47] 4.0 city, satisfied, tired\n",
      "...\n"
     ]
    }
   ],
   "source": [
    "without_friends = df.sub(excl_act='friends')\n",
    "without_friends.head()"
   ]
  },
  {
   "cell_type": "markdown",
   "metadata": {},
   "source": [
    "- by mood values (can be either a value or a Container of values)"
   ]
  },
  {
   "cell_type": "code",
   "execution_count": 7,
   "metadata": {},
   "outputs": [
    {
     "data": {
      "text/plain": [
       "Dataset(20 entries; last [5 days 6 hours 19 minutes ago]; average mood: 2.225)"
      ]
     },
     "execution_count": 7,
     "metadata": {},
     "output_type": "execute_result"
    }
   ],
   "source": [
    "bad_mood = df.sub(mood=BAD_MOOD)\n",
    "bad_mood"
   ]
  },
  {
   "cell_type": "markdown",
   "metadata": {},
   "source": [
    "- by included activities ('and' operator: all entries which have all the listed activities)\n",
    "\n",
    "_Note: this is achieved by subscribing the dataset twice; since .sub method returns a new dataset, it can be done in one line._"
   ]
  },
  {
   "cell_type": "code",
   "execution_count": 8,
   "metadata": {},
   "outputs": [
    {
     "name": "stdout",
     "output_type": "stream",
     "text": [
      "Dataset(10 entries; last [3 months 17 days 18 hours 19 minutes ago]; average mood: 4.850)\n",
      "[13.10.2023 20:10] 5.0 swimming, cycling, tired\n",
      "[16.09.2023 20:58] 5.0 swimming, relaxed, tired, cycling, satisfied\n",
      "[04.09.2023 20:44] 5.0 swimming, relaxed, tired, Damir, cycling, satisfied\n",
      "[22.08.2023 20:27] 5.0 swimming, friends, tired, cycling, satisfied\n",
      "[19.08.2023 20:32] 5.0 swimming, friends, relaxed, tired, Damir, cycling\n",
      "...\n",
      "[('swimming', 10), ('cycling', 10), ('tired', 10), ('satisfied', 7), ('relaxed', 6), ('friends', 6), ('Damir', 5)]\n"
     ]
    }
   ],
   "source": [
    "cycling_and_swimming = df.sub(incl_act='cycling').sub(incl_act='swimming')\n",
    "cycling_and_swimming.head()\n",
    "print(cycling_and_swimming.activities().most_common(7))"
   ]
  },
  {
   "cell_type": "markdown",
   "metadata": {},
   "source": [
    "- by a particular date"
   ]
  },
  {
   "cell_type": "code",
   "execution_count": 9,
   "metadata": {},
   "outputs": [
    {
     "name": "stdout",
     "output_type": "stream",
     "text": [
      "Dataset(6 entries; last [6 months 10 days 16 hours 12 minutes ago]; average mood: 3.583)\n",
      "[22.07.2023 22:17] 3.5 home, relaxed\n",
      "[22.07.2023 19:34] 4.0 home, relaxed, chess\n",
      "[22.07.2023 17:09] 3.5 study, home, cooking, relaxed\n",
      "[22.07.2023 14:22] 3.5 unsure, coding\n",
      "[22.07.2023 13:30] 3.0 anxious, friends, dota, home\n",
      "[22.07.2023 11:30] 4.0 home, satisfied\n"
     ]
    }
   ],
   "source": [
    "import datetime\n",
    "\n",
    "july22 = df.sub(when=datetime.date(2023, 7, 22))\n",
    "# july22 = df.sub(when='22.07.2023') # or this\n",
    "july22.head(n=-1)"
   ]
  },
  {
   "cell_type": "markdown",
   "metadata": {},
   "source": [
    "- by a subtring (or substrings) in the `note`"
   ]
  },
  {
   "cell_type": "code",
   "execution_count": 10,
   "metadata": {},
   "outputs": [
    {
     "name": "stdout",
     "output_type": "stream",
     "text": [
      "Dataset(7 entries; last [2 months 7 days 16 hours 48 minutes ago]; average mood: 4.000)\n",
      "[22.11.2023 21:41] 4.0 Martina, movies & series, amused, Leha, gaming, home, satisfied\n",
      "[10.10.2023 22:39] 3.5 amused, Leha, friends, stressed, gaming, productive, home\n",
      "[06.10.2023 20:45] 4.0 excited, friends, Leha, gaming, happy\n",
      "[04.10.2023 20:13] 5.0 Lauren, new place, movies & series, friends, grateful, happy, satisfied\n",
      "[07.07.2023 20:00] 3.5 study, walking, shopping, friends, dota, Leha, gaming, coding, unsure\n",
      "[03.07.2023 20:05] 4.0 excited, friends, Leha, tired, stressed, gaming, coding, happy, home\n",
      "[01.07.2023 20:00] 4.0 Martina, movies & series, excited, relaxed, friends, Leha, gaming, happy, home\n"
     ]
    }
   ],
   "source": [
    "df_ktane = df.sub(note_contains='ktane')\n",
    "df_ktane.head(-1)"
   ]
  },
  {
   "cell_type": "markdown",
   "metadata": {},
   "source": [
    "- by a predicate function (which takes an entry as an argument and returns a boolean)"
   ]
  },
  {
   "cell_type": "code",
   "execution_count": 11,
   "metadata": {},
   "outputs": [
    {
     "data": {
      "text/plain": [
       "Dataset(18 entries; last [7 days 15 hours 15 minutes ago]; average mood: 4.778)"
      ]
     },
     "execution_count": 11,
     "metadata": {},
     "output_type": "execute_result"
    }
   ],
   "source": [
    "from dataset import Entry\n",
    "\n",
    "\n",
    "def pred(entry: Entry) -> bool:\n",
    "    \"\"\"It is sunday, the mood > 4, the note is not empty\"\"\"\n",
    "    return entry.full_date.weekday() == 6 and entry.mood > 4 and entry.note != ''\n",
    "\n",
    "\n",
    "df_sunday_good_mood_has_note = df.sub(predicate=pred)\n",
    "df_sunday_good_mood_has_note"
   ]
  },
  {
   "cell_type": "markdown",
   "metadata": {},
   "source": [
    "### `.mood`"
   ]
  },
  {
   "cell_type": "markdown",
   "metadata": {},
   "source": [
    "Use the `.mood` method to get the average mood of all the entries in the dataset. This value is also shown when calling `.head()`."
   ]
  },
  {
   "cell_type": "code",
   "execution_count": 12,
   "metadata": {},
   "outputs": [
    {
     "data": {
      "text/plain": [
       "4.181"
      ]
     },
     "execution_count": 12,
     "metadata": {},
     "output_type": "execute_result"
    }
   ],
   "source": [
    "round(cycling_or_city_df.mood(), 3)"
   ]
  },
  {
   "cell_type": "markdown",
   "metadata": {},
   "source": [
    "### `.activities`"
   ]
  },
  {
   "cell_type": "markdown",
   "metadata": {},
   "source": [
    "Use the `.activities` method to get a Counter object of all activities in the dataset"
   ]
  },
  {
   "cell_type": "code",
   "execution_count": 13,
   "metadata": {},
   "outputs": [
    {
     "name": "stdout",
     "output_type": "stream",
     "text": [
      "most common: [('home', 354), ('satisfied', 205), ('relaxed', 194)]\n",
      "least common: [('meeting', 1), ('Dad', 1), ('guitar', 2), ('homework', 2), ('snacking', 3)]\n"
     ]
    }
   ],
   "source": [
    "cnt = df.activities()\n",
    "print(f'most common: {cnt.most_common(3)}')\n",
    "print(f'least common: {cnt.most_common()[-1:-6:-1]}')\n"
   ]
  },
  {
   "cell_type": "markdown",
   "metadata": {},
   "source": [
    "### `.get_datetimes`"
   ]
  },
  {
   "cell_type": "markdown",
   "metadata": {},
   "source": [
    "Use the `.get_datetimes` method to get the list of all points in time when an entry was created"
   ]
  },
  {
   "cell_type": "code",
   "execution_count": 14,
   "metadata": {},
   "outputs": [
    {
     "data": {
      "text/plain": [
       "[datetime.datetime(2024, 1, 29, 13, 50),\n",
       " datetime.datetime(2024, 1, 29, 0, 11),\n",
       " datetime.datetime(2024, 1, 28, 20, 6),\n",
       " datetime.datetime(2024, 1, 28, 16, 16),\n",
       " datetime.datetime(2024, 1, 27, 18, 47)]"
      ]
     },
     "execution_count": 14,
     "metadata": {},
     "output_type": "execute_result"
    }
   ],
   "source": [
    "df.get_datetimes()[:5]"
   ]
  },
  {
   "cell_type": "markdown",
   "metadata": {},
   "source": [
    "### `.group_by_day`\n",
    "Use the `.group_by_day` method to get a dictionary mapping dates to a list of entries created on that date.\n",
    "The dates are sorted in ascending order.\n",
    "\n",
    "Note: this method (like many others) uses lru_cache and since the Dataset is weakly-immutable, it is safe to use it."
   ]
  },
  {
   "cell_type": "code",
   "execution_count": 15,
   "metadata": {},
   "outputs": [
    {
     "name": "stdout",
     "output_type": "stream",
     "text": [
      "2023-07-01: 1\n"
     ]
    }
   ],
   "source": [
    "groups = df.group_by_day()\n",
    "for day, entries in groups.items():\n",
    "    print(f'{day}: {len(entries)}')\n",
    "    break"
   ]
  },
  {
   "cell_type": "markdown",
   "metadata": {},
   "source": [
    "### `.stats`\n",
    "\n",
    "Use the `.stats` method to get a custom StatsResult object which contains the following information:"
   ]
  },
  {
   "cell_type": "code",
   "execution_count": 16,
   "metadata": {},
   "outputs": [
    {
     "name": "stdout",
     "output_type": "stream",
     "text": [
      "Help on method stats in module dataset:\n",
      "\n",
      "stats() -> utils.StatsResult method of dataset.Dataset instance\n",
      "    Returns the following statistics:\n",
      "        - mood (avg ± std)\n",
      "        - note length [num symbols] (avg ± std)\n",
      "        - entries frequency [entries per day] (median)\n",
      "    as a StatsResult object.\n",
      "\n"
     ]
    }
   ],
   "source": [
    "help(df.stats)"
   ]
  },
  {
   "cell_type": "code",
   "execution_count": 17,
   "metadata": {},
   "outputs": [
    {
     "data": {
      "text/plain": [
       "Mood: 3.945 ± 0.633\n",
       "Note length: 48.852 ± 49.946 symbols\n",
       "Entries frequency: 1.667 entries per day"
      ]
     },
     "execution_count": 17,
     "metadata": {},
     "output_type": "execute_result"
    }
   ],
   "source": [
    "df.sub(excl_act='home').stats()"
   ]
  },
  {
   "cell_type": "markdown",
   "metadata": {},
   "source": [
    "### `.__iter__`\n",
    "`Dataset` defines `__iter__` method, so it can be used in `for` loops. The entries are sorted in descending order by the date of creation."
   ]
  },
  {
   "cell_type": "code",
   "execution_count": 18,
   "metadata": {},
   "outputs": [
    {
     "name": "stdout",
     "output_type": "stream",
     "text": [
      "[29.01.2024 13:50] 3.5 procrastinating, home, satisfied\n",
      "[29.01.2024 13:50] 3.5 procrastinating, home, satisfied\n",
      "[29.01.2024 00:11] 4.0 home, relaxed, satisfied\n"
     ]
    }
   ],
   "source": [
    "for entry in df:\n",
    "    print(entry)\n",
    "    break\n",
    "# or\n",
    "df_iter = iter(df)\n",
    "print(next(df_iter), next(df_iter), sep='\\n')"
   ]
  },
  {
   "cell_type": "markdown",
   "metadata": {},
   "source": [
    "### `.__getitem__`\n",
    "`Dataset` defines `__getitem__` method where the argument is \n",
    "- a date in a string format (e.g. `'01.01.2024'`), it returns a list of entries created on that date;\n",
    "- a datetime in a string format (e.g. `'01.01.2024 12:00'`), it returns a single entry created at that datetime or raises an error if there are no entries created at that datetime;\n",
    "\n",
    "Note: the first use case is equivalent to `df.sub(date='01.01.2024').entries[::-1]` (it's reversed because in the root dataset the entries are sorted in descending order by the date of creation)."
   ]
  },
  {
   "cell_type": "code",
   "execution_count": 19,
   "metadata": {},
   "outputs": [
    {
     "name": "stdout",
     "output_type": "stream",
     "text": [
      "[22.07.2023 17:09] 3.5 study, home, cooking, relaxed\n"
     ]
    }
   ],
   "source": [
    "july22_entries = df['22.07.2023']\n",
    "assert july22_entries == july22.entries[::-1]\n",
    "# or\n",
    "entry = df['22.07.2023 17:09']; print(entry)"
   ]
  },
  {
   "cell_type": "markdown",
   "metadata": {},
   "source": [
    "# Analysis examples"
   ]
  },
  {
   "cell_type": "markdown",
   "metadata": {},
   "source": [
    "## Mood analysis"
   ]
  },
  {
   "cell_type": "code",
   "execution_count": 20,
   "metadata": {},
   "outputs": [],
   "source": [
    "activity = 'cycling'\n",
    "mood_with, mood_without = df.mood_with_without(activity)"
   ]
  },
  {
   "cell_type": "code",
   "execution_count": 21,
   "metadata": {},
   "outputs": [
    {
     "name": "stdout",
     "output_type": "stream",
     "text": [
      "\"cycling\"\n",
      "with: 4.37\n",
      "without: 3.82\n",
      "change: 14.3%\n"
     ]
    }
   ],
   "source": [
    "print(f'''\"{activity}\"\n",
    "with: {mood_with:.2f}\n",
    "without: {mood_without:.2f}\n",
    "change: {(mood_with - mood_without)/mood_without:.1%}'''\n",
    ")"
   ]
  },
  {
   "cell_type": "markdown",
   "metadata": {},
   "source": [
    "## Complete analysis"
   ]
  },
  {
   "cell_type": "code",
   "execution_count": 22,
   "metadata": {},
   "outputs": [],
   "source": [
    "complete_analysis = df.complete_analysis()"
   ]
  },
  {
   "cell_type": "code",
   "execution_count": 23,
   "metadata": {},
   "outputs": [
    {
     "name": "stdout",
     "output_type": "stream",
     "text": [
      "analysed 46 actvities\n",
      "[     happy     ]: 18.6% (with: 4.38, without: 3.69); occured 140 times\n",
      "[   swimming    ]: 17.2% (with: 4.48, without: 3.82); occured 26 times\n",
      "[   grateful    ]: 16.0% (with: 4.40, without: 3.79); occured 60 times\n",
      "[     Damir     ]: 14.3% (with: 4.38, without: 3.83); occured 21 times\n",
      "[    cycling    ]: 14.3% (with: 4.37, without: 3.82); occured 34 times\n",
      "[    worried    ]: -12.9% (with: 3.36, without: 3.86); occured 11 times\n",
      "[      sad      ]: -16.9% (with: 3.21, without: 3.87); occured 14 times\n",
      "[   stressed    ]: -18.9% (with: 3.14, without: 3.87); occured 11 times\n",
      "[    anxious    ]: -22.6% (with: 3.03, without: 3.92); occured 46 times\n",
      "[     angry     ]: -40.3% (with: 2.32, without: 3.88); occured 11 times\n"
     ]
    }
   ],
   "source": [
    "print(f'analysed {len(complete_analysis)} actvities')\n",
    "for _name, _with, _without, _change, _num_occ in complete_analysis[:5] + complete_analysis[-5:]:\n",
    "    print(f'[{_name:^15}]: {_change:.1%} (with: {_with:.2f}, without: {_without:.2f}); occured {_num_occ} times')\n",
    "# TODO: maybe make this a pretty figure?"
   ]
  },
  {
   "cell_type": "markdown",
   "metadata": {},
   "source": [
    "## Mood plot"
   ]
  },
  {
   "cell_type": "code",
   "execution_count": 24,
   "metadata": {},
   "outputs": [
    {
     "data": {
      "application/vnd.plotly.v1+json": {
       "config": {
        "plotlyServerURL": "https://plot.ly"
       },
       "data": [
        {
         "line": {
          "color": "rgb(31, 119, 180)"
         },
         "marker": {
          "color": [
           1,
           1,
           2,
           1,
           1,
           2,
           1,
           3,
           3,
           2,
           2,
           2,
           3,
           2,
           1,
           1,
           4,
           5,
           4,
           4,
           7,
           6,
           4,
           3,
           5,
           5,
           4,
           5,
           3,
           4,
           4,
           8,
           5,
           6,
           3,
           4,
           4,
           5,
           6,
           4,
           4,
           5,
           3,
           5,
           1,
           2,
           3,
           1,
           2,
           3,
           2,
           3,
           3,
           1,
           2,
           2,
           1,
           2,
           2,
           2,
           2,
           1,
           2,
           3,
           3,
           1,
           2,
           2,
           1,
           2,
           1,
           2,
           2,
           2,
           2,
           2,
           3,
           1,
           2,
           1,
           1,
           2,
           2,
           3,
           2,
           1,
           2,
           1,
           3,
           1,
           2,
           4,
           5,
           2,
           2,
           2,
           2,
           4,
           3,
           2,
           1,
           3,
           1,
           1,
           2,
           1,
           2,
           2,
           1,
           4,
           3,
           2,
           1,
           1,
           3,
           2,
           2,
           2,
           4,
           2,
           2,
           3,
           4,
           5,
           3,
           5,
           6,
           4,
           3,
           6,
           4,
           3,
           6,
           3,
           4,
           4,
           5,
           3,
           4,
           4,
           2,
           5,
           2,
           1,
           2,
           2,
           4,
           2,
           2,
           3,
           7,
           2,
           3,
           3,
           4,
           4,
           1,
           2,
           2,
           2,
           3,
           5,
           2,
           1,
           2,
           6,
           3,
           3,
           2,
           4,
           4,
           3,
           3,
           5,
           3,
           4,
           2,
           2,
           5,
           3,
           2,
           3,
           2,
           5,
           3,
           3,
           2,
           5,
           3,
           2,
           3,
           1,
           1,
           2,
           3,
           3,
           4,
           4,
           1,
           3,
           3,
           2,
           1,
           3,
           1,
           6,
           3,
           5,
           5,
           5,
           4,
           2,
           2
          ],
          "colorbar": {
           "title": {
            "text": "Number of entries"
           }
          },
          "colorscale": [
           [
            0,
            "rgb(0,0,255)"
           ],
           [
            1,
            "rgb(255,0,0)"
           ]
          ],
          "showscale": true
         },
         "mode": "lines+markers",
         "name": "avg",
         "type": "scatter",
         "x": [
          "2023-07-01",
          "2023-07-02",
          "2023-07-03",
          "2023-07-04",
          "2023-07-05",
          "2023-07-06",
          "2023-07-07",
          "2023-07-08",
          "2023-07-09",
          "2023-07-10",
          "2023-07-11",
          "2023-07-12",
          "2023-07-13",
          "2023-07-14",
          "2023-07-15",
          "2023-07-16",
          "2023-07-17",
          "2023-07-18",
          "2023-07-19",
          "2023-07-20",
          "2023-07-21",
          "2023-07-22",
          "2023-07-23",
          "2023-07-24",
          "2023-07-25",
          "2023-07-26",
          "2023-07-27",
          "2023-07-28",
          "2023-07-29",
          "2023-07-30",
          "2023-07-31",
          "2023-08-01",
          "2023-08-02",
          "2023-08-03",
          "2023-08-04",
          "2023-08-05",
          "2023-08-06",
          "2023-08-07",
          "2023-08-08",
          "2023-08-09",
          "2023-08-10",
          "2023-08-11",
          "2023-08-12",
          "2023-08-13",
          "2023-08-14",
          "2023-08-15",
          "2023-08-16",
          "2023-08-17",
          "2023-08-18",
          "2023-08-19",
          "2023-08-20",
          "2023-08-21",
          "2023-08-22",
          "2023-08-23",
          "2023-08-24",
          "2023-08-25",
          "2023-08-26",
          "2023-08-27",
          "2023-08-28",
          "2023-08-29",
          "2023-08-30",
          "2023-08-31",
          "2023-09-01",
          "2023-09-02",
          "2023-09-03",
          "2023-09-04",
          "2023-09-05",
          "2023-09-06",
          "2023-09-07",
          "2023-09-08",
          "2023-09-09",
          "2023-09-10",
          "2023-09-11",
          "2023-09-12",
          "2023-09-13",
          "2023-09-14",
          "2023-09-15",
          "2023-09-16",
          "2023-09-17",
          "2023-09-18",
          "2023-09-19",
          "2023-09-20",
          "2023-09-21",
          "2023-09-22",
          "2023-09-23",
          "2023-09-24",
          "2023-09-25",
          "2023-09-26",
          "2023-09-27",
          "2023-09-28",
          "2023-09-29",
          "2023-09-30",
          "2023-10-01",
          "2023-10-02",
          "2023-10-03",
          "2023-10-04",
          "2023-10-05",
          "2023-10-06",
          "2023-10-07",
          "2023-10-08",
          "2023-10-09",
          "2023-10-10",
          "2023-10-11",
          "2023-10-12",
          "2023-10-13",
          "2023-10-14",
          "2023-10-15",
          "2023-10-16",
          "2023-10-17",
          "2023-10-18",
          "2023-10-19",
          "2023-10-20",
          "2023-10-21",
          "2023-10-22",
          "2023-10-23",
          "2023-10-24",
          "2023-10-25",
          "2023-10-26",
          "2023-10-27",
          "2023-10-28",
          "2023-10-29",
          "2023-10-30",
          "2023-10-31",
          "2023-11-01",
          "2023-11-02",
          "2023-11-03",
          "2023-11-04",
          "2023-11-05",
          "2023-11-06",
          "2023-11-07",
          "2023-11-08",
          "2023-11-09",
          "2023-11-10",
          "2023-11-11",
          "2023-11-12",
          "2023-11-13",
          "2023-11-14",
          "2023-11-15",
          "2023-11-16",
          "2023-11-17",
          "2023-11-18",
          "2023-11-19",
          "2023-11-20",
          "2023-11-21",
          "2023-11-22",
          "2023-11-23",
          "2023-11-24",
          "2023-11-25",
          "2023-11-26",
          "2023-11-27",
          "2023-11-28",
          "2023-11-29",
          "2023-11-30",
          "2023-12-01",
          "2023-12-02",
          "2023-12-03",
          "2023-12-04",
          "2023-12-05",
          "2023-12-06",
          "2023-12-07",
          "2023-12-08",
          "2023-12-09",
          "2023-12-10",
          "2023-12-11",
          "2023-12-12",
          "2023-12-13",
          "2023-12-14",
          "2023-12-15",
          "2023-12-16",
          "2023-12-17",
          "2023-12-18",
          "2023-12-19",
          "2023-12-20",
          "2023-12-21",
          "2023-12-22",
          "2023-12-23",
          "2023-12-24",
          "2023-12-25",
          "2023-12-26",
          "2023-12-27",
          "2023-12-28",
          "2023-12-29",
          "2023-12-30",
          "2023-12-31",
          "2024-01-01",
          "2024-01-02",
          "2024-01-03",
          "2024-01-04",
          "2024-01-05",
          "2024-01-06",
          "2024-01-07",
          "2024-01-08",
          "2024-01-09",
          "2024-01-10",
          "2024-01-11",
          "2024-01-12",
          "2024-01-13",
          "2024-01-14",
          "2024-01-15",
          "2024-01-16",
          "2024-01-17",
          "2024-01-18",
          "2024-01-19",
          "2024-01-20",
          "2024-01-21",
          "2024-01-22",
          "2024-01-23",
          "2024-01-24",
          "2024-01-25",
          "2024-01-26",
          "2024-01-27",
          "2024-01-28",
          "2024-01-29"
         ],
         "y": [
          4,
          4,
          4.5,
          3,
          4,
          4,
          3.5,
          4,
          3.1666666666666665,
          4.5,
          3.75,
          3.25,
          4.333333333333333,
          4.5,
          3,
          4,
          3.125,
          4.4,
          3.375,
          3.375,
          3.2857142857142856,
          3.5833333333333335,
          3.5,
          3.5,
          3.4,
          3.1,
          3.75,
          3.4,
          3.3333333333333335,
          3.25,
          3.5,
          3.8125,
          4.1,
          3.75,
          3.8333333333333335,
          3.875,
          3.25,
          3.6,
          4.166666666666667,
          3.75,
          3.875,
          3.8,
          4,
          4.1,
          4,
          3.75,
          4.166666666666667,
          3.5,
          4,
          4.333333333333333,
          3.75,
          3.8333333333333335,
          4.333333333333333,
          4,
          3,
          3.75,
          4,
          2.25,
          4,
          3,
          4,
          4,
          4.5,
          3.8333333333333335,
          4,
          5,
          4,
          3.5,
          4,
          4,
          4,
          4.5,
          3.75,
          4.5,
          4,
          3.25,
          3.8333333333333335,
          5,
          4,
          3.5,
          4,
          4,
          4,
          3.8333333333333335,
          4,
          4,
          4,
          4,
          4.166666666666667,
          4,
          3.75,
          3.625,
          4.1,
          4.25,
          4.5,
          4.5,
          3.75,
          4,
          3.8333333333333335,
          3.75,
          4,
          3.5,
          4,
          4,
          4.25,
          4,
          5,
          3.5,
          4,
          4.625,
          4.166666666666667,
          4.25,
          4,
          4,
          3.6666666666666665,
          3.25,
          3.75,
          3.75,
          4.25,
          5.5,
          4.5,
          4.166666666666667,
          3.375,
          4.1,
          3.8333333333333335,
          3.5,
          3.9166666666666665,
          3.375,
          3.5,
          3.75,
          4.25,
          4.166666666666667,
          3.4166666666666665,
          4.666666666666667,
          4.75,
          3.875,
          3.5,
          3.6666666666666665,
          3.875,
          3.125,
          4,
          3.4,
          3.5,
          3,
          4,
          3.75,
          4,
          4,
          4,
          3.8333333333333335,
          3.642857142857143,
          3.75,
          3.6666666666666665,
          3.3333333333333335,
          3.75,
          3.875,
          4,
          3.25,
          4,
          3.75,
          3.6666666666666665,
          3.7,
          4.25,
          4,
          3.75,
          4.166666666666667,
          4,
          4,
          5,
          3.875,
          4,
          3.8333333333333335,
          3.8333333333333335,
          3.8,
          3.8333333333333335,
          4.25,
          3.75,
          4.5,
          4.1,
          4.166666666666667,
          3,
          4.333333333333333,
          3.75,
          3.7,
          4,
          4.166666666666667,
          3.75,
          3.9,
          4.166666666666667,
          3.75,
          4.333333333333333,
          3.5,
          4,
          3.75,
          4,
          4.166666666666667,
          3.625,
          4.125,
          4,
          4,
          4,
          3.75,
          4.5,
          4.333333333333333,
          4.5,
          4.083333333333333,
          4.333333333333333,
          3.6,
          3.8,
          3.6,
          3.875,
          3.5,
          3.75
         ]
        },
        {
         "line": {
          "width": 0
         },
         "marker": {
          "color": "#444"
         },
         "mode": "lines",
         "name": "max",
         "showlegend": false,
         "type": "scatter",
         "x": [
          "2023-07-01",
          "2023-07-02",
          "2023-07-03",
          "2023-07-04",
          "2023-07-05",
          "2023-07-06",
          "2023-07-07",
          "2023-07-08",
          "2023-07-09",
          "2023-07-10",
          "2023-07-11",
          "2023-07-12",
          "2023-07-13",
          "2023-07-14",
          "2023-07-15",
          "2023-07-16",
          "2023-07-17",
          "2023-07-18",
          "2023-07-19",
          "2023-07-20",
          "2023-07-21",
          "2023-07-22",
          "2023-07-23",
          "2023-07-24",
          "2023-07-25",
          "2023-07-26",
          "2023-07-27",
          "2023-07-28",
          "2023-07-29",
          "2023-07-30",
          "2023-07-31",
          "2023-08-01",
          "2023-08-02",
          "2023-08-03",
          "2023-08-04",
          "2023-08-05",
          "2023-08-06",
          "2023-08-07",
          "2023-08-08",
          "2023-08-09",
          "2023-08-10",
          "2023-08-11",
          "2023-08-12",
          "2023-08-13",
          "2023-08-14",
          "2023-08-15",
          "2023-08-16",
          "2023-08-17",
          "2023-08-18",
          "2023-08-19",
          "2023-08-20",
          "2023-08-21",
          "2023-08-22",
          "2023-08-23",
          "2023-08-24",
          "2023-08-25",
          "2023-08-26",
          "2023-08-27",
          "2023-08-28",
          "2023-08-29",
          "2023-08-30",
          "2023-08-31",
          "2023-09-01",
          "2023-09-02",
          "2023-09-03",
          "2023-09-04",
          "2023-09-05",
          "2023-09-06",
          "2023-09-07",
          "2023-09-08",
          "2023-09-09",
          "2023-09-10",
          "2023-09-11",
          "2023-09-12",
          "2023-09-13",
          "2023-09-14",
          "2023-09-15",
          "2023-09-16",
          "2023-09-17",
          "2023-09-18",
          "2023-09-19",
          "2023-09-20",
          "2023-09-21",
          "2023-09-22",
          "2023-09-23",
          "2023-09-24",
          "2023-09-25",
          "2023-09-26",
          "2023-09-27",
          "2023-09-28",
          "2023-09-29",
          "2023-09-30",
          "2023-10-01",
          "2023-10-02",
          "2023-10-03",
          "2023-10-04",
          "2023-10-05",
          "2023-10-06",
          "2023-10-07",
          "2023-10-08",
          "2023-10-09",
          "2023-10-10",
          "2023-10-11",
          "2023-10-12",
          "2023-10-13",
          "2023-10-14",
          "2023-10-15",
          "2023-10-16",
          "2023-10-17",
          "2023-10-18",
          "2023-10-19",
          "2023-10-20",
          "2023-10-21",
          "2023-10-22",
          "2023-10-23",
          "2023-10-24",
          "2023-10-25",
          "2023-10-26",
          "2023-10-27",
          "2023-10-28",
          "2023-10-29",
          "2023-10-30",
          "2023-10-31",
          "2023-11-01",
          "2023-11-02",
          "2023-11-03",
          "2023-11-04",
          "2023-11-05",
          "2023-11-06",
          "2023-11-07",
          "2023-11-08",
          "2023-11-09",
          "2023-11-10",
          "2023-11-11",
          "2023-11-12",
          "2023-11-13",
          "2023-11-14",
          "2023-11-15",
          "2023-11-16",
          "2023-11-17",
          "2023-11-18",
          "2023-11-19",
          "2023-11-20",
          "2023-11-21",
          "2023-11-22",
          "2023-11-23",
          "2023-11-24",
          "2023-11-25",
          "2023-11-26",
          "2023-11-27",
          "2023-11-28",
          "2023-11-29",
          "2023-11-30",
          "2023-12-01",
          "2023-12-02",
          "2023-12-03",
          "2023-12-04",
          "2023-12-05",
          "2023-12-06",
          "2023-12-07",
          "2023-12-08",
          "2023-12-09",
          "2023-12-10",
          "2023-12-11",
          "2023-12-12",
          "2023-12-13",
          "2023-12-14",
          "2023-12-15",
          "2023-12-16",
          "2023-12-17",
          "2023-12-18",
          "2023-12-19",
          "2023-12-20",
          "2023-12-21",
          "2023-12-22",
          "2023-12-23",
          "2023-12-24",
          "2023-12-25",
          "2023-12-26",
          "2023-12-27",
          "2023-12-28",
          "2023-12-29",
          "2023-12-30",
          "2023-12-31",
          "2024-01-01",
          "2024-01-02",
          "2024-01-03",
          "2024-01-04",
          "2024-01-05",
          "2024-01-06",
          "2024-01-07",
          "2024-01-08",
          "2024-01-09",
          "2024-01-10",
          "2024-01-11",
          "2024-01-12",
          "2024-01-13",
          "2024-01-14",
          "2024-01-15",
          "2024-01-16",
          "2024-01-17",
          "2024-01-18",
          "2024-01-19",
          "2024-01-20",
          "2024-01-21",
          "2024-01-22",
          "2024-01-23",
          "2024-01-24",
          "2024-01-25",
          "2024-01-26",
          "2024-01-27",
          "2024-01-28",
          "2024-01-29"
         ],
         "y": [
          4,
          4,
          5,
          3,
          4,
          4,
          3.5,
          5,
          4,
          5,
          4,
          3.5,
          5,
          5,
          3,
          4,
          4,
          5,
          4,
          4,
          4,
          4,
          3.5,
          4,
          4,
          4,
          4,
          4,
          4,
          4,
          4,
          5,
          5,
          4,
          4,
          4,
          4,
          4,
          5,
          5,
          4,
          4,
          4,
          5,
          4,
          4,
          5,
          3.5,
          4,
          5,
          4,
          4,
          5,
          4,
          3,
          4,
          4,
          2.5,
          4,
          4,
          4,
          4,
          5,
          4,
          4,
          5,
          4,
          3.5,
          4,
          4,
          4,
          5,
          4,
          5,
          4,
          3.5,
          4,
          5,
          4,
          3.5,
          4,
          4,
          4,
          4,
          4,
          4,
          4,
          4,
          5,
          4,
          4,
          4,
          5,
          5,
          5,
          5,
          4,
          5,
          4,
          4,
          4,
          3.5,
          4,
          4,
          5,
          4,
          5,
          3.5,
          4,
          6,
          5,
          5,
          4,
          4,
          4,
          3.5,
          4,
          4,
          5,
          6,
          5,
          5,
          3.5,
          5,
          4,
          4,
          4,
          4,
          4,
          4,
          5,
          5,
          4,
          5,
          5,
          4,
          4,
          4,
          5,
          3.5,
          4,
          4,
          3.5,
          3,
          4,
          4,
          4,
          4,
          4,
          4,
          4,
          4,
          4,
          3.5,
          4,
          4,
          4,
          3.5,
          4,
          4,
          4,
          4,
          4.5,
          4,
          4,
          5,
          4.5,
          4,
          5,
          5,
          4,
          4,
          4,
          4,
          4,
          5,
          4.5,
          5,
          5,
          4.5,
          4,
          4.5,
          4,
          4.5,
          4,
          4.5,
          4,
          4,
          4.5,
          4,
          4.5,
          3.5,
          4,
          4,
          4.5,
          4.5,
          4,
          4.5,
          4,
          4.5,
          4,
          4,
          4.5,
          5,
          4.5,
          5,
          5,
          4.5,
          4,
          4,
          4,
          3.5,
          4
         ]
        },
        {
         "fill": "tonexty",
         "fillcolor": "rgba(130, 130, 130, 0.45)",
         "line": {
          "width": 0
         },
         "marker": {
          "color": "#444"
         },
         "mode": "lines",
         "name": "min",
         "showlegend": false,
         "type": "scatter",
         "x": [
          "2023-07-01",
          "2023-07-02",
          "2023-07-03",
          "2023-07-04",
          "2023-07-05",
          "2023-07-06",
          "2023-07-07",
          "2023-07-08",
          "2023-07-09",
          "2023-07-10",
          "2023-07-11",
          "2023-07-12",
          "2023-07-13",
          "2023-07-14",
          "2023-07-15",
          "2023-07-16",
          "2023-07-17",
          "2023-07-18",
          "2023-07-19",
          "2023-07-20",
          "2023-07-21",
          "2023-07-22",
          "2023-07-23",
          "2023-07-24",
          "2023-07-25",
          "2023-07-26",
          "2023-07-27",
          "2023-07-28",
          "2023-07-29",
          "2023-07-30",
          "2023-07-31",
          "2023-08-01",
          "2023-08-02",
          "2023-08-03",
          "2023-08-04",
          "2023-08-05",
          "2023-08-06",
          "2023-08-07",
          "2023-08-08",
          "2023-08-09",
          "2023-08-10",
          "2023-08-11",
          "2023-08-12",
          "2023-08-13",
          "2023-08-14",
          "2023-08-15",
          "2023-08-16",
          "2023-08-17",
          "2023-08-18",
          "2023-08-19",
          "2023-08-20",
          "2023-08-21",
          "2023-08-22",
          "2023-08-23",
          "2023-08-24",
          "2023-08-25",
          "2023-08-26",
          "2023-08-27",
          "2023-08-28",
          "2023-08-29",
          "2023-08-30",
          "2023-08-31",
          "2023-09-01",
          "2023-09-02",
          "2023-09-03",
          "2023-09-04",
          "2023-09-05",
          "2023-09-06",
          "2023-09-07",
          "2023-09-08",
          "2023-09-09",
          "2023-09-10",
          "2023-09-11",
          "2023-09-12",
          "2023-09-13",
          "2023-09-14",
          "2023-09-15",
          "2023-09-16",
          "2023-09-17",
          "2023-09-18",
          "2023-09-19",
          "2023-09-20",
          "2023-09-21",
          "2023-09-22",
          "2023-09-23",
          "2023-09-24",
          "2023-09-25",
          "2023-09-26",
          "2023-09-27",
          "2023-09-28",
          "2023-09-29",
          "2023-09-30",
          "2023-10-01",
          "2023-10-02",
          "2023-10-03",
          "2023-10-04",
          "2023-10-05",
          "2023-10-06",
          "2023-10-07",
          "2023-10-08",
          "2023-10-09",
          "2023-10-10",
          "2023-10-11",
          "2023-10-12",
          "2023-10-13",
          "2023-10-14",
          "2023-10-15",
          "2023-10-16",
          "2023-10-17",
          "2023-10-18",
          "2023-10-19",
          "2023-10-20",
          "2023-10-21",
          "2023-10-22",
          "2023-10-23",
          "2023-10-24",
          "2023-10-25",
          "2023-10-26",
          "2023-10-27",
          "2023-10-28",
          "2023-10-29",
          "2023-10-30",
          "2023-10-31",
          "2023-11-01",
          "2023-11-02",
          "2023-11-03",
          "2023-11-04",
          "2023-11-05",
          "2023-11-06",
          "2023-11-07",
          "2023-11-08",
          "2023-11-09",
          "2023-11-10",
          "2023-11-11",
          "2023-11-12",
          "2023-11-13",
          "2023-11-14",
          "2023-11-15",
          "2023-11-16",
          "2023-11-17",
          "2023-11-18",
          "2023-11-19",
          "2023-11-20",
          "2023-11-21",
          "2023-11-22",
          "2023-11-23",
          "2023-11-24",
          "2023-11-25",
          "2023-11-26",
          "2023-11-27",
          "2023-11-28",
          "2023-11-29",
          "2023-11-30",
          "2023-12-01",
          "2023-12-02",
          "2023-12-03",
          "2023-12-04",
          "2023-12-05",
          "2023-12-06",
          "2023-12-07",
          "2023-12-08",
          "2023-12-09",
          "2023-12-10",
          "2023-12-11",
          "2023-12-12",
          "2023-12-13",
          "2023-12-14",
          "2023-12-15",
          "2023-12-16",
          "2023-12-17",
          "2023-12-18",
          "2023-12-19",
          "2023-12-20",
          "2023-12-21",
          "2023-12-22",
          "2023-12-23",
          "2023-12-24",
          "2023-12-25",
          "2023-12-26",
          "2023-12-27",
          "2023-12-28",
          "2023-12-29",
          "2023-12-30",
          "2023-12-31",
          "2024-01-01",
          "2024-01-02",
          "2024-01-03",
          "2024-01-04",
          "2024-01-05",
          "2024-01-06",
          "2024-01-07",
          "2024-01-08",
          "2024-01-09",
          "2024-01-10",
          "2024-01-11",
          "2024-01-12",
          "2024-01-13",
          "2024-01-14",
          "2024-01-15",
          "2024-01-16",
          "2024-01-17",
          "2024-01-18",
          "2024-01-19",
          "2024-01-20",
          "2024-01-21",
          "2024-01-22",
          "2024-01-23",
          "2024-01-24",
          "2024-01-25",
          "2024-01-26",
          "2024-01-27",
          "2024-01-28",
          "2024-01-29"
         ],
         "y": [
          4,
          4,
          4,
          3,
          4,
          4,
          3.5,
          3,
          2,
          4,
          3.5,
          3,
          4,
          4,
          3,
          4,
          2,
          4,
          2.5,
          2,
          2.5,
          3,
          3.5,
          3,
          3,
          2,
          3.5,
          2,
          2.5,
          2.5,
          3,
          3,
          3.5,
          3,
          3.5,
          3.5,
          2,
          3,
          4,
          3,
          3.5,
          3.5,
          4,
          3.5,
          4,
          3.5,
          3.5,
          3.5,
          4,
          4,
          3.5,
          3.5,
          4,
          4,
          3,
          3.5,
          4,
          2,
          4,
          2,
          4,
          4,
          4,
          3.5,
          4,
          5,
          4,
          3.5,
          4,
          4,
          4,
          4,
          3.5,
          4,
          4,
          3,
          3.5,
          5,
          4,
          3.5,
          4,
          4,
          4,
          3.5,
          4,
          4,
          4,
          4,
          3.5,
          4,
          3.5,
          3,
          3,
          3.5,
          4,
          4,
          3.5,
          3.5,
          3.5,
          3.5,
          4,
          3.5,
          4,
          4,
          3.5,
          4,
          5,
          3.5,
          4,
          3.5,
          3.5,
          3.5,
          4,
          4,
          3.5,
          3,
          3.5,
          3.5,
          4,
          5,
          4,
          3.5,
          3,
          3.5,
          3.5,
          3,
          3.5,
          3,
          3,
          3.5,
          4,
          3.5,
          2,
          4,
          4,
          3.5,
          2,
          3.5,
          3,
          2.5,
          4,
          3,
          3.5,
          3,
          4,
          3.5,
          4,
          4,
          4,
          3.5,
          3,
          3.5,
          3.5,
          3,
          3.5,
          3.5,
          4,
          3,
          4,
          3.5,
          3,
          3.5,
          4,
          4,
          3.5,
          3.5,
          3.5,
          4,
          5,
          3,
          4,
          3.5,
          3.5,
          3.5,
          3.5,
          4,
          3,
          4,
          3,
          4,
          2,
          4,
          3.5,
          2.5,
          4,
          4,
          3.5,
          3.5,
          4,
          3.5,
          4,
          3.5,
          4,
          3.5,
          3.5,
          4,
          3,
          3.5,
          4,
          3.5,
          4,
          3.5,
          4.5,
          3.5,
          4.5,
          3.5,
          4,
          2.5,
          3.5,
          3,
          3.5,
          3.5,
          3.5
         ]
        }
       ],
       "layout": {
        "hovermode": "x",
        "showlegend": false,
        "template": {
         "data": {
          "bar": [
           {
            "error_x": {
             "color": "#f2f5fa"
            },
            "error_y": {
             "color": "#f2f5fa"
            },
            "marker": {
             "line": {
              "color": "rgb(17,17,17)",
              "width": 0.5
             },
             "pattern": {
              "fillmode": "overlay",
              "size": 10,
              "solidity": 0.2
             }
            },
            "type": "bar"
           }
          ],
          "barpolar": [
           {
            "marker": {
             "line": {
              "color": "rgb(17,17,17)",
              "width": 0.5
             },
             "pattern": {
              "fillmode": "overlay",
              "size": 10,
              "solidity": 0.2
             }
            },
            "type": "barpolar"
           }
          ],
          "carpet": [
           {
            "aaxis": {
             "endlinecolor": "#A2B1C6",
             "gridcolor": "#506784",
             "linecolor": "#506784",
             "minorgridcolor": "#506784",
             "startlinecolor": "#A2B1C6"
            },
            "baxis": {
             "endlinecolor": "#A2B1C6",
             "gridcolor": "#506784",
             "linecolor": "#506784",
             "minorgridcolor": "#506784",
             "startlinecolor": "#A2B1C6"
            },
            "type": "carpet"
           }
          ],
          "choropleth": [
           {
            "colorbar": {
             "outlinewidth": 0,
             "ticks": ""
            },
            "type": "choropleth"
           }
          ],
          "contour": [
           {
            "colorbar": {
             "outlinewidth": 0,
             "ticks": ""
            },
            "colorscale": [
             [
              0,
              "#0d0887"
             ],
             [
              0.1111111111111111,
              "#46039f"
             ],
             [
              0.2222222222222222,
              "#7201a8"
             ],
             [
              0.3333333333333333,
              "#9c179e"
             ],
             [
              0.4444444444444444,
              "#bd3786"
             ],
             [
              0.5555555555555556,
              "#d8576b"
             ],
             [
              0.6666666666666666,
              "#ed7953"
             ],
             [
              0.7777777777777778,
              "#fb9f3a"
             ],
             [
              0.8888888888888888,
              "#fdca26"
             ],
             [
              1,
              "#f0f921"
             ]
            ],
            "type": "contour"
           }
          ],
          "contourcarpet": [
           {
            "colorbar": {
             "outlinewidth": 0,
             "ticks": ""
            },
            "type": "contourcarpet"
           }
          ],
          "heatmap": [
           {
            "colorbar": {
             "outlinewidth": 0,
             "ticks": ""
            },
            "colorscale": [
             [
              0,
              "#0d0887"
             ],
             [
              0.1111111111111111,
              "#46039f"
             ],
             [
              0.2222222222222222,
              "#7201a8"
             ],
             [
              0.3333333333333333,
              "#9c179e"
             ],
             [
              0.4444444444444444,
              "#bd3786"
             ],
             [
              0.5555555555555556,
              "#d8576b"
             ],
             [
              0.6666666666666666,
              "#ed7953"
             ],
             [
              0.7777777777777778,
              "#fb9f3a"
             ],
             [
              0.8888888888888888,
              "#fdca26"
             ],
             [
              1,
              "#f0f921"
             ]
            ],
            "type": "heatmap"
           }
          ],
          "heatmapgl": [
           {
            "colorbar": {
             "outlinewidth": 0,
             "ticks": ""
            },
            "colorscale": [
             [
              0,
              "#0d0887"
             ],
             [
              0.1111111111111111,
              "#46039f"
             ],
             [
              0.2222222222222222,
              "#7201a8"
             ],
             [
              0.3333333333333333,
              "#9c179e"
             ],
             [
              0.4444444444444444,
              "#bd3786"
             ],
             [
              0.5555555555555556,
              "#d8576b"
             ],
             [
              0.6666666666666666,
              "#ed7953"
             ],
             [
              0.7777777777777778,
              "#fb9f3a"
             ],
             [
              0.8888888888888888,
              "#fdca26"
             ],
             [
              1,
              "#f0f921"
             ]
            ],
            "type": "heatmapgl"
           }
          ],
          "histogram": [
           {
            "marker": {
             "pattern": {
              "fillmode": "overlay",
              "size": 10,
              "solidity": 0.2
             }
            },
            "type": "histogram"
           }
          ],
          "histogram2d": [
           {
            "colorbar": {
             "outlinewidth": 0,
             "ticks": ""
            },
            "colorscale": [
             [
              0,
              "#0d0887"
             ],
             [
              0.1111111111111111,
              "#46039f"
             ],
             [
              0.2222222222222222,
              "#7201a8"
             ],
             [
              0.3333333333333333,
              "#9c179e"
             ],
             [
              0.4444444444444444,
              "#bd3786"
             ],
             [
              0.5555555555555556,
              "#d8576b"
             ],
             [
              0.6666666666666666,
              "#ed7953"
             ],
             [
              0.7777777777777778,
              "#fb9f3a"
             ],
             [
              0.8888888888888888,
              "#fdca26"
             ],
             [
              1,
              "#f0f921"
             ]
            ],
            "type": "histogram2d"
           }
          ],
          "histogram2dcontour": [
           {
            "colorbar": {
             "outlinewidth": 0,
             "ticks": ""
            },
            "colorscale": [
             [
              0,
              "#0d0887"
             ],
             [
              0.1111111111111111,
              "#46039f"
             ],
             [
              0.2222222222222222,
              "#7201a8"
             ],
             [
              0.3333333333333333,
              "#9c179e"
             ],
             [
              0.4444444444444444,
              "#bd3786"
             ],
             [
              0.5555555555555556,
              "#d8576b"
             ],
             [
              0.6666666666666666,
              "#ed7953"
             ],
             [
              0.7777777777777778,
              "#fb9f3a"
             ],
             [
              0.8888888888888888,
              "#fdca26"
             ],
             [
              1,
              "#f0f921"
             ]
            ],
            "type": "histogram2dcontour"
           }
          ],
          "mesh3d": [
           {
            "colorbar": {
             "outlinewidth": 0,
             "ticks": ""
            },
            "type": "mesh3d"
           }
          ],
          "parcoords": [
           {
            "line": {
             "colorbar": {
              "outlinewidth": 0,
              "ticks": ""
             }
            },
            "type": "parcoords"
           }
          ],
          "pie": [
           {
            "automargin": true,
            "type": "pie"
           }
          ],
          "scatter": [
           {
            "marker": {
             "line": {
              "color": "#283442"
             }
            },
            "type": "scatter"
           }
          ],
          "scatter3d": [
           {
            "line": {
             "colorbar": {
              "outlinewidth": 0,
              "ticks": ""
             }
            },
            "marker": {
             "colorbar": {
              "outlinewidth": 0,
              "ticks": ""
             }
            },
            "type": "scatter3d"
           }
          ],
          "scattercarpet": [
           {
            "marker": {
             "colorbar": {
              "outlinewidth": 0,
              "ticks": ""
             }
            },
            "type": "scattercarpet"
           }
          ],
          "scattergeo": [
           {
            "marker": {
             "colorbar": {
              "outlinewidth": 0,
              "ticks": ""
             }
            },
            "type": "scattergeo"
           }
          ],
          "scattergl": [
           {
            "marker": {
             "line": {
              "color": "#283442"
             }
            },
            "type": "scattergl"
           }
          ],
          "scattermapbox": [
           {
            "marker": {
             "colorbar": {
              "outlinewidth": 0,
              "ticks": ""
             }
            },
            "type": "scattermapbox"
           }
          ],
          "scatterpolar": [
           {
            "marker": {
             "colorbar": {
              "outlinewidth": 0,
              "ticks": ""
             }
            },
            "type": "scatterpolar"
           }
          ],
          "scatterpolargl": [
           {
            "marker": {
             "colorbar": {
              "outlinewidth": 0,
              "ticks": ""
             }
            },
            "type": "scatterpolargl"
           }
          ],
          "scatterternary": [
           {
            "marker": {
             "colorbar": {
              "outlinewidth": 0,
              "ticks": ""
             }
            },
            "type": "scatterternary"
           }
          ],
          "surface": [
           {
            "colorbar": {
             "outlinewidth": 0,
             "ticks": ""
            },
            "colorscale": [
             [
              0,
              "#0d0887"
             ],
             [
              0.1111111111111111,
              "#46039f"
             ],
             [
              0.2222222222222222,
              "#7201a8"
             ],
             [
              0.3333333333333333,
              "#9c179e"
             ],
             [
              0.4444444444444444,
              "#bd3786"
             ],
             [
              0.5555555555555556,
              "#d8576b"
             ],
             [
              0.6666666666666666,
              "#ed7953"
             ],
             [
              0.7777777777777778,
              "#fb9f3a"
             ],
             [
              0.8888888888888888,
              "#fdca26"
             ],
             [
              1,
              "#f0f921"
             ]
            ],
            "type": "surface"
           }
          ],
          "table": [
           {
            "cells": {
             "fill": {
              "color": "#506784"
             },
             "line": {
              "color": "rgb(17,17,17)"
             }
            },
            "header": {
             "fill": {
              "color": "#2a3f5f"
             },
             "line": {
              "color": "rgb(17,17,17)"
             }
            },
            "type": "table"
           }
          ]
         },
         "layout": {
          "annotationdefaults": {
           "arrowcolor": "#f2f5fa",
           "arrowhead": 0,
           "arrowwidth": 1
          },
          "autotypenumbers": "strict",
          "coloraxis": {
           "colorbar": {
            "outlinewidth": 0,
            "ticks": ""
           }
          },
          "colorscale": {
           "diverging": [
            [
             0,
             "#8e0152"
            ],
            [
             0.1,
             "#c51b7d"
            ],
            [
             0.2,
             "#de77ae"
            ],
            [
             0.3,
             "#f1b6da"
            ],
            [
             0.4,
             "#fde0ef"
            ],
            [
             0.5,
             "#f7f7f7"
            ],
            [
             0.6,
             "#e6f5d0"
            ],
            [
             0.7,
             "#b8e186"
            ],
            [
             0.8,
             "#7fbc41"
            ],
            [
             0.9,
             "#4d9221"
            ],
            [
             1,
             "#276419"
            ]
           ],
           "sequential": [
            [
             0,
             "#0d0887"
            ],
            [
             0.1111111111111111,
             "#46039f"
            ],
            [
             0.2222222222222222,
             "#7201a8"
            ],
            [
             0.3333333333333333,
             "#9c179e"
            ],
            [
             0.4444444444444444,
             "#bd3786"
            ],
            [
             0.5555555555555556,
             "#d8576b"
            ],
            [
             0.6666666666666666,
             "#ed7953"
            ],
            [
             0.7777777777777778,
             "#fb9f3a"
            ],
            [
             0.8888888888888888,
             "#fdca26"
            ],
            [
             1,
             "#f0f921"
            ]
           ],
           "sequentialminus": [
            [
             0,
             "#0d0887"
            ],
            [
             0.1111111111111111,
             "#46039f"
            ],
            [
             0.2222222222222222,
             "#7201a8"
            ],
            [
             0.3333333333333333,
             "#9c179e"
            ],
            [
             0.4444444444444444,
             "#bd3786"
            ],
            [
             0.5555555555555556,
             "#d8576b"
            ],
            [
             0.6666666666666666,
             "#ed7953"
            ],
            [
             0.7777777777777778,
             "#fb9f3a"
            ],
            [
             0.8888888888888888,
             "#fdca26"
            ],
            [
             1,
             "#f0f921"
            ]
           ]
          },
          "colorway": [
           "#636efa",
           "#EF553B",
           "#00cc96",
           "#ab63fa",
           "#FFA15A",
           "#19d3f3",
           "#FF6692",
           "#B6E880",
           "#FF97FF",
           "#FECB52"
          ],
          "font": {
           "color": "#f2f5fa"
          },
          "geo": {
           "bgcolor": "rgb(17,17,17)",
           "lakecolor": "rgb(17,17,17)",
           "landcolor": "rgb(17,17,17)",
           "showlakes": true,
           "showland": true,
           "subunitcolor": "#506784"
          },
          "hoverlabel": {
           "align": "left"
          },
          "hovermode": "closest",
          "mapbox": {
           "style": "dark"
          },
          "paper_bgcolor": "rgb(17,17,17)",
          "plot_bgcolor": "rgb(17,17,17)",
          "polar": {
           "angularaxis": {
            "gridcolor": "#506784",
            "linecolor": "#506784",
            "ticks": ""
           },
           "bgcolor": "rgb(17,17,17)",
           "radialaxis": {
            "gridcolor": "#506784",
            "linecolor": "#506784",
            "ticks": ""
           }
          },
          "scene": {
           "xaxis": {
            "backgroundcolor": "rgb(17,17,17)",
            "gridcolor": "#506784",
            "gridwidth": 2,
            "linecolor": "#506784",
            "showbackground": true,
            "ticks": "",
            "zerolinecolor": "#C8D4E3"
           },
           "yaxis": {
            "backgroundcolor": "rgb(17,17,17)",
            "gridcolor": "#506784",
            "gridwidth": 2,
            "linecolor": "#506784",
            "showbackground": true,
            "ticks": "",
            "zerolinecolor": "#C8D4E3"
           },
           "zaxis": {
            "backgroundcolor": "rgb(17,17,17)",
            "gridcolor": "#506784",
            "gridwidth": 2,
            "linecolor": "#506784",
            "showbackground": true,
            "ticks": "",
            "zerolinecolor": "#C8D4E3"
           }
          },
          "shapedefaults": {
           "line": {
            "color": "#f2f5fa"
           }
          },
          "sliderdefaults": {
           "bgcolor": "#C8D4E3",
           "bordercolor": "rgb(17,17,17)",
           "borderwidth": 1,
           "tickwidth": 0
          },
          "ternary": {
           "aaxis": {
            "gridcolor": "#506784",
            "linecolor": "#506784",
            "ticks": ""
           },
           "baxis": {
            "gridcolor": "#506784",
            "linecolor": "#506784",
            "ticks": ""
           },
           "bgcolor": "rgb(17,17,17)",
           "caxis": {
            "gridcolor": "#506784",
            "linecolor": "#506784",
            "ticks": ""
           }
          },
          "title": {
           "x": 0.05
          },
          "updatemenudefaults": {
           "bgcolor": "#506784",
           "borderwidth": 0
          },
          "xaxis": {
           "automargin": true,
           "gridcolor": "#283442",
           "linecolor": "#506784",
           "ticks": "",
           "title": {
            "standoff": 15
           },
           "zerolinecolor": "#283442",
           "zerolinewidth": 2
          },
          "yaxis": {
           "automargin": true,
           "gridcolor": "#283442",
           "linecolor": "#506784",
           "ticks": "",
           "title": {
            "standoff": 15
           },
           "zerolinecolor": "#283442",
           "zerolinewidth": 2
          }
         }
        },
        "xaxis": {
         "title": {
          "text": "Date"
         }
        },
        "yaxis": {
         "rangemode": "tozero",
         "title": {
          "text": "Mood"
         }
        }
       }
      }
     },
     "metadata": {},
     "output_type": "display_data"
    }
   ],
   "source": [
    "df.mood_plot()"
   ]
  },
  {
   "cell_type": "markdown",
   "metadata": {},
   "source": [
    "## Bar plot by hour/day/month"
   ]
  },
  {
   "cell_type": "code",
   "execution_count": 25,
   "metadata": {},
   "outputs": [
    {
     "data": {
      "application/vnd.plotly.v1+json": {
       "config": {
        "plotlyServerURL": "https://plot.ly"
       },
       "data": [
        {
         "alignmentgroup": "True",
         "hovertemplate": "Hour=%{x}<br>Mood=%{y}<br>Number of entries=%{marker.color}<extra></extra>",
         "legendgroup": "",
         "marker": {
          "color": [
           33,
           15,
           93,
           45,
           31,
           27,
           13,
           63,
           37,
           37,
           26,
           17,
           4,
           1,
           30,
           32,
           33,
           50,
           21,
           1,
           1
          ],
          "coloraxis": "coloraxis",
          "pattern": {
           "shape": ""
          }
         },
         "name": "",
         "offsetgroup": "",
         "orientation": "v",
         "showlegend": false,
         "textposition": "auto",
         "type": "bar",
         "x": [
          13,
          0,
          20,
          16,
          18,
          10,
          9,
          23,
          15,
          12,
          19,
          1,
          8,
          2,
          22,
          14,
          11,
          21,
          17,
          4,
          7
         ],
         "xaxis": "x",
         "y": [
          3.742424242424242,
          3.6666666666666665,
          3.9946236559139785,
          3.7444444444444445,
          3.9838709677419355,
          3.759259259259259,
          3.8461538461538463,
          3.9603174603174605,
          3.8378378378378377,
          3.77027027027027,
          3.826923076923077,
          3.9705882352941178,
          3.5,
          3.5,
          3.75,
          3.890625,
          3.727272727272727,
          3.9,
          3.8095238095238093,
          3,
          3
         ],
         "yaxis": "y"
        }
       ],
       "layout": {
        "barmode": "relative",
        "coloraxis": {
         "colorbar": {
          "title": {
           "text": "Number of entries"
          }
         },
         "colorscale": [
          [
           0,
           "#440154"
          ],
          [
           0.1111111111111111,
           "#482878"
          ],
          [
           0.2222222222222222,
           "#3e4989"
          ],
          [
           0.3333333333333333,
           "#31688e"
          ],
          [
           0.4444444444444444,
           "#26828e"
          ],
          [
           0.5555555555555556,
           "#1f9e89"
          ],
          [
           0.6666666666666666,
           "#35b779"
          ],
          [
           0.7777777777777778,
           "#6ece58"
          ],
          [
           0.8888888888888888,
           "#b5de2b"
          ],
          [
           1,
           "#fde725"
          ]
         ]
        },
        "legend": {
         "tracegroupgap": 0
        },
        "template": {
         "data": {
          "bar": [
           {
            "error_x": {
             "color": "#f2f5fa"
            },
            "error_y": {
             "color": "#f2f5fa"
            },
            "marker": {
             "line": {
              "color": "rgb(17,17,17)",
              "width": 0.5
             },
             "pattern": {
              "fillmode": "overlay",
              "size": 10,
              "solidity": 0.2
             }
            },
            "type": "bar"
           }
          ],
          "barpolar": [
           {
            "marker": {
             "line": {
              "color": "rgb(17,17,17)",
              "width": 0.5
             },
             "pattern": {
              "fillmode": "overlay",
              "size": 10,
              "solidity": 0.2
             }
            },
            "type": "barpolar"
           }
          ],
          "carpet": [
           {
            "aaxis": {
             "endlinecolor": "#A2B1C6",
             "gridcolor": "#506784",
             "linecolor": "#506784",
             "minorgridcolor": "#506784",
             "startlinecolor": "#A2B1C6"
            },
            "baxis": {
             "endlinecolor": "#A2B1C6",
             "gridcolor": "#506784",
             "linecolor": "#506784",
             "minorgridcolor": "#506784",
             "startlinecolor": "#A2B1C6"
            },
            "type": "carpet"
           }
          ],
          "choropleth": [
           {
            "colorbar": {
             "outlinewidth": 0,
             "ticks": ""
            },
            "type": "choropleth"
           }
          ],
          "contour": [
           {
            "colorbar": {
             "outlinewidth": 0,
             "ticks": ""
            },
            "colorscale": [
             [
              0,
              "#0d0887"
             ],
             [
              0.1111111111111111,
              "#46039f"
             ],
             [
              0.2222222222222222,
              "#7201a8"
             ],
             [
              0.3333333333333333,
              "#9c179e"
             ],
             [
              0.4444444444444444,
              "#bd3786"
             ],
             [
              0.5555555555555556,
              "#d8576b"
             ],
             [
              0.6666666666666666,
              "#ed7953"
             ],
             [
              0.7777777777777778,
              "#fb9f3a"
             ],
             [
              0.8888888888888888,
              "#fdca26"
             ],
             [
              1,
              "#f0f921"
             ]
            ],
            "type": "contour"
           }
          ],
          "contourcarpet": [
           {
            "colorbar": {
             "outlinewidth": 0,
             "ticks": ""
            },
            "type": "contourcarpet"
           }
          ],
          "heatmap": [
           {
            "colorbar": {
             "outlinewidth": 0,
             "ticks": ""
            },
            "colorscale": [
             [
              0,
              "#0d0887"
             ],
             [
              0.1111111111111111,
              "#46039f"
             ],
             [
              0.2222222222222222,
              "#7201a8"
             ],
             [
              0.3333333333333333,
              "#9c179e"
             ],
             [
              0.4444444444444444,
              "#bd3786"
             ],
             [
              0.5555555555555556,
              "#d8576b"
             ],
             [
              0.6666666666666666,
              "#ed7953"
             ],
             [
              0.7777777777777778,
              "#fb9f3a"
             ],
             [
              0.8888888888888888,
              "#fdca26"
             ],
             [
              1,
              "#f0f921"
             ]
            ],
            "type": "heatmap"
           }
          ],
          "heatmapgl": [
           {
            "colorbar": {
             "outlinewidth": 0,
             "ticks": ""
            },
            "colorscale": [
             [
              0,
              "#0d0887"
             ],
             [
              0.1111111111111111,
              "#46039f"
             ],
             [
              0.2222222222222222,
              "#7201a8"
             ],
             [
              0.3333333333333333,
              "#9c179e"
             ],
             [
              0.4444444444444444,
              "#bd3786"
             ],
             [
              0.5555555555555556,
              "#d8576b"
             ],
             [
              0.6666666666666666,
              "#ed7953"
             ],
             [
              0.7777777777777778,
              "#fb9f3a"
             ],
             [
              0.8888888888888888,
              "#fdca26"
             ],
             [
              1,
              "#f0f921"
             ]
            ],
            "type": "heatmapgl"
           }
          ],
          "histogram": [
           {
            "marker": {
             "pattern": {
              "fillmode": "overlay",
              "size": 10,
              "solidity": 0.2
             }
            },
            "type": "histogram"
           }
          ],
          "histogram2d": [
           {
            "colorbar": {
             "outlinewidth": 0,
             "ticks": ""
            },
            "colorscale": [
             [
              0,
              "#0d0887"
             ],
             [
              0.1111111111111111,
              "#46039f"
             ],
             [
              0.2222222222222222,
              "#7201a8"
             ],
             [
              0.3333333333333333,
              "#9c179e"
             ],
             [
              0.4444444444444444,
              "#bd3786"
             ],
             [
              0.5555555555555556,
              "#d8576b"
             ],
             [
              0.6666666666666666,
              "#ed7953"
             ],
             [
              0.7777777777777778,
              "#fb9f3a"
             ],
             [
              0.8888888888888888,
              "#fdca26"
             ],
             [
              1,
              "#f0f921"
             ]
            ],
            "type": "histogram2d"
           }
          ],
          "histogram2dcontour": [
           {
            "colorbar": {
             "outlinewidth": 0,
             "ticks": ""
            },
            "colorscale": [
             [
              0,
              "#0d0887"
             ],
             [
              0.1111111111111111,
              "#46039f"
             ],
             [
              0.2222222222222222,
              "#7201a8"
             ],
             [
              0.3333333333333333,
              "#9c179e"
             ],
             [
              0.4444444444444444,
              "#bd3786"
             ],
             [
              0.5555555555555556,
              "#d8576b"
             ],
             [
              0.6666666666666666,
              "#ed7953"
             ],
             [
              0.7777777777777778,
              "#fb9f3a"
             ],
             [
              0.8888888888888888,
              "#fdca26"
             ],
             [
              1,
              "#f0f921"
             ]
            ],
            "type": "histogram2dcontour"
           }
          ],
          "mesh3d": [
           {
            "colorbar": {
             "outlinewidth": 0,
             "ticks": ""
            },
            "type": "mesh3d"
           }
          ],
          "parcoords": [
           {
            "line": {
             "colorbar": {
              "outlinewidth": 0,
              "ticks": ""
             }
            },
            "type": "parcoords"
           }
          ],
          "pie": [
           {
            "automargin": true,
            "type": "pie"
           }
          ],
          "scatter": [
           {
            "marker": {
             "line": {
              "color": "#283442"
             }
            },
            "type": "scatter"
           }
          ],
          "scatter3d": [
           {
            "line": {
             "colorbar": {
              "outlinewidth": 0,
              "ticks": ""
             }
            },
            "marker": {
             "colorbar": {
              "outlinewidth": 0,
              "ticks": ""
             }
            },
            "type": "scatter3d"
           }
          ],
          "scattercarpet": [
           {
            "marker": {
             "colorbar": {
              "outlinewidth": 0,
              "ticks": ""
             }
            },
            "type": "scattercarpet"
           }
          ],
          "scattergeo": [
           {
            "marker": {
             "colorbar": {
              "outlinewidth": 0,
              "ticks": ""
             }
            },
            "type": "scattergeo"
           }
          ],
          "scattergl": [
           {
            "marker": {
             "line": {
              "color": "#283442"
             }
            },
            "type": "scattergl"
           }
          ],
          "scattermapbox": [
           {
            "marker": {
             "colorbar": {
              "outlinewidth": 0,
              "ticks": ""
             }
            },
            "type": "scattermapbox"
           }
          ],
          "scatterpolar": [
           {
            "marker": {
             "colorbar": {
              "outlinewidth": 0,
              "ticks": ""
             }
            },
            "type": "scatterpolar"
           }
          ],
          "scatterpolargl": [
           {
            "marker": {
             "colorbar": {
              "outlinewidth": 0,
              "ticks": ""
             }
            },
            "type": "scatterpolargl"
           }
          ],
          "scatterternary": [
           {
            "marker": {
             "colorbar": {
              "outlinewidth": 0,
              "ticks": ""
             }
            },
            "type": "scatterternary"
           }
          ],
          "surface": [
           {
            "colorbar": {
             "outlinewidth": 0,
             "ticks": ""
            },
            "colorscale": [
             [
              0,
              "#0d0887"
             ],
             [
              0.1111111111111111,
              "#46039f"
             ],
             [
              0.2222222222222222,
              "#7201a8"
             ],
             [
              0.3333333333333333,
              "#9c179e"
             ],
             [
              0.4444444444444444,
              "#bd3786"
             ],
             [
              0.5555555555555556,
              "#d8576b"
             ],
             [
              0.6666666666666666,
              "#ed7953"
             ],
             [
              0.7777777777777778,
              "#fb9f3a"
             ],
             [
              0.8888888888888888,
              "#fdca26"
             ],
             [
              1,
              "#f0f921"
             ]
            ],
            "type": "surface"
           }
          ],
          "table": [
           {
            "cells": {
             "fill": {
              "color": "#506784"
             },
             "line": {
              "color": "rgb(17,17,17)"
             }
            },
            "header": {
             "fill": {
              "color": "#2a3f5f"
             },
             "line": {
              "color": "rgb(17,17,17)"
             }
            },
            "type": "table"
           }
          ]
         },
         "layout": {
          "annotationdefaults": {
           "arrowcolor": "#f2f5fa",
           "arrowhead": 0,
           "arrowwidth": 1
          },
          "autotypenumbers": "strict",
          "coloraxis": {
           "colorbar": {
            "outlinewidth": 0,
            "ticks": ""
           }
          },
          "colorscale": {
           "diverging": [
            [
             0,
             "#8e0152"
            ],
            [
             0.1,
             "#c51b7d"
            ],
            [
             0.2,
             "#de77ae"
            ],
            [
             0.3,
             "#f1b6da"
            ],
            [
             0.4,
             "#fde0ef"
            ],
            [
             0.5,
             "#f7f7f7"
            ],
            [
             0.6,
             "#e6f5d0"
            ],
            [
             0.7,
             "#b8e186"
            ],
            [
             0.8,
             "#7fbc41"
            ],
            [
             0.9,
             "#4d9221"
            ],
            [
             1,
             "#276419"
            ]
           ],
           "sequential": [
            [
             0,
             "#0d0887"
            ],
            [
             0.1111111111111111,
             "#46039f"
            ],
            [
             0.2222222222222222,
             "#7201a8"
            ],
            [
             0.3333333333333333,
             "#9c179e"
            ],
            [
             0.4444444444444444,
             "#bd3786"
            ],
            [
             0.5555555555555556,
             "#d8576b"
            ],
            [
             0.6666666666666666,
             "#ed7953"
            ],
            [
             0.7777777777777778,
             "#fb9f3a"
            ],
            [
             0.8888888888888888,
             "#fdca26"
            ],
            [
             1,
             "#f0f921"
            ]
           ],
           "sequentialminus": [
            [
             0,
             "#0d0887"
            ],
            [
             0.1111111111111111,
             "#46039f"
            ],
            [
             0.2222222222222222,
             "#7201a8"
            ],
            [
             0.3333333333333333,
             "#9c179e"
            ],
            [
             0.4444444444444444,
             "#bd3786"
            ],
            [
             0.5555555555555556,
             "#d8576b"
            ],
            [
             0.6666666666666666,
             "#ed7953"
            ],
            [
             0.7777777777777778,
             "#fb9f3a"
            ],
            [
             0.8888888888888888,
             "#fdca26"
            ],
            [
             1,
             "#f0f921"
            ]
           ]
          },
          "colorway": [
           "#636efa",
           "#EF553B",
           "#00cc96",
           "#ab63fa",
           "#FFA15A",
           "#19d3f3",
           "#FF6692",
           "#B6E880",
           "#FF97FF",
           "#FECB52"
          ],
          "font": {
           "color": "#f2f5fa"
          },
          "geo": {
           "bgcolor": "rgb(17,17,17)",
           "lakecolor": "rgb(17,17,17)",
           "landcolor": "rgb(17,17,17)",
           "showlakes": true,
           "showland": true,
           "subunitcolor": "#506784"
          },
          "hoverlabel": {
           "align": "left"
          },
          "hovermode": "closest",
          "mapbox": {
           "style": "dark"
          },
          "paper_bgcolor": "rgb(17,17,17)",
          "plot_bgcolor": "rgb(17,17,17)",
          "polar": {
           "angularaxis": {
            "gridcolor": "#506784",
            "linecolor": "#506784",
            "ticks": ""
           },
           "bgcolor": "rgb(17,17,17)",
           "radialaxis": {
            "gridcolor": "#506784",
            "linecolor": "#506784",
            "ticks": ""
           }
          },
          "scene": {
           "xaxis": {
            "backgroundcolor": "rgb(17,17,17)",
            "gridcolor": "#506784",
            "gridwidth": 2,
            "linecolor": "#506784",
            "showbackground": true,
            "ticks": "",
            "zerolinecolor": "#C8D4E3"
           },
           "yaxis": {
            "backgroundcolor": "rgb(17,17,17)",
            "gridcolor": "#506784",
            "gridwidth": 2,
            "linecolor": "#506784",
            "showbackground": true,
            "ticks": "",
            "zerolinecolor": "#C8D4E3"
           },
           "zaxis": {
            "backgroundcolor": "rgb(17,17,17)",
            "gridcolor": "#506784",
            "gridwidth": 2,
            "linecolor": "#506784",
            "showbackground": true,
            "ticks": "",
            "zerolinecolor": "#C8D4E3"
           }
          },
          "shapedefaults": {
           "line": {
            "color": "#f2f5fa"
           }
          },
          "sliderdefaults": {
           "bgcolor": "#C8D4E3",
           "bordercolor": "rgb(17,17,17)",
           "borderwidth": 1,
           "tickwidth": 0
          },
          "ternary": {
           "aaxis": {
            "gridcolor": "#506784",
            "linecolor": "#506784",
            "ticks": ""
           },
           "baxis": {
            "gridcolor": "#506784",
            "linecolor": "#506784",
            "ticks": ""
           },
           "bgcolor": "rgb(17,17,17)",
           "caxis": {
            "gridcolor": "#506784",
            "linecolor": "#506784",
            "ticks": ""
           }
          },
          "title": {
           "x": 0.05
          },
          "updatemenudefaults": {
           "bgcolor": "#506784",
           "borderwidth": 0
          },
          "xaxis": {
           "automargin": true,
           "gridcolor": "#283442",
           "linecolor": "#506784",
           "ticks": "",
           "title": {
            "standoff": 15
           },
           "zerolinecolor": "#283442",
           "zerolinewidth": 2
          },
          "yaxis": {
           "automargin": true,
           "gridcolor": "#283442",
           "linecolor": "#506784",
           "ticks": "",
           "title": {
            "standoff": 15
           },
           "zerolinecolor": "#283442",
           "zerolinewidth": 2
          }
         }
        },
        "title": {
         "text": "Mood by hour"
        },
        "xaxis": {
         "anchor": "y",
         "domain": [
          0,
          1
         ],
         "dtick": 1,
         "title": {
          "text": "Hour"
         }
        },
        "yaxis": {
         "anchor": "x",
         "domain": [
          0,
          1
         ],
         "title": {
          "text": "Mood"
         }
        }
       }
      }
     },
     "metadata": {},
     "output_type": "display_data"
    }
   ],
   "source": [
    "df.by_time_bar_plot('hour')"
   ]
  },
  {
   "cell_type": "code",
   "execution_count": 26,
   "metadata": {},
   "outputs": [
    {
     "data": {
      "application/vnd.plotly.v1+json": {
       "config": {
        "plotlyServerURL": "https://plot.ly"
       },
       "data": [
        {
         "alignmentgroup": "True",
         "hovertemplate": "Day=%{x}<br>Mood=%{y}<br>Number of entries=%{marker.color}<extra></extra>",
         "legendgroup": "",
         "marker": {
          "color": [
           16,
           21,
           23,
           21,
           20,
           19,
           19,
           24,
           20,
           18,
           20,
           20,
           19,
           16,
           15,
           18,
           26,
           17,
           17,
           21,
           18,
           21,
           21,
           19,
           18,
           19,
           24,
           21,
           27,
           14,
           18
          ],
          "coloraxis": "coloraxis",
          "pattern": {
           "shape": ""
          }
         },
         "name": "",
         "offsetgroup": "",
         "orientation": "v",
         "showlegend": false,
         "textposition": "auto",
         "type": "bar",
         "x": [
          29,
          28,
          27,
          26,
          25,
          24,
          23,
          22,
          21,
          20,
          19,
          18,
          17,
          16,
          15,
          14,
          13,
          12,
          11,
          10,
          9,
          8,
          7,
          6,
          5,
          4,
          3,
          2,
          1,
          31,
          30
         ],
         "xaxis": "x",
         "y": [
          3.78125,
          3.738095238095238,
          3.847826086956522,
          3.6904761904761907,
          3.8,
          3.6052631578947367,
          3.9210526315789473,
          3.9166666666666665,
          3.65,
          3.8333333333333335,
          3.8,
          4.175,
          3.5789473684210527,
          4.125,
          3.933333333333333,
          3.861111111111111,
          4.038461538461538,
          4.147058823529412,
          4,
          3.8333333333333335,
          3.75,
          4,
          3.8095238095238093,
          3.6842105263157894,
          3.75,
          3.973684210526316,
          3.875,
          3.9761904761904763,
          3.9444444444444446,
          3.5714285714285716,
          3.6944444444444446
         ],
         "yaxis": "y"
        }
       ],
       "layout": {
        "barmode": "relative",
        "coloraxis": {
         "colorbar": {
          "title": {
           "text": "Number of entries"
          }
         },
         "colorscale": [
          [
           0,
           "#440154"
          ],
          [
           0.1111111111111111,
           "#482878"
          ],
          [
           0.2222222222222222,
           "#3e4989"
          ],
          [
           0.3333333333333333,
           "#31688e"
          ],
          [
           0.4444444444444444,
           "#26828e"
          ],
          [
           0.5555555555555556,
           "#1f9e89"
          ],
          [
           0.6666666666666666,
           "#35b779"
          ],
          [
           0.7777777777777778,
           "#6ece58"
          ],
          [
           0.8888888888888888,
           "#b5de2b"
          ],
          [
           1,
           "#fde725"
          ]
         ]
        },
        "legend": {
         "tracegroupgap": 0
        },
        "template": {
         "data": {
          "bar": [
           {
            "error_x": {
             "color": "#f2f5fa"
            },
            "error_y": {
             "color": "#f2f5fa"
            },
            "marker": {
             "line": {
              "color": "rgb(17,17,17)",
              "width": 0.5
             },
             "pattern": {
              "fillmode": "overlay",
              "size": 10,
              "solidity": 0.2
             }
            },
            "type": "bar"
           }
          ],
          "barpolar": [
           {
            "marker": {
             "line": {
              "color": "rgb(17,17,17)",
              "width": 0.5
             },
             "pattern": {
              "fillmode": "overlay",
              "size": 10,
              "solidity": 0.2
             }
            },
            "type": "barpolar"
           }
          ],
          "carpet": [
           {
            "aaxis": {
             "endlinecolor": "#A2B1C6",
             "gridcolor": "#506784",
             "linecolor": "#506784",
             "minorgridcolor": "#506784",
             "startlinecolor": "#A2B1C6"
            },
            "baxis": {
             "endlinecolor": "#A2B1C6",
             "gridcolor": "#506784",
             "linecolor": "#506784",
             "minorgridcolor": "#506784",
             "startlinecolor": "#A2B1C6"
            },
            "type": "carpet"
           }
          ],
          "choropleth": [
           {
            "colorbar": {
             "outlinewidth": 0,
             "ticks": ""
            },
            "type": "choropleth"
           }
          ],
          "contour": [
           {
            "colorbar": {
             "outlinewidth": 0,
             "ticks": ""
            },
            "colorscale": [
             [
              0,
              "#0d0887"
             ],
             [
              0.1111111111111111,
              "#46039f"
             ],
             [
              0.2222222222222222,
              "#7201a8"
             ],
             [
              0.3333333333333333,
              "#9c179e"
             ],
             [
              0.4444444444444444,
              "#bd3786"
             ],
             [
              0.5555555555555556,
              "#d8576b"
             ],
             [
              0.6666666666666666,
              "#ed7953"
             ],
             [
              0.7777777777777778,
              "#fb9f3a"
             ],
             [
              0.8888888888888888,
              "#fdca26"
             ],
             [
              1,
              "#f0f921"
             ]
            ],
            "type": "contour"
           }
          ],
          "contourcarpet": [
           {
            "colorbar": {
             "outlinewidth": 0,
             "ticks": ""
            },
            "type": "contourcarpet"
           }
          ],
          "heatmap": [
           {
            "colorbar": {
             "outlinewidth": 0,
             "ticks": ""
            },
            "colorscale": [
             [
              0,
              "#0d0887"
             ],
             [
              0.1111111111111111,
              "#46039f"
             ],
             [
              0.2222222222222222,
              "#7201a8"
             ],
             [
              0.3333333333333333,
              "#9c179e"
             ],
             [
              0.4444444444444444,
              "#bd3786"
             ],
             [
              0.5555555555555556,
              "#d8576b"
             ],
             [
              0.6666666666666666,
              "#ed7953"
             ],
             [
              0.7777777777777778,
              "#fb9f3a"
             ],
             [
              0.8888888888888888,
              "#fdca26"
             ],
             [
              1,
              "#f0f921"
             ]
            ],
            "type": "heatmap"
           }
          ],
          "heatmapgl": [
           {
            "colorbar": {
             "outlinewidth": 0,
             "ticks": ""
            },
            "colorscale": [
             [
              0,
              "#0d0887"
             ],
             [
              0.1111111111111111,
              "#46039f"
             ],
             [
              0.2222222222222222,
              "#7201a8"
             ],
             [
              0.3333333333333333,
              "#9c179e"
             ],
             [
              0.4444444444444444,
              "#bd3786"
             ],
             [
              0.5555555555555556,
              "#d8576b"
             ],
             [
              0.6666666666666666,
              "#ed7953"
             ],
             [
              0.7777777777777778,
              "#fb9f3a"
             ],
             [
              0.8888888888888888,
              "#fdca26"
             ],
             [
              1,
              "#f0f921"
             ]
            ],
            "type": "heatmapgl"
           }
          ],
          "histogram": [
           {
            "marker": {
             "pattern": {
              "fillmode": "overlay",
              "size": 10,
              "solidity": 0.2
             }
            },
            "type": "histogram"
           }
          ],
          "histogram2d": [
           {
            "colorbar": {
             "outlinewidth": 0,
             "ticks": ""
            },
            "colorscale": [
             [
              0,
              "#0d0887"
             ],
             [
              0.1111111111111111,
              "#46039f"
             ],
             [
              0.2222222222222222,
              "#7201a8"
             ],
             [
              0.3333333333333333,
              "#9c179e"
             ],
             [
              0.4444444444444444,
              "#bd3786"
             ],
             [
              0.5555555555555556,
              "#d8576b"
             ],
             [
              0.6666666666666666,
              "#ed7953"
             ],
             [
              0.7777777777777778,
              "#fb9f3a"
             ],
             [
              0.8888888888888888,
              "#fdca26"
             ],
             [
              1,
              "#f0f921"
             ]
            ],
            "type": "histogram2d"
           }
          ],
          "histogram2dcontour": [
           {
            "colorbar": {
             "outlinewidth": 0,
             "ticks": ""
            },
            "colorscale": [
             [
              0,
              "#0d0887"
             ],
             [
              0.1111111111111111,
              "#46039f"
             ],
             [
              0.2222222222222222,
              "#7201a8"
             ],
             [
              0.3333333333333333,
              "#9c179e"
             ],
             [
              0.4444444444444444,
              "#bd3786"
             ],
             [
              0.5555555555555556,
              "#d8576b"
             ],
             [
              0.6666666666666666,
              "#ed7953"
             ],
             [
              0.7777777777777778,
              "#fb9f3a"
             ],
             [
              0.8888888888888888,
              "#fdca26"
             ],
             [
              1,
              "#f0f921"
             ]
            ],
            "type": "histogram2dcontour"
           }
          ],
          "mesh3d": [
           {
            "colorbar": {
             "outlinewidth": 0,
             "ticks": ""
            },
            "type": "mesh3d"
           }
          ],
          "parcoords": [
           {
            "line": {
             "colorbar": {
              "outlinewidth": 0,
              "ticks": ""
             }
            },
            "type": "parcoords"
           }
          ],
          "pie": [
           {
            "automargin": true,
            "type": "pie"
           }
          ],
          "scatter": [
           {
            "marker": {
             "line": {
              "color": "#283442"
             }
            },
            "type": "scatter"
           }
          ],
          "scatter3d": [
           {
            "line": {
             "colorbar": {
              "outlinewidth": 0,
              "ticks": ""
             }
            },
            "marker": {
             "colorbar": {
              "outlinewidth": 0,
              "ticks": ""
             }
            },
            "type": "scatter3d"
           }
          ],
          "scattercarpet": [
           {
            "marker": {
             "colorbar": {
              "outlinewidth": 0,
              "ticks": ""
             }
            },
            "type": "scattercarpet"
           }
          ],
          "scattergeo": [
           {
            "marker": {
             "colorbar": {
              "outlinewidth": 0,
              "ticks": ""
             }
            },
            "type": "scattergeo"
           }
          ],
          "scattergl": [
           {
            "marker": {
             "line": {
              "color": "#283442"
             }
            },
            "type": "scattergl"
           }
          ],
          "scattermapbox": [
           {
            "marker": {
             "colorbar": {
              "outlinewidth": 0,
              "ticks": ""
             }
            },
            "type": "scattermapbox"
           }
          ],
          "scatterpolar": [
           {
            "marker": {
             "colorbar": {
              "outlinewidth": 0,
              "ticks": ""
             }
            },
            "type": "scatterpolar"
           }
          ],
          "scatterpolargl": [
           {
            "marker": {
             "colorbar": {
              "outlinewidth": 0,
              "ticks": ""
             }
            },
            "type": "scatterpolargl"
           }
          ],
          "scatterternary": [
           {
            "marker": {
             "colorbar": {
              "outlinewidth": 0,
              "ticks": ""
             }
            },
            "type": "scatterternary"
           }
          ],
          "surface": [
           {
            "colorbar": {
             "outlinewidth": 0,
             "ticks": ""
            },
            "colorscale": [
             [
              0,
              "#0d0887"
             ],
             [
              0.1111111111111111,
              "#46039f"
             ],
             [
              0.2222222222222222,
              "#7201a8"
             ],
             [
              0.3333333333333333,
              "#9c179e"
             ],
             [
              0.4444444444444444,
              "#bd3786"
             ],
             [
              0.5555555555555556,
              "#d8576b"
             ],
             [
              0.6666666666666666,
              "#ed7953"
             ],
             [
              0.7777777777777778,
              "#fb9f3a"
             ],
             [
              0.8888888888888888,
              "#fdca26"
             ],
             [
              1,
              "#f0f921"
             ]
            ],
            "type": "surface"
           }
          ],
          "table": [
           {
            "cells": {
             "fill": {
              "color": "#506784"
             },
             "line": {
              "color": "rgb(17,17,17)"
             }
            },
            "header": {
             "fill": {
              "color": "#2a3f5f"
             },
             "line": {
              "color": "rgb(17,17,17)"
             }
            },
            "type": "table"
           }
          ]
         },
         "layout": {
          "annotationdefaults": {
           "arrowcolor": "#f2f5fa",
           "arrowhead": 0,
           "arrowwidth": 1
          },
          "autotypenumbers": "strict",
          "coloraxis": {
           "colorbar": {
            "outlinewidth": 0,
            "ticks": ""
           }
          },
          "colorscale": {
           "diverging": [
            [
             0,
             "#8e0152"
            ],
            [
             0.1,
             "#c51b7d"
            ],
            [
             0.2,
             "#de77ae"
            ],
            [
             0.3,
             "#f1b6da"
            ],
            [
             0.4,
             "#fde0ef"
            ],
            [
             0.5,
             "#f7f7f7"
            ],
            [
             0.6,
             "#e6f5d0"
            ],
            [
             0.7,
             "#b8e186"
            ],
            [
             0.8,
             "#7fbc41"
            ],
            [
             0.9,
             "#4d9221"
            ],
            [
             1,
             "#276419"
            ]
           ],
           "sequential": [
            [
             0,
             "#0d0887"
            ],
            [
             0.1111111111111111,
             "#46039f"
            ],
            [
             0.2222222222222222,
             "#7201a8"
            ],
            [
             0.3333333333333333,
             "#9c179e"
            ],
            [
             0.4444444444444444,
             "#bd3786"
            ],
            [
             0.5555555555555556,
             "#d8576b"
            ],
            [
             0.6666666666666666,
             "#ed7953"
            ],
            [
             0.7777777777777778,
             "#fb9f3a"
            ],
            [
             0.8888888888888888,
             "#fdca26"
            ],
            [
             1,
             "#f0f921"
            ]
           ],
           "sequentialminus": [
            [
             0,
             "#0d0887"
            ],
            [
             0.1111111111111111,
             "#46039f"
            ],
            [
             0.2222222222222222,
             "#7201a8"
            ],
            [
             0.3333333333333333,
             "#9c179e"
            ],
            [
             0.4444444444444444,
             "#bd3786"
            ],
            [
             0.5555555555555556,
             "#d8576b"
            ],
            [
             0.6666666666666666,
             "#ed7953"
            ],
            [
             0.7777777777777778,
             "#fb9f3a"
            ],
            [
             0.8888888888888888,
             "#fdca26"
            ],
            [
             1,
             "#f0f921"
            ]
           ]
          },
          "colorway": [
           "#636efa",
           "#EF553B",
           "#00cc96",
           "#ab63fa",
           "#FFA15A",
           "#19d3f3",
           "#FF6692",
           "#B6E880",
           "#FF97FF",
           "#FECB52"
          ],
          "font": {
           "color": "#f2f5fa"
          },
          "geo": {
           "bgcolor": "rgb(17,17,17)",
           "lakecolor": "rgb(17,17,17)",
           "landcolor": "rgb(17,17,17)",
           "showlakes": true,
           "showland": true,
           "subunitcolor": "#506784"
          },
          "hoverlabel": {
           "align": "left"
          },
          "hovermode": "closest",
          "mapbox": {
           "style": "dark"
          },
          "paper_bgcolor": "rgb(17,17,17)",
          "plot_bgcolor": "rgb(17,17,17)",
          "polar": {
           "angularaxis": {
            "gridcolor": "#506784",
            "linecolor": "#506784",
            "ticks": ""
           },
           "bgcolor": "rgb(17,17,17)",
           "radialaxis": {
            "gridcolor": "#506784",
            "linecolor": "#506784",
            "ticks": ""
           }
          },
          "scene": {
           "xaxis": {
            "backgroundcolor": "rgb(17,17,17)",
            "gridcolor": "#506784",
            "gridwidth": 2,
            "linecolor": "#506784",
            "showbackground": true,
            "ticks": "",
            "zerolinecolor": "#C8D4E3"
           },
           "yaxis": {
            "backgroundcolor": "rgb(17,17,17)",
            "gridcolor": "#506784",
            "gridwidth": 2,
            "linecolor": "#506784",
            "showbackground": true,
            "ticks": "",
            "zerolinecolor": "#C8D4E3"
           },
           "zaxis": {
            "backgroundcolor": "rgb(17,17,17)",
            "gridcolor": "#506784",
            "gridwidth": 2,
            "linecolor": "#506784",
            "showbackground": true,
            "ticks": "",
            "zerolinecolor": "#C8D4E3"
           }
          },
          "shapedefaults": {
           "line": {
            "color": "#f2f5fa"
           }
          },
          "sliderdefaults": {
           "bgcolor": "#C8D4E3",
           "bordercolor": "rgb(17,17,17)",
           "borderwidth": 1,
           "tickwidth": 0
          },
          "ternary": {
           "aaxis": {
            "gridcolor": "#506784",
            "linecolor": "#506784",
            "ticks": ""
           },
           "baxis": {
            "gridcolor": "#506784",
            "linecolor": "#506784",
            "ticks": ""
           },
           "bgcolor": "rgb(17,17,17)",
           "caxis": {
            "gridcolor": "#506784",
            "linecolor": "#506784",
            "ticks": ""
           }
          },
          "title": {
           "x": 0.05
          },
          "updatemenudefaults": {
           "bgcolor": "#506784",
           "borderwidth": 0
          },
          "xaxis": {
           "automargin": true,
           "gridcolor": "#283442",
           "linecolor": "#506784",
           "ticks": "",
           "title": {
            "standoff": 15
           },
           "zerolinecolor": "#283442",
           "zerolinewidth": 2
          },
          "yaxis": {
           "automargin": true,
           "gridcolor": "#283442",
           "linecolor": "#506784",
           "ticks": "",
           "title": {
            "standoff": 15
           },
           "zerolinecolor": "#283442",
           "zerolinewidth": 2
          }
         }
        },
        "title": {
         "text": "Mood by day"
        },
        "xaxis": {
         "anchor": "y",
         "domain": [
          0,
          1
         ],
         "dtick": 1,
         "title": {
          "text": "Day"
         }
        },
        "yaxis": {
         "anchor": "x",
         "domain": [
          0,
          1
         ],
         "title": {
          "text": "Mood"
         }
        }
       }
      }
     },
     "metadata": {},
     "output_type": "display_data"
    }
   ],
   "source": [
    "df.by_time_bar_plot('day')"
   ]
  },
  {
   "cell_type": "code",
   "execution_count": 27,
   "metadata": {},
   "outputs": [
    {
     "data": {
      "application/vnd.plotly.v1+json": {
       "config": {
        "plotlyServerURL": "https://plot.ly"
       },
       "data": [
        {
         "alignmentgroup": "True",
         "hovertemplate": "Weekday=%{x}<br>Mood=%{y}<br>Number of entries=%{marker.color}<extra></extra>",
         "legendgroup": "",
         "marker": {
          "color": [
           76,
           88,
           86,
           97,
           83,
           87,
           93
          ],
          "coloraxis": "coloraxis",
          "pattern": {
           "shape": ""
          }
         },
         "name": "",
         "offsetgroup": "",
         "orientation": "v",
         "showlegend": false,
         "textposition": "auto",
         "type": "bar",
         "x": [
          0,
          6,
          5,
          4,
          3,
          2,
          1
         ],
         "xaxis": "x",
         "y": [
          3.848684210526316,
          3.840909090909091,
          3.9593023255813953,
          3.788659793814433,
          3.8012048192771086,
          3.9080459770114944,
          3.827956989247312
         ],
         "yaxis": "y"
        }
       ],
       "layout": {
        "barmode": "relative",
        "coloraxis": {
         "colorbar": {
          "title": {
           "text": "Number of entries"
          }
         },
         "colorscale": [
          [
           0,
           "#440154"
          ],
          [
           0.1111111111111111,
           "#482878"
          ],
          [
           0.2222222222222222,
           "#3e4989"
          ],
          [
           0.3333333333333333,
           "#31688e"
          ],
          [
           0.4444444444444444,
           "#26828e"
          ],
          [
           0.5555555555555556,
           "#1f9e89"
          ],
          [
           0.6666666666666666,
           "#35b779"
          ],
          [
           0.7777777777777778,
           "#6ece58"
          ],
          [
           0.8888888888888888,
           "#b5de2b"
          ],
          [
           1,
           "#fde725"
          ]
         ]
        },
        "legend": {
         "tracegroupgap": 0
        },
        "template": {
         "data": {
          "bar": [
           {
            "error_x": {
             "color": "#f2f5fa"
            },
            "error_y": {
             "color": "#f2f5fa"
            },
            "marker": {
             "line": {
              "color": "rgb(17,17,17)",
              "width": 0.5
             },
             "pattern": {
              "fillmode": "overlay",
              "size": 10,
              "solidity": 0.2
             }
            },
            "type": "bar"
           }
          ],
          "barpolar": [
           {
            "marker": {
             "line": {
              "color": "rgb(17,17,17)",
              "width": 0.5
             },
             "pattern": {
              "fillmode": "overlay",
              "size": 10,
              "solidity": 0.2
             }
            },
            "type": "barpolar"
           }
          ],
          "carpet": [
           {
            "aaxis": {
             "endlinecolor": "#A2B1C6",
             "gridcolor": "#506784",
             "linecolor": "#506784",
             "minorgridcolor": "#506784",
             "startlinecolor": "#A2B1C6"
            },
            "baxis": {
             "endlinecolor": "#A2B1C6",
             "gridcolor": "#506784",
             "linecolor": "#506784",
             "minorgridcolor": "#506784",
             "startlinecolor": "#A2B1C6"
            },
            "type": "carpet"
           }
          ],
          "choropleth": [
           {
            "colorbar": {
             "outlinewidth": 0,
             "ticks": ""
            },
            "type": "choropleth"
           }
          ],
          "contour": [
           {
            "colorbar": {
             "outlinewidth": 0,
             "ticks": ""
            },
            "colorscale": [
             [
              0,
              "#0d0887"
             ],
             [
              0.1111111111111111,
              "#46039f"
             ],
             [
              0.2222222222222222,
              "#7201a8"
             ],
             [
              0.3333333333333333,
              "#9c179e"
             ],
             [
              0.4444444444444444,
              "#bd3786"
             ],
             [
              0.5555555555555556,
              "#d8576b"
             ],
             [
              0.6666666666666666,
              "#ed7953"
             ],
             [
              0.7777777777777778,
              "#fb9f3a"
             ],
             [
              0.8888888888888888,
              "#fdca26"
             ],
             [
              1,
              "#f0f921"
             ]
            ],
            "type": "contour"
           }
          ],
          "contourcarpet": [
           {
            "colorbar": {
             "outlinewidth": 0,
             "ticks": ""
            },
            "type": "contourcarpet"
           }
          ],
          "heatmap": [
           {
            "colorbar": {
             "outlinewidth": 0,
             "ticks": ""
            },
            "colorscale": [
             [
              0,
              "#0d0887"
             ],
             [
              0.1111111111111111,
              "#46039f"
             ],
             [
              0.2222222222222222,
              "#7201a8"
             ],
             [
              0.3333333333333333,
              "#9c179e"
             ],
             [
              0.4444444444444444,
              "#bd3786"
             ],
             [
              0.5555555555555556,
              "#d8576b"
             ],
             [
              0.6666666666666666,
              "#ed7953"
             ],
             [
              0.7777777777777778,
              "#fb9f3a"
             ],
             [
              0.8888888888888888,
              "#fdca26"
             ],
             [
              1,
              "#f0f921"
             ]
            ],
            "type": "heatmap"
           }
          ],
          "heatmapgl": [
           {
            "colorbar": {
             "outlinewidth": 0,
             "ticks": ""
            },
            "colorscale": [
             [
              0,
              "#0d0887"
             ],
             [
              0.1111111111111111,
              "#46039f"
             ],
             [
              0.2222222222222222,
              "#7201a8"
             ],
             [
              0.3333333333333333,
              "#9c179e"
             ],
             [
              0.4444444444444444,
              "#bd3786"
             ],
             [
              0.5555555555555556,
              "#d8576b"
             ],
             [
              0.6666666666666666,
              "#ed7953"
             ],
             [
              0.7777777777777778,
              "#fb9f3a"
             ],
             [
              0.8888888888888888,
              "#fdca26"
             ],
             [
              1,
              "#f0f921"
             ]
            ],
            "type": "heatmapgl"
           }
          ],
          "histogram": [
           {
            "marker": {
             "pattern": {
              "fillmode": "overlay",
              "size": 10,
              "solidity": 0.2
             }
            },
            "type": "histogram"
           }
          ],
          "histogram2d": [
           {
            "colorbar": {
             "outlinewidth": 0,
             "ticks": ""
            },
            "colorscale": [
             [
              0,
              "#0d0887"
             ],
             [
              0.1111111111111111,
              "#46039f"
             ],
             [
              0.2222222222222222,
              "#7201a8"
             ],
             [
              0.3333333333333333,
              "#9c179e"
             ],
             [
              0.4444444444444444,
              "#bd3786"
             ],
             [
              0.5555555555555556,
              "#d8576b"
             ],
             [
              0.6666666666666666,
              "#ed7953"
             ],
             [
              0.7777777777777778,
              "#fb9f3a"
             ],
             [
              0.8888888888888888,
              "#fdca26"
             ],
             [
              1,
              "#f0f921"
             ]
            ],
            "type": "histogram2d"
           }
          ],
          "histogram2dcontour": [
           {
            "colorbar": {
             "outlinewidth": 0,
             "ticks": ""
            },
            "colorscale": [
             [
              0,
              "#0d0887"
             ],
             [
              0.1111111111111111,
              "#46039f"
             ],
             [
              0.2222222222222222,
              "#7201a8"
             ],
             [
              0.3333333333333333,
              "#9c179e"
             ],
             [
              0.4444444444444444,
              "#bd3786"
             ],
             [
              0.5555555555555556,
              "#d8576b"
             ],
             [
              0.6666666666666666,
              "#ed7953"
             ],
             [
              0.7777777777777778,
              "#fb9f3a"
             ],
             [
              0.8888888888888888,
              "#fdca26"
             ],
             [
              1,
              "#f0f921"
             ]
            ],
            "type": "histogram2dcontour"
           }
          ],
          "mesh3d": [
           {
            "colorbar": {
             "outlinewidth": 0,
             "ticks": ""
            },
            "type": "mesh3d"
           }
          ],
          "parcoords": [
           {
            "line": {
             "colorbar": {
              "outlinewidth": 0,
              "ticks": ""
             }
            },
            "type": "parcoords"
           }
          ],
          "pie": [
           {
            "automargin": true,
            "type": "pie"
           }
          ],
          "scatter": [
           {
            "marker": {
             "line": {
              "color": "#283442"
             }
            },
            "type": "scatter"
           }
          ],
          "scatter3d": [
           {
            "line": {
             "colorbar": {
              "outlinewidth": 0,
              "ticks": ""
             }
            },
            "marker": {
             "colorbar": {
              "outlinewidth": 0,
              "ticks": ""
             }
            },
            "type": "scatter3d"
           }
          ],
          "scattercarpet": [
           {
            "marker": {
             "colorbar": {
              "outlinewidth": 0,
              "ticks": ""
             }
            },
            "type": "scattercarpet"
           }
          ],
          "scattergeo": [
           {
            "marker": {
             "colorbar": {
              "outlinewidth": 0,
              "ticks": ""
             }
            },
            "type": "scattergeo"
           }
          ],
          "scattergl": [
           {
            "marker": {
             "line": {
              "color": "#283442"
             }
            },
            "type": "scattergl"
           }
          ],
          "scattermapbox": [
           {
            "marker": {
             "colorbar": {
              "outlinewidth": 0,
              "ticks": ""
             }
            },
            "type": "scattermapbox"
           }
          ],
          "scatterpolar": [
           {
            "marker": {
             "colorbar": {
              "outlinewidth": 0,
              "ticks": ""
             }
            },
            "type": "scatterpolar"
           }
          ],
          "scatterpolargl": [
           {
            "marker": {
             "colorbar": {
              "outlinewidth": 0,
              "ticks": ""
             }
            },
            "type": "scatterpolargl"
           }
          ],
          "scatterternary": [
           {
            "marker": {
             "colorbar": {
              "outlinewidth": 0,
              "ticks": ""
             }
            },
            "type": "scatterternary"
           }
          ],
          "surface": [
           {
            "colorbar": {
             "outlinewidth": 0,
             "ticks": ""
            },
            "colorscale": [
             [
              0,
              "#0d0887"
             ],
             [
              0.1111111111111111,
              "#46039f"
             ],
             [
              0.2222222222222222,
              "#7201a8"
             ],
             [
              0.3333333333333333,
              "#9c179e"
             ],
             [
              0.4444444444444444,
              "#bd3786"
             ],
             [
              0.5555555555555556,
              "#d8576b"
             ],
             [
              0.6666666666666666,
              "#ed7953"
             ],
             [
              0.7777777777777778,
              "#fb9f3a"
             ],
             [
              0.8888888888888888,
              "#fdca26"
             ],
             [
              1,
              "#f0f921"
             ]
            ],
            "type": "surface"
           }
          ],
          "table": [
           {
            "cells": {
             "fill": {
              "color": "#506784"
             },
             "line": {
              "color": "rgb(17,17,17)"
             }
            },
            "header": {
             "fill": {
              "color": "#2a3f5f"
             },
             "line": {
              "color": "rgb(17,17,17)"
             }
            },
            "type": "table"
           }
          ]
         },
         "layout": {
          "annotationdefaults": {
           "arrowcolor": "#f2f5fa",
           "arrowhead": 0,
           "arrowwidth": 1
          },
          "autotypenumbers": "strict",
          "coloraxis": {
           "colorbar": {
            "outlinewidth": 0,
            "ticks": ""
           }
          },
          "colorscale": {
           "diverging": [
            [
             0,
             "#8e0152"
            ],
            [
             0.1,
             "#c51b7d"
            ],
            [
             0.2,
             "#de77ae"
            ],
            [
             0.3,
             "#f1b6da"
            ],
            [
             0.4,
             "#fde0ef"
            ],
            [
             0.5,
             "#f7f7f7"
            ],
            [
             0.6,
             "#e6f5d0"
            ],
            [
             0.7,
             "#b8e186"
            ],
            [
             0.8,
             "#7fbc41"
            ],
            [
             0.9,
             "#4d9221"
            ],
            [
             1,
             "#276419"
            ]
           ],
           "sequential": [
            [
             0,
             "#0d0887"
            ],
            [
             0.1111111111111111,
             "#46039f"
            ],
            [
             0.2222222222222222,
             "#7201a8"
            ],
            [
             0.3333333333333333,
             "#9c179e"
            ],
            [
             0.4444444444444444,
             "#bd3786"
            ],
            [
             0.5555555555555556,
             "#d8576b"
            ],
            [
             0.6666666666666666,
             "#ed7953"
            ],
            [
             0.7777777777777778,
             "#fb9f3a"
            ],
            [
             0.8888888888888888,
             "#fdca26"
            ],
            [
             1,
             "#f0f921"
            ]
           ],
           "sequentialminus": [
            [
             0,
             "#0d0887"
            ],
            [
             0.1111111111111111,
             "#46039f"
            ],
            [
             0.2222222222222222,
             "#7201a8"
            ],
            [
             0.3333333333333333,
             "#9c179e"
            ],
            [
             0.4444444444444444,
             "#bd3786"
            ],
            [
             0.5555555555555556,
             "#d8576b"
            ],
            [
             0.6666666666666666,
             "#ed7953"
            ],
            [
             0.7777777777777778,
             "#fb9f3a"
            ],
            [
             0.8888888888888888,
             "#fdca26"
            ],
            [
             1,
             "#f0f921"
            ]
           ]
          },
          "colorway": [
           "#636efa",
           "#EF553B",
           "#00cc96",
           "#ab63fa",
           "#FFA15A",
           "#19d3f3",
           "#FF6692",
           "#B6E880",
           "#FF97FF",
           "#FECB52"
          ],
          "font": {
           "color": "#f2f5fa"
          },
          "geo": {
           "bgcolor": "rgb(17,17,17)",
           "lakecolor": "rgb(17,17,17)",
           "landcolor": "rgb(17,17,17)",
           "showlakes": true,
           "showland": true,
           "subunitcolor": "#506784"
          },
          "hoverlabel": {
           "align": "left"
          },
          "hovermode": "closest",
          "mapbox": {
           "style": "dark"
          },
          "paper_bgcolor": "rgb(17,17,17)",
          "plot_bgcolor": "rgb(17,17,17)",
          "polar": {
           "angularaxis": {
            "gridcolor": "#506784",
            "linecolor": "#506784",
            "ticks": ""
           },
           "bgcolor": "rgb(17,17,17)",
           "radialaxis": {
            "gridcolor": "#506784",
            "linecolor": "#506784",
            "ticks": ""
           }
          },
          "scene": {
           "xaxis": {
            "backgroundcolor": "rgb(17,17,17)",
            "gridcolor": "#506784",
            "gridwidth": 2,
            "linecolor": "#506784",
            "showbackground": true,
            "ticks": "",
            "zerolinecolor": "#C8D4E3"
           },
           "yaxis": {
            "backgroundcolor": "rgb(17,17,17)",
            "gridcolor": "#506784",
            "gridwidth": 2,
            "linecolor": "#506784",
            "showbackground": true,
            "ticks": "",
            "zerolinecolor": "#C8D4E3"
           },
           "zaxis": {
            "backgroundcolor": "rgb(17,17,17)",
            "gridcolor": "#506784",
            "gridwidth": 2,
            "linecolor": "#506784",
            "showbackground": true,
            "ticks": "",
            "zerolinecolor": "#C8D4E3"
           }
          },
          "shapedefaults": {
           "line": {
            "color": "#f2f5fa"
           }
          },
          "sliderdefaults": {
           "bgcolor": "#C8D4E3",
           "bordercolor": "rgb(17,17,17)",
           "borderwidth": 1,
           "tickwidth": 0
          },
          "ternary": {
           "aaxis": {
            "gridcolor": "#506784",
            "linecolor": "#506784",
            "ticks": ""
           },
           "baxis": {
            "gridcolor": "#506784",
            "linecolor": "#506784",
            "ticks": ""
           },
           "bgcolor": "rgb(17,17,17)",
           "caxis": {
            "gridcolor": "#506784",
            "linecolor": "#506784",
            "ticks": ""
           }
          },
          "title": {
           "x": 0.05
          },
          "updatemenudefaults": {
           "bgcolor": "#506784",
           "borderwidth": 0
          },
          "xaxis": {
           "automargin": true,
           "gridcolor": "#283442",
           "linecolor": "#506784",
           "ticks": "",
           "title": {
            "standoff": 15
           },
           "zerolinecolor": "#283442",
           "zerolinewidth": 2
          },
          "yaxis": {
           "automargin": true,
           "gridcolor": "#283442",
           "linecolor": "#506784",
           "ticks": "",
           "title": {
            "standoff": 15
           },
           "zerolinecolor": "#283442",
           "zerolinewidth": 2
          }
         }
        },
        "title": {
         "text": "Mood by weekday"
        },
        "xaxis": {
         "anchor": "y",
         "domain": [
          0,
          1
         ],
         "dtick": 1,
         "tickmode": "array",
         "ticktext": [
          "Mon",
          "Tue",
          "Wed",
          "Thu",
          "Fri",
          "Sat",
          "Sun"
         ],
         "tickvals": [
          0,
          1,
          2,
          3,
          4,
          5,
          6
         ],
         "title": {
          "text": "Weekday"
         }
        },
        "yaxis": {
         "anchor": "x",
         "domain": [
          0,
          1
         ],
         "title": {
          "text": "Mood"
         }
        }
       }
      }
     },
     "metadata": {},
     "output_type": "display_data"
    }
   ],
   "source": [
    "df.by_time_bar_plot('weekday')"
   ]
  },
  {
   "cell_type": "code",
   "execution_count": 28,
   "metadata": {},
   "outputs": [
    {
     "data": {
      "application/vnd.plotly.v1+json": {
       "config": {
        "plotlyServerURL": "https://plot.ly"
       },
       "data": [
        {
         "alignmentgroup": "True",
         "hovertemplate": "Month=%{x}<br>Mood=%{y}<br>Number of entries=%{marker.color}<extra></extra>",
         "legendgroup": "",
         "marker": {
          "color": [
           85,
           95,
           109,
           71,
           58,
           97,
           95
          ],
          "coloraxis": "coloraxis",
          "pattern": {
           "shape": ""
          }
         },
         "name": "",
         "offsetgroup": "",
         "orientation": "v",
         "showlegend": false,
         "textposition": "auto",
         "type": "bar",
         "x": [
          1,
          12,
          11,
          10,
          9,
          8,
          7
         ],
         "xaxis": "x",
         "y": [
          3.9411764705882355,
          3.9105263157894736,
          3.7844036697247705,
          4.063380281690141,
          3.9741379310344827,
          3.8247422680412373,
          3.5894736842105264
         ],
         "yaxis": "y"
        }
       ],
       "layout": {
        "barmode": "relative",
        "coloraxis": {
         "colorbar": {
          "title": {
           "text": "Number of entries"
          }
         },
         "colorscale": [
          [
           0,
           "#440154"
          ],
          [
           0.1111111111111111,
           "#482878"
          ],
          [
           0.2222222222222222,
           "#3e4989"
          ],
          [
           0.3333333333333333,
           "#31688e"
          ],
          [
           0.4444444444444444,
           "#26828e"
          ],
          [
           0.5555555555555556,
           "#1f9e89"
          ],
          [
           0.6666666666666666,
           "#35b779"
          ],
          [
           0.7777777777777778,
           "#6ece58"
          ],
          [
           0.8888888888888888,
           "#b5de2b"
          ],
          [
           1,
           "#fde725"
          ]
         ]
        },
        "legend": {
         "tracegroupgap": 0
        },
        "template": {
         "data": {
          "bar": [
           {
            "error_x": {
             "color": "#f2f5fa"
            },
            "error_y": {
             "color": "#f2f5fa"
            },
            "marker": {
             "line": {
              "color": "rgb(17,17,17)",
              "width": 0.5
             },
             "pattern": {
              "fillmode": "overlay",
              "size": 10,
              "solidity": 0.2
             }
            },
            "type": "bar"
           }
          ],
          "barpolar": [
           {
            "marker": {
             "line": {
              "color": "rgb(17,17,17)",
              "width": 0.5
             },
             "pattern": {
              "fillmode": "overlay",
              "size": 10,
              "solidity": 0.2
             }
            },
            "type": "barpolar"
           }
          ],
          "carpet": [
           {
            "aaxis": {
             "endlinecolor": "#A2B1C6",
             "gridcolor": "#506784",
             "linecolor": "#506784",
             "minorgridcolor": "#506784",
             "startlinecolor": "#A2B1C6"
            },
            "baxis": {
             "endlinecolor": "#A2B1C6",
             "gridcolor": "#506784",
             "linecolor": "#506784",
             "minorgridcolor": "#506784",
             "startlinecolor": "#A2B1C6"
            },
            "type": "carpet"
           }
          ],
          "choropleth": [
           {
            "colorbar": {
             "outlinewidth": 0,
             "ticks": ""
            },
            "type": "choropleth"
           }
          ],
          "contour": [
           {
            "colorbar": {
             "outlinewidth": 0,
             "ticks": ""
            },
            "colorscale": [
             [
              0,
              "#0d0887"
             ],
             [
              0.1111111111111111,
              "#46039f"
             ],
             [
              0.2222222222222222,
              "#7201a8"
             ],
             [
              0.3333333333333333,
              "#9c179e"
             ],
             [
              0.4444444444444444,
              "#bd3786"
             ],
             [
              0.5555555555555556,
              "#d8576b"
             ],
             [
              0.6666666666666666,
              "#ed7953"
             ],
             [
              0.7777777777777778,
              "#fb9f3a"
             ],
             [
              0.8888888888888888,
              "#fdca26"
             ],
             [
              1,
              "#f0f921"
             ]
            ],
            "type": "contour"
           }
          ],
          "contourcarpet": [
           {
            "colorbar": {
             "outlinewidth": 0,
             "ticks": ""
            },
            "type": "contourcarpet"
           }
          ],
          "heatmap": [
           {
            "colorbar": {
             "outlinewidth": 0,
             "ticks": ""
            },
            "colorscale": [
             [
              0,
              "#0d0887"
             ],
             [
              0.1111111111111111,
              "#46039f"
             ],
             [
              0.2222222222222222,
              "#7201a8"
             ],
             [
              0.3333333333333333,
              "#9c179e"
             ],
             [
              0.4444444444444444,
              "#bd3786"
             ],
             [
              0.5555555555555556,
              "#d8576b"
             ],
             [
              0.6666666666666666,
              "#ed7953"
             ],
             [
              0.7777777777777778,
              "#fb9f3a"
             ],
             [
              0.8888888888888888,
              "#fdca26"
             ],
             [
              1,
              "#f0f921"
             ]
            ],
            "type": "heatmap"
           }
          ],
          "heatmapgl": [
           {
            "colorbar": {
             "outlinewidth": 0,
             "ticks": ""
            },
            "colorscale": [
             [
              0,
              "#0d0887"
             ],
             [
              0.1111111111111111,
              "#46039f"
             ],
             [
              0.2222222222222222,
              "#7201a8"
             ],
             [
              0.3333333333333333,
              "#9c179e"
             ],
             [
              0.4444444444444444,
              "#bd3786"
             ],
             [
              0.5555555555555556,
              "#d8576b"
             ],
             [
              0.6666666666666666,
              "#ed7953"
             ],
             [
              0.7777777777777778,
              "#fb9f3a"
             ],
             [
              0.8888888888888888,
              "#fdca26"
             ],
             [
              1,
              "#f0f921"
             ]
            ],
            "type": "heatmapgl"
           }
          ],
          "histogram": [
           {
            "marker": {
             "pattern": {
              "fillmode": "overlay",
              "size": 10,
              "solidity": 0.2
             }
            },
            "type": "histogram"
           }
          ],
          "histogram2d": [
           {
            "colorbar": {
             "outlinewidth": 0,
             "ticks": ""
            },
            "colorscale": [
             [
              0,
              "#0d0887"
             ],
             [
              0.1111111111111111,
              "#46039f"
             ],
             [
              0.2222222222222222,
              "#7201a8"
             ],
             [
              0.3333333333333333,
              "#9c179e"
             ],
             [
              0.4444444444444444,
              "#bd3786"
             ],
             [
              0.5555555555555556,
              "#d8576b"
             ],
             [
              0.6666666666666666,
              "#ed7953"
             ],
             [
              0.7777777777777778,
              "#fb9f3a"
             ],
             [
              0.8888888888888888,
              "#fdca26"
             ],
             [
              1,
              "#f0f921"
             ]
            ],
            "type": "histogram2d"
           }
          ],
          "histogram2dcontour": [
           {
            "colorbar": {
             "outlinewidth": 0,
             "ticks": ""
            },
            "colorscale": [
             [
              0,
              "#0d0887"
             ],
             [
              0.1111111111111111,
              "#46039f"
             ],
             [
              0.2222222222222222,
              "#7201a8"
             ],
             [
              0.3333333333333333,
              "#9c179e"
             ],
             [
              0.4444444444444444,
              "#bd3786"
             ],
             [
              0.5555555555555556,
              "#d8576b"
             ],
             [
              0.6666666666666666,
              "#ed7953"
             ],
             [
              0.7777777777777778,
              "#fb9f3a"
             ],
             [
              0.8888888888888888,
              "#fdca26"
             ],
             [
              1,
              "#f0f921"
             ]
            ],
            "type": "histogram2dcontour"
           }
          ],
          "mesh3d": [
           {
            "colorbar": {
             "outlinewidth": 0,
             "ticks": ""
            },
            "type": "mesh3d"
           }
          ],
          "parcoords": [
           {
            "line": {
             "colorbar": {
              "outlinewidth": 0,
              "ticks": ""
             }
            },
            "type": "parcoords"
           }
          ],
          "pie": [
           {
            "automargin": true,
            "type": "pie"
           }
          ],
          "scatter": [
           {
            "marker": {
             "line": {
              "color": "#283442"
             }
            },
            "type": "scatter"
           }
          ],
          "scatter3d": [
           {
            "line": {
             "colorbar": {
              "outlinewidth": 0,
              "ticks": ""
             }
            },
            "marker": {
             "colorbar": {
              "outlinewidth": 0,
              "ticks": ""
             }
            },
            "type": "scatter3d"
           }
          ],
          "scattercarpet": [
           {
            "marker": {
             "colorbar": {
              "outlinewidth": 0,
              "ticks": ""
             }
            },
            "type": "scattercarpet"
           }
          ],
          "scattergeo": [
           {
            "marker": {
             "colorbar": {
              "outlinewidth": 0,
              "ticks": ""
             }
            },
            "type": "scattergeo"
           }
          ],
          "scattergl": [
           {
            "marker": {
             "line": {
              "color": "#283442"
             }
            },
            "type": "scattergl"
           }
          ],
          "scattermapbox": [
           {
            "marker": {
             "colorbar": {
              "outlinewidth": 0,
              "ticks": ""
             }
            },
            "type": "scattermapbox"
           }
          ],
          "scatterpolar": [
           {
            "marker": {
             "colorbar": {
              "outlinewidth": 0,
              "ticks": ""
             }
            },
            "type": "scatterpolar"
           }
          ],
          "scatterpolargl": [
           {
            "marker": {
             "colorbar": {
              "outlinewidth": 0,
              "ticks": ""
             }
            },
            "type": "scatterpolargl"
           }
          ],
          "scatterternary": [
           {
            "marker": {
             "colorbar": {
              "outlinewidth": 0,
              "ticks": ""
             }
            },
            "type": "scatterternary"
           }
          ],
          "surface": [
           {
            "colorbar": {
             "outlinewidth": 0,
             "ticks": ""
            },
            "colorscale": [
             [
              0,
              "#0d0887"
             ],
             [
              0.1111111111111111,
              "#46039f"
             ],
             [
              0.2222222222222222,
              "#7201a8"
             ],
             [
              0.3333333333333333,
              "#9c179e"
             ],
             [
              0.4444444444444444,
              "#bd3786"
             ],
             [
              0.5555555555555556,
              "#d8576b"
             ],
             [
              0.6666666666666666,
              "#ed7953"
             ],
             [
              0.7777777777777778,
              "#fb9f3a"
             ],
             [
              0.8888888888888888,
              "#fdca26"
             ],
             [
              1,
              "#f0f921"
             ]
            ],
            "type": "surface"
           }
          ],
          "table": [
           {
            "cells": {
             "fill": {
              "color": "#506784"
             },
             "line": {
              "color": "rgb(17,17,17)"
             }
            },
            "header": {
             "fill": {
              "color": "#2a3f5f"
             },
             "line": {
              "color": "rgb(17,17,17)"
             }
            },
            "type": "table"
           }
          ]
         },
         "layout": {
          "annotationdefaults": {
           "arrowcolor": "#f2f5fa",
           "arrowhead": 0,
           "arrowwidth": 1
          },
          "autotypenumbers": "strict",
          "coloraxis": {
           "colorbar": {
            "outlinewidth": 0,
            "ticks": ""
           }
          },
          "colorscale": {
           "diverging": [
            [
             0,
             "#8e0152"
            ],
            [
             0.1,
             "#c51b7d"
            ],
            [
             0.2,
             "#de77ae"
            ],
            [
             0.3,
             "#f1b6da"
            ],
            [
             0.4,
             "#fde0ef"
            ],
            [
             0.5,
             "#f7f7f7"
            ],
            [
             0.6,
             "#e6f5d0"
            ],
            [
             0.7,
             "#b8e186"
            ],
            [
             0.8,
             "#7fbc41"
            ],
            [
             0.9,
             "#4d9221"
            ],
            [
             1,
             "#276419"
            ]
           ],
           "sequential": [
            [
             0,
             "#0d0887"
            ],
            [
             0.1111111111111111,
             "#46039f"
            ],
            [
             0.2222222222222222,
             "#7201a8"
            ],
            [
             0.3333333333333333,
             "#9c179e"
            ],
            [
             0.4444444444444444,
             "#bd3786"
            ],
            [
             0.5555555555555556,
             "#d8576b"
            ],
            [
             0.6666666666666666,
             "#ed7953"
            ],
            [
             0.7777777777777778,
             "#fb9f3a"
            ],
            [
             0.8888888888888888,
             "#fdca26"
            ],
            [
             1,
             "#f0f921"
            ]
           ],
           "sequentialminus": [
            [
             0,
             "#0d0887"
            ],
            [
             0.1111111111111111,
             "#46039f"
            ],
            [
             0.2222222222222222,
             "#7201a8"
            ],
            [
             0.3333333333333333,
             "#9c179e"
            ],
            [
             0.4444444444444444,
             "#bd3786"
            ],
            [
             0.5555555555555556,
             "#d8576b"
            ],
            [
             0.6666666666666666,
             "#ed7953"
            ],
            [
             0.7777777777777778,
             "#fb9f3a"
            ],
            [
             0.8888888888888888,
             "#fdca26"
            ],
            [
             1,
             "#f0f921"
            ]
           ]
          },
          "colorway": [
           "#636efa",
           "#EF553B",
           "#00cc96",
           "#ab63fa",
           "#FFA15A",
           "#19d3f3",
           "#FF6692",
           "#B6E880",
           "#FF97FF",
           "#FECB52"
          ],
          "font": {
           "color": "#f2f5fa"
          },
          "geo": {
           "bgcolor": "rgb(17,17,17)",
           "lakecolor": "rgb(17,17,17)",
           "landcolor": "rgb(17,17,17)",
           "showlakes": true,
           "showland": true,
           "subunitcolor": "#506784"
          },
          "hoverlabel": {
           "align": "left"
          },
          "hovermode": "closest",
          "mapbox": {
           "style": "dark"
          },
          "paper_bgcolor": "rgb(17,17,17)",
          "plot_bgcolor": "rgb(17,17,17)",
          "polar": {
           "angularaxis": {
            "gridcolor": "#506784",
            "linecolor": "#506784",
            "ticks": ""
           },
           "bgcolor": "rgb(17,17,17)",
           "radialaxis": {
            "gridcolor": "#506784",
            "linecolor": "#506784",
            "ticks": ""
           }
          },
          "scene": {
           "xaxis": {
            "backgroundcolor": "rgb(17,17,17)",
            "gridcolor": "#506784",
            "gridwidth": 2,
            "linecolor": "#506784",
            "showbackground": true,
            "ticks": "",
            "zerolinecolor": "#C8D4E3"
           },
           "yaxis": {
            "backgroundcolor": "rgb(17,17,17)",
            "gridcolor": "#506784",
            "gridwidth": 2,
            "linecolor": "#506784",
            "showbackground": true,
            "ticks": "",
            "zerolinecolor": "#C8D4E3"
           },
           "zaxis": {
            "backgroundcolor": "rgb(17,17,17)",
            "gridcolor": "#506784",
            "gridwidth": 2,
            "linecolor": "#506784",
            "showbackground": true,
            "ticks": "",
            "zerolinecolor": "#C8D4E3"
           }
          },
          "shapedefaults": {
           "line": {
            "color": "#f2f5fa"
           }
          },
          "sliderdefaults": {
           "bgcolor": "#C8D4E3",
           "bordercolor": "rgb(17,17,17)",
           "borderwidth": 1,
           "tickwidth": 0
          },
          "ternary": {
           "aaxis": {
            "gridcolor": "#506784",
            "linecolor": "#506784",
            "ticks": ""
           },
           "baxis": {
            "gridcolor": "#506784",
            "linecolor": "#506784",
            "ticks": ""
           },
           "bgcolor": "rgb(17,17,17)",
           "caxis": {
            "gridcolor": "#506784",
            "linecolor": "#506784",
            "ticks": ""
           }
          },
          "title": {
           "x": 0.05
          },
          "updatemenudefaults": {
           "bgcolor": "#506784",
           "borderwidth": 0
          },
          "xaxis": {
           "automargin": true,
           "gridcolor": "#283442",
           "linecolor": "#506784",
           "ticks": "",
           "title": {
            "standoff": 15
           },
           "zerolinecolor": "#283442",
           "zerolinewidth": 2
          },
          "yaxis": {
           "automargin": true,
           "gridcolor": "#283442",
           "linecolor": "#506784",
           "ticks": "",
           "title": {
            "standoff": 15
           },
           "zerolinecolor": "#283442",
           "zerolinewidth": 2
          }
         }
        },
        "title": {
         "text": "Mood by month"
        },
        "xaxis": {
         "anchor": "y",
         "domain": [
          0,
          1
         ],
         "dtick": 1,
         "tickmode": "array",
         "ticktext": [
          "Jan",
          "Feb",
          "Mar",
          "Apr",
          "May",
          "Jun",
          "Jul",
          "Aug",
          "Sep",
          "Oct",
          "Nov",
          "Dec"
         ],
         "tickvals": [
          1,
          2,
          3,
          4,
          5,
          6,
          7,
          8,
          9,
          10,
          11,
          12
         ],
         "title": {
          "text": "Month"
         }
        },
        "yaxis": {
         "anchor": "x",
         "domain": [
          0,
          1
         ],
         "title": {
          "text": "Mood"
         }
        }
       }
      }
     },
     "metadata": {},
     "output_type": "display_data"
    }
   ],
   "source": [
    "df.by_time_bar_plot('month')"
   ]
  },
  {
   "cell_type": "code",
   "execution_count": null,
   "metadata": {},
   "outputs": [],
   "source": []
  },
  {
   "cell_type": "markdown",
   "metadata": {},
   "source": [
    "## Other features"
   ]
  },
  {
   "cell_type": "code",
   "execution_count": 29,
   "metadata": {},
   "outputs": [
    {
     "data": {
      "application/vnd.plotly.v1+json": {
       "config": {
        "plotlyServerURL": "https://plot.ly"
       },
       "data": [
        {
         "hovertemplate": "Date=%{x}<br>Average note length=%{y}<extra></extra>",
         "legendgroup": "",
         "line": {
          "color": "#636efa",
          "dash": "solid"
         },
         "marker": {
          "symbol": "circle"
         },
         "mode": "lines",
         "name": "",
         "orientation": "v",
         "showlegend": false,
         "type": "scatter",
         "x": [
          "2023-07-01",
          "2023-07-02",
          "2023-07-03",
          "2023-07-04",
          "2023-07-05",
          "2023-07-06",
          "2023-07-07",
          "2023-07-08",
          "2023-07-09",
          "2023-07-10",
          "2023-07-11",
          "2023-07-12",
          "2023-07-13",
          "2023-07-14",
          "2023-07-15",
          "2023-07-16",
          "2023-07-17",
          "2023-07-18",
          "2023-07-19",
          "2023-07-20",
          "2023-07-21",
          "2023-07-22",
          "2023-07-23",
          "2023-07-24",
          "2023-07-25",
          "2023-07-26",
          "2023-07-27",
          "2023-07-28",
          "2023-07-29",
          "2023-07-30",
          "2023-07-31",
          "2023-08-01",
          "2023-08-02",
          "2023-08-03",
          "2023-08-04",
          "2023-08-05",
          "2023-08-06",
          "2023-08-07",
          "2023-08-08",
          "2023-08-09",
          "2023-08-10",
          "2023-08-11",
          "2023-08-12",
          "2023-08-13",
          "2023-08-14",
          "2023-08-15",
          "2023-08-16",
          "2023-08-17",
          "2023-08-18",
          "2023-08-19",
          "2023-08-20",
          "2023-08-21",
          "2023-08-22",
          "2023-08-23",
          "2023-08-24",
          "2023-08-25",
          "2023-08-26",
          "2023-08-27",
          "2023-08-28",
          "2023-08-29",
          "2023-08-30",
          "2023-08-31",
          "2023-09-01",
          "2023-09-02",
          "2023-09-03",
          "2023-09-04",
          "2023-09-05",
          "2023-09-06",
          "2023-09-07",
          "2023-09-08",
          "2023-09-09",
          "2023-09-10",
          "2023-09-11",
          "2023-09-12",
          "2023-09-13",
          "2023-09-14",
          "2023-09-15",
          "2023-09-16",
          "2023-09-17",
          "2023-09-18",
          "2023-09-19",
          "2023-09-20",
          "2023-09-21",
          "2023-09-22",
          "2023-09-23",
          "2023-09-24",
          "2023-09-25",
          "2023-09-26",
          "2023-09-27",
          "2023-09-28",
          "2023-09-29",
          "2023-09-30",
          "2023-10-01",
          "2023-10-02",
          "2023-10-03",
          "2023-10-04",
          "2023-10-05",
          "2023-10-06",
          "2023-10-07",
          "2023-10-08",
          "2023-10-09",
          "2023-10-10",
          "2023-10-11",
          "2023-10-12",
          "2023-10-13",
          "2023-10-14",
          "2023-10-15",
          "2023-10-16",
          "2023-10-17",
          "2023-10-18",
          "2023-10-19",
          "2023-10-20",
          "2023-10-21",
          "2023-10-22",
          "2023-10-23",
          "2023-10-24",
          "2023-10-25",
          "2023-10-26",
          "2023-10-27",
          "2023-10-28",
          "2023-10-29",
          "2023-10-30",
          "2023-10-31",
          "2023-11-01",
          "2023-11-02",
          "2023-11-03",
          "2023-11-04",
          "2023-11-05",
          "2023-11-06",
          "2023-11-07",
          "2023-11-08",
          "2023-11-09",
          "2023-11-10",
          "2023-11-11",
          "2023-11-12",
          "2023-11-13",
          "2023-11-14",
          "2023-11-15",
          "2023-11-16",
          "2023-11-17",
          "2023-11-18",
          "2023-11-19",
          "2023-11-20",
          "2023-11-21",
          "2023-11-22",
          "2023-11-23",
          "2023-11-24",
          "2023-11-25",
          "2023-11-26",
          "2023-11-27",
          "2023-11-28",
          "2023-11-29",
          "2023-11-30",
          "2023-12-01",
          "2023-12-02",
          "2023-12-03",
          "2023-12-04",
          "2023-12-05",
          "2023-12-06",
          "2023-12-07",
          "2023-12-08",
          "2023-12-09",
          "2023-12-10",
          "2023-12-11",
          "2023-12-12",
          "2023-12-13",
          "2023-12-14",
          "2023-12-15",
          "2023-12-16",
          "2023-12-17",
          "2023-12-18",
          "2023-12-19",
          "2023-12-20",
          "2023-12-21",
          "2023-12-22",
          "2023-12-23",
          "2023-12-24",
          "2023-12-25",
          "2023-12-26",
          "2023-12-27",
          "2023-12-28",
          "2023-12-29",
          "2023-12-30",
          "2023-12-31",
          "2024-01-01",
          "2024-01-02",
          "2024-01-03",
          "2024-01-04",
          "2024-01-05",
          "2024-01-06",
          "2024-01-07",
          "2024-01-08",
          "2024-01-09",
          "2024-01-10",
          "2024-01-11",
          "2024-01-12",
          "2024-01-13",
          "2024-01-14",
          "2024-01-15",
          "2024-01-16",
          "2024-01-17",
          "2024-01-18",
          "2024-01-19",
          "2024-01-20",
          "2024-01-21",
          "2024-01-22",
          "2024-01-23",
          "2024-01-24",
          "2024-01-25",
          "2024-01-26",
          "2024-01-27",
          "2024-01-28",
          "2024-01-29"
         ],
         "xaxis": "x",
         "y": [
          60,
          92,
          39,
          64,
          71,
          27,
          49,
          26,
          27,
          49.5,
          67.5,
          20.5,
          54,
          69.5,
          52,
          41,
          24.25,
          10.6,
          4.25,
          34.5,
          21.285714285714285,
          12,
          1.5,
          14,
          1.2,
          3.8,
          0,
          8.4,
          5.666666666666667,
          7.5,
          7.5,
          1.75,
          29.2,
          19.5,
          5.333333333333333,
          5.25,
          8.25,
          23.8,
          6.833333333333333,
          19.5,
          24,
          15.8,
          5.666666666666667,
          8.8,
          0,
          76.5,
          5.333333333333333,
          0,
          7.5,
          0,
          0,
          13.666666666666666,
          10.333333333333334,
          14,
          57.5,
          32,
          14,
          11.5,
          26,
          56,
          0,
          0,
          0,
          1.3333333333333333,
          0,
          0,
          7,
          0,
          0,
          0,
          0,
          0,
          0,
          25.5,
          9.5,
          0,
          0,
          0,
          37,
          19,
          54,
          3,
          0,
          1.3333333333333333,
          28,
          12,
          7.5,
          0,
          31.666666666666668,
          23,
          9.5,
          25.5,
          34.2,
          16.5,
          26.5,
          69,
          0,
          22.75,
          37,
          35.5,
          0,
          34,
          114,
          58,
          0,
          36,
          54,
          10.5,
          102,
          36.75,
          60,
          48.5,
          245,
          106,
          16.333333333333332,
          0,
          57,
          84,
          23.75,
          79.5,
          130.5,
          50.666666666666664,
          17.5,
          65.4,
          82,
          40.2,
          35.5,
          24.5,
          31.666666666666668,
          50.333333333333336,
          26.75,
          22.666666666666668,
          26.666666666666668,
          20,
          73.25,
          44.5,
          102.8,
          84,
          96.25,
          46.25,
          29.5,
          59.4,
          66.5,
          0,
          51.5,
          0,
          48,
          41.5,
          88,
          73.33333333333333,
          56.857142857142854,
          44.5,
          90,
          51.666666666666664,
          21.5,
          26.75,
          122,
          32,
          44,
          44.5,
          84.33333333333333,
          18.6,
          129.5,
          52,
          72,
          33.833333333333336,
          35.666666666666664,
          35.333333333333336,
          81,
          85.5,
          29.5,
          23,
          31,
          29.2,
          30.666666666666668,
          103.75,
          116.5,
          195.5,
          58,
          34.333333333333336,
          67.5,
          47,
          59,
          63.6,
          17.666666666666668,
          30,
          64,
          51.8,
          54.666666666666664,
          261.5,
          84.66666666666667,
          137,
          57,
          37.5,
          54.333333333333336,
          58.333333333333336,
          98.75,
          57.75,
          66,
          31.666666666666668,
          25.333333333333332,
          80.5,
          95,
          118,
          168,
          81,
          118.33333333333333,
          27.6,
          48,
          50.8,
          29.75,
          75.5,
          34.5
         ],
         "yaxis": "y"
        }
       ],
       "layout": {
        "legend": {
         "tracegroupgap": 0
        },
        "template": {
         "data": {
          "bar": [
           {
            "error_x": {
             "color": "#f2f5fa"
            },
            "error_y": {
             "color": "#f2f5fa"
            },
            "marker": {
             "line": {
              "color": "rgb(17,17,17)",
              "width": 0.5
             },
             "pattern": {
              "fillmode": "overlay",
              "size": 10,
              "solidity": 0.2
             }
            },
            "type": "bar"
           }
          ],
          "barpolar": [
           {
            "marker": {
             "line": {
              "color": "rgb(17,17,17)",
              "width": 0.5
             },
             "pattern": {
              "fillmode": "overlay",
              "size": 10,
              "solidity": 0.2
             }
            },
            "type": "barpolar"
           }
          ],
          "carpet": [
           {
            "aaxis": {
             "endlinecolor": "#A2B1C6",
             "gridcolor": "#506784",
             "linecolor": "#506784",
             "minorgridcolor": "#506784",
             "startlinecolor": "#A2B1C6"
            },
            "baxis": {
             "endlinecolor": "#A2B1C6",
             "gridcolor": "#506784",
             "linecolor": "#506784",
             "minorgridcolor": "#506784",
             "startlinecolor": "#A2B1C6"
            },
            "type": "carpet"
           }
          ],
          "choropleth": [
           {
            "colorbar": {
             "outlinewidth": 0,
             "ticks": ""
            },
            "type": "choropleth"
           }
          ],
          "contour": [
           {
            "colorbar": {
             "outlinewidth": 0,
             "ticks": ""
            },
            "colorscale": [
             [
              0,
              "#0d0887"
             ],
             [
              0.1111111111111111,
              "#46039f"
             ],
             [
              0.2222222222222222,
              "#7201a8"
             ],
             [
              0.3333333333333333,
              "#9c179e"
             ],
             [
              0.4444444444444444,
              "#bd3786"
             ],
             [
              0.5555555555555556,
              "#d8576b"
             ],
             [
              0.6666666666666666,
              "#ed7953"
             ],
             [
              0.7777777777777778,
              "#fb9f3a"
             ],
             [
              0.8888888888888888,
              "#fdca26"
             ],
             [
              1,
              "#f0f921"
             ]
            ],
            "type": "contour"
           }
          ],
          "contourcarpet": [
           {
            "colorbar": {
             "outlinewidth": 0,
             "ticks": ""
            },
            "type": "contourcarpet"
           }
          ],
          "heatmap": [
           {
            "colorbar": {
             "outlinewidth": 0,
             "ticks": ""
            },
            "colorscale": [
             [
              0,
              "#0d0887"
             ],
             [
              0.1111111111111111,
              "#46039f"
             ],
             [
              0.2222222222222222,
              "#7201a8"
             ],
             [
              0.3333333333333333,
              "#9c179e"
             ],
             [
              0.4444444444444444,
              "#bd3786"
             ],
             [
              0.5555555555555556,
              "#d8576b"
             ],
             [
              0.6666666666666666,
              "#ed7953"
             ],
             [
              0.7777777777777778,
              "#fb9f3a"
             ],
             [
              0.8888888888888888,
              "#fdca26"
             ],
             [
              1,
              "#f0f921"
             ]
            ],
            "type": "heatmap"
           }
          ],
          "heatmapgl": [
           {
            "colorbar": {
             "outlinewidth": 0,
             "ticks": ""
            },
            "colorscale": [
             [
              0,
              "#0d0887"
             ],
             [
              0.1111111111111111,
              "#46039f"
             ],
             [
              0.2222222222222222,
              "#7201a8"
             ],
             [
              0.3333333333333333,
              "#9c179e"
             ],
             [
              0.4444444444444444,
              "#bd3786"
             ],
             [
              0.5555555555555556,
              "#d8576b"
             ],
             [
              0.6666666666666666,
              "#ed7953"
             ],
             [
              0.7777777777777778,
              "#fb9f3a"
             ],
             [
              0.8888888888888888,
              "#fdca26"
             ],
             [
              1,
              "#f0f921"
             ]
            ],
            "type": "heatmapgl"
           }
          ],
          "histogram": [
           {
            "marker": {
             "pattern": {
              "fillmode": "overlay",
              "size": 10,
              "solidity": 0.2
             }
            },
            "type": "histogram"
           }
          ],
          "histogram2d": [
           {
            "colorbar": {
             "outlinewidth": 0,
             "ticks": ""
            },
            "colorscale": [
             [
              0,
              "#0d0887"
             ],
             [
              0.1111111111111111,
              "#46039f"
             ],
             [
              0.2222222222222222,
              "#7201a8"
             ],
             [
              0.3333333333333333,
              "#9c179e"
             ],
             [
              0.4444444444444444,
              "#bd3786"
             ],
             [
              0.5555555555555556,
              "#d8576b"
             ],
             [
              0.6666666666666666,
              "#ed7953"
             ],
             [
              0.7777777777777778,
              "#fb9f3a"
             ],
             [
              0.8888888888888888,
              "#fdca26"
             ],
             [
              1,
              "#f0f921"
             ]
            ],
            "type": "histogram2d"
           }
          ],
          "histogram2dcontour": [
           {
            "colorbar": {
             "outlinewidth": 0,
             "ticks": ""
            },
            "colorscale": [
             [
              0,
              "#0d0887"
             ],
             [
              0.1111111111111111,
              "#46039f"
             ],
             [
              0.2222222222222222,
              "#7201a8"
             ],
             [
              0.3333333333333333,
              "#9c179e"
             ],
             [
              0.4444444444444444,
              "#bd3786"
             ],
             [
              0.5555555555555556,
              "#d8576b"
             ],
             [
              0.6666666666666666,
              "#ed7953"
             ],
             [
              0.7777777777777778,
              "#fb9f3a"
             ],
             [
              0.8888888888888888,
              "#fdca26"
             ],
             [
              1,
              "#f0f921"
             ]
            ],
            "type": "histogram2dcontour"
           }
          ],
          "mesh3d": [
           {
            "colorbar": {
             "outlinewidth": 0,
             "ticks": ""
            },
            "type": "mesh3d"
           }
          ],
          "parcoords": [
           {
            "line": {
             "colorbar": {
              "outlinewidth": 0,
              "ticks": ""
             }
            },
            "type": "parcoords"
           }
          ],
          "pie": [
           {
            "automargin": true,
            "type": "pie"
           }
          ],
          "scatter": [
           {
            "marker": {
             "line": {
              "color": "#283442"
             }
            },
            "type": "scatter"
           }
          ],
          "scatter3d": [
           {
            "line": {
             "colorbar": {
              "outlinewidth": 0,
              "ticks": ""
             }
            },
            "marker": {
             "colorbar": {
              "outlinewidth": 0,
              "ticks": ""
             }
            },
            "type": "scatter3d"
           }
          ],
          "scattercarpet": [
           {
            "marker": {
             "colorbar": {
              "outlinewidth": 0,
              "ticks": ""
             }
            },
            "type": "scattercarpet"
           }
          ],
          "scattergeo": [
           {
            "marker": {
             "colorbar": {
              "outlinewidth": 0,
              "ticks": ""
             }
            },
            "type": "scattergeo"
           }
          ],
          "scattergl": [
           {
            "marker": {
             "line": {
              "color": "#283442"
             }
            },
            "type": "scattergl"
           }
          ],
          "scattermapbox": [
           {
            "marker": {
             "colorbar": {
              "outlinewidth": 0,
              "ticks": ""
             }
            },
            "type": "scattermapbox"
           }
          ],
          "scatterpolar": [
           {
            "marker": {
             "colorbar": {
              "outlinewidth": 0,
              "ticks": ""
             }
            },
            "type": "scatterpolar"
           }
          ],
          "scatterpolargl": [
           {
            "marker": {
             "colorbar": {
              "outlinewidth": 0,
              "ticks": ""
             }
            },
            "type": "scatterpolargl"
           }
          ],
          "scatterternary": [
           {
            "marker": {
             "colorbar": {
              "outlinewidth": 0,
              "ticks": ""
             }
            },
            "type": "scatterternary"
           }
          ],
          "surface": [
           {
            "colorbar": {
             "outlinewidth": 0,
             "ticks": ""
            },
            "colorscale": [
             [
              0,
              "#0d0887"
             ],
             [
              0.1111111111111111,
              "#46039f"
             ],
             [
              0.2222222222222222,
              "#7201a8"
             ],
             [
              0.3333333333333333,
              "#9c179e"
             ],
             [
              0.4444444444444444,
              "#bd3786"
             ],
             [
              0.5555555555555556,
              "#d8576b"
             ],
             [
              0.6666666666666666,
              "#ed7953"
             ],
             [
              0.7777777777777778,
              "#fb9f3a"
             ],
             [
              0.8888888888888888,
              "#fdca26"
             ],
             [
              1,
              "#f0f921"
             ]
            ],
            "type": "surface"
           }
          ],
          "table": [
           {
            "cells": {
             "fill": {
              "color": "#506784"
             },
             "line": {
              "color": "rgb(17,17,17)"
             }
            },
            "header": {
             "fill": {
              "color": "#2a3f5f"
             },
             "line": {
              "color": "rgb(17,17,17)"
             }
            },
            "type": "table"
           }
          ]
         },
         "layout": {
          "annotationdefaults": {
           "arrowcolor": "#f2f5fa",
           "arrowhead": 0,
           "arrowwidth": 1
          },
          "autotypenumbers": "strict",
          "coloraxis": {
           "colorbar": {
            "outlinewidth": 0,
            "ticks": ""
           }
          },
          "colorscale": {
           "diverging": [
            [
             0,
             "#8e0152"
            ],
            [
             0.1,
             "#c51b7d"
            ],
            [
             0.2,
             "#de77ae"
            ],
            [
             0.3,
             "#f1b6da"
            ],
            [
             0.4,
             "#fde0ef"
            ],
            [
             0.5,
             "#f7f7f7"
            ],
            [
             0.6,
             "#e6f5d0"
            ],
            [
             0.7,
             "#b8e186"
            ],
            [
             0.8,
             "#7fbc41"
            ],
            [
             0.9,
             "#4d9221"
            ],
            [
             1,
             "#276419"
            ]
           ],
           "sequential": [
            [
             0,
             "#0d0887"
            ],
            [
             0.1111111111111111,
             "#46039f"
            ],
            [
             0.2222222222222222,
             "#7201a8"
            ],
            [
             0.3333333333333333,
             "#9c179e"
            ],
            [
             0.4444444444444444,
             "#bd3786"
            ],
            [
             0.5555555555555556,
             "#d8576b"
            ],
            [
             0.6666666666666666,
             "#ed7953"
            ],
            [
             0.7777777777777778,
             "#fb9f3a"
            ],
            [
             0.8888888888888888,
             "#fdca26"
            ],
            [
             1,
             "#f0f921"
            ]
           ],
           "sequentialminus": [
            [
             0,
             "#0d0887"
            ],
            [
             0.1111111111111111,
             "#46039f"
            ],
            [
             0.2222222222222222,
             "#7201a8"
            ],
            [
             0.3333333333333333,
             "#9c179e"
            ],
            [
             0.4444444444444444,
             "#bd3786"
            ],
            [
             0.5555555555555556,
             "#d8576b"
            ],
            [
             0.6666666666666666,
             "#ed7953"
            ],
            [
             0.7777777777777778,
             "#fb9f3a"
            ],
            [
             0.8888888888888888,
             "#fdca26"
            ],
            [
             1,
             "#f0f921"
            ]
           ]
          },
          "colorway": [
           "#636efa",
           "#EF553B",
           "#00cc96",
           "#ab63fa",
           "#FFA15A",
           "#19d3f3",
           "#FF6692",
           "#B6E880",
           "#FF97FF",
           "#FECB52"
          ],
          "font": {
           "color": "#f2f5fa"
          },
          "geo": {
           "bgcolor": "rgb(17,17,17)",
           "lakecolor": "rgb(17,17,17)",
           "landcolor": "rgb(17,17,17)",
           "showlakes": true,
           "showland": true,
           "subunitcolor": "#506784"
          },
          "hoverlabel": {
           "align": "left"
          },
          "hovermode": "closest",
          "mapbox": {
           "style": "dark"
          },
          "paper_bgcolor": "rgb(17,17,17)",
          "plot_bgcolor": "rgb(17,17,17)",
          "polar": {
           "angularaxis": {
            "gridcolor": "#506784",
            "linecolor": "#506784",
            "ticks": ""
           },
           "bgcolor": "rgb(17,17,17)",
           "radialaxis": {
            "gridcolor": "#506784",
            "linecolor": "#506784",
            "ticks": ""
           }
          },
          "scene": {
           "xaxis": {
            "backgroundcolor": "rgb(17,17,17)",
            "gridcolor": "#506784",
            "gridwidth": 2,
            "linecolor": "#506784",
            "showbackground": true,
            "ticks": "",
            "zerolinecolor": "#C8D4E3"
           },
           "yaxis": {
            "backgroundcolor": "rgb(17,17,17)",
            "gridcolor": "#506784",
            "gridwidth": 2,
            "linecolor": "#506784",
            "showbackground": true,
            "ticks": "",
            "zerolinecolor": "#C8D4E3"
           },
           "zaxis": {
            "backgroundcolor": "rgb(17,17,17)",
            "gridcolor": "#506784",
            "gridwidth": 2,
            "linecolor": "#506784",
            "showbackground": true,
            "ticks": "",
            "zerolinecolor": "#C8D4E3"
           }
          },
          "shapedefaults": {
           "line": {
            "color": "#f2f5fa"
           }
          },
          "sliderdefaults": {
           "bgcolor": "#C8D4E3",
           "bordercolor": "rgb(17,17,17)",
           "borderwidth": 1,
           "tickwidth": 0
          },
          "ternary": {
           "aaxis": {
            "gridcolor": "#506784",
            "linecolor": "#506784",
            "ticks": ""
           },
           "baxis": {
            "gridcolor": "#506784",
            "linecolor": "#506784",
            "ticks": ""
           },
           "bgcolor": "rgb(17,17,17)",
           "caxis": {
            "gridcolor": "#506784",
            "linecolor": "#506784",
            "ticks": ""
           }
          },
          "title": {
           "x": 0.05
          },
          "updatemenudefaults": {
           "bgcolor": "#506784",
           "borderwidth": 0
          },
          "xaxis": {
           "automargin": true,
           "gridcolor": "#283442",
           "linecolor": "#506784",
           "ticks": "",
           "title": {
            "standoff": 15
           },
           "zerolinecolor": "#283442",
           "zerolinewidth": 2
          },
          "yaxis": {
           "automargin": true,
           "gridcolor": "#283442",
           "linecolor": "#506784",
           "ticks": "",
           "title": {
            "standoff": 15
           },
           "zerolinecolor": "#283442",
           "zerolinewidth": 2
          }
         }
        },
        "title": {
         "text": "Average note length"
        },
        "xaxis": {
         "anchor": "y",
         "domain": [
          0,
          1
         ],
         "title": {
          "text": "Date"
         }
        },
        "yaxis": {
         "anchor": "x",
         "domain": [
          0,
          1
         ],
         "title": {
          "text": "Average note length"
         }
        }
       }
      }
     },
     "metadata": {},
     "output_type": "display_data"
    }
   ],
   "source": [
    "df.note_length_plot(400)"
   ]
  },
  {
   "cell_type": "code",
   "execution_count": null,
   "metadata": {},
   "outputs": [],
   "source": []
  }
 ],
 "metadata": {
  "kernelspec": {
   "display_name": "thevenv",
   "language": "python",
   "name": "python3"
  },
  "language_info": {
   "codemirror_mode": {
    "name": "ipython",
    "version": 3
   },
   "file_extension": ".py",
   "mimetype": "text/x-python",
   "name": "python",
   "nbconvert_exporter": "python",
   "pygments_lexer": "ipython3",
   "version": "3.12.0"
  },
  "orig_nbformat": 4
 },
 "nbformat": 4,
 "nbformat_minor": 2
}
