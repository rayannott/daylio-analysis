{
 "cells": [
  {
   "cell_type": "code",
   "execution_count": 1,
   "metadata": {},
   "outputs": [],
   "source": [
    "import pathlib\n",
    "from dataset import Dataset, BAD_MOOD, GOOD_MOOD, AVERAGE_MOOD"
   ]
  },
  {
   "cell_type": "markdown",
   "metadata": {},
   "source": [
    "# Loading the dataset"
   ]
  },
  {
   "cell_type": "code",
   "execution_count": 2,
   "metadata": {},
   "outputs": [
    {
     "name": "stdout",
     "output_type": "stream",
     "text": [
      "Dataset(435 entries)\n"
     ]
    }
   ],
   "source": [
    "df = Dataset(csv_file_path=pathlib.Path('other', 'daylio-data', 'data_2023_12_02.csv'), remove=True)"
   ]
  },
  {
   "cell_type": "code",
   "execution_count": 3,
   "metadata": {},
   "outputs": [
    {
     "name": "stdout",
     "output_type": "stream",
     "text": [
      "Dataset(435 entries)\n",
      "[02.12.2023 20:24] 4.0 Martina, movies & series, amused, friends, home\n",
      "[02.12.2023 20:18] 3.5 home, Leha, excited, coding\n",
      "[01.12.2023 20:01] 3.5 unsure, satisfied, coding, home, excited\n",
      "[01.12.2023 19:25] 3.5 unsure, tired, coding\n",
      "[01.12.2023 00:19] 3.0 home, tired, relaxed\n",
      "...\n",
      "3.8183908045977013\n"
     ]
    }
   ],
   "source": [
    "df.head()\n",
    "print(df.mood())"
   ]
  },
  {
   "cell_type": "markdown",
   "metadata": {},
   "source": [
    "# API"
   ]
  },
  {
   "cell_type": "markdown",
   "metadata": {},
   "source": [
    "### `.sub`"
   ]
  },
  {
   "cell_type": "markdown",
   "metadata": {},
   "source": [
    "Use the `.sub` method to filter entries and get a subset of the original dataset"
   ]
  },
  {
   "cell_type": "markdown",
   "metadata": {},
   "source": [
    "- by included activities ('or' operator: all the entries which have at least one of the listed activities)"
   ]
  },
  {
   "cell_type": "code",
   "execution_count": 4,
   "metadata": {},
   "outputs": [
    {
     "name": "stdout",
     "output_type": "stream",
     "text": [
      "Dataset(58 entries)\n",
      "[30.11.2023 23:37] 3.5 city, Lauren, date, tired\n",
      "[24.11.2023 21:50] 4.0 satisfied, happy, Damir, city, social, tired\n",
      "[30.10.2023 18:07] 5.0 happy, date, grateful, city, Lauren, tired\n",
      "[26.10.2023 22:06] 4.0 satisfied, happy, date, grateful, city, Lauren, walking\n",
      "[25.10.2023 19:41] 4.0 happy, date, city, Lauren, walking\n",
      "...\n",
      "4.232758620689655\n"
     ]
    }
   ],
   "source": [
    "cycling_or_city_df = df.sub(incl_act={'cycling', 'city'})\n",
    "cycling_or_city_df.head()\n",
    "print(cycling_or_city_df.mood())"
   ]
  },
  {
   "cell_type": "markdown",
   "metadata": {},
   "source": [
    "- by excluded activities (entries which don't have any of the listed activities)\n",
    "\n",
    "_for both `incl_act` and `excl_act` the argument can be either `str` or `set[str]`_"
   ]
  },
  {
   "cell_type": "code",
   "execution_count": 5,
   "metadata": {},
   "outputs": [
    {
     "name": "stdout",
     "output_type": "stream",
     "text": [
      "Dataset(361 entries)\n",
      "[02.12.2023 20:18] 3.5 home, Leha, excited, coding\n",
      "[01.12.2023 20:01] 3.5 unsure, satisfied, coding, home, excited\n",
      "[01.12.2023 19:25] 3.5 unsure, tired, coding\n",
      "[01.12.2023 00:19] 3.0 home, tired, relaxed\n",
      "[30.11.2023 23:37] 3.5 city, Lauren, date, tired\n",
      "...\n",
      "3.78393351800554\n"
     ]
    }
   ],
   "source": [
    "without_friends = df.sub(excl_act='friends')\n",
    "without_friends.head()\n",
    "print(without_friends.mood())"
   ]
  },
  {
   "cell_type": "markdown",
   "metadata": {},
   "source": [
    "- by mood values (can be either a value or a Container of values)"
   ]
  },
  {
   "cell_type": "code",
   "execution_count": 6,
   "metadata": {},
   "outputs": [
    {
     "data": {
      "text/plain": [
       "Dataset(17 entries)"
      ]
     },
     "execution_count": 6,
     "metadata": {},
     "output_type": "execute_result"
    }
   ],
   "source": [
    "bad_mood = df.sub(mood=BAD_MOOD)\n",
    "bad_mood"
   ]
  },
  {
   "cell_type": "markdown",
   "metadata": {},
   "source": [
    "- by included activities ('and' operator: all entries which have all the listed activities)"
   ]
  },
  {
   "cell_type": "code",
   "execution_count": 7,
   "metadata": {},
   "outputs": [
    {
     "name": "stdout",
     "output_type": "stream",
     "text": [
      "Dataset(10 entries)\n",
      "[13.10.2023 20:10] 5.0 cycling, tired, swimming\n",
      "[16.09.2023 20:58] 5.0 cycling, swimming, satisfied, relaxed, tired\n",
      "[04.09.2023 20:44] 5.0 cycling, swimming, satisfied, Damir, relaxed, tired\n",
      "[22.08.2023 20:27] 5.0 cycling, swimming, satisfied, friends, tired\n",
      "[19.08.2023 20:32] 5.0 cycling, swimming, Damir, friends, relaxed, tired\n",
      "...\n",
      "4.85\n",
      "[('cycling', 10), ('tired', 10), ('swimming', 10), ('satisfied', 7), ('relaxed', 6), ('friends', 6), ('Damir', 5)]\n"
     ]
    }
   ],
   "source": [
    " #* Note: this is achieved by subscribing the dataset twice; \n",
    " #* since .sub method returns a new dataset, it can be done in one line\n",
    "cycling_and_swimming = df.sub(incl_act='cycling').sub(incl_act='swimming')\n",
    "cycling_and_swimming.head()\n",
    "print(cycling_and_swimming.mood())\n",
    "print(cycling_and_swimming.activities().most_common(7))"
   ]
  },
  {
   "cell_type": "markdown",
   "metadata": {},
   "source": [
    "- by a particular date"
   ]
  },
  {
   "cell_type": "code",
   "execution_count": 8,
   "metadata": {},
   "outputs": [
    {
     "name": "stdout",
     "output_type": "stream",
     "text": [
      "Dataset(6 entries)\n",
      "[22.07.2023 22:17] 3.5 home, relaxed\n",
      "[22.07.2023 19:34] 4.0 chess, home, relaxed\n",
      "[22.07.2023 17:09] 3.5 home, cooking, relaxed, study\n",
      "[22.07.2023 14:22] 3.5 unsure, coding\n",
      "[22.07.2023 13:30] 3.0 dota, friends, home, anxious\n",
      "[22.07.2023 11:30] 4.0 home, satisfied\n"
     ]
    }
   ],
   "source": [
    "import datetime\n",
    "\n",
    "july22 = df.sub(when=datetime.date(2023, 7, 22))\n",
    "july22.head(n=-1)"
   ]
  },
  {
   "cell_type": "markdown",
   "metadata": {},
   "source": [
    "- by a subtring (or substrings) in the `note`"
   ]
  },
  {
   "cell_type": "code",
   "execution_count": 9,
   "metadata": {},
   "outputs": [
    {
     "name": "stdout",
     "output_type": "stream",
     "text": [
      "Dataset(7 entries)\n",
      "[22.11.2023 21:41] 4.0 Martina, gaming, Leha, satisfied, movies & series, amused, home\n",
      "[10.10.2023 22:39] 3.5 gaming, Leha, amused, friends, stressed, home, productive\n",
      "[06.10.2023 20:45] 4.0 gaming, Leha, happy, friends, excited\n",
      "[04.10.2023 20:13] 5.0 satisfied, happy, movies & series, grateful, friends, new place, Lauren\n",
      "[07.07.2023 20:00] 3.5 gaming, unsure, Leha, shopping, coding, dota, friends, study, walking\n",
      "[03.07.2023 20:05] 4.0 gaming, Leha, happy, coding, friends, stressed, home, tired, excited\n",
      "[01.07.2023 20:00] 4.0 Martina, gaming, Leha, happy, movies & series, friends, relaxed, home, excited\n"
     ]
    }
   ],
   "source": [
    "df_ktane = df.sub(note_contains='ktane')\n",
    "df_ktane.head(-1)"
   ]
  },
  {
   "cell_type": "markdown",
   "metadata": {},
   "source": [
    "### `.head`"
   ]
  },
  {
   "cell_type": "markdown",
   "metadata": {},
   "source": [
    "Use the `.head` method to look at the latest entries of the dataset"
   ]
  },
  {
   "cell_type": "code",
   "execution_count": 10,
   "metadata": {},
   "outputs": [
    {
     "name": "stdout",
     "output_type": "stream",
     "text": [
      "Dataset(58 entries)\n",
      "[30.11.2023 23:37] 3.5 city, Lauren, date, tired\n",
      "[24.11.2023 21:50] 4.0 satisfied, happy, Damir, city, social, tired\n",
      "[30.10.2023 18:07] 5.0 happy, date, grateful, city, Lauren, tired\n",
      "[26.10.2023 22:06] 4.0 satisfied, happy, date, grateful, city, Lauren, walking\n",
      "[25.10.2023 19:41] 4.0 happy, date, city, Lauren, walking\n",
      "...\n"
     ]
    }
   ],
   "source": [
    "cycling_or_city_df.head()"
   ]
  },
  {
   "cell_type": "code",
   "execution_count": 11,
   "metadata": {},
   "outputs": [
    {
     "name": "stdout",
     "output_type": "stream",
     "text": [
      "Dataset(58 entries)\n",
      "[30.11.2023 23:37] 3.5 city, Lauren, date, tired\n",
      "[24.11.2023 21:50] 4.0 satisfied, happy, Damir, city, social, tired\n",
      "...\n"
     ]
    }
   ],
   "source": [
    "cycling_or_city_df.head(2)"
   ]
  },
  {
   "cell_type": "code",
   "execution_count": 12,
   "metadata": {},
   "outputs": [
    {
     "name": "stdout",
     "output_type": "stream",
     "text": [
      "Dataset(58 entries)\n",
      "[30.11.2023 23:37] 3.5 city, Lauren, date, tired\n",
      "[24.11.2023 21:50] 4.0 satisfied, happy, Damir, city, social, tired\n",
      "[30.10.2023 18:07] 5.0 happy, date, grateful, city, Lauren, tired\n",
      "[26.10.2023 22:06] 4.0 satisfied, happy, date, grateful, city, Lauren, walking\n",
      "[25.10.2023 19:41] 4.0 happy, date, city, Lauren, walking\n",
      "[22.10.2023 21:01] 4.0 date, grateful, city, new place, Lauren, tired, excited\n",
      "[21.10.2023 20:00] 4.0 satisfied, movies & series, date, city, relaxed, Lauren\n",
      "[19.10.2023 14:35] 4.0 city, friends\n",
      "[14.10.2023 20:00] 4.0 Lauren, city, tired, new place\n",
      "[13.10.2023 20:10] 5.0 cycling, tired, swimming\n",
      "[08.10.2023 20:00] 4.0 grateful, city, friends, Lauren, travel\n",
      "[07.10.2023 15:56] 4.0 satisfied, amused, city, relaxed, reading, walking\n",
      "[03.10.2023 20:01] 4.0 satisfied, happy, city, friends, Lauren, walking\n",
      "[02.10.2023 20:01] 5.0 satisfied, happy, city, friends, Lauren, walking\n",
      "[30.09.2023 13:29] 4.0 cycling, unsure, relaxed, shopping\n",
      "[23.09.2023 13:55] 4.0 bored, city, satisfied\n",
      "[16.09.2023 20:58] 5.0 cycling, swimming, satisfied, relaxed, tired\n",
      "[15.09.2023 15:47] 4.0 cycling, city, shopping\n",
      "[10.09.2023 18:40] 5.0 cycling, city, relaxed\n",
      "[09.09.2023 20:01] 4.0 home, cycling, did something, shopping, relaxed, chess, bored\n",
      "[08.09.2023 21:12] 4.0 home, cycling, satisfied, shopping, procrastinating, bored, study\n",
      "[05.09.2023 09:55] 4.0 city, friends, excited\n",
      "[04.09.2023 20:44] 5.0 cycling, swimming, satisfied, Damir, relaxed, tired\n",
      "[01.09.2023 20:05] 4.0 swimming, satisfied, Damir, city, friends\n",
      "[28.08.2023 23:06] 4.0 tired, travel, satisfied, city, new place, anxious, walking\n",
      "[25.08.2023 20:04] 3.5 movies & series, city, tired, cinema\n",
      "[25.08.2023 16:08] 4.0 city, tired, satisfied, new place\n",
      "[22.08.2023 20:27] 5.0 cycling, swimming, satisfied, friends, tired\n",
      "[19.08.2023 20:32] 5.0 cycling, swimming, Damir, friends, relaxed, tired\n",
      "[18.08.2023 21:19] 4.0 Lion, dota, friends, city, relaxed, chess, walking\n",
      "[16.08.2023 20:03] 5.0 cycling, swimming, satisfied, happy, city, friends, tired\n",
      "[15.08.2023 20:13] 3.5 cycling, swimming, satisfied, happy, relaxed, tired\n",
      "[13.08.2023 19:04] 5.0 cycling, happy, city\n",
      "[11.08.2023 16:51] 4.0 cycling, relaxed, satisfied, shopping\n",
      "[10.08.2023 20:45] 4.0 happy, cycling, satisfied, walking\n",
      "[08.08.2023 15:50] 5.0 cycling, satisfied, shopping, city, relaxed\n",
      "[08.08.2023 13:59] 4.0 satisfied, city, cycling, excited\n",
      "[07.08.2023 20:03] 4.0 cycling, relaxed, shopping\n",
      "[02.08.2023 15:57] 5.0 cycling, happy, grateful, Lauren, walking\n",
      "[01.08.2023 20:01] 4.0 happy, bored, city\n",
      "[01.08.2023 18:11] 3.5 cycling, shopping\n",
      "[27.07.2023 21:04] 4.0 cycling, gaming, satisfied, shopping, relaxed, home, cooking\n",
      "[25.07.2023 20:21] 4.0 cycling, satisfied, shopping\n",
      "[21.07.2023 21:17] 4.0 city, satisfied\n",
      "[20.07.2023 18:29] 4.0 cycling, unsure, shopping\n",
      "[18.07.2023 20:30] 5.0 cycling, swimming, satisfied, Damir, friends, city, relaxed, tired\n",
      "[18.07.2023 14:29] 4.0 cycling, satisfied, shopping\n",
      "[16.07.2023 20:02] 4.0 cycling, Lion, cleaning, dota, friends, chess, home, study\n",
      "[14.07.2023 19:56] 5.0 cycling, swimming, Damir, procrastinating, friends, city, relaxed, new place, tired, study\n",
      "[13.07.2023 23:59] 4.0 Martina, cycling, gaming, satisfied, shopping, coding, procrastinating, friends, new place, relaxed, class, tired\n",
      "[13.07.2023 12:47] 4.0 cycling, satisfied\n",
      "[11.07.2023 20:02] 3.5 cycling, overheated, shopping, coding, bored, study\n",
      "[10.07.2023 21:00] 5.0 cycling, swimming, satisfied, happy, Damir, school, friends, tired\n",
      "[10.07.2023 11:07] 4.0 cycling, school, satisfied\n",
      "[09.07.2023 15:50] 4.0 overheated, new place, city, social, tired, walking\n",
      "[08.07.2023 19:13] 5.0 cycling, satisfied, city, relaxed, tired\n",
      "[06.07.2023 20:41] 4.0 satisfied, family, movies & series, Damir, coding, city, relaxed, cinema, social, class, walking\n",
      "[05.07.2023 18:42] 4.0 did something, satisfied, swimming, Damir, helping, coding, friends, city, tired, walking\n"
     ]
    }
   ],
   "source": [
    "# prints all entries\n",
    "cycling_or_city_df.head(-1)"
   ]
  },
  {
   "cell_type": "markdown",
   "metadata": {},
   "source": [
    "### `.mood`"
   ]
  },
  {
   "cell_type": "markdown",
   "metadata": {},
   "source": [
    "Use the `.mood` method to get the average mood of all the entries in the dataset"
   ]
  },
  {
   "cell_type": "code",
   "execution_count": 13,
   "metadata": {},
   "outputs": [
    {
     "data": {
      "text/plain": [
       "4.233"
      ]
     },
     "execution_count": 13,
     "metadata": {},
     "output_type": "execute_result"
    }
   ],
   "source": [
    "round(\n",
    "    cycling_or_city_df.mood(),\n",
    "    3\n",
    ")"
   ]
  },
  {
   "cell_type": "markdown",
   "metadata": {},
   "source": [
    "### `.count`"
   ]
  },
  {
   "cell_type": "markdown",
   "metadata": {},
   "source": [
    "Use the `.count` method to count entries with the given conditions.\n",
    "\n",
    "This is equivalent to `len(df.sub(...))` with the same arguments, but the `.count` method does not create a new dataset."
   ]
  },
  {
   "cell_type": "code",
   "execution_count": 14,
   "metadata": {},
   "outputs": [
    {
     "data": {
      "text/plain": [
       "8"
      ]
     },
     "execution_count": 14,
     "metadata": {},
     "output_type": "execute_result"
    }
   ],
   "source": [
    "df.count(incl_act='friends', mood={2, 3})"
   ]
  },
  {
   "cell_type": "markdown",
   "metadata": {},
   "source": [
    "### `.activities`"
   ]
  },
  {
   "cell_type": "markdown",
   "metadata": {},
   "source": [
    "Use the `.activities` method to get a Counter object of all activities in the dataset"
   ]
  },
  {
   "cell_type": "code",
   "execution_count": 15,
   "metadata": {},
   "outputs": [
    {
     "data": {
      "text/plain": [
       "[('home', 251), ('relaxed', 153), ('satisfied', 131)]"
      ]
     },
     "execution_count": 15,
     "metadata": {},
     "output_type": "execute_result"
    }
   ],
   "source": [
    "df.activities().most_common(3)"
   ]
  },
  {
   "cell_type": "markdown",
   "metadata": {},
   "source": [
    "### `.get_datetimes`"
   ]
  },
  {
   "cell_type": "markdown",
   "metadata": {},
   "source": [
    "Use the `.get_datetimes` method to get the list of all points in time when an entry was created"
   ]
  },
  {
   "cell_type": "code",
   "execution_count": 16,
   "metadata": {},
   "outputs": [
    {
     "data": {
      "text/plain": [
       "[datetime.datetime(2023, 12, 2, 20, 24),\n",
       " datetime.datetime(2023, 12, 2, 20, 18),\n",
       " datetime.datetime(2023, 12, 1, 20, 1),\n",
       " datetime.datetime(2023, 12, 1, 19, 25),\n",
       " datetime.datetime(2023, 12, 1, 0, 19)]"
      ]
     },
     "execution_count": 16,
     "metadata": {},
     "output_type": "execute_result"
    }
   ],
   "source": [
    "df.get_datetimes()[:5]"
   ]
  },
  {
   "cell_type": "code",
   "execution_count": null,
   "metadata": {},
   "outputs": [],
   "source": []
  },
  {
   "cell_type": "markdown",
   "metadata": {},
   "source": [
    "# Analysis examples"
   ]
  },
  {
   "cell_type": "markdown",
   "metadata": {},
   "source": [
    "## Mood analysis"
   ]
  },
  {
   "cell_type": "code",
   "execution_count": 17,
   "metadata": {},
   "outputs": [],
   "source": [
    "activity = 'cycling'\n",
    "mood_with, mood_without = df.mood_with_without(activity)"
   ]
  },
  {
   "cell_type": "code",
   "execution_count": 18,
   "metadata": {},
   "outputs": [
    {
     "name": "stdout",
     "output_type": "stream",
     "text": [
      "\"cycling\"\n",
      "with: 4.38\n",
      "without: 3.77\n",
      "change: 16.1%\n"
     ]
    }
   ],
   "source": [
    "print(f'''\"{activity}\"\n",
    "with: {mood_with:.2f}\n",
    "without: {mood_without:.2f}\n",
    "change: {(mood_with - mood_without)/mood_without:.1%}'''\n",
    ")"
   ]
  },
  {
   "cell_type": "code",
   "execution_count": 19,
   "metadata": {},
   "outputs": [
    {
     "data": {
      "text/plain": [
       "33"
      ]
     },
     "execution_count": 19,
     "metadata": {},
     "output_type": "execute_result"
    }
   ],
   "source": [
    "df.count(incl_act='cycling')"
   ]
  },
  {
   "cell_type": "markdown",
   "metadata": {},
   "source": [
    "## Complete analysis"
   ]
  },
  {
   "cell_type": "code",
   "execution_count": 20,
   "metadata": {},
   "outputs": [],
   "source": [
    "complete_analysis = df.complete_analysis()"
   ]
  },
  {
   "cell_type": "code",
   "execution_count": 21,
   "metadata": {},
   "outputs": [
    {
     "name": "stdout",
     "output_type": "stream",
     "text": [
      "analysed 40 actvities\n",
      "[     happy     ]: 20.3% (with: 4.42, without: 3.68); occured 83 times\n",
      "[   swimming    ]: 18.9% (with: 4.50, without: 3.78); occured 21 times\n",
      "[   grateful    ]: 18.3% (with: 4.45, without: 3.76); occured 38 times\n",
      "[     Damir     ]: 17.5% (with: 4.46, without: 3.80); occured 13 times\n",
      "[     date      ]: 17.4% (with: 4.41, without: 3.75); occured 43 times\n",
      "[    Lauren     ]: 16.6% (with: 4.35, without: 3.73); occured 61 times\n",
      "[    cycling    ]: 16.1% (with: 4.38, without: 3.77); occured 33 times\n",
      "[     city      ]: 12.0% (with: 4.24, without: 3.78); occured 34 times\n",
      "[   satisfied   ]: 10.6% (with: 4.09, without: 3.70); occured 131 times\n",
      "[    walking    ]: 9.0% (with: 4.14, without: 3.80); occured 21 times\n",
      "[     piano     ]: 7.9% (with: 4.10, without: 3.80); occured 25 times\n",
      "[movies & series]: 7.6% (with: 4.07, without: 3.79); occured 47 times\n",
      "[   new place   ]: 7.6% (with: 4.10, without: 3.81); occured 10 times\n",
      "[    relaxed    ]: 6.8% (with: 3.98, without: 3.73); occured 153 times\n",
      "[    amused     ]: 6.0% (with: 4.03, without: 3.80); occured 33 times\n",
      "[    friends    ]: 5.4% (with: 3.99, without: 3.78); occured 74 times\n",
      "[    Martina    ]: 4.9% (with: 4.00, without: 3.81); occured 16 times\n",
      "[     tired     ]: 4.4% (with: 3.96, without: 3.79); occured 71 times\n",
      "[   shopping    ]: 4.1% (with: 3.97, without: 3.81); occured 16 times\n",
      "[    excited    ]: 3.7% (with: 3.95, without: 3.81); occured 30 times\n",
      "[    cooking    ]: 3.4% (with: 3.94, without: 3.81); occured 18 times\n",
      "[     chess     ]: 2.9% (with: 3.92, without: 3.81); occured 32 times\n",
      "[    school     ]: 0.6% (with: 3.84, without: 3.82); occured 28 times\n",
      "[    gaming     ]: -0.2% (with: 3.81, without: 3.82); occured 29 times\n",
      "[     Leha      ]: -0.5% (with: 3.80, without: 3.82); occured 15 times\n",
      "[    coding     ]: -1.0% (with: 3.78, without: 3.82); occured 46 times\n",
      "[     class     ]: -1.1% (with: 3.78, without: 3.82); occured 18 times\n",
      "[ woke up early ]: -1.5% (with: 3.76, without: 3.82); occured 17 times\n",
      "[procrastinating]: -1.9% (with: 3.75, without: 3.82); occured 32 times\n",
      "[     home      ]: -3.7% (with: 3.76, without: 3.90); occured 251 times\n",
      "[     study     ]: -6.6% (with: 3.60, without: 3.85); occured 56 times\n",
      "[     bored     ]: -7.4% (with: 3.56, without: 3.85); occured 41 times\n",
      "[    unsure     ]: -8.2% (with: 3.55, without: 3.87); occured 68 times\n",
      "[    social     ]: -8.6% (with: 3.50, without: 3.83); occured 12 times\n",
      "[  underslept   ]: -8.6% (with: 3.50, without: 3.83); occured 12 times\n",
      "[     Lion      ]: -9.8% (with: 3.45, without: 3.83); occured 11 times\n",
      "[     dota      ]: -11.4% (with: 3.41, without: 3.85); occured 27 times\n",
      "[   stressed    ]: -18.2% (with: 3.14, without: 3.84); occured 11 times\n",
      "[    anxious    ]: -22.5% (with: 3.01, without: 3.89); occured 35 times\n",
      "[     angry     ]: -39.0% (with: 2.35, without: 3.85); occured 10 times\n"
     ]
    }
   ],
   "source": [
    "print(f'analysed {len(complete_analysis)} actvities')\n",
    "for _name, _with, _without, _change, _num_occ in complete_analysis:\n",
    "    print(f'[{_name:^15}]: {_change:.1%} (with: {_with:.2f}, without: {_without:.2f}); occured {_num_occ} times')"
   ]
  },
  {
   "cell_type": "markdown",
   "metadata": {},
   "source": [
    "## Mood graph"
   ]
  },
  {
   "cell_type": "code",
   "execution_count": 22,
   "metadata": {},
   "outputs": [
    {
     "data": {
      "application/vnd.plotly.v1+json": {
       "config": {
        "plotlyServerURL": "https://plot.ly"
       },
       "data": [
        {
         "line": {
          "color": "rgb(31, 119, 180)"
         },
         "mode": "lines+markers",
         "name": "avg",
         "type": "scatter",
         "x": [
          "2023-07-01",
          "2023-07-02",
          "2023-07-03",
          "2023-07-04",
          "2023-07-05",
          "2023-07-06",
          "2023-07-07",
          "2023-07-08",
          "2023-07-09",
          "2023-07-10",
          "2023-07-11",
          "2023-07-12",
          "2023-07-13",
          "2023-07-14",
          "2023-07-15",
          "2023-07-16",
          "2023-07-17",
          "2023-07-18",
          "2023-07-19",
          "2023-07-20",
          "2023-07-21",
          "2023-07-22",
          "2023-07-23",
          "2023-07-24",
          "2023-07-25",
          "2023-07-26",
          "2023-07-27",
          "2023-07-28",
          "2023-07-29",
          "2023-07-30",
          "2023-07-31",
          "2023-08-01",
          "2023-08-02",
          "2023-08-03",
          "2023-08-04",
          "2023-08-05",
          "2023-08-06",
          "2023-08-07",
          "2023-08-08",
          "2023-08-09",
          "2023-08-10",
          "2023-08-11",
          "2023-08-12",
          "2023-08-13",
          "2023-08-14",
          "2023-08-15",
          "2023-08-16",
          "2023-08-17",
          "2023-08-18",
          "2023-08-19",
          "2023-08-20",
          "2023-08-21",
          "2023-08-22",
          "2023-08-23",
          "2023-08-24",
          "2023-08-25",
          "2023-08-26",
          "2023-08-27",
          "2023-08-28",
          "2023-08-29",
          "2023-08-30",
          "2023-08-31",
          "2023-09-01",
          "2023-09-02",
          "2023-09-03",
          "2023-09-04",
          "2023-09-05",
          "2023-09-06",
          "2023-09-07",
          "2023-09-08",
          "2023-09-09",
          "2023-09-10",
          "2023-09-11",
          "2023-09-12",
          "2023-09-13",
          "2023-09-14",
          "2023-09-15",
          "2023-09-16",
          "2023-09-17",
          "2023-09-18",
          "2023-09-19",
          "2023-09-20",
          "2023-09-21",
          "2023-09-22",
          "2023-09-23",
          "2023-09-24",
          "2023-09-25",
          "2023-09-26",
          "2023-09-27",
          "2023-09-28",
          "2023-09-29",
          "2023-09-30",
          "2023-10-01",
          "2023-10-02",
          "2023-10-03",
          "2023-10-04",
          "2023-10-05",
          "2023-10-06",
          "2023-10-07",
          "2023-10-08",
          "2023-10-09",
          "2023-10-10",
          "2023-10-11",
          "2023-10-12",
          "2023-10-13",
          "2023-10-14",
          "2023-10-15",
          "2023-10-16",
          "2023-10-17",
          "2023-10-18",
          "2023-10-19",
          "2023-10-20",
          "2023-10-21",
          "2023-10-22",
          "2023-10-23",
          "2023-10-24",
          "2023-10-25",
          "2023-10-26",
          "2023-10-27",
          "2023-10-28",
          "2023-10-29",
          "2023-10-30",
          "2023-10-31",
          "2023-11-01",
          "2023-11-02",
          "2023-11-03",
          "2023-11-04",
          "2023-11-05",
          "2023-11-06",
          "2023-11-07",
          "2023-11-08",
          "2023-11-09",
          "2023-11-10",
          "2023-11-11",
          "2023-11-12",
          "2023-11-13",
          "2023-11-14",
          "2023-11-15",
          "2023-11-16",
          "2023-11-17",
          "2023-11-18",
          "2023-11-19",
          "2023-11-20",
          "2023-11-21",
          "2023-11-22",
          "2023-11-23",
          "2023-11-24",
          "2023-11-25",
          "2023-11-26",
          "2023-11-27",
          "2023-11-28",
          "2023-11-29",
          "2023-11-30",
          "2023-12-01",
          "2023-12-02"
         ],
         "y": [
          4,
          4,
          4.5,
          3,
          4,
          4,
          3.5,
          4,
          3.1666666666666665,
          4.5,
          3.75,
          3.25,
          4.333333333333333,
          4.5,
          3,
          4,
          3.125,
          4.4,
          3.375,
          3.375,
          3.2857142857142856,
          3.5833333333333335,
          3.5,
          3.5,
          3.4,
          3.1,
          3.75,
          3.4,
          3.3333333333333335,
          3.25,
          3.5,
          3.8125,
          4.1,
          3.75,
          3.8333333333333335,
          3.875,
          3.25,
          3.6,
          4.166666666666667,
          3.75,
          3.875,
          3.8,
          4,
          4.1,
          4,
          3.75,
          4.166666666666667,
          3.5,
          4,
          4.333333333333333,
          3.75,
          3.8333333333333335,
          4.333333333333333,
          4,
          3,
          3.75,
          4,
          2.25,
          4,
          3,
          4,
          4,
          4.5,
          3.8333333333333335,
          4,
          5,
          4,
          3.5,
          4,
          4,
          4,
          4.5,
          3.75,
          4.5,
          4,
          3.25,
          3.8333333333333335,
          5,
          4,
          3.5,
          4,
          4,
          4,
          3.8333333333333335,
          4,
          4,
          4,
          4,
          4.166666666666667,
          4,
          3.75,
          3.625,
          4.1,
          4.25,
          4.5,
          4.5,
          3.75,
          4,
          3.8333333333333335,
          3.75,
          4,
          3.5,
          4,
          4,
          4.25,
          4,
          5,
          3.5,
          4,
          4.625,
          4.166666666666667,
          4.25,
          4,
          4,
          3.6666666666666665,
          3.25,
          3.75,
          3.75,
          4.25,
          5.5,
          4.5,
          4.166666666666667,
          3.375,
          4.1,
          3.8333333333333335,
          3.5,
          3.9166666666666665,
          3.375,
          3.5,
          3.75,
          4.25,
          4.166666666666667,
          3.4166666666666665,
          4.666666666666667,
          4.75,
          3.875,
          3.5,
          3.6666666666666665,
          3.875,
          3.125,
          4,
          3.4,
          3.5,
          3,
          4,
          3.75,
          4,
          4,
          4,
          3.8333333333333335,
          3.642857142857143,
          3.75,
          3.6666666666666665,
          3.3333333333333335,
          3.75
         ]
        },
        {
         "line": {
          "width": 0
         },
         "marker": {
          "color": "#444"
         },
         "mode": "lines",
         "name": "max",
         "showlegend": false,
         "type": "scatter",
         "x": [
          "2023-07-01",
          "2023-07-02",
          "2023-07-03",
          "2023-07-04",
          "2023-07-05",
          "2023-07-06",
          "2023-07-07",
          "2023-07-08",
          "2023-07-09",
          "2023-07-10",
          "2023-07-11",
          "2023-07-12",
          "2023-07-13",
          "2023-07-14",
          "2023-07-15",
          "2023-07-16",
          "2023-07-17",
          "2023-07-18",
          "2023-07-19",
          "2023-07-20",
          "2023-07-21",
          "2023-07-22",
          "2023-07-23",
          "2023-07-24",
          "2023-07-25",
          "2023-07-26",
          "2023-07-27",
          "2023-07-28",
          "2023-07-29",
          "2023-07-30",
          "2023-07-31",
          "2023-08-01",
          "2023-08-02",
          "2023-08-03",
          "2023-08-04",
          "2023-08-05",
          "2023-08-06",
          "2023-08-07",
          "2023-08-08",
          "2023-08-09",
          "2023-08-10",
          "2023-08-11",
          "2023-08-12",
          "2023-08-13",
          "2023-08-14",
          "2023-08-15",
          "2023-08-16",
          "2023-08-17",
          "2023-08-18",
          "2023-08-19",
          "2023-08-20",
          "2023-08-21",
          "2023-08-22",
          "2023-08-23",
          "2023-08-24",
          "2023-08-25",
          "2023-08-26",
          "2023-08-27",
          "2023-08-28",
          "2023-08-29",
          "2023-08-30",
          "2023-08-31",
          "2023-09-01",
          "2023-09-02",
          "2023-09-03",
          "2023-09-04",
          "2023-09-05",
          "2023-09-06",
          "2023-09-07",
          "2023-09-08",
          "2023-09-09",
          "2023-09-10",
          "2023-09-11",
          "2023-09-12",
          "2023-09-13",
          "2023-09-14",
          "2023-09-15",
          "2023-09-16",
          "2023-09-17",
          "2023-09-18",
          "2023-09-19",
          "2023-09-20",
          "2023-09-21",
          "2023-09-22",
          "2023-09-23",
          "2023-09-24",
          "2023-09-25",
          "2023-09-26",
          "2023-09-27",
          "2023-09-28",
          "2023-09-29",
          "2023-09-30",
          "2023-10-01",
          "2023-10-02",
          "2023-10-03",
          "2023-10-04",
          "2023-10-05",
          "2023-10-06",
          "2023-10-07",
          "2023-10-08",
          "2023-10-09",
          "2023-10-10",
          "2023-10-11",
          "2023-10-12",
          "2023-10-13",
          "2023-10-14",
          "2023-10-15",
          "2023-10-16",
          "2023-10-17",
          "2023-10-18",
          "2023-10-19",
          "2023-10-20",
          "2023-10-21",
          "2023-10-22",
          "2023-10-23",
          "2023-10-24",
          "2023-10-25",
          "2023-10-26",
          "2023-10-27",
          "2023-10-28",
          "2023-10-29",
          "2023-10-30",
          "2023-10-31",
          "2023-11-01",
          "2023-11-02",
          "2023-11-03",
          "2023-11-04",
          "2023-11-05",
          "2023-11-06",
          "2023-11-07",
          "2023-11-08",
          "2023-11-09",
          "2023-11-10",
          "2023-11-11",
          "2023-11-12",
          "2023-11-13",
          "2023-11-14",
          "2023-11-15",
          "2023-11-16",
          "2023-11-17",
          "2023-11-18",
          "2023-11-19",
          "2023-11-20",
          "2023-11-21",
          "2023-11-22",
          "2023-11-23",
          "2023-11-24",
          "2023-11-25",
          "2023-11-26",
          "2023-11-27",
          "2023-11-28",
          "2023-11-29",
          "2023-11-30",
          "2023-12-01",
          "2023-12-02"
         ],
         "y": [
          4,
          4,
          5,
          3,
          4,
          4,
          3.5,
          5,
          4,
          5,
          4,
          3.5,
          5,
          5,
          3,
          4,
          4,
          5,
          4,
          4,
          4,
          4,
          3.5,
          4,
          4,
          4,
          4,
          4,
          4,
          4,
          4,
          5,
          5,
          4,
          4,
          4,
          4,
          4,
          5,
          5,
          4,
          4,
          4,
          5,
          4,
          4,
          5,
          3.5,
          4,
          5,
          4,
          4,
          5,
          4,
          3,
          4,
          4,
          2.5,
          4,
          4,
          4,
          4,
          5,
          4,
          4,
          5,
          4,
          3.5,
          4,
          4,
          4,
          5,
          4,
          5,
          4,
          3.5,
          4,
          5,
          4,
          3.5,
          4,
          4,
          4,
          4,
          4,
          4,
          4,
          4,
          5,
          4,
          4,
          4,
          5,
          5,
          5,
          5,
          4,
          5,
          4,
          4,
          4,
          3.5,
          4,
          4,
          5,
          4,
          5,
          3.5,
          4,
          6,
          5,
          5,
          4,
          4,
          4,
          3.5,
          4,
          4,
          5,
          6,
          5,
          5,
          3.5,
          5,
          4,
          4,
          4,
          4,
          4,
          4,
          5,
          5,
          4,
          5,
          5,
          4,
          4,
          4,
          5,
          3.5,
          4,
          4,
          3.5,
          3,
          4,
          4,
          4,
          4,
          4,
          4,
          4,
          4,
          4,
          3.5,
          4
         ]
        },
        {
         "fill": "tonexty",
         "fillcolor": "rgba(130, 130, 130, 0.45)",
         "line": {
          "width": 0
         },
         "marker": {
          "color": "#444"
         },
         "mode": "lines",
         "name": "min",
         "showlegend": false,
         "type": "scatter",
         "x": [
          "2023-07-01",
          "2023-07-02",
          "2023-07-03",
          "2023-07-04",
          "2023-07-05",
          "2023-07-06",
          "2023-07-07",
          "2023-07-08",
          "2023-07-09",
          "2023-07-10",
          "2023-07-11",
          "2023-07-12",
          "2023-07-13",
          "2023-07-14",
          "2023-07-15",
          "2023-07-16",
          "2023-07-17",
          "2023-07-18",
          "2023-07-19",
          "2023-07-20",
          "2023-07-21",
          "2023-07-22",
          "2023-07-23",
          "2023-07-24",
          "2023-07-25",
          "2023-07-26",
          "2023-07-27",
          "2023-07-28",
          "2023-07-29",
          "2023-07-30",
          "2023-07-31",
          "2023-08-01",
          "2023-08-02",
          "2023-08-03",
          "2023-08-04",
          "2023-08-05",
          "2023-08-06",
          "2023-08-07",
          "2023-08-08",
          "2023-08-09",
          "2023-08-10",
          "2023-08-11",
          "2023-08-12",
          "2023-08-13",
          "2023-08-14",
          "2023-08-15",
          "2023-08-16",
          "2023-08-17",
          "2023-08-18",
          "2023-08-19",
          "2023-08-20",
          "2023-08-21",
          "2023-08-22",
          "2023-08-23",
          "2023-08-24",
          "2023-08-25",
          "2023-08-26",
          "2023-08-27",
          "2023-08-28",
          "2023-08-29",
          "2023-08-30",
          "2023-08-31",
          "2023-09-01",
          "2023-09-02",
          "2023-09-03",
          "2023-09-04",
          "2023-09-05",
          "2023-09-06",
          "2023-09-07",
          "2023-09-08",
          "2023-09-09",
          "2023-09-10",
          "2023-09-11",
          "2023-09-12",
          "2023-09-13",
          "2023-09-14",
          "2023-09-15",
          "2023-09-16",
          "2023-09-17",
          "2023-09-18",
          "2023-09-19",
          "2023-09-20",
          "2023-09-21",
          "2023-09-22",
          "2023-09-23",
          "2023-09-24",
          "2023-09-25",
          "2023-09-26",
          "2023-09-27",
          "2023-09-28",
          "2023-09-29",
          "2023-09-30",
          "2023-10-01",
          "2023-10-02",
          "2023-10-03",
          "2023-10-04",
          "2023-10-05",
          "2023-10-06",
          "2023-10-07",
          "2023-10-08",
          "2023-10-09",
          "2023-10-10",
          "2023-10-11",
          "2023-10-12",
          "2023-10-13",
          "2023-10-14",
          "2023-10-15",
          "2023-10-16",
          "2023-10-17",
          "2023-10-18",
          "2023-10-19",
          "2023-10-20",
          "2023-10-21",
          "2023-10-22",
          "2023-10-23",
          "2023-10-24",
          "2023-10-25",
          "2023-10-26",
          "2023-10-27",
          "2023-10-28",
          "2023-10-29",
          "2023-10-30",
          "2023-10-31",
          "2023-11-01",
          "2023-11-02",
          "2023-11-03",
          "2023-11-04",
          "2023-11-05",
          "2023-11-06",
          "2023-11-07",
          "2023-11-08",
          "2023-11-09",
          "2023-11-10",
          "2023-11-11",
          "2023-11-12",
          "2023-11-13",
          "2023-11-14",
          "2023-11-15",
          "2023-11-16",
          "2023-11-17",
          "2023-11-18",
          "2023-11-19",
          "2023-11-20",
          "2023-11-21",
          "2023-11-22",
          "2023-11-23",
          "2023-11-24",
          "2023-11-25",
          "2023-11-26",
          "2023-11-27",
          "2023-11-28",
          "2023-11-29",
          "2023-11-30",
          "2023-12-01",
          "2023-12-02"
         ],
         "y": [
          4,
          4,
          4,
          3,
          4,
          4,
          3.5,
          3,
          2,
          4,
          3.5,
          3,
          4,
          4,
          3,
          4,
          2,
          4,
          2.5,
          2,
          2.5,
          3,
          3.5,
          3,
          3,
          2,
          3.5,
          2,
          2.5,
          2.5,
          3,
          3,
          3.5,
          3,
          3.5,
          3.5,
          2,
          3,
          4,
          3,
          3.5,
          3.5,
          4,
          3.5,
          4,
          3.5,
          3.5,
          3.5,
          4,
          4,
          3.5,
          3.5,
          4,
          4,
          3,
          3.5,
          4,
          2,
          4,
          2,
          4,
          4,
          4,
          3.5,
          4,
          5,
          4,
          3.5,
          4,
          4,
          4,
          4,
          3.5,
          4,
          4,
          3,
          3.5,
          5,
          4,
          3.5,
          4,
          4,
          4,
          3.5,
          4,
          4,
          4,
          4,
          3.5,
          4,
          3.5,
          3,
          3,
          3.5,
          4,
          4,
          3.5,
          3.5,
          3.5,
          3.5,
          4,
          3.5,
          4,
          4,
          3.5,
          4,
          5,
          3.5,
          4,
          3.5,
          3.5,
          3.5,
          4,
          4,
          3.5,
          3,
          3.5,
          3.5,
          4,
          5,
          4,
          3.5,
          3,
          3.5,
          3.5,
          3,
          3.5,
          3,
          3,
          3.5,
          4,
          3.5,
          2,
          4,
          4,
          3.5,
          2,
          3.5,
          3,
          2.5,
          4,
          3,
          3.5,
          3,
          4,
          3.5,
          4,
          4,
          4,
          3.5,
          3,
          3.5,
          3.5,
          3,
          3.5
         ]
        }
       ],
       "layout": {
        "hovermode": "x",
        "showlegend": false,
        "template": {
         "data": {
          "bar": [
           {
            "error_x": {
             "color": "#f2f5fa"
            },
            "error_y": {
             "color": "#f2f5fa"
            },
            "marker": {
             "line": {
              "color": "rgb(17,17,17)",
              "width": 0.5
             },
             "pattern": {
              "fillmode": "overlay",
              "size": 10,
              "solidity": 0.2
             }
            },
            "type": "bar"
           }
          ],
          "barpolar": [
           {
            "marker": {
             "line": {
              "color": "rgb(17,17,17)",
              "width": 0.5
             },
             "pattern": {
              "fillmode": "overlay",
              "size": 10,
              "solidity": 0.2
             }
            },
            "type": "barpolar"
           }
          ],
          "carpet": [
           {
            "aaxis": {
             "endlinecolor": "#A2B1C6",
             "gridcolor": "#506784",
             "linecolor": "#506784",
             "minorgridcolor": "#506784",
             "startlinecolor": "#A2B1C6"
            },
            "baxis": {
             "endlinecolor": "#A2B1C6",
             "gridcolor": "#506784",
             "linecolor": "#506784",
             "minorgridcolor": "#506784",
             "startlinecolor": "#A2B1C6"
            },
            "type": "carpet"
           }
          ],
          "choropleth": [
           {
            "colorbar": {
             "outlinewidth": 0,
             "ticks": ""
            },
            "type": "choropleth"
           }
          ],
          "contour": [
           {
            "colorbar": {
             "outlinewidth": 0,
             "ticks": ""
            },
            "colorscale": [
             [
              0,
              "#0d0887"
             ],
             [
              0.1111111111111111,
              "#46039f"
             ],
             [
              0.2222222222222222,
              "#7201a8"
             ],
             [
              0.3333333333333333,
              "#9c179e"
             ],
             [
              0.4444444444444444,
              "#bd3786"
             ],
             [
              0.5555555555555556,
              "#d8576b"
             ],
             [
              0.6666666666666666,
              "#ed7953"
             ],
             [
              0.7777777777777778,
              "#fb9f3a"
             ],
             [
              0.8888888888888888,
              "#fdca26"
             ],
             [
              1,
              "#f0f921"
             ]
            ],
            "type": "contour"
           }
          ],
          "contourcarpet": [
           {
            "colorbar": {
             "outlinewidth": 0,
             "ticks": ""
            },
            "type": "contourcarpet"
           }
          ],
          "heatmap": [
           {
            "colorbar": {
             "outlinewidth": 0,
             "ticks": ""
            },
            "colorscale": [
             [
              0,
              "#0d0887"
             ],
             [
              0.1111111111111111,
              "#46039f"
             ],
             [
              0.2222222222222222,
              "#7201a8"
             ],
             [
              0.3333333333333333,
              "#9c179e"
             ],
             [
              0.4444444444444444,
              "#bd3786"
             ],
             [
              0.5555555555555556,
              "#d8576b"
             ],
             [
              0.6666666666666666,
              "#ed7953"
             ],
             [
              0.7777777777777778,
              "#fb9f3a"
             ],
             [
              0.8888888888888888,
              "#fdca26"
             ],
             [
              1,
              "#f0f921"
             ]
            ],
            "type": "heatmap"
           }
          ],
          "heatmapgl": [
           {
            "colorbar": {
             "outlinewidth": 0,
             "ticks": ""
            },
            "colorscale": [
             [
              0,
              "#0d0887"
             ],
             [
              0.1111111111111111,
              "#46039f"
             ],
             [
              0.2222222222222222,
              "#7201a8"
             ],
             [
              0.3333333333333333,
              "#9c179e"
             ],
             [
              0.4444444444444444,
              "#bd3786"
             ],
             [
              0.5555555555555556,
              "#d8576b"
             ],
             [
              0.6666666666666666,
              "#ed7953"
             ],
             [
              0.7777777777777778,
              "#fb9f3a"
             ],
             [
              0.8888888888888888,
              "#fdca26"
             ],
             [
              1,
              "#f0f921"
             ]
            ],
            "type": "heatmapgl"
           }
          ],
          "histogram": [
           {
            "marker": {
             "pattern": {
              "fillmode": "overlay",
              "size": 10,
              "solidity": 0.2
             }
            },
            "type": "histogram"
           }
          ],
          "histogram2d": [
           {
            "colorbar": {
             "outlinewidth": 0,
             "ticks": ""
            },
            "colorscale": [
             [
              0,
              "#0d0887"
             ],
             [
              0.1111111111111111,
              "#46039f"
             ],
             [
              0.2222222222222222,
              "#7201a8"
             ],
             [
              0.3333333333333333,
              "#9c179e"
             ],
             [
              0.4444444444444444,
              "#bd3786"
             ],
             [
              0.5555555555555556,
              "#d8576b"
             ],
             [
              0.6666666666666666,
              "#ed7953"
             ],
             [
              0.7777777777777778,
              "#fb9f3a"
             ],
             [
              0.8888888888888888,
              "#fdca26"
             ],
             [
              1,
              "#f0f921"
             ]
            ],
            "type": "histogram2d"
           }
          ],
          "histogram2dcontour": [
           {
            "colorbar": {
             "outlinewidth": 0,
             "ticks": ""
            },
            "colorscale": [
             [
              0,
              "#0d0887"
             ],
             [
              0.1111111111111111,
              "#46039f"
             ],
             [
              0.2222222222222222,
              "#7201a8"
             ],
             [
              0.3333333333333333,
              "#9c179e"
             ],
             [
              0.4444444444444444,
              "#bd3786"
             ],
             [
              0.5555555555555556,
              "#d8576b"
             ],
             [
              0.6666666666666666,
              "#ed7953"
             ],
             [
              0.7777777777777778,
              "#fb9f3a"
             ],
             [
              0.8888888888888888,
              "#fdca26"
             ],
             [
              1,
              "#f0f921"
             ]
            ],
            "type": "histogram2dcontour"
           }
          ],
          "mesh3d": [
           {
            "colorbar": {
             "outlinewidth": 0,
             "ticks": ""
            },
            "type": "mesh3d"
           }
          ],
          "parcoords": [
           {
            "line": {
             "colorbar": {
              "outlinewidth": 0,
              "ticks": ""
             }
            },
            "type": "parcoords"
           }
          ],
          "pie": [
           {
            "automargin": true,
            "type": "pie"
           }
          ],
          "scatter": [
           {
            "marker": {
             "line": {
              "color": "#283442"
             }
            },
            "type": "scatter"
           }
          ],
          "scatter3d": [
           {
            "line": {
             "colorbar": {
              "outlinewidth": 0,
              "ticks": ""
             }
            },
            "marker": {
             "colorbar": {
              "outlinewidth": 0,
              "ticks": ""
             }
            },
            "type": "scatter3d"
           }
          ],
          "scattercarpet": [
           {
            "marker": {
             "colorbar": {
              "outlinewidth": 0,
              "ticks": ""
             }
            },
            "type": "scattercarpet"
           }
          ],
          "scattergeo": [
           {
            "marker": {
             "colorbar": {
              "outlinewidth": 0,
              "ticks": ""
             }
            },
            "type": "scattergeo"
           }
          ],
          "scattergl": [
           {
            "marker": {
             "line": {
              "color": "#283442"
             }
            },
            "type": "scattergl"
           }
          ],
          "scattermapbox": [
           {
            "marker": {
             "colorbar": {
              "outlinewidth": 0,
              "ticks": ""
             }
            },
            "type": "scattermapbox"
           }
          ],
          "scatterpolar": [
           {
            "marker": {
             "colorbar": {
              "outlinewidth": 0,
              "ticks": ""
             }
            },
            "type": "scatterpolar"
           }
          ],
          "scatterpolargl": [
           {
            "marker": {
             "colorbar": {
              "outlinewidth": 0,
              "ticks": ""
             }
            },
            "type": "scatterpolargl"
           }
          ],
          "scatterternary": [
           {
            "marker": {
             "colorbar": {
              "outlinewidth": 0,
              "ticks": ""
             }
            },
            "type": "scatterternary"
           }
          ],
          "surface": [
           {
            "colorbar": {
             "outlinewidth": 0,
             "ticks": ""
            },
            "colorscale": [
             [
              0,
              "#0d0887"
             ],
             [
              0.1111111111111111,
              "#46039f"
             ],
             [
              0.2222222222222222,
              "#7201a8"
             ],
             [
              0.3333333333333333,
              "#9c179e"
             ],
             [
              0.4444444444444444,
              "#bd3786"
             ],
             [
              0.5555555555555556,
              "#d8576b"
             ],
             [
              0.6666666666666666,
              "#ed7953"
             ],
             [
              0.7777777777777778,
              "#fb9f3a"
             ],
             [
              0.8888888888888888,
              "#fdca26"
             ],
             [
              1,
              "#f0f921"
             ]
            ],
            "type": "surface"
           }
          ],
          "table": [
           {
            "cells": {
             "fill": {
              "color": "#506784"
             },
             "line": {
              "color": "rgb(17,17,17)"
             }
            },
            "header": {
             "fill": {
              "color": "#2a3f5f"
             },
             "line": {
              "color": "rgb(17,17,17)"
             }
            },
            "type": "table"
           }
          ]
         },
         "layout": {
          "annotationdefaults": {
           "arrowcolor": "#f2f5fa",
           "arrowhead": 0,
           "arrowwidth": 1
          },
          "autotypenumbers": "strict",
          "coloraxis": {
           "colorbar": {
            "outlinewidth": 0,
            "ticks": ""
           }
          },
          "colorscale": {
           "diverging": [
            [
             0,
             "#8e0152"
            ],
            [
             0.1,
             "#c51b7d"
            ],
            [
             0.2,
             "#de77ae"
            ],
            [
             0.3,
             "#f1b6da"
            ],
            [
             0.4,
             "#fde0ef"
            ],
            [
             0.5,
             "#f7f7f7"
            ],
            [
             0.6,
             "#e6f5d0"
            ],
            [
             0.7,
             "#b8e186"
            ],
            [
             0.8,
             "#7fbc41"
            ],
            [
             0.9,
             "#4d9221"
            ],
            [
             1,
             "#276419"
            ]
           ],
           "sequential": [
            [
             0,
             "#0d0887"
            ],
            [
             0.1111111111111111,
             "#46039f"
            ],
            [
             0.2222222222222222,
             "#7201a8"
            ],
            [
             0.3333333333333333,
             "#9c179e"
            ],
            [
             0.4444444444444444,
             "#bd3786"
            ],
            [
             0.5555555555555556,
             "#d8576b"
            ],
            [
             0.6666666666666666,
             "#ed7953"
            ],
            [
             0.7777777777777778,
             "#fb9f3a"
            ],
            [
             0.8888888888888888,
             "#fdca26"
            ],
            [
             1,
             "#f0f921"
            ]
           ],
           "sequentialminus": [
            [
             0,
             "#0d0887"
            ],
            [
             0.1111111111111111,
             "#46039f"
            ],
            [
             0.2222222222222222,
             "#7201a8"
            ],
            [
             0.3333333333333333,
             "#9c179e"
            ],
            [
             0.4444444444444444,
             "#bd3786"
            ],
            [
             0.5555555555555556,
             "#d8576b"
            ],
            [
             0.6666666666666666,
             "#ed7953"
            ],
            [
             0.7777777777777778,
             "#fb9f3a"
            ],
            [
             0.8888888888888888,
             "#fdca26"
            ],
            [
             1,
             "#f0f921"
            ]
           ]
          },
          "colorway": [
           "#636efa",
           "#EF553B",
           "#00cc96",
           "#ab63fa",
           "#FFA15A",
           "#19d3f3",
           "#FF6692",
           "#B6E880",
           "#FF97FF",
           "#FECB52"
          ],
          "font": {
           "color": "#f2f5fa"
          },
          "geo": {
           "bgcolor": "rgb(17,17,17)",
           "lakecolor": "rgb(17,17,17)",
           "landcolor": "rgb(17,17,17)",
           "showlakes": true,
           "showland": true,
           "subunitcolor": "#506784"
          },
          "hoverlabel": {
           "align": "left"
          },
          "hovermode": "closest",
          "mapbox": {
           "style": "dark"
          },
          "paper_bgcolor": "rgb(17,17,17)",
          "plot_bgcolor": "rgb(17,17,17)",
          "polar": {
           "angularaxis": {
            "gridcolor": "#506784",
            "linecolor": "#506784",
            "ticks": ""
           },
           "bgcolor": "rgb(17,17,17)",
           "radialaxis": {
            "gridcolor": "#506784",
            "linecolor": "#506784",
            "ticks": ""
           }
          },
          "scene": {
           "xaxis": {
            "backgroundcolor": "rgb(17,17,17)",
            "gridcolor": "#506784",
            "gridwidth": 2,
            "linecolor": "#506784",
            "showbackground": true,
            "ticks": "",
            "zerolinecolor": "#C8D4E3"
           },
           "yaxis": {
            "backgroundcolor": "rgb(17,17,17)",
            "gridcolor": "#506784",
            "gridwidth": 2,
            "linecolor": "#506784",
            "showbackground": true,
            "ticks": "",
            "zerolinecolor": "#C8D4E3"
           },
           "zaxis": {
            "backgroundcolor": "rgb(17,17,17)",
            "gridcolor": "#506784",
            "gridwidth": 2,
            "linecolor": "#506784",
            "showbackground": true,
            "ticks": "",
            "zerolinecolor": "#C8D4E3"
           }
          },
          "shapedefaults": {
           "line": {
            "color": "#f2f5fa"
           }
          },
          "sliderdefaults": {
           "bgcolor": "#C8D4E3",
           "bordercolor": "rgb(17,17,17)",
           "borderwidth": 1,
           "tickwidth": 0
          },
          "ternary": {
           "aaxis": {
            "gridcolor": "#506784",
            "linecolor": "#506784",
            "ticks": ""
           },
           "baxis": {
            "gridcolor": "#506784",
            "linecolor": "#506784",
            "ticks": ""
           },
           "bgcolor": "rgb(17,17,17)",
           "caxis": {
            "gridcolor": "#506784",
            "linecolor": "#506784",
            "ticks": ""
           }
          },
          "title": {
           "x": 0.05
          },
          "updatemenudefaults": {
           "bgcolor": "#506784",
           "borderwidth": 0
          },
          "xaxis": {
           "automargin": true,
           "gridcolor": "#283442",
           "linecolor": "#506784",
           "ticks": "",
           "title": {
            "standoff": 15
           },
           "zerolinecolor": "#283442",
           "zerolinewidth": 2
          },
          "yaxis": {
           "automargin": true,
           "gridcolor": "#283442",
           "linecolor": "#506784",
           "ticks": "",
           "title": {
            "standoff": 15
           },
           "zerolinecolor": "#283442",
           "zerolinewidth": 2
          }
         }
        },
        "xaxis": {
         "title": {
          "text": "Date"
         }
        },
        "yaxis": {
         "rangemode": "tozero",
         "title": {
          "text": "Mood"
         }
        }
       }
      }
     },
     "metadata": {},
     "output_type": "display_data"
    }
   ],
   "source": [
    "df.mood_graph()"
   ]
  }
 ],
 "metadata": {
  "kernelspec": {
   "display_name": "thevenv",
   "language": "python",
   "name": "python3"
  },
  "language_info": {
   "codemirror_mode": {
    "name": "ipython",
    "version": 3
   },
   "file_extension": ".py",
   "mimetype": "text/x-python",
   "name": "python",
   "nbconvert_exporter": "python",
   "pygments_lexer": "ipython3",
   "version": "3.12.0"
  },
  "orig_nbformat": 4
 },
 "nbformat": 4,
 "nbformat_minor": 2
}
