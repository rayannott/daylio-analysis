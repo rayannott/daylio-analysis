{
 "cells": [
  {
   "cell_type": "code",
   "execution_count": 1,
   "metadata": {
    "metadata": {}
   },
   "outputs": [
    {
     "name": "stdout",
     "output_type": "stream",
     "text": [
      "using file daylio_export_2024_05_16.csv\n",
      "Dataset(1027 entries; last [1 month 3 days 5 hours 39 minutes 38 seconds ago]; mood: 3.800 ± 0.547)\n"
     ]
    },
    {
     "data": {
      "text/plain": [
       "Mood: 3.800 ± 0.547\n",
       "Note length: 45.388 ± 55.985 symbols\n",
       "Entries frequency: 5.486 entries per day (once every 4 hours 22 minutes 30 seconds)"
      ]
     },
     "execution_count": 1,
     "metadata": {},
     "output_type": "execute_result"
    }
   ],
   "source": [
    "import pathlib\n",
    "from dataset import Dataset, BAD_MOOD\n",
    "\n",
    "DATA_DIR = pathlib.Path('data')\n",
    "path = next(DATA_DIR.glob('*.csv'))\n",
    "print('using file', path.name)\n",
    "\n",
    "df = Dataset(csv_file_path=path)\n",
    "df.stats()"
   ]
  },
  {
   "cell_type": "markdown",
   "metadata": {},
   "source": [
    "# API"
   ]
  },
  {
   "cell_type": "markdown",
   "metadata": {},
   "source": [
    "### `.head`"
   ]
  },
  {
   "cell_type": "markdown",
   "metadata": {},
   "source": [
    "Use the `.head` method to look at the latest entries of the dataset"
   ]
  },
  {
   "cell_type": "code",
   "execution_count": 2,
   "metadata": {
    "metadata": {}
   },
   "outputs": [
    {
     "name": "stdout",
     "output_type": "stream",
     "text": [
      "Dataset(1158 entries; last [1 hour 59 minutes 36 seconds ago]; mood: 3.810 ± 0.537)\n",
      "[13.06.2024 21:20] 4.5 Leha, excited, factorio, friends, happy, home, relaxed\n",
      "[13.06.2024 17:08] 4.0 coding, relaxed, work\n",
      "[13.06.2024 13:50] 4.0 coding, excited, relaxed, satisfied, work, worked\n",
      "[12.06.2024 21:39] 4.0 Azat, excited, factorio, home, relaxed, satisfied\n",
      "[12.06.2024 18:50] 4.0 amused, bored, home, movies & series, relaxed\n",
      "...\n"
     ]
    }
   ],
   "source": [
    "df.head()"
   ]
  },
  {
   "cell_type": "code",
   "execution_count": 3,
   "metadata": {
    "metadata": {}
   },
   "outputs": [
    {
     "name": "stdout",
     "output_type": "stream",
     "text": [
      "Dataset(1158 entries; last [1 hour 59 minutes 41 seconds ago]; mood: 3.810 ± 0.537)\n",
      "[13.06.2024 21:20] 4.5 Leha, excited, factorio, friends, happy, home, relaxed\n",
      "[13.06.2024 17:08] 4.0 coding, relaxed, work\n",
      "...\n"
     ]
    }
   ],
   "source": [
    "df.head(2)"
   ]
  },
  {
   "cell_type": "code",
   "execution_count": null,
   "metadata": {
    "metadata": {}
   },
   "outputs": [],
   "source": [
    "# prints all entries\n",
    "df.head(-1)"
   ]
  },
  {
   "cell_type": "markdown",
   "metadata": {},
   "source": [
    "### `.sub`"
   ]
  },
  {
   "cell_type": "markdown",
   "metadata": {},
   "source": [
    "Use the `.sub` method to filter entries and get a subset of the original dataset"
   ]
  },
  {
   "cell_type": "markdown",
   "metadata": {},
   "source": [
    "- by included activities ('or' operator: all the entries which have at least one of the listed activities)"
   ]
  },
  {
   "cell_type": "code",
   "execution_count": 4,
   "metadata": {
    "metadata": {}
   },
   "outputs": [
    {
     "name": "stdout",
     "output_type": "stream",
     "text": [
      "Dataset(86 entries; last [5 days 7 hours 36 minutes 32 seconds ago]; mood: 4.157 ± 0.549)\n",
      "[08.06.2024 15:44] 4.5 city, cycling, happy, relaxed, satisfied\n",
      "[27.05.2024 15:46] 4.0 city, relaxed, satisfied, shopping, walking\n",
      "[22.05.2024 18:25] 4.0 Lauren, city, date\n",
      "[12.05.2024 18:57] 4.5 city, cycling, happy, satisfied, tired\n",
      "[14.04.2024 13:05] 4.0 city, cycling, satisfied, tired, worried\n",
      "...\n"
     ]
    }
   ],
   "source": [
    "cycling_or_city_df = df.sub(include={'cycling', 'city'})\n",
    "cycling_or_city_df.head()"
   ]
  },
  {
   "cell_type": "markdown",
   "metadata": {},
   "source": [
    "- by excluded activities (entries which don't have any of the listed activities)\n",
    "\n",
    "_for both `include` and `exclude` the argument can be either `str` or `set[str]`_"
   ]
  },
  {
   "cell_type": "code",
   "execution_count": 5,
   "metadata": {
    "metadata": {}
   },
   "outputs": [
    {
     "name": "stdout",
     "output_type": "stream",
     "text": [
      "Dataset(1032 entries; last [6 hours 12 minutes 41 seconds ago]; mood: 3.790 ± 0.533)\n",
      "[13.06.2024 17:08] 4.0 coding, relaxed, work\n",
      "[13.06.2024 13:50] 4.0 coding, excited, relaxed, satisfied, work, worked\n",
      "[12.06.2024 21:39] 4.0 Azat, excited, factorio, home, relaxed, satisfied\n",
      "[12.06.2024 18:50] 4.0 amused, bored, home, movies & series, relaxed\n",
      "[12.06.2024 15:13] 4.5 Azat, factorio, happy, home, relaxed, satisfied\n",
      "...\n"
     ]
    }
   ],
   "source": [
    "without_friends = df.sub(exclude='friends')\n",
    "without_friends.head()"
   ]
  },
  {
   "cell_type": "markdown",
   "metadata": {},
   "source": [
    "- by mood values (can be either a value or a Container of values)"
   ]
  },
  {
   "cell_type": "code",
   "execution_count": 6,
   "metadata": {
    "metadata": {}
   },
   "outputs": [
    {
     "data": {
      "text/plain": [
       "Dataset(36 entries; last [1 month 28 days 22 hours 41 minutes 45 seconds ago]; mood: 2.278 ± 0.252)"
      ]
     },
     "execution_count": 6,
     "metadata": {},
     "output_type": "execute_result"
    }
   ],
   "source": [
    "bad_mood = df.sub(mood=BAD_MOOD)\n",
    "bad_mood"
   ]
  },
  {
   "cell_type": "markdown",
   "metadata": {},
   "source": [
    "- by included activities ('and' operator: all entries which have all the listed activities)\n",
    "\n",
    "_Note: this is achieved by subscribing the dataset twice; since .sub method returns a new dataset, it can be done in one line._"
   ]
  },
  {
   "cell_type": "code",
   "execution_count": 7,
   "metadata": {
    "metadata": {}
   },
   "outputs": [
    {
     "name": "stdout",
     "output_type": "stream",
     "text": [
      "Dataset(10 entries; last [8 months 19 hours 10 minutes 47 seconds ago]; mood: 4.850 ± 0.474)\n",
      "[13.10.2023 20:10] 5.0 cycling, swimming, tired\n",
      "[16.09.2023 20:58] 5.0 cycling, relaxed, satisfied, swimming, tired\n",
      "[04.09.2023 20:44] 5.0 Damir, cycling, relaxed, satisfied, swimming, tired\n",
      "[22.08.2023 20:27] 5.0 cycling, friends, satisfied, swimming, tired\n",
      "[19.08.2023 20:32] 5.0 Damir, cycling, friends, relaxed, swimming, tired\n",
      "...\n",
      "[('tired', 10), ('cycling', 10), ('swimming', 10), ('satisfied', 7), ('relaxed', 6), ('friends', 6), ('Damir', 5)]\n"
     ]
    }
   ],
   "source": [
    "cycling_and_swimming = df.sub(include='cycling').sub(include='swimming')\n",
    "cycling_and_swimming.head()\n",
    "print(cycling_and_swimming.activities().most_common(7))"
   ]
  },
  {
   "cell_type": "code",
   "execution_count": 8,
   "metadata": {
    "metadata": {}
   },
   "outputs": [
    {
     "data": {
      "text/plain": [
       "Dataset(32 entries; last [5 days 7 hours 36 minutes 49 seconds ago]; mood: 4.141 ± 0.585)"
      ]
     },
     "execution_count": 8,
     "metadata": {},
     "output_type": "execute_result"
    }
   ],
   "source": [
    "df.sub(include='cycling', exclude='swimming')"
   ]
  },
  {
   "cell_type": "markdown",
   "metadata": {},
   "source": [
    "- by a subtring (or substrings) in the `note`"
   ]
  },
  {
   "cell_type": "code",
   "execution_count": 9,
   "metadata": {
    "metadata": {}
   },
   "outputs": [
    {
     "name": "stdout",
     "output_type": "stream",
     "text": [
      "Dataset(6 entries; last [1 month 5 days 21 hours 45 minutes 54 seconds ago]; mood: 3.833 ± 0.258)\n",
      "[08.05.2024 15:35] 3.5 Leha, annoyed, excited, friends, gaming, unsure\n",
      "[08.03.2024 17:26] 4.0 Leha, amused, annoyed, friends, gaming, happy, home, satisfied\n",
      "[22.11.2023 21:41] 4.0 Leha, Martina, amused, gaming, home, movies & series, satisfied\n",
      "[07.07.2023 20:00] 3.5 Leha, coding, dota, friends, gaming, shopping, study, unsure, walking\n",
      "[03.07.2023 20:05] 4.0 Leha, coding, excited, friends, gaming, happy, home, stressed, tired\n",
      "[01.07.2023 20:00] 4.0 Leha, Martina, excited, friends, gaming, happy, home, movies & series, relaxed\n"
     ]
    }
   ],
   "source": [
    "df_ktane = df.sub(note_contains='ktane')\n",
    "df_ktane.head(-1)"
   ]
  },
  {
   "cell_type": "markdown",
   "metadata": {},
   "source": [
    "- by a predicate function (which takes an entry as an argument and returns a boolean)"
   ]
  },
  {
   "cell_type": "code",
   "execution_count": 10,
   "metadata": {
    "metadata": {}
   },
   "outputs": [
    {
     "data": {
      "text/plain": [
       "Dataset(30 entries; last [4 days 7 hours 55 minutes 1 second ago]; mood: 4.683 ± 0.245)"
      ]
     },
     "execution_count": 10,
     "metadata": {},
     "output_type": "execute_result"
    }
   ],
   "source": [
    "from dataset import Entry\n",
    "\n",
    "\n",
    "def pred(entry: Entry) -> bool:\n",
    "    \"\"\"It is sunday, the mood > 4, the note is not empty\"\"\"\n",
    "    return entry.full_date.weekday() == 6 and entry.mood > 4 and entry.note != ''\n",
    "\n",
    "\n",
    "df_sunday_good_mood_has_note = df.sub(predicate=pred)\n",
    "df_sunday_good_mood_has_note"
   ]
  },
  {
   "cell_type": "markdown",
   "metadata": {},
   "source": [
    "### `.mood` and `.std`"
   ]
  },
  {
   "cell_type": "markdown",
   "metadata": {},
   "source": [
    "Use the `.mood` method to get the average mood of all the entries in the dataset and the `.std` method to get the standard deviation of the mood values.\n",
    "\n",
    "These values are also shown when calling `.head()`."
   ]
  },
  {
   "cell_type": "code",
   "execution_count": 13,
   "metadata": {
    "metadata": {}
   },
   "outputs": [
    {
     "name": "stdout",
     "output_type": "stream",
     "text": [
      "4.157 ± 0.549\n"
     ]
    }
   ],
   "source": [
    "print(f\"{cycling_or_city_df.mood():.3f} \\u00B1 {cycling_or_city_df.std():.3f}\")"
   ]
  },
  {
   "cell_type": "markdown",
   "metadata": {},
   "source": [
    "or just use `.mood_std`:"
   ]
  },
  {
   "cell_type": "code",
   "execution_count": 13,
   "metadata": {
    "metadata": {}
   },
   "outputs": [
    {
     "name": "stdout",
     "output_type": "stream",
     "text": [
      "4.157 ± 0.557\n"
     ]
    }
   ],
   "source": [
    "print(cycling_or_city_df.mood_std())"
   ]
  },
  {
   "cell_type": "markdown",
   "metadata": {},
   "source": [
    "### `.activities`"
   ]
  },
  {
   "cell_type": "markdown",
   "metadata": {},
   "source": [
    "Use the `.activities` method to get a Counter object of all activities in the dataset"
   ]
  },
  {
   "cell_type": "code",
   "execution_count": 18,
   "metadata": {
    "metadata": {}
   },
   "outputs": [
    {
     "name": "stdout",
     "output_type": "stream",
     "text": [
      "most common: [('home', 674), ('relaxed', 417), ('satisfied', 400)]\n",
      "least common: [('cinema', 3), ('reading', 3), ('photography', 3), ('guitar', 3), ('Dad', 3)]\n"
     ]
    }
   ],
   "source": [
    "cnt = df.activities()\n",
    "print(f'most common: {cnt.most_common(3)}')\n",
    "print(f'least common: {cnt.most_common()[-1:-6:-1]}')"
   ]
  },
  {
   "cell_type": "markdown",
   "metadata": {},
   "source": [
    "### `.get_datetimes`"
   ]
  },
  {
   "cell_type": "markdown",
   "metadata": {},
   "source": [
    "Use the `.get_datetimes` method to get the list of all points in time when an entry was created. The values are sorted in descending order by the date of creation."
   ]
  },
  {
   "cell_type": "code",
   "execution_count": 19,
   "metadata": {
    "metadata": {}
   },
   "outputs": [
    {
     "data": {
      "text/plain": [
       "[datetime.datetime(2024, 6, 13, 21, 20),\n",
       " datetime.datetime(2024, 6, 13, 17, 8),\n",
       " datetime.datetime(2024, 6, 13, 13, 50),\n",
       " datetime.datetime(2024, 6, 12, 21, 39),\n",
       " datetime.datetime(2024, 6, 12, 18, 50)]"
      ]
     },
     "execution_count": 19,
     "metadata": {},
     "output_type": "execute_result"
    }
   ],
   "source": [
    "df.get_datetimes()[:5]"
   ]
  },
  {
   "cell_type": "markdown",
   "metadata": {},
   "source": [
    "### `.group_by`\n",
    "Use the `.group_by` method to get a dictionary mapping groups to the list of entries in that group.\n",
    "\n",
    "The groups are one of `['day', 'month']` and the entries are sorted in ascending order.\n",
    "\n",
    "Note: this method (like many others) uses lru_cache and since the Dataset is weakly-immutable, it is safe to use it."
   ]
  },
  {
   "cell_type": "code",
   "execution_count": 20,
   "metadata": {
    "metadata": {}
   },
   "outputs": [
    {
     "name": "stdout",
     "output_type": "stream",
     "text": [
      "2023-07-01: 1\n"
     ]
    }
   ],
   "source": [
    "groups = df.group_by('day')\n",
    "for day, entries in groups.items():\n",
    "    print(f'{day}: {len(entries)}')\n",
    "    break"
   ]
  },
  {
   "cell_type": "code",
   "execution_count": 21,
   "metadata": {
    "metadata": {}
   },
   "outputs": [
    {
     "name": "stdout",
     "output_type": "stream",
     "text": [
      "2023-07-01: 95\n"
     ]
    }
   ],
   "source": [
    "groups = df.group_by('month')\n",
    "for day, entries in groups.items():\n",
    "    print(f'{day}: {len(entries)}')\n",
    "    break"
   ]
  },
  {
   "cell_type": "markdown",
   "metadata": {},
   "source": [
    "### `.stats`\n",
    "\n",
    "Use the `.stats` method to get a custom StatsResult object which contains the following information:"
   ]
  },
  {
   "cell_type": "code",
   "execution_count": 22,
   "metadata": {
    "metadata": {}
   },
   "outputs": [
    {
     "name": "stdout",
     "output_type": "stream",
     "text": [
      "Help on method stats in module dataset:\n",
      "\n",
      "stats() -> utils.StatsResult method of dataset.Dataset instance\n",
      "    Returns the following statistics:\n",
      "        - mood (avg ± std)\n",
      "        - note length [num symbols] (avg ± std)\n",
      "        - entries frequency [entries per day] (median)\n",
      "    as a StatsResult object.\n",
      "\n"
     ]
    }
   ],
   "source": [
    "help(df.stats)"
   ]
  },
  {
   "cell_type": "code",
   "execution_count": 23,
   "metadata": {
    "metadata": {}
   },
   "outputs": [
    {
     "data": {
      "text/plain": [
       "Mood: 3.763 ± 0.492\n",
       "Note length: 38.908 ± 57.684 symbols\n",
       "Entries frequency: 3.978 entries per day (once every 6 hours 2 minutes)"
      ]
     },
     "execution_count": 23,
     "metadata": {},
     "output_type": "execute_result"
    }
   ],
   "source": [
    "df.sub(include='home').stats()"
   ]
  },
  {
   "cell_type": "markdown",
   "metadata": {},
   "source": [
    "### `.__iter__`\n",
    "`Dataset` defines `__iter__` method, so it can be used in `for` loops. The entries are sorted in descending order by the date of creation."
   ]
  },
  {
   "cell_type": "code",
   "execution_count": 4,
   "metadata": {
    "metadata": {}
   },
   "outputs": [
    {
     "name": "stdout",
     "output_type": "stream",
     "text": [
      "[15.05.2024 21:05] 4.5 Lauren, date, happy, relaxed, satisfied\n",
      "[15.05.2024 21:05] 4.5 Lauren, date, happy, relaxed, satisfied; [15.05.2024 19:52] 3.5 Lauren, annoyed, date, relaxed, unsure\n"
     ]
    }
   ],
   "source": [
    "for entry in df:\n",
    "    print(entry)\n",
    "    break\n",
    "# or\n",
    "df_iter = iter(df)\n",
    "print(next(df_iter), next(df_iter), sep='; ')"
   ]
  },
  {
   "cell_type": "markdown",
   "metadata": {},
   "source": [
    "### `.__getitem__`\n",
    "`Dataset` defines `__getitem__` method where the argument is \n",
    "- a date in a string format (e.g. `'01.01.2024'`), returns a new Dataset with all entries on that date;\n",
    "- a slice object (e.g. `slice('01.01.2024', '01.01.2025')`), returns a new Dataset with all entries which were created between the two dates (the \"stop\" date is not included);"
   ]
  },
  {
   "cell_type": "code",
   "execution_count": 25,
   "metadata": {
    "metadata": {}
   },
   "outputs": [],
   "source": [
    "july22 = df['22.07.2023']"
   ]
  },
  {
   "cell_type": "code",
   "execution_count": 26,
   "metadata": {
    "metadata": {}
   },
   "outputs": [
    {
     "data": {
      "text/plain": [
       "Dataset(6 entries; last [10 months 22 days 21 hours 7 minutes 40 seconds ago]; mood: 3.583 ± 0.376)"
      ]
     },
     "execution_count": 26,
     "metadata": {},
     "output_type": "execute_result"
    }
   ],
   "source": [
    "july22"
   ]
  },
  {
   "cell_type": "markdown",
   "metadata": {},
   "source": [
    "- by a particular date period (by using slices)"
   ]
  },
  {
   "cell_type": "code",
   "execution_count": 27,
   "metadata": {
    "metadata": {}
   },
   "outputs": [
    {
     "data": {
      "text/plain": [
       "Dataset(16 entries; last [5 months 10 days 21 hours 29 minutes 42 seconds ago]; mood: 3.969 ± 0.499)"
      ]
     },
     "execution_count": 27,
     "metadata": {},
     "output_type": "execute_result"
    }
   ],
   "source": [
    "ny_eve = df['29.12.2023':'03.01.2024']\n",
    "ny_eve"
   ]
  },
  {
   "cell_type": "code",
   "execution_count": 28,
   "metadata": {
    "metadata": {}
   },
   "outputs": [
    {
     "name": "stdout",
     "output_type": "stream",
     "text": [
      "Dataset(5 entries; last [6 months 13 days 11 hours 47 minutes 45 seconds ago]; mood: 3.700 ± 0.274)\n",
      "[30.11.2023 23:37] 3.5 Lauren, city, date, tired\n",
      "[30.11.2023 17:06] 4.0 coding, excited, home, satisfied\n",
      "[30.11.2023 11:07] 3.5 Leha, coding, home, unsure\n",
      "[29.11.2023 21:20] 3.5 Azat, Leha, amused, gaming, social\n",
      "[29.11.2023 16:42] 4.0 coding, excited, happy, home, satisfied\n"
     ]
    }
   ],
   "source": [
    "end_of_november_2023 = df['29.11.2023':'01.12.2023']\n",
    "end_of_november_2023.head()"
   ]
  },
  {
   "cell_type": "code",
   "execution_count": 29,
   "metadata": {
    "metadata": {}
   },
   "outputs": [
    {
     "name": "stdout",
     "output_type": "stream",
     "text": [
      "Dataset(95 entries; last [10 months 14 days 30 minutes 47 seconds ago]; mood: 3.589 ± 0.688)\n",
      "[31.07.2023 18:54] 3.5 cleaning, relaxed\n",
      "[31.07.2023 17:22] 3.0 home, study, tired, unsure\n",
      "[31.07.2023 16:45] 4.0 cooking, home, relaxed, satisfied, study\n",
      "[31.07.2023 12:00] 3.5 bored, home, procrastinating, relaxed, unsure\n",
      "[30.07.2023 23:26] 4.0 Lauren, amused, friends, grateful, happy, home, laundry\n",
      "...\n"
     ]
    }
   ],
   "source": [
    "before_aug_2023 = df[:'01.08.2023']\n",
    "before_aug_2023.head()"
   ]
  },
  {
   "cell_type": "markdown",
   "metadata": {},
   "source": [
    "### `__call__`\n",
    "Return a list of entries for a particular day. The argument is a date in a string format (e.g. `'01.01.2024'`)."
   ]
  },
  {
   "cell_type": "code",
   "execution_count": 30,
   "metadata": {
    "metadata": {}
   },
   "outputs": [
    {
     "data": {
      "text/plain": [
       "[[31.12.2023 16:48] 4.5 Lauren, cooking, date, excited, happy, home, movies & series,\n",
       " [31.12.2023 16:48] 2.5 Lauren, annoyed, city, date, photography, sad,\n",
       " [31.12.2023 21:51] 3.5 Lauren, cooking, date, home, movies & series, satisfied,\n",
       " [31.12.2023 22:21] 4.0 Dad, Mom, family, happy, home, nervous,\n",
       " [31.12.2023 23:57] 4.0 Lauren, date, happy]"
      ]
     },
     "execution_count": 30,
     "metadata": {},
     "output_type": "execute_result"
    }
   ],
   "source": [
    "ny_entries = df('31.12.2023')\n",
    "ny_entries"
   ]
  },
  {
   "cell_type": "markdown",
   "metadata": {},
   "source": [
    "### `@ <datetime-like>` (or `.at`)\n",
    "Returns a single entry created at a particular datetime or `None` if there is no entry at that datetime.\n",
    "\n",
    "Input: a datetime in a string format (e.g. `'01.01.2024 12:00'`) or a `datetime.datetime` object."
   ]
  },
  {
   "cell_type": "code",
   "execution_count": 11,
   "metadata": {
    "metadata": {}
   },
   "outputs": [
    {
     "name": "stdout",
     "output_type": "stream",
     "text": [
      "[22.07.2023 17:09] 3.5 cooking, home, relaxed, study\n"
     ]
    }
   ],
   "source": [
    "import datetime\n",
    "\n",
    "# or\n",
    "entry1 = df @ '22.07.2023 17:09' # or df.at(...)\n",
    "entry2 = df @ datetime.datetime(2023, 7, 22, 17, 9) # or df.at(...)\n",
    "\n",
    "assert entry1 == entry2\n",
    "print(entry1)"
   ]
  },
  {
   "cell_type": "markdown",
   "metadata": {},
   "source": [
    "# Analysis examples"
   ]
  },
  {
   "cell_type": "markdown",
   "metadata": {},
   "source": [
    "## Mood analysis"
   ]
  },
  {
   "cell_type": "code",
   "execution_count": 31,
   "metadata": {
    "metadata": {}
   },
   "outputs": [
    {
     "data": {
      "text/plain": [
       "MoodWithWithout(mood_std_with=4.310 ± 0.634, mood_std_without=3.791 ± 0.524)"
      ]
     },
     "execution_count": 31,
     "metadata": {},
     "output_type": "execute_result"
    }
   ],
   "source": [
    "activity = 'cycling'\n",
    "mood_with_without = df.mood_with_without(activity)\n",
    "mood_with_without"
   ]
  },
  {
   "cell_type": "code",
   "execution_count": 32,
   "metadata": {
    "metadata": {}
   },
   "outputs": [
    {
     "name": "stdout",
     "output_type": "stream",
     "text": [
      "cycling\n",
      "with: 4.310 ± 0.634\n",
      "without: 3.791 ± 0.524\n",
      "change: 13.67%\n"
     ]
    }
   ],
   "source": [
    "print(activity, mood_with_without, sep='\\n')"
   ]
  },
  {
   "cell_type": "markdown",
   "metadata": {},
   "source": [
    "## Complete analysis"
   ]
  },
  {
   "cell_type": "code",
   "execution_count": 33,
   "metadata": {
    "metadata": {}
   },
   "outputs": [],
   "source": [
    "complete_analysis = df.complete_analysis()"
   ]
  },
  {
   "cell_type": "code",
   "execution_count": null,
   "metadata": {
    "metadata": {}
   },
   "outputs": [],
   "source": [
    "print(f'analysed {len(complete_analysis)} actvities')\n",
    "for _name, _mood_with_without, _num_occ in complete_analysis[:8] + complete_analysis[-8:]:\n",
    "    print(f'[{_name:^15}]: {_mood_with_without.calc_change():.1%} (with: {_mood_with_without.mood_std_with}, without: {_mood_with_without.mood_std_without}); occured {_num_occ} times')"
   ]
  },
  {
   "cell_type": "markdown",
   "metadata": {},
   "source": [
    "## Mood scatter plot (per day/month)"
   ]
  },
  {
   "cell_type": "code",
   "execution_count": 35,
   "metadata": {
    "metadata": {}
   },
   "outputs": [
    {
     "data": {
      "application/vnd.plotly.v1+json": {
       "config": {
        "plotlyServerURL": "https://plot.ly"
       },
       "data": [
        {
         "line": {
          "color": "rgb(31, 119, 180)",
          "shape": "spline"
         },
         "marker": {
          "color": [
           1,
           1,
           2,
           1,
           1,
           2,
           1,
           3,
           3,
           2,
           2,
           2,
           3,
           2,
           1,
           1,
           4,
           5,
           4,
           4,
           7,
           6,
           4,
           3,
           5,
           5,
           4,
           5,
           3,
           4,
           4,
           8,
           5,
           6,
           3,
           4,
           4,
           5,
           6,
           4,
           4,
           5,
           3,
           5,
           1,
           2,
           3,
           1,
           2,
           3,
           2,
           3,
           3,
           1,
           2,
           2,
           1,
           2,
           2,
           2,
           2,
           1,
           2,
           3,
           3,
           1,
           2,
           2,
           1,
           2,
           1,
           2,
           2,
           2,
           2,
           2,
           3,
           1,
           2,
           1,
           1,
           2,
           2,
           3,
           2,
           1,
           2,
           1,
           3,
           1,
           2,
           4,
           5,
           2,
           2,
           2,
           2,
           4,
           3,
           2,
           1,
           3,
           1,
           1,
           2,
           1,
           2,
           2,
           1,
           4,
           3,
           2,
           1,
           1,
           3,
           2,
           2,
           2,
           4,
           2,
           2,
           3,
           4,
           5,
           3,
           5,
           6,
           4,
           3,
           6,
           4,
           3,
           6,
           3,
           4,
           4,
           5,
           3,
           4,
           4,
           2,
           5,
           2,
           1,
           2,
           2,
           4,
           2,
           2,
           3,
           7,
           2,
           3,
           3,
           4,
           4,
           1,
           2,
           2,
           2,
           3,
           5,
           2,
           1,
           2,
           6,
           3,
           3,
           2,
           4,
           4,
           3,
           3,
           5,
           3,
           4,
           2,
           2,
           5,
           3,
           2,
           3,
           2,
           5,
           3,
           3,
           2,
           5,
           3,
           2,
           3,
           1,
           1,
           2,
           3,
           3,
           4,
           4,
           1,
           3,
           3,
           2,
           1,
           3,
           1,
           6,
           3,
           5,
           5,
           5,
           4,
           2,
           5,
           3,
           3,
           3,
           3,
           3,
           5,
           5,
           4,
           4,
           5,
           5,
           2,
           2,
           3,
           5,
           4,
           5,
           6,
           3,
           4,
           4,
           2,
           3,
           3,
           4,
           3,
           4,
           3,
           5,
           3,
           3,
           3,
           7,
           3,
           2,
           4,
           2,
           3,
           6,
           8,
           2,
           2,
           3,
           5,
           7,
           5,
           7,
           3,
           5,
           3,
           2,
           3,
           1,
           5,
           4,
           3,
           6,
           3,
           4,
           4,
           4,
           4,
           5,
           3,
           2,
           6,
           4,
           4,
           7,
           5,
           3,
           3,
           4,
           8,
           4,
           6,
           5,
           5,
           7,
           2,
           5,
           2,
           3,
           3,
           2,
           4,
           3,
           5,
           4,
           3,
           3,
           1,
           3,
           1,
           3,
           4,
           6,
           5,
           3,
           4,
           2,
           2,
           6,
           4,
           4,
           3,
           6,
           5,
           4,
           5,
           3,
           4,
           2,
           4,
           4,
           6,
           4,
           6,
           6,
           4,
           5,
           5,
           3,
           4,
           4,
           6,
           4,
           4,
           5,
           5,
           7,
           6,
           4,
           5,
           4,
           3
          ],
          "colorbar": {
           "title": {
            "text": "Number of entries"
           }
          },
          "colorscale": [
           [
            0,
            "rgb(0,0,255)"
           ],
           [
            1,
            "rgb(255,0,0)"
           ]
          ],
          "showscale": true,
          "size": 5
         },
         "mode": "lines+markers",
         "name": "avg",
         "type": "scatter",
         "x": [
          "2023-07-01",
          "2023-07-02",
          "2023-07-03",
          "2023-07-04",
          "2023-07-05",
          "2023-07-06",
          "2023-07-07",
          "2023-07-08",
          "2023-07-09",
          "2023-07-10",
          "2023-07-11",
          "2023-07-12",
          "2023-07-13",
          "2023-07-14",
          "2023-07-15",
          "2023-07-16",
          "2023-07-17",
          "2023-07-18",
          "2023-07-19",
          "2023-07-20",
          "2023-07-21",
          "2023-07-22",
          "2023-07-23",
          "2023-07-24",
          "2023-07-25",
          "2023-07-26",
          "2023-07-27",
          "2023-07-28",
          "2023-07-29",
          "2023-07-30",
          "2023-07-31",
          "2023-08-01",
          "2023-08-02",
          "2023-08-03",
          "2023-08-04",
          "2023-08-05",
          "2023-08-06",
          "2023-08-07",
          "2023-08-08",
          "2023-08-09",
          "2023-08-10",
          "2023-08-11",
          "2023-08-12",
          "2023-08-13",
          "2023-08-14",
          "2023-08-15",
          "2023-08-16",
          "2023-08-17",
          "2023-08-18",
          "2023-08-19",
          "2023-08-20",
          "2023-08-21",
          "2023-08-22",
          "2023-08-23",
          "2023-08-24",
          "2023-08-25",
          "2023-08-26",
          "2023-08-27",
          "2023-08-28",
          "2023-08-29",
          "2023-08-30",
          "2023-08-31",
          "2023-09-01",
          "2023-09-02",
          "2023-09-03",
          "2023-09-04",
          "2023-09-05",
          "2023-09-06",
          "2023-09-07",
          "2023-09-08",
          "2023-09-09",
          "2023-09-10",
          "2023-09-11",
          "2023-09-12",
          "2023-09-13",
          "2023-09-14",
          "2023-09-15",
          "2023-09-16",
          "2023-09-17",
          "2023-09-18",
          "2023-09-19",
          "2023-09-20",
          "2023-09-21",
          "2023-09-22",
          "2023-09-23",
          "2023-09-24",
          "2023-09-25",
          "2023-09-26",
          "2023-09-27",
          "2023-09-28",
          "2023-09-29",
          "2023-09-30",
          "2023-10-01",
          "2023-10-02",
          "2023-10-03",
          "2023-10-04",
          "2023-10-05",
          "2023-10-06",
          "2023-10-07",
          "2023-10-08",
          "2023-10-09",
          "2023-10-10",
          "2023-10-11",
          "2023-10-12",
          "2023-10-13",
          "2023-10-14",
          "2023-10-15",
          "2023-10-16",
          "2023-10-17",
          "2023-10-18",
          "2023-10-19",
          "2023-10-20",
          "2023-10-21",
          "2023-10-22",
          "2023-10-23",
          "2023-10-24",
          "2023-10-25",
          "2023-10-26",
          "2023-10-27",
          "2023-10-28",
          "2023-10-29",
          "2023-10-30",
          "2023-10-31",
          "2023-11-01",
          "2023-11-02",
          "2023-11-03",
          "2023-11-04",
          "2023-11-05",
          "2023-11-06",
          "2023-11-07",
          "2023-11-08",
          "2023-11-09",
          "2023-11-10",
          "2023-11-11",
          "2023-11-12",
          "2023-11-13",
          "2023-11-14",
          "2023-11-15",
          "2023-11-16",
          "2023-11-17",
          "2023-11-18",
          "2023-11-19",
          "2023-11-20",
          "2023-11-21",
          "2023-11-22",
          "2023-11-23",
          "2023-11-24",
          "2023-11-25",
          "2023-11-26",
          "2023-11-27",
          "2023-11-28",
          "2023-11-29",
          "2023-11-30",
          "2023-12-01",
          "2023-12-02",
          "2023-12-03",
          "2023-12-04",
          "2023-12-05",
          "2023-12-06",
          "2023-12-07",
          "2023-12-08",
          "2023-12-09",
          "2023-12-10",
          "2023-12-11",
          "2023-12-12",
          "2023-12-13",
          "2023-12-14",
          "2023-12-15",
          "2023-12-16",
          "2023-12-17",
          "2023-12-18",
          "2023-12-19",
          "2023-12-20",
          "2023-12-21",
          "2023-12-22",
          "2023-12-23",
          "2023-12-24",
          "2023-12-25",
          "2023-12-26",
          "2023-12-27",
          "2023-12-28",
          "2023-12-29",
          "2023-12-30",
          "2023-12-31",
          "2024-01-01",
          "2024-01-02",
          "2024-01-03",
          "2024-01-04",
          "2024-01-05",
          "2024-01-06",
          "2024-01-07",
          "2024-01-08",
          "2024-01-09",
          "2024-01-10",
          "2024-01-11",
          "2024-01-12",
          "2024-01-13",
          "2024-01-14",
          "2024-01-15",
          "2024-01-16",
          "2024-01-17",
          "2024-01-18",
          "2024-01-19",
          "2024-01-20",
          "2024-01-21",
          "2024-01-22",
          "2024-01-23",
          "2024-01-24",
          "2024-01-25",
          "2024-01-26",
          "2024-01-27",
          "2024-01-28",
          "2024-01-29",
          "2024-01-30",
          "2024-01-31",
          "2024-02-01",
          "2024-02-02",
          "2024-02-03",
          "2024-02-04",
          "2024-02-05",
          "2024-02-06",
          "2024-02-07",
          "2024-02-08",
          "2024-02-09",
          "2024-02-10",
          "2024-02-11",
          "2024-02-12",
          "2024-02-13",
          "2024-02-14",
          "2024-02-15",
          "2024-02-16",
          "2024-02-17",
          "2024-02-18",
          "2024-02-19",
          "2024-02-20",
          "2024-02-21",
          "2024-02-22",
          "2024-02-23",
          "2024-02-24",
          "2024-02-25",
          "2024-02-26",
          "2024-02-27",
          "2024-02-28",
          "2024-02-29",
          "2024-03-01",
          "2024-03-02",
          "2024-03-03",
          "2024-03-04",
          "2024-03-05",
          "2024-03-06",
          "2024-03-07",
          "2024-03-08",
          "2024-03-09",
          "2024-03-10",
          "2024-03-11",
          "2024-03-12",
          "2024-03-13",
          "2024-03-14",
          "2024-03-15",
          "2024-03-16",
          "2024-03-17",
          "2024-03-18",
          "2024-03-19",
          "2024-03-20",
          "2024-03-21",
          "2024-03-22",
          "2024-03-23",
          "2024-03-24",
          "2024-03-25",
          "2024-03-26",
          "2024-03-27",
          "2024-03-28",
          "2024-03-29",
          "2024-03-30",
          "2024-03-31",
          "2024-04-01",
          "2024-04-02",
          "2024-04-03",
          "2024-04-04",
          "2024-04-05",
          "2024-04-06",
          "2024-04-07",
          "2024-04-08",
          "2024-04-09",
          "2024-04-10",
          "2024-04-11",
          "2024-04-12",
          "2024-04-13",
          "2024-04-14",
          "2024-04-15",
          "2024-04-16",
          "2024-04-17",
          "2024-04-18",
          "2024-04-19",
          "2024-04-20",
          "2024-04-21",
          "2024-04-22",
          "2024-04-23",
          "2024-04-24",
          "2024-04-25",
          "2024-04-26",
          "2024-04-27",
          "2024-04-28",
          "2024-04-29",
          "2024-04-30",
          "2024-05-01",
          "2024-05-02",
          "2024-05-03",
          "2024-05-04",
          "2024-05-05",
          "2024-05-06",
          "2024-05-07",
          "2024-05-08",
          "2024-05-09",
          "2024-05-10",
          "2024-05-11",
          "2024-05-12",
          "2024-05-13",
          "2024-05-14",
          "2024-05-15",
          "2024-05-16",
          "2024-05-17",
          "2024-05-18",
          "2024-05-19",
          "2024-05-20",
          "2024-05-21",
          "2024-05-22",
          "2024-05-23",
          "2024-05-24",
          "2024-05-25",
          "2024-05-26",
          "2024-05-27",
          "2024-05-28",
          "2024-05-29",
          "2024-05-30",
          "2024-05-31",
          "2024-06-01",
          "2024-06-02",
          "2024-06-03",
          "2024-06-04",
          "2024-06-05",
          "2024-06-06",
          "2024-06-07",
          "2024-06-08",
          "2024-06-09",
          "2024-06-10",
          "2024-06-11",
          "2024-06-12",
          "2024-06-13"
         ],
         "y": [
          4,
          4,
          4.5,
          3,
          4,
          4,
          3.5,
          4,
          3.1666666666666665,
          4.5,
          3.75,
          3.25,
          4.333333333333333,
          4.5,
          3,
          4,
          3.125,
          4.4,
          3.375,
          3.375,
          3.2857142857142856,
          3.5833333333333335,
          3.5,
          3.5,
          3.4,
          3.1,
          3.75,
          3.4,
          3.3333333333333335,
          3.25,
          3.5,
          3.8125,
          4.1,
          3.75,
          3.8333333333333335,
          3.875,
          3.25,
          3.6,
          4.166666666666667,
          3.75,
          3.875,
          3.8,
          4,
          4.1,
          4,
          3.75,
          4.166666666666667,
          3.5,
          4,
          4.333333333333333,
          3.75,
          3.8333333333333335,
          4.333333333333333,
          4,
          3,
          3.75,
          4,
          2.25,
          4,
          3,
          4,
          4,
          4.5,
          3.8333333333333335,
          4,
          5,
          4,
          3.5,
          4,
          4,
          4,
          4.5,
          3.75,
          4.5,
          4,
          3.25,
          3.8333333333333335,
          5,
          4,
          3.5,
          4,
          4,
          4,
          3.8333333333333335,
          4,
          4,
          4,
          4,
          4.166666666666667,
          4,
          3.75,
          3.625,
          4.1,
          4.25,
          4.5,
          4.5,
          3.75,
          4,
          3.8333333333333335,
          3.75,
          4,
          3.5,
          4,
          4,
          4.25,
          4,
          5,
          3.5,
          4,
          4.625,
          4.166666666666667,
          4.25,
          4,
          4,
          3.6666666666666665,
          3.25,
          3.75,
          3.75,
          4.25,
          5.5,
          4.5,
          4.166666666666667,
          3.375,
          4.1,
          3.8333333333333335,
          3.5,
          3.9166666666666665,
          3.375,
          3.5,
          3.75,
          4.25,
          4.166666666666667,
          3.4166666666666665,
          4.666666666666667,
          4.75,
          3.875,
          3.5,
          3.6666666666666665,
          3.875,
          3.125,
          4,
          3.4,
          3.5,
          3,
          4,
          3.75,
          4,
          4,
          4,
          3.8333333333333335,
          3.642857142857143,
          3.75,
          3.6666666666666665,
          3.3333333333333335,
          3.75,
          3.875,
          4,
          3.25,
          4,
          3.75,
          3.6666666666666665,
          3.7,
          4.25,
          4,
          3.75,
          4.166666666666667,
          4,
          4,
          5,
          3.875,
          4,
          3.8333333333333335,
          3.8333333333333335,
          3.8,
          3.8333333333333335,
          4.25,
          3.75,
          4.5,
          4.1,
          4.166666666666667,
          3,
          4.333333333333333,
          3.75,
          3.7,
          4,
          4.166666666666667,
          3.75,
          3.9,
          4.166666666666667,
          3.75,
          4.333333333333333,
          3.5,
          4,
          3.75,
          4,
          4.166666666666667,
          3.625,
          4.125,
          4,
          4,
          4,
          3.75,
          4.5,
          4.333333333333333,
          4.5,
          4.083333333333333,
          4.333333333333333,
          3.6,
          3.8,
          3.6,
          3.875,
          3.5,
          3.6,
          3.6666666666666665,
          3.5,
          4,
          3.8333333333333335,
          4.166666666666667,
          4.2,
          3.3,
          4.25,
          3.75,
          3.7,
          3.8,
          4.75,
          4,
          3.3333333333333335,
          3.1,
          3.125,
          3.6,
          2.8333333333333335,
          3.6666666666666665,
          4.25,
          3.5,
          3.5,
          3.6666666666666665,
          3.6666666666666665,
          3.125,
          3.8333333333333335,
          3.5,
          3.6666666666666665,
          3.9,
          4,
          3.5,
          2.6666666666666665,
          3,
          3.1666666666666665,
          3.25,
          3.75,
          3.5,
          3.3333333333333335,
          3.75,
          3.75,
          3.75,
          4,
          3.6666666666666665,
          3.8,
          3.7142857142857144,
          3.8,
          3.7857142857142856,
          3.8333333333333335,
          4.2,
          3.8333333333333335,
          3.75,
          4,
          4,
          3.9,
          3.625,
          3.6666666666666665,
          3.8333333333333335,
          3.8333333333333335,
          3.75,
          3.875,
          3.5,
          4,
          3.9,
          4.166666666666667,
          3.75,
          3.75,
          3.875,
          4.5,
          3.857142857142857,
          3.5,
          3.6666666666666665,
          3.6666666666666665,
          3.625,
          3.5625,
          3.75,
          3.75,
          3.6,
          3.8,
          3.7857142857142856,
          4,
          3.8,
          4,
          3.8333333333333335,
          3.8333333333333335,
          3.75,
          3.625,
          3.8333333333333335,
          3.8,
          4.125,
          3.8333333333333335,
          3.6666666666666665,
          4,
          3.8333333333333335,
          4,
          3.5,
          3.75,
          3.75,
          3.5,
          3.8333333333333335,
          3.625,
          4,
          4,
          3.8333333333333335,
          3.875,
          4,
          4,
          3.75,
          3.8,
          4.125,
          4.2,
          4.333333333333333,
          4,
          4,
          3.875,
          3.75,
          3.6666666666666665,
          3.625,
          3.8333333333333335,
          3.8333333333333335,
          3.875,
          3.9,
          3.8,
          3.5,
          3.75,
          3.5,
          4,
          4,
          3.75,
          3.8,
          3.9,
          4,
          3.75,
          3.875,
          4.2,
          4,
          4.166666666666667
         ]
        },
        {
         "line": {
          "width": 0
         },
         "marker": {
          "color": "#444"
         },
         "mode": "lines",
         "name": "avg+std",
         "showlegend": false,
         "type": "scatter",
         "x": [
          "2023-07-01",
          "2023-07-02",
          "2023-07-03",
          "2023-07-04",
          "2023-07-05",
          "2023-07-06",
          "2023-07-07",
          "2023-07-08",
          "2023-07-09",
          "2023-07-10",
          "2023-07-11",
          "2023-07-12",
          "2023-07-13",
          "2023-07-14",
          "2023-07-15",
          "2023-07-16",
          "2023-07-17",
          "2023-07-18",
          "2023-07-19",
          "2023-07-20",
          "2023-07-21",
          "2023-07-22",
          "2023-07-23",
          "2023-07-24",
          "2023-07-25",
          "2023-07-26",
          "2023-07-27",
          "2023-07-28",
          "2023-07-29",
          "2023-07-30",
          "2023-07-31",
          "2023-08-01",
          "2023-08-02",
          "2023-08-03",
          "2023-08-04",
          "2023-08-05",
          "2023-08-06",
          "2023-08-07",
          "2023-08-08",
          "2023-08-09",
          "2023-08-10",
          "2023-08-11",
          "2023-08-12",
          "2023-08-13",
          "2023-08-14",
          "2023-08-15",
          "2023-08-16",
          "2023-08-17",
          "2023-08-18",
          "2023-08-19",
          "2023-08-20",
          "2023-08-21",
          "2023-08-22",
          "2023-08-23",
          "2023-08-24",
          "2023-08-25",
          "2023-08-26",
          "2023-08-27",
          "2023-08-28",
          "2023-08-29",
          "2023-08-30",
          "2023-08-31",
          "2023-09-01",
          "2023-09-02",
          "2023-09-03",
          "2023-09-04",
          "2023-09-05",
          "2023-09-06",
          "2023-09-07",
          "2023-09-08",
          "2023-09-09",
          "2023-09-10",
          "2023-09-11",
          "2023-09-12",
          "2023-09-13",
          "2023-09-14",
          "2023-09-15",
          "2023-09-16",
          "2023-09-17",
          "2023-09-18",
          "2023-09-19",
          "2023-09-20",
          "2023-09-21",
          "2023-09-22",
          "2023-09-23",
          "2023-09-24",
          "2023-09-25",
          "2023-09-26",
          "2023-09-27",
          "2023-09-28",
          "2023-09-29",
          "2023-09-30",
          "2023-10-01",
          "2023-10-02",
          "2023-10-03",
          "2023-10-04",
          "2023-10-05",
          "2023-10-06",
          "2023-10-07",
          "2023-10-08",
          "2023-10-09",
          "2023-10-10",
          "2023-10-11",
          "2023-10-12",
          "2023-10-13",
          "2023-10-14",
          "2023-10-15",
          "2023-10-16",
          "2023-10-17",
          "2023-10-18",
          "2023-10-19",
          "2023-10-20",
          "2023-10-21",
          "2023-10-22",
          "2023-10-23",
          "2023-10-24",
          "2023-10-25",
          "2023-10-26",
          "2023-10-27",
          "2023-10-28",
          "2023-10-29",
          "2023-10-30",
          "2023-10-31",
          "2023-11-01",
          "2023-11-02",
          "2023-11-03",
          "2023-11-04",
          "2023-11-05",
          "2023-11-06",
          "2023-11-07",
          "2023-11-08",
          "2023-11-09",
          "2023-11-10",
          "2023-11-11",
          "2023-11-12",
          "2023-11-13",
          "2023-11-14",
          "2023-11-15",
          "2023-11-16",
          "2023-11-17",
          "2023-11-18",
          "2023-11-19",
          "2023-11-20",
          "2023-11-21",
          "2023-11-22",
          "2023-11-23",
          "2023-11-24",
          "2023-11-25",
          "2023-11-26",
          "2023-11-27",
          "2023-11-28",
          "2023-11-29",
          "2023-11-30",
          "2023-12-01",
          "2023-12-02",
          "2023-12-03",
          "2023-12-04",
          "2023-12-05",
          "2023-12-06",
          "2023-12-07",
          "2023-12-08",
          "2023-12-09",
          "2023-12-10",
          "2023-12-11",
          "2023-12-12",
          "2023-12-13",
          "2023-12-14",
          "2023-12-15",
          "2023-12-16",
          "2023-12-17",
          "2023-12-18",
          "2023-12-19",
          "2023-12-20",
          "2023-12-21",
          "2023-12-22",
          "2023-12-23",
          "2023-12-24",
          "2023-12-25",
          "2023-12-26",
          "2023-12-27",
          "2023-12-28",
          "2023-12-29",
          "2023-12-30",
          "2023-12-31",
          "2024-01-01",
          "2024-01-02",
          "2024-01-03",
          "2024-01-04",
          "2024-01-05",
          "2024-01-06",
          "2024-01-07",
          "2024-01-08",
          "2024-01-09",
          "2024-01-10",
          "2024-01-11",
          "2024-01-12",
          "2024-01-13",
          "2024-01-14",
          "2024-01-15",
          "2024-01-16",
          "2024-01-17",
          "2024-01-18",
          "2024-01-19",
          "2024-01-20",
          "2024-01-21",
          "2024-01-22",
          "2024-01-23",
          "2024-01-24",
          "2024-01-25",
          "2024-01-26",
          "2024-01-27",
          "2024-01-28",
          "2024-01-29",
          "2024-01-30",
          "2024-01-31",
          "2024-02-01",
          "2024-02-02",
          "2024-02-03",
          "2024-02-04",
          "2024-02-05",
          "2024-02-06",
          "2024-02-07",
          "2024-02-08",
          "2024-02-09",
          "2024-02-10",
          "2024-02-11",
          "2024-02-12",
          "2024-02-13",
          "2024-02-14",
          "2024-02-15",
          "2024-02-16",
          "2024-02-17",
          "2024-02-18",
          "2024-02-19",
          "2024-02-20",
          "2024-02-21",
          "2024-02-22",
          "2024-02-23",
          "2024-02-24",
          "2024-02-25",
          "2024-02-26",
          "2024-02-27",
          "2024-02-28",
          "2024-02-29",
          "2024-03-01",
          "2024-03-02",
          "2024-03-03",
          "2024-03-04",
          "2024-03-05",
          "2024-03-06",
          "2024-03-07",
          "2024-03-08",
          "2024-03-09",
          "2024-03-10",
          "2024-03-11",
          "2024-03-12",
          "2024-03-13",
          "2024-03-14",
          "2024-03-15",
          "2024-03-16",
          "2024-03-17",
          "2024-03-18",
          "2024-03-19",
          "2024-03-20",
          "2024-03-21",
          "2024-03-22",
          "2024-03-23",
          "2024-03-24",
          "2024-03-25",
          "2024-03-26",
          "2024-03-27",
          "2024-03-28",
          "2024-03-29",
          "2024-03-30",
          "2024-03-31",
          "2024-04-01",
          "2024-04-02",
          "2024-04-03",
          "2024-04-04",
          "2024-04-05",
          "2024-04-06",
          "2024-04-07",
          "2024-04-08",
          "2024-04-09",
          "2024-04-10",
          "2024-04-11",
          "2024-04-12",
          "2024-04-13",
          "2024-04-14",
          "2024-04-15",
          "2024-04-16",
          "2024-04-17",
          "2024-04-18",
          "2024-04-19",
          "2024-04-20",
          "2024-04-21",
          "2024-04-22",
          "2024-04-23",
          "2024-04-24",
          "2024-04-25",
          "2024-04-26",
          "2024-04-27",
          "2024-04-28",
          "2024-04-29",
          "2024-04-30",
          "2024-05-01",
          "2024-05-02",
          "2024-05-03",
          "2024-05-04",
          "2024-05-05",
          "2024-05-06",
          "2024-05-07",
          "2024-05-08",
          "2024-05-09",
          "2024-05-10",
          "2024-05-11",
          "2024-05-12",
          "2024-05-13",
          "2024-05-14",
          "2024-05-15",
          "2024-05-16",
          "2024-05-17",
          "2024-05-18",
          "2024-05-19",
          "2024-05-20",
          "2024-05-21",
          "2024-05-22",
          "2024-05-23",
          "2024-05-24",
          "2024-05-25",
          "2024-05-26",
          "2024-05-27",
          "2024-05-28",
          "2024-05-29",
          "2024-05-30",
          "2024-05-31",
          "2024-06-01",
          "2024-06-02",
          "2024-06-03",
          "2024-06-04",
          "2024-06-05",
          "2024-06-06",
          "2024-06-07",
          "2024-06-08",
          "2024-06-09",
          "2024-06-10",
          "2024-06-11",
          "2024-06-12",
          "2024-06-13"
         ],
         "y": [
          4,
          4,
          5.207106781186548,
          3,
          4,
          4,
          3.5,
          5,
          4.207499666399733,
          5.207106781186548,
          4.103553390593274,
          3.603553390593274,
          4.910683602522958,
          5.207106781186548,
          3,
          4,
          3.9789125638299665,
          4.947722557505166,
          4.125,
          4.321484724300046,
          3.9219232959946373,
          3.959719659687874,
          3.5,
          4,
          3.8183300132670377,
          3.8416198487095663,
          4.038675134594813,
          4.294427190999916,
          4.097095949159307,
          3.8954972243679027,
          3.908248290463863,
          4.4637350903146595,
          4.6477225575051655,
          4.168330013267038,
          4.122008467928146,
          4.125,
          4.116025403784438,
          4.018330013267038,
          4.57491495713053,
          4.616025403784438,
          4.125,
          4.073861278752583,
          4,
          4.6477225575051655,
          4,
          4.103553390593274,
          4.93042928249264,
          3.5,
          4,
          4.910683602522958,
          4.103553390593274,
          4.122008467928146,
          4.910683602522958,
          4,
          3,
          4.103553390593274,
          4,
          2.603553390593274,
          4,
          4.414213562373095,
          4,
          4,
          5.207106781186548,
          4.122008467928146,
          4,
          5,
          4,
          3.5,
          4,
          4,
          4,
          5.207106781186548,
          4.103553390593274,
          5.207106781186548,
          4,
          3.603553390593274,
          4.122008467928146,
          5,
          4,
          3.5,
          4,
          4,
          4,
          4.122008467928146,
          4,
          4,
          4,
          4,
          4.93042928249264,
          4,
          4.103553390593274,
          4.103713553878169,
          4.994427190999915,
          5.310660171779821,
          5.207106781186548,
          5.207106781186548,
          4.103553390593274,
          4.707106781186548,
          4.122008467928146,
          4.103553390593274,
          4,
          3.5,
          4,
          4,
          5.310660171779821,
          4,
          5,
          3.5,
          4,
          5.733677891304173,
          4.93042928249264,
          5.310660171779821,
          4,
          4,
          3.955341801261479,
          3.603553390593274,
          4.103553390593274,
          4.103553390593274,
          4.75,
          6.207106781186548,
          5.207106781186548,
          4.93042928249264,
          3.625,
          4.6477225575051655,
          4.122008467928146,
          3.853553390593274,
          4.120790811898598,
          3.853713553878169,
          4,
          4.023861278752583,
          4.75,
          4.93042928249264,
          4.217707656046527,
          5.244016935856292,
          5.25,
          4.125,
          4.366025403784438,
          3.955341801261479,
          4.728912563829967,
          3.603713553878169,
          4,
          3.8183300132670377,
          3.5,
          3,
          4,
          4.103553390593274,
          4,
          4,
          4,
          4.122008467928146,
          4.02082161586637,
          4.103553390593274,
          3.955341801261479,
          3.622008467928146,
          4.038675134594813,
          4.125,
          4,
          3.603553390593274,
          4,
          4.103553390593274,
          4.244016935856292,
          3.973861278752583,
          4.603553390593274,
          4,
          4.103553390593274,
          4.683064446160989,
          4.5,
          4,
          5,
          4.728912563829967,
          4,
          4.122008467928146,
          4.122008467928146,
          4.073861278752583,
          4.122008467928146,
          4.75,
          4.810660171779821,
          5.207106781186548,
          4.841619848709566,
          4.45534180126148,
          4.414213562373095,
          4.622008467928146,
          4.103553390593274,
          4.458287544405155,
          4,
          4.45534180126148,
          4.103553390593274,
          4.123606797749979,
          4.45534180126148,
          4.103553390593274,
          4.622008467928146,
          3.5,
          4,
          4.103553390593274,
          4.5,
          4.45534180126148,
          4.103713553878169,
          4.603713553878169,
          4,
          4.5,
          4,
          4.103553390593274,
          4.5,
          5.097095949159306,
          4.5,
          4.667855930558339,
          4.910683602522958,
          4.341619848709566,
          4.073861278752583,
          4.018330013267038,
          4.125,
          3.5,
          3.8236067977499792,
          3.955341801261479,
          4,
          4.5,
          4.122008467928146,
          4.45534180126148,
          4.770087712549569,
          4.058287544405155,
          4.75,
          4.038675134594813,
          3.973861278752583,
          4.247213595499958,
          5.103553390593274,
          4,
          3.622008467928146,
          3.518330013267038,
          3.375,
          3.8236067977499792,
          3.2415816237971966,
          3.955341801261479,
          4.538675134594813,
          3.5,
          3.5,
          3.955341801261479,
          3.955341801261479,
          3.875,
          4.122008467928146,
          4.316496580927726,
          3.955341801261479,
          4.447722557505166,
          4,
          4,
          3.43042928249264,
          3.5773502691896257,
          4.207499666399733,
          3.603553390593274,
          4.038675134594813,
          3.5,
          3.622008467928146,
          4.168330013267038,
          4.127964473009227,
          4.103553390593274,
          4.707106781186548,
          3.955341801261479,
          4.073861278752583,
          4.202235750759981,
          4.3700877125495685,
          4.352660995228127,
          4.122008467928146,
          4.6472135954999585,
          4.122008467928146,
          4.103553390593274,
          4,
          4,
          4.447722557505166,
          4.478912563829967,
          3.955341801261479,
          4.0915322230804945,
          4.122008467928146,
          4.038675134594813,
          4.504152869605896,
          3.908248290463863,
          4.408248290463863,
          4.447722557505166,
          4.45534180126148,
          4.103553390593274,
          4.168330013267038,
          4.125,
          4.908248290463863,
          4.10111787537999,
          3.853553390593274,
          3.955341801261479,
          3.955341801261479,
          4.103713553878169,
          4.338823754260148,
          4.038675134594813,
          4.023861278752583,
          4.251920240520265,
          4.073861278752583,
          4.179112181949007,
          4,
          4.073861278752583,
          4,
          4.122008467928146,
          4.122008467928146,
          4.103553390593274,
          4.103713553878169,
          4.122008467928146,
          4.073861278752583,
          4.375,
          4.122008467928146,
          3.955341801261479,
          4,
          4.122008467928146,
          4,
          4,
          4.038675134594813,
          4.168330013267038,
          3.853553390593274,
          4.122008467928146,
          3.875,
          4,
          4,
          4.241581623797196,
          4.504152869605896,
          4,
          4,
          4.168330013267038,
          4.073861278752583,
          4.603713553878169,
          4.473861278752583,
          4.622008467928146,
          4,
          4.707106781186548,
          4.504152869605896,
          4.25,
          4.074914957130529,
          3.875,
          4.349731112827656,
          4.241581623797196,
          4.504152869605896,
          4.123606797749979,
          4.073861278752583,
          4,
          4.395497224367903,
          4.077350269189626,
          4.447213595499958,
          4.707106781186548,
          4.038675134594813,
          4.470820393249936,
          4.447722557505166,
          4.5,
          4.168330013267038,
          4.353713553878169,
          4.6472135954999585,
          4.408248290463863,
          4.45534180126148
         ]
        },
        {
         "fill": "tonexty",
         "fillcolor": "rgba(130, 130, 130, 0.45)",
         "line": {
          "width": 0
         },
         "marker": {
          "color": "#444"
         },
         "mode": "lines",
         "name": "avg-std",
         "showlegend": false,
         "type": "scatter",
         "x": [
          "2023-07-01",
          "2023-07-02",
          "2023-07-03",
          "2023-07-04",
          "2023-07-05",
          "2023-07-06",
          "2023-07-07",
          "2023-07-08",
          "2023-07-09",
          "2023-07-10",
          "2023-07-11",
          "2023-07-12",
          "2023-07-13",
          "2023-07-14",
          "2023-07-15",
          "2023-07-16",
          "2023-07-17",
          "2023-07-18",
          "2023-07-19",
          "2023-07-20",
          "2023-07-21",
          "2023-07-22",
          "2023-07-23",
          "2023-07-24",
          "2023-07-25",
          "2023-07-26",
          "2023-07-27",
          "2023-07-28",
          "2023-07-29",
          "2023-07-30",
          "2023-07-31",
          "2023-08-01",
          "2023-08-02",
          "2023-08-03",
          "2023-08-04",
          "2023-08-05",
          "2023-08-06",
          "2023-08-07",
          "2023-08-08",
          "2023-08-09",
          "2023-08-10",
          "2023-08-11",
          "2023-08-12",
          "2023-08-13",
          "2023-08-14",
          "2023-08-15",
          "2023-08-16",
          "2023-08-17",
          "2023-08-18",
          "2023-08-19",
          "2023-08-20",
          "2023-08-21",
          "2023-08-22",
          "2023-08-23",
          "2023-08-24",
          "2023-08-25",
          "2023-08-26",
          "2023-08-27",
          "2023-08-28",
          "2023-08-29",
          "2023-08-30",
          "2023-08-31",
          "2023-09-01",
          "2023-09-02",
          "2023-09-03",
          "2023-09-04",
          "2023-09-05",
          "2023-09-06",
          "2023-09-07",
          "2023-09-08",
          "2023-09-09",
          "2023-09-10",
          "2023-09-11",
          "2023-09-12",
          "2023-09-13",
          "2023-09-14",
          "2023-09-15",
          "2023-09-16",
          "2023-09-17",
          "2023-09-18",
          "2023-09-19",
          "2023-09-20",
          "2023-09-21",
          "2023-09-22",
          "2023-09-23",
          "2023-09-24",
          "2023-09-25",
          "2023-09-26",
          "2023-09-27",
          "2023-09-28",
          "2023-09-29",
          "2023-09-30",
          "2023-10-01",
          "2023-10-02",
          "2023-10-03",
          "2023-10-04",
          "2023-10-05",
          "2023-10-06",
          "2023-10-07",
          "2023-10-08",
          "2023-10-09",
          "2023-10-10",
          "2023-10-11",
          "2023-10-12",
          "2023-10-13",
          "2023-10-14",
          "2023-10-15",
          "2023-10-16",
          "2023-10-17",
          "2023-10-18",
          "2023-10-19",
          "2023-10-20",
          "2023-10-21",
          "2023-10-22",
          "2023-10-23",
          "2023-10-24",
          "2023-10-25",
          "2023-10-26",
          "2023-10-27",
          "2023-10-28",
          "2023-10-29",
          "2023-10-30",
          "2023-10-31",
          "2023-11-01",
          "2023-11-02",
          "2023-11-03",
          "2023-11-04",
          "2023-11-05",
          "2023-11-06",
          "2023-11-07",
          "2023-11-08",
          "2023-11-09",
          "2023-11-10",
          "2023-11-11",
          "2023-11-12",
          "2023-11-13",
          "2023-11-14",
          "2023-11-15",
          "2023-11-16",
          "2023-11-17",
          "2023-11-18",
          "2023-11-19",
          "2023-11-20",
          "2023-11-21",
          "2023-11-22",
          "2023-11-23",
          "2023-11-24",
          "2023-11-25",
          "2023-11-26",
          "2023-11-27",
          "2023-11-28",
          "2023-11-29",
          "2023-11-30",
          "2023-12-01",
          "2023-12-02",
          "2023-12-03",
          "2023-12-04",
          "2023-12-05",
          "2023-12-06",
          "2023-12-07",
          "2023-12-08",
          "2023-12-09",
          "2023-12-10",
          "2023-12-11",
          "2023-12-12",
          "2023-12-13",
          "2023-12-14",
          "2023-12-15",
          "2023-12-16",
          "2023-12-17",
          "2023-12-18",
          "2023-12-19",
          "2023-12-20",
          "2023-12-21",
          "2023-12-22",
          "2023-12-23",
          "2023-12-24",
          "2023-12-25",
          "2023-12-26",
          "2023-12-27",
          "2023-12-28",
          "2023-12-29",
          "2023-12-30",
          "2023-12-31",
          "2024-01-01",
          "2024-01-02",
          "2024-01-03",
          "2024-01-04",
          "2024-01-05",
          "2024-01-06",
          "2024-01-07",
          "2024-01-08",
          "2024-01-09",
          "2024-01-10",
          "2024-01-11",
          "2024-01-12",
          "2024-01-13",
          "2024-01-14",
          "2024-01-15",
          "2024-01-16",
          "2024-01-17",
          "2024-01-18",
          "2024-01-19",
          "2024-01-20",
          "2024-01-21",
          "2024-01-22",
          "2024-01-23",
          "2024-01-24",
          "2024-01-25",
          "2024-01-26",
          "2024-01-27",
          "2024-01-28",
          "2024-01-29",
          "2024-01-30",
          "2024-01-31",
          "2024-02-01",
          "2024-02-02",
          "2024-02-03",
          "2024-02-04",
          "2024-02-05",
          "2024-02-06",
          "2024-02-07",
          "2024-02-08",
          "2024-02-09",
          "2024-02-10",
          "2024-02-11",
          "2024-02-12",
          "2024-02-13",
          "2024-02-14",
          "2024-02-15",
          "2024-02-16",
          "2024-02-17",
          "2024-02-18",
          "2024-02-19",
          "2024-02-20",
          "2024-02-21",
          "2024-02-22",
          "2024-02-23",
          "2024-02-24",
          "2024-02-25",
          "2024-02-26",
          "2024-02-27",
          "2024-02-28",
          "2024-02-29",
          "2024-03-01",
          "2024-03-02",
          "2024-03-03",
          "2024-03-04",
          "2024-03-05",
          "2024-03-06",
          "2024-03-07",
          "2024-03-08",
          "2024-03-09",
          "2024-03-10",
          "2024-03-11",
          "2024-03-12",
          "2024-03-13",
          "2024-03-14",
          "2024-03-15",
          "2024-03-16",
          "2024-03-17",
          "2024-03-18",
          "2024-03-19",
          "2024-03-20",
          "2024-03-21",
          "2024-03-22",
          "2024-03-23",
          "2024-03-24",
          "2024-03-25",
          "2024-03-26",
          "2024-03-27",
          "2024-03-28",
          "2024-03-29",
          "2024-03-30",
          "2024-03-31",
          "2024-04-01",
          "2024-04-02",
          "2024-04-03",
          "2024-04-04",
          "2024-04-05",
          "2024-04-06",
          "2024-04-07",
          "2024-04-08",
          "2024-04-09",
          "2024-04-10",
          "2024-04-11",
          "2024-04-12",
          "2024-04-13",
          "2024-04-14",
          "2024-04-15",
          "2024-04-16",
          "2024-04-17",
          "2024-04-18",
          "2024-04-19",
          "2024-04-20",
          "2024-04-21",
          "2024-04-22",
          "2024-04-23",
          "2024-04-24",
          "2024-04-25",
          "2024-04-26",
          "2024-04-27",
          "2024-04-28",
          "2024-04-29",
          "2024-04-30",
          "2024-05-01",
          "2024-05-02",
          "2024-05-03",
          "2024-05-04",
          "2024-05-05",
          "2024-05-06",
          "2024-05-07",
          "2024-05-08",
          "2024-05-09",
          "2024-05-10",
          "2024-05-11",
          "2024-05-12",
          "2024-05-13",
          "2024-05-14",
          "2024-05-15",
          "2024-05-16",
          "2024-05-17",
          "2024-05-18",
          "2024-05-19",
          "2024-05-20",
          "2024-05-21",
          "2024-05-22",
          "2024-05-23",
          "2024-05-24",
          "2024-05-25",
          "2024-05-26",
          "2024-05-27",
          "2024-05-28",
          "2024-05-29",
          "2024-05-30",
          "2024-05-31",
          "2024-06-01",
          "2024-06-02",
          "2024-06-03",
          "2024-06-04",
          "2024-06-05",
          "2024-06-06",
          "2024-06-07",
          "2024-06-08",
          "2024-06-09",
          "2024-06-10",
          "2024-06-11",
          "2024-06-12",
          "2024-06-13"
         ],
         "y": [
          4,
          4,
          3.7928932188134525,
          3,
          4,
          4,
          3.5,
          3,
          2.1258336669336,
          3.7928932188134525,
          3.396446609406726,
          2.896446609406726,
          3.7559830641437073,
          3.7928932188134525,
          3,
          4,
          2.2710874361700335,
          3.8522774424948345,
          2.625,
          2.4285152756999544,
          2.649505275433934,
          3.206947006978793,
          3.5,
          3,
          2.981669986732962,
          2.358380151290434,
          3.461324865405187,
          2.505572809000084,
          2.56957071750736,
          2.6045027756320973,
          3.091751709536137,
          3.1612649096853405,
          3.552277442494834,
          3.331669986732962,
          3.544658198738521,
          3.625,
          2.3839745962155616,
          3.1816699867329623,
          3.758418376202804,
          2.8839745962155616,
          3.625,
          3.526138721247417,
          4,
          3.552277442494834,
          4,
          3.396446609406726,
          3.402904050840694,
          3.5,
          4,
          3.7559830641437073,
          3.396446609406726,
          3.544658198738521,
          3.7559830641437073,
          4,
          3,
          3.396446609406726,
          4,
          1.8964466094067263,
          4,
          1.5857864376269049,
          4,
          4,
          3.7928932188134525,
          3.544658198738521,
          4,
          5,
          4,
          3.5,
          4,
          4,
          4,
          3.7928932188134525,
          3.396446609406726,
          3.7928932188134525,
          4,
          2.896446609406726,
          3.544658198738521,
          5,
          4,
          3.5,
          4,
          4,
          4,
          3.544658198738521,
          4,
          4,
          4,
          4,
          3.402904050840694,
          4,
          3.396446609406726,
          3.146286446121831,
          3.205572809000084,
          3.189339828220179,
          3.7928932188134525,
          3.7928932188134525,
          3.396446609406726,
          3.2928932188134525,
          3.544658198738521,
          3.396446609406726,
          4,
          3.5,
          4,
          4,
          3.189339828220179,
          4,
          5,
          3.5,
          4,
          3.516322108695827,
          3.402904050840694,
          3.189339828220179,
          4,
          4,
          3.377991532071854,
          2.896446609406726,
          3.396446609406726,
          3.396446609406726,
          3.75,
          4.792893218813452,
          3.7928932188134525,
          3.402904050840694,
          3.125,
          3.552277442494834,
          3.544658198738521,
          3.146446609406726,
          3.712542521434735,
          2.896286446121831,
          3,
          3.476138721247417,
          3.75,
          3.402904050840694,
          2.6156256772868054,
          4.089316397477042,
          4.25,
          3.625,
          2.6339745962155616,
          3.377991532071854,
          3.0210874361700335,
          2.646286446121831,
          4,
          2.981669986732962,
          3.5,
          3,
          4,
          3.396446609406726,
          4,
          4,
          4,
          3.544658198738521,
          3.2648926698479155,
          3.396446609406726,
          3.377991532071854,
          3.044658198738521,
          3.461324865405187,
          3.625,
          4,
          2.896446609406726,
          4,
          3.396446609406726,
          3.089316397477041,
          3.4261387212474173,
          3.896446609406726,
          4,
          3.396446609406726,
          3.6502688871723445,
          3.5,
          4,
          5,
          3.0210874361700335,
          4,
          3.544658198738521,
          3.544658198738521,
          3.526138721247417,
          3.544658198738521,
          3.75,
          2.689339828220179,
          3.7928932188134525,
          3.3583801512904334,
          3.877991532071854,
          1.5857864376269049,
          4.04465819873852,
          3.396446609406726,
          2.9417124555948453,
          4,
          3.877991532071854,
          3.396446609406726,
          3.6763932022500208,
          3.877991532071854,
          3.396446609406726,
          4.04465819873852,
          3.5,
          4,
          3.396446609406726,
          3.5,
          3.877991532071854,
          3.146286446121831,
          3.646286446121831,
          4,
          3.5,
          4,
          3.396446609406726,
          4.5,
          3.56957071750736,
          4.5,
          3.498810736108327,
          3.7559830641437073,
          2.858380151290434,
          3.526138721247417,
          3.1816699867329623,
          3.625,
          3.5,
          3.376393202250021,
          3.377991532071854,
          3,
          3.5,
          3.544658198738521,
          3.877991532071854,
          3.629912287450431,
          2.541712455594845,
          3.75,
          3.461324865405187,
          3.4261387212474173,
          3.352786404500042,
          4.396446609406726,
          4,
          3.044658198738521,
          2.6816699867329623,
          2.875,
          3.376393202250021,
          2.4250850428694704,
          3.377991532071854,
          3.961324865405187,
          3.5,
          3.5,
          3.377991532071854,
          3.377991532071854,
          2.375,
          3.544658198738521,
          2.6835034190722737,
          3.377991532071854,
          3.3522774424948336,
          4,
          3,
          1.9029040508406931,
          2.4226497308103743,
          2.1258336669336,
          2.896446609406726,
          3.461324865405187,
          3.5,
          3.044658198738521,
          3.331669986732962,
          3.3720355269907727,
          3.396446609406726,
          3.2928932188134525,
          3.377991532071854,
          3.526138721247417,
          3.2263356778114476,
          3.2299122874504307,
          3.218767576200445,
          3.544658198738521,
          3.7527864045000423,
          3.544658198738521,
          3.396446609406726,
          4,
          4,
          3.3522774424948336,
          2.7710874361700335,
          3.377991532071854,
          3.5751344435861725,
          3.544658198738521,
          3.461324865405187,
          3.2458471303941043,
          3.091751709536137,
          3.591751709536137,
          3.3522774424948336,
          3.877991532071854,
          3.396446609406726,
          3.331669986732962,
          3.625,
          4.091751709536137,
          3.613167838905724,
          3.146446609406726,
          3.377991532071854,
          3.377991532071854,
          3.146286446121831,
          2.7861762457398513,
          3.461324865405187,
          3.476138721247417,
          2.948079759479735,
          3.526138721247417,
          3.392316389479564,
          4,
          3.526138721247417,
          4,
          3.544658198738521,
          3.544658198738521,
          3.396446609406726,
          3.146286446121831,
          3.544658198738521,
          3.526138721247417,
          3.875,
          3.544658198738521,
          3.377991532071854,
          4,
          3.544658198738521,
          4,
          3,
          3.461324865405187,
          3.331669986732962,
          3.146446609406726,
          3.544658198738521,
          3.375,
          4,
          4,
          3.4250850428694704,
          3.2458471303941043,
          4,
          4,
          3.331669986732962,
          3.526138721247417,
          3.646286446121831,
          3.9261387212474173,
          4.04465819873852,
          4,
          3.2928932188134525,
          3.2458471303941043,
          3.25,
          3.2584183762028034,
          3.375,
          3.316935553839011,
          3.4250850428694704,
          3.2458471303941043,
          3.6763932022500208,
          3.526138721247417,
          3,
          3.1045027756320973,
          2.9226497308103743,
          3.552786404500042,
          3.2928932188134525,
          3.461324865405187,
          3.129179606750063,
          3.3522774424948336,
          3.5,
          3.331669986732962,
          3.396286446121831,
          3.7527864045000423,
          3.591751709536137,
          3.877991532071854
         ]
        }
       ],
       "layout": {
        "hovermode": "x",
        "showlegend": false,
        "template": {
         "data": {
          "bar": [
           {
            "error_x": {
             "color": "#f2f5fa"
            },
            "error_y": {
             "color": "#f2f5fa"
            },
            "marker": {
             "line": {
              "color": "rgb(17,17,17)",
              "width": 0.5
             },
             "pattern": {
              "fillmode": "overlay",
              "size": 10,
              "solidity": 0.2
             }
            },
            "type": "bar"
           }
          ],
          "barpolar": [
           {
            "marker": {
             "line": {
              "color": "rgb(17,17,17)",
              "width": 0.5
             },
             "pattern": {
              "fillmode": "overlay",
              "size": 10,
              "solidity": 0.2
             }
            },
            "type": "barpolar"
           }
          ],
          "carpet": [
           {
            "aaxis": {
             "endlinecolor": "#A2B1C6",
             "gridcolor": "#506784",
             "linecolor": "#506784",
             "minorgridcolor": "#506784",
             "startlinecolor": "#A2B1C6"
            },
            "baxis": {
             "endlinecolor": "#A2B1C6",
             "gridcolor": "#506784",
             "linecolor": "#506784",
             "minorgridcolor": "#506784",
             "startlinecolor": "#A2B1C6"
            },
            "type": "carpet"
           }
          ],
          "choropleth": [
           {
            "colorbar": {
             "outlinewidth": 0,
             "ticks": ""
            },
            "type": "choropleth"
           }
          ],
          "contour": [
           {
            "colorbar": {
             "outlinewidth": 0,
             "ticks": ""
            },
            "colorscale": [
             [
              0,
              "#0d0887"
             ],
             [
              0.1111111111111111,
              "#46039f"
             ],
             [
              0.2222222222222222,
              "#7201a8"
             ],
             [
              0.3333333333333333,
              "#9c179e"
             ],
             [
              0.4444444444444444,
              "#bd3786"
             ],
             [
              0.5555555555555556,
              "#d8576b"
             ],
             [
              0.6666666666666666,
              "#ed7953"
             ],
             [
              0.7777777777777778,
              "#fb9f3a"
             ],
             [
              0.8888888888888888,
              "#fdca26"
             ],
             [
              1,
              "#f0f921"
             ]
            ],
            "type": "contour"
           }
          ],
          "contourcarpet": [
           {
            "colorbar": {
             "outlinewidth": 0,
             "ticks": ""
            },
            "type": "contourcarpet"
           }
          ],
          "heatmap": [
           {
            "colorbar": {
             "outlinewidth": 0,
             "ticks": ""
            },
            "colorscale": [
             [
              0,
              "#0d0887"
             ],
             [
              0.1111111111111111,
              "#46039f"
             ],
             [
              0.2222222222222222,
              "#7201a8"
             ],
             [
              0.3333333333333333,
              "#9c179e"
             ],
             [
              0.4444444444444444,
              "#bd3786"
             ],
             [
              0.5555555555555556,
              "#d8576b"
             ],
             [
              0.6666666666666666,
              "#ed7953"
             ],
             [
              0.7777777777777778,
              "#fb9f3a"
             ],
             [
              0.8888888888888888,
              "#fdca26"
             ],
             [
              1,
              "#f0f921"
             ]
            ],
            "type": "heatmap"
           }
          ],
          "heatmapgl": [
           {
            "colorbar": {
             "outlinewidth": 0,
             "ticks": ""
            },
            "colorscale": [
             [
              0,
              "#0d0887"
             ],
             [
              0.1111111111111111,
              "#46039f"
             ],
             [
              0.2222222222222222,
              "#7201a8"
             ],
             [
              0.3333333333333333,
              "#9c179e"
             ],
             [
              0.4444444444444444,
              "#bd3786"
             ],
             [
              0.5555555555555556,
              "#d8576b"
             ],
             [
              0.6666666666666666,
              "#ed7953"
             ],
             [
              0.7777777777777778,
              "#fb9f3a"
             ],
             [
              0.8888888888888888,
              "#fdca26"
             ],
             [
              1,
              "#f0f921"
             ]
            ],
            "type": "heatmapgl"
           }
          ],
          "histogram": [
           {
            "marker": {
             "pattern": {
              "fillmode": "overlay",
              "size": 10,
              "solidity": 0.2
             }
            },
            "type": "histogram"
           }
          ],
          "histogram2d": [
           {
            "colorbar": {
             "outlinewidth": 0,
             "ticks": ""
            },
            "colorscale": [
             [
              0,
              "#0d0887"
             ],
             [
              0.1111111111111111,
              "#46039f"
             ],
             [
              0.2222222222222222,
              "#7201a8"
             ],
             [
              0.3333333333333333,
              "#9c179e"
             ],
             [
              0.4444444444444444,
              "#bd3786"
             ],
             [
              0.5555555555555556,
              "#d8576b"
             ],
             [
              0.6666666666666666,
              "#ed7953"
             ],
             [
              0.7777777777777778,
              "#fb9f3a"
             ],
             [
              0.8888888888888888,
              "#fdca26"
             ],
             [
              1,
              "#f0f921"
             ]
            ],
            "type": "histogram2d"
           }
          ],
          "histogram2dcontour": [
           {
            "colorbar": {
             "outlinewidth": 0,
             "ticks": ""
            },
            "colorscale": [
             [
              0,
              "#0d0887"
             ],
             [
              0.1111111111111111,
              "#46039f"
             ],
             [
              0.2222222222222222,
              "#7201a8"
             ],
             [
              0.3333333333333333,
              "#9c179e"
             ],
             [
              0.4444444444444444,
              "#bd3786"
             ],
             [
              0.5555555555555556,
              "#d8576b"
             ],
             [
              0.6666666666666666,
              "#ed7953"
             ],
             [
              0.7777777777777778,
              "#fb9f3a"
             ],
             [
              0.8888888888888888,
              "#fdca26"
             ],
             [
              1,
              "#f0f921"
             ]
            ],
            "type": "histogram2dcontour"
           }
          ],
          "mesh3d": [
           {
            "colorbar": {
             "outlinewidth": 0,
             "ticks": ""
            },
            "type": "mesh3d"
           }
          ],
          "parcoords": [
           {
            "line": {
             "colorbar": {
              "outlinewidth": 0,
              "ticks": ""
             }
            },
            "type": "parcoords"
           }
          ],
          "pie": [
           {
            "automargin": true,
            "type": "pie"
           }
          ],
          "scatter": [
           {
            "marker": {
             "line": {
              "color": "#283442"
             }
            },
            "type": "scatter"
           }
          ],
          "scatter3d": [
           {
            "line": {
             "colorbar": {
              "outlinewidth": 0,
              "ticks": ""
             }
            },
            "marker": {
             "colorbar": {
              "outlinewidth": 0,
              "ticks": ""
             }
            },
            "type": "scatter3d"
           }
          ],
          "scattercarpet": [
           {
            "marker": {
             "colorbar": {
              "outlinewidth": 0,
              "ticks": ""
             }
            },
            "type": "scattercarpet"
           }
          ],
          "scattergeo": [
           {
            "marker": {
             "colorbar": {
              "outlinewidth": 0,
              "ticks": ""
             }
            },
            "type": "scattergeo"
           }
          ],
          "scattergl": [
           {
            "marker": {
             "line": {
              "color": "#283442"
             }
            },
            "type": "scattergl"
           }
          ],
          "scattermapbox": [
           {
            "marker": {
             "colorbar": {
              "outlinewidth": 0,
              "ticks": ""
             }
            },
            "type": "scattermapbox"
           }
          ],
          "scatterpolar": [
           {
            "marker": {
             "colorbar": {
              "outlinewidth": 0,
              "ticks": ""
             }
            },
            "type": "scatterpolar"
           }
          ],
          "scatterpolargl": [
           {
            "marker": {
             "colorbar": {
              "outlinewidth": 0,
              "ticks": ""
             }
            },
            "type": "scatterpolargl"
           }
          ],
          "scatterternary": [
           {
            "marker": {
             "colorbar": {
              "outlinewidth": 0,
              "ticks": ""
             }
            },
            "type": "scatterternary"
           }
          ],
          "surface": [
           {
            "colorbar": {
             "outlinewidth": 0,
             "ticks": ""
            },
            "colorscale": [
             [
              0,
              "#0d0887"
             ],
             [
              0.1111111111111111,
              "#46039f"
             ],
             [
              0.2222222222222222,
              "#7201a8"
             ],
             [
              0.3333333333333333,
              "#9c179e"
             ],
             [
              0.4444444444444444,
              "#bd3786"
             ],
             [
              0.5555555555555556,
              "#d8576b"
             ],
             [
              0.6666666666666666,
              "#ed7953"
             ],
             [
              0.7777777777777778,
              "#fb9f3a"
             ],
             [
              0.8888888888888888,
              "#fdca26"
             ],
             [
              1,
              "#f0f921"
             ]
            ],
            "type": "surface"
           }
          ],
          "table": [
           {
            "cells": {
             "fill": {
              "color": "#506784"
             },
             "line": {
              "color": "rgb(17,17,17)"
             }
            },
            "header": {
             "fill": {
              "color": "#2a3f5f"
             },
             "line": {
              "color": "rgb(17,17,17)"
             }
            },
            "type": "table"
           }
          ]
         },
         "layout": {
          "annotationdefaults": {
           "arrowcolor": "#f2f5fa",
           "arrowhead": 0,
           "arrowwidth": 1
          },
          "autotypenumbers": "strict",
          "coloraxis": {
           "colorbar": {
            "outlinewidth": 0,
            "ticks": ""
           }
          },
          "colorscale": {
           "diverging": [
            [
             0,
             "#8e0152"
            ],
            [
             0.1,
             "#c51b7d"
            ],
            [
             0.2,
             "#de77ae"
            ],
            [
             0.3,
             "#f1b6da"
            ],
            [
             0.4,
             "#fde0ef"
            ],
            [
             0.5,
             "#f7f7f7"
            ],
            [
             0.6,
             "#e6f5d0"
            ],
            [
             0.7,
             "#b8e186"
            ],
            [
             0.8,
             "#7fbc41"
            ],
            [
             0.9,
             "#4d9221"
            ],
            [
             1,
             "#276419"
            ]
           ],
           "sequential": [
            [
             0,
             "#0d0887"
            ],
            [
             0.1111111111111111,
             "#46039f"
            ],
            [
             0.2222222222222222,
             "#7201a8"
            ],
            [
             0.3333333333333333,
             "#9c179e"
            ],
            [
             0.4444444444444444,
             "#bd3786"
            ],
            [
             0.5555555555555556,
             "#d8576b"
            ],
            [
             0.6666666666666666,
             "#ed7953"
            ],
            [
             0.7777777777777778,
             "#fb9f3a"
            ],
            [
             0.8888888888888888,
             "#fdca26"
            ],
            [
             1,
             "#f0f921"
            ]
           ],
           "sequentialminus": [
            [
             0,
             "#0d0887"
            ],
            [
             0.1111111111111111,
             "#46039f"
            ],
            [
             0.2222222222222222,
             "#7201a8"
            ],
            [
             0.3333333333333333,
             "#9c179e"
            ],
            [
             0.4444444444444444,
             "#bd3786"
            ],
            [
             0.5555555555555556,
             "#d8576b"
            ],
            [
             0.6666666666666666,
             "#ed7953"
            ],
            [
             0.7777777777777778,
             "#fb9f3a"
            ],
            [
             0.8888888888888888,
             "#fdca26"
            ],
            [
             1,
             "#f0f921"
            ]
           ]
          },
          "colorway": [
           "#636efa",
           "#EF553B",
           "#00cc96",
           "#ab63fa",
           "#FFA15A",
           "#19d3f3",
           "#FF6692",
           "#B6E880",
           "#FF97FF",
           "#FECB52"
          ],
          "font": {
           "color": "#f2f5fa"
          },
          "geo": {
           "bgcolor": "rgb(17,17,17)",
           "lakecolor": "rgb(17,17,17)",
           "landcolor": "rgb(17,17,17)",
           "showlakes": true,
           "showland": true,
           "subunitcolor": "#506784"
          },
          "hoverlabel": {
           "align": "left"
          },
          "hovermode": "closest",
          "mapbox": {
           "style": "dark"
          },
          "paper_bgcolor": "rgb(17,17,17)",
          "plot_bgcolor": "rgb(17,17,17)",
          "polar": {
           "angularaxis": {
            "gridcolor": "#506784",
            "linecolor": "#506784",
            "ticks": ""
           },
           "bgcolor": "rgb(17,17,17)",
           "radialaxis": {
            "gridcolor": "#506784",
            "linecolor": "#506784",
            "ticks": ""
           }
          },
          "scene": {
           "xaxis": {
            "backgroundcolor": "rgb(17,17,17)",
            "gridcolor": "#506784",
            "gridwidth": 2,
            "linecolor": "#506784",
            "showbackground": true,
            "ticks": "",
            "zerolinecolor": "#C8D4E3"
           },
           "yaxis": {
            "backgroundcolor": "rgb(17,17,17)",
            "gridcolor": "#506784",
            "gridwidth": 2,
            "linecolor": "#506784",
            "showbackground": true,
            "ticks": "",
            "zerolinecolor": "#C8D4E3"
           },
           "zaxis": {
            "backgroundcolor": "rgb(17,17,17)",
            "gridcolor": "#506784",
            "gridwidth": 2,
            "linecolor": "#506784",
            "showbackground": true,
            "ticks": "",
            "zerolinecolor": "#C8D4E3"
           }
          },
          "shapedefaults": {
           "line": {
            "color": "#f2f5fa"
           }
          },
          "sliderdefaults": {
           "bgcolor": "#C8D4E3",
           "bordercolor": "rgb(17,17,17)",
           "borderwidth": 1,
           "tickwidth": 0
          },
          "ternary": {
           "aaxis": {
            "gridcolor": "#506784",
            "linecolor": "#506784",
            "ticks": ""
           },
           "baxis": {
            "gridcolor": "#506784",
            "linecolor": "#506784",
            "ticks": ""
           },
           "bgcolor": "rgb(17,17,17)",
           "caxis": {
            "gridcolor": "#506784",
            "linecolor": "#506784",
            "ticks": ""
           }
          },
          "title": {
           "x": 0.05
          },
          "updatemenudefaults": {
           "bgcolor": "#506784",
           "borderwidth": 0
          },
          "xaxis": {
           "automargin": true,
           "gridcolor": "#283442",
           "linecolor": "#506784",
           "ticks": "",
           "title": {
            "standoff": 15
           },
           "zerolinecolor": "#283442",
           "zerolinewidth": 2
          },
          "yaxis": {
           "automargin": true,
           "gridcolor": "#283442",
           "linecolor": "#506784",
           "ticks": "",
           "title": {
            "standoff": 15
           },
           "zerolinecolor": "#283442",
           "zerolinewidth": 2
          }
         }
        },
        "xaxis": {
         "title": {
          "text": "Date"
         }
        },
        "yaxis": {
         "rangemode": "tozero",
         "title": {
          "text": "Mood"
         }
        }
       }
      }
     },
     "metadata": {},
     "output_type": "display_data"
    }
   ],
   "source": [
    "df.mood_plot('day')"
   ]
  },
  {
   "cell_type": "code",
   "execution_count": 42,
   "metadata": {
    "metadata": {}
   },
   "outputs": [
    {
     "data": {
      "application/vnd.plotly.v1+json": {
       "config": {
        "plotlyServerURL": "https://plot.ly"
       },
       "data": [
        {
         "line": {
          "color": "rgb(31, 119, 180)",
          "shape": "spline"
         },
         "marker": {
          "color": [
           2,
           13,
           13,
           34,
           29,
           34,
           32,
           14,
           14,
           15,
           11,
           14,
           12,
           18,
           17,
           11,
           14,
           17,
           30,
           29,
           27,
           15,
           26,
           17,
           21,
           24,
           22,
           21,
           18,
           14,
           30,
           25,
           27,
           30,
           23,
           27,
           27,
           32,
           23,
           28,
           31,
           33,
           29,
           24,
           21,
           26,
           30,
           30,
           31,
           37,
           16
          ],
          "colorbar": {
           "title": {
            "text": "Number of entries"
           }
          },
          "colorscale": [
           [
            0,
            "rgb(0,0,255)"
           ],
           [
            1,
            "rgb(255,0,0)"
           ]
          ],
          "showscale": true,
          "size": 5
         },
         "mode": "lines+markers",
         "name": "avg",
         "type": "scatter",
         "x": [
          "2023-06-26",
          "2023-07-03",
          "2023-07-10",
          "2023-07-17",
          "2023-07-24",
          "2023-07-31",
          "2023-08-07",
          "2023-08-14",
          "2023-08-21",
          "2023-08-28",
          "2023-09-04",
          "2023-09-11",
          "2023-09-18",
          "2023-09-25",
          "2023-10-02",
          "2023-10-09",
          "2023-10-16",
          "2023-10-23",
          "2023-10-30",
          "2023-11-06",
          "2023-11-13",
          "2023-11-20",
          "2023-11-27",
          "2023-12-04",
          "2023-12-11",
          "2023-12-18",
          "2023-12-25",
          "2024-01-01",
          "2024-01-08",
          "2024-01-15",
          "2024-01-22",
          "2024-01-29",
          "2024-02-05",
          "2024-02-12",
          "2024-02-19",
          "2024-02-26",
          "2024-03-04",
          "2024-03-11",
          "2024-03-18",
          "2024-03-25",
          "2024-04-01",
          "2024-04-08",
          "2024-04-15",
          "2024-04-22",
          "2024-04-29",
          "2024-05-06",
          "2024-05-13",
          "2024-05-20",
          "2024-05-27",
          "2024-06-03",
          "2024-06-10"
         ],
         "y": [
          4,
          3.769230769230769,
          4,
          3.5294117647058822,
          3.3793103448275863,
          3.75,
          3.90625,
          4,
          3.607142857142857,
          3.9,
          4.090909090909091,
          3.9642857142857144,
          3.9166666666666665,
          3.9444444444444446,
          4.0588235294117645,
          4.090909090909091,
          4.178571428571429,
          4.088235294117647,
          3.75,
          4,
          3.5925925925925926,
          3.8333333333333335,
          3.6923076923076925,
          3.764705882352941,
          4.095238095238095,
          3.9166666666666665,
          3.9545454545454546,
          4.023809523809524,
          3.9166666666666665,
          4.107142857142857,
          3.8333333333333335,
          3.86,
          3.8333333333333335,
          3.3666666666666667,
          3.5217391304347827,
          3.388888888888889,
          3.6481481481481484,
          3.78125,
          3.9130434782608696,
          3.7857142857142856,
          3.9516129032258065,
          3.6363636363636362,
          3.793103448275862,
          3.8333333333333335,
          3.738095238095238,
          3.769230769230769,
          4,
          3.8,
          3.7580645161290325,
          3.891891891891892,
          4.0625
         ]
        },
        {
         "line": {
          "width": 0
         },
         "marker": {
          "color": "#444"
         },
         "mode": "lines",
         "name": "avg+std",
         "showlegend": false,
         "type": "scatter",
         "x": [
          "2023-06-26",
          "2023-07-03",
          "2023-07-10",
          "2023-07-17",
          "2023-07-24",
          "2023-07-31",
          "2023-08-07",
          "2023-08-14",
          "2023-08-21",
          "2023-08-28",
          "2023-09-04",
          "2023-09-11",
          "2023-09-18",
          "2023-09-25",
          "2023-10-02",
          "2023-10-09",
          "2023-10-16",
          "2023-10-23",
          "2023-10-30",
          "2023-11-06",
          "2023-11-13",
          "2023-11-20",
          "2023-11-27",
          "2023-12-04",
          "2023-12-11",
          "2023-12-18",
          "2023-12-25",
          "2024-01-01",
          "2024-01-08",
          "2024-01-15",
          "2024-01-22",
          "2024-01-29",
          "2024-02-05",
          "2024-02-12",
          "2024-02-19",
          "2024-02-26",
          "2024-03-04",
          "2024-03-11",
          "2024-03-18",
          "2024-03-25",
          "2024-04-01",
          "2024-04-08",
          "2024-04-15",
          "2024-04-22",
          "2024-04-29",
          "2024-05-06",
          "2024-05-13",
          "2024-05-20",
          "2024-05-27",
          "2024-06-03",
          "2024-06-10"
         ],
         "y": [
          4,
          4.57585399332057,
          4.67700320038633,
          4.225082102762161,
          3.986634281892494,
          4.303911709406997,
          4.371796851528116,
          4.4803844614152615,
          4.371205164020515,
          4.503560862122217,
          4.581733999516112,
          4.500091567265982,
          4.111291402707047,
          4.5357761640522964,
          4.641981766438187,
          4.716136322329069,
          4.953345411920589,
          4.8431213392770935,
          4.236897284360102,
          4.719622917128924,
          4.1815459836738365,
          4.141940033257518,
          4.0109586950339695,
          4.1646139600260925,
          4.656910767242164,
          4.297360160480107,
          4.676795426262326,
          4.318605659986309,
          4.345413129522939,
          4.553434044794847,
          4.347500442444714,
          4.305346307196246,
          4.405105208230199,
          3.906994366297646,
          4.009737380933817,
          4.086871329341002,
          4.010162141046394,
          4.220044168808845,
          4.405074840736961,
          4.156613379223743,
          4.367041170392703,
          4.091760566125315,
          4.159486380741296,
          4.151844361968637,
          4.077913116489225,
          4.149514064440255,
          4.347404166889826,
          4.227502772727447,
          4.202867239103602,
          4.379732017330532,
          4.4656128874149275
         ]
        },
        {
         "fill": "tonexty",
         "fillcolor": "rgba(130, 130, 130, 0.45)",
         "line": {
          "width": 0
         },
         "marker": {
          "color": "#444"
         },
         "mode": "lines",
         "name": "avg-std",
         "showlegend": false,
         "type": "scatter",
         "x": [
          "2023-06-26",
          "2023-07-03",
          "2023-07-10",
          "2023-07-17",
          "2023-07-24",
          "2023-07-31",
          "2023-08-07",
          "2023-08-14",
          "2023-08-21",
          "2023-08-28",
          "2023-09-04",
          "2023-09-11",
          "2023-09-18",
          "2023-09-25",
          "2023-10-02",
          "2023-10-09",
          "2023-10-16",
          "2023-10-23",
          "2023-10-30",
          "2023-11-06",
          "2023-11-13",
          "2023-11-20",
          "2023-11-27",
          "2023-12-04",
          "2023-12-11",
          "2023-12-18",
          "2023-12-25",
          "2024-01-01",
          "2024-01-08",
          "2024-01-15",
          "2024-01-22",
          "2024-01-29",
          "2024-02-05",
          "2024-02-12",
          "2024-02-19",
          "2024-02-26",
          "2024-03-04",
          "2024-03-11",
          "2024-03-18",
          "2024-03-25",
          "2024-04-01",
          "2024-04-08",
          "2024-04-15",
          "2024-04-22",
          "2024-04-29",
          "2024-05-06",
          "2024-05-13",
          "2024-05-20",
          "2024-05-27",
          "2024-06-03",
          "2024-06-10"
         ],
         "y": [
          4,
          2.962607545140968,
          3.3229967996136702,
          2.8337414266496035,
          2.771986407762679,
          3.1960882905930026,
          3.4407031484718837,
          3.5196155385847385,
          2.8430805502651992,
          3.2964391378777824,
          3.6000841823020693,
          3.428479861305447,
          3.7220419306262857,
          3.353112724836593,
          3.4756652923853424,
          3.465681859489113,
          3.4037974452222683,
          3.3333492489582,
          3.263102715639899,
          3.2803770828710754,
          3.0036392015113487,
          3.52472663340915,
          3.373656689581416,
          3.3647978046797897,
          3.533565423234026,
          3.535973172853226,
          3.232295482828583,
          3.729013387632738,
          3.4879202038103942,
          3.6608516694908664,
          3.319166224221953,
          3.4146536928037534,
          3.261561458436468,
          2.8263389670356873,
          3.033740879935748,
          2.690906448436776,
          3.286134155249903,
          3.342455831191155,
          3.421012115784778,
          3.4148151922048275,
          3.53618463605891,
          3.180966706601957,
          3.4267205158104286,
          3.5148223046980305,
          3.398277359701251,
          3.388947474021284,
          3.6525958331101744,
          3.372497227272553,
          3.3132617931544632,
          3.404051766453252,
          3.6593871125850725
         ]
        }
       ],
       "layout": {
        "hovermode": "x",
        "showlegend": false,
        "template": {
         "data": {
          "bar": [
           {
            "error_x": {
             "color": "#f2f5fa"
            },
            "error_y": {
             "color": "#f2f5fa"
            },
            "marker": {
             "line": {
              "color": "rgb(17,17,17)",
              "width": 0.5
             },
             "pattern": {
              "fillmode": "overlay",
              "size": 10,
              "solidity": 0.2
             }
            },
            "type": "bar"
           }
          ],
          "barpolar": [
           {
            "marker": {
             "line": {
              "color": "rgb(17,17,17)",
              "width": 0.5
             },
             "pattern": {
              "fillmode": "overlay",
              "size": 10,
              "solidity": 0.2
             }
            },
            "type": "barpolar"
           }
          ],
          "carpet": [
           {
            "aaxis": {
             "endlinecolor": "#A2B1C6",
             "gridcolor": "#506784",
             "linecolor": "#506784",
             "minorgridcolor": "#506784",
             "startlinecolor": "#A2B1C6"
            },
            "baxis": {
             "endlinecolor": "#A2B1C6",
             "gridcolor": "#506784",
             "linecolor": "#506784",
             "minorgridcolor": "#506784",
             "startlinecolor": "#A2B1C6"
            },
            "type": "carpet"
           }
          ],
          "choropleth": [
           {
            "colorbar": {
             "outlinewidth": 0,
             "ticks": ""
            },
            "type": "choropleth"
           }
          ],
          "contour": [
           {
            "colorbar": {
             "outlinewidth": 0,
             "ticks": ""
            },
            "colorscale": [
             [
              0,
              "#0d0887"
             ],
             [
              0.1111111111111111,
              "#46039f"
             ],
             [
              0.2222222222222222,
              "#7201a8"
             ],
             [
              0.3333333333333333,
              "#9c179e"
             ],
             [
              0.4444444444444444,
              "#bd3786"
             ],
             [
              0.5555555555555556,
              "#d8576b"
             ],
             [
              0.6666666666666666,
              "#ed7953"
             ],
             [
              0.7777777777777778,
              "#fb9f3a"
             ],
             [
              0.8888888888888888,
              "#fdca26"
             ],
             [
              1,
              "#f0f921"
             ]
            ],
            "type": "contour"
           }
          ],
          "contourcarpet": [
           {
            "colorbar": {
             "outlinewidth": 0,
             "ticks": ""
            },
            "type": "contourcarpet"
           }
          ],
          "heatmap": [
           {
            "colorbar": {
             "outlinewidth": 0,
             "ticks": ""
            },
            "colorscale": [
             [
              0,
              "#0d0887"
             ],
             [
              0.1111111111111111,
              "#46039f"
             ],
             [
              0.2222222222222222,
              "#7201a8"
             ],
             [
              0.3333333333333333,
              "#9c179e"
             ],
             [
              0.4444444444444444,
              "#bd3786"
             ],
             [
              0.5555555555555556,
              "#d8576b"
             ],
             [
              0.6666666666666666,
              "#ed7953"
             ],
             [
              0.7777777777777778,
              "#fb9f3a"
             ],
             [
              0.8888888888888888,
              "#fdca26"
             ],
             [
              1,
              "#f0f921"
             ]
            ],
            "type": "heatmap"
           }
          ],
          "heatmapgl": [
           {
            "colorbar": {
             "outlinewidth": 0,
             "ticks": ""
            },
            "colorscale": [
             [
              0,
              "#0d0887"
             ],
             [
              0.1111111111111111,
              "#46039f"
             ],
             [
              0.2222222222222222,
              "#7201a8"
             ],
             [
              0.3333333333333333,
              "#9c179e"
             ],
             [
              0.4444444444444444,
              "#bd3786"
             ],
             [
              0.5555555555555556,
              "#d8576b"
             ],
             [
              0.6666666666666666,
              "#ed7953"
             ],
             [
              0.7777777777777778,
              "#fb9f3a"
             ],
             [
              0.8888888888888888,
              "#fdca26"
             ],
             [
              1,
              "#f0f921"
             ]
            ],
            "type": "heatmapgl"
           }
          ],
          "histogram": [
           {
            "marker": {
             "pattern": {
              "fillmode": "overlay",
              "size": 10,
              "solidity": 0.2
             }
            },
            "type": "histogram"
           }
          ],
          "histogram2d": [
           {
            "colorbar": {
             "outlinewidth": 0,
             "ticks": ""
            },
            "colorscale": [
             [
              0,
              "#0d0887"
             ],
             [
              0.1111111111111111,
              "#46039f"
             ],
             [
              0.2222222222222222,
              "#7201a8"
             ],
             [
              0.3333333333333333,
              "#9c179e"
             ],
             [
              0.4444444444444444,
              "#bd3786"
             ],
             [
              0.5555555555555556,
              "#d8576b"
             ],
             [
              0.6666666666666666,
              "#ed7953"
             ],
             [
              0.7777777777777778,
              "#fb9f3a"
             ],
             [
              0.8888888888888888,
              "#fdca26"
             ],
             [
              1,
              "#f0f921"
             ]
            ],
            "type": "histogram2d"
           }
          ],
          "histogram2dcontour": [
           {
            "colorbar": {
             "outlinewidth": 0,
             "ticks": ""
            },
            "colorscale": [
             [
              0,
              "#0d0887"
             ],
             [
              0.1111111111111111,
              "#46039f"
             ],
             [
              0.2222222222222222,
              "#7201a8"
             ],
             [
              0.3333333333333333,
              "#9c179e"
             ],
             [
              0.4444444444444444,
              "#bd3786"
             ],
             [
              0.5555555555555556,
              "#d8576b"
             ],
             [
              0.6666666666666666,
              "#ed7953"
             ],
             [
              0.7777777777777778,
              "#fb9f3a"
             ],
             [
              0.8888888888888888,
              "#fdca26"
             ],
             [
              1,
              "#f0f921"
             ]
            ],
            "type": "histogram2dcontour"
           }
          ],
          "mesh3d": [
           {
            "colorbar": {
             "outlinewidth": 0,
             "ticks": ""
            },
            "type": "mesh3d"
           }
          ],
          "parcoords": [
           {
            "line": {
             "colorbar": {
              "outlinewidth": 0,
              "ticks": ""
             }
            },
            "type": "parcoords"
           }
          ],
          "pie": [
           {
            "automargin": true,
            "type": "pie"
           }
          ],
          "scatter": [
           {
            "marker": {
             "line": {
              "color": "#283442"
             }
            },
            "type": "scatter"
           }
          ],
          "scatter3d": [
           {
            "line": {
             "colorbar": {
              "outlinewidth": 0,
              "ticks": ""
             }
            },
            "marker": {
             "colorbar": {
              "outlinewidth": 0,
              "ticks": ""
             }
            },
            "type": "scatter3d"
           }
          ],
          "scattercarpet": [
           {
            "marker": {
             "colorbar": {
              "outlinewidth": 0,
              "ticks": ""
             }
            },
            "type": "scattercarpet"
           }
          ],
          "scattergeo": [
           {
            "marker": {
             "colorbar": {
              "outlinewidth": 0,
              "ticks": ""
             }
            },
            "type": "scattergeo"
           }
          ],
          "scattergl": [
           {
            "marker": {
             "line": {
              "color": "#283442"
             }
            },
            "type": "scattergl"
           }
          ],
          "scattermapbox": [
           {
            "marker": {
             "colorbar": {
              "outlinewidth": 0,
              "ticks": ""
             }
            },
            "type": "scattermapbox"
           }
          ],
          "scatterpolar": [
           {
            "marker": {
             "colorbar": {
              "outlinewidth": 0,
              "ticks": ""
             }
            },
            "type": "scatterpolar"
           }
          ],
          "scatterpolargl": [
           {
            "marker": {
             "colorbar": {
              "outlinewidth": 0,
              "ticks": ""
             }
            },
            "type": "scatterpolargl"
           }
          ],
          "scatterternary": [
           {
            "marker": {
             "colorbar": {
              "outlinewidth": 0,
              "ticks": ""
             }
            },
            "type": "scatterternary"
           }
          ],
          "surface": [
           {
            "colorbar": {
             "outlinewidth": 0,
             "ticks": ""
            },
            "colorscale": [
             [
              0,
              "#0d0887"
             ],
             [
              0.1111111111111111,
              "#46039f"
             ],
             [
              0.2222222222222222,
              "#7201a8"
             ],
             [
              0.3333333333333333,
              "#9c179e"
             ],
             [
              0.4444444444444444,
              "#bd3786"
             ],
             [
              0.5555555555555556,
              "#d8576b"
             ],
             [
              0.6666666666666666,
              "#ed7953"
             ],
             [
              0.7777777777777778,
              "#fb9f3a"
             ],
             [
              0.8888888888888888,
              "#fdca26"
             ],
             [
              1,
              "#f0f921"
             ]
            ],
            "type": "surface"
           }
          ],
          "table": [
           {
            "cells": {
             "fill": {
              "color": "#506784"
             },
             "line": {
              "color": "rgb(17,17,17)"
             }
            },
            "header": {
             "fill": {
              "color": "#2a3f5f"
             },
             "line": {
              "color": "rgb(17,17,17)"
             }
            },
            "type": "table"
           }
          ]
         },
         "layout": {
          "annotationdefaults": {
           "arrowcolor": "#f2f5fa",
           "arrowhead": 0,
           "arrowwidth": 1
          },
          "autotypenumbers": "strict",
          "coloraxis": {
           "colorbar": {
            "outlinewidth": 0,
            "ticks": ""
           }
          },
          "colorscale": {
           "diverging": [
            [
             0,
             "#8e0152"
            ],
            [
             0.1,
             "#c51b7d"
            ],
            [
             0.2,
             "#de77ae"
            ],
            [
             0.3,
             "#f1b6da"
            ],
            [
             0.4,
             "#fde0ef"
            ],
            [
             0.5,
             "#f7f7f7"
            ],
            [
             0.6,
             "#e6f5d0"
            ],
            [
             0.7,
             "#b8e186"
            ],
            [
             0.8,
             "#7fbc41"
            ],
            [
             0.9,
             "#4d9221"
            ],
            [
             1,
             "#276419"
            ]
           ],
           "sequential": [
            [
             0,
             "#0d0887"
            ],
            [
             0.1111111111111111,
             "#46039f"
            ],
            [
             0.2222222222222222,
             "#7201a8"
            ],
            [
             0.3333333333333333,
             "#9c179e"
            ],
            [
             0.4444444444444444,
             "#bd3786"
            ],
            [
             0.5555555555555556,
             "#d8576b"
            ],
            [
             0.6666666666666666,
             "#ed7953"
            ],
            [
             0.7777777777777778,
             "#fb9f3a"
            ],
            [
             0.8888888888888888,
             "#fdca26"
            ],
            [
             1,
             "#f0f921"
            ]
           ],
           "sequentialminus": [
            [
             0,
             "#0d0887"
            ],
            [
             0.1111111111111111,
             "#46039f"
            ],
            [
             0.2222222222222222,
             "#7201a8"
            ],
            [
             0.3333333333333333,
             "#9c179e"
            ],
            [
             0.4444444444444444,
             "#bd3786"
            ],
            [
             0.5555555555555556,
             "#d8576b"
            ],
            [
             0.6666666666666666,
             "#ed7953"
            ],
            [
             0.7777777777777778,
             "#fb9f3a"
            ],
            [
             0.8888888888888888,
             "#fdca26"
            ],
            [
             1,
             "#f0f921"
            ]
           ]
          },
          "colorway": [
           "#636efa",
           "#EF553B",
           "#00cc96",
           "#ab63fa",
           "#FFA15A",
           "#19d3f3",
           "#FF6692",
           "#B6E880",
           "#FF97FF",
           "#FECB52"
          ],
          "font": {
           "color": "#f2f5fa"
          },
          "geo": {
           "bgcolor": "rgb(17,17,17)",
           "lakecolor": "rgb(17,17,17)",
           "landcolor": "rgb(17,17,17)",
           "showlakes": true,
           "showland": true,
           "subunitcolor": "#506784"
          },
          "hoverlabel": {
           "align": "left"
          },
          "hovermode": "closest",
          "mapbox": {
           "style": "dark"
          },
          "paper_bgcolor": "rgb(17,17,17)",
          "plot_bgcolor": "rgb(17,17,17)",
          "polar": {
           "angularaxis": {
            "gridcolor": "#506784",
            "linecolor": "#506784",
            "ticks": ""
           },
           "bgcolor": "rgb(17,17,17)",
           "radialaxis": {
            "gridcolor": "#506784",
            "linecolor": "#506784",
            "ticks": ""
           }
          },
          "scene": {
           "xaxis": {
            "backgroundcolor": "rgb(17,17,17)",
            "gridcolor": "#506784",
            "gridwidth": 2,
            "linecolor": "#506784",
            "showbackground": true,
            "ticks": "",
            "zerolinecolor": "#C8D4E3"
           },
           "yaxis": {
            "backgroundcolor": "rgb(17,17,17)",
            "gridcolor": "#506784",
            "gridwidth": 2,
            "linecolor": "#506784",
            "showbackground": true,
            "ticks": "",
            "zerolinecolor": "#C8D4E3"
           },
           "zaxis": {
            "backgroundcolor": "rgb(17,17,17)",
            "gridcolor": "#506784",
            "gridwidth": 2,
            "linecolor": "#506784",
            "showbackground": true,
            "ticks": "",
            "zerolinecolor": "#C8D4E3"
           }
          },
          "shapedefaults": {
           "line": {
            "color": "#f2f5fa"
           }
          },
          "sliderdefaults": {
           "bgcolor": "#C8D4E3",
           "bordercolor": "rgb(17,17,17)",
           "borderwidth": 1,
           "tickwidth": 0
          },
          "ternary": {
           "aaxis": {
            "gridcolor": "#506784",
            "linecolor": "#506784",
            "ticks": ""
           },
           "baxis": {
            "gridcolor": "#506784",
            "linecolor": "#506784",
            "ticks": ""
           },
           "bgcolor": "rgb(17,17,17)",
           "caxis": {
            "gridcolor": "#506784",
            "linecolor": "#506784",
            "ticks": ""
           }
          },
          "title": {
           "x": 0.05
          },
          "updatemenudefaults": {
           "bgcolor": "#506784",
           "borderwidth": 0
          },
          "xaxis": {
           "automargin": true,
           "gridcolor": "#283442",
           "linecolor": "#506784",
           "ticks": "",
           "title": {
            "standoff": 15
           },
           "zerolinecolor": "#283442",
           "zerolinewidth": 2
          },
          "yaxis": {
           "automargin": true,
           "gridcolor": "#283442",
           "linecolor": "#506784",
           "ticks": "",
           "title": {
            "standoff": 15
           },
           "zerolinecolor": "#283442",
           "zerolinewidth": 2
          }
         }
        },
        "xaxis": {
         "title": {
          "text": "Date"
         }
        },
        "yaxis": {
         "rangemode": "tozero",
         "title": {
          "text": "Mood"
         }
        }
       }
      }
     },
     "metadata": {},
     "output_type": "display_data"
    }
   ],
   "source": [
    "df.mood_plot('week')"
   ]
  },
  {
   "cell_type": "code",
   "execution_count": 43,
   "metadata": {
    "metadata": {}
   },
   "outputs": [
    {
     "data": {
      "application/vnd.plotly.v1+json": {
       "config": {
        "plotlyServerURL": "https://plot.ly"
       },
       "data": [
        {
         "line": {
          "color": "rgb(31, 119, 180)",
          "shape": "spline"
         },
         "marker": {
          "color": [
           95,
           97,
           58,
           71,
           109,
           95,
           94,
           108,
           123,
           121,
           126,
           61
          ],
          "colorbar": {
           "title": {
            "text": "Number of entries"
           }
          },
          "colorscale": [
           [
            0,
            "rgb(0,0,255)"
           ],
           [
            1,
            "rgb(255,0,0)"
           ]
          ],
          "showscale": true,
          "size": 10
         },
         "mode": "lines+markers",
         "name": "avg",
         "type": "scatter",
         "x": [
          "2023-07-01",
          "2023-08-01",
          "2023-09-01",
          "2023-10-01",
          "2023-11-01",
          "2023-12-01",
          "2024-01-01",
          "2024-02-01",
          "2024-03-01",
          "2024-04-01",
          "2024-05-01",
          "2024-06-01"
         ],
         "y": [
          3.5894736842105264,
          3.8247422680412373,
          3.9741379310344827,
          4.063380281690141,
          3.7844036697247705,
          3.9105263157894736,
          3.904255319148936,
          3.662037037037037,
          3.6910569105691056,
          3.7975206611570247,
          3.8333333333333335,
          3.901639344262295
         ]
        },
        {
         "line": {
          "width": 0
         },
         "marker": {
          "color": "#444"
         },
         "mode": "lines",
         "name": "avg+std",
         "showlegend": false,
         "type": "scatter",
         "x": [
          "2023-07-01",
          "2023-08-01",
          "2023-09-01",
          "2023-10-01",
          "2023-11-01",
          "2023-12-01",
          "2024-01-01",
          "2024-02-01",
          "2024-03-01",
          "2024-04-01",
          "2024-05-01",
          "2024-06-01"
         ],
         "y": [
          4.2774360910586635,
          4.397751671657184,
          4.407630618938004,
          4.749620438865397,
          4.3387090929425405,
          4.436343548863841,
          4.345883512307965,
          4.220860499471141,
          4.209251780250529,
          4.203612360554537,
          4.223205107125692,
          4.391704579130296
         ]
        },
        {
         "fill": "tonexty",
         "fillcolor": "rgba(130, 130, 130, 0.45)",
         "line": {
          "width": 0
         },
         "marker": {
          "color": "#444"
         },
         "mode": "lines",
         "name": "avg-std",
         "showlegend": false,
         "type": "scatter",
         "x": [
          "2023-07-01",
          "2023-08-01",
          "2023-09-01",
          "2023-10-01",
          "2023-11-01",
          "2023-12-01",
          "2024-01-01",
          "2024-02-01",
          "2024-03-01",
          "2024-04-01",
          "2024-05-01",
          "2024-06-01"
         ],
         "y": [
          2.901511277362389,
          3.251732864425291,
          3.540645243130961,
          3.3771401245148853,
          3.230098246507001,
          3.3847090827151054,
          3.462627125989908,
          3.103213574602934,
          3.172862040887682,
          3.391428961759513,
          3.443461559540975,
          3.4115741093942935
         ]
        }
       ],
       "layout": {
        "hovermode": "x",
        "showlegend": false,
        "template": {
         "data": {
          "bar": [
           {
            "error_x": {
             "color": "#f2f5fa"
            },
            "error_y": {
             "color": "#f2f5fa"
            },
            "marker": {
             "line": {
              "color": "rgb(17,17,17)",
              "width": 0.5
             },
             "pattern": {
              "fillmode": "overlay",
              "size": 10,
              "solidity": 0.2
             }
            },
            "type": "bar"
           }
          ],
          "barpolar": [
           {
            "marker": {
             "line": {
              "color": "rgb(17,17,17)",
              "width": 0.5
             },
             "pattern": {
              "fillmode": "overlay",
              "size": 10,
              "solidity": 0.2
             }
            },
            "type": "barpolar"
           }
          ],
          "carpet": [
           {
            "aaxis": {
             "endlinecolor": "#A2B1C6",
             "gridcolor": "#506784",
             "linecolor": "#506784",
             "minorgridcolor": "#506784",
             "startlinecolor": "#A2B1C6"
            },
            "baxis": {
             "endlinecolor": "#A2B1C6",
             "gridcolor": "#506784",
             "linecolor": "#506784",
             "minorgridcolor": "#506784",
             "startlinecolor": "#A2B1C6"
            },
            "type": "carpet"
           }
          ],
          "choropleth": [
           {
            "colorbar": {
             "outlinewidth": 0,
             "ticks": ""
            },
            "type": "choropleth"
           }
          ],
          "contour": [
           {
            "colorbar": {
             "outlinewidth": 0,
             "ticks": ""
            },
            "colorscale": [
             [
              0,
              "#0d0887"
             ],
             [
              0.1111111111111111,
              "#46039f"
             ],
             [
              0.2222222222222222,
              "#7201a8"
             ],
             [
              0.3333333333333333,
              "#9c179e"
             ],
             [
              0.4444444444444444,
              "#bd3786"
             ],
             [
              0.5555555555555556,
              "#d8576b"
             ],
             [
              0.6666666666666666,
              "#ed7953"
             ],
             [
              0.7777777777777778,
              "#fb9f3a"
             ],
             [
              0.8888888888888888,
              "#fdca26"
             ],
             [
              1,
              "#f0f921"
             ]
            ],
            "type": "contour"
           }
          ],
          "contourcarpet": [
           {
            "colorbar": {
             "outlinewidth": 0,
             "ticks": ""
            },
            "type": "contourcarpet"
           }
          ],
          "heatmap": [
           {
            "colorbar": {
             "outlinewidth": 0,
             "ticks": ""
            },
            "colorscale": [
             [
              0,
              "#0d0887"
             ],
             [
              0.1111111111111111,
              "#46039f"
             ],
             [
              0.2222222222222222,
              "#7201a8"
             ],
             [
              0.3333333333333333,
              "#9c179e"
             ],
             [
              0.4444444444444444,
              "#bd3786"
             ],
             [
              0.5555555555555556,
              "#d8576b"
             ],
             [
              0.6666666666666666,
              "#ed7953"
             ],
             [
              0.7777777777777778,
              "#fb9f3a"
             ],
             [
              0.8888888888888888,
              "#fdca26"
             ],
             [
              1,
              "#f0f921"
             ]
            ],
            "type": "heatmap"
           }
          ],
          "heatmapgl": [
           {
            "colorbar": {
             "outlinewidth": 0,
             "ticks": ""
            },
            "colorscale": [
             [
              0,
              "#0d0887"
             ],
             [
              0.1111111111111111,
              "#46039f"
             ],
             [
              0.2222222222222222,
              "#7201a8"
             ],
             [
              0.3333333333333333,
              "#9c179e"
             ],
             [
              0.4444444444444444,
              "#bd3786"
             ],
             [
              0.5555555555555556,
              "#d8576b"
             ],
             [
              0.6666666666666666,
              "#ed7953"
             ],
             [
              0.7777777777777778,
              "#fb9f3a"
             ],
             [
              0.8888888888888888,
              "#fdca26"
             ],
             [
              1,
              "#f0f921"
             ]
            ],
            "type": "heatmapgl"
           }
          ],
          "histogram": [
           {
            "marker": {
             "pattern": {
              "fillmode": "overlay",
              "size": 10,
              "solidity": 0.2
             }
            },
            "type": "histogram"
           }
          ],
          "histogram2d": [
           {
            "colorbar": {
             "outlinewidth": 0,
             "ticks": ""
            },
            "colorscale": [
             [
              0,
              "#0d0887"
             ],
             [
              0.1111111111111111,
              "#46039f"
             ],
             [
              0.2222222222222222,
              "#7201a8"
             ],
             [
              0.3333333333333333,
              "#9c179e"
             ],
             [
              0.4444444444444444,
              "#bd3786"
             ],
             [
              0.5555555555555556,
              "#d8576b"
             ],
             [
              0.6666666666666666,
              "#ed7953"
             ],
             [
              0.7777777777777778,
              "#fb9f3a"
             ],
             [
              0.8888888888888888,
              "#fdca26"
             ],
             [
              1,
              "#f0f921"
             ]
            ],
            "type": "histogram2d"
           }
          ],
          "histogram2dcontour": [
           {
            "colorbar": {
             "outlinewidth": 0,
             "ticks": ""
            },
            "colorscale": [
             [
              0,
              "#0d0887"
             ],
             [
              0.1111111111111111,
              "#46039f"
             ],
             [
              0.2222222222222222,
              "#7201a8"
             ],
             [
              0.3333333333333333,
              "#9c179e"
             ],
             [
              0.4444444444444444,
              "#bd3786"
             ],
             [
              0.5555555555555556,
              "#d8576b"
             ],
             [
              0.6666666666666666,
              "#ed7953"
             ],
             [
              0.7777777777777778,
              "#fb9f3a"
             ],
             [
              0.8888888888888888,
              "#fdca26"
             ],
             [
              1,
              "#f0f921"
             ]
            ],
            "type": "histogram2dcontour"
           }
          ],
          "mesh3d": [
           {
            "colorbar": {
             "outlinewidth": 0,
             "ticks": ""
            },
            "type": "mesh3d"
           }
          ],
          "parcoords": [
           {
            "line": {
             "colorbar": {
              "outlinewidth": 0,
              "ticks": ""
             }
            },
            "type": "parcoords"
           }
          ],
          "pie": [
           {
            "automargin": true,
            "type": "pie"
           }
          ],
          "scatter": [
           {
            "marker": {
             "line": {
              "color": "#283442"
             }
            },
            "type": "scatter"
           }
          ],
          "scatter3d": [
           {
            "line": {
             "colorbar": {
              "outlinewidth": 0,
              "ticks": ""
             }
            },
            "marker": {
             "colorbar": {
              "outlinewidth": 0,
              "ticks": ""
             }
            },
            "type": "scatter3d"
           }
          ],
          "scattercarpet": [
           {
            "marker": {
             "colorbar": {
              "outlinewidth": 0,
              "ticks": ""
             }
            },
            "type": "scattercarpet"
           }
          ],
          "scattergeo": [
           {
            "marker": {
             "colorbar": {
              "outlinewidth": 0,
              "ticks": ""
             }
            },
            "type": "scattergeo"
           }
          ],
          "scattergl": [
           {
            "marker": {
             "line": {
              "color": "#283442"
             }
            },
            "type": "scattergl"
           }
          ],
          "scattermapbox": [
           {
            "marker": {
             "colorbar": {
              "outlinewidth": 0,
              "ticks": ""
             }
            },
            "type": "scattermapbox"
           }
          ],
          "scatterpolar": [
           {
            "marker": {
             "colorbar": {
              "outlinewidth": 0,
              "ticks": ""
             }
            },
            "type": "scatterpolar"
           }
          ],
          "scatterpolargl": [
           {
            "marker": {
             "colorbar": {
              "outlinewidth": 0,
              "ticks": ""
             }
            },
            "type": "scatterpolargl"
           }
          ],
          "scatterternary": [
           {
            "marker": {
             "colorbar": {
              "outlinewidth": 0,
              "ticks": ""
             }
            },
            "type": "scatterternary"
           }
          ],
          "surface": [
           {
            "colorbar": {
             "outlinewidth": 0,
             "ticks": ""
            },
            "colorscale": [
             [
              0,
              "#0d0887"
             ],
             [
              0.1111111111111111,
              "#46039f"
             ],
             [
              0.2222222222222222,
              "#7201a8"
             ],
             [
              0.3333333333333333,
              "#9c179e"
             ],
             [
              0.4444444444444444,
              "#bd3786"
             ],
             [
              0.5555555555555556,
              "#d8576b"
             ],
             [
              0.6666666666666666,
              "#ed7953"
             ],
             [
              0.7777777777777778,
              "#fb9f3a"
             ],
             [
              0.8888888888888888,
              "#fdca26"
             ],
             [
              1,
              "#f0f921"
             ]
            ],
            "type": "surface"
           }
          ],
          "table": [
           {
            "cells": {
             "fill": {
              "color": "#506784"
             },
             "line": {
              "color": "rgb(17,17,17)"
             }
            },
            "header": {
             "fill": {
              "color": "#2a3f5f"
             },
             "line": {
              "color": "rgb(17,17,17)"
             }
            },
            "type": "table"
           }
          ]
         },
         "layout": {
          "annotationdefaults": {
           "arrowcolor": "#f2f5fa",
           "arrowhead": 0,
           "arrowwidth": 1
          },
          "autotypenumbers": "strict",
          "coloraxis": {
           "colorbar": {
            "outlinewidth": 0,
            "ticks": ""
           }
          },
          "colorscale": {
           "diverging": [
            [
             0,
             "#8e0152"
            ],
            [
             0.1,
             "#c51b7d"
            ],
            [
             0.2,
             "#de77ae"
            ],
            [
             0.3,
             "#f1b6da"
            ],
            [
             0.4,
             "#fde0ef"
            ],
            [
             0.5,
             "#f7f7f7"
            ],
            [
             0.6,
             "#e6f5d0"
            ],
            [
             0.7,
             "#b8e186"
            ],
            [
             0.8,
             "#7fbc41"
            ],
            [
             0.9,
             "#4d9221"
            ],
            [
             1,
             "#276419"
            ]
           ],
           "sequential": [
            [
             0,
             "#0d0887"
            ],
            [
             0.1111111111111111,
             "#46039f"
            ],
            [
             0.2222222222222222,
             "#7201a8"
            ],
            [
             0.3333333333333333,
             "#9c179e"
            ],
            [
             0.4444444444444444,
             "#bd3786"
            ],
            [
             0.5555555555555556,
             "#d8576b"
            ],
            [
             0.6666666666666666,
             "#ed7953"
            ],
            [
             0.7777777777777778,
             "#fb9f3a"
            ],
            [
             0.8888888888888888,
             "#fdca26"
            ],
            [
             1,
             "#f0f921"
            ]
           ],
           "sequentialminus": [
            [
             0,
             "#0d0887"
            ],
            [
             0.1111111111111111,
             "#46039f"
            ],
            [
             0.2222222222222222,
             "#7201a8"
            ],
            [
             0.3333333333333333,
             "#9c179e"
            ],
            [
             0.4444444444444444,
             "#bd3786"
            ],
            [
             0.5555555555555556,
             "#d8576b"
            ],
            [
             0.6666666666666666,
             "#ed7953"
            ],
            [
             0.7777777777777778,
             "#fb9f3a"
            ],
            [
             0.8888888888888888,
             "#fdca26"
            ],
            [
             1,
             "#f0f921"
            ]
           ]
          },
          "colorway": [
           "#636efa",
           "#EF553B",
           "#00cc96",
           "#ab63fa",
           "#FFA15A",
           "#19d3f3",
           "#FF6692",
           "#B6E880",
           "#FF97FF",
           "#FECB52"
          ],
          "font": {
           "color": "#f2f5fa"
          },
          "geo": {
           "bgcolor": "rgb(17,17,17)",
           "lakecolor": "rgb(17,17,17)",
           "landcolor": "rgb(17,17,17)",
           "showlakes": true,
           "showland": true,
           "subunitcolor": "#506784"
          },
          "hoverlabel": {
           "align": "left"
          },
          "hovermode": "closest",
          "mapbox": {
           "style": "dark"
          },
          "paper_bgcolor": "rgb(17,17,17)",
          "plot_bgcolor": "rgb(17,17,17)",
          "polar": {
           "angularaxis": {
            "gridcolor": "#506784",
            "linecolor": "#506784",
            "ticks": ""
           },
           "bgcolor": "rgb(17,17,17)",
           "radialaxis": {
            "gridcolor": "#506784",
            "linecolor": "#506784",
            "ticks": ""
           }
          },
          "scene": {
           "xaxis": {
            "backgroundcolor": "rgb(17,17,17)",
            "gridcolor": "#506784",
            "gridwidth": 2,
            "linecolor": "#506784",
            "showbackground": true,
            "ticks": "",
            "zerolinecolor": "#C8D4E3"
           },
           "yaxis": {
            "backgroundcolor": "rgb(17,17,17)",
            "gridcolor": "#506784",
            "gridwidth": 2,
            "linecolor": "#506784",
            "showbackground": true,
            "ticks": "",
            "zerolinecolor": "#C8D4E3"
           },
           "zaxis": {
            "backgroundcolor": "rgb(17,17,17)",
            "gridcolor": "#506784",
            "gridwidth": 2,
            "linecolor": "#506784",
            "showbackground": true,
            "ticks": "",
            "zerolinecolor": "#C8D4E3"
           }
          },
          "shapedefaults": {
           "line": {
            "color": "#f2f5fa"
           }
          },
          "sliderdefaults": {
           "bgcolor": "#C8D4E3",
           "bordercolor": "rgb(17,17,17)",
           "borderwidth": 1,
           "tickwidth": 0
          },
          "ternary": {
           "aaxis": {
            "gridcolor": "#506784",
            "linecolor": "#506784",
            "ticks": ""
           },
           "baxis": {
            "gridcolor": "#506784",
            "linecolor": "#506784",
            "ticks": ""
           },
           "bgcolor": "rgb(17,17,17)",
           "caxis": {
            "gridcolor": "#506784",
            "linecolor": "#506784",
            "ticks": ""
           }
          },
          "title": {
           "x": 0.05
          },
          "updatemenudefaults": {
           "bgcolor": "#506784",
           "borderwidth": 0
          },
          "xaxis": {
           "automargin": true,
           "gridcolor": "#283442",
           "linecolor": "#506784",
           "ticks": "",
           "title": {
            "standoff": 15
           },
           "zerolinecolor": "#283442",
           "zerolinewidth": 2
          },
          "yaxis": {
           "automargin": true,
           "gridcolor": "#283442",
           "linecolor": "#506784",
           "ticks": "",
           "title": {
            "standoff": 15
           },
           "zerolinecolor": "#283442",
           "zerolinewidth": 2
          }
         }
        },
        "xaxis": {
         "title": {
          "text": "Date"
         }
        },
        "yaxis": {
         "rangemode": "tozero",
         "title": {
          "text": "Mood"
         }
        }
       }
      }
     },
     "metadata": {},
     "output_type": "display_data"
    }
   ],
   "source": [
    "df.mood_plot('month')"
   ]
  },
  {
   "cell_type": "markdown",
   "metadata": {},
   "source": [
    "## Mood bar plot by hour/day/month"
   ]
  },
  {
   "cell_type": "code",
   "execution_count": 8,
   "metadata": {
    "metadata": {}
   },
   "outputs": [
    {
     "data": {
      "application/vnd.plotly.v1+json": {
       "config": {
        "plotlyServerURL": "https://plot.ly"
       },
       "data": [
        {
         "alignmentgroup": "True",
         "hovertemplate": "Hour=%{x}<br>Mood=%{y}<br>Number of entries=%{marker.color}<extra></extra>",
         "legendgroup": "",
         "marker": {
          "color": [
           89,
           54,
           131,
           56,
           63,
           52,
           65,
           70,
           22,
           83,
           69,
           60,
           97,
           58,
           7,
           64,
           29,
           2,
           18,
           3,
           1,
           1
          ],
          "coloraxis": "coloraxis",
          "pattern": {
           "shape": ""
          }
         },
         "name": "",
         "offsetgroup": "",
         "orientation": "v",
         "showlegend": false,
         "textposition": "auto",
         "type": "bar",
         "x": [
          16,
          11,
          20,
          17,
          13,
          10,
          22,
          15,
          1,
          21,
          19,
          18,
          23,
          14,
          8,
          12,
          0,
          5,
          9,
          7,
          2,
          4
         ],
         "xaxis": "x",
         "y": [
          3.735955056179775,
          3.6666666666666665,
          3.969465648854962,
          3.7410714285714284,
          3.746031746031746,
          3.7596153846153846,
          3.7615384615384615,
          3.7928571428571427,
          3.840909090909091,
          3.927710843373494,
          3.789855072463768,
          3.8916666666666666,
          3.8762886597938144,
          3.7672413793103448,
          3.4285714285714284,
          3.75,
          3.7586206896551726,
          3,
          3.6666666666666665,
          3.3333333333333335,
          3.5,
          3
         ],
         "yaxis": "y"
        }
       ],
       "layout": {
        "barmode": "relative",
        "coloraxis": {
         "colorbar": {
          "title": {
           "text": "Number of entries"
          }
         },
         "colorscale": [
          [
           0,
           "#440154"
          ],
          [
           0.1111111111111111,
           "#482878"
          ],
          [
           0.2222222222222222,
           "#3e4989"
          ],
          [
           0.3333333333333333,
           "#31688e"
          ],
          [
           0.4444444444444444,
           "#26828e"
          ],
          [
           0.5555555555555556,
           "#1f9e89"
          ],
          [
           0.6666666666666666,
           "#35b779"
          ],
          [
           0.7777777777777778,
           "#6ece58"
          ],
          [
           0.8888888888888888,
           "#b5de2b"
          ],
          [
           1,
           "#fde725"
          ]
         ]
        },
        "legend": {
         "tracegroupgap": 0
        },
        "template": {
         "data": {
          "bar": [
           {
            "error_x": {
             "color": "#f2f5fa"
            },
            "error_y": {
             "color": "#f2f5fa"
            },
            "marker": {
             "line": {
              "color": "rgb(17,17,17)",
              "width": 0.5
             },
             "pattern": {
              "fillmode": "overlay",
              "size": 10,
              "solidity": 0.2
             }
            },
            "type": "bar"
           }
          ],
          "barpolar": [
           {
            "marker": {
             "line": {
              "color": "rgb(17,17,17)",
              "width": 0.5
             },
             "pattern": {
              "fillmode": "overlay",
              "size": 10,
              "solidity": 0.2
             }
            },
            "type": "barpolar"
           }
          ],
          "carpet": [
           {
            "aaxis": {
             "endlinecolor": "#A2B1C6",
             "gridcolor": "#506784",
             "linecolor": "#506784",
             "minorgridcolor": "#506784",
             "startlinecolor": "#A2B1C6"
            },
            "baxis": {
             "endlinecolor": "#A2B1C6",
             "gridcolor": "#506784",
             "linecolor": "#506784",
             "minorgridcolor": "#506784",
             "startlinecolor": "#A2B1C6"
            },
            "type": "carpet"
           }
          ],
          "choropleth": [
           {
            "colorbar": {
             "outlinewidth": 0,
             "ticks": ""
            },
            "type": "choropleth"
           }
          ],
          "contour": [
           {
            "colorbar": {
             "outlinewidth": 0,
             "ticks": ""
            },
            "colorscale": [
             [
              0,
              "#0d0887"
             ],
             [
              0.1111111111111111,
              "#46039f"
             ],
             [
              0.2222222222222222,
              "#7201a8"
             ],
             [
              0.3333333333333333,
              "#9c179e"
             ],
             [
              0.4444444444444444,
              "#bd3786"
             ],
             [
              0.5555555555555556,
              "#d8576b"
             ],
             [
              0.6666666666666666,
              "#ed7953"
             ],
             [
              0.7777777777777778,
              "#fb9f3a"
             ],
             [
              0.8888888888888888,
              "#fdca26"
             ],
             [
              1,
              "#f0f921"
             ]
            ],
            "type": "contour"
           }
          ],
          "contourcarpet": [
           {
            "colorbar": {
             "outlinewidth": 0,
             "ticks": ""
            },
            "type": "contourcarpet"
           }
          ],
          "heatmap": [
           {
            "colorbar": {
             "outlinewidth": 0,
             "ticks": ""
            },
            "colorscale": [
             [
              0,
              "#0d0887"
             ],
             [
              0.1111111111111111,
              "#46039f"
             ],
             [
              0.2222222222222222,
              "#7201a8"
             ],
             [
              0.3333333333333333,
              "#9c179e"
             ],
             [
              0.4444444444444444,
              "#bd3786"
             ],
             [
              0.5555555555555556,
              "#d8576b"
             ],
             [
              0.6666666666666666,
              "#ed7953"
             ],
             [
              0.7777777777777778,
              "#fb9f3a"
             ],
             [
              0.8888888888888888,
              "#fdca26"
             ],
             [
              1,
              "#f0f921"
             ]
            ],
            "type": "heatmap"
           }
          ],
          "heatmapgl": [
           {
            "colorbar": {
             "outlinewidth": 0,
             "ticks": ""
            },
            "colorscale": [
             [
              0,
              "#0d0887"
             ],
             [
              0.1111111111111111,
              "#46039f"
             ],
             [
              0.2222222222222222,
              "#7201a8"
             ],
             [
              0.3333333333333333,
              "#9c179e"
             ],
             [
              0.4444444444444444,
              "#bd3786"
             ],
             [
              0.5555555555555556,
              "#d8576b"
             ],
             [
              0.6666666666666666,
              "#ed7953"
             ],
             [
              0.7777777777777778,
              "#fb9f3a"
             ],
             [
              0.8888888888888888,
              "#fdca26"
             ],
             [
              1,
              "#f0f921"
             ]
            ],
            "type": "heatmapgl"
           }
          ],
          "histogram": [
           {
            "marker": {
             "pattern": {
              "fillmode": "overlay",
              "size": 10,
              "solidity": 0.2
             }
            },
            "type": "histogram"
           }
          ],
          "histogram2d": [
           {
            "colorbar": {
             "outlinewidth": 0,
             "ticks": ""
            },
            "colorscale": [
             [
              0,
              "#0d0887"
             ],
             [
              0.1111111111111111,
              "#46039f"
             ],
             [
              0.2222222222222222,
              "#7201a8"
             ],
             [
              0.3333333333333333,
              "#9c179e"
             ],
             [
              0.4444444444444444,
              "#bd3786"
             ],
             [
              0.5555555555555556,
              "#d8576b"
             ],
             [
              0.6666666666666666,
              "#ed7953"
             ],
             [
              0.7777777777777778,
              "#fb9f3a"
             ],
             [
              0.8888888888888888,
              "#fdca26"
             ],
             [
              1,
              "#f0f921"
             ]
            ],
            "type": "histogram2d"
           }
          ],
          "histogram2dcontour": [
           {
            "colorbar": {
             "outlinewidth": 0,
             "ticks": ""
            },
            "colorscale": [
             [
              0,
              "#0d0887"
             ],
             [
              0.1111111111111111,
              "#46039f"
             ],
             [
              0.2222222222222222,
              "#7201a8"
             ],
             [
              0.3333333333333333,
              "#9c179e"
             ],
             [
              0.4444444444444444,
              "#bd3786"
             ],
             [
              0.5555555555555556,
              "#d8576b"
             ],
             [
              0.6666666666666666,
              "#ed7953"
             ],
             [
              0.7777777777777778,
              "#fb9f3a"
             ],
             [
              0.8888888888888888,
              "#fdca26"
             ],
             [
              1,
              "#f0f921"
             ]
            ],
            "type": "histogram2dcontour"
           }
          ],
          "mesh3d": [
           {
            "colorbar": {
             "outlinewidth": 0,
             "ticks": ""
            },
            "type": "mesh3d"
           }
          ],
          "parcoords": [
           {
            "line": {
             "colorbar": {
              "outlinewidth": 0,
              "ticks": ""
             }
            },
            "type": "parcoords"
           }
          ],
          "pie": [
           {
            "automargin": true,
            "type": "pie"
           }
          ],
          "scatter": [
           {
            "marker": {
             "line": {
              "color": "#283442"
             }
            },
            "type": "scatter"
           }
          ],
          "scatter3d": [
           {
            "line": {
             "colorbar": {
              "outlinewidth": 0,
              "ticks": ""
             }
            },
            "marker": {
             "colorbar": {
              "outlinewidth": 0,
              "ticks": ""
             }
            },
            "type": "scatter3d"
           }
          ],
          "scattercarpet": [
           {
            "marker": {
             "colorbar": {
              "outlinewidth": 0,
              "ticks": ""
             }
            },
            "type": "scattercarpet"
           }
          ],
          "scattergeo": [
           {
            "marker": {
             "colorbar": {
              "outlinewidth": 0,
              "ticks": ""
             }
            },
            "type": "scattergeo"
           }
          ],
          "scattergl": [
           {
            "marker": {
             "line": {
              "color": "#283442"
             }
            },
            "type": "scattergl"
           }
          ],
          "scattermapbox": [
           {
            "marker": {
             "colorbar": {
              "outlinewidth": 0,
              "ticks": ""
             }
            },
            "type": "scattermapbox"
           }
          ],
          "scatterpolar": [
           {
            "marker": {
             "colorbar": {
              "outlinewidth": 0,
              "ticks": ""
             }
            },
            "type": "scatterpolar"
           }
          ],
          "scatterpolargl": [
           {
            "marker": {
             "colorbar": {
              "outlinewidth": 0,
              "ticks": ""
             }
            },
            "type": "scatterpolargl"
           }
          ],
          "scatterternary": [
           {
            "marker": {
             "colorbar": {
              "outlinewidth": 0,
              "ticks": ""
             }
            },
            "type": "scatterternary"
           }
          ],
          "surface": [
           {
            "colorbar": {
             "outlinewidth": 0,
             "ticks": ""
            },
            "colorscale": [
             [
              0,
              "#0d0887"
             ],
             [
              0.1111111111111111,
              "#46039f"
             ],
             [
              0.2222222222222222,
              "#7201a8"
             ],
             [
              0.3333333333333333,
              "#9c179e"
             ],
             [
              0.4444444444444444,
              "#bd3786"
             ],
             [
              0.5555555555555556,
              "#d8576b"
             ],
             [
              0.6666666666666666,
              "#ed7953"
             ],
             [
              0.7777777777777778,
              "#fb9f3a"
             ],
             [
              0.8888888888888888,
              "#fdca26"
             ],
             [
              1,
              "#f0f921"
             ]
            ],
            "type": "surface"
           }
          ],
          "table": [
           {
            "cells": {
             "fill": {
              "color": "#506784"
             },
             "line": {
              "color": "rgb(17,17,17)"
             }
            },
            "header": {
             "fill": {
              "color": "#2a3f5f"
             },
             "line": {
              "color": "rgb(17,17,17)"
             }
            },
            "type": "table"
           }
          ]
         },
         "layout": {
          "annotationdefaults": {
           "arrowcolor": "#f2f5fa",
           "arrowhead": 0,
           "arrowwidth": 1
          },
          "autotypenumbers": "strict",
          "coloraxis": {
           "colorbar": {
            "outlinewidth": 0,
            "ticks": ""
           }
          },
          "colorscale": {
           "diverging": [
            [
             0,
             "#8e0152"
            ],
            [
             0.1,
             "#c51b7d"
            ],
            [
             0.2,
             "#de77ae"
            ],
            [
             0.3,
             "#f1b6da"
            ],
            [
             0.4,
             "#fde0ef"
            ],
            [
             0.5,
             "#f7f7f7"
            ],
            [
             0.6,
             "#e6f5d0"
            ],
            [
             0.7,
             "#b8e186"
            ],
            [
             0.8,
             "#7fbc41"
            ],
            [
             0.9,
             "#4d9221"
            ],
            [
             1,
             "#276419"
            ]
           ],
           "sequential": [
            [
             0,
             "#0d0887"
            ],
            [
             0.1111111111111111,
             "#46039f"
            ],
            [
             0.2222222222222222,
             "#7201a8"
            ],
            [
             0.3333333333333333,
             "#9c179e"
            ],
            [
             0.4444444444444444,
             "#bd3786"
            ],
            [
             0.5555555555555556,
             "#d8576b"
            ],
            [
             0.6666666666666666,
             "#ed7953"
            ],
            [
             0.7777777777777778,
             "#fb9f3a"
            ],
            [
             0.8888888888888888,
             "#fdca26"
            ],
            [
             1,
             "#f0f921"
            ]
           ],
           "sequentialminus": [
            [
             0,
             "#0d0887"
            ],
            [
             0.1111111111111111,
             "#46039f"
            ],
            [
             0.2222222222222222,
             "#7201a8"
            ],
            [
             0.3333333333333333,
             "#9c179e"
            ],
            [
             0.4444444444444444,
             "#bd3786"
            ],
            [
             0.5555555555555556,
             "#d8576b"
            ],
            [
             0.6666666666666666,
             "#ed7953"
            ],
            [
             0.7777777777777778,
             "#fb9f3a"
            ],
            [
             0.8888888888888888,
             "#fdca26"
            ],
            [
             1,
             "#f0f921"
            ]
           ]
          },
          "colorway": [
           "#636efa",
           "#EF553B",
           "#00cc96",
           "#ab63fa",
           "#FFA15A",
           "#19d3f3",
           "#FF6692",
           "#B6E880",
           "#FF97FF",
           "#FECB52"
          ],
          "font": {
           "color": "#f2f5fa"
          },
          "geo": {
           "bgcolor": "rgb(17,17,17)",
           "lakecolor": "rgb(17,17,17)",
           "landcolor": "rgb(17,17,17)",
           "showlakes": true,
           "showland": true,
           "subunitcolor": "#506784"
          },
          "hoverlabel": {
           "align": "left"
          },
          "hovermode": "closest",
          "mapbox": {
           "style": "dark"
          },
          "paper_bgcolor": "rgb(17,17,17)",
          "plot_bgcolor": "rgb(17,17,17)",
          "polar": {
           "angularaxis": {
            "gridcolor": "#506784",
            "linecolor": "#506784",
            "ticks": ""
           },
           "bgcolor": "rgb(17,17,17)",
           "radialaxis": {
            "gridcolor": "#506784",
            "linecolor": "#506784",
            "ticks": ""
           }
          },
          "scene": {
           "xaxis": {
            "backgroundcolor": "rgb(17,17,17)",
            "gridcolor": "#506784",
            "gridwidth": 2,
            "linecolor": "#506784",
            "showbackground": true,
            "ticks": "",
            "zerolinecolor": "#C8D4E3"
           },
           "yaxis": {
            "backgroundcolor": "rgb(17,17,17)",
            "gridcolor": "#506784",
            "gridwidth": 2,
            "linecolor": "#506784",
            "showbackground": true,
            "ticks": "",
            "zerolinecolor": "#C8D4E3"
           },
           "zaxis": {
            "backgroundcolor": "rgb(17,17,17)",
            "gridcolor": "#506784",
            "gridwidth": 2,
            "linecolor": "#506784",
            "showbackground": true,
            "ticks": "",
            "zerolinecolor": "#C8D4E3"
           }
          },
          "shapedefaults": {
           "line": {
            "color": "#f2f5fa"
           }
          },
          "sliderdefaults": {
           "bgcolor": "#C8D4E3",
           "bordercolor": "rgb(17,17,17)",
           "borderwidth": 1,
           "tickwidth": 0
          },
          "ternary": {
           "aaxis": {
            "gridcolor": "#506784",
            "linecolor": "#506784",
            "ticks": ""
           },
           "baxis": {
            "gridcolor": "#506784",
            "linecolor": "#506784",
            "ticks": ""
           },
           "bgcolor": "rgb(17,17,17)",
           "caxis": {
            "gridcolor": "#506784",
            "linecolor": "#506784",
            "ticks": ""
           }
          },
          "title": {
           "x": 0.05
          },
          "updatemenudefaults": {
           "bgcolor": "#506784",
           "borderwidth": 0
          },
          "xaxis": {
           "automargin": true,
           "gridcolor": "#283442",
           "linecolor": "#506784",
           "ticks": "",
           "title": {
            "standoff": 15
           },
           "zerolinecolor": "#283442",
           "zerolinewidth": 2
          },
          "yaxis": {
           "automargin": true,
           "gridcolor": "#283442",
           "linecolor": "#506784",
           "ticks": "",
           "title": {
            "standoff": 15
           },
           "zerolinecolor": "#283442",
           "zerolinewidth": 2
          }
         }
        },
        "title": {
         "text": "Mood by hour"
        },
        "xaxis": {
         "anchor": "y",
         "domain": [
          0,
          1
         ],
         "dtick": 1,
         "title": {
          "text": "Hour"
         }
        },
        "yaxis": {
         "anchor": "x",
         "domain": [
          0,
          1
         ],
         "title": {
          "text": "Mood"
         }
        }
       }
      }
     },
     "metadata": {},
     "output_type": "display_data"
    }
   ],
   "source": [
    "df.by_time_bar_plot('hour')"
   ]
  },
  {
   "cell_type": "code",
   "execution_count": 62,
   "metadata": {
    "metadata": {}
   },
   "outputs": [
    {
     "data": {
      "application/vnd.plotly.v1+json": {
       "config": {
        "plotlyServerURL": "https://plot.ly"
       },
       "data": [
        {
         "alignmentgroup": "True",
         "hovertemplate": "Day=%{x}<br>Mood=%{y}<br>Number of entries=%{marker.color}<extra></extra>",
         "legendgroup": "",
         "marker": {
          "color": [
           47,
           39,
           36,
           34,
           42,
           48,
           43,
           39,
           41,
           40,
           41,
           39,
           45,
           24,
           31,
           34,
           35,
           41,
           41,
           34,
           36,
           34,
           35,
           31,
           28,
           35,
           36,
           36,
           39,
           36,
           38
          ],
          "coloraxis": "coloraxis",
          "pattern": {
           "shape": ""
          }
         },
         "name": "",
         "offsetgroup": "",
         "orientation": "v",
         "showlegend": false,
         "textposition": "auto",
         "type": "bar",
         "x": [
          13,
          12,
          11,
          10,
          9,
          8,
          7,
          6,
          5,
          4,
          3,
          2,
          1,
          31,
          30,
          29,
          28,
          27,
          26,
          25,
          24,
          23,
          22,
          21,
          20,
          19,
          18,
          17,
          16,
          15,
          14
         ],
         "xaxis": "x",
         "y": [
          3.893617021276596,
          3.8846153846153846,
          3.9583333333333335,
          3.8823529411764706,
          3.761904761904762,
          3.8541666666666665,
          3.7906976744186047,
          3.8076923076923075,
          3.707317073170732,
          3.9125,
          3.8292682926829267,
          3.7564102564102564,
          3.8333333333333335,
          3.625,
          3.693548387096774,
          3.75,
          3.7857142857142856,
          3.8780487804878048,
          3.7439024390243905,
          3.735294117647059,
          3.638888888888889,
          3.7941176470588234,
          3.8857142857142857,
          3.725806451612903,
          3.8392857142857144,
          3.8142857142857145,
          4.180555555555555,
          3.7083333333333335,
          3.782051282051282,
          3.7916666666666665,
          3.75
         ],
         "yaxis": "y"
        }
       ],
       "layout": {
        "barmode": "relative",
        "coloraxis": {
         "colorbar": {
          "title": {
           "text": "Number of entries"
          }
         },
         "colorscale": [
          [
           0,
           "#440154"
          ],
          [
           0.1111111111111111,
           "#482878"
          ],
          [
           0.2222222222222222,
           "#3e4989"
          ],
          [
           0.3333333333333333,
           "#31688e"
          ],
          [
           0.4444444444444444,
           "#26828e"
          ],
          [
           0.5555555555555556,
           "#1f9e89"
          ],
          [
           0.6666666666666666,
           "#35b779"
          ],
          [
           0.7777777777777778,
           "#6ece58"
          ],
          [
           0.8888888888888888,
           "#b5de2b"
          ],
          [
           1,
           "#fde725"
          ]
         ]
        },
        "legend": {
         "tracegroupgap": 0
        },
        "template": {
         "data": {
          "bar": [
           {
            "error_x": {
             "color": "#f2f5fa"
            },
            "error_y": {
             "color": "#f2f5fa"
            },
            "marker": {
             "line": {
              "color": "rgb(17,17,17)",
              "width": 0.5
             },
             "pattern": {
              "fillmode": "overlay",
              "size": 10,
              "solidity": 0.2
             }
            },
            "type": "bar"
           }
          ],
          "barpolar": [
           {
            "marker": {
             "line": {
              "color": "rgb(17,17,17)",
              "width": 0.5
             },
             "pattern": {
              "fillmode": "overlay",
              "size": 10,
              "solidity": 0.2
             }
            },
            "type": "barpolar"
           }
          ],
          "carpet": [
           {
            "aaxis": {
             "endlinecolor": "#A2B1C6",
             "gridcolor": "#506784",
             "linecolor": "#506784",
             "minorgridcolor": "#506784",
             "startlinecolor": "#A2B1C6"
            },
            "baxis": {
             "endlinecolor": "#A2B1C6",
             "gridcolor": "#506784",
             "linecolor": "#506784",
             "minorgridcolor": "#506784",
             "startlinecolor": "#A2B1C6"
            },
            "type": "carpet"
           }
          ],
          "choropleth": [
           {
            "colorbar": {
             "outlinewidth": 0,
             "ticks": ""
            },
            "type": "choropleth"
           }
          ],
          "contour": [
           {
            "colorbar": {
             "outlinewidth": 0,
             "ticks": ""
            },
            "colorscale": [
             [
              0,
              "#0d0887"
             ],
             [
              0.1111111111111111,
              "#46039f"
             ],
             [
              0.2222222222222222,
              "#7201a8"
             ],
             [
              0.3333333333333333,
              "#9c179e"
             ],
             [
              0.4444444444444444,
              "#bd3786"
             ],
             [
              0.5555555555555556,
              "#d8576b"
             ],
             [
              0.6666666666666666,
              "#ed7953"
             ],
             [
              0.7777777777777778,
              "#fb9f3a"
             ],
             [
              0.8888888888888888,
              "#fdca26"
             ],
             [
              1,
              "#f0f921"
             ]
            ],
            "type": "contour"
           }
          ],
          "contourcarpet": [
           {
            "colorbar": {
             "outlinewidth": 0,
             "ticks": ""
            },
            "type": "contourcarpet"
           }
          ],
          "heatmap": [
           {
            "colorbar": {
             "outlinewidth": 0,
             "ticks": ""
            },
            "colorscale": [
             [
              0,
              "#0d0887"
             ],
             [
              0.1111111111111111,
              "#46039f"
             ],
             [
              0.2222222222222222,
              "#7201a8"
             ],
             [
              0.3333333333333333,
              "#9c179e"
             ],
             [
              0.4444444444444444,
              "#bd3786"
             ],
             [
              0.5555555555555556,
              "#d8576b"
             ],
             [
              0.6666666666666666,
              "#ed7953"
             ],
             [
              0.7777777777777778,
              "#fb9f3a"
             ],
             [
              0.8888888888888888,
              "#fdca26"
             ],
             [
              1,
              "#f0f921"
             ]
            ],
            "type": "heatmap"
           }
          ],
          "heatmapgl": [
           {
            "colorbar": {
             "outlinewidth": 0,
             "ticks": ""
            },
            "colorscale": [
             [
              0,
              "#0d0887"
             ],
             [
              0.1111111111111111,
              "#46039f"
             ],
             [
              0.2222222222222222,
              "#7201a8"
             ],
             [
              0.3333333333333333,
              "#9c179e"
             ],
             [
              0.4444444444444444,
              "#bd3786"
             ],
             [
              0.5555555555555556,
              "#d8576b"
             ],
             [
              0.6666666666666666,
              "#ed7953"
             ],
             [
              0.7777777777777778,
              "#fb9f3a"
             ],
             [
              0.8888888888888888,
              "#fdca26"
             ],
             [
              1,
              "#f0f921"
             ]
            ],
            "type": "heatmapgl"
           }
          ],
          "histogram": [
           {
            "marker": {
             "pattern": {
              "fillmode": "overlay",
              "size": 10,
              "solidity": 0.2
             }
            },
            "type": "histogram"
           }
          ],
          "histogram2d": [
           {
            "colorbar": {
             "outlinewidth": 0,
             "ticks": ""
            },
            "colorscale": [
             [
              0,
              "#0d0887"
             ],
             [
              0.1111111111111111,
              "#46039f"
             ],
             [
              0.2222222222222222,
              "#7201a8"
             ],
             [
              0.3333333333333333,
              "#9c179e"
             ],
             [
              0.4444444444444444,
              "#bd3786"
             ],
             [
              0.5555555555555556,
              "#d8576b"
             ],
             [
              0.6666666666666666,
              "#ed7953"
             ],
             [
              0.7777777777777778,
              "#fb9f3a"
             ],
             [
              0.8888888888888888,
              "#fdca26"
             ],
             [
              1,
              "#f0f921"
             ]
            ],
            "type": "histogram2d"
           }
          ],
          "histogram2dcontour": [
           {
            "colorbar": {
             "outlinewidth": 0,
             "ticks": ""
            },
            "colorscale": [
             [
              0,
              "#0d0887"
             ],
             [
              0.1111111111111111,
              "#46039f"
             ],
             [
              0.2222222222222222,
              "#7201a8"
             ],
             [
              0.3333333333333333,
              "#9c179e"
             ],
             [
              0.4444444444444444,
              "#bd3786"
             ],
             [
              0.5555555555555556,
              "#d8576b"
             ],
             [
              0.6666666666666666,
              "#ed7953"
             ],
             [
              0.7777777777777778,
              "#fb9f3a"
             ],
             [
              0.8888888888888888,
              "#fdca26"
             ],
             [
              1,
              "#f0f921"
             ]
            ],
            "type": "histogram2dcontour"
           }
          ],
          "mesh3d": [
           {
            "colorbar": {
             "outlinewidth": 0,
             "ticks": ""
            },
            "type": "mesh3d"
           }
          ],
          "parcoords": [
           {
            "line": {
             "colorbar": {
              "outlinewidth": 0,
              "ticks": ""
             }
            },
            "type": "parcoords"
           }
          ],
          "pie": [
           {
            "automargin": true,
            "type": "pie"
           }
          ],
          "scatter": [
           {
            "marker": {
             "line": {
              "color": "#283442"
             }
            },
            "type": "scatter"
           }
          ],
          "scatter3d": [
           {
            "line": {
             "colorbar": {
              "outlinewidth": 0,
              "ticks": ""
             }
            },
            "marker": {
             "colorbar": {
              "outlinewidth": 0,
              "ticks": ""
             }
            },
            "type": "scatter3d"
           }
          ],
          "scattercarpet": [
           {
            "marker": {
             "colorbar": {
              "outlinewidth": 0,
              "ticks": ""
             }
            },
            "type": "scattercarpet"
           }
          ],
          "scattergeo": [
           {
            "marker": {
             "colorbar": {
              "outlinewidth": 0,
              "ticks": ""
             }
            },
            "type": "scattergeo"
           }
          ],
          "scattergl": [
           {
            "marker": {
             "line": {
              "color": "#283442"
             }
            },
            "type": "scattergl"
           }
          ],
          "scattermapbox": [
           {
            "marker": {
             "colorbar": {
              "outlinewidth": 0,
              "ticks": ""
             }
            },
            "type": "scattermapbox"
           }
          ],
          "scatterpolar": [
           {
            "marker": {
             "colorbar": {
              "outlinewidth": 0,
              "ticks": ""
             }
            },
            "type": "scatterpolar"
           }
          ],
          "scatterpolargl": [
           {
            "marker": {
             "colorbar": {
              "outlinewidth": 0,
              "ticks": ""
             }
            },
            "type": "scatterpolargl"
           }
          ],
          "scatterternary": [
           {
            "marker": {
             "colorbar": {
              "outlinewidth": 0,
              "ticks": ""
             }
            },
            "type": "scatterternary"
           }
          ],
          "surface": [
           {
            "colorbar": {
             "outlinewidth": 0,
             "ticks": ""
            },
            "colorscale": [
             [
              0,
              "#0d0887"
             ],
             [
              0.1111111111111111,
              "#46039f"
             ],
             [
              0.2222222222222222,
              "#7201a8"
             ],
             [
              0.3333333333333333,
              "#9c179e"
             ],
             [
              0.4444444444444444,
              "#bd3786"
             ],
             [
              0.5555555555555556,
              "#d8576b"
             ],
             [
              0.6666666666666666,
              "#ed7953"
             ],
             [
              0.7777777777777778,
              "#fb9f3a"
             ],
             [
              0.8888888888888888,
              "#fdca26"
             ],
             [
              1,
              "#f0f921"
             ]
            ],
            "type": "surface"
           }
          ],
          "table": [
           {
            "cells": {
             "fill": {
              "color": "#506784"
             },
             "line": {
              "color": "rgb(17,17,17)"
             }
            },
            "header": {
             "fill": {
              "color": "#2a3f5f"
             },
             "line": {
              "color": "rgb(17,17,17)"
             }
            },
            "type": "table"
           }
          ]
         },
         "layout": {
          "annotationdefaults": {
           "arrowcolor": "#f2f5fa",
           "arrowhead": 0,
           "arrowwidth": 1
          },
          "autotypenumbers": "strict",
          "coloraxis": {
           "colorbar": {
            "outlinewidth": 0,
            "ticks": ""
           }
          },
          "colorscale": {
           "diverging": [
            [
             0,
             "#8e0152"
            ],
            [
             0.1,
             "#c51b7d"
            ],
            [
             0.2,
             "#de77ae"
            ],
            [
             0.3,
             "#f1b6da"
            ],
            [
             0.4,
             "#fde0ef"
            ],
            [
             0.5,
             "#f7f7f7"
            ],
            [
             0.6,
             "#e6f5d0"
            ],
            [
             0.7,
             "#b8e186"
            ],
            [
             0.8,
             "#7fbc41"
            ],
            [
             0.9,
             "#4d9221"
            ],
            [
             1,
             "#276419"
            ]
           ],
           "sequential": [
            [
             0,
             "#0d0887"
            ],
            [
             0.1111111111111111,
             "#46039f"
            ],
            [
             0.2222222222222222,
             "#7201a8"
            ],
            [
             0.3333333333333333,
             "#9c179e"
            ],
            [
             0.4444444444444444,
             "#bd3786"
            ],
            [
             0.5555555555555556,
             "#d8576b"
            ],
            [
             0.6666666666666666,
             "#ed7953"
            ],
            [
             0.7777777777777778,
             "#fb9f3a"
            ],
            [
             0.8888888888888888,
             "#fdca26"
            ],
            [
             1,
             "#f0f921"
            ]
           ],
           "sequentialminus": [
            [
             0,
             "#0d0887"
            ],
            [
             0.1111111111111111,
             "#46039f"
            ],
            [
             0.2222222222222222,
             "#7201a8"
            ],
            [
             0.3333333333333333,
             "#9c179e"
            ],
            [
             0.4444444444444444,
             "#bd3786"
            ],
            [
             0.5555555555555556,
             "#d8576b"
            ],
            [
             0.6666666666666666,
             "#ed7953"
            ],
            [
             0.7777777777777778,
             "#fb9f3a"
            ],
            [
             0.8888888888888888,
             "#fdca26"
            ],
            [
             1,
             "#f0f921"
            ]
           ]
          },
          "colorway": [
           "#636efa",
           "#EF553B",
           "#00cc96",
           "#ab63fa",
           "#FFA15A",
           "#19d3f3",
           "#FF6692",
           "#B6E880",
           "#FF97FF",
           "#FECB52"
          ],
          "font": {
           "color": "#f2f5fa"
          },
          "geo": {
           "bgcolor": "rgb(17,17,17)",
           "lakecolor": "rgb(17,17,17)",
           "landcolor": "rgb(17,17,17)",
           "showlakes": true,
           "showland": true,
           "subunitcolor": "#506784"
          },
          "hoverlabel": {
           "align": "left"
          },
          "hovermode": "closest",
          "mapbox": {
           "style": "dark"
          },
          "paper_bgcolor": "rgb(17,17,17)",
          "plot_bgcolor": "rgb(17,17,17)",
          "polar": {
           "angularaxis": {
            "gridcolor": "#506784",
            "linecolor": "#506784",
            "ticks": ""
           },
           "bgcolor": "rgb(17,17,17)",
           "radialaxis": {
            "gridcolor": "#506784",
            "linecolor": "#506784",
            "ticks": ""
           }
          },
          "scene": {
           "xaxis": {
            "backgroundcolor": "rgb(17,17,17)",
            "gridcolor": "#506784",
            "gridwidth": 2,
            "linecolor": "#506784",
            "showbackground": true,
            "ticks": "",
            "zerolinecolor": "#C8D4E3"
           },
           "yaxis": {
            "backgroundcolor": "rgb(17,17,17)",
            "gridcolor": "#506784",
            "gridwidth": 2,
            "linecolor": "#506784",
            "showbackground": true,
            "ticks": "",
            "zerolinecolor": "#C8D4E3"
           },
           "zaxis": {
            "backgroundcolor": "rgb(17,17,17)",
            "gridcolor": "#506784",
            "gridwidth": 2,
            "linecolor": "#506784",
            "showbackground": true,
            "ticks": "",
            "zerolinecolor": "#C8D4E3"
           }
          },
          "shapedefaults": {
           "line": {
            "color": "#f2f5fa"
           }
          },
          "sliderdefaults": {
           "bgcolor": "#C8D4E3",
           "bordercolor": "rgb(17,17,17)",
           "borderwidth": 1,
           "tickwidth": 0
          },
          "ternary": {
           "aaxis": {
            "gridcolor": "#506784",
            "linecolor": "#506784",
            "ticks": ""
           },
           "baxis": {
            "gridcolor": "#506784",
            "linecolor": "#506784",
            "ticks": ""
           },
           "bgcolor": "rgb(17,17,17)",
           "caxis": {
            "gridcolor": "#506784",
            "linecolor": "#506784",
            "ticks": ""
           }
          },
          "title": {
           "x": 0.05
          },
          "updatemenudefaults": {
           "bgcolor": "#506784",
           "borderwidth": 0
          },
          "xaxis": {
           "automargin": true,
           "gridcolor": "#283442",
           "linecolor": "#506784",
           "ticks": "",
           "title": {
            "standoff": 15
           },
           "zerolinecolor": "#283442",
           "zerolinewidth": 2
          },
          "yaxis": {
           "automargin": true,
           "gridcolor": "#283442",
           "linecolor": "#506784",
           "ticks": "",
           "title": {
            "standoff": 15
           },
           "zerolinecolor": "#283442",
           "zerolinewidth": 2
          }
         }
        },
        "title": {
         "text": "Mood by day"
        },
        "xaxis": {
         "anchor": "y",
         "domain": [
          0,
          1
         ],
         "dtick": 1,
         "title": {
          "text": "Day"
         }
        },
        "yaxis": {
         "anchor": "x",
         "domain": [
          0,
          1
         ],
         "title": {
          "text": "Mood"
         }
        }
       }
      }
     },
     "metadata": {},
     "output_type": "display_data"
    }
   ],
   "source": [
    "df.by_time_bar_plot('day')"
   ]
  },
  {
   "cell_type": "code",
   "execution_count": 44,
   "metadata": {
    "metadata": {}
   },
   "outputs": [
    {
     "data": {
      "application/vnd.plotly.v1+json": {
       "config": {
        "plotlyServerURL": "https://plot.ly"
       },
       "data": [
        {
         "alignmentgroup": "True",
         "hovertemplate": "Weekday=%{x}<br>Mood=%{y}<br>Number of entries=%{marker.color}<extra></extra>",
         "legendgroup": "",
         "marker": {
          "color": [
           159,
           162,
           163,
           156,
           167,
           172,
           179
          ],
          "coloraxis": "coloraxis",
          "pattern": {
           "shape": ""
          }
         },
         "name": "",
         "offsetgroup": "",
         "orientation": "v",
         "showlegend": false,
         "textposition": "auto",
         "type": "bar",
         "x": [
          3,
          2,
          1,
          0,
          6,
          5,
          4
         ],
         "xaxis": "x",
         "y": [
          3.7830188679245285,
          3.8271604938271606,
          3.831288343558282,
          3.78525641025641,
          3.8323353293413174,
          3.895348837209302,
          3.717877094972067
         ],
         "yaxis": "y"
        }
       ],
       "layout": {
        "barmode": "relative",
        "coloraxis": {
         "colorbar": {
          "title": {
           "text": "Number of entries"
          }
         },
         "colorscale": [
          [
           0,
           "#440154"
          ],
          [
           0.1111111111111111,
           "#482878"
          ],
          [
           0.2222222222222222,
           "#3e4989"
          ],
          [
           0.3333333333333333,
           "#31688e"
          ],
          [
           0.4444444444444444,
           "#26828e"
          ],
          [
           0.5555555555555556,
           "#1f9e89"
          ],
          [
           0.6666666666666666,
           "#35b779"
          ],
          [
           0.7777777777777778,
           "#6ece58"
          ],
          [
           0.8888888888888888,
           "#b5de2b"
          ],
          [
           1,
           "#fde725"
          ]
         ]
        },
        "legend": {
         "tracegroupgap": 0
        },
        "template": {
         "data": {
          "bar": [
           {
            "error_x": {
             "color": "#f2f5fa"
            },
            "error_y": {
             "color": "#f2f5fa"
            },
            "marker": {
             "line": {
              "color": "rgb(17,17,17)",
              "width": 0.5
             },
             "pattern": {
              "fillmode": "overlay",
              "size": 10,
              "solidity": 0.2
             }
            },
            "type": "bar"
           }
          ],
          "barpolar": [
           {
            "marker": {
             "line": {
              "color": "rgb(17,17,17)",
              "width": 0.5
             },
             "pattern": {
              "fillmode": "overlay",
              "size": 10,
              "solidity": 0.2
             }
            },
            "type": "barpolar"
           }
          ],
          "carpet": [
           {
            "aaxis": {
             "endlinecolor": "#A2B1C6",
             "gridcolor": "#506784",
             "linecolor": "#506784",
             "minorgridcolor": "#506784",
             "startlinecolor": "#A2B1C6"
            },
            "baxis": {
             "endlinecolor": "#A2B1C6",
             "gridcolor": "#506784",
             "linecolor": "#506784",
             "minorgridcolor": "#506784",
             "startlinecolor": "#A2B1C6"
            },
            "type": "carpet"
           }
          ],
          "choropleth": [
           {
            "colorbar": {
             "outlinewidth": 0,
             "ticks": ""
            },
            "type": "choropleth"
           }
          ],
          "contour": [
           {
            "colorbar": {
             "outlinewidth": 0,
             "ticks": ""
            },
            "colorscale": [
             [
              0,
              "#0d0887"
             ],
             [
              0.1111111111111111,
              "#46039f"
             ],
             [
              0.2222222222222222,
              "#7201a8"
             ],
             [
              0.3333333333333333,
              "#9c179e"
             ],
             [
              0.4444444444444444,
              "#bd3786"
             ],
             [
              0.5555555555555556,
              "#d8576b"
             ],
             [
              0.6666666666666666,
              "#ed7953"
             ],
             [
              0.7777777777777778,
              "#fb9f3a"
             ],
             [
              0.8888888888888888,
              "#fdca26"
             ],
             [
              1,
              "#f0f921"
             ]
            ],
            "type": "contour"
           }
          ],
          "contourcarpet": [
           {
            "colorbar": {
             "outlinewidth": 0,
             "ticks": ""
            },
            "type": "contourcarpet"
           }
          ],
          "heatmap": [
           {
            "colorbar": {
             "outlinewidth": 0,
             "ticks": ""
            },
            "colorscale": [
             [
              0,
              "#0d0887"
             ],
             [
              0.1111111111111111,
              "#46039f"
             ],
             [
              0.2222222222222222,
              "#7201a8"
             ],
             [
              0.3333333333333333,
              "#9c179e"
             ],
             [
              0.4444444444444444,
              "#bd3786"
             ],
             [
              0.5555555555555556,
              "#d8576b"
             ],
             [
              0.6666666666666666,
              "#ed7953"
             ],
             [
              0.7777777777777778,
              "#fb9f3a"
             ],
             [
              0.8888888888888888,
              "#fdca26"
             ],
             [
              1,
              "#f0f921"
             ]
            ],
            "type": "heatmap"
           }
          ],
          "heatmapgl": [
           {
            "colorbar": {
             "outlinewidth": 0,
             "ticks": ""
            },
            "colorscale": [
             [
              0,
              "#0d0887"
             ],
             [
              0.1111111111111111,
              "#46039f"
             ],
             [
              0.2222222222222222,
              "#7201a8"
             ],
             [
              0.3333333333333333,
              "#9c179e"
             ],
             [
              0.4444444444444444,
              "#bd3786"
             ],
             [
              0.5555555555555556,
              "#d8576b"
             ],
             [
              0.6666666666666666,
              "#ed7953"
             ],
             [
              0.7777777777777778,
              "#fb9f3a"
             ],
             [
              0.8888888888888888,
              "#fdca26"
             ],
             [
              1,
              "#f0f921"
             ]
            ],
            "type": "heatmapgl"
           }
          ],
          "histogram": [
           {
            "marker": {
             "pattern": {
              "fillmode": "overlay",
              "size": 10,
              "solidity": 0.2
             }
            },
            "type": "histogram"
           }
          ],
          "histogram2d": [
           {
            "colorbar": {
             "outlinewidth": 0,
             "ticks": ""
            },
            "colorscale": [
             [
              0,
              "#0d0887"
             ],
             [
              0.1111111111111111,
              "#46039f"
             ],
             [
              0.2222222222222222,
              "#7201a8"
             ],
             [
              0.3333333333333333,
              "#9c179e"
             ],
             [
              0.4444444444444444,
              "#bd3786"
             ],
             [
              0.5555555555555556,
              "#d8576b"
             ],
             [
              0.6666666666666666,
              "#ed7953"
             ],
             [
              0.7777777777777778,
              "#fb9f3a"
             ],
             [
              0.8888888888888888,
              "#fdca26"
             ],
             [
              1,
              "#f0f921"
             ]
            ],
            "type": "histogram2d"
           }
          ],
          "histogram2dcontour": [
           {
            "colorbar": {
             "outlinewidth": 0,
             "ticks": ""
            },
            "colorscale": [
             [
              0,
              "#0d0887"
             ],
             [
              0.1111111111111111,
              "#46039f"
             ],
             [
              0.2222222222222222,
              "#7201a8"
             ],
             [
              0.3333333333333333,
              "#9c179e"
             ],
             [
              0.4444444444444444,
              "#bd3786"
             ],
             [
              0.5555555555555556,
              "#d8576b"
             ],
             [
              0.6666666666666666,
              "#ed7953"
             ],
             [
              0.7777777777777778,
              "#fb9f3a"
             ],
             [
              0.8888888888888888,
              "#fdca26"
             ],
             [
              1,
              "#f0f921"
             ]
            ],
            "type": "histogram2dcontour"
           }
          ],
          "mesh3d": [
           {
            "colorbar": {
             "outlinewidth": 0,
             "ticks": ""
            },
            "type": "mesh3d"
           }
          ],
          "parcoords": [
           {
            "line": {
             "colorbar": {
              "outlinewidth": 0,
              "ticks": ""
             }
            },
            "type": "parcoords"
           }
          ],
          "pie": [
           {
            "automargin": true,
            "type": "pie"
           }
          ],
          "scatter": [
           {
            "marker": {
             "line": {
              "color": "#283442"
             }
            },
            "type": "scatter"
           }
          ],
          "scatter3d": [
           {
            "line": {
             "colorbar": {
              "outlinewidth": 0,
              "ticks": ""
             }
            },
            "marker": {
             "colorbar": {
              "outlinewidth": 0,
              "ticks": ""
             }
            },
            "type": "scatter3d"
           }
          ],
          "scattercarpet": [
           {
            "marker": {
             "colorbar": {
              "outlinewidth": 0,
              "ticks": ""
             }
            },
            "type": "scattercarpet"
           }
          ],
          "scattergeo": [
           {
            "marker": {
             "colorbar": {
              "outlinewidth": 0,
              "ticks": ""
             }
            },
            "type": "scattergeo"
           }
          ],
          "scattergl": [
           {
            "marker": {
             "line": {
              "color": "#283442"
             }
            },
            "type": "scattergl"
           }
          ],
          "scattermapbox": [
           {
            "marker": {
             "colorbar": {
              "outlinewidth": 0,
              "ticks": ""
             }
            },
            "type": "scattermapbox"
           }
          ],
          "scatterpolar": [
           {
            "marker": {
             "colorbar": {
              "outlinewidth": 0,
              "ticks": ""
             }
            },
            "type": "scatterpolar"
           }
          ],
          "scatterpolargl": [
           {
            "marker": {
             "colorbar": {
              "outlinewidth": 0,
              "ticks": ""
             }
            },
            "type": "scatterpolargl"
           }
          ],
          "scatterternary": [
           {
            "marker": {
             "colorbar": {
              "outlinewidth": 0,
              "ticks": ""
             }
            },
            "type": "scatterternary"
           }
          ],
          "surface": [
           {
            "colorbar": {
             "outlinewidth": 0,
             "ticks": ""
            },
            "colorscale": [
             [
              0,
              "#0d0887"
             ],
             [
              0.1111111111111111,
              "#46039f"
             ],
             [
              0.2222222222222222,
              "#7201a8"
             ],
             [
              0.3333333333333333,
              "#9c179e"
             ],
             [
              0.4444444444444444,
              "#bd3786"
             ],
             [
              0.5555555555555556,
              "#d8576b"
             ],
             [
              0.6666666666666666,
              "#ed7953"
             ],
             [
              0.7777777777777778,
              "#fb9f3a"
             ],
             [
              0.8888888888888888,
              "#fdca26"
             ],
             [
              1,
              "#f0f921"
             ]
            ],
            "type": "surface"
           }
          ],
          "table": [
           {
            "cells": {
             "fill": {
              "color": "#506784"
             },
             "line": {
              "color": "rgb(17,17,17)"
             }
            },
            "header": {
             "fill": {
              "color": "#2a3f5f"
             },
             "line": {
              "color": "rgb(17,17,17)"
             }
            },
            "type": "table"
           }
          ]
         },
         "layout": {
          "annotationdefaults": {
           "arrowcolor": "#f2f5fa",
           "arrowhead": 0,
           "arrowwidth": 1
          },
          "autotypenumbers": "strict",
          "coloraxis": {
           "colorbar": {
            "outlinewidth": 0,
            "ticks": ""
           }
          },
          "colorscale": {
           "diverging": [
            [
             0,
             "#8e0152"
            ],
            [
             0.1,
             "#c51b7d"
            ],
            [
             0.2,
             "#de77ae"
            ],
            [
             0.3,
             "#f1b6da"
            ],
            [
             0.4,
             "#fde0ef"
            ],
            [
             0.5,
             "#f7f7f7"
            ],
            [
             0.6,
             "#e6f5d0"
            ],
            [
             0.7,
             "#b8e186"
            ],
            [
             0.8,
             "#7fbc41"
            ],
            [
             0.9,
             "#4d9221"
            ],
            [
             1,
             "#276419"
            ]
           ],
           "sequential": [
            [
             0,
             "#0d0887"
            ],
            [
             0.1111111111111111,
             "#46039f"
            ],
            [
             0.2222222222222222,
             "#7201a8"
            ],
            [
             0.3333333333333333,
             "#9c179e"
            ],
            [
             0.4444444444444444,
             "#bd3786"
            ],
            [
             0.5555555555555556,
             "#d8576b"
            ],
            [
             0.6666666666666666,
             "#ed7953"
            ],
            [
             0.7777777777777778,
             "#fb9f3a"
            ],
            [
             0.8888888888888888,
             "#fdca26"
            ],
            [
             1,
             "#f0f921"
            ]
           ],
           "sequentialminus": [
            [
             0,
             "#0d0887"
            ],
            [
             0.1111111111111111,
             "#46039f"
            ],
            [
             0.2222222222222222,
             "#7201a8"
            ],
            [
             0.3333333333333333,
             "#9c179e"
            ],
            [
             0.4444444444444444,
             "#bd3786"
            ],
            [
             0.5555555555555556,
             "#d8576b"
            ],
            [
             0.6666666666666666,
             "#ed7953"
            ],
            [
             0.7777777777777778,
             "#fb9f3a"
            ],
            [
             0.8888888888888888,
             "#fdca26"
            ],
            [
             1,
             "#f0f921"
            ]
           ]
          },
          "colorway": [
           "#636efa",
           "#EF553B",
           "#00cc96",
           "#ab63fa",
           "#FFA15A",
           "#19d3f3",
           "#FF6692",
           "#B6E880",
           "#FF97FF",
           "#FECB52"
          ],
          "font": {
           "color": "#f2f5fa"
          },
          "geo": {
           "bgcolor": "rgb(17,17,17)",
           "lakecolor": "rgb(17,17,17)",
           "landcolor": "rgb(17,17,17)",
           "showlakes": true,
           "showland": true,
           "subunitcolor": "#506784"
          },
          "hoverlabel": {
           "align": "left"
          },
          "hovermode": "closest",
          "mapbox": {
           "style": "dark"
          },
          "paper_bgcolor": "rgb(17,17,17)",
          "plot_bgcolor": "rgb(17,17,17)",
          "polar": {
           "angularaxis": {
            "gridcolor": "#506784",
            "linecolor": "#506784",
            "ticks": ""
           },
           "bgcolor": "rgb(17,17,17)",
           "radialaxis": {
            "gridcolor": "#506784",
            "linecolor": "#506784",
            "ticks": ""
           }
          },
          "scene": {
           "xaxis": {
            "backgroundcolor": "rgb(17,17,17)",
            "gridcolor": "#506784",
            "gridwidth": 2,
            "linecolor": "#506784",
            "showbackground": true,
            "ticks": "",
            "zerolinecolor": "#C8D4E3"
           },
           "yaxis": {
            "backgroundcolor": "rgb(17,17,17)",
            "gridcolor": "#506784",
            "gridwidth": 2,
            "linecolor": "#506784",
            "showbackground": true,
            "ticks": "",
            "zerolinecolor": "#C8D4E3"
           },
           "zaxis": {
            "backgroundcolor": "rgb(17,17,17)",
            "gridcolor": "#506784",
            "gridwidth": 2,
            "linecolor": "#506784",
            "showbackground": true,
            "ticks": "",
            "zerolinecolor": "#C8D4E3"
           }
          },
          "shapedefaults": {
           "line": {
            "color": "#f2f5fa"
           }
          },
          "sliderdefaults": {
           "bgcolor": "#C8D4E3",
           "bordercolor": "rgb(17,17,17)",
           "borderwidth": 1,
           "tickwidth": 0
          },
          "ternary": {
           "aaxis": {
            "gridcolor": "#506784",
            "linecolor": "#506784",
            "ticks": ""
           },
           "baxis": {
            "gridcolor": "#506784",
            "linecolor": "#506784",
            "ticks": ""
           },
           "bgcolor": "rgb(17,17,17)",
           "caxis": {
            "gridcolor": "#506784",
            "linecolor": "#506784",
            "ticks": ""
           }
          },
          "title": {
           "x": 0.05
          },
          "updatemenudefaults": {
           "bgcolor": "#506784",
           "borderwidth": 0
          },
          "xaxis": {
           "automargin": true,
           "gridcolor": "#283442",
           "linecolor": "#506784",
           "ticks": "",
           "title": {
            "standoff": 15
           },
           "zerolinecolor": "#283442",
           "zerolinewidth": 2
          },
          "yaxis": {
           "automargin": true,
           "gridcolor": "#283442",
           "linecolor": "#506784",
           "ticks": "",
           "title": {
            "standoff": 15
           },
           "zerolinecolor": "#283442",
           "zerolinewidth": 2
          }
         }
        },
        "title": {
         "text": "Mood by weekday"
        },
        "xaxis": {
         "anchor": "y",
         "domain": [
          0,
          1
         ],
         "dtick": 1,
         "tickmode": "array",
         "ticktext": [
          "Mon",
          "Tue",
          "Wed",
          "Thu",
          "Fri",
          "Sat",
          "Sun"
         ],
         "tickvals": [
          0,
          1,
          2,
          3,
          4,
          5,
          6
         ],
         "title": {
          "text": "Weekday"
         }
        },
        "yaxis": {
         "anchor": "x",
         "domain": [
          0,
          1
         ],
         "title": {
          "text": "Mood"
         }
        }
       }
      }
     },
     "metadata": {},
     "output_type": "display_data"
    }
   ],
   "source": [
    "df.by_time_bar_plot('weekday')"
   ]
  },
  {
   "cell_type": "code",
   "execution_count": 61,
   "metadata": {
    "metadata": {}
   },
   "outputs": [
    {
     "data": {
      "application/vnd.plotly.v1+json": {
       "config": {
        "plotlyServerURL": "https://plot.ly"
       },
       "data": [
        {
         "alignmentgroup": "True",
         "hovertemplate": "Month=%{x}<br>Mood=%{y}<br>Number of entries=%{marker.color}<extra></extra>",
         "legendgroup": "",
         "marker": {
          "color": [
           61,
           126,
           121,
           123,
           108,
           94,
           95,
           109,
           71,
           58,
           97,
           95
          ],
          "coloraxis": "coloraxis",
          "pattern": {
           "shape": ""
          }
         },
         "name": "",
         "offsetgroup": "",
         "orientation": "v",
         "showlegend": false,
         "textposition": "auto",
         "type": "bar",
         "x": [
          6,
          5,
          4,
          3,
          2,
          1,
          12,
          11,
          10,
          9,
          8,
          7
         ],
         "xaxis": "x",
         "y": [
          3.901639344262295,
          3.8333333333333335,
          3.7975206611570247,
          3.6910569105691056,
          3.662037037037037,
          3.904255319148936,
          3.9105263157894736,
          3.7844036697247705,
          4.063380281690141,
          3.9741379310344827,
          3.8247422680412373,
          3.5894736842105264
         ],
         "yaxis": "y"
        }
       ],
       "layout": {
        "barmode": "relative",
        "coloraxis": {
         "colorbar": {
          "title": {
           "text": "Number of entries"
          }
         },
         "colorscale": [
          [
           0,
           "#440154"
          ],
          [
           0.1111111111111111,
           "#482878"
          ],
          [
           0.2222222222222222,
           "#3e4989"
          ],
          [
           0.3333333333333333,
           "#31688e"
          ],
          [
           0.4444444444444444,
           "#26828e"
          ],
          [
           0.5555555555555556,
           "#1f9e89"
          ],
          [
           0.6666666666666666,
           "#35b779"
          ],
          [
           0.7777777777777778,
           "#6ece58"
          ],
          [
           0.8888888888888888,
           "#b5de2b"
          ],
          [
           1,
           "#fde725"
          ]
         ]
        },
        "legend": {
         "tracegroupgap": 0
        },
        "template": {
         "data": {
          "bar": [
           {
            "error_x": {
             "color": "#f2f5fa"
            },
            "error_y": {
             "color": "#f2f5fa"
            },
            "marker": {
             "line": {
              "color": "rgb(17,17,17)",
              "width": 0.5
             },
             "pattern": {
              "fillmode": "overlay",
              "size": 10,
              "solidity": 0.2
             }
            },
            "type": "bar"
           }
          ],
          "barpolar": [
           {
            "marker": {
             "line": {
              "color": "rgb(17,17,17)",
              "width": 0.5
             },
             "pattern": {
              "fillmode": "overlay",
              "size": 10,
              "solidity": 0.2
             }
            },
            "type": "barpolar"
           }
          ],
          "carpet": [
           {
            "aaxis": {
             "endlinecolor": "#A2B1C6",
             "gridcolor": "#506784",
             "linecolor": "#506784",
             "minorgridcolor": "#506784",
             "startlinecolor": "#A2B1C6"
            },
            "baxis": {
             "endlinecolor": "#A2B1C6",
             "gridcolor": "#506784",
             "linecolor": "#506784",
             "minorgridcolor": "#506784",
             "startlinecolor": "#A2B1C6"
            },
            "type": "carpet"
           }
          ],
          "choropleth": [
           {
            "colorbar": {
             "outlinewidth": 0,
             "ticks": ""
            },
            "type": "choropleth"
           }
          ],
          "contour": [
           {
            "colorbar": {
             "outlinewidth": 0,
             "ticks": ""
            },
            "colorscale": [
             [
              0,
              "#0d0887"
             ],
             [
              0.1111111111111111,
              "#46039f"
             ],
             [
              0.2222222222222222,
              "#7201a8"
             ],
             [
              0.3333333333333333,
              "#9c179e"
             ],
             [
              0.4444444444444444,
              "#bd3786"
             ],
             [
              0.5555555555555556,
              "#d8576b"
             ],
             [
              0.6666666666666666,
              "#ed7953"
             ],
             [
              0.7777777777777778,
              "#fb9f3a"
             ],
             [
              0.8888888888888888,
              "#fdca26"
             ],
             [
              1,
              "#f0f921"
             ]
            ],
            "type": "contour"
           }
          ],
          "contourcarpet": [
           {
            "colorbar": {
             "outlinewidth": 0,
             "ticks": ""
            },
            "type": "contourcarpet"
           }
          ],
          "heatmap": [
           {
            "colorbar": {
             "outlinewidth": 0,
             "ticks": ""
            },
            "colorscale": [
             [
              0,
              "#0d0887"
             ],
             [
              0.1111111111111111,
              "#46039f"
             ],
             [
              0.2222222222222222,
              "#7201a8"
             ],
             [
              0.3333333333333333,
              "#9c179e"
             ],
             [
              0.4444444444444444,
              "#bd3786"
             ],
             [
              0.5555555555555556,
              "#d8576b"
             ],
             [
              0.6666666666666666,
              "#ed7953"
             ],
             [
              0.7777777777777778,
              "#fb9f3a"
             ],
             [
              0.8888888888888888,
              "#fdca26"
             ],
             [
              1,
              "#f0f921"
             ]
            ],
            "type": "heatmap"
           }
          ],
          "heatmapgl": [
           {
            "colorbar": {
             "outlinewidth": 0,
             "ticks": ""
            },
            "colorscale": [
             [
              0,
              "#0d0887"
             ],
             [
              0.1111111111111111,
              "#46039f"
             ],
             [
              0.2222222222222222,
              "#7201a8"
             ],
             [
              0.3333333333333333,
              "#9c179e"
             ],
             [
              0.4444444444444444,
              "#bd3786"
             ],
             [
              0.5555555555555556,
              "#d8576b"
             ],
             [
              0.6666666666666666,
              "#ed7953"
             ],
             [
              0.7777777777777778,
              "#fb9f3a"
             ],
             [
              0.8888888888888888,
              "#fdca26"
             ],
             [
              1,
              "#f0f921"
             ]
            ],
            "type": "heatmapgl"
           }
          ],
          "histogram": [
           {
            "marker": {
             "pattern": {
              "fillmode": "overlay",
              "size": 10,
              "solidity": 0.2
             }
            },
            "type": "histogram"
           }
          ],
          "histogram2d": [
           {
            "colorbar": {
             "outlinewidth": 0,
             "ticks": ""
            },
            "colorscale": [
             [
              0,
              "#0d0887"
             ],
             [
              0.1111111111111111,
              "#46039f"
             ],
             [
              0.2222222222222222,
              "#7201a8"
             ],
             [
              0.3333333333333333,
              "#9c179e"
             ],
             [
              0.4444444444444444,
              "#bd3786"
             ],
             [
              0.5555555555555556,
              "#d8576b"
             ],
             [
              0.6666666666666666,
              "#ed7953"
             ],
             [
              0.7777777777777778,
              "#fb9f3a"
             ],
             [
              0.8888888888888888,
              "#fdca26"
             ],
             [
              1,
              "#f0f921"
             ]
            ],
            "type": "histogram2d"
           }
          ],
          "histogram2dcontour": [
           {
            "colorbar": {
             "outlinewidth": 0,
             "ticks": ""
            },
            "colorscale": [
             [
              0,
              "#0d0887"
             ],
             [
              0.1111111111111111,
              "#46039f"
             ],
             [
              0.2222222222222222,
              "#7201a8"
             ],
             [
              0.3333333333333333,
              "#9c179e"
             ],
             [
              0.4444444444444444,
              "#bd3786"
             ],
             [
              0.5555555555555556,
              "#d8576b"
             ],
             [
              0.6666666666666666,
              "#ed7953"
             ],
             [
              0.7777777777777778,
              "#fb9f3a"
             ],
             [
              0.8888888888888888,
              "#fdca26"
             ],
             [
              1,
              "#f0f921"
             ]
            ],
            "type": "histogram2dcontour"
           }
          ],
          "mesh3d": [
           {
            "colorbar": {
             "outlinewidth": 0,
             "ticks": ""
            },
            "type": "mesh3d"
           }
          ],
          "parcoords": [
           {
            "line": {
             "colorbar": {
              "outlinewidth": 0,
              "ticks": ""
             }
            },
            "type": "parcoords"
           }
          ],
          "pie": [
           {
            "automargin": true,
            "type": "pie"
           }
          ],
          "scatter": [
           {
            "marker": {
             "line": {
              "color": "#283442"
             }
            },
            "type": "scatter"
           }
          ],
          "scatter3d": [
           {
            "line": {
             "colorbar": {
              "outlinewidth": 0,
              "ticks": ""
             }
            },
            "marker": {
             "colorbar": {
              "outlinewidth": 0,
              "ticks": ""
             }
            },
            "type": "scatter3d"
           }
          ],
          "scattercarpet": [
           {
            "marker": {
             "colorbar": {
              "outlinewidth": 0,
              "ticks": ""
             }
            },
            "type": "scattercarpet"
           }
          ],
          "scattergeo": [
           {
            "marker": {
             "colorbar": {
              "outlinewidth": 0,
              "ticks": ""
             }
            },
            "type": "scattergeo"
           }
          ],
          "scattergl": [
           {
            "marker": {
             "line": {
              "color": "#283442"
             }
            },
            "type": "scattergl"
           }
          ],
          "scattermapbox": [
           {
            "marker": {
             "colorbar": {
              "outlinewidth": 0,
              "ticks": ""
             }
            },
            "type": "scattermapbox"
           }
          ],
          "scatterpolar": [
           {
            "marker": {
             "colorbar": {
              "outlinewidth": 0,
              "ticks": ""
             }
            },
            "type": "scatterpolar"
           }
          ],
          "scatterpolargl": [
           {
            "marker": {
             "colorbar": {
              "outlinewidth": 0,
              "ticks": ""
             }
            },
            "type": "scatterpolargl"
           }
          ],
          "scatterternary": [
           {
            "marker": {
             "colorbar": {
              "outlinewidth": 0,
              "ticks": ""
             }
            },
            "type": "scatterternary"
           }
          ],
          "surface": [
           {
            "colorbar": {
             "outlinewidth": 0,
             "ticks": ""
            },
            "colorscale": [
             [
              0,
              "#0d0887"
             ],
             [
              0.1111111111111111,
              "#46039f"
             ],
             [
              0.2222222222222222,
              "#7201a8"
             ],
             [
              0.3333333333333333,
              "#9c179e"
             ],
             [
              0.4444444444444444,
              "#bd3786"
             ],
             [
              0.5555555555555556,
              "#d8576b"
             ],
             [
              0.6666666666666666,
              "#ed7953"
             ],
             [
              0.7777777777777778,
              "#fb9f3a"
             ],
             [
              0.8888888888888888,
              "#fdca26"
             ],
             [
              1,
              "#f0f921"
             ]
            ],
            "type": "surface"
           }
          ],
          "table": [
           {
            "cells": {
             "fill": {
              "color": "#506784"
             },
             "line": {
              "color": "rgb(17,17,17)"
             }
            },
            "header": {
             "fill": {
              "color": "#2a3f5f"
             },
             "line": {
              "color": "rgb(17,17,17)"
             }
            },
            "type": "table"
           }
          ]
         },
         "layout": {
          "annotationdefaults": {
           "arrowcolor": "#f2f5fa",
           "arrowhead": 0,
           "arrowwidth": 1
          },
          "autotypenumbers": "strict",
          "coloraxis": {
           "colorbar": {
            "outlinewidth": 0,
            "ticks": ""
           }
          },
          "colorscale": {
           "diverging": [
            [
             0,
             "#8e0152"
            ],
            [
             0.1,
             "#c51b7d"
            ],
            [
             0.2,
             "#de77ae"
            ],
            [
             0.3,
             "#f1b6da"
            ],
            [
             0.4,
             "#fde0ef"
            ],
            [
             0.5,
             "#f7f7f7"
            ],
            [
             0.6,
             "#e6f5d0"
            ],
            [
             0.7,
             "#b8e186"
            ],
            [
             0.8,
             "#7fbc41"
            ],
            [
             0.9,
             "#4d9221"
            ],
            [
             1,
             "#276419"
            ]
           ],
           "sequential": [
            [
             0,
             "#0d0887"
            ],
            [
             0.1111111111111111,
             "#46039f"
            ],
            [
             0.2222222222222222,
             "#7201a8"
            ],
            [
             0.3333333333333333,
             "#9c179e"
            ],
            [
             0.4444444444444444,
             "#bd3786"
            ],
            [
             0.5555555555555556,
             "#d8576b"
            ],
            [
             0.6666666666666666,
             "#ed7953"
            ],
            [
             0.7777777777777778,
             "#fb9f3a"
            ],
            [
             0.8888888888888888,
             "#fdca26"
            ],
            [
             1,
             "#f0f921"
            ]
           ],
           "sequentialminus": [
            [
             0,
             "#0d0887"
            ],
            [
             0.1111111111111111,
             "#46039f"
            ],
            [
             0.2222222222222222,
             "#7201a8"
            ],
            [
             0.3333333333333333,
             "#9c179e"
            ],
            [
             0.4444444444444444,
             "#bd3786"
            ],
            [
             0.5555555555555556,
             "#d8576b"
            ],
            [
             0.6666666666666666,
             "#ed7953"
            ],
            [
             0.7777777777777778,
             "#fb9f3a"
            ],
            [
             0.8888888888888888,
             "#fdca26"
            ],
            [
             1,
             "#f0f921"
            ]
           ]
          },
          "colorway": [
           "#636efa",
           "#EF553B",
           "#00cc96",
           "#ab63fa",
           "#FFA15A",
           "#19d3f3",
           "#FF6692",
           "#B6E880",
           "#FF97FF",
           "#FECB52"
          ],
          "font": {
           "color": "#f2f5fa"
          },
          "geo": {
           "bgcolor": "rgb(17,17,17)",
           "lakecolor": "rgb(17,17,17)",
           "landcolor": "rgb(17,17,17)",
           "showlakes": true,
           "showland": true,
           "subunitcolor": "#506784"
          },
          "hoverlabel": {
           "align": "left"
          },
          "hovermode": "closest",
          "mapbox": {
           "style": "dark"
          },
          "paper_bgcolor": "rgb(17,17,17)",
          "plot_bgcolor": "rgb(17,17,17)",
          "polar": {
           "angularaxis": {
            "gridcolor": "#506784",
            "linecolor": "#506784",
            "ticks": ""
           },
           "bgcolor": "rgb(17,17,17)",
           "radialaxis": {
            "gridcolor": "#506784",
            "linecolor": "#506784",
            "ticks": ""
           }
          },
          "scene": {
           "xaxis": {
            "backgroundcolor": "rgb(17,17,17)",
            "gridcolor": "#506784",
            "gridwidth": 2,
            "linecolor": "#506784",
            "showbackground": true,
            "ticks": "",
            "zerolinecolor": "#C8D4E3"
           },
           "yaxis": {
            "backgroundcolor": "rgb(17,17,17)",
            "gridcolor": "#506784",
            "gridwidth": 2,
            "linecolor": "#506784",
            "showbackground": true,
            "ticks": "",
            "zerolinecolor": "#C8D4E3"
           },
           "zaxis": {
            "backgroundcolor": "rgb(17,17,17)",
            "gridcolor": "#506784",
            "gridwidth": 2,
            "linecolor": "#506784",
            "showbackground": true,
            "ticks": "",
            "zerolinecolor": "#C8D4E3"
           }
          },
          "shapedefaults": {
           "line": {
            "color": "#f2f5fa"
           }
          },
          "sliderdefaults": {
           "bgcolor": "#C8D4E3",
           "bordercolor": "rgb(17,17,17)",
           "borderwidth": 1,
           "tickwidth": 0
          },
          "ternary": {
           "aaxis": {
            "gridcolor": "#506784",
            "linecolor": "#506784",
            "ticks": ""
           },
           "baxis": {
            "gridcolor": "#506784",
            "linecolor": "#506784",
            "ticks": ""
           },
           "bgcolor": "rgb(17,17,17)",
           "caxis": {
            "gridcolor": "#506784",
            "linecolor": "#506784",
            "ticks": ""
           }
          },
          "title": {
           "x": 0.05
          },
          "updatemenudefaults": {
           "bgcolor": "#506784",
           "borderwidth": 0
          },
          "xaxis": {
           "automargin": true,
           "gridcolor": "#283442",
           "linecolor": "#506784",
           "ticks": "",
           "title": {
            "standoff": 15
           },
           "zerolinecolor": "#283442",
           "zerolinewidth": 2
          },
          "yaxis": {
           "automargin": true,
           "gridcolor": "#283442",
           "linecolor": "#506784",
           "ticks": "",
           "title": {
            "standoff": 15
           },
           "zerolinecolor": "#283442",
           "zerolinewidth": 2
          }
         }
        },
        "title": {
         "text": "Mood by month"
        },
        "xaxis": {
         "anchor": "y",
         "domain": [
          0,
          1
         ],
         "dtick": 1,
         "tickmode": "array",
         "ticktext": [
          "Jan",
          "Feb",
          "Mar",
          "Apr",
          "May",
          "Jun",
          "Jul",
          "Aug",
          "Sep",
          "Oct",
          "Nov",
          "Dec"
         ],
         "tickvals": [
          1,
          2,
          3,
          4,
          5,
          6,
          7,
          8,
          9,
          10,
          11,
          12
         ],
         "title": {
          "text": "Month"
         }
        },
        "yaxis": {
         "anchor": "x",
         "domain": [
          0,
          1
         ],
         "title": {
          "text": "Mood"
         }
        }
       }
      }
     },
     "metadata": {},
     "output_type": "display_data"
    }
   ],
   "source": [
    "df.by_time_bar_plot('month')"
   ]
  },
  {
   "cell_type": "markdown",
   "metadata": {},
   "source": [
    "## Entries times differences"
   ]
  },
  {
   "cell_type": "code",
   "execution_count": 12,
   "metadata": {
    "metadata": {}
   },
   "outputs": [
    {
     "data": {
      "application/vnd.plotly.v1+json": {
       "config": {
        "plotlyServerURL": "https://plot.ly"
       },
       "data": [
        {
         "line": {
          "dash": "dashdot"
         },
         "mode": "lines+markers",
         "type": "scatter",
         "x": [
          "2023-07-03T20:05:00",
          "2023-07-04T22:50:00",
          "2023-07-06T12:42:00",
          "2023-07-08T13:43:00",
          "2023-07-08T15:52:00",
          "2023-07-09T11:36:00",
          "2023-07-09T22:33:00",
          "2023-07-11T23:00:00",
          "2023-07-12T12:55:00",
          "2023-07-12T21:35:00",
          "2023-07-13T10:42:00",
          "2023-07-15T23:01:00",
          "2023-07-16T20:02:00",
          "2023-07-17T16:10:00",
          "2023-07-17T19:17:00",
          "2023-07-17T20:29:00",
          "2023-07-17T21:37:00",
          "2023-07-18T12:23:00",
          "2023-07-18T13:49:00",
          "2023-07-18T23:12:00",
          "2023-07-19T13:27:00",
          "2023-07-19T18:28:00",
          "2023-07-19T20:16:00",
          "2023-07-19T23:10:00",
          "2023-07-20T13:12:00",
          "2023-07-20T16:58:00",
          "2023-07-20T21:21:00",
          "2023-07-21T11:00:00",
          "2023-07-21T23:25:00",
          "2023-07-22T11:30:00",
          "2023-07-22T13:30:00",
          "2023-07-22T17:09:00",
          "2023-07-22T19:34:00",
          "2023-07-22T22:17:00",
          "2023-07-23T10:56:00",
          "2023-07-23T15:14:00",
          "2023-07-23T17:24:00",
          "2023-07-23T20:49:00",
          "2023-07-24T01:45:00",
          "2023-07-24T20:01:00",
          "2023-07-24T23:54:00",
          "2023-07-25T01:06:00",
          "2023-07-25T14:04:00",
          "2023-07-25T15:49:00",
          "2023-07-25T22:06:00",
          "2023-07-26T15:00:00",
          "2023-07-26T18:20:00",
          "2023-07-26T23:13:00",
          "2023-07-27T01:15:00",
          "2023-07-27T15:54:00",
          "2023-07-27T16:02:00",
          "2023-07-27T21:04:00",
          "2023-07-28T10:16:00",
          "2023-07-28T12:12:00",
          "2023-07-28T16:48:00",
          "2023-07-28T21:15:00",
          "2023-07-28T22:54:00",
          "2023-07-29T10:38:00",
          "2023-07-29T15:39:00",
          "2023-07-29T20:04:00",
          "2023-07-30T11:01:00",
          "2023-07-30T12:08:00",
          "2023-07-30T13:01:00",
          "2023-07-30T23:26:00",
          "2023-07-31T12:00:00",
          "2023-07-31T16:45:00",
          "2023-07-31T17:22:00",
          "2023-08-01T10:53:00",
          "2023-08-01T16:11:00",
          "2023-08-01T23:21:00",
          "2023-08-01T23:59:00",
          "2023-08-02T11:49:00",
          "2023-08-02T15:34:00",
          "2023-08-02T18:30:00",
          "2023-08-02T21:10:00",
          "2023-08-03T00:04:00",
          "2023-08-03T18:01:00",
          "2023-08-03T22:51:00",
          "2023-08-04T09:24:00",
          "2023-08-04T16:34:00",
          "2023-08-05T11:32:00",
          "2023-08-05T15:52:00",
          "2023-08-05T22:29:00",
          "2023-08-05T23:29:00",
          "2023-08-06T12:14:00",
          "2023-08-06T15:48:00",
          "2023-08-06T23:45:00",
          "2023-08-07T15:44:00",
          "2023-08-07T23:42:00",
          "2023-08-08T09:22:00",
          "2023-08-08T11:24:00",
          "2023-08-08T22:02:00",
          "2023-08-09T14:55:00",
          "2023-08-09T16:10:00",
          "2023-08-09T17:49:00",
          "2023-08-09T20:01:00",
          "2023-08-10T00:24:00",
          "2023-08-10T20:12:00",
          "2023-08-11T00:29:00",
          "2023-08-11T11:23:00",
          "2023-08-11T13:36:00",
          "2023-08-11T21:24:00",
          "2023-08-12T15:11:00",
          "2023-08-12T20:11:00",
          "2023-08-12T23:59:00",
          "2023-08-13T01:02:00",
          "2023-08-13T12:23:00",
          "2023-08-13T15:31:00",
          "2023-08-14T21:07:00",
          "2023-08-15T01:02:00",
          "2023-08-16T01:33:00",
          "2023-08-17T23:03:00",
          "2023-08-19T01:27:00",
          "2023-08-20T16:35:00",
          "2023-08-20T21:51:00",
          "2023-08-21T00:14:00",
          "2023-08-21T13:11:00",
          "2023-08-21T20:05:00",
          "2023-08-22T13:18:00",
          "2023-08-22T18:07:00",
          "2023-08-30T19:49:00",
          "2023-08-30T20:00:00",
          "2023-08-31T22:48:00",
          "2023-09-01T12:36:00",
          "2023-09-02T12:13:00",
          "2023-09-02T16:31:00",
          "2023-09-02T21:03:00",
          "2023-09-03T13:33:00",
          "2023-09-03T15:11:00",
          "2023-09-03T23:10:00",
          "2023-09-05T20:14:00",
          "2023-09-06T11:33:00",
          "2023-09-06T23:34:00",
          "2023-09-07T20:24:00",
          "2023-09-08T12:40:00",
          "2023-09-08T21:12:00",
          "2023-09-09T20:01:00",
          "2023-09-10T20:04:00",
          "2023-09-11T13:01:00",
          "2023-09-11T21:24:00",
          "2023-09-12T21:17:00",
          "2023-09-13T16:31:00",
          "2023-09-13T20:09:00",
          "2023-09-14T21:16:00",
          "2023-09-15T13:40:00",
          "2023-09-15T21:55:00",
          "2023-09-29T17:53:00",
          "2023-09-29T19:05:00",
          "2023-09-30T16:10:00",
          "2023-09-30T16:30:00",
          "2023-09-30T20:02:00",
          "2023-10-01T00:30:00",
          "2023-10-01T09:41:00",
          "2023-10-03T10:42:00",
          "2023-10-04T09:12:00",
          "2023-10-05T09:55:00",
          "2023-10-06T16:39:00",
          "2023-10-07T11:03:00",
          "2023-10-07T12:32:00",
          "2023-10-09T17:56:00",
          "2023-10-10T09:49:00",
          "2023-10-10T22:39:00",
          "2023-10-10T22:44:00",
          "2023-10-11T19:00:00",
          "2023-10-13T14:42:00",
          "2023-10-16T12:48:00",
          "2023-10-16T16:57:00",
          "2023-10-18T01:37:00",
          "2023-10-18T01:40:00",
          "2023-10-19T12:19:00",
          "2023-10-23T10:17:00",
          "2023-10-23T17:02:00",
          "2023-10-23T23:20:00",
          "2023-10-24T13:09:00",
          "2023-10-24T20:47:00",
          "2023-10-26T16:11:00",
          "2023-10-27T16:10:00",
          "2023-10-28T23:00:00",
          "2023-10-29T10:05:00",
          "2023-10-30T22:53:00",
          "2023-10-31T15:15:00",
          "2023-10-31T16:44:00",
          "2023-11-03T11:56:00",
          "2023-11-03T14:25:00",
          "2023-11-03T23:42:00",
          "2023-11-04T10:02:00",
          "2023-11-04T20:00:00",
          "2023-11-04T23:45:00",
          "2023-11-05T12:14:00",
          "2023-11-05T23:49:00",
          "2023-11-06T09:58:00",
          "2023-11-06T23:09:00",
          "2023-11-07T11:22:00",
          "2023-11-07T13:43:00",
          "2023-11-07T16:03:00",
          "2023-11-07T21:00:00",
          "2023-11-08T12:19:00",
          "2023-11-08T12:55:00",
          "2023-11-08T23:44:00",
          "2023-11-08T23:44:00",
          "2023-11-09T00:10:00",
          "2023-11-09T15:02:00",
          "2023-11-09T23:52:00",
          "2023-11-10T15:22:00",
          "2023-11-10T21:36:00",
          "2023-11-10T22:24:00",
          "2023-11-11T14:25:00",
          "2023-11-11T17:26:00",
          "2023-11-12T10:00:00",
          "2023-11-12T14:00:00",
          "2023-11-12T17:39:00",
          "2023-11-12T21:00:00",
          "2023-11-13T14:47:00",
          "2023-11-13T15:39:00",
          "2023-11-13T17:03:00",
          "2023-11-14T12:22:00",
          "2023-11-14T13:13:00",
          "2023-11-14T21:06:00",
          "2023-11-15T15:56:00",
          "2023-11-15T19:04:00",
          "2023-11-15T22:00:00",
          "2023-11-16T11:49:00",
          "2023-11-16T20:34:00",
          "2023-11-16T23:27:00",
          "2023-11-17T13:56:00",
          "2023-11-19T23:29:00",
          "2023-11-20T14:48:00",
          "2023-11-20T20:20:00",
          "2023-11-21T21:00:00",
          "2023-11-22T18:49:00",
          "2023-11-22T21:41:00",
          "2023-11-23T15:26:00",
          "2023-11-23T21:57:00",
          "2023-11-24T11:07:00",
          "2023-11-24T15:31:00",
          "2023-11-24T18:17:00",
          "2023-11-25T11:37:00",
          "2023-11-27T19:01:00",
          "2023-11-27T20:30:00",
          "2023-11-28T04:25:00",
          "2023-11-28T13:07:00",
          "2023-11-28T16:49:00",
          "2023-11-28T23:00:00",
          "2023-11-29T16:42:00",
          "2023-11-30T11:07:00",
          "2023-11-30T17:06:00",
          "2023-12-01T00:19:00",
          "2023-12-01T20:01:00",
          "2023-12-02T20:18:00",
          "2023-12-02T20:24:00",
          "2023-12-02T21:48:00",
          "2023-12-03T01:07:00",
          "2023-12-03T11:09:00",
          "2023-12-03T12:39:00",
          "2023-12-03T18:04:00",
          "2023-12-04T20:02:00",
          "2023-12-05T10:46:00",
          "2023-12-05T23:47:00",
          "2023-12-06T11:16:00",
          "2023-12-07T18:30:00",
          "2023-12-07T20:02:00",
          "2023-12-08T22:50:00",
          "2023-12-09T00:21:00",
          "2023-12-09T10:27:00",
          "2023-12-09T12:27:00",
          "2023-12-09T17:53:00",
          "2023-12-09T21:15:00",
          "2023-12-10T14:56:00",
          "2023-12-11T19:50:00",
          "2023-12-12T14:21:00",
          "2023-12-12T21:50:00",
          "2023-12-13T11:55:00",
          "2023-12-13T17:53:00",
          "2023-12-13T23:59:00",
          "2023-12-14T12:44:00",
          "2023-12-14T21:09:00",
          "2023-12-15T12:40:00",
          "2023-12-15T16:25:00",
          "2023-12-18T20:00:00",
          "2023-12-18T23:06:00",
          "2023-12-19T14:16:00",
          "2023-12-19T20:55:00",
          "2023-12-20T12:17:00",
          "2023-12-20T23:00:00",
          "2023-12-20T23:50:00",
          "2023-12-21T15:38:00",
          "2023-12-21T16:38:00",
          "2023-12-21T19:10:00",
          "2023-12-21T20:34:00",
          "2023-12-21T21:38:00",
          "2023-12-22T00:51:00",
          "2023-12-22T13:34:00",
          "2023-12-27T18:55:00",
          "2023-12-27T23:35:00",
          "2023-12-28T00:45:00",
          "2023-12-28T19:05:00",
          "2023-12-29T11:49:00",
          "2023-12-29T23:34:00",
          "2023-12-30T19:00:00",
          "2023-12-31T16:48:00",
          "2023-12-31T21:51:00",
          "2023-12-31T22:21:00",
          "2024-01-01T12:05:00",
          "2024-01-01T18:45:00",
          "2024-01-02T11:53:00",
          "2024-01-02T14:05:00",
          "2024-01-03T15:55:00",
          "2024-01-03T20:40:00",
          "2024-01-04T11:30:00",
          "2024-01-04T14:05:00",
          "2024-01-04T16:15:00",
          "2024-01-04T23:04:00",
          "2024-01-05T12:53:00",
          "2024-01-06T15:37:00",
          "2024-01-08T23:28:00",
          "2024-01-10T23:13:00",
          "2024-01-12T13:56:00",
          "2024-01-12T18:19:00",
          "2024-01-12T20:30:00",
          "2024-01-13T01:00:00",
          "2024-01-13T13:00:00",
          "2024-01-13T16:48:00",
          "2024-01-14T13:19:00",
          "2024-01-14T23:08:00",
          "2024-01-14T23:56:00",
          "2024-01-16T20:47:00",
          "2024-01-16T21:31:00",
          "2024-01-17T21:44:00",
          "2024-01-18T11:43:00",
          "2024-01-18T16:09:00",
          "2024-01-19T23:30:00",
          "2024-01-20T00:20:00",
          "2024-01-20T23:42:00",
          "2024-01-21T23:14:00",
          "2024-01-22T00:48:00",
          "2024-01-22T14:50:00",
          "2024-01-22T16:50:00",
          "2024-01-22T19:51:00",
          "2024-01-24T00:57:00",
          "2024-01-24T02:16:00",
          "2024-01-24T08:10:00",
          "2024-01-25T01:03:00",
          "2024-01-25T16:02:00",
          "2024-01-25T19:30:00",
          "2024-01-25T20:03:00",
          "2024-01-25T23:13:00",
          "2024-01-26T12:14:00",
          "2024-01-26T13:55:00",
          "2024-01-26T15:24:00",
          "2024-01-28T16:16:00",
          "2024-01-28T20:06:00",
          "2024-01-29T00:11:00",
          "2024-01-29T13:50:00",
          "2024-01-29T14:16:00",
          "2024-01-29T17:58:00",
          "2024-01-29T20:02:00",
          "2024-01-30T19:38:00",
          "2024-01-30T23:08:00",
          "2024-02-01T17:36:00",
          "2024-02-01T22:20:00",
          "2024-02-02T15:25:00",
          "2024-02-02T16:51:00",
          "2024-02-03T10:29:00",
          "2024-02-03T13:20:00",
          "2024-02-06T20:10:00",
          "2024-02-06T22:42:00",
          "2024-02-07T00:28:00",
          "2024-02-07T21:45:00",
          "2024-02-08T12:53:00",
          "2024-02-08T15:31:00",
          "2024-02-08T19:10:00",
          "2024-02-08T20:33:00",
          "2024-02-09T13:29:00",
          "2024-02-09T14:42:00",
          "2024-02-09T15:41:00",
          "2024-02-12T10:24:00",
          "2024-02-12T18:25:00",
          "2024-02-12T23:01:00",
          "2024-02-13T10:21:00",
          "2024-02-13T16:43:00",
          "2024-02-13T19:44:00",
          "2024-02-13T21:21:00",
          "2024-02-13T23:04:00",
          "2024-02-14T11:38:00",
          "2024-02-14T15:35:00",
          "2024-02-14T20:47:00",
          "2024-02-14T23:53:00",
          "2024-02-15T12:12:00",
          "2024-02-15T15:45:00",
          "2024-02-15T19:23:00",
          "2024-02-15T21:23:00",
          "2024-02-16T14:08:00",
          "2024-02-16T16:04:00",
          "2024-02-16T16:10:00",
          "2024-02-17T11:13:00",
          "2024-02-17T18:00:00",
          "2024-02-17T18:35:00",
          "2024-02-18T13:18:00",
          "2024-02-18T16:15:00",
          "2024-02-18T19:01:00",
          "2024-02-18T23:23:00",
          "2024-02-19T13:55:00",
          "2024-02-19T20:40:00",
          "2024-02-20T19:15:00",
          "2024-02-21T18:35:00",
          "2024-02-21T21:21:00",
          "2024-02-22T14:08:00",
          "2024-02-22T17:46:00",
          "2024-02-22T21:32:00",
          "2024-02-23T16:25:00",
          "2024-02-23T19:40:00",
          "2024-02-24T11:39:00",
          "2024-02-24T16:01:00",
          "2024-02-25T00:40:00",
          "2024-02-25T17:00:00",
          "2024-02-25T19:02:00",
          "2024-02-26T19:28:00",
          "2024-02-26T20:14:00",
          "2024-02-27T14:08:00",
          "2024-02-27T16:26:00",
          "2024-02-29T23:50:00",
          "2024-03-01T22:05:00",
          "2024-03-02T21:30:00",
          "2024-03-02T22:22:00",
          "2024-03-03T10:20:00",
          "2024-03-03T16:06:00",
          "2024-03-03T22:36:00",
          "2024-03-04T16:34:00",
          "2024-03-04T20:03:00",
          "2024-03-05T21:41:00",
          "2024-03-05T23:12:00",
          "2024-03-06T22:13:00",
          "2024-03-07T13:26:00",
          "2024-03-07T21:46:00",
          "2024-03-08T12:27:00",
          "2024-03-08T13:47:00",
          "2024-03-08T17:26:00",
          "2024-03-08T19:00:00",
          "2024-03-08T19:44:00",
          "2024-03-08T20:00:00",
          "2024-03-09T10:25:00",
          "2024-03-09T10:46:00",
          "2024-03-09T15:22:00",
          "2024-03-09T15:45:00",
          "2024-03-09T17:01:00",
          "2024-03-09T19:02:00",
          "2024-03-09T20:15:00",
          "2024-03-09T23:04:00",
          "2024-03-10T11:59:00",
          "2024-03-10T19:41:00",
          "2024-03-11T21:58:00",
          "2024-03-12T20:20:00",
          "2024-03-12T22:51:00",
          "2024-03-13T19:27:00",
          "2024-03-13T21:55:00",
          "2024-03-14T10:15:00",
          "2024-03-14T11:00:00",
          "2024-03-14T14:48:00",
          "2024-03-14T21:00:00",
          "2024-03-14T22:24:00",
          "2024-03-14T23:49:00",
          "2024-03-15T10:37:00",
          "2024-03-18T12:00:00",
          "2024-03-20T20:42:00",
          "2024-03-21T13:40:00",
          "2024-03-21T15:20:00",
          "2024-03-22T20:00:00",
          "2024-03-23T10:10:00",
          "2024-03-25T16:31:00",
          "2024-03-25T17:32:00",
          "2024-03-25T19:17:00",
          "2024-03-26T10:04:00",
          "2024-03-26T12:04:00",
          "2024-03-26T16:25:00",
          "2024-03-26T16:45:00",
          "2024-03-26T18:04:00",
          "2024-03-27T20:31:00",
          "2024-03-27T22:05:00",
          "2024-03-28T00:25:00",
          "2024-03-28T19:10:00",
          "2024-03-28T20:00:00",
          "2024-03-29T10:20:00",
          "2024-03-29T14:52:00",
          "2024-03-29T19:03:00",
          "2024-03-30T10:02:00",
          "2024-03-30T14:28:00",
          "2024-03-30T18:25:00",
          "2024-03-30T18:35:00",
          "2024-03-31T12:53:00",
          "2024-03-31T16:04:00",
          "2024-03-31T20:00:00",
          "2024-04-01T10:19:00",
          "2024-04-01T13:20:00",
          "2024-04-01T16:35:00",
          "2024-04-01T19:40:00",
          "2024-04-01T23:59:00",
          "2024-04-02T20:00:00",
          "2024-04-02T20:59:00",
          "2024-04-03T20:02:00",
          "2024-04-04T14:10:00",
          "2024-04-04T15:44:00",
          "2024-04-04T18:45:00",
          "2024-04-04T19:40:00",
          "2024-04-04T23:12:00",
          "2024-04-05T11:34:00",
          "2024-04-05T12:54:00",
          "2024-04-05T16:00:00",
          "2024-04-05T20:00:00",
          "2024-04-06T11:49:00",
          "2024-04-06T15:27:00",
          "2024-04-07T08:19:00",
          "2024-04-07T11:41:00",
          "2024-04-07T20:11:00",
          "2024-04-07T22:44:00",
          "2024-04-08T10:00:00",
          "2024-04-08T13:36:00",
          "2024-04-08T15:00:00",
          "2024-04-08T17:47:00",
          "2024-04-08T19:40:00",
          "2024-04-09T22:24:00",
          "2024-04-10T00:45:00",
          "2024-04-10T23:42:00",
          "2024-04-11T14:21:00",
          "2024-04-11T16:22:00",
          "2024-04-11T19:20:00",
          "2024-04-12T05:25:00",
          "2024-04-12T10:59:00",
          "2024-04-12T12:14:00",
          "2024-04-12T15:22:00",
          "2024-04-12T21:41:00",
          "2024-04-12T23:29:00",
          "2024-04-13T12:15:00",
          "2024-04-13T15:50:00",
          "2024-04-13T19:18:00",
          "2024-04-13T23:17:00",
          "2024-04-14T01:07:00",
          "2024-04-15T14:39:00",
          "2024-04-15T15:20:00",
          "2024-04-15T23:54:00",
          "2024-04-16T18:46:00",
          "2024-04-16T19:20:00",
          "2024-04-16T22:00:00",
          "2024-04-16T23:55:00",
          "2024-04-17T07:12:00",
          "2024-04-18T20:11:00",
          "2024-04-19T00:27:00",
          "2024-04-19T10:44:00",
          "2024-04-19T14:31:00",
          "2024-04-19T16:33:00",
          "2024-04-19T19:00:00",
          "2024-04-20T12:27:00",
          "2024-04-22T18:48:00",
          "2024-04-22T20:00:00",
          "2024-04-23T23:02:00",
          "2024-04-24T12:33:00",
          "2024-04-24T15:19:00",
          "2024-04-24T18:28:00",
          "2024-04-24T21:05:00",
          "2024-04-25T19:02:00",
          "2024-04-26T11:49:00",
          "2024-04-26T15:50:00",
          "2024-04-26T16:38:00",
          "2024-04-28T22:38:00",
          "2024-04-29T17:00:00",
          "2024-04-29T22:05:00",
          "2024-05-03T01:12:00",
          "2024-05-04T13:09:00",
          "2024-05-04T15:58:00",
          "2024-05-04T22:05:00",
          "2024-05-04T23:54:00",
          "2024-05-05T10:50:00",
          "2024-05-05T13:51:00",
          "2024-05-05T22:12:00",
          "2024-05-05T22:50:00",
          "2024-05-05T23:17:00",
          "2024-05-07T23:55:00",
          "2024-05-08T09:34:00",
          "2024-05-10T20:29:00",
          "2024-05-11T00:15:00",
          "2024-05-11T10:24:00",
          "2024-05-11T13:20:00",
          "2024-05-11T13:25:00",
          "2024-05-11T16:24:00",
          "2024-05-12T22:22:00",
          "2024-05-13T16:47:00",
          "2024-05-13T22:04:00",
          "2024-05-15T08:41:00",
          "2024-05-15T10:45:00",
          "2024-05-15T13:28:00",
          "2024-05-15T16:00:00",
          "2024-05-16T20:33:00",
          "2024-05-16T23:14:00",
          "2024-05-17T12:57:00",
          "2024-05-17T14:38:00",
          "2024-05-17T22:46:00",
          "2024-05-18T14:01:00",
          "2024-05-21T21:19:00",
          "2024-05-22T10:45:00",
          "2024-05-22T15:56:00",
          "2024-05-23T19:51:00",
          "2024-05-23T21:14:00",
          "2024-05-24T00:23:00",
          "2024-05-24T12:42:00",
          "2024-05-24T15:21:00",
          "2024-05-24T16:07:00",
          "2024-05-24T21:19:00",
          "2024-05-24T22:43:00",
          "2024-05-25T11:43:00",
          "2024-05-25T16:44:00",
          "2024-05-25T22:46:00",
          "2024-05-26T08:09:00",
          "2024-05-26T11:45:00",
          "2024-05-26T13:12:00",
          "2024-05-26T14:00:00",
          "2024-05-26T19:57:00",
          "2024-05-26T23:40:00",
          "2024-05-27T10:59:00",
          "2024-05-27T18:26:00",
          "2024-05-27T22:54:00",
          "2024-05-29T13:05:00",
          "2024-05-29T15:47:00",
          "2024-05-29T17:02:00",
          "2024-05-29T22:00:00",
          "2024-05-30T10:19:00",
          "2024-05-30T13:50:00",
          "2024-05-30T17:56:00",
          "2024-05-30T20:42:00",
          "2024-05-31T11:29:00",
          "2024-05-31T16:30:00"
         ],
         "y": [
          2.0034722222222223,
          1.1145833333333333,
          1.5777777777777777,
          2.042361111111111,
          0.08958333333333333,
          0.8222222222222222,
          0.45625,
          2.01875,
          0.5798611111111112,
          0.3611111111111111,
          0.5465277777777777,
          2.5131944444444443,
          0.8756944444444444,
          0.8388888888888889,
          0.12986111111111112,
          0.05,
          0.04722222222222222,
          0.6152777777777778,
          0.059722222222222225,
          0.3909722222222222,
          0.59375,
          0.20902777777777778,
          0.075,
          0.12083333333333333,
          0.5847222222222223,
          0.15694444444444444,
          0.18263888888888888,
          0.56875,
          0.5173611111111112,
          0.5034722222222222,
          0.08333333333333333,
          0.15208333333333332,
          0.10069444444444445,
          0.11319444444444444,
          0.5270833333333333,
          0.17916666666666667,
          0.09027777777777778,
          0.1423611111111111,
          0.20555555555555555,
          0.7611111111111111,
          0.16180555555555556,
          0.05,
          0.5402777777777777,
          0.07291666666666667,
          0.26180555555555557,
          0.7041666666666667,
          0.1388888888888889,
          0.20347222222222222,
          0.08472222222222223,
          0.6104166666666667,
          0.005555555555555556,
          0.20972222222222223,
          0.55,
          0.08055555555555556,
          0.19166666666666668,
          0.18541666666666667,
          0.06875,
          0.4888888888888889,
          0.20902777777777778,
          0.1840277777777778,
          0.6229166666666667,
          0.04652777777777778,
          0.03680555555555556,
          0.4340277777777778,
          0.5236111111111111,
          0.19791666666666666,
          0.025694444444444443,
          0.7298611111111111,
          0.22083333333333333,
          0.2986111111111111,
          0.02638888888888889,
          0.4930555555555556,
          0.15625,
          0.12222222222222222,
          0.1111111111111111,
          0.12083333333333333,
          0.7479166666666667,
          0.2013888888888889,
          0.4395833333333333,
          0.2986111111111111,
          0.7902777777777777,
          0.18055555555555555,
          0.27569444444444446,
          0.041666666666666664,
          0.53125,
          0.1486111111111111,
          0.33125,
          0.6659722222222222,
          0.33194444444444443,
          0.4027777777777778,
          0.08472222222222223,
          0.44305555555555554,
          0.7034722222222223,
          0.052083333333333336,
          0.06875,
          0.09166666666666666,
          0.18263888888888888,
          0.825,
          0.17847222222222223,
          0.45416666666666666,
          0.09236111111111112,
          0.325,
          0.7409722222222223,
          0.20833333333333334,
          0.15833333333333333,
          0.04375,
          0.47291666666666665,
          0.13055555555555556,
          1.2333333333333334,
          0.16319444444444445,
          1.0215277777777778,
          1.8958333333333333,
          1.1,
          1.6305555555555555,
          0.21944444444444444,
          0.09930555555555555,
          0.5395833333333333,
          0.2875,
          0.7173611111111111,
          0.20069444444444445,
          8.070833333333333,
          0.007638888888888889,
          1.1166666666666667,
          0.575,
          0.9840277777777777,
          0.17916666666666667,
          0.18888888888888888,
          0.6875,
          0.06805555555555555,
          0.3326388888888889,
          1.8777777777777778,
          0.6381944444444444,
          0.5006944444444444,
          0.8680555555555556,
          0.6777777777777778,
          0.35555555555555557,
          0.9506944444444444,
          1.0020833333333334,
          0.70625,
          0.34930555555555554,
          0.9951388888888889,
          0.8013888888888889,
          0.15138888888888888,
          1.0465277777777777,
          0.6833333333333333,
          0.34375,
          13.831944444444444,
          0.05,
          0.8784722222222222,
          0.013888888888888888,
          0.14722222222222223,
          0.18611111111111112,
          0.38263888888888886,
          2.042361111111111,
          0.9375,
          1.0298611111111111,
          1.2805555555555554,
          0.7666666666666667,
          0.06180555555555556,
          2.225,
          0.6618055555555555,
          0.5347222222222222,
          0.003472222222222222,
          0.8444444444444444,
          1.8208333333333333,
          2.9208333333333334,
          0.17291666666666666,
          1.3611111111111112,
          0.0020833333333333333,
          1.44375,
          3.915277777777778,
          0.28125,
          0.2625,
          0.5756944444444444,
          0.31805555555555554,
          1.8083333333333333,
          0.9993055555555556,
          1.2847222222222223,
          0.4618055555555556,
          1.5333333333333334,
          0.6819444444444445,
          0.06180555555555556,
          2.8,
          0.10347222222222222,
          0.38680555555555557,
          0.4305555555555556,
          0.4152777777777778,
          0.15625,
          0.5201388888888889,
          0.4826388888888889,
          0.42291666666666666,
          0.5493055555555556,
          0.5090277777777777,
          0.09791666666666667,
          0.09722222222222222,
          0.20625,
          0.6381944444444444,
          0.025,
          0.45069444444444445,
          0,
          0.018055555555555554,
          0.6194444444444445,
          0.3680555555555556,
          0.6458333333333334,
          0.25972222222222224,
          0.03333333333333333,
          0.6673611111111111,
          0.12569444444444444,
          0.6902777777777778,
          0.16666666666666666,
          0.15208333333333332,
          0.13958333333333334,
          0.7409722222222223,
          0.03611111111111111,
          0.058333333333333334,
          0.8048611111111111,
          0.035416666666666666,
          0.3284722222222222,
          0.7847222222222222,
          0.13055555555555556,
          0.12222222222222222,
          0.5756944444444444,
          0.3645833333333333,
          0.12013888888888889,
          0.6034722222222222,
          2.3979166666666667,
          0.6381944444444444,
          0.23055555555555557,
          1.0277777777777777,
          0.9090277777777778,
          0.11944444444444445,
          0.7395833333333334,
          0.27152777777777776,
          0.5486111111111112,
          0.18333333333333332,
          0.11527777777777778,
          0.7222222222222222,
          2.308333333333333,
          0.06180555555555556,
          0.3298611111111111,
          0.3625,
          0.15416666666666667,
          0.25763888888888886,
          0.7375,
          0.7673611111111112,
          0.24930555555555556,
          0.30069444444444443,
          0.8208333333333333,
          1.0118055555555556,
          0.004166666666666667,
          0.058333333333333334,
          0.13819444444444445,
          0.41805555555555557,
          0.0625,
          0.22569444444444445,
          1.0819444444444444,
          0.6138888888888889,
          0.5423611111111111,
          0.47847222222222224,
          1.301388888888889,
          0.06388888888888888,
          1.1166666666666667,
          0.06319444444444444,
          0.42083333333333334,
          0.08333333333333333,
          0.2263888888888889,
          0.14027777777777778,
          0.7368055555555556,
          1.2041666666666666,
          0.7715277777777778,
          0.31180555555555556,
          0.5868055555555556,
          0.24861111111111112,
          0.25416666666666665,
          0.53125,
          0.3506944444444444,
          0.6465277777777778,
          0.15625,
          3.1493055555555554,
          0.12916666666666668,
          0.6319444444444444,
          0.27708333333333335,
          0.6402777777777777,
          0.4465277777777778,
          0.034722222222222224,
          0.6583333333333333,
          0.041666666666666664,
          0.10555555555555556,
          0.058333333333333334,
          0.044444444444444446,
          0.13402777777777777,
          0.5298611111111111,
          5.222916666666666,
          0.19444444444444445,
          0.04861111111111111,
          0.7638888888888888,
          0.6972222222222222,
          0.4895833333333333,
          0.8097222222222222,
          0.9083333333333333,
          0.21041666666666667,
          0.020833333333333332,
          0.5722222222222222,
          0.2777777777777778,
          0.7138888888888889,
          0.09166666666666666,
          1.0763888888888888,
          0.19791666666666666,
          0.6180555555555556,
          0.1076388888888889,
          0.09027777777777778,
          0.28402777777777777,
          0.5756944444444444,
          1.113888888888889,
          2.3270833333333334,
          1.9895833333333333,
          1.6131944444444444,
          0.18263888888888888,
          0.09097222222222222,
          0.1875,
          0.5,
          0.15833333333333333,
          0.8548611111111111,
          0.40902777777777777,
          0.03333333333333333,
          1.86875,
          0.030555555555555555,
          1.0090277777777779,
          0.5826388888888889,
          0.18472222222222223,
          1.30625,
          0.034722222222222224,
          0.9736111111111111,
          0.9805555555555555,
          0.06527777777777778,
          0.5847222222222223,
          0.08333333333333333,
          0.12569444444444444,
          1.2125,
          0.05486111111111111,
          0.24583333333333332,
          0.7034722222222223,
          0.6243055555555556,
          0.14444444444444443,
          0.022916666666666665,
          0.13194444444444445,
          0.5423611111111111,
          0.07013888888888889,
          0.06180555555555556,
          2.036111111111111,
          0.1597222222222222,
          0.1701388888888889,
          0.56875,
          0.018055555555555554,
          0.15416666666666667,
          0.08611111111111111,
          0.9833333333333333,
          0.14583333333333334,
          1.7694444444444444,
          0.19722222222222222,
          0.7118055555555556,
          0.059722222222222225,
          0.7347222222222223,
          0.11875,
          3.2847222222222223,
          0.10555555555555556,
          0.07361111111111111,
          0.8868055555555555,
          0.6305555555555555,
          0.10972222222222222,
          0.15208333333333332,
          0.05763888888888889,
          0.7055555555555556,
          0.050694444444444445,
          0.04097222222222222,
          2.779861111111111,
          0.33402777777777776,
          0.19166666666666668,
          0.4722222222222222,
          0.2652777777777778,
          0.12569444444444444,
          0.06736111111111111,
          0.07152777777777777,
          0.5236111111111111,
          0.16458333333333333,
          0.21666666666666667,
          0.12916666666666668,
          0.5131944444444444,
          0.14791666666666667,
          0.15138888888888888,
          0.08333333333333333,
          0.6979166666666666,
          0.08055555555555556,
          0.004166666666666667,
          0.79375,
          0.2826388888888889,
          0.024305555555555556,
          0.7798611111111111,
          0.12291666666666666,
          0.11527777777777778,
          0.18194444444444444,
          0.6055555555555555,
          0.28125,
          0.9409722222222222,
          0.9722222222222222,
          0.11527777777777778,
          0.6993055555555555,
          0.15138888888888888,
          0.15694444444444444,
          0.7868055555555555,
          0.13541666666666666,
          0.6659722222222222,
          0.18194444444444444,
          0.36041666666666666,
          0.6805555555555556,
          0.08472222222222223,
          1.0180555555555555,
          0.03194444444444444,
          0.7458333333333333,
          0.09583333333333334,
          2.308333333333333,
          0.9270833333333334,
          0.9756944444444444,
          0.03611111111111111,
          0.4986111111111111,
          0.24027777777777778,
          0.2708333333333333,
          0.7486111111111111,
          0.1451388888888889,
          1.0680555555555555,
          0.06319444444444444,
          0.9590277777777778,
          0.6340277777777777,
          0.3472222222222222,
          0.6118055555555556,
          0.05555555555555555,
          0.15208333333333332,
          0.06527777777777778,
          0.030555555555555555,
          0.011111111111111112,
          0.6006944444444444,
          0.014583333333333334,
          0.19166666666666668,
          0.01597222222222222,
          0.05277777777777778,
          0.08402777777777778,
          0.050694444444444445,
          0.11736111111111111,
          0.5381944444444444,
          0.32083333333333336,
          1.0951388888888889,
          0.9319444444444445,
          0.10486111111111111,
          0.8583333333333333,
          0.10277777777777777,
          0.5138888888888888,
          0.03125,
          0.15833333333333333,
          0.25833333333333336,
          0.058333333333333334,
          0.059027777777777776,
          0.45,
          3.057638888888889,
          2.3625,
          0.7069444444444445,
          0.06944444444444445,
          1.1944444444444444,
          0.5902777777777778,
          2.2645833333333334,
          0.04236111111111111,
          0.07291666666666667,
          0.6159722222222223,
          0.08333333333333333,
          0.18125,
          0.013888888888888888,
          0.05486111111111111,
          1.1020833333333333,
          0.06527777777777778,
          0.09722222222222222,
          0.78125,
          0.034722222222222224,
          0.5972222222222222,
          0.18888888888888888,
          0.17430555555555555,
          0.6243055555555556,
          0.18472222222222223,
          0.16458333333333333,
          0.006944444444444444,
          0.7625,
          0.1326388888888889,
          0.1638888888888889,
          0.5965277777777778,
          0.12569444444444444,
          0.13541666666666666,
          0.1284722222222222,
          0.1798611111111111,
          0.8340277777777778,
          0.04097222222222222,
          0.9604166666666667,
          0.7555555555555555,
          0.06527777777777778,
          0.12569444444444444,
          0.03819444444444445,
          0.14722222222222223,
          0.5152777777777777,
          0.05555555555555555,
          0.12916666666666668,
          0.16666666666666666,
          0.6590277777777778,
          0.15138888888888888,
          0.7027777777777777,
          0.14027777777777778,
          0.3541666666666667,
          0.10625,
          0.46944444444444444,
          0.15,
          0.058333333333333334,
          0.11597222222222223,
          0.07847222222222222,
          1.113888888888889,
          0.09791666666666667,
          0.95625,
          0.6104166666666667,
          0.08402777777777778,
          0.12361111111111112,
          0.4201388888888889,
          0.23194444444444445,
          0.052083333333333336,
          0.13055555555555556,
          0.26319444444444445,
          0.075,
          0.5319444444444444,
          0.14930555555555555,
          0.14444444444444443,
          0.16597222222222222,
          0.0763888888888889,
          1.5638888888888889,
          0.02847222222222222,
          0.35694444444444445,
          0.7861111111111111,
          0.02361111111111111,
          0.1111111111111111,
          0.0798611111111111,
          0.3034722222222222,
          1.5409722222222222,
          0.17777777777777778,
          0.4284722222222222,
          0.15763888888888888,
          0.08472222222222223,
          0.10208333333333333,
          0.7270833333333333,
          2.2645833333333334,
          0.05,
          1.1263888888888889,
          0.5631944444444444,
          0.11527777777777778,
          0.13125,
          0.10902777777777778,
          0.9145833333333333,
          0.6993055555555555,
          0.1673611111111111,
          0.03333333333333333,
          2.25,
          0.7652777777777777,
          0.21180555555555555,
          3.129861111111111,
          1.4979166666666666,
          0.11736111111111111,
          0.2548611111111111,
          0.07569444444444444,
          0.45555555555555555,
          0.12569444444444444,
          0.34791666666666665,
          0.02638888888888889,
          0.01875,
          2.026388888888889,
          0.40208333333333335,
          2.454861111111111,
          0.15694444444444444,
          0.42291666666666666,
          0.12222222222222222,
          0.003472222222222222,
          0.12430555555555556,
          1.2486111111111111,
          0.7673611111111112,
          0.22013888888888888,
          1.4423611111111112,
          0.08611111111111111,
          0.11319444444444444,
          0.10555555555555556,
          1.1895833333333334,
          0.11180555555555556,
          0.5715277777777777,
          0.07013888888888889,
          0.3388888888888889,
          0.6354166666666666,
          3.3041666666666667,
          0.5597222222222222,
          0.21597222222222223,
          1.1631944444444444,
          0.05763888888888889,
          0.13125,
          0.5131944444444444,
          0.11041666666666666,
          0.03194444444444444,
          0.21666666666666667,
          0.058333333333333334,
          0.5416666666666666,
          0.20902777777777778,
          0.2513888888888889,
          0.3909722222222222,
          0.15,
          0.06041666666666667,
          0.03333333333333333,
          0.24791666666666667,
          0.15486111111111112,
          0.47152777777777777,
          0.3104166666666667,
          0.18611111111111112,
          1.5909722222222222,
          0.1125,
          0.052083333333333336,
          0.20694444444444443,
          0.5131944444444444,
          0.14652777777777778,
          0.17083333333333334,
          0.11527777777777778,
          0.6159722222222223,
          0.20902777777777778
         ]
        },
        {
         "line": {
          "width": 2
         },
         "marker": {
          "size": 0
         },
         "mode": "lines",
         "name": "Sliding average (window size 15)",
         "type": "scatter",
         "x": [
          "2023-07-17T16:10:00",
          "2023-07-17T19:17:00",
          "2023-07-17T20:29:00",
          "2023-07-17T21:37:00",
          "2023-07-18T12:23:00",
          "2023-07-18T13:49:00",
          "2023-07-18T23:12:00",
          "2023-07-19T13:27:00",
          "2023-07-19T18:28:00",
          "2023-07-19T20:16:00",
          "2023-07-19T23:10:00",
          "2023-07-20T13:12:00",
          "2023-07-20T16:58:00",
          "2023-07-20T21:21:00",
          "2023-07-21T11:00:00",
          "2023-07-21T23:25:00",
          "2023-07-22T11:30:00",
          "2023-07-22T13:30:00",
          "2023-07-22T17:09:00",
          "2023-07-22T19:34:00",
          "2023-07-22T22:17:00",
          "2023-07-23T10:56:00",
          "2023-07-23T15:14:00",
          "2023-07-23T17:24:00",
          "2023-07-23T20:49:00",
          "2023-07-24T01:45:00",
          "2023-07-24T20:01:00",
          "2023-07-24T23:54:00",
          "2023-07-25T01:06:00",
          "2023-07-25T14:04:00",
          "2023-07-25T15:49:00",
          "2023-07-25T22:06:00",
          "2023-07-26T15:00:00",
          "2023-07-26T18:20:00",
          "2023-07-26T23:13:00",
          "2023-07-27T01:15:00",
          "2023-07-27T15:54:00",
          "2023-07-27T16:02:00",
          "2023-07-27T21:04:00",
          "2023-07-28T10:16:00",
          "2023-07-28T12:12:00",
          "2023-07-28T16:48:00",
          "2023-07-28T21:15:00",
          "2023-07-28T22:54:00",
          "2023-07-29T10:38:00",
          "2023-07-29T15:39:00",
          "2023-07-29T20:04:00",
          "2023-07-30T11:01:00",
          "2023-07-30T12:08:00",
          "2023-07-30T13:01:00",
          "2023-07-30T23:26:00",
          "2023-07-31T12:00:00",
          "2023-07-31T16:45:00",
          "2023-07-31T17:22:00",
          "2023-08-01T10:53:00",
          "2023-08-01T16:11:00",
          "2023-08-01T23:21:00",
          "2023-08-01T23:59:00",
          "2023-08-02T11:49:00",
          "2023-08-02T15:34:00",
          "2023-08-02T18:30:00",
          "2023-08-02T21:10:00",
          "2023-08-03T00:04:00",
          "2023-08-03T18:01:00",
          "2023-08-03T22:51:00",
          "2023-08-04T09:24:00",
          "2023-08-04T16:34:00",
          "2023-08-05T11:32:00",
          "2023-08-05T15:52:00",
          "2023-08-05T22:29:00",
          "2023-08-05T23:29:00",
          "2023-08-06T12:14:00",
          "2023-08-06T15:48:00",
          "2023-08-06T23:45:00",
          "2023-08-07T15:44:00",
          "2023-08-07T23:42:00",
          "2023-08-08T09:22:00",
          "2023-08-08T11:24:00",
          "2023-08-08T22:02:00",
          "2023-08-09T14:55:00",
          "2023-08-09T16:10:00",
          "2023-08-09T17:49:00",
          "2023-08-09T20:01:00",
          "2023-08-10T00:24:00",
          "2023-08-10T20:12:00",
          "2023-08-11T00:29:00",
          "2023-08-11T11:23:00",
          "2023-08-11T13:36:00",
          "2023-08-11T21:24:00",
          "2023-08-12T15:11:00",
          "2023-08-12T20:11:00",
          "2023-08-12T23:59:00",
          "2023-08-13T01:02:00",
          "2023-08-13T12:23:00",
          "2023-08-13T15:31:00",
          "2023-08-14T21:07:00",
          "2023-08-15T01:02:00",
          "2023-08-16T01:33:00",
          "2023-08-17T23:03:00",
          "2023-08-19T01:27:00",
          "2023-08-20T16:35:00",
          "2023-08-20T21:51:00",
          "2023-08-21T00:14:00",
          "2023-08-21T13:11:00",
          "2023-08-21T20:05:00",
          "2023-08-22T13:18:00",
          "2023-08-22T18:07:00",
          "2023-08-30T19:49:00",
          "2023-08-30T20:00:00",
          "2023-08-31T22:48:00",
          "2023-09-01T12:36:00",
          "2023-09-02T12:13:00",
          "2023-09-02T16:31:00",
          "2023-09-02T21:03:00",
          "2023-09-03T13:33:00",
          "2023-09-03T15:11:00",
          "2023-09-03T23:10:00",
          "2023-09-05T20:14:00",
          "2023-09-06T11:33:00",
          "2023-09-06T23:34:00",
          "2023-09-07T20:24:00",
          "2023-09-08T12:40:00",
          "2023-09-08T21:12:00",
          "2023-09-09T20:01:00",
          "2023-09-10T20:04:00",
          "2023-09-11T13:01:00",
          "2023-09-11T21:24:00",
          "2023-09-12T21:17:00",
          "2023-09-13T16:31:00",
          "2023-09-13T20:09:00",
          "2023-09-14T21:16:00",
          "2023-09-15T13:40:00",
          "2023-09-15T21:55:00",
          "2023-09-29T17:53:00",
          "2023-09-29T19:05:00",
          "2023-09-30T16:10:00",
          "2023-09-30T16:30:00",
          "2023-09-30T20:02:00",
          "2023-10-01T00:30:00",
          "2023-10-01T09:41:00",
          "2023-10-03T10:42:00",
          "2023-10-04T09:12:00",
          "2023-10-05T09:55:00",
          "2023-10-06T16:39:00",
          "2023-10-07T11:03:00",
          "2023-10-07T12:32:00",
          "2023-10-09T17:56:00",
          "2023-10-10T09:49:00",
          "2023-10-10T22:39:00",
          "2023-10-10T22:44:00",
          "2023-10-11T19:00:00",
          "2023-10-13T14:42:00",
          "2023-10-16T12:48:00",
          "2023-10-16T16:57:00",
          "2023-10-18T01:37:00",
          "2023-10-18T01:40:00",
          "2023-10-19T12:19:00",
          "2023-10-23T10:17:00",
          "2023-10-23T17:02:00",
          "2023-10-23T23:20:00",
          "2023-10-24T13:09:00",
          "2023-10-24T20:47:00",
          "2023-10-26T16:11:00",
          "2023-10-27T16:10:00",
          "2023-10-28T23:00:00",
          "2023-10-29T10:05:00",
          "2023-10-30T22:53:00",
          "2023-10-31T15:15:00",
          "2023-10-31T16:44:00",
          "2023-11-03T11:56:00",
          "2023-11-03T14:25:00",
          "2023-11-03T23:42:00",
          "2023-11-04T10:02:00",
          "2023-11-04T20:00:00",
          "2023-11-04T23:45:00",
          "2023-11-05T12:14:00",
          "2023-11-05T23:49:00",
          "2023-11-06T09:58:00",
          "2023-11-06T23:09:00",
          "2023-11-07T11:22:00",
          "2023-11-07T13:43:00",
          "2023-11-07T16:03:00",
          "2023-11-07T21:00:00",
          "2023-11-08T12:19:00",
          "2023-11-08T12:55:00",
          "2023-11-08T23:44:00",
          "2023-11-08T23:44:00",
          "2023-11-09T00:10:00",
          "2023-11-09T15:02:00",
          "2023-11-09T23:52:00",
          "2023-11-10T15:22:00",
          "2023-11-10T21:36:00",
          "2023-11-10T22:24:00",
          "2023-11-11T14:25:00",
          "2023-11-11T17:26:00",
          "2023-11-12T10:00:00",
          "2023-11-12T14:00:00",
          "2023-11-12T17:39:00",
          "2023-11-12T21:00:00",
          "2023-11-13T14:47:00",
          "2023-11-13T15:39:00",
          "2023-11-13T17:03:00",
          "2023-11-14T12:22:00",
          "2023-11-14T13:13:00",
          "2023-11-14T21:06:00",
          "2023-11-15T15:56:00",
          "2023-11-15T19:04:00",
          "2023-11-15T22:00:00",
          "2023-11-16T11:49:00",
          "2023-11-16T20:34:00",
          "2023-11-16T23:27:00",
          "2023-11-17T13:56:00",
          "2023-11-19T23:29:00",
          "2023-11-20T14:48:00",
          "2023-11-20T20:20:00",
          "2023-11-21T21:00:00",
          "2023-11-22T18:49:00",
          "2023-11-22T21:41:00",
          "2023-11-23T15:26:00",
          "2023-11-23T21:57:00",
          "2023-11-24T11:07:00",
          "2023-11-24T15:31:00",
          "2023-11-24T18:17:00",
          "2023-11-25T11:37:00",
          "2023-11-27T19:01:00",
          "2023-11-27T20:30:00",
          "2023-11-28T04:25:00",
          "2023-11-28T13:07:00",
          "2023-11-28T16:49:00",
          "2023-11-28T23:00:00",
          "2023-11-29T16:42:00",
          "2023-11-30T11:07:00",
          "2023-11-30T17:06:00",
          "2023-12-01T00:19:00",
          "2023-12-01T20:01:00",
          "2023-12-02T20:18:00",
          "2023-12-02T20:24:00",
          "2023-12-02T21:48:00",
          "2023-12-03T01:07:00",
          "2023-12-03T11:09:00",
          "2023-12-03T12:39:00",
          "2023-12-03T18:04:00",
          "2023-12-04T20:02:00",
          "2023-12-05T10:46:00",
          "2023-12-05T23:47:00",
          "2023-12-06T11:16:00",
          "2023-12-07T18:30:00",
          "2023-12-07T20:02:00",
          "2023-12-08T22:50:00",
          "2023-12-09T00:21:00",
          "2023-12-09T10:27:00",
          "2023-12-09T12:27:00",
          "2023-12-09T17:53:00",
          "2023-12-09T21:15:00",
          "2023-12-10T14:56:00",
          "2023-12-11T19:50:00",
          "2023-12-12T14:21:00",
          "2023-12-12T21:50:00",
          "2023-12-13T11:55:00",
          "2023-12-13T17:53:00",
          "2023-12-13T23:59:00",
          "2023-12-14T12:44:00",
          "2023-12-14T21:09:00",
          "2023-12-15T12:40:00",
          "2023-12-15T16:25:00",
          "2023-12-18T20:00:00",
          "2023-12-18T23:06:00",
          "2023-12-19T14:16:00",
          "2023-12-19T20:55:00",
          "2023-12-20T12:17:00",
          "2023-12-20T23:00:00",
          "2023-12-20T23:50:00",
          "2023-12-21T15:38:00",
          "2023-12-21T16:38:00",
          "2023-12-21T19:10:00",
          "2023-12-21T20:34:00",
          "2023-12-21T21:38:00",
          "2023-12-22T00:51:00",
          "2023-12-22T13:34:00",
          "2023-12-27T18:55:00",
          "2023-12-27T23:35:00",
          "2023-12-28T00:45:00",
          "2023-12-28T19:05:00",
          "2023-12-29T11:49:00",
          "2023-12-29T23:34:00",
          "2023-12-30T19:00:00",
          "2023-12-31T16:48:00",
          "2023-12-31T21:51:00",
          "2023-12-31T22:21:00",
          "2024-01-01T12:05:00",
          "2024-01-01T18:45:00",
          "2024-01-02T11:53:00",
          "2024-01-02T14:05:00",
          "2024-01-03T15:55:00",
          "2024-01-03T20:40:00",
          "2024-01-04T11:30:00",
          "2024-01-04T14:05:00",
          "2024-01-04T16:15:00",
          "2024-01-04T23:04:00",
          "2024-01-05T12:53:00",
          "2024-01-06T15:37:00",
          "2024-01-08T23:28:00",
          "2024-01-10T23:13:00",
          "2024-01-12T13:56:00",
          "2024-01-12T18:19:00",
          "2024-01-12T20:30:00",
          "2024-01-13T01:00:00",
          "2024-01-13T13:00:00",
          "2024-01-13T16:48:00",
          "2024-01-14T13:19:00",
          "2024-01-14T23:08:00",
          "2024-01-14T23:56:00",
          "2024-01-16T20:47:00",
          "2024-01-16T21:31:00",
          "2024-01-17T21:44:00",
          "2024-01-18T11:43:00",
          "2024-01-18T16:09:00",
          "2024-01-19T23:30:00",
          "2024-01-20T00:20:00",
          "2024-01-20T23:42:00",
          "2024-01-21T23:14:00",
          "2024-01-22T00:48:00",
          "2024-01-22T14:50:00",
          "2024-01-22T16:50:00",
          "2024-01-22T19:51:00",
          "2024-01-24T00:57:00",
          "2024-01-24T02:16:00",
          "2024-01-24T08:10:00",
          "2024-01-25T01:03:00",
          "2024-01-25T16:02:00",
          "2024-01-25T19:30:00",
          "2024-01-25T20:03:00",
          "2024-01-25T23:13:00",
          "2024-01-26T12:14:00",
          "2024-01-26T13:55:00",
          "2024-01-26T15:24:00",
          "2024-01-28T16:16:00",
          "2024-01-28T20:06:00",
          "2024-01-29T00:11:00",
          "2024-01-29T13:50:00",
          "2024-01-29T14:16:00",
          "2024-01-29T17:58:00",
          "2024-01-29T20:02:00",
          "2024-01-30T19:38:00",
          "2024-01-30T23:08:00",
          "2024-02-01T17:36:00",
          "2024-02-01T22:20:00",
          "2024-02-02T15:25:00",
          "2024-02-02T16:51:00",
          "2024-02-03T10:29:00",
          "2024-02-03T13:20:00",
          "2024-02-06T20:10:00",
          "2024-02-06T22:42:00",
          "2024-02-07T00:28:00",
          "2024-02-07T21:45:00",
          "2024-02-08T12:53:00",
          "2024-02-08T15:31:00",
          "2024-02-08T19:10:00",
          "2024-02-08T20:33:00",
          "2024-02-09T13:29:00",
          "2024-02-09T14:42:00",
          "2024-02-09T15:41:00",
          "2024-02-12T10:24:00",
          "2024-02-12T18:25:00",
          "2024-02-12T23:01:00",
          "2024-02-13T10:21:00",
          "2024-02-13T16:43:00",
          "2024-02-13T19:44:00",
          "2024-02-13T21:21:00",
          "2024-02-13T23:04:00",
          "2024-02-14T11:38:00",
          "2024-02-14T15:35:00",
          "2024-02-14T20:47:00",
          "2024-02-14T23:53:00",
          "2024-02-15T12:12:00",
          "2024-02-15T15:45:00",
          "2024-02-15T19:23:00",
          "2024-02-15T21:23:00",
          "2024-02-16T14:08:00",
          "2024-02-16T16:04:00",
          "2024-02-16T16:10:00",
          "2024-02-17T11:13:00",
          "2024-02-17T18:00:00",
          "2024-02-17T18:35:00",
          "2024-02-18T13:18:00",
          "2024-02-18T16:15:00",
          "2024-02-18T19:01:00",
          "2024-02-18T23:23:00",
          "2024-02-19T13:55:00",
          "2024-02-19T20:40:00",
          "2024-02-20T19:15:00",
          "2024-02-21T18:35:00",
          "2024-02-21T21:21:00",
          "2024-02-22T14:08:00",
          "2024-02-22T17:46:00",
          "2024-02-22T21:32:00",
          "2024-02-23T16:25:00",
          "2024-02-23T19:40:00",
          "2024-02-24T11:39:00",
          "2024-02-24T16:01:00",
          "2024-02-25T00:40:00",
          "2024-02-25T17:00:00",
          "2024-02-25T19:02:00",
          "2024-02-26T19:28:00",
          "2024-02-26T20:14:00",
          "2024-02-27T14:08:00",
          "2024-02-27T16:26:00",
          "2024-02-29T23:50:00",
          "2024-03-01T22:05:00",
          "2024-03-02T21:30:00",
          "2024-03-02T22:22:00",
          "2024-03-03T10:20:00",
          "2024-03-03T16:06:00",
          "2024-03-03T22:36:00",
          "2024-03-04T16:34:00",
          "2024-03-04T20:03:00",
          "2024-03-05T21:41:00",
          "2024-03-05T23:12:00",
          "2024-03-06T22:13:00",
          "2024-03-07T13:26:00",
          "2024-03-07T21:46:00",
          "2024-03-08T12:27:00",
          "2024-03-08T13:47:00",
          "2024-03-08T17:26:00",
          "2024-03-08T19:00:00",
          "2024-03-08T19:44:00",
          "2024-03-08T20:00:00",
          "2024-03-09T10:25:00",
          "2024-03-09T10:46:00",
          "2024-03-09T15:22:00",
          "2024-03-09T15:45:00",
          "2024-03-09T17:01:00",
          "2024-03-09T19:02:00",
          "2024-03-09T20:15:00",
          "2024-03-09T23:04:00",
          "2024-03-10T11:59:00",
          "2024-03-10T19:41:00",
          "2024-03-11T21:58:00",
          "2024-03-12T20:20:00",
          "2024-03-12T22:51:00",
          "2024-03-13T19:27:00",
          "2024-03-13T21:55:00",
          "2024-03-14T10:15:00",
          "2024-03-14T11:00:00",
          "2024-03-14T14:48:00",
          "2024-03-14T21:00:00",
          "2024-03-14T22:24:00",
          "2024-03-14T23:49:00",
          "2024-03-15T10:37:00",
          "2024-03-18T12:00:00",
          "2024-03-20T20:42:00",
          "2024-03-21T13:40:00",
          "2024-03-21T15:20:00",
          "2024-03-22T20:00:00",
          "2024-03-23T10:10:00",
          "2024-03-25T16:31:00",
          "2024-03-25T17:32:00",
          "2024-03-25T19:17:00",
          "2024-03-26T10:04:00",
          "2024-03-26T12:04:00",
          "2024-03-26T16:25:00",
          "2024-03-26T16:45:00",
          "2024-03-26T18:04:00",
          "2024-03-27T20:31:00",
          "2024-03-27T22:05:00",
          "2024-03-28T00:25:00",
          "2024-03-28T19:10:00",
          "2024-03-28T20:00:00",
          "2024-03-29T10:20:00",
          "2024-03-29T14:52:00",
          "2024-03-29T19:03:00",
          "2024-03-30T10:02:00",
          "2024-03-30T14:28:00",
          "2024-03-30T18:25:00",
          "2024-03-30T18:35:00",
          "2024-03-31T12:53:00",
          "2024-03-31T16:04:00",
          "2024-03-31T20:00:00",
          "2024-04-01T10:19:00",
          "2024-04-01T13:20:00",
          "2024-04-01T16:35:00",
          "2024-04-01T19:40:00",
          "2024-04-01T23:59:00",
          "2024-04-02T20:00:00",
          "2024-04-02T20:59:00",
          "2024-04-03T20:02:00",
          "2024-04-04T14:10:00",
          "2024-04-04T15:44:00",
          "2024-04-04T18:45:00",
          "2024-04-04T19:40:00",
          "2024-04-04T23:12:00",
          "2024-04-05T11:34:00",
          "2024-04-05T12:54:00",
          "2024-04-05T16:00:00",
          "2024-04-05T20:00:00",
          "2024-04-06T11:49:00",
          "2024-04-06T15:27:00",
          "2024-04-07T08:19:00",
          "2024-04-07T11:41:00",
          "2024-04-07T20:11:00",
          "2024-04-07T22:44:00",
          "2024-04-08T10:00:00",
          "2024-04-08T13:36:00",
          "2024-04-08T15:00:00",
          "2024-04-08T17:47:00",
          "2024-04-08T19:40:00",
          "2024-04-09T22:24:00",
          "2024-04-10T00:45:00",
          "2024-04-10T23:42:00",
          "2024-04-11T14:21:00",
          "2024-04-11T16:22:00",
          "2024-04-11T19:20:00",
          "2024-04-12T05:25:00",
          "2024-04-12T10:59:00",
          "2024-04-12T12:14:00",
          "2024-04-12T15:22:00",
          "2024-04-12T21:41:00",
          "2024-04-12T23:29:00",
          "2024-04-13T12:15:00",
          "2024-04-13T15:50:00",
          "2024-04-13T19:18:00",
          "2024-04-13T23:17:00",
          "2024-04-14T01:07:00",
          "2024-04-15T14:39:00",
          "2024-04-15T15:20:00",
          "2024-04-15T23:54:00",
          "2024-04-16T18:46:00",
          "2024-04-16T19:20:00",
          "2024-04-16T22:00:00",
          "2024-04-16T23:55:00",
          "2024-04-17T07:12:00",
          "2024-04-18T20:11:00",
          "2024-04-19T00:27:00",
          "2024-04-19T10:44:00",
          "2024-04-19T14:31:00",
          "2024-04-19T16:33:00",
          "2024-04-19T19:00:00",
          "2024-04-20T12:27:00",
          "2024-04-22T18:48:00",
          "2024-04-22T20:00:00",
          "2024-04-23T23:02:00",
          "2024-04-24T12:33:00",
          "2024-04-24T15:19:00",
          "2024-04-24T18:28:00",
          "2024-04-24T21:05:00",
          "2024-04-25T19:02:00",
          "2024-04-26T11:49:00",
          "2024-04-26T15:50:00",
          "2024-04-26T16:38:00",
          "2024-04-28T22:38:00",
          "2024-04-29T17:00:00",
          "2024-04-29T22:05:00",
          "2024-05-03T01:12:00",
          "2024-05-04T13:09:00",
          "2024-05-04T15:58:00",
          "2024-05-04T22:05:00",
          "2024-05-04T23:54:00",
          "2024-05-05T10:50:00",
          "2024-05-05T13:51:00",
          "2024-05-05T22:12:00",
          "2024-05-05T22:50:00",
          "2024-05-05T23:17:00",
          "2024-05-07T23:55:00",
          "2024-05-08T09:34:00",
          "2024-05-10T20:29:00",
          "2024-05-11T00:15:00",
          "2024-05-11T10:24:00",
          "2024-05-11T13:20:00",
          "2024-05-11T13:25:00",
          "2024-05-11T16:24:00",
          "2024-05-12T22:22:00",
          "2024-05-13T16:47:00",
          "2024-05-13T22:04:00",
          "2024-05-15T08:41:00",
          "2024-05-15T10:45:00",
          "2024-05-15T13:28:00",
          "2024-05-15T16:00:00",
          "2024-05-16T20:33:00",
          "2024-05-16T23:14:00",
          "2024-05-17T12:57:00",
          "2024-05-17T14:38:00",
          "2024-05-17T22:46:00",
          "2024-05-18T14:01:00",
          "2024-05-21T21:19:00",
          "2024-05-22T10:45:00",
          "2024-05-22T15:56:00",
          "2024-05-23T19:51:00",
          "2024-05-23T21:14:00",
          "2024-05-24T00:23:00",
          "2024-05-24T12:42:00",
          "2024-05-24T15:21:00",
          "2024-05-24T16:07:00",
          "2024-05-24T21:19:00",
          "2024-05-24T22:43:00",
          "2024-05-25T11:43:00",
          "2024-05-25T16:44:00",
          "2024-05-25T22:46:00",
          "2024-05-26T08:09:00",
          "2024-05-26T11:45:00",
          "2024-05-26T13:12:00",
          "2024-05-26T14:00:00",
          "2024-05-26T19:57:00",
          "2024-05-26T23:40:00",
          "2024-05-27T10:59:00",
          "2024-05-27T18:26:00",
          "2024-05-27T22:54:00",
          "2024-05-29T13:05:00",
          "2024-05-29T15:47:00",
          "2024-05-29T17:02:00",
          "2024-05-29T22:00:00",
          "2024-05-30T10:19:00",
          "2024-05-30T13:50:00",
          "2024-05-30T17:56:00",
          "2024-05-30T20:42:00",
          "2024-05-31T11:29:00",
          "2024-05-31T16:30:00"
         ],
         "y": [
          1.064675925925926,
          0.9344444444444444,
          0.863287037037037,
          0.7991203703703703,
          0.6669444444444445,
          0.687037037037037,
          0.6718055555555555,
          0.655324074074074,
          0.5257407407407407,
          0.4951388888888889,
          0.5100462962962963,
          0.48407407407407405,
          0.3287037037037037,
          0.30824074074074076,
          0.28680555555555554,
          0.31171296296296297,
          0.3139351851851852,
          0.32092592592592595,
          0.28662037037037036,
          0.2901851851851852,
          0.2992592592592593,
          0.27162037037037035,
          0.2637037037037037,
          0.26819444444444446,
          0.2738425925925926,
          0.28560185185185183,
          0.2859259259259259,
          0.27708333333333335,
          0.2751851851851852,
          0.24555555555555555,
          0.22944444444444445,
          0.2708333333333333,
          0.2699537037037037,
          0.2768055555555556,
          0.27490740740740743,
          0.28046296296296297,
          0.2688888888888889,
          0.27685185185185185,
          0.3040277777777778,
          0.2956944444444444,
          0.2577314814814815,
          0.25930555555555557,
          0.26055555555555554,
          0.25712962962962965,
          0.2662037037037037,
          0.26101851851851854,
          0.25560185185185186,
          0.24944444444444444,
          0.23833333333333334,
          0.2616203703703704,
          0.25583333333333336,
          0.2686574074074074,
          0.2563888888888889,
          0.26837962962962963,
          0.27773148148148147,
          0.2848611111111111,
          0.27425925925925926,
          0.3025462962962963,
          0.2803703703703704,
          0.27458333333333335,
          0.2697222222222222,
          0.23625,
          0.28300925925925924,
          0.29398148148148145,
          0.29435185185185186,
          0.27935185185185185,
          0.31884259259259257,
          0.32916666666666666,
          0.29888888888888887,
          0.28694444444444445,
          0.3024537037037037,
          0.31060185185185185,
          0.2998148148148148,
          0.3337962962962963,
          0.3477777777777778,
          0.3672222222222222,
          0.3648148148148148,
          0.3444907407407407,
          0.37796296296296295,
          0.3521296296296296,
          0.3368055555555556,
          0.2902314814814815,
          0.2903703703703704,
          0.32699074074074075,
          0.3361111111111111,
          0.3309722222222222,
          0.3272222222222222,
          0.32680555555555557,
          0.3318055555555556,
          0.3235648148148148,
          0.3072685185185185,
          0.30453703703703705,
          0.3065277777777778,
          0.2683333333333333,
          0.34708333333333335,
          0.35337962962962965,
          0.4153703703703704,
          0.5295833333333333,
          0.5479166666666667,
          0.6447222222222222,
          0.6290740740740741,
          0.629537037037037,
          0.6438425925925926,
          0.6136111111111111,
          0.6475462962962963,
          0.6503703703703704,
          1.1855092592592593,
          1.1544907407407408,
          1.2202314814814814,
          1.1763425925925926,
          1.2310648148148147,
          1.1749074074074073,
          1.0611111111111111,
          1.033611111111111,
          0.9294444444444444,
          0.9369907407407407,
          1.0555555555555556,
          1.0621296296296296,
          1.0763425925925925,
          1.0863888888888888,
          1.1181944444444445,
          0.6038425925925925,
          0.666712962962963,
          0.659074074074074,
          0.6678240740740741,
          0.6255092592592593,
          0.6799074074074074,
          0.7207407407407408,
          0.685,
          0.7502314814814814,
          0.7736111111111111,
          0.6713425925925925,
          1.5509259259259258,
          1.5208796296296296,
          1.521574074074074,
          1.4773148148148147,
          1.463425925925926,
          1.4124537037037037,
          1.3711574074074073,
          1.4602314814814814,
          1.4994444444444444,
          1.5017592592592592,
          1.5337037037037036,
          1.5747222222222221,
          1.509074074074074,
          1.6118518518518519,
          1.6330555555555555,
          0.7465740740740741,
          0.7434722222222222,
          0.7412037037037037,
          0.8616666666666667,
          1.046574074074074,
          1.0456944444444445,
          1.1109259259259259,
          0.9749074074074074,
          1.0086574074074075,
          1.2010185185185185,
          1.1343981481481482,
          1.100787037037037,
          1.1350462962962964,
          1.0079166666666666,
          1.0843518518518518,
          1.1153240740740742,
          1.2007407407407407,
          1.1752314814814815,
          1.156064814814815,
          1.0068055555555555,
          0.9993981481481482,
          1.0953240740740742,
          1.1020833333333333,
          1.0316203703703704,
          0.7993055555555556,
          0.8082407407407407,
          0.8011574074074074,
          0.7974537037037037,
          0.808425925925926,
          0.7160648148148149,
          0.6860648148148148,
          0.6343518518518518,
          0.6100925925925926,
          0.5143518518518518,
          0.4826388888888889,
          0.5210648148148148,
          0.3360648148148148,
          0.35921296296296296,
          0.3334259259259259,
          0.30592592592592593,
          0.31953703703703706,
          0.3336574074074074,
          0.34203703703703703,
          0.3271759259259259,
          0.3012037037037037,
          0.30907407407407406,
          0.2835185185185185,
          0.3230092592592593,
          0.32763888888888887,
          0.3240277777777778,
          0.29078703703703707,
          0.3385185185185185,
          0.3108796296296296,
          0.3147685185185185,
          0.3672222222222222,
          0.32828703703703704,
          0.32564814814814813,
          0.33490740740740743,
          0.3262962962962963,
          0.3322222222222222,
          0.32611111111111113,
          0.34203703703703703,
          0.3040277777777778,
          0.33314814814814814,
          0.4828703703703704,
          0.5161111111111111,
          0.4820833333333333,
          0.5481944444444444,
          0.6049074074074074,
          0.559212962962963,
          0.6061574074074074,
          0.6023611111111111,
          0.5866203703703704,
          0.5901388888888889,
          0.5896759259259259,
          0.5994444444444444,
          0.7290277777777777,
          0.7251388888888889,
          0.7068981481481481,
          0.5712037037037037,
          0.5389351851851851,
          0.5407407407407407,
          0.5213888888888889,
          0.5119444444444444,
          0.5206018518518518,
          0.4913425925925926,
          0.527962962962963,
          0.5588425925925926,
          0.5468981481481482,
          0.5431018518518519,
          0.5041666666666667,
          0.3781481481481482,
          0.37819444444444444,
          0.37125,
          0.41921296296296295,
          0.4498611111111111,
          0.4688425925925926,
          0.45157407407407407,
          0.48717592592592596,
          0.4748148148148148,
          0.5292129629629629,
          0.4787037037037037,
          0.43930555555555556,
          0.44458333333333333,
          0.45578703703703705,
          0.4559259259259259,
          0.47717592592592595,
          0.5532870370370371,
          0.5896759259259259,
          0.5383333333333333,
          0.5365277777777778,
          0.5169444444444444,
          0.5019907407407408,
          0.45064814814814813,
          0.46976851851851853,
          0.43842592592592594,
          0.44462962962962965,
          0.6265277777777778,
          0.6295833333333333,
          0.6566203703703704,
          0.6657407407407407,
          0.6593055555555556,
          0.6087962962962963,
          0.559675925925926,
          0.5827777777777777,
          0.5464351851851852,
          0.5368981481481482,
          0.5238425925925926,
          0.4913888888888889,
          0.47694444444444445,
          0.4691666666666667,
          0.8069444444444445,
          0.6099537037037037,
          0.6045833333333334,
          0.6133796296296297,
          0.6413888888888889,
          0.6313425925925926,
          0.6555555555555556,
          0.7137962962962963,
          0.6839351851851851,
          0.6825462962962963,
          0.7136574074074074,
          0.728287037037037,
          0.7729166666666667,
          0.7700925925925926,
          0.8065277777777777,
          0.47152777777777777,
          0.4997685185185185,
          0.5037037037037037,
          0.4587962962962963,
          0.43125,
          0.43699074074074074,
          0.4572685185185185,
          0.5518518518518518,
          0.6704629629629629,
          0.7766203703703703,
          0.7506481481481482,
          0.7381944444444445,
          0.7031018518518518,
          0.7303240740740741,
          0.6691203703703703,
          0.7129166666666666,
          0.6989814814814814,
          0.6940277777777778,
          0.8125925925925925,
          0.7956944444444445,
          0.8245833333333333,
          0.7891666666666667,
          0.6463425925925926,
          0.6007870370370371,
          0.4955555555555555,
          0.5482870370370371,
          0.6075925925925926,
          0.5994444444444444,
          0.6050925925925926,
          0.6000925925925926,
          0.5514814814814815,
          0.6050462962962962,
          0.6064814814814815,
          0.49828703703703703,
          0.5431481481481482,
          0.5175,
          0.488287037037037,
          0.4775,
          0.39921296296296294,
          0.4330555555555555,
          0.3728240740740741,
          0.31157407407407406,
          0.44296296296296295,
          0.4146296296296296,
          0.42041666666666666,
          0.4499537037037037,
          0.3703240740740741,
          0.3769444444444444,
          0.3662962962962963,
          0.3849537037037037,
          0.35305555555555557,
          0.46138888888888885,
          0.47300925925925924,
          0.5116666666666666,
          0.4794907407407407,
          0.5237962962962963,
          0.5275925925925926,
          0.6108333333333333,
          0.6072222222222222,
          0.6007870370370371,
          0.6219907407407408,
          0.6628240740740741,
          0.6598611111111111,
          0.6642592592592592,
          0.6025462962962963,
          0.6398611111111111,
          0.5252777777777777,
          0.5148611111111111,
          0.6527314814814815,
          0.6710185185185185,
          0.6348148148148148,
          0.6583796296296296,
          0.45708333333333334,
          0.4584259259259259,
          0.4580092592592592,
          0.4036574074074074,
          0.39652777777777776,
          0.4001851851851852,
          0.4044907407407407,
          0.40925925925925927,
          0.39643518518518517,
          0.40291666666666665,
          0.41027777777777774,
          0.23050925925925925,
          0.2547685185185185,
          0.24736111111111111,
          0.2161574074074074,
          0.2513888888888889,
          0.26185185185185184,
          0.2589814814814815,
          0.3062037037037037,
          0.2794907407407407,
          0.2762037037037037,
          0.2738888888888889,
          0.3056481481481481,
          0.29018518518518516,
          0.34305555555555556,
          0.3977777777777778,
          0.3999074074074074,
          0.39999999999999997,
          0.4047222222222222,
          0.4149074074074074,
          0.41444444444444445,
          0.4046296296296296,
          0.4474074074074074,
          0.4075462962962963,
          0.4233796296296296,
          0.4610648148148148,
          0.45458333333333334,
          0.4820833333333333,
          0.46546296296296297,
          0.4524537037037037,
          0.39402777777777775,
          0.5402314814814815,
          0.5554166666666667,
          0.6103703703703703,
          0.6023148148148147,
          0.5831018518518518,
          0.5900925925925926,
          0.56375,
          0.6015277777777778,
          0.5871759259259259,
          0.6130092592592592,
          0.611574074074074,
          0.6076388888888888,
          0.6477777777777778,
          0.6212037037037037,
          0.6556018518518518,
          0.5054166666666666,
          0.45375,
          0.39305555555555555,
          0.3926851851851852,
          0.36018518518518516,
          0.384212962962963,
          0.36712962962962964,
          0.33,
          0.3213888888888889,
          0.2537037037037037,
          0.2550925925925926,
          0.19453703703703704,
          0.1600925925925926,
          0.17282407407407407,
          0.15342592592592594,
          0.22273148148148147,
          0.2747222222222222,
          0.2773611111111111,
          0.3325462962962963,
          0.3386574074074074,
          0.33287037037037037,
          0.3339814814814815,
          0.33175925925925925,
          0.34791666666666665,
          0.348287037037037,
          0.34662037037037036,
          0.37324074074074076,
          0.5692592592592592,
          0.6908796296296297,
          0.7166203703703704,
          0.6482407407407408,
          0.6657407407407407,
          0.6981018518518518,
          0.7918518518518518,
          0.7878240740740741,
          0.758425925925926,
          0.7974074074074075,
          0.7924074074074074,
          0.7872685185185185,
          0.7843055555555556,
          0.7840277777777778,
          0.8275,
          0.6280092592592592,
          0.47699074074074077,
          0.48194444444444445,
          0.47962962962962963,
          0.4398148148148148,
          0.41305555555555556,
          0.2737037037037037,
          0.3125,
          0.3199537037037037,
          0.2898611111111111,
          0.28476851851851853,
          0.32351851851851854,
          0.33143518518518517,
          0.3387037037037037,
          0.305,
          0.3090277777777778,
          0.31157407407407406,
          0.26805555555555555,
          0.27773148148148147,
          0.2935185185185185,
          0.2836574074074074,
          0.3360648148148148,
          0.3448148148148148,
          0.33685185185185185,
          0.33425925925925926,
          0.3363425925925926,
          0.29532407407407407,
          0.3208333333333333,
          0.3136111111111111,
          0.2824537037037037,
          0.2851851851851852,
          0.3200925925925926,
          0.3216203703703704,
          0.35648148148148145,
          0.3102314814814815,
          0.3311111111111111,
          0.27416666666666667,
          0.2550925925925926,
          0.2607407407407407,
          0.25625,
          0.26143518518518516,
          0.25685185185185183,
          0.2967592592592593,
          0.2995833333333333,
          0.3547222222222222,
          0.38430555555555557,
          0.34597222222222224,
          0.34412037037037035,
          0.3252777777777778,
          0.3313888888888889,
          0.31125,
          0.31287037037037035,
          0.29912037037037037,
          0.29412037037037037,
          0.32569444444444445,
          0.3279166666666667,
          0.33231481481481484,
          0.2691203703703704,
          0.2676851851851852,
          0.30819444444444444,
          0.26939814814814816,
          0.28759259259259257,
          0.33175925925925925,
          0.3053240740740741,
          0.29726851851851854,
          0.29912037037037037,
          0.3106481481481481,
          0.3958333333333333,
          0.4026851851851852,
          0.39578703703703705,
          0.3963425925925926,
          0.3923611111111111,
          0.38810185185185186,
          0.43148148148148147,
          0.4781944444444444,
          0.47962962962962963,
          0.5309259259259259,
          0.5160648148148148,
          0.5221759259259259,
          0.5235185185185185,
          0.5254629629629629,
          0.5662037037037037,
          0.5100925925925925,
          0.5093981481481481,
          0.48305555555555557,
          0.6225462962962963,
          0.6679166666666667,
          0.6752314814814815,
          0.8354166666666667,
          0.7843055555555555,
          0.7887962962962962,
          0.7306944444444444,
          0.6981944444444445,
          0.7208796296296296,
          0.7205092592592592,
          0.7364351851851851,
          0.6772222222222222,
          0.6318518518518518,
          0.755787037037037,
          0.7803703703703704,
          0.7940277777777778,
          0.7534722222222222,
          0.7675462962962963,
          0.567037037037037,
          0.46740740740740744,
          0.4678703703703704,
          0.5341203703703704,
          0.5802314814814815,
          0.5645370370370371,
          0.6523148148148148,
          0.6348611111111111,
          0.6406481481481482,
          0.6464351851851852,
          0.5906481481481481,
          0.5712962962962963,
          0.44574074074074077,
          0.43995370370370374,
          0.4343518518518519,
          0.4685648148148148,
          0.6886111111111112,
          0.7176388888888889,
          0.6487962962962963,
          0.6751851851851852,
          0.6643518518518519,
          0.5769444444444445,
          0.6054166666666667,
          0.6052314814814815,
          0.6003240740740741,
          0.5354629629629629,
          0.5318981481481482,
          0.5299074074074074,
          0.5391666666666667,
          0.5333333333333333,
          0.5170370370370371,
          0.30675925925925923,
          0.2734722222222222,
          0.2612962962962963,
          0.20027777777777778,
          0.20675925925925925,
          0.22944444444444445,
          0.2159259259259259,
          0.2209722222222222,
          0.3249074074074074,
          0.31796296296296295,
          0.31754629629629627,
          0.2952314814814815,
          0.31550925925925927,
          0.3085185185185185,
          0.2938425925925926,
          0.2915277777777778,
          0.3285648148148148,
          0.3402777777777778
         ]
        }
       ],
       "layout": {
        "legend": {
         "orientation": "h",
         "x": 1,
         "xanchor": "right",
         "y": 1.02,
         "yanchor": "bottom"
        },
        "template": {
         "data": {
          "bar": [
           {
            "error_x": {
             "color": "#f2f5fa"
            },
            "error_y": {
             "color": "#f2f5fa"
            },
            "marker": {
             "line": {
              "color": "rgb(17,17,17)",
              "width": 0.5
             },
             "pattern": {
              "fillmode": "overlay",
              "size": 10,
              "solidity": 0.2
             }
            },
            "type": "bar"
           }
          ],
          "barpolar": [
           {
            "marker": {
             "line": {
              "color": "rgb(17,17,17)",
              "width": 0.5
             },
             "pattern": {
              "fillmode": "overlay",
              "size": 10,
              "solidity": 0.2
             }
            },
            "type": "barpolar"
           }
          ],
          "carpet": [
           {
            "aaxis": {
             "endlinecolor": "#A2B1C6",
             "gridcolor": "#506784",
             "linecolor": "#506784",
             "minorgridcolor": "#506784",
             "startlinecolor": "#A2B1C6"
            },
            "baxis": {
             "endlinecolor": "#A2B1C6",
             "gridcolor": "#506784",
             "linecolor": "#506784",
             "minorgridcolor": "#506784",
             "startlinecolor": "#A2B1C6"
            },
            "type": "carpet"
           }
          ],
          "choropleth": [
           {
            "colorbar": {
             "outlinewidth": 0,
             "ticks": ""
            },
            "type": "choropleth"
           }
          ],
          "contour": [
           {
            "colorbar": {
             "outlinewidth": 0,
             "ticks": ""
            },
            "colorscale": [
             [
              0,
              "#0d0887"
             ],
             [
              0.1111111111111111,
              "#46039f"
             ],
             [
              0.2222222222222222,
              "#7201a8"
             ],
             [
              0.3333333333333333,
              "#9c179e"
             ],
             [
              0.4444444444444444,
              "#bd3786"
             ],
             [
              0.5555555555555556,
              "#d8576b"
             ],
             [
              0.6666666666666666,
              "#ed7953"
             ],
             [
              0.7777777777777778,
              "#fb9f3a"
             ],
             [
              0.8888888888888888,
              "#fdca26"
             ],
             [
              1,
              "#f0f921"
             ]
            ],
            "type": "contour"
           }
          ],
          "contourcarpet": [
           {
            "colorbar": {
             "outlinewidth": 0,
             "ticks": ""
            },
            "type": "contourcarpet"
           }
          ],
          "heatmap": [
           {
            "colorbar": {
             "outlinewidth": 0,
             "ticks": ""
            },
            "colorscale": [
             [
              0,
              "#0d0887"
             ],
             [
              0.1111111111111111,
              "#46039f"
             ],
             [
              0.2222222222222222,
              "#7201a8"
             ],
             [
              0.3333333333333333,
              "#9c179e"
             ],
             [
              0.4444444444444444,
              "#bd3786"
             ],
             [
              0.5555555555555556,
              "#d8576b"
             ],
             [
              0.6666666666666666,
              "#ed7953"
             ],
             [
              0.7777777777777778,
              "#fb9f3a"
             ],
             [
              0.8888888888888888,
              "#fdca26"
             ],
             [
              1,
              "#f0f921"
             ]
            ],
            "type": "heatmap"
           }
          ],
          "heatmapgl": [
           {
            "colorbar": {
             "outlinewidth": 0,
             "ticks": ""
            },
            "colorscale": [
             [
              0,
              "#0d0887"
             ],
             [
              0.1111111111111111,
              "#46039f"
             ],
             [
              0.2222222222222222,
              "#7201a8"
             ],
             [
              0.3333333333333333,
              "#9c179e"
             ],
             [
              0.4444444444444444,
              "#bd3786"
             ],
             [
              0.5555555555555556,
              "#d8576b"
             ],
             [
              0.6666666666666666,
              "#ed7953"
             ],
             [
              0.7777777777777778,
              "#fb9f3a"
             ],
             [
              0.8888888888888888,
              "#fdca26"
             ],
             [
              1,
              "#f0f921"
             ]
            ],
            "type": "heatmapgl"
           }
          ],
          "histogram": [
           {
            "marker": {
             "pattern": {
              "fillmode": "overlay",
              "size": 10,
              "solidity": 0.2
             }
            },
            "type": "histogram"
           }
          ],
          "histogram2d": [
           {
            "colorbar": {
             "outlinewidth": 0,
             "ticks": ""
            },
            "colorscale": [
             [
              0,
              "#0d0887"
             ],
             [
              0.1111111111111111,
              "#46039f"
             ],
             [
              0.2222222222222222,
              "#7201a8"
             ],
             [
              0.3333333333333333,
              "#9c179e"
             ],
             [
              0.4444444444444444,
              "#bd3786"
             ],
             [
              0.5555555555555556,
              "#d8576b"
             ],
             [
              0.6666666666666666,
              "#ed7953"
             ],
             [
              0.7777777777777778,
              "#fb9f3a"
             ],
             [
              0.8888888888888888,
              "#fdca26"
             ],
             [
              1,
              "#f0f921"
             ]
            ],
            "type": "histogram2d"
           }
          ],
          "histogram2dcontour": [
           {
            "colorbar": {
             "outlinewidth": 0,
             "ticks": ""
            },
            "colorscale": [
             [
              0,
              "#0d0887"
             ],
             [
              0.1111111111111111,
              "#46039f"
             ],
             [
              0.2222222222222222,
              "#7201a8"
             ],
             [
              0.3333333333333333,
              "#9c179e"
             ],
             [
              0.4444444444444444,
              "#bd3786"
             ],
             [
              0.5555555555555556,
              "#d8576b"
             ],
             [
              0.6666666666666666,
              "#ed7953"
             ],
             [
              0.7777777777777778,
              "#fb9f3a"
             ],
             [
              0.8888888888888888,
              "#fdca26"
             ],
             [
              1,
              "#f0f921"
             ]
            ],
            "type": "histogram2dcontour"
           }
          ],
          "mesh3d": [
           {
            "colorbar": {
             "outlinewidth": 0,
             "ticks": ""
            },
            "type": "mesh3d"
           }
          ],
          "parcoords": [
           {
            "line": {
             "colorbar": {
              "outlinewidth": 0,
              "ticks": ""
             }
            },
            "type": "parcoords"
           }
          ],
          "pie": [
           {
            "automargin": true,
            "type": "pie"
           }
          ],
          "scatter": [
           {
            "marker": {
             "line": {
              "color": "#283442"
             }
            },
            "type": "scatter"
           }
          ],
          "scatter3d": [
           {
            "line": {
             "colorbar": {
              "outlinewidth": 0,
              "ticks": ""
             }
            },
            "marker": {
             "colorbar": {
              "outlinewidth": 0,
              "ticks": ""
             }
            },
            "type": "scatter3d"
           }
          ],
          "scattercarpet": [
           {
            "marker": {
             "colorbar": {
              "outlinewidth": 0,
              "ticks": ""
             }
            },
            "type": "scattercarpet"
           }
          ],
          "scattergeo": [
           {
            "marker": {
             "colorbar": {
              "outlinewidth": 0,
              "ticks": ""
             }
            },
            "type": "scattergeo"
           }
          ],
          "scattergl": [
           {
            "marker": {
             "line": {
              "color": "#283442"
             }
            },
            "type": "scattergl"
           }
          ],
          "scattermapbox": [
           {
            "marker": {
             "colorbar": {
              "outlinewidth": 0,
              "ticks": ""
             }
            },
            "type": "scattermapbox"
           }
          ],
          "scatterpolar": [
           {
            "marker": {
             "colorbar": {
              "outlinewidth": 0,
              "ticks": ""
             }
            },
            "type": "scatterpolar"
           }
          ],
          "scatterpolargl": [
           {
            "marker": {
             "colorbar": {
              "outlinewidth": 0,
              "ticks": ""
             }
            },
            "type": "scatterpolargl"
           }
          ],
          "scatterternary": [
           {
            "marker": {
             "colorbar": {
              "outlinewidth": 0,
              "ticks": ""
             }
            },
            "type": "scatterternary"
           }
          ],
          "surface": [
           {
            "colorbar": {
             "outlinewidth": 0,
             "ticks": ""
            },
            "colorscale": [
             [
              0,
              "#0d0887"
             ],
             [
              0.1111111111111111,
              "#46039f"
             ],
             [
              0.2222222222222222,
              "#7201a8"
             ],
             [
              0.3333333333333333,
              "#9c179e"
             ],
             [
              0.4444444444444444,
              "#bd3786"
             ],
             [
              0.5555555555555556,
              "#d8576b"
             ],
             [
              0.6666666666666666,
              "#ed7953"
             ],
             [
              0.7777777777777778,
              "#fb9f3a"
             ],
             [
              0.8888888888888888,
              "#fdca26"
             ],
             [
              1,
              "#f0f921"
             ]
            ],
            "type": "surface"
           }
          ],
          "table": [
           {
            "cells": {
             "fill": {
              "color": "#506784"
             },
             "line": {
              "color": "rgb(17,17,17)"
             }
            },
            "header": {
             "fill": {
              "color": "#2a3f5f"
             },
             "line": {
              "color": "rgb(17,17,17)"
             }
            },
            "type": "table"
           }
          ]
         },
         "layout": {
          "annotationdefaults": {
           "arrowcolor": "#f2f5fa",
           "arrowhead": 0,
           "arrowwidth": 1
          },
          "autotypenumbers": "strict",
          "coloraxis": {
           "colorbar": {
            "outlinewidth": 0,
            "ticks": ""
           }
          },
          "colorscale": {
           "diverging": [
            [
             0,
             "#8e0152"
            ],
            [
             0.1,
             "#c51b7d"
            ],
            [
             0.2,
             "#de77ae"
            ],
            [
             0.3,
             "#f1b6da"
            ],
            [
             0.4,
             "#fde0ef"
            ],
            [
             0.5,
             "#f7f7f7"
            ],
            [
             0.6,
             "#e6f5d0"
            ],
            [
             0.7,
             "#b8e186"
            ],
            [
             0.8,
             "#7fbc41"
            ],
            [
             0.9,
             "#4d9221"
            ],
            [
             1,
             "#276419"
            ]
           ],
           "sequential": [
            [
             0,
             "#0d0887"
            ],
            [
             0.1111111111111111,
             "#46039f"
            ],
            [
             0.2222222222222222,
             "#7201a8"
            ],
            [
             0.3333333333333333,
             "#9c179e"
            ],
            [
             0.4444444444444444,
             "#bd3786"
            ],
            [
             0.5555555555555556,
             "#d8576b"
            ],
            [
             0.6666666666666666,
             "#ed7953"
            ],
            [
             0.7777777777777778,
             "#fb9f3a"
            ],
            [
             0.8888888888888888,
             "#fdca26"
            ],
            [
             1,
             "#f0f921"
            ]
           ],
           "sequentialminus": [
            [
             0,
             "#0d0887"
            ],
            [
             0.1111111111111111,
             "#46039f"
            ],
            [
             0.2222222222222222,
             "#7201a8"
            ],
            [
             0.3333333333333333,
             "#9c179e"
            ],
            [
             0.4444444444444444,
             "#bd3786"
            ],
            [
             0.5555555555555556,
             "#d8576b"
            ],
            [
             0.6666666666666666,
             "#ed7953"
            ],
            [
             0.7777777777777778,
             "#fb9f3a"
            ],
            [
             0.8888888888888888,
             "#fdca26"
            ],
            [
             1,
             "#f0f921"
            ]
           ]
          },
          "colorway": [
           "#636efa",
           "#EF553B",
           "#00cc96",
           "#ab63fa",
           "#FFA15A",
           "#19d3f3",
           "#FF6692",
           "#B6E880",
           "#FF97FF",
           "#FECB52"
          ],
          "font": {
           "color": "#f2f5fa"
          },
          "geo": {
           "bgcolor": "rgb(17,17,17)",
           "lakecolor": "rgb(17,17,17)",
           "landcolor": "rgb(17,17,17)",
           "showlakes": true,
           "showland": true,
           "subunitcolor": "#506784"
          },
          "hoverlabel": {
           "align": "left"
          },
          "hovermode": "closest",
          "mapbox": {
           "style": "dark"
          },
          "paper_bgcolor": "rgb(17,17,17)",
          "plot_bgcolor": "rgb(17,17,17)",
          "polar": {
           "angularaxis": {
            "gridcolor": "#506784",
            "linecolor": "#506784",
            "ticks": ""
           },
           "bgcolor": "rgb(17,17,17)",
           "radialaxis": {
            "gridcolor": "#506784",
            "linecolor": "#506784",
            "ticks": ""
           }
          },
          "scene": {
           "xaxis": {
            "backgroundcolor": "rgb(17,17,17)",
            "gridcolor": "#506784",
            "gridwidth": 2,
            "linecolor": "#506784",
            "showbackground": true,
            "ticks": "",
            "zerolinecolor": "#C8D4E3"
           },
           "yaxis": {
            "backgroundcolor": "rgb(17,17,17)",
            "gridcolor": "#506784",
            "gridwidth": 2,
            "linecolor": "#506784",
            "showbackground": true,
            "ticks": "",
            "zerolinecolor": "#C8D4E3"
           },
           "zaxis": {
            "backgroundcolor": "rgb(17,17,17)",
            "gridcolor": "#506784",
            "gridwidth": 2,
            "linecolor": "#506784",
            "showbackground": true,
            "ticks": "",
            "zerolinecolor": "#C8D4E3"
           }
          },
          "shapedefaults": {
           "line": {
            "color": "#f2f5fa"
           }
          },
          "sliderdefaults": {
           "bgcolor": "#C8D4E3",
           "bordercolor": "rgb(17,17,17)",
           "borderwidth": 1,
           "tickwidth": 0
          },
          "ternary": {
           "aaxis": {
            "gridcolor": "#506784",
            "linecolor": "#506784",
            "ticks": ""
           },
           "baxis": {
            "gridcolor": "#506784",
            "linecolor": "#506784",
            "ticks": ""
           },
           "bgcolor": "rgb(17,17,17)",
           "caxis": {
            "gridcolor": "#506784",
            "linecolor": "#506784",
            "ticks": ""
           }
          },
          "title": {
           "x": 0.05
          },
          "updatemenudefaults": {
           "bgcolor": "#506784",
           "borderwidth": 0
          },
          "xaxis": {
           "automargin": true,
           "gridcolor": "#283442",
           "linecolor": "#506784",
           "ticks": "",
           "title": {
            "standoff": 15
           },
           "zerolinecolor": "#283442",
           "zerolinewidth": 2
          },
          "yaxis": {
           "automargin": true,
           "gridcolor": "#283442",
           "linecolor": "#506784",
           "ticks": "",
           "title": {
            "standoff": 15
           },
           "zerolinecolor": "#283442",
           "zerolinewidth": 2
          }
         }
        },
        "title": {
         "text": "Difference between consecutive entries in days"
        },
        "yaxis": {
         "title": {
          "text": "difference, days"
         }
        }
       }
      }
     },
     "metadata": {},
     "output_type": "display_data"
    }
   ],
   "source": [
    "df.sub(include='home').entries_differences()"
   ]
  },
  {
   "cell_type": "markdown",
   "metadata": {},
   "source": [
    "## Monthly activity effect on mood"
   ]
  },
  {
   "cell_type": "code",
   "execution_count": 52,
   "metadata": {
    "metadata": {}
   },
   "outputs": [
    {
     "name": "stdout",
     "output_type": "stream",
     "text": [
      "No 'study' in December 2023\n"
     ]
    },
    {
     "data": {
      "application/vnd.plotly.v1+json": {
       "config": {
        "plotlyServerURL": "https://plot.ly"
       },
       "data": [
        {
         "line": {
          "dash": "dash",
          "shape": "spline",
          "smoothing": 1.3
         },
         "marker": {
          "color": "#97F66B",
          "size": 10,
          "symbol": "cross-dot"
         },
         "mode": "lines+markers",
         "name": "with",
         "type": "scatter",
         "x": [
          "2023-07-01",
          "2023-08-01",
          "2023-09-01",
          "2023-10-01",
          "2023-11-01",
          "2024-01-01",
          "2024-02-01",
          "2024-03-01",
          "2024-04-01",
          "2024-05-01",
          "2024-06-01"
         ],
         "y": [
          3.4565217391304346,
          3.7083333333333335,
          3.75,
          3.5,
          3.6,
          3.5,
          3.5555555555555554,
          3.6363636363636362,
          3.6944444444444446,
          3.8157894736842106,
          3.9166666666666665
         ]
        },
        {
         "line": {
          "dash": "dash",
          "shape": "spline",
          "smoothing": 1.3
         },
         "marker": {
          "color": "#FF522D",
          "size": 10,
          "symbol": "x-dot"
         },
         "mode": "lines+markers",
         "name": "without",
         "type": "scatter",
         "x": [
          "2023-07-01",
          "2023-08-01",
          "2023-09-01",
          "2023-10-01",
          "2023-11-01",
          "2024-01-01",
          "2024-02-01",
          "2024-03-01",
          "2024-04-01",
          "2024-05-01",
          "2024-06-01"
         ],
         "y": [
          3.6319444444444446,
          3.8411764705882354,
          4.045454545454546,
          4.079710144927536,
          3.793269230769231,
          3.9269662921348316,
          3.697530864197531,
          3.6964285714285716,
          3.8155339805825244,
          3.836448598130841,
          3.9
         ]
        }
       ],
       "layout": {
        "legend": {
         "orientation": "h",
         "x": 1,
         "xanchor": "right",
         "y": 1.02,
         "yanchor": "bottom"
        },
        "template": {
         "data": {
          "bar": [
           {
            "error_x": {
             "color": "#f2f5fa"
            },
            "error_y": {
             "color": "#f2f5fa"
            },
            "marker": {
             "line": {
              "color": "rgb(17,17,17)",
              "width": 0.5
             },
             "pattern": {
              "fillmode": "overlay",
              "size": 10,
              "solidity": 0.2
             }
            },
            "type": "bar"
           }
          ],
          "barpolar": [
           {
            "marker": {
             "line": {
              "color": "rgb(17,17,17)",
              "width": 0.5
             },
             "pattern": {
              "fillmode": "overlay",
              "size": 10,
              "solidity": 0.2
             }
            },
            "type": "barpolar"
           }
          ],
          "carpet": [
           {
            "aaxis": {
             "endlinecolor": "#A2B1C6",
             "gridcolor": "#506784",
             "linecolor": "#506784",
             "minorgridcolor": "#506784",
             "startlinecolor": "#A2B1C6"
            },
            "baxis": {
             "endlinecolor": "#A2B1C6",
             "gridcolor": "#506784",
             "linecolor": "#506784",
             "minorgridcolor": "#506784",
             "startlinecolor": "#A2B1C6"
            },
            "type": "carpet"
           }
          ],
          "choropleth": [
           {
            "colorbar": {
             "outlinewidth": 0,
             "ticks": ""
            },
            "type": "choropleth"
           }
          ],
          "contour": [
           {
            "colorbar": {
             "outlinewidth": 0,
             "ticks": ""
            },
            "colorscale": [
             [
              0,
              "#0d0887"
             ],
             [
              0.1111111111111111,
              "#46039f"
             ],
             [
              0.2222222222222222,
              "#7201a8"
             ],
             [
              0.3333333333333333,
              "#9c179e"
             ],
             [
              0.4444444444444444,
              "#bd3786"
             ],
             [
              0.5555555555555556,
              "#d8576b"
             ],
             [
              0.6666666666666666,
              "#ed7953"
             ],
             [
              0.7777777777777778,
              "#fb9f3a"
             ],
             [
              0.8888888888888888,
              "#fdca26"
             ],
             [
              1,
              "#f0f921"
             ]
            ],
            "type": "contour"
           }
          ],
          "contourcarpet": [
           {
            "colorbar": {
             "outlinewidth": 0,
             "ticks": ""
            },
            "type": "contourcarpet"
           }
          ],
          "heatmap": [
           {
            "colorbar": {
             "outlinewidth": 0,
             "ticks": ""
            },
            "colorscale": [
             [
              0,
              "#0d0887"
             ],
             [
              0.1111111111111111,
              "#46039f"
             ],
             [
              0.2222222222222222,
              "#7201a8"
             ],
             [
              0.3333333333333333,
              "#9c179e"
             ],
             [
              0.4444444444444444,
              "#bd3786"
             ],
             [
              0.5555555555555556,
              "#d8576b"
             ],
             [
              0.6666666666666666,
              "#ed7953"
             ],
             [
              0.7777777777777778,
              "#fb9f3a"
             ],
             [
              0.8888888888888888,
              "#fdca26"
             ],
             [
              1,
              "#f0f921"
             ]
            ],
            "type": "heatmap"
           }
          ],
          "heatmapgl": [
           {
            "colorbar": {
             "outlinewidth": 0,
             "ticks": ""
            },
            "colorscale": [
             [
              0,
              "#0d0887"
             ],
             [
              0.1111111111111111,
              "#46039f"
             ],
             [
              0.2222222222222222,
              "#7201a8"
             ],
             [
              0.3333333333333333,
              "#9c179e"
             ],
             [
              0.4444444444444444,
              "#bd3786"
             ],
             [
              0.5555555555555556,
              "#d8576b"
             ],
             [
              0.6666666666666666,
              "#ed7953"
             ],
             [
              0.7777777777777778,
              "#fb9f3a"
             ],
             [
              0.8888888888888888,
              "#fdca26"
             ],
             [
              1,
              "#f0f921"
             ]
            ],
            "type": "heatmapgl"
           }
          ],
          "histogram": [
           {
            "marker": {
             "pattern": {
              "fillmode": "overlay",
              "size": 10,
              "solidity": 0.2
             }
            },
            "type": "histogram"
           }
          ],
          "histogram2d": [
           {
            "colorbar": {
             "outlinewidth": 0,
             "ticks": ""
            },
            "colorscale": [
             [
              0,
              "#0d0887"
             ],
             [
              0.1111111111111111,
              "#46039f"
             ],
             [
              0.2222222222222222,
              "#7201a8"
             ],
             [
              0.3333333333333333,
              "#9c179e"
             ],
             [
              0.4444444444444444,
              "#bd3786"
             ],
             [
              0.5555555555555556,
              "#d8576b"
             ],
             [
              0.6666666666666666,
              "#ed7953"
             ],
             [
              0.7777777777777778,
              "#fb9f3a"
             ],
             [
              0.8888888888888888,
              "#fdca26"
             ],
             [
              1,
              "#f0f921"
             ]
            ],
            "type": "histogram2d"
           }
          ],
          "histogram2dcontour": [
           {
            "colorbar": {
             "outlinewidth": 0,
             "ticks": ""
            },
            "colorscale": [
             [
              0,
              "#0d0887"
             ],
             [
              0.1111111111111111,
              "#46039f"
             ],
             [
              0.2222222222222222,
              "#7201a8"
             ],
             [
              0.3333333333333333,
              "#9c179e"
             ],
             [
              0.4444444444444444,
              "#bd3786"
             ],
             [
              0.5555555555555556,
              "#d8576b"
             ],
             [
              0.6666666666666666,
              "#ed7953"
             ],
             [
              0.7777777777777778,
              "#fb9f3a"
             ],
             [
              0.8888888888888888,
              "#fdca26"
             ],
             [
              1,
              "#f0f921"
             ]
            ],
            "type": "histogram2dcontour"
           }
          ],
          "mesh3d": [
           {
            "colorbar": {
             "outlinewidth": 0,
             "ticks": ""
            },
            "type": "mesh3d"
           }
          ],
          "parcoords": [
           {
            "line": {
             "colorbar": {
              "outlinewidth": 0,
              "ticks": ""
             }
            },
            "type": "parcoords"
           }
          ],
          "pie": [
           {
            "automargin": true,
            "type": "pie"
           }
          ],
          "scatter": [
           {
            "marker": {
             "line": {
              "color": "#283442"
             }
            },
            "type": "scatter"
           }
          ],
          "scatter3d": [
           {
            "line": {
             "colorbar": {
              "outlinewidth": 0,
              "ticks": ""
             }
            },
            "marker": {
             "colorbar": {
              "outlinewidth": 0,
              "ticks": ""
             }
            },
            "type": "scatter3d"
           }
          ],
          "scattercarpet": [
           {
            "marker": {
             "colorbar": {
              "outlinewidth": 0,
              "ticks": ""
             }
            },
            "type": "scattercarpet"
           }
          ],
          "scattergeo": [
           {
            "marker": {
             "colorbar": {
              "outlinewidth": 0,
              "ticks": ""
             }
            },
            "type": "scattergeo"
           }
          ],
          "scattergl": [
           {
            "marker": {
             "line": {
              "color": "#283442"
             }
            },
            "type": "scattergl"
           }
          ],
          "scattermapbox": [
           {
            "marker": {
             "colorbar": {
              "outlinewidth": 0,
              "ticks": ""
             }
            },
            "type": "scattermapbox"
           }
          ],
          "scatterpolar": [
           {
            "marker": {
             "colorbar": {
              "outlinewidth": 0,
              "ticks": ""
             }
            },
            "type": "scatterpolar"
           }
          ],
          "scatterpolargl": [
           {
            "marker": {
             "colorbar": {
              "outlinewidth": 0,
              "ticks": ""
             }
            },
            "type": "scatterpolargl"
           }
          ],
          "scatterternary": [
           {
            "marker": {
             "colorbar": {
              "outlinewidth": 0,
              "ticks": ""
             }
            },
            "type": "scatterternary"
           }
          ],
          "surface": [
           {
            "colorbar": {
             "outlinewidth": 0,
             "ticks": ""
            },
            "colorscale": [
             [
              0,
              "#0d0887"
             ],
             [
              0.1111111111111111,
              "#46039f"
             ],
             [
              0.2222222222222222,
              "#7201a8"
             ],
             [
              0.3333333333333333,
              "#9c179e"
             ],
             [
              0.4444444444444444,
              "#bd3786"
             ],
             [
              0.5555555555555556,
              "#d8576b"
             ],
             [
              0.6666666666666666,
              "#ed7953"
             ],
             [
              0.7777777777777778,
              "#fb9f3a"
             ],
             [
              0.8888888888888888,
              "#fdca26"
             ],
             [
              1,
              "#f0f921"
             ]
            ],
            "type": "surface"
           }
          ],
          "table": [
           {
            "cells": {
             "fill": {
              "color": "#506784"
             },
             "line": {
              "color": "rgb(17,17,17)"
             }
            },
            "header": {
             "fill": {
              "color": "#2a3f5f"
             },
             "line": {
              "color": "rgb(17,17,17)"
             }
            },
            "type": "table"
           }
          ]
         },
         "layout": {
          "annotationdefaults": {
           "arrowcolor": "#f2f5fa",
           "arrowhead": 0,
           "arrowwidth": 1
          },
          "autotypenumbers": "strict",
          "coloraxis": {
           "colorbar": {
            "outlinewidth": 0,
            "ticks": ""
           }
          },
          "colorscale": {
           "diverging": [
            [
             0,
             "#8e0152"
            ],
            [
             0.1,
             "#c51b7d"
            ],
            [
             0.2,
             "#de77ae"
            ],
            [
             0.3,
             "#f1b6da"
            ],
            [
             0.4,
             "#fde0ef"
            ],
            [
             0.5,
             "#f7f7f7"
            ],
            [
             0.6,
             "#e6f5d0"
            ],
            [
             0.7,
             "#b8e186"
            ],
            [
             0.8,
             "#7fbc41"
            ],
            [
             0.9,
             "#4d9221"
            ],
            [
             1,
             "#276419"
            ]
           ],
           "sequential": [
            [
             0,
             "#0d0887"
            ],
            [
             0.1111111111111111,
             "#46039f"
            ],
            [
             0.2222222222222222,
             "#7201a8"
            ],
            [
             0.3333333333333333,
             "#9c179e"
            ],
            [
             0.4444444444444444,
             "#bd3786"
            ],
            [
             0.5555555555555556,
             "#d8576b"
            ],
            [
             0.6666666666666666,
             "#ed7953"
            ],
            [
             0.7777777777777778,
             "#fb9f3a"
            ],
            [
             0.8888888888888888,
             "#fdca26"
            ],
            [
             1,
             "#f0f921"
            ]
           ],
           "sequentialminus": [
            [
             0,
             "#0d0887"
            ],
            [
             0.1111111111111111,
             "#46039f"
            ],
            [
             0.2222222222222222,
             "#7201a8"
            ],
            [
             0.3333333333333333,
             "#9c179e"
            ],
            [
             0.4444444444444444,
             "#bd3786"
            ],
            [
             0.5555555555555556,
             "#d8576b"
            ],
            [
             0.6666666666666666,
             "#ed7953"
            ],
            [
             0.7777777777777778,
             "#fb9f3a"
            ],
            [
             0.8888888888888888,
             "#fdca26"
            ],
            [
             1,
             "#f0f921"
            ]
           ]
          },
          "colorway": [
           "#636efa",
           "#EF553B",
           "#00cc96",
           "#ab63fa",
           "#FFA15A",
           "#19d3f3",
           "#FF6692",
           "#B6E880",
           "#FF97FF",
           "#FECB52"
          ],
          "font": {
           "color": "#f2f5fa"
          },
          "geo": {
           "bgcolor": "rgb(17,17,17)",
           "lakecolor": "rgb(17,17,17)",
           "landcolor": "rgb(17,17,17)",
           "showlakes": true,
           "showland": true,
           "subunitcolor": "#506784"
          },
          "hoverlabel": {
           "align": "left"
          },
          "hovermode": "closest",
          "mapbox": {
           "style": "dark"
          },
          "paper_bgcolor": "rgb(17,17,17)",
          "plot_bgcolor": "rgb(17,17,17)",
          "polar": {
           "angularaxis": {
            "gridcolor": "#506784",
            "linecolor": "#506784",
            "ticks": ""
           },
           "bgcolor": "rgb(17,17,17)",
           "radialaxis": {
            "gridcolor": "#506784",
            "linecolor": "#506784",
            "ticks": ""
           }
          },
          "scene": {
           "xaxis": {
            "backgroundcolor": "rgb(17,17,17)",
            "gridcolor": "#506784",
            "gridwidth": 2,
            "linecolor": "#506784",
            "showbackground": true,
            "ticks": "",
            "zerolinecolor": "#C8D4E3"
           },
           "yaxis": {
            "backgroundcolor": "rgb(17,17,17)",
            "gridcolor": "#506784",
            "gridwidth": 2,
            "linecolor": "#506784",
            "showbackground": true,
            "ticks": "",
            "zerolinecolor": "#C8D4E3"
           },
           "zaxis": {
            "backgroundcolor": "rgb(17,17,17)",
            "gridcolor": "#506784",
            "gridwidth": 2,
            "linecolor": "#506784",
            "showbackground": true,
            "ticks": "",
            "zerolinecolor": "#C8D4E3"
           }
          },
          "shapedefaults": {
           "line": {
            "color": "#f2f5fa"
           }
          },
          "sliderdefaults": {
           "bgcolor": "#C8D4E3",
           "bordercolor": "rgb(17,17,17)",
           "borderwidth": 1,
           "tickwidth": 0
          },
          "ternary": {
           "aaxis": {
            "gridcolor": "#506784",
            "linecolor": "#506784",
            "ticks": ""
           },
           "baxis": {
            "gridcolor": "#506784",
            "linecolor": "#506784",
            "ticks": ""
           },
           "bgcolor": "rgb(17,17,17)",
           "caxis": {
            "gridcolor": "#506784",
            "linecolor": "#506784",
            "ticks": ""
           }
          },
          "title": {
           "x": 0.05
          },
          "updatemenudefaults": {
           "bgcolor": "#506784",
           "borderwidth": 0
          },
          "xaxis": {
           "automargin": true,
           "gridcolor": "#283442",
           "linecolor": "#506784",
           "ticks": "",
           "title": {
            "standoff": 15
           },
           "zerolinecolor": "#283442",
           "zerolinewidth": 2
          },
          "yaxis": {
           "automargin": true,
           "gridcolor": "#283442",
           "linecolor": "#506784",
           "ticks": "",
           "title": {
            "standoff": 15
           },
           "zerolinecolor": "#283442",
           "zerolinewidth": 2
          }
         }
        },
        "title": {
         "text": "Mood with and without 'study'"
        },
        "xaxis": {
         "title": {
          "text": "Month"
         }
        },
        "yaxis": {
         "title": {
          "text": "Mood"
         }
        }
       }
      }
     },
     "metadata": {},
     "output_type": "display_data"
    }
   ],
   "source": [
    "df.mood_change_activity('study')"
   ]
  },
  {
   "cell_type": "markdown",
   "metadata": {},
   "source": [
    "## Other features"
   ]
  },
  {
   "cell_type": "code",
   "execution_count": 60,
   "metadata": {
    "metadata": {}
   },
   "outputs": [
    {
     "data": {
      "application/vnd.plotly.v1+json": {
       "config": {
        "plotlyServerURL": "https://plot.ly"
       },
       "data": [
        {
         "hovertemplate": "Date=%{x}<br>Average note length=%{y}<extra></extra>",
         "legendgroup": "",
         "marker": {
          "color": "#636efa",
          "symbol": "circle"
         },
         "mode": "markers",
         "name": "",
         "orientation": "v",
         "showlegend": false,
         "type": "scatter",
         "x": [
          "2023-07-01",
          "2023-07-02",
          "2023-07-03",
          "2023-07-04",
          "2023-07-05",
          "2023-07-06",
          "2023-07-07",
          "2023-07-08",
          "2023-07-09",
          "2023-07-10",
          "2023-07-11",
          "2023-07-12",
          "2023-07-13",
          "2023-07-14",
          "2023-07-15",
          "2023-07-16",
          "2023-07-17",
          "2023-07-18",
          "2023-07-19",
          "2023-07-20",
          "2023-07-21",
          "2023-07-22",
          "2023-07-23",
          "2023-07-24",
          "2023-07-25",
          "2023-07-26",
          "2023-07-27",
          "2023-07-28",
          "2023-07-29",
          "2023-07-30",
          "2023-07-31",
          "2023-08-01",
          "2023-08-02",
          "2023-08-03",
          "2023-08-04",
          "2023-08-05",
          "2023-08-06",
          "2023-08-07",
          "2023-08-08",
          "2023-08-09",
          "2023-08-10",
          "2023-08-11",
          "2023-08-12",
          "2023-08-13",
          "2023-08-14",
          "2023-08-15",
          "2023-08-16",
          "2023-08-17",
          "2023-08-18",
          "2023-08-19",
          "2023-08-20",
          "2023-08-21",
          "2023-08-22",
          "2023-08-23",
          "2023-08-24",
          "2023-08-25",
          "2023-08-26",
          "2023-08-27",
          "2023-08-28",
          "2023-08-29",
          "2023-08-30",
          "2023-08-31",
          "2023-09-01",
          "2023-09-02",
          "2023-09-03",
          "2023-09-04",
          "2023-09-05",
          "2023-09-06",
          "2023-09-07",
          "2023-09-08",
          "2023-09-09",
          "2023-09-10",
          "2023-09-11",
          "2023-09-12",
          "2023-09-13",
          "2023-09-14",
          "2023-09-15",
          "2023-09-16",
          "2023-09-17",
          "2023-09-18",
          "2023-09-19",
          "2023-09-20",
          "2023-09-21",
          "2023-09-22",
          "2023-09-23",
          "2023-09-24",
          "2023-09-25",
          "2023-09-26",
          "2023-09-27",
          "2023-09-28",
          "2023-09-29",
          "2023-09-30",
          "2023-10-01",
          "2023-10-02",
          "2023-10-03",
          "2023-10-04",
          "2023-10-05",
          "2023-10-06",
          "2023-10-07",
          "2023-10-08",
          "2023-10-09",
          "2023-10-10",
          "2023-10-11",
          "2023-10-12",
          "2023-10-13",
          "2023-10-14",
          "2023-10-15",
          "2023-10-16",
          "2023-10-17",
          "2023-10-18",
          "2023-10-19",
          "2023-10-20",
          "2023-10-21",
          "2023-10-22",
          "2023-10-23",
          "2023-10-24",
          "2023-10-25",
          "2023-10-26",
          "2023-10-27",
          "2023-10-28",
          "2023-10-29",
          "2023-10-30",
          "2023-10-31",
          "2023-11-01",
          "2023-11-02",
          "2023-11-03",
          "2023-11-04",
          "2023-11-05",
          "2023-11-06",
          "2023-11-07",
          "2023-11-08",
          "2023-11-09",
          "2023-11-10",
          "2023-11-11",
          "2023-11-12",
          "2023-11-13",
          "2023-11-14",
          "2023-11-15",
          "2023-11-16",
          "2023-11-17",
          "2023-11-18",
          "2023-11-19",
          "2023-11-20",
          "2023-11-21",
          "2023-11-22",
          "2023-11-23",
          "2023-11-24",
          "2023-11-25",
          "2023-11-26",
          "2023-11-27",
          "2023-11-28",
          "2023-11-29",
          "2023-11-30",
          "2023-12-01",
          "2023-12-02",
          "2023-12-03",
          "2023-12-04",
          "2023-12-05",
          "2023-12-06",
          "2023-12-07",
          "2023-12-08",
          "2023-12-09",
          "2023-12-10",
          "2023-12-11",
          "2023-12-12",
          "2023-12-13",
          "2023-12-14",
          "2023-12-15",
          "2023-12-16",
          "2023-12-17",
          "2023-12-18",
          "2023-12-19",
          "2023-12-20",
          "2023-12-21",
          "2023-12-22",
          "2023-12-23",
          "2023-12-24",
          "2023-12-25",
          "2023-12-26",
          "2023-12-27",
          "2023-12-28",
          "2023-12-29",
          "2023-12-30",
          "2023-12-31",
          "2024-01-01",
          "2024-01-02",
          "2024-01-03",
          "2024-01-04",
          "2024-01-05",
          "2024-01-06",
          "2024-01-07",
          "2024-01-08",
          "2024-01-09",
          "2024-01-10",
          "2024-01-11",
          "2024-01-12",
          "2024-01-13",
          "2024-01-14",
          "2024-01-15",
          "2024-01-16",
          "2024-01-17",
          "2024-01-18",
          "2024-01-19",
          "2024-01-20",
          "2024-01-21",
          "2024-01-22",
          "2024-01-23",
          "2024-01-24",
          "2024-01-25",
          "2024-01-26",
          "2024-01-27",
          "2024-01-28",
          "2024-01-29",
          "2024-01-30",
          "2024-01-31",
          "2024-02-01",
          "2024-02-02",
          "2024-02-03",
          "2024-02-04",
          "2024-02-05",
          "2024-02-06",
          "2024-02-07",
          "2024-02-08",
          "2024-02-09",
          "2024-02-10",
          "2024-02-11",
          "2024-02-12",
          "2024-02-13",
          "2024-02-14",
          "2024-02-15",
          "2024-02-16",
          "2024-02-17",
          "2024-02-18",
          "2024-02-19",
          "2024-02-20",
          "2024-02-21",
          "2024-02-22",
          "2024-02-23",
          "2024-02-24",
          "2024-02-25",
          "2024-02-26",
          "2024-02-27",
          "2024-02-28",
          "2024-02-29",
          "2024-03-01",
          "2024-03-02",
          "2024-03-03",
          "2024-03-04",
          "2024-03-05",
          "2024-03-06",
          "2024-03-07",
          "2024-03-08",
          "2024-03-09",
          "2024-03-10",
          "2024-03-11",
          "2024-03-12",
          "2024-03-13",
          "2024-03-14",
          "2024-03-15",
          "2024-03-16",
          "2024-03-17",
          "2024-03-18",
          "2024-03-19",
          "2024-03-20",
          "2024-03-21",
          "2024-03-22",
          "2024-03-23",
          "2024-03-24",
          "2024-03-25",
          "2024-03-26",
          "2024-03-27",
          "2024-03-28",
          "2024-03-29",
          "2024-03-30",
          "2024-03-31",
          "2024-04-01",
          "2024-04-02",
          "2024-04-03",
          "2024-04-04",
          "2024-04-05",
          "2024-04-06",
          "2024-04-07",
          "2024-04-08",
          "2024-04-09",
          "2024-04-10",
          "2024-04-11",
          "2024-04-12",
          "2024-04-13",
          "2024-04-14",
          "2024-04-15",
          "2024-04-16",
          "2024-04-17",
          "2024-04-18",
          "2024-04-19",
          "2024-04-20",
          "2024-04-21",
          "2024-04-22",
          "2024-04-23",
          "2024-04-24",
          "2024-04-25",
          "2024-04-26",
          "2024-04-27",
          "2024-04-28",
          "2024-04-29",
          "2024-04-30",
          "2024-05-01",
          "2024-05-02",
          "2024-05-03",
          "2024-05-04",
          "2024-05-05",
          "2024-05-06",
          "2024-05-07",
          "2024-05-08",
          "2024-05-09",
          "2024-05-10",
          "2024-05-11",
          "2024-05-12",
          "2024-05-13",
          "2024-05-14",
          "2024-05-15",
          "2024-05-16",
          "2024-05-17",
          "2024-05-18",
          "2024-05-19",
          "2024-05-20",
          "2024-05-21",
          "2024-05-22",
          "2024-05-23",
          "2024-05-24",
          "2024-05-25",
          "2024-05-26",
          "2024-05-27",
          "2024-05-28",
          "2024-05-29",
          "2024-05-30",
          "2024-05-31",
          "2024-06-01",
          "2024-06-02",
          "2024-06-03",
          "2024-06-04",
          "2024-06-05",
          "2024-06-06",
          "2024-06-07",
          "2024-06-08",
          "2024-06-09",
          "2024-06-10",
          "2024-06-11",
          "2024-06-12",
          "2024-06-13"
         ],
         "xaxis": "x",
         "y": [
          60,
          92,
          39,
          64,
          71,
          27,
          49,
          26,
          27,
          49.5,
          67.5,
          20.5,
          54,
          69.5,
          52,
          41,
          24.25,
          10.6,
          4.25,
          34.5,
          21.285714285714285,
          12,
          1.5,
          14,
          1.2,
          3.8,
          0,
          8.4,
          5.666666666666667,
          7.5,
          7.5,
          1.75,
          29.2,
          19.5,
          5.333333333333333,
          5.25,
          8.25,
          23.8,
          6.833333333333333,
          19.5,
          24,
          15.8,
          5.666666666666667,
          8.8,
          0,
          76.5,
          5.333333333333333,
          0,
          7.5,
          0,
          0,
          13.666666666666666,
          10.333333333333334,
          14,
          57.5,
          32,
          14,
          11.5,
          26,
          56,
          0,
          0,
          0,
          1.3333333333333333,
          0,
          0,
          7,
          0,
          0,
          0,
          0,
          0,
          0,
          25.5,
          9.5,
          0,
          0,
          0,
          37,
          19,
          54,
          3,
          0,
          1.3333333333333333,
          28,
          12,
          7.5,
          0,
          31.666666666666668,
          23,
          9.5,
          25.5,
          34.2,
          16.5,
          26.5,
          69,
          0,
          22.75,
          37,
          35.5,
          0,
          34,
          114,
          58,
          0,
          36,
          54,
          10.5,
          102,
          36.75,
          60,
          48.5,
          245,
          106,
          16.333333333333332,
          0,
          57,
          84,
          23.75,
          79.5,
          130.5,
          50.666666666666664,
          17.5,
          65.4,
          82,
          40.2,
          35.5,
          24.5,
          31.666666666666668,
          50.333333333333336,
          26.75,
          22.666666666666668,
          26.666666666666668,
          20,
          73.25,
          44.5,
          102.8,
          84,
          96.25,
          46.25,
          29.5,
          59.4,
          66.5,
          0,
          51.5,
          0,
          48,
          41.5,
          88,
          73.33333333333333,
          56.857142857142854,
          44.5,
          90,
          51.666666666666664,
          21.5,
          26.75,
          122,
          32,
          44,
          44.5,
          84.33333333333333,
          18.6,
          129.5,
          52,
          72,
          33.833333333333336,
          35.666666666666664,
          35.333333333333336,
          81,
          85.5,
          29.5,
          23,
          31,
          29.2,
          30.666666666666668,
          103.75,
          116.5,
          195.5,
          58,
          34.333333333333336,
          67.5,
          47,
          59,
          63.6,
          17.666666666666668,
          30,
          64,
          51.8,
          54.666666666666664,
          573.5,
          84.66666666666667,
          137,
          57,
          37.5,
          54.333333333333336,
          58.333333333333336,
          98.75,
          57.75,
          66,
          31.666666666666668,
          25.333333333333332,
          80.5,
          95,
          118,
          168,
          81,
          118.33333333333333,
          27.6,
          48,
          50.8,
          35,
          75.5,
          37.6,
          31.333333333333332,
          52.333333333333336,
          49.666666666666664,
          52,
          60.666666666666664,
          61,
          61,
          65.5,
          65.5,
          53,
          93,
          127.5,
          78,
          106,
          54.2,
          122.75,
          60.8,
          73.33333333333333,
          54.666666666666664,
          45.5,
          49.25,
          27,
          54.333333333333336,
          57.666666666666664,
          98.75,
          53,
          83.25,
          95,
          36.2,
          78,
          37.666666666666664,
          62,
          64.28571428571429,
          79.33333333333333,
          51,
          58,
          10,
          38,
          50,
          37.75,
          44,
          43.5,
          26,
          35.2,
          32.857142857142854,
          38,
          62,
          68.33333333333333,
          29.6,
          62,
          14,
          37,
          96,
          67,
          63,
          51,
          38.666666666666664,
          109.33333333333333,
          42.5,
          31.5,
          37.25,
          41,
          34.6,
          45.666666666666664,
          43,
          60.5,
          124.5,
          31.25,
          36.57142857142857,
          29.4,
          86,
          52.333333333333336,
          29.75,
          83.375,
          13.25,
          73.83333333333333,
          50,
          10.4,
          76.85714285714286,
          65.5,
          66.6,
          54,
          52,
          50.333333333333336,
          106,
          42.25,
          51,
          20.8,
          24.75,
          52.333333333333336,
          17,
          52,
          40.666666666666664,
          93,
          57,
          21.25,
          47.666666666666664,
          77.6,
          42.666666666666664,
          63.5,
          51,
          23,
          50.333333333333336,
          29.75,
          40.25,
          81,
          52.666666666666664,
          45.6,
          34.25,
          62,
          32.666666666666664,
          22,
          90.5,
          74,
          70.5,
          48.333333333333336,
          51.25,
          42.333333333333336,
          28.666666666666668,
          96,
          37,
          41.6,
          47.333333333333336,
          40.75,
          29.25,
          42.833333333333336,
          80.75,
          30.75,
          53,
          8.6,
          49.285714285714285,
          21,
          62.75,
          34.6,
          6.75,
          34.666666666666664
         ],
         "yaxis": "y"
        },
        {
         "line": {
          "width": 2
         },
         "marker": {
          "size": 0
         },
         "mode": "lines",
         "name": "Sliding average (window size 11)",
         "type": "scatter",
         "x": [
          "2023-07-11",
          "2023-07-12",
          "2023-07-13",
          "2023-07-14",
          "2023-07-15",
          "2023-07-16",
          "2023-07-17",
          "2023-07-18",
          "2023-07-19",
          "2023-07-20",
          "2023-07-21",
          "2023-07-22",
          "2023-07-23",
          "2023-07-24",
          "2023-07-25",
          "2023-07-26",
          "2023-07-27",
          "2023-07-28",
          "2023-07-29",
          "2023-07-30",
          "2023-07-31",
          "2023-08-01",
          "2023-08-02",
          "2023-08-03",
          "2023-08-04",
          "2023-08-05",
          "2023-08-06",
          "2023-08-07",
          "2023-08-08",
          "2023-08-09",
          "2023-08-10",
          "2023-08-11",
          "2023-08-12",
          "2023-08-13",
          "2023-08-14",
          "2023-08-15",
          "2023-08-16",
          "2023-08-17",
          "2023-08-18",
          "2023-08-19",
          "2023-08-20",
          "2023-08-21",
          "2023-08-22",
          "2023-08-23",
          "2023-08-24",
          "2023-08-25",
          "2023-08-26",
          "2023-08-27",
          "2023-08-28",
          "2023-08-29",
          "2023-08-30",
          "2023-08-31",
          "2023-09-01",
          "2023-09-02",
          "2023-09-03",
          "2023-09-04",
          "2023-09-05",
          "2023-09-06",
          "2023-09-07",
          "2023-09-08",
          "2023-09-09",
          "2023-09-10",
          "2023-09-11",
          "2023-09-12",
          "2023-09-13",
          "2023-09-14",
          "2023-09-15",
          "2023-09-16",
          "2023-09-17",
          "2023-09-18",
          "2023-09-19",
          "2023-09-20",
          "2023-09-21",
          "2023-09-22",
          "2023-09-23",
          "2023-09-24",
          "2023-09-25",
          "2023-09-26",
          "2023-09-27",
          "2023-09-28",
          "2023-09-29",
          "2023-09-30",
          "2023-10-01",
          "2023-10-02",
          "2023-10-03",
          "2023-10-04",
          "2023-10-05",
          "2023-10-06",
          "2023-10-07",
          "2023-10-08",
          "2023-10-09",
          "2023-10-10",
          "2023-10-11",
          "2023-10-12",
          "2023-10-13",
          "2023-10-14",
          "2023-10-15",
          "2023-10-16",
          "2023-10-17",
          "2023-10-18",
          "2023-10-19",
          "2023-10-20",
          "2023-10-21",
          "2023-10-22",
          "2023-10-23",
          "2023-10-24",
          "2023-10-25",
          "2023-10-26",
          "2023-10-27",
          "2023-10-28",
          "2023-10-29",
          "2023-10-30",
          "2023-10-31",
          "2023-11-01",
          "2023-11-02",
          "2023-11-03",
          "2023-11-04",
          "2023-11-05",
          "2023-11-06",
          "2023-11-07",
          "2023-11-08",
          "2023-11-09",
          "2023-11-10",
          "2023-11-11",
          "2023-11-12",
          "2023-11-13",
          "2023-11-14",
          "2023-11-15",
          "2023-11-16",
          "2023-11-17",
          "2023-11-18",
          "2023-11-19",
          "2023-11-20",
          "2023-11-21",
          "2023-11-22",
          "2023-11-23",
          "2023-11-24",
          "2023-11-25",
          "2023-11-26",
          "2023-11-27",
          "2023-11-28",
          "2023-11-29",
          "2023-11-30",
          "2023-12-01",
          "2023-12-02",
          "2023-12-03",
          "2023-12-04",
          "2023-12-05",
          "2023-12-06",
          "2023-12-07",
          "2023-12-08",
          "2023-12-09",
          "2023-12-10",
          "2023-12-11",
          "2023-12-12",
          "2023-12-13",
          "2023-12-14",
          "2023-12-15",
          "2023-12-16",
          "2023-12-17",
          "2023-12-18",
          "2023-12-19",
          "2023-12-20",
          "2023-12-21",
          "2023-12-22",
          "2023-12-23",
          "2023-12-24",
          "2023-12-25",
          "2023-12-26",
          "2023-12-27",
          "2023-12-28",
          "2023-12-29",
          "2023-12-30",
          "2023-12-31",
          "2024-01-01",
          "2024-01-02",
          "2024-01-03",
          "2024-01-04",
          "2024-01-05",
          "2024-01-06",
          "2024-01-07",
          "2024-01-08",
          "2024-01-09",
          "2024-01-10",
          "2024-01-11",
          "2024-01-12",
          "2024-01-13",
          "2024-01-14",
          "2024-01-15",
          "2024-01-16",
          "2024-01-17",
          "2024-01-18",
          "2024-01-19",
          "2024-01-20",
          "2024-01-21",
          "2024-01-22",
          "2024-01-23",
          "2024-01-24",
          "2024-01-25",
          "2024-01-26",
          "2024-01-27",
          "2024-01-28",
          "2024-01-29",
          "2024-01-30",
          "2024-01-31",
          "2024-02-01",
          "2024-02-02",
          "2024-02-03",
          "2024-02-04",
          "2024-02-05",
          "2024-02-06",
          "2024-02-07",
          "2024-02-08",
          "2024-02-09",
          "2024-02-10",
          "2024-02-11",
          "2024-02-12",
          "2024-02-13",
          "2024-02-14",
          "2024-02-15",
          "2024-02-16",
          "2024-02-17",
          "2024-02-18",
          "2024-02-19",
          "2024-02-20",
          "2024-02-21",
          "2024-02-22",
          "2024-02-23",
          "2024-02-24",
          "2024-02-25",
          "2024-02-26",
          "2024-02-27",
          "2024-02-28",
          "2024-02-29",
          "2024-03-01",
          "2024-03-02",
          "2024-03-03",
          "2024-03-04",
          "2024-03-05",
          "2024-03-06",
          "2024-03-07",
          "2024-03-08",
          "2024-03-09",
          "2024-03-10",
          "2024-03-11",
          "2024-03-12",
          "2024-03-13",
          "2024-03-14",
          "2024-03-15",
          "2024-03-16",
          "2024-03-17",
          "2024-03-18",
          "2024-03-19",
          "2024-03-20",
          "2024-03-21",
          "2024-03-22",
          "2024-03-23",
          "2024-03-24",
          "2024-03-25",
          "2024-03-26",
          "2024-03-27",
          "2024-03-28",
          "2024-03-29",
          "2024-03-30",
          "2024-03-31",
          "2024-04-01",
          "2024-04-02",
          "2024-04-03",
          "2024-04-04",
          "2024-04-05",
          "2024-04-06",
          "2024-04-07",
          "2024-04-08",
          "2024-04-09",
          "2024-04-10",
          "2024-04-11",
          "2024-04-12",
          "2024-04-13",
          "2024-04-14",
          "2024-04-15",
          "2024-04-16",
          "2024-04-17",
          "2024-04-18",
          "2024-04-19",
          "2024-04-20",
          "2024-04-21",
          "2024-04-22",
          "2024-04-23",
          "2024-04-24",
          "2024-04-25",
          "2024-04-26",
          "2024-04-27",
          "2024-04-28",
          "2024-04-29",
          "2024-04-30",
          "2024-05-01",
          "2024-05-02",
          "2024-05-03",
          "2024-05-04",
          "2024-05-05",
          "2024-05-06",
          "2024-05-07",
          "2024-05-08",
          "2024-05-09",
          "2024-05-10",
          "2024-05-11",
          "2024-05-12",
          "2024-05-13",
          "2024-05-14",
          "2024-05-15",
          "2024-05-16",
          "2024-05-17",
          "2024-05-18",
          "2024-05-19",
          "2024-05-20",
          "2024-05-21",
          "2024-05-22",
          "2024-05-23",
          "2024-05-24",
          "2024-05-25",
          "2024-05-26",
          "2024-05-27",
          "2024-05-28",
          "2024-05-29",
          "2024-05-30",
          "2024-05-31",
          "2024-06-01",
          "2024-06-02",
          "2024-06-03",
          "2024-06-04",
          "2024-06-05",
          "2024-06-06",
          "2024-06-07",
          "2024-06-08",
          "2024-06-09",
          "2024-06-10",
          "2024-06-11",
          "2024-06-12",
          "2024-06-13"
         ],
         "y": [
          52,
          48.409090909090914,
          44.95454545454546,
          47.727272727272734,
          46.63636363636364,
          43.90909090909091,
          43.65909090909091,
          40.168181818181814,
          38.19090909090908,
          38.87272727272726,
          36.307792207792204,
          31.262337662337664,
          29.535064935064934,
          25.8987012987013,
          19.68961038961039,
          15.30779220779221,
          11.580519480519483,
          10.13961038961039,
          9.691125541125542,
          9.986580086580087,
          7.532034632034632,
          5.756060606060605,
          7.31969696969697,
          8.956060606060607,
          8.168181818181818,
          8.536363636363637,
          8.940909090909091,
          11.104545454545455,
          10.962121212121215,
          12.21969696969697,
          13.71969696969697,
          14.474242424242426,
          14.830303030303032,
          12.975757575757576,
          11.203030303030303,
          17.672727272727272,
          17.68030303030303,
          16.93030303030303,
          15.448484848484847,
          14.827272727272726,
          13.054545454545453,
          12.115151515151515,
          11.618181818181817,
          12.375757575757577,
          16.803030303030305,
          19.712121212121215,
          14.030303030303031,
          14.590909090909092,
          16.954545454545457,
          21.363636363636363,
          21.363636363636363,
          21.363636363636363,
          20.12121212121212,
          19.303030303030305,
          18.03030303030303,
          12.803030303030301,
          10.530303030303031,
          9.257575757575758,
          8.212121212121213,
          5.848484848484849,
          0.7575757575757576,
          0.7575757575757576,
          0.7575757575757576,
          3.075757575757576,
          3.8181818181818183,
          3.8181818181818183,
          3.8181818181818183,
          3.181818181818182,
          6.545454545454546,
          8.272727272727273,
          13.181818181818183,
          13.454545454545457,
          13.454545454545457,
          13.575757575757578,
          13.803030303030303,
          14.030303030303031,
          14.712121212121213,
          14.712121212121213,
          17.590909090909093,
          16.31818181818182,
          15.454545454545453,
          12.863636363636363,
          15.700000000000001,
          17.200000000000003,
          19.48787878787879,
          23.215151515151515,
          22.124242424242425,
          23.510606060606065,
          26.87424242424243,
          27.222727272727273,
          25.13181818181818,
          27.35909090909091,
          35.404545454545456,
          37.56818181818182,
          36.06818181818181,
          36.93181818181818,
          35.56818181818182,
          36.52272727272727,
          43.72727272727273,
          43.70454545454545,
          45.93181818181819,
          50.34090909090909,
          69.52272727272728,
          68.79545454545455,
          65.00757575757576,
          65.00757575757576,
          66.91666666666667,
          69.64393939393939,
          70.84848484848484,
          68.80303030303031,
          77.32575757575758,
          76.47727272727273,
          73.65909090909092,
          57.331818181818186,
          55.15,
          57.31969696969697,
          60.5469696969697,
          57.592424242424244,
          52.83484848484848,
          55.25151515151515,
          50.45606060606061,
          40.653030303030306,
          38.47121212121212,
          38.69848484848485,
          39.41212121212121,
          36.0030303030303,
          41.693939393939395,
          46.10303030303031,
          52.625757575757575,
          53.95151515151515,
          52.057575757575755,
          55.02575757575757,
          59.010606060606065,
          56.58636363636363,
          59.449999999999996,
          52.79090909090909,
          53.10909090909091,
          47.53636363636364,
          47.9,
          45.81666666666667,
          46.780952380952385,
          48.144588744588745,
          50.926406926406926,
          49.577922077922075,
          51.53246753246753,
          49.28246753246753,
          60.37337662337662,
          58.91883116883116,
          59.14610389610389,
          55.191558441558435,
          56.191558441558435,
          52.713636363636354,
          60.44090909090909,
          56.986363636363635,
          58.834848484848486,
          59.95606060606061,
          60.766666666666666,
          52.88787878787879,
          57.34242424242425,
          61.11515151515152,
          59.75151515151516,
          54.17575757575758,
          55.30303030303031,
          46.18484848484849,
          44.24545454545455,
          47.13181818181818,
          54.646969696969705,
          69.17727272727274,
          71.23787878787878,
          66.99545454545455,
          65.35909090909092,
          66.95,
          70.22272727272727,
          73.18636363636365,
          72.1378787878788,
          72.07727272727274,
          68.46363636363638,
          62.58181818181819,
          49.77878787878788,
          96.64242424242425,
          101.21818181818183,
          107.53636363636365,
          108.44545454545457,
          106.4909090909091,
          105.64848484848486,
          109.34545454545456,
          115.59545454545456,
          115.02727272727273,
          116.31818181818183,
          114.22727272727273,
          64.39393939393939,
          64.01515151515152,
          60.1969696969697,
          65.74242424242426,
          77.60606060606061,
          80.03030303030303,
          85.48484848484847,
          79.01666666666667,
          78.13030303030304,
          76.74848484848486,
          77.05151515151516,
          81.61212121212122,
          77.71212121212123,
          71.92424242424242,
          65.95454545454547,
          55.1969696969697,
          52.56060606060607,
          47.31818181818182,
          50.35454545454545,
          51.53636363636364,
          52.872727272727275,
          55.64545454545455,
          53.6,
          58.63636363636363,
          67.37878787878788,
          69.71212121212122,
          74.83333333333334,
          75.03333333333333,
          80.67727272727272,
          80.65909090909092,
          81.78030303030305,
          80.79545454545456,
          78.97727272727275,
          78.63636363636365,
          72.63636363636364,
          65.98484848484848,
          64.13636363636364,
          63.47727272727273,
          63.36818181818181,
          59.77727272727273,
          62.88636363636364,
          59.51060606060606,
          61.63181818181818,
          60.91969696969698,
          62.07878787878788,
          65.46839826839827,
          67.74112554112554,
          67.13506493506495,
          63.430519480519486,
          59.521428571428565,
          55.407792207792205,
          51.31688311688311,
          51.45779220779221,
          48.36688311688311,
          48.89718614718615,
          45.62445887445888,
          42.98030303030304,
          38.75519480519481,
          37.573376623376625,
          37.93701298701299,
          43.24004329004328,
          42.476406926406916,
          43.56731601731602,
          41.4082251082251,
          40.77186147186148,
          45.54458874458875,
          49.27186147186148,
          51.7991341991342,
          53.44848484848485,
          53.509090909090915,
          57.81212121212121,
          55.46363636363636,
          55.63636363636364,
          53.38636363636363,
          55.840909090909086,
          55.622727272727275,
          51.0469696969697,
          48.86515151515151,
          48.63787878787878,
          55.31969696969697,
          54.64545454545455,
          48.030735930735936,
          46.83982683982684,
          51.7943722943723,
          53.16558441558442,
          52.14285714285714,
          56.57694805194805,
          53.62997835497835,
          56.43300865800865,
          55.4784632034632,
          45.105735930735925,
          49.25183982683983,
          51.881709956709955,
          55.26352813852814,
          52.354437229437224,
          52.3241341991342,
          54.195346320346324,
          56.252164502164504,
          58.888528138528144,
          56.81277056277058,
          54.15822510822511,
          55.46277056277057,
          53.23333333333334,
          48.82424242424242,
          47.4969696969697,
          46.28484848484848,
          50.01212121212121,
          50.61818181818182,
          42.91363636363636,
          43.406060606060606,
          45.82424242424242,
          47.81212121212121,
          51.334848484848486,
          51.21363636363637,
          51.759090909090915,
          51.60757575757576,
          50.615151515151524,
          45.81969696969697,
          48.00151515151515,
          50.85757575757576,
          50.66969696969697,
          46.728787878787884,
          48.48636363636365,
          45.68333333333334,
          43.0469696969697,
          49.18333333333333,
          51.334848484848486,
          55.03939393939393,
          55.774242424242416,
          53.06969696969696,
          52.13030303030303,
          50.590909090909086,
          56.20454545454545,
          53.93181818181819,
          54.7439393939394,
          57.046969696969704,
          52.52424242424243,
          48.4560606060606,
          45.94090909090909,
          48.88787878787879,
          47.02424242424243,
          47.9939393939394,
          46.16969696969697,
          41.92294372294373,
          40.46839826839827,
          42.39112554112554,
          41.23354978354978,
          38.1426406926407,
          38.63506493506494
         ]
        }
       ],
       "layout": {
        "legend": {
         "orientation": "h",
         "tracegroupgap": 0,
         "x": 1,
         "xanchor": "right",
         "y": 1.02,
         "yanchor": "bottom"
        },
        "template": {
         "data": {
          "bar": [
           {
            "error_x": {
             "color": "#f2f5fa"
            },
            "error_y": {
             "color": "#f2f5fa"
            },
            "marker": {
             "line": {
              "color": "rgb(17,17,17)",
              "width": 0.5
             },
             "pattern": {
              "fillmode": "overlay",
              "size": 10,
              "solidity": 0.2
             }
            },
            "type": "bar"
           }
          ],
          "barpolar": [
           {
            "marker": {
             "line": {
              "color": "rgb(17,17,17)",
              "width": 0.5
             },
             "pattern": {
              "fillmode": "overlay",
              "size": 10,
              "solidity": 0.2
             }
            },
            "type": "barpolar"
           }
          ],
          "carpet": [
           {
            "aaxis": {
             "endlinecolor": "#A2B1C6",
             "gridcolor": "#506784",
             "linecolor": "#506784",
             "minorgridcolor": "#506784",
             "startlinecolor": "#A2B1C6"
            },
            "baxis": {
             "endlinecolor": "#A2B1C6",
             "gridcolor": "#506784",
             "linecolor": "#506784",
             "minorgridcolor": "#506784",
             "startlinecolor": "#A2B1C6"
            },
            "type": "carpet"
           }
          ],
          "choropleth": [
           {
            "colorbar": {
             "outlinewidth": 0,
             "ticks": ""
            },
            "type": "choropleth"
           }
          ],
          "contour": [
           {
            "colorbar": {
             "outlinewidth": 0,
             "ticks": ""
            },
            "colorscale": [
             [
              0,
              "#0d0887"
             ],
             [
              0.1111111111111111,
              "#46039f"
             ],
             [
              0.2222222222222222,
              "#7201a8"
             ],
             [
              0.3333333333333333,
              "#9c179e"
             ],
             [
              0.4444444444444444,
              "#bd3786"
             ],
             [
              0.5555555555555556,
              "#d8576b"
             ],
             [
              0.6666666666666666,
              "#ed7953"
             ],
             [
              0.7777777777777778,
              "#fb9f3a"
             ],
             [
              0.8888888888888888,
              "#fdca26"
             ],
             [
              1,
              "#f0f921"
             ]
            ],
            "type": "contour"
           }
          ],
          "contourcarpet": [
           {
            "colorbar": {
             "outlinewidth": 0,
             "ticks": ""
            },
            "type": "contourcarpet"
           }
          ],
          "heatmap": [
           {
            "colorbar": {
             "outlinewidth": 0,
             "ticks": ""
            },
            "colorscale": [
             [
              0,
              "#0d0887"
             ],
             [
              0.1111111111111111,
              "#46039f"
             ],
             [
              0.2222222222222222,
              "#7201a8"
             ],
             [
              0.3333333333333333,
              "#9c179e"
             ],
             [
              0.4444444444444444,
              "#bd3786"
             ],
             [
              0.5555555555555556,
              "#d8576b"
             ],
             [
              0.6666666666666666,
              "#ed7953"
             ],
             [
              0.7777777777777778,
              "#fb9f3a"
             ],
             [
              0.8888888888888888,
              "#fdca26"
             ],
             [
              1,
              "#f0f921"
             ]
            ],
            "type": "heatmap"
           }
          ],
          "heatmapgl": [
           {
            "colorbar": {
             "outlinewidth": 0,
             "ticks": ""
            },
            "colorscale": [
             [
              0,
              "#0d0887"
             ],
             [
              0.1111111111111111,
              "#46039f"
             ],
             [
              0.2222222222222222,
              "#7201a8"
             ],
             [
              0.3333333333333333,
              "#9c179e"
             ],
             [
              0.4444444444444444,
              "#bd3786"
             ],
             [
              0.5555555555555556,
              "#d8576b"
             ],
             [
              0.6666666666666666,
              "#ed7953"
             ],
             [
              0.7777777777777778,
              "#fb9f3a"
             ],
             [
              0.8888888888888888,
              "#fdca26"
             ],
             [
              1,
              "#f0f921"
             ]
            ],
            "type": "heatmapgl"
           }
          ],
          "histogram": [
           {
            "marker": {
             "pattern": {
              "fillmode": "overlay",
              "size": 10,
              "solidity": 0.2
             }
            },
            "type": "histogram"
           }
          ],
          "histogram2d": [
           {
            "colorbar": {
             "outlinewidth": 0,
             "ticks": ""
            },
            "colorscale": [
             [
              0,
              "#0d0887"
             ],
             [
              0.1111111111111111,
              "#46039f"
             ],
             [
              0.2222222222222222,
              "#7201a8"
             ],
             [
              0.3333333333333333,
              "#9c179e"
             ],
             [
              0.4444444444444444,
              "#bd3786"
             ],
             [
              0.5555555555555556,
              "#d8576b"
             ],
             [
              0.6666666666666666,
              "#ed7953"
             ],
             [
              0.7777777777777778,
              "#fb9f3a"
             ],
             [
              0.8888888888888888,
              "#fdca26"
             ],
             [
              1,
              "#f0f921"
             ]
            ],
            "type": "histogram2d"
           }
          ],
          "histogram2dcontour": [
           {
            "colorbar": {
             "outlinewidth": 0,
             "ticks": ""
            },
            "colorscale": [
             [
              0,
              "#0d0887"
             ],
             [
              0.1111111111111111,
              "#46039f"
             ],
             [
              0.2222222222222222,
              "#7201a8"
             ],
             [
              0.3333333333333333,
              "#9c179e"
             ],
             [
              0.4444444444444444,
              "#bd3786"
             ],
             [
              0.5555555555555556,
              "#d8576b"
             ],
             [
              0.6666666666666666,
              "#ed7953"
             ],
             [
              0.7777777777777778,
              "#fb9f3a"
             ],
             [
              0.8888888888888888,
              "#fdca26"
             ],
             [
              1,
              "#f0f921"
             ]
            ],
            "type": "histogram2dcontour"
           }
          ],
          "mesh3d": [
           {
            "colorbar": {
             "outlinewidth": 0,
             "ticks": ""
            },
            "type": "mesh3d"
           }
          ],
          "parcoords": [
           {
            "line": {
             "colorbar": {
              "outlinewidth": 0,
              "ticks": ""
             }
            },
            "type": "parcoords"
           }
          ],
          "pie": [
           {
            "automargin": true,
            "type": "pie"
           }
          ],
          "scatter": [
           {
            "marker": {
             "line": {
              "color": "#283442"
             }
            },
            "type": "scatter"
           }
          ],
          "scatter3d": [
           {
            "line": {
             "colorbar": {
              "outlinewidth": 0,
              "ticks": ""
             }
            },
            "marker": {
             "colorbar": {
              "outlinewidth": 0,
              "ticks": ""
             }
            },
            "type": "scatter3d"
           }
          ],
          "scattercarpet": [
           {
            "marker": {
             "colorbar": {
              "outlinewidth": 0,
              "ticks": ""
             }
            },
            "type": "scattercarpet"
           }
          ],
          "scattergeo": [
           {
            "marker": {
             "colorbar": {
              "outlinewidth": 0,
              "ticks": ""
             }
            },
            "type": "scattergeo"
           }
          ],
          "scattergl": [
           {
            "marker": {
             "line": {
              "color": "#283442"
             }
            },
            "type": "scattergl"
           }
          ],
          "scattermapbox": [
           {
            "marker": {
             "colorbar": {
              "outlinewidth": 0,
              "ticks": ""
             }
            },
            "type": "scattermapbox"
           }
          ],
          "scatterpolar": [
           {
            "marker": {
             "colorbar": {
              "outlinewidth": 0,
              "ticks": ""
             }
            },
            "type": "scatterpolar"
           }
          ],
          "scatterpolargl": [
           {
            "marker": {
             "colorbar": {
              "outlinewidth": 0,
              "ticks": ""
             }
            },
            "type": "scatterpolargl"
           }
          ],
          "scatterternary": [
           {
            "marker": {
             "colorbar": {
              "outlinewidth": 0,
              "ticks": ""
             }
            },
            "type": "scatterternary"
           }
          ],
          "surface": [
           {
            "colorbar": {
             "outlinewidth": 0,
             "ticks": ""
            },
            "colorscale": [
             [
              0,
              "#0d0887"
             ],
             [
              0.1111111111111111,
              "#46039f"
             ],
             [
              0.2222222222222222,
              "#7201a8"
             ],
             [
              0.3333333333333333,
              "#9c179e"
             ],
             [
              0.4444444444444444,
              "#bd3786"
             ],
             [
              0.5555555555555556,
              "#d8576b"
             ],
             [
              0.6666666666666666,
              "#ed7953"
             ],
             [
              0.7777777777777778,
              "#fb9f3a"
             ],
             [
              0.8888888888888888,
              "#fdca26"
             ],
             [
              1,
              "#f0f921"
             ]
            ],
            "type": "surface"
           }
          ],
          "table": [
           {
            "cells": {
             "fill": {
              "color": "#506784"
             },
             "line": {
              "color": "rgb(17,17,17)"
             }
            },
            "header": {
             "fill": {
              "color": "#2a3f5f"
             },
             "line": {
              "color": "rgb(17,17,17)"
             }
            },
            "type": "table"
           }
          ]
         },
         "layout": {
          "annotationdefaults": {
           "arrowcolor": "#f2f5fa",
           "arrowhead": 0,
           "arrowwidth": 1
          },
          "autotypenumbers": "strict",
          "coloraxis": {
           "colorbar": {
            "outlinewidth": 0,
            "ticks": ""
           }
          },
          "colorscale": {
           "diverging": [
            [
             0,
             "#8e0152"
            ],
            [
             0.1,
             "#c51b7d"
            ],
            [
             0.2,
             "#de77ae"
            ],
            [
             0.3,
             "#f1b6da"
            ],
            [
             0.4,
             "#fde0ef"
            ],
            [
             0.5,
             "#f7f7f7"
            ],
            [
             0.6,
             "#e6f5d0"
            ],
            [
             0.7,
             "#b8e186"
            ],
            [
             0.8,
             "#7fbc41"
            ],
            [
             0.9,
             "#4d9221"
            ],
            [
             1,
             "#276419"
            ]
           ],
           "sequential": [
            [
             0,
             "#0d0887"
            ],
            [
             0.1111111111111111,
             "#46039f"
            ],
            [
             0.2222222222222222,
             "#7201a8"
            ],
            [
             0.3333333333333333,
             "#9c179e"
            ],
            [
             0.4444444444444444,
             "#bd3786"
            ],
            [
             0.5555555555555556,
             "#d8576b"
            ],
            [
             0.6666666666666666,
             "#ed7953"
            ],
            [
             0.7777777777777778,
             "#fb9f3a"
            ],
            [
             0.8888888888888888,
             "#fdca26"
            ],
            [
             1,
             "#f0f921"
            ]
           ],
           "sequentialminus": [
            [
             0,
             "#0d0887"
            ],
            [
             0.1111111111111111,
             "#46039f"
            ],
            [
             0.2222222222222222,
             "#7201a8"
            ],
            [
             0.3333333333333333,
             "#9c179e"
            ],
            [
             0.4444444444444444,
             "#bd3786"
            ],
            [
             0.5555555555555556,
             "#d8576b"
            ],
            [
             0.6666666666666666,
             "#ed7953"
            ],
            [
             0.7777777777777778,
             "#fb9f3a"
            ],
            [
             0.8888888888888888,
             "#fdca26"
            ],
            [
             1,
             "#f0f921"
            ]
           ]
          },
          "colorway": [
           "#636efa",
           "#EF553B",
           "#00cc96",
           "#ab63fa",
           "#FFA15A",
           "#19d3f3",
           "#FF6692",
           "#B6E880",
           "#FF97FF",
           "#FECB52"
          ],
          "font": {
           "color": "#f2f5fa"
          },
          "geo": {
           "bgcolor": "rgb(17,17,17)",
           "lakecolor": "rgb(17,17,17)",
           "landcolor": "rgb(17,17,17)",
           "showlakes": true,
           "showland": true,
           "subunitcolor": "#506784"
          },
          "hoverlabel": {
           "align": "left"
          },
          "hovermode": "closest",
          "mapbox": {
           "style": "dark"
          },
          "paper_bgcolor": "rgb(17,17,17)",
          "plot_bgcolor": "rgb(17,17,17)",
          "polar": {
           "angularaxis": {
            "gridcolor": "#506784",
            "linecolor": "#506784",
            "ticks": ""
           },
           "bgcolor": "rgb(17,17,17)",
           "radialaxis": {
            "gridcolor": "#506784",
            "linecolor": "#506784",
            "ticks": ""
           }
          },
          "scene": {
           "xaxis": {
            "backgroundcolor": "rgb(17,17,17)",
            "gridcolor": "#506784",
            "gridwidth": 2,
            "linecolor": "#506784",
            "showbackground": true,
            "ticks": "",
            "zerolinecolor": "#C8D4E3"
           },
           "yaxis": {
            "backgroundcolor": "rgb(17,17,17)",
            "gridcolor": "#506784",
            "gridwidth": 2,
            "linecolor": "#506784",
            "showbackground": true,
            "ticks": "",
            "zerolinecolor": "#C8D4E3"
           },
           "zaxis": {
            "backgroundcolor": "rgb(17,17,17)",
            "gridcolor": "#506784",
            "gridwidth": 2,
            "linecolor": "#506784",
            "showbackground": true,
            "ticks": "",
            "zerolinecolor": "#C8D4E3"
           }
          },
          "shapedefaults": {
           "line": {
            "color": "#f2f5fa"
           }
          },
          "sliderdefaults": {
           "bgcolor": "#C8D4E3",
           "bordercolor": "rgb(17,17,17)",
           "borderwidth": 1,
           "tickwidth": 0
          },
          "ternary": {
           "aaxis": {
            "gridcolor": "#506784",
            "linecolor": "#506784",
            "ticks": ""
           },
           "baxis": {
            "gridcolor": "#506784",
            "linecolor": "#506784",
            "ticks": ""
           },
           "bgcolor": "rgb(17,17,17)",
           "caxis": {
            "gridcolor": "#506784",
            "linecolor": "#506784",
            "ticks": ""
           }
          },
          "title": {
           "x": 0.05
          },
          "updatemenudefaults": {
           "bgcolor": "#506784",
           "borderwidth": 0
          },
          "xaxis": {
           "automargin": true,
           "gridcolor": "#283442",
           "linecolor": "#506784",
           "ticks": "",
           "title": {
            "standoff": 15
           },
           "zerolinecolor": "#283442",
           "zerolinewidth": 2
          },
          "yaxis": {
           "automargin": true,
           "gridcolor": "#283442",
           "linecolor": "#506784",
           "ticks": "",
           "title": {
            "standoff": 15
           },
           "zerolinecolor": "#283442",
           "zerolinewidth": 2
          }
         }
        },
        "title": {
         "text": "Average note length"
        },
        "xaxis": {
         "anchor": "y",
         "domain": [
          0,
          1
         ],
         "title": {
          "text": "Date"
         }
        },
        "yaxis": {
         "anchor": "x",
         "domain": [
          0,
          1
         ],
         "title": {
          "text": "Average note length"
         }
        }
       }
      }
     },
     "metadata": {},
     "output_type": "display_data"
    }
   ],
   "source": [
    "df.note_length_plot()"
   ]
  },
  {
   "cell_type": "code",
   "execution_count": 2,
   "metadata": {
    "metadata": {}
   },
   "outputs": [],
   "source": [
    "df.generate_activity_correlation_matrix()"
   ]
  },
  {
   "cell_type": "markdown",
   "metadata": {},
   "source": [
    "# Monthly Report Templates"
   ]
  },
  {
   "cell_type": "code",
   "execution_count": 4,
   "metadata": {
    "metadata": {}
   },
   "outputs": [],
   "source": [
    "import datetime\n",
    "\n",
    "\n",
    "def generate_report_template(month: int, year: int):\n",
    "    month_init = month\n",
    "    _from = f'01.{month:02d}.{year}'\n",
    "    month = month + 1 if month < 12 else 1\n",
    "    year = year + 1 if month == 1 else year\n",
    "    _to = f'01.{month:02d}.{year}'\n",
    "    df_month = df[_from:_to]\n",
    "    df_month_groups = df_month.group_by('day')\n",
    "\n",
    "    EVENTS_COMMENT = f'total entries: {len(df_month)}\\n\\n'\n",
    "    for day, entries in df_month_groups.items():\n",
    "        EVENTS_COMMENT += f' -- {day:%d.%m.%Y, %a} --\\n'\n",
    "        for e in entries:\n",
    "            EVENTS_COMMENT += f'@{e.full_date.time():%H:%M}: {e.mood} {\", \".join(e.activities)}\\n  {e.note}\\n'\n",
    "        EVENTS_COMMENT += '\\n'\n",
    "    \n",
    "    month_word = datetime.date(1900, month, 1).strftime('%B')\n",
    "    with open(f'{year}-{month_init:02d}.md', 'w', encoding='utf-8') as f:\n",
    "        f.write(\n",
    "            f'# {month_word} {year}\\n\\n'\n",
    "            f'<!---\\n{EVENTS_COMMENT}--->'\n",
    "        )"
   ]
  },
  {
   "cell_type": "code",
   "execution_count": 5,
   "metadata": {
    "metadata": {}
   },
   "outputs": [],
   "source": [
    "# generate_report_template(6, 2024)"
   ]
  },
  {
   "cell_type": "markdown",
   "metadata": {},
   "source": [
    "# Other"
   ]
  },
  {
   "cell_type": "code",
   "execution_count": null,
   "metadata": {},
   "outputs": [],
   "source": []
  }
 ],
 "metadata": {
  "kernelspec": {
   "display_name": "thevenv",
   "language": "python",
   "name": "python3"
  },
  "language_info": {
   "codemirror_mode": {
    "name": "ipython",
    "version": 3
   },
   "file_extension": ".py",
   "mimetype": "text/x-python",
   "name": "python",
   "nbconvert_exporter": "python",
   "pygments_lexer": "ipython3",
   "version": "3.12.1"
  },
  "orig_nbformat": 4
 },
 "nbformat": 4,
 "nbformat_minor": 2
}
