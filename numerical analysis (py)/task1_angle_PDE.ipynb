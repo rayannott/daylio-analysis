{
 "cells": [
  {
   "cell_type": "code",
   "execution_count": 1,
   "metadata": {},
   "outputs": [],
   "source": [
    "#подключаем модули\n",
    "import numpy as np\n",
    "from matplotlib import pyplot as plt\n",
    "from matplotlib.animation import FuncAnimation\n",
    "from IPython.display import Image"
   ]
  },
  {
   "cell_type": "code",
   "execution_count": 2,
   "metadata": {},
   "outputs": [],
   "source": [
    "U0 = lambda x: np.sin(4 * np.pi * x / L1)"
   ]
  },
  {
   "cell_type": "code",
   "execution_count": 24,
   "metadata": {},
   "outputs": [],
   "source": [
    "CFL = 0.7\n",
    "h = 0.5\n",
    "T = [0, 20]\n",
    "tau = h * CFL\n",
    "L= [0, 20]\n",
    "m = int((L[1]-L[0])/h+1)\n",
    "n = int((T[1]-T[0])/tau+1)\n",
    "x = np.linspace(L[0],L[1],m)"
   ]
  },
  {
   "cell_type": "code",
   "execution_count": 25,
   "metadata": {},
   "outputs": [],
   "source": [
    "def solve(h,CFL,T,L):\n",
    "    tau = h * CFL\n",
    "    n = int((T[1]-T[0])/tau+1)\n",
    "    m = int((L[1]-L[0])/h+1)\n",
    "    x = np.linspace(L[0],L[1],m)\n",
    "    u0 = np.zeros(m)\n",
    "    for i in range(m):\n",
    "        u0[i] = U0(i*h)\n",
    "    sol = np.zeros(shape=(n,m))\n",
    "    sol[0] = u0\n",
    "    for t in range(n-1):\n",
    "        for i in range(m-1):\n",
    "            sol[t + 1,i] = sol[t, i] - CFL * (sol[t,i]-sol[t,i-1])\n",
    "        sol[t + 1][0] = sol[t + 1][-1]\n",
    "    return sol"
   ]
  },
  {
   "cell_type": "code",
   "execution_count": 26,
   "metadata": {},
   "outputs": [],
   "source": [
    "u = solve(h, CFL, [T0,T1],[L0,L1])"
   ]
  },
  {
   "cell_type": "code",
   "execution_count": 27,
   "metadata": {},
   "outputs": [
    {
     "name": "stderr",
     "output_type": "stream",
     "text": [
      "MovieWriter imagemagick unavailable; using Pillow instead.\n"
     ]
    },
    {
     "data": {
      "image/png": "[encoded data removed]",
      "text/plain": [
       "<Figure size 432x288 with 1 Axes>"
      ]
     },
     "metadata": {
      "needs_background": "light"
     },
     "output_type": "display_data"
    }
   ],
   "source": [
    "fig = plt.figure()\n",
    "plt.grid()\n",
    "ax = plt.axes(xlim=(-0.5, 1.05*max(x)), ylim=(-1.1, 1.1))\n",
    "ax.grid()\n",
    "ax.set_title('Wave propagation with CFL = ' + str(CFL))\n",
    "ax.set_xlabel('x')\n",
    "ax.set_ylabel('u')\n",
    "\n",
    "line, = ax.plot([], [], lw=2)\n",
    "\n",
    "def animate(i):\n",
    "    line.set_data(x, u[i])\n",
    "    return line,\n",
    "\n",
    "anim = FuncAnimation(fig, animate, frames=n, interval=2, blit=True)\n",
    "\n",
    "anim.save('CFL=0.7_3_new.gif', writer='imagemagick')"
   ]
  },
  {
   "cell_type": "code",
   "execution_count": 28,
   "metadata": {},
   "outputs": [
    {
     "data": {
      "text/html": [
       "<img src=\"CFL=0.7_3_new.gif\"/>"
      ],
      "text/plain": [
       "<IPython.core.display.Image object>"
      ]
     },
     "execution_count": 28,
     "metadata": {},
     "output_type": "execute_result"
    }
   ],
   "source": [
    "Image(url='CFL=0.7_3_new.gif')"
   ]
  },
  {
   "cell_type": "code",
   "execution_count": null,
   "metadata": {},
   "outputs": [],
   "source": [
    "u1 = solve(h, CFL, [T0,T1],[L0,L1])"
   ]
  },
  {
   "cell_type": "code",
   "execution_count": null,
   "metadata": {},
   "outputs": [],
   "source": [
    "u2 = solve(h, CFL/2, [T0,T1],[L0,L1])"
   ]
  },
  {
   "cell_type": "code",
   "execution_count": null,
   "metadata": {},
   "outputs": [],
   "source": [
    "u4 = solve(h, CFL/4, [T0,T1],[L0,L1])"
   ]
  },
  {
   "cell_type": "code",
   "execution_count": null,
   "metadata": {},
   "outputs": [],
   "source": [
    "u8 = solve(h, CFL/8, [T0,T1],[L0,L1])"
   ]
  },
  {
   "cell_type": "code",
   "execution_count": null,
   "metadata": {},
   "outputs": [],
   "source": [
    "tau_slice = 20"
   ]
  },
  {
   "cell_type": "code",
   "execution_count": null,
   "metadata": {},
   "outputs": [],
   "source": [
    "def norm(a):\n",
    "    n = 0\n",
    "    for i in a:\n",
    "        n += i*i\n",
    "    return np.sqrt(n)"
   ]
  },
  {
   "cell_type": "code",
   "execution_count": null,
   "metadata": {},
   "outputs": [],
   "source": [
    "norm21 = norm(u2[2*tau_slice]-u1[tau_slice])\n",
    "norm42 = norm(u4[4*tau_slice]-u2[2*tau_slice])\n",
    "norm84 = norm(u8[8*tau_slice]-u4[4*tau_slice])"
   ]
  },
  {
   "cell_type": "code",
   "execution_count": null,
   "metadata": {},
   "outputs": [],
   "source": [
    "print(norm21)\n",
    "print(norm42)\n",
    "print(norm84)"
   ]
  },
  {
   "cell_type": "code",
   "execution_count": null,
   "metadata": {},
   "outputs": [],
   "source": [
    "plt.plot(x, u2[20]-u1[20])"
   ]
  },
  {
   "cell_type": "code",
   "execution_count": null,
   "metadata": {},
   "outputs": [],
   "source": []
  }
 ],
 "metadata": {
  "kernelspec": {
   "display_name": "Python 3",
   "language": "python",
   "name": "python3"
  },
  "language_info": {
   "codemirror_mode": {
    "name": "ipython",
    "version": 3
   },
   "file_extension": ".py",
   "mimetype": "text/x-python",
   "name": "python",
   "nbconvert_exporter": "python",
   "pygments_lexer": "ipython3",
   "version": "3.8.5"
  }
 },
 "nbformat": 4,
 "nbformat_minor": 4
}
